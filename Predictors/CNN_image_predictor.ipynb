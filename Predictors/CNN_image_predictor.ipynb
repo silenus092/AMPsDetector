{
 "cells": [
  {
   "cell_type": "code",
   "execution_count": 56,
   "id": "banner-anger",
   "metadata": {},
   "outputs": [],
   "source": [
    "from tensorflow.keras.models import load_model\n",
    "from tensorflow.keras.preprocessing.image import ImageDataGenerator\n",
    "from sklearn.model_selection import train_test_split\n",
    "from sklearn.model_selection import cross_val_score\n",
    "from sklearn.model_selection import StratifiedKFold\n",
    "from sklearn.metrics import roc_curve,auc\n",
    "import os\n",
    "\n",
    "from pathlib import Path\n",
    "from sklearn.metrics import classification_report, confusion_matrix, accuracy_score\n",
    "\n",
    "import glob\n",
    "import numpy as np\n",
    "import pandas as pd\n",
    "import matplotlib.pyplot as plt"
   ]
  },
  {
   "cell_type": "code",
   "execution_count": 46,
   "id": "specified-modem",
   "metadata": {},
   "outputs": [],
   "source": [
    "## Move file\n",
    "\n",
    "# load  BAT  (stringent)\n",
    "df_ = pd.read_csv('../VerifyAMPs/TransPi/truth_no_ambiguous/BAT_truth_set.stringent.csv', header=0)\n",
    "from_path = '/mnt/vdb/Bat/pws/transpi/images/stringent/NonAMP'\n",
    "to_path = '/mnt/vdb/Bat/pws/transpi/images/stringent/AMP'\n",
    "check_ = []\n",
    "for index, row in df_.iterrows():\n",
    "    filename = row[\"prot_id\"] + \".png\" \n",
    "    Path(os.path.join(from_path, filename)).rename(os.path.join(to_path, filename))\n",
    "    check_.append(os.path.join(to_path, filename))\n",
    "# 235 \n",
    "print(check_)\n",
    "\n",
    "\n",
    "# load  DECockroach *(stringent)\n",
    "\n",
    "df_ = pd.read_csv('../VerifyAMPs/TransPi/truth_no_ambiguous/DECockroach_truth_set.stringent.csv', header=0)\n",
    "\n",
    "from_path = '/mnt/vdb/DECockroach/pws/transpi/images/stringent/NonAMP'\n",
    "to_path = '/mnt/vdb/DECockroach/pws/transpi/images/stringent/AMP'\n",
    "check_ = []\n",
    "for index, row in df_.iterrows():\n",
    "    filename = row[\"prot_id\"] + \".png\" \n",
    "    Path(os.path.join(from_path, filename)).rename(os.path.join(to_path, filename))\n",
    "    check_.append(os.path.join(to_path, filename))\n",
    "    # 138\n",
    "print(len(check_))\n",
    "\n",
    "# load  BAT  \n",
    "df_ = pd.read_csv('../VerifyAMPs/TransPi/truth_no_ambiguous/BAT_truth_set.csv', header=0)\n",
    "from_path = '/mnt/vdb/Bat/pws/transpi/images//NonAMP'\n",
    "to_path = '/mnt/vdb/Bat/pws/transpi/images//AMP'\n",
    "check_ = []\n",
    "\n",
    "\n",
    "for index, row in df_.iterrows():\n",
    "    try:\n",
    "        filename = row[\"prot_id\"] + \".png\" \n",
    "        Path(os.path.join(from_path, filename)).rename(os.path.join(to_path, filename))\n",
    "        check_.append(os.path.join(to_path, filename))\n",
    "    except:\n",
    "        print(\"Alrady placed:\"+row[\"prot_id\"])\n",
    "\n",
    "print(len(check_)) #356\n",
    "\n",
    "# load  DECockroach \n",
    "\n",
    "df_ = pd.read_csv('../VerifyAMPs/TransPi/truth_no_ambiguous/DECockroach_truth_set.csv', header=0)\n",
    "\n",
    "from_path = '/mnt/vdb/DECockroach/pws/transpi/images/NonAMP'\n",
    "to_path = '/mnt/vdb/DECockroach/pws/transpi/images/AMP'\n",
    "check_ = []\n",
    "for index, row in df_.iterrows():\n",
    "    filename = row[\"prot_id\"] + \".png\" \n",
    "    Path(os.path.join(from_path, filename)).rename(os.path.join(to_path, filename))\n",
    "    check_.append(os.path.join(to_path, filename))\n",
    "print(len(check_)) #236"
   ]
  },
  {
   "cell_type": "code",
   "execution_count": 53,
   "id": "unsigned-consolidation",
   "metadata": {},
   "outputs": [],
   "source": [
    "## load model \n",
    "deployed_path = \"/mnt/vdb/thesis/CustomCNN.image.Adam.pssm.h5\"\n",
    "import tensorflow as tf\n",
    "\n",
    "#with tf.device('/cpu:0'):\n",
    "learner = load_model(deployed_path)"
   ]
  },
  {
   "cell_type": "markdown",
   "id": "suffering-missile",
   "metadata": {},
   "source": [
    "The order of the files that populate file_list, is the same order X_test appears in, by row.\n",
    "\n",
    "So just match the indices to correlate filename with prediction.\n",
    "\n",
    "X_test[0] ~ prediction[0] ~ file_list[0]"
   ]
  },
  {
   "cell_type": "code",
   "execution_count": 52,
   "id": "welsh-choice",
   "metadata": {},
   "outputs": [
    {
     "name": "stdout",
     "output_type": "stream",
     "text": [
      "Found 63 images belonging to 1 classes.\n",
      "Found 10180 images belonging to 2 classes.\n",
      "Found 10180 images belonging to 2 classes.\n",
      "Found 15424 images belonging to 2 classes.\n",
      "Found 15424 images belonging to 2 classes.\n",
      "{'AMP': 0}\n",
      "{'AMP': 0, 'NonAMP': 1}\n",
      "{'AMP': 0, 'NonAMP': 1}\n",
      "{'AMP': 0, 'NonAMP': 1}\n",
      "{'AMP': 0, 'NonAMP': 1}\n"
     ]
    }
   ],
   "source": [
    "datagen = ImageDataGenerator(validation_split=0.2 )\n",
    "\n",
    "\n",
    "truth_set = datagen.flow_from_directory(directory='../datasets/truthset/images/',\n",
    "                                        class_mode='binary', batch_size=128,target_size=(200, 200),shuffle= False)\n",
    "\n",
    "Bat_data = datagen.flow_from_directory(directory='/mnt/vdb/Bat/pws/transpi/images/normal',\n",
    "                                      class_mode='binary', batch_size=128, target_size=(200, 200),shuffle= False)\n",
    "\n",
    "Bat_stringent_data = datagen.flow_from_directory(directory='/mnt/vdb/Bat/pws/transpi/images/stringent',\n",
    "                                        class_mode='binary', batch_size=128,target_size=(200, 200),\n",
    "                                        shuffle= False)\n",
    "\n",
    "DECockroach_data = datagen.flow_from_directory(directory='/mnt/vdb/DECockroach/pws/transpi/images/normal',\n",
    "                                        class_mode='binary', batch_size=128,target_size=(200, 200),shuffle= False)\n",
    "\n",
    "DECockroach_stringent_data = datagen.flow_from_directory(directory='/mnt/vdb/DECockroach/pws/transpi/images/stringent',\n",
    "                                        class_mode='binary', batch_size=128,target_size=(200, 200),shuffle= False)\n",
    "print(truth_set.class_indices)\n",
    "print(Bat_data.class_indices)\n",
    "print(Bat_stringent_data.class_indices)\n",
    "print(DECockroach_data.class_indices)\n",
    "print(DECockroach_stringent_data.class_indices)"
   ]
  },
  {
   "cell_type": "code",
   "execution_count": 23,
   "id": "divine-campaign",
   "metadata": {},
   "outputs": [
    {
     "data": {
      "text/plain": [
       "11"
      ]
     },
     "execution_count": 23,
     "metadata": {},
     "output_type": "execute_result"
    }
   ],
   "source": [
    "## test_truth_data\n",
    "yhat = learner.predict_generator(test_truth_data)\n",
    "_y = np.where(yhat > 0.5, 1, 0)\n",
    "len(_y[_y ==1])"
   ]
  },
  {
   "cell_type": "code",
   "execution_count": 24,
   "id": "dominant-syndication",
   "metadata": {},
   "outputs": [],
   "source": [
    "index = 0\n",
    "image, label = test_truth_data._get_batches_of_transformed_samples(np.array([index]))\n",
    "image_name = test_truth_data.filenames[index]"
   ]
  },
  {
   "cell_type": "code",
   "execution_count": 27,
   "id": "level-biotechnology",
   "metadata": {},
   "outputs": [
    {
     "data": {
      "text/plain": [
       "'AMP/Attacin-like_g1.png'"
      ]
     },
     "execution_count": 27,
     "metadata": {},
     "output_type": "execute_result"
    }
   ],
   "source": [
    "image_name"
   ]
  },
  {
   "cell_type": "markdown",
   "id": "million-hello",
   "metadata": {},
   "source": [
    "# New Groud Truthset"
   ]
  },
  {
   "cell_type": "code",
   "execution_count": 126,
   "id": "regular-cause",
   "metadata": {},
   "outputs": [
    {
     "data": {
      "text/plain": [
       "'AMP/.ipynb_checkpoints/Defensin_g14-checkpoint.png'"
      ]
     },
     "execution_count": 126,
     "metadata": {},
     "output_type": "execute_result"
    }
   ],
   "source": [
    "truth_set.filenames.pop(-1)"
   ]
  },
  {
   "cell_type": "code",
   "execution_count": 127,
   "id": "billion-adult",
   "metadata": {},
   "outputs": [],
   "source": [
    "y_test = truth_set.classes\n",
    "y_probas = learner.predict_generator(generator=truth_set)\n",
    "y_pred = np.where(y_probas > 0.5, 1, 0)"
   ]
  },
  {
   "cell_type": "code",
   "execution_count": 128,
   "id": "inside-ranch",
   "metadata": {},
   "outputs": [
    {
     "data": {
      "text/plain": [
       "11"
      ]
     },
     "execution_count": 128,
     "metadata": {},
     "output_type": "execute_result"
    }
   ],
   "source": [
    "len(y_pred[y_pred == 1]) # 11/62"
   ]
  },
  {
   "cell_type": "markdown",
   "id": "lasting-zambia",
   "metadata": {},
   "source": [
    "# BAT"
   ]
  },
  {
   "cell_type": "code",
   "execution_count": 105,
   "id": "alien-remark",
   "metadata": {},
   "outputs": [
    {
     "name": "stdout",
     "output_type": "stream",
     "text": [
      "              precision    recall  f1-score   support\n",
      "\n",
      "           0       0.04      0.14      0.06       356\n",
      "           1       0.97      0.88      0.92      9824\n",
      "\n",
      "    accuracy                           0.86     10180\n",
      "   macro avg       0.50      0.51      0.49     10180\n",
      "weighted avg       0.93      0.86      0.89     10180\n",
      "\n"
     ]
    }
   ],
   "source": [
    "y_test = Bat_data.classes\n",
    "y_probas = learner.predict_generator(generator=Bat_data)\n",
    "y_pred = np.where(y_probas > 0.5, 1, 0)\n",
    "print(classification_report(y_test, y_pred)) "
   ]
  },
  {
   "cell_type": "code",
   "execution_count": 106,
   "id": "fundamental-municipality",
   "metadata": {},
   "outputs": [
    {
     "data": {
      "text/plain": [
       "49"
      ]
     },
     "execution_count": 106,
     "metadata": {},
     "output_type": "execute_result"
    }
   ],
   "source": [
    "AMP_list = y_pred[0:356]\n",
    "len(AMP_list[AMP_list ==0])"
   ]
  },
  {
   "cell_type": "code",
   "execution_count": 107,
   "id": "absolute-myanmar",
   "metadata": {},
   "outputs": [
    {
     "data": {
      "text/plain": [
       "8663"
      ]
     },
     "execution_count": 107,
     "metadata": {},
     "output_type": "execute_result"
    }
   ],
   "source": [
    "nonAMP_list = y_pred[356:]\n",
    "len(nonAMP_list[nonAMP_list ==1])"
   ]
  },
  {
   "cell_type": "markdown",
   "id": "ambient-training",
   "metadata": {},
   "source": [
    "### stringent"
   ]
  },
  {
   "cell_type": "code",
   "execution_count": 154,
   "id": "western-internship",
   "metadata": {},
   "outputs": [
    {
     "name": "stdout",
     "output_type": "stream",
     "text": [
      "              precision    recall  f1-score   support\n",
      "\n",
      "           0       0.03      0.16      0.05       235\n",
      "           1       0.98      0.88      0.93      9945\n",
      "\n",
      "    accuracy                           0.87     10180\n",
      "   macro avg       0.50      0.52      0.49     10180\n",
      "weighted avg       0.96      0.87      0.91     10180\n",
      "\n"
     ]
    }
   ],
   "source": [
    "y_test = Bat_stringent_data.classes\n",
    "y_probas = learner.predict_generator(generator=Bat_stringent_data)\n",
    "y_pred = np.where(y_probas > 0.5, 1, 0)\n",
    "print(classification_report(y_test, y_pred))"
   ]
  },
  {
   "cell_type": "code",
   "execution_count": 155,
   "id": "assumed-baseline",
   "metadata": {},
   "outputs": [
    {
     "data": {
      "text/plain": [
       "37"
      ]
     },
     "execution_count": 155,
     "metadata": {},
     "output_type": "execute_result"
    }
   ],
   "source": [
    "AMP_list = y_pred[0:235]\n",
    "len(AMP_list[AMP_list ==0])"
   ]
  },
  {
   "cell_type": "code",
   "execution_count": 156,
   "id": "portable-nitrogen",
   "metadata": {},
   "outputs": [
    {
     "data": {
      "text/plain": [
       "8772"
      ]
     },
     "execution_count": 156,
     "metadata": {},
     "output_type": "execute_result"
    }
   ],
   "source": [
    "nonAMP_list = y_pred[235:]\n",
    "len(nonAMP_list[nonAMP_list ==1])"
   ]
  },
  {
   "cell_type": "code",
   "execution_count": 157,
   "id": "automated-malpractice",
   "metadata": {
    "scrolled": true,
    "tags": []
   },
   "outputs": [
    {
     "data": {
      "text/plain": [
       "[4, 8, 20, 61, 66, 113, 164, 175, 200, 201, 208, 215, 229]"
      ]
     },
     "execution_count": 157,
     "metadata": {},
     "output_type": "execute_result"
    }
   ],
   "source": [
    "# Consensus\n",
    "\n",
    "with open('../VerifyAMPs/TransPi/consensus/bat.final.truth') as f:\n",
    "    bat_lines = [line.rstrip() for line in f]\n",
    "# get index  inside list \n",
    "_truth_index = []\n",
    "for i in bat_lines:\n",
    "    search = \"AMP/\"+ i +\".png\"\n",
    "    index = Bat_stringent_data.filenames.index(search)\n",
    "    _truth_index.append(index)\n",
    "_truth_index"
   ]
  },
  {
   "cell_type": "code",
   "execution_count": 158,
   "id": "little-series",
   "metadata": {},
   "outputs": [
    {
     "data": {
      "text/plain": [
       "array([[1],\n",
       "       [1],\n",
       "       [1],\n",
       "       [1],\n",
       "       [1],\n",
       "       [1],\n",
       "       [1],\n",
       "       [1],\n",
       "       [1],\n",
       "       [0],\n",
       "       [1],\n",
       "       [1],\n",
       "       [1]])"
      ]
     },
     "execution_count": 158,
     "metadata": {},
     "output_type": "execute_result"
    }
   ],
   "source": [
    "y_pred[[4, 8, 20, 61, 66, 113, 164, 175, 200, 201, 208, 215, 229]]"
   ]
  },
  {
   "cell_type": "markdown",
   "id": "dominican-bibliography",
   "metadata": {},
   "source": [
    "# DECockroach"
   ]
  },
  {
   "cell_type": "code",
   "execution_count": 111,
   "id": "gothic-playlist",
   "metadata": {},
   "outputs": [
    {
     "name": "stdout",
     "output_type": "stream",
     "text": [
      "              precision    recall  f1-score   support\n",
      "\n",
      "           0       0.02      0.11      0.03       236\n",
      "           1       0.98      0.90      0.94     15188\n",
      "\n",
      "    accuracy                           0.88     15424\n",
      "   macro avg       0.50      0.50      0.48     15424\n",
      "weighted avg       0.97      0.88      0.92     15424\n",
      "\n"
     ]
    }
   ],
   "source": [
    "y_test = DECockroach_data.classes\n",
    "y_probas = learner.predict_generator(generator=DECockroach_data)\n",
    "y_pred = np.where(y_probas > 0.5, 1, 0)\n",
    "print(classification_report(y_test, y_pred))"
   ]
  },
  {
   "cell_type": "code",
   "execution_count": 112,
   "id": "ultimate-paint",
   "metadata": {},
   "outputs": [
    {
     "data": {
      "text/plain": [
       "25"
      ]
     },
     "execution_count": 112,
     "metadata": {},
     "output_type": "execute_result"
    }
   ],
   "source": [
    "AMP_list = y_pred[0:236]\n",
    "len(AMP_list[AMP_list ==0])"
   ]
  },
  {
   "cell_type": "code",
   "execution_count": 113,
   "id": "delayed-vancouver",
   "metadata": {},
   "outputs": [
    {
     "data": {
      "text/plain": [
       "13619"
      ]
     },
     "execution_count": 113,
     "metadata": {},
     "output_type": "execute_result"
    }
   ],
   "source": [
    "nonAMP_list = y_pred[236:]\n",
    "len(nonAMP_list[nonAMP_list ==1])"
   ]
  },
  {
   "cell_type": "markdown",
   "id": "spatial-category",
   "metadata": {},
   "source": [
    "### stringent"
   ]
  },
  {
   "cell_type": "code",
   "execution_count": 159,
   "id": "thrown-engineer",
   "metadata": {},
   "outputs": [
    {
     "name": "stdout",
     "output_type": "stream",
     "text": [
      "              precision    recall  f1-score   support\n",
      "\n",
      "           0       0.01      0.11      0.02       138\n",
      "           1       0.99      0.90      0.94     15286\n",
      "\n",
      "    accuracy                           0.89     15424\n",
      "   macro avg       0.50      0.50      0.48     15424\n",
      "weighted avg       0.98      0.89      0.93     15424\n",
      "\n"
     ]
    }
   ],
   "source": [
    "y_test = DECockroach_stringent_data.classes\n",
    "y_probas = learner.predict_generator(generator=DECockroach_stringent_data)\n",
    "y_pred = np.where(y_probas > 0.5, 1, 0)\n",
    "print(classification_report(y_test, y_pred))"
   ]
  },
  {
   "cell_type": "code",
   "execution_count": 160,
   "id": "postal-montgomery",
   "metadata": {},
   "outputs": [
    {
     "data": {
      "text/plain": [
       "15"
      ]
     },
     "execution_count": 160,
     "metadata": {},
     "output_type": "execute_result"
    }
   ],
   "source": [
    "AMP_list = y_pred[0:138]\n",
    "len(AMP_list[AMP_list ==0])"
   ]
  },
  {
   "cell_type": "code",
   "execution_count": 161,
   "id": "integrated-rochester",
   "metadata": {},
   "outputs": [
    {
     "data": {
      "text/plain": [
       "13707"
      ]
     },
     "execution_count": 161,
     "metadata": {},
     "output_type": "execute_result"
    }
   ],
   "source": [
    "nonAMP_list = y_pred[138:]\n",
    "len(nonAMP_list[nonAMP_list ==1])"
   ]
  },
  {
   "cell_type": "code",
   "execution_count": 168,
   "id": "confident-example",
   "metadata": {},
   "outputs": [
    {
     "data": {
      "text/plain": [
       "[5, 14, 15, 16, 18, 32, 34, 47, 53, 65, 74, 78, 81, 82, 86, 104, 111, 117, 129]"
      ]
     },
     "execution_count": 168,
     "metadata": {},
     "output_type": "execute_result"
    }
   ],
   "source": [
    "with open('../VerifyAMPs/TransPi/consensus/DECockroach.final') as f:\n",
    "    de_lines = [line.rstrip() for line in f]\n",
    "# get index  inside list \n",
    "_truth_index = []\n",
    "for i in de_lines:\n",
    "    search = \"AMP/\"+ i +\".png\"\n",
    "    index = DECockroach_stringent_data.filenames.index(search)\n",
    "    _truth_index.append(index)\n",
    "_truth_index"
   ]
  },
  {
   "cell_type": "code",
   "execution_count": 169,
   "id": "ranging-requirement",
   "metadata": {},
   "outputs": [
    {
     "data": {
      "text/plain": [
       "array([[1],\n",
       "       [1],\n",
       "       [1],\n",
       "       [1],\n",
       "       [0],\n",
       "       [1],\n",
       "       [1],\n",
       "       [1],\n",
       "       [1],\n",
       "       [1],\n",
       "       [1],\n",
       "       [1],\n",
       "       [1],\n",
       "       [1],\n",
       "       [1],\n",
       "       [1],\n",
       "       [1],\n",
       "       [1],\n",
       "       [0]])"
      ]
     },
     "execution_count": 169,
     "metadata": {},
     "output_type": "execute_result"
    }
   ],
   "source": [
    "y_pred[[5, 14, 15, 16, 18, 32, 34, 47, 53, 65, 74, 78, 81, 82, 86, 104, 111, 117, 129]]"
   ]
  },
  {
   "cell_type": "code",
   "execution_count": null,
   "id": "defined-investigation",
   "metadata": {},
   "outputs": [],
   "source": []
  }
 ],
 "metadata": {
  "kernelspec": {
   "display_name": "Python 3",
   "language": "python",
   "name": "python3"
  },
  "language_info": {
   "codemirror_mode": {
    "name": "ipython",
    "version": 3
   },
   "file_extension": ".py",
   "mimetype": "text/x-python",
   "name": "python",
   "nbconvert_exporter": "python",
   "pygments_lexer": "ipython3",
   "version": "3.7.10"
  }
 },
 "nbformat": 4,
 "nbformat_minor": 5
}
