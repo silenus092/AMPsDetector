{
 "cells": [
  {
   "cell_type": "markdown",
   "metadata": {},
   "source": [
    "# Classify and Aggregate Approach\n",
    "\n",
    "This method will use majority result from multple models\n",
    "\n",
    "Include models;\n",
    "* ProtCNN\n",
    "* FastAI Tabular learner \n",
    "* RF \n",
    "* XGBoost\n",
    "* SVM\n",
    "* CNN input 1900 + train on 30 AAs\n",
    "\n",
    "The possible methods;\n",
    "* cutoff 3 models\n",
    "* for <=30 at least two models (ProtCNN and ...) say AMP (0), so it will be AMP\n",
    "* ..... "
   ]
  },
  {
   "cell_type": "code",
   "execution_count": 3,
   "metadata": {},
   "outputs": [
    {
     "name": "stdout",
     "output_type": "stream",
     "text": [
      "Collecting package metadata (current_repodata.json): | ^C\n",
      "/ "
     ]
    }
   ],
   "source": [
    "! conda install -c conda-forge keras==2.3.1 -y"
   ]
  },
  {
   "cell_type": "code",
   "execution_count": 1,
   "metadata": {},
   "outputs": [],
   "source": [
    "#Use only CPU\n",
    "import os \n",
    "os.environ['CUDA_VISIBLE_DEVICES'] = '-1'"
   ]
  },
  {
   "cell_type": "code",
   "execution_count": 2,
   "metadata": {},
   "outputs": [],
   "source": [
    "from tensorflow.keras.models import load_model\n",
    "from sklearn.model_selection import train_test_split\n",
    "from sklearn.model_selection import cross_val_score\n",
    "from sklearn.model_selection import StratifiedKFold\n",
    "from sklearn.metrics import roc_curve,auc\n",
    "from xgboost import XGBClassifier\n",
    "\n",
    "import pickle5 as pickle\n",
    "import numpy as np\n",
    "import pandas as pd\n",
    "import matplotlib.pyplot as plt\n",
    "import tensorflow as tf"
   ]
  },
  {
   "cell_type": "code",
   "execution_count": 3,
   "metadata": {},
   "outputs": [],
   "source": [
    "\n",
    "\n",
    "if True:\n",
    "    with tf.device('/cpu:0'):\n",
    "        Custom_CNN_RMS  = load_model(\"/mnt/vdb/thesis/CustomCNN.RMSprop.512_1211.hdf5\")\n",
    "    with tf.device('/cpu:0'):\n",
    "        Custom_CNN_Adam  = load_model(\"/mnt/vdb/thesis/CustomCNN.Adam.512_1211.hdf5\")\n",
    "    with tf.device('/cpu:0'):    \n",
    "        DNN = load_model(\"../Models/best_DNN_model.hdf5\", compile=False)\n",
    "    with tf.device('/cpu:0'):\n",
    "        ProtCNN= load_model(\"/mnt/vdb/ProtCNN.bestmodel.h5\") # ProtCNN.bestmodel.h5 CNN256 * 2 - NN 1000  / ProtCNN.512_1211X4.best.hdf5 / ProtCNN.1211.hdf5 CNN128 *2-1211\n",
    "    with tf.device('/cpu:0'):\n",
    "        CNN_shortAA = load_model(\"/mnt/vdb/thesis/best_CNN.1900._30.hdf5\")\n",
    "else:\n",
    "    Custom_CNN  = load_model(\"/mnt/vdb/thesis/CustomCNN.512_1211.hdf5\")\n",
    "    DNN = load_model(\"../Models/best_DNN_model.hdf5\", compile=False)\n",
    "    ProtCNN= load_model(\"/mnt/vdb/ProtCNN.bestmodel.h5\")\n",
    "    CNN_shortAA = load_model(\"/mnt/vdb/thesis/best_CNN.1900._30.hdf5\")    \n",
    "    \n",
    "# Load model \n",
    "XGBmodel = XGBClassifier()\n",
    "XGBmodel.load_model(\"../Models/best_XGBmodel.model\")\n",
    "\n",
    "with open(\"../Models/best_RF.model\", 'rb') as file:\n",
    "    RF = pickle.load(file)\n",
    "    \n",
    "with open(\"/mnt/vdb/thesis/best_SVM.rbf.model\", 'rb') as file:\n",
    "    SVM = pickle.load(file)\n",
    "\n"
   ]
  },
  {
   "cell_type": "code",
   "execution_count": 4,
   "metadata": {},
   "outputs": [],
   "source": [
    "from fastai.tabular.all import *\n",
    "from fastai.basics import *\n",
    "from fastai import *\n",
    "\n",
    "FASTAI_learner = load_learner( \"../Models/TubularLearner.II._200.retrain\")"
   ]
  },
  {
   "cell_type": "code",
   "execution_count": 5,
   "metadata": {},
   "outputs": [],
   "source": [
    "# Test Function for RF, SVM, XGBoost\n",
    "\n",
    "def predict_withModel(_df ,condition, model):\n",
    "\n",
    "    if condition == \"no_con\":\n",
    "        df = _df.copy()\n",
    "    elif condition == \"<=30\" :\n",
    "        df = _df.loc[_df.length <= 30 ].copy()\n",
    "    elif condition == \">30\" :\n",
    "        df = _df.loc[_df.length > 30 ].copy()\n",
    "    elif condition == \">50\" :\n",
    "        df = _df.loc[_df.length > 50 ].copy()\n",
    "    elif condition == \">70\" :\n",
    "        df = _df.loc[_df.length > 70 ].copy()\n",
    "    elif condition == \">100\" :\n",
    "        df = _df.loc[_df.length > 100 ].copy()\n",
    "    elif condition == \">200\" :\n",
    "        df = _df.loc[_df.length > 200 ].copy()\n",
    "    else:\n",
    "        df = _df.loc[_df.length > condition ].copy()\n",
    "   \n",
    "        \n",
    "        # select records with lenght > \n",
    "    #print(df.columns)\n",
    "    X= np.array(df['reps'].to_list())\n",
    "    _y = model.predict(X)\n",
    "    #y_probas = learner.predict(X_test)\n",
    "    #threshold = 0.5\n",
    "    #_y = np.where(y_probas > threshold, 1, 0)\n",
    "    return _y\n"
   ]
  },
  {
   "cell_type": "code",
   "execution_count": 6,
   "metadata": {},
   "outputs": [],
   "source": [
    "# Test Function for DNN\n",
    "def predict_withDNN(_df ,condition, model):\n",
    "\n",
    "    if condition == \"no_con\":\n",
    "        df = _df.copy()\n",
    "    elif condition == \"<=30\" :\n",
    "        df = _df.loc[_df.length <= 30 ].copy()\n",
    "    elif condition == \">30\" :\n",
    "        df = _df.loc[_df.length > 30 ].copy()\n",
    "    elif condition == \">50\" :\n",
    "        df = _df.loc[_df.length > 50 ].copy()\n",
    "    elif condition == \">70\" :\n",
    "        df = _df.loc[_df.length > 70 ].copy()\n",
    "    elif condition == \">100\" :\n",
    "        df = _df.loc[_df.length > 100 ].copy()\n",
    "    elif condition == \">200\" :\n",
    "        df = _df.loc[_df.length > 200 ].copy()\n",
    "    else:\n",
    "        df = _df.loc[_df.length > condition ].copy()\n",
    "   \n",
    "     #print(df.columns)\n",
    "    X= np.array(df['reps'].to_list())\n",
    "    y_probas = model.predict(X)\n",
    "    threshold = 0.5\n",
    "    _y = np.where(y_probas > threshold, 1, 0)\n",
    "\n",
    "    return _y"
   ]
  },
  {
   "cell_type": "code",
   "execution_count": 7,
   "metadata": {},
   "outputs": [],
   "source": [
    "# Test Function for ProtCNN, CNN_shortAA\n",
    "\n",
    "def predict_CNN(_df ,condition, model):\n",
    "    \n",
    "    if condition == \"no_con\":\n",
    "        df = _df.copy()\n",
    "    elif condition == \"<=30\" :\n",
    "        df = _df.loc[_df.length <= 30 ].copy()\n",
    "    elif condition == \">30\" :\n",
    "        df = _df.loc[_df.length > 30 ].copy()\n",
    "    elif condition == \">50\" :\n",
    "        df = _df.loc[_df.length > 50 ].copy()\n",
    "    elif condition == \">70\" :\n",
    "        df = _df.loc[_df.length > 70 ].copy()\n",
    "    elif condition == \">100\" :\n",
    "        df = _df.loc[_df.length > 100 ].copy()\n",
    "    elif condition == \">200\" :\n",
    "        df = _df.loc[_df.length > 200 ].copy()\n",
    "    else:\n",
    "        df = _df.loc[_df.length > condition ].copy()\n",
    "        \n",
    "\n",
    "    X= np.array(df['reps'].to_list())\n",
    "    X_test = np.reshape(X,(X.shape[0],X.shape[1],1))\n",
    "    y_probas = model.predict(X_test)\n",
    "    threshold = 0.5\n",
    "    _y = np.where(y_probas > threshold, 1, 0)\n",
    "    \n",
    "    return _y"
   ]
  },
  {
   "cell_type": "code",
   "execution_count": 8,
   "metadata": {},
   "outputs": [],
   "source": [
    "# Test Function for FastAI\n",
    "def predict_FastAI(_df ,condition, model):\n",
    "    if condition == \"no_con\":\n",
    "        df = _df.copy()\n",
    "    elif condition == \"<=30\" :\n",
    "        df = _df.loc[_df.length <= 30 ].copy()\n",
    "    elif condition == \">30\" :\n",
    "        df = _df.loc[_df.length > 30 ].copy()\n",
    "    elif condition == \">50\" :\n",
    "        df = _df.loc[_df.length > 50 ].copy()\n",
    "    elif condition == \">70\" :\n",
    "        df = _df.loc[_df.length > 70 ].copy()\n",
    "    elif condition == \">100\" :\n",
    "        df = _df.loc[_df.length > 100 ].copy()\n",
    "    elif condition == \">200\" :\n",
    "        df = _df.loc[_df.length > 200 ].copy()\n",
    "    else:\n",
    "        df = _df.loc[_df.length > condition ].copy()\n",
    "        \n",
    "    #print(df.columns)\n",
    "    ready_df = df[[ \"reps\"]]\n",
    "    df_new = ready_df.reps.apply(pd.Series).astype(np.float64)\n",
    "    df_new.columns = df_new.columns.astype(str)\n",
    "    dl = model.dls.test_dl(df_new)\n",
    "    _preds,_none ,_y = model.get_preds(dl=dl, with_decoded=True)\n",
    "\n",
    "    return _y\n",
    "\n"
   ]
  },
  {
   "cell_type": "code",
   "execution_count": 9,
   "metadata": {},
   "outputs": [],
   "source": [
    "# Aggregate Result Function \n",
    "def aggregate_result(row_series, condition):\n",
    "    freq = row_series.value_counts().to_dict()\n",
    "    \n",
    "    _nonAMP = 0\n",
    "    _AMP = 0\n",
    "    _final_return = 0\n",
    "    cutoff_threshold = 3 # RMSpop, Adam , ProtCNN, AmPEP30\n",
    "    #print(freq)\n",
    "    if 0 in  freq.keys():\n",
    "        _AMP = freq[0]\n",
    "\n",
    "    if 1 in freq.keys():\n",
    "        _nonAMP = freq[1]  \n",
    "\n",
    "    #print(\"AMP \" + str(_AMP))\n",
    "   # print(\"non AMP \" + str(_nonAMP))\n",
    "     # condition by pass rule if two models say  nonAMP\n",
    "    #if(condition == \"<=30\"):\n",
    "    if _nonAMP >= cutoff_threshold:\n",
    "        #print(\"Rule fire\")\n",
    "        return 1 # NonAMP\n",
    "    \n",
    "    if _AMP > _nonAMP: # AMP\n",
    "        _final_return = 0\n",
    "    elif _AMP < _nonAMP: # NonAMP\n",
    "        _final_return = 1\n",
    "    else: #eql \n",
    "        pass\n",
    "    \n",
    "    return _final_return"
   ]
  },
  {
   "cell_type": "code",
   "execution_count": 10,
   "metadata": {},
   "outputs": [],
   "source": [
    "# Load Testset\n",
    "test_dict ={ \"shuff1\": \"../datasets/truthset/AMPs_truthset_42.reps.plk\",\n",
    "            \"shuff2\": \"../datasets/truthset/AMPs_truthset_43.reps.plk\",\n",
    "           \"shuff3\": \"../datasets/truthset/AMPs_truthset_44.reps.plk\",\n",
    "           \"shuff4\": \"../datasets/truthset/AMPs_truthset_45.reps.plk\",\n",
    "           \"shuff5\": \"../datasets/truthset/AMPs_truthset_46.reps.plk\",\n",
    "           \"shuff6\": \"../datasets/truthset/AMPs_truthset_47.reps.plk\",\n",
    "           \"shuff7\": \"../datasets/truthset/AMPs_truthset_48.reps.plk\",\n",
    "           \"shuff8\": \"../datasets/truthset/AMPs_truthset_49.reps.plk\",\n",
    "           \"shuff9\": \"../datasets/truthset/AMPs_truthset_50.reps.plk\",\n",
    "           \"shuff10\": \"../datasets/truthset/AMPs_truthset_51.reps.plk\",}\n",
    "\n",
    "conditions = [\"no_con\",\">200\",\">100\",\">70\",\">50\",\">30\",\"<=30\"]"
   ]
  },
  {
   "cell_type": "code",
   "execution_count": 11,
   "metadata": {
    "scrolled": true
   },
   "outputs": [
    {
     "data": {
      "text/html": [],
      "text/plain": [
       "<IPython.core.display.HTML object>"
      ]
     },
     "metadata": {},
     "output_type": "display_data"
    },
    {
     "name": "stdout",
     "output_type": "stream",
     "text": [
      "WARNING:tensorflow:5 out of the last 9 calls to <function Model.make_predict_function.<locals>.predict_function at 0x7fc5286125f0> triggered tf.function retracing. Tracing is expensive and the excessive number of tracings could be due to (1) creating @tf.function repeatedly in a loop, (2) passing tensors with different shapes, (3) passing Python objects instead of tensors. For (1), please define your @tf.function outside of the loop. For (2), @tf.function has experimental_relax_shapes=True option that relaxes argument shapes that can avoid unnecessary retracing. For (3), please refer to https://www.tensorflow.org/tutorials/customization/performance#python_or_tensor_args and https://www.tensorflow.org/api_docs/python/tf/function for  more details.\n"
     ]
    },
    {
     "data": {
      "text/html": [],
      "text/plain": [
       "<IPython.core.display.HTML object>"
      ]
     },
     "metadata": {},
     "output_type": "display_data"
    },
    {
     "data": {
      "text/html": [],
      "text/plain": [
       "<IPython.core.display.HTML object>"
      ]
     },
     "metadata": {},
     "output_type": "display_data"
    },
    {
     "data": {
      "text/html": [],
      "text/plain": [
       "<IPython.core.display.HTML object>"
      ]
     },
     "metadata": {},
     "output_type": "display_data"
    },
    {
     "data": {
      "text/html": [],
      "text/plain": [
       "<IPython.core.display.HTML object>"
      ]
     },
     "metadata": {},
     "output_type": "display_data"
    },
    {
     "data": {
      "text/html": [],
      "text/plain": [
       "<IPython.core.display.HTML object>"
      ]
     },
     "metadata": {},
     "output_type": "display_data"
    },
    {
     "data": {
      "text/html": [],
      "text/plain": [
       "<IPython.core.display.HTML object>"
      ]
     },
     "metadata": {},
     "output_type": "display_data"
    },
    {
     "data": {
      "text/html": [],
      "text/plain": [
       "<IPython.core.display.HTML object>"
      ]
     },
     "metadata": {},
     "output_type": "display_data"
    },
    {
     "data": {
      "text/html": [],
      "text/plain": [
       "<IPython.core.display.HTML object>"
      ]
     },
     "metadata": {},
     "output_type": "display_data"
    },
    {
     "data": {
      "text/html": [],
      "text/plain": [
       "<IPython.core.display.HTML object>"
      ]
     },
     "metadata": {},
     "output_type": "display_data"
    },
    {
     "data": {
      "text/html": [],
      "text/plain": [
       "<IPython.core.display.HTML object>"
      ]
     },
     "metadata": {},
     "output_type": "display_data"
    },
    {
     "data": {
      "text/html": [],
      "text/plain": [
       "<IPython.core.display.HTML object>"
      ]
     },
     "metadata": {},
     "output_type": "display_data"
    },
    {
     "data": {
      "text/html": [],
      "text/plain": [
       "<IPython.core.display.HTML object>"
      ]
     },
     "metadata": {},
     "output_type": "display_data"
    },
    {
     "data": {
      "text/html": [],
      "text/plain": [
       "<IPython.core.display.HTML object>"
      ]
     },
     "metadata": {},
     "output_type": "display_data"
    },
    {
     "data": {
      "text/html": [],
      "text/plain": [
       "<IPython.core.display.HTML object>"
      ]
     },
     "metadata": {},
     "output_type": "display_data"
    },
    {
     "data": {
      "text/html": [],
      "text/plain": [
       "<IPython.core.display.HTML object>"
      ]
     },
     "metadata": {},
     "output_type": "display_data"
    },
    {
     "data": {
      "text/html": [],
      "text/plain": [
       "<IPython.core.display.HTML object>"
      ]
     },
     "metadata": {},
     "output_type": "display_data"
    },
    {
     "data": {
      "text/html": [],
      "text/plain": [
       "<IPython.core.display.HTML object>"
      ]
     },
     "metadata": {},
     "output_type": "display_data"
    },
    {
     "data": {
      "text/html": [],
      "text/plain": [
       "<IPython.core.display.HTML object>"
      ]
     },
     "metadata": {},
     "output_type": "display_data"
    },
    {
     "data": {
      "text/html": [],
      "text/plain": [
       "<IPython.core.display.HTML object>"
      ]
     },
     "metadata": {},
     "output_type": "display_data"
    },
    {
     "data": {
      "text/html": [],
      "text/plain": [
       "<IPython.core.display.HTML object>"
      ]
     },
     "metadata": {},
     "output_type": "display_data"
    },
    {
     "data": {
      "text/html": [],
      "text/plain": [
       "<IPython.core.display.HTML object>"
      ]
     },
     "metadata": {},
     "output_type": "display_data"
    },
    {
     "data": {
      "text/html": [],
      "text/plain": [
       "<IPython.core.display.HTML object>"
      ]
     },
     "metadata": {},
     "output_type": "display_data"
    },
    {
     "data": {
      "text/html": [],
      "text/plain": [
       "<IPython.core.display.HTML object>"
      ]
     },
     "metadata": {},
     "output_type": "display_data"
    },
    {
     "data": {
      "text/html": [],
      "text/plain": [
       "<IPython.core.display.HTML object>"
      ]
     },
     "metadata": {},
     "output_type": "display_data"
    },
    {
     "data": {
      "text/html": [],
      "text/plain": [
       "<IPython.core.display.HTML object>"
      ]
     },
     "metadata": {},
     "output_type": "display_data"
    },
    {
     "data": {
      "text/html": [],
      "text/plain": [
       "<IPython.core.display.HTML object>"
      ]
     },
     "metadata": {},
     "output_type": "display_data"
    },
    {
     "data": {
      "text/html": [],
      "text/plain": [
       "<IPython.core.display.HTML object>"
      ]
     },
     "metadata": {},
     "output_type": "display_data"
    },
    {
     "data": {
      "text/html": [],
      "text/plain": [
       "<IPython.core.display.HTML object>"
      ]
     },
     "metadata": {},
     "output_type": "display_data"
    },
    {
     "data": {
      "text/html": [],
      "text/plain": [
       "<IPython.core.display.HTML object>"
      ]
     },
     "metadata": {},
     "output_type": "display_data"
    },
    {
     "data": {
      "text/html": [],
      "text/plain": [
       "<IPython.core.display.HTML object>"
      ]
     },
     "metadata": {},
     "output_type": "display_data"
    },
    {
     "data": {
      "text/html": [],
      "text/plain": [
       "<IPython.core.display.HTML object>"
      ]
     },
     "metadata": {},
     "output_type": "display_data"
    },
    {
     "data": {
      "text/html": [],
      "text/plain": [
       "<IPython.core.display.HTML object>"
      ]
     },
     "metadata": {},
     "output_type": "display_data"
    },
    {
     "data": {
      "text/html": [],
      "text/plain": [
       "<IPython.core.display.HTML object>"
      ]
     },
     "metadata": {},
     "output_type": "display_data"
    },
    {
     "data": {
      "text/html": [],
      "text/plain": [
       "<IPython.core.display.HTML object>"
      ]
     },
     "metadata": {},
     "output_type": "display_data"
    },
    {
     "data": {
      "text/html": [],
      "text/plain": [
       "<IPython.core.display.HTML object>"
      ]
     },
     "metadata": {},
     "output_type": "display_data"
    },
    {
     "data": {
      "text/html": [],
      "text/plain": [
       "<IPython.core.display.HTML object>"
      ]
     },
     "metadata": {},
     "output_type": "display_data"
    },
    {
     "data": {
      "text/html": [],
      "text/plain": [
       "<IPython.core.display.HTML object>"
      ]
     },
     "metadata": {},
     "output_type": "display_data"
    },
    {
     "data": {
      "text/html": [],
      "text/plain": [
       "<IPython.core.display.HTML object>"
      ]
     },
     "metadata": {},
     "output_type": "display_data"
    },
    {
     "data": {
      "text/html": [],
      "text/plain": [
       "<IPython.core.display.HTML object>"
      ]
     },
     "metadata": {},
     "output_type": "display_data"
    },
    {
     "data": {
      "text/html": [],
      "text/plain": [
       "<IPython.core.display.HTML object>"
      ]
     },
     "metadata": {},
     "output_type": "display_data"
    },
    {
     "data": {
      "text/html": [],
      "text/plain": [
       "<IPython.core.display.HTML object>"
      ]
     },
     "metadata": {},
     "output_type": "display_data"
    },
    {
     "data": {
      "text/html": [],
      "text/plain": [
       "<IPython.core.display.HTML object>"
      ]
     },
     "metadata": {},
     "output_type": "display_data"
    },
    {
     "data": {
      "text/html": [],
      "text/plain": [
       "<IPython.core.display.HTML object>"
      ]
     },
     "metadata": {},
     "output_type": "display_data"
    },
    {
     "data": {
      "text/html": [],
      "text/plain": [
       "<IPython.core.display.HTML object>"
      ]
     },
     "metadata": {},
     "output_type": "display_data"
    },
    {
     "data": {
      "text/html": [],
      "text/plain": [
       "<IPython.core.display.HTML object>"
      ]
     },
     "metadata": {},
     "output_type": "display_data"
    },
    {
     "data": {
      "text/html": [],
      "text/plain": [
       "<IPython.core.display.HTML object>"
      ]
     },
     "metadata": {},
     "output_type": "display_data"
    },
    {
     "data": {
      "text/html": [],
      "text/plain": [
       "<IPython.core.display.HTML object>"
      ]
     },
     "metadata": {},
     "output_type": "display_data"
    },
    {
     "data": {
      "text/html": [],
      "text/plain": [
       "<IPython.core.display.HTML object>"
      ]
     },
     "metadata": {},
     "output_type": "display_data"
    },
    {
     "data": {
      "text/html": [],
      "text/plain": [
       "<IPython.core.display.HTML object>"
      ]
     },
     "metadata": {},
     "output_type": "display_data"
    },
    {
     "data": {
      "text/html": [],
      "text/plain": [
       "<IPython.core.display.HTML object>"
      ]
     },
     "metadata": {},
     "output_type": "display_data"
    },
    {
     "data": {
      "text/html": [],
      "text/plain": [
       "<IPython.core.display.HTML object>"
      ]
     },
     "metadata": {},
     "output_type": "display_data"
    },
    {
     "data": {
      "text/html": [],
      "text/plain": [
       "<IPython.core.display.HTML object>"
      ]
     },
     "metadata": {},
     "output_type": "display_data"
    },
    {
     "data": {
      "text/html": [],
      "text/plain": [
       "<IPython.core.display.HTML object>"
      ]
     },
     "metadata": {},
     "output_type": "display_data"
    },
    {
     "data": {
      "text/html": [],
      "text/plain": [
       "<IPython.core.display.HTML object>"
      ]
     },
     "metadata": {},
     "output_type": "display_data"
    },
    {
     "data": {
      "text/html": [],
      "text/plain": [
       "<IPython.core.display.HTML object>"
      ]
     },
     "metadata": {},
     "output_type": "display_data"
    },
    {
     "data": {
      "text/html": [],
      "text/plain": [
       "<IPython.core.display.HTML object>"
      ]
     },
     "metadata": {},
     "output_type": "display_data"
    },
    {
     "data": {
      "text/html": [],
      "text/plain": [
       "<IPython.core.display.HTML object>"
      ]
     },
     "metadata": {},
     "output_type": "display_data"
    },
    {
     "data": {
      "text/html": [],
      "text/plain": [
       "<IPython.core.display.HTML object>"
      ]
     },
     "metadata": {},
     "output_type": "display_data"
    },
    {
     "data": {
      "text/html": [],
      "text/plain": [
       "<IPython.core.display.HTML object>"
      ]
     },
     "metadata": {},
     "output_type": "display_data"
    },
    {
     "data": {
      "text/html": [],
      "text/plain": [
       "<IPython.core.display.HTML object>"
      ]
     },
     "metadata": {},
     "output_type": "display_data"
    },
    {
     "data": {
      "text/html": [],
      "text/plain": [
       "<IPython.core.display.HTML object>"
      ]
     },
     "metadata": {},
     "output_type": "display_data"
    },
    {
     "data": {
      "text/html": [],
      "text/plain": [
       "<IPython.core.display.HTML object>"
      ]
     },
     "metadata": {},
     "output_type": "display_data"
    },
    {
     "data": {
      "text/html": [],
      "text/plain": [
       "<IPython.core.display.HTML object>"
      ]
     },
     "metadata": {},
     "output_type": "display_data"
    },
    {
     "data": {
      "text/html": [],
      "text/plain": [
       "<IPython.core.display.HTML object>"
      ]
     },
     "metadata": {},
     "output_type": "display_data"
    },
    {
     "data": {
      "text/html": [],
      "text/plain": [
       "<IPython.core.display.HTML object>"
      ]
     },
     "metadata": {},
     "output_type": "display_data"
    },
    {
     "data": {
      "text/html": [],
      "text/plain": [
       "<IPython.core.display.HTML object>"
      ]
     },
     "metadata": {},
     "output_type": "display_data"
    },
    {
     "data": {
      "text/html": [],
      "text/plain": [
       "<IPython.core.display.HTML object>"
      ]
     },
     "metadata": {},
     "output_type": "display_data"
    },
    {
     "data": {
      "text/html": [],
      "text/plain": [
       "<IPython.core.display.HTML object>"
      ]
     },
     "metadata": {},
     "output_type": "display_data"
    },
    {
     "data": {
      "text/html": [],
      "text/plain": [
       "<IPython.core.display.HTML object>"
      ]
     },
     "metadata": {},
     "output_type": "display_data"
    }
   ],
   "source": [
    "# Run \n",
    "#predict_result_df = result_df = pd.DataFrame( columns=[\"SVM\",\"RF\",\"XGBoost\",\"ProtCNN\",\"CNN_shortAA\",\"DNN\",\"CustomCNN_Adam\",\"CustomCNN_RMSpop\",\"FastAI\"])\n",
    "\n",
    "aggregate_df = pd.DataFrame( columns=[\"no_con\",\">200\",\">100\",\">70\",\">50\",\">30\",\"<=30\"],\n",
    "    index = ['shuff1','shuff2', 'shuff3',\"shuff4\",\"shuff5\",\"shuff6\",\"shuff7\",\"shuff8\",\"shuff9\",\"shuff10\"])\n",
    "# shuff1\n",
    "\n",
    "for cond in conditions:\n",
    "    for index, path in test_dict.items():\n",
    "        predict_result_df = pd.DataFrame()\n",
    "        df_test = pd.read_pickle(path)\n",
    "        \n",
    "        predict_result_df[\"SVM\"] = predict_withModel(df_test, cond, SVM)\n",
    "        predict_result_df[\"RF\"] = predict_withModel(df_test, cond, RF)\n",
    "        predict_result_df[\"XGBoost\"] = predict_withModel(df_test, cond, XGBmodel)\n",
    "        predict_result_df[\"FastAI\"] = predict_FastAI(df_test, cond, FASTAI_learner)\n",
    "        \n",
    "        predict_result_df[\"ProtCNN\"] = predict_CNN(df_test, cond, ProtCNN)\n",
    "        predict_result_df[\"CNN_shortAA\"] = predict_CNN(df_test, cond, CNN_shortAA)\n",
    "        predict_result_df[\"DNN\"] = predict_withDNN(df_test, cond, DNN)\n",
    "        \n",
    "        predict_result_df[\"CustomCNN_Adam\"] = predict_withDNN(df_test, cond, Custom_CNN_Adam)\n",
    "        predict_result_df[\"CustomCNN_RMSpop\"] = predict_withDNN(df_test, cond, Custom_CNN_RMS)\n",
    "        predict_result_df['Final'] = predict_result_df.apply(lambda row: aggregate_result(row,cond) , axis = 1) \n",
    "        # count 1 only \n",
    "        total_non_amp = len(predict_result_df[predict_result_df[\"Final\"] == 1])\n",
    "        aggregate_df.loc[index,cond] = total_non_amp"
   ]
  },
  {
   "cell_type": "code",
   "execution_count": 12,
   "metadata": {},
   "outputs": [
    {
     "data": {
      "text/html": [
       "<div>\n",
       "<style scoped>\n",
       "    .dataframe tbody tr th:only-of-type {\n",
       "        vertical-align: middle;\n",
       "    }\n",
       "\n",
       "    .dataframe tbody tr th {\n",
       "        vertical-align: top;\n",
       "    }\n",
       "\n",
       "    .dataframe thead th {\n",
       "        text-align: right;\n",
       "    }\n",
       "</style>\n",
       "<table border=\"1\" class=\"dataframe\">\n",
       "  <thead>\n",
       "    <tr style=\"text-align: right;\">\n",
       "      <th></th>\n",
       "      <th>no_con</th>\n",
       "      <th>&gt;200</th>\n",
       "      <th>&gt;100</th>\n",
       "      <th>&gt;70</th>\n",
       "      <th>&gt;50</th>\n",
       "      <th>&gt;30</th>\n",
       "      <th>&lt;=30</th>\n",
       "    </tr>\n",
       "  </thead>\n",
       "  <tbody>\n",
       "    <tr>\n",
       "      <th>shuff1</th>\n",
       "      <td>30</td>\n",
       "      <td>4</td>\n",
       "      <td>7</td>\n",
       "      <td>16</td>\n",
       "      <td>18</td>\n",
       "      <td>26</td>\n",
       "      <td>4</td>\n",
       "    </tr>\n",
       "    <tr>\n",
       "      <th>shuff2</th>\n",
       "      <td>39</td>\n",
       "      <td>4</td>\n",
       "      <td>7</td>\n",
       "      <td>18</td>\n",
       "      <td>29</td>\n",
       "      <td>35</td>\n",
       "      <td>4</td>\n",
       "    </tr>\n",
       "    <tr>\n",
       "      <th>shuff3</th>\n",
       "      <td>31</td>\n",
       "      <td>4</td>\n",
       "      <td>6</td>\n",
       "      <td>15</td>\n",
       "      <td>18</td>\n",
       "      <td>25</td>\n",
       "      <td>6</td>\n",
       "    </tr>\n",
       "    <tr>\n",
       "      <th>shuff4</th>\n",
       "      <td>24</td>\n",
       "      <td>4</td>\n",
       "      <td>7</td>\n",
       "      <td>12</td>\n",
       "      <td>13</td>\n",
       "      <td>18</td>\n",
       "      <td>6</td>\n",
       "    </tr>\n",
       "    <tr>\n",
       "      <th>shuff5</th>\n",
       "      <td>30</td>\n",
       "      <td>4</td>\n",
       "      <td>7</td>\n",
       "      <td>13</td>\n",
       "      <td>16</td>\n",
       "      <td>25</td>\n",
       "      <td>5</td>\n",
       "    </tr>\n",
       "    <tr>\n",
       "      <th>shuff6</th>\n",
       "      <td>35</td>\n",
       "      <td>4</td>\n",
       "      <td>7</td>\n",
       "      <td>15</td>\n",
       "      <td>19</td>\n",
       "      <td>27</td>\n",
       "      <td>8</td>\n",
       "    </tr>\n",
       "    <tr>\n",
       "      <th>shuff7</th>\n",
       "      <td>30</td>\n",
       "      <td>4</td>\n",
       "      <td>7</td>\n",
       "      <td>14</td>\n",
       "      <td>19</td>\n",
       "      <td>24</td>\n",
       "      <td>6</td>\n",
       "    </tr>\n",
       "    <tr>\n",
       "      <th>shuff8</th>\n",
       "      <td>31</td>\n",
       "      <td>4</td>\n",
       "      <td>7</td>\n",
       "      <td>13</td>\n",
       "      <td>23</td>\n",
       "      <td>28</td>\n",
       "      <td>3</td>\n",
       "    </tr>\n",
       "    <tr>\n",
       "      <th>shuff9</th>\n",
       "      <td>42</td>\n",
       "      <td>4</td>\n",
       "      <td>7</td>\n",
       "      <td>16</td>\n",
       "      <td>29</td>\n",
       "      <td>36</td>\n",
       "      <td>6</td>\n",
       "    </tr>\n",
       "    <tr>\n",
       "      <th>shuff10</th>\n",
       "      <td>27</td>\n",
       "      <td>4</td>\n",
       "      <td>7</td>\n",
       "      <td>14</td>\n",
       "      <td>15</td>\n",
       "      <td>21</td>\n",
       "      <td>6</td>\n",
       "    </tr>\n",
       "  </tbody>\n",
       "</table>\n",
       "</div>"
      ],
      "text/plain": [
       "        no_con >200 >100 >70 >50 >30 <=30\n",
       "shuff1      30    4    7  16  18  26    4\n",
       "shuff2      39    4    7  18  29  35    4\n",
       "shuff3      31    4    6  15  18  25    6\n",
       "shuff4      24    4    7  12  13  18    6\n",
       "shuff5      30    4    7  13  16  25    5\n",
       "shuff6      35    4    7  15  19  27    8\n",
       "shuff7      30    4    7  14  19  24    6\n",
       "shuff8      31    4    7  13  23  28    3\n",
       "shuff9      42    4    7  16  29  36    6\n",
       "shuff10     27    4    7  14  15  21    6"
      ]
     },
     "execution_count": 12,
     "metadata": {},
     "output_type": "execute_result"
    }
   ],
   "source": [
    "aggregate_df"
   ]
  },
  {
   "cell_type": "code",
   "execution_count": null,
   "metadata": {},
   "outputs": [],
   "source": []
  },
  {
   "cell_type": "code",
   "execution_count": null,
   "metadata": {},
   "outputs": [],
   "source": []
  }
 ],
 "metadata": {
  "kernelspec": {
   "display_name": "Python 3",
   "language": "python",
   "name": "python3"
  },
  "language_info": {
   "codemirror_mode": {
    "name": "ipython",
    "version": 3
   },
   "file_extension": ".py",
   "mimetype": "text/x-python",
   "name": "python",
   "nbconvert_exporter": "python",
   "pygments_lexer": "ipython3",
   "version": "3.7.9"
  }
 },
 "nbformat": 4,
 "nbformat_minor": 4
}
