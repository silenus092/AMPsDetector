{
 "cells": [
  {
   "cell_type": "code",
   "execution_count": 1,
   "metadata": {
    "id": "XlktI-RZmX5h"
   },
   "outputs": [
    {
     "name": "stdout",
     "output_type": "stream",
     "text": [
      "Note: you may need to restart the kernel to use updated packages.\n"
     ]
    }
   ],
   "source": [
    "pip install -Uqq fastbook"
   ]
  },
  {
   "cell_type": "markdown",
   "metadata": {},
   "source": [
    "In case \"Add persistent_workers class variable to FakeLoader \" error\n",
    "\n",
    "please downgrade py torch version by using -> `conda install pytorch==1.6.0 torchvision==0.7.0 -c pytorch` command\n",
    "\n",
    "* https://github.com/fastai/fastai/pull/2878\n",
    "* https://github.com/lgvaz/faststyle/pull/18\n"
   ]
  },
  {
   "cell_type": "code",
   "execution_count": 1,
   "metadata": {
    "id": "r_WHUIJomX5u",
    "outputId": "968d231a-48ea-48f5-ffa9-9ed6ccbae282"
   },
   "outputs": [],
   "source": [
    "from sklearn.metrics import classification_report\n",
    "\n",
    "from fastai.tabular.all import *\n",
    "from fastai.basics import *\n",
    "from fastai import *\n",
    "\n",
    "import numpy as np\n",
    "import pandas as pd\n",
    "import glob\n",
    "# torch.set_num_threads(10)\n",
    "defaults.device = torch.device('cpu')"
   ]
  },
  {
   "cell_type": "code",
   "execution_count": 2,
   "metadata": {
    "id": "ZascbWaBmX6K"
   },
   "outputs": [],
   "source": [
    "# load the baseline model\n",
    "#learn.load('TubularLearner.fastAI._stage1')\n",
    "deployed_path = \"../Models/TubularLearner.retrain\"\n",
    "#deployed_path = \"TubularLearner.fastAI._stage2.pth\"\n",
    "learner = load_learner(deployed_path)\n",
    "\n"
   ]
  },
  {
   "cell_type": "code",
   "execution_count": 3,
   "metadata": {},
   "outputs": [
    {
     "data": {
      "text/plain": [
       "TabularModel(\n",
       "  (embeds): ModuleList()\n",
       "  (emb_drop): Dropout(p=0.0, inplace=False)\n",
       "  (bn_cont): BatchNorm1d(1900, eps=1e-05, momentum=0.1, affine=True, track_running_stats=True)\n",
       "  (layers): Sequential(\n",
       "    (0): LinBnDrop(\n",
       "      (0): BatchNorm1d(1900, eps=1e-05, momentum=0.1, affine=True, track_running_stats=True)\n",
       "      (1): Linear(in_features=1900, out_features=200, bias=False)\n",
       "      (2): ReLU(inplace=True)\n",
       "    )\n",
       "    (1): LinBnDrop(\n",
       "      (0): BatchNorm1d(200, eps=1e-05, momentum=0.1, affine=True, track_running_stats=True)\n",
       "      (1): Linear(in_features=200, out_features=100, bias=False)\n",
       "      (2): ReLU(inplace=True)\n",
       "    )\n",
       "    (2): LinBnDrop(\n",
       "      (0): Linear(in_features=100, out_features=2, bias=True)\n",
       "    )\n",
       "  )\n",
       ")"
      ]
     },
     "execution_count": 3,
     "metadata": {},
     "output_type": "execute_result"
    }
   ],
   "source": [
    "learner.model"
   ]
  },
  {
   "cell_type": "code",
   "execution_count": 29,
   "metadata": {
    "id": "IoTrGO6HmX6E"
   },
   "outputs": [],
   "source": [
    "\n",
    "df = pd.read_pickle(\"../datasets/truthset/AMPs_truthset.reps.plk\")\n",
    "ready_df =df[[ \"reps\"]]"
   ]
  },
  {
   "cell_type": "markdown",
   "metadata": {
    "id": "ocpMvCNJmX6R"
   },
   "source": [
    "## Chanage format"
   ]
  },
  {
   "cell_type": "code",
   "execution_count": 30,
   "metadata": {
    "id": "raBn6r7zmX6T",
    "outputId": "a4c742de-63a8-4e22-fe0d-d5137e5374e6"
   },
   "outputs": [],
   "source": [
    "df_new = ready_df.reps.apply(pd.Series).astype(np.float64)\n",
    "df_new.columns = df_new.columns.astype(str)\n",
    "#to = TabularPandas(df_new , cont_names =reps_columns, y_block = CategoryBlock, splits=splits)"
   ]
  },
  {
   "cell_type": "code",
   "execution_count": 31,
   "metadata": {},
   "outputs": [
    {
     "data": {
      "text/html": [
       "<div>\n",
       "<style scoped>\n",
       "    .dataframe tbody tr th:only-of-type {\n",
       "        vertical-align: middle;\n",
       "    }\n",
       "\n",
       "    .dataframe tbody tr th {\n",
       "        vertical-align: top;\n",
       "    }\n",
       "\n",
       "    .dataframe thead th {\n",
       "        text-align: right;\n",
       "    }\n",
       "</style>\n",
       "<table border=\"1\" class=\"dataframe\">\n",
       "  <thead>\n",
       "    <tr style=\"text-align: right;\">\n",
       "      <th></th>\n",
       "      <th>0</th>\n",
       "      <th>1</th>\n",
       "      <th>2</th>\n",
       "      <th>3</th>\n",
       "      <th>4</th>\n",
       "      <th>5</th>\n",
       "      <th>6</th>\n",
       "      <th>7</th>\n",
       "      <th>8</th>\n",
       "      <th>9</th>\n",
       "      <th>...</th>\n",
       "      <th>1890</th>\n",
       "      <th>1891</th>\n",
       "      <th>1892</th>\n",
       "      <th>1893</th>\n",
       "      <th>1894</th>\n",
       "      <th>1895</th>\n",
       "      <th>1896</th>\n",
       "      <th>1897</th>\n",
       "      <th>1898</th>\n",
       "      <th>1899</th>\n",
       "    </tr>\n",
       "  </thead>\n",
       "  <tbody>\n",
       "    <tr>\n",
       "      <th>0</th>\n",
       "      <td>0.019923</td>\n",
       "      <td>-0.047088</td>\n",
       "      <td>0.007590</td>\n",
       "      <td>0.008612</td>\n",
       "      <td>-0.105413</td>\n",
       "      <td>0.032731</td>\n",
       "      <td>-0.297581</td>\n",
       "      <td>-0.010141</td>\n",
       "      <td>-0.018119</td>\n",
       "      <td>0.102418</td>\n",
       "      <td>...</td>\n",
       "      <td>0.047615</td>\n",
       "      <td>0.063532</td>\n",
       "      <td>-0.237826</td>\n",
       "      <td>0.039653</td>\n",
       "      <td>-0.031136</td>\n",
       "      <td>-0.006353</td>\n",
       "      <td>0.039390</td>\n",
       "      <td>0.007629</td>\n",
       "      <td>0.089423</td>\n",
       "      <td>0.022756</td>\n",
       "    </tr>\n",
       "    <tr>\n",
       "      <th>1</th>\n",
       "      <td>0.014724</td>\n",
       "      <td>-0.030932</td>\n",
       "      <td>0.007524</td>\n",
       "      <td>0.013040</td>\n",
       "      <td>0.047267</td>\n",
       "      <td>0.032513</td>\n",
       "      <td>-0.456108</td>\n",
       "      <td>0.001002</td>\n",
       "      <td>-0.018511</td>\n",
       "      <td>0.141110</td>\n",
       "      <td>...</td>\n",
       "      <td>0.040018</td>\n",
       "      <td>0.072904</td>\n",
       "      <td>-0.216747</td>\n",
       "      <td>0.028120</td>\n",
       "      <td>-0.036611</td>\n",
       "      <td>-0.004548</td>\n",
       "      <td>0.061547</td>\n",
       "      <td>0.045790</td>\n",
       "      <td>0.103151</td>\n",
       "      <td>0.000341</td>\n",
       "    </tr>\n",
       "    <tr>\n",
       "      <th>2</th>\n",
       "      <td>0.018701</td>\n",
       "      <td>-0.055086</td>\n",
       "      <td>-0.007485</td>\n",
       "      <td>0.018340</td>\n",
       "      <td>0.027769</td>\n",
       "      <td>0.043306</td>\n",
       "      <td>-0.380586</td>\n",
       "      <td>0.005666</td>\n",
       "      <td>-0.021887</td>\n",
       "      <td>0.109023</td>\n",
       "      <td>...</td>\n",
       "      <td>0.042081</td>\n",
       "      <td>0.087484</td>\n",
       "      <td>-0.214472</td>\n",
       "      <td>0.029637</td>\n",
       "      <td>-0.015207</td>\n",
       "      <td>-0.016494</td>\n",
       "      <td>0.060464</td>\n",
       "      <td>0.010968</td>\n",
       "      <td>0.061983</td>\n",
       "      <td>0.013685</td>\n",
       "    </tr>\n",
       "    <tr>\n",
       "      <th>3</th>\n",
       "      <td>0.019437</td>\n",
       "      <td>-0.031499</td>\n",
       "      <td>0.001900</td>\n",
       "      <td>0.012346</td>\n",
       "      <td>0.067398</td>\n",
       "      <td>0.023426</td>\n",
       "      <td>-0.267920</td>\n",
       "      <td>-0.002214</td>\n",
       "      <td>-0.018159</td>\n",
       "      <td>0.091275</td>\n",
       "      <td>...</td>\n",
       "      <td>0.051911</td>\n",
       "      <td>0.080598</td>\n",
       "      <td>-0.181252</td>\n",
       "      <td>0.030322</td>\n",
       "      <td>-0.044635</td>\n",
       "      <td>-0.007344</td>\n",
       "      <td>0.081058</td>\n",
       "      <td>0.017975</td>\n",
       "      <td>0.128263</td>\n",
       "      <td>0.028620</td>\n",
       "    </tr>\n",
       "    <tr>\n",
       "      <th>4</th>\n",
       "      <td>0.033317</td>\n",
       "      <td>-0.097852</td>\n",
       "      <td>0.010363</td>\n",
       "      <td>0.020239</td>\n",
       "      <td>-0.232632</td>\n",
       "      <td>0.049497</td>\n",
       "      <td>-0.299169</td>\n",
       "      <td>0.012850</td>\n",
       "      <td>-0.023980</td>\n",
       "      <td>0.337575</td>\n",
       "      <td>...</td>\n",
       "      <td>0.033375</td>\n",
       "      <td>0.120847</td>\n",
       "      <td>-0.100889</td>\n",
       "      <td>0.020196</td>\n",
       "      <td>-0.042631</td>\n",
       "      <td>0.023899</td>\n",
       "      <td>0.053246</td>\n",
       "      <td>0.001743</td>\n",
       "      <td>0.185660</td>\n",
       "      <td>0.020270</td>\n",
       "    </tr>\n",
       "    <tr>\n",
       "      <th>...</th>\n",
       "      <td>...</td>\n",
       "      <td>...</td>\n",
       "      <td>...</td>\n",
       "      <td>...</td>\n",
       "      <td>...</td>\n",
       "      <td>...</td>\n",
       "      <td>...</td>\n",
       "      <td>...</td>\n",
       "      <td>...</td>\n",
       "      <td>...</td>\n",
       "      <td>...</td>\n",
       "      <td>...</td>\n",
       "      <td>...</td>\n",
       "      <td>...</td>\n",
       "      <td>...</td>\n",
       "      <td>...</td>\n",
       "      <td>...</td>\n",
       "      <td>...</td>\n",
       "      <td>...</td>\n",
       "      <td>...</td>\n",
       "      <td>...</td>\n",
       "    </tr>\n",
       "    <tr>\n",
       "      <th>57</th>\n",
       "      <td>0.016171</td>\n",
       "      <td>0.000104</td>\n",
       "      <td>0.001302</td>\n",
       "      <td>0.014256</td>\n",
       "      <td>0.017668</td>\n",
       "      <td>-0.001196</td>\n",
       "      <td>-0.343563</td>\n",
       "      <td>-0.265699</td>\n",
       "      <td>-0.016795</td>\n",
       "      <td>0.055140</td>\n",
       "      <td>...</td>\n",
       "      <td>0.024991</td>\n",
       "      <td>0.022828</td>\n",
       "      <td>-0.073042</td>\n",
       "      <td>0.017890</td>\n",
       "      <td>0.013226</td>\n",
       "      <td>-0.123560</td>\n",
       "      <td>0.154960</td>\n",
       "      <td>-0.013497</td>\n",
       "      <td>0.031413</td>\n",
       "      <td>-0.043297</td>\n",
       "    </tr>\n",
       "    <tr>\n",
       "      <th>58</th>\n",
       "      <td>0.015017</td>\n",
       "      <td>-0.036066</td>\n",
       "      <td>0.038192</td>\n",
       "      <td>0.003745</td>\n",
       "      <td>-0.003776</td>\n",
       "      <td>0.009892</td>\n",
       "      <td>-0.153868</td>\n",
       "      <td>-0.129352</td>\n",
       "      <td>-0.015966</td>\n",
       "      <td>0.075090</td>\n",
       "      <td>...</td>\n",
       "      <td>0.017711</td>\n",
       "      <td>0.006127</td>\n",
       "      <td>-0.039396</td>\n",
       "      <td>-0.001067</td>\n",
       "      <td>-0.054788</td>\n",
       "      <td>0.044370</td>\n",
       "      <td>0.132005</td>\n",
       "      <td>0.039209</td>\n",
       "      <td>-0.042818</td>\n",
       "      <td>-0.024418</td>\n",
       "    </tr>\n",
       "    <tr>\n",
       "      <th>59</th>\n",
       "      <td>0.032130</td>\n",
       "      <td>-0.000488</td>\n",
       "      <td>-0.014703</td>\n",
       "      <td>0.031483</td>\n",
       "      <td>0.013354</td>\n",
       "      <td>0.035091</td>\n",
       "      <td>-0.428796</td>\n",
       "      <td>0.013158</td>\n",
       "      <td>-0.035880</td>\n",
       "      <td>0.128336</td>\n",
       "      <td>...</td>\n",
       "      <td>0.044803</td>\n",
       "      <td>0.096227</td>\n",
       "      <td>-0.195344</td>\n",
       "      <td>0.034177</td>\n",
       "      <td>0.018314</td>\n",
       "      <td>-0.049155</td>\n",
       "      <td>0.140474</td>\n",
       "      <td>0.044257</td>\n",
       "      <td>0.071362</td>\n",
       "      <td>-0.001932</td>\n",
       "    </tr>\n",
       "    <tr>\n",
       "      <th>60</th>\n",
       "      <td>0.025432</td>\n",
       "      <td>0.006171</td>\n",
       "      <td>-0.012787</td>\n",
       "      <td>0.026035</td>\n",
       "      <td>-0.040039</td>\n",
       "      <td>0.050619</td>\n",
       "      <td>-0.472542</td>\n",
       "      <td>-0.001317</td>\n",
       "      <td>-0.029686</td>\n",
       "      <td>0.191039</td>\n",
       "      <td>...</td>\n",
       "      <td>0.035620</td>\n",
       "      <td>0.075275</td>\n",
       "      <td>-0.103784</td>\n",
       "      <td>0.032539</td>\n",
       "      <td>0.011790</td>\n",
       "      <td>0.012831</td>\n",
       "      <td>0.180955</td>\n",
       "      <td>0.092308</td>\n",
       "      <td>0.256334</td>\n",
       "      <td>-0.000305</td>\n",
       "    </tr>\n",
       "    <tr>\n",
       "      <th>61</th>\n",
       "      <td>0.023750</td>\n",
       "      <td>-0.023898</td>\n",
       "      <td>-0.012288</td>\n",
       "      <td>0.021914</td>\n",
       "      <td>-0.112121</td>\n",
       "      <td>0.031647</td>\n",
       "      <td>-0.428828</td>\n",
       "      <td>0.008921</td>\n",
       "      <td>-0.025937</td>\n",
       "      <td>0.344978</td>\n",
       "      <td>...</td>\n",
       "      <td>0.028519</td>\n",
       "      <td>0.018090</td>\n",
       "      <td>-0.111046</td>\n",
       "      <td>0.018206</td>\n",
       "      <td>0.012762</td>\n",
       "      <td>0.011109</td>\n",
       "      <td>0.026963</td>\n",
       "      <td>0.063353</td>\n",
       "      <td>0.361641</td>\n",
       "      <td>-0.034050</td>\n",
       "    </tr>\n",
       "  </tbody>\n",
       "</table>\n",
       "<p>62 rows × 1900 columns</p>\n",
       "</div>"
      ],
      "text/plain": [
       "           0         1         2         3         4         5         6  \\\n",
       "0   0.019923 -0.047088  0.007590  0.008612 -0.105413  0.032731 -0.297581   \n",
       "1   0.014724 -0.030932  0.007524  0.013040  0.047267  0.032513 -0.456108   \n",
       "2   0.018701 -0.055086 -0.007485  0.018340  0.027769  0.043306 -0.380586   \n",
       "3   0.019437 -0.031499  0.001900  0.012346  0.067398  0.023426 -0.267920   \n",
       "4   0.033317 -0.097852  0.010363  0.020239 -0.232632  0.049497 -0.299169   \n",
       "..       ...       ...       ...       ...       ...       ...       ...   \n",
       "57  0.016171  0.000104  0.001302  0.014256  0.017668 -0.001196 -0.343563   \n",
       "58  0.015017 -0.036066  0.038192  0.003745 -0.003776  0.009892 -0.153868   \n",
       "59  0.032130 -0.000488 -0.014703  0.031483  0.013354  0.035091 -0.428796   \n",
       "60  0.025432  0.006171 -0.012787  0.026035 -0.040039  0.050619 -0.472542   \n",
       "61  0.023750 -0.023898 -0.012288  0.021914 -0.112121  0.031647 -0.428828   \n",
       "\n",
       "           7         8         9  ...      1890      1891      1892      1893  \\\n",
       "0  -0.010141 -0.018119  0.102418  ...  0.047615  0.063532 -0.237826  0.039653   \n",
       "1   0.001002 -0.018511  0.141110  ...  0.040018  0.072904 -0.216747  0.028120   \n",
       "2   0.005666 -0.021887  0.109023  ...  0.042081  0.087484 -0.214472  0.029637   \n",
       "3  -0.002214 -0.018159  0.091275  ...  0.051911  0.080598 -0.181252  0.030322   \n",
       "4   0.012850 -0.023980  0.337575  ...  0.033375  0.120847 -0.100889  0.020196   \n",
       "..       ...       ...       ...  ...       ...       ...       ...       ...   \n",
       "57 -0.265699 -0.016795  0.055140  ...  0.024991  0.022828 -0.073042  0.017890   \n",
       "58 -0.129352 -0.015966  0.075090  ...  0.017711  0.006127 -0.039396 -0.001067   \n",
       "59  0.013158 -0.035880  0.128336  ...  0.044803  0.096227 -0.195344  0.034177   \n",
       "60 -0.001317 -0.029686  0.191039  ...  0.035620  0.075275 -0.103784  0.032539   \n",
       "61  0.008921 -0.025937  0.344978  ...  0.028519  0.018090 -0.111046  0.018206   \n",
       "\n",
       "        1894      1895      1896      1897      1898      1899  \n",
       "0  -0.031136 -0.006353  0.039390  0.007629  0.089423  0.022756  \n",
       "1  -0.036611 -0.004548  0.061547  0.045790  0.103151  0.000341  \n",
       "2  -0.015207 -0.016494  0.060464  0.010968  0.061983  0.013685  \n",
       "3  -0.044635 -0.007344  0.081058  0.017975  0.128263  0.028620  \n",
       "4  -0.042631  0.023899  0.053246  0.001743  0.185660  0.020270  \n",
       "..       ...       ...       ...       ...       ...       ...  \n",
       "57  0.013226 -0.123560  0.154960 -0.013497  0.031413 -0.043297  \n",
       "58 -0.054788  0.044370  0.132005  0.039209 -0.042818 -0.024418  \n",
       "59  0.018314 -0.049155  0.140474  0.044257  0.071362 -0.001932  \n",
       "60  0.011790  0.012831  0.180955  0.092308  0.256334 -0.000305  \n",
       "61  0.012762  0.011109  0.026963  0.063353  0.361641 -0.034050  \n",
       "\n",
       "[62 rows x 1900 columns]"
      ]
     },
     "execution_count": 31,
     "metadata": {},
     "output_type": "execute_result"
    }
   ],
   "source": [
    "df_new"
   ]
  },
  {
   "cell_type": "markdown",
   "metadata": {},
   "source": [
    "## Predict\n",
    "To get prediction on a new dataframe, you can use the test_d"
   ]
  },
  {
   "cell_type": "code",
   "execution_count": 32,
   "metadata": {},
   "outputs": [
    {
     "data": {
      "text/html": [],
      "text/plain": [
       "<IPython.core.display.HTML object>"
      ]
     },
     "metadata": {},
     "output_type": "display_data"
    }
   ],
   "source": [
    "dl = learner.dls.test_dl(df_new)\n",
    "_preds,_none ,_y = learner.get_preds(dl=dl, with_decoded=True)"
   ]
  },
  {
   "cell_type": "code",
   "execution_count": 33,
   "metadata": {},
   "outputs": [
    {
     "data": {
      "text/html": [
       "<div>\n",
       "<style scoped>\n",
       "    .dataframe tbody tr th:only-of-type {\n",
       "        vertical-align: middle;\n",
       "    }\n",
       "\n",
       "    .dataframe tbody tr th {\n",
       "        vertical-align: top;\n",
       "    }\n",
       "\n",
       "    .dataframe thead th {\n",
       "        text-align: right;\n",
       "    }\n",
       "</style>\n",
       "<table border=\"1\" class=\"dataframe\">\n",
       "  <thead>\n",
       "    <tr style=\"text-align: right;\">\n",
       "      <th></th>\n",
       "      <th>ID</th>\n",
       "      <th>paper</th>\n",
       "      <th>seq</th>\n",
       "      <th>length</th>\n",
       "      <th>class</th>\n",
       "    </tr>\n",
       "  </thead>\n",
       "  <tbody>\n",
       "    <tr>\n",
       "      <th>0</th>\n",
       "      <td>ISGCock_Contig04_0915</td>\n",
       "      <td>PMC4864078</td>\n",
       "      <td>ALQICTRNMIDDRLPYVADNVRPGTFIKQQRKQKQQRHHTSGTRKRMAKG</td>\n",
       "      <td>50</td>\n",
       "      <td>0</td>\n",
       "    </tr>\n",
       "    <tr>\n",
       "      <th>1</th>\n",
       "      <td>ISGCock_Contig13_4610</td>\n",
       "      <td>PMC4864078</td>\n",
       "      <td>HLYPCKLNLKLGKVPFHFLNLNHKGKSIMVNQQTCLYYIICQTR</td>\n",
       "      <td>44</td>\n",
       "      <td>1</td>\n",
       "    </tr>\n",
       "    <tr>\n",
       "      <th>2</th>\n",
       "      <td>ISGCock_Contig16_2060</td>\n",
       "      <td>PMC4864078</td>\n",
       "      <td>ISHNHLTAASITHVKNRGKYIYMHLKFRKTNVLI</td>\n",
       "      <td>34</td>\n",
       "      <td>1</td>\n",
       "    </tr>\n",
       "    <tr>\n",
       "      <th>3</th>\n",
       "      <td>ISGCock_Contig16_4974</td>\n",
       "      <td>PMC4864078</td>\n",
       "      <td>RKKVWFIFHVCPKLKQRILSDTHAKNKCRLSPLLIKSTKIKNET</td>\n",
       "      <td>44</td>\n",
       "      <td>0</td>\n",
       "    </tr>\n",
       "    <tr>\n",
       "      <th>4</th>\n",
       "      <td>ISGCock_Contig07_3736</td>\n",
       "      <td>PMC4864078</td>\n",
       "      <td>CNYISFFRKCKNSQSTMYGCHRMNKCVFSSY</td>\n",
       "      <td>31</td>\n",
       "      <td>0</td>\n",
       "    </tr>\n",
       "    <tr>\n",
       "      <th>...</th>\n",
       "      <td>...</td>\n",
       "      <td>...</td>\n",
       "      <td>...</td>\n",
       "      <td>...</td>\n",
       "      <td>...</td>\n",
       "    </tr>\n",
       "    <tr>\n",
       "      <th>57</th>\n",
       "      <td>TR42258|c1_g1_i1</td>\n",
       "      <td>hal-02965337</td>\n",
       "      <td>MRYIVCFVFFLFFFLLFLWLVPARTASSFLTPRLSSLGKRSWAV</td>\n",
       "      <td>44</td>\n",
       "      <td>1</td>\n",
       "    </tr>\n",
       "    <tr>\n",
       "      <th>58</th>\n",
       "      <td>TR27534|c0_g1_i1</td>\n",
       "      <td>hal-02965337</td>\n",
       "      <td>MLFKVIIVIWISVCRECTRGGFCNFMHLKPISRELRRELYGRTRRRRK</td>\n",
       "      <td>48</td>\n",
       "      <td>0</td>\n",
       "    </tr>\n",
       "    <tr>\n",
       "      <th>59</th>\n",
       "      <td>P3</td>\n",
       "      <td>S2162-2531(20)30132-3</td>\n",
       "      <td>FWELWKFLKSLWSIFPRRRP</td>\n",
       "      <td>20</td>\n",
       "      <td>0</td>\n",
       "    </tr>\n",
       "    <tr>\n",
       "      <th>60</th>\n",
       "      <td>P10</td>\n",
       "      <td>S2162-2531(20)30132-3</td>\n",
       "      <td>ICTTLNWMVKLTCLTHVTLTTRWC</td>\n",
       "      <td>24</td>\n",
       "      <td>0</td>\n",
       "    </tr>\n",
       "    <tr>\n",
       "      <th>61</th>\n",
       "      <td>P26</td>\n",
       "      <td>S2162-2531(20)30132-3</td>\n",
       "      <td>RWPPTTTLCYLSRPRRCSWTSSVCRCTLT</td>\n",
       "      <td>29</td>\n",
       "      <td>0</td>\n",
       "    </tr>\n",
       "  </tbody>\n",
       "</table>\n",
       "<p>62 rows × 5 columns</p>\n",
       "</div>"
      ],
      "text/plain": [
       "                       ID                  paper  \\\n",
       "0   ISGCock_Contig04_0915             PMC4864078   \n",
       "1   ISGCock_Contig13_4610             PMC4864078   \n",
       "2   ISGCock_Contig16_2060             PMC4864078   \n",
       "3   ISGCock_Contig16_4974             PMC4864078   \n",
       "4   ISGCock_Contig07_3736             PMC4864078   \n",
       "..                    ...                    ...   \n",
       "57       TR42258|c1_g1_i1           hal-02965337   \n",
       "58       TR27534|c0_g1_i1           hal-02965337   \n",
       "59                     P3  S2162-2531(20)30132-3   \n",
       "60                    P10  S2162-2531(20)30132-3   \n",
       "61                    P26  S2162-2531(20)30132-3   \n",
       "\n",
       "                                                   seq  length  class  \n",
       "0   ALQICTRNMIDDRLPYVADNVRPGTFIKQQRKQKQQRHHTSGTRKRMAKG      50      0  \n",
       "1         HLYPCKLNLKLGKVPFHFLNLNHKGKSIMVNQQTCLYYIICQTR      44      1  \n",
       "2                   ISHNHLTAASITHVKNRGKYIYMHLKFRKTNVLI      34      1  \n",
       "3         RKKVWFIFHVCPKLKQRILSDTHAKNKCRLSPLLIKSTKIKNET      44      0  \n",
       "4                      CNYISFFRKCKNSQSTMYGCHRMNKCVFSSY      31      0  \n",
       "..                                                 ...     ...    ...  \n",
       "57        MRYIVCFVFFLFFFLLFLWLVPARTASSFLTPRLSSLGKRSWAV      44      1  \n",
       "58    MLFKVIIVIWISVCRECTRGGFCNFMHLKPISRELRRELYGRTRRRRK      48      0  \n",
       "59                                FWELWKFLKSLWSIFPRRRP      20      0  \n",
       "60                            ICTTLNWMVKLTCLTHVTLTTRWC      24      0  \n",
       "61                       RWPPTTTLCYLSRPRRCSWTSSVCRCTLT      29      0  \n",
       "\n",
       "[62 rows x 5 columns]"
      ]
     },
     "execution_count": 33,
     "metadata": {},
     "output_type": "execute_result"
    }
   ],
   "source": [
    "df['class'] = _y\n",
    "df.drop(columns=['reps'],inplace =True)\n",
    "df"
   ]
  },
  {
   "cell_type": "code",
   "execution_count": 11,
   "metadata": {
    "scrolled": true
   },
   "outputs": [
    {
     "data": {
      "text/html": [
       "<div>\n",
       "<style scoped>\n",
       "    .dataframe tbody tr th:only-of-type {\n",
       "        vertical-align: middle;\n",
       "    }\n",
       "\n",
       "    .dataframe tbody tr th {\n",
       "        vertical-align: top;\n",
       "    }\n",
       "\n",
       "    .dataframe thead th {\n",
       "        text-align: right;\n",
       "    }\n",
       "</style>\n",
       "<table border=\"1\" class=\"dataframe\">\n",
       "  <thead>\n",
       "    <tr style=\"text-align: right;\">\n",
       "      <th></th>\n",
       "      <th>ID</th>\n",
       "      <th>paper</th>\n",
       "      <th>seq</th>\n",
       "      <th>length</th>\n",
       "      <th>class</th>\n",
       "    </tr>\n",
       "  </thead>\n",
       "  <tbody>\n",
       "    <tr>\n",
       "      <th>0</th>\n",
       "      <td>ISGCock_Contig04_0915</td>\n",
       "      <td>PMC4864078</td>\n",
       "      <td>ALQICTRNMIDDRLPYVADNVRPGTFIKQQRKQKQQRHHTSGTRKRMAKG</td>\n",
       "      <td>50</td>\n",
       "      <td>0</td>\n",
       "    </tr>\n",
       "    <tr>\n",
       "      <th>3</th>\n",
       "      <td>ISGCock_Contig16_4974</td>\n",
       "      <td>PMC4864078</td>\n",
       "      <td>RKKVWFIFHVCPKLKQRILSDTHAKNKCRLSPLLIKSTKIKNET</td>\n",
       "      <td>44</td>\n",
       "      <td>0</td>\n",
       "    </tr>\n",
       "    <tr>\n",
       "      <th>4</th>\n",
       "      <td>ISGCock_Contig07_3736</td>\n",
       "      <td>PMC4864078</td>\n",
       "      <td>CNYISFFRKCKNSQSTMYGCHRMNKCVFSSY</td>\n",
       "      <td>31</td>\n",
       "      <td>0</td>\n",
       "    </tr>\n",
       "    <tr>\n",
       "      <th>5</th>\n",
       "      <td>ISGCock_Contig10_4736</td>\n",
       "      <td>PMC4864078</td>\n",
       "      <td>LMLCKGFLRHSYKSIHERGTKRGKLCRISRLALSSLP</td>\n",
       "      <td>37</td>\n",
       "      <td>0</td>\n",
       "    </tr>\n",
       "    <tr>\n",
       "      <th>6</th>\n",
       "      <td>ISGCock_Contig13_3006</td>\n",
       "      <td>PMC4864078</td>\n",
       "      <td>ANLLRHKVYGYCVLGPKGSSLGGIHGTWHDHHCSLIQRNPSTSTKGN</td>\n",
       "      <td>47</td>\n",
       "      <td>0</td>\n",
       "    </tr>\n",
       "    <tr>\n",
       "      <th>10</th>\n",
       "      <td>Ph1</td>\n",
       "      <td>insects11100676</td>\n",
       "      <td>RAIKWPGNGLLFLKY</td>\n",
       "      <td>15</td>\n",
       "      <td>0</td>\n",
       "    </tr>\n",
       "    <tr>\n",
       "      <th>11</th>\n",
       "      <td>Ph2</td>\n",
       "      <td>insects11100676</td>\n",
       "      <td>KLPIVNVKLVNRIK</td>\n",
       "      <td>14</td>\n",
       "      <td>0</td>\n",
       "    </tr>\n",
       "    <tr>\n",
       "      <th>12</th>\n",
       "      <td>Ph3</td>\n",
       "      <td>insects11100676</td>\n",
       "      <td>KRGYQVPRIAFII</td>\n",
       "      <td>13</td>\n",
       "      <td>0</td>\n",
       "    </tr>\n",
       "    <tr>\n",
       "      <th>13</th>\n",
       "      <td>Ph4</td>\n",
       "      <td>insects11100676</td>\n",
       "      <td>KLQVVPAIHLVWLQK</td>\n",
       "      <td>15</td>\n",
       "      <td>0</td>\n",
       "    </tr>\n",
       "    <tr>\n",
       "      <th>14</th>\n",
       "      <td>Ph8</td>\n",
       "      <td>insects11100676</td>\n",
       "      <td>RCLKTCFLSFIRY</td>\n",
       "      <td>13</td>\n",
       "      <td>0</td>\n",
       "    </tr>\n",
       "    <tr>\n",
       "      <th>15</th>\n",
       "      <td>Ph10</td>\n",
       "      <td>insects11100676</td>\n",
       "      <td>RISCVAMRLILK</td>\n",
       "      <td>12</td>\n",
       "      <td>0</td>\n",
       "    </tr>\n",
       "    <tr>\n",
       "      <th>16</th>\n",
       "      <td>Ph12</td>\n",
       "      <td>insects11100676</td>\n",
       "      <td>RLLLLCYACGKS</td>\n",
       "      <td>12</td>\n",
       "      <td>0</td>\n",
       "    </tr>\n",
       "    <tr>\n",
       "      <th>17</th>\n",
       "      <td>Ph14</td>\n",
       "      <td>insects11100676</td>\n",
       "      <td>RRRCRCCRY</td>\n",
       "      <td>9</td>\n",
       "      <td>0</td>\n",
       "    </tr>\n",
       "    <tr>\n",
       "      <th>18</th>\n",
       "      <td>Ph16</td>\n",
       "      <td>insects11100676</td>\n",
       "      <td>RKSWRHWKC</td>\n",
       "      <td>9</td>\n",
       "      <td>0</td>\n",
       "    </tr>\n",
       "    <tr>\n",
       "      <th>19</th>\n",
       "      <td>Ph20</td>\n",
       "      <td>insects11100676</td>\n",
       "      <td>KMFTKCIRYRKM</td>\n",
       "      <td>12</td>\n",
       "      <td>0</td>\n",
       "    </tr>\n",
       "    <tr>\n",
       "      <th>20</th>\n",
       "      <td>Ph22</td>\n",
       "      <td>insects11100676</td>\n",
       "      <td>KRIFYLYIRGQ</td>\n",
       "      <td>11</td>\n",
       "      <td>0</td>\n",
       "    </tr>\n",
       "    <tr>\n",
       "      <th>21</th>\n",
       "      <td>Ph24</td>\n",
       "      <td>insects11100676</td>\n",
       "      <td>KLSNAVFKSCRKI</td>\n",
       "      <td>13</td>\n",
       "      <td>0</td>\n",
       "    </tr>\n",
       "    <tr>\n",
       "      <th>22</th>\n",
       "      <td>Ph26</td>\n",
       "      <td>insects11100676</td>\n",
       "      <td>KIGTFIKKLSYTS</td>\n",
       "      <td>13</td>\n",
       "      <td>0</td>\n",
       "    </tr>\n",
       "    <tr>\n",
       "      <th>23</th>\n",
       "      <td>Defensin_g1</td>\n",
       "      <td>s41598-020-77982-3</td>\n",
       "      <td>MKSVLLVFLLVVCAVVLAAPLEEHIRRKRFTCDVLGSIEVQGNRINDAACAFHCLWKGESGGWCDDQKRCNCRD</td>\n",
       "      <td>74</td>\n",
       "      <td>0</td>\n",
       "    </tr>\n",
       "    <tr>\n",
       "      <th>24</th>\n",
       "      <td>Defensin_g2</td>\n",
       "      <td>s41598-020-77982-3</td>\n",
       "      <td>MKAVLLVFLLVVCAVVLAAPLEEHVRRKRFTCDVLGSIEVQGNRINDAACALHCLWKGESGGWCDDQKRCNCRD</td>\n",
       "      <td>74</td>\n",
       "      <td>0</td>\n",
       "    </tr>\n",
       "    <tr>\n",
       "      <th>25</th>\n",
       "      <td>Defensin_g3</td>\n",
       "      <td>s41598-020-77982-3</td>\n",
       "      <td>MKATALVILLLVAANMVLAHPLEEHFREKRFSCDIKITADVFGVKITDTGCNIRCFLERRPGGTCDSHKKCHCR</td>\n",
       "      <td>74</td>\n",
       "      <td>0</td>\n",
       "    </tr>\n",
       "    <tr>\n",
       "      <th>26</th>\n",
       "      <td>Defensin_g6</td>\n",
       "      <td>s41598-020-77982-3</td>\n",
       "      <td>MKATVVVILLLVAANMVLAHPLEEHFREKRFSCDIKITADVFGVKITDTGCNIRCFLERRQGGTCDSHKKCHCR</td>\n",
       "      <td>74</td>\n",
       "      <td>0</td>\n",
       "    </tr>\n",
       "    <tr>\n",
       "      <th>27</th>\n",
       "      <td>Defensin_g7</td>\n",
       "      <td>s41598-020-77982-3</td>\n",
       "      <td>MKAVLLVFLLVVCAVVLAAPLEEHIRRKRFTCDVLGSVDIKGVQLNDAPCALHCLWDGKSGGHCDDSKVCICRD</td>\n",
       "      <td>74</td>\n",
       "      <td>0</td>\n",
       "    </tr>\n",
       "    <tr>\n",
       "      <th>28</th>\n",
       "      <td>Defensin_g8</td>\n",
       "      <td>s41598-020-77982-3</td>\n",
       "      <td>MKAVLLVFLLVVCAVVLAAPLEEHIRRKRFTCDVLGSVSIKDVQLNDAPCALHCLWDGKSGGHCDDSKVCICRD</td>\n",
       "      <td>74</td>\n",
       "      <td>0</td>\n",
       "    </tr>\n",
       "    <tr>\n",
       "      <th>29</th>\n",
       "      <td>Defensin_g9</td>\n",
       "      <td>s41598-020-77982-3</td>\n",
       "      <td>MKAQIFALAFVVCLVAAVVAMPAPEEPEQHLRVRRASCQVLGVVGCSANCFRLGRKKGGYCNKNKICICYK</td>\n",
       "      <td>71</td>\n",
       "      <td>0</td>\n",
       "    </tr>\n",
       "    <tr>\n",
       "      <th>30</th>\n",
       "      <td>Defensin_g10</td>\n",
       "      <td>s41598-020-77982-3</td>\n",
       "      <td>MKAQIFALAFVVCLVAAAVAMPAPEEPEQHLRVRRASCQVLGVVGCSANCFRLGRKKGGYCDKNQICICYQ</td>\n",
       "      <td>71</td>\n",
       "      <td>0</td>\n",
       "    </tr>\n",
       "    <tr>\n",
       "      <th>31</th>\n",
       "      <td>Defensin_g11</td>\n",
       "      <td>s41598-020-77982-3</td>\n",
       "      <td>MKAVIFVFLAAACVLVSAAPAQERELSRVKRVTCDLFSIEFGGIKVNDGACAVKCIAWVGKGYHGGHCKDGICTCNKGAEQ</td>\n",
       "      <td>81</td>\n",
       "      <td>0</td>\n",
       "    </tr>\n",
       "    <tr>\n",
       "      <th>32</th>\n",
       "      <td>Defensin_g13</td>\n",
       "      <td>s41598-020-77982-3</td>\n",
       "      <td>MKAVIIAFLLFLSVTLGAVALEEKQGHARGPRDLTCIEKIPLVGKVNHALCAAYCISKGKKGGFCKGRDCNCHNQ</td>\n",
       "      <td>75</td>\n",
       "      <td>0</td>\n",
       "    </tr>\n",
       "    <tr>\n",
       "      <th>33</th>\n",
       "      <td>Defensin_g14</td>\n",
       "      <td>s41598-020-77982-3</td>\n",
       "      <td>MKAVIIVFLLFLSVTLGAVALQEKQGHAREPRDLTCIEKIPLVGKVNHALCAAYCISKGKKGGFCKGRDCNCHNQ</td>\n",
       "      <td>75</td>\n",
       "      <td>0</td>\n",
       "    </tr>\n",
       "    <tr>\n",
       "      <th>34</th>\n",
       "      <td>Defensin_g15</td>\n",
       "      <td>s41598-020-77982-3</td>\n",
       "      <td>MKVFIFVFLVICAMALGMPANDQLRSERGASCEVAGALGCSAHCIFLGHPKGGHCVSQTCVCY</td>\n",
       "      <td>63</td>\n",
       "      <td>0</td>\n",
       "    </tr>\n",
       "    <tr>\n",
       "      <th>35</th>\n",
       "      <td>Termicin_g1</td>\n",
       "      <td>s41598-020-77982-3</td>\n",
       "      <td>MKQCTSVLLFAAAILVVMAAIVANFGVDACDTNPCWATCQAKLTIYFNSAYCDGDKCVCVSRQP</td>\n",
       "      <td>64</td>\n",
       "      <td>0</td>\n",
       "    </tr>\n",
       "    <tr>\n",
       "      <th>36</th>\n",
       "      <td>Termicin_g2</td>\n",
       "      <td>s41598-020-77982-3</td>\n",
       "      <td>MKQCTSVLLFAASILVVMAAIVANFGVDACDTNPCWATCQAKLTIYFNSAYCDGDKCVCVSRQP</td>\n",
       "      <td>64</td>\n",
       "      <td>0</td>\n",
       "    </tr>\n",
       "    <tr>\n",
       "      <th>37</th>\n",
       "      <td>Drosomycin_g1</td>\n",
       "      <td>s41598-020-77982-3</td>\n",
       "      <td>MKGYLAIVVLLVLTIGAEIALGDCLSGRYGGPCAVWDNETCRRVCKEEGRSSGHCSPSLKCWCEGC</td>\n",
       "      <td>66</td>\n",
       "      <td>0</td>\n",
       "    </tr>\n",
       "    <tr>\n",
       "      <th>38</th>\n",
       "      <td>Drosomycin_g2</td>\n",
       "      <td>s41598-020-77982-3</td>\n",
       "      <td>MKGYLVFVVLLVLAIGAEIALGDCLSGRYKGPCAVWDNDTCRRVCKEEGRSSGHCSPSLKCWCEGC</td>\n",
       "      <td>66</td>\n",
       "      <td>0</td>\n",
       "    </tr>\n",
       "    <tr>\n",
       "      <th>39</th>\n",
       "      <td>Drosomycin_g4</td>\n",
       "      <td>s41598-020-77982-3</td>\n",
       "      <td>MKGYLAIVVLLVLAIGAEIALGDCLSGRYGGPCAVWDNDTCRRVCKEEGRSSGHCSPSLKCWCEGC</td>\n",
       "      <td>66</td>\n",
       "      <td>0</td>\n",
       "    </tr>\n",
       "    <tr>\n",
       "      <th>40</th>\n",
       "      <td>Drosomycin_g5</td>\n",
       "      <td>s41598-020-77982-3</td>\n",
       "      <td>MKGYLLFTVLLILAIGTEIALGDCLSGRYGGPCAVWDNETCRRVCREEGRRSGHCSASLKCWCEGC</td>\n",
       "      <td>66</td>\n",
       "      <td>0</td>\n",
       "    </tr>\n",
       "    <tr>\n",
       "      <th>41</th>\n",
       "      <td>Drosomycin_g6</td>\n",
       "      <td>s41598-020-77982-3</td>\n",
       "      <td>MKGYLIYTILLVLTIGTTTVLSDCKILSHHFKGPCYPRYVSHGKECRRKCVQEGFINGRCTPNHKCYCNRC</td>\n",
       "      <td>71</td>\n",
       "      <td>0</td>\n",
       "    </tr>\n",
       "    <tr>\n",
       "      <th>42</th>\n",
       "      <td>Drosomycin_g7</td>\n",
       "      <td>s41598-020-77982-3</td>\n",
       "      <td>MKGYLIFTILLVLTIGTAVVVSDCPSGKYKGPCFAWNNEKCRRICKEEGHVSGHCSAGLKCWCEGC</td>\n",
       "      <td>66</td>\n",
       "      <td>0</td>\n",
       "    </tr>\n",
       "    <tr>\n",
       "      <th>43</th>\n",
       "      <td>Drosomycin_g8</td>\n",
       "      <td>s41598-020-77982-3</td>\n",
       "      <td>MKGYLIFTVLLVLTIGTAVVLSDCPSGKFKGPCFAWDNEKCRRICKEEGRISGHCSAGLKCWCEGC</td>\n",
       "      <td>66</td>\n",
       "      <td>0</td>\n",
       "    </tr>\n",
       "    <tr>\n",
       "      <th>44</th>\n",
       "      <td>Drosomycin_g9</td>\n",
       "      <td>s41598-020-77982-3</td>\n",
       "      <td>MKGYLLFAVLLILAIGTEIALGDCLSGRYKGPCAVWDNETCRRVCGEEGRRSGHCSPSLKCWCEGC</td>\n",
       "      <td>66</td>\n",
       "      <td>0</td>\n",
       "    </tr>\n",
       "    <tr>\n",
       "      <th>45</th>\n",
       "      <td>Drosomycin_g10</td>\n",
       "      <td>s41598-020-77982-3</td>\n",
       "      <td>MKGYLIFTVLLVLTIGTAVVVSDCPSGKYKGPCFAWNNEKCRRICKEEGHISGHCSAGLKCWCEGC</td>\n",
       "      <td>66</td>\n",
       "      <td>0</td>\n",
       "    </tr>\n",
       "    <tr>\n",
       "      <th>46</th>\n",
       "      <td>Drosomycin_g11</td>\n",
       "      <td>s41598-020-77982-3</td>\n",
       "      <td>MKGYLIFAILLILAIGTAVVLSDCPSGKFKGPCFAWNNEKCRRICIEEGHVSGHCSAGLKCWCEGC</td>\n",
       "      <td>66</td>\n",
       "      <td>0</td>\n",
       "    </tr>\n",
       "    <tr>\n",
       "      <th>47</th>\n",
       "      <td>Drosomycin_g12</td>\n",
       "      <td>s41598-020-77982-3</td>\n",
       "      <td>MKGYLIFTVLLVLTIGTAVVLSDCPSGKFKGPCFAWDNEKCRRICKEEGRVSGHCSAGLKCWCEGC</td>\n",
       "      <td>66</td>\n",
       "      <td>0</td>\n",
       "    </tr>\n",
       "    <tr>\n",
       "      <th>48</th>\n",
       "      <td>Drosomycin_g13</td>\n",
       "      <td>s41598-020-77982-3</td>\n",
       "      <td>MKGYLIFTVLLILTIGTAVVLSDCPSGKFKGPCFAWDNEKCRRICKEEGRVSGHCSAGLKCWCEGC</td>\n",
       "      <td>66</td>\n",
       "      <td>0</td>\n",
       "    </tr>\n",
       "    <tr>\n",
       "      <th>49</th>\n",
       "      <td>Attacin-like_g1</td>\n",
       "      <td>s41598-020-77982-3</td>\n",
       "      <td>MKVSAILFIALSIAVASTLARPHHHPDHKEDDHQEQPQETHTRVERSPQDDKKVNVHGGIHEQSGVGVVADVHGQGTVWKSDDGKRRVNVEGNWSKVLDGPQRGKPQHSAGVSFDFDW</td>\n",
       "      <td>118</td>\n",
       "      <td>0</td>\n",
       "    </tr>\n",
       "    <tr>\n",
       "      <th>50</th>\n",
       "      <td>Attacin-like_g2</td>\n",
       "      <td>s41598-020-77982-3</td>\n",
       "      <td>MKVTAILFLVLAIVVASAVAKPHHHPDHKEDDHQEQPQENHSRVVRSPQPEDKKGNVHGGVHEESGKGVVADIHGKGTVWESKDGKSRVQVEGDWSKVIDGPQRGKPQHRGGVSFDFDF</td>\n",
       "      <td>119</td>\n",
       "      <td>0</td>\n",
       "    </tr>\n",
       "    <tr>\n",
       "      <th>51</th>\n",
       "      <td>Attacin-like_g3</td>\n",
       "      <td>s41598-020-77982-3</td>\n",
       "      <td>MKVSAILFIALSIAVASTLARPHHHPDHKEDDHQEQPQETHTRVERSPQDDKKGNVHGGIHEQSGVGVVADIHGQGTVWKSDDGKRRVNVEGNWSKVLDGPQRGKPQHSAGVSFDFDW</td>\n",
       "      <td>118</td>\n",
       "      <td>0</td>\n",
       "    </tr>\n",
       "    <tr>\n",
       "      <th>58</th>\n",
       "      <td>TR27534|c0_g1_i1</td>\n",
       "      <td>hal-02965337</td>\n",
       "      <td>MLFKVIIVIWISVCRECTRGGFCNFMHLKPISRELRRELYGRTRRRRK</td>\n",
       "      <td>48</td>\n",
       "      <td>0</td>\n",
       "    </tr>\n",
       "    <tr>\n",
       "      <th>59</th>\n",
       "      <td>P3</td>\n",
       "      <td>S2162-2531(20)30132-3</td>\n",
       "      <td>FWELWKFLKSLWSIFPRRRP</td>\n",
       "      <td>20</td>\n",
       "      <td>0</td>\n",
       "    </tr>\n",
       "    <tr>\n",
       "      <th>60</th>\n",
       "      <td>P10</td>\n",
       "      <td>S2162-2531(20)30132-3</td>\n",
       "      <td>ICTTLNWMVKLTCLTHVTLTTRWC</td>\n",
       "      <td>24</td>\n",
       "      <td>0</td>\n",
       "    </tr>\n",
       "    <tr>\n",
       "      <th>61</th>\n",
       "      <td>P26</td>\n",
       "      <td>S2162-2531(20)30132-3</td>\n",
       "      <td>RWPPTTTLCYLSRPRRCSWTSSVCRCTLT</td>\n",
       "      <td>29</td>\n",
       "      <td>0</td>\n",
       "    </tr>\n",
       "  </tbody>\n",
       "</table>\n",
       "</div>"
      ],
      "text/plain": [
       "                       ID                  paper  \\\n",
       "0   ISGCock_Contig04_0915             PMC4864078   \n",
       "3   ISGCock_Contig16_4974             PMC4864078   \n",
       "4   ISGCock_Contig07_3736             PMC4864078   \n",
       "5   ISGCock_Contig10_4736             PMC4864078   \n",
       "6   ISGCock_Contig13_3006             PMC4864078   \n",
       "10                    Ph1        insects11100676   \n",
       "11                    Ph2        insects11100676   \n",
       "12                    Ph3        insects11100676   \n",
       "13                    Ph4        insects11100676   \n",
       "14                    Ph8        insects11100676   \n",
       "15                   Ph10        insects11100676   \n",
       "16                   Ph12        insects11100676   \n",
       "17                   Ph14        insects11100676   \n",
       "18                   Ph16        insects11100676   \n",
       "19                   Ph20        insects11100676   \n",
       "20                   Ph22        insects11100676   \n",
       "21                   Ph24        insects11100676   \n",
       "22                   Ph26        insects11100676   \n",
       "23            Defensin_g1     s41598-020-77982-3   \n",
       "24            Defensin_g2     s41598-020-77982-3   \n",
       "25            Defensin_g3     s41598-020-77982-3   \n",
       "26            Defensin_g6     s41598-020-77982-3   \n",
       "27            Defensin_g7     s41598-020-77982-3   \n",
       "28            Defensin_g8     s41598-020-77982-3   \n",
       "29            Defensin_g9     s41598-020-77982-3   \n",
       "30           Defensin_g10     s41598-020-77982-3   \n",
       "31           Defensin_g11     s41598-020-77982-3   \n",
       "32           Defensin_g13     s41598-020-77982-3   \n",
       "33           Defensin_g14     s41598-020-77982-3   \n",
       "34           Defensin_g15     s41598-020-77982-3   \n",
       "35            Termicin_g1     s41598-020-77982-3   \n",
       "36            Termicin_g2     s41598-020-77982-3   \n",
       "37          Drosomycin_g1     s41598-020-77982-3   \n",
       "38          Drosomycin_g2     s41598-020-77982-3   \n",
       "39          Drosomycin_g4     s41598-020-77982-3   \n",
       "40          Drosomycin_g5     s41598-020-77982-3   \n",
       "41          Drosomycin_g6     s41598-020-77982-3   \n",
       "42          Drosomycin_g7     s41598-020-77982-3   \n",
       "43          Drosomycin_g8     s41598-020-77982-3   \n",
       "44          Drosomycin_g9     s41598-020-77982-3   \n",
       "45         Drosomycin_g10     s41598-020-77982-3   \n",
       "46         Drosomycin_g11     s41598-020-77982-3   \n",
       "47         Drosomycin_g12     s41598-020-77982-3   \n",
       "48         Drosomycin_g13     s41598-020-77982-3   \n",
       "49        Attacin-like_g1     s41598-020-77982-3   \n",
       "50        Attacin-like_g2     s41598-020-77982-3   \n",
       "51        Attacin-like_g3     s41598-020-77982-3   \n",
       "58       TR27534|c0_g1_i1           hal-02965337   \n",
       "59                     P3  S2162-2531(20)30132-3   \n",
       "60                    P10  S2162-2531(20)30132-3   \n",
       "61                    P26  S2162-2531(20)30132-3   \n",
       "\n",
       "                                                                                                                        seq  \\\n",
       "0                                                                        ALQICTRNMIDDRLPYVADNVRPGTFIKQQRKQKQQRHHTSGTRKRMAKG   \n",
       "3                                                                              RKKVWFIFHVCPKLKQRILSDTHAKNKCRLSPLLIKSTKIKNET   \n",
       "4                                                                                           CNYISFFRKCKNSQSTMYGCHRMNKCVFSSY   \n",
       "5                                                                                     LMLCKGFLRHSYKSIHERGTKRGKLCRISRLALSSLP   \n",
       "6                                                                           ANLLRHKVYGYCVLGPKGSSLGGIHGTWHDHHCSLIQRNPSTSTKGN   \n",
       "10                                                                                                          RAIKWPGNGLLFLKY   \n",
       "11                                                                                                           KLPIVNVKLVNRIK   \n",
       "12                                                                                                            KRGYQVPRIAFII   \n",
       "13                                                                                                          KLQVVPAIHLVWLQK   \n",
       "14                                                                                                            RCLKTCFLSFIRY   \n",
       "15                                                                                                             RISCVAMRLILK   \n",
       "16                                                                                                             RLLLLCYACGKS   \n",
       "17                                                                                                                RRRCRCCRY   \n",
       "18                                                                                                                RKSWRHWKC   \n",
       "19                                                                                                             KMFTKCIRYRKM   \n",
       "20                                                                                                              KRIFYLYIRGQ   \n",
       "21                                                                                                            KLSNAVFKSCRKI   \n",
       "22                                                                                                            KIGTFIKKLSYTS   \n",
       "23                                               MKSVLLVFLLVVCAVVLAAPLEEHIRRKRFTCDVLGSIEVQGNRINDAACAFHCLWKGESGGWCDDQKRCNCRD   \n",
       "24                                               MKAVLLVFLLVVCAVVLAAPLEEHVRRKRFTCDVLGSIEVQGNRINDAACALHCLWKGESGGWCDDQKRCNCRD   \n",
       "25                                               MKATALVILLLVAANMVLAHPLEEHFREKRFSCDIKITADVFGVKITDTGCNIRCFLERRPGGTCDSHKKCHCR   \n",
       "26                                               MKATVVVILLLVAANMVLAHPLEEHFREKRFSCDIKITADVFGVKITDTGCNIRCFLERRQGGTCDSHKKCHCR   \n",
       "27                                               MKAVLLVFLLVVCAVVLAAPLEEHIRRKRFTCDVLGSVDIKGVQLNDAPCALHCLWDGKSGGHCDDSKVCICRD   \n",
       "28                                               MKAVLLVFLLVVCAVVLAAPLEEHIRRKRFTCDVLGSVSIKDVQLNDAPCALHCLWDGKSGGHCDDSKVCICRD   \n",
       "29                                                  MKAQIFALAFVVCLVAAVVAMPAPEEPEQHLRVRRASCQVLGVVGCSANCFRLGRKKGGYCNKNKICICYK   \n",
       "30                                                  MKAQIFALAFVVCLVAAAVAMPAPEEPEQHLRVRRASCQVLGVVGCSANCFRLGRKKGGYCDKNQICICYQ   \n",
       "31                                        MKAVIFVFLAAACVLVSAAPAQERELSRVKRVTCDLFSIEFGGIKVNDGACAVKCIAWVGKGYHGGHCKDGICTCNKGAEQ   \n",
       "32                                              MKAVIIAFLLFLSVTLGAVALEEKQGHARGPRDLTCIEKIPLVGKVNHALCAAYCISKGKKGGFCKGRDCNCHNQ   \n",
       "33                                              MKAVIIVFLLFLSVTLGAVALQEKQGHAREPRDLTCIEKIPLVGKVNHALCAAYCISKGKKGGFCKGRDCNCHNQ   \n",
       "34                                                          MKVFIFVFLVICAMALGMPANDQLRSERGASCEVAGALGCSAHCIFLGHPKGGHCVSQTCVCY   \n",
       "35                                                         MKQCTSVLLFAAAILVVMAAIVANFGVDACDTNPCWATCQAKLTIYFNSAYCDGDKCVCVSRQP   \n",
       "36                                                         MKQCTSVLLFAASILVVMAAIVANFGVDACDTNPCWATCQAKLTIYFNSAYCDGDKCVCVSRQP   \n",
       "37                                                       MKGYLAIVVLLVLTIGAEIALGDCLSGRYGGPCAVWDNETCRRVCKEEGRSSGHCSPSLKCWCEGC   \n",
       "38                                                       MKGYLVFVVLLVLAIGAEIALGDCLSGRYKGPCAVWDNDTCRRVCKEEGRSSGHCSPSLKCWCEGC   \n",
       "39                                                       MKGYLAIVVLLVLAIGAEIALGDCLSGRYGGPCAVWDNDTCRRVCKEEGRSSGHCSPSLKCWCEGC   \n",
       "40                                                       MKGYLLFTVLLILAIGTEIALGDCLSGRYGGPCAVWDNETCRRVCREEGRRSGHCSASLKCWCEGC   \n",
       "41                                                  MKGYLIYTILLVLTIGTTTVLSDCKILSHHFKGPCYPRYVSHGKECRRKCVQEGFINGRCTPNHKCYCNRC   \n",
       "42                                                       MKGYLIFTILLVLTIGTAVVVSDCPSGKYKGPCFAWNNEKCRRICKEEGHVSGHCSAGLKCWCEGC   \n",
       "43                                                       MKGYLIFTVLLVLTIGTAVVLSDCPSGKFKGPCFAWDNEKCRRICKEEGRISGHCSAGLKCWCEGC   \n",
       "44                                                       MKGYLLFAVLLILAIGTEIALGDCLSGRYKGPCAVWDNETCRRVCGEEGRRSGHCSPSLKCWCEGC   \n",
       "45                                                       MKGYLIFTVLLVLTIGTAVVVSDCPSGKYKGPCFAWNNEKCRRICKEEGHISGHCSAGLKCWCEGC   \n",
       "46                                                       MKGYLIFAILLILAIGTAVVLSDCPSGKFKGPCFAWNNEKCRRICIEEGHVSGHCSAGLKCWCEGC   \n",
       "47                                                       MKGYLIFTVLLVLTIGTAVVLSDCPSGKFKGPCFAWDNEKCRRICKEEGRVSGHCSAGLKCWCEGC   \n",
       "48                                                       MKGYLIFTVLLILTIGTAVVLSDCPSGKFKGPCFAWDNEKCRRICKEEGRVSGHCSAGLKCWCEGC   \n",
       "49   MKVSAILFIALSIAVASTLARPHHHPDHKEDDHQEQPQETHTRVERSPQDDKKVNVHGGIHEQSGVGVVADVHGQGTVWKSDDGKRRVNVEGNWSKVLDGPQRGKPQHSAGVSFDFDW   \n",
       "50  MKVTAILFLVLAIVVASAVAKPHHHPDHKEDDHQEQPQENHSRVVRSPQPEDKKGNVHGGVHEESGKGVVADIHGKGTVWESKDGKSRVQVEGDWSKVIDGPQRGKPQHRGGVSFDFDF   \n",
       "51   MKVSAILFIALSIAVASTLARPHHHPDHKEDDHQEQPQETHTRVERSPQDDKKGNVHGGIHEQSGVGVVADIHGQGTVWKSDDGKRRVNVEGNWSKVLDGPQRGKPQHSAGVSFDFDW   \n",
       "58                                                                         MLFKVIIVIWISVCRECTRGGFCNFMHLKPISRELRRELYGRTRRRRK   \n",
       "59                                                                                                     FWELWKFLKSLWSIFPRRRP   \n",
       "60                                                                                                 ICTTLNWMVKLTCLTHVTLTTRWC   \n",
       "61                                                                                            RWPPTTTLCYLSRPRRCSWTSSVCRCTLT   \n",
       "\n",
       "    length  class  \n",
       "0       50      0  \n",
       "3       44      0  \n",
       "4       31      0  \n",
       "5       37      0  \n",
       "6       47      0  \n",
       "10      15      0  \n",
       "11      14      0  \n",
       "12      13      0  \n",
       "13      15      0  \n",
       "14      13      0  \n",
       "15      12      0  \n",
       "16      12      0  \n",
       "17       9      0  \n",
       "18       9      0  \n",
       "19      12      0  \n",
       "20      11      0  \n",
       "21      13      0  \n",
       "22      13      0  \n",
       "23      74      0  \n",
       "24      74      0  \n",
       "25      74      0  \n",
       "26      74      0  \n",
       "27      74      0  \n",
       "28      74      0  \n",
       "29      71      0  \n",
       "30      71      0  \n",
       "31      81      0  \n",
       "32      75      0  \n",
       "33      75      0  \n",
       "34      63      0  \n",
       "35      64      0  \n",
       "36      64      0  \n",
       "37      66      0  \n",
       "38      66      0  \n",
       "39      66      0  \n",
       "40      66      0  \n",
       "41      71      0  \n",
       "42      66      0  \n",
       "43      66      0  \n",
       "44      66      0  \n",
       "45      66      0  \n",
       "46      66      0  \n",
       "47      66      0  \n",
       "48      66      0  \n",
       "49     118      0  \n",
       "50     119      0  \n",
       "51     118      0  \n",
       "58      48      0  \n",
       "59      20      0  \n",
       "60      24      0  \n",
       "61      29      0  "
      ]
     },
     "execution_count": 11,
     "metadata": {},
     "output_type": "execute_result"
    }
   ],
   "source": [
    "df[df[\"class\"] == 0] "
   ]
  },
  {
   "cell_type": "code",
   "execution_count": 34,
   "metadata": {},
   "outputs": [
    {
     "data": {
      "text/html": [
       "<div>\n",
       "<style scoped>\n",
       "    .dataframe tbody tr th:only-of-type {\n",
       "        vertical-align: middle;\n",
       "    }\n",
       "\n",
       "    .dataframe tbody tr th {\n",
       "        vertical-align: top;\n",
       "    }\n",
       "\n",
       "    .dataframe thead th {\n",
       "        text-align: right;\n",
       "    }\n",
       "</style>\n",
       "<table border=\"1\" class=\"dataframe\">\n",
       "  <thead>\n",
       "    <tr style=\"text-align: right;\">\n",
       "      <th></th>\n",
       "      <th>ID</th>\n",
       "      <th>paper</th>\n",
       "      <th>seq</th>\n",
       "      <th>length</th>\n",
       "      <th>class</th>\n",
       "    </tr>\n",
       "  </thead>\n",
       "  <tbody>\n",
       "    <tr>\n",
       "      <th>1</th>\n",
       "      <td>ISGCock_Contig13_4610</td>\n",
       "      <td>PMC4864078</td>\n",
       "      <td>HLYPCKLNLKLGKVPFHFLNLNHKGKSIMVNQQTCLYYIICQTR</td>\n",
       "      <td>44</td>\n",
       "      <td>1</td>\n",
       "    </tr>\n",
       "    <tr>\n",
       "      <th>2</th>\n",
       "      <td>ISGCock_Contig16_2060</td>\n",
       "      <td>PMC4864078</td>\n",
       "      <td>ISHNHLTAASITHVKNRGKYIYMHLKFRKTNVLI</td>\n",
       "      <td>34</td>\n",
       "      <td>1</td>\n",
       "    </tr>\n",
       "    <tr>\n",
       "      <th>6</th>\n",
       "      <td>ISGCock_Contig13_3006</td>\n",
       "      <td>PMC4864078</td>\n",
       "      <td>ANLLRHKVYGYCVLGPKGSSLGGIHGTWHDHHCSLIQRNPSTSTKGN</td>\n",
       "      <td>47</td>\n",
       "      <td>1</td>\n",
       "    </tr>\n",
       "    <tr>\n",
       "      <th>7</th>\n",
       "      <td>ISGCock_Contig05_0593</td>\n",
       "      <td>PMC4864078</td>\n",
       "      <td>MKTFLRLYRSLINKVLHV</td>\n",
       "      <td>18</td>\n",
       "      <td>1</td>\n",
       "    </tr>\n",
       "    <tr>\n",
       "      <th>8</th>\n",
       "      <td>ISGCock_Contig12_4176</td>\n",
       "      <td>PMC4864078</td>\n",
       "      <td>VVGRKHSILNCIPYLKKKKIMRLVESESIG</td>\n",
       "      <td>30</td>\n",
       "      <td>1</td>\n",
       "    </tr>\n",
       "    <tr>\n",
       "      <th>9</th>\n",
       "      <td>ISGCock_Contig15_1337</td>\n",
       "      <td>PMC4864078</td>\n",
       "      <td>KRMKLNAKKLSFCDHLNSYLNLSPTLFIHNSSKQWSHWLWHNGIRI</td>\n",
       "      <td>46</td>\n",
       "      <td>1</td>\n",
       "    </tr>\n",
       "    <tr>\n",
       "      <th>52</th>\n",
       "      <td>Blattellicin_g1</td>\n",
       "      <td>s41598-020-77982-3</td>\n",
       "      <td>MKITAITFLVMSIAVASSFGRPQGTEEEIQKKLKETFKENGVMVLLERIEQRLIGFGAPMFNSSEELFGERKKERLEKVQESVETAEESEQEQQEQQEQQQQQEQQEQQEQQEHQEQQEHQEQQEHQEQQEHQEHQEHQEQPEQEHQEQPEQEQQEQQEQQEQQEQEPEPVPAPRLVRSALPEDQSEGIHAGINQQPGVGTVVDVSGRKNVYETDDGRGRVNVEGQWSKVIDGPGRGKPQAGAGINFEYKFRK</td>\n",
       "      <td>253</td>\n",
       "      <td>1</td>\n",
       "    </tr>\n",
       "    <tr>\n",
       "      <th>54</th>\n",
       "      <td>Blattellicin_g3</td>\n",
       "      <td>s41598-020-77982-3</td>\n",
       "      <td>MKITAITFLVLSIAVATSFGRPQATEEEIQKKLKETFKENGVMVLLERIEQRLIGFGAPMFDSPEELFGERKKERLEKIQESVETAEESEQEQQEQEQQEHQEQQEHQEQQEHQEQQEHQEQPEQEHQEQPEQEHQEQPEQEHQEQPEHEQQEQQEQQEQQEQQEQQEQQEQHEQEQQEQEPELVPASRLVRSALPEDQSEGIHAGINQQPGVGTVVDVSGRKNVYETDDGRGRVNVEGQWSKVIDGPGREKPQAGAGINFEYKFRK</td>\n",
       "      <td>267</td>\n",
       "      <td>1</td>\n",
       "    </tr>\n",
       "    <tr>\n",
       "      <th>55</th>\n",
       "      <td>Blattellicin_g4</td>\n",
       "      <td>s41598-020-77982-3</td>\n",
       "      <td>MKITAITFLVMSIAVASSFGRPQTTEEEIQKKLKETFKENGFMVLLEKIEQRLIGFGAPMFDSPEELFGEIKKERLEKVQESVETAEESEQEHQEQQEHQEQQEHQEQQEHQEQPEQEHQEQPEQEHQEQPEHEQQEQQEQQEQQEQQEQHEQEQQEQEPEPVPAPRLVRSARPEDQSEGIHAGINQQPGVGTVVDVSGRKNIYETDDGRGRVNVEGQWSKVIDGPGRGKPQAGAGINFEYKFRK</td>\n",
       "      <td>245</td>\n",
       "      <td>1</td>\n",
       "    </tr>\n",
       "    <tr>\n",
       "      <th>56</th>\n",
       "      <td>TR36613|c0_g1_i1</td>\n",
       "      <td>hal-02965337</td>\n",
       "      <td>MKMISRKESLKAPHLSLLISMLHGVGLANYWLLVLRRLLITKKVMWF</td>\n",
       "      <td>47</td>\n",
       "      <td>1</td>\n",
       "    </tr>\n",
       "    <tr>\n",
       "      <th>57</th>\n",
       "      <td>TR42258|c1_g1_i1</td>\n",
       "      <td>hal-02965337</td>\n",
       "      <td>MRYIVCFVFFLFFFLLFLWLVPARTASSFLTPRLSSLGKRSWAV</td>\n",
       "      <td>44</td>\n",
       "      <td>1</td>\n",
       "    </tr>\n",
       "  </tbody>\n",
       "</table>\n",
       "</div>"
      ],
      "text/plain": [
       "                       ID               paper  \\\n",
       "1   ISGCock_Contig13_4610          PMC4864078   \n",
       "2   ISGCock_Contig16_2060          PMC4864078   \n",
       "6   ISGCock_Contig13_3006          PMC4864078   \n",
       "7   ISGCock_Contig05_0593          PMC4864078   \n",
       "8   ISGCock_Contig12_4176          PMC4864078   \n",
       "9   ISGCock_Contig15_1337          PMC4864078   \n",
       "52        Blattellicin_g1  s41598-020-77982-3   \n",
       "54        Blattellicin_g3  s41598-020-77982-3   \n",
       "55        Blattellicin_g4  s41598-020-77982-3   \n",
       "56       TR36613|c0_g1_i1        hal-02965337   \n",
       "57       TR42258|c1_g1_i1        hal-02965337   \n",
       "\n",
       "                                                                                                                                                                                                                                                                            seq  \\\n",
       "1                                                                                                                                                                                                                                  HLYPCKLNLKLGKVPFHFLNLNHKGKSIMVNQQTCLYYIICQTR   \n",
       "2                                                                                                                                                                                                                                            ISHNHLTAASITHVKNRGKYIYMHLKFRKTNVLI   \n",
       "6                                                                                                                                                                                                                               ANLLRHKVYGYCVLGPKGSSLGGIHGTWHDHHCSLIQRNPSTSTKGN   \n",
       "7                                                                                                                                                                                                                                                            MKTFLRLYRSLINKVLHV   \n",
       "8                                                                                                                                                                                                                                                VVGRKHSILNCIPYLKKKKIMRLVESESIG   \n",
       "9                                                                                                                                                                                                                                KRMKLNAKKLSFCDHLNSYLNLSPTLFIHNSSKQWSHWLWHNGIRI   \n",
       "52                MKITAITFLVMSIAVASSFGRPQGTEEEIQKKLKETFKENGVMVLLERIEQRLIGFGAPMFNSSEELFGERKKERLEKVQESVETAEESEQEQQEQQEQQQQQEQQEQQEQQEHQEQQEHQEQQEHQEQQEHQEHQEHQEQPEQEHQEQPEQEQQEQQEQQEQQEQEPEPVPAPRLVRSALPEDQSEGIHAGINQQPGVGTVVDVSGRKNVYETDDGRGRVNVEGQWSKVIDGPGRGKPQAGAGINFEYKFRK   \n",
       "54  MKITAITFLVLSIAVATSFGRPQATEEEIQKKLKETFKENGVMVLLERIEQRLIGFGAPMFDSPEELFGERKKERLEKIQESVETAEESEQEQQEQEQQEHQEQQEHQEQQEHQEQQEHQEQPEQEHQEQPEQEHQEQPEQEHQEQPEHEQQEQQEQQEQQEQQEQQEQQEQHEQEQQEQEPELVPASRLVRSALPEDQSEGIHAGINQQPGVGTVVDVSGRKNVYETDDGRGRVNVEGQWSKVIDGPGREKPQAGAGINFEYKFRK   \n",
       "55                        MKITAITFLVMSIAVASSFGRPQTTEEEIQKKLKETFKENGFMVLLEKIEQRLIGFGAPMFDSPEELFGEIKKERLEKVQESVETAEESEQEHQEQQEHQEQQEHQEQQEHQEQPEQEHQEQPEQEHQEQPEHEQQEQQEQQEQQEQQEQHEQEQQEQEPEPVPAPRLVRSARPEDQSEGIHAGINQQPGVGTVVDVSGRKNIYETDDGRGRVNVEGQWSKVIDGPGRGKPQAGAGINFEYKFRK   \n",
       "56                                                                                                                                                                                                                              MKMISRKESLKAPHLSLLISMLHGVGLANYWLLVLRRLLITKKVMWF   \n",
       "57                                                                                                                                                                                                                                 MRYIVCFVFFLFFFLLFLWLVPARTASSFLTPRLSSLGKRSWAV   \n",
       "\n",
       "    length  class  \n",
       "1       44      1  \n",
       "2       34      1  \n",
       "6       47      1  \n",
       "7       18      1  \n",
       "8       30      1  \n",
       "9       46      1  \n",
       "52     253      1  \n",
       "54     267      1  \n",
       "55     245      1  \n",
       "56      47      1  \n",
       "57      44      1  "
      ]
     },
     "execution_count": 34,
     "metadata": {},
     "output_type": "execute_result"
    }
   ],
   "source": [
    "df[df[\"class\"] == 1] "
   ]
  },
  {
   "cell_type": "markdown",
   "metadata": {},
   "source": [
    "Basic Check"
   ]
  },
  {
   "cell_type": "code",
   "execution_count": 22,
   "metadata": {},
   "outputs": [
    {
     "data": {
      "text/plain": [
       "count     62.000000\n",
       "mean      63.241935\n",
       "std       57.188410\n",
       "min        9.000000\n",
       "25%       25.250000\n",
       "50%       64.000000\n",
       "75%       73.250000\n",
       "max      267.000000\n",
       "Name: length, dtype: float64"
      ]
     },
     "execution_count": 22,
     "metadata": {},
     "output_type": "execute_result"
    }
   ],
   "source": [
    "df[\"length\"].describe()"
   ]
  },
  {
   "cell_type": "markdown",
   "metadata": {},
   "source": [
    "check these data exist in training set"
   ]
  },
  {
   "cell_type": "code",
   "execution_count": 23,
   "metadata": {},
   "outputs": [
    {
     "data": {
      "text/html": [
       "<div>\n",
       "<style scoped>\n",
       "    .dataframe tbody tr th:only-of-type {\n",
       "        vertical-align: middle;\n",
       "    }\n",
       "\n",
       "    .dataframe tbody tr th {\n",
       "        vertical-align: top;\n",
       "    }\n",
       "\n",
       "    .dataframe thead th {\n",
       "        text-align: right;\n",
       "    }\n",
       "</style>\n",
       "<table border=\"1\" class=\"dataframe\">\n",
       "  <thead>\n",
       "    <tr style=\"text-align: right;\">\n",
       "      <th></th>\n",
       "      <th>ID</th>\n",
       "      <th>Sequence</th>\n",
       "      <th>length</th>\n",
       "      <th>class</th>\n",
       "    </tr>\n",
       "  </thead>\n",
       "  <tbody>\n",
       "    <tr>\n",
       "      <th>0</th>\n",
       "      <td>EN92515250|C|B3FJD7|phage 201phi2-1 lysin</td>\n",
       "      <td>MAKKSVPLRKPAGSDGQGNIKVPGGPVVLDLGDFDDIFGPMESESPKQGPLGQFYTGLKDSLSDRFKTKDIVRNFLRSAAPDGISNVMGFADEAMAVTRDIKESLERTNAADLQYIAKKAQQILPQVKDYVSEDTYNNISEGLENKIDEYDYTIQSGRDQTAIRRARQEESDSNQIKAAMDNIALTERLNHNKSEQAANARHNQSRAENSIRDVLTTKRFDFMAKSMGMAVDSLQRLAGYNEQVDYGFQRKGLELQFRSYLGIKELVKLSEAHLELNARAYNSIVRNTALADHQKTNRKDLGQIGNGQSNSRGFASNAARAIGGKTLSQFYGNYSGNVQSRVTDSLSQKLGMAVQAIKMGEAGPNLWDNKYSFAGGIAGDFLSDFLLNDLVPMMGREARSPLTKLSNKYGGRHNQAGYLMDNMPAFMQEFVNNNQNQHGWKGSIRNLIAPYVPQFGLQDRLQNGTFQTIDQHAAFNQATQRSIVDAIPGYLARILQEMRMIRTGSDQVAREVFDMTTGKFGVEANMHDNIQNRILPENAVRSASATINDALNQIDKDGKLSAGARKALGERLLRDSSSNQRFDPEAYIRTRGYAQG...</td>\n",
       "      <td>2337</td>\n",
       "      <td>0</td>\n",
       "    </tr>\n",
       "    <tr>\n",
       "      <th>1</th>\n",
       "      <td>EN54061055|C|F8SJ56|phage PhiPA3 lysin</td>\n",
       "      <td>MASKKTTLPKPKGINPQGSIVQLDLDDFDDLFDEDFGLPKKNSPYTDFKSGLKSGFLDKFKTTTVLKNFLRHAAPDGFNRLFGVYDDLVTSAKDIKDSVERTNAADLDYLGRKAKSYLPYLEKHIPNTLYKSMDEGLSRKLEQYNYEMEAGRDQIAIRKRAQQAADENEIKAALDQNTLVSKENFQRSEQGIIKRAAMEKAERNIRDKISAGRFDFTSRAMSMAVDSLTRISAYHEQVSYGMQRKSLELQFRSYLGIRDLVRLTEANMELQDRAFQALVRNTGIPEHKKAGMGSGLLGFGDGRGNASFAKALAGAAFSTLPGFMGNWGGQVEDRVKKSLSGRLADIVSAARMGEGAGSFWDQRYNLAGMMAGEFGSDVINDHIAPWLGSKLRPGATRLAQRFGGRHNQLNYTLDNIPAFLQEFVNNSQNQYGWKGTVRDMIAPFIPQFSLKDRLDNGTYQTIDQQTAFNQLTQRSITEVIPGLLSRAVQELRMIRTGRNDVEREVFDITTGKFTVEKTAQDNVMHRVIPKTAIRNTSGMINDALNNLDQEGQLSPAARKALSERLLRDASTNRRFDPNAYIRAGGYADGLSPDVTN...</td>\n",
       "      <td>2319</td>\n",
       "      <td>0</td>\n",
       "    </tr>\n",
       "    <tr>\n",
       "      <th>2</th>\n",
       "      <td>EN4815120|C|Q8SCY1|phage phiKZ lysin</td>\n",
       "      <td>MAKKVTLPKGQTGATGTTLGQAGNILDLSDVDDIFGDTPKAKKGSPVTEFFNGIKQGLFDSVKPQQALKAFMRSAAPDGFSRMFGVYEDTMSTIRDVKDSVERTSASDLLFLTREAQDLAVKLKDKVPASVFDRLNNRLESQIENYKYAEDSNRNYKEIRRRMEAERDEDELKSAIDQVTLVQRDLAIKAEQGEVKRFAIGQAERGIRDKVSADRFDWMAKAMGQTVDNLSKLASYNEQVNYSIQKKGLEIQFRSMLHLRKIAQQTEATMELLNNGFAALVRNTGIPDHKKSSMKDLVGFNAAQRVSSSFVDNAIQTLPNFLGNFGSAVTNNATRFANENIRNFADAVRAGNMFGADAWENRYNIAGQFAGSYLGDWTRNSVIPVLGRMARPGIERFSNNYLGGRHNQASYLLDNFPAWTQEYMNNYQNTYGARGILRDIMAPFIPQFTLQDRLKTGSYQTIGQDSGFNQLTQRTIVEAIPGYLSRLLQETRMIRTGRDDITREVFDLSTGSFMSVEDSAANTERRLVSRSTVRGVSGALTDVLEAFDPNKELSIDARKALTERLIRDANMNKRFDPEAYARAGGYDRSKVSGETI...</td>\n",
       "      <td>2237</td>\n",
       "      <td>0</td>\n",
       "    </tr>\n",
       "    <tr>\n",
       "      <th>3</th>\n",
       "      <td>EN3016141|D|D2J8A7|bacteriocin</td>\n",
       "      <td>MAETIKGLRIDLSLKDMGVGRSITELKRSFRTLNSDLKVSSKNFEYTEKSTQSYKRRLEELGSAVKVATKNVEALENEYHTVAEAQGHNSKQAQALRAEYNRQATELKFLQDSLNDTTQDYKEFTKAQQIANSGWTKAGNGMTSISKGLDSVSNKLSSTGQSLTNSITKPALIAGGALAGMTAKLGFDRLVGLDSAKAKLEGLGKSTEEVERISKQVANGIKGGMTTMAEGTDVAAGALASGVKEGKELEKYIKLVGDASVGANRPVADMAMIFNRVTGQGKLMTEELNMVEEGMPGFSKAMAKHLGVTYEEFRKMVTEGQVSSKDFMTVMEDFAGNMSGAYAKSFKGMWQNSKAYIGMIGESLLSGAFEQSKDSLREFEKLLQSPGAQQWAKETGEKLATGIEKISSAISGIISWFNSLDKGTQKSIASIMKWSTLILIGIGPVLTIFGKLTGVLAGTFGGLGKVLGFMGKLSTETKNAGSLLGGFTKLFPKLGGAIGLVANPIGLTVLAIGALVAGLVIAYKKSETFRNIVNGAFNAIVTGLSALWNGIKTFLQPVIKAITDFGGELKKTIGDFWAENGAQFMQALSNIKNAFI...</td>\n",
       "      <td>1619</td>\n",
       "      <td>0</td>\n",
       "    </tr>\n",
       "    <tr>\n",
       "      <th>4</th>\n",
       "      <td>EN9175723|BD|Q93IM3|bacteriocin</td>\n",
       "      <td>MAKKKNTYKVPSIIALTLAGTALTTHHAQAADKTQDQSTNKNILNDDKALNQSEQIKSEISKPTANISGTQVYKDPTQIKQASTDNNLNYDAQIDELNNQTSDQMTTQNTYNQNGQDQEAQQKDDSTVKTNQENVENEITSDEATNNVNTSDNVEKQATEAVQNDSVVTDKDDVTSNDSQDVAKDINKFDDTSVEQDNNAVQNDSVVTDKDDVTSNDSQDVTKDSDKSDAASSEQGNNAVQNDSVVTDKDDVTSNDSQDVTKDSDKSDATSNEQDSNAVQQDNSASDKDDVTSDDSQDVAKDSVKSDAASNEQDSNAVQNGSAVTDKDDVISDDSQDVAKDSVKSDAASNEQDSNAVQKDDSTSDIDDVTSDDSQDVAKDSVKSDATSSEQDSNAVQKDDSTSDKDDVTSDDSQDVAKDSVKSDDASNEQDSNAVQKDDIASDKDDVTSDDSQDVAKDSDKSDATSTKQDSNTVQQDDSTSDKDDVTSDDSQDVAKDSDKSDAASSEQDTEALQQDDSTSDKDDVTSDDSQDVTKDSDKSDAASTKQDSNTVQKDGAETTKAVNTTFYSAQAAPKLRVARSADSTVATRSALTKET...</td>\n",
       "      <td>1564</td>\n",
       "      <td>0</td>\n",
       "    </tr>\n",
       "    <tr>\n",
       "      <th>...</th>\n",
       "      <td>...</td>\n",
       "      <td>...</td>\n",
       "      <td>...</td>\n",
       "      <td>...</td>\n",
       "    </tr>\n",
       "    <tr>\n",
       "      <th>41946</th>\n",
       "      <td>UniRef50_B2ABU5 Podospora anserina S mat+ genomic DNA chromosome 2  supercontig 1 (Fragment) n=1 Tax=Podospora anserina (strain S / ATCC MYA-4624 / DSM 980 / FGSC 10383) TaxID=515849 RepID=B2ABU5_PODAN</td>\n",
       "      <td>MKWKAIIAAYGM</td>\n",
       "      <td>12</td>\n",
       "      <td>1</td>\n",
       "    </tr>\n",
       "    <tr>\n",
       "      <th>41947</th>\n",
       "      <td>UniRef50_A0A151HEL5 Zinc finger  C3HC4 type (RING finger) domain-containing protein (Fragment) n=1 Tax=Toxoplasma gondii TgCatPRC2 TaxID=1130821 RepID=A0A151HEL5_TOXGO</td>\n",
       "      <td>GLYFRPRRRASS</td>\n",
       "      <td>12</td>\n",
       "      <td>1</td>\n",
       "    </tr>\n",
       "    <tr>\n",
       "      <th>41948</th>\n",
       "      <td>UniRef50_K2MU79 Retrotransposon hot spot (RHS) protein  putative n=1 Tax=Trypanosoma cruzi marinkellei TaxID=85056 RepID=K2MU79_TRYCR</td>\n",
       "      <td>MESNPMTLVGCG</td>\n",
       "      <td>12</td>\n",
       "      <td>1</td>\n",
       "    </tr>\n",
       "    <tr>\n",
       "      <th>41949</th>\n",
       "      <td>UniRef50_A0A1E1IUT2 Flagellar calcium-binding protein  putative (Fragment) n=1 Tax=Leishmania guyanensis TaxID=5670 RepID=A0A1E1IUT2_LEIGU</td>\n",
       "      <td>IRCVGHWMQAEH</td>\n",
       "      <td>12</td>\n",
       "      <td>1</td>\n",
       "    </tr>\n",
       "    <tr>\n",
       "      <th>41950</th>\n",
       "      <td>UniRef50_A0A0S4ITT4 Dopa decarboxylase  putative (Fragment) n=1 Tax=Bodo saltans TaxID=75058 RepID=A0A0S4ITT4_BODSA</td>\n",
       "      <td>APWSASTLHCPG</td>\n",
       "      <td>12</td>\n",
       "      <td>1</td>\n",
       "    </tr>\n",
       "  </tbody>\n",
       "</table>\n",
       "<p>41951 rows × 4 columns</p>\n",
       "</div>"
      ],
      "text/plain": [
       "                                                                                                                                                                                                              ID  \\\n",
       "0                                                                                                                                                                      EN92515250|C|B3FJD7|phage 201phi2-1 lysin   \n",
       "1                                                                                                                                                                         EN54061055|C|F8SJ56|phage PhiPA3 lysin   \n",
       "2                                                                                                                                                                           EN4815120|C|Q8SCY1|phage phiKZ lysin   \n",
       "3                                                                                                                                                                                 EN3016141|D|D2J8A7|bacteriocin   \n",
       "4                                                                                                                                                                                EN9175723|BD|Q93IM3|bacteriocin   \n",
       "...                                                                                                                                                                                                          ...   \n",
       "41946  UniRef50_B2ABU5 Podospora anserina S mat+ genomic DNA chromosome 2  supercontig 1 (Fragment) n=1 Tax=Podospora anserina (strain S / ATCC MYA-4624 / DSM 980 / FGSC 10383) TaxID=515849 RepID=B2ABU5_PODAN   \n",
       "41947                                    UniRef50_A0A151HEL5 Zinc finger  C3HC4 type (RING finger) domain-containing protein (Fragment) n=1 Tax=Toxoplasma gondii TgCatPRC2 TaxID=1130821 RepID=A0A151HEL5_TOXGO   \n",
       "41948                                                                      UniRef50_K2MU79 Retrotransposon hot spot (RHS) protein  putative n=1 Tax=Trypanosoma cruzi marinkellei TaxID=85056 RepID=K2MU79_TRYCR   \n",
       "41949                                                                 UniRef50_A0A1E1IUT2 Flagellar calcium-binding protein  putative (Fragment) n=1 Tax=Leishmania guyanensis TaxID=5670 RepID=A0A1E1IUT2_LEIGU   \n",
       "41950                                                                                        UniRef50_A0A0S4ITT4 Dopa decarboxylase  putative (Fragment) n=1 Tax=Bodo saltans TaxID=75058 RepID=A0A0S4ITT4_BODSA   \n",
       "\n",
       "                                                                                                                                                                                                                                                                                                                                                                                                                                                                                                                                                                                                                      Sequence  \\\n",
       "0      MAKKSVPLRKPAGSDGQGNIKVPGGPVVLDLGDFDDIFGPMESESPKQGPLGQFYTGLKDSLSDRFKTKDIVRNFLRSAAPDGISNVMGFADEAMAVTRDIKESLERTNAADLQYIAKKAQQILPQVKDYVSEDTYNNISEGLENKIDEYDYTIQSGRDQTAIRRARQEESDSNQIKAAMDNIALTERLNHNKSEQAANARHNQSRAENSIRDVLTTKRFDFMAKSMGMAVDSLQRLAGYNEQVDYGFQRKGLELQFRSYLGIKELVKLSEAHLELNARAYNSIVRNTALADHQKTNRKDLGQIGNGQSNSRGFASNAARAIGGKTLSQFYGNYSGNVQSRVTDSLSQKLGMAVQAIKMGEAGPNLWDNKYSFAGGIAGDFLSDFLLNDLVPMMGREARSPLTKLSNKYGGRHNQAGYLMDNMPAFMQEFVNNNQNQHGWKGSIRNLIAPYVPQFGLQDRLQNGTFQTIDQHAAFNQATQRSIVDAIPGYLARILQEMRMIRTGSDQVAREVFDMTTGKFGVEANMHDNIQNRILPENAVRSASATINDALNQIDKDGKLSAGARKALGERLLRDSSSNQRFDPEAYIRTRGYAQG...   \n",
       "1      MASKKTTLPKPKGINPQGSIVQLDLDDFDDLFDEDFGLPKKNSPYTDFKSGLKSGFLDKFKTTTVLKNFLRHAAPDGFNRLFGVYDDLVTSAKDIKDSVERTNAADLDYLGRKAKSYLPYLEKHIPNTLYKSMDEGLSRKLEQYNYEMEAGRDQIAIRKRAQQAADENEIKAALDQNTLVSKENFQRSEQGIIKRAAMEKAERNIRDKISAGRFDFTSRAMSMAVDSLTRISAYHEQVSYGMQRKSLELQFRSYLGIRDLVRLTEANMELQDRAFQALVRNTGIPEHKKAGMGSGLLGFGDGRGNASFAKALAGAAFSTLPGFMGNWGGQVEDRVKKSLSGRLADIVSAARMGEGAGSFWDQRYNLAGMMAGEFGSDVINDHIAPWLGSKLRPGATRLAQRFGGRHNQLNYTLDNIPAFLQEFVNNSQNQYGWKGTVRDMIAPFIPQFSLKDRLDNGTYQTIDQQTAFNQLTQRSITEVIPGLLSRAVQELRMIRTGRNDVEREVFDITTGKFTVEKTAQDNVMHRVIPKTAIRNTSGMINDALNNLDQEGQLSPAARKALSERLLRDASTNRRFDPNAYIRAGGYADGLSPDVTN...   \n",
       "2      MAKKVTLPKGQTGATGTTLGQAGNILDLSDVDDIFGDTPKAKKGSPVTEFFNGIKQGLFDSVKPQQALKAFMRSAAPDGFSRMFGVYEDTMSTIRDVKDSVERTSASDLLFLTREAQDLAVKLKDKVPASVFDRLNNRLESQIENYKYAEDSNRNYKEIRRRMEAERDEDELKSAIDQVTLVQRDLAIKAEQGEVKRFAIGQAERGIRDKVSADRFDWMAKAMGQTVDNLSKLASYNEQVNYSIQKKGLEIQFRSMLHLRKIAQQTEATMELLNNGFAALVRNTGIPDHKKSSMKDLVGFNAAQRVSSSFVDNAIQTLPNFLGNFGSAVTNNATRFANENIRNFADAVRAGNMFGADAWENRYNIAGQFAGSYLGDWTRNSVIPVLGRMARPGIERFSNNYLGGRHNQASYLLDNFPAWTQEYMNNYQNTYGARGILRDIMAPFIPQFTLQDRLKTGSYQTIGQDSGFNQLTQRTIVEAIPGYLSRLLQETRMIRTGRDDITREVFDLSTGSFMSVEDSAANTERRLVSRSTVRGVSGALTDVLEAFDPNKELSIDARKALTERLIRDANMNKRFDPEAYARAGGYDRSKVSGETI...   \n",
       "3      MAETIKGLRIDLSLKDMGVGRSITELKRSFRTLNSDLKVSSKNFEYTEKSTQSYKRRLEELGSAVKVATKNVEALENEYHTVAEAQGHNSKQAQALRAEYNRQATELKFLQDSLNDTTQDYKEFTKAQQIANSGWTKAGNGMTSISKGLDSVSNKLSSTGQSLTNSITKPALIAGGALAGMTAKLGFDRLVGLDSAKAKLEGLGKSTEEVERISKQVANGIKGGMTTMAEGTDVAAGALASGVKEGKELEKYIKLVGDASVGANRPVADMAMIFNRVTGQGKLMTEELNMVEEGMPGFSKAMAKHLGVTYEEFRKMVTEGQVSSKDFMTVMEDFAGNMSGAYAKSFKGMWQNSKAYIGMIGESLLSGAFEQSKDSLREFEKLLQSPGAQQWAKETGEKLATGIEKISSAISGIISWFNSLDKGTQKSIASIMKWSTLILIGIGPVLTIFGKLTGVLAGTFGGLGKVLGFMGKLSTETKNAGSLLGGFTKLFPKLGGAIGLVANPIGLTVLAIGALVAGLVIAYKKSETFRNIVNGAFNAIVTGLSALWNGIKTFLQPVIKAITDFGGELKKTIGDFWAENGAQFMQALSNIKNAFI...   \n",
       "4      MAKKKNTYKVPSIIALTLAGTALTTHHAQAADKTQDQSTNKNILNDDKALNQSEQIKSEISKPTANISGTQVYKDPTQIKQASTDNNLNYDAQIDELNNQTSDQMTTQNTYNQNGQDQEAQQKDDSTVKTNQENVENEITSDEATNNVNTSDNVEKQATEAVQNDSVVTDKDDVTSNDSQDVAKDINKFDDTSVEQDNNAVQNDSVVTDKDDVTSNDSQDVTKDSDKSDAASSEQGNNAVQNDSVVTDKDDVTSNDSQDVTKDSDKSDATSNEQDSNAVQQDNSASDKDDVTSDDSQDVAKDSVKSDAASNEQDSNAVQNGSAVTDKDDVISDDSQDVAKDSVKSDAASNEQDSNAVQKDDSTSDIDDVTSDDSQDVAKDSVKSDATSSEQDSNAVQKDDSTSDKDDVTSDDSQDVAKDSVKSDDASNEQDSNAVQKDDIASDKDDVTSDDSQDVAKDSDKSDATSTKQDSNTVQQDDSTSDKDDVTSDDSQDVAKDSDKSDAASSEQDTEALQQDDSTSDKDDVTSDDSQDVTKDSDKSDAASTKQDSNTVQKDGAETTKAVNTTFYSAQAAPKLRVARSADSTVATRSALTKET...   \n",
       "...                                                                                                                                                                                                                                                                                                                                                                                                                                                                                                                                                                                                                        ...   \n",
       "41946                                                                                                                                                                                                                                                                                                                                                                                                                                                                                                                                                                                                             MKWKAIIAAYGM   \n",
       "41947                                                                                                                                                                                                                                                                                                                                                                                                                                                                                                                                                                                                             GLYFRPRRRASS   \n",
       "41948                                                                                                                                                                                                                                                                                                                                                                                                                                                                                                                                                                                                             MESNPMTLVGCG   \n",
       "41949                                                                                                                                                                                                                                                                                                                                                                                                                                                                                                                                                                                                             IRCVGHWMQAEH   \n",
       "41950                                                                                                                                                                                                                                                                                                                                                                                                                                                                                                                                                                                                             APWSASTLHCPG   \n",
       "\n",
       "       length  class  \n",
       "0        2337      0  \n",
       "1        2319      0  \n",
       "2        2237      0  \n",
       "3        1619      0  \n",
       "4        1564      0  \n",
       "...       ...    ...  \n",
       "41946      12      1  \n",
       "41947      12      1  \n",
       "41948      12      1  \n",
       "41949      12      1  \n",
       "41950      12      1  \n",
       "\n",
       "[41951 rows x 4 columns]"
      ]
     },
     "execution_count": 23,
     "metadata": {},
     "output_type": "execute_result"
    }
   ],
   "source": [
    "training_AMPs_df=pd.read_csv(\"../datasets/deduplicate/AMPS_NonAMPs.ready.csv\",sep=',',header=0,quoting=csv.QUOTE_ALL)\n",
    "training_AMPs_df # Class 0= AMPs , 1=NonAMps"
   ]
  },
  {
   "cell_type": "code",
   "execution_count": 26,
   "metadata": {},
   "outputs": [
    {
     "data": {
      "text/html": [
       "<div>\n",
       "<style scoped>\n",
       "    .dataframe tbody tr th:only-of-type {\n",
       "        vertical-align: middle;\n",
       "    }\n",
       "\n",
       "    .dataframe tbody tr th {\n",
       "        vertical-align: top;\n",
       "    }\n",
       "\n",
       "    .dataframe thead th {\n",
       "        text-align: right;\n",
       "    }\n",
       "</style>\n",
       "<table border=\"1\" class=\"dataframe\">\n",
       "  <thead>\n",
       "    <tr style=\"text-align: right;\">\n",
       "      <th></th>\n",
       "      <th>ID</th>\n",
       "      <th>Sequence</th>\n",
       "      <th>length</th>\n",
       "      <th>class</th>\n",
       "    </tr>\n",
       "  </thead>\n",
       "  <tbody>\n",
       "    <tr>\n",
       "      <th>15427</th>\n",
       "      <td>AP02705|ISGCock_Contig05_0593 (insects, arthropods, invertebrates, animals, UCLL1)</td>\n",
       "      <td>MKTFLRLYRSLINKVLHV</td>\n",
       "      <td>18</td>\n",
       "      <td>0</td>\n",
       "    </tr>\n",
       "  </tbody>\n",
       "</table>\n",
       "</div>"
      ],
      "text/plain": [
       "                                                                                       ID  \\\n",
       "15427  AP02705|ISGCock_Contig05_0593 (insects, arthropods, invertebrates, animals, UCLL1)   \n",
       "\n",
       "                 Sequence  length  class  \n",
       "15427  MKTFLRLYRSLINKVLHV      18      0  "
      ]
     },
     "execution_count": 26,
     "metadata": {},
     "output_type": "execute_result"
    }
   ],
   "source": [
    "query_list = df[\"seq\"]\n",
    "training_AMPs_df[training_AMPs_df['Sequence'].isin(query_list)]"
   ]
  },
  {
   "cell_type": "markdown",
   "metadata": {},
   "source": [
    "# Predict on Shuffled sequences"
   ]
  },
  {
   "cell_type": "code",
   "execution_count": 153,
   "metadata": {},
   "outputs": [],
   "source": [
    "df= pd.read_pickle(\"../datasets/truthset/AMPs_truthset_42.reps.plk\")\n",
    "#df[df[\"length\"] < 200] "
   ]
  },
  {
   "cell_type": "code",
   "execution_count": 4,
   "metadata": {},
   "outputs": [],
   "source": [
    "def predict(_df ,condition):\n",
    "    #df = _df.loc[_df.length > 30 ].copy() \n",
    "    #df = _df.loc[_df.length <= 30 ].copy()\n",
    "    if condition == 0:\n",
    "        df = _df.copy()\n",
    "    elif condition == -1 :\n",
    "        df = _df.loc[_df.length <= 30 ].copy()\n",
    "    else:\n",
    "        df = _df.loc[_df.length > condition ].copy() # select records with lenght > \n",
    "    #print(df.columns)\n",
    "    ready_df = df[[ \"reps\"]]\n",
    "    df_new = ready_df.reps.apply(pd.Series).astype(np.float64)\n",
    "    df_new.columns = df_new.columns.astype(str)\n",
    "    dl = learner.dls.test_dl(df_new)\n",
    "    _preds,_none ,_y = learner.get_preds(dl=dl, with_decoded=True)\n",
    "    df['class'] = _y\n",
    "    #df.drop(columns=['reps'],inplace =True)\n",
    "    accuracy = (len(df[df[\"class\"] == 1])/len(df) )*100\n",
    "    #print(\"predict AMP :\"+str(len(df[df[\"class\"] == 0])))\n",
    "    #print(\"predict NonAMP:\"+str(len(df[df[\"class\"] == 1])))\n",
    "    #print(\"predict NonAMP (in percentage):\"+str(accuracy))\n",
    "    return len(df[df[\"class\"] == 1])"
   ]
  },
  {
   "cell_type": "code",
   "execution_count": 5,
   "metadata": {},
   "outputs": [
    {
     "data": {
      "text/html": [
       "<div>\n",
       "<style scoped>\n",
       "    .dataframe tbody tr th:only-of-type {\n",
       "        vertical-align: middle;\n",
       "    }\n",
       "\n",
       "    .dataframe tbody tr th {\n",
       "        vertical-align: top;\n",
       "    }\n",
       "\n",
       "    .dataframe thead th {\n",
       "        text-align: right;\n",
       "    }\n",
       "</style>\n",
       "<table border=\"1\" class=\"dataframe\">\n",
       "  <thead>\n",
       "    <tr style=\"text-align: right;\">\n",
       "      <th></th>\n",
       "      <th>no_con</th>\n",
       "      <th>&gt;200</th>\n",
       "      <th>&gt;100</th>\n",
       "      <th>&gt;70</th>\n",
       "      <th>&gt;50</th>\n",
       "      <th>&gt;30</th>\n",
       "      <th>30&lt;=</th>\n",
       "    </tr>\n",
       "  </thead>\n",
       "  <tbody>\n",
       "    <tr>\n",
       "      <th>shuff1</th>\n",
       "      <td>NaN</td>\n",
       "      <td>NaN</td>\n",
       "      <td>NaN</td>\n",
       "      <td>NaN</td>\n",
       "      <td>NaN</td>\n",
       "      <td>NaN</td>\n",
       "      <td>NaN</td>\n",
       "    </tr>\n",
       "    <tr>\n",
       "      <th>shuff2</th>\n",
       "      <td>NaN</td>\n",
       "      <td>NaN</td>\n",
       "      <td>NaN</td>\n",
       "      <td>NaN</td>\n",
       "      <td>NaN</td>\n",
       "      <td>NaN</td>\n",
       "      <td>NaN</td>\n",
       "    </tr>\n",
       "    <tr>\n",
       "      <th>shuff3</th>\n",
       "      <td>NaN</td>\n",
       "      <td>NaN</td>\n",
       "      <td>NaN</td>\n",
       "      <td>NaN</td>\n",
       "      <td>NaN</td>\n",
       "      <td>NaN</td>\n",
       "      <td>NaN</td>\n",
       "    </tr>\n",
       "    <tr>\n",
       "      <th>shuff4</th>\n",
       "      <td>NaN</td>\n",
       "      <td>NaN</td>\n",
       "      <td>NaN</td>\n",
       "      <td>NaN</td>\n",
       "      <td>NaN</td>\n",
       "      <td>NaN</td>\n",
       "      <td>NaN</td>\n",
       "    </tr>\n",
       "    <tr>\n",
       "      <th>shuff5</th>\n",
       "      <td>NaN</td>\n",
       "      <td>NaN</td>\n",
       "      <td>NaN</td>\n",
       "      <td>NaN</td>\n",
       "      <td>NaN</td>\n",
       "      <td>NaN</td>\n",
       "      <td>NaN</td>\n",
       "    </tr>\n",
       "    <tr>\n",
       "      <th>shuff6</th>\n",
       "      <td>NaN</td>\n",
       "      <td>NaN</td>\n",
       "      <td>NaN</td>\n",
       "      <td>NaN</td>\n",
       "      <td>NaN</td>\n",
       "      <td>NaN</td>\n",
       "      <td>NaN</td>\n",
       "    </tr>\n",
       "    <tr>\n",
       "      <th>shuff7</th>\n",
       "      <td>NaN</td>\n",
       "      <td>NaN</td>\n",
       "      <td>NaN</td>\n",
       "      <td>NaN</td>\n",
       "      <td>NaN</td>\n",
       "      <td>NaN</td>\n",
       "      <td>NaN</td>\n",
       "    </tr>\n",
       "    <tr>\n",
       "      <th>shuff8</th>\n",
       "      <td>NaN</td>\n",
       "      <td>NaN</td>\n",
       "      <td>NaN</td>\n",
       "      <td>NaN</td>\n",
       "      <td>NaN</td>\n",
       "      <td>NaN</td>\n",
       "      <td>NaN</td>\n",
       "    </tr>\n",
       "    <tr>\n",
       "      <th>shuff9</th>\n",
       "      <td>NaN</td>\n",
       "      <td>NaN</td>\n",
       "      <td>NaN</td>\n",
       "      <td>NaN</td>\n",
       "      <td>NaN</td>\n",
       "      <td>NaN</td>\n",
       "      <td>NaN</td>\n",
       "    </tr>\n",
       "    <tr>\n",
       "      <th>shuff10</th>\n",
       "      <td>NaN</td>\n",
       "      <td>NaN</td>\n",
       "      <td>NaN</td>\n",
       "      <td>NaN</td>\n",
       "      <td>NaN</td>\n",
       "      <td>NaN</td>\n",
       "      <td>NaN</td>\n",
       "    </tr>\n",
       "  </tbody>\n",
       "</table>\n",
       "</div>"
      ],
      "text/plain": [
       "        no_con >200 >100  >70  >50  >30 30<=\n",
       "shuff1     NaN  NaN  NaN  NaN  NaN  NaN  NaN\n",
       "shuff2     NaN  NaN  NaN  NaN  NaN  NaN  NaN\n",
       "shuff3     NaN  NaN  NaN  NaN  NaN  NaN  NaN\n",
       "shuff4     NaN  NaN  NaN  NaN  NaN  NaN  NaN\n",
       "shuff5     NaN  NaN  NaN  NaN  NaN  NaN  NaN\n",
       "shuff6     NaN  NaN  NaN  NaN  NaN  NaN  NaN\n",
       "shuff7     NaN  NaN  NaN  NaN  NaN  NaN  NaN\n",
       "shuff8     NaN  NaN  NaN  NaN  NaN  NaN  NaN\n",
       "shuff9     NaN  NaN  NaN  NaN  NaN  NaN  NaN\n",
       "shuff10    NaN  NaN  NaN  NaN  NaN  NaN  NaN"
      ]
     },
     "execution_count": 5,
     "metadata": {},
     "output_type": "execute_result"
    }
   ],
   "source": [
    "result_df = pd.DataFrame( columns=[\"no_con\",\">200\",\">100\",\">70\",\">50\",\">30\",\"30<=\"],\n",
    "    index = ['shuff1','shuff2', 'shuff3',\"shuff4\",\"shuff5\",\"shuff6\",\"shuff7\",\"shuff8\",\"shuff9\",\"shuff10\"])\n",
    "result_df"
   ]
  },
  {
   "cell_type": "code",
   "execution_count": 6,
   "metadata": {},
   "outputs": [
    {
     "data": {
      "text/html": [],
      "text/plain": [
       "<IPython.core.display.HTML object>"
      ]
     },
     "metadata": {},
     "output_type": "display_data"
    },
    {
     "data": {
      "text/html": [],
      "text/plain": [
       "<IPython.core.display.HTML object>"
      ]
     },
     "metadata": {},
     "output_type": "display_data"
    },
    {
     "data": {
      "text/html": [],
      "text/plain": [
       "<IPython.core.display.HTML object>"
      ]
     },
     "metadata": {},
     "output_type": "display_data"
    },
    {
     "data": {
      "text/html": [],
      "text/plain": [
       "<IPython.core.display.HTML object>"
      ]
     },
     "metadata": {},
     "output_type": "display_data"
    },
    {
     "data": {
      "text/html": [],
      "text/plain": [
       "<IPython.core.display.HTML object>"
      ]
     },
     "metadata": {},
     "output_type": "display_data"
    },
    {
     "data": {
      "text/html": [],
      "text/plain": [
       "<IPython.core.display.HTML object>"
      ]
     },
     "metadata": {},
     "output_type": "display_data"
    },
    {
     "data": {
      "text/html": [],
      "text/plain": [
       "<IPython.core.display.HTML object>"
      ]
     },
     "metadata": {},
     "output_type": "display_data"
    }
   ],
   "source": [
    "# shuff1\n",
    "df_ = pd.read_pickle(\"../datasets/truthset/AMPs_truthset_42.reps.plk\")\n",
    "result_df.loc['shuff1', 'no_con']=predict(df_,0)\n",
    "result_df.loc['shuff1', '>200']= predict(df_,200)\n",
    "result_df.loc['shuff1', '>100']=predict(df_,100)\n",
    "result_df.loc['shuff1', '>70']=predict(df_,70)\n",
    "result_df.loc['shuff1', '>50']=predict(df_,50)\n",
    "result_df.loc['shuff1', '>30']=predict(df_,30)\n",
    "result_df.loc['shuff1', '30<=']=predict(df_,-1)"
   ]
  },
  {
   "cell_type": "code",
   "execution_count": 7,
   "metadata": {},
   "outputs": [
    {
     "data": {
      "text/html": [],
      "text/plain": [
       "<IPython.core.display.HTML object>"
      ]
     },
     "metadata": {},
     "output_type": "display_data"
    },
    {
     "data": {
      "text/html": [],
      "text/plain": [
       "<IPython.core.display.HTML object>"
      ]
     },
     "metadata": {},
     "output_type": "display_data"
    },
    {
     "data": {
      "text/html": [],
      "text/plain": [
       "<IPython.core.display.HTML object>"
      ]
     },
     "metadata": {},
     "output_type": "display_data"
    },
    {
     "data": {
      "text/html": [],
      "text/plain": [
       "<IPython.core.display.HTML object>"
      ]
     },
     "metadata": {},
     "output_type": "display_data"
    },
    {
     "data": {
      "text/html": [],
      "text/plain": [
       "<IPython.core.display.HTML object>"
      ]
     },
     "metadata": {},
     "output_type": "display_data"
    },
    {
     "data": {
      "text/html": [],
      "text/plain": [
       "<IPython.core.display.HTML object>"
      ]
     },
     "metadata": {},
     "output_type": "display_data"
    },
    {
     "data": {
      "text/html": [],
      "text/plain": [
       "<IPython.core.display.HTML object>"
      ]
     },
     "metadata": {},
     "output_type": "display_data"
    }
   ],
   "source": [
    "# shuff2\n",
    "df_ = pd.read_pickle(\"../datasets/truthset/AMPs_truthset_43.reps.plk\")\n",
    "result_df.loc['shuff2', 'no_con']=predict(df_,0)\n",
    "result_df.loc['shuff2', '>200']= predict(df_,200)\n",
    "result_df.loc['shuff2', '>100']=predict(df_,100)\n",
    "result_df.loc['shuff2', '>70']=predict(df_,70)\n",
    "result_df.loc['shuff2', '>50']=predict(df_,50)\n",
    "result_df.loc['shuff2', '>30']=predict(df_,30)\n",
    "result_df.loc['shuff2', '30<=']=predict(df_,-1)"
   ]
  },
  {
   "cell_type": "code",
   "execution_count": 8,
   "metadata": {},
   "outputs": [
    {
     "data": {
      "text/html": [],
      "text/plain": [
       "<IPython.core.display.HTML object>"
      ]
     },
     "metadata": {},
     "output_type": "display_data"
    },
    {
     "data": {
      "text/html": [],
      "text/plain": [
       "<IPython.core.display.HTML object>"
      ]
     },
     "metadata": {},
     "output_type": "display_data"
    },
    {
     "data": {
      "text/html": [],
      "text/plain": [
       "<IPython.core.display.HTML object>"
      ]
     },
     "metadata": {},
     "output_type": "display_data"
    },
    {
     "data": {
      "text/html": [],
      "text/plain": [
       "<IPython.core.display.HTML object>"
      ]
     },
     "metadata": {},
     "output_type": "display_data"
    },
    {
     "data": {
      "text/html": [],
      "text/plain": [
       "<IPython.core.display.HTML object>"
      ]
     },
     "metadata": {},
     "output_type": "display_data"
    },
    {
     "data": {
      "text/html": [],
      "text/plain": [
       "<IPython.core.display.HTML object>"
      ]
     },
     "metadata": {},
     "output_type": "display_data"
    },
    {
     "data": {
      "text/html": [],
      "text/plain": [
       "<IPython.core.display.HTML object>"
      ]
     },
     "metadata": {},
     "output_type": "display_data"
    }
   ],
   "source": [
    "# shuff3\n",
    "df_ = pd.read_pickle(\"../datasets/truthset/AMPs_truthset_44.reps.plk\")\n",
    "result_df.loc['shuff3', 'no_con']=predict(df_,0)\n",
    "result_df.loc['shuff3', '>200']= predict(df_,200)\n",
    "result_df.loc['shuff3', '>100']=predict(df_,100)\n",
    "result_df.loc['shuff3', '>70']=predict(df_,70)\n",
    "result_df.loc['shuff3', '>50']=predict(df_,50)\n",
    "result_df.loc['shuff3', '>30']=predict(df_,30)\n",
    "result_df.loc['shuff3', '30<=']=predict(df_,-1)"
   ]
  },
  {
   "cell_type": "code",
   "execution_count": 9,
   "metadata": {},
   "outputs": [
    {
     "data": {
      "text/html": [],
      "text/plain": [
       "<IPython.core.display.HTML object>"
      ]
     },
     "metadata": {},
     "output_type": "display_data"
    },
    {
     "data": {
      "text/html": [],
      "text/plain": [
       "<IPython.core.display.HTML object>"
      ]
     },
     "metadata": {},
     "output_type": "display_data"
    },
    {
     "data": {
      "text/html": [],
      "text/plain": [
       "<IPython.core.display.HTML object>"
      ]
     },
     "metadata": {},
     "output_type": "display_data"
    },
    {
     "data": {
      "text/html": [],
      "text/plain": [
       "<IPython.core.display.HTML object>"
      ]
     },
     "metadata": {},
     "output_type": "display_data"
    },
    {
     "data": {
      "text/html": [],
      "text/plain": [
       "<IPython.core.display.HTML object>"
      ]
     },
     "metadata": {},
     "output_type": "display_data"
    },
    {
     "data": {
      "text/html": [],
      "text/plain": [
       "<IPython.core.display.HTML object>"
      ]
     },
     "metadata": {},
     "output_type": "display_data"
    },
    {
     "data": {
      "text/html": [],
      "text/plain": [
       "<IPython.core.display.HTML object>"
      ]
     },
     "metadata": {},
     "output_type": "display_data"
    }
   ],
   "source": [
    "# shuff4\n",
    "df_ = pd.read_pickle(\"../datasets/truthset/AMPs_truthset_45.reps.plk\")\n",
    "index = \"shuff4\"\n",
    "result_df.loc[index, 'no_con']=predict(df_,0)\n",
    "result_df.loc[index, '>200']= predict(df_,200)\n",
    "result_df.loc[index, '>100']=predict(df_,100)\n",
    "result_df.loc[index, '>70']=predict(df_,70)\n",
    "result_df.loc[index, '>50']=predict(df_,50)\n",
    "result_df.loc[index, '>30']=predict(df_,30)\n",
    "result_df.loc[index, '30<=']=predict(df_,-1)"
   ]
  },
  {
   "cell_type": "code",
   "execution_count": 10,
   "metadata": {},
   "outputs": [
    {
     "data": {
      "text/html": [],
      "text/plain": [
       "<IPython.core.display.HTML object>"
      ]
     },
     "metadata": {},
     "output_type": "display_data"
    },
    {
     "data": {
      "text/html": [],
      "text/plain": [
       "<IPython.core.display.HTML object>"
      ]
     },
     "metadata": {},
     "output_type": "display_data"
    },
    {
     "data": {
      "text/html": [],
      "text/plain": [
       "<IPython.core.display.HTML object>"
      ]
     },
     "metadata": {},
     "output_type": "display_data"
    },
    {
     "data": {
      "text/html": [],
      "text/plain": [
       "<IPython.core.display.HTML object>"
      ]
     },
     "metadata": {},
     "output_type": "display_data"
    },
    {
     "data": {
      "text/html": [],
      "text/plain": [
       "<IPython.core.display.HTML object>"
      ]
     },
     "metadata": {},
     "output_type": "display_data"
    },
    {
     "data": {
      "text/html": [],
      "text/plain": [
       "<IPython.core.display.HTML object>"
      ]
     },
     "metadata": {},
     "output_type": "display_data"
    },
    {
     "data": {
      "text/html": [],
      "text/plain": [
       "<IPython.core.display.HTML object>"
      ]
     },
     "metadata": {},
     "output_type": "display_data"
    }
   ],
   "source": [
    "# shuff5\n",
    "df_ = pd.read_pickle(\"../datasets/truthset/AMPs_truthset_46.reps.plk\")\n",
    "index = \"shuff5\"\n",
    "result_df.loc[index, 'no_con']=predict(df_,0)\n",
    "result_df.loc[index, '>200']= predict(df_,200)\n",
    "result_df.loc[index, '>100']=predict(df_,100)\n",
    "result_df.loc[index, '>70']=predict(df_,70)\n",
    "result_df.loc[index, '>50']=predict(df_,50)\n",
    "result_df.loc[index, '>30']=predict(df_,30)\n",
    "result_df.loc[index, '30<=']=predict(df_,-1)"
   ]
  },
  {
   "cell_type": "code",
   "execution_count": 11,
   "metadata": {},
   "outputs": [
    {
     "data": {
      "text/html": [],
      "text/plain": [
       "<IPython.core.display.HTML object>"
      ]
     },
     "metadata": {},
     "output_type": "display_data"
    },
    {
     "data": {
      "text/html": [],
      "text/plain": [
       "<IPython.core.display.HTML object>"
      ]
     },
     "metadata": {},
     "output_type": "display_data"
    },
    {
     "data": {
      "text/html": [],
      "text/plain": [
       "<IPython.core.display.HTML object>"
      ]
     },
     "metadata": {},
     "output_type": "display_data"
    },
    {
     "data": {
      "text/html": [],
      "text/plain": [
       "<IPython.core.display.HTML object>"
      ]
     },
     "metadata": {},
     "output_type": "display_data"
    },
    {
     "data": {
      "text/html": [],
      "text/plain": [
       "<IPython.core.display.HTML object>"
      ]
     },
     "metadata": {},
     "output_type": "display_data"
    },
    {
     "data": {
      "text/html": [],
      "text/plain": [
       "<IPython.core.display.HTML object>"
      ]
     },
     "metadata": {},
     "output_type": "display_data"
    },
    {
     "data": {
      "text/html": [],
      "text/plain": [
       "<IPython.core.display.HTML object>"
      ]
     },
     "metadata": {},
     "output_type": "display_data"
    }
   ],
   "source": [
    "# shuff6\n",
    "df_ = pd.read_pickle(\"../datasets/truthset/AMPs_truthset_47.reps.plk\")\n",
    "index = \"shuff6\"\n",
    "result_df.loc[index, 'no_con']=predict(df_,0)\n",
    "result_df.loc[index, '>200']= predict(df_,200)\n",
    "result_df.loc[index, '>100']=predict(df_,100)\n",
    "result_df.loc[index, '>70']=predict(df_,70)\n",
    "result_df.loc[index, '>50']=predict(df_,50)\n",
    "result_df.loc[index, '>30']=predict(df_,30)\n",
    "result_df.loc[index, '30<=']=predict(df_,-1)"
   ]
  },
  {
   "cell_type": "code",
   "execution_count": 12,
   "metadata": {},
   "outputs": [
    {
     "data": {
      "text/html": [],
      "text/plain": [
       "<IPython.core.display.HTML object>"
      ]
     },
     "metadata": {},
     "output_type": "display_data"
    },
    {
     "data": {
      "text/html": [],
      "text/plain": [
       "<IPython.core.display.HTML object>"
      ]
     },
     "metadata": {},
     "output_type": "display_data"
    },
    {
     "data": {
      "text/html": [],
      "text/plain": [
       "<IPython.core.display.HTML object>"
      ]
     },
     "metadata": {},
     "output_type": "display_data"
    },
    {
     "data": {
      "text/html": [],
      "text/plain": [
       "<IPython.core.display.HTML object>"
      ]
     },
     "metadata": {},
     "output_type": "display_data"
    },
    {
     "data": {
      "text/html": [],
      "text/plain": [
       "<IPython.core.display.HTML object>"
      ]
     },
     "metadata": {},
     "output_type": "display_data"
    },
    {
     "data": {
      "text/html": [],
      "text/plain": [
       "<IPython.core.display.HTML object>"
      ]
     },
     "metadata": {},
     "output_type": "display_data"
    },
    {
     "data": {
      "text/html": [],
      "text/plain": [
       "<IPython.core.display.HTML object>"
      ]
     },
     "metadata": {},
     "output_type": "display_data"
    }
   ],
   "source": [
    "# shuff7\n",
    "df_ = pd.read_pickle(\"../datasets/truthset/AMPs_truthset_48.reps.plk\")\n",
    "index = \"shuff7\"\n",
    "result_df.loc[index, 'no_con']=predict(df_,0)\n",
    "result_df.loc[index, '>200']= predict(df_,200)\n",
    "result_df.loc[index, '>100']=predict(df_,100)\n",
    "result_df.loc[index, '>70']=predict(df_,70)\n",
    "result_df.loc[index, '>50']=predict(df_,50)\n",
    "result_df.loc[index, '>30']=predict(df_,30)\n",
    "result_df.loc[index, '30<=']=predict(df_,-1)"
   ]
  },
  {
   "cell_type": "code",
   "execution_count": 13,
   "metadata": {},
   "outputs": [
    {
     "data": {
      "text/html": [],
      "text/plain": [
       "<IPython.core.display.HTML object>"
      ]
     },
     "metadata": {},
     "output_type": "display_data"
    },
    {
     "data": {
      "text/html": [],
      "text/plain": [
       "<IPython.core.display.HTML object>"
      ]
     },
     "metadata": {},
     "output_type": "display_data"
    },
    {
     "data": {
      "text/html": [],
      "text/plain": [
       "<IPython.core.display.HTML object>"
      ]
     },
     "metadata": {},
     "output_type": "display_data"
    },
    {
     "data": {
      "text/html": [],
      "text/plain": [
       "<IPython.core.display.HTML object>"
      ]
     },
     "metadata": {},
     "output_type": "display_data"
    },
    {
     "data": {
      "text/html": [],
      "text/plain": [
       "<IPython.core.display.HTML object>"
      ]
     },
     "metadata": {},
     "output_type": "display_data"
    },
    {
     "data": {
      "text/html": [],
      "text/plain": [
       "<IPython.core.display.HTML object>"
      ]
     },
     "metadata": {},
     "output_type": "display_data"
    },
    {
     "data": {
      "text/html": [],
      "text/plain": [
       "<IPython.core.display.HTML object>"
      ]
     },
     "metadata": {},
     "output_type": "display_data"
    }
   ],
   "source": [
    "# shuff8\n",
    "df_ = pd.read_pickle(\"../datasets/truthset/AMPs_truthset_49.reps.plk\")\n",
    "index = \"shuff8\"\n",
    "result_df.loc[index, 'no_con']=predict(df_,0)\n",
    "result_df.loc[index, '>200']= predict(df_,200)\n",
    "result_df.loc[index, '>100']=predict(df_,100)\n",
    "result_df.loc[index, '>70']=predict(df_,70)\n",
    "result_df.loc[index, '>50']=predict(df_,50)\n",
    "result_df.loc[index, '>30']=predict(df_,30)\n",
    "result_df.loc[index, '30<=']=predict(df_,-1)"
   ]
  },
  {
   "cell_type": "code",
   "execution_count": 14,
   "metadata": {},
   "outputs": [
    {
     "data": {
      "text/html": [],
      "text/plain": [
       "<IPython.core.display.HTML object>"
      ]
     },
     "metadata": {},
     "output_type": "display_data"
    },
    {
     "data": {
      "text/html": [],
      "text/plain": [
       "<IPython.core.display.HTML object>"
      ]
     },
     "metadata": {},
     "output_type": "display_data"
    },
    {
     "data": {
      "text/html": [],
      "text/plain": [
       "<IPython.core.display.HTML object>"
      ]
     },
     "metadata": {},
     "output_type": "display_data"
    },
    {
     "data": {
      "text/html": [],
      "text/plain": [
       "<IPython.core.display.HTML object>"
      ]
     },
     "metadata": {},
     "output_type": "display_data"
    },
    {
     "data": {
      "text/html": [],
      "text/plain": [
       "<IPython.core.display.HTML object>"
      ]
     },
     "metadata": {},
     "output_type": "display_data"
    },
    {
     "data": {
      "text/html": [],
      "text/plain": [
       "<IPython.core.display.HTML object>"
      ]
     },
     "metadata": {},
     "output_type": "display_data"
    },
    {
     "data": {
      "text/html": [],
      "text/plain": [
       "<IPython.core.display.HTML object>"
      ]
     },
     "metadata": {},
     "output_type": "display_data"
    }
   ],
   "source": [
    "# shuff9\n",
    "df_ = pd.read_pickle(\"../datasets/truthset/AMPs_truthset_50.reps.plk\")\n",
    "index = \"shuff9\"\n",
    "result_df.loc[index, 'no_con']=predict(df_,0)\n",
    "result_df.loc[index, '>200']= predict(df_,200)\n",
    "result_df.loc[index, '>100']=predict(df_,100)\n",
    "result_df.loc[index, '>70']=predict(df_,70)\n",
    "result_df.loc[index, '>50']=predict(df_,50)\n",
    "result_df.loc[index, '>30']=predict(df_,30)\n",
    "result_df.loc[index, '30<=']=predict(df_,-1)"
   ]
  },
  {
   "cell_type": "code",
   "execution_count": 15,
   "metadata": {},
   "outputs": [
    {
     "data": {
      "text/html": [],
      "text/plain": [
       "<IPython.core.display.HTML object>"
      ]
     },
     "metadata": {},
     "output_type": "display_data"
    },
    {
     "data": {
      "text/html": [],
      "text/plain": [
       "<IPython.core.display.HTML object>"
      ]
     },
     "metadata": {},
     "output_type": "display_data"
    },
    {
     "data": {
      "text/html": [],
      "text/plain": [
       "<IPython.core.display.HTML object>"
      ]
     },
     "metadata": {},
     "output_type": "display_data"
    },
    {
     "data": {
      "text/html": [],
      "text/plain": [
       "<IPython.core.display.HTML object>"
      ]
     },
     "metadata": {},
     "output_type": "display_data"
    },
    {
     "data": {
      "text/html": [],
      "text/plain": [
       "<IPython.core.display.HTML object>"
      ]
     },
     "metadata": {},
     "output_type": "display_data"
    },
    {
     "data": {
      "text/html": [],
      "text/plain": [
       "<IPython.core.display.HTML object>"
      ]
     },
     "metadata": {},
     "output_type": "display_data"
    },
    {
     "data": {
      "text/html": [],
      "text/plain": [
       "<IPython.core.display.HTML object>"
      ]
     },
     "metadata": {},
     "output_type": "display_data"
    }
   ],
   "source": [
    "# shuff10\n",
    "df_ = pd.read_pickle(\"../datasets/truthset/AMPs_truthset_51.reps.plk\")\n",
    "index = \"shuff10\"\n",
    "result_df.loc[index, 'no_con']=predict(df_,0)\n",
    "result_df.loc[index, '>200']= predict(df_,200)\n",
    "result_df.loc[index, '>100']=predict(df_,100)\n",
    "result_df.loc[index, '>70']=predict(df_,70)\n",
    "result_df.loc[index, '>50']=predict(df_,50)\n",
    "result_df.loc[index, '>30']=predict(df_,30)\n",
    "result_df.loc[index, '30<=']=predict(df_,-1)"
   ]
  },
  {
   "cell_type": "code",
   "execution_count": 16,
   "metadata": {},
   "outputs": [
    {
     "data": {
      "text/html": [
       "<div>\n",
       "<style scoped>\n",
       "    .dataframe tbody tr th:only-of-type {\n",
       "        vertical-align: middle;\n",
       "    }\n",
       "\n",
       "    .dataframe tbody tr th {\n",
       "        vertical-align: top;\n",
       "    }\n",
       "\n",
       "    .dataframe thead th {\n",
       "        text-align: right;\n",
       "    }\n",
       "</style>\n",
       "<table border=\"1\" class=\"dataframe\">\n",
       "  <thead>\n",
       "    <tr style=\"text-align: right;\">\n",
       "      <th></th>\n",
       "      <th>no_con</th>\n",
       "      <th>&gt;200</th>\n",
       "      <th>&gt;100</th>\n",
       "      <th>&gt;70</th>\n",
       "      <th>&gt;50</th>\n",
       "      <th>&gt;30</th>\n",
       "      <th>30&lt;=</th>\n",
       "    </tr>\n",
       "  </thead>\n",
       "  <tbody>\n",
       "    <tr>\n",
       "      <th>shuff1</th>\n",
       "      <td>24</td>\n",
       "      <td>4</td>\n",
       "      <td>7</td>\n",
       "      <td>15</td>\n",
       "      <td>16</td>\n",
       "      <td>21</td>\n",
       "      <td>3</td>\n",
       "    </tr>\n",
       "    <tr>\n",
       "      <th>shuff2</th>\n",
       "      <td>25</td>\n",
       "      <td>4</td>\n",
       "      <td>7</td>\n",
       "      <td>11</td>\n",
       "      <td>18</td>\n",
       "      <td>23</td>\n",
       "      <td>2</td>\n",
       "    </tr>\n",
       "    <tr>\n",
       "      <th>shuff3</th>\n",
       "      <td>23</td>\n",
       "      <td>4</td>\n",
       "      <td>6</td>\n",
       "      <td>12</td>\n",
       "      <td>14</td>\n",
       "      <td>20</td>\n",
       "      <td>3</td>\n",
       "    </tr>\n",
       "    <tr>\n",
       "      <th>shuff4</th>\n",
       "      <td>18</td>\n",
       "      <td>4</td>\n",
       "      <td>6</td>\n",
       "      <td>9</td>\n",
       "      <td>11</td>\n",
       "      <td>15</td>\n",
       "      <td>3</td>\n",
       "    </tr>\n",
       "    <tr>\n",
       "      <th>shuff5</th>\n",
       "      <td>23</td>\n",
       "      <td>4</td>\n",
       "      <td>7</td>\n",
       "      <td>13</td>\n",
       "      <td>13</td>\n",
       "      <td>21</td>\n",
       "      <td>2</td>\n",
       "    </tr>\n",
       "    <tr>\n",
       "      <th>shuff6</th>\n",
       "      <td>22</td>\n",
       "      <td>4</td>\n",
       "      <td>7</td>\n",
       "      <td>13</td>\n",
       "      <td>13</td>\n",
       "      <td>18</td>\n",
       "      <td>4</td>\n",
       "    </tr>\n",
       "    <tr>\n",
       "      <th>shuff7</th>\n",
       "      <td>16</td>\n",
       "      <td>4</td>\n",
       "      <td>6</td>\n",
       "      <td>9</td>\n",
       "      <td>9</td>\n",
       "      <td>12</td>\n",
       "      <td>4</td>\n",
       "    </tr>\n",
       "    <tr>\n",
       "      <th>shuff8</th>\n",
       "      <td>25</td>\n",
       "      <td>4</td>\n",
       "      <td>7</td>\n",
       "      <td>12</td>\n",
       "      <td>15</td>\n",
       "      <td>22</td>\n",
       "      <td>3</td>\n",
       "    </tr>\n",
       "    <tr>\n",
       "      <th>shuff9</th>\n",
       "      <td>29</td>\n",
       "      <td>4</td>\n",
       "      <td>7</td>\n",
       "      <td>11</td>\n",
       "      <td>21</td>\n",
       "      <td>26</td>\n",
       "      <td>3</td>\n",
       "    </tr>\n",
       "    <tr>\n",
       "      <th>shuff10</th>\n",
       "      <td>19</td>\n",
       "      <td>4</td>\n",
       "      <td>6</td>\n",
       "      <td>11</td>\n",
       "      <td>12</td>\n",
       "      <td>17</td>\n",
       "      <td>2</td>\n",
       "    </tr>\n",
       "  </tbody>\n",
       "</table>\n",
       "</div>"
      ],
      "text/plain": [
       "        no_con >200 >100 >70 >50 >30 30<=\n",
       "shuff1      24    4    7  15  16  21    3\n",
       "shuff2      25    4    7  11  18  23    2\n",
       "shuff3      23    4    6  12  14  20    3\n",
       "shuff4      18    4    6   9  11  15    3\n",
       "shuff5      23    4    7  13  13  21    2\n",
       "shuff6      22    4    7  13  13  18    4\n",
       "shuff7      16    4    6   9   9  12    4\n",
       "shuff8      25    4    7  12  15  22    3\n",
       "shuff9      29    4    7  11  21  26    3\n",
       "shuff10     19    4    6  11  12  17    2"
      ]
     },
     "execution_count": 16,
     "metadata": {},
     "output_type": "execute_result"
    }
   ],
   "source": [
    "result_df"
   ]
  },
  {
   "cell_type": "markdown",
   "metadata": {},
   "source": [
    "Ten times"
   ]
  },
  {
   "cell_type": "code",
   "execution_count": 25,
   "metadata": {},
   "outputs": [
    {
     "name": "stdout",
     "output_type": "stream",
     "text": [
      "62\n"
     ]
    },
    {
     "data": {
      "text/html": [],
      "text/plain": [
       "<IPython.core.display.HTML object>"
      ]
     },
     "metadata": {},
     "output_type": "display_data"
    },
    {
     "name": "stdout",
     "output_type": "stream",
     "text": [
      "predict AMP :48\n",
      "predict NonAMP:14\n",
      "predict NonAMP (in percentage):22.58064516129032\n"
     ]
    }
   ],
   "source": [
    "df = pd.read_pickle(\"../datasets/truthset/AMPs_truthset_10times.reps.plk\")\n",
    "predict(df)"
   ]
  },
  {
   "cell_type": "code",
   "execution_count": null,
   "metadata": {},
   "outputs": [],
   "source": []
  }
 ],
 "metadata": {
  "colab": {
   "name": "FASTAI_predictor.ipynb",
   "provenance": []
  },
  "kernelspec": {
   "display_name": "Python 3",
   "language": "python",
   "name": "python3"
  },
  "language_info": {
   "codemirror_mode": {
    "name": "ipython",
    "version": 3
   },
   "file_extension": ".py",
   "mimetype": "text/x-python",
   "name": "python",
   "nbconvert_exporter": "python",
   "pygments_lexer": "ipython3",
   "version": "3.7.9"
  }
 },
 "nbformat": 4,
 "nbformat_minor": 4
}
