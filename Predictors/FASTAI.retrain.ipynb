{
 "cells": [
  {
   "cell_type": "code",
   "execution_count": 1,
   "metadata": {
    "id": "XlktI-RZmX5h"
   },
   "outputs": [
    {
     "name": "stdout",
     "output_type": "stream",
     "text": [
      "Note: you may need to restart the kernel to use updated packages.\n"
     ]
    }
   ],
   "source": [
    "pip install -Uqq fastbook"
   ]
  },
  {
   "cell_type": "markdown",
   "metadata": {},
   "source": [
    "In case \"Add persistent_workers class variable to FakeLoader \" error\n",
    "\n",
    "please downgrade py torch version by using -> `conda install pytorch==1.6.0 torchvision==0.7.0 -c pytorch` command\n",
    "\n",
    "* https://github.com/fastai/fastai/pull/2878\n",
    "* https://github.com/lgvaz/faststyle/pull/18\n"
   ]
  },
  {
   "cell_type": "code",
   "execution_count": 1,
   "metadata": {
    "id": "r_WHUIJomX5u",
    "outputId": "968d231a-48ea-48f5-ffa9-9ed6ccbae282"
   },
   "outputs": [],
   "source": [
    "from sklearn.metrics import classification_report\n",
    "\n",
    "from fastai.tabular.all import *\n",
    "from fastai.basics import *\n",
    "from fastai import *\n",
    "\n",
    "import numpy as np\n",
    "import pandas as pd\n",
    "import glob\n",
    "# torch.set_num_threads(10)\n",
    "defaults.device = torch.device('cpu')"
   ]
  },
  {
   "cell_type": "code",
   "execution_count": 2,
   "metadata": {
    "id": "ZascbWaBmX6K"
   },
   "outputs": [],
   "source": [
    "# load the baseline model\n",
    "#learn.load('TubularLearner.fastAI._stage1')\n",
    "deployed_path = \"/mnt/vdb/thesis/TubularLearner.V.retrain\"\n",
    "#deployed_path = \"TubularLearner.fastAI._stage2.pth\"\n",
    "learner = load_learner(deployed_path)\n",
    "\n"
   ]
  },
  {
   "cell_type": "code",
   "execution_count": 3,
   "metadata": {},
   "outputs": [
    {
     "data": {
      "text/plain": [
       "TabularModel(\n",
       "  (embeds): ModuleList()\n",
       "  (emb_drop): Dropout(p=0.5, inplace=False)\n",
       "  (bn_cont): BatchNorm1d(400, eps=1e-05, momentum=0.1, affine=True, track_running_stats=True)\n",
       "  (layers): Sequential(\n",
       "    (0): LinBnDrop(\n",
       "      (0): BatchNorm1d(400, eps=1e-05, momentum=0.1, affine=True, track_running_stats=True)\n",
       "      (1): Linear(in_features=400, out_features=1383, bias=False)\n",
       "      (2): ReLU(inplace=True)\n",
       "    )\n",
       "    (1): LinBnDrop(\n",
       "      (0): BatchNorm1d(1383, eps=1e-05, momentum=0.1, affine=True, track_running_stats=True)\n",
       "      (1): Linear(in_features=1383, out_features=1383, bias=False)\n",
       "      (2): ReLU(inplace=True)\n",
       "    )\n",
       "    (2): LinBnDrop(\n",
       "      (0): BatchNorm1d(1383, eps=1e-05, momentum=0.1, affine=True, track_running_stats=True)\n",
       "      (1): Linear(in_features=1383, out_features=512, bias=False)\n",
       "      (2): ReLU(inplace=True)\n",
       "    )\n",
       "    (3): LinBnDrop(\n",
       "      (0): BatchNorm1d(512, eps=1e-05, momentum=0.1, affine=True, track_running_stats=True)\n",
       "      (1): Linear(in_features=512, out_features=256, bias=False)\n",
       "      (2): ReLU(inplace=True)\n",
       "    )\n",
       "    (4): LinBnDrop(\n",
       "      (0): Linear(in_features=256, out_features=2, bias=True)\n",
       "    )\n",
       "  )\n",
       ")"
      ]
     },
     "execution_count": 3,
     "metadata": {},
     "output_type": "execute_result"
    }
   ],
   "source": [
    "learner.model"
   ]
  },
  {
   "cell_type": "code",
   "execution_count": 14,
   "metadata": {
    "id": "IoTrGO6HmX6E"
   },
   "outputs": [],
   "source": [
    "\n",
    "df = pd.read_pickle(\"../datasets/truthset/pssm/AMPs.truthset.reps.pkl\")\n",
    "ready_df =df[[ \"reps\"]]"
   ]
  },
  {
   "cell_type": "code",
   "execution_count": 15,
   "metadata": {},
   "outputs": [],
   "source": [
    "def lengthDistribution(df,title):\n",
    "    fig = plt.figure()\n",
    "    ax = fig.gca()\n",
    "    pd.Series(df['length']).hist(color='blue', bins=200, ax=ax)\n",
    "    plt.ylabel('Num of Seq with this length ')\n",
    "    plt.xlabel('Length of Seq')\n",
    "    plt.title(title)\n",
    "\n",
    "def plotCharDistribution(dict_counts, char_totalsize, title):\n",
    "    fig = plt.figure()\n",
    "    fig.suptitle(title, fontsize=20)\n",
    "    ax = fig.add_subplot(111)\n",
    "    # The bar chart, with letters along the horizontal axis and the calculated\n",
    "    # letter frequencies as percentages as the bar height\n",
    "    x = range(len(dict_counts))\n",
    "    letters =  dict_counts.keys()\n",
    "    ax.bar(x, [val / char_totalsize * 100 for key,val in dict_counts.items()], width=0.8,\n",
    "        color='g', alpha=0.5, align='center')\n",
    "    ax.set_xticks(x)\n",
    "    ax.set_xticklabels(letters)\n",
    "    ax.tick_params(axis='x', direction='out')\n",
    "    ax.set_xlim(-0.5, 25.5)\n",
    "    ax.yaxis.grid(True)\n",
    "    ax.set_ylabel('Letter frequency, %')\n",
    "\n",
    "def countProtien(df, title):\n",
    "    # count Sequence \n",
    "    records = df['seq']\n",
    "    print(\"Count Records:\", len(records))\n",
    "    # countAminoAcids\n",
    "    counts = Counter()\n",
    "    for index, row in df.iterrows():\n",
    "        line= row['seq']\n",
    "        counts.update(line.rstrip())\n",
    "        total = float(sum(counts.values()))\n",
    "    sorted_dict = {key: value for key, value in sorted(counts.items())}\n",
    "    for key,val in sorted_dict.items():\n",
    "        print(\"{}: {}, ({:.2%})\".format(key,val, val / total))\n",
    "\n",
    "    plotCharDistribution(sorted_dict, total, title)"
   ]
  },
  {
   "cell_type": "code",
   "execution_count": 16,
   "metadata": {
    "collapsed": true,
    "jupyter": {
     "outputs_hidden": true
    },
    "tags": []
   },
   "outputs": [
    {
     "ename": "KeyError",
     "evalue": "'length'",
     "output_type": "error",
     "traceback": [
      "\u001b[0;31m---------------------------------------------------------------------------\u001b[0m",
      "\u001b[0;31mKeyError\u001b[0m                                  Traceback (most recent call last)",
      "\u001b[0;32m~/miniconda3/envs/py3/lib/python3.7/site-packages/pandas/core/indexes/base.py\u001b[0m in \u001b[0;36mget_loc\u001b[0;34m(self, key, method, tolerance)\u001b[0m\n\u001b[1;32m   3079\u001b[0m             \u001b[0;32mtry\u001b[0m\u001b[0;34m:\u001b[0m\u001b[0;34m\u001b[0m\u001b[0;34m\u001b[0m\u001b[0m\n\u001b[0;32m-> 3080\u001b[0;31m                 \u001b[0;32mreturn\u001b[0m \u001b[0mself\u001b[0m\u001b[0;34m.\u001b[0m\u001b[0m_engine\u001b[0m\u001b[0;34m.\u001b[0m\u001b[0mget_loc\u001b[0m\u001b[0;34m(\u001b[0m\u001b[0mcasted_key\u001b[0m\u001b[0;34m)\u001b[0m\u001b[0;34m\u001b[0m\u001b[0;34m\u001b[0m\u001b[0m\n\u001b[0m\u001b[1;32m   3081\u001b[0m             \u001b[0;32mexcept\u001b[0m \u001b[0mKeyError\u001b[0m \u001b[0;32mas\u001b[0m \u001b[0merr\u001b[0m\u001b[0;34m:\u001b[0m\u001b[0;34m\u001b[0m\u001b[0;34m\u001b[0m\u001b[0m\n",
      "\u001b[0;32mpandas/_libs/index.pyx\u001b[0m in \u001b[0;36mpandas._libs.index.IndexEngine.get_loc\u001b[0;34m()\u001b[0m\n",
      "\u001b[0;32mpandas/_libs/index.pyx\u001b[0m in \u001b[0;36mpandas._libs.index.IndexEngine.get_loc\u001b[0;34m()\u001b[0m\n",
      "\u001b[0;32mpandas/_libs/hashtable_class_helper.pxi\u001b[0m in \u001b[0;36mpandas._libs.hashtable.PyObjectHashTable.get_item\u001b[0;34m()\u001b[0m\n",
      "\u001b[0;32mpandas/_libs/hashtable_class_helper.pxi\u001b[0m in \u001b[0;36mpandas._libs.hashtable.PyObjectHashTable.get_item\u001b[0;34m()\u001b[0m\n",
      "\u001b[0;31mKeyError\u001b[0m: 'length'",
      "\nThe above exception was the direct cause of the following exception:\n",
      "\u001b[0;31mKeyError\u001b[0m                                  Traceback (most recent call last)",
      "\u001b[0;32m<ipython-input-16-b792e23af380>\u001b[0m in \u001b[0;36m<module>\u001b[0;34m\u001b[0m\n\u001b[0;32m----> 1\u001b[0;31m \u001b[0mlengthDistribution\u001b[0m\u001b[0;34m(\u001b[0m\u001b[0mdf\u001b[0m\u001b[0;34m,\u001b[0m\u001b[0;34m\"Truth\"\u001b[0m\u001b[0;34m)\u001b[0m\u001b[0;34m\u001b[0m\u001b[0;34m\u001b[0m\u001b[0m\n\u001b[0m\u001b[1;32m      2\u001b[0m \u001b[0mcountProtien\u001b[0m\u001b[0;34m(\u001b[0m\u001b[0mdf\u001b[0m\u001b[0;34m,\u001b[0m\u001b[0;34m\"Truth\"\u001b[0m\u001b[0;34m)\u001b[0m  \u001b[0;31m# \"B|Z|J|U|O\"\u001b[0m\u001b[0;34m\u001b[0m\u001b[0;34m\u001b[0m\u001b[0m\n",
      "\u001b[0;32m<ipython-input-15-85be7f7a2478>\u001b[0m in \u001b[0;36mlengthDistribution\u001b[0;34m(df, title)\u001b[0m\n\u001b[1;32m      2\u001b[0m     \u001b[0mfig\u001b[0m \u001b[0;34m=\u001b[0m \u001b[0mplt\u001b[0m\u001b[0;34m.\u001b[0m\u001b[0mfigure\u001b[0m\u001b[0;34m(\u001b[0m\u001b[0;34m)\u001b[0m\u001b[0;34m\u001b[0m\u001b[0;34m\u001b[0m\u001b[0m\n\u001b[1;32m      3\u001b[0m     \u001b[0max\u001b[0m \u001b[0;34m=\u001b[0m \u001b[0mfig\u001b[0m\u001b[0;34m.\u001b[0m\u001b[0mgca\u001b[0m\u001b[0;34m(\u001b[0m\u001b[0;34m)\u001b[0m\u001b[0;34m\u001b[0m\u001b[0;34m\u001b[0m\u001b[0m\n\u001b[0;32m----> 4\u001b[0;31m     \u001b[0mpd\u001b[0m\u001b[0;34m.\u001b[0m\u001b[0mSeries\u001b[0m\u001b[0;34m(\u001b[0m\u001b[0mdf\u001b[0m\u001b[0;34m[\u001b[0m\u001b[0;34m'length'\u001b[0m\u001b[0;34m]\u001b[0m\u001b[0;34m)\u001b[0m\u001b[0;34m.\u001b[0m\u001b[0mhist\u001b[0m\u001b[0;34m(\u001b[0m\u001b[0mcolor\u001b[0m\u001b[0;34m=\u001b[0m\u001b[0;34m'blue'\u001b[0m\u001b[0;34m,\u001b[0m \u001b[0mbins\u001b[0m\u001b[0;34m=\u001b[0m\u001b[0;36m200\u001b[0m\u001b[0;34m,\u001b[0m \u001b[0max\u001b[0m\u001b[0;34m=\u001b[0m\u001b[0max\u001b[0m\u001b[0;34m)\u001b[0m\u001b[0;34m\u001b[0m\u001b[0;34m\u001b[0m\u001b[0m\n\u001b[0m\u001b[1;32m      5\u001b[0m     \u001b[0mplt\u001b[0m\u001b[0;34m.\u001b[0m\u001b[0mylabel\u001b[0m\u001b[0;34m(\u001b[0m\u001b[0;34m'Num of Seq with this length '\u001b[0m\u001b[0;34m)\u001b[0m\u001b[0;34m\u001b[0m\u001b[0;34m\u001b[0m\u001b[0m\n\u001b[1;32m      6\u001b[0m     \u001b[0mplt\u001b[0m\u001b[0;34m.\u001b[0m\u001b[0mxlabel\u001b[0m\u001b[0;34m(\u001b[0m\u001b[0;34m'Length of Seq'\u001b[0m\u001b[0;34m)\u001b[0m\u001b[0;34m\u001b[0m\u001b[0;34m\u001b[0m\u001b[0m\n",
      "\u001b[0;32m~/miniconda3/envs/py3/lib/python3.7/site-packages/pandas/core/frame.py\u001b[0m in \u001b[0;36m__getitem__\u001b[0;34m(self, key)\u001b[0m\n\u001b[1;32m   3022\u001b[0m             \u001b[0;32mif\u001b[0m \u001b[0mself\u001b[0m\u001b[0;34m.\u001b[0m\u001b[0mcolumns\u001b[0m\u001b[0;34m.\u001b[0m\u001b[0mnlevels\u001b[0m \u001b[0;34m>\u001b[0m \u001b[0;36m1\u001b[0m\u001b[0;34m:\u001b[0m\u001b[0;34m\u001b[0m\u001b[0;34m\u001b[0m\u001b[0m\n\u001b[1;32m   3023\u001b[0m                 \u001b[0;32mreturn\u001b[0m \u001b[0mself\u001b[0m\u001b[0;34m.\u001b[0m\u001b[0m_getitem_multilevel\u001b[0m\u001b[0;34m(\u001b[0m\u001b[0mkey\u001b[0m\u001b[0;34m)\u001b[0m\u001b[0;34m\u001b[0m\u001b[0;34m\u001b[0m\u001b[0m\n\u001b[0;32m-> 3024\u001b[0;31m             \u001b[0mindexer\u001b[0m \u001b[0;34m=\u001b[0m \u001b[0mself\u001b[0m\u001b[0;34m.\u001b[0m\u001b[0mcolumns\u001b[0m\u001b[0;34m.\u001b[0m\u001b[0mget_loc\u001b[0m\u001b[0;34m(\u001b[0m\u001b[0mkey\u001b[0m\u001b[0;34m)\u001b[0m\u001b[0;34m\u001b[0m\u001b[0;34m\u001b[0m\u001b[0m\n\u001b[0m\u001b[1;32m   3025\u001b[0m             \u001b[0;32mif\u001b[0m \u001b[0mis_integer\u001b[0m\u001b[0;34m(\u001b[0m\u001b[0mindexer\u001b[0m\u001b[0;34m)\u001b[0m\u001b[0;34m:\u001b[0m\u001b[0;34m\u001b[0m\u001b[0;34m\u001b[0m\u001b[0m\n\u001b[1;32m   3026\u001b[0m                 \u001b[0mindexer\u001b[0m \u001b[0;34m=\u001b[0m \u001b[0;34m[\u001b[0m\u001b[0mindexer\u001b[0m\u001b[0;34m]\u001b[0m\u001b[0;34m\u001b[0m\u001b[0;34m\u001b[0m\u001b[0m\n",
      "\u001b[0;32m~/miniconda3/envs/py3/lib/python3.7/site-packages/pandas/core/indexes/base.py\u001b[0m in \u001b[0;36mget_loc\u001b[0;34m(self, key, method, tolerance)\u001b[0m\n\u001b[1;32m   3080\u001b[0m                 \u001b[0;32mreturn\u001b[0m \u001b[0mself\u001b[0m\u001b[0;34m.\u001b[0m\u001b[0m_engine\u001b[0m\u001b[0;34m.\u001b[0m\u001b[0mget_loc\u001b[0m\u001b[0;34m(\u001b[0m\u001b[0mcasted_key\u001b[0m\u001b[0;34m)\u001b[0m\u001b[0;34m\u001b[0m\u001b[0;34m\u001b[0m\u001b[0m\n\u001b[1;32m   3081\u001b[0m             \u001b[0;32mexcept\u001b[0m \u001b[0mKeyError\u001b[0m \u001b[0;32mas\u001b[0m \u001b[0merr\u001b[0m\u001b[0;34m:\u001b[0m\u001b[0;34m\u001b[0m\u001b[0;34m\u001b[0m\u001b[0m\n\u001b[0;32m-> 3082\u001b[0;31m                 \u001b[0;32mraise\u001b[0m \u001b[0mKeyError\u001b[0m\u001b[0;34m(\u001b[0m\u001b[0mkey\u001b[0m\u001b[0;34m)\u001b[0m \u001b[0;32mfrom\u001b[0m \u001b[0merr\u001b[0m\u001b[0;34m\u001b[0m\u001b[0;34m\u001b[0m\u001b[0m\n\u001b[0m\u001b[1;32m   3083\u001b[0m \u001b[0;34m\u001b[0m\u001b[0m\n\u001b[1;32m   3084\u001b[0m         \u001b[0;32mif\u001b[0m \u001b[0mtolerance\u001b[0m \u001b[0;32mis\u001b[0m \u001b[0;32mnot\u001b[0m \u001b[0;32mNone\u001b[0m\u001b[0;34m:\u001b[0m\u001b[0;34m\u001b[0m\u001b[0;34m\u001b[0m\u001b[0m\n",
      "\u001b[0;31mKeyError\u001b[0m: 'length'"
     ]
    },
    {
     "data": {
      "image/png": "[encoded data removed]",
      "text/plain": [
       "<Figure size 432x288 with 1 Axes>"
      ]
     },
     "metadata": {
      "needs_background": "light"
     },
     "output_type": "display_data"
    }
   ],
   "source": [
    "lengthDistribution(df,\"Truth\")\n",
    "countProtien(df,\"Truth\")  # \"B|Z|J|U|O\""
   ]
  },
  {
   "cell_type": "markdown",
   "metadata": {
    "id": "ocpMvCNJmX6R"
   },
   "source": [
    "## Chanage format"
   ]
  },
  {
   "cell_type": "code",
   "execution_count": 17,
   "metadata": {
    "id": "raBn6r7zmX6T",
    "outputId": "a4c742de-63a8-4e22-fe0d-d5137e5374e6"
   },
   "outputs": [],
   "source": [
    "df_new = ready_df.reps.apply(pd.Series).astype(np.float64)\n",
    "df_new.columns = df_new.columns.astype(str)\n",
    "#to = TabularPandas(df_new , cont_names =reps_columns, y_block = CategoryBlock, splits=splits)"
   ]
  },
  {
   "cell_type": "code",
   "execution_count": 18,
   "metadata": {},
   "outputs": [
    {
     "data": {
      "text/html": [
       "<div>\n",
       "<style scoped>\n",
       "    .dataframe tbody tr th:only-of-type {\n",
       "        vertical-align: middle;\n",
       "    }\n",
       "\n",
       "    .dataframe tbody tr th {\n",
       "        vertical-align: top;\n",
       "    }\n",
       "\n",
       "    .dataframe thead th {\n",
       "        text-align: right;\n",
       "    }\n",
       "</style>\n",
       "<table border=\"1\" class=\"dataframe\">\n",
       "  <thead>\n",
       "    <tr style=\"text-align: right;\">\n",
       "      <th></th>\n",
       "      <th>0</th>\n",
       "      <th>1</th>\n",
       "      <th>2</th>\n",
       "      <th>3</th>\n",
       "      <th>4</th>\n",
       "      <th>5</th>\n",
       "      <th>6</th>\n",
       "      <th>7</th>\n",
       "      <th>8</th>\n",
       "      <th>9</th>\n",
       "      <th>...</th>\n",
       "      <th>390</th>\n",
       "      <th>391</th>\n",
       "      <th>392</th>\n",
       "      <th>393</th>\n",
       "      <th>394</th>\n",
       "      <th>395</th>\n",
       "      <th>396</th>\n",
       "      <th>397</th>\n",
       "      <th>398</th>\n",
       "      <th>399</th>\n",
       "    </tr>\n",
       "  </thead>\n",
       "  <tbody>\n",
       "    <tr>\n",
       "      <th>0</th>\n",
       "      <td>0.521736</td>\n",
       "      <td>0.497900</td>\n",
       "      <td>0.497900</td>\n",
       "      <td>0.497900</td>\n",
       "      <td>0.497900</td>\n",
       "      <td>0.497900</td>\n",
       "      <td>0.497900</td>\n",
       "      <td>0.497900</td>\n",
       "      <td>0.497900</td>\n",
       "      <td>0.497900</td>\n",
       "      <td>...</td>\n",
       "      <td>0.499300</td>\n",
       "      <td>0.499300</td>\n",
       "      <td>0.499300</td>\n",
       "      <td>0.499300</td>\n",
       "      <td>0.499300</td>\n",
       "      <td>0.499300</td>\n",
       "      <td>0.499300</td>\n",
       "      <td>0.499300</td>\n",
       "      <td>0.499300</td>\n",
       "      <td>0.507249</td>\n",
       "    </tr>\n",
       "    <tr>\n",
       "      <th>1</th>\n",
       "      <td>0.500000</td>\n",
       "      <td>0.500000</td>\n",
       "      <td>0.500000</td>\n",
       "      <td>0.500000</td>\n",
       "      <td>0.500000</td>\n",
       "      <td>0.500000</td>\n",
       "      <td>0.500000</td>\n",
       "      <td>0.500000</td>\n",
       "      <td>0.500000</td>\n",
       "      <td>0.500000</td>\n",
       "      <td>...</td>\n",
       "      <td>0.497614</td>\n",
       "      <td>0.497614</td>\n",
       "      <td>0.497614</td>\n",
       "      <td>0.497614</td>\n",
       "      <td>0.497614</td>\n",
       "      <td>0.497614</td>\n",
       "      <td>0.497614</td>\n",
       "      <td>0.497614</td>\n",
       "      <td>0.497614</td>\n",
       "      <td>0.524696</td>\n",
       "    </tr>\n",
       "    <tr>\n",
       "      <th>2</th>\n",
       "      <td>0.521311</td>\n",
       "      <td>0.497941</td>\n",
       "      <td>0.497941</td>\n",
       "      <td>0.497941</td>\n",
       "      <td>0.497941</td>\n",
       "      <td>0.497941</td>\n",
       "      <td>0.497941</td>\n",
       "      <td>0.497941</td>\n",
       "      <td>0.497941</td>\n",
       "      <td>0.497941</td>\n",
       "      <td>...</td>\n",
       "      <td>0.497941</td>\n",
       "      <td>0.497941</td>\n",
       "      <td>0.497941</td>\n",
       "      <td>0.497941</td>\n",
       "      <td>0.497941</td>\n",
       "      <td>0.497941</td>\n",
       "      <td>0.497941</td>\n",
       "      <td>0.497941</td>\n",
       "      <td>0.497941</td>\n",
       "      <td>0.521311</td>\n",
       "    </tr>\n",
       "    <tr>\n",
       "      <th>3</th>\n",
       "      <td>0.508238</td>\n",
       "      <td>0.499205</td>\n",
       "      <td>0.499205</td>\n",
       "      <td>0.499205</td>\n",
       "      <td>0.499205</td>\n",
       "      <td>0.499205</td>\n",
       "      <td>0.499205</td>\n",
       "      <td>0.499205</td>\n",
       "      <td>0.499205</td>\n",
       "      <td>0.499205</td>\n",
       "      <td>...</td>\n",
       "      <td>0.500000</td>\n",
       "      <td>0.500000</td>\n",
       "      <td>0.500000</td>\n",
       "      <td>0.500000</td>\n",
       "      <td>0.500000</td>\n",
       "      <td>0.500000</td>\n",
       "      <td>0.500000</td>\n",
       "      <td>0.500000</td>\n",
       "      <td>0.500000</td>\n",
       "      <td>0.500000</td>\n",
       "    </tr>\n",
       "    <tr>\n",
       "      <th>4</th>\n",
       "      <td>0.500000</td>\n",
       "      <td>0.500000</td>\n",
       "      <td>0.500000</td>\n",
       "      <td>0.500000</td>\n",
       "      <td>0.500000</td>\n",
       "      <td>0.500000</td>\n",
       "      <td>0.500000</td>\n",
       "      <td>0.500000</td>\n",
       "      <td>0.500000</td>\n",
       "      <td>0.500000</td>\n",
       "      <td>...</td>\n",
       "      <td>0.496613</td>\n",
       "      <td>0.496613</td>\n",
       "      <td>0.496613</td>\n",
       "      <td>0.496613</td>\n",
       "      <td>0.496613</td>\n",
       "      <td>0.496613</td>\n",
       "      <td>0.496613</td>\n",
       "      <td>0.496613</td>\n",
       "      <td>0.496613</td>\n",
       "      <td>0.535023</td>\n",
       "    </tr>\n",
       "    <tr>\n",
       "      <th>...</th>\n",
       "      <td>...</td>\n",
       "      <td>...</td>\n",
       "      <td>...</td>\n",
       "      <td>...</td>\n",
       "      <td>...</td>\n",
       "      <td>...</td>\n",
       "      <td>...</td>\n",
       "      <td>...</td>\n",
       "      <td>...</td>\n",
       "      <td>...</td>\n",
       "      <td>...</td>\n",
       "      <td>...</td>\n",
       "      <td>...</td>\n",
       "      <td>...</td>\n",
       "      <td>...</td>\n",
       "      <td>...</td>\n",
       "      <td>...</td>\n",
       "      <td>...</td>\n",
       "      <td>...</td>\n",
       "      <td>...</td>\n",
       "      <td>...</td>\n",
       "    </tr>\n",
       "    <tr>\n",
       "      <th>57</th>\n",
       "      <td>0.524696</td>\n",
       "      <td>0.497614</td>\n",
       "      <td>0.497614</td>\n",
       "      <td>0.497614</td>\n",
       "      <td>0.497614</td>\n",
       "      <td>0.497614</td>\n",
       "      <td>0.497614</td>\n",
       "      <td>0.497614</td>\n",
       "      <td>0.497614</td>\n",
       "      <td>0.497614</td>\n",
       "      <td>...</td>\n",
       "      <td>0.499205</td>\n",
       "      <td>0.499205</td>\n",
       "      <td>0.499205</td>\n",
       "      <td>0.499205</td>\n",
       "      <td>0.499205</td>\n",
       "      <td>0.499205</td>\n",
       "      <td>0.499205</td>\n",
       "      <td>0.499205</td>\n",
       "      <td>0.499205</td>\n",
       "      <td>0.508238</td>\n",
       "    </tr>\n",
       "    <tr>\n",
       "      <th>58</th>\n",
       "      <td>0.500000</td>\n",
       "      <td>0.500000</td>\n",
       "      <td>0.500000</td>\n",
       "      <td>0.500000</td>\n",
       "      <td>0.500000</td>\n",
       "      <td>0.500000</td>\n",
       "      <td>0.500000</td>\n",
       "      <td>0.500000</td>\n",
       "      <td>0.500000</td>\n",
       "      <td>0.500000</td>\n",
       "      <td>...</td>\n",
       "      <td>0.499271</td>\n",
       "      <td>0.499271</td>\n",
       "      <td>0.499271</td>\n",
       "      <td>0.499271</td>\n",
       "      <td>0.499271</td>\n",
       "      <td>0.499271</td>\n",
       "      <td>0.499271</td>\n",
       "      <td>0.499271</td>\n",
       "      <td>0.499271</td>\n",
       "      <td>0.507552</td>\n",
       "    </tr>\n",
       "    <tr>\n",
       "      <th>59</th>\n",
       "      <td>0.500000</td>\n",
       "      <td>0.500000</td>\n",
       "      <td>0.500000</td>\n",
       "      <td>0.500000</td>\n",
       "      <td>0.500000</td>\n",
       "      <td>0.500000</td>\n",
       "      <td>0.500000</td>\n",
       "      <td>0.500000</td>\n",
       "      <td>0.500000</td>\n",
       "      <td>0.500000</td>\n",
       "      <td>...</td>\n",
       "      <td>0.500000</td>\n",
       "      <td>0.500000</td>\n",
       "      <td>0.500000</td>\n",
       "      <td>0.500000</td>\n",
       "      <td>0.500000</td>\n",
       "      <td>0.500000</td>\n",
       "      <td>0.500000</td>\n",
       "      <td>0.500000</td>\n",
       "      <td>0.500000</td>\n",
       "      <td>0.500000</td>\n",
       "    </tr>\n",
       "    <tr>\n",
       "      <th>60</th>\n",
       "      <td>0.500000</td>\n",
       "      <td>0.500000</td>\n",
       "      <td>0.500000</td>\n",
       "      <td>0.500000</td>\n",
       "      <td>0.500000</td>\n",
       "      <td>0.500000</td>\n",
       "      <td>0.500000</td>\n",
       "      <td>0.500000</td>\n",
       "      <td>0.500000</td>\n",
       "      <td>0.500000</td>\n",
       "      <td>...</td>\n",
       "      <td>0.500000</td>\n",
       "      <td>0.500000</td>\n",
       "      <td>0.500000</td>\n",
       "      <td>0.500000</td>\n",
       "      <td>0.500000</td>\n",
       "      <td>0.500000</td>\n",
       "      <td>0.500000</td>\n",
       "      <td>0.500000</td>\n",
       "      <td>0.500000</td>\n",
       "      <td>0.500000</td>\n",
       "    </tr>\n",
       "    <tr>\n",
       "      <th>61</th>\n",
       "      <td>0.500000</td>\n",
       "      <td>0.500000</td>\n",
       "      <td>0.500000</td>\n",
       "      <td>0.500000</td>\n",
       "      <td>0.500000</td>\n",
       "      <td>0.500000</td>\n",
       "      <td>0.500000</td>\n",
       "      <td>0.500000</td>\n",
       "      <td>0.500000</td>\n",
       "      <td>0.500000</td>\n",
       "      <td>...</td>\n",
       "      <td>0.498793</td>\n",
       "      <td>0.498793</td>\n",
       "      <td>0.498793</td>\n",
       "      <td>0.498793</td>\n",
       "      <td>0.498793</td>\n",
       "      <td>0.498793</td>\n",
       "      <td>0.498793</td>\n",
       "      <td>0.498793</td>\n",
       "      <td>0.498793</td>\n",
       "      <td>0.512497</td>\n",
       "    </tr>\n",
       "  </tbody>\n",
       "</table>\n",
       "<p>62 rows × 400 columns</p>\n",
       "</div>"
      ],
      "text/plain": [
       "           0         1         2         3         4         5         6  \\\n",
       "0   0.521736  0.497900  0.497900  0.497900  0.497900  0.497900  0.497900   \n",
       "1   0.500000  0.500000  0.500000  0.500000  0.500000  0.500000  0.500000   \n",
       "2   0.521311  0.497941  0.497941  0.497941  0.497941  0.497941  0.497941   \n",
       "3   0.508238  0.499205  0.499205  0.499205  0.499205  0.499205  0.499205   \n",
       "4   0.500000  0.500000  0.500000  0.500000  0.500000  0.500000  0.500000   \n",
       "..       ...       ...       ...       ...       ...       ...       ...   \n",
       "57  0.524696  0.497614  0.497614  0.497614  0.497614  0.497614  0.497614   \n",
       "58  0.500000  0.500000  0.500000  0.500000  0.500000  0.500000  0.500000   \n",
       "59  0.500000  0.500000  0.500000  0.500000  0.500000  0.500000  0.500000   \n",
       "60  0.500000  0.500000  0.500000  0.500000  0.500000  0.500000  0.500000   \n",
       "61  0.500000  0.500000  0.500000  0.500000  0.500000  0.500000  0.500000   \n",
       "\n",
       "           7         8         9  ...       390       391       392       393  \\\n",
       "0   0.497900  0.497900  0.497900  ...  0.499300  0.499300  0.499300  0.499300   \n",
       "1   0.500000  0.500000  0.500000  ...  0.497614  0.497614  0.497614  0.497614   \n",
       "2   0.497941  0.497941  0.497941  ...  0.497941  0.497941  0.497941  0.497941   \n",
       "3   0.499205  0.499205  0.499205  ...  0.500000  0.500000  0.500000  0.500000   \n",
       "4   0.500000  0.500000  0.500000  ...  0.496613  0.496613  0.496613  0.496613   \n",
       "..       ...       ...       ...  ...       ...       ...       ...       ...   \n",
       "57  0.497614  0.497614  0.497614  ...  0.499205  0.499205  0.499205  0.499205   \n",
       "58  0.500000  0.500000  0.500000  ...  0.499271  0.499271  0.499271  0.499271   \n",
       "59  0.500000  0.500000  0.500000  ...  0.500000  0.500000  0.500000  0.500000   \n",
       "60  0.500000  0.500000  0.500000  ...  0.500000  0.500000  0.500000  0.500000   \n",
       "61  0.500000  0.500000  0.500000  ...  0.498793  0.498793  0.498793  0.498793   \n",
       "\n",
       "         394       395       396       397       398       399  \n",
       "0   0.499300  0.499300  0.499300  0.499300  0.499300  0.507249  \n",
       "1   0.497614  0.497614  0.497614  0.497614  0.497614  0.524696  \n",
       "2   0.497941  0.497941  0.497941  0.497941  0.497941  0.521311  \n",
       "3   0.500000  0.500000  0.500000  0.500000  0.500000  0.500000  \n",
       "4   0.496613  0.496613  0.496613  0.496613  0.496613  0.535023  \n",
       "..       ...       ...       ...       ...       ...       ...  \n",
       "57  0.499205  0.499205  0.499205  0.499205  0.499205  0.508238  \n",
       "58  0.499271  0.499271  0.499271  0.499271  0.499271  0.507552  \n",
       "59  0.500000  0.500000  0.500000  0.500000  0.500000  0.500000  \n",
       "60  0.500000  0.500000  0.500000  0.500000  0.500000  0.500000  \n",
       "61  0.498793  0.498793  0.498793  0.498793  0.498793  0.512497  \n",
       "\n",
       "[62 rows x 400 columns]"
      ]
     },
     "execution_count": 18,
     "metadata": {},
     "output_type": "execute_result"
    }
   ],
   "source": [
    "df_new"
   ]
  },
  {
   "cell_type": "markdown",
   "metadata": {},
   "source": [
    "## Predict Truthset\n",
    "To get prediction on a new dataframe, you can use the test_d"
   ]
  },
  {
   "cell_type": "code",
   "execution_count": 19,
   "metadata": {},
   "outputs": [
    {
     "data": {
      "text/html": [],
      "text/plain": [
       "<IPython.core.display.HTML object>"
      ]
     },
     "metadata": {},
     "output_type": "display_data"
    }
   ],
   "source": [
    "dl = learner.dls.test_dl(df_new)\n",
    "_preds,_none ,_y = learner.get_preds(dl=dl, with_decoded=True)"
   ]
  },
  {
   "cell_type": "code",
   "execution_count": 20,
   "metadata": {},
   "outputs": [
    {
     "data": {
      "text/html": [
       "<div>\n",
       "<style scoped>\n",
       "    .dataframe tbody tr th:only-of-type {\n",
       "        vertical-align: middle;\n",
       "    }\n",
       "\n",
       "    .dataframe tbody tr th {\n",
       "        vertical-align: top;\n",
       "    }\n",
       "\n",
       "    .dataframe thead th {\n",
       "        text-align: right;\n",
       "    }\n",
       "</style>\n",
       "<table border=\"1\" class=\"dataframe\">\n",
       "  <thead>\n",
       "    <tr style=\"text-align: right;\">\n",
       "      <th></th>\n",
       "      <th>ID</th>\n",
       "      <th>paper</th>\n",
       "      <th>seq</th>\n",
       "      <th>class</th>\n",
       "    </tr>\n",
       "  </thead>\n",
       "  <tbody>\n",
       "    <tr>\n",
       "      <th>0</th>\n",
       "      <td>ISGCock_Contig04_0915</td>\n",
       "      <td>PMC4864078</td>\n",
       "      <td>ALQICTRNMIDDRLPYVADNVRPGTFIKQQRKQKQQRHHTSGTRKRMAKG</td>\n",
       "      <td>0</td>\n",
       "    </tr>\n",
       "    <tr>\n",
       "      <th>1</th>\n",
       "      <td>ISGCock_Contig13_4610</td>\n",
       "      <td>PMC4864078</td>\n",
       "      <td>HLYPCKLNLKLGKVPFHFLNLNHKGKSIMVNQQTCLYYIICQTR</td>\n",
       "      <td>0</td>\n",
       "    </tr>\n",
       "    <tr>\n",
       "      <th>2</th>\n",
       "      <td>ISGCock_Contig16_2060</td>\n",
       "      <td>PMC4864078</td>\n",
       "      <td>ISHNHLTAASITHVKNRGKYIYMHLKFRKTNVLI</td>\n",
       "      <td>0</td>\n",
       "    </tr>\n",
       "    <tr>\n",
       "      <th>3</th>\n",
       "      <td>ISGCock_Contig16_4974</td>\n",
       "      <td>PMC4864078</td>\n",
       "      <td>RKKVWFIFHVCPKLKQRILSDTHAKNKCRLSPLLIKSTKIKNET</td>\n",
       "      <td>0</td>\n",
       "    </tr>\n",
       "    <tr>\n",
       "      <th>4</th>\n",
       "      <td>ISGCock_Contig07_3736</td>\n",
       "      <td>PMC4864078</td>\n",
       "      <td>CNYISFFRKCKNSQSTMYGCHRMNKCVFSSY</td>\n",
       "      <td>0</td>\n",
       "    </tr>\n",
       "    <tr>\n",
       "      <th>...</th>\n",
       "      <td>...</td>\n",
       "      <td>...</td>\n",
       "      <td>...</td>\n",
       "      <td>...</td>\n",
       "    </tr>\n",
       "    <tr>\n",
       "      <th>57</th>\n",
       "      <td>TR42258|c1_g1_i1</td>\n",
       "      <td>hal-02965337</td>\n",
       "      <td>MRYIVCFVFFLFFFLLFLWLVPARTASSFLTPRLSSLGKRSWAV</td>\n",
       "      <td>1</td>\n",
       "    </tr>\n",
       "    <tr>\n",
       "      <th>58</th>\n",
       "      <td>TR27534|c0_g1_i1</td>\n",
       "      <td>hal-02965337</td>\n",
       "      <td>MLFKVIIVIWISVCRECTRGGFCNFMHLKPISRELRRELYGRTRRRRK</td>\n",
       "      <td>0</td>\n",
       "    </tr>\n",
       "    <tr>\n",
       "      <th>59</th>\n",
       "      <td>P3</td>\n",
       "      <td>S2162-2531(20)30132-3</td>\n",
       "      <td>FWELWKFLKSLWSIFPRRRP</td>\n",
       "      <td>0</td>\n",
       "    </tr>\n",
       "    <tr>\n",
       "      <th>60</th>\n",
       "      <td>P10</td>\n",
       "      <td>S2162-2531(20)30132-3</td>\n",
       "      <td>ICTTLNWMVKLTCLTHVTLTTRWC</td>\n",
       "      <td>0</td>\n",
       "    </tr>\n",
       "    <tr>\n",
       "      <th>61</th>\n",
       "      <td>P26</td>\n",
       "      <td>S2162-2531(20)30132-3</td>\n",
       "      <td>RWPPTTTLCYLSRPRRCSWTSSVCRCTLT</td>\n",
       "      <td>0</td>\n",
       "    </tr>\n",
       "  </tbody>\n",
       "</table>\n",
       "<p>62 rows × 4 columns</p>\n",
       "</div>"
      ],
      "text/plain": [
       "                       ID                  paper  \\\n",
       "0   ISGCock_Contig04_0915             PMC4864078   \n",
       "1   ISGCock_Contig13_4610             PMC4864078   \n",
       "2   ISGCock_Contig16_2060             PMC4864078   \n",
       "3   ISGCock_Contig16_4974             PMC4864078   \n",
       "4   ISGCock_Contig07_3736             PMC4864078   \n",
       "..                    ...                    ...   \n",
       "57       TR42258|c1_g1_i1           hal-02965337   \n",
       "58       TR27534|c0_g1_i1           hal-02965337   \n",
       "59                     P3  S2162-2531(20)30132-3   \n",
       "60                    P10  S2162-2531(20)30132-3   \n",
       "61                    P26  S2162-2531(20)30132-3   \n",
       "\n",
       "                                                   seq  class  \n",
       "0   ALQICTRNMIDDRLPYVADNVRPGTFIKQQRKQKQQRHHTSGTRKRMAKG      0  \n",
       "1         HLYPCKLNLKLGKVPFHFLNLNHKGKSIMVNQQTCLYYIICQTR      0  \n",
       "2                   ISHNHLTAASITHVKNRGKYIYMHLKFRKTNVLI      0  \n",
       "3         RKKVWFIFHVCPKLKQRILSDTHAKNKCRLSPLLIKSTKIKNET      0  \n",
       "4                      CNYISFFRKCKNSQSTMYGCHRMNKCVFSSY      0  \n",
       "..                                                 ...    ...  \n",
       "57        MRYIVCFVFFLFFFLLFLWLVPARTASSFLTPRLSSLGKRSWAV      1  \n",
       "58    MLFKVIIVIWISVCRECTRGGFCNFMHLKPISRELRRELYGRTRRRRK      0  \n",
       "59                                FWELWKFLKSLWSIFPRRRP      0  \n",
       "60                            ICTTLNWMVKLTCLTHVTLTTRWC      0  \n",
       "61                       RWPPTTTLCYLSRPRRCSWTSSVCRCTLT      0  \n",
       "\n",
       "[62 rows x 4 columns]"
      ]
     },
     "execution_count": 20,
     "metadata": {},
     "output_type": "execute_result"
    }
   ],
   "source": [
    "df['class'] = _y\n",
    "df.drop(columns=['reps'],inplace =True)\n",
    "df"
   ]
  },
  {
   "cell_type": "code",
   "execution_count": 21,
   "metadata": {},
   "outputs": [
    {
     "data": {
      "text/html": [
       "<div>\n",
       "<style scoped>\n",
       "    .dataframe tbody tr th:only-of-type {\n",
       "        vertical-align: middle;\n",
       "    }\n",
       "\n",
       "    .dataframe tbody tr th {\n",
       "        vertical-align: top;\n",
       "    }\n",
       "\n",
       "    .dataframe thead th {\n",
       "        text-align: right;\n",
       "    }\n",
       "</style>\n",
       "<table border=\"1\" class=\"dataframe\">\n",
       "  <thead>\n",
       "    <tr style=\"text-align: right;\">\n",
       "      <th></th>\n",
       "      <th>ID</th>\n",
       "      <th>paper</th>\n",
       "      <th>seq</th>\n",
       "      <th>class</th>\n",
       "    </tr>\n",
       "  </thead>\n",
       "  <tbody>\n",
       "    <tr>\n",
       "      <th>9</th>\n",
       "      <td>ISGCock_Contig15_1337</td>\n",
       "      <td>PMC4864078</td>\n",
       "      <td>KRMKLNAKKLSFCDHLNSYLNLSPTLFIHNSSKQWSHWLWHNGIRI</td>\n",
       "      <td>1</td>\n",
       "    </tr>\n",
       "    <tr>\n",
       "      <th>15</th>\n",
       "      <td>Ph10</td>\n",
       "      <td>insects11100676</td>\n",
       "      <td>RISCVAMRLILK</td>\n",
       "      <td>1</td>\n",
       "    </tr>\n",
       "    <tr>\n",
       "      <th>19</th>\n",
       "      <td>Ph20</td>\n",
       "      <td>insects11100676</td>\n",
       "      <td>KMFTKCIRYRKM</td>\n",
       "      <td>1</td>\n",
       "    </tr>\n",
       "    <tr>\n",
       "      <th>28</th>\n",
       "      <td>Defensin_g8</td>\n",
       "      <td>s41598-020-77982-3</td>\n",
       "      <td>MKAVLLVFLLVVCAVVLAAPLEEHIRRKRFTCDVLGSVSIKDVQLNDAPCALHCLWDGKSGGHCDDSKVCICRD</td>\n",
       "      <td>1</td>\n",
       "    </tr>\n",
       "    <tr>\n",
       "      <th>53</th>\n",
       "      <td>Blattellicin_g2</td>\n",
       "      <td>s41598-020-77982-3</td>\n",
       "      <td>MKITAVTFLVLSIAVASSFGRPQATEEEIQKKLKETFKENGFMVLLERIEQRLIGFGAPIFNSTEELFGGRMKERLEKVQESVETAEESEQEQQEQQEQQQQQEQQEQQEQQEHQEQEQQEHQEHQEQPEQEHQEQPEQEHQEQPEQEQQEQQEQEPEPVPAPRLVRSALPEDQSEGIHAGINQQPGVGTVVDVSGRKNVYETDDGRGRVNVEGQWSKVIDGPGRGKPQAGAGINFEYKFRK</td>\n",
       "      <td>1</td>\n",
       "    </tr>\n",
       "    <tr>\n",
       "      <th>55</th>\n",
       "      <td>Blattellicin_g4</td>\n",
       "      <td>s41598-020-77982-3</td>\n",
       "      <td>MKITAITFLVMSIAVASSFGRPQTTEEEIQKKLKETFKENGFMVLLEKIEQRLIGFGAPMFDSPEELFGEIKKERLEKVQESVETAEESEQEHQEQQEHQEQQEHQEQQEHQEQPEQEHQEQPEQEHQEQPEHEQQEQQEQQEQQEQQEQHEQEQQEQEPEPVPAPRLVRSARPEDQSEGIHAGINQQPGVGTVVDVSGRKNIYETDDGRGRVNVEGQWSKVIDGPGRGKPQAGAGINFEYKFRK</td>\n",
       "      <td>1</td>\n",
       "    </tr>\n",
       "    <tr>\n",
       "      <th>57</th>\n",
       "      <td>TR42258|c1_g1_i1</td>\n",
       "      <td>hal-02965337</td>\n",
       "      <td>MRYIVCFVFFLFFFLLFLWLVPARTASSFLTPRLSSLGKRSWAV</td>\n",
       "      <td>1</td>\n",
       "    </tr>\n",
       "  </tbody>\n",
       "</table>\n",
       "</div>"
      ],
      "text/plain": [
       "                       ID               paper  \\\n",
       "9   ISGCock_Contig15_1337          PMC4864078   \n",
       "15                   Ph10     insects11100676   \n",
       "19                   Ph20     insects11100676   \n",
       "28            Defensin_g8  s41598-020-77982-3   \n",
       "53        Blattellicin_g2  s41598-020-77982-3   \n",
       "55        Blattellicin_g4  s41598-020-77982-3   \n",
       "57       TR42258|c1_g1_i1        hal-02965337   \n",
       "\n",
       "                                                                                                                                                                                                                                                      seq  \\\n",
       "9                                                                                                                                                                                                          KRMKLNAKKLSFCDHLNSYLNLSPTLFIHNSSKQWSHWLWHNGIRI   \n",
       "15                                                                                                                                                                                                                                           RISCVAMRLILK   \n",
       "19                                                                                                                                                                                                                                           KMFTKCIRYRKM   \n",
       "28                                                                                                                                                                             MKAVLLVFLLVVCAVVLAAPLEEHIRRKRFTCDVLGSVSIKDVQLNDAPCALHCLWDGKSGGHCDDSKVCICRD   \n",
       "53     MKITAVTFLVLSIAVASSFGRPQATEEEIQKKLKETFKENGFMVLLERIEQRLIGFGAPIFNSTEELFGGRMKERLEKVQESVETAEESEQEQQEQQEQQQQQEQQEQQEQQEHQEQEQQEHQEHQEQPEQEHQEQPEQEHQEQPEQEQQEQQEQEPEPVPAPRLVRSALPEDQSEGIHAGINQQPGVGTVVDVSGRKNVYETDDGRGRVNVEGQWSKVIDGPGRGKPQAGAGINFEYKFRK   \n",
       "55  MKITAITFLVMSIAVASSFGRPQTTEEEIQKKLKETFKENGFMVLLEKIEQRLIGFGAPMFDSPEELFGEIKKERLEKVQESVETAEESEQEHQEQQEHQEQQEHQEQQEHQEQPEQEHQEQPEQEHQEQPEHEQQEQQEQQEQQEQQEQHEQEQQEQEPEPVPAPRLVRSARPEDQSEGIHAGINQQPGVGTVVDVSGRKNIYETDDGRGRVNVEGQWSKVIDGPGRGKPQAGAGINFEYKFRK   \n",
       "57                                                                                                                                                                                                           MRYIVCFVFFLFFFLLFLWLVPARTASSFLTPRLSSLGKRSWAV   \n",
       "\n",
       "    class  \n",
       "9       1  \n",
       "15      1  \n",
       "19      1  \n",
       "28      1  \n",
       "53      1  \n",
       "55      1  \n",
       "57      1  "
      ]
     },
     "execution_count": 21,
     "metadata": {},
     "output_type": "execute_result"
    }
   ],
   "source": [
    "df[df[\"class\"] == 1] "
   ]
  },
  {
   "cell_type": "markdown",
   "metadata": {},
   "source": [
    "Basic Check"
   ]
  },
  {
   "cell_type": "markdown",
   "metadata": {},
   "source": [
    "check these data exist in training set"
   ]
  },
  {
   "cell_type": "markdown",
   "metadata": {},
   "source": [
    "# Predict on Shuffled sequences"
   ]
  },
  {
   "cell_type": "code",
   "execution_count": 29,
   "metadata": {},
   "outputs": [],
   "source": [
    "def predict(_df ,condition):\n",
    "    #df = _df.loc[_df.length > 30 ].copy() \n",
    "    #df = _df.loc[_df.length <= 30 ].copy()\n",
    "    if condition == 0:\n",
    "        df = _df.copy()\n",
    "    elif condition == -1 :\n",
    "        df = _df.loc[_df.length <= 30 ].copy()\n",
    "    else:\n",
    "        df = _df.loc[_df.length > condition ].copy() # select records with lenght > \n",
    "    #print(df.columns)\n",
    "    ready_df = df[[ \"reps\"]]\n",
    "    df_new = ready_df.reps.apply(pd.Series).astype(np.float64)\n",
    "    df_new.columns = df_new.columns.astype(str)\n",
    "    dl = learner.dls.test_dl(df_new)\n",
    "    _preds,_none ,_y = learner.get_preds(dl=dl, with_decoded=True)\n",
    "    df['class'] = _y\n",
    "    #df.drop(columns=['reps'],inplace =True)\n",
    "    accuracy = (len(df[df[\"class\"] == 1])/len(df) )*100\n",
    "    #print(\"predict AMP :\"+str(len(df[df[\"class\"] == 0])))\n",
    "    #print(\"predict NonAMP:\"+str(len(df[df[\"class\"] == 1])))\n",
    "    #print(\"predict NonAMP (in percentage):\"+str(accuracy))\n",
    "    return len(df[df[\"class\"] == 1])"
   ]
  },
  {
   "cell_type": "markdown",
   "metadata": {},
   "source": [
    "## Retrain with <= 200 AA"
   ]
  },
  {
   "cell_type": "code",
   "execution_count": 17,
   "metadata": {},
   "outputs": [],
   "source": [
    "deployed_path = \"/mnt/vdb/thesis/TubularLearner.III._480.nodropout.retrain\"\n",
    "#deployed_path = \"TubularLearner.fastAI._stage2.pth\"\n",
    "learner = load_learner(deployed_path)"
   ]
  },
  {
   "cell_type": "code",
   "execution_count": 30,
   "metadata": {},
   "outputs": [
    {
     "data": {
      "text/html": [],
      "text/plain": [
       "<IPython.core.display.HTML object>"
      ]
     },
     "metadata": {},
     "output_type": "display_data"
    },
    {
     "data": {
      "text/html": [],
      "text/plain": [
       "<IPython.core.display.HTML object>"
      ]
     },
     "metadata": {},
     "output_type": "display_data"
    },
    {
     "data": {
      "text/html": [],
      "text/plain": [
       "<IPython.core.display.HTML object>"
      ]
     },
     "metadata": {},
     "output_type": "display_data"
    },
    {
     "data": {
      "text/html": [],
      "text/plain": [
       "<IPython.core.display.HTML object>"
      ]
     },
     "metadata": {},
     "output_type": "display_data"
    },
    {
     "data": {
      "text/html": [],
      "text/plain": [
       "<IPython.core.display.HTML object>"
      ]
     },
     "metadata": {},
     "output_type": "display_data"
    },
    {
     "data": {
      "text/html": [],
      "text/plain": [
       "<IPython.core.display.HTML object>"
      ]
     },
     "metadata": {},
     "output_type": "display_data"
    },
    {
     "data": {
      "text/html": [],
      "text/plain": [
       "<IPython.core.display.HTML object>"
      ]
     },
     "metadata": {},
     "output_type": "display_data"
    },
    {
     "data": {
      "text/html": [],
      "text/plain": [
       "<IPython.core.display.HTML object>"
      ]
     },
     "metadata": {},
     "output_type": "display_data"
    },
    {
     "data": {
      "text/html": [],
      "text/plain": [
       "<IPython.core.display.HTML object>"
      ]
     },
     "metadata": {},
     "output_type": "display_data"
    },
    {
     "data": {
      "text/html": [],
      "text/plain": [
       "<IPython.core.display.HTML object>"
      ]
     },
     "metadata": {},
     "output_type": "display_data"
    },
    {
     "data": {
      "text/html": [],
      "text/plain": [
       "<IPython.core.display.HTML object>"
      ]
     },
     "metadata": {},
     "output_type": "display_data"
    },
    {
     "data": {
      "text/html": [],
      "text/plain": [
       "<IPython.core.display.HTML object>"
      ]
     },
     "metadata": {},
     "output_type": "display_data"
    },
    {
     "data": {
      "text/html": [],
      "text/plain": [
       "<IPython.core.display.HTML object>"
      ]
     },
     "metadata": {},
     "output_type": "display_data"
    },
    {
     "data": {
      "text/html": [],
      "text/plain": [
       "<IPython.core.display.HTML object>"
      ]
     },
     "metadata": {},
     "output_type": "display_data"
    },
    {
     "data": {
      "text/html": [],
      "text/plain": [
       "<IPython.core.display.HTML object>"
      ]
     },
     "metadata": {},
     "output_type": "display_data"
    },
    {
     "data": {
      "text/html": [],
      "text/plain": [
       "<IPython.core.display.HTML object>"
      ]
     },
     "metadata": {},
     "output_type": "display_data"
    },
    {
     "data": {
      "text/html": [],
      "text/plain": [
       "<IPython.core.display.HTML object>"
      ]
     },
     "metadata": {},
     "output_type": "display_data"
    },
    {
     "data": {
      "text/html": [],
      "text/plain": [
       "<IPython.core.display.HTML object>"
      ]
     },
     "metadata": {},
     "output_type": "display_data"
    },
    {
     "data": {
      "text/html": [],
      "text/plain": [
       "<IPython.core.display.HTML object>"
      ]
     },
     "metadata": {},
     "output_type": "display_data"
    },
    {
     "data": {
      "text/html": [],
      "text/plain": [
       "<IPython.core.display.HTML object>"
      ]
     },
     "metadata": {},
     "output_type": "display_data"
    },
    {
     "data": {
      "text/html": [],
      "text/plain": [
       "<IPython.core.display.HTML object>"
      ]
     },
     "metadata": {},
     "output_type": "display_data"
    },
    {
     "data": {
      "text/html": [],
      "text/plain": [
       "<IPython.core.display.HTML object>"
      ]
     },
     "metadata": {},
     "output_type": "display_data"
    },
    {
     "data": {
      "text/html": [],
      "text/plain": [
       "<IPython.core.display.HTML object>"
      ]
     },
     "metadata": {},
     "output_type": "display_data"
    },
    {
     "data": {
      "text/html": [],
      "text/plain": [
       "<IPython.core.display.HTML object>"
      ]
     },
     "metadata": {},
     "output_type": "display_data"
    },
    {
     "data": {
      "text/html": [],
      "text/plain": [
       "<IPython.core.display.HTML object>"
      ]
     },
     "metadata": {},
     "output_type": "display_data"
    },
    {
     "data": {
      "text/html": [],
      "text/plain": [
       "<IPython.core.display.HTML object>"
      ]
     },
     "metadata": {},
     "output_type": "display_data"
    },
    {
     "data": {
      "text/html": [],
      "text/plain": [
       "<IPython.core.display.HTML object>"
      ]
     },
     "metadata": {},
     "output_type": "display_data"
    },
    {
     "data": {
      "text/html": [],
      "text/plain": [
       "<IPython.core.display.HTML object>"
      ]
     },
     "metadata": {},
     "output_type": "display_data"
    },
    {
     "data": {
      "text/html": [],
      "text/plain": [
       "<IPython.core.display.HTML object>"
      ]
     },
     "metadata": {},
     "output_type": "display_data"
    },
    {
     "data": {
      "text/html": [],
      "text/plain": [
       "<IPython.core.display.HTML object>"
      ]
     },
     "metadata": {},
     "output_type": "display_data"
    },
    {
     "data": {
      "text/html": [],
      "text/plain": [
       "<IPython.core.display.HTML object>"
      ]
     },
     "metadata": {},
     "output_type": "display_data"
    },
    {
     "data": {
      "text/html": [],
      "text/plain": [
       "<IPython.core.display.HTML object>"
      ]
     },
     "metadata": {},
     "output_type": "display_data"
    },
    {
     "data": {
      "text/html": [],
      "text/plain": [
       "<IPython.core.display.HTML object>"
      ]
     },
     "metadata": {},
     "output_type": "display_data"
    },
    {
     "data": {
      "text/html": [],
      "text/plain": [
       "<IPython.core.display.HTML object>"
      ]
     },
     "metadata": {},
     "output_type": "display_data"
    },
    {
     "data": {
      "text/html": [],
      "text/plain": [
       "<IPython.core.display.HTML object>"
      ]
     },
     "metadata": {},
     "output_type": "display_data"
    },
    {
     "data": {
      "text/html": [],
      "text/plain": [
       "<IPython.core.display.HTML object>"
      ]
     },
     "metadata": {},
     "output_type": "display_data"
    },
    {
     "data": {
      "text/html": [],
      "text/plain": [
       "<IPython.core.display.HTML object>"
      ]
     },
     "metadata": {},
     "output_type": "display_data"
    },
    {
     "data": {
      "text/html": [],
      "text/plain": [
       "<IPython.core.display.HTML object>"
      ]
     },
     "metadata": {},
     "output_type": "display_data"
    },
    {
     "data": {
      "text/html": [],
      "text/plain": [
       "<IPython.core.display.HTML object>"
      ]
     },
     "metadata": {},
     "output_type": "display_data"
    },
    {
     "data": {
      "text/html": [],
      "text/plain": [
       "<IPython.core.display.HTML object>"
      ]
     },
     "metadata": {},
     "output_type": "display_data"
    },
    {
     "data": {
      "text/html": [],
      "text/plain": [
       "<IPython.core.display.HTML object>"
      ]
     },
     "metadata": {},
     "output_type": "display_data"
    },
    {
     "data": {
      "text/html": [],
      "text/plain": [
       "<IPython.core.display.HTML object>"
      ]
     },
     "metadata": {},
     "output_type": "display_data"
    },
    {
     "data": {
      "text/html": [],
      "text/plain": [
       "<IPython.core.display.HTML object>"
      ]
     },
     "metadata": {},
     "output_type": "display_data"
    },
    {
     "data": {
      "text/html": [],
      "text/plain": [
       "<IPython.core.display.HTML object>"
      ]
     },
     "metadata": {},
     "output_type": "display_data"
    },
    {
     "data": {
      "text/html": [],
      "text/plain": [
       "<IPython.core.display.HTML object>"
      ]
     },
     "metadata": {},
     "output_type": "display_data"
    },
    {
     "data": {
      "text/html": [],
      "text/plain": [
       "<IPython.core.display.HTML object>"
      ]
     },
     "metadata": {},
     "output_type": "display_data"
    },
    {
     "data": {
      "text/html": [],
      "text/plain": [
       "<IPython.core.display.HTML object>"
      ]
     },
     "metadata": {},
     "output_type": "display_data"
    },
    {
     "data": {
      "text/html": [],
      "text/plain": [
       "<IPython.core.display.HTML object>"
      ]
     },
     "metadata": {},
     "output_type": "display_data"
    },
    {
     "data": {
      "text/html": [],
      "text/plain": [
       "<IPython.core.display.HTML object>"
      ]
     },
     "metadata": {},
     "output_type": "display_data"
    },
    {
     "data": {
      "text/html": [],
      "text/plain": [
       "<IPython.core.display.HTML object>"
      ]
     },
     "metadata": {},
     "output_type": "display_data"
    },
    {
     "data": {
      "text/html": [],
      "text/plain": [
       "<IPython.core.display.HTML object>"
      ]
     },
     "metadata": {},
     "output_type": "display_data"
    },
    {
     "data": {
      "text/html": [],
      "text/plain": [
       "<IPython.core.display.HTML object>"
      ]
     },
     "metadata": {},
     "output_type": "display_data"
    },
    {
     "data": {
      "text/html": [],
      "text/plain": [
       "<IPython.core.display.HTML object>"
      ]
     },
     "metadata": {},
     "output_type": "display_data"
    },
    {
     "data": {
      "text/html": [],
      "text/plain": [
       "<IPython.core.display.HTML object>"
      ]
     },
     "metadata": {},
     "output_type": "display_data"
    },
    {
     "data": {
      "text/html": [],
      "text/plain": [
       "<IPython.core.display.HTML object>"
      ]
     },
     "metadata": {},
     "output_type": "display_data"
    },
    {
     "data": {
      "text/html": [],
      "text/plain": [
       "<IPython.core.display.HTML object>"
      ]
     },
     "metadata": {},
     "output_type": "display_data"
    },
    {
     "data": {
      "text/html": [],
      "text/plain": [
       "<IPython.core.display.HTML object>"
      ]
     },
     "metadata": {},
     "output_type": "display_data"
    },
    {
     "data": {
      "text/html": [],
      "text/plain": [
       "<IPython.core.display.HTML object>"
      ]
     },
     "metadata": {},
     "output_type": "display_data"
    },
    {
     "data": {
      "text/html": [],
      "text/plain": [
       "<IPython.core.display.HTML object>"
      ]
     },
     "metadata": {},
     "output_type": "display_data"
    },
    {
     "data": {
      "text/html": [],
      "text/plain": [
       "<IPython.core.display.HTML object>"
      ]
     },
     "metadata": {},
     "output_type": "display_data"
    },
    {
     "data": {
      "text/html": [],
      "text/plain": [
       "<IPython.core.display.HTML object>"
      ]
     },
     "metadata": {},
     "output_type": "display_data"
    },
    {
     "data": {
      "text/html": [],
      "text/plain": [
       "<IPython.core.display.HTML object>"
      ]
     },
     "metadata": {},
     "output_type": "display_data"
    },
    {
     "data": {
      "text/html": [],
      "text/plain": [
       "<IPython.core.display.HTML object>"
      ]
     },
     "metadata": {},
     "output_type": "display_data"
    },
    {
     "data": {
      "text/html": [],
      "text/plain": [
       "<IPython.core.display.HTML object>"
      ]
     },
     "metadata": {},
     "output_type": "display_data"
    },
    {
     "data": {
      "text/html": [],
      "text/plain": [
       "<IPython.core.display.HTML object>"
      ]
     },
     "metadata": {},
     "output_type": "display_data"
    },
    {
     "data": {
      "text/html": [],
      "text/plain": [
       "<IPython.core.display.HTML object>"
      ]
     },
     "metadata": {},
     "output_type": "display_data"
    },
    {
     "data": {
      "text/html": [],
      "text/plain": [
       "<IPython.core.display.HTML object>"
      ]
     },
     "metadata": {},
     "output_type": "display_data"
    },
    {
     "data": {
      "text/html": [],
      "text/plain": [
       "<IPython.core.display.HTML object>"
      ]
     },
     "metadata": {},
     "output_type": "display_data"
    },
    {
     "data": {
      "text/html": [],
      "text/plain": [
       "<IPython.core.display.HTML object>"
      ]
     },
     "metadata": {},
     "output_type": "display_data"
    },
    {
     "data": {
      "text/html": [],
      "text/plain": [
       "<IPython.core.display.HTML object>"
      ]
     },
     "metadata": {},
     "output_type": "display_data"
    },
    {
     "data": {
      "text/html": [
       "<div>\n",
       "<style scoped>\n",
       "    .dataframe tbody tr th:only-of-type {\n",
       "        vertical-align: middle;\n",
       "    }\n",
       "\n",
       "    .dataframe tbody tr th {\n",
       "        vertical-align: top;\n",
       "    }\n",
       "\n",
       "    .dataframe thead th {\n",
       "        text-align: right;\n",
       "    }\n",
       "</style>\n",
       "<table border=\"1\" class=\"dataframe\">\n",
       "  <thead>\n",
       "    <tr style=\"text-align: right;\">\n",
       "      <th></th>\n",
       "      <th>no_con</th>\n",
       "      <th>&gt;200</th>\n",
       "      <th>&gt;100</th>\n",
       "      <th>&gt;70</th>\n",
       "      <th>&gt;50</th>\n",
       "      <th>&gt;30</th>\n",
       "      <th>30&lt;=</th>\n",
       "    </tr>\n",
       "  </thead>\n",
       "  <tbody>\n",
       "    <tr>\n",
       "      <th>shuff1</th>\n",
       "      <td>22</td>\n",
       "      <td>4</td>\n",
       "      <td>7</td>\n",
       "      <td>13</td>\n",
       "      <td>14</td>\n",
       "      <td>19</td>\n",
       "      <td>3</td>\n",
       "    </tr>\n",
       "    <tr>\n",
       "      <th>shuff2</th>\n",
       "      <td>29</td>\n",
       "      <td>4</td>\n",
       "      <td>6</td>\n",
       "      <td>13</td>\n",
       "      <td>24</td>\n",
       "      <td>29</td>\n",
       "      <td>0</td>\n",
       "    </tr>\n",
       "    <tr>\n",
       "      <th>shuff3</th>\n",
       "      <td>16</td>\n",
       "      <td>4</td>\n",
       "      <td>6</td>\n",
       "      <td>10</td>\n",
       "      <td>12</td>\n",
       "      <td>16</td>\n",
       "      <td>0</td>\n",
       "    </tr>\n",
       "    <tr>\n",
       "      <th>shuff4</th>\n",
       "      <td>13</td>\n",
       "      <td>4</td>\n",
       "      <td>7</td>\n",
       "      <td>8</td>\n",
       "      <td>8</td>\n",
       "      <td>12</td>\n",
       "      <td>1</td>\n",
       "    </tr>\n",
       "    <tr>\n",
       "      <th>shuff5</th>\n",
       "      <td>20</td>\n",
       "      <td>4</td>\n",
       "      <td>7</td>\n",
       "      <td>12</td>\n",
       "      <td>12</td>\n",
       "      <td>19</td>\n",
       "      <td>1</td>\n",
       "    </tr>\n",
       "    <tr>\n",
       "      <th>shuff6</th>\n",
       "      <td>24</td>\n",
       "      <td>4</td>\n",
       "      <td>7</td>\n",
       "      <td>11</td>\n",
       "      <td>15</td>\n",
       "      <td>21</td>\n",
       "      <td>3</td>\n",
       "    </tr>\n",
       "    <tr>\n",
       "      <th>shuff7</th>\n",
       "      <td>14</td>\n",
       "      <td>4</td>\n",
       "      <td>6</td>\n",
       "      <td>9</td>\n",
       "      <td>9</td>\n",
       "      <td>12</td>\n",
       "      <td>2</td>\n",
       "    </tr>\n",
       "    <tr>\n",
       "      <th>shuff8</th>\n",
       "      <td>23</td>\n",
       "      <td>4</td>\n",
       "      <td>7</td>\n",
       "      <td>13</td>\n",
       "      <td>15</td>\n",
       "      <td>22</td>\n",
       "      <td>1</td>\n",
       "    </tr>\n",
       "    <tr>\n",
       "      <th>shuff9</th>\n",
       "      <td>30</td>\n",
       "      <td>4</td>\n",
       "      <td>6</td>\n",
       "      <td>14</td>\n",
       "      <td>25</td>\n",
       "      <td>30</td>\n",
       "      <td>0</td>\n",
       "    </tr>\n",
       "    <tr>\n",
       "      <th>shuff10</th>\n",
       "      <td>16</td>\n",
       "      <td>4</td>\n",
       "      <td>6</td>\n",
       "      <td>11</td>\n",
       "      <td>11</td>\n",
       "      <td>16</td>\n",
       "      <td>0</td>\n",
       "    </tr>\n",
       "  </tbody>\n",
       "</table>\n",
       "</div>"
      ],
      "text/plain": [
       "        no_con >200 >100 >70 >50 >30 30<=\n",
       "shuff1      22    4    7  13  14  19    3\n",
       "shuff2      29    4    6  13  24  29    0\n",
       "shuff3      16    4    6  10  12  16    0\n",
       "shuff4      13    4    7   8   8  12    1\n",
       "shuff5      20    4    7  12  12  19    1\n",
       "shuff6      24    4    7  11  15  21    3\n",
       "shuff7      14    4    6   9   9  12    2\n",
       "shuff8      23    4    7  13  15  22    1\n",
       "shuff9      30    4    6  14  25  30    0\n",
       "shuff10     16    4    6  11  11  16    0"
      ]
     },
     "execution_count": 30,
     "metadata": {},
     "output_type": "execute_result"
    }
   ],
   "source": [
    "result_df = pd.DataFrame( columns=[\"no_con\",\">200\",\">100\",\">70\",\">50\",\">30\",\"30<=\"],\n",
    "    index = ['shuff1','shuff2', 'shuff3',\"shuff4\",\"shuff5\",\"shuff6\",\"shuff7\",\"shuff8\",\"shuff9\",\"shuff10\"])\n",
    "# shuff1\n",
    "df_ = pd.read_pickle(\"../datasets/truthset/AMPs_truthset_42.reps.plk\")\n",
    "result_df.loc['shuff1', 'no_con']=predict(df_,0)\n",
    "result_df.loc['shuff1', '>200']= predict(df_,200)\n",
    "result_df.loc['shuff1', '>100']=predict(df_,100)\n",
    "result_df.loc['shuff1', '>70']=predict(df_,70)\n",
    "result_df.loc['shuff1', '>50']=predict(df_,50)\n",
    "result_df.loc['shuff1', '>30']=predict(df_,30)\n",
    "result_df.loc['shuff1', '30<=']=predict(df_,-1)\n",
    "# shuff2\n",
    "df_ = pd.read_pickle(\"../datasets/truthset/AMPs_truthset_43.reps.plk\")\n",
    "result_df.loc['shuff2', 'no_con']=predict(df_,0)\n",
    "result_df.loc['shuff2', '>200']= predict(df_,200)\n",
    "result_df.loc['shuff2', '>100']=predict(df_,100)\n",
    "result_df.loc['shuff2', '>70']=predict(df_,70)\n",
    "result_df.loc['shuff2', '>50']=predict(df_,50)\n",
    "result_df.loc['shuff2', '>30']=predict(df_,30)\n",
    "result_df.loc['shuff2', '30<=']=predict(df_,-1)\n",
    "# shuff3\n",
    "df_ = pd.read_pickle(\"../datasets/truthset/AMPs_truthset_44.reps.plk\")\n",
    "result_df.loc['shuff3', 'no_con']=predict(df_,0)\n",
    "result_df.loc['shuff3', '>200']= predict(df_,200)\n",
    "result_df.loc['shuff3', '>100']=predict(df_,100)\n",
    "result_df.loc['shuff3', '>70']=predict(df_,70)\n",
    "result_df.loc['shuff3', '>50']=predict(df_,50)\n",
    "result_df.loc['shuff3', '>30']=predict(df_,30)\n",
    "result_df.loc['shuff3', '30<=']=predict(df_,-1)\n",
    "# shuff4\n",
    "df_ = pd.read_pickle(\"../datasets/truthset/AMPs_truthset_45.reps.plk\")\n",
    "index = \"shuff4\"\n",
    "result_df.loc[index, 'no_con']=predict(df_,0)\n",
    "result_df.loc[index, '>200']= predict(df_,200)\n",
    "result_df.loc[index, '>100']=predict(df_,100)\n",
    "result_df.loc[index, '>70']=predict(df_,70)\n",
    "result_df.loc[index, '>50']=predict(df_,50)\n",
    "result_df.loc[index, '>30']=predict(df_,30)\n",
    "result_df.loc[index, '30<=']=predict(df_,-1)\n",
    "# shuff5\n",
    "df_ = pd.read_pickle(\"../datasets/truthset/AMPs_truthset_46.reps.plk\")\n",
    "index = \"shuff5\"\n",
    "result_df.loc[index, 'no_con']=predict(df_,0)\n",
    "result_df.loc[index, '>200']= predict(df_,200)\n",
    "result_df.loc[index, '>100']=predict(df_,100)\n",
    "result_df.loc[index, '>70']=predict(df_,70)\n",
    "result_df.loc[index, '>50']=predict(df_,50)\n",
    "result_df.loc[index, '>30']=predict(df_,30)\n",
    "result_df.loc[index, '30<=']=predict(df_,-1)\n",
    "# shuff6\n",
    "df_ = pd.read_pickle(\"../datasets/truthset/AMPs_truthset_47.reps.plk\")\n",
    "index = \"shuff6\"\n",
    "result_df.loc[index, 'no_con']=predict(df_,0)\n",
    "result_df.loc[index, '>200']= predict(df_,200)\n",
    "result_df.loc[index, '>100']=predict(df_,100)\n",
    "result_df.loc[index, '>70']=predict(df_,70)\n",
    "result_df.loc[index, '>50']=predict(df_,50)\n",
    "result_df.loc[index, '>30']=predict(df_,30)\n",
    "result_df.loc[index, '30<=']=predict(df_,-1)\n",
    "# shuff7\n",
    "df_ = pd.read_pickle(\"../datasets/truthset/AMPs_truthset_48.reps.plk\")\n",
    "index = \"shuff7\"\n",
    "result_df.loc[index, 'no_con']=predict(df_,0)\n",
    "result_df.loc[index, '>200']= predict(df_,200)\n",
    "result_df.loc[index, '>100']=predict(df_,100)\n",
    "result_df.loc[index, '>70']=predict(df_,70)\n",
    "result_df.loc[index, '>50']=predict(df_,50)\n",
    "result_df.loc[index, '>30']=predict(df_,30)\n",
    "result_df.loc[index, '30<=']=predict(df_,-1)\n",
    "# shuff8\n",
    "df_ = pd.read_pickle(\"../datasets/truthset/AMPs_truthset_49.reps.plk\")\n",
    "index = \"shuff8\"\n",
    "result_df.loc[index, 'no_con']=predict(df_,0)\n",
    "result_df.loc[index, '>200']= predict(df_,200)\n",
    "result_df.loc[index, '>100']=predict(df_,100)\n",
    "result_df.loc[index, '>70']=predict(df_,70)\n",
    "result_df.loc[index, '>50']=predict(df_,50)\n",
    "result_df.loc[index, '>30']=predict(df_,30)\n",
    "result_df.loc[index, '30<=']=predict(df_,-1)\n",
    "# shuff9\n",
    "df_ = pd.read_pickle(\"../datasets/truthset/AMPs_truthset_50.reps.plk\")\n",
    "index = \"shuff9\"\n",
    "result_df.loc[index, 'no_con']=predict(df_,0)\n",
    "result_df.loc[index, '>200']= predict(df_,200)\n",
    "result_df.loc[index, '>100']=predict(df_,100)\n",
    "result_df.loc[index, '>70']=predict(df_,70)\n",
    "result_df.loc[index, '>50']=predict(df_,50)\n",
    "result_df.loc[index, '>30']=predict(df_,30)\n",
    "result_df.loc[index, '30<=']=predict(df_,-1)\n",
    "# shuff10\n",
    "df_ = pd.read_pickle(\"../datasets/truthset/AMPs_truthset_51.reps.plk\")\n",
    "index = \"shuff10\"\n",
    "result_df.loc[index, 'no_con']=predict(df_,0)\n",
    "result_df.loc[index, '>200']= predict(df_,200)\n",
    "result_df.loc[index, '>100']=predict(df_,100)\n",
    "result_df.loc[index, '>70']=predict(df_,70)\n",
    "result_df.loc[index, '>50']=predict(df_,50)\n",
    "result_df.loc[index, '>30']=predict(df_,30)\n",
    "result_df.loc[index, '30<=']=predict(df_,-1)\n",
    "\n",
    "result_df"
   ]
  },
  {
   "cell_type": "markdown",
   "metadata": {},
   "source": [
    "## Retrain with <= 480 AA TubularLearner.III_1699._480.nodropout.retrain"
   ]
  },
  {
   "cell_type": "code",
   "execution_count": 14,
   "metadata": {},
   "outputs": [],
   "source": [
    "deployed_path = \"/mnt/vdb/thesis/TubularLearner.III_1699._480.nodropout.retrain\"\n",
    "#deployed_path = \"TubularLearner.fastAI._stage2.pth\"\n",
    "learner = load_learner(deployed_path)"
   ]
  },
  {
   "cell_type": "code",
   "execution_count": 15,
   "metadata": {},
   "outputs": [
    {
     "data": {
      "text/html": [],
      "text/plain": [
       "<IPython.core.display.HTML object>"
      ]
     },
     "metadata": {},
     "output_type": "display_data"
    },
    {
     "data": {
      "text/html": [],
      "text/plain": [
       "<IPython.core.display.HTML object>"
      ]
     },
     "metadata": {},
     "output_type": "display_data"
    },
    {
     "data": {
      "text/html": [],
      "text/plain": [
       "<IPython.core.display.HTML object>"
      ]
     },
     "metadata": {},
     "output_type": "display_data"
    },
    {
     "data": {
      "text/html": [],
      "text/plain": [
       "<IPython.core.display.HTML object>"
      ]
     },
     "metadata": {},
     "output_type": "display_data"
    },
    {
     "data": {
      "text/html": [],
      "text/plain": [
       "<IPython.core.display.HTML object>"
      ]
     },
     "metadata": {},
     "output_type": "display_data"
    },
    {
     "data": {
      "text/html": [],
      "text/plain": [
       "<IPython.core.display.HTML object>"
      ]
     },
     "metadata": {},
     "output_type": "display_data"
    },
    {
     "data": {
      "text/html": [],
      "text/plain": [
       "<IPython.core.display.HTML object>"
      ]
     },
     "metadata": {},
     "output_type": "display_data"
    },
    {
     "data": {
      "text/html": [],
      "text/plain": [
       "<IPython.core.display.HTML object>"
      ]
     },
     "metadata": {},
     "output_type": "display_data"
    },
    {
     "data": {
      "text/html": [],
      "text/plain": [
       "<IPython.core.display.HTML object>"
      ]
     },
     "metadata": {},
     "output_type": "display_data"
    },
    {
     "data": {
      "text/html": [],
      "text/plain": [
       "<IPython.core.display.HTML object>"
      ]
     },
     "metadata": {},
     "output_type": "display_data"
    },
    {
     "data": {
      "text/html": [],
      "text/plain": [
       "<IPython.core.display.HTML object>"
      ]
     },
     "metadata": {},
     "output_type": "display_data"
    },
    {
     "data": {
      "text/html": [],
      "text/plain": [
       "<IPython.core.display.HTML object>"
      ]
     },
     "metadata": {},
     "output_type": "display_data"
    },
    {
     "data": {
      "text/html": [],
      "text/plain": [
       "<IPython.core.display.HTML object>"
      ]
     },
     "metadata": {},
     "output_type": "display_data"
    },
    {
     "data": {
      "text/html": [],
      "text/plain": [
       "<IPython.core.display.HTML object>"
      ]
     },
     "metadata": {},
     "output_type": "display_data"
    },
    {
     "data": {
      "text/html": [],
      "text/plain": [
       "<IPython.core.display.HTML object>"
      ]
     },
     "metadata": {},
     "output_type": "display_data"
    },
    {
     "data": {
      "text/html": [],
      "text/plain": [
       "<IPython.core.display.HTML object>"
      ]
     },
     "metadata": {},
     "output_type": "display_data"
    },
    {
     "data": {
      "text/html": [],
      "text/plain": [
       "<IPython.core.display.HTML object>"
      ]
     },
     "metadata": {},
     "output_type": "display_data"
    },
    {
     "data": {
      "text/html": [],
      "text/plain": [
       "<IPython.core.display.HTML object>"
      ]
     },
     "metadata": {},
     "output_type": "display_data"
    },
    {
     "data": {
      "text/html": [],
      "text/plain": [
       "<IPython.core.display.HTML object>"
      ]
     },
     "metadata": {},
     "output_type": "display_data"
    },
    {
     "data": {
      "text/html": [],
      "text/plain": [
       "<IPython.core.display.HTML object>"
      ]
     },
     "metadata": {},
     "output_type": "display_data"
    },
    {
     "data": {
      "text/html": [],
      "text/plain": [
       "<IPython.core.display.HTML object>"
      ]
     },
     "metadata": {},
     "output_type": "display_data"
    },
    {
     "data": {
      "text/html": [],
      "text/plain": [
       "<IPython.core.display.HTML object>"
      ]
     },
     "metadata": {},
     "output_type": "display_data"
    },
    {
     "data": {
      "text/html": [],
      "text/plain": [
       "<IPython.core.display.HTML object>"
      ]
     },
     "metadata": {},
     "output_type": "display_data"
    },
    {
     "data": {
      "text/html": [],
      "text/plain": [
       "<IPython.core.display.HTML object>"
      ]
     },
     "metadata": {},
     "output_type": "display_data"
    },
    {
     "data": {
      "text/html": [],
      "text/plain": [
       "<IPython.core.display.HTML object>"
      ]
     },
     "metadata": {},
     "output_type": "display_data"
    },
    {
     "data": {
      "text/html": [],
      "text/plain": [
       "<IPython.core.display.HTML object>"
      ]
     },
     "metadata": {},
     "output_type": "display_data"
    },
    {
     "data": {
      "text/html": [],
      "text/plain": [
       "<IPython.core.display.HTML object>"
      ]
     },
     "metadata": {},
     "output_type": "display_data"
    },
    {
     "data": {
      "text/html": [],
      "text/plain": [
       "<IPython.core.display.HTML object>"
      ]
     },
     "metadata": {},
     "output_type": "display_data"
    },
    {
     "data": {
      "text/html": [],
      "text/plain": [
       "<IPython.core.display.HTML object>"
      ]
     },
     "metadata": {},
     "output_type": "display_data"
    },
    {
     "data": {
      "text/html": [],
      "text/plain": [
       "<IPython.core.display.HTML object>"
      ]
     },
     "metadata": {},
     "output_type": "display_data"
    },
    {
     "data": {
      "text/html": [],
      "text/plain": [
       "<IPython.core.display.HTML object>"
      ]
     },
     "metadata": {},
     "output_type": "display_data"
    },
    {
     "data": {
      "text/html": [],
      "text/plain": [
       "<IPython.core.display.HTML object>"
      ]
     },
     "metadata": {},
     "output_type": "display_data"
    },
    {
     "data": {
      "text/html": [],
      "text/plain": [
       "<IPython.core.display.HTML object>"
      ]
     },
     "metadata": {},
     "output_type": "display_data"
    },
    {
     "data": {
      "text/html": [],
      "text/plain": [
       "<IPython.core.display.HTML object>"
      ]
     },
     "metadata": {},
     "output_type": "display_data"
    },
    {
     "data": {
      "text/html": [],
      "text/plain": [
       "<IPython.core.display.HTML object>"
      ]
     },
     "metadata": {},
     "output_type": "display_data"
    },
    {
     "data": {
      "text/html": [],
      "text/plain": [
       "<IPython.core.display.HTML object>"
      ]
     },
     "metadata": {},
     "output_type": "display_data"
    },
    {
     "data": {
      "text/html": [],
      "text/plain": [
       "<IPython.core.display.HTML object>"
      ]
     },
     "metadata": {},
     "output_type": "display_data"
    },
    {
     "data": {
      "text/html": [],
      "text/plain": [
       "<IPython.core.display.HTML object>"
      ]
     },
     "metadata": {},
     "output_type": "display_data"
    },
    {
     "data": {
      "text/html": [],
      "text/plain": [
       "<IPython.core.display.HTML object>"
      ]
     },
     "metadata": {},
     "output_type": "display_data"
    },
    {
     "data": {
      "text/html": [],
      "text/plain": [
       "<IPython.core.display.HTML object>"
      ]
     },
     "metadata": {},
     "output_type": "display_data"
    },
    {
     "data": {
      "text/html": [],
      "text/plain": [
       "<IPython.core.display.HTML object>"
      ]
     },
     "metadata": {},
     "output_type": "display_data"
    },
    {
     "data": {
      "text/html": [],
      "text/plain": [
       "<IPython.core.display.HTML object>"
      ]
     },
     "metadata": {},
     "output_type": "display_data"
    },
    {
     "data": {
      "text/html": [],
      "text/plain": [
       "<IPython.core.display.HTML object>"
      ]
     },
     "metadata": {},
     "output_type": "display_data"
    },
    {
     "data": {
      "text/html": [],
      "text/plain": [
       "<IPython.core.display.HTML object>"
      ]
     },
     "metadata": {},
     "output_type": "display_data"
    },
    {
     "data": {
      "text/html": [],
      "text/plain": [
       "<IPython.core.display.HTML object>"
      ]
     },
     "metadata": {},
     "output_type": "display_data"
    },
    {
     "data": {
      "text/html": [],
      "text/plain": [
       "<IPython.core.display.HTML object>"
      ]
     },
     "metadata": {},
     "output_type": "display_data"
    },
    {
     "data": {
      "text/html": [],
      "text/plain": [
       "<IPython.core.display.HTML object>"
      ]
     },
     "metadata": {},
     "output_type": "display_data"
    },
    {
     "data": {
      "text/html": [],
      "text/plain": [
       "<IPython.core.display.HTML object>"
      ]
     },
     "metadata": {},
     "output_type": "display_data"
    },
    {
     "data": {
      "text/html": [],
      "text/plain": [
       "<IPython.core.display.HTML object>"
      ]
     },
     "metadata": {},
     "output_type": "display_data"
    },
    {
     "data": {
      "text/html": [],
      "text/plain": [
       "<IPython.core.display.HTML object>"
      ]
     },
     "metadata": {},
     "output_type": "display_data"
    },
    {
     "data": {
      "text/html": [],
      "text/plain": [
       "<IPython.core.display.HTML object>"
      ]
     },
     "metadata": {},
     "output_type": "display_data"
    },
    {
     "data": {
      "text/html": [],
      "text/plain": [
       "<IPython.core.display.HTML object>"
      ]
     },
     "metadata": {},
     "output_type": "display_data"
    },
    {
     "data": {
      "text/html": [],
      "text/plain": [
       "<IPython.core.display.HTML object>"
      ]
     },
     "metadata": {},
     "output_type": "display_data"
    },
    {
     "data": {
      "text/html": [],
      "text/plain": [
       "<IPython.core.display.HTML object>"
      ]
     },
     "metadata": {},
     "output_type": "display_data"
    },
    {
     "data": {
      "text/html": [],
      "text/plain": [
       "<IPython.core.display.HTML object>"
      ]
     },
     "metadata": {},
     "output_type": "display_data"
    },
    {
     "data": {
      "text/html": [],
      "text/plain": [
       "<IPython.core.display.HTML object>"
      ]
     },
     "metadata": {},
     "output_type": "display_data"
    },
    {
     "data": {
      "text/html": [],
      "text/plain": [
       "<IPython.core.display.HTML object>"
      ]
     },
     "metadata": {},
     "output_type": "display_data"
    },
    {
     "data": {
      "text/html": [],
      "text/plain": [
       "<IPython.core.display.HTML object>"
      ]
     },
     "metadata": {},
     "output_type": "display_data"
    },
    {
     "data": {
      "text/html": [],
      "text/plain": [
       "<IPython.core.display.HTML object>"
      ]
     },
     "metadata": {},
     "output_type": "display_data"
    },
    {
     "data": {
      "text/html": [],
      "text/plain": [
       "<IPython.core.display.HTML object>"
      ]
     },
     "metadata": {},
     "output_type": "display_data"
    },
    {
     "data": {
      "text/html": [],
      "text/plain": [
       "<IPython.core.display.HTML object>"
      ]
     },
     "metadata": {},
     "output_type": "display_data"
    },
    {
     "data": {
      "text/html": [],
      "text/plain": [
       "<IPython.core.display.HTML object>"
      ]
     },
     "metadata": {},
     "output_type": "display_data"
    },
    {
     "data": {
      "text/html": [],
      "text/plain": [
       "<IPython.core.display.HTML object>"
      ]
     },
     "metadata": {},
     "output_type": "display_data"
    },
    {
     "data": {
      "text/html": [],
      "text/plain": [
       "<IPython.core.display.HTML object>"
      ]
     },
     "metadata": {},
     "output_type": "display_data"
    },
    {
     "data": {
      "text/html": [],
      "text/plain": [
       "<IPython.core.display.HTML object>"
      ]
     },
     "metadata": {},
     "output_type": "display_data"
    },
    {
     "data": {
      "text/html": [],
      "text/plain": [
       "<IPython.core.display.HTML object>"
      ]
     },
     "metadata": {},
     "output_type": "display_data"
    },
    {
     "data": {
      "text/html": [],
      "text/plain": [
       "<IPython.core.display.HTML object>"
      ]
     },
     "metadata": {},
     "output_type": "display_data"
    },
    {
     "data": {
      "text/html": [],
      "text/plain": [
       "<IPython.core.display.HTML object>"
      ]
     },
     "metadata": {},
     "output_type": "display_data"
    },
    {
     "data": {
      "text/html": [],
      "text/plain": [
       "<IPython.core.display.HTML object>"
      ]
     },
     "metadata": {},
     "output_type": "display_data"
    },
    {
     "data": {
      "text/html": [],
      "text/plain": [
       "<IPython.core.display.HTML object>"
      ]
     },
     "metadata": {},
     "output_type": "display_data"
    }
   ],
   "source": [
    "result_df = pd.DataFrame( columns=[\"no_con\",\">200\",\">100\",\">70\",\">50\",\">30\",\"30<=\"],\n",
    "    index = ['shuff1','shuff2', 'shuff3',\"shuff4\",\"shuff5\",\"shuff6\",\"shuff7\",\"shuff8\",\"shuff9\",\"shuff10\"])\n",
    "# shuff1\n",
    "df_ = pd.read_pickle(\"../datasets/truthset/AMPs_truthset_42.reps.plk\")\n",
    "result_df.loc['shuff1', 'no_con']=predict(df_,0)\n",
    "result_df.loc['shuff1', '>200']= predict(df_,200)\n",
    "result_df.loc['shuff1', '>100']=predict(df_,100)\n",
    "result_df.loc['shuff1', '>70']=predict(df_,70)\n",
    "result_df.loc['shuff1', '>50']=predict(df_,50)\n",
    "result_df.loc['shuff1', '>30']=predict(df_,30)\n",
    "result_df.loc['shuff1', '30<=']=predict(df_,-1)\n",
    "# shuff2\n",
    "df_ = pd.read_pickle(\"../datasets/truthset/AMPs_truthset_43.reps.plk\")\n",
    "result_df.loc['shuff2', 'no_con']=predict(df_,0)\n",
    "result_df.loc['shuff2', '>200']= predict(df_,200)\n",
    "result_df.loc['shuff2', '>100']=predict(df_,100)\n",
    "result_df.loc['shuff2', '>70']=predict(df_,70)\n",
    "result_df.loc['shuff2', '>50']=predict(df_,50)\n",
    "result_df.loc['shuff2', '>30']=predict(df_,30)\n",
    "result_df.loc['shuff2', '30<=']=predict(df_,-1)\n",
    "# shuff3\n",
    "df_ = pd.read_pickle(\"../datasets/truthset/AMPs_truthset_44.reps.plk\")\n",
    "result_df.loc['shuff3', 'no_con']=predict(df_,0)\n",
    "result_df.loc['shuff3', '>200']= predict(df_,200)\n",
    "result_df.loc['shuff3', '>100']=predict(df_,100)\n",
    "result_df.loc['shuff3', '>70']=predict(df_,70)\n",
    "result_df.loc['shuff3', '>50']=predict(df_,50)\n",
    "result_df.loc['shuff3', '>30']=predict(df_,30)\n",
    "result_df.loc['shuff3', '30<=']=predict(df_,-1)\n",
    "# shuff4\n",
    "df_ = pd.read_pickle(\"../datasets/truthset/AMPs_truthset_45.reps.plk\")\n",
    "index = \"shuff4\"\n",
    "result_df.loc[index, 'no_con']=predict(df_,0)\n",
    "result_df.loc[index, '>200']= predict(df_,200)\n",
    "result_df.loc[index, '>100']=predict(df_,100)\n",
    "result_df.loc[index, '>70']=predict(df_,70)\n",
    "result_df.loc[index, '>50']=predict(df_,50)\n",
    "result_df.loc[index, '>30']=predict(df_,30)\n",
    "result_df.loc[index, '30<=']=predict(df_,-1)\n",
    "# shuff5\n",
    "df_ = pd.read_pickle(\"../datasets/truthset/AMPs_truthset_46.reps.plk\")\n",
    "index = \"shuff5\"\n",
    "result_df.loc[index, 'no_con']=predict(df_,0)\n",
    "result_df.loc[index, '>200']= predict(df_,200)\n",
    "result_df.loc[index, '>100']=predict(df_,100)\n",
    "result_df.loc[index, '>70']=predict(df_,70)\n",
    "result_df.loc[index, '>50']=predict(df_,50)\n",
    "result_df.loc[index, '>30']=predict(df_,30)\n",
    "result_df.loc[index, '30<=']=predict(df_,-1)\n",
    "# shuff6\n",
    "df_ = pd.read_pickle(\"../datasets/truthset/AMPs_truthset_47.reps.plk\")\n",
    "index = \"shuff6\"\n",
    "result_df.loc[index, 'no_con']=predict(df_,0)\n",
    "result_df.loc[index, '>200']= predict(df_,200)\n",
    "result_df.loc[index, '>100']=predict(df_,100)\n",
    "result_df.loc[index, '>70']=predict(df_,70)\n",
    "result_df.loc[index, '>50']=predict(df_,50)\n",
    "result_df.loc[index, '>30']=predict(df_,30)\n",
    "result_df.loc[index, '30<=']=predict(df_,-1)\n",
    "# shuff7\n",
    "df_ = pd.read_pickle(\"../datasets/truthset/AMPs_truthset_48.reps.plk\")\n",
    "index = \"shuff7\"\n",
    "result_df.loc[index, 'no_con']=predict(df_,0)\n",
    "result_df.loc[index, '>200']= predict(df_,200)\n",
    "result_df.loc[index, '>100']=predict(df_,100)\n",
    "result_df.loc[index, '>70']=predict(df_,70)\n",
    "result_df.loc[index, '>50']=predict(df_,50)\n",
    "result_df.loc[index, '>30']=predict(df_,30)\n",
    "result_df.loc[index, '30<=']=predict(df_,-1)\n",
    "# shuff8\n",
    "df_ = pd.read_pickle(\"../datasets/truthset/AMPs_truthset_49.reps.plk\")\n",
    "index = \"shuff8\"\n",
    "result_df.loc[index, 'no_con']=predict(df_,0)\n",
    "result_df.loc[index, '>200']= predict(df_,200)\n",
    "result_df.loc[index, '>100']=predict(df_,100)\n",
    "result_df.loc[index, '>70']=predict(df_,70)\n",
    "result_df.loc[index, '>50']=predict(df_,50)\n",
    "result_df.loc[index, '>30']=predict(df_,30)\n",
    "result_df.loc[index, '30<=']=predict(df_,-1)\n",
    "# shuff9\n",
    "df_ = pd.read_pickle(\"../datasets/truthset/AMPs_truthset_50.reps.plk\")\n",
    "index = \"shuff9\"\n",
    "result_df.loc[index, 'no_con']=predict(df_,0)\n",
    "result_df.loc[index, '>200']= predict(df_,200)\n",
    "result_df.loc[index, '>100']=predict(df_,100)\n",
    "result_df.loc[index, '>70']=predict(df_,70)\n",
    "result_df.loc[index, '>50']=predict(df_,50)\n",
    "result_df.loc[index, '>30']=predict(df_,30)\n",
    "result_df.loc[index, '30<=']=predict(df_,-1)\n",
    "# shuff10\n",
    "df_ = pd.read_pickle(\"../datasets/truthset/AMPs_truthset_51.reps.plk\")\n",
    "index = \"shuff10\"\n",
    "result_df.loc[index, 'no_con']=predict(df_,0)\n",
    "result_df.loc[index, '>200']= predict(df_,200)\n",
    "result_df.loc[index, '>100']=predict(df_,100)\n",
    "result_df.loc[index, '>70']=predict(df_,70)\n",
    "result_df.loc[index, '>50']=predict(df_,50)\n",
    "result_df.loc[index, '>30']=predict(df_,30)\n",
    "result_df.loc[index, '30<=']=predict(df_,-1)\n"
   ]
  },
  {
   "cell_type": "code",
   "execution_count": 16,
   "metadata": {},
   "outputs": [
    {
     "data": {
      "text/html": [
       "<div>\n",
       "<style scoped>\n",
       "    .dataframe tbody tr th:only-of-type {\n",
       "        vertical-align: middle;\n",
       "    }\n",
       "\n",
       "    .dataframe tbody tr th {\n",
       "        vertical-align: top;\n",
       "    }\n",
       "\n",
       "    .dataframe thead th {\n",
       "        text-align: right;\n",
       "    }\n",
       "</style>\n",
       "<table border=\"1\" class=\"dataframe\">\n",
       "  <thead>\n",
       "    <tr style=\"text-align: right;\">\n",
       "      <th></th>\n",
       "      <th>no_con</th>\n",
       "      <th>&gt;200</th>\n",
       "      <th>&gt;100</th>\n",
       "      <th>&gt;70</th>\n",
       "      <th>&gt;50</th>\n",
       "      <th>&gt;30</th>\n",
       "      <th>30&lt;=</th>\n",
       "    </tr>\n",
       "  </thead>\n",
       "  <tbody>\n",
       "    <tr>\n",
       "      <th>shuff1</th>\n",
       "      <td>21</td>\n",
       "      <td>1</td>\n",
       "      <td>4</td>\n",
       "      <td>10</td>\n",
       "      <td>11</td>\n",
       "      <td>18</td>\n",
       "      <td>3</td>\n",
       "    </tr>\n",
       "    <tr>\n",
       "      <th>shuff2</th>\n",
       "      <td>28</td>\n",
       "      <td>1</td>\n",
       "      <td>4</td>\n",
       "      <td>10</td>\n",
       "      <td>21</td>\n",
       "      <td>26</td>\n",
       "      <td>2</td>\n",
       "    </tr>\n",
       "    <tr>\n",
       "      <th>shuff3</th>\n",
       "      <td>15</td>\n",
       "      <td>0</td>\n",
       "      <td>2</td>\n",
       "      <td>8</td>\n",
       "      <td>10</td>\n",
       "      <td>14</td>\n",
       "      <td>1</td>\n",
       "    </tr>\n",
       "    <tr>\n",
       "      <th>shuff4</th>\n",
       "      <td>14</td>\n",
       "      <td>0</td>\n",
       "      <td>3</td>\n",
       "      <td>5</td>\n",
       "      <td>6</td>\n",
       "      <td>13</td>\n",
       "      <td>1</td>\n",
       "    </tr>\n",
       "    <tr>\n",
       "      <th>shuff5</th>\n",
       "      <td>17</td>\n",
       "      <td>0</td>\n",
       "      <td>3</td>\n",
       "      <td>8</td>\n",
       "      <td>8</td>\n",
       "      <td>15</td>\n",
       "      <td>2</td>\n",
       "    </tr>\n",
       "    <tr>\n",
       "      <th>shuff6</th>\n",
       "      <td>19</td>\n",
       "      <td>1</td>\n",
       "      <td>4</td>\n",
       "      <td>8</td>\n",
       "      <td>9</td>\n",
       "      <td>16</td>\n",
       "      <td>3</td>\n",
       "    </tr>\n",
       "    <tr>\n",
       "      <th>shuff7</th>\n",
       "      <td>12</td>\n",
       "      <td>0</td>\n",
       "      <td>3</td>\n",
       "      <td>6</td>\n",
       "      <td>6</td>\n",
       "      <td>9</td>\n",
       "      <td>3</td>\n",
       "    </tr>\n",
       "    <tr>\n",
       "      <th>shuff8</th>\n",
       "      <td>13</td>\n",
       "      <td>1</td>\n",
       "      <td>4</td>\n",
       "      <td>8</td>\n",
       "      <td>8</td>\n",
       "      <td>12</td>\n",
       "      <td>1</td>\n",
       "    </tr>\n",
       "    <tr>\n",
       "      <th>shuff9</th>\n",
       "      <td>18</td>\n",
       "      <td>1</td>\n",
       "      <td>3</td>\n",
       "      <td>9</td>\n",
       "      <td>14</td>\n",
       "      <td>18</td>\n",
       "      <td>0</td>\n",
       "    </tr>\n",
       "    <tr>\n",
       "      <th>shuff10</th>\n",
       "      <td>11</td>\n",
       "      <td>0</td>\n",
       "      <td>3</td>\n",
       "      <td>7</td>\n",
       "      <td>7</td>\n",
       "      <td>11</td>\n",
       "      <td>0</td>\n",
       "    </tr>\n",
       "  </tbody>\n",
       "</table>\n",
       "</div>"
      ],
      "text/plain": [
       "        no_con >200 >100 >70 >50 >30 30<=\n",
       "shuff1      21    1    4  10  11  18    3\n",
       "shuff2      28    1    4  10  21  26    2\n",
       "shuff3      15    0    2   8  10  14    1\n",
       "shuff4      14    0    3   5   6  13    1\n",
       "shuff5      17    0    3   8   8  15    2\n",
       "shuff6      19    1    4   8   9  16    3\n",
       "shuff7      12    0    3   6   6   9    3\n",
       "shuff8      13    1    4   8   8  12    1\n",
       "shuff9      18    1    3   9  14  18    0\n",
       "shuff10     11    0    3   7   7  11    0"
      ]
     },
     "execution_count": 16,
     "metadata": {},
     "output_type": "execute_result"
    }
   ],
   "source": [
    "result_df"
   ]
  },
  {
   "cell_type": "markdown",
   "metadata": {},
   "source": [
    "## Retrain .III."
   ]
  },
  {
   "cell_type": "code",
   "execution_count": 12,
   "metadata": {
    "scrolled": true
   },
   "outputs": [
    {
     "data": {
      "text/html": [],
      "text/plain": [
       "<IPython.core.display.HTML object>"
      ]
     },
     "metadata": {},
     "output_type": "display_data"
    },
    {
     "data": {
      "text/html": [],
      "text/plain": [
       "<IPython.core.display.HTML object>"
      ]
     },
     "metadata": {},
     "output_type": "display_data"
    },
    {
     "data": {
      "text/html": [],
      "text/plain": [
       "<IPython.core.display.HTML object>"
      ]
     },
     "metadata": {},
     "output_type": "display_data"
    },
    {
     "data": {
      "text/html": [],
      "text/plain": [
       "<IPython.core.display.HTML object>"
      ]
     },
     "metadata": {},
     "output_type": "display_data"
    },
    {
     "data": {
      "text/html": [],
      "text/plain": [
       "<IPython.core.display.HTML object>"
      ]
     },
     "metadata": {},
     "output_type": "display_data"
    },
    {
     "data": {
      "text/html": [],
      "text/plain": [
       "<IPython.core.display.HTML object>"
      ]
     },
     "metadata": {},
     "output_type": "display_data"
    },
    {
     "data": {
      "text/html": [],
      "text/plain": [
       "<IPython.core.display.HTML object>"
      ]
     },
     "metadata": {},
     "output_type": "display_data"
    },
    {
     "data": {
      "text/html": [],
      "text/plain": [
       "<IPython.core.display.HTML object>"
      ]
     },
     "metadata": {},
     "output_type": "display_data"
    },
    {
     "data": {
      "text/html": [],
      "text/plain": [
       "<IPython.core.display.HTML object>"
      ]
     },
     "metadata": {},
     "output_type": "display_data"
    },
    {
     "data": {
      "text/html": [],
      "text/plain": [
       "<IPython.core.display.HTML object>"
      ]
     },
     "metadata": {},
     "output_type": "display_data"
    },
    {
     "data": {
      "text/html": [],
      "text/plain": [
       "<IPython.core.display.HTML object>"
      ]
     },
     "metadata": {},
     "output_type": "display_data"
    },
    {
     "data": {
      "text/html": [],
      "text/plain": [
       "<IPython.core.display.HTML object>"
      ]
     },
     "metadata": {},
     "output_type": "display_data"
    },
    {
     "data": {
      "text/html": [],
      "text/plain": [
       "<IPython.core.display.HTML object>"
      ]
     },
     "metadata": {},
     "output_type": "display_data"
    },
    {
     "data": {
      "text/html": [],
      "text/plain": [
       "<IPython.core.display.HTML object>"
      ]
     },
     "metadata": {},
     "output_type": "display_data"
    },
    {
     "data": {
      "text/html": [],
      "text/plain": [
       "<IPython.core.display.HTML object>"
      ]
     },
     "metadata": {},
     "output_type": "display_data"
    },
    {
     "data": {
      "text/html": [],
      "text/plain": [
       "<IPython.core.display.HTML object>"
      ]
     },
     "metadata": {},
     "output_type": "display_data"
    },
    {
     "data": {
      "text/html": [],
      "text/plain": [
       "<IPython.core.display.HTML object>"
      ]
     },
     "metadata": {},
     "output_type": "display_data"
    },
    {
     "data": {
      "text/html": [],
      "text/plain": [
       "<IPython.core.display.HTML object>"
      ]
     },
     "metadata": {},
     "output_type": "display_data"
    },
    {
     "data": {
      "text/html": [],
      "text/plain": [
       "<IPython.core.display.HTML object>"
      ]
     },
     "metadata": {},
     "output_type": "display_data"
    },
    {
     "data": {
      "text/html": [],
      "text/plain": [
       "<IPython.core.display.HTML object>"
      ]
     },
     "metadata": {},
     "output_type": "display_data"
    },
    {
     "data": {
      "text/html": [],
      "text/plain": [
       "<IPython.core.display.HTML object>"
      ]
     },
     "metadata": {},
     "output_type": "display_data"
    },
    {
     "data": {
      "text/html": [],
      "text/plain": [
       "<IPython.core.display.HTML object>"
      ]
     },
     "metadata": {},
     "output_type": "display_data"
    },
    {
     "data": {
      "text/html": [],
      "text/plain": [
       "<IPython.core.display.HTML object>"
      ]
     },
     "metadata": {},
     "output_type": "display_data"
    },
    {
     "data": {
      "text/html": [],
      "text/plain": [
       "<IPython.core.display.HTML object>"
      ]
     },
     "metadata": {},
     "output_type": "display_data"
    },
    {
     "data": {
      "text/html": [],
      "text/plain": [
       "<IPython.core.display.HTML object>"
      ]
     },
     "metadata": {},
     "output_type": "display_data"
    },
    {
     "data": {
      "text/html": [],
      "text/plain": [
       "<IPython.core.display.HTML object>"
      ]
     },
     "metadata": {},
     "output_type": "display_data"
    },
    {
     "data": {
      "text/html": [],
      "text/plain": [
       "<IPython.core.display.HTML object>"
      ]
     },
     "metadata": {},
     "output_type": "display_data"
    },
    {
     "data": {
      "text/html": [],
      "text/plain": [
       "<IPython.core.display.HTML object>"
      ]
     },
     "metadata": {},
     "output_type": "display_data"
    },
    {
     "data": {
      "text/html": [],
      "text/plain": [
       "<IPython.core.display.HTML object>"
      ]
     },
     "metadata": {},
     "output_type": "display_data"
    },
    {
     "data": {
      "text/html": [],
      "text/plain": [
       "<IPython.core.display.HTML object>"
      ]
     },
     "metadata": {},
     "output_type": "display_data"
    },
    {
     "data": {
      "text/html": [],
      "text/plain": [
       "<IPython.core.display.HTML object>"
      ]
     },
     "metadata": {},
     "output_type": "display_data"
    },
    {
     "data": {
      "text/html": [],
      "text/plain": [
       "<IPython.core.display.HTML object>"
      ]
     },
     "metadata": {},
     "output_type": "display_data"
    },
    {
     "data": {
      "text/html": [],
      "text/plain": [
       "<IPython.core.display.HTML object>"
      ]
     },
     "metadata": {},
     "output_type": "display_data"
    },
    {
     "data": {
      "text/html": [],
      "text/plain": [
       "<IPython.core.display.HTML object>"
      ]
     },
     "metadata": {},
     "output_type": "display_data"
    },
    {
     "data": {
      "text/html": [],
      "text/plain": [
       "<IPython.core.display.HTML object>"
      ]
     },
     "metadata": {},
     "output_type": "display_data"
    },
    {
     "data": {
      "text/html": [],
      "text/plain": [
       "<IPython.core.display.HTML object>"
      ]
     },
     "metadata": {},
     "output_type": "display_data"
    },
    {
     "data": {
      "text/html": [],
      "text/plain": [
       "<IPython.core.display.HTML object>"
      ]
     },
     "metadata": {},
     "output_type": "display_data"
    },
    {
     "data": {
      "text/html": [],
      "text/plain": [
       "<IPython.core.display.HTML object>"
      ]
     },
     "metadata": {},
     "output_type": "display_data"
    },
    {
     "data": {
      "text/html": [],
      "text/plain": [
       "<IPython.core.display.HTML object>"
      ]
     },
     "metadata": {},
     "output_type": "display_data"
    },
    {
     "data": {
      "text/html": [],
      "text/plain": [
       "<IPython.core.display.HTML object>"
      ]
     },
     "metadata": {},
     "output_type": "display_data"
    },
    {
     "data": {
      "text/html": [],
      "text/plain": [
       "<IPython.core.display.HTML object>"
      ]
     },
     "metadata": {},
     "output_type": "display_data"
    },
    {
     "data": {
      "text/html": [],
      "text/plain": [
       "<IPython.core.display.HTML object>"
      ]
     },
     "metadata": {},
     "output_type": "display_data"
    },
    {
     "data": {
      "text/html": [],
      "text/plain": [
       "<IPython.core.display.HTML object>"
      ]
     },
     "metadata": {},
     "output_type": "display_data"
    },
    {
     "data": {
      "text/html": [],
      "text/plain": [
       "<IPython.core.display.HTML object>"
      ]
     },
     "metadata": {},
     "output_type": "display_data"
    },
    {
     "data": {
      "text/html": [],
      "text/plain": [
       "<IPython.core.display.HTML object>"
      ]
     },
     "metadata": {},
     "output_type": "display_data"
    },
    {
     "data": {
      "text/html": [],
      "text/plain": [
       "<IPython.core.display.HTML object>"
      ]
     },
     "metadata": {},
     "output_type": "display_data"
    },
    {
     "data": {
      "text/html": [],
      "text/plain": [
       "<IPython.core.display.HTML object>"
      ]
     },
     "metadata": {},
     "output_type": "display_data"
    },
    {
     "data": {
      "text/html": [],
      "text/plain": [
       "<IPython.core.display.HTML object>"
      ]
     },
     "metadata": {},
     "output_type": "display_data"
    },
    {
     "data": {
      "text/html": [],
      "text/plain": [
       "<IPython.core.display.HTML object>"
      ]
     },
     "metadata": {},
     "output_type": "display_data"
    },
    {
     "data": {
      "text/html": [],
      "text/plain": [
       "<IPython.core.display.HTML object>"
      ]
     },
     "metadata": {},
     "output_type": "display_data"
    },
    {
     "data": {
      "text/html": [],
      "text/plain": [
       "<IPython.core.display.HTML object>"
      ]
     },
     "metadata": {},
     "output_type": "display_data"
    },
    {
     "data": {
      "text/html": [],
      "text/plain": [
       "<IPython.core.display.HTML object>"
      ]
     },
     "metadata": {},
     "output_type": "display_data"
    },
    {
     "data": {
      "text/html": [],
      "text/plain": [
       "<IPython.core.display.HTML object>"
      ]
     },
     "metadata": {},
     "output_type": "display_data"
    },
    {
     "data": {
      "text/html": [],
      "text/plain": [
       "<IPython.core.display.HTML object>"
      ]
     },
     "metadata": {},
     "output_type": "display_data"
    },
    {
     "data": {
      "text/html": [],
      "text/plain": [
       "<IPython.core.display.HTML object>"
      ]
     },
     "metadata": {},
     "output_type": "display_data"
    },
    {
     "data": {
      "text/html": [],
      "text/plain": [
       "<IPython.core.display.HTML object>"
      ]
     },
     "metadata": {},
     "output_type": "display_data"
    },
    {
     "data": {
      "text/html": [],
      "text/plain": [
       "<IPython.core.display.HTML object>"
      ]
     },
     "metadata": {},
     "output_type": "display_data"
    },
    {
     "data": {
      "text/html": [],
      "text/plain": [
       "<IPython.core.display.HTML object>"
      ]
     },
     "metadata": {},
     "output_type": "display_data"
    },
    {
     "data": {
      "text/html": [],
      "text/plain": [
       "<IPython.core.display.HTML object>"
      ]
     },
     "metadata": {},
     "output_type": "display_data"
    },
    {
     "data": {
      "text/html": [],
      "text/plain": [
       "<IPython.core.display.HTML object>"
      ]
     },
     "metadata": {},
     "output_type": "display_data"
    },
    {
     "data": {
      "text/html": [],
      "text/plain": [
       "<IPython.core.display.HTML object>"
      ]
     },
     "metadata": {},
     "output_type": "display_data"
    },
    {
     "data": {
      "text/html": [],
      "text/plain": [
       "<IPython.core.display.HTML object>"
      ]
     },
     "metadata": {},
     "output_type": "display_data"
    },
    {
     "data": {
      "text/html": [],
      "text/plain": [
       "<IPython.core.display.HTML object>"
      ]
     },
     "metadata": {},
     "output_type": "display_data"
    },
    {
     "data": {
      "text/html": [],
      "text/plain": [
       "<IPython.core.display.HTML object>"
      ]
     },
     "metadata": {},
     "output_type": "display_data"
    },
    {
     "data": {
      "text/html": [],
      "text/plain": [
       "<IPython.core.display.HTML object>"
      ]
     },
     "metadata": {},
     "output_type": "display_data"
    },
    {
     "data": {
      "text/html": [],
      "text/plain": [
       "<IPython.core.display.HTML object>"
      ]
     },
     "metadata": {},
     "output_type": "display_data"
    },
    {
     "data": {
      "text/html": [],
      "text/plain": [
       "<IPython.core.display.HTML object>"
      ]
     },
     "metadata": {},
     "output_type": "display_data"
    },
    {
     "data": {
      "text/html": [],
      "text/plain": [
       "<IPython.core.display.HTML object>"
      ]
     },
     "metadata": {},
     "output_type": "display_data"
    },
    {
     "data": {
      "text/html": [],
      "text/plain": [
       "<IPython.core.display.HTML object>"
      ]
     },
     "metadata": {},
     "output_type": "display_data"
    },
    {
     "data": {
      "text/html": [],
      "text/plain": [
       "<IPython.core.display.HTML object>"
      ]
     },
     "metadata": {},
     "output_type": "display_data"
    }
   ],
   "source": [
    "deployed_path = \"/mnt/vdb/thesis/TubularLearner.III.dev._200.nodropout.retrain\"\n",
    "#deployed_path = \"TubularLearner.fastAI._stage2.pth\"\n",
    "learner = load_learner(deployed_path)\n",
    "\n",
    "result_df = pd.DataFrame( columns=[\"no_con\",\">200\",\">100\",\">70\",\">50\",\">30\",\"30<=\"],\n",
    "    index = ['shuff1','shuff2', 'shuff3',\"shuff4\",\"shuff5\",\"shuff6\",\"shuff7\",\"shuff8\",\"shuff9\",\"shuff10\"])\n",
    "# shuff1\n",
    "df_ = pd.read_pickle(\"../datasets/truthset/AMPs_truthset_42.reps.plk\")\n",
    "result_df.loc['shuff1', 'no_con']=predict(df_,0)\n",
    "result_df.loc['shuff1', '>200']= predict(df_,200)\n",
    "result_df.loc['shuff1', '>100']=predict(df_,100)\n",
    "result_df.loc['shuff1', '>70']=predict(df_,70)\n",
    "result_df.loc['shuff1', '>50']=predict(df_,50)\n",
    "result_df.loc['shuff1', '>30']=predict(df_,30)\n",
    "result_df.loc['shuff1', '30<=']=predict(df_,-1)\n",
    "# shuff2\n",
    "df_ = pd.read_pickle(\"../datasets/truthset/AMPs_truthset_43.reps.plk\")\n",
    "result_df.loc['shuff2', 'no_con']=predict(df_,0)\n",
    "result_df.loc['shuff2', '>200']= predict(df_,200)\n",
    "result_df.loc['shuff2', '>100']=predict(df_,100)\n",
    "result_df.loc['shuff2', '>70']=predict(df_,70)\n",
    "result_df.loc['shuff2', '>50']=predict(df_,50)\n",
    "result_df.loc['shuff2', '>30']=predict(df_,30)\n",
    "result_df.loc['shuff2', '30<=']=predict(df_,-1)\n",
    "# shuff3\n",
    "df_ = pd.read_pickle(\"../datasets/truthset/AMPs_truthset_44.reps.plk\")\n",
    "result_df.loc['shuff3', 'no_con']=predict(df_,0)\n",
    "result_df.loc['shuff3', '>200']= predict(df_,200)\n",
    "result_df.loc['shuff3', '>100']=predict(df_,100)\n",
    "result_df.loc['shuff3', '>70']=predict(df_,70)\n",
    "result_df.loc['shuff3', '>50']=predict(df_,50)\n",
    "result_df.loc['shuff3', '>30']=predict(df_,30)\n",
    "result_df.loc['shuff3', '30<=']=predict(df_,-1)\n",
    "# shuff4\n",
    "df_ = pd.read_pickle(\"../datasets/truthset/AMPs_truthset_45.reps.plk\")\n",
    "index = \"shuff4\"\n",
    "result_df.loc[index, 'no_con']=predict(df_,0)\n",
    "result_df.loc[index, '>200']= predict(df_,200)\n",
    "result_df.loc[index, '>100']=predict(df_,100)\n",
    "result_df.loc[index, '>70']=predict(df_,70)\n",
    "result_df.loc[index, '>50']=predict(df_,50)\n",
    "result_df.loc[index, '>30']=predict(df_,30)\n",
    "result_df.loc[index, '30<=']=predict(df_,-1)\n",
    "# shuff5\n",
    "df_ = pd.read_pickle(\"../datasets/truthset/AMPs_truthset_46.reps.plk\")\n",
    "index = \"shuff5\"\n",
    "result_df.loc[index, 'no_con']=predict(df_,0)\n",
    "result_df.loc[index, '>200']= predict(df_,200)\n",
    "result_df.loc[index, '>100']=predict(df_,100)\n",
    "result_df.loc[index, '>70']=predict(df_,70)\n",
    "result_df.loc[index, '>50']=predict(df_,50)\n",
    "result_df.loc[index, '>30']=predict(df_,30)\n",
    "result_df.loc[index, '30<=']=predict(df_,-1)\n",
    "# shuff6\n",
    "df_ = pd.read_pickle(\"../datasets/truthset/AMPs_truthset_47.reps.plk\")\n",
    "index = \"shuff6\"\n",
    "result_df.loc[index, 'no_con']=predict(df_,0)\n",
    "result_df.loc[index, '>200']= predict(df_,200)\n",
    "result_df.loc[index, '>100']=predict(df_,100)\n",
    "result_df.loc[index, '>70']=predict(df_,70)\n",
    "result_df.loc[index, '>50']=predict(df_,50)\n",
    "result_df.loc[index, '>30']=predict(df_,30)\n",
    "result_df.loc[index, '30<=']=predict(df_,-1)\n",
    "# shuff7\n",
    "df_ = pd.read_pickle(\"../datasets/truthset/AMPs_truthset_48.reps.plk\")\n",
    "index = \"shuff7\"\n",
    "result_df.loc[index, 'no_con']=predict(df_,0)\n",
    "result_df.loc[index, '>200']= predict(df_,200)\n",
    "result_df.loc[index, '>100']=predict(df_,100)\n",
    "result_df.loc[index, '>70']=predict(df_,70)\n",
    "result_df.loc[index, '>50']=predict(df_,50)\n",
    "result_df.loc[index, '>30']=predict(df_,30)\n",
    "result_df.loc[index, '30<=']=predict(df_,-1)\n",
    "# shuff8\n",
    "df_ = pd.read_pickle(\"../datasets/truthset/AMPs_truthset_49.reps.plk\")\n",
    "index = \"shuff8\"\n",
    "result_df.loc[index, 'no_con']=predict(df_,0)\n",
    "result_df.loc[index, '>200']= predict(df_,200)\n",
    "result_df.loc[index, '>100']=predict(df_,100)\n",
    "result_df.loc[index, '>70']=predict(df_,70)\n",
    "result_df.loc[index, '>50']=predict(df_,50)\n",
    "result_df.loc[index, '>30']=predict(df_,30)\n",
    "result_df.loc[index, '30<=']=predict(df_,-1)\n",
    "# shuff9\n",
    "df_ = pd.read_pickle(\"../datasets/truthset/AMPs_truthset_50.reps.plk\")\n",
    "index = \"shuff9\"\n",
    "result_df.loc[index, 'no_con']=predict(df_,0)\n",
    "result_df.loc[index, '>200']= predict(df_,200)\n",
    "result_df.loc[index, '>100']=predict(df_,100)\n",
    "result_df.loc[index, '>70']=predict(df_,70)\n",
    "result_df.loc[index, '>50']=predict(df_,50)\n",
    "result_df.loc[index, '>30']=predict(df_,30)\n",
    "result_df.loc[index, '30<=']=predict(df_,-1)\n",
    "# shuff10\n",
    "df_ = pd.read_pickle(\"../datasets/truthset/AMPs_truthset_51.reps.plk\")\n",
    "index = \"shuff10\"\n",
    "result_df.loc[index, 'no_con']=predict(df_,0)\n",
    "result_df.loc[index, '>200']= predict(df_,200)\n",
    "result_df.loc[index, '>100']=predict(df_,100)\n",
    "result_df.loc[index, '>70']=predict(df_,70)\n",
    "result_df.loc[index, '>50']=predict(df_,50)\n",
    "result_df.loc[index, '>30']=predict(df_,30)\n",
    "result_df.loc[index, '30<=']=predict(df_,-1)\n"
   ]
  },
  {
   "cell_type": "code",
   "execution_count": 13,
   "metadata": {},
   "outputs": [
    {
     "data": {
      "text/html": [
       "<div>\n",
       "<style scoped>\n",
       "    .dataframe tbody tr th:only-of-type {\n",
       "        vertical-align: middle;\n",
       "    }\n",
       "\n",
       "    .dataframe tbody tr th {\n",
       "        vertical-align: top;\n",
       "    }\n",
       "\n",
       "    .dataframe thead th {\n",
       "        text-align: right;\n",
       "    }\n",
       "</style>\n",
       "<table border=\"1\" class=\"dataframe\">\n",
       "  <thead>\n",
       "    <tr style=\"text-align: right;\">\n",
       "      <th></th>\n",
       "      <th>no_con</th>\n",
       "      <th>&gt;200</th>\n",
       "      <th>&gt;100</th>\n",
       "      <th>&gt;70</th>\n",
       "      <th>&gt;50</th>\n",
       "      <th>&gt;30</th>\n",
       "      <th>30&lt;=</th>\n",
       "    </tr>\n",
       "  </thead>\n",
       "  <tbody>\n",
       "    <tr>\n",
       "      <th>shuff1</th>\n",
       "      <td>23</td>\n",
       "      <td>4</td>\n",
       "      <td>7</td>\n",
       "      <td>14</td>\n",
       "      <td>15</td>\n",
       "      <td>20</td>\n",
       "      <td>3</td>\n",
       "    </tr>\n",
       "    <tr>\n",
       "      <th>shuff2</th>\n",
       "      <td>27</td>\n",
       "      <td>4</td>\n",
       "      <td>6</td>\n",
       "      <td>12</td>\n",
       "      <td>23</td>\n",
       "      <td>27</td>\n",
       "      <td>0</td>\n",
       "    </tr>\n",
       "    <tr>\n",
       "      <th>shuff3</th>\n",
       "      <td>21</td>\n",
       "      <td>4</td>\n",
       "      <td>6</td>\n",
       "      <td>12</td>\n",
       "      <td>14</td>\n",
       "      <td>20</td>\n",
       "      <td>1</td>\n",
       "    </tr>\n",
       "    <tr>\n",
       "      <th>shuff4</th>\n",
       "      <td>15</td>\n",
       "      <td>4</td>\n",
       "      <td>6</td>\n",
       "      <td>9</td>\n",
       "      <td>9</td>\n",
       "      <td>14</td>\n",
       "      <td>1</td>\n",
       "    </tr>\n",
       "    <tr>\n",
       "      <th>shuff5</th>\n",
       "      <td>16</td>\n",
       "      <td>4</td>\n",
       "      <td>6</td>\n",
       "      <td>11</td>\n",
       "      <td>11</td>\n",
       "      <td>15</td>\n",
       "      <td>1</td>\n",
       "    </tr>\n",
       "    <tr>\n",
       "      <th>shuff6</th>\n",
       "      <td>23</td>\n",
       "      <td>4</td>\n",
       "      <td>7</td>\n",
       "      <td>12</td>\n",
       "      <td>14</td>\n",
       "      <td>21</td>\n",
       "      <td>2</td>\n",
       "    </tr>\n",
       "    <tr>\n",
       "      <th>shuff7</th>\n",
       "      <td>12</td>\n",
       "      <td>4</td>\n",
       "      <td>5</td>\n",
       "      <td>7</td>\n",
       "      <td>7</td>\n",
       "      <td>9</td>\n",
       "      <td>3</td>\n",
       "    </tr>\n",
       "    <tr>\n",
       "      <th>shuff8</th>\n",
       "      <td>22</td>\n",
       "      <td>4</td>\n",
       "      <td>7</td>\n",
       "      <td>13</td>\n",
       "      <td>15</td>\n",
       "      <td>21</td>\n",
       "      <td>1</td>\n",
       "    </tr>\n",
       "    <tr>\n",
       "      <th>shuff9</th>\n",
       "      <td>26</td>\n",
       "      <td>4</td>\n",
       "      <td>5</td>\n",
       "      <td>13</td>\n",
       "      <td>21</td>\n",
       "      <td>26</td>\n",
       "      <td>0</td>\n",
       "    </tr>\n",
       "    <tr>\n",
       "      <th>shuff10</th>\n",
       "      <td>14</td>\n",
       "      <td>4</td>\n",
       "      <td>6</td>\n",
       "      <td>10</td>\n",
       "      <td>10</td>\n",
       "      <td>13</td>\n",
       "      <td>1</td>\n",
       "    </tr>\n",
       "  </tbody>\n",
       "</table>\n",
       "</div>"
      ],
      "text/plain": [
       "        no_con >200 >100 >70 >50 >30 30<=\n",
       "shuff1      23    4    7  14  15  20    3\n",
       "shuff2      27    4    6  12  23  27    0\n",
       "shuff3      21    4    6  12  14  20    1\n",
       "shuff4      15    4    6   9   9  14    1\n",
       "shuff5      16    4    6  11  11  15    1\n",
       "shuff6      23    4    7  12  14  21    2\n",
       "shuff7      12    4    5   7   7   9    3\n",
       "shuff8      22    4    7  13  15  21    1\n",
       "shuff9      26    4    5  13  21  26    0\n",
       "shuff10     14    4    6  10  10  13    1"
      ]
     },
     "execution_count": 13,
     "metadata": {},
     "output_type": "execute_result"
    }
   ],
   "source": [
    "result_df"
   ]
  },
  {
   "cell_type": "code",
   "execution_count": null,
   "metadata": {},
   "outputs": [],
   "source": []
  }
 ],
 "metadata": {
  "colab": {
   "name": "FASTAI_predictor.ipynb",
   "provenance": []
  },
  "kernelspec": {
   "display_name": "Python 3",
   "language": "python",
   "name": "python3"
  },
  "language_info": {
   "codemirror_mode": {
    "name": "ipython",
    "version": 3
   },
   "file_extension": ".py",
   "mimetype": "text/x-python",
   "name": "python",
   "nbconvert_exporter": "python",
   "pygments_lexer": "ipython3",
   "version": "3.7.10"
  }
 },
 "nbformat": 4,
 "nbformat_minor": 4
}
