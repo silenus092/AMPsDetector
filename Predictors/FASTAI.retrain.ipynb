{
 "cells": [
  {
   "cell_type": "code",
   "execution_count": 1,
   "metadata": {
    "id": "XlktI-RZmX5h"
   },
   "outputs": [
    {
     "name": "stdout",
     "output_type": "stream",
     "text": [
      "Note: you may need to restart the kernel to use updated packages.\n"
     ]
    }
   ],
   "source": [
    "pip install -Uqq fastbook"
   ]
  },
  {
   "cell_type": "markdown",
   "metadata": {},
   "source": [
    "In case \"Add persistent_workers class variable to FakeLoader \" error\n",
    "\n",
    "please downgrade py torch version by using -> `conda install pytorch==1.6.0 torchvision==0.7.0 -c pytorch` command\n",
    "\n",
    "* https://github.com/fastai/fastai/pull/2878\n",
    "* https://github.com/lgvaz/faststyle/pull/18\n"
   ]
  },
  {
   "cell_type": "code",
   "execution_count": 1,
   "metadata": {
    "id": "r_WHUIJomX5u",
    "outputId": "968d231a-48ea-48f5-ffa9-9ed6ccbae282"
   },
   "outputs": [],
   "source": [
    "from sklearn.metrics import classification_report\n",
    "\n",
    "from fastai.tabular.all import *\n",
    "from fastai.basics import *\n",
    "from fastai import *\n",
    "\n",
    "import numpy as np\n",
    "import pandas as pd\n",
    "import glob\n",
    "# torch.set_num_threads(10)\n",
    "defaults.device = torch.device('cpu')"
   ]
  },
  {
   "cell_type": "code",
   "execution_count": 21,
   "metadata": {
    "id": "ZascbWaBmX6K"
   },
   "outputs": [],
   "source": [
    "# load the baseline model\n",
    "#learn.load('TubularLearner.fastAI._stage1')\n",
    "deployed_path = \"/mnt/vdb/thesis/TubularLearner.III._200.retrain\"\n",
    "#deployed_path = \"TubularLearner.fastAI._stage2.pth\"\n",
    "learner = load_learner(deployed_path)\n",
    "\n"
   ]
  },
  {
   "cell_type": "code",
   "execution_count": 22,
   "metadata": {},
   "outputs": [
    {
     "data": {
      "text/plain": [
       "TabularModel(\n",
       "  (embeds): ModuleList()\n",
       "  (emb_drop): Dropout(p=0.4, inplace=False)\n",
       "  (bn_cont): BatchNorm1d(1900, eps=1e-05, momentum=0.1, affine=True, track_running_stats=True)\n",
       "  (layers): Sequential(\n",
       "    (0): LinBnDrop(\n",
       "      (0): BatchNorm1d(1900, eps=1e-05, momentum=0.1, affine=True, track_running_stats=True)\n",
       "      (1): Linear(in_features=1900, out_features=1211, bias=False)\n",
       "      (2): ReLU(inplace=True)\n",
       "    )\n",
       "    (1): LinBnDrop(\n",
       "      (0): BatchNorm1d(1211, eps=1e-05, momentum=0.1, affine=True, track_running_stats=True)\n",
       "      (1): Linear(in_features=1211, out_features=1211, bias=False)\n",
       "      (2): ReLU(inplace=True)\n",
       "    )\n",
       "    (2): LinBnDrop(\n",
       "      (0): BatchNorm1d(1211, eps=1e-05, momentum=0.1, affine=True, track_running_stats=True)\n",
       "      (1): Linear(in_features=1211, out_features=1211, bias=False)\n",
       "      (2): ReLU(inplace=True)\n",
       "    )\n",
       "    (3): LinBnDrop(\n",
       "      (0): BatchNorm1d(1211, eps=1e-05, momentum=0.1, affine=True, track_running_stats=True)\n",
       "      (1): Linear(in_features=1211, out_features=1211, bias=False)\n",
       "      (2): ReLU(inplace=True)\n",
       "    )\n",
       "    (4): LinBnDrop(\n",
       "      (0): BatchNorm1d(1211, eps=1e-05, momentum=0.1, affine=True, track_running_stats=True)\n",
       "      (1): Linear(in_features=1211, out_features=1211, bias=False)\n",
       "      (2): ReLU(inplace=True)\n",
       "    )\n",
       "    (5): LinBnDrop(\n",
       "      (0): Linear(in_features=1211, out_features=2, bias=True)\n",
       "    )\n",
       "  )\n",
       ")"
      ]
     },
     "execution_count": 22,
     "metadata": {},
     "output_type": "execute_result"
    }
   ],
   "source": [
    "learner.model"
   ]
  },
  {
   "cell_type": "code",
   "execution_count": 23,
   "metadata": {
    "id": "IoTrGO6HmX6E"
   },
   "outputs": [],
   "source": [
    "\n",
    "df = pd.read_pickle(\"../datasets/truthset/AMPs_truthset.reps.plk\")\n",
    "ready_df =df[[ \"reps\"]]"
   ]
  },
  {
   "cell_type": "code",
   "execution_count": 3,
   "metadata": {},
   "outputs": [],
   "source": [
    "def lengthDistribution(df,title):\n",
    "    fig = plt.figure()\n",
    "    ax = fig.gca()\n",
    "    pd.Series(df['length']).hist(color='blue', bins=200, ax=ax)\n",
    "    plt.ylabel('Num of Seq with this length ')\n",
    "    plt.xlabel('Length of Seq')\n",
    "    plt.title(title)\n",
    "\n",
    "def plotCharDistribution(dict_counts, char_totalsize, title):\n",
    "    fig = plt.figure()\n",
    "    fig.suptitle(title, fontsize=20)\n",
    "    ax = fig.add_subplot(111)\n",
    "    # The bar chart, with letters along the horizontal axis and the calculated\n",
    "    # letter frequencies as percentages as the bar height\n",
    "    x = range(len(dict_counts))\n",
    "    letters =  dict_counts.keys()\n",
    "    ax.bar(x, [val / char_totalsize * 100 for key,val in dict_counts.items()], width=0.8,\n",
    "        color='g', alpha=0.5, align='center')\n",
    "    ax.set_xticks(x)\n",
    "    ax.set_xticklabels(letters)\n",
    "    ax.tick_params(axis='x', direction='out')\n",
    "    ax.set_xlim(-0.5, 25.5)\n",
    "    ax.yaxis.grid(True)\n",
    "    ax.set_ylabel('Letter frequency, %')\n",
    "\n",
    "def countProtien(df, title):\n",
    "    # count Sequence \n",
    "    records = df['seq']\n",
    "    print(\"Count Records:\", len(records))\n",
    "    # countAminoAcids\n",
    "    counts = Counter()\n",
    "    for index, row in df.iterrows():\n",
    "        line= row['seq']\n",
    "        counts.update(line.rstrip())\n",
    "        total = float(sum(counts.values()))\n",
    "    sorted_dict = {key: value for key, value in sorted(counts.items())}\n",
    "    for key,val in sorted_dict.items():\n",
    "        print(\"{}: {}, ({:.2%})\".format(key,val, val / total))\n",
    "\n",
    "    plotCharDistribution(sorted_dict, total, title)"
   ]
  },
  {
   "cell_type": "code",
   "execution_count": 7,
   "metadata": {},
   "outputs": [
    {
     "name": "stdout",
     "output_type": "stream",
     "text": [
      "Count Records: 62\n",
      "A: 230, (5.87%)\n",
      "C: 228, (5.81%)\n",
      "D: 131, (3.34%)\n",
      "E: 315, (8.03%)\n",
      "F: 144, (3.67%)\n",
      "G: 311, (7.93%)\n",
      "H: 143, (3.65%)\n",
      "I: 205, (5.23%)\n",
      "K: 286, (7.29%)\n",
      "L: 314, (8.01%)\n",
      "M: 72, (1.84%)\n",
      "N: 110, (2.81%)\n",
      "P: 145, (3.70%)\n",
      "Q: 262, (6.68%)\n",
      "R: 237, (6.04%)\n",
      "S: 212, (5.41%)\n",
      "T: 142, (3.62%)\n",
      "V: 299, (7.63%)\n",
      "W: 64, (1.63%)\n",
      "Y: 71, (1.81%)\n"
     ]
    },
    {
     "data": {
      "image/png": "[encoded data removed]",
      "text/plain": [
       "<Figure size 432x288 with 1 Axes>"
      ]
     },
     "metadata": {
      "needs_background": "light"
     },
     "output_type": "display_data"
    },
    {
     "data": {
      "image/png": "[encoded data removed]",
      "text/plain": [
       "<Figure size 432x288 with 1 Axes>"
      ]
     },
     "metadata": {
      "needs_background": "light"
     },
     "output_type": "display_data"
    }
   ],
   "source": [
    "lengthDistribution(df,\"Truth\")\n",
    "countProtien(df,\"Truth\")  # \"B|Z|J|U|O\""
   ]
  },
  {
   "cell_type": "markdown",
   "metadata": {
    "id": "ocpMvCNJmX6R"
   },
   "source": [
    "## Chanage format"
   ]
  },
  {
   "cell_type": "code",
   "execution_count": 24,
   "metadata": {
    "id": "raBn6r7zmX6T",
    "outputId": "a4c742de-63a8-4e22-fe0d-d5137e5374e6"
   },
   "outputs": [],
   "source": [
    "df_new = ready_df.reps.apply(pd.Series).astype(np.float64)\n",
    "df_new.columns = df_new.columns.astype(str)\n",
    "#to = TabularPandas(df_new , cont_names =reps_columns, y_block = CategoryBlock, splits=splits)"
   ]
  },
  {
   "cell_type": "code",
   "execution_count": 25,
   "metadata": {},
   "outputs": [
    {
     "data": {
      "text/html": [
       "<div>\n",
       "<style scoped>\n",
       "    .dataframe tbody tr th:only-of-type {\n",
       "        vertical-align: middle;\n",
       "    }\n",
       "\n",
       "    .dataframe tbody tr th {\n",
       "        vertical-align: top;\n",
       "    }\n",
       "\n",
       "    .dataframe thead th {\n",
       "        text-align: right;\n",
       "    }\n",
       "</style>\n",
       "<table border=\"1\" class=\"dataframe\">\n",
       "  <thead>\n",
       "    <tr style=\"text-align: right;\">\n",
       "      <th></th>\n",
       "      <th>0</th>\n",
       "      <th>1</th>\n",
       "      <th>2</th>\n",
       "      <th>3</th>\n",
       "      <th>4</th>\n",
       "      <th>5</th>\n",
       "      <th>6</th>\n",
       "      <th>7</th>\n",
       "      <th>8</th>\n",
       "      <th>9</th>\n",
       "      <th>...</th>\n",
       "      <th>1890</th>\n",
       "      <th>1891</th>\n",
       "      <th>1892</th>\n",
       "      <th>1893</th>\n",
       "      <th>1894</th>\n",
       "      <th>1895</th>\n",
       "      <th>1896</th>\n",
       "      <th>1897</th>\n",
       "      <th>1898</th>\n",
       "      <th>1899</th>\n",
       "    </tr>\n",
       "  </thead>\n",
       "  <tbody>\n",
       "    <tr>\n",
       "      <th>0</th>\n",
       "      <td>0.019923</td>\n",
       "      <td>-0.047088</td>\n",
       "      <td>0.007590</td>\n",
       "      <td>0.008612</td>\n",
       "      <td>-0.105413</td>\n",
       "      <td>0.032731</td>\n",
       "      <td>-0.297581</td>\n",
       "      <td>-0.010141</td>\n",
       "      <td>-0.018119</td>\n",
       "      <td>0.102418</td>\n",
       "      <td>...</td>\n",
       "      <td>0.047615</td>\n",
       "      <td>0.063532</td>\n",
       "      <td>-0.237826</td>\n",
       "      <td>0.039653</td>\n",
       "      <td>-0.031136</td>\n",
       "      <td>-0.006353</td>\n",
       "      <td>0.039390</td>\n",
       "      <td>0.007629</td>\n",
       "      <td>0.089423</td>\n",
       "      <td>0.022756</td>\n",
       "    </tr>\n",
       "    <tr>\n",
       "      <th>1</th>\n",
       "      <td>0.014724</td>\n",
       "      <td>-0.030932</td>\n",
       "      <td>0.007524</td>\n",
       "      <td>0.013040</td>\n",
       "      <td>0.047267</td>\n",
       "      <td>0.032513</td>\n",
       "      <td>-0.456108</td>\n",
       "      <td>0.001002</td>\n",
       "      <td>-0.018511</td>\n",
       "      <td>0.141110</td>\n",
       "      <td>...</td>\n",
       "      <td>0.040018</td>\n",
       "      <td>0.072904</td>\n",
       "      <td>-0.216747</td>\n",
       "      <td>0.028120</td>\n",
       "      <td>-0.036611</td>\n",
       "      <td>-0.004548</td>\n",
       "      <td>0.061547</td>\n",
       "      <td>0.045790</td>\n",
       "      <td>0.103151</td>\n",
       "      <td>0.000341</td>\n",
       "    </tr>\n",
       "    <tr>\n",
       "      <th>2</th>\n",
       "      <td>0.018701</td>\n",
       "      <td>-0.055086</td>\n",
       "      <td>-0.007485</td>\n",
       "      <td>0.018340</td>\n",
       "      <td>0.027769</td>\n",
       "      <td>0.043306</td>\n",
       "      <td>-0.380586</td>\n",
       "      <td>0.005666</td>\n",
       "      <td>-0.021887</td>\n",
       "      <td>0.109023</td>\n",
       "      <td>...</td>\n",
       "      <td>0.042081</td>\n",
       "      <td>0.087484</td>\n",
       "      <td>-0.214472</td>\n",
       "      <td>0.029637</td>\n",
       "      <td>-0.015207</td>\n",
       "      <td>-0.016494</td>\n",
       "      <td>0.060464</td>\n",
       "      <td>0.010968</td>\n",
       "      <td>0.061983</td>\n",
       "      <td>0.013685</td>\n",
       "    </tr>\n",
       "    <tr>\n",
       "      <th>3</th>\n",
       "      <td>0.019437</td>\n",
       "      <td>-0.031499</td>\n",
       "      <td>0.001900</td>\n",
       "      <td>0.012346</td>\n",
       "      <td>0.067398</td>\n",
       "      <td>0.023426</td>\n",
       "      <td>-0.267920</td>\n",
       "      <td>-0.002214</td>\n",
       "      <td>-0.018159</td>\n",
       "      <td>0.091275</td>\n",
       "      <td>...</td>\n",
       "      <td>0.051911</td>\n",
       "      <td>0.080598</td>\n",
       "      <td>-0.181252</td>\n",
       "      <td>0.030322</td>\n",
       "      <td>-0.044635</td>\n",
       "      <td>-0.007344</td>\n",
       "      <td>0.081058</td>\n",
       "      <td>0.017975</td>\n",
       "      <td>0.128263</td>\n",
       "      <td>0.028620</td>\n",
       "    </tr>\n",
       "    <tr>\n",
       "      <th>4</th>\n",
       "      <td>0.033317</td>\n",
       "      <td>-0.097852</td>\n",
       "      <td>0.010363</td>\n",
       "      <td>0.020239</td>\n",
       "      <td>-0.232632</td>\n",
       "      <td>0.049497</td>\n",
       "      <td>-0.299169</td>\n",
       "      <td>0.012850</td>\n",
       "      <td>-0.023980</td>\n",
       "      <td>0.337575</td>\n",
       "      <td>...</td>\n",
       "      <td>0.033375</td>\n",
       "      <td>0.120847</td>\n",
       "      <td>-0.100889</td>\n",
       "      <td>0.020196</td>\n",
       "      <td>-0.042631</td>\n",
       "      <td>0.023899</td>\n",
       "      <td>0.053246</td>\n",
       "      <td>0.001743</td>\n",
       "      <td>0.185660</td>\n",
       "      <td>0.020270</td>\n",
       "    </tr>\n",
       "    <tr>\n",
       "      <th>...</th>\n",
       "      <td>...</td>\n",
       "      <td>...</td>\n",
       "      <td>...</td>\n",
       "      <td>...</td>\n",
       "      <td>...</td>\n",
       "      <td>...</td>\n",
       "      <td>...</td>\n",
       "      <td>...</td>\n",
       "      <td>...</td>\n",
       "      <td>...</td>\n",
       "      <td>...</td>\n",
       "      <td>...</td>\n",
       "      <td>...</td>\n",
       "      <td>...</td>\n",
       "      <td>...</td>\n",
       "      <td>...</td>\n",
       "      <td>...</td>\n",
       "      <td>...</td>\n",
       "      <td>...</td>\n",
       "      <td>...</td>\n",
       "      <td>...</td>\n",
       "    </tr>\n",
       "    <tr>\n",
       "      <th>57</th>\n",
       "      <td>0.016171</td>\n",
       "      <td>0.000104</td>\n",
       "      <td>0.001302</td>\n",
       "      <td>0.014256</td>\n",
       "      <td>0.017668</td>\n",
       "      <td>-0.001196</td>\n",
       "      <td>-0.343563</td>\n",
       "      <td>-0.265699</td>\n",
       "      <td>-0.016795</td>\n",
       "      <td>0.055140</td>\n",
       "      <td>...</td>\n",
       "      <td>0.024991</td>\n",
       "      <td>0.022828</td>\n",
       "      <td>-0.073042</td>\n",
       "      <td>0.017890</td>\n",
       "      <td>0.013226</td>\n",
       "      <td>-0.123560</td>\n",
       "      <td>0.154960</td>\n",
       "      <td>-0.013497</td>\n",
       "      <td>0.031413</td>\n",
       "      <td>-0.043297</td>\n",
       "    </tr>\n",
       "    <tr>\n",
       "      <th>58</th>\n",
       "      <td>0.015017</td>\n",
       "      <td>-0.036066</td>\n",
       "      <td>0.038192</td>\n",
       "      <td>0.003745</td>\n",
       "      <td>-0.003776</td>\n",
       "      <td>0.009892</td>\n",
       "      <td>-0.153868</td>\n",
       "      <td>-0.129352</td>\n",
       "      <td>-0.015966</td>\n",
       "      <td>0.075090</td>\n",
       "      <td>...</td>\n",
       "      <td>0.017711</td>\n",
       "      <td>0.006127</td>\n",
       "      <td>-0.039396</td>\n",
       "      <td>-0.001067</td>\n",
       "      <td>-0.054788</td>\n",
       "      <td>0.044370</td>\n",
       "      <td>0.132005</td>\n",
       "      <td>0.039209</td>\n",
       "      <td>-0.042818</td>\n",
       "      <td>-0.024418</td>\n",
       "    </tr>\n",
       "    <tr>\n",
       "      <th>59</th>\n",
       "      <td>0.032130</td>\n",
       "      <td>-0.000488</td>\n",
       "      <td>-0.014703</td>\n",
       "      <td>0.031483</td>\n",
       "      <td>0.013354</td>\n",
       "      <td>0.035091</td>\n",
       "      <td>-0.428796</td>\n",
       "      <td>0.013158</td>\n",
       "      <td>-0.035880</td>\n",
       "      <td>0.128336</td>\n",
       "      <td>...</td>\n",
       "      <td>0.044803</td>\n",
       "      <td>0.096227</td>\n",
       "      <td>-0.195344</td>\n",
       "      <td>0.034177</td>\n",
       "      <td>0.018314</td>\n",
       "      <td>-0.049155</td>\n",
       "      <td>0.140474</td>\n",
       "      <td>0.044257</td>\n",
       "      <td>0.071362</td>\n",
       "      <td>-0.001932</td>\n",
       "    </tr>\n",
       "    <tr>\n",
       "      <th>60</th>\n",
       "      <td>0.025432</td>\n",
       "      <td>0.006171</td>\n",
       "      <td>-0.012787</td>\n",
       "      <td>0.026035</td>\n",
       "      <td>-0.040039</td>\n",
       "      <td>0.050619</td>\n",
       "      <td>-0.472542</td>\n",
       "      <td>-0.001317</td>\n",
       "      <td>-0.029686</td>\n",
       "      <td>0.191039</td>\n",
       "      <td>...</td>\n",
       "      <td>0.035620</td>\n",
       "      <td>0.075275</td>\n",
       "      <td>-0.103784</td>\n",
       "      <td>0.032539</td>\n",
       "      <td>0.011790</td>\n",
       "      <td>0.012831</td>\n",
       "      <td>0.180955</td>\n",
       "      <td>0.092308</td>\n",
       "      <td>0.256334</td>\n",
       "      <td>-0.000305</td>\n",
       "    </tr>\n",
       "    <tr>\n",
       "      <th>61</th>\n",
       "      <td>0.023750</td>\n",
       "      <td>-0.023898</td>\n",
       "      <td>-0.012288</td>\n",
       "      <td>0.021914</td>\n",
       "      <td>-0.112121</td>\n",
       "      <td>0.031647</td>\n",
       "      <td>-0.428828</td>\n",
       "      <td>0.008921</td>\n",
       "      <td>-0.025937</td>\n",
       "      <td>0.344978</td>\n",
       "      <td>...</td>\n",
       "      <td>0.028519</td>\n",
       "      <td>0.018090</td>\n",
       "      <td>-0.111046</td>\n",
       "      <td>0.018206</td>\n",
       "      <td>0.012762</td>\n",
       "      <td>0.011109</td>\n",
       "      <td>0.026963</td>\n",
       "      <td>0.063353</td>\n",
       "      <td>0.361641</td>\n",
       "      <td>-0.034050</td>\n",
       "    </tr>\n",
       "  </tbody>\n",
       "</table>\n",
       "<p>62 rows × 1900 columns</p>\n",
       "</div>"
      ],
      "text/plain": [
       "           0         1         2         3         4         5         6  \\\n",
       "0   0.019923 -0.047088  0.007590  0.008612 -0.105413  0.032731 -0.297581   \n",
       "1   0.014724 -0.030932  0.007524  0.013040  0.047267  0.032513 -0.456108   \n",
       "2   0.018701 -0.055086 -0.007485  0.018340  0.027769  0.043306 -0.380586   \n",
       "3   0.019437 -0.031499  0.001900  0.012346  0.067398  0.023426 -0.267920   \n",
       "4   0.033317 -0.097852  0.010363  0.020239 -0.232632  0.049497 -0.299169   \n",
       "..       ...       ...       ...       ...       ...       ...       ...   \n",
       "57  0.016171  0.000104  0.001302  0.014256  0.017668 -0.001196 -0.343563   \n",
       "58  0.015017 -0.036066  0.038192  0.003745 -0.003776  0.009892 -0.153868   \n",
       "59  0.032130 -0.000488 -0.014703  0.031483  0.013354  0.035091 -0.428796   \n",
       "60  0.025432  0.006171 -0.012787  0.026035 -0.040039  0.050619 -0.472542   \n",
       "61  0.023750 -0.023898 -0.012288  0.021914 -0.112121  0.031647 -0.428828   \n",
       "\n",
       "           7         8         9  ...      1890      1891      1892      1893  \\\n",
       "0  -0.010141 -0.018119  0.102418  ...  0.047615  0.063532 -0.237826  0.039653   \n",
       "1   0.001002 -0.018511  0.141110  ...  0.040018  0.072904 -0.216747  0.028120   \n",
       "2   0.005666 -0.021887  0.109023  ...  0.042081  0.087484 -0.214472  0.029637   \n",
       "3  -0.002214 -0.018159  0.091275  ...  0.051911  0.080598 -0.181252  0.030322   \n",
       "4   0.012850 -0.023980  0.337575  ...  0.033375  0.120847 -0.100889  0.020196   \n",
       "..       ...       ...       ...  ...       ...       ...       ...       ...   \n",
       "57 -0.265699 -0.016795  0.055140  ...  0.024991  0.022828 -0.073042  0.017890   \n",
       "58 -0.129352 -0.015966  0.075090  ...  0.017711  0.006127 -0.039396 -0.001067   \n",
       "59  0.013158 -0.035880  0.128336  ...  0.044803  0.096227 -0.195344  0.034177   \n",
       "60 -0.001317 -0.029686  0.191039  ...  0.035620  0.075275 -0.103784  0.032539   \n",
       "61  0.008921 -0.025937  0.344978  ...  0.028519  0.018090 -0.111046  0.018206   \n",
       "\n",
       "        1894      1895      1896      1897      1898      1899  \n",
       "0  -0.031136 -0.006353  0.039390  0.007629  0.089423  0.022756  \n",
       "1  -0.036611 -0.004548  0.061547  0.045790  0.103151  0.000341  \n",
       "2  -0.015207 -0.016494  0.060464  0.010968  0.061983  0.013685  \n",
       "3  -0.044635 -0.007344  0.081058  0.017975  0.128263  0.028620  \n",
       "4  -0.042631  0.023899  0.053246  0.001743  0.185660  0.020270  \n",
       "..       ...       ...       ...       ...       ...       ...  \n",
       "57  0.013226 -0.123560  0.154960 -0.013497  0.031413 -0.043297  \n",
       "58 -0.054788  0.044370  0.132005  0.039209 -0.042818 -0.024418  \n",
       "59  0.018314 -0.049155  0.140474  0.044257  0.071362 -0.001932  \n",
       "60  0.011790  0.012831  0.180955  0.092308  0.256334 -0.000305  \n",
       "61  0.012762  0.011109  0.026963  0.063353  0.361641 -0.034050  \n",
       "\n",
       "[62 rows x 1900 columns]"
      ]
     },
     "execution_count": 25,
     "metadata": {},
     "output_type": "execute_result"
    }
   ],
   "source": [
    "df_new"
   ]
  },
  {
   "cell_type": "markdown",
   "metadata": {},
   "source": [
    "## Predict Truthset\n",
    "To get prediction on a new dataframe, you can use the test_d"
   ]
  },
  {
   "cell_type": "code",
   "execution_count": 26,
   "metadata": {},
   "outputs": [
    {
     "data": {
      "text/html": [],
      "text/plain": [
       "<IPython.core.display.HTML object>"
      ]
     },
     "metadata": {},
     "output_type": "display_data"
    }
   ],
   "source": [
    "dl = learner.dls.test_dl(df_new)\n",
    "_preds,_none ,_y = learner.get_preds(dl=dl, with_decoded=True)"
   ]
  },
  {
   "cell_type": "code",
   "execution_count": 27,
   "metadata": {},
   "outputs": [
    {
     "data": {
      "text/html": [
       "<div>\n",
       "<style scoped>\n",
       "    .dataframe tbody tr th:only-of-type {\n",
       "        vertical-align: middle;\n",
       "    }\n",
       "\n",
       "    .dataframe tbody tr th {\n",
       "        vertical-align: top;\n",
       "    }\n",
       "\n",
       "    .dataframe thead th {\n",
       "        text-align: right;\n",
       "    }\n",
       "</style>\n",
       "<table border=\"1\" class=\"dataframe\">\n",
       "  <thead>\n",
       "    <tr style=\"text-align: right;\">\n",
       "      <th></th>\n",
       "      <th>ID</th>\n",
       "      <th>paper</th>\n",
       "      <th>seq</th>\n",
       "      <th>length</th>\n",
       "      <th>class</th>\n",
       "    </tr>\n",
       "  </thead>\n",
       "  <tbody>\n",
       "    <tr>\n",
       "      <th>0</th>\n",
       "      <td>ISGCock_Contig04_0915</td>\n",
       "      <td>PMC4864078</td>\n",
       "      <td>ALQICTRNMIDDRLPYVADNVRPGTFIKQQRKQKQQRHHTSGTRKRMAKG</td>\n",
       "      <td>50</td>\n",
       "      <td>0</td>\n",
       "    </tr>\n",
       "    <tr>\n",
       "      <th>1</th>\n",
       "      <td>ISGCock_Contig13_4610</td>\n",
       "      <td>PMC4864078</td>\n",
       "      <td>HLYPCKLNLKLGKVPFHFLNLNHKGKSIMVNQQTCLYYIICQTR</td>\n",
       "      <td>44</td>\n",
       "      <td>1</td>\n",
       "    </tr>\n",
       "    <tr>\n",
       "      <th>2</th>\n",
       "      <td>ISGCock_Contig16_2060</td>\n",
       "      <td>PMC4864078</td>\n",
       "      <td>ISHNHLTAASITHVKNRGKYIYMHLKFRKTNVLI</td>\n",
       "      <td>34</td>\n",
       "      <td>1</td>\n",
       "    </tr>\n",
       "    <tr>\n",
       "      <th>3</th>\n",
       "      <td>ISGCock_Contig16_4974</td>\n",
       "      <td>PMC4864078</td>\n",
       "      <td>RKKVWFIFHVCPKLKQRILSDTHAKNKCRLSPLLIKSTKIKNET</td>\n",
       "      <td>44</td>\n",
       "      <td>0</td>\n",
       "    </tr>\n",
       "    <tr>\n",
       "      <th>4</th>\n",
       "      <td>ISGCock_Contig07_3736</td>\n",
       "      <td>PMC4864078</td>\n",
       "      <td>CNYISFFRKCKNSQSTMYGCHRMNKCVFSSY</td>\n",
       "      <td>31</td>\n",
       "      <td>0</td>\n",
       "    </tr>\n",
       "    <tr>\n",
       "      <th>...</th>\n",
       "      <td>...</td>\n",
       "      <td>...</td>\n",
       "      <td>...</td>\n",
       "      <td>...</td>\n",
       "      <td>...</td>\n",
       "    </tr>\n",
       "    <tr>\n",
       "      <th>57</th>\n",
       "      <td>TR42258|c1_g1_i1</td>\n",
       "      <td>hal-02965337</td>\n",
       "      <td>MRYIVCFVFFLFFFLLFLWLVPARTASSFLTPRLSSLGKRSWAV</td>\n",
       "      <td>44</td>\n",
       "      <td>1</td>\n",
       "    </tr>\n",
       "    <tr>\n",
       "      <th>58</th>\n",
       "      <td>TR27534|c0_g1_i1</td>\n",
       "      <td>hal-02965337</td>\n",
       "      <td>MLFKVIIVIWISVCRECTRGGFCNFMHLKPISRELRRELYGRTRRRRK</td>\n",
       "      <td>48</td>\n",
       "      <td>0</td>\n",
       "    </tr>\n",
       "    <tr>\n",
       "      <th>59</th>\n",
       "      <td>P3</td>\n",
       "      <td>S2162-2531(20)30132-3</td>\n",
       "      <td>FWELWKFLKSLWSIFPRRRP</td>\n",
       "      <td>20</td>\n",
       "      <td>0</td>\n",
       "    </tr>\n",
       "    <tr>\n",
       "      <th>60</th>\n",
       "      <td>P10</td>\n",
       "      <td>S2162-2531(20)30132-3</td>\n",
       "      <td>ICTTLNWMVKLTCLTHVTLTTRWC</td>\n",
       "      <td>24</td>\n",
       "      <td>0</td>\n",
       "    </tr>\n",
       "    <tr>\n",
       "      <th>61</th>\n",
       "      <td>P26</td>\n",
       "      <td>S2162-2531(20)30132-3</td>\n",
       "      <td>RWPPTTTLCYLSRPRRCSWTSSVCRCTLT</td>\n",
       "      <td>29</td>\n",
       "      <td>0</td>\n",
       "    </tr>\n",
       "  </tbody>\n",
       "</table>\n",
       "<p>62 rows × 5 columns</p>\n",
       "</div>"
      ],
      "text/plain": [
       "                       ID                  paper  \\\n",
       "0   ISGCock_Contig04_0915             PMC4864078   \n",
       "1   ISGCock_Contig13_4610             PMC4864078   \n",
       "2   ISGCock_Contig16_2060             PMC4864078   \n",
       "3   ISGCock_Contig16_4974             PMC4864078   \n",
       "4   ISGCock_Contig07_3736             PMC4864078   \n",
       "..                    ...                    ...   \n",
       "57       TR42258|c1_g1_i1           hal-02965337   \n",
       "58       TR27534|c0_g1_i1           hal-02965337   \n",
       "59                     P3  S2162-2531(20)30132-3   \n",
       "60                    P10  S2162-2531(20)30132-3   \n",
       "61                    P26  S2162-2531(20)30132-3   \n",
       "\n",
       "                                                   seq  length  class  \n",
       "0   ALQICTRNMIDDRLPYVADNVRPGTFIKQQRKQKQQRHHTSGTRKRMAKG      50      0  \n",
       "1         HLYPCKLNLKLGKVPFHFLNLNHKGKSIMVNQQTCLYYIICQTR      44      1  \n",
       "2                   ISHNHLTAASITHVKNRGKYIYMHLKFRKTNVLI      34      1  \n",
       "3         RKKVWFIFHVCPKLKQRILSDTHAKNKCRLSPLLIKSTKIKNET      44      0  \n",
       "4                      CNYISFFRKCKNSQSTMYGCHRMNKCVFSSY      31      0  \n",
       "..                                                 ...     ...    ...  \n",
       "57        MRYIVCFVFFLFFFLLFLWLVPARTASSFLTPRLSSLGKRSWAV      44      1  \n",
       "58    MLFKVIIVIWISVCRECTRGGFCNFMHLKPISRELRRELYGRTRRRRK      48      0  \n",
       "59                                FWELWKFLKSLWSIFPRRRP      20      0  \n",
       "60                            ICTTLNWMVKLTCLTHVTLTTRWC      24      0  \n",
       "61                       RWPPTTTLCYLSRPRRCSWTSSVCRCTLT      29      0  \n",
       "\n",
       "[62 rows x 5 columns]"
      ]
     },
     "execution_count": 27,
     "metadata": {},
     "output_type": "execute_result"
    }
   ],
   "source": [
    "df['class'] = _y\n",
    "df.drop(columns=['reps'],inplace =True)\n",
    "df"
   ]
  },
  {
   "cell_type": "code",
   "execution_count": 28,
   "metadata": {},
   "outputs": [
    {
     "data": {
      "text/html": [
       "<div>\n",
       "<style scoped>\n",
       "    .dataframe tbody tr th:only-of-type {\n",
       "        vertical-align: middle;\n",
       "    }\n",
       "\n",
       "    .dataframe tbody tr th {\n",
       "        vertical-align: top;\n",
       "    }\n",
       "\n",
       "    .dataframe thead th {\n",
       "        text-align: right;\n",
       "    }\n",
       "</style>\n",
       "<table border=\"1\" class=\"dataframe\">\n",
       "  <thead>\n",
       "    <tr style=\"text-align: right;\">\n",
       "      <th></th>\n",
       "      <th>ID</th>\n",
       "      <th>paper</th>\n",
       "      <th>seq</th>\n",
       "      <th>length</th>\n",
       "      <th>class</th>\n",
       "    </tr>\n",
       "  </thead>\n",
       "  <tbody>\n",
       "    <tr>\n",
       "      <th>1</th>\n",
       "      <td>ISGCock_Contig13_4610</td>\n",
       "      <td>PMC4864078</td>\n",
       "      <td>HLYPCKLNLKLGKVPFHFLNLNHKGKSIMVNQQTCLYYIICQTR</td>\n",
       "      <td>44</td>\n",
       "      <td>1</td>\n",
       "    </tr>\n",
       "    <tr>\n",
       "      <th>2</th>\n",
       "      <td>ISGCock_Contig16_2060</td>\n",
       "      <td>PMC4864078</td>\n",
       "      <td>ISHNHLTAASITHVKNRGKYIYMHLKFRKTNVLI</td>\n",
       "      <td>34</td>\n",
       "      <td>1</td>\n",
       "    </tr>\n",
       "    <tr>\n",
       "      <th>7</th>\n",
       "      <td>ISGCock_Contig05_0593</td>\n",
       "      <td>PMC4864078</td>\n",
       "      <td>MKTFLRLYRSLINKVLHV</td>\n",
       "      <td>18</td>\n",
       "      <td>1</td>\n",
       "    </tr>\n",
       "    <tr>\n",
       "      <th>8</th>\n",
       "      <td>ISGCock_Contig12_4176</td>\n",
       "      <td>PMC4864078</td>\n",
       "      <td>VVGRKHSILNCIPYLKKKKIMRLVESESIG</td>\n",
       "      <td>30</td>\n",
       "      <td>1</td>\n",
       "    </tr>\n",
       "    <tr>\n",
       "      <th>9</th>\n",
       "      <td>ISGCock_Contig15_1337</td>\n",
       "      <td>PMC4864078</td>\n",
       "      <td>KRMKLNAKKLSFCDHLNSYLNLSPTLFIHNSSKQWSHWLWHNGIRI</td>\n",
       "      <td>46</td>\n",
       "      <td>1</td>\n",
       "    </tr>\n",
       "    <tr>\n",
       "      <th>17</th>\n",
       "      <td>Ph14</td>\n",
       "      <td>insects11100676</td>\n",
       "      <td>RRRCRCCRY</td>\n",
       "      <td>9</td>\n",
       "      <td>1</td>\n",
       "    </tr>\n",
       "    <tr>\n",
       "      <th>52</th>\n",
       "      <td>Blattellicin_g1</td>\n",
       "      <td>s41598-020-77982-3</td>\n",
       "      <td>MKITAITFLVMSIAVASSFGRPQGTEEEIQKKLKETFKENGVMVLLERIEQRLIGFGAPMFNSSEELFGERKKERLEKVQESVETAEESEQEQQEQQEQQQQQEQQEQQEQQEHQEQQEHQEQQEHQEQQEHQEHQEHQEQPEQEHQEQPEQEQQEQQEQQEQQEQEPEPVPAPRLVRSALPEDQSEGIHAGINQQPGVGTVVDVSGRKNVYETDDGRGRVNVEGQWSKVIDGPGRGKPQAGAGINFEYKFRK</td>\n",
       "      <td>253</td>\n",
       "      <td>1</td>\n",
       "    </tr>\n",
       "    <tr>\n",
       "      <th>54</th>\n",
       "      <td>Blattellicin_g3</td>\n",
       "      <td>s41598-020-77982-3</td>\n",
       "      <td>MKITAITFLVLSIAVATSFGRPQATEEEIQKKLKETFKENGVMVLLERIEQRLIGFGAPMFDSPEELFGERKKERLEKIQESVETAEESEQEQQEQEQQEHQEQQEHQEQQEHQEQQEHQEQPEQEHQEQPEQEHQEQPEQEHQEQPEHEQQEQQEQQEQQEQQEQQEQQEQHEQEQQEQEPELVPASRLVRSALPEDQSEGIHAGINQQPGVGTVVDVSGRKNVYETDDGRGRVNVEGQWSKVIDGPGREKPQAGAGINFEYKFRK</td>\n",
       "      <td>267</td>\n",
       "      <td>1</td>\n",
       "    </tr>\n",
       "    <tr>\n",
       "      <th>55</th>\n",
       "      <td>Blattellicin_g4</td>\n",
       "      <td>s41598-020-77982-3</td>\n",
       "      <td>MKITAITFLVMSIAVASSFGRPQTTEEEIQKKLKETFKENGFMVLLEKIEQRLIGFGAPMFDSPEELFGEIKKERLEKVQESVETAEESEQEHQEQQEHQEQQEHQEQQEHQEQPEQEHQEQPEQEHQEQPEHEQQEQQEQQEQQEQQEQHEQEQQEQEPEPVPAPRLVRSARPEDQSEGIHAGINQQPGVGTVVDVSGRKNIYETDDGRGRVNVEGQWSKVIDGPGRGKPQAGAGINFEYKFRK</td>\n",
       "      <td>245</td>\n",
       "      <td>1</td>\n",
       "    </tr>\n",
       "    <tr>\n",
       "      <th>56</th>\n",
       "      <td>TR36613|c0_g1_i1</td>\n",
       "      <td>hal-02965337</td>\n",
       "      <td>MKMISRKESLKAPHLSLLISMLHGVGLANYWLLVLRRLLITKKVMWF</td>\n",
       "      <td>47</td>\n",
       "      <td>1</td>\n",
       "    </tr>\n",
       "    <tr>\n",
       "      <th>57</th>\n",
       "      <td>TR42258|c1_g1_i1</td>\n",
       "      <td>hal-02965337</td>\n",
       "      <td>MRYIVCFVFFLFFFLLFLWLVPARTASSFLTPRLSSLGKRSWAV</td>\n",
       "      <td>44</td>\n",
       "      <td>1</td>\n",
       "    </tr>\n",
       "  </tbody>\n",
       "</table>\n",
       "</div>"
      ],
      "text/plain": [
       "                       ID               paper  \\\n",
       "1   ISGCock_Contig13_4610          PMC4864078   \n",
       "2   ISGCock_Contig16_2060          PMC4864078   \n",
       "7   ISGCock_Contig05_0593          PMC4864078   \n",
       "8   ISGCock_Contig12_4176          PMC4864078   \n",
       "9   ISGCock_Contig15_1337          PMC4864078   \n",
       "17                   Ph14     insects11100676   \n",
       "52        Blattellicin_g1  s41598-020-77982-3   \n",
       "54        Blattellicin_g3  s41598-020-77982-3   \n",
       "55        Blattellicin_g4  s41598-020-77982-3   \n",
       "56       TR36613|c0_g1_i1        hal-02965337   \n",
       "57       TR42258|c1_g1_i1        hal-02965337   \n",
       "\n",
       "                                                                                                                                                                                                                                                                            seq  \\\n",
       "1                                                                                                                                                                                                                                  HLYPCKLNLKLGKVPFHFLNLNHKGKSIMVNQQTCLYYIICQTR   \n",
       "2                                                                                                                                                                                                                                            ISHNHLTAASITHVKNRGKYIYMHLKFRKTNVLI   \n",
       "7                                                                                                                                                                                                                                                            MKTFLRLYRSLINKVLHV   \n",
       "8                                                                                                                                                                                                                                                VVGRKHSILNCIPYLKKKKIMRLVESESIG   \n",
       "9                                                                                                                                                                                                                                KRMKLNAKKLSFCDHLNSYLNLSPTLFIHNSSKQWSHWLWHNGIRI   \n",
       "17                                                                                                                                                                                                                                                                    RRRCRCCRY   \n",
       "52                MKITAITFLVMSIAVASSFGRPQGTEEEIQKKLKETFKENGVMVLLERIEQRLIGFGAPMFNSSEELFGERKKERLEKVQESVETAEESEQEQQEQQEQQQQQEQQEQQEQQEHQEQQEHQEQQEHQEQQEHQEHQEHQEQPEQEHQEQPEQEQQEQQEQQEQQEQEPEPVPAPRLVRSALPEDQSEGIHAGINQQPGVGTVVDVSGRKNVYETDDGRGRVNVEGQWSKVIDGPGRGKPQAGAGINFEYKFRK   \n",
       "54  MKITAITFLVLSIAVATSFGRPQATEEEIQKKLKETFKENGVMVLLERIEQRLIGFGAPMFDSPEELFGERKKERLEKIQESVETAEESEQEQQEQEQQEHQEQQEHQEQQEHQEQQEHQEQPEQEHQEQPEQEHQEQPEQEHQEQPEHEQQEQQEQQEQQEQQEQQEQQEQHEQEQQEQEPELVPASRLVRSALPEDQSEGIHAGINQQPGVGTVVDVSGRKNVYETDDGRGRVNVEGQWSKVIDGPGREKPQAGAGINFEYKFRK   \n",
       "55                        MKITAITFLVMSIAVASSFGRPQTTEEEIQKKLKETFKENGFMVLLEKIEQRLIGFGAPMFDSPEELFGEIKKERLEKVQESVETAEESEQEHQEQQEHQEQQEHQEQQEHQEQPEQEHQEQPEQEHQEQPEHEQQEQQEQQEQQEQQEQHEQEQQEQEPEPVPAPRLVRSARPEDQSEGIHAGINQQPGVGTVVDVSGRKNIYETDDGRGRVNVEGQWSKVIDGPGRGKPQAGAGINFEYKFRK   \n",
       "56                                                                                                                                                                                                                              MKMISRKESLKAPHLSLLISMLHGVGLANYWLLVLRRLLITKKVMWF   \n",
       "57                                                                                                                                                                                                                                 MRYIVCFVFFLFFFLLFLWLVPARTASSFLTPRLSSLGKRSWAV   \n",
       "\n",
       "    length  class  \n",
       "1       44      1  \n",
       "2       34      1  \n",
       "7       18      1  \n",
       "8       30      1  \n",
       "9       46      1  \n",
       "17       9      1  \n",
       "52     253      1  \n",
       "54     267      1  \n",
       "55     245      1  \n",
       "56      47      1  \n",
       "57      44      1  "
      ]
     },
     "execution_count": 28,
     "metadata": {},
     "output_type": "execute_result"
    }
   ],
   "source": [
    "df[df[\"class\"] == 1] "
   ]
  },
  {
   "cell_type": "markdown",
   "metadata": {},
   "source": [
    "Basic Check"
   ]
  },
  {
   "cell_type": "markdown",
   "metadata": {},
   "source": [
    "check these data exist in training set"
   ]
  },
  {
   "cell_type": "markdown",
   "metadata": {},
   "source": [
    "# Predict on Shuffled sequences"
   ]
  },
  {
   "cell_type": "code",
   "execution_count": 29,
   "metadata": {},
   "outputs": [],
   "source": [
    "def predict(_df ,condition):\n",
    "    #df = _df.loc[_df.length > 30 ].copy() \n",
    "    #df = _df.loc[_df.length <= 30 ].copy()\n",
    "    if condition == 0:\n",
    "        df = _df.copy()\n",
    "    elif condition == -1 :\n",
    "        df = _df.loc[_df.length <= 30 ].copy()\n",
    "    else:\n",
    "        df = _df.loc[_df.length > condition ].copy() # select records with lenght > \n",
    "    #print(df.columns)\n",
    "    ready_df = df[[ \"reps\"]]\n",
    "    df_new = ready_df.reps.apply(pd.Series).astype(np.float64)\n",
    "    df_new.columns = df_new.columns.astype(str)\n",
    "    dl = learner.dls.test_dl(df_new)\n",
    "    _preds,_none ,_y = learner.get_preds(dl=dl, with_decoded=True)\n",
    "    df['class'] = _y\n",
    "    #df.drop(columns=['reps'],inplace =True)\n",
    "    accuracy = (len(df[df[\"class\"] == 1])/len(df) )*100\n",
    "    #print(\"predict AMP :\"+str(len(df[df[\"class\"] == 0])))\n",
    "    #print(\"predict NonAMP:\"+str(len(df[df[\"class\"] == 1])))\n",
    "    #print(\"predict NonAMP (in percentage):\"+str(accuracy))\n",
    "    return len(df[df[\"class\"] == 1])"
   ]
  },
  {
   "cell_type": "markdown",
   "metadata": {},
   "source": [
    "## Retrain with <= 200 AA"
   ]
  },
  {
   "cell_type": "code",
   "execution_count": 17,
   "metadata": {},
   "outputs": [],
   "source": [
    "deployed_path = \"/mnt/vdb/thesis/TubularLearner.III._480.nodropout.retrain\"\n",
    "#deployed_path = \"TubularLearner.fastAI._stage2.pth\"\n",
    "learner = load_learner(deployed_path)"
   ]
  },
  {
   "cell_type": "code",
   "execution_count": 30,
   "metadata": {},
   "outputs": [
    {
     "data": {
      "text/html": [],
      "text/plain": [
       "<IPython.core.display.HTML object>"
      ]
     },
     "metadata": {},
     "output_type": "display_data"
    },
    {
     "data": {
      "text/html": [],
      "text/plain": [
       "<IPython.core.display.HTML object>"
      ]
     },
     "metadata": {},
     "output_type": "display_data"
    },
    {
     "data": {
      "text/html": [],
      "text/plain": [
       "<IPython.core.display.HTML object>"
      ]
     },
     "metadata": {},
     "output_type": "display_data"
    },
    {
     "data": {
      "text/html": [],
      "text/plain": [
       "<IPython.core.display.HTML object>"
      ]
     },
     "metadata": {},
     "output_type": "display_data"
    },
    {
     "data": {
      "text/html": [],
      "text/plain": [
       "<IPython.core.display.HTML object>"
      ]
     },
     "metadata": {},
     "output_type": "display_data"
    },
    {
     "data": {
      "text/html": [],
      "text/plain": [
       "<IPython.core.display.HTML object>"
      ]
     },
     "metadata": {},
     "output_type": "display_data"
    },
    {
     "data": {
      "text/html": [],
      "text/plain": [
       "<IPython.core.display.HTML object>"
      ]
     },
     "metadata": {},
     "output_type": "display_data"
    },
    {
     "data": {
      "text/html": [],
      "text/plain": [
       "<IPython.core.display.HTML object>"
      ]
     },
     "metadata": {},
     "output_type": "display_data"
    },
    {
     "data": {
      "text/html": [],
      "text/plain": [
       "<IPython.core.display.HTML object>"
      ]
     },
     "metadata": {},
     "output_type": "display_data"
    },
    {
     "data": {
      "text/html": [],
      "text/plain": [
       "<IPython.core.display.HTML object>"
      ]
     },
     "metadata": {},
     "output_type": "display_data"
    },
    {
     "data": {
      "text/html": [],
      "text/plain": [
       "<IPython.core.display.HTML object>"
      ]
     },
     "metadata": {},
     "output_type": "display_data"
    },
    {
     "data": {
      "text/html": [],
      "text/plain": [
       "<IPython.core.display.HTML object>"
      ]
     },
     "metadata": {},
     "output_type": "display_data"
    },
    {
     "data": {
      "text/html": [],
      "text/plain": [
       "<IPython.core.display.HTML object>"
      ]
     },
     "metadata": {},
     "output_type": "display_data"
    },
    {
     "data": {
      "text/html": [],
      "text/plain": [
       "<IPython.core.display.HTML object>"
      ]
     },
     "metadata": {},
     "output_type": "display_data"
    },
    {
     "data": {
      "text/html": [],
      "text/plain": [
       "<IPython.core.display.HTML object>"
      ]
     },
     "metadata": {},
     "output_type": "display_data"
    },
    {
     "data": {
      "text/html": [],
      "text/plain": [
       "<IPython.core.display.HTML object>"
      ]
     },
     "metadata": {},
     "output_type": "display_data"
    },
    {
     "data": {
      "text/html": [],
      "text/plain": [
       "<IPython.core.display.HTML object>"
      ]
     },
     "metadata": {},
     "output_type": "display_data"
    },
    {
     "data": {
      "text/html": [],
      "text/plain": [
       "<IPython.core.display.HTML object>"
      ]
     },
     "metadata": {},
     "output_type": "display_data"
    },
    {
     "data": {
      "text/html": [],
      "text/plain": [
       "<IPython.core.display.HTML object>"
      ]
     },
     "metadata": {},
     "output_type": "display_data"
    },
    {
     "data": {
      "text/html": [],
      "text/plain": [
       "<IPython.core.display.HTML object>"
      ]
     },
     "metadata": {},
     "output_type": "display_data"
    },
    {
     "data": {
      "text/html": [],
      "text/plain": [
       "<IPython.core.display.HTML object>"
      ]
     },
     "metadata": {},
     "output_type": "display_data"
    },
    {
     "data": {
      "text/html": [],
      "text/plain": [
       "<IPython.core.display.HTML object>"
      ]
     },
     "metadata": {},
     "output_type": "display_data"
    },
    {
     "data": {
      "text/html": [],
      "text/plain": [
       "<IPython.core.display.HTML object>"
      ]
     },
     "metadata": {},
     "output_type": "display_data"
    },
    {
     "data": {
      "text/html": [],
      "text/plain": [
       "<IPython.core.display.HTML object>"
      ]
     },
     "metadata": {},
     "output_type": "display_data"
    },
    {
     "data": {
      "text/html": [],
      "text/plain": [
       "<IPython.core.display.HTML object>"
      ]
     },
     "metadata": {},
     "output_type": "display_data"
    },
    {
     "data": {
      "text/html": [],
      "text/plain": [
       "<IPython.core.display.HTML object>"
      ]
     },
     "metadata": {},
     "output_type": "display_data"
    },
    {
     "data": {
      "text/html": [],
      "text/plain": [
       "<IPython.core.display.HTML object>"
      ]
     },
     "metadata": {},
     "output_type": "display_data"
    },
    {
     "data": {
      "text/html": [],
      "text/plain": [
       "<IPython.core.display.HTML object>"
      ]
     },
     "metadata": {},
     "output_type": "display_data"
    },
    {
     "data": {
      "text/html": [],
      "text/plain": [
       "<IPython.core.display.HTML object>"
      ]
     },
     "metadata": {},
     "output_type": "display_data"
    },
    {
     "data": {
      "text/html": [],
      "text/plain": [
       "<IPython.core.display.HTML object>"
      ]
     },
     "metadata": {},
     "output_type": "display_data"
    },
    {
     "data": {
      "text/html": [],
      "text/plain": [
       "<IPython.core.display.HTML object>"
      ]
     },
     "metadata": {},
     "output_type": "display_data"
    },
    {
     "data": {
      "text/html": [],
      "text/plain": [
       "<IPython.core.display.HTML object>"
      ]
     },
     "metadata": {},
     "output_type": "display_data"
    },
    {
     "data": {
      "text/html": [],
      "text/plain": [
       "<IPython.core.display.HTML object>"
      ]
     },
     "metadata": {},
     "output_type": "display_data"
    },
    {
     "data": {
      "text/html": [],
      "text/plain": [
       "<IPython.core.display.HTML object>"
      ]
     },
     "metadata": {},
     "output_type": "display_data"
    },
    {
     "data": {
      "text/html": [],
      "text/plain": [
       "<IPython.core.display.HTML object>"
      ]
     },
     "metadata": {},
     "output_type": "display_data"
    },
    {
     "data": {
      "text/html": [],
      "text/plain": [
       "<IPython.core.display.HTML object>"
      ]
     },
     "metadata": {},
     "output_type": "display_data"
    },
    {
     "data": {
      "text/html": [],
      "text/plain": [
       "<IPython.core.display.HTML object>"
      ]
     },
     "metadata": {},
     "output_type": "display_data"
    },
    {
     "data": {
      "text/html": [],
      "text/plain": [
       "<IPython.core.display.HTML object>"
      ]
     },
     "metadata": {},
     "output_type": "display_data"
    },
    {
     "data": {
      "text/html": [],
      "text/plain": [
       "<IPython.core.display.HTML object>"
      ]
     },
     "metadata": {},
     "output_type": "display_data"
    },
    {
     "data": {
      "text/html": [],
      "text/plain": [
       "<IPython.core.display.HTML object>"
      ]
     },
     "metadata": {},
     "output_type": "display_data"
    },
    {
     "data": {
      "text/html": [],
      "text/plain": [
       "<IPython.core.display.HTML object>"
      ]
     },
     "metadata": {},
     "output_type": "display_data"
    },
    {
     "data": {
      "text/html": [],
      "text/plain": [
       "<IPython.core.display.HTML object>"
      ]
     },
     "metadata": {},
     "output_type": "display_data"
    },
    {
     "data": {
      "text/html": [],
      "text/plain": [
       "<IPython.core.display.HTML object>"
      ]
     },
     "metadata": {},
     "output_type": "display_data"
    },
    {
     "data": {
      "text/html": [],
      "text/plain": [
       "<IPython.core.display.HTML object>"
      ]
     },
     "metadata": {},
     "output_type": "display_data"
    },
    {
     "data": {
      "text/html": [],
      "text/plain": [
       "<IPython.core.display.HTML object>"
      ]
     },
     "metadata": {},
     "output_type": "display_data"
    },
    {
     "data": {
      "text/html": [],
      "text/plain": [
       "<IPython.core.display.HTML object>"
      ]
     },
     "metadata": {},
     "output_type": "display_data"
    },
    {
     "data": {
      "text/html": [],
      "text/plain": [
       "<IPython.core.display.HTML object>"
      ]
     },
     "metadata": {},
     "output_type": "display_data"
    },
    {
     "data": {
      "text/html": [],
      "text/plain": [
       "<IPython.core.display.HTML object>"
      ]
     },
     "metadata": {},
     "output_type": "display_data"
    },
    {
     "data": {
      "text/html": [],
      "text/plain": [
       "<IPython.core.display.HTML object>"
      ]
     },
     "metadata": {},
     "output_type": "display_data"
    },
    {
     "data": {
      "text/html": [],
      "text/plain": [
       "<IPython.core.display.HTML object>"
      ]
     },
     "metadata": {},
     "output_type": "display_data"
    },
    {
     "data": {
      "text/html": [],
      "text/plain": [
       "<IPython.core.display.HTML object>"
      ]
     },
     "metadata": {},
     "output_type": "display_data"
    },
    {
     "data": {
      "text/html": [],
      "text/plain": [
       "<IPython.core.display.HTML object>"
      ]
     },
     "metadata": {},
     "output_type": "display_data"
    },
    {
     "data": {
      "text/html": [],
      "text/plain": [
       "<IPython.core.display.HTML object>"
      ]
     },
     "metadata": {},
     "output_type": "display_data"
    },
    {
     "data": {
      "text/html": [],
      "text/plain": [
       "<IPython.core.display.HTML object>"
      ]
     },
     "metadata": {},
     "output_type": "display_data"
    },
    {
     "data": {
      "text/html": [],
      "text/plain": [
       "<IPython.core.display.HTML object>"
      ]
     },
     "metadata": {},
     "output_type": "display_data"
    },
    {
     "data": {
      "text/html": [],
      "text/plain": [
       "<IPython.core.display.HTML object>"
      ]
     },
     "metadata": {},
     "output_type": "display_data"
    },
    {
     "data": {
      "text/html": [],
      "text/plain": [
       "<IPython.core.display.HTML object>"
      ]
     },
     "metadata": {},
     "output_type": "display_data"
    },
    {
     "data": {
      "text/html": [],
      "text/plain": [
       "<IPython.core.display.HTML object>"
      ]
     },
     "metadata": {},
     "output_type": "display_data"
    },
    {
     "data": {
      "text/html": [],
      "text/plain": [
       "<IPython.core.display.HTML object>"
      ]
     },
     "metadata": {},
     "output_type": "display_data"
    },
    {
     "data": {
      "text/html": [],
      "text/plain": [
       "<IPython.core.display.HTML object>"
      ]
     },
     "metadata": {},
     "output_type": "display_data"
    },
    {
     "data": {
      "text/html": [],
      "text/plain": [
       "<IPython.core.display.HTML object>"
      ]
     },
     "metadata": {},
     "output_type": "display_data"
    },
    {
     "data": {
      "text/html": [],
      "text/plain": [
       "<IPython.core.display.HTML object>"
      ]
     },
     "metadata": {},
     "output_type": "display_data"
    },
    {
     "data": {
      "text/html": [],
      "text/plain": [
       "<IPython.core.display.HTML object>"
      ]
     },
     "metadata": {},
     "output_type": "display_data"
    },
    {
     "data": {
      "text/html": [],
      "text/plain": [
       "<IPython.core.display.HTML object>"
      ]
     },
     "metadata": {},
     "output_type": "display_data"
    },
    {
     "data": {
      "text/html": [],
      "text/plain": [
       "<IPython.core.display.HTML object>"
      ]
     },
     "metadata": {},
     "output_type": "display_data"
    },
    {
     "data": {
      "text/html": [],
      "text/plain": [
       "<IPython.core.display.HTML object>"
      ]
     },
     "metadata": {},
     "output_type": "display_data"
    },
    {
     "data": {
      "text/html": [],
      "text/plain": [
       "<IPython.core.display.HTML object>"
      ]
     },
     "metadata": {},
     "output_type": "display_data"
    },
    {
     "data": {
      "text/html": [],
      "text/plain": [
       "<IPython.core.display.HTML object>"
      ]
     },
     "metadata": {},
     "output_type": "display_data"
    },
    {
     "data": {
      "text/html": [],
      "text/plain": [
       "<IPython.core.display.HTML object>"
      ]
     },
     "metadata": {},
     "output_type": "display_data"
    },
    {
     "data": {
      "text/html": [],
      "text/plain": [
       "<IPython.core.display.HTML object>"
      ]
     },
     "metadata": {},
     "output_type": "display_data"
    },
    {
     "data": {
      "text/html": [
       "<div>\n",
       "<style scoped>\n",
       "    .dataframe tbody tr th:only-of-type {\n",
       "        vertical-align: middle;\n",
       "    }\n",
       "\n",
       "    .dataframe tbody tr th {\n",
       "        vertical-align: top;\n",
       "    }\n",
       "\n",
       "    .dataframe thead th {\n",
       "        text-align: right;\n",
       "    }\n",
       "</style>\n",
       "<table border=\"1\" class=\"dataframe\">\n",
       "  <thead>\n",
       "    <tr style=\"text-align: right;\">\n",
       "      <th></th>\n",
       "      <th>no_con</th>\n",
       "      <th>&gt;200</th>\n",
       "      <th>&gt;100</th>\n",
       "      <th>&gt;70</th>\n",
       "      <th>&gt;50</th>\n",
       "      <th>&gt;30</th>\n",
       "      <th>30&lt;=</th>\n",
       "    </tr>\n",
       "  </thead>\n",
       "  <tbody>\n",
       "    <tr>\n",
       "      <th>shuff1</th>\n",
       "      <td>22</td>\n",
       "      <td>4</td>\n",
       "      <td>7</td>\n",
       "      <td>13</td>\n",
       "      <td>14</td>\n",
       "      <td>19</td>\n",
       "      <td>3</td>\n",
       "    </tr>\n",
       "    <tr>\n",
       "      <th>shuff2</th>\n",
       "      <td>29</td>\n",
       "      <td>4</td>\n",
       "      <td>6</td>\n",
       "      <td>13</td>\n",
       "      <td>24</td>\n",
       "      <td>29</td>\n",
       "      <td>0</td>\n",
       "    </tr>\n",
       "    <tr>\n",
       "      <th>shuff3</th>\n",
       "      <td>16</td>\n",
       "      <td>4</td>\n",
       "      <td>6</td>\n",
       "      <td>10</td>\n",
       "      <td>12</td>\n",
       "      <td>16</td>\n",
       "      <td>0</td>\n",
       "    </tr>\n",
       "    <tr>\n",
       "      <th>shuff4</th>\n",
       "      <td>13</td>\n",
       "      <td>4</td>\n",
       "      <td>7</td>\n",
       "      <td>8</td>\n",
       "      <td>8</td>\n",
       "      <td>12</td>\n",
       "      <td>1</td>\n",
       "    </tr>\n",
       "    <tr>\n",
       "      <th>shuff5</th>\n",
       "      <td>20</td>\n",
       "      <td>4</td>\n",
       "      <td>7</td>\n",
       "      <td>12</td>\n",
       "      <td>12</td>\n",
       "      <td>19</td>\n",
       "      <td>1</td>\n",
       "    </tr>\n",
       "    <tr>\n",
       "      <th>shuff6</th>\n",
       "      <td>24</td>\n",
       "      <td>4</td>\n",
       "      <td>7</td>\n",
       "      <td>11</td>\n",
       "      <td>15</td>\n",
       "      <td>21</td>\n",
       "      <td>3</td>\n",
       "    </tr>\n",
       "    <tr>\n",
       "      <th>shuff7</th>\n",
       "      <td>14</td>\n",
       "      <td>4</td>\n",
       "      <td>6</td>\n",
       "      <td>9</td>\n",
       "      <td>9</td>\n",
       "      <td>12</td>\n",
       "      <td>2</td>\n",
       "    </tr>\n",
       "    <tr>\n",
       "      <th>shuff8</th>\n",
       "      <td>23</td>\n",
       "      <td>4</td>\n",
       "      <td>7</td>\n",
       "      <td>13</td>\n",
       "      <td>15</td>\n",
       "      <td>22</td>\n",
       "      <td>1</td>\n",
       "    </tr>\n",
       "    <tr>\n",
       "      <th>shuff9</th>\n",
       "      <td>30</td>\n",
       "      <td>4</td>\n",
       "      <td>6</td>\n",
       "      <td>14</td>\n",
       "      <td>25</td>\n",
       "      <td>30</td>\n",
       "      <td>0</td>\n",
       "    </tr>\n",
       "    <tr>\n",
       "      <th>shuff10</th>\n",
       "      <td>16</td>\n",
       "      <td>4</td>\n",
       "      <td>6</td>\n",
       "      <td>11</td>\n",
       "      <td>11</td>\n",
       "      <td>16</td>\n",
       "      <td>0</td>\n",
       "    </tr>\n",
       "  </tbody>\n",
       "</table>\n",
       "</div>"
      ],
      "text/plain": [
       "        no_con >200 >100 >70 >50 >30 30<=\n",
       "shuff1      22    4    7  13  14  19    3\n",
       "shuff2      29    4    6  13  24  29    0\n",
       "shuff3      16    4    6  10  12  16    0\n",
       "shuff4      13    4    7   8   8  12    1\n",
       "shuff5      20    4    7  12  12  19    1\n",
       "shuff6      24    4    7  11  15  21    3\n",
       "shuff7      14    4    6   9   9  12    2\n",
       "shuff8      23    4    7  13  15  22    1\n",
       "shuff9      30    4    6  14  25  30    0\n",
       "shuff10     16    4    6  11  11  16    0"
      ]
     },
     "execution_count": 30,
     "metadata": {},
     "output_type": "execute_result"
    }
   ],
   "source": [
    "result_df = pd.DataFrame( columns=[\"no_con\",\">200\",\">100\",\">70\",\">50\",\">30\",\"30<=\"],\n",
    "    index = ['shuff1','shuff2', 'shuff3',\"shuff4\",\"shuff5\",\"shuff6\",\"shuff7\",\"shuff8\",\"shuff9\",\"shuff10\"])\n",
    "# shuff1\n",
    "df_ = pd.read_pickle(\"../datasets/truthset/AMPs_truthset_42.reps.plk\")\n",
    "result_df.loc['shuff1', 'no_con']=predict(df_,0)\n",
    "result_df.loc['shuff1', '>200']= predict(df_,200)\n",
    "result_df.loc['shuff1', '>100']=predict(df_,100)\n",
    "result_df.loc['shuff1', '>70']=predict(df_,70)\n",
    "result_df.loc['shuff1', '>50']=predict(df_,50)\n",
    "result_df.loc['shuff1', '>30']=predict(df_,30)\n",
    "result_df.loc['shuff1', '30<=']=predict(df_,-1)\n",
    "# shuff2\n",
    "df_ = pd.read_pickle(\"../datasets/truthset/AMPs_truthset_43.reps.plk\")\n",
    "result_df.loc['shuff2', 'no_con']=predict(df_,0)\n",
    "result_df.loc['shuff2', '>200']= predict(df_,200)\n",
    "result_df.loc['shuff2', '>100']=predict(df_,100)\n",
    "result_df.loc['shuff2', '>70']=predict(df_,70)\n",
    "result_df.loc['shuff2', '>50']=predict(df_,50)\n",
    "result_df.loc['shuff2', '>30']=predict(df_,30)\n",
    "result_df.loc['shuff2', '30<=']=predict(df_,-1)\n",
    "# shuff3\n",
    "df_ = pd.read_pickle(\"../datasets/truthset/AMPs_truthset_44.reps.plk\")\n",
    "result_df.loc['shuff3', 'no_con']=predict(df_,0)\n",
    "result_df.loc['shuff3', '>200']= predict(df_,200)\n",
    "result_df.loc['shuff3', '>100']=predict(df_,100)\n",
    "result_df.loc['shuff3', '>70']=predict(df_,70)\n",
    "result_df.loc['shuff3', '>50']=predict(df_,50)\n",
    "result_df.loc['shuff3', '>30']=predict(df_,30)\n",
    "result_df.loc['shuff3', '30<=']=predict(df_,-1)\n",
    "# shuff4\n",
    "df_ = pd.read_pickle(\"../datasets/truthset/AMPs_truthset_45.reps.plk\")\n",
    "index = \"shuff4\"\n",
    "result_df.loc[index, 'no_con']=predict(df_,0)\n",
    "result_df.loc[index, '>200']= predict(df_,200)\n",
    "result_df.loc[index, '>100']=predict(df_,100)\n",
    "result_df.loc[index, '>70']=predict(df_,70)\n",
    "result_df.loc[index, '>50']=predict(df_,50)\n",
    "result_df.loc[index, '>30']=predict(df_,30)\n",
    "result_df.loc[index, '30<=']=predict(df_,-1)\n",
    "# shuff5\n",
    "df_ = pd.read_pickle(\"../datasets/truthset/AMPs_truthset_46.reps.plk\")\n",
    "index = \"shuff5\"\n",
    "result_df.loc[index, 'no_con']=predict(df_,0)\n",
    "result_df.loc[index, '>200']= predict(df_,200)\n",
    "result_df.loc[index, '>100']=predict(df_,100)\n",
    "result_df.loc[index, '>70']=predict(df_,70)\n",
    "result_df.loc[index, '>50']=predict(df_,50)\n",
    "result_df.loc[index, '>30']=predict(df_,30)\n",
    "result_df.loc[index, '30<=']=predict(df_,-1)\n",
    "# shuff6\n",
    "df_ = pd.read_pickle(\"../datasets/truthset/AMPs_truthset_47.reps.plk\")\n",
    "index = \"shuff6\"\n",
    "result_df.loc[index, 'no_con']=predict(df_,0)\n",
    "result_df.loc[index, '>200']= predict(df_,200)\n",
    "result_df.loc[index, '>100']=predict(df_,100)\n",
    "result_df.loc[index, '>70']=predict(df_,70)\n",
    "result_df.loc[index, '>50']=predict(df_,50)\n",
    "result_df.loc[index, '>30']=predict(df_,30)\n",
    "result_df.loc[index, '30<=']=predict(df_,-1)\n",
    "# shuff7\n",
    "df_ = pd.read_pickle(\"../datasets/truthset/AMPs_truthset_48.reps.plk\")\n",
    "index = \"shuff7\"\n",
    "result_df.loc[index, 'no_con']=predict(df_,0)\n",
    "result_df.loc[index, '>200']= predict(df_,200)\n",
    "result_df.loc[index, '>100']=predict(df_,100)\n",
    "result_df.loc[index, '>70']=predict(df_,70)\n",
    "result_df.loc[index, '>50']=predict(df_,50)\n",
    "result_df.loc[index, '>30']=predict(df_,30)\n",
    "result_df.loc[index, '30<=']=predict(df_,-1)\n",
    "# shuff8\n",
    "df_ = pd.read_pickle(\"../datasets/truthset/AMPs_truthset_49.reps.plk\")\n",
    "index = \"shuff8\"\n",
    "result_df.loc[index, 'no_con']=predict(df_,0)\n",
    "result_df.loc[index, '>200']= predict(df_,200)\n",
    "result_df.loc[index, '>100']=predict(df_,100)\n",
    "result_df.loc[index, '>70']=predict(df_,70)\n",
    "result_df.loc[index, '>50']=predict(df_,50)\n",
    "result_df.loc[index, '>30']=predict(df_,30)\n",
    "result_df.loc[index, '30<=']=predict(df_,-1)\n",
    "# shuff9\n",
    "df_ = pd.read_pickle(\"../datasets/truthset/AMPs_truthset_50.reps.plk\")\n",
    "index = \"shuff9\"\n",
    "result_df.loc[index, 'no_con']=predict(df_,0)\n",
    "result_df.loc[index, '>200']= predict(df_,200)\n",
    "result_df.loc[index, '>100']=predict(df_,100)\n",
    "result_df.loc[index, '>70']=predict(df_,70)\n",
    "result_df.loc[index, '>50']=predict(df_,50)\n",
    "result_df.loc[index, '>30']=predict(df_,30)\n",
    "result_df.loc[index, '30<=']=predict(df_,-1)\n",
    "# shuff10\n",
    "df_ = pd.read_pickle(\"../datasets/truthset/AMPs_truthset_51.reps.plk\")\n",
    "index = \"shuff10\"\n",
    "result_df.loc[index, 'no_con']=predict(df_,0)\n",
    "result_df.loc[index, '>200']= predict(df_,200)\n",
    "result_df.loc[index, '>100']=predict(df_,100)\n",
    "result_df.loc[index, '>70']=predict(df_,70)\n",
    "result_df.loc[index, '>50']=predict(df_,50)\n",
    "result_df.loc[index, '>30']=predict(df_,30)\n",
    "result_df.loc[index, '30<=']=predict(df_,-1)\n",
    "\n",
    "result_df"
   ]
  },
  {
   "cell_type": "markdown",
   "metadata": {},
   "source": [
    "## Retrain with <= 480 AA TubularLearner.III_1699._480.nodropout.retrain"
   ]
  },
  {
   "cell_type": "code",
   "execution_count": 14,
   "metadata": {},
   "outputs": [],
   "source": [
    "deployed_path = \"/mnt/vdb/thesis/TubularLearner.III_1699._480.nodropout.retrain\"\n",
    "#deployed_path = \"TubularLearner.fastAI._stage2.pth\"\n",
    "learner = load_learner(deployed_path)"
   ]
  },
  {
   "cell_type": "code",
   "execution_count": 15,
   "metadata": {},
   "outputs": [
    {
     "data": {
      "text/html": [],
      "text/plain": [
       "<IPython.core.display.HTML object>"
      ]
     },
     "metadata": {},
     "output_type": "display_data"
    },
    {
     "data": {
      "text/html": [],
      "text/plain": [
       "<IPython.core.display.HTML object>"
      ]
     },
     "metadata": {},
     "output_type": "display_data"
    },
    {
     "data": {
      "text/html": [],
      "text/plain": [
       "<IPython.core.display.HTML object>"
      ]
     },
     "metadata": {},
     "output_type": "display_data"
    },
    {
     "data": {
      "text/html": [],
      "text/plain": [
       "<IPython.core.display.HTML object>"
      ]
     },
     "metadata": {},
     "output_type": "display_data"
    },
    {
     "data": {
      "text/html": [],
      "text/plain": [
       "<IPython.core.display.HTML object>"
      ]
     },
     "metadata": {},
     "output_type": "display_data"
    },
    {
     "data": {
      "text/html": [],
      "text/plain": [
       "<IPython.core.display.HTML object>"
      ]
     },
     "metadata": {},
     "output_type": "display_data"
    },
    {
     "data": {
      "text/html": [],
      "text/plain": [
       "<IPython.core.display.HTML object>"
      ]
     },
     "metadata": {},
     "output_type": "display_data"
    },
    {
     "data": {
      "text/html": [],
      "text/plain": [
       "<IPython.core.display.HTML object>"
      ]
     },
     "metadata": {},
     "output_type": "display_data"
    },
    {
     "data": {
      "text/html": [],
      "text/plain": [
       "<IPython.core.display.HTML object>"
      ]
     },
     "metadata": {},
     "output_type": "display_data"
    },
    {
     "data": {
      "text/html": [],
      "text/plain": [
       "<IPython.core.display.HTML object>"
      ]
     },
     "metadata": {},
     "output_type": "display_data"
    },
    {
     "data": {
      "text/html": [],
      "text/plain": [
       "<IPython.core.display.HTML object>"
      ]
     },
     "metadata": {},
     "output_type": "display_data"
    },
    {
     "data": {
      "text/html": [],
      "text/plain": [
       "<IPython.core.display.HTML object>"
      ]
     },
     "metadata": {},
     "output_type": "display_data"
    },
    {
     "data": {
      "text/html": [],
      "text/plain": [
       "<IPython.core.display.HTML object>"
      ]
     },
     "metadata": {},
     "output_type": "display_data"
    },
    {
     "data": {
      "text/html": [],
      "text/plain": [
       "<IPython.core.display.HTML object>"
      ]
     },
     "metadata": {},
     "output_type": "display_data"
    },
    {
     "data": {
      "text/html": [],
      "text/plain": [
       "<IPython.core.display.HTML object>"
      ]
     },
     "metadata": {},
     "output_type": "display_data"
    },
    {
     "data": {
      "text/html": [],
      "text/plain": [
       "<IPython.core.display.HTML object>"
      ]
     },
     "metadata": {},
     "output_type": "display_data"
    },
    {
     "data": {
      "text/html": [],
      "text/plain": [
       "<IPython.core.display.HTML object>"
      ]
     },
     "metadata": {},
     "output_type": "display_data"
    },
    {
     "data": {
      "text/html": [],
      "text/plain": [
       "<IPython.core.display.HTML object>"
      ]
     },
     "metadata": {},
     "output_type": "display_data"
    },
    {
     "data": {
      "text/html": [],
      "text/plain": [
       "<IPython.core.display.HTML object>"
      ]
     },
     "metadata": {},
     "output_type": "display_data"
    },
    {
     "data": {
      "text/html": [],
      "text/plain": [
       "<IPython.core.display.HTML object>"
      ]
     },
     "metadata": {},
     "output_type": "display_data"
    },
    {
     "data": {
      "text/html": [],
      "text/plain": [
       "<IPython.core.display.HTML object>"
      ]
     },
     "metadata": {},
     "output_type": "display_data"
    },
    {
     "data": {
      "text/html": [],
      "text/plain": [
       "<IPython.core.display.HTML object>"
      ]
     },
     "metadata": {},
     "output_type": "display_data"
    },
    {
     "data": {
      "text/html": [],
      "text/plain": [
       "<IPython.core.display.HTML object>"
      ]
     },
     "metadata": {},
     "output_type": "display_data"
    },
    {
     "data": {
      "text/html": [],
      "text/plain": [
       "<IPython.core.display.HTML object>"
      ]
     },
     "metadata": {},
     "output_type": "display_data"
    },
    {
     "data": {
      "text/html": [],
      "text/plain": [
       "<IPython.core.display.HTML object>"
      ]
     },
     "metadata": {},
     "output_type": "display_data"
    },
    {
     "data": {
      "text/html": [],
      "text/plain": [
       "<IPython.core.display.HTML object>"
      ]
     },
     "metadata": {},
     "output_type": "display_data"
    },
    {
     "data": {
      "text/html": [],
      "text/plain": [
       "<IPython.core.display.HTML object>"
      ]
     },
     "metadata": {},
     "output_type": "display_data"
    },
    {
     "data": {
      "text/html": [],
      "text/plain": [
       "<IPython.core.display.HTML object>"
      ]
     },
     "metadata": {},
     "output_type": "display_data"
    },
    {
     "data": {
      "text/html": [],
      "text/plain": [
       "<IPython.core.display.HTML object>"
      ]
     },
     "metadata": {},
     "output_type": "display_data"
    },
    {
     "data": {
      "text/html": [],
      "text/plain": [
       "<IPython.core.display.HTML object>"
      ]
     },
     "metadata": {},
     "output_type": "display_data"
    },
    {
     "data": {
      "text/html": [],
      "text/plain": [
       "<IPython.core.display.HTML object>"
      ]
     },
     "metadata": {},
     "output_type": "display_data"
    },
    {
     "data": {
      "text/html": [],
      "text/plain": [
       "<IPython.core.display.HTML object>"
      ]
     },
     "metadata": {},
     "output_type": "display_data"
    },
    {
     "data": {
      "text/html": [],
      "text/plain": [
       "<IPython.core.display.HTML object>"
      ]
     },
     "metadata": {},
     "output_type": "display_data"
    },
    {
     "data": {
      "text/html": [],
      "text/plain": [
       "<IPython.core.display.HTML object>"
      ]
     },
     "metadata": {},
     "output_type": "display_data"
    },
    {
     "data": {
      "text/html": [],
      "text/plain": [
       "<IPython.core.display.HTML object>"
      ]
     },
     "metadata": {},
     "output_type": "display_data"
    },
    {
     "data": {
      "text/html": [],
      "text/plain": [
       "<IPython.core.display.HTML object>"
      ]
     },
     "metadata": {},
     "output_type": "display_data"
    },
    {
     "data": {
      "text/html": [],
      "text/plain": [
       "<IPython.core.display.HTML object>"
      ]
     },
     "metadata": {},
     "output_type": "display_data"
    },
    {
     "data": {
      "text/html": [],
      "text/plain": [
       "<IPython.core.display.HTML object>"
      ]
     },
     "metadata": {},
     "output_type": "display_data"
    },
    {
     "data": {
      "text/html": [],
      "text/plain": [
       "<IPython.core.display.HTML object>"
      ]
     },
     "metadata": {},
     "output_type": "display_data"
    },
    {
     "data": {
      "text/html": [],
      "text/plain": [
       "<IPython.core.display.HTML object>"
      ]
     },
     "metadata": {},
     "output_type": "display_data"
    },
    {
     "data": {
      "text/html": [],
      "text/plain": [
       "<IPython.core.display.HTML object>"
      ]
     },
     "metadata": {},
     "output_type": "display_data"
    },
    {
     "data": {
      "text/html": [],
      "text/plain": [
       "<IPython.core.display.HTML object>"
      ]
     },
     "metadata": {},
     "output_type": "display_data"
    },
    {
     "data": {
      "text/html": [],
      "text/plain": [
       "<IPython.core.display.HTML object>"
      ]
     },
     "metadata": {},
     "output_type": "display_data"
    },
    {
     "data": {
      "text/html": [],
      "text/plain": [
       "<IPython.core.display.HTML object>"
      ]
     },
     "metadata": {},
     "output_type": "display_data"
    },
    {
     "data": {
      "text/html": [],
      "text/plain": [
       "<IPython.core.display.HTML object>"
      ]
     },
     "metadata": {},
     "output_type": "display_data"
    },
    {
     "data": {
      "text/html": [],
      "text/plain": [
       "<IPython.core.display.HTML object>"
      ]
     },
     "metadata": {},
     "output_type": "display_data"
    },
    {
     "data": {
      "text/html": [],
      "text/plain": [
       "<IPython.core.display.HTML object>"
      ]
     },
     "metadata": {},
     "output_type": "display_data"
    },
    {
     "data": {
      "text/html": [],
      "text/plain": [
       "<IPython.core.display.HTML object>"
      ]
     },
     "metadata": {},
     "output_type": "display_data"
    },
    {
     "data": {
      "text/html": [],
      "text/plain": [
       "<IPython.core.display.HTML object>"
      ]
     },
     "metadata": {},
     "output_type": "display_data"
    },
    {
     "data": {
      "text/html": [],
      "text/plain": [
       "<IPython.core.display.HTML object>"
      ]
     },
     "metadata": {},
     "output_type": "display_data"
    },
    {
     "data": {
      "text/html": [],
      "text/plain": [
       "<IPython.core.display.HTML object>"
      ]
     },
     "metadata": {},
     "output_type": "display_data"
    },
    {
     "data": {
      "text/html": [],
      "text/plain": [
       "<IPython.core.display.HTML object>"
      ]
     },
     "metadata": {},
     "output_type": "display_data"
    },
    {
     "data": {
      "text/html": [],
      "text/plain": [
       "<IPython.core.display.HTML object>"
      ]
     },
     "metadata": {},
     "output_type": "display_data"
    },
    {
     "data": {
      "text/html": [],
      "text/plain": [
       "<IPython.core.display.HTML object>"
      ]
     },
     "metadata": {},
     "output_type": "display_data"
    },
    {
     "data": {
      "text/html": [],
      "text/plain": [
       "<IPython.core.display.HTML object>"
      ]
     },
     "metadata": {},
     "output_type": "display_data"
    },
    {
     "data": {
      "text/html": [],
      "text/plain": [
       "<IPython.core.display.HTML object>"
      ]
     },
     "metadata": {},
     "output_type": "display_data"
    },
    {
     "data": {
      "text/html": [],
      "text/plain": [
       "<IPython.core.display.HTML object>"
      ]
     },
     "metadata": {},
     "output_type": "display_data"
    },
    {
     "data": {
      "text/html": [],
      "text/plain": [
       "<IPython.core.display.HTML object>"
      ]
     },
     "metadata": {},
     "output_type": "display_data"
    },
    {
     "data": {
      "text/html": [],
      "text/plain": [
       "<IPython.core.display.HTML object>"
      ]
     },
     "metadata": {},
     "output_type": "display_data"
    },
    {
     "data": {
      "text/html": [],
      "text/plain": [
       "<IPython.core.display.HTML object>"
      ]
     },
     "metadata": {},
     "output_type": "display_data"
    },
    {
     "data": {
      "text/html": [],
      "text/plain": [
       "<IPython.core.display.HTML object>"
      ]
     },
     "metadata": {},
     "output_type": "display_data"
    },
    {
     "data": {
      "text/html": [],
      "text/plain": [
       "<IPython.core.display.HTML object>"
      ]
     },
     "metadata": {},
     "output_type": "display_data"
    },
    {
     "data": {
      "text/html": [],
      "text/plain": [
       "<IPython.core.display.HTML object>"
      ]
     },
     "metadata": {},
     "output_type": "display_data"
    },
    {
     "data": {
      "text/html": [],
      "text/plain": [
       "<IPython.core.display.HTML object>"
      ]
     },
     "metadata": {},
     "output_type": "display_data"
    },
    {
     "data": {
      "text/html": [],
      "text/plain": [
       "<IPython.core.display.HTML object>"
      ]
     },
     "metadata": {},
     "output_type": "display_data"
    },
    {
     "data": {
      "text/html": [],
      "text/plain": [
       "<IPython.core.display.HTML object>"
      ]
     },
     "metadata": {},
     "output_type": "display_data"
    },
    {
     "data": {
      "text/html": [],
      "text/plain": [
       "<IPython.core.display.HTML object>"
      ]
     },
     "metadata": {},
     "output_type": "display_data"
    },
    {
     "data": {
      "text/html": [],
      "text/plain": [
       "<IPython.core.display.HTML object>"
      ]
     },
     "metadata": {},
     "output_type": "display_data"
    },
    {
     "data": {
      "text/html": [],
      "text/plain": [
       "<IPython.core.display.HTML object>"
      ]
     },
     "metadata": {},
     "output_type": "display_data"
    },
    {
     "data": {
      "text/html": [],
      "text/plain": [
       "<IPython.core.display.HTML object>"
      ]
     },
     "metadata": {},
     "output_type": "display_data"
    }
   ],
   "source": [
    "result_df = pd.DataFrame( columns=[\"no_con\",\">200\",\">100\",\">70\",\">50\",\">30\",\"30<=\"],\n",
    "    index = ['shuff1','shuff2', 'shuff3',\"shuff4\",\"shuff5\",\"shuff6\",\"shuff7\",\"shuff8\",\"shuff9\",\"shuff10\"])\n",
    "# shuff1\n",
    "df_ = pd.read_pickle(\"../datasets/truthset/AMPs_truthset_42.reps.plk\")\n",
    "result_df.loc['shuff1', 'no_con']=predict(df_,0)\n",
    "result_df.loc['shuff1', '>200']= predict(df_,200)\n",
    "result_df.loc['shuff1', '>100']=predict(df_,100)\n",
    "result_df.loc['shuff1', '>70']=predict(df_,70)\n",
    "result_df.loc['shuff1', '>50']=predict(df_,50)\n",
    "result_df.loc['shuff1', '>30']=predict(df_,30)\n",
    "result_df.loc['shuff1', '30<=']=predict(df_,-1)\n",
    "# shuff2\n",
    "df_ = pd.read_pickle(\"../datasets/truthset/AMPs_truthset_43.reps.plk\")\n",
    "result_df.loc['shuff2', 'no_con']=predict(df_,0)\n",
    "result_df.loc['shuff2', '>200']= predict(df_,200)\n",
    "result_df.loc['shuff2', '>100']=predict(df_,100)\n",
    "result_df.loc['shuff2', '>70']=predict(df_,70)\n",
    "result_df.loc['shuff2', '>50']=predict(df_,50)\n",
    "result_df.loc['shuff2', '>30']=predict(df_,30)\n",
    "result_df.loc['shuff2', '30<=']=predict(df_,-1)\n",
    "# shuff3\n",
    "df_ = pd.read_pickle(\"../datasets/truthset/AMPs_truthset_44.reps.plk\")\n",
    "result_df.loc['shuff3', 'no_con']=predict(df_,0)\n",
    "result_df.loc['shuff3', '>200']= predict(df_,200)\n",
    "result_df.loc['shuff3', '>100']=predict(df_,100)\n",
    "result_df.loc['shuff3', '>70']=predict(df_,70)\n",
    "result_df.loc['shuff3', '>50']=predict(df_,50)\n",
    "result_df.loc['shuff3', '>30']=predict(df_,30)\n",
    "result_df.loc['shuff3', '30<=']=predict(df_,-1)\n",
    "# shuff4\n",
    "df_ = pd.read_pickle(\"../datasets/truthset/AMPs_truthset_45.reps.plk\")\n",
    "index = \"shuff4\"\n",
    "result_df.loc[index, 'no_con']=predict(df_,0)\n",
    "result_df.loc[index, '>200']= predict(df_,200)\n",
    "result_df.loc[index, '>100']=predict(df_,100)\n",
    "result_df.loc[index, '>70']=predict(df_,70)\n",
    "result_df.loc[index, '>50']=predict(df_,50)\n",
    "result_df.loc[index, '>30']=predict(df_,30)\n",
    "result_df.loc[index, '30<=']=predict(df_,-1)\n",
    "# shuff5\n",
    "df_ = pd.read_pickle(\"../datasets/truthset/AMPs_truthset_46.reps.plk\")\n",
    "index = \"shuff5\"\n",
    "result_df.loc[index, 'no_con']=predict(df_,0)\n",
    "result_df.loc[index, '>200']= predict(df_,200)\n",
    "result_df.loc[index, '>100']=predict(df_,100)\n",
    "result_df.loc[index, '>70']=predict(df_,70)\n",
    "result_df.loc[index, '>50']=predict(df_,50)\n",
    "result_df.loc[index, '>30']=predict(df_,30)\n",
    "result_df.loc[index, '30<=']=predict(df_,-1)\n",
    "# shuff6\n",
    "df_ = pd.read_pickle(\"../datasets/truthset/AMPs_truthset_47.reps.plk\")\n",
    "index = \"shuff6\"\n",
    "result_df.loc[index, 'no_con']=predict(df_,0)\n",
    "result_df.loc[index, '>200']= predict(df_,200)\n",
    "result_df.loc[index, '>100']=predict(df_,100)\n",
    "result_df.loc[index, '>70']=predict(df_,70)\n",
    "result_df.loc[index, '>50']=predict(df_,50)\n",
    "result_df.loc[index, '>30']=predict(df_,30)\n",
    "result_df.loc[index, '30<=']=predict(df_,-1)\n",
    "# shuff7\n",
    "df_ = pd.read_pickle(\"../datasets/truthset/AMPs_truthset_48.reps.plk\")\n",
    "index = \"shuff7\"\n",
    "result_df.loc[index, 'no_con']=predict(df_,0)\n",
    "result_df.loc[index, '>200']= predict(df_,200)\n",
    "result_df.loc[index, '>100']=predict(df_,100)\n",
    "result_df.loc[index, '>70']=predict(df_,70)\n",
    "result_df.loc[index, '>50']=predict(df_,50)\n",
    "result_df.loc[index, '>30']=predict(df_,30)\n",
    "result_df.loc[index, '30<=']=predict(df_,-1)\n",
    "# shuff8\n",
    "df_ = pd.read_pickle(\"../datasets/truthset/AMPs_truthset_49.reps.plk\")\n",
    "index = \"shuff8\"\n",
    "result_df.loc[index, 'no_con']=predict(df_,0)\n",
    "result_df.loc[index, '>200']= predict(df_,200)\n",
    "result_df.loc[index, '>100']=predict(df_,100)\n",
    "result_df.loc[index, '>70']=predict(df_,70)\n",
    "result_df.loc[index, '>50']=predict(df_,50)\n",
    "result_df.loc[index, '>30']=predict(df_,30)\n",
    "result_df.loc[index, '30<=']=predict(df_,-1)\n",
    "# shuff9\n",
    "df_ = pd.read_pickle(\"../datasets/truthset/AMPs_truthset_50.reps.plk\")\n",
    "index = \"shuff9\"\n",
    "result_df.loc[index, 'no_con']=predict(df_,0)\n",
    "result_df.loc[index, '>200']= predict(df_,200)\n",
    "result_df.loc[index, '>100']=predict(df_,100)\n",
    "result_df.loc[index, '>70']=predict(df_,70)\n",
    "result_df.loc[index, '>50']=predict(df_,50)\n",
    "result_df.loc[index, '>30']=predict(df_,30)\n",
    "result_df.loc[index, '30<=']=predict(df_,-1)\n",
    "# shuff10\n",
    "df_ = pd.read_pickle(\"../datasets/truthset/AMPs_truthset_51.reps.plk\")\n",
    "index = \"shuff10\"\n",
    "result_df.loc[index, 'no_con']=predict(df_,0)\n",
    "result_df.loc[index, '>200']= predict(df_,200)\n",
    "result_df.loc[index, '>100']=predict(df_,100)\n",
    "result_df.loc[index, '>70']=predict(df_,70)\n",
    "result_df.loc[index, '>50']=predict(df_,50)\n",
    "result_df.loc[index, '>30']=predict(df_,30)\n",
    "result_df.loc[index, '30<=']=predict(df_,-1)\n"
   ]
  },
  {
   "cell_type": "code",
   "execution_count": 16,
   "metadata": {},
   "outputs": [
    {
     "data": {
      "text/html": [
       "<div>\n",
       "<style scoped>\n",
       "    .dataframe tbody tr th:only-of-type {\n",
       "        vertical-align: middle;\n",
       "    }\n",
       "\n",
       "    .dataframe tbody tr th {\n",
       "        vertical-align: top;\n",
       "    }\n",
       "\n",
       "    .dataframe thead th {\n",
       "        text-align: right;\n",
       "    }\n",
       "</style>\n",
       "<table border=\"1\" class=\"dataframe\">\n",
       "  <thead>\n",
       "    <tr style=\"text-align: right;\">\n",
       "      <th></th>\n",
       "      <th>no_con</th>\n",
       "      <th>&gt;200</th>\n",
       "      <th>&gt;100</th>\n",
       "      <th>&gt;70</th>\n",
       "      <th>&gt;50</th>\n",
       "      <th>&gt;30</th>\n",
       "      <th>30&lt;=</th>\n",
       "    </tr>\n",
       "  </thead>\n",
       "  <tbody>\n",
       "    <tr>\n",
       "      <th>shuff1</th>\n",
       "      <td>21</td>\n",
       "      <td>1</td>\n",
       "      <td>4</td>\n",
       "      <td>10</td>\n",
       "      <td>11</td>\n",
       "      <td>18</td>\n",
       "      <td>3</td>\n",
       "    </tr>\n",
       "    <tr>\n",
       "      <th>shuff2</th>\n",
       "      <td>28</td>\n",
       "      <td>1</td>\n",
       "      <td>4</td>\n",
       "      <td>10</td>\n",
       "      <td>21</td>\n",
       "      <td>26</td>\n",
       "      <td>2</td>\n",
       "    </tr>\n",
       "    <tr>\n",
       "      <th>shuff3</th>\n",
       "      <td>15</td>\n",
       "      <td>0</td>\n",
       "      <td>2</td>\n",
       "      <td>8</td>\n",
       "      <td>10</td>\n",
       "      <td>14</td>\n",
       "      <td>1</td>\n",
       "    </tr>\n",
       "    <tr>\n",
       "      <th>shuff4</th>\n",
       "      <td>14</td>\n",
       "      <td>0</td>\n",
       "      <td>3</td>\n",
       "      <td>5</td>\n",
       "      <td>6</td>\n",
       "      <td>13</td>\n",
       "      <td>1</td>\n",
       "    </tr>\n",
       "    <tr>\n",
       "      <th>shuff5</th>\n",
       "      <td>17</td>\n",
       "      <td>0</td>\n",
       "      <td>3</td>\n",
       "      <td>8</td>\n",
       "      <td>8</td>\n",
       "      <td>15</td>\n",
       "      <td>2</td>\n",
       "    </tr>\n",
       "    <tr>\n",
       "      <th>shuff6</th>\n",
       "      <td>19</td>\n",
       "      <td>1</td>\n",
       "      <td>4</td>\n",
       "      <td>8</td>\n",
       "      <td>9</td>\n",
       "      <td>16</td>\n",
       "      <td>3</td>\n",
       "    </tr>\n",
       "    <tr>\n",
       "      <th>shuff7</th>\n",
       "      <td>12</td>\n",
       "      <td>0</td>\n",
       "      <td>3</td>\n",
       "      <td>6</td>\n",
       "      <td>6</td>\n",
       "      <td>9</td>\n",
       "      <td>3</td>\n",
       "    </tr>\n",
       "    <tr>\n",
       "      <th>shuff8</th>\n",
       "      <td>13</td>\n",
       "      <td>1</td>\n",
       "      <td>4</td>\n",
       "      <td>8</td>\n",
       "      <td>8</td>\n",
       "      <td>12</td>\n",
       "      <td>1</td>\n",
       "    </tr>\n",
       "    <tr>\n",
       "      <th>shuff9</th>\n",
       "      <td>18</td>\n",
       "      <td>1</td>\n",
       "      <td>3</td>\n",
       "      <td>9</td>\n",
       "      <td>14</td>\n",
       "      <td>18</td>\n",
       "      <td>0</td>\n",
       "    </tr>\n",
       "    <tr>\n",
       "      <th>shuff10</th>\n",
       "      <td>11</td>\n",
       "      <td>0</td>\n",
       "      <td>3</td>\n",
       "      <td>7</td>\n",
       "      <td>7</td>\n",
       "      <td>11</td>\n",
       "      <td>0</td>\n",
       "    </tr>\n",
       "  </tbody>\n",
       "</table>\n",
       "</div>"
      ],
      "text/plain": [
       "        no_con >200 >100 >70 >50 >30 30<=\n",
       "shuff1      21    1    4  10  11  18    3\n",
       "shuff2      28    1    4  10  21  26    2\n",
       "shuff3      15    0    2   8  10  14    1\n",
       "shuff4      14    0    3   5   6  13    1\n",
       "shuff5      17    0    3   8   8  15    2\n",
       "shuff6      19    1    4   8   9  16    3\n",
       "shuff7      12    0    3   6   6   9    3\n",
       "shuff8      13    1    4   8   8  12    1\n",
       "shuff9      18    1    3   9  14  18    0\n",
       "shuff10     11    0    3   7   7  11    0"
      ]
     },
     "execution_count": 16,
     "metadata": {},
     "output_type": "execute_result"
    }
   ],
   "source": [
    "result_df"
   ]
  },
  {
   "cell_type": "markdown",
   "metadata": {},
   "source": [
    "## Retrain .III."
   ]
  },
  {
   "cell_type": "code",
   "execution_count": 12,
   "metadata": {
    "scrolled": true
   },
   "outputs": [
    {
     "data": {
      "text/html": [],
      "text/plain": [
       "<IPython.core.display.HTML object>"
      ]
     },
     "metadata": {},
     "output_type": "display_data"
    },
    {
     "data": {
      "text/html": [],
      "text/plain": [
       "<IPython.core.display.HTML object>"
      ]
     },
     "metadata": {},
     "output_type": "display_data"
    },
    {
     "data": {
      "text/html": [],
      "text/plain": [
       "<IPython.core.display.HTML object>"
      ]
     },
     "metadata": {},
     "output_type": "display_data"
    },
    {
     "data": {
      "text/html": [],
      "text/plain": [
       "<IPython.core.display.HTML object>"
      ]
     },
     "metadata": {},
     "output_type": "display_data"
    },
    {
     "data": {
      "text/html": [],
      "text/plain": [
       "<IPython.core.display.HTML object>"
      ]
     },
     "metadata": {},
     "output_type": "display_data"
    },
    {
     "data": {
      "text/html": [],
      "text/plain": [
       "<IPython.core.display.HTML object>"
      ]
     },
     "metadata": {},
     "output_type": "display_data"
    },
    {
     "data": {
      "text/html": [],
      "text/plain": [
       "<IPython.core.display.HTML object>"
      ]
     },
     "metadata": {},
     "output_type": "display_data"
    },
    {
     "data": {
      "text/html": [],
      "text/plain": [
       "<IPython.core.display.HTML object>"
      ]
     },
     "metadata": {},
     "output_type": "display_data"
    },
    {
     "data": {
      "text/html": [],
      "text/plain": [
       "<IPython.core.display.HTML object>"
      ]
     },
     "metadata": {},
     "output_type": "display_data"
    },
    {
     "data": {
      "text/html": [],
      "text/plain": [
       "<IPython.core.display.HTML object>"
      ]
     },
     "metadata": {},
     "output_type": "display_data"
    },
    {
     "data": {
      "text/html": [],
      "text/plain": [
       "<IPython.core.display.HTML object>"
      ]
     },
     "metadata": {},
     "output_type": "display_data"
    },
    {
     "data": {
      "text/html": [],
      "text/plain": [
       "<IPython.core.display.HTML object>"
      ]
     },
     "metadata": {},
     "output_type": "display_data"
    },
    {
     "data": {
      "text/html": [],
      "text/plain": [
       "<IPython.core.display.HTML object>"
      ]
     },
     "metadata": {},
     "output_type": "display_data"
    },
    {
     "data": {
      "text/html": [],
      "text/plain": [
       "<IPython.core.display.HTML object>"
      ]
     },
     "metadata": {},
     "output_type": "display_data"
    },
    {
     "data": {
      "text/html": [],
      "text/plain": [
       "<IPython.core.display.HTML object>"
      ]
     },
     "metadata": {},
     "output_type": "display_data"
    },
    {
     "data": {
      "text/html": [],
      "text/plain": [
       "<IPython.core.display.HTML object>"
      ]
     },
     "metadata": {},
     "output_type": "display_data"
    },
    {
     "data": {
      "text/html": [],
      "text/plain": [
       "<IPython.core.display.HTML object>"
      ]
     },
     "metadata": {},
     "output_type": "display_data"
    },
    {
     "data": {
      "text/html": [],
      "text/plain": [
       "<IPython.core.display.HTML object>"
      ]
     },
     "metadata": {},
     "output_type": "display_data"
    },
    {
     "data": {
      "text/html": [],
      "text/plain": [
       "<IPython.core.display.HTML object>"
      ]
     },
     "metadata": {},
     "output_type": "display_data"
    },
    {
     "data": {
      "text/html": [],
      "text/plain": [
       "<IPython.core.display.HTML object>"
      ]
     },
     "metadata": {},
     "output_type": "display_data"
    },
    {
     "data": {
      "text/html": [],
      "text/plain": [
       "<IPython.core.display.HTML object>"
      ]
     },
     "metadata": {},
     "output_type": "display_data"
    },
    {
     "data": {
      "text/html": [],
      "text/plain": [
       "<IPython.core.display.HTML object>"
      ]
     },
     "metadata": {},
     "output_type": "display_data"
    },
    {
     "data": {
      "text/html": [],
      "text/plain": [
       "<IPython.core.display.HTML object>"
      ]
     },
     "metadata": {},
     "output_type": "display_data"
    },
    {
     "data": {
      "text/html": [],
      "text/plain": [
       "<IPython.core.display.HTML object>"
      ]
     },
     "metadata": {},
     "output_type": "display_data"
    },
    {
     "data": {
      "text/html": [],
      "text/plain": [
       "<IPython.core.display.HTML object>"
      ]
     },
     "metadata": {},
     "output_type": "display_data"
    },
    {
     "data": {
      "text/html": [],
      "text/plain": [
       "<IPython.core.display.HTML object>"
      ]
     },
     "metadata": {},
     "output_type": "display_data"
    },
    {
     "data": {
      "text/html": [],
      "text/plain": [
       "<IPython.core.display.HTML object>"
      ]
     },
     "metadata": {},
     "output_type": "display_data"
    },
    {
     "data": {
      "text/html": [],
      "text/plain": [
       "<IPython.core.display.HTML object>"
      ]
     },
     "metadata": {},
     "output_type": "display_data"
    },
    {
     "data": {
      "text/html": [],
      "text/plain": [
       "<IPython.core.display.HTML object>"
      ]
     },
     "metadata": {},
     "output_type": "display_data"
    },
    {
     "data": {
      "text/html": [],
      "text/plain": [
       "<IPython.core.display.HTML object>"
      ]
     },
     "metadata": {},
     "output_type": "display_data"
    },
    {
     "data": {
      "text/html": [],
      "text/plain": [
       "<IPython.core.display.HTML object>"
      ]
     },
     "metadata": {},
     "output_type": "display_data"
    },
    {
     "data": {
      "text/html": [],
      "text/plain": [
       "<IPython.core.display.HTML object>"
      ]
     },
     "metadata": {},
     "output_type": "display_data"
    },
    {
     "data": {
      "text/html": [],
      "text/plain": [
       "<IPython.core.display.HTML object>"
      ]
     },
     "metadata": {},
     "output_type": "display_data"
    },
    {
     "data": {
      "text/html": [],
      "text/plain": [
       "<IPython.core.display.HTML object>"
      ]
     },
     "metadata": {},
     "output_type": "display_data"
    },
    {
     "data": {
      "text/html": [],
      "text/plain": [
       "<IPython.core.display.HTML object>"
      ]
     },
     "metadata": {},
     "output_type": "display_data"
    },
    {
     "data": {
      "text/html": [],
      "text/plain": [
       "<IPython.core.display.HTML object>"
      ]
     },
     "metadata": {},
     "output_type": "display_data"
    },
    {
     "data": {
      "text/html": [],
      "text/plain": [
       "<IPython.core.display.HTML object>"
      ]
     },
     "metadata": {},
     "output_type": "display_data"
    },
    {
     "data": {
      "text/html": [],
      "text/plain": [
       "<IPython.core.display.HTML object>"
      ]
     },
     "metadata": {},
     "output_type": "display_data"
    },
    {
     "data": {
      "text/html": [],
      "text/plain": [
       "<IPython.core.display.HTML object>"
      ]
     },
     "metadata": {},
     "output_type": "display_data"
    },
    {
     "data": {
      "text/html": [],
      "text/plain": [
       "<IPython.core.display.HTML object>"
      ]
     },
     "metadata": {},
     "output_type": "display_data"
    },
    {
     "data": {
      "text/html": [],
      "text/plain": [
       "<IPython.core.display.HTML object>"
      ]
     },
     "metadata": {},
     "output_type": "display_data"
    },
    {
     "data": {
      "text/html": [],
      "text/plain": [
       "<IPython.core.display.HTML object>"
      ]
     },
     "metadata": {},
     "output_type": "display_data"
    },
    {
     "data": {
      "text/html": [],
      "text/plain": [
       "<IPython.core.display.HTML object>"
      ]
     },
     "metadata": {},
     "output_type": "display_data"
    },
    {
     "data": {
      "text/html": [],
      "text/plain": [
       "<IPython.core.display.HTML object>"
      ]
     },
     "metadata": {},
     "output_type": "display_data"
    },
    {
     "data": {
      "text/html": [],
      "text/plain": [
       "<IPython.core.display.HTML object>"
      ]
     },
     "metadata": {},
     "output_type": "display_data"
    },
    {
     "data": {
      "text/html": [],
      "text/plain": [
       "<IPython.core.display.HTML object>"
      ]
     },
     "metadata": {},
     "output_type": "display_data"
    },
    {
     "data": {
      "text/html": [],
      "text/plain": [
       "<IPython.core.display.HTML object>"
      ]
     },
     "metadata": {},
     "output_type": "display_data"
    },
    {
     "data": {
      "text/html": [],
      "text/plain": [
       "<IPython.core.display.HTML object>"
      ]
     },
     "metadata": {},
     "output_type": "display_data"
    },
    {
     "data": {
      "text/html": [],
      "text/plain": [
       "<IPython.core.display.HTML object>"
      ]
     },
     "metadata": {},
     "output_type": "display_data"
    },
    {
     "data": {
      "text/html": [],
      "text/plain": [
       "<IPython.core.display.HTML object>"
      ]
     },
     "metadata": {},
     "output_type": "display_data"
    },
    {
     "data": {
      "text/html": [],
      "text/plain": [
       "<IPython.core.display.HTML object>"
      ]
     },
     "metadata": {},
     "output_type": "display_data"
    },
    {
     "data": {
      "text/html": [],
      "text/plain": [
       "<IPython.core.display.HTML object>"
      ]
     },
     "metadata": {},
     "output_type": "display_data"
    },
    {
     "data": {
      "text/html": [],
      "text/plain": [
       "<IPython.core.display.HTML object>"
      ]
     },
     "metadata": {},
     "output_type": "display_data"
    },
    {
     "data": {
      "text/html": [],
      "text/plain": [
       "<IPython.core.display.HTML object>"
      ]
     },
     "metadata": {},
     "output_type": "display_data"
    },
    {
     "data": {
      "text/html": [],
      "text/plain": [
       "<IPython.core.display.HTML object>"
      ]
     },
     "metadata": {},
     "output_type": "display_data"
    },
    {
     "data": {
      "text/html": [],
      "text/plain": [
       "<IPython.core.display.HTML object>"
      ]
     },
     "metadata": {},
     "output_type": "display_data"
    },
    {
     "data": {
      "text/html": [],
      "text/plain": [
       "<IPython.core.display.HTML object>"
      ]
     },
     "metadata": {},
     "output_type": "display_data"
    },
    {
     "data": {
      "text/html": [],
      "text/plain": [
       "<IPython.core.display.HTML object>"
      ]
     },
     "metadata": {},
     "output_type": "display_data"
    },
    {
     "data": {
      "text/html": [],
      "text/plain": [
       "<IPython.core.display.HTML object>"
      ]
     },
     "metadata": {},
     "output_type": "display_data"
    },
    {
     "data": {
      "text/html": [],
      "text/plain": [
       "<IPython.core.display.HTML object>"
      ]
     },
     "metadata": {},
     "output_type": "display_data"
    },
    {
     "data": {
      "text/html": [],
      "text/plain": [
       "<IPython.core.display.HTML object>"
      ]
     },
     "metadata": {},
     "output_type": "display_data"
    },
    {
     "data": {
      "text/html": [],
      "text/plain": [
       "<IPython.core.display.HTML object>"
      ]
     },
     "metadata": {},
     "output_type": "display_data"
    },
    {
     "data": {
      "text/html": [],
      "text/plain": [
       "<IPython.core.display.HTML object>"
      ]
     },
     "metadata": {},
     "output_type": "display_data"
    },
    {
     "data": {
      "text/html": [],
      "text/plain": [
       "<IPython.core.display.HTML object>"
      ]
     },
     "metadata": {},
     "output_type": "display_data"
    },
    {
     "data": {
      "text/html": [],
      "text/plain": [
       "<IPython.core.display.HTML object>"
      ]
     },
     "metadata": {},
     "output_type": "display_data"
    },
    {
     "data": {
      "text/html": [],
      "text/plain": [
       "<IPython.core.display.HTML object>"
      ]
     },
     "metadata": {},
     "output_type": "display_data"
    },
    {
     "data": {
      "text/html": [],
      "text/plain": [
       "<IPython.core.display.HTML object>"
      ]
     },
     "metadata": {},
     "output_type": "display_data"
    },
    {
     "data": {
      "text/html": [],
      "text/plain": [
       "<IPython.core.display.HTML object>"
      ]
     },
     "metadata": {},
     "output_type": "display_data"
    },
    {
     "data": {
      "text/html": [],
      "text/plain": [
       "<IPython.core.display.HTML object>"
      ]
     },
     "metadata": {},
     "output_type": "display_data"
    },
    {
     "data": {
      "text/html": [],
      "text/plain": [
       "<IPython.core.display.HTML object>"
      ]
     },
     "metadata": {},
     "output_type": "display_data"
    }
   ],
   "source": [
    "deployed_path = \"/mnt/vdb/thesis/TubularLearner.III.dev._200.nodropout.retrain\"\n",
    "#deployed_path = \"TubularLearner.fastAI._stage2.pth\"\n",
    "learner = load_learner(deployed_path)\n",
    "\n",
    "result_df = pd.DataFrame( columns=[\"no_con\",\">200\",\">100\",\">70\",\">50\",\">30\",\"30<=\"],\n",
    "    index = ['shuff1','shuff2', 'shuff3',\"shuff4\",\"shuff5\",\"shuff6\",\"shuff7\",\"shuff8\",\"shuff9\",\"shuff10\"])\n",
    "# shuff1\n",
    "df_ = pd.read_pickle(\"../datasets/truthset/AMPs_truthset_42.reps.plk\")\n",
    "result_df.loc['shuff1', 'no_con']=predict(df_,0)\n",
    "result_df.loc['shuff1', '>200']= predict(df_,200)\n",
    "result_df.loc['shuff1', '>100']=predict(df_,100)\n",
    "result_df.loc['shuff1', '>70']=predict(df_,70)\n",
    "result_df.loc['shuff1', '>50']=predict(df_,50)\n",
    "result_df.loc['shuff1', '>30']=predict(df_,30)\n",
    "result_df.loc['shuff1', '30<=']=predict(df_,-1)\n",
    "# shuff2\n",
    "df_ = pd.read_pickle(\"../datasets/truthset/AMPs_truthset_43.reps.plk\")\n",
    "result_df.loc['shuff2', 'no_con']=predict(df_,0)\n",
    "result_df.loc['shuff2', '>200']= predict(df_,200)\n",
    "result_df.loc['shuff2', '>100']=predict(df_,100)\n",
    "result_df.loc['shuff2', '>70']=predict(df_,70)\n",
    "result_df.loc['shuff2', '>50']=predict(df_,50)\n",
    "result_df.loc['shuff2', '>30']=predict(df_,30)\n",
    "result_df.loc['shuff2', '30<=']=predict(df_,-1)\n",
    "# shuff3\n",
    "df_ = pd.read_pickle(\"../datasets/truthset/AMPs_truthset_44.reps.plk\")\n",
    "result_df.loc['shuff3', 'no_con']=predict(df_,0)\n",
    "result_df.loc['shuff3', '>200']= predict(df_,200)\n",
    "result_df.loc['shuff3', '>100']=predict(df_,100)\n",
    "result_df.loc['shuff3', '>70']=predict(df_,70)\n",
    "result_df.loc['shuff3', '>50']=predict(df_,50)\n",
    "result_df.loc['shuff3', '>30']=predict(df_,30)\n",
    "result_df.loc['shuff3', '30<=']=predict(df_,-1)\n",
    "# shuff4\n",
    "df_ = pd.read_pickle(\"../datasets/truthset/AMPs_truthset_45.reps.plk\")\n",
    "index = \"shuff4\"\n",
    "result_df.loc[index, 'no_con']=predict(df_,0)\n",
    "result_df.loc[index, '>200']= predict(df_,200)\n",
    "result_df.loc[index, '>100']=predict(df_,100)\n",
    "result_df.loc[index, '>70']=predict(df_,70)\n",
    "result_df.loc[index, '>50']=predict(df_,50)\n",
    "result_df.loc[index, '>30']=predict(df_,30)\n",
    "result_df.loc[index, '30<=']=predict(df_,-1)\n",
    "# shuff5\n",
    "df_ = pd.read_pickle(\"../datasets/truthset/AMPs_truthset_46.reps.plk\")\n",
    "index = \"shuff5\"\n",
    "result_df.loc[index, 'no_con']=predict(df_,0)\n",
    "result_df.loc[index, '>200']= predict(df_,200)\n",
    "result_df.loc[index, '>100']=predict(df_,100)\n",
    "result_df.loc[index, '>70']=predict(df_,70)\n",
    "result_df.loc[index, '>50']=predict(df_,50)\n",
    "result_df.loc[index, '>30']=predict(df_,30)\n",
    "result_df.loc[index, '30<=']=predict(df_,-1)\n",
    "# shuff6\n",
    "df_ = pd.read_pickle(\"../datasets/truthset/AMPs_truthset_47.reps.plk\")\n",
    "index = \"shuff6\"\n",
    "result_df.loc[index, 'no_con']=predict(df_,0)\n",
    "result_df.loc[index, '>200']= predict(df_,200)\n",
    "result_df.loc[index, '>100']=predict(df_,100)\n",
    "result_df.loc[index, '>70']=predict(df_,70)\n",
    "result_df.loc[index, '>50']=predict(df_,50)\n",
    "result_df.loc[index, '>30']=predict(df_,30)\n",
    "result_df.loc[index, '30<=']=predict(df_,-1)\n",
    "# shuff7\n",
    "df_ = pd.read_pickle(\"../datasets/truthset/AMPs_truthset_48.reps.plk\")\n",
    "index = \"shuff7\"\n",
    "result_df.loc[index, 'no_con']=predict(df_,0)\n",
    "result_df.loc[index, '>200']= predict(df_,200)\n",
    "result_df.loc[index, '>100']=predict(df_,100)\n",
    "result_df.loc[index, '>70']=predict(df_,70)\n",
    "result_df.loc[index, '>50']=predict(df_,50)\n",
    "result_df.loc[index, '>30']=predict(df_,30)\n",
    "result_df.loc[index, '30<=']=predict(df_,-1)\n",
    "# shuff8\n",
    "df_ = pd.read_pickle(\"../datasets/truthset/AMPs_truthset_49.reps.plk\")\n",
    "index = \"shuff8\"\n",
    "result_df.loc[index, 'no_con']=predict(df_,0)\n",
    "result_df.loc[index, '>200']= predict(df_,200)\n",
    "result_df.loc[index, '>100']=predict(df_,100)\n",
    "result_df.loc[index, '>70']=predict(df_,70)\n",
    "result_df.loc[index, '>50']=predict(df_,50)\n",
    "result_df.loc[index, '>30']=predict(df_,30)\n",
    "result_df.loc[index, '30<=']=predict(df_,-1)\n",
    "# shuff9\n",
    "df_ = pd.read_pickle(\"../datasets/truthset/AMPs_truthset_50.reps.plk\")\n",
    "index = \"shuff9\"\n",
    "result_df.loc[index, 'no_con']=predict(df_,0)\n",
    "result_df.loc[index, '>200']= predict(df_,200)\n",
    "result_df.loc[index, '>100']=predict(df_,100)\n",
    "result_df.loc[index, '>70']=predict(df_,70)\n",
    "result_df.loc[index, '>50']=predict(df_,50)\n",
    "result_df.loc[index, '>30']=predict(df_,30)\n",
    "result_df.loc[index, '30<=']=predict(df_,-1)\n",
    "# shuff10\n",
    "df_ = pd.read_pickle(\"../datasets/truthset/AMPs_truthset_51.reps.plk\")\n",
    "index = \"shuff10\"\n",
    "result_df.loc[index, 'no_con']=predict(df_,0)\n",
    "result_df.loc[index, '>200']= predict(df_,200)\n",
    "result_df.loc[index, '>100']=predict(df_,100)\n",
    "result_df.loc[index, '>70']=predict(df_,70)\n",
    "result_df.loc[index, '>50']=predict(df_,50)\n",
    "result_df.loc[index, '>30']=predict(df_,30)\n",
    "result_df.loc[index, '30<=']=predict(df_,-1)\n"
   ]
  },
  {
   "cell_type": "code",
   "execution_count": 13,
   "metadata": {},
   "outputs": [
    {
     "data": {
      "text/html": [
       "<div>\n",
       "<style scoped>\n",
       "    .dataframe tbody tr th:only-of-type {\n",
       "        vertical-align: middle;\n",
       "    }\n",
       "\n",
       "    .dataframe tbody tr th {\n",
       "        vertical-align: top;\n",
       "    }\n",
       "\n",
       "    .dataframe thead th {\n",
       "        text-align: right;\n",
       "    }\n",
       "</style>\n",
       "<table border=\"1\" class=\"dataframe\">\n",
       "  <thead>\n",
       "    <tr style=\"text-align: right;\">\n",
       "      <th></th>\n",
       "      <th>no_con</th>\n",
       "      <th>&gt;200</th>\n",
       "      <th>&gt;100</th>\n",
       "      <th>&gt;70</th>\n",
       "      <th>&gt;50</th>\n",
       "      <th>&gt;30</th>\n",
       "      <th>30&lt;=</th>\n",
       "    </tr>\n",
       "  </thead>\n",
       "  <tbody>\n",
       "    <tr>\n",
       "      <th>shuff1</th>\n",
       "      <td>23</td>\n",
       "      <td>4</td>\n",
       "      <td>7</td>\n",
       "      <td>14</td>\n",
       "      <td>15</td>\n",
       "      <td>20</td>\n",
       "      <td>3</td>\n",
       "    </tr>\n",
       "    <tr>\n",
       "      <th>shuff2</th>\n",
       "      <td>27</td>\n",
       "      <td>4</td>\n",
       "      <td>6</td>\n",
       "      <td>12</td>\n",
       "      <td>23</td>\n",
       "      <td>27</td>\n",
       "      <td>0</td>\n",
       "    </tr>\n",
       "    <tr>\n",
       "      <th>shuff3</th>\n",
       "      <td>21</td>\n",
       "      <td>4</td>\n",
       "      <td>6</td>\n",
       "      <td>12</td>\n",
       "      <td>14</td>\n",
       "      <td>20</td>\n",
       "      <td>1</td>\n",
       "    </tr>\n",
       "    <tr>\n",
       "      <th>shuff4</th>\n",
       "      <td>15</td>\n",
       "      <td>4</td>\n",
       "      <td>6</td>\n",
       "      <td>9</td>\n",
       "      <td>9</td>\n",
       "      <td>14</td>\n",
       "      <td>1</td>\n",
       "    </tr>\n",
       "    <tr>\n",
       "      <th>shuff5</th>\n",
       "      <td>16</td>\n",
       "      <td>4</td>\n",
       "      <td>6</td>\n",
       "      <td>11</td>\n",
       "      <td>11</td>\n",
       "      <td>15</td>\n",
       "      <td>1</td>\n",
       "    </tr>\n",
       "    <tr>\n",
       "      <th>shuff6</th>\n",
       "      <td>23</td>\n",
       "      <td>4</td>\n",
       "      <td>7</td>\n",
       "      <td>12</td>\n",
       "      <td>14</td>\n",
       "      <td>21</td>\n",
       "      <td>2</td>\n",
       "    </tr>\n",
       "    <tr>\n",
       "      <th>shuff7</th>\n",
       "      <td>12</td>\n",
       "      <td>4</td>\n",
       "      <td>5</td>\n",
       "      <td>7</td>\n",
       "      <td>7</td>\n",
       "      <td>9</td>\n",
       "      <td>3</td>\n",
       "    </tr>\n",
       "    <tr>\n",
       "      <th>shuff8</th>\n",
       "      <td>22</td>\n",
       "      <td>4</td>\n",
       "      <td>7</td>\n",
       "      <td>13</td>\n",
       "      <td>15</td>\n",
       "      <td>21</td>\n",
       "      <td>1</td>\n",
       "    </tr>\n",
       "    <tr>\n",
       "      <th>shuff9</th>\n",
       "      <td>26</td>\n",
       "      <td>4</td>\n",
       "      <td>5</td>\n",
       "      <td>13</td>\n",
       "      <td>21</td>\n",
       "      <td>26</td>\n",
       "      <td>0</td>\n",
       "    </tr>\n",
       "    <tr>\n",
       "      <th>shuff10</th>\n",
       "      <td>14</td>\n",
       "      <td>4</td>\n",
       "      <td>6</td>\n",
       "      <td>10</td>\n",
       "      <td>10</td>\n",
       "      <td>13</td>\n",
       "      <td>1</td>\n",
       "    </tr>\n",
       "  </tbody>\n",
       "</table>\n",
       "</div>"
      ],
      "text/plain": [
       "        no_con >200 >100 >70 >50 >30 30<=\n",
       "shuff1      23    4    7  14  15  20    3\n",
       "shuff2      27    4    6  12  23  27    0\n",
       "shuff3      21    4    6  12  14  20    1\n",
       "shuff4      15    4    6   9   9  14    1\n",
       "shuff5      16    4    6  11  11  15    1\n",
       "shuff6      23    4    7  12  14  21    2\n",
       "shuff7      12    4    5   7   7   9    3\n",
       "shuff8      22    4    7  13  15  21    1\n",
       "shuff9      26    4    5  13  21  26    0\n",
       "shuff10     14    4    6  10  10  13    1"
      ]
     },
     "execution_count": 13,
     "metadata": {},
     "output_type": "execute_result"
    }
   ],
   "source": [
    "result_df"
   ]
  },
  {
   "cell_type": "code",
   "execution_count": null,
   "metadata": {},
   "outputs": [],
   "source": []
  }
 ],
 "metadata": {
  "colab": {
   "name": "FASTAI_predictor.ipynb",
   "provenance": []
  },
  "kernelspec": {
   "display_name": "Python 3",
   "language": "python",
   "name": "python3"
  },
  "language_info": {
   "codemirror_mode": {
    "name": "ipython",
    "version": 3
   },
   "file_extension": ".py",
   "mimetype": "text/x-python",
   "name": "python",
   "nbconvert_exporter": "python",
   "pygments_lexer": "ipython3",
   "version": "3.7.9"
  }
 },
 "nbformat": 4,
 "nbformat_minor": 4
}
