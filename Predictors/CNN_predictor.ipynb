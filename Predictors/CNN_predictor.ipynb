{
 "cells": [
  {
   "cell_type": "code",
   "execution_count": 1,
   "metadata": {},
   "outputs": [
    {
     "name": "stdout",
     "output_type": "stream",
     "text": [
      "Collecting package metadata (current_repodata.json): done\n",
      "Solving environment: done\n",
      "\n",
      "\n",
      "==> WARNING: A newer version of conda exists. <==\n",
      "  current version: 4.8.3\n",
      "  latest version: 4.9.2\n",
      "\n",
      "Please update conda by running\n",
      "\n",
      "    $ conda update -n base -c defaults conda\n",
      "\n",
      "\n",
      "\n",
      "## Package Plan ##\n",
      "\n",
      "  environment location: /home/ubuntu/miniconda3/envs/py3\n",
      "\n",
      "  added / updated specs:\n",
      "    - keras\n",
      "\n",
      "\n",
      "The following packages will be downloaded:\n",
      "\n",
      "    package                    |            build\n",
      "    ---------------------------|-----------------\n",
      "    ipython-7.20.0             |   py37h888b3d9_2         1.1 MB  conda-forge\n",
      "    ------------------------------------------------------------\n",
      "                                           Total:         1.1 MB\n",
      "\n",
      "The following packages will be UPDATED:\n",
      "\n",
      "  certifi            pkgs/main::certifi-2020.12.5-py37h06a~ --> conda-forge::certifi-2020.12.5-py37h89c1867_1\n",
      "  ipython                             7.12.0-py37h5ca1d4c_0 --> 7.20.0-py37h888b3d9_2\n",
      "\n",
      "The following packages will be SUPERSEDED by a higher-priority channel:\n",
      "\n",
      "  ca-certificates    pkgs/main::ca-certificates-2021.1.19-~ --> conda-forge::ca-certificates-2020.12.5-ha878542_0\n",
      "  keras                            pkgs/main::keras-2.3.1-0 --> conda-forge::keras-2.3.1-py37_0\n",
      "  openssl              pkgs/main::openssl-1.1.1i-h27cfd23_0 --> conda-forge::openssl-1.1.1i-h7f98852_0\n",
      "\n",
      "\n",
      "\n",
      "Downloading and Extracting Packages\n",
      "ipython-7.20.0       | 1.1 MB    | ##################################### | 100% \n",
      "Preparing transaction: done\n",
      "Verifying transaction: done\n",
      "Executing transaction: done\n"
     ]
    }
   ],
   "source": [
    "! conda install -c conda-forge keras==2.3.1 -y"
   ]
  },
  {
   "cell_type": "code",
   "execution_count": 2,
   "metadata": {
    "id": "r_WHUIJomX5u",
    "outputId": "968d231a-48ea-48f5-ffa9-9ed6ccbae282"
   },
   "outputs": [],
   "source": [
    "\n",
    "# for keras 2.3.1\n",
    "from tensorflow.keras.models import load_model\n",
    "\n",
    "from sklearn.model_selection import train_test_split\n",
    "from sklearn.model_selection import cross_val_score\n",
    "from sklearn.model_selection import StratifiedKFold\n",
    "from sklearn.metrics import roc_curve,auc\n",
    "\n",
    "import glob\n",
    "import numpy as np\n",
    "import pandas as pd\n",
    "import matplotlib.pyplot as plt"
   ]
  },
  {
   "cell_type": "code",
   "execution_count": 18,
   "metadata": {},
   "outputs": [],
   "source": [
    "import os\n",
    "os.environ[\"CUDA_VISIBLE_DEVICES\"]=\"-1\"    \n",
    "#\n",
    "# CustomCNN.RMSprop.512_1211.V2.h5\n",
    "\n",
    "deployed_path = \"/mnt/vdb/thesis/CustomCNN.RMSprop.512_1211.V2.h5\"\n",
    "import tensorflow as tf\n",
    "\n",
    "with tf.device('/cpu:0'):\n",
    "    learner = load_model(deployed_path)"
   ]
  },
  {
   "cell_type": "code",
   "execution_count": 4,
   "metadata": {},
   "outputs": [],
   "source": [
    "def toPredictDF(path,to_dir,existing_result):\n",
    "    appended_pkl = []\n",
    "    for infile in glob.glob(path):\n",
    "        #print(\"Read:\",infile)\n",
    "        file_name = os.path.basename(infile)\n",
    "        result_path=to_dir+\"/\"+file_name.replace(\"pkl\", \"ML.pkl\")\n",
    "        if result_path in existing_result :\n",
    "        # print(\"found then skip : \" , result)\n",
    "            continue\n",
    "        else:\n",
    "            df = pd.read_pickle(infile)\n",
    "            ready_df =df[[ \"reps\"]]\n",
    "            df_new = ready_df.reps.apply(pd.Series).astype(np.float64)\n",
    "            df_new.columns = df_new.columns.astype(str)\n",
    "            dl = learner.dls.test_dl(df_new)\n",
    "            _preds,_none ,_y = learner.get_preds(dl=dl, with_decoded=True)\n",
    "            df.drop(columns=['reps','length'],inplace =True)\n",
    "            df['class'] = _y\n",
    "            #print(\"Save:\",result_path)\n",
    "            df.to_pickle(result_path)\n",
    "    print(\"Complete\")\n",
    "\n",
    "def mergeDF(path,to_dir,file_name):\n",
    "    appended_data = []\n",
    "    for infile in glob.glob(path):\n",
    "        #print(infile)\n",
    "        data = pd.read_pickle(infile)\n",
    "        # store DataFrame in list\n",
    "        appended_data.append(data)\n",
    "    result_path=to_dir+\"/\"+file_name\n",
    "    print(\"Save:\",result_path)\n",
    "    appended_data = pd.concat(appended_data)\n",
    "    appended_data.sort_values(by=['ID'], inplace=True)\n",
    "    appended_data.to_pickle(result_path)\n",
    "    return appended_data\n",
    "\n",
    "def predict_CNN(path,to_dir,existing_result):\n",
    "    appended_pkl = []\n",
    "    for infile in glob.glob(path):  \n",
    "     #print(\"Read:\",infile)\n",
    "        file_name = os.path.basename(infile)\n",
    "        result_path=to_dir+\"/\"+file_name.replace(\"pkl\", \"ML.pkl\")\n",
    "        if result_path in existing_result :\n",
    "        # print(\"found then skip : \" , result)\n",
    "            continue\n",
    "        else:\n",
    "            df = pd.read_pickle(infile)\n",
    "            ready_df =df[[ \"reps\"]]\n",
    "            \n",
    "            X= np.array(df['reps'].to_list())\n",
    "            X_test = np.reshape(X,(X.shape[0],X.shape[1],1))\n",
    "            y_probas = learner.predict(X_test)\n",
    "            threshold = 0.5\n",
    "            _y = np.where(y_probas > threshold, 1, 0)\n",
    "            df.drop(columns=['reps'],inplace =True)\n",
    "            df['class'] = _y\n",
    "            #print(\"Save:\",result_path)\n",
    "            df.to_pickle(result_path) \n",
    "\n",
    "    print(\"Complete\")\n",
    "\n"
   ]
  },
  {
   "cell_type": "code",
   "execution_count": 5,
   "metadata": {},
   "outputs": [
    {
     "name": "stdout",
     "output_type": "stream",
     "text": [
      "Model: \"functional_11\"\n",
      "_________________________________________________________________\n",
      "Layer (type)                 Output Shape              Param #   \n",
      "=================================================================\n",
      "input_6 (InputLayer)         [(None, 1900, 1)]         0         \n",
      "_________________________________________________________________\n",
      "conv1d_10 (Conv1D)           (None, 1900, 512)         4608      \n",
      "_________________________________________________________________\n",
      "max_pooling1d_10 (MaxPooling (None, 633, 512)          0         \n",
      "_________________________________________________________________\n",
      "conv1d_11 (Conv1D)           (None, 633, 256)          524544    \n",
      "_________________________________________________________________\n",
      "max_pooling1d_11 (MaxPooling (None, 316, 256)          0         \n",
      "_________________________________________________________________\n",
      "flatten_5 (Flatten)          (None, 80896)             0         \n",
      "_________________________________________________________________\n",
      "dense_10 (Dense)             (None, 1211)              97966267  \n",
      "_________________________________________________________________\n",
      "dropout_10 (Dropout)         (None, 1211)              0         \n",
      "_________________________________________________________________\n",
      "dense_11 (Dense)             (None, 1211)              1467732   \n",
      "_________________________________________________________________\n",
      "dropout_11 (Dropout)         (None, 1211)              0         \n",
      "_________________________________________________________________\n",
      "output_layer (Dense)         (None, 1)                 1212      \n",
      "=================================================================\n",
      "Total params: 99,964,363\n",
      "Trainable params: 99,964,363\n",
      "Non-trainable params: 0\n",
      "_________________________________________________________________\n"
     ]
    }
   ],
   "source": [
    "# summarize model.\n",
    "learner.summary()"
   ]
  },
  {
   "cell_type": "markdown",
   "metadata": {},
   "source": [
    "## DECockRoach"
   ]
  },
  {
   "cell_type": "code",
   "execution_count": 19,
   "metadata": {},
   "outputs": [
    {
     "name": "stdout",
     "output_type": "stream",
     "text": [
      "448\n"
     ]
    }
   ],
   "source": [
    "existing_result = []\n",
    "for infile in glob.glob(\"/mnt/vdb/DECockroach/cd100/result_2_CNN_Adam/*.pkl\"):\n",
    "    # print(infile)\n",
    "    existing_result.append(infile)\n",
    "print(len(existing_result))"
   ]
  },
  {
   "cell_type": "code",
   "execution_count": 8,
   "metadata": {},
   "outputs": [
    {
     "name": "stdout",
     "output_type": "stream",
     "text": [
      "Complete\n"
     ]
    }
   ],
   "source": [
    "# Predict\n",
    "predict_CNN(\"/mnt/vdb/DECockroach/cd100/reps/*.pkl\",\"/mnt/vdb/DECockroach/cd100/result_2_CNN_Adam\",existing_result)"
   ]
  },
  {
   "cell_type": "code",
   "execution_count": 9,
   "metadata": {},
   "outputs": [
    {
     "name": "stdout",
     "output_type": "stream",
     "text": [
      "Save: /mnt/vdb/DECockroach/cd100/result_2_CNN_Adam/DECockroach.len15.MLResult.plk\n"
     ]
    },
    {
     "data": {
      "text/html": [
       "<div>\n",
       "<style scoped>\n",
       "    .dataframe tbody tr th:only-of-type {\n",
       "        vertical-align: middle;\n",
       "    }\n",
       "\n",
       "    .dataframe tbody tr th {\n",
       "        vertical-align: top;\n",
       "    }\n",
       "\n",
       "    .dataframe thead th {\n",
       "        text-align: right;\n",
       "    }\n",
       "</style>\n",
       "<table border=\"1\" class=\"dataframe\">\n",
       "  <thead>\n",
       "    <tr style=\"text-align: right;\">\n",
       "      <th></th>\n",
       "      <th>ID</th>\n",
       "      <th>length</th>\n",
       "      <th>class</th>\n",
       "    </tr>\n",
       "  </thead>\n",
       "  <tbody>\n",
       "    <tr>\n",
       "      <th>0</th>\n",
       "      <td>0</td>\n",
       "      <td>17</td>\n",
       "      <td>0</td>\n",
       "    </tr>\n",
       "    <tr>\n",
       "      <th>1</th>\n",
       "      <td>1</td>\n",
       "      <td>17</td>\n",
       "      <td>0</td>\n",
       "    </tr>\n",
       "    <tr>\n",
       "      <th>2</th>\n",
       "      <td>3</td>\n",
       "      <td>18</td>\n",
       "      <td>0</td>\n",
       "    </tr>\n",
       "    <tr>\n",
       "      <th>3</th>\n",
       "      <td>4</td>\n",
       "      <td>30</td>\n",
       "      <td>0</td>\n",
       "    </tr>\n",
       "    <tr>\n",
       "      <th>4</th>\n",
       "      <td>5</td>\n",
       "      <td>17</td>\n",
       "      <td>0</td>\n",
       "    </tr>\n",
       "    <tr>\n",
       "      <th>...</th>\n",
       "      <td>...</td>\n",
       "      <td>...</td>\n",
       "      <td>...</td>\n",
       "    </tr>\n",
       "    <tr>\n",
       "      <th>199</th>\n",
       "      <td>894298</td>\n",
       "      <td>17</td>\n",
       "      <td>1</td>\n",
       "    </tr>\n",
       "    <tr>\n",
       "      <th>200</th>\n",
       "      <td>894299</td>\n",
       "      <td>19</td>\n",
       "      <td>0</td>\n",
       "    </tr>\n",
       "    <tr>\n",
       "      <th>201</th>\n",
       "      <td>894303</td>\n",
       "      <td>17</td>\n",
       "      <td>1</td>\n",
       "    </tr>\n",
       "    <tr>\n",
       "      <th>202</th>\n",
       "      <td>894304</td>\n",
       "      <td>17</td>\n",
       "      <td>1</td>\n",
       "    </tr>\n",
       "    <tr>\n",
       "      <th>203</th>\n",
       "      <td>894305</td>\n",
       "      <td>28</td>\n",
       "      <td>0</td>\n",
       "    </tr>\n",
       "  </tbody>\n",
       "</table>\n",
       "<p>626569 rows × 3 columns</p>\n",
       "</div>"
      ],
      "text/plain": [
       "         ID  length  class\n",
       "0         0      17      0\n",
       "1         1      17      0\n",
       "2         3      18      0\n",
       "3         4      30      0\n",
       "4         5      17      0\n",
       "..      ...     ...    ...\n",
       "199  894298      17      1\n",
       "200  894299      19      0\n",
       "201  894303      17      1\n",
       "202  894304      17      1\n",
       "203  894305      28      0\n",
       "\n",
       "[626569 rows x 3 columns]"
      ]
     },
     "execution_count": 9,
     "metadata": {},
     "output_type": "execute_result"
    }
   ],
   "source": [
    "# write result\n",
    "result_df =mergeDF(\"/mnt/vdb/DECockroach/cd100/result_2_CNN_Adam/*.pkl\",\"/mnt/vdb/DECockroach/cd100/result_2_CNN_Adam\",\"DECockroach.len15.MLResult.plk\")\n",
    "result_df"
   ]
  },
  {
   "cell_type": "code",
   "execution_count": 10,
   "metadata": {},
   "outputs": [
    {
     "data": {
      "text/html": [
       "<div>\n",
       "<style scoped>\n",
       "    .dataframe tbody tr th:only-of-type {\n",
       "        vertical-align: middle;\n",
       "    }\n",
       "\n",
       "    .dataframe tbody tr th {\n",
       "        vertical-align: top;\n",
       "    }\n",
       "\n",
       "    .dataframe thead th {\n",
       "        text-align: right;\n",
       "    }\n",
       "</style>\n",
       "<table border=\"1\" class=\"dataframe\">\n",
       "  <thead>\n",
       "    <tr style=\"text-align: right;\">\n",
       "      <th></th>\n",
       "      <th>ID</th>\n",
       "      <th>length</th>\n",
       "      <th>class</th>\n",
       "    </tr>\n",
       "  </thead>\n",
       "  <tbody>\n",
       "    <tr>\n",
       "      <th>9</th>\n",
       "      <td>10</td>\n",
       "      <td>18</td>\n",
       "      <td>1</td>\n",
       "    </tr>\n",
       "    <tr>\n",
       "      <th>10</th>\n",
       "      <td>12</td>\n",
       "      <td>20</td>\n",
       "      <td>1</td>\n",
       "    </tr>\n",
       "    <tr>\n",
       "      <th>13</th>\n",
       "      <td>16</td>\n",
       "      <td>19</td>\n",
       "      <td>1</td>\n",
       "    </tr>\n",
       "    <tr>\n",
       "      <th>14</th>\n",
       "      <td>17</td>\n",
       "      <td>17</td>\n",
       "      <td>1</td>\n",
       "    </tr>\n",
       "    <tr>\n",
       "      <th>16</th>\n",
       "      <td>19</td>\n",
       "      <td>17</td>\n",
       "      <td>1</td>\n",
       "    </tr>\n",
       "    <tr>\n",
       "      <th>...</th>\n",
       "      <td>...</td>\n",
       "      <td>...</td>\n",
       "      <td>...</td>\n",
       "    </tr>\n",
       "    <tr>\n",
       "      <th>193</th>\n",
       "      <td>894288</td>\n",
       "      <td>17</td>\n",
       "      <td>1</td>\n",
       "    </tr>\n",
       "    <tr>\n",
       "      <th>195</th>\n",
       "      <td>894293</td>\n",
       "      <td>28</td>\n",
       "      <td>1</td>\n",
       "    </tr>\n",
       "    <tr>\n",
       "      <th>199</th>\n",
       "      <td>894298</td>\n",
       "      <td>17</td>\n",
       "      <td>1</td>\n",
       "    </tr>\n",
       "    <tr>\n",
       "      <th>201</th>\n",
       "      <td>894303</td>\n",
       "      <td>17</td>\n",
       "      <td>1</td>\n",
       "    </tr>\n",
       "    <tr>\n",
       "      <th>202</th>\n",
       "      <td>894304</td>\n",
       "      <td>17</td>\n",
       "      <td>1</td>\n",
       "    </tr>\n",
       "  </tbody>\n",
       "</table>\n",
       "<p>283272 rows × 3 columns</p>\n",
       "</div>"
      ],
      "text/plain": [
       "         ID  length  class\n",
       "9        10      18      1\n",
       "10       12      20      1\n",
       "13       16      19      1\n",
       "14       17      17      1\n",
       "16       19      17      1\n",
       "..      ...     ...    ...\n",
       "193  894288      17      1\n",
       "195  894293      28      1\n",
       "199  894298      17      1\n",
       "201  894303      17      1\n",
       "202  894304      17      1\n",
       "\n",
       "[283272 rows x 3 columns]"
      ]
     },
     "execution_count": 10,
     "metadata": {},
     "output_type": "execute_result"
    }
   ],
   "source": [
    "result_df[result_df[\"class\"]== 1]"
   ]
  },
  {
   "cell_type": "markdown",
   "metadata": {},
   "source": [
    "## BAT"
   ]
  },
  {
   "cell_type": "code",
   "execution_count": 11,
   "metadata": {
    "id": "IoTrGO6HmX6E"
   },
   "outputs": [
    {
     "name": "stdout",
     "output_type": "stream",
     "text": [
      "0\n"
     ]
    }
   ],
   "source": [
    "existing_result = []\n",
    "for infile in glob.glob(\"/mnt/vdb/Bat/cd100/result_2_CNN_Adam/*.pkl\"):\n",
    "    # print(infile)\n",
    "    existing_result.append(infile)\n",
    "print(len(existing_result))"
   ]
  },
  {
   "cell_type": "code",
   "execution_count": 13,
   "metadata": {},
   "outputs": [
    {
     "name": "stdout",
     "output_type": "stream",
     "text": [
      "Complete\n"
     ]
    }
   ],
   "source": [
    "# Predict\n",
    "predict_CNN(\"/mnt/vdb/Bat/cd100/reps/*.pkl\",\"/mnt/vdb/Bat/cd100/result_2_CNN_Adam\",existing_result)"
   ]
  },
  {
   "cell_type": "code",
   "execution_count": 14,
   "metadata": {},
   "outputs": [
    {
     "name": "stdout",
     "output_type": "stream",
     "text": [
      "Save: /mnt/vdb/Bat/cd100/result_2_CNN_Adam/Bat.len10.MLResult.plk\n"
     ]
    },
    {
     "data": {
      "text/html": [
       "<div>\n",
       "<style scoped>\n",
       "    .dataframe tbody tr th:only-of-type {\n",
       "        vertical-align: middle;\n",
       "    }\n",
       "\n",
       "    .dataframe tbody tr th {\n",
       "        vertical-align: top;\n",
       "    }\n",
       "\n",
       "    .dataframe thead th {\n",
       "        text-align: right;\n",
       "    }\n",
       "</style>\n",
       "<table border=\"1\" class=\"dataframe\">\n",
       "  <thead>\n",
       "    <tr style=\"text-align: right;\">\n",
       "      <th></th>\n",
       "      <th>ID</th>\n",
       "      <th>length</th>\n",
       "      <th>class</th>\n",
       "    </tr>\n",
       "  </thead>\n",
       "  <tbody>\n",
       "    <tr>\n",
       "      <th>0</th>\n",
       "      <td>9</td>\n",
       "      <td>275</td>\n",
       "      <td>1</td>\n",
       "    </tr>\n",
       "    <tr>\n",
       "      <th>1</th>\n",
       "      <td>19</td>\n",
       "      <td>47</td>\n",
       "      <td>1</td>\n",
       "    </tr>\n",
       "    <tr>\n",
       "      <th>2</th>\n",
       "      <td>32</td>\n",
       "      <td>151</td>\n",
       "      <td>1</td>\n",
       "    </tr>\n",
       "    <tr>\n",
       "      <th>3</th>\n",
       "      <td>54</td>\n",
       "      <td>199</td>\n",
       "      <td>1</td>\n",
       "    </tr>\n",
       "    <tr>\n",
       "      <th>4</th>\n",
       "      <td>61</td>\n",
       "      <td>152</td>\n",
       "      <td>0</td>\n",
       "    </tr>\n",
       "    <tr>\n",
       "      <th>...</th>\n",
       "      <td>...</td>\n",
       "      <td>...</td>\n",
       "      <td>...</td>\n",
       "    </tr>\n",
       "    <tr>\n",
       "      <th>74</th>\n",
       "      <td>12568817</td>\n",
       "      <td>51</td>\n",
       "      <td>1</td>\n",
       "    </tr>\n",
       "    <tr>\n",
       "      <th>75</th>\n",
       "      <td>12568833</td>\n",
       "      <td>45</td>\n",
       "      <td>1</td>\n",
       "    </tr>\n",
       "    <tr>\n",
       "      <th>76</th>\n",
       "      <td>12568849</td>\n",
       "      <td>117</td>\n",
       "      <td>1</td>\n",
       "    </tr>\n",
       "    <tr>\n",
       "      <th>77</th>\n",
       "      <td>12568850</td>\n",
       "      <td>174</td>\n",
       "      <td>1</td>\n",
       "    </tr>\n",
       "    <tr>\n",
       "      <th>78</th>\n",
       "      <td>12568985</td>\n",
       "      <td>229</td>\n",
       "      <td>0</td>\n",
       "    </tr>\n",
       "  </tbody>\n",
       "</table>\n",
       "<p>422796 rows × 3 columns</p>\n",
       "</div>"
      ],
      "text/plain": [
       "          ID  length  class\n",
       "0          9     275      1\n",
       "1         19      47      1\n",
       "2         32     151      1\n",
       "3         54     199      1\n",
       "4         61     152      0\n",
       "..       ...     ...    ...\n",
       "74  12568817      51      1\n",
       "75  12568833      45      1\n",
       "76  12568849     117      1\n",
       "77  12568850     174      1\n",
       "78  12568985     229      0\n",
       "\n",
       "[422796 rows x 3 columns]"
      ]
     },
     "execution_count": 14,
     "metadata": {},
     "output_type": "execute_result"
    }
   ],
   "source": [
    "# write result\n",
    "result_df =mergeDF(\"/mnt/vdb/Bat/cd100/result_2_CNN_Adam/*.pkl\",\"/mnt/vdb/Bat/cd100/result_2_CNN_Adam\",\"Bat.len10.MLResult.plk\")\n",
    "result_df"
   ]
  },
  {
   "cell_type": "markdown",
   "metadata": {},
   "source": [
    "# TransPI"
   ]
  },
  {
   "cell_type": "markdown",
   "metadata": {},
   "source": [
    "## BAT"
   ]
  },
  {
   "cell_type": "code",
   "execution_count": 20,
   "metadata": {},
   "outputs": [
    {
     "name": "stdout",
     "output_type": "stream",
     "text": [
      "0\n"
     ]
    }
   ],
   "source": [
    "existing_result = []\n",
    "for infile in glob.glob(\"/mnt/vdb/Bat/transpi/result_2_CNN_RMSpop/*.pkl\"):\n",
    "    # print(infile)\n",
    "    existing_result.append(infile)\n",
    "print(len(existing_result))"
   ]
  },
  {
   "cell_type": "code",
   "execution_count": 21,
   "metadata": {},
   "outputs": [
    {
     "name": "stdout",
     "output_type": "stream",
     "text": [
      "Complete\n"
     ]
    }
   ],
   "source": [
    "# Predict\n",
    "predict_CNN(\"/mnt/vdb/Bat/transpi/reps/*.pkl\",\"/mnt/vdb/Bat/transpi/result_2_CNN_RMSpop\",existing_result)"
   ]
  },
  {
   "cell_type": "code",
   "execution_count": 22,
   "metadata": {},
   "outputs": [
    {
     "name": "stdout",
     "output_type": "stream",
     "text": [
      "Save: /mnt/vdb/Bat/transpi/result_2_CNN_RMSpop/Bat.len10.MLResult.plk\n"
     ]
    },
    {
     "data": {
      "text/html": [
       "<div>\n",
       "<style scoped>\n",
       "    .dataframe tbody tr th:only-of-type {\n",
       "        vertical-align: middle;\n",
       "    }\n",
       "\n",
       "    .dataframe tbody tr th {\n",
       "        vertical-align: top;\n",
       "    }\n",
       "\n",
       "    .dataframe thead th {\n",
       "        text-align: right;\n",
       "    }\n",
       "</style>\n",
       "<table border=\"1\" class=\"dataframe\">\n",
       "  <thead>\n",
       "    <tr style=\"text-align: right;\">\n",
       "      <th></th>\n",
       "      <th>ID</th>\n",
       "      <th>length</th>\n",
       "      <th>class</th>\n",
       "    </tr>\n",
       "  </thead>\n",
       "  <tbody>\n",
       "    <tr>\n",
       "      <th>0</th>\n",
       "      <td>SOAP.k25.C303246.p1</td>\n",
       "      <td>101</td>\n",
       "      <td>1</td>\n",
       "    </tr>\n",
       "    <tr>\n",
       "      <th>1</th>\n",
       "      <td>SOAP.k25.C303708.p1</td>\n",
       "      <td>102</td>\n",
       "      <td>0</td>\n",
       "    </tr>\n",
       "    <tr>\n",
       "      <th>2</th>\n",
       "      <td>SOAP.k25.C304032.p1</td>\n",
       "      <td>103</td>\n",
       "      <td>1</td>\n",
       "    </tr>\n",
       "    <tr>\n",
       "      <th>3</th>\n",
       "      <td>SOAP.k25.C304284.p1</td>\n",
       "      <td>104</td>\n",
       "      <td>1</td>\n",
       "    </tr>\n",
       "    <tr>\n",
       "      <th>4</th>\n",
       "      <td>SOAP.k25.C304386.p1</td>\n",
       "      <td>104</td>\n",
       "      <td>1</td>\n",
       "    </tr>\n",
       "    <tr>\n",
       "      <th>...</th>\n",
       "      <td>...</td>\n",
       "      <td>...</td>\n",
       "      <td>...</td>\n",
       "    </tr>\n",
       "    <tr>\n",
       "      <th>1000</th>\n",
       "      <td>Velvet.k61.NODE_783_length_328_cov_36.378048.p1</td>\n",
       "      <td>106</td>\n",
       "      <td>1</td>\n",
       "    </tr>\n",
       "    <tr>\n",
       "      <th>1001</th>\n",
       "      <td>Velvet.k61.NODE_8470_length_279_cov_15.172043.p1</td>\n",
       "      <td>105</td>\n",
       "      <td>1</td>\n",
       "    </tr>\n",
       "    <tr>\n",
       "      <th>1002</th>\n",
       "      <td>Velvet.k61.NODE_9141_length_765_cov_44.260132.p2</td>\n",
       "      <td>233</td>\n",
       "      <td>1</td>\n",
       "    </tr>\n",
       "    <tr>\n",
       "      <th>1003</th>\n",
       "      <td>Velvet.k61.NODE_9415_length_1250_cov_53.216000.p1</td>\n",
       "      <td>367</td>\n",
       "      <td>1</td>\n",
       "    </tr>\n",
       "    <tr>\n",
       "      <th>1004</th>\n",
       "      <td>Velvet.k61.NODE_9432_length_496_cov_51.205647.p1</td>\n",
       "      <td>163</td>\n",
       "      <td>1</td>\n",
       "    </tr>\n",
       "  </tbody>\n",
       "</table>\n",
       "<p>11005 rows × 3 columns</p>\n",
       "</div>"
      ],
      "text/plain": [
       "                                                     ID  length  class\n",
       "0                                   SOAP.k25.C303246.p1     101      1\n",
       "1                                   SOAP.k25.C303708.p1     102      0\n",
       "2                                   SOAP.k25.C304032.p1     103      1\n",
       "3                                   SOAP.k25.C304284.p1     104      1\n",
       "4                                   SOAP.k25.C304386.p1     104      1\n",
       "...                                                 ...     ...    ...\n",
       "1000    Velvet.k61.NODE_783_length_328_cov_36.378048.p1     106      1\n",
       "1001   Velvet.k61.NODE_8470_length_279_cov_15.172043.p1     105      1\n",
       "1002   Velvet.k61.NODE_9141_length_765_cov_44.260132.p2     233      1\n",
       "1003  Velvet.k61.NODE_9415_length_1250_cov_53.216000.p1     367      1\n",
       "1004   Velvet.k61.NODE_9432_length_496_cov_51.205647.p1     163      1\n",
       "\n",
       "[11005 rows x 3 columns]"
      ]
     },
     "execution_count": 22,
     "metadata": {},
     "output_type": "execute_result"
    }
   ],
   "source": [
    "# write result\n",
    "result_df =mergeDF(\"/mnt/vdb/Bat/transpi/result_2_CNN_RMSpop/*.pkl\",\"/mnt/vdb/Bat/transpi/result_2_CNN_RMSpop\",\"Bat.len10.MLResult.plk\")\n",
    "result_df"
   ]
  },
  {
   "cell_type": "markdown",
   "metadata": {},
   "source": [
    "## DECockroach"
   ]
  },
  {
   "cell_type": "code",
   "execution_count": 25,
   "metadata": {},
   "outputs": [
    {
     "name": "stdout",
     "output_type": "stream",
     "text": [
      "0\n"
     ]
    }
   ],
   "source": [
    "existing_result = []\n",
    "for infile in glob.glob(\"/mnt/vdb/DECockroach/transpi/result_2_CNN_RMSpop/*.pkl\"):\n",
    "    # print(infile)\n",
    "    existing_result.append(infile)\n",
    "print(len(existing_result))"
   ]
  },
  {
   "cell_type": "code",
   "execution_count": 26,
   "metadata": {},
   "outputs": [
    {
     "name": "stdout",
     "output_type": "stream",
     "text": [
      "Complete\n"
     ]
    }
   ],
   "source": [
    "# Predict\n",
    "predict_CNN(\"/mnt/vdb/DECockroach/transpi/reps/*.pkl\",\"/mnt/vdb/DECockroach/transpi/result_2_CNN_RMSpop\",existing_result)"
   ]
  },
  {
   "cell_type": "code",
   "execution_count": 27,
   "metadata": {},
   "outputs": [
    {
     "name": "stdout",
     "output_type": "stream",
     "text": [
      "Save: /mnt/vdb/DECockroach/transpi/result_2_CNN_RMSpop/DECockroach.len15.MLResult.plk\n"
     ]
    },
    {
     "data": {
      "text/html": [
       "<div>\n",
       "<style scoped>\n",
       "    .dataframe tbody tr th:only-of-type {\n",
       "        vertical-align: middle;\n",
       "    }\n",
       "\n",
       "    .dataframe tbody tr th {\n",
       "        vertical-align: top;\n",
       "    }\n",
       "\n",
       "    .dataframe thead th {\n",
       "        text-align: right;\n",
       "    }\n",
       "</style>\n",
       "<table border=\"1\" class=\"dataframe\">\n",
       "  <thead>\n",
       "    <tr style=\"text-align: right;\">\n",
       "      <th></th>\n",
       "      <th>ID</th>\n",
       "      <th>length</th>\n",
       "      <th>class</th>\n",
       "    </tr>\n",
       "  </thead>\n",
       "  <tbody>\n",
       "    <tr>\n",
       "      <th>0</th>\n",
       "      <td>SOAP.k25.C372231.p1</td>\n",
       "      <td>102</td>\n",
       "      <td>1</td>\n",
       "    </tr>\n",
       "    <tr>\n",
       "      <th>1</th>\n",
       "      <td>SOAP.k25.C373809.p1</td>\n",
       "      <td>104</td>\n",
       "      <td>1</td>\n",
       "    </tr>\n",
       "    <tr>\n",
       "      <th>2</th>\n",
       "      <td>SOAP.k25.C379695.p1</td>\n",
       "      <td>95</td>\n",
       "      <td>1</td>\n",
       "    </tr>\n",
       "    <tr>\n",
       "      <th>3</th>\n",
       "      <td>SOAP.k25.C382451.p1</td>\n",
       "      <td>116</td>\n",
       "      <td>1</td>\n",
       "    </tr>\n",
       "    <tr>\n",
       "      <th>4</th>\n",
       "      <td>SOAP.k25.C383053.p1</td>\n",
       "      <td>104</td>\n",
       "      <td>1</td>\n",
       "    </tr>\n",
       "    <tr>\n",
       "      <th>...</th>\n",
       "      <td>...</td>\n",
       "      <td>...</td>\n",
       "      <td>...</td>\n",
       "    </tr>\n",
       "    <tr>\n",
       "      <th>54</th>\n",
       "      <td>Velvet.k37.NODE_9552_length_1035_cov_12.333333.p1</td>\n",
       "      <td>102</td>\n",
       "      <td>1</td>\n",
       "    </tr>\n",
       "    <tr>\n",
       "      <th>55</th>\n",
       "      <td>Velvet.k37.NODE_9713_length_2207_cov_17.057997.p1</td>\n",
       "      <td>627</td>\n",
       "      <td>1</td>\n",
       "    </tr>\n",
       "    <tr>\n",
       "      <th>56</th>\n",
       "      <td>Velvet.k37.NODE_9748_length_894_cov_40.512302.p1</td>\n",
       "      <td>124</td>\n",
       "      <td>1</td>\n",
       "    </tr>\n",
       "    <tr>\n",
       "      <th>57</th>\n",
       "      <td>Velvet.k37.NODE_9800_length_726_cov_45.530304.p1</td>\n",
       "      <td>221</td>\n",
       "      <td>1</td>\n",
       "    </tr>\n",
       "    <tr>\n",
       "      <th>58</th>\n",
       "      <td>Velvet.k37.NODE_9843_length_1025_cov_50.463413.p1</td>\n",
       "      <td>191</td>\n",
       "      <td>1</td>\n",
       "    </tr>\n",
       "  </tbody>\n",
       "</table>\n",
       "<p>17559 rows × 3 columns</p>\n",
       "</div>"
      ],
      "text/plain": [
       "                                                   ID  length  class\n",
       "0                                 SOAP.k25.C372231.p1     102      1\n",
       "1                                 SOAP.k25.C373809.p1     104      1\n",
       "2                                 SOAP.k25.C379695.p1      95      1\n",
       "3                                 SOAP.k25.C382451.p1     116      1\n",
       "4                                 SOAP.k25.C383053.p1     104      1\n",
       "..                                                ...     ...    ...\n",
       "54  Velvet.k37.NODE_9552_length_1035_cov_12.333333.p1     102      1\n",
       "55  Velvet.k37.NODE_9713_length_2207_cov_17.057997.p1     627      1\n",
       "56   Velvet.k37.NODE_9748_length_894_cov_40.512302.p1     124      1\n",
       "57   Velvet.k37.NODE_9800_length_726_cov_45.530304.p1     221      1\n",
       "58  Velvet.k37.NODE_9843_length_1025_cov_50.463413.p1     191      1\n",
       "\n",
       "[17559 rows x 3 columns]"
      ]
     },
     "execution_count": 27,
     "metadata": {},
     "output_type": "execute_result"
    }
   ],
   "source": [
    "# write result\n",
    "result_df =mergeDF(\"/mnt/vdb/DECockroach/transpi/result_2_CNN_RMSpop/*.pkl\",\"/mnt/vdb/DECockroach/transpi/result_2_CNN_RMSpop\",\"DECockroach.len15.MLResult.plk\")\n",
    "result_df"
   ]
  },
  {
   "cell_type": "code",
   "execution_count": 28,
   "metadata": {},
   "outputs": [
    {
     "data": {
      "text/html": [
       "<div>\n",
       "<style scoped>\n",
       "    .dataframe tbody tr th:only-of-type {\n",
       "        vertical-align: middle;\n",
       "    }\n",
       "\n",
       "    .dataframe tbody tr th {\n",
       "        vertical-align: top;\n",
       "    }\n",
       "\n",
       "    .dataframe thead th {\n",
       "        text-align: right;\n",
       "    }\n",
       "</style>\n",
       "<table border=\"1\" class=\"dataframe\">\n",
       "  <thead>\n",
       "    <tr style=\"text-align: right;\">\n",
       "      <th></th>\n",
       "      <th>ID</th>\n",
       "      <th>length</th>\n",
       "      <th>class</th>\n",
       "    </tr>\n",
       "  </thead>\n",
       "  <tbody>\n",
       "    <tr>\n",
       "      <th>9</th>\n",
       "      <td>SOAP.k25.C387573.p1</td>\n",
       "      <td>124</td>\n",
       "      <td>0</td>\n",
       "    </tr>\n",
       "    <tr>\n",
       "      <th>19</th>\n",
       "      <td>SOAP.k25.C397059.p1</td>\n",
       "      <td>115</td>\n",
       "      <td>0</td>\n",
       "    </tr>\n",
       "    <tr>\n",
       "      <th>23</th>\n",
       "      <td>SOAP.k25.C397729.p1</td>\n",
       "      <td>126</td>\n",
       "      <td>0</td>\n",
       "    </tr>\n",
       "    <tr>\n",
       "      <th>31</th>\n",
       "      <td>SOAP.k25.C405333.p1</td>\n",
       "      <td>144</td>\n",
       "      <td>0</td>\n",
       "    </tr>\n",
       "    <tr>\n",
       "      <th>32</th>\n",
       "      <td>SOAP.k25.C405897.p1</td>\n",
       "      <td>129</td>\n",
       "      <td>0</td>\n",
       "    </tr>\n",
       "    <tr>\n",
       "      <th>...</th>\n",
       "      <td>...</td>\n",
       "      <td>...</td>\n",
       "      <td>...</td>\n",
       "    </tr>\n",
       "    <tr>\n",
       "      <th>13</th>\n",
       "      <td>Velvet.k37.NODE_71696_length_822_cov_50.759125.p1</td>\n",
       "      <td>258</td>\n",
       "      <td>0</td>\n",
       "    </tr>\n",
       "    <tr>\n",
       "      <th>19</th>\n",
       "      <td>Velvet.k37.NODE_73436_length_1641_cov_16.12309...</td>\n",
       "      <td>514</td>\n",
       "      <td>0</td>\n",
       "    </tr>\n",
       "    <tr>\n",
       "      <th>28</th>\n",
       "      <td>Velvet.k37.NODE_7963_length_783_cov_48.134098.p1</td>\n",
       "      <td>157</td>\n",
       "      <td>0</td>\n",
       "    </tr>\n",
       "    <tr>\n",
       "      <th>44</th>\n",
       "      <td>Velvet.k37.NODE_8670_length_780_cov_48.342308.p1</td>\n",
       "      <td>254</td>\n",
       "      <td>0</td>\n",
       "    </tr>\n",
       "    <tr>\n",
       "      <th>46</th>\n",
       "      <td>Velvet.k37.NODE_87364_length_444_cov_7.360360.p1</td>\n",
       "      <td>142</td>\n",
       "      <td>0</td>\n",
       "    </tr>\n",
       "  </tbody>\n",
       "</table>\n",
       "<p>2609 rows × 3 columns</p>\n",
       "</div>"
      ],
      "text/plain": [
       "                                                   ID  length  class\n",
       "9                                 SOAP.k25.C387573.p1     124      0\n",
       "19                                SOAP.k25.C397059.p1     115      0\n",
       "23                                SOAP.k25.C397729.p1     126      0\n",
       "31                                SOAP.k25.C405333.p1     144      0\n",
       "32                                SOAP.k25.C405897.p1     129      0\n",
       "..                                                ...     ...    ...\n",
       "13  Velvet.k37.NODE_71696_length_822_cov_50.759125.p1     258      0\n",
       "19  Velvet.k37.NODE_73436_length_1641_cov_16.12309...     514      0\n",
       "28   Velvet.k37.NODE_7963_length_783_cov_48.134098.p1     157      0\n",
       "44   Velvet.k37.NODE_8670_length_780_cov_48.342308.p1     254      0\n",
       "46   Velvet.k37.NODE_87364_length_444_cov_7.360360.p1     142      0\n",
       "\n",
       "[2609 rows x 3 columns]"
      ]
     },
     "execution_count": 28,
     "metadata": {},
     "output_type": "execute_result"
    }
   ],
   "source": [
    "result_df[result_df[\"class\"] == 0]"
   ]
  },
  {
   "cell_type": "code",
   "execution_count": null,
   "metadata": {},
   "outputs": [],
   "source": []
  }
 ],
 "metadata": {
  "colab": {
   "name": "FASTAI_predictor.ipynb",
   "provenance": []
  },
  "kernelspec": {
   "display_name": "Python 3",
   "language": "python",
   "name": "python3"
  },
  "language_info": {
   "codemirror_mode": {
    "name": "ipython",
    "version": 3
   },
   "file_extension": ".py",
   "mimetype": "text/x-python",
   "name": "python",
   "nbconvert_exporter": "python",
   "pygments_lexer": "ipython3",
   "version": "3.7.9"
  }
 },
 "nbformat": 4,
 "nbformat_minor": 4
}
