{
 "cells": [
  {
   "cell_type": "code",
   "execution_count": 2,
   "metadata": {
    "id": "r_WHUIJomX5u",
    "outputId": "968d231a-48ea-48f5-ffa9-9ed6ccbae282"
   },
   "outputs": [],
   "source": [
    "import pickle5 as pickle\n",
    "import os \n",
    "import glob\n",
    "import numpy as np\n",
    "import pandas as pd\n",
    "import matplotlib.pyplot as plt"
   ]
  },
  {
   "cell_type": "code",
   "execution_count": 25,
   "metadata": {},
   "outputs": [],
   "source": [
    "def mergeDF(path,to_dir,file_name):\n",
    "    appended_data = []\n",
    "    for infile in glob.glob(path):\n",
    "        #print(infile)\n",
    "        data = pd.read_pickle(infile)\n",
    "        # store DataFrame in list\n",
    "        appended_data.append(data)\n",
    "    result_path=to_dir+\"/\"+file_name\n",
    "    print(\"Save:\",result_path)\n",
    "    appended_data = pd.concat(appended_data)\n",
    "    appended_data['ID'] = appended_data['ID'].astype(int)\n",
    "    appended_data.sort_values(by=['ID'], inplace=True)\n",
    "    appended_data.to_pickle(result_path)\n",
    "    return appended_data\n",
    "\n",
    "\n",
    "def predict_withModel(path,to_dir,existing_result):\n",
    "    appended_pkl = []\n",
    "    for infile in glob.glob(path):  \n",
    "     #print(\"Read:\",infile)\n",
    "        file_name = os.path.basename(infile)\n",
    "        result_path=to_dir+\"/\"+file_name.replace(\"pkl\", \"ML.pkl\")\n",
    "        if result_path in existing_result :\n",
    "        # print(\"found then skip : \" , result)\n",
    "            continue\n",
    "        else:\n",
    "            df = pd.read_pickle(infile)\n",
    "            ready_df =df[[ \"reps\"]]\n",
    "            \n",
    "            X= np.array(df['reps'].to_list())\n",
    "            _y = model.predict(X)\n",
    "            df.drop(columns=['reps'],inplace =True)\n",
    "            df['class'] = _y\n",
    "            #print(\"Save:\",result_path)\n",
    "            df.to_pickle(result_path) \n",
    "\n",
    "    print(\"Complete\")\n",
    "\n",
    "def read_exists_result(path):\n",
    "    existing_result = []\n",
    "    for infile in glob.glob(path+\"/*.pkl\"):\n",
    "        # print(infile)\n",
    "        existing_result.append(infile)\n",
    "    print(len(existing_result))\n",
    "    return existing_result"
   ]
  },
  {
   "cell_type": "code",
   "execution_count": 4,
   "metadata": {
    "id": "ZascbWaBmX6K"
   },
   "outputs": [
    {
     "data": {
      "text/plain": [
       "RandomForestClassifier(random_state=42)"
      ]
     },
     "execution_count": 4,
     "metadata": {},
     "output_type": "execute_result"
    }
   ],
   "source": [
    "with open(\"/mnt/vdb/thesis/best_RF.model\", 'rb') as file:\n",
    "    model = pickle.load(file)\n",
    "# summarize model.\n",
    "model"
   ]
  },
  {
   "cell_type": "markdown",
   "metadata": {},
   "source": [
    "## DECockRoach"
   ]
  },
  {
   "cell_type": "code",
   "execution_count": 5,
   "metadata": {},
   "outputs": [
    {
     "name": "stdout",
     "output_type": "stream",
     "text": [
      "0\n"
     ]
    }
   ],
   "source": [
    "path = \"/mnt/vdb/DECockroach/cd100/result_5/result_RF\"\n",
    "if not os.path.exists(path):\n",
    "    os.makedirs(path)\n",
    "existing_result = read_exists_result(path)"
   ]
  },
  {
   "cell_type": "code",
   "execution_count": 6,
   "metadata": {},
   "outputs": [
    {
     "name": "stdout",
     "output_type": "stream",
     "text": [
      "Complete\n"
     ]
    }
   ],
   "source": [
    "# Predict\n",
    "predict_withModel(\"/mnt/vdb/DECockroach/cd100/reps/*.pkl\",path,existing_result)"
   ]
  },
  {
   "cell_type": "code",
   "execution_count": 7,
   "metadata": {},
   "outputs": [
    {
     "name": "stdout",
     "output_type": "stream",
     "text": [
      "Save: /mnt/vdb/DECockroach/cd100/result_5/result_RF/DECockroach.len15.MLResult.plk\n"
     ]
    },
    {
     "data": {
      "text/html": [
       "<div>\n",
       "<style scoped>\n",
       "    .dataframe tbody tr th:only-of-type {\n",
       "        vertical-align: middle;\n",
       "    }\n",
       "\n",
       "    .dataframe tbody tr th {\n",
       "        vertical-align: top;\n",
       "    }\n",
       "\n",
       "    .dataframe thead th {\n",
       "        text-align: right;\n",
       "    }\n",
       "</style>\n",
       "<table border=\"1\" class=\"dataframe\">\n",
       "  <thead>\n",
       "    <tr style=\"text-align: right;\">\n",
       "      <th></th>\n",
       "      <th>ID</th>\n",
       "      <th>length</th>\n",
       "      <th>class</th>\n",
       "    </tr>\n",
       "  </thead>\n",
       "  <tbody>\n",
       "    <tr>\n",
       "      <th>0</th>\n",
       "      <td>0</td>\n",
       "      <td>17</td>\n",
       "      <td>1</td>\n",
       "    </tr>\n",
       "    <tr>\n",
       "      <th>1</th>\n",
       "      <td>1</td>\n",
       "      <td>17</td>\n",
       "      <td>0</td>\n",
       "    </tr>\n",
       "    <tr>\n",
       "      <th>2</th>\n",
       "      <td>3</td>\n",
       "      <td>18</td>\n",
       "      <td>0</td>\n",
       "    </tr>\n",
       "    <tr>\n",
       "      <th>3</th>\n",
       "      <td>4</td>\n",
       "      <td>30</td>\n",
       "      <td>1</td>\n",
       "    </tr>\n",
       "    <tr>\n",
       "      <th>4</th>\n",
       "      <td>5</td>\n",
       "      <td>17</td>\n",
       "      <td>0</td>\n",
       "    </tr>\n",
       "    <tr>\n",
       "      <th>...</th>\n",
       "      <td>...</td>\n",
       "      <td>...</td>\n",
       "      <td>...</td>\n",
       "    </tr>\n",
       "    <tr>\n",
       "      <th>199</th>\n",
       "      <td>894298</td>\n",
       "      <td>17</td>\n",
       "      <td>0</td>\n",
       "    </tr>\n",
       "    <tr>\n",
       "      <th>200</th>\n",
       "      <td>894299</td>\n",
       "      <td>19</td>\n",
       "      <td>0</td>\n",
       "    </tr>\n",
       "    <tr>\n",
       "      <th>201</th>\n",
       "      <td>894303</td>\n",
       "      <td>17</td>\n",
       "      <td>0</td>\n",
       "    </tr>\n",
       "    <tr>\n",
       "      <th>202</th>\n",
       "      <td>894304</td>\n",
       "      <td>17</td>\n",
       "      <td>1</td>\n",
       "    </tr>\n",
       "    <tr>\n",
       "      <th>203</th>\n",
       "      <td>894305</td>\n",
       "      <td>28</td>\n",
       "      <td>0</td>\n",
       "    </tr>\n",
       "  </tbody>\n",
       "</table>\n",
       "<p>626569 rows × 3 columns</p>\n",
       "</div>"
      ],
      "text/plain": [
       "         ID  length  class\n",
       "0         0      17      1\n",
       "1         1      17      0\n",
       "2         3      18      0\n",
       "3         4      30      1\n",
       "4         5      17      0\n",
       "..      ...     ...    ...\n",
       "199  894298      17      0\n",
       "200  894299      19      0\n",
       "201  894303      17      0\n",
       "202  894304      17      1\n",
       "203  894305      28      0\n",
       "\n",
       "[626569 rows x 3 columns]"
      ]
     },
     "execution_count": 7,
     "metadata": {},
     "output_type": "execute_result"
    }
   ],
   "source": [
    "# write result\n",
    "result_df =mergeDF(path+\"/*.pkl\",path,\"DECockroach.len15.MLResult.plk\")\n",
    "result_df"
   ]
  },
  {
   "cell_type": "code",
   "execution_count": 7,
   "metadata": {},
   "outputs": [
    {
     "data": {
      "text/html": [
       "<div>\n",
       "<style scoped>\n",
       "    .dataframe tbody tr th:only-of-type {\n",
       "        vertical-align: middle;\n",
       "    }\n",
       "\n",
       "    .dataframe tbody tr th {\n",
       "        vertical-align: top;\n",
       "    }\n",
       "\n",
       "    .dataframe thead th {\n",
       "        text-align: right;\n",
       "    }\n",
       "</style>\n",
       "<table border=\"1\" class=\"dataframe\">\n",
       "  <thead>\n",
       "    <tr style=\"text-align: right;\">\n",
       "      <th></th>\n",
       "      <th>ID</th>\n",
       "      <th>length</th>\n",
       "      <th>class</th>\n",
       "    </tr>\n",
       "  </thead>\n",
       "  <tbody>\n",
       "    <tr>\n",
       "      <th>3</th>\n",
       "      <td>4</td>\n",
       "      <td>30</td>\n",
       "      <td>1</td>\n",
       "    </tr>\n",
       "    <tr>\n",
       "      <th>5</th>\n",
       "      <td>6</td>\n",
       "      <td>24</td>\n",
       "      <td>1</td>\n",
       "    </tr>\n",
       "    <tr>\n",
       "      <th>9</th>\n",
       "      <td>10</td>\n",
       "      <td>18</td>\n",
       "      <td>1</td>\n",
       "    </tr>\n",
       "    <tr>\n",
       "      <th>17</th>\n",
       "      <td>20</td>\n",
       "      <td>19</td>\n",
       "      <td>1</td>\n",
       "    </tr>\n",
       "    <tr>\n",
       "      <th>22</th>\n",
       "      <td>27</td>\n",
       "      <td>18</td>\n",
       "      <td>1</td>\n",
       "    </tr>\n",
       "    <tr>\n",
       "      <th>...</th>\n",
       "      <td>...</td>\n",
       "      <td>...</td>\n",
       "      <td>...</td>\n",
       "    </tr>\n",
       "    <tr>\n",
       "      <th>187</th>\n",
       "      <td>894280</td>\n",
       "      <td>17</td>\n",
       "      <td>1</td>\n",
       "    </tr>\n",
       "    <tr>\n",
       "      <th>193</th>\n",
       "      <td>894288</td>\n",
       "      <td>17</td>\n",
       "      <td>1</td>\n",
       "    </tr>\n",
       "    <tr>\n",
       "      <th>195</th>\n",
       "      <td>894293</td>\n",
       "      <td>28</td>\n",
       "      <td>1</td>\n",
       "    </tr>\n",
       "    <tr>\n",
       "      <th>201</th>\n",
       "      <td>894303</td>\n",
       "      <td>17</td>\n",
       "      <td>1</td>\n",
       "    </tr>\n",
       "    <tr>\n",
       "      <th>202</th>\n",
       "      <td>894304</td>\n",
       "      <td>17</td>\n",
       "      <td>1</td>\n",
       "    </tr>\n",
       "  </tbody>\n",
       "</table>\n",
       "<p>145054 rows × 3 columns</p>\n",
       "</div>"
      ],
      "text/plain": [
       "         ID  length  class\n",
       "3         4      30      1\n",
       "5         6      24      1\n",
       "9        10      18      1\n",
       "17       20      19      1\n",
       "22       27      18      1\n",
       "..      ...     ...    ...\n",
       "187  894280      17      1\n",
       "193  894288      17      1\n",
       "195  894293      28      1\n",
       "201  894303      17      1\n",
       "202  894304      17      1\n",
       "\n",
       "[145054 rows x 3 columns]"
      ]
     },
     "execution_count": 7,
     "metadata": {},
     "output_type": "execute_result"
    }
   ],
   "source": [
    "result_df[result_df[\"class\"]== 1]"
   ]
  },
  {
   "cell_type": "code",
   "execution_count": 26,
   "metadata": {},
   "outputs": [
    {
     "data": {
      "text/html": [
       "<div>\n",
       "<style scoped>\n",
       "    .dataframe tbody tr th:only-of-type {\n",
       "        vertical-align: middle;\n",
       "    }\n",
       "\n",
       "    .dataframe tbody tr th {\n",
       "        vertical-align: top;\n",
       "    }\n",
       "\n",
       "    .dataframe thead th {\n",
       "        text-align: right;\n",
       "    }\n",
       "</style>\n",
       "<table border=\"1\" class=\"dataframe\">\n",
       "  <thead>\n",
       "    <tr style=\"text-align: right;\">\n",
       "      <th></th>\n",
       "      <th>ID</th>\n",
       "      <th>length</th>\n",
       "      <th>class</th>\n",
       "    </tr>\n",
       "  </thead>\n",
       "  <tbody>\n",
       "    <tr>\n",
       "      <th>9</th>\n",
       "      <td>10</td>\n",
       "      <td>18</td>\n",
       "      <td>1</td>\n",
       "    </tr>\n",
       "    <tr>\n",
       "      <th>10</th>\n",
       "      <td>12</td>\n",
       "      <td>20</td>\n",
       "      <td>1</td>\n",
       "    </tr>\n",
       "    <tr>\n",
       "      <th>13</th>\n",
       "      <td>16</td>\n",
       "      <td>19</td>\n",
       "      <td>1</td>\n",
       "    </tr>\n",
       "    <tr>\n",
       "      <th>14</th>\n",
       "      <td>17</td>\n",
       "      <td>17</td>\n",
       "      <td>1</td>\n",
       "    </tr>\n",
       "    <tr>\n",
       "      <th>16</th>\n",
       "      <td>19</td>\n",
       "      <td>17</td>\n",
       "      <td>1</td>\n",
       "    </tr>\n",
       "    <tr>\n",
       "      <th>...</th>\n",
       "      <td>...</td>\n",
       "      <td>...</td>\n",
       "      <td>...</td>\n",
       "    </tr>\n",
       "    <tr>\n",
       "      <th>193</th>\n",
       "      <td>894288</td>\n",
       "      <td>17</td>\n",
       "      <td>1</td>\n",
       "    </tr>\n",
       "    <tr>\n",
       "      <th>195</th>\n",
       "      <td>894293</td>\n",
       "      <td>28</td>\n",
       "      <td>1</td>\n",
       "    </tr>\n",
       "    <tr>\n",
       "      <th>199</th>\n",
       "      <td>894298</td>\n",
       "      <td>17</td>\n",
       "      <td>1</td>\n",
       "    </tr>\n",
       "    <tr>\n",
       "      <th>201</th>\n",
       "      <td>894303</td>\n",
       "      <td>17</td>\n",
       "      <td>1</td>\n",
       "    </tr>\n",
       "    <tr>\n",
       "      <th>202</th>\n",
       "      <td>894304</td>\n",
       "      <td>17</td>\n",
       "      <td>1</td>\n",
       "    </tr>\n",
       "  </tbody>\n",
       "</table>\n",
       "<p>283272 rows × 3 columns</p>\n",
       "</div>"
      ],
      "text/plain": [
       "         ID  length  class\n",
       "9        10      18      1\n",
       "10       12      20      1\n",
       "13       16      19      1\n",
       "14       17      17      1\n",
       "16       19      17      1\n",
       "..      ...     ...    ...\n",
       "193  894288      17      1\n",
       "195  894293      28      1\n",
       "199  894298      17      1\n",
       "201  894303      17      1\n",
       "202  894304      17      1\n",
       "\n",
       "[283272 rows x 3 columns]"
      ]
     },
     "execution_count": 26,
     "metadata": {},
     "output_type": "execute_result"
    }
   ],
   "source": [
    "#old\n",
    "result_df[result_df[\"class\"]== 1]"
   ]
  },
  {
   "cell_type": "markdown",
   "metadata": {},
   "source": [
    "## BAT"
   ]
  },
  {
   "cell_type": "code",
   "execution_count": 8,
   "metadata": {
    "id": "IoTrGO6HmX6E"
   },
   "outputs": [
    {
     "name": "stdout",
     "output_type": "stream",
     "text": [
      "0\n"
     ]
    }
   ],
   "source": [
    "path = \"/mnt/vdb/Bat/cd100/result_5/result_RF\"\n",
    "if not os.path.exists(path):\n",
    "    os.makedirs(path)\n",
    "existing_result = read_exists_result(path)"
   ]
  },
  {
   "cell_type": "code",
   "execution_count": 9,
   "metadata": {},
   "outputs": [
    {
     "name": "stdout",
     "output_type": "stream",
     "text": [
      "Complete\n"
     ]
    }
   ],
   "source": [
    "# Predict\n",
    "predict_withModel(\"/mnt/vdb/Bat/cd100/reps/*.pkl\",path,existing_result)"
   ]
  },
  {
   "cell_type": "code",
   "execution_count": 10,
   "metadata": {},
   "outputs": [
    {
     "name": "stdout",
     "output_type": "stream",
     "text": [
      "Save: /mnt/vdb/Bat/cd100/result_5/result_RF/Bat.len10.MLResult.plk\n"
     ]
    },
    {
     "data": {
      "text/html": [
       "<div>\n",
       "<style scoped>\n",
       "    .dataframe tbody tr th:only-of-type {\n",
       "        vertical-align: middle;\n",
       "    }\n",
       "\n",
       "    .dataframe tbody tr th {\n",
       "        vertical-align: top;\n",
       "    }\n",
       "\n",
       "    .dataframe thead th {\n",
       "        text-align: right;\n",
       "    }\n",
       "</style>\n",
       "<table border=\"1\" class=\"dataframe\">\n",
       "  <thead>\n",
       "    <tr style=\"text-align: right;\">\n",
       "      <th></th>\n",
       "      <th>ID</th>\n",
       "      <th>length</th>\n",
       "      <th>class</th>\n",
       "    </tr>\n",
       "  </thead>\n",
       "  <tbody>\n",
       "    <tr>\n",
       "      <th>0</th>\n",
       "      <td>9</td>\n",
       "      <td>275</td>\n",
       "      <td>1</td>\n",
       "    </tr>\n",
       "    <tr>\n",
       "      <th>1</th>\n",
       "      <td>19</td>\n",
       "      <td>47</td>\n",
       "      <td>0</td>\n",
       "    </tr>\n",
       "    <tr>\n",
       "      <th>2</th>\n",
       "      <td>32</td>\n",
       "      <td>151</td>\n",
       "      <td>0</td>\n",
       "    </tr>\n",
       "    <tr>\n",
       "      <th>3</th>\n",
       "      <td>54</td>\n",
       "      <td>199</td>\n",
       "      <td>1</td>\n",
       "    </tr>\n",
       "    <tr>\n",
       "      <th>4</th>\n",
       "      <td>61</td>\n",
       "      <td>152</td>\n",
       "      <td>1</td>\n",
       "    </tr>\n",
       "    <tr>\n",
       "      <th>...</th>\n",
       "      <td>...</td>\n",
       "      <td>...</td>\n",
       "      <td>...</td>\n",
       "    </tr>\n",
       "    <tr>\n",
       "      <th>74</th>\n",
       "      <td>12568817</td>\n",
       "      <td>51</td>\n",
       "      <td>1</td>\n",
       "    </tr>\n",
       "    <tr>\n",
       "      <th>75</th>\n",
       "      <td>12568833</td>\n",
       "      <td>45</td>\n",
       "      <td>0</td>\n",
       "    </tr>\n",
       "    <tr>\n",
       "      <th>76</th>\n",
       "      <td>12568849</td>\n",
       "      <td>117</td>\n",
       "      <td>1</td>\n",
       "    </tr>\n",
       "    <tr>\n",
       "      <th>77</th>\n",
       "      <td>12568850</td>\n",
       "      <td>174</td>\n",
       "      <td>1</td>\n",
       "    </tr>\n",
       "    <tr>\n",
       "      <th>78</th>\n",
       "      <td>12568985</td>\n",
       "      <td>229</td>\n",
       "      <td>1</td>\n",
       "    </tr>\n",
       "  </tbody>\n",
       "</table>\n",
       "<p>422796 rows × 3 columns</p>\n",
       "</div>"
      ],
      "text/plain": [
       "          ID  length  class\n",
       "0          9     275      1\n",
       "1         19      47      0\n",
       "2         32     151      0\n",
       "3         54     199      1\n",
       "4         61     152      1\n",
       "..       ...     ...    ...\n",
       "74  12568817      51      1\n",
       "75  12568833      45      0\n",
       "76  12568849     117      1\n",
       "77  12568850     174      1\n",
       "78  12568985     229      1\n",
       "\n",
       "[422796 rows x 3 columns]"
      ]
     },
     "execution_count": 10,
     "metadata": {},
     "output_type": "execute_result"
    }
   ],
   "source": [
    "# write result\n",
    "result_df =mergeDF(path+\"/*.pkl\",path,\"Bat.len10.MLResult.plk\")\n",
    "result_df"
   ]
  },
  {
   "cell_type": "markdown",
   "metadata": {},
   "source": [
    "# TransPI"
   ]
  },
  {
   "cell_type": "markdown",
   "metadata": {},
   "source": [
    "## Bat"
   ]
  },
  {
   "cell_type": "code",
   "execution_count": 11,
   "metadata": {},
   "outputs": [
    {
     "name": "stdout",
     "output_type": "stream",
     "text": [
      "0\n"
     ]
    }
   ],
   "source": [
    "path = \"/mnt/vdb/Bat/transpi/result_5/result_RF\"\n",
    "if not os.path.exists(path):\n",
    "    os.makedirs(path)\n",
    "existing_result = read_exists_result(path)"
   ]
  },
  {
   "cell_type": "code",
   "execution_count": 12,
   "metadata": {},
   "outputs": [
    {
     "name": "stdout",
     "output_type": "stream",
     "text": [
      "Complete\n"
     ]
    }
   ],
   "source": [
    "# Predict\n",
    "predict_withModel(\"/mnt/vdb/Bat/transpi/reps/*.pkl\",path,existing_result)"
   ]
  },
  {
   "cell_type": "code",
   "execution_count": 13,
   "metadata": {},
   "outputs": [
    {
     "name": "stdout",
     "output_type": "stream",
     "text": [
      "Save: /mnt/vdb/Bat/transpi/result_5/result_RF/Bat.len10.MLResult.plk\n"
     ]
    },
    {
     "data": {
      "text/html": [
       "<div>\n",
       "<style scoped>\n",
       "    .dataframe tbody tr th:only-of-type {\n",
       "        vertical-align: middle;\n",
       "    }\n",
       "\n",
       "    .dataframe tbody tr th {\n",
       "        vertical-align: top;\n",
       "    }\n",
       "\n",
       "    .dataframe thead th {\n",
       "        text-align: right;\n",
       "    }\n",
       "</style>\n",
       "<table border=\"1\" class=\"dataframe\">\n",
       "  <thead>\n",
       "    <tr style=\"text-align: right;\">\n",
       "      <th></th>\n",
       "      <th>ID</th>\n",
       "      <th>length</th>\n",
       "      <th>class</th>\n",
       "    </tr>\n",
       "  </thead>\n",
       "  <tbody>\n",
       "    <tr>\n",
       "      <th>0</th>\n",
       "      <td>SOAP.k25.C303246.p1</td>\n",
       "      <td>101</td>\n",
       "      <td>0</td>\n",
       "    </tr>\n",
       "    <tr>\n",
       "      <th>1</th>\n",
       "      <td>SOAP.k25.C303708.p1</td>\n",
       "      <td>102</td>\n",
       "      <td>0</td>\n",
       "    </tr>\n",
       "    <tr>\n",
       "      <th>2</th>\n",
       "      <td>SOAP.k25.C304032.p1</td>\n",
       "      <td>103</td>\n",
       "      <td>1</td>\n",
       "    </tr>\n",
       "    <tr>\n",
       "      <th>3</th>\n",
       "      <td>SOAP.k25.C304284.p1</td>\n",
       "      <td>104</td>\n",
       "      <td>1</td>\n",
       "    </tr>\n",
       "    <tr>\n",
       "      <th>4</th>\n",
       "      <td>SOAP.k25.C304386.p1</td>\n",
       "      <td>104</td>\n",
       "      <td>1</td>\n",
       "    </tr>\n",
       "    <tr>\n",
       "      <th>...</th>\n",
       "      <td>...</td>\n",
       "      <td>...</td>\n",
       "      <td>...</td>\n",
       "    </tr>\n",
       "    <tr>\n",
       "      <th>1000</th>\n",
       "      <td>Velvet.k61.NODE_783_length_328_cov_36.378048.p1</td>\n",
       "      <td>106</td>\n",
       "      <td>1</td>\n",
       "    </tr>\n",
       "    <tr>\n",
       "      <th>1001</th>\n",
       "      <td>Velvet.k61.NODE_8470_length_279_cov_15.172043.p1</td>\n",
       "      <td>105</td>\n",
       "      <td>1</td>\n",
       "    </tr>\n",
       "    <tr>\n",
       "      <th>1002</th>\n",
       "      <td>Velvet.k61.NODE_9141_length_765_cov_44.260132.p2</td>\n",
       "      <td>233</td>\n",
       "      <td>1</td>\n",
       "    </tr>\n",
       "    <tr>\n",
       "      <th>1003</th>\n",
       "      <td>Velvet.k61.NODE_9415_length_1250_cov_53.216000.p1</td>\n",
       "      <td>367</td>\n",
       "      <td>1</td>\n",
       "    </tr>\n",
       "    <tr>\n",
       "      <th>1004</th>\n",
       "      <td>Velvet.k61.NODE_9432_length_496_cov_51.205647.p1</td>\n",
       "      <td>163</td>\n",
       "      <td>1</td>\n",
       "    </tr>\n",
       "  </tbody>\n",
       "</table>\n",
       "<p>11005 rows × 3 columns</p>\n",
       "</div>"
      ],
      "text/plain": [
       "                                                     ID  length  class\n",
       "0                                   SOAP.k25.C303246.p1     101      0\n",
       "1                                   SOAP.k25.C303708.p1     102      0\n",
       "2                                   SOAP.k25.C304032.p1     103      1\n",
       "3                                   SOAP.k25.C304284.p1     104      1\n",
       "4                                   SOAP.k25.C304386.p1     104      1\n",
       "...                                                 ...     ...    ...\n",
       "1000    Velvet.k61.NODE_783_length_328_cov_36.378048.p1     106      1\n",
       "1001   Velvet.k61.NODE_8470_length_279_cov_15.172043.p1     105      1\n",
       "1002   Velvet.k61.NODE_9141_length_765_cov_44.260132.p2     233      1\n",
       "1003  Velvet.k61.NODE_9415_length_1250_cov_53.216000.p1     367      1\n",
       "1004   Velvet.k61.NODE_9432_length_496_cov_51.205647.p1     163      1\n",
       "\n",
       "[11005 rows x 3 columns]"
      ]
     },
     "execution_count": 13,
     "metadata": {},
     "output_type": "execute_result"
    }
   ],
   "source": [
    "# write result\n",
    "result_df =mergeDF(path+\"/*.pkl\",path,\"Bat.len10.MLResult.plk\")\n",
    "result_df"
   ]
  },
  {
   "cell_type": "markdown",
   "metadata": {},
   "source": [
    "## DECockroach"
   ]
  },
  {
   "cell_type": "code",
   "execution_count": 14,
   "metadata": {},
   "outputs": [
    {
     "name": "stdout",
     "output_type": "stream",
     "text": [
      "0\n"
     ]
    }
   ],
   "source": [
    "path = \"/mnt/vdb/DECockroach/transpi/result_5/result_RF\"\n",
    "if not os.path.exists(path):\n",
    "    os.makedirs(path)\n",
    "existing_result = read_exists_result(path)"
   ]
  },
  {
   "cell_type": "code",
   "execution_count": 15,
   "metadata": {},
   "outputs": [
    {
     "name": "stdout",
     "output_type": "stream",
     "text": [
      "Complete\n"
     ]
    }
   ],
   "source": [
    "# Predict\n",
    "predict_withModel(\"/mnt/vdb/DECockroach/transpi/reps/*.pkl\",path,existing_result)"
   ]
  },
  {
   "cell_type": "code",
   "execution_count": 16,
   "metadata": {},
   "outputs": [
    {
     "name": "stdout",
     "output_type": "stream",
     "text": [
      "Save: /mnt/vdb/DECockroach/transpi/result_5/result_RF/DECockroach.len15.MLResult.plk\n"
     ]
    },
    {
     "data": {
      "text/html": [
       "<div>\n",
       "<style scoped>\n",
       "    .dataframe tbody tr th:only-of-type {\n",
       "        vertical-align: middle;\n",
       "    }\n",
       "\n",
       "    .dataframe tbody tr th {\n",
       "        vertical-align: top;\n",
       "    }\n",
       "\n",
       "    .dataframe thead th {\n",
       "        text-align: right;\n",
       "    }\n",
       "</style>\n",
       "<table border=\"1\" class=\"dataframe\">\n",
       "  <thead>\n",
       "    <tr style=\"text-align: right;\">\n",
       "      <th></th>\n",
       "      <th>ID</th>\n",
       "      <th>length</th>\n",
       "      <th>class</th>\n",
       "    </tr>\n",
       "  </thead>\n",
       "  <tbody>\n",
       "    <tr>\n",
       "      <th>0</th>\n",
       "      <td>SOAP.k25.C372231.p1</td>\n",
       "      <td>102</td>\n",
       "      <td>0</td>\n",
       "    </tr>\n",
       "    <tr>\n",
       "      <th>1</th>\n",
       "      <td>SOAP.k25.C373809.p1</td>\n",
       "      <td>104</td>\n",
       "      <td>0</td>\n",
       "    </tr>\n",
       "    <tr>\n",
       "      <th>2</th>\n",
       "      <td>SOAP.k25.C379695.p1</td>\n",
       "      <td>95</td>\n",
       "      <td>1</td>\n",
       "    </tr>\n",
       "    <tr>\n",
       "      <th>3</th>\n",
       "      <td>SOAP.k25.C382451.p1</td>\n",
       "      <td>116</td>\n",
       "      <td>1</td>\n",
       "    </tr>\n",
       "    <tr>\n",
       "      <th>4</th>\n",
       "      <td>SOAP.k25.C383053.p1</td>\n",
       "      <td>104</td>\n",
       "      <td>1</td>\n",
       "    </tr>\n",
       "    <tr>\n",
       "      <th>...</th>\n",
       "      <td>...</td>\n",
       "      <td>...</td>\n",
       "      <td>...</td>\n",
       "    </tr>\n",
       "    <tr>\n",
       "      <th>54</th>\n",
       "      <td>Velvet.k37.NODE_9552_length_1035_cov_12.333333.p1</td>\n",
       "      <td>102</td>\n",
       "      <td>1</td>\n",
       "    </tr>\n",
       "    <tr>\n",
       "      <th>55</th>\n",
       "      <td>Velvet.k37.NODE_9713_length_2207_cov_17.057997.p1</td>\n",
       "      <td>627</td>\n",
       "      <td>1</td>\n",
       "    </tr>\n",
       "    <tr>\n",
       "      <th>56</th>\n",
       "      <td>Velvet.k37.NODE_9748_length_894_cov_40.512302.p1</td>\n",
       "      <td>124</td>\n",
       "      <td>0</td>\n",
       "    </tr>\n",
       "    <tr>\n",
       "      <th>57</th>\n",
       "      <td>Velvet.k37.NODE_9800_length_726_cov_45.530304.p1</td>\n",
       "      <td>221</td>\n",
       "      <td>1</td>\n",
       "    </tr>\n",
       "    <tr>\n",
       "      <th>58</th>\n",
       "      <td>Velvet.k37.NODE_9843_length_1025_cov_50.463413.p1</td>\n",
       "      <td>191</td>\n",
       "      <td>1</td>\n",
       "    </tr>\n",
       "  </tbody>\n",
       "</table>\n",
       "<p>17559 rows × 3 columns</p>\n",
       "</div>"
      ],
      "text/plain": [
       "                                                   ID  length  class\n",
       "0                                 SOAP.k25.C372231.p1     102      0\n",
       "1                                 SOAP.k25.C373809.p1     104      0\n",
       "2                                 SOAP.k25.C379695.p1      95      1\n",
       "3                                 SOAP.k25.C382451.p1     116      1\n",
       "4                                 SOAP.k25.C383053.p1     104      1\n",
       "..                                                ...     ...    ...\n",
       "54  Velvet.k37.NODE_9552_length_1035_cov_12.333333.p1     102      1\n",
       "55  Velvet.k37.NODE_9713_length_2207_cov_17.057997.p1     627      1\n",
       "56   Velvet.k37.NODE_9748_length_894_cov_40.512302.p1     124      0\n",
       "57   Velvet.k37.NODE_9800_length_726_cov_45.530304.p1     221      1\n",
       "58  Velvet.k37.NODE_9843_length_1025_cov_50.463413.p1     191      1\n",
       "\n",
       "[17559 rows x 3 columns]"
      ]
     },
     "execution_count": 16,
     "metadata": {},
     "output_type": "execute_result"
    }
   ],
   "source": [
    "# write result\n",
    "result_df =mergeDF(path+\"/*.pkl\",path,\"DECockroach.len15.MLResult.plk\")\n",
    "result_df"
   ]
  },
  {
   "cell_type": "markdown",
   "metadata": {},
   "source": [
    "# PWM"
   ]
  },
  {
   "cell_type": "markdown",
   "metadata": {},
   "source": [
    "## BAT-CD100"
   ]
  },
  {
   "cell_type": "code",
   "execution_count": 31,
   "metadata": {},
   "outputs": [
    {
     "name": "stdout",
     "output_type": "stream",
     "text": [
      "24\n"
     ]
    }
   ],
   "source": [
    "path = \"/mnt/vdb/Bat/pws/cd100/result/result_RF\"\n",
    "if not os.path.exists(path):\n",
    "    os.makedirs(path)\n",
    "existing_result = read_exists_result(path)"
   ]
  },
  {
   "cell_type": "code",
   "execution_count": 32,
   "metadata": {},
   "outputs": [
    {
     "name": "stdout",
     "output_type": "stream",
     "text": [
      "Complete\n"
     ]
    }
   ],
   "source": [
    "# Predict\n",
    "predict_withModel(\"/mnt/vdb/Bat/pws/cd100/reps/*.pkl\",path,existing_result)"
   ]
  },
  {
   "cell_type": "code",
   "execution_count": 33,
   "metadata": {},
   "outputs": [
    {
     "name": "stdout",
     "output_type": "stream",
     "text": [
      "Save: /mnt/vdb/Bat/pws/cd100/result/result_RF/Bat.len10.MLResult.plk\n"
     ]
    },
    {
     "data": {
      "text/html": [
       "<div>\n",
       "<style scoped>\n",
       "    .dataframe tbody tr th:only-of-type {\n",
       "        vertical-align: middle;\n",
       "    }\n",
       "\n",
       "    .dataframe tbody tr th {\n",
       "        vertical-align: top;\n",
       "    }\n",
       "\n",
       "    .dataframe thead th {\n",
       "        text-align: right;\n",
       "    }\n",
       "</style>\n",
       "<table border=\"1\" class=\"dataframe\">\n",
       "  <thead>\n",
       "    <tr style=\"text-align: right;\">\n",
       "      <th></th>\n",
       "      <th>ID</th>\n",
       "      <th>Sequence</th>\n",
       "      <th>length</th>\n",
       "      <th>class</th>\n",
       "    </tr>\n",
       "  </thead>\n",
       "  <tbody>\n",
       "    <tr>\n",
       "      <th>0</th>\n",
       "      <td>9</td>\n",
       "      <td>EDTGFYPSEPMLCSESEEGQVPHSLETLYQSADCSSPSDALIVCIH...</td>\n",
       "      <td>275</td>\n",
       "      <td>1</td>\n",
       "    </tr>\n",
       "    <tr>\n",
       "      <th>1</th>\n",
       "      <td>19</td>\n",
       "      <td>ALGPSLWDRRRSLHLLLQEAFPVAQSLAQVIHHQFQTVSKQGGPLP</td>\n",
       "      <td>47</td>\n",
       "      <td>1</td>\n",
       "    </tr>\n",
       "    <tr>\n",
       "      <th>2</th>\n",
       "      <td>32</td>\n",
       "      <td>VGICGSDVHYWQHGRIGDFIVKKPMVLGHEASGTVVKVGSLVKHLQ...</td>\n",
       "      <td>151</td>\n",
       "      <td>1</td>\n",
       "    </tr>\n",
       "    <tr>\n",
       "      <th>3</th>\n",
       "      <td>54</td>\n",
       "      <td>EKPCNSNQQPLENLVEDTLINYSQFGSPKDHEHNGCKLCQTDRYCE...</td>\n",
       "      <td>199</td>\n",
       "      <td>1</td>\n",
       "    </tr>\n",
       "    <tr>\n",
       "      <th>4</th>\n",
       "      <td>61</td>\n",
       "      <td>AAKFVFRHNDPDHLEKLLKKSNSETPKIVAFETVHSMDGAICPLEE...</td>\n",
       "      <td>152</td>\n",
       "      <td>1</td>\n",
       "    </tr>\n",
       "    <tr>\n",
       "      <th>...</th>\n",
       "      <td>...</td>\n",
       "      <td>...</td>\n",
       "      <td>...</td>\n",
       "      <td>...</td>\n",
       "    </tr>\n",
       "    <tr>\n",
       "      <th>17611</th>\n",
       "      <td>12568817</td>\n",
       "      <td>GAWTEVGLPSQDVSVASCNCCRRPMHFELMSEWERSYFGNMGPQYV...</td>\n",
       "      <td>51</td>\n",
       "      <td>1</td>\n",
       "    </tr>\n",
       "    <tr>\n",
       "      <th>17612</th>\n",
       "      <td>12568833</td>\n",
       "      <td>LLLPLKVLGFLGGQLSVVVLHQPVHIIIIQLQAMDLEIFSSFAP</td>\n",
       "      <td>45</td>\n",
       "      <td>1</td>\n",
       "    </tr>\n",
       "    <tr>\n",
       "      <th>17613</th>\n",
       "      <td>12568849</td>\n",
       "      <td>GGQTPRTAPNPQNPPLPPFWAWSSQNVQFSFKFLILGAEPLDRFLA...</td>\n",
       "      <td>117</td>\n",
       "      <td>1</td>\n",
       "    </tr>\n",
       "    <tr>\n",
       "      <th>17614</th>\n",
       "      <td>12568850</td>\n",
       "      <td>VEESCTIENNSDSTKPKMAAEVDFGDLELFEAFDHPEESLPKPVHT...</td>\n",
       "      <td>174</td>\n",
       "      <td>1</td>\n",
       "    </tr>\n",
       "    <tr>\n",
       "      <th>17615</th>\n",
       "      <td>12568985</td>\n",
       "      <td>RKTRLTASSRKTATGQTVVLSQPALVQLQASGVLPSPQPVLAVSGG...</td>\n",
       "      <td>229</td>\n",
       "      <td>1</td>\n",
       "    </tr>\n",
       "  </tbody>\n",
       "</table>\n",
       "<p>422796 rows × 4 columns</p>\n",
       "</div>"
      ],
      "text/plain": [
       "             ID                                           Sequence length  \\\n",
       "0             9  EDTGFYPSEPMLCSESEEGQVPHSLETLYQSADCSSPSDALIVCIH...    275   \n",
       "1            19     ALGPSLWDRRRSLHLLLQEAFPVAQSLAQVIHHQFQTVSKQGGPLP     47   \n",
       "2            32  VGICGSDVHYWQHGRIGDFIVKKPMVLGHEASGTVVKVGSLVKHLQ...    151   \n",
       "3            54  EKPCNSNQQPLENLVEDTLINYSQFGSPKDHEHNGCKLCQTDRYCE...    199   \n",
       "4            61  AAKFVFRHNDPDHLEKLLKKSNSETPKIVAFETVHSMDGAICPLEE...    152   \n",
       "...         ...                                                ...    ...   \n",
       "17611  12568817  GAWTEVGLPSQDVSVASCNCCRRPMHFELMSEWERSYFGNMGPQYV...     51   \n",
       "17612  12568833       LLLPLKVLGFLGGQLSVVVLHQPVHIIIIQLQAMDLEIFSSFAP     45   \n",
       "17613  12568849  GGQTPRTAPNPQNPPLPPFWAWSSQNVQFSFKFLILGAEPLDRFLA...    117   \n",
       "17614  12568850  VEESCTIENNSDSTKPKMAAEVDFGDLELFEAFDHPEESLPKPVHT...    174   \n",
       "17615  12568985  RKTRLTASSRKTATGQTVVLSQPALVQLQASGVLPSPQPVLAVSGG...    229   \n",
       "\n",
       "       class  \n",
       "0          1  \n",
       "1          1  \n",
       "2          1  \n",
       "3          1  \n",
       "4          1  \n",
       "...      ...  \n",
       "17611      1  \n",
       "17612      1  \n",
       "17613      1  \n",
       "17614      1  \n",
       "17615      1  \n",
       "\n",
       "[422796 rows x 4 columns]"
      ]
     },
     "execution_count": 33,
     "metadata": {},
     "output_type": "execute_result"
    }
   ],
   "source": [
    "# write result\n",
    "result_df =mergeDF(path+\"/*.pkl\",path,\"Bat.len10.MLResult.plk\")\n",
    "result_df"
   ]
  },
  {
   "cell_type": "markdown",
   "metadata": {},
   "source": [
    "## DECockroach -CD100"
   ]
  },
  {
   "cell_type": "code",
   "execution_count": 28,
   "metadata": {},
   "outputs": [
    {
     "name": "stdout",
     "output_type": "stream",
     "text": [
      "24\n"
     ]
    }
   ],
   "source": [
    "path = \"/mnt/vdb/DECockroach/pws/cd100/result/result_RF\"\n",
    "if not os.path.exists(path):\n",
    "    os.makedirs(path)\n",
    "existing_result = read_exists_result(path)"
   ]
  },
  {
   "cell_type": "code",
   "execution_count": 29,
   "metadata": {},
   "outputs": [
    {
     "name": "stdout",
     "output_type": "stream",
     "text": [
      "Complete\n"
     ]
    }
   ],
   "source": [
    "# Predict\n",
    "predict_withModel(\"/mnt/vdb/DECockroach/pws/cd100/reps/*.pkl\",path,existing_result)"
   ]
  },
  {
   "cell_type": "code",
   "execution_count": 30,
   "metadata": {},
   "outputs": [
    {
     "name": "stdout",
     "output_type": "stream",
     "text": [
      "Save: /mnt/vdb/DECockroach/pws/cd100/result/result_RF/DECockroach.len15.MLResult.plk\n"
     ]
    },
    {
     "data": {
      "text/html": [
       "<div>\n",
       "<style scoped>\n",
       "    .dataframe tbody tr th:only-of-type {\n",
       "        vertical-align: middle;\n",
       "    }\n",
       "\n",
       "    .dataframe tbody tr th {\n",
       "        vertical-align: top;\n",
       "    }\n",
       "\n",
       "    .dataframe thead th {\n",
       "        text-align: right;\n",
       "    }\n",
       "</style>\n",
       "<table border=\"1\" class=\"dataframe\">\n",
       "  <thead>\n",
       "    <tr style=\"text-align: right;\">\n",
       "      <th></th>\n",
       "      <th>ID</th>\n",
       "      <th>Sequence</th>\n",
       "      <th>length</th>\n",
       "      <th>class</th>\n",
       "    </tr>\n",
       "  </thead>\n",
       "  <tbody>\n",
       "    <tr>\n",
       "      <th>0</th>\n",
       "      <td>0</td>\n",
       "      <td>SSRHLQWDSTLSPHFCF</td>\n",
       "      <td>17</td>\n",
       "      <td>0</td>\n",
       "    </tr>\n",
       "    <tr>\n",
       "      <th>1</th>\n",
       "      <td>1</td>\n",
       "      <td>RGRCIRSSCPSSHLGWR</td>\n",
       "      <td>17</td>\n",
       "      <td>0</td>\n",
       "    </tr>\n",
       "    <tr>\n",
       "      <th>2</th>\n",
       "      <td>3</td>\n",
       "      <td>YSKFSLCQYYFKFCPYST</td>\n",
       "      <td>18</td>\n",
       "      <td>0</td>\n",
       "    </tr>\n",
       "    <tr>\n",
       "      <th>3</th>\n",
       "      <td>4</td>\n",
       "      <td>AADYKPEGLGFDSPWCHWNFSIGNPSGRTM</td>\n",
       "      <td>30</td>\n",
       "      <td>1</td>\n",
       "    </tr>\n",
       "    <tr>\n",
       "      <th>4</th>\n",
       "      <td>5</td>\n",
       "      <td>AIPSLPHSRRLWSPHHL</td>\n",
       "      <td>17</td>\n",
       "      <td>0</td>\n",
       "    </tr>\n",
       "    <tr>\n",
       "      <th>...</th>\n",
       "      <td>...</td>\n",
       "      <td>...</td>\n",
       "      <td>...</td>\n",
       "      <td>...</td>\n",
       "    </tr>\n",
       "    <tr>\n",
       "      <th>26102</th>\n",
       "      <td>894298</td>\n",
       "      <td>IHCEEQQCSVRYVWCRR</td>\n",
       "      <td>17</td>\n",
       "      <td>0</td>\n",
       "    </tr>\n",
       "    <tr>\n",
       "      <th>26103</th>\n",
       "      <td>894299</td>\n",
       "      <td>WFDYFVSFHPFNLRNWLA</td>\n",
       "      <td>19</td>\n",
       "      <td>0</td>\n",
       "    </tr>\n",
       "    <tr>\n",
       "      <th>26104</th>\n",
       "      <td>894303</td>\n",
       "      <td>WPCTHNGDPCTHFGFSA</td>\n",
       "      <td>17</td>\n",
       "      <td>0</td>\n",
       "    </tr>\n",
       "    <tr>\n",
       "      <th>26105</th>\n",
       "      <td>894304</td>\n",
       "      <td>ETCGNQCNCDCADAGIN</td>\n",
       "      <td>17</td>\n",
       "      <td>1</td>\n",
       "    </tr>\n",
       "    <tr>\n",
       "      <th>26106</th>\n",
       "      <td>894305</td>\n",
       "      <td>LQPLNVLWHCMWKSLCEISECLHNLFPC</td>\n",
       "      <td>28</td>\n",
       "      <td>1</td>\n",
       "    </tr>\n",
       "  </tbody>\n",
       "</table>\n",
       "<p>626569 rows × 4 columns</p>\n",
       "</div>"
      ],
      "text/plain": [
       "           ID                        Sequence length  class\n",
       "0           0               SSRHLQWDSTLSPHFCF     17      0\n",
       "1           1               RGRCIRSSCPSSHLGWR     17      0\n",
       "2           3              YSKFSLCQYYFKFCPYST     18      0\n",
       "3           4  AADYKPEGLGFDSPWCHWNFSIGNPSGRTM     30      1\n",
       "4           5               AIPSLPHSRRLWSPHHL     17      0\n",
       "...       ...                             ...    ...    ...\n",
       "26102  894298               IHCEEQQCSVRYVWCRR     17      0\n",
       "26103  894299              WFDYFVSFHPFNLRNWLA     19      0\n",
       "26104  894303               WPCTHNGDPCTHFGFSA     17      0\n",
       "26105  894304               ETCGNQCNCDCADAGIN     17      1\n",
       "26106  894305    LQPLNVLWHCMWKSLCEISECLHNLFPC     28      1\n",
       "\n",
       "[626569 rows x 4 columns]"
      ]
     },
     "execution_count": 30,
     "metadata": {},
     "output_type": "execute_result"
    }
   ],
   "source": [
    "# write result\n",
    "result_df =mergeDF(path+\"/*.pkl\",path,\"DECockroach.len15.MLResult.plk\")\n",
    "result_df"
   ]
  },
  {
   "cell_type": "markdown",
   "metadata": {},
   "source": [
    "## BAT-Transpi"
   ]
  },
  {
   "cell_type": "code",
   "execution_count": 8,
   "metadata": {},
   "outputs": [
    {
     "name": "stdout",
     "output_type": "stream",
     "text": [
      "0\n"
     ]
    }
   ],
   "source": [
    "path = \"/mnt/vdb/Bat/pws/transpi/result/result_RF\"\n",
    "if not os.path.exists(path):\n",
    "    os.makedirs(path)\n",
    "existing_result = read_exists_result(path)"
   ]
  },
  {
   "cell_type": "code",
   "execution_count": 9,
   "metadata": {},
   "outputs": [
    {
     "name": "stdout",
     "output_type": "stream",
     "text": [
      "Complete\n"
     ]
    }
   ],
   "source": [
    "# Predict\n",
    "predict_withModel(\"/mnt/vdb/Bat/pws/transpi/reps/*.pkl\",path,existing_result)"
   ]
  },
  {
   "cell_type": "code",
   "execution_count": 10,
   "metadata": {},
   "outputs": [
    {
     "name": "stdout",
     "output_type": "stream",
     "text": [
      "Save: /mnt/vdb/Bat/pws/transpi/result/result_RF/Bat.len10.MLResult.plk\n"
     ]
    },
    {
     "data": {
      "text/html": [
       "<div>\n",
       "<style scoped>\n",
       "    .dataframe tbody tr th:only-of-type {\n",
       "        vertical-align: middle;\n",
       "    }\n",
       "\n",
       "    .dataframe tbody tr th {\n",
       "        vertical-align: top;\n",
       "    }\n",
       "\n",
       "    .dataframe thead th {\n",
       "        text-align: right;\n",
       "    }\n",
       "</style>\n",
       "<table border=\"1\" class=\"dataframe\">\n",
       "  <thead>\n",
       "    <tr style=\"text-align: right;\">\n",
       "      <th></th>\n",
       "      <th>ID</th>\n",
       "      <th>Sequence</th>\n",
       "      <th>length</th>\n",
       "      <th>class</th>\n",
       "    </tr>\n",
       "  </thead>\n",
       "  <tbody>\n",
       "    <tr>\n",
       "      <th>0</th>\n",
       "      <td>SOAP.k25.C303246.p1</td>\n",
       "      <td>QKVLQAAGPSTTTETETIAKYEIMDGAPVKGESIPIRLFLAGYDPT...</td>\n",
       "      <td>101</td>\n",
       "      <td>1</td>\n",
       "    </tr>\n",
       "    <tr>\n",
       "      <th>1</th>\n",
       "      <td>SOAP.k25.C303708.p1</td>\n",
       "      <td>PITWGRKWNIENGCARTHSQDDYSPGSQAQGESGTASHPRRGHLEM...</td>\n",
       "      <td>102</td>\n",
       "      <td>1</td>\n",
       "    </tr>\n",
       "    <tr>\n",
       "      <th>2</th>\n",
       "      <td>SOAP.k25.C304032.p1</td>\n",
       "      <td>LRNHSPLMSFGASFVSFLNAMMTFEEEKMQLACDDLRTTEKLCESE...</td>\n",
       "      <td>103</td>\n",
       "      <td>1</td>\n",
       "    </tr>\n",
       "    <tr>\n",
       "      <th>3</th>\n",
       "      <td>SOAP.k25.C304284.p1</td>\n",
       "      <td>ESTDQISPYGNSTVTQPSDSGWQYNETHTSLKQNTPRNTSKLYIGL...</td>\n",
       "      <td>104</td>\n",
       "      <td>1</td>\n",
       "    </tr>\n",
       "    <tr>\n",
       "      <th>4</th>\n",
       "      <td>SOAP.k25.C304386.p1</td>\n",
       "      <td>LGPDLSWAWEAKQPWGQETSLRRGEGSGLCKVGGVRVCAPPLLTPK...</td>\n",
       "      <td>104</td>\n",
       "      <td>1</td>\n",
       "    </tr>\n",
       "    <tr>\n",
       "      <th>...</th>\n",
       "      <td>...</td>\n",
       "      <td>...</td>\n",
       "      <td>...</td>\n",
       "      <td>...</td>\n",
       "    </tr>\n",
       "    <tr>\n",
       "      <th>419</th>\n",
       "      <td>Velvet.k61.NODE_783_length_328_cov_36.378048.p1</td>\n",
       "      <td>MSPSQAVYIVPSKGRLIGGLRDTPSYEHFQEDFSTCSLCTFRDLCA...</td>\n",
       "      <td>106</td>\n",
       "      <td>1</td>\n",
       "    </tr>\n",
       "    <tr>\n",
       "      <th>420</th>\n",
       "      <td>Velvet.k61.NODE_8470_length_279_cov_15.172043.p1</td>\n",
       "      <td>QDLENAATGDAAVHQRIASLPVEVQEVSLLDKITDKESGERLSKMV...</td>\n",
       "      <td>105</td>\n",
       "      <td>1</td>\n",
       "    </tr>\n",
       "    <tr>\n",
       "      <th>421</th>\n",
       "      <td>Velvet.k61.NODE_9141_length_765_cov_44.260132.p2</td>\n",
       "      <td>ARAALAMPVKGGTKCIKYLLLGFNFVFWLAGIAVLAIGLWLRFDSQ...</td>\n",
       "      <td>233</td>\n",
       "      <td>1</td>\n",
       "    </tr>\n",
       "    <tr>\n",
       "      <th>422</th>\n",
       "      <td>Velvet.k61.NODE_9415_length_1250_cov_53.216000.p1</td>\n",
       "      <td>MSCKPQCSLNHLPTPCARQSAPFRIPAEFLYLVLLLVEGAPFSNFS...</td>\n",
       "      <td>367</td>\n",
       "      <td>1</td>\n",
       "    </tr>\n",
       "    <tr>\n",
       "      <th>423</th>\n",
       "      <td>Velvet.k61.NODE_9432_length_496_cov_51.205647.p1</td>\n",
       "      <td>MAETVADTRRLITKPQNLNDAYGPPSNFLEIDVSNPQTVGVGRGRF...</td>\n",
       "      <td>163</td>\n",
       "      <td>1</td>\n",
       "    </tr>\n",
       "  </tbody>\n",
       "</table>\n",
       "<p>10180 rows × 4 columns</p>\n",
       "</div>"
      ],
      "text/plain": [
       "                                                    ID  \\\n",
       "0                                  SOAP.k25.C303246.p1   \n",
       "1                                  SOAP.k25.C303708.p1   \n",
       "2                                  SOAP.k25.C304032.p1   \n",
       "3                                  SOAP.k25.C304284.p1   \n",
       "4                                  SOAP.k25.C304386.p1   \n",
       "..                                                 ...   \n",
       "419    Velvet.k61.NODE_783_length_328_cov_36.378048.p1   \n",
       "420   Velvet.k61.NODE_8470_length_279_cov_15.172043.p1   \n",
       "421   Velvet.k61.NODE_9141_length_765_cov_44.260132.p2   \n",
       "422  Velvet.k61.NODE_9415_length_1250_cov_53.216000.p1   \n",
       "423   Velvet.k61.NODE_9432_length_496_cov_51.205647.p1   \n",
       "\n",
       "                                              Sequence length  class  \n",
       "0    QKVLQAAGPSTTTETETIAKYEIMDGAPVKGESIPIRLFLAGYDPT...    101      1  \n",
       "1    PITWGRKWNIENGCARTHSQDDYSPGSQAQGESGTASHPRRGHLEM...    102      1  \n",
       "2    LRNHSPLMSFGASFVSFLNAMMTFEEEKMQLACDDLRTTEKLCESE...    103      1  \n",
       "3    ESTDQISPYGNSTVTQPSDSGWQYNETHTSLKQNTPRNTSKLYIGL...    104      1  \n",
       "4    LGPDLSWAWEAKQPWGQETSLRRGEGSGLCKVGGVRVCAPPLLTPK...    104      1  \n",
       "..                                                 ...    ...    ...  \n",
       "419  MSPSQAVYIVPSKGRLIGGLRDTPSYEHFQEDFSTCSLCTFRDLCA...    106      1  \n",
       "420  QDLENAATGDAAVHQRIASLPVEVQEVSLLDKITDKESGERLSKMV...    105      1  \n",
       "421  ARAALAMPVKGGTKCIKYLLLGFNFVFWLAGIAVLAIGLWLRFDSQ...    233      1  \n",
       "422  MSCKPQCSLNHLPTPCARQSAPFRIPAEFLYLVLLLVEGAPFSNFS...    367      1  \n",
       "423  MAETVADTRRLITKPQNLNDAYGPPSNFLEIDVSNPQTVGVGRGRF...    163      1  \n",
       "\n",
       "[10180 rows x 4 columns]"
      ]
     },
     "execution_count": 10,
     "metadata": {},
     "output_type": "execute_result"
    }
   ],
   "source": [
    "# write result\n",
    "result_df =mergeDF(path+\"/*.pkl\",path,\"Bat.len10.MLResult.plk\")\n",
    "result_df"
   ]
  },
  {
   "cell_type": "markdown",
   "metadata": {},
   "source": [
    "## DECockroach - Transpi"
   ]
  },
  {
   "cell_type": "code",
   "execution_count": 5,
   "metadata": {},
   "outputs": [
    {
     "name": "stdout",
     "output_type": "stream",
     "text": [
      "0\n"
     ]
    }
   ],
   "source": [
    "path = \"/mnt/vdb/DECockroach/pws/transpi/result/result_RF\"\n",
    "if not os.path.exists(path):\n",
    "    os.makedirs(path)\n",
    "existing_result = read_exists_result(path)"
   ]
  },
  {
   "cell_type": "code",
   "execution_count": 6,
   "metadata": {},
   "outputs": [
    {
     "name": "stdout",
     "output_type": "stream",
     "text": [
      "Complete\n"
     ]
    }
   ],
   "source": [
    "# Predict\n",
    "predict_withModel(\"/mnt/vdb/DECockroach/pws/transpi/reps/*.pkl\",path,existing_result)"
   ]
  },
  {
   "cell_type": "code",
   "execution_count": 7,
   "metadata": {},
   "outputs": [
    {
     "name": "stdout",
     "output_type": "stream",
     "text": [
      "Save: /mnt/vdb/DECockroach/pws/transpi/result_5/result_RF/DECockroach.len15.MLResult.plk\n"
     ]
    },
    {
     "data": {
      "text/html": [
       "<div>\n",
       "<style scoped>\n",
       "    .dataframe tbody tr th:only-of-type {\n",
       "        vertical-align: middle;\n",
       "    }\n",
       "\n",
       "    .dataframe tbody tr th {\n",
       "        vertical-align: top;\n",
       "    }\n",
       "\n",
       "    .dataframe thead th {\n",
       "        text-align: right;\n",
       "    }\n",
       "</style>\n",
       "<table border=\"1\" class=\"dataframe\">\n",
       "  <thead>\n",
       "    <tr style=\"text-align: right;\">\n",
       "      <th></th>\n",
       "      <th>ID</th>\n",
       "      <th>Sequence</th>\n",
       "      <th>length</th>\n",
       "      <th>class</th>\n",
       "    </tr>\n",
       "  </thead>\n",
       "  <tbody>\n",
       "    <tr>\n",
       "      <th>0</th>\n",
       "      <td>SOAP.k25.C372231.p1</td>\n",
       "      <td>VYYRRDGKGDKEYWTCQKKPECKATAITIRTGDTVTILKESDHWHA...</td>\n",
       "      <td>102</td>\n",
       "      <td>1</td>\n",
       "    </tr>\n",
       "    <tr>\n",
       "      <th>1</th>\n",
       "      <td>SOAP.k25.C373809.p1</td>\n",
       "      <td>KTRLTVVGTKVINEKNNVKLKGVSKVVSLHVYRLAPDTTIEELTEY...</td>\n",
       "      <td>104</td>\n",
       "      <td>1</td>\n",
       "    </tr>\n",
       "    <tr>\n",
       "      <th>2</th>\n",
       "      <td>SOAP.k25.C379695.p1</td>\n",
       "      <td>MLRDYREIGNLVLCFDTPFTVDFKVIQDAALQKELIEFRCDRRLRE...</td>\n",
       "      <td>95</td>\n",
       "      <td>1</td>\n",
       "    </tr>\n",
       "    <tr>\n",
       "      <th>3</th>\n",
       "      <td>SOAP.k25.C382451.p1</td>\n",
       "      <td>PSPCGANAVCREQNGAGSCTCLPDYVGNPYEGCRPECVLNTDCPSN...</td>\n",
       "      <td>116</td>\n",
       "      <td>1</td>\n",
       "    </tr>\n",
       "    <tr>\n",
       "      <th>4</th>\n",
       "      <td>SOAP.k25.C383053.p1</td>\n",
       "      <td>FKMLTMPRRDICQIETLNLADPLMFLVRNRVCTSTMFHLLPFSYTS...</td>\n",
       "      <td>104</td>\n",
       "      <td>1</td>\n",
       "    </tr>\n",
       "    <tr>\n",
       "      <th>...</th>\n",
       "      <td>...</td>\n",
       "      <td>...</td>\n",
       "      <td>...</td>\n",
       "      <td>...</td>\n",
       "    </tr>\n",
       "    <tr>\n",
       "      <th>637</th>\n",
       "      <td>Velvet.k37.NODE_9552_length_1035_cov_12.333333.p1</td>\n",
       "      <td>EPKLVNEVNLTFHEKDGEEFMALDKNLKVTTTVKRVYMHLTNLFNG...</td>\n",
       "      <td>102</td>\n",
       "      <td>1</td>\n",
       "    </tr>\n",
       "    <tr>\n",
       "      <th>638</th>\n",
       "      <td>Velvet.k37.NODE_9713_length_2207_cov_17.057997.p1</td>\n",
       "      <td>MIRRWWKLFMFIMAMLLDVREAFYVPGVAPVEFRKGARIDVKAVKM...</td>\n",
       "      <td>627</td>\n",
       "      <td>1</td>\n",
       "    </tr>\n",
       "    <tr>\n",
       "      <th>639</th>\n",
       "      <td>Velvet.k37.NODE_9748_length_894_cov_40.512302.p1</td>\n",
       "      <td>MLNFSHHVSKTIRKKKSSKITGRFSRYKKMRTCSSLNEIYIVYIYI...</td>\n",
       "      <td>124</td>\n",
       "      <td>0</td>\n",
       "    </tr>\n",
       "    <tr>\n",
       "      <th>640</th>\n",
       "      <td>Velvet.k37.NODE_9800_length_726_cov_45.530304.p1</td>\n",
       "      <td>MASFEQAIQQNVMQVAKKVEEHLDAELEKLEKLDSDDLDKLREKRL...</td>\n",
       "      <td>221</td>\n",
       "      <td>1</td>\n",
       "    </tr>\n",
       "    <tr>\n",
       "      <th>641</th>\n",
       "      <td>Velvet.k37.NODE_9843_length_1025_cov_50.463413.p1</td>\n",
       "      <td>MAFKFVLLAAVLAVAQAGGPAAYSTYTTPIGYGSVGSTHESTVKGY...</td>\n",
       "      <td>191</td>\n",
       "      <td>1</td>\n",
       "    </tr>\n",
       "  </tbody>\n",
       "</table>\n",
       "<p>15424 rows × 4 columns</p>\n",
       "</div>"
      ],
      "text/plain": [
       "                                                    ID  \\\n",
       "0                                  SOAP.k25.C372231.p1   \n",
       "1                                  SOAP.k25.C373809.p1   \n",
       "2                                  SOAP.k25.C379695.p1   \n",
       "3                                  SOAP.k25.C382451.p1   \n",
       "4                                  SOAP.k25.C383053.p1   \n",
       "..                                                 ...   \n",
       "637  Velvet.k37.NODE_9552_length_1035_cov_12.333333.p1   \n",
       "638  Velvet.k37.NODE_9713_length_2207_cov_17.057997.p1   \n",
       "639   Velvet.k37.NODE_9748_length_894_cov_40.512302.p1   \n",
       "640   Velvet.k37.NODE_9800_length_726_cov_45.530304.p1   \n",
       "641  Velvet.k37.NODE_9843_length_1025_cov_50.463413.p1   \n",
       "\n",
       "                                              Sequence length  class  \n",
       "0    VYYRRDGKGDKEYWTCQKKPECKATAITIRTGDTVTILKESDHWHA...    102      1  \n",
       "1    KTRLTVVGTKVINEKNNVKLKGVSKVVSLHVYRLAPDTTIEELTEY...    104      1  \n",
       "2    MLRDYREIGNLVLCFDTPFTVDFKVIQDAALQKELIEFRCDRRLRE...     95      1  \n",
       "3    PSPCGANAVCREQNGAGSCTCLPDYVGNPYEGCRPECVLNTDCPSN...    116      1  \n",
       "4    FKMLTMPRRDICQIETLNLADPLMFLVRNRVCTSTMFHLLPFSYTS...    104      1  \n",
       "..                                                 ...    ...    ...  \n",
       "637  EPKLVNEVNLTFHEKDGEEFMALDKNLKVTTTVKRVYMHLTNLFNG...    102      1  \n",
       "638  MIRRWWKLFMFIMAMLLDVREAFYVPGVAPVEFRKGARIDVKAVKM...    627      1  \n",
       "639  MLNFSHHVSKTIRKKKSSKITGRFSRYKKMRTCSSLNEIYIVYIYI...    124      0  \n",
       "640  MASFEQAIQQNVMQVAKKVEEHLDAELEKLEKLDSDDLDKLREKRL...    221      1  \n",
       "641  MAFKFVLLAAVLAVAQAGGPAAYSTYTTPIGYGSVGSTHESTVKGY...    191      1  \n",
       "\n",
       "[15424 rows x 4 columns]"
      ]
     },
     "execution_count": 7,
     "metadata": {},
     "output_type": "execute_result"
    }
   ],
   "source": [
    "# write result\n",
    "result_df =mergeDF(path+\"/*.pkl\",path,\"DECockroach.len15.MLResult.plk\")\n",
    "result_df"
   ]
  },
  {
   "cell_type": "code",
   "execution_count": null,
   "metadata": {},
   "outputs": [],
   "source": []
  }
 ],
 "metadata": {
  "colab": {
   "name": "FASTAI_predictor.ipynb",
   "provenance": []
  },
  "kernelspec": {
   "display_name": "Python 3",
   "language": "python",
   "name": "python3"
  },
  "language_info": {
   "codemirror_mode": {
    "name": "ipython",
    "version": 3
   },
   "file_extension": ".py",
   "mimetype": "text/x-python",
   "name": "python",
   "nbconvert_exporter": "python",
   "pygments_lexer": "ipython3",
   "version": "3.7.9"
  }
 },
 "nbformat": 4,
 "nbformat_minor": 4
}
