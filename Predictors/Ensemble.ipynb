{
 "cells": [
  {
   "cell_type": "markdown",
   "metadata": {},
   "source": [
    "# Classify and Aggregate Approach\n",
    "\n",
    "This method will use majority result from multple models\n",
    "\n",
    "Include models;\n",
    "* ProtCNN\n",
    "* FastAI Tabular learner \n",
    "* RF \n",
    "* XGBoost\n",
    "* SVM\n",
    "* CNN input 1900 + train on 30 AAs\n",
    "\n",
    "The methods;\n",
    "* cutoff 3 models\n",
    "* for <=30 at least two models (ProtCNN and ...) say AMP (0), so it will be AMP"
   ]
  },
  {
   "cell_type": "code",
   "execution_count": 1,
   "metadata": {},
   "outputs": [],
   "source": [
    "#Use only CPU\n",
    "#import os \n",
    "#os.environ['CUDA_VISIBLE_DEVICES'] = '-1'"
   ]
  },
  {
   "cell_type": "code",
   "execution_count": 1,
   "metadata": {},
   "outputs": [],
   "source": [
    "\n",
    "from keras.models import load_model\n",
    "\n",
    "from sklearn.model_selection import train_test_split\n",
    "from sklearn.model_selection import cross_val_score\n",
    "from sklearn.model_selection import StratifiedKFold\n",
    "from sklearn.metrics import roc_curve,auc\n",
    "\n",
    "from xgboost import XGBClassifier\n",
    "\n",
    "import pickle5 as pickle\n",
    "import numpy as np\n",
    "import pandas as pd\n",
    "import matplotlib.pyplot as plt"
   ]
  },
  {
   "cell_type": "code",
   "execution_count": 2,
   "metadata": {},
   "outputs": [],
   "source": [
    "    \n",
    "DNN = load_model(\"../Models/best_DNN_model.hdf5\", compile=False)\n",
    "\n",
    "ProtCNN= load_model(\"/mnt/vdb/ProtCNN.bestmodel.h5\")\n",
    "\n",
    "CNN_shortAA = load_model(\"/mnt/vdb/thesis/best_CNN._30.hdf5\")\n",
    "\n",
    "# Load model \n",
    "XGBmodel = XGBClassifier()\n",
    "XGBmodel.load_model(\"../Models/best_XGBmodel.model\")\n",
    "\n",
    "with open(\"../Models/best_RF.model\", 'rb') as file:\n",
    "    RF = pickle.load(file)\n",
    "    \n",
    "with open(\"../Models/best_SVM.model\", 'rb') as file:\n",
    "    SVM = pickle.load(file)\n",
    "\n"
   ]
  },
  {
   "cell_type": "code",
   "execution_count": 3,
   "metadata": {},
   "outputs": [],
   "source": [
    "from fastai.tabular.all import *\n",
    "from fastai.basics import *\n",
    "from fastai import *\n",
    "\n",
    "FASTAI_learner = load_learner( \"../Models/TubularLearner.retrain\")"
   ]
  },
  {
   "cell_type": "code",
   "execution_count": null,
   "metadata": {},
   "outputs": [],
   "source": [
    "# Test Function for RF, SVM, XGBoost\n",
    "\n",
    "def predict_withModel(_df ,condition, model):\n",
    "\n",
    "    if condition == 0:\n",
    "        df = _df.copy()\n",
    "    elif condition == -1 :\n",
    "        df = _df.loc[_df.length <= 30 ].copy()\n",
    "    else:\n",
    "        df = _df.loc[_df.length > condition ].copy() # select records with lenght > \n",
    "    #print(df.columns)\n",
    "    X= np.array(df['reps'].to_list())\n",
    "    _y = model.predict(X)\n",
    "    #y_probas = learner.predict(X_test)\n",
    "    #threshold = 0.5\n",
    "    #_y = np.where(y_probas > threshold, 1, 0)\n",
    "\n",
    "    return _y\n"
   ]
  },
  {
   "cell_type": "code",
   "execution_count": null,
   "metadata": {},
   "outputs": [],
   "source": [
    "# Test Function for DNN"
   ]
  },
  {
   "cell_type": "code",
   "execution_count": null,
   "metadata": {},
   "outputs": [],
   "source": [
    "# Test Function for ProtCNN, CNN_shortAA"
   ]
  },
  {
   "cell_type": "code",
   "execution_count": null,
   "metadata": {},
   "outputs": [],
   "source": [
    "# Test Function for FastAI"
   ]
  },
  {
   "cell_type": "code",
   "execution_count": 2,
   "metadata": {},
   "outputs": [],
   "source": [
    "# Load Testset\n",
    "df_ = pd.read_pickle(\"../datasets/truthset/AMPs_truthset_42.reps.plk\")"
   ]
  },
  {
   "cell_type": "code",
   "execution_count": null,
   "metadata": {},
   "outputs": [],
   "source": [
    "# Run \n",
    "df_ = pd.read_pickle(\"../datasets/truthset/AMPs_truthset_42.reps.plk\")\n"
   ]
  },
  {
   "cell_type": "code",
   "execution_count": null,
   "metadata": {},
   "outputs": [],
   "source": [
    "# Aggregate Result\n",
    "result_df = pd.DataFrame( columns=[\"no_con\",\">200\",\">100\",\">70\",\">50\",\">30\",\"30<=\"],\n",
    "    index = ['shuff1','shuff2', 'shuff3',\"shuff4\",\"shuff5\",\"shuff6\",\"shuff7\",\"shuff8\",\"shuff9\",\"shuff10\"])\n",
    "# shuff1\n",
    "index = \"shuff1\""
   ]
  },
  {
   "cell_type": "code",
   "execution_count": null,
   "metadata": {},
   "outputs": [],
   "source": [
    "# Result\n",
    "result_df = pd.DataFrame( columns=[\"no_con\",\">200\",\">100\",\">70\",\">50\",\">30\",\"30<=\"],\n",
    "    index = ['shuff1','shuff2', 'shuff3',\"shuff4\",\"shuff5\",\"shuff6\",\"shuff7\",\"shuff8\",\"shuff9\",\"shuff10\"])"
   ]
  }
 ],
 "metadata": {
  "kernelspec": {
   "display_name": "Python 3",
   "language": "python",
   "name": "python3"
  },
  "language_info": {
   "codemirror_mode": {
    "name": "ipython",
    "version": 3
   },
   "file_extension": ".py",
   "mimetype": "text/x-python",
   "name": "python",
   "nbconvert_exporter": "python",
   "pygments_lexer": "ipython3",
   "version": "3.7.9"
  }
 },
 "nbformat": 4,
 "nbformat_minor": 4
}
