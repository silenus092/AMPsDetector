{
 "cells": [
  {
   "cell_type": "code",
   "execution_count": null,
   "metadata": {},
   "outputs": [],
   "source": [
    "# https://stackoverflow.com/questions/48641189/fitting-3d-data-as-input-into-keras-sequential-model-layer"
   ]
  },
  {
   "cell_type": "code",
   "execution_count": null,
   "metadata": {},
   "outputs": [],
   "source": [
    "!pip install qhoptim\n",
    "!conda install keras=2.3.1 -y"
   ]
  },
  {
   "cell_type": "code",
   "execution_count": 2,
   "metadata": {},
   "outputs": [],
   "source": [
    "# Use only CPU\n",
    "import os \n",
    "os.environ['CUDA_VISIBLE_DEVICES'] = '-1'"
   ]
  },
  {
   "cell_type": "code",
   "execution_count": null,
   "metadata": {},
   "outputs": [],
   "source": [
    "import tensorflow as tf\n",
    "from tensorflow.python.client import device_lib\n",
    "print(device_lib.list_local_devices())"
   ]
  },
  {
   "cell_type": "code",
   "execution_count": 2,
   "metadata": {
    "id": "4aBzk8QXHS9S"
   },
   "outputs": [],
   "source": [
    "import os\n",
    "import gc\n",
    "\n",
    "import numpy as np\n",
    "import pandas as pd\n",
    "import matplotlib.pyplot as plt\n",
    "import matplotlib.patches as patches\n",
    "import seaborn as sns\n",
    "\n",
    "from collections import Counter\n",
    "from prettytable import PrettyTable\n",
    "from IPython.display import Image\n",
    "from sklearn.model_selection import train_test_split\n",
    "from sklearn.model_selection import cross_val_score\n",
    "from sklearn.model_selection import StratifiedKFold\n",
    "from sklearn.metrics import roc_curve,auc\n",
    "\n",
    "#keras\n",
    "import tensorflow.keras as keras\n",
    "from tensorflow.keras.models import Model\n",
    "from tensorflow.keras.regularizers import l2, l1_l2\n",
    "from tensorflow.keras.constraints import max_norm\n",
    "from tensorflow.keras.callbacks import EarlyStopping\n",
    "from tensorflow.keras.layers import Input, Dense, Dropout, Flatten, Activation\n",
    "from tensorflow.keras.layers import Conv1D, Add, MaxPooling1D, BatchNormalization\n",
    "from tensorflow.keras.layers import Embedding, Bidirectional, GlobalMaxPooling1D, AveragePooling1D, GlobalAveragePooling1D\n",
    "\n",
    "from tensorflow.keras.layers import Conv2D, ZeroPadding2D\n",
    "from tensorflow.keras.layers import MaxPooling2D\n",
    "\n",
    "from tensorflow.keras.models import Sequential\n",
    "from tensorflow.keras.callbacks import LearningRateScheduler\n",
    "from tensorflow.keras.wrappers.scikit_learn import KerasClassifier\n",
    "# CuDNNLSTM error; The error was because from TensorFlow 2 you do not need to specify CuDNNLSTM. \n",
    "# You can just use LSTM with no activation function and it will automatically use the CuDNN version. You do have to install CuDNN first.\n",
    "\n",
    "from tensorflow.keras.callbacks import ModelCheckpoint\n",
    "from sklearn.metrics import classification_report, confusion_matrix, accuracy_score\n",
    "\n",
    "import pickle5 as pickle\n",
    "# \n",
    "# from qhoptim.tf import QHAdamOptimizer"
   ]
  },
  {
   "cell_type": "code",
   "execution_count": 3,
   "metadata": {
    "id": "FNhtXHJrfEE4"
   },
   "outputs": [],
   "source": [
    "# small old ../datasets/AMPsNonAMPs_df.239.plk\n",
    "# /home/ubuntu/data/AMPsNonAMPs_df.plk old dataset\n",
    "# /mnt/vdb/thesis/jax/AMPNonAMP.final.reps new dataset\n",
    "\n",
    "with open( \"/mnt/vdb/thesis/jax/AMPNonAMP.V5_C08_sim60.reps\", 'rb') as file:\n",
    "    AMPs_df = pickle.load(file)"
   ]
  },
  {
   "cell_type": "code",
   "execution_count": 2,
   "metadata": {},
   "outputs": [],
   "source": [
    "# For PWS\n",
    "with open( '/mnt/vdb/thesis/pwm/AMPnonAMP.sim60_c08.pssm.pkl', 'rb') as file:\n",
    "    AMPs_df = pickle.load(file)\n"
   ]
  },
  {
   "cell_type": "code",
   "execution_count": null,
   "metadata": {
    "colab": {
     "base_uri": "https://localhost:8080/",
     "height": 597
    },
    "id": "mGiMSzzPfj2t",
    "outputId": "092eb611-b89c-4cac-c8c4-0557799510cf"
   },
   "outputs": [],
   "source": [
    "#AMPs_df.drop_duplicates(subset=['Sequence'],inplace=True)\n",
    "AMPs_df =AMPs_df[AMPs_df[\"length\"] <=30 ]\n",
    "AMPs_df "
   ]
  },
  {
   "cell_type": "markdown",
   "metadata": {
    "id": "g2i7Tk41aDZ5"
   },
   "source": [
    "### Utility function: plot_history, display_model_score"
   ]
  },
  {
   "cell_type": "code",
   "execution_count": 3,
   "metadata": {
    "id": "7F7ykQsDVxHO"
   },
   "outputs": [],
   "source": [
    "from sklearn.metrics import precision_recall_curve\n",
    "from sklearn.metrics import plot_precision_recall_curve\n",
    "from sklearn.metrics import average_precision_score\n",
    "from matplotlib import pyplot\n",
    "\n",
    "def create_roc_curve(labels, scores):\n",
    "    fpr, tpr, thresholds = roc_curve(labels, scores)\n",
    "    roc_auc = auc(fpr, tpr)  \n",
    "\n",
    "    plt.title('Receiver Operating Characteristic' )\n",
    "    plt.plot(fpr, tpr, 'b', label='AUC = %0.2f'% roc_auc)\n",
    "\n",
    "    plt.legend(loc='lower right')\n",
    "    plt.plot([0,1],[0,1],'r--')\n",
    "    plt.xlim([-0.1,1.2])\n",
    "    plt.ylim([-0.1,1.2])\n",
    "    plt.xlabel('False Positive Rate or (1 - Specifity)')\n",
    "    plt.ylabel('True Positive Rate or (Sensitivity)')\n",
    "    plt.show()\n",
    "\n",
    "# plot no skill and model precision-recall curves\n",
    "def plot_pr_curve(test_y, model_probs):\n",
    "    precision, recall, _ = precision_recall_curve(test_y, model_probs)\n",
    "    auc_score = auc(recall, precision)\n",
    "    # calculate the no skill line as the proportion of the positive class\n",
    "    no_skill = len(test_y[test_y==1]) / len(test_y)\n",
    "    pyplot.title('2-class Precision-Recall curve')\n",
    "    # plot the no skill precision-recall curve\n",
    "    pyplot.plot([0, 1], [no_skill, no_skill], linestyle='--', label='No Skill')\n",
    "    # plot model precis|ion-recall curve\n",
    "    precision, recall, _ = precision_recall_curve(test_y, model_probs)\n",
    "    pyplot.plot(recall, precision, marker='.', label='Model AUC = %0.2f'% auc_score)\n",
    "    # axis labels\n",
    "    pyplot.xlabel('Recall')\n",
    "    pyplot.ylabel('Precision')\n",
    "    # show the legend\n",
    "    pyplot.legend()\n",
    "    # show the plot\n",
    "    pyplot.show()\n",
    "\n",
    "def plot_history(history):\n",
    "  # dict_keys(['loss', 'accuracy', 'val_loss', 'val_accuracy'])\n",
    "  acc = history.history['accuracy']\n",
    "  val_acc = history.history['val_accuracy']\n",
    "  loss = history.history['loss']\n",
    "  val_loss = history.history['val_loss']\n",
    "  x = range(1, len(acc) + 1)\n",
    "\n",
    "  plt.figure(figsize=(12, 5))\n",
    "  plt.subplot(1, 2, 1)\n",
    "  plt.plot(x, acc, 'b', label='Training acc')\n",
    "  plt.plot(x, val_acc, 'r', label='Validation acc')\n",
    "  plt.title('Training and validation accuracy')\n",
    "  plt.legend()\n",
    "\n",
    "  plt.subplot(1, 2, 2)\n",
    "  plt.plot(x, loss, 'b', label='Training loss')\n",
    "  plt.plot(x, val_loss, 'r', label='Validation loss')\n",
    "  plt.title('Training and validation loss')\n",
    "  plt.legend()\n",
    "\n",
    "# Display model score(Loss & Accuracy) across all sets.\n",
    "def display_model_score(model, train, val, test = None):\n",
    "  train_score = model.evaluate(train[0], train[1], verbose=1)\n",
    "  print('Train loss: ', train_score[0])\n",
    "  print('Train accuracy: ', train_score[1])\n",
    "  print('-'*70)\n",
    "  val_score = model.evaluate(val[0], val[1], verbose=1)\n",
    "  print('Val loss: ', val_score[0])\n",
    "  print('Val accuracy: ', val_score[1])\n",
    "  print('-'*70)\n",
    "  if test != None:\n",
    "      test_score = model.evaluate(test[0], test[1], verbose=1)\n",
    "      print('Test loss: ', test_score[0])\n",
    "      print('Test accuracy: ', test_score[1])\n",
    "\n",
    "def plot_history_CV(cv, estimator,x,y):\n",
    "  # plot arrows\n",
    "  fig1 = plt.figure(figsize=[12,12])\n",
    "  ax1 = fig1.add_subplot(111,aspect = 'equal')\n",
    "  ax1.add_patch(\n",
    "      patches.Arrow(0.45,0.5,-0.25,0.25,width=0.3,color='green',alpha = 0.5)\n",
    "      )\n",
    "  ax1.add_patch(\n",
    "      patches.Arrow(0.5,0.45,0.25,-0.25,width=0.3,color='red',alpha = 0.5)\n",
    "      )\n",
    "\n",
    "  tprs = []\n",
    "  aucs = []\n",
    "  mean_fpr = np.linspace(0,1,100)\n",
    "  i = 1\n",
    "  for train,test in cv.split(x,y):\n",
    "      model = create_Modelbaseline()\n",
    "      model.fit(x[train],y.iloc[train],\n",
    "            epochs=30,\n",
    "            shuffle=True,verbose=0)\n",
    "      prediction = model.predict(x[test])\n",
    "      fpr, tpr, t = roc_curve(y[test], prediction[:, 1])\n",
    "      tprs.append(interp(mean_fpr, fpr, tpr))\n",
    "      roc_auc = auc(fpr, tpr)\n",
    "      aucs.append(roc_auc)\n",
    "      plt.plot(fpr, tpr, lw=2, alpha=0.3, label='ROC fold %d (AUC = %0.2f)' % (i, roc_auc))\n",
    "      i= i+1\n",
    "\n",
    "  plt.plot([0,1],[0,1],linestyle = '--',lw = 2,color = 'black')\n",
    "  mean_tpr = np.mean(tprs, axis=0)\n",
    "  mean_auc = auc(mean_fpr, mean_tpr)\n",
    "  plt.plot(mean_fpr, mean_tpr, color='blue',\n",
    "          label=r'Mean ROC (AUC = %0.2f )' % (mean_auc),lw=2, alpha=1)\n",
    "\n",
    "  plt.xlabel('False Positive Rate')\n",
    "  plt.ylabel('True Positive Rate')\n",
    "  plt.title('ROC')\n",
    "  plt.legend(loc=\"lower right\")\n",
    "  plt.text(0.32,0.7,'More accurate area',fontsize = 12)\n",
    "  plt.text(0.63,0.4,'Less accurate area',fontsize = 12)\n",
    "  plt.show()"
   ]
  },
  {
   "cell_type": "code",
   "execution_count": 4,
   "metadata": {},
   "outputs": [],
   "source": [
    "#from keras import backend as K\n",
    "#K.set_value(model_ProtCNN.optimizer.learning_rate, 0.00001)\n",
    "def lr_schedule(epoch):\n",
    "    \n",
    "    lr = 1e-3\n",
    "    if epoch > 80:\n",
    "        lr = 0.1e-6\n",
    "    elif epoch > 50:    \n",
    "        lr = 0.3e-5\n",
    "    elif epoch > 20:\n",
    "        lr = 1e-4\n",
    "        \n",
    "    # print(' Learning rate: ', lr)    \n",
    "    return lr "
   ]
  },
  {
   "cell_type": "markdown",
   "metadata": {
    "id": "nI-_ZAvfIb5A"
   },
   "source": [
    "# Split Train/ Test / Validation set"
   ]
  },
  {
   "cell_type": "code",
   "execution_count": 4,
   "metadata": {
    "id": "lAAQLx4UIptD"
   },
   "outputs": [
    {
     "data": {
      "text/plain": [
       "(137389, 400)"
      ]
     },
     "execution_count": 4,
     "metadata": {},
     "output_type": "execute_result"
    }
   ],
   "source": [
    "AMPs_df.shape"
   ]
  },
  {
   "cell_type": "code",
   "execution_count": 15,
   "metadata": {
    "id": "UWQ2IZWgIbST"
   },
   "outputs": [],
   "source": [
    "#X= np.array(AMPs_df['reps'].to_list())\n",
    "#y= np.array(AMPs_df['class'].to_list())\n",
    "\n",
    "X_train, X_test, y_train, y_test = train_test_split(np.array(AMPs_df['reps'].to_list()),  np.array(AMPs_df['class'].to_list()), test_size=0.2, random_state=1,shuffle =True)\n",
    "X_train, X_val, y_train, y_val = train_test_split(X_train, y_train, test_size=0.25, random_state=1,shuffle =True) # 0.25 x 0.8 = 0.2"
   ]
  },
  {
   "cell_type": "code",
   "execution_count": 16,
   "metadata": {
    "colab": {
     "base_uri": "https://localhost:8080/",
     "height": 73
    },
    "id": "IM7Scdevkwpp",
    "outputId": "55fa7ea6-a5f9-4e23-bf42-f1a4bf64f8a3"
   },
   "outputs": [
    {
     "name": "stdout",
     "output_type": "stream",
     "text": [
      "Train size:  51873\n",
      "Val size:  17292\n",
      "Test size:  17292\n"
     ]
    }
   ],
   "source": [
    "# Given data size\n",
    "print('Train size: ', len(X_train))\n",
    "print('Val size: ', len(X_val))\n",
    "print('Test size: ', len(X_test))"
   ]
  },
  {
   "cell_type": "markdown",
   "metadata": {},
   "source": [
    "## Custom CNN"
   ]
  },
  {
   "cell_type": "code",
   "execution_count": 17,
   "metadata": {},
   "outputs": [
    {
     "name": "stdout",
     "output_type": "stream",
     "text": [
      "(51873, 400, 1)\n",
      "(17292, 400, 1)\n",
      "(17292, 400, 1)\n"
     ]
    }
   ],
   "source": [
    "# 3d dimension for LSTM\n",
    "# Batchs, n_timesteps, n_features\n",
    "\n",
    "# Images 3d dimension\n",
    "# width , heigth , channel\n",
    "\n",
    "# Conv1D with sequential data\n",
    "# batch, steps, channels\n",
    "\n",
    "# https://stackoverflow.com/questions/52803989/how-to-correct-shape-of-keras-input-into-a-3d-array/52804200\n",
    "X_train = np.reshape(X_train,(X_train.shape[0],X_train.shape[1],1))\n",
    "print(X_train.shape)\n",
    "X_test = np.reshape(X_test,(X_test.shape[0],X_test.shape[1],1))\n",
    "print(X_test.shape)\n",
    "X_val = np.reshape(X_val,(X_val.shape[0],X_val.shape[1],1))\n",
    "print(X_val.shape)"
   ]
  },
  {
   "cell_type": "code",
   "execution_count": 7,
   "metadata": {},
   "outputs": [
    {
     "data": {
      "text/plain": [
       "array([[[ 0.05368484, -0.03313179, -0.04137151, ...,  0.04686536,\n",
       "          0.07515805,  0.09453979]],\n",
       "\n",
       "       [[ 0.01226678,  0.03930363,  0.02485003, ...,  0.03290013,\n",
       "          0.0553586 , -0.03752161]],\n",
       "\n",
       "       [[ 0.02220141, -0.0530687 ,  0.0117378 , ...,  0.06830079,\n",
       "          0.13145781,  0.03153091]],\n",
       "\n",
       "       ...,\n",
       "\n",
       "       [[ 0.01613748,  0.0919472 ,  0.07108982, ...,  0.05503492,\n",
       "         -0.02092175,  0.02752282]],\n",
       "\n",
       "       [[ 0.00737427, -0.02503035,  0.03058322, ..., -0.04634462,\n",
       "          0.13963404,  0.00552622]],\n",
       "\n",
       "       [[ 0.01309069,  0.00857742,  0.03156777, ...,  0.05718511,\n",
       "          0.09086805, -0.00191969]]])"
      ]
     },
     "execution_count": 7,
     "metadata": {},
     "output_type": "execute_result"
    }
   ],
   "source": [
    "X_train"
   ]
  },
  {
   "cell_type": "code",
   "execution_count": 13,
   "metadata": {},
   "outputs": [
    {
     "data": {
      "text/plain": [
       "1"
      ]
     },
     "execution_count": 13,
     "metadata": {},
     "output_type": "execute_result"
    }
   ],
   "source": [
    "X_train.shape[1]"
   ]
  },
  {
   "cell_type": "code",
   "execution_count": 12,
   "metadata": {},
   "outputs": [
    {
     "ename": "ValueError",
     "evalue": "cannot reshape array of size 156622700 into shape (82433,1,1)",
     "output_type": "error",
     "traceback": [
      "\u001b[0;31m---------------------------------------------------------------------------\u001b[0m",
      "\u001b[0;31mValueError\u001b[0m                                Traceback (most recent call last)",
      "\u001b[0;32m<ipython-input-12-faa9a6d9ca0e>\u001b[0m in \u001b[0;36m<module>\u001b[0;34m\u001b[0m\n\u001b[0;32m----> 1\u001b[0;31m \u001b[0mX_train\u001b[0m \u001b[0;34m=\u001b[0m \u001b[0mnp\u001b[0m\u001b[0;34m.\u001b[0m\u001b[0mreshape\u001b[0m\u001b[0;34m(\u001b[0m\u001b[0mX_train\u001b[0m\u001b[0;34m,\u001b[0m\u001b[0;34m(\u001b[0m\u001b[0mX_train\u001b[0m\u001b[0;34m.\u001b[0m\u001b[0mshape\u001b[0m\u001b[0;34m[\u001b[0m\u001b[0;36m0\u001b[0m\u001b[0;34m]\u001b[0m\u001b[0;34m,\u001b[0m\u001b[0mX_train\u001b[0m\u001b[0;34m.\u001b[0m\u001b[0mshape\u001b[0m\u001b[0;34m[\u001b[0m\u001b[0;36m1\u001b[0m\u001b[0;34m]\u001b[0m\u001b[0;34m,\u001b[0m\u001b[0;36m1\u001b[0m\u001b[0;34m)\u001b[0m\u001b[0;34m)\u001b[0m\u001b[0;34m\u001b[0m\u001b[0;34m\u001b[0m\u001b[0m\n\u001b[0m\u001b[1;32m      2\u001b[0m \u001b[0mprint\u001b[0m\u001b[0;34m(\u001b[0m\u001b[0mX_train\u001b[0m\u001b[0;34m.\u001b[0m\u001b[0mshape\u001b[0m\u001b[0;34m)\u001b[0m\u001b[0;34m\u001b[0m\u001b[0;34m\u001b[0m\u001b[0m\n\u001b[1;32m      3\u001b[0m \u001b[0mX_test\u001b[0m \u001b[0;34m=\u001b[0m \u001b[0mnp\u001b[0m\u001b[0;34m.\u001b[0m\u001b[0mreshape\u001b[0m\u001b[0;34m(\u001b[0m\u001b[0mX_test\u001b[0m\u001b[0;34m,\u001b[0m\u001b[0;34m(\u001b[0m\u001b[0mX_test\u001b[0m\u001b[0;34m.\u001b[0m\u001b[0mshape\u001b[0m\u001b[0;34m[\u001b[0m\u001b[0;36m0\u001b[0m\u001b[0;34m]\u001b[0m\u001b[0;34m,\u001b[0m\u001b[0mX_test\u001b[0m\u001b[0;34m.\u001b[0m\u001b[0mshape\u001b[0m\u001b[0;34m[\u001b[0m\u001b[0;36m1\u001b[0m\u001b[0;34m]\u001b[0m\u001b[0;34m,\u001b[0m\u001b[0;36m1\u001b[0m\u001b[0;34m)\u001b[0m\u001b[0;34m)\u001b[0m\u001b[0;34m\u001b[0m\u001b[0;34m\u001b[0m\u001b[0m\n\u001b[1;32m      4\u001b[0m \u001b[0mprint\u001b[0m\u001b[0;34m(\u001b[0m\u001b[0mX_test\u001b[0m\u001b[0;34m.\u001b[0m\u001b[0mshape\u001b[0m\u001b[0;34m)\u001b[0m\u001b[0;34m\u001b[0m\u001b[0;34m\u001b[0m\u001b[0m\n\u001b[1;32m      5\u001b[0m \u001b[0mX_val\u001b[0m \u001b[0;34m=\u001b[0m \u001b[0mnp\u001b[0m\u001b[0;34m.\u001b[0m\u001b[0mreshape\u001b[0m\u001b[0;34m(\u001b[0m\u001b[0mX_val\u001b[0m\u001b[0;34m,\u001b[0m\u001b[0;34m(\u001b[0m\u001b[0mX_val\u001b[0m\u001b[0;34m.\u001b[0m\u001b[0mshape\u001b[0m\u001b[0;34m[\u001b[0m\u001b[0;36m0\u001b[0m\u001b[0;34m]\u001b[0m\u001b[0;34m,\u001b[0m\u001b[0mX_val\u001b[0m\u001b[0;34m.\u001b[0m\u001b[0mshape\u001b[0m\u001b[0;34m[\u001b[0m\u001b[0;36m1\u001b[0m\u001b[0;34m]\u001b[0m\u001b[0;34m,\u001b[0m\u001b[0;36m1\u001b[0m\u001b[0;34m)\u001b[0m\u001b[0;34m)\u001b[0m\u001b[0;34m\u001b[0m\u001b[0;34m\u001b[0m\u001b[0m\n",
      "\u001b[0;32m<__array_function__ internals>\u001b[0m in \u001b[0;36mreshape\u001b[0;34m(*args, **kwargs)\u001b[0m\n",
      "\u001b[0;32m~/.local/lib/python3.7/site-packages/numpy/core/fromnumeric.py\u001b[0m in \u001b[0;36mreshape\u001b[0;34m(a, newshape, order)\u001b[0m\n\u001b[1;32m    299\u001b[0m            [5, 6]])\n\u001b[1;32m    300\u001b[0m     \"\"\"\n\u001b[0;32m--> 301\u001b[0;31m     \u001b[0;32mreturn\u001b[0m \u001b[0m_wrapfunc\u001b[0m\u001b[0;34m(\u001b[0m\u001b[0ma\u001b[0m\u001b[0;34m,\u001b[0m \u001b[0;34m'reshape'\u001b[0m\u001b[0;34m,\u001b[0m \u001b[0mnewshape\u001b[0m\u001b[0;34m,\u001b[0m \u001b[0morder\u001b[0m\u001b[0;34m=\u001b[0m\u001b[0morder\u001b[0m\u001b[0;34m)\u001b[0m\u001b[0;34m\u001b[0m\u001b[0;34m\u001b[0m\u001b[0m\n\u001b[0m\u001b[1;32m    302\u001b[0m \u001b[0;34m\u001b[0m\u001b[0m\n\u001b[1;32m    303\u001b[0m \u001b[0;34m\u001b[0m\u001b[0m\n",
      "\u001b[0;32m~/.local/lib/python3.7/site-packages/numpy/core/fromnumeric.py\u001b[0m in \u001b[0;36m_wrapfunc\u001b[0;34m(obj, method, *args, **kwds)\u001b[0m\n\u001b[1;32m     59\u001b[0m \u001b[0;34m\u001b[0m\u001b[0m\n\u001b[1;32m     60\u001b[0m     \u001b[0;32mtry\u001b[0m\u001b[0;34m:\u001b[0m\u001b[0;34m\u001b[0m\u001b[0;34m\u001b[0m\u001b[0m\n\u001b[0;32m---> 61\u001b[0;31m         \u001b[0;32mreturn\u001b[0m \u001b[0mbound\u001b[0m\u001b[0;34m(\u001b[0m\u001b[0;34m*\u001b[0m\u001b[0margs\u001b[0m\u001b[0;34m,\u001b[0m \u001b[0;34m**\u001b[0m\u001b[0mkwds\u001b[0m\u001b[0;34m)\u001b[0m\u001b[0;34m\u001b[0m\u001b[0;34m\u001b[0m\u001b[0m\n\u001b[0m\u001b[1;32m     62\u001b[0m     \u001b[0;32mexcept\u001b[0m \u001b[0mTypeError\u001b[0m\u001b[0;34m:\u001b[0m\u001b[0;34m\u001b[0m\u001b[0;34m\u001b[0m\u001b[0m\n\u001b[1;32m     63\u001b[0m         \u001b[0;31m# A TypeError occurs if the object does have such a method in its\u001b[0m\u001b[0;34m\u001b[0m\u001b[0;34m\u001b[0m\u001b[0;34m\u001b[0m\u001b[0m\n",
      "\u001b[0;31mValueError\u001b[0m: cannot reshape array of size 156622700 into shape (82433,1,1)"
     ]
    }
   ],
   "source": [
    "X_train = np.reshape(X_train,(X_train.shape[0],X_train.shape[1],1))\n",
    "print(X_train.shape)\n",
    "X_test = np.reshape(X_test,(X_test.shape[0],X_test.shape[1],1))\n",
    "print(X_test.shape)\n",
    "X_val = np.reshape(X_val,(X_val.shape[0],X_val.shape[1],1))\n",
    "print(X_val.shape)"
   ]
  },
  {
   "cell_type": "code",
   "execution_count": 7,
   "metadata": {},
   "outputs": [
    {
     "name": "stdout",
     "output_type": "stream",
     "text": [
      "Model: \"functional_1\"\n",
      "_________________________________________________________________\n",
      "Layer (type)                 Output Shape              Param #   \n",
      "=================================================================\n",
      "input_1 (InputLayer)         [(None, 1900, 1)]         0         \n",
      "_________________________________________________________________\n",
      "conv1d (Conv1D)              (None, 1900, 512)         4096      \n",
      "_________________________________________________________________\n",
      "max_pooling1d (MaxPooling1D) (None, 633, 512)          0         \n",
      "_________________________________________________________________\n",
      "conv1d_1 (Conv1D)            (None, 633, 256)          655616    \n",
      "_________________________________________________________________\n",
      "max_pooling1d_1 (MaxPooling1 (None, 316, 256)          0         \n",
      "_________________________________________________________________\n",
      "flatten (Flatten)            (None, 80896)             0         \n",
      "_________________________________________________________________\n",
      "dense (Dense)                (None, 1211)              97966267  \n",
      "_________________________________________________________________\n",
      "dropout (Dropout)            (None, 1211)              0         \n",
      "_________________________________________________________________\n",
      "dense_1 (Dense)              (None, 1211)              1467732   \n",
      "_________________________________________________________________\n",
      "dropout_1 (Dropout)          (None, 1211)              0         \n",
      "_________________________________________________________________\n",
      "output_layer (Dense)         (None, 1)                 1212      \n",
      "=================================================================\n",
      "Total params: 100,094,923\n",
      "Trainable params: 100,094,923\n",
      "Non-trainable params: 0\n",
      "_________________________________________________________________\n"
     ]
    }
   ],
   "source": [
    "# the best Mark I\n",
    "def create_Modelbaseline():\n",
    "    x_input = Input(shape=(1900,1)) # n_timesteps, n_features\n",
    "    # Conv\n",
    "    conv = Conv1D(512, kernel_size=7, strides=1, padding='same', activation='relu')(x_input) \n",
    "    conv = MaxPooling1D(pool_size=3)(conv)\n",
    "    conv = Conv1D(256, kernel_size=5, strides=1, padding='same', activation='relu')(conv) \n",
    "    conv = MaxPooling1D(pool_size=2)(conv)\n",
    "\n",
    "    # Flatten NN\n",
    "    flat = Flatten()(conv)\n",
    "    \n",
    "    layer_3 = Dense(2432, activation='relu')(flat)\n",
    "    dropout_3 = Dropout(0.5)(layer_3)\n",
    "    layer_4 = Dense(1211, activation='relu')(dropout_3)\n",
    "    dropout_4 = Dropout(0.5)(layer_4)\n",
    "    x_output = Dense(1, activation='sigmoid', name='output_layer', kernel_regularizer=l2(0.0001))(dropout_4)\n",
    "\n",
    "    model = Model(inputs=x_input, outputs=x_output)\n",
    "    model.compile(optimizer=\"RMSprop\", loss='binary_crossentropy', metrics=['accuracy'])\n",
    "    \n",
    "    return model\n",
    "\n",
    "model = create_Modelbaseline()\n",
    "model.summary()"
   ]
  },
  {
   "cell_type": "code",
   "execution_count": 58,
   "metadata": {},
   "outputs": [
    {
     "name": "stdout",
     "output_type": "stream",
     "text": [
      "Model: \"functional_17\"\n",
      "_________________________________________________________________\n",
      "Layer (type)                 Output Shape              Param #   \n",
      "=================================================================\n",
      "input_9 (InputLayer)         [(None, 1900, 1)]         0         \n",
      "_________________________________________________________________\n",
      "conv1d_16 (Conv1D)           (None, 1900, 512)         4608      \n",
      "_________________________________________________________________\n",
      "max_pooling1d_16 (MaxPooling (None, 633, 512)          0         \n",
      "_________________________________________________________________\n",
      "conv1d_17 (Conv1D)           (None, 633, 256)          655616    \n",
      "_________________________________________________________________\n",
      "max_pooling1d_17 (MaxPooling (None, 316, 256)          0         \n",
      "_________________________________________________________________\n",
      "flatten_8 (Flatten)          (None, 80896)             0         \n",
      "_________________________________________________________________\n",
      "dense_16 (Dense)             (None, 1211)              97966267  \n",
      "_________________________________________________________________\n",
      "dropout_16 (Dropout)         (None, 1211)              0         \n",
      "_________________________________________________________________\n",
      "dense_17 (Dense)             (None, 1211)              1467732   \n",
      "_________________________________________________________________\n",
      "dropout_17 (Dropout)         (None, 1211)              0         \n",
      "_________________________________________________________________\n",
      "output_layer (Dense)         (None, 1)                 1212      \n",
      "=================================================================\n",
      "Total params: 100,095,435\n",
      "Trainable params: 100,095,435\n",
      "Non-trainable params: 0\n",
      "_________________________________________________________________\n"
     ]
    }
   ],
   "source": [
    "# n_timesteps, n_features, n_outputs = X_train.shape[2], X_train.shape[1], 1\n",
    "# nn.Conv1d with a kernel size of 1 and nn.Linear   give exactly the same results.\n",
    "\n",
    "# use in dev \n",
    "\n",
    "#SGD\n",
    "#RMSprop\n",
    "#Adam\n",
    "#Adadelta\n",
    "#Adagrad\n",
    "#Adamax\n",
    "#Nadam\n",
    "#Ftrl\n",
    "#\n",
    "#\n",
    "def create_Modelbaseline():\n",
    "    x_input = Input(shape=(1900,1)) # n_timesteps, n_features\n",
    "    # Conv\n",
    "    #conv = Conv1D(512, kernel_size=7, strides=1, padding='same', activation='relu')(x_input) \n",
    "    #conv = MaxPooling1D(pool_size=3)(conv)\n",
    "    conv = Conv1D(512, kernel_size=8, strides=1, padding='same', activation='relu')(x_input) \n",
    "    conv = MaxPooling1D(pool_size=3)(conv)\n",
    "    dropout_3 = Dropout(0.5)(layer_3)\n",
    "    conv = Conv1D(256, kernel_size=5, strides=1, padding='same', activation='relu')(conv) \n",
    "    conv = MaxPooling1D(pool_size=2)(conv)\n",
    "    dropout_3 = Dropout(0.5)(layer_3)\n",
    "   \n",
    "    # Flatten NN\n",
    "    flat = Flatten()(conv)\n",
    "    layer_3 = Dense(1211, activation='relu')(flat)\n",
    "    dropout_3 = Dropout(0.2)(layer_3)\n",
    "    layer_4 = Dense(1211, activation='relu')(dropout_3)\n",
    "    dropout_4 = Dropout(0.2)(layer_4)\n",
    "    x_output = Dense(1, activation='sigmoid', name='output_layer', kernel_regularizer=l2(0.0001))(dropout_4)\n",
    "\n",
    "    model = Model(inputs=x_input, outputs=x_output)\n",
    "    model.compile(optimizer=\"Adam\", loss='binary_crossentropy', metrics=['accuracy'])\n",
    "    \n",
    "    return model\n",
    "\n",
    "model = create_Modelbaseline()\n",
    "model.summary()"
   ]
  },
  {
   "cell_type": "code",
   "execution_count": 19,
   "metadata": {},
   "outputs": [
    {
     "name": "stdout",
     "output_type": "stream",
     "text": [
      "Model: \"functional_5\"\n",
      "_________________________________________________________________\n",
      "Layer (type)                 Output Shape              Param #   \n",
      "=================================================================\n",
      "input_3 (InputLayer)         [(None, 1900, 1)]         0         \n",
      "_________________________________________________________________\n",
      "conv1d_4 (Conv1D)            (None, 1900, 128)         2560      \n",
      "_________________________________________________________________\n",
      "max_pooling1d_4 (MaxPooling1 (None, 76, 128)           0         \n",
      "_________________________________________________________________\n",
      "conv1d_5 (Conv1D)            (None, 76, 128)           82048     \n",
      "_________________________________________________________________\n",
      "max_pooling1d_5 (MaxPooling1 (None, 19, 128)           0         \n",
      "_________________________________________________________________\n",
      "batch_normalization_4 (Batch (None, 19, 128)           512       \n",
      "_________________________________________________________________\n",
      "flatten_2 (Flatten)          (None, 2432)              0         \n",
      "_________________________________________________________________\n",
      "dense_4 (Dense)              (None, 1211)              2946363   \n",
      "_________________________________________________________________\n",
      "dropout_4 (Dropout)          (None, 1211)              0         \n",
      "_________________________________________________________________\n",
      "dense_5 (Dense)              (None, 512)               620544    \n",
      "_________________________________________________________________\n",
      "dropout_5 (Dropout)          (None, 512)               0         \n",
      "_________________________________________________________________\n",
      "output_layer (Dense)         (None, 1)                 513       \n",
      "=================================================================\n",
      "Total params: 3,652,540\n",
      "Trainable params: 3,652,284\n",
      "Non-trainable params: 256\n",
      "_________________________________________________________________\n"
     ]
    }
   ],
   "source": [
    "# create_ModelII\n",
    "## https://github.com/p-koo/learning_sequence_motifs/blob/master/code/models/cnn_25.py show best here \n",
    "def create_Modelbaseline():\n",
    "    x_input = Input(shape=(1900,1)) # n_timesteps, n_features\n",
    "    # Conv\n",
    "  #bn1 = BatchNormalization()(data)\n",
    "  #act1 = Activation('relu')(bn1)\n",
    "    \n",
    "    conv = Conv1D(128, kernel_size=19, strides=1, padding='same', activation='relu')(x_input)  # Extract whole motif pattern\n",
    "    conv = MaxPooling1D(pool_size=25)(conv)\n",
    "    conv = Conv1D(128, kernel_size=5, strides=1, padding='same', activation='relu')(conv)  # Extract extra features  \n",
    "    conv = MaxPooling1D(pool_size=4)(conv)\n",
    "    \n",
    "    x = BatchNormalization()(conv)\n",
    "   \n",
    "    # Flatten NN\n",
    "    flat = Flatten()(x)\n",
    "    layer_3 = Dense(1211, activation='relu')(flat)\n",
    "    dropout_3 = Dropout(0.5)(layer_3)\n",
    "    layer_4 = Dense(512, activation='relu')(dropout_3)\n",
    "    dropout_4 = Dropout(0.5)(layer_4)\n",
    "    x_output = Dense(1, activation='sigmoid', name='output_layer', kernel_regularizer=l1_l2(0.000001))(dropout_4)\n",
    "\n",
    "    model = Model(inputs=x_input, outputs=x_output)\n",
    "    model.compile(optimizer=\"Adam\", loss='binary_crossentropy', metrics=['accuracy'])\n",
    "    \n",
    "    return model\n",
    "\n",
    "model = create_Modelbaseline()\n",
    "model.summary()"
   ]
  },
  {
   "cell_type": "code",
   "execution_count": null,
   "metadata": {},
   "outputs": [],
   "source": [
    "# https://stackoverflow.com/questions/43237124/what-is-the-role-of-flatten-in-keras"
   ]
  },
  {
   "cell_type": "code",
   "execution_count": 8,
   "metadata": {},
   "outputs": [
    {
     "name": "stdout",
     "output_type": "stream",
     "text": [
      "Model: \"functional_1\"\n",
      "_________________________________________________________________\n",
      "Layer (type)                 Output Shape              Param #   \n",
      "=================================================================\n",
      "input_1 (InputLayer)         [(None, 1900, 1)]         0         \n",
      "_________________________________________________________________\n",
      "conv1d (Conv1D)              (None, 1900, 64)          2624      \n",
      "_________________________________________________________________\n",
      "max_pooling1d (MaxPooling1D) (None, 76, 64)            0         \n",
      "_________________________________________________________________\n",
      "conv1d_1 (Conv1D)            (None, 76, 128)           57472     \n",
      "_________________________________________________________________\n",
      "max_pooling1d_1 (MaxPooling1 (None, 19, 128)           0         \n",
      "_________________________________________________________________\n",
      "batch_normalization (BatchNo (None, 19, 128)           512       \n",
      "_________________________________________________________________\n",
      "flatten (Flatten)            (None, 2432)              0         \n",
      "_________________________________________________________________\n",
      "dense (Dense)                (None, 2432)              5917056   \n",
      "_________________________________________________________________\n",
      "batch_normalization_1 (Batch (None, 2432)              9728      \n",
      "_________________________________________________________________\n",
      "activation (Activation)      (None, 2432)              0         \n",
      "_________________________________________________________________\n",
      "dropout (Dropout)            (None, 2432)              0         \n",
      "_________________________________________________________________\n",
      "dense_1 (Dense)              (None, 1216)              2958528   \n",
      "_________________________________________________________________\n",
      "batch_normalization_2 (Batch (None, 1216)              4864      \n",
      "_________________________________________________________________\n",
      "activation_1 (Activation)    (None, 1216)              0         \n",
      "_________________________________________________________________\n",
      "dropout_1 (Dropout)          (None, 1216)              0         \n",
      "_________________________________________________________________\n",
      "output_layer (Dense)         (None, 1)                 1217      \n",
      "=================================================================\n",
      "Total params: 8,952,001\n",
      "Trainable params: 8,944,449\n",
      "Non-trainable params: 7,552\n",
      "_________________________________________________________________\n"
     ]
    }
   ],
   "source": [
    "# create_ModelIIII\n",
    "#\n",
    "\n",
    "def create_Modelbaseline():\n",
    "    x_input = Input(shape=(1900,1)) # n_timesteps, n_features\n",
    "        \n",
    "    conv = Conv1D(64, kernel_size=40, strides=1, padding='same', activation='relu')(x_input)  # Extract whole motif pattern\n",
    "    conv = MaxPooling1D(pool_size=25)(conv)\n",
    "    conv = Conv1D(128, kernel_size=7, strides=1, padding='same', activation='relu')(conv)  # Extract extra features  \n",
    "    conv = MaxPooling1D(pool_size=4)(conv)\n",
    "    \n",
    "    x = BatchNormalization()(conv)\n",
    "    x = Flatten()(x)\n",
    "    #output = GlobalMaxPooling1D()(x)\n",
    "    \n",
    "    output = Dense(2432, activation=None)(x)\n",
    "    output = BatchNormalization()(output)\n",
    "    output = Activation('relu')(output)\n",
    "    output = Dropout(0.5)(output)\n",
    "    \n",
    "    output = Dense(1216, activation=None)(output)\n",
    "    output = BatchNormalization()(output)\n",
    "    output = Activation('relu')(output)\n",
    "    output = Dropout(0.5)(output)\n",
    "    \n",
    "    x_output = Dense(1, activation='sigmoid', name='output_layer', kernel_regularizer=l1_l2(0.000001))(output)\n",
    "    model = Model(inputs=x_input, outputs=x_output)\n",
    "    model.compile(optimizer=\"Adam\", loss='binary_crossentropy', metrics=['accuracy'])\n",
    "    \n",
    "    return model\n",
    "\n",
    "model = create_Modelbaseline()\n",
    "model.summary()"
   ]
  },
  {
   "cell_type": "code",
   "execution_count": null,
   "metadata": {},
   "outputs": [],
   "source": []
  },
  {
   "cell_type": "code",
   "execution_count": 21,
   "metadata": {
    "scrolled": true
   },
   "outputs": [
    {
     "name": "stdout",
     "output_type": "stream",
     "text": [
      "WARNING:tensorflow:`period` argument is deprecated. Please use `save_freq` to specify the frequency in number of batches seen.\n",
      " Learning rate:  0.001\n",
      "Epoch 1/100\n",
      "645/645 [==============================] - 8s 13ms/step - loss: 0.3627 - accuracy: 0.8438 - val_loss: 0.4580 - val_accuracy: 0.7969\n",
      " Learning rate:  0.001\n",
      "Epoch 2/100\n",
      "645/645 [==============================] - 8s 12ms/step - loss: 0.2875 - accuracy: 0.8804 - val_loss: 0.3460 - val_accuracy: 0.8559\n",
      " Learning rate:  0.001\n",
      "Epoch 3/100\n",
      "645/645 [==============================] - 8s 12ms/step - loss: 0.2612 - accuracy: 0.8932 - val_loss: 0.3036 - val_accuracy: 0.8721\n",
      " Learning rate:  0.001\n",
      "Epoch 4/100\n",
      "645/645 [==============================] - 7s 12ms/step - loss: 0.2425 - accuracy: 0.9011 - val_loss: 0.2612 - val_accuracy: 0.8937\n",
      " Learning rate:  0.001\n",
      "Epoch 5/100\n",
      "645/645 [==============================] - 8s 12ms/step - loss: 0.2296 - accuracy: 0.9075 - val_loss: 0.3445 - val_accuracy: 0.8735\n",
      " Learning rate:  0.001\n",
      "Epoch 6/100\n",
      "645/645 [==============================] - 8s 12ms/step - loss: 0.2215 - accuracy: 0.9099 - val_loss: 0.2718 - val_accuracy: 0.8929\n",
      " Learning rate:  0.001\n",
      "Epoch 7/100\n",
      "645/645 [==============================] - 8s 12ms/step - loss: 0.2049 - accuracy: 0.9171 - val_loss: 0.2810 - val_accuracy: 0.8847\n",
      " Learning rate:  0.001\n",
      "Epoch 8/100\n",
      "645/645 [==============================] - 8s 12ms/step - loss: 0.1950 - accuracy: 0.9227 - val_loss: 0.2538 - val_accuracy: 0.8971\n",
      " Learning rate:  0.001\n",
      "Epoch 9/100\n",
      "645/645 [==============================] - 8s 12ms/step - loss: 0.1844 - accuracy: 0.9262 - val_loss: 0.2755 - val_accuracy: 0.9002\n",
      " Learning rate:  0.001\n",
      "Epoch 10/100\n",
      "645/645 [==============================] - 8s 12ms/step - loss: 0.1780 - accuracy: 0.9296 - val_loss: 0.4436 - val_accuracy: 0.8468\n",
      " Learning rate:  0.001\n",
      "Epoch 11/100\n",
      "645/645 [==============================] - 8s 12ms/step - loss: 0.2034 - accuracy: 0.9177 - val_loss: 0.2912 - val_accuracy: 0.9038\n",
      " Learning rate:  0.001\n",
      "Epoch 12/100\n",
      "645/645 [==============================] - 8s 12ms/step - loss: 0.1678 - accuracy: 0.9333 - val_loss: 0.2621 - val_accuracy: 0.9042\n",
      " Learning rate:  0.001\n",
      "Epoch 13/100\n",
      "645/645 [==============================] - 8s 12ms/step - loss: 0.1603 - accuracy: 0.9366 - val_loss: 0.4049 - val_accuracy: 0.8684\n",
      " Learning rate:  0.001\n",
      "Epoch 14/100\n",
      "645/645 [==============================] - 8s 12ms/step - loss: 0.1535 - accuracy: 0.9382 - val_loss: 0.2715 - val_accuracy: 0.9045\n",
      " Learning rate:  0.001\n",
      "Epoch 15/100\n",
      "645/645 [==============================] - 7s 12ms/step - loss: 0.1452 - accuracy: 0.9422 - val_loss: 0.3379 - val_accuracy: 0.9082\n",
      " Learning rate:  0.001\n",
      "Epoch 16/100\n",
      "645/645 [==============================] - 8s 12ms/step - loss: 0.1415 - accuracy: 0.9442 - val_loss: 0.2891 - val_accuracy: 0.8981\n",
      " Learning rate:  0.001\n",
      "Epoch 17/100\n",
      "645/645 [==============================] - 8s 12ms/step - loss: 0.1359 - accuracy: 0.9467 - val_loss: 0.2792 - val_accuracy: 0.9046\n",
      " Learning rate:  0.001\n",
      "Epoch 18/100\n",
      "645/645 [==============================] - 8s 12ms/step - loss: 0.1290 - accuracy: 0.9489 - val_loss: 0.3217 - val_accuracy: 0.9055\n",
      " Learning rate:  0.001\n",
      "Epoch 19/100\n",
      "645/645 [==============================] - 8s 12ms/step - loss: 0.1230 - accuracy: 0.9511 - val_loss: 0.3301 - val_accuracy: 0.9099\n",
      " Learning rate:  0.001\n",
      "Epoch 20/100\n",
      "645/645 [==============================] - 7s 12ms/step - loss: 0.1176 - accuracy: 0.9542 - val_loss: 0.3042 - val_accuracy: 0.8941\n",
      " Learning rate:  0.001\n",
      "Epoch 21/100\n",
      "645/645 [==============================] - 7s 12ms/step - loss: 0.1200 - accuracy: 0.9530 - val_loss: 0.2296 - val_accuracy: 0.9136\n",
      " Learning rate:  0.0001\n",
      "Epoch 22/100\n",
      "645/645 [==============================] - 8s 12ms/step - loss: 0.0770 - accuracy: 0.9696 - val_loss: 0.2602 - val_accuracy: 0.9280\n",
      " Learning rate:  0.0001\n",
      "Epoch 23/100\n",
      "645/645 [==============================] - 8s 12ms/step - loss: 0.0646 - accuracy: 0.9753 - val_loss: 0.2908 - val_accuracy: 0.9298\n",
      " Learning rate:  0.0001\n",
      "Epoch 24/100\n",
      "645/645 [==============================] - 8s 12ms/step - loss: 0.0584 - accuracy: 0.9776 - val_loss: 0.2881 - val_accuracy: 0.9280\n",
      " Learning rate:  0.0001\n",
      "Epoch 25/100\n",
      "645/645 [==============================] - 8s 12ms/step - loss: 0.0533 - accuracy: 0.9798 - val_loss: 0.2864 - val_accuracy: 0.9285\n",
      " Learning rate:  0.0001\n",
      "Epoch 26/100\n",
      "645/645 [==============================] - 8s 12ms/step - loss: 0.0504 - accuracy: 0.9804 - val_loss: 0.3137 - val_accuracy: 0.9297\n",
      " Learning rate:  0.0001\n",
      "Epoch 27/100\n",
      "645/645 [==============================] - 7s 12ms/step - loss: 0.0480 - accuracy: 0.9819 - val_loss: 0.3312 - val_accuracy: 0.9281\n",
      " Learning rate:  0.0001\n",
      "Epoch 28/100\n",
      "645/645 [==============================] - 7s 12ms/step - loss: 0.0444 - accuracy: 0.9837 - val_loss: 0.3336 - val_accuracy: 0.9298\n",
      " Learning rate:  0.0001\n",
      "Epoch 29/100\n",
      "645/645 [==============================] - 8s 12ms/step - loss: 0.0425 - accuracy: 0.9840 - val_loss: 0.3345 - val_accuracy: 0.9310\n",
      " Learning rate:  0.0001\n",
      "Epoch 30/100\n",
      "645/645 [==============================] - 7s 12ms/step - loss: 0.0399 - accuracy: 0.9852 - val_loss: 0.3469 - val_accuracy: 0.9304\n",
      " Learning rate:  0.0001\n",
      "Epoch 31/100\n",
      "645/645 [==============================] - 8s 12ms/step - loss: 0.0388 - accuracy: 0.9858 - val_loss: 0.3597 - val_accuracy: 0.9310\n",
      " Learning rate:  0.0001\n",
      "Epoch 32/100\n",
      "645/645 [==============================] - 7s 11ms/step - loss: 0.0372 - accuracy: 0.9862 - val_loss: 0.3865 - val_accuracy: 0.9295\n",
      " Learning rate:  0.0001\n",
      "Epoch 33/100\n",
      "645/645 [==============================] - 7s 12ms/step - loss: 0.0364 - accuracy: 0.9872 - val_loss: 0.3313 - val_accuracy: 0.9303\n",
      " Learning rate:  0.0001\n",
      "Epoch 34/100\n",
      "645/645 [==============================] - 8s 12ms/step - loss: 0.0353 - accuracy: 0.9875 - val_loss: 0.3669 - val_accuracy: 0.9305\n",
      " Learning rate:  0.0001\n",
      "Epoch 35/100\n",
      "645/645 [==============================] - 8s 12ms/step - loss: 0.0332 - accuracy: 0.9884 - val_loss: 0.3970 - val_accuracy: 0.9309\n",
      " Learning rate:  0.0001\n",
      "Epoch 36/100\n",
      "645/645 [==============================] - 7s 12ms/step - loss: 0.0323 - accuracy: 0.9887 - val_loss: 0.3607 - val_accuracy: 0.9302\n",
      " Learning rate:  0.0001\n",
      "Epoch 37/100\n",
      "645/645 [==============================] - 7s 12ms/step - loss: 0.0304 - accuracy: 0.9891 - val_loss: 0.4385 - val_accuracy: 0.9283\n",
      " Learning rate:  0.0001\n",
      "Epoch 38/100\n",
      "645/645 [==============================] - 8s 12ms/step - loss: 0.0289 - accuracy: 0.9901 - val_loss: 0.3957 - val_accuracy: 0.9292\n",
      " Learning rate:  0.0001\n",
      "Epoch 39/100\n",
      "645/645 [==============================] - 8s 12ms/step - loss: 0.0300 - accuracy: 0.9897 - val_loss: 0.4555 - val_accuracy: 0.9298\n",
      " Learning rate:  0.0001\n",
      "Epoch 40/100\n",
      "645/645 [==============================] - 8s 12ms/step - loss: 0.0278 - accuracy: 0.9912 - val_loss: 0.3921 - val_accuracy: 0.9290\n",
      " Learning rate:  0.0001\n",
      "Epoch 41/100\n",
      "645/645 [==============================] - 7s 12ms/step - loss: 0.0300 - accuracy: 0.9901 - val_loss: 0.3717 - val_accuracy: 0.9305\n",
      "Epoch 00041: early stopping\n"
     ]
    }
   ],
   "source": [
    "checkpoint = ModelCheckpoint(\"/mnt/vdb/thesis/CustomCNN.Adam.v4.h5\", monitor='loss', verbose=1,\n",
    "    save_best_only=True, mode='auto', period=1)\n",
    "\n",
    "# Early Stopping\n",
    "es = EarlyStopping(monitor='val_loss', patience=20, verbose=1)\n",
    "\n",
    "#learning rate decay\n",
    "lr_scheduler = LearningRateScheduler(lr_schedule)\n",
    "\n",
    "history = model.fit(X_train, y_train, epochs=100,\n",
    "                    batch_size=128, validation_data=(X_val, y_val),\n",
    "                    callbacks=[es, lr_scheduler], verbose=1)"
   ]
  },
  {
   "cell_type": "code",
   "execution_count": 25,
   "metadata": {},
   "outputs": [],
   "source": [
    "model.save('/mnt/vdb/thesis/CustomCNN.Adam.III.V5.h5') "
   ]
  },
  {
   "cell_type": "code",
   "execution_count": 22,
   "metadata": {},
   "outputs": [
    {
     "name": "stdout",
     "output_type": "stream",
     "text": [
      "2577/2577 [==============================] - 6s 2ms/step - loss: 0.0143 - accuracy: 0.9968\n",
      "Train loss:  0.014292317442595959\n",
      "Train accuracy:  0.9968095421791077\n",
      "----------------------------------------------------------------------\n",
      "859/859 [==============================] - 2s 2ms/step - loss: 0.3717 - accuracy: 0.9305\n",
      "Val loss:  0.3716603219509125\n",
      "Val accuracy:  0.9305262565612793\n",
      "----------------------------------------------------------------------\n",
      "859/859 [==============================] - 2s 2ms/step - loss: 0.4053 - accuracy: 0.9254\n",
      "Test loss:  0.40525904297828674\n",
      "Test accuracy:  0.9253948330879211\n"
     ]
    }
   ],
   "source": [
    "display_model_score(model,\n",
    "    [X_train, y_train],\n",
    "    [X_val, y_val],\n",
    "    [X_test, y_test])"
   ]
  },
  {
   "cell_type": "code",
   "execution_count": 23,
   "metadata": {},
   "outputs": [
    {
     "data": {
      "image/png": "[encoded data removed]",
      "text/plain": [
       "<Figure size 864x360 with 2 Axes>"
      ]
     },
     "metadata": {
      "needs_background": "light"
     },
     "output_type": "display_data"
    }
   ],
   "source": [
    "plot_history(history)"
   ]
  },
  {
   "cell_type": "code",
   "execution_count": 24,
   "metadata": {},
   "outputs": [
    {
     "name": "stdout",
     "output_type": "stream",
     "text": [
      "              precision    recall  f1-score   support\n",
      "\n",
      "           0       0.93      0.92      0.93     13856\n",
      "           1       0.92      0.93      0.92     13622\n",
      "\n",
      "    accuracy                           0.93     27478\n",
      "   macro avg       0.93      0.93      0.93     27478\n",
      "weighted avg       0.93      0.93      0.93     27478\n",
      "\n"
     ]
    }
   ],
   "source": [
    "y_probas = model.predict(X_test)\n",
    "threshold = 0.5\n",
    "y_predict = np.where(y_probas > threshold, 1, 0)\n",
    "print(classification_report(y_test, y_predict))"
   ]
  },
  {
   "cell_type": "code",
   "execution_count": 12,
   "metadata": {},
   "outputs": [
    {
     "name": "stdout",
     "output_type": "stream",
     "text": [
      "              precision    recall  f1-score   support\n",
      "\n",
      "           0       0.95      0.94      0.95     21596\n",
      "           1       0.94      0.95      0.95     21260\n",
      "\n",
      "    accuracy                           0.95     42856\n",
      "   macro avg       0.95      0.95      0.95     42856\n",
      "weighted avg       0.95      0.95      0.95     42856\n",
      "\n"
     ]
    }
   ],
   "source": [
    "# Markk III\n",
    "y_probas = model.predict(X_test)\n",
    "threshold = 0.5\n",
    "y_predict = np.where(y_probas > threshold, 1, 0)\n",
    "print(classification_report(y_test, y_predict))"
   ]
  },
  {
   "cell_type": "code",
   "execution_count": null,
   "metadata": {},
   "outputs": [],
   "source": [
    "y_probas = model.predict(X_test)\n",
    "threshold = 0.5\n",
    "y_predict = np.where(y_probas > threshold, 1, 0)\n",
    "print(classification_report(y_test, y_predict))"
   ]
  },
  {
   "cell_type": "code",
   "execution_count": 20,
   "metadata": {},
   "outputs": [
    {
     "name": "stdout",
     "output_type": "stream",
     "text": [
      "              precision    recall  f1-score   support\n",
      "\n",
      "           0       0.92      0.96      0.94     22886\n",
      "           1       0.95      0.91      0.93     22400\n",
      "\n",
      "    accuracy                           0.93     45286\n",
      "   macro avg       0.94      0.93      0.93     45286\n",
      "weighted avg       0.93      0.93      0.93     45286\n",
      "\n"
     ]
    }
   ],
   "source": [
    "# 11/3/2021\n",
    "y_probas = model.predict(X_test)\n",
    "threshold = 0.5\n",
    "y_predict = np.where(y_probas > threshold, 1, 0)\n",
    "\n",
    "print(classification_report(y_test, y_predict))"
   ]
  },
  {
   "cell_type": "code",
   "execution_count": 62,
   "metadata": {},
   "outputs": [
    {
     "name": "stdout",
     "output_type": "stream",
     "text": [
      "              precision    recall  f1-score   support\n",
      "\n",
      "           0       0.95      0.96      0.96     25564\n",
      "           1       0.96      0.95      0.95     25244\n",
      "\n",
      "    accuracy                           0.95     50808\n",
      "   macro avg       0.95      0.95      0.95     50808\n",
      "weighted avg       0.95      0.95      0.95     50808\n",
      "\n"
     ]
    }
   ],
   "source": [
    "# the best\n",
    "y_probas = model.predict(X_test)\n",
    "threshold = 0.5\n",
    "y_predict = np.where(y_probas > threshold, 1, 0)\n",
    "\n",
    "print(classification_report(y_test, y_predict))"
   ]
  },
  {
   "cell_type": "markdown",
   "metadata": {},
   "source": [
    "# PWM "
   ]
  },
  {
   "cell_type": "markdown",
   "metadata": {},
   "source": [
    "## 1D COV"
   ]
  },
  {
   "cell_type": "code",
   "execution_count": 5,
   "metadata": {},
   "outputs": [],
   "source": [
    "# For 400 dimension\n",
    "Y1 =np.array([0] * 68869 + [1] * 68520)\n",
    "X_train, X_test, y_train, y_test = train_test_split(AMPs_df, Y1, test_size=0.2, random_state=42)\n",
    "X_train, X_val, y_train, y_val = train_test_split(X_train, y_train, test_size=0.25, random_state=1)"
   ]
  },
  {
   "cell_type": "code",
   "execution_count": 18,
   "metadata": {},
   "outputs": [
    {
     "name": "stdout",
     "output_type": "stream",
     "text": [
      "Model: \"functional_5\"\n",
      "_________________________________________________________________\n",
      "Layer (type)                 Output Shape              Param #   \n",
      "=================================================================\n",
      "input_3 (InputLayer)         [(None, 400, 1)]          0         \n",
      "_________________________________________________________________\n",
      "conv1d_4 (Conv1D)            (None, 400, 64)           2624      \n",
      "_________________________________________________________________\n",
      "max_pooling1d_4 (MaxPooling1 (None, 16, 64)            0         \n",
      "_________________________________________________________________\n",
      "conv1d_5 (Conv1D)            (None, 16, 128)           57472     \n",
      "_________________________________________________________________\n",
      "max_pooling1d_5 (MaxPooling1 (None, 4, 128)            0         \n",
      "_________________________________________________________________\n",
      "batch_normalization_6 (Batch (None, 4, 128)            512       \n",
      "_________________________________________________________________\n",
      "flatten_2 (Flatten)          (None, 512)               0         \n",
      "_________________________________________________________________\n",
      "dense_4 (Dense)              (None, 2432)              1247616   \n",
      "_________________________________________________________________\n",
      "batch_normalization_7 (Batch (None, 2432)              9728      \n",
      "_________________________________________________________________\n",
      "activation_4 (Activation)    (None, 2432)              0         \n",
      "_________________________________________________________________\n",
      "dropout_4 (Dropout)          (None, 2432)              0         \n",
      "_________________________________________________________________\n",
      "dense_5 (Dense)              (None, 1216)              2958528   \n",
      "_________________________________________________________________\n",
      "batch_normalization_8 (Batch (None, 1216)              4864      \n",
      "_________________________________________________________________\n",
      "activation_5 (Activation)    (None, 1216)              0         \n",
      "_________________________________________________________________\n",
      "dropout_5 (Dropout)          (None, 1216)              0         \n",
      "_________________________________________________________________\n",
      "output_layer (Dense)         (None, 1)                 1217      \n",
      "=================================================================\n",
      "Total params: 4,282,561\n",
      "Trainable params: 4,275,009\n",
      "Non-trainable params: 7,552\n",
      "_________________________________________________________________\n"
     ]
    }
   ],
   "source": [
    "def create_Modelbaseline():\n",
    "    x_input = Input(shape=(400,1)) # n_timesteps, n_features\n",
    "        \n",
    "    conv = Conv1D(64, kernel_size=40, strides=1, padding='same', activation='relu')(x_input)  # Extract whole motif pattern\n",
    "    conv = MaxPooling1D(pool_size=25)(conv)\n",
    "    conv = Conv1D(128, kernel_size=7, strides=1, padding='same', activation='relu')(conv)  # Extract extra features  \n",
    "    conv = MaxPooling1D(pool_size=4)(conv)\n",
    "    \n",
    "    x = BatchNormalization()(conv)\n",
    "    x = Flatten()(x)\n",
    "    #output = GlobalMaxPooling1D()(x)\n",
    "    \n",
    "    output = Dense(2432, activation=None)(x)\n",
    "    output = BatchNormalization()(output)\n",
    "    output = Activation('relu')(output)\n",
    "    output = Dropout(0.5)(output)\n",
    "    \n",
    "    output = Dense(1216, activation=None)(output)\n",
    "    output = BatchNormalization()(output)\n",
    "    output = Activation('relu')(output)\n",
    "    output = Dropout(0.5)(output)\n",
    "    \n",
    "    x_output = Dense(1, activation='sigmoid', name='output_layer', kernel_regularizer=l1_l2(0.000001))(output)\n",
    "    model = Model(inputs=x_input, outputs=x_output)\n",
    "    model.compile(optimizer=\"Adam\", loss='binary_crossentropy', metrics=['accuracy'])\n",
    "    \n",
    "    return model\n",
    "\n",
    "model = create_Modelbaseline()\n",
    "model.summary()"
   ]
  },
  {
   "cell_type": "code",
   "execution_count": 20,
   "metadata": {
    "scrolled": true,
    "tags": []
   },
   "outputs": [
    {
     "name": "stdout",
     "output_type": "stream",
     "text": [
      " Learning rate:  0.001\n",
      "Epoch 1/100\n",
      "406/406 [==============================] - 2s 5ms/step - loss: 0.5011 - accuracy: 0.7619 - val_loss: 7.2520 - val_accuracy: 0.4977\n",
      " Learning rate:  0.001\n",
      "Epoch 2/100\n",
      "406/406 [==============================] - 2s 5ms/step - loss: 0.4400 - accuracy: 0.7935 - val_loss: 101.3334 - val_accuracy: 0.4977\n",
      " Learning rate:  0.001\n",
      "Epoch 3/100\n",
      "406/406 [==============================] - 2s 5ms/step - loss: 0.4240 - accuracy: 0.8018 - val_loss: 9.9513 - val_accuracy: 0.4977\n",
      " Learning rate:  0.001\n",
      "Epoch 4/100\n",
      "406/406 [==============================] - 2s 5ms/step - loss: 0.4123 - accuracy: 0.8100 - val_loss: 8.3450 - val_accuracy: 0.5023\n",
      " Learning rate:  0.001\n",
      "Epoch 5/100\n",
      "406/406 [==============================] - 2s 5ms/step - loss: 0.4152 - accuracy: 0.8065 - val_loss: 23.2572 - val_accuracy: 0.4977\n",
      " Learning rate:  0.001\n",
      "Epoch 6/100\n",
      "406/406 [==============================] - 2s 5ms/step - loss: 0.4029 - accuracy: 0.8137 - val_loss: 20.0470 - val_accuracy: 0.4977\n",
      " Learning rate:  0.001\n",
      "Epoch 7/100\n",
      "406/406 [==============================] - 2s 5ms/step - loss: 0.3968 - accuracy: 0.8175 - val_loss: 1.7497 - val_accuracy: 0.4981\n",
      " Learning rate:  0.001\n",
      "Epoch 8/100\n",
      "406/406 [==============================] - 2s 5ms/step - loss: 0.3974 - accuracy: 0.8170 - val_loss: 2.1949 - val_accuracy: 0.5372\n",
      " Learning rate:  0.001\n",
      "Epoch 9/100\n",
      "406/406 [==============================] - 2s 5ms/step - loss: 0.3915 - accuracy: 0.8187 - val_loss: 200.8496 - val_accuracy: 0.4977\n",
      " Learning rate:  0.001\n",
      "Epoch 10/100\n",
      "406/406 [==============================] - 2s 5ms/step - loss: 0.3859 - accuracy: 0.8240 - val_loss: 21.7277 - val_accuracy: 0.4977\n",
      " Learning rate:  0.001\n",
      "Epoch 11/100\n",
      "406/406 [==============================] - 2s 5ms/step - loss: 0.3780 - accuracy: 0.8284 - val_loss: 215.3075 - val_accuracy: 0.4977\n",
      " Learning rate:  0.001\n",
      "Epoch 12/100\n",
      "406/406 [==============================] - 2s 5ms/step - loss: 0.3757 - accuracy: 0.8293 - val_loss: 141.7180 - val_accuracy: 0.4977\n",
      " Learning rate:  0.001\n",
      "Epoch 13/100\n",
      "406/406 [==============================] - 2s 5ms/step - loss: 0.3766 - accuracy: 0.8290 - val_loss: 214.3690 - val_accuracy: 0.4977\n",
      " Learning rate:  0.001\n",
      "Epoch 14/100\n",
      "406/406 [==============================] - 2s 5ms/step - loss: 0.3723 - accuracy: 0.8330 - val_loss: 99.7368 - val_accuracy: 0.4977\n",
      " Learning rate:  0.001\n",
      "Epoch 15/100\n",
      "406/406 [==============================] - 2s 5ms/step - loss: 0.3672 - accuracy: 0.8356 - val_loss: 8.0336 - val_accuracy: 0.4977\n",
      " Learning rate:  0.001\n",
      "Epoch 16/100\n",
      "406/406 [==============================] - 2s 5ms/step - loss: 0.3656 - accuracy: 0.8359 - val_loss: 14.4169 - val_accuracy: 0.4977\n",
      " Learning rate:  0.001\n",
      "Epoch 17/100\n",
      "406/406 [==============================] - 2s 5ms/step - loss: 0.3643 - accuracy: 0.8368 - val_loss: 0.6826 - val_accuracy: 0.6381\n",
      " Learning rate:  0.001\n",
      "Epoch 18/100\n",
      "406/406 [==============================] - 2s 5ms/step - loss: 0.3582 - accuracy: 0.8392 - val_loss: 203.8054 - val_accuracy: 0.4977\n",
      " Learning rate:  0.001\n",
      "Epoch 19/100\n",
      "406/406 [==============================] - 2s 5ms/step - loss: 0.3906 - accuracy: 0.8222 - val_loss: 187.8255 - val_accuracy: 0.4977\n",
      " Learning rate:  0.001\n",
      "Epoch 20/100\n",
      "406/406 [==============================] - 2s 5ms/step - loss: 0.3707 - accuracy: 0.8345 - val_loss: 303.0520 - val_accuracy: 0.4977\n",
      " Learning rate:  0.001\n",
      "Epoch 21/100\n",
      "406/406 [==============================] - 2s 5ms/step - loss: 0.3640 - accuracy: 0.8382 - val_loss: 8.4117 - val_accuracy: 0.5031\n",
      " Learning rate:  0.0001\n",
      "Epoch 22/100\n",
      "406/406 [==============================] - 2s 5ms/step - loss: 0.3459 - accuracy: 0.8469 - val_loss: 6.6372 - val_accuracy: 0.4977\n",
      " Learning rate:  0.0001\n",
      "Epoch 23/100\n",
      "406/406 [==============================] - 2s 5ms/step - loss: 0.3397 - accuracy: 0.8493 - val_loss: 5.8899 - val_accuracy: 0.4977\n",
      " Learning rate:  0.0001\n",
      "Epoch 24/100\n",
      "406/406 [==============================] - 2s 5ms/step - loss: 0.3377 - accuracy: 0.8529 - val_loss: 42.0879 - val_accuracy: 0.4977\n",
      " Learning rate:  0.0001\n",
      "Epoch 25/100\n",
      "406/406 [==============================] - 2s 5ms/step - loss: 0.3350 - accuracy: 0.8527 - val_loss: 2.9405 - val_accuracy: 0.4978\n",
      " Learning rate:  0.0001\n",
      "Epoch 26/100\n",
      "406/406 [==============================] - 2s 5ms/step - loss: 0.3323 - accuracy: 0.8541 - val_loss: 1.9151 - val_accuracy: 0.5098\n",
      " Learning rate:  0.0001\n",
      "Epoch 27/100\n",
      "406/406 [==============================] - 2s 5ms/step - loss: 0.3281 - accuracy: 0.8572 - val_loss: 13.9938 - val_accuracy: 0.4977\n",
      "Epoch 00027: early stopping\n"
     ]
    }
   ],
   "source": [
    "\n",
    "# Early Stopping\n",
    "es = EarlyStopping(monitor='val_loss', patience=10, verbose=1)\n",
    "\n",
    "#learning rate decay\n",
    "lr_scheduler = LearningRateScheduler(lr_schedule)\n",
    "\n",
    "## balance data\n",
    "history = model.fit(X_train, y_train, epochs=100,\n",
    "                    batch_size=128, validation_data=(X_val, y_val),\n",
    "                    callbacks=[es, lr_scheduler], verbose=1)"
   ]
  },
  {
   "cell_type": "code",
   "execution_count": 21,
   "metadata": {},
   "outputs": [
    {
     "name": "stdout",
     "output_type": "stream",
     "text": [
      "1622/1622 [==============================] - 3s 2ms/step - loss: 13.9586 - accuracy: 0.4991\n",
      "Train loss:  13.95862102508545\n",
      "Train accuracy:  0.49906501173973083\n",
      "----------------------------------------------------------------------\n",
      "541/541 [==============================] - 1s 2ms/step - loss: 13.9938 - accuracy: 0.4977\n",
      "Val loss:  13.993794441223145\n",
      "Val accuracy:  0.497744619846344\n",
      "----------------------------------------------------------------------\n",
      "541/541 [==============================] - 1s 2ms/step - loss: 13.8105 - accuracy: 0.5046\n",
      "Test loss:  13.810529708862305\n",
      "Test accuracy:  0.5046263933181763\n",
      "              precision    recall  f1-score   support\n",
      "\n",
      "           0       0.50      1.00      0.67      8726\n",
      "           1       0.00      0.00      0.00      8566\n",
      "\n",
      "    accuracy                           0.50     17292\n",
      "   macro avg       0.25      0.50      0.34     17292\n",
      "weighted avg       0.25      0.50      0.34     17292\n",
      "\n"
     ]
    },
    {
     "name": "stderr",
     "output_type": "stream",
     "text": [
      "/home/ubuntu/miniconda3/envs/py3/lib/python3.7/site-packages/sklearn/metrics/_classification.py:1245: UndefinedMetricWarning: Precision and F-score are ill-defined and being set to 0.0 in labels with no predicted samples. Use `zero_division` parameter to control this behavior.\n",
      "  _warn_prf(average, modifier, msg_start, len(result))\n",
      "/home/ubuntu/miniconda3/envs/py3/lib/python3.7/site-packages/sklearn/metrics/_classification.py:1245: UndefinedMetricWarning: Precision and F-score are ill-defined and being set to 0.0 in labels with no predicted samples. Use `zero_division` parameter to control this behavior.\n",
      "  _warn_prf(average, modifier, msg_start, len(result))\n",
      "/home/ubuntu/miniconda3/envs/py3/lib/python3.7/site-packages/sklearn/metrics/_classification.py:1245: UndefinedMetricWarning: Precision and F-score are ill-defined and being set to 0.0 in labels with no predicted samples. Use `zero_division` parameter to control this behavior.\n",
      "  _warn_prf(average, modifier, msg_start, len(result))\n"
     ]
    }
   ],
   "source": [
    "display_model_score(model,\n",
    "    [X_train, y_train],\n",
    "    [X_val, y_val],\n",
    "    [X_test, y_test])\n",
    "# the best\n",
    "y_probas = model.predict(X_test)\n",
    "threshold = 0.5\n",
    "y_predict = np.where(y_probas > threshold, 1, 0)\n",
    "\n",
    "print(classification_report(y_test, y_predict))"
   ]
  },
  {
   "cell_type": "code",
   "execution_count": 22,
   "metadata": {},
   "outputs": [
    {
     "data": {
      "image/png": "[encoded data removed]",
      "text/plain": [
       "<Figure size 864x360 with 2 Axes>"
      ]
     },
     "metadata": {
      "needs_background": "light"
     },
     "output_type": "display_data"
    }
   ],
   "source": [
    "plot_history(history)"
   ]
  },
  {
   "cell_type": "code",
   "execution_count": 11,
   "metadata": {},
   "outputs": [],
   "source": [
    "model.save('/mnt/vdb/thesis/CustomCNN.Adam.V6.set_9.h5')"
   ]
  },
  {
   "cell_type": "markdown",
   "metadata": {},
   "source": [
    "## 2D Conv"
   ]
  },
  {
   "cell_type": "code",
   "execution_count": 52,
   "metadata": {
    "id": "EkmqGqfUT0XR"
   },
   "outputs": [],
   "source": [
    "# For PWM -400 dimension\n",
    "window_sizes = 20\n",
    "\n",
    "X = AMPs_df[:,0:window_sizes*20].reshape(len(AMPs_df),1,20,window_sizes)\n",
    "Y = np.array([0] * 68869 + [1] * 68520) # <-- change here\n",
    "X_train, X_test, y_train, y_test = train_test_split(X,Y, test_size=0.2, random_state=1)\n",
    "X_train, X_val, y_train, y_val = train_test_split(X_train, y_train, test_size=0.25, random_state=1)"
   ]
  },
  {
   "cell_type": "code",
   "execution_count": null,
   "metadata": {},
   "outputs": [],
   "source": [
    "# https://github.com/khanhlee/snare-cnn/blob/master/snare_classification.py\n",
    "\n",
    "num_features = 400\n",
    "nb_classes = 2\n",
    "nb_kernels = 3\n",
    "nb_pools = 2\n",
    "\n",
    "def cnn_model():\n",
    "    model = Sequential()\n",
    "    \n",
    "    model.add(ZeroPadding2D((1,1), input_shape = (1,20,window_sizes)))\n",
    "    model.add(Conv2D(32, (nb_kernels, nb_kernels)))\n",
    "    model.add(Activation('relu'))\n",
    "    model.add(MaxPooling2D(pool_size=(nb_pools, nb_pools), data_format=\"channels_first\"))\n",
    "    \n",
    "    model.add(ZeroPadding2D((1,1)))\n",
    "    model.add(Conv2D(64, (nb_kernels, nb_kernels)))\n",
    "    model.add(Activation('relu'))\n",
    "    model.add(MaxPooling2D(pool_size=(nb_pools, nb_pools), data_format=\"channels_first\"))\n",
    "    \n",
    "    model.add(ZeroPadding2D((1,1)))\n",
    "    model.add(Conv2D(128, (nb_kernels, nb_kernels)))\n",
    "    model.add(Activation('relu'))\n",
    "    model.add(MaxPooling2D(pool_size=(nb_pools, nb_pools), data_format=\"channels_first\"))\n",
    "    \n",
    "    model.add(ZeroPadding2D((1,1)))\n",
    "    model.add(Conv2D(256, (nb_kernels, nb_kernels)))\n",
    "    model.add(Activation('relu'))\n",
    "    model.add(MaxPooling2D(pool_size=(nb_pools, nb_pools), data_format=\"channels_first\"))\n",
    "\n",
    "    #model.add(Conv2D(32, (nb_kernels, nb_kernels), padding=\"same\", input_shape=(1,20,window_sizes)))\n",
    "    #model.add(Activation('relu'))\n",
    "    #model.add(MaxPooling2D(strides=(nb_pools, nb_pools), data_format=\"channels_first\"))\n",
    "    \n",
    "    #model.add(Conv2D(64, (nb_kernels, nb_kernels), padding=\"same\" ))\n",
    "    #model.add(Activation('relu'))\n",
    "    #model.add(MaxPooling2D(strides=(nb_pools, nb_pools), data_format=\"channels_first\"))\n",
    "    \n",
    "    #model.add(Conv2D(128, (nb_kernels, nb_kernels), padding=\"same\"))\n",
    "    #model.add(Activation('relu'))\n",
    "    #model.add(MaxPooling2D(strides=(nb_pools, nb_pools), data_format=\"channels_first\"))\n",
    "\n",
    "    #model.add(Conv2D(256, (nb_kernels, nb_kernels), padding=\"same\"))\n",
    "    #model.add(Activation('relu'))\n",
    "    #model.add(MaxPooling2D(strides=(nb_pools, nb_pools), data_format=\"channels_first\"))\n",
    "\n",
    "    ## add the model on top of the convolutional base\n",
    "    #model.add(top_model)\n",
    "    model.add(Flatten())\n",
    "    model.add(Dropout(0.1))\n",
    "    model.add(Dense(256))\n",
    "    #model.add(BatchNormalization())\n",
    "    model.add(Activation('relu'))\n",
    "    #model.add(Dropout(0.5))\n",
    "\n",
    "    model.add(  Dense(1, activation='sigmoid', name='output_layer', kernel_regularizer=l1_l2(0.000001)))\n",
    "    #model.add(BatchNormalization())\n",
    "\n",
    "    # f = open('model_summary.txt','w')\n",
    "    # f.write(str(model.summary()))\n",
    "    # f.close()\n",
    "\n",
    "    #model.compile(loss='categorical_crossentropy', optimizer='adadelta')\n",
    "    # Compile model\n",
    "    model.compile(loss='binary_crossentropy', optimizer='adam', metrics=['accuracy'])\n",
    "    return model\n",
    "model = cnn_model()\n",
    "#model.summary()"
   ]
  },
  {
   "cell_type": "code",
   "execution_count": 95,
   "metadata": {},
   "outputs": [
    {
     "name": "stdout",
     "output_type": "stream",
     "text": [
      "Model: \"functional_3\"\n",
      "_________________________________________________________________\n",
      "Layer (type)                 Output Shape              Param #   \n",
      "=================================================================\n",
      "input_9 (InputLayer)         [(None, 1, 20, 20)]       0         \n",
      "_________________________________________________________________\n",
      "conv2d_79 (Conv2D)           (None, 64, 20, 20)        1664      \n",
      "_________________________________________________________________\n",
      "max_pooling2d_73 (MaxPooling (None, 64, 19, 19)        0         \n",
      "_________________________________________________________________\n",
      "conv2d_80 (Conv2D)           (None, 128, 19, 19)       73856     \n",
      "_________________________________________________________________\n",
      "max_pooling2d_74 (MaxPooling (None, 128, 18, 18)       0         \n",
      "_________________________________________________________________\n",
      "batch_normalization_3 (Batch (None, 128, 18, 18)       72        \n",
      "_________________________________________________________________\n",
      "flatten_18 (Flatten)         (None, 41472)             0         \n",
      "_________________________________________________________________\n",
      "dense_25 (Dense)             (None, 1000)              41473000  \n",
      "_________________________________________________________________\n",
      "batch_normalization_4 (Batch (None, 1000)              4000      \n",
      "_________________________________________________________________\n",
      "activation_95 (Activation)   (None, 1000)              0         \n",
      "_________________________________________________________________\n",
      "dropout_19 (Dropout)         (None, 1000)              0         \n",
      "_________________________________________________________________\n",
      "dense_26 (Dense)             (None, 512)               512512    \n",
      "_________________________________________________________________\n",
      "batch_normalization_5 (Batch (None, 512)               2048      \n",
      "_________________________________________________________________\n",
      "activation_96 (Activation)   (None, 512)               0         \n",
      "_________________________________________________________________\n",
      "dropout_20 (Dropout)         (None, 512)               0         \n",
      "_________________________________________________________________\n",
      "output_layer (Dense)         (None, 1)                 513       \n",
      "=================================================================\n",
      "Total params: 42,067,665\n",
      "Trainable params: 42,064,605\n",
      "Non-trainable params: 3,060\n",
      "_________________________________________________________________\n"
     ]
    }
   ],
   "source": [
    "# Mark III\n",
    "def create_Modelbaseline():\n",
    "    x_input = Input(shape=(1,20,window_sizes)) # n_timesteps, n_features\n",
    "        \n",
    "    conv = Conv2D(64, kernel_size=(5,5), strides=(1,1) , padding='same', activation='relu', data_format=\"channels_first\")(x_input)  # Extract whole motif pattern\n",
    "    conv = MaxPooling2D(pool_size=(2,2), strides=(1,1) , data_format=\"channels_first\") (conv)\n",
    "    conv = Conv2D(128, kernel_size=(3,3), strides=(1,1)  , padding='same', activation='relu', data_format=\"channels_first\")(conv)  # Extract extra features  \n",
    "    conv = MaxPooling2D(pool_size=(2,2) , strides=(1,1)  , data_format=\"channels_first\")(conv)\n",
    "    \n",
    "    x = BatchNormalization()(conv)\n",
    "    x = Flatten()(x)\n",
    "    #output = GlobalMaxPooling1D()(x)\n",
    "    \n",
    "    output = Dense(1000, activation=None)(x)\n",
    "    output = BatchNormalization()(output)\n",
    "    output = Activation('relu')(output)\n",
    "    output = Dropout(0.5)(output)\n",
    "    \n",
    "    output = Dense(512, activation=None)(output)\n",
    "    output = BatchNormalization()(output)\n",
    "    output = Activation('relu')(output)\n",
    "    output = Dropout(0.5)(output)\n",
    "    \n",
    "    x_output = Dense(1, activation='sigmoid', name='output_layer', kernel_regularizer=l1_l2(0.000001))(output)\n",
    "    model = Model(inputs=x_input, outputs=x_output)\n",
    "    model.compile(optimizer=\"Adam\", loss='binary_crossentropy', metrics=['accuracy'])\n",
    "    \n",
    "    return model\n",
    "\n",
    "model = create_Modelbaseline()\n",
    "model.summary()"
   ]
  },
  {
   "cell_type": "code",
   "execution_count": 96,
   "metadata": {
    "scrolled": true,
    "tags": []
   },
   "outputs": [
    {
     "name": "stdout",
     "output_type": "stream",
     "text": [
      " Learning rate:  0.001\n",
      "Epoch 1/100\n",
      "645/645 [==============================] - 7s 11ms/step - loss: 0.5055 - accuracy: 0.7669 - val_loss: 0.4115 - val_accuracy: 0.8144\n",
      " Learning rate:  0.001\n",
      "Epoch 2/100\n",
      "645/645 [==============================] - 7s 11ms/step - loss: 0.3977 - accuracy: 0.8252 - val_loss: 0.3720 - val_accuracy: 0.8417\n",
      " Learning rate:  0.001\n",
      "Epoch 3/100\n",
      "645/645 [==============================] - 7s 11ms/step - loss: 0.3623 - accuracy: 0.8447 - val_loss: 0.3477 - val_accuracy: 0.8500\n",
      " Learning rate:  0.001\n",
      "Epoch 4/100\n",
      "645/645 [==============================] - 7s 11ms/step - loss: 0.3407 - accuracy: 0.8551 - val_loss: 0.3420 - val_accuracy: 0.8538\n",
      " Learning rate:  0.001\n",
      "Epoch 5/100\n",
      "645/645 [==============================] - 7s 11ms/step - loss: 0.3223 - accuracy: 0.8652 - val_loss: 0.3201 - val_accuracy: 0.8641\n",
      " Learning rate:  0.001\n",
      "Epoch 6/100\n",
      "645/645 [==============================] - 7s 11ms/step - loss: 0.3057 - accuracy: 0.8727 - val_loss: 0.3111 - val_accuracy: 0.8720\n",
      " Learning rate:  0.001\n",
      "Epoch 7/100\n",
      "645/645 [==============================] - 7s 11ms/step - loss: 0.2920 - accuracy: 0.8795 - val_loss: 0.2944 - val_accuracy: 0.8787\n",
      " Learning rate:  0.001\n",
      "Epoch 8/100\n",
      "645/645 [==============================] - 7s 11ms/step - loss: 0.2774 - accuracy: 0.8850 - val_loss: 0.2967 - val_accuracy: 0.8784\n",
      " Learning rate:  0.001\n",
      "Epoch 9/100\n",
      "645/645 [==============================] - 7s 11ms/step - loss: 0.2659 - accuracy: 0.8906 - val_loss: 0.2886 - val_accuracy: 0.8838\n",
      " Learning rate:  0.001\n",
      "Epoch 10/100\n",
      "645/645 [==============================] - 7s 11ms/step - loss: 0.2530 - accuracy: 0.8966 - val_loss: 0.2924 - val_accuracy: 0.8822\n",
      " Learning rate:  0.001\n",
      "Epoch 11/100\n",
      "645/645 [==============================] - 7s 11ms/step - loss: 0.2404 - accuracy: 0.9026 - val_loss: 0.2764 - val_accuracy: 0.8902\n",
      " Learning rate:  0.001\n",
      "Epoch 12/100\n",
      "645/645 [==============================] - 7s 11ms/step - loss: 0.2285 - accuracy: 0.9078 - val_loss: 0.2817 - val_accuracy: 0.8875\n",
      " Learning rate:  0.001\n",
      "Epoch 13/100\n",
      "645/645 [==============================] - 7s 11ms/step - loss: 0.2160 - accuracy: 0.9133 - val_loss: 0.2689 - val_accuracy: 0.8942\n",
      " Learning rate:  0.001\n",
      "Epoch 14/100\n",
      "645/645 [==============================] - 7s 11ms/step - loss: 0.2023 - accuracy: 0.9191 - val_loss: 0.2738 - val_accuracy: 0.8932\n",
      " Learning rate:  0.001\n",
      "Epoch 15/100\n",
      "645/645 [==============================] - 7s 11ms/step - loss: 0.1921 - accuracy: 0.9237 - val_loss: 0.2742 - val_accuracy: 0.8951\n",
      " Learning rate:  0.001\n",
      "Epoch 16/100\n",
      "645/645 [==============================] - 7s 11ms/step - loss: 0.1803 - accuracy: 0.9291 - val_loss: 0.2703 - val_accuracy: 0.8975\n",
      " Learning rate:  0.001\n",
      "Epoch 17/100\n",
      "645/645 [==============================] - 7s 11ms/step - loss: 0.1689 - accuracy: 0.9333 - val_loss: 0.2790 - val_accuracy: 0.8978\n",
      " Learning rate:  0.001\n",
      "Epoch 18/100\n",
      "645/645 [==============================] - 7s 11ms/step - loss: 0.1600 - accuracy: 0.9379 - val_loss: 0.2784 - val_accuracy: 0.8990\n",
      " Learning rate:  0.001\n",
      "Epoch 19/100\n",
      "645/645 [==============================] - 7s 11ms/step - loss: 0.1511 - accuracy: 0.9415 - val_loss: 0.2944 - val_accuracy: 0.8981\n",
      " Learning rate:  0.001\n",
      "Epoch 20/100\n",
      "645/645 [==============================] - 7s 11ms/step - loss: 0.1417 - accuracy: 0.9455 - val_loss: 0.3030 - val_accuracy: 0.8939\n",
      " Learning rate:  0.001\n",
      "Epoch 21/100\n",
      "645/645 [==============================] - 7s 11ms/step - loss: 0.1318 - accuracy: 0.9495 - val_loss: 0.2900 - val_accuracy: 0.9016\n",
      " Learning rate:  0.0001\n",
      "Epoch 22/100\n",
      "645/645 [==============================] - 7s 11ms/step - loss: 0.1021 - accuracy: 0.9625 - val_loss: 0.2977 - val_accuracy: 0.9049\n",
      " Learning rate:  0.0001\n",
      "Epoch 23/100\n",
      "645/645 [==============================] - 7s 11ms/step - loss: 0.0892 - accuracy: 0.9681 - val_loss: 0.3067 - val_accuracy: 0.9069\n",
      "Epoch 00023: early stopping\n"
     ]
    }
   ],
   "source": [
    "\n",
    "# Early Stopping\n",
    "es = EarlyStopping(monitor='val_loss', patience=10, verbose=1)\n",
    "\n",
    "#learning rate decay\n",
    "lr_scheduler = LearningRateScheduler(lr_schedule)\n",
    "\n",
    "## balance data\n",
    "history = model.fit(X_train, y_train, epochs=100,\n",
    "                    batch_size=128, validation_data=(X_val, y_val),\n",
    "                    callbacks=[es, lr_scheduler], verbose=1)"
   ]
  },
  {
   "cell_type": "code",
   "execution_count": 97,
   "metadata": {},
   "outputs": [
    {
     "name": "stdout",
     "output_type": "stream",
     "text": [
      "2577/2577 [==============================] - 5s 2ms/step - loss: 0.0524 - accuracy: 0.9843\n",
      "Train loss:  0.052420176565647125\n",
      "Train accuracy:  0.9843388199806213\n",
      "----------------------------------------------------------------------\n",
      "859/859 [==============================] - 2s 2ms/step - loss: 0.3067 - accuracy: 0.9069\n",
      "Val loss:  0.3066624402999878\n",
      "Val accuracy:  0.906907320022583\n",
      "----------------------------------------------------------------------\n",
      "859/859 [==============================] - 2s 2ms/step - loss: 0.3040 - accuracy: 0.9078\n",
      "Test loss:  0.3039868474006653\n",
      "Test accuracy:  0.9077807664871216\n"
     ]
    }
   ],
   "source": [
    "display_model_score(model,\n",
    "    [X_train, y_train],\n",
    "    [X_val, y_val],\n",
    "    [X_test, y_test])"
   ]
  },
  {
   "cell_type": "code",
   "execution_count": 98,
   "metadata": {},
   "outputs": [
    {
     "name": "stdout",
     "output_type": "stream",
     "text": [
      "              precision    recall  f1-score   support\n",
      "\n",
      "           0       0.92      0.90      0.91     13820\n",
      "           1       0.90      0.92      0.91     13658\n",
      "\n",
      "    accuracy                           0.91     27478\n",
      "   macro avg       0.91      0.91      0.91     27478\n",
      "weighted avg       0.91      0.91      0.91     27478\n",
      "\n"
     ]
    }
   ],
   "source": [
    "# the best\n",
    "y_probas = model.predict(X_test)\n",
    "threshold = 0.5\n",
    "y_predict = np.where(y_probas > threshold, 1, 0)\n",
    "\n",
    "print(classification_report(y_test, y_predict))"
   ]
  },
  {
   "cell_type": "code",
   "execution_count": 99,
   "metadata": {},
   "outputs": [
    {
     "data": {
      "image/png": "[encoded data removed]",
      "text/plain": [
       "<Figure size 864x360 with 2 Axes>"
      ]
     },
     "metadata": {
      "needs_background": "light"
     },
     "output_type": "display_data"
    }
   ],
   "source": [
    "plot_history(history)"
   ]
  },
  {
   "cell_type": "code",
   "execution_count": 25,
   "metadata": {},
   "outputs": [],
   "source": [
    "model.save('/mnt/vdb/thesis/CustomCNN.Adam.V6.h5')"
   ]
  },
  {
   "cell_type": "markdown",
   "metadata": {},
   "source": [
    "## Training set2"
   ]
  },
  {
   "cell_type": "code",
   "execution_count": 46,
   "metadata": {},
   "outputs": [
    {
     "name": "stdout",
     "output_type": "stream",
     "text": [
      "(56611, 1900, 1)\n",
      "(3556, 1900, 1)\n",
      "(14153, 1900, 1)\n"
     ]
    }
   ],
   "source": [
    "import pickle5 as pickle\n",
    "with open( \"/mnt/vdb/thesis/trainingset2/set9/jax/AMPNonAMP.reps\", 'rb') as file:\n",
    "    AMPNonAMP_df = pickle.load(file)\n",
    "with open( \"/mnt/vdb/thesis/trainingset2/benchmark_set/jax/AMPNonAMP.benchmark_set.reps\", 'rb') as file:\n",
    "    benchmark_AMPs_df = pickle.load(file)\n",
    "    \n",
    "X_train = np.array(AMPNonAMP_df['reps'].to_list())\n",
    "y_train = np.array(AMPNonAMP_df['class'].to_list())\n",
    "X_test = np.array(benchmark_AMPs_df[\"reps\"].to_list())\n",
    "y_test = np.array( benchmark_AMPs_df[\"class\"].to_list())\n",
    "\n",
    "X_train, X_val, y_train, y_val = train_test_split(X_train, y_train, test_size=0.2, random_state=42)\n",
    "\n",
    "X_train = np.reshape(X_train,(X_train.shape[0],X_train.shape[1],1))\n",
    "print(X_train.shape)\n",
    "X_test = np.reshape(X_test,(X_test.shape[0],X_test.shape[1],1))\n",
    "print(X_test.shape)\n",
    "X_val = np.reshape(X_val,(X_val.shape[0],X_val.shape[1],1))\n",
    "print(X_val.shape)"
   ]
  },
  {
   "cell_type": "code",
   "execution_count": 51,
   "metadata": {},
   "outputs": [
    {
     "name": "stdout",
     "output_type": "stream",
     "text": [
      "(56620, 400, 1)\n",
      "(3556, 400, 1)\n",
      "(14155, 400, 1)\n"
     ]
    }
   ],
   "source": [
    "with open( \"/mnt/vdb/thesis/trainingset2/set9/pssm/AMP/AMP.pssm.plk\", 'rb') as file:\n",
    "    AMPs_df = pickle.load(file)\n",
    "AMPs_df[\"class\"] = 0\n",
    "with open( \"/mnt/vdb/thesis/trainingset2/set9/pssm/nonAMP/nonAMP.pssm.plk\", 'rb') as file:\n",
    "    nonAMPs_df = pickle.load(file)   \n",
    "nonAMPs_df[\"class\"] = 1\n",
    "\n",
    "AMPNonAMP_df = pd.concat([AMPs_df, nonAMPs_df], ignore_index=True)\n",
    "\n",
    "#AMPs_df = AMPs_df[AMPs_df[\"length\"] <= 300 ]\n",
    "with open( \"../datasets/thesis/trainingset2/benchmark_set/AMPnonAMP.pssm.pkl\", 'rb') as file:\n",
    "    benchmark_AMPs_df = pickle.load(file)\n",
    "    \n",
    "X_train = np.array(AMPNonAMP_df['reps'].to_list())\n",
    "y_train = np.array(AMPNonAMP_df['class'].to_list())\n",
    "X_test = np.array(benchmark_AMPs_df[\"reps\"].to_list())\n",
    "y_test = np.array( benchmark_AMPs_df[\"class\"].to_list())\n",
    "X_train, X_val, y_train, y_val = train_test_split(X_train, y_train, test_size=0.2, random_state=42)\n",
    "\n",
    "X_train = np.reshape(X_train,(X_train.shape[0],X_train.shape[1],1))\n",
    "print(X_train.shape)\n",
    "X_test = np.reshape(X_test,(X_test.shape[0],X_test.shape[1],1))\n",
    "print(X_test.shape)\n",
    "X_val = np.reshape(X_val,(X_val.shape[0],X_val.shape[1],1))\n",
    "print(X_val.shape)"
   ]
  },
  {
   "cell_type": "code",
   "execution_count": null,
   "metadata": {},
   "outputs": [],
   "source": [
    "    conv = Conv1D(64, kernel_size=7, strides=1, padding='same', activation='relu')(x_input)  # Extract whole motif pattern\n",
    "    conv = MaxPooling1D(pool_size=3)(conv)\n",
    "    conv = Conv1D(128, kernel_size=5, strides=1, padding='same', activation='relu')(conv)  # Extract extra features  \n",
    "    conv = MaxPooling1D(pool_size=2)(conv)"
   ]
  },
  {
   "cell_type": "code",
   "execution_count": 35,
   "metadata": {},
   "outputs": [],
   "source": [
    "def create_Modelbaseline_jax():\n",
    "    x_input = Input(shape=(1900,1)) # n_timesteps, n_features\n",
    "        \n",
    "    conv = Conv1D(64, kernel_size=40, strides=1, padding='same', activation='relu')(x_input)  # Extract whole motif pattern\n",
    "    conv = MaxPooling1D(pool_size=25)(conv)\n",
    "    conv = Conv1D(128, kernel_size=7, strides=1, padding='same', activation='relu')(conv)  # Extract extra features  \n",
    "    conv = MaxPooling1D(pool_size=4)(conv)\n",
    "    \n",
    "    x = BatchNormalization()(conv)\n",
    "    x = Flatten()(x)\n",
    "    #output = GlobalMaxPooling1D()(x)\n",
    "    \n",
    "    output = Dense(1211, activation=None)(x)\n",
    "    output = BatchNormalization()(output)\n",
    "    output = Activation('relu')(output)\n",
    "    output = Dropout(0.5)(output)\n",
    "    \n",
    "    output = Dense(1211, activation=None)(output)\n",
    "    output = BatchNormalization()(output)\n",
    "    output = Activation('relu')(output)\n",
    "    output = Dropout(0.5)(output)\n",
    "    \n",
    "    x_output = Dense(1, activation='sigmoid', name='output_layer', kernel_regularizer=l1_l2(0.000001))(output)\n",
    "    model = Model(inputs=x_input, outputs=x_output)\n",
    "    model.compile(optimizer=\"Adam\", loss='binary_crossentropy', metrics=['accuracy'])\n",
    "    \n",
    "    return model\n",
    "\n",
    "def create_Modelbaseline():\n",
    "    #x_input = Input(shape=(1900,1)) # n_timesteps, n_features\n",
    "    x_input = Input(shape=(400,1))    \n",
    "    conv = Conv1D(64, kernel_size=7, strides=1, padding='same', activation='relu')(x_input)  # Extract whole motif pattern\n",
    "    conv = MaxPooling1D(pool_size=3)(conv)\n",
    "    conv = Conv1D(128, kernel_size=5, strides=1, padding='same', activation='relu')(conv)  # Extract extra features  \n",
    "    conv = MaxPooling1D(pool_size=2)(conv)\n",
    "    \n",
    "    x = BatchNormalization()(conv)\n",
    "    x = Flatten()(x)\n",
    "    #output = GlobalMaxPooling1D()(x)\n",
    "    \n",
    "    output = Dense(1211, activation=None)(x)\n",
    "    output = BatchNormalization()(output)\n",
    "    output = Activation('relu')(output)\n",
    "    output = Dropout(0.5)(output)\n",
    "    \n",
    "    output = Dense(1211, activation=None)(output)\n",
    "    output = BatchNormalization()(output)\n",
    "    output = Activation('relu')(output)\n",
    "    output = Dropout(0.5)(output)\n",
    "    \n",
    "    x_output = Dense(1, activation='sigmoid', name='output_layer', kernel_regularizer=l1_l2(0.000001))(output)\n",
    "    model = Model(inputs=x_input, outputs=x_output)\n",
    "    model.compile(optimizer=\"Adam\", loss='binary_crossentropy', metrics=['accuracy'])\n",
    "    \n",
    "    return model\n",
    "\n",
    "#model = create_Modelbaseline()\n",
    "#model.summary()"
   ]
  },
  {
   "cell_type": "code",
   "execution_count": 37,
   "metadata": {
    "scrolled": true,
    "tags": []
   },
   "outputs": [
    {
     "name": "stdout",
     "output_type": "stream",
     "text": [
      "Epoch 1/100\n",
      "443/443 [==============================] - 4s 9ms/step - loss: 0.3784 - accuracy: 0.8441 - val_loss: 0.4777 - val_accuracy: 0.8401\n",
      "Epoch 2/100\n",
      "443/443 [==============================] - 4s 8ms/step - loss: 0.3082 - accuracy: 0.8697 - val_loss: 0.3650 - val_accuracy: 0.8174\n",
      "Epoch 3/100\n",
      "443/443 [==============================] - 4s 8ms/step - loss: 0.2902 - accuracy: 0.8782 - val_loss: 0.3368 - val_accuracy: 0.8574\n",
      "Epoch 4/100\n",
      "443/443 [==============================] - 4s 8ms/step - loss: 0.2796 - accuracy: 0.8829 - val_loss: 0.6603 - val_accuracy: 0.7610\n",
      "Epoch 5/100\n",
      "443/443 [==============================] - 4s 8ms/step - loss: 0.2691 - accuracy: 0.8878 - val_loss: 0.4990 - val_accuracy: 0.7989\n",
      "Epoch 6/100\n",
      "443/443 [==============================] - 4s 8ms/step - loss: 0.2589 - accuracy: 0.8928 - val_loss: 0.3741 - val_accuracy: 0.8289\n",
      "Epoch 7/100\n",
      "443/443 [==============================] - 4s 8ms/step - loss: 0.2547 - accuracy: 0.8947 - val_loss: 0.3345 - val_accuracy: 0.8501\n",
      "Epoch 8/100\n",
      "443/443 [==============================] - 4s 8ms/step - loss: 0.2455 - accuracy: 0.8985 - val_loss: 0.2906 - val_accuracy: 0.8773\n",
      "Epoch 9/100\n",
      "443/443 [==============================] - 4s 8ms/step - loss: 0.2379 - accuracy: 0.9022 - val_loss: 0.4671 - val_accuracy: 0.8200\n",
      "Epoch 10/100\n",
      "443/443 [==============================] - 4s 8ms/step - loss: 0.2315 - accuracy: 0.9034 - val_loss: 0.3013 - val_accuracy: 0.8737\n",
      "Epoch 11/100\n",
      "443/443 [==============================] - 4s 8ms/step - loss: 0.2245 - accuracy: 0.9091 - val_loss: 0.3535 - val_accuracy: 0.8555\n",
      "Epoch 12/100\n",
      "443/443 [==============================] - 4s 8ms/step - loss: 0.2171 - accuracy: 0.9115 - val_loss: 0.3324 - val_accuracy: 0.8573\n",
      "Epoch 13/100\n",
      "443/443 [==============================] - 4s 8ms/step - loss: 0.2129 - accuracy: 0.9130 - val_loss: 0.3259 - val_accuracy: 0.8656\n",
      "Epoch 14/100\n",
      "443/443 [==============================] - 4s 8ms/step - loss: 0.2068 - accuracy: 0.9154 - val_loss: 0.4179 - val_accuracy: 0.8513\n",
      "Epoch 15/100\n",
      "443/443 [==============================] - 4s 8ms/step - loss: 0.2005 - accuracy: 0.9184 - val_loss: 0.3193 - val_accuracy: 0.8611\n",
      "Epoch 16/100\n",
      "443/443 [==============================] - 4s 8ms/step - loss: 0.1959 - accuracy: 0.9204 - val_loss: 0.3360 - val_accuracy: 0.8684\n",
      "Epoch 17/100\n",
      "443/443 [==============================] - 4s 8ms/step - loss: 0.1877 - accuracy: 0.9250 - val_loss: 0.3282 - val_accuracy: 0.8762\n",
      "Epoch 18/100\n",
      "443/443 [==============================] - 4s 8ms/step - loss: 0.1841 - accuracy: 0.9256 - val_loss: 0.3206 - val_accuracy: 0.8674\n",
      "Epoch 19/100\n",
      "443/443 [==============================] - 4s 8ms/step - loss: 0.1780 - accuracy: 0.9287 - val_loss: 0.3667 - val_accuracy: 0.8596\n",
      "Epoch 20/100\n",
      "443/443 [==============================] - 4s 8ms/step - loss: 0.1732 - accuracy: 0.9315 - val_loss: 0.3900 - val_accuracy: 0.8667\n",
      "Epoch 21/100\n",
      "443/443 [==============================] - 4s 8ms/step - loss: 0.1677 - accuracy: 0.9325 - val_loss: 0.3327 - val_accuracy: 0.8796\n",
      "Epoch 22/100\n",
      "443/443 [==============================] - 4s 8ms/step - loss: 0.1319 - accuracy: 0.9493 - val_loss: 0.3332 - val_accuracy: 0.8881\n",
      "Epoch 23/100\n",
      "443/443 [==============================] - 4s 8ms/step - loss: 0.1170 - accuracy: 0.9555 - val_loss: 0.3641 - val_accuracy: 0.8848\n",
      "Epoch 00023: early stopping\n"
     ]
    }
   ],
   "source": [
    "model = create_Modelbaseline_jax()\n",
    "# Early Stopping\n",
    "es = EarlyStopping(monitor='val_loss', patience=15, verbose=1)\n",
    "\n",
    "#learning rate decay\n",
    "lr_scheduler = LearningRateScheduler(lr_schedule)\n",
    "\n",
    "## balance data\n",
    "history = model.fit(X_train, y_train, epochs=100,\n",
    "                    batch_size=128, validation_data=(X_val, y_val),\n",
    "                    callbacks=[es, lr_scheduler], verbose=1)"
   ]
  },
  {
   "cell_type": "markdown",
   "metadata": {},
   "source": [
    "## JAX -Result"
   ]
  },
  {
   "cell_type": "code",
   "execution_count": 38,
   "metadata": {},
   "outputs": [
    {
     "name": "stdout",
     "output_type": "stream",
     "text": [
      "              precision    recall  f1-score   support\n",
      "\n",
      "           0       0.77      0.96      0.85      1778\n",
      "           1       0.94      0.71      0.81      1778\n",
      "\n",
      "    accuracy                           0.83      3556\n",
      "   macro avg       0.85      0.83      0.83      3556\n",
      "weighted avg       0.85      0.83      0.83      3556\n",
      "\n"
     ]
    }
   ],
   "source": [
    "y_probas = model.predict(X_test)\n",
    "threshold = 0.5\n",
    "y_predict = np.where(y_probas > threshold, 1, 0)\n",
    "\n",
    "print(classification_report(y_test, y_predict))"
   ]
  },
  {
   "cell_type": "code",
   "execution_count": 22,
   "metadata": {},
   "outputs": [
    {
     "name": "stdout",
     "output_type": "stream",
     "text": [
      "              precision    recall  f1-score   support\n",
      "\n",
      "           0       0.82      0.88      0.85      1778\n",
      "           1       0.87      0.80      0.84      1778\n",
      "\n",
      "    accuracy                           0.84      3556\n",
      "   macro avg       0.85      0.84      0.84      3556\n",
      "weighted avg       0.85      0.84      0.84      3556\n",
      "\n"
     ]
    }
   ],
   "source": [
    "# the best\n",
    "y_probas = model.predict(X_test)\n",
    "threshold = 0.5\n",
    "y_predict = np.where(y_probas > threshold, 1, 0)\n",
    "\n",
    "print(classification_report(y_test, y_predict))"
   ]
  },
  {
   "cell_type": "code",
   "execution_count": 23,
   "metadata": {},
   "outputs": [
    {
     "data": {
      "image/png": "[encoded data removed]",
      "text/plain": [
       "<Figure size 864x360 with 2 Axes>"
      ]
     },
     "metadata": {
      "needs_background": "light"
     },
     "output_type": "display_data"
    }
   ],
   "source": [
    "plot_history(history)"
   ]
  },
  {
   "cell_type": "code",
   "execution_count": 24,
   "metadata": {},
   "outputs": [
    {
     "data": {
      "image/png": "[encoded data removed]",
      "text/plain": [
       "<Figure size 432x288 with 1 Axes>"
      ]
     },
     "metadata": {
      "needs_background": "light"
     },
     "output_type": "display_data"
    },
    {
     "data": {
      "image/png": "[encoded data removed]",
      "text/plain": [
       "<Figure size 432x288 with 1 Axes>"
      ]
     },
     "metadata": {
      "needs_background": "light"
     },
     "output_type": "display_data"
    }
   ],
   "source": [
    "create_roc_curve(y_test,y_probas)\n",
    "# plot precision-recall curves\n",
    "plot_pr_curve(y_test, y_probas)"
   ]
  },
  {
   "cell_type": "code",
   "execution_count": 52,
   "metadata": {},
   "outputs": [],
   "source": [
    "from sklearn.model_selection import KFold\n",
    "from sklearn.metrics import accuracy_score\n",
    "from sklearn.metrics import precision_score\n",
    "from sklearn.metrics import recall_score\n",
    "from sklearn.metrics import f1_score\n",
    "from sklearn.metrics import roc_auc_score\n",
    "\n",
    "\n",
    "inputs = np.concatenate((X_train, X_val), axis=0)\n",
    "targets = np.concatenate((y_train, y_val), axis=0)"
   ]
  },
  {
   "cell_type": "code",
   "execution_count": 50,
   "metadata": {},
   "outputs": [
    {
     "name": "stdout",
     "output_type": "stream",
     "text": [
      "------------------------------------------------------------------------\n",
      "Training for fold 1 ...\n",
      "Epoch 00022: early stopping\n",
      "Score for fold 1: loss of 0.41078993678092957; accuracy of 83.77390503883362%\n",
      "Accuracy: 0.837739\n",
      "Precision: 0.837739\n",
      "Recall: 0.856805\n",
      "F1 score: 0.835542\n",
      "------------------------------------------------------------------------\n",
      "Training for fold 2 ...\n",
      "Epoch 00032: early stopping\n",
      "Score for fold 2: loss of 0.49693983793258667; accuracy of 83.01462531089783%\n",
      "Accuracy: 0.830146\n",
      "Precision: 0.830146\n",
      "Recall: 0.852742\n",
      "F1 score: 0.827382\n",
      "------------------------------------------------------------------------\n",
      "Training for fold 3 ...\n",
      "Epoch 00034: early stopping\n",
      "Score for fold 3: loss of 0.5766687989234924; accuracy of 81.72103762626648%\n",
      "Accuracy: 0.817210\n",
      "Precision: 0.817210\n",
      "Recall: 0.844214\n",
      "F1 score: 0.813554\n",
      "------------------------------------------------------------------------\n",
      "Training for fold 4 ...\n",
      "Epoch 00023: early stopping\n",
      "Score for fold 4: loss of 0.47706183791160583; accuracy of 83.183354139328%\n",
      "Accuracy: 0.831834\n",
      "Precision: 0.831834\n",
      "Recall: 0.851842\n",
      "F1 score: 0.829408\n",
      "------------------------------------------------------------------------\n",
      "Training for fold 5 ...\n",
      "Epoch 00018: early stopping\n",
      "Score for fold 5: loss of 0.3050723075866699; accuracy of 88.0764901638031%\n",
      "Accuracy: 0.880765\n",
      "Precision: 0.880765\n",
      "Recall: 0.883643\n",
      "F1 score: 0.880541\n",
      "------------------------------------------------------------------------\n",
      "Score per fold\n",
      "------------------------------------------------------------------------\n",
      "> Fold 1 - Loss: 0.41078993678092957 - Accuracy: 83.77390503883362%\n",
      "------------------------------------------------------------------------\n",
      "> Fold 2 - Loss: 0.49693983793258667 - Accuracy: 83.01462531089783%\n",
      "------------------------------------------------------------------------\n",
      "> Fold 3 - Loss: 0.5766687989234924 - Accuracy: 81.72103762626648%\n",
      "------------------------------------------------------------------------\n",
      "> Fold 4 - Loss: 0.47706183791160583 - Accuracy: 83.183354139328%\n",
      "------------------------------------------------------------------------\n",
      "> Fold 5 - Loss: 0.3050723075866699 - Accuracy: 88.0764901638031%\n",
      "------------------------------------------------------------------------\n",
      "Average scores for all folds:\n",
      "> Accuracy: 83.9538824558258 (+- 2.1674778009573243)\n",
      "> Pecision: 83.95388076490438 (+- 2.16747883449177)\n",
      "> Recall: 85.78490680560175 (+- 1.3524062582728456)\n",
      "> F1: 83.7285349948713 (+- 2.279209816103531)\n",
      "> Loss: 0.4533065438270569\n",
      "------------------------------------------------------------------------\n"
     ]
    }
   ],
   "source": [
    "\n",
    "# Define per-fold score containers\n",
    "acc_per_fold = []\n",
    "loss_per_fold = []\n",
    "_precision = []\n",
    "_recal = []\n",
    "_f1 = []\n",
    "_auc_pr = []\n",
    "_roc_pr = []\n",
    "# Define the K-fold Cross Validator\n",
    "kfold = KFold(n_splits=5, shuffle=True)\n",
    "\n",
    "# K-fold Cross Validation model evaluation\n",
    "fold_no = 1\n",
    "for train_index, test_index  in kfold.split(inputs, targets):\n",
    "    \n",
    "    X_train= inputs[train_index]\n",
    "    y_train= targets[train_index]\n",
    "    X_val=  inputs[test_index]\n",
    "    y_val = targets[test_index]\n",
    "    # Early Stopping\n",
    "    es = EarlyStopping(monitor='val_loss', patience=15, verbose=1)\n",
    "\n",
    "    #learning rate decay\n",
    "    lr_scheduler = LearningRateScheduler(lr_schedule)\n",
    "    model = create_Modelbaseline_jax()\n",
    "    # Generate a print\n",
    "    print('------------------------------------------------------------------------')\n",
    "    print(f'Training for fold {fold_no} ...')\n",
    "\n",
    "    # Fit data to model\n",
    "    history = model.fit(X_train, y_train, epochs=100,batch_size=128,\n",
    "                        validation_data=(X_val, y_val),\n",
    "                        callbacks=[es, lr_scheduler], verbose=0)\n",
    "\n",
    "    # Generate generalization metrics\n",
    "    scores = model.evaluate(X_test, y_test, verbose=0)\n",
    "    print(f'Score for fold {fold_no}: {model.metrics_names[0]} of {scores[0]}; {model.metrics_names[1]} of {scores[1]*100}%')\n",
    "    \n",
    "    # predict probabilities for test set\n",
    "    y_probas = model.predict(X_test)\n",
    "    threshold = 0.5\n",
    "    y_predict = np.where(y_probas > threshold, 1, 0)\n",
    "\n",
    "    # accuracy: (tp + tn) / (p + n)\n",
    "    accuracy = accuracy_score(y_predict, y_test)\n",
    "    print('Accuracy: %f' % accuracy)\n",
    "    # precision tp / (tp + fp)\n",
    "    precision = (precision_score(y_predict,y_test, pos_label= 1)+precision_score(y_predict,y_test , pos_label= 0))*0.5\n",
    "    print('Precision: %f' % precision)\n",
    "    # recall: tp / (tp + fn)\n",
    "    recall = (recall_score(y_predict,y_test, pos_label= 1)+recall_score(y_predict,y_test , pos_label= 0))*0.5\n",
    "    print('Recall: %f' % recall)\n",
    "    # f1: 2 tp / (2 tp + fp + fn)\n",
    "    f1 =  (f1_score(y_predict,y_test, pos_label= 1)+f1_score(y_predict,y_test , pos_label= 0))*0.5\n",
    "    print('F1 score: %f' % f1)\n",
    "    \n",
    "    acc_per_fold.append(scores[1] * 100)\n",
    "    loss_per_fold.append(scores[0])  \n",
    "    _precision.append(precision * 100)  \n",
    "    _recal.append(recall * 100)  \n",
    "    _f1.append(f1 * 100)  \n",
    " \n",
    "    # Increase fold number\n",
    "    fold_no = fold_no + 1\n",
    "\n",
    "# == Provide average scores ==\n",
    "print('------------------------------------------------------------------------')\n",
    "print('Score per fold')\n",
    "for i in range(0, len(acc_per_fold)):\n",
    "  print('------------------------------------------------------------------------')\n",
    "  print(f'> Fold {i+1} - Loss: {loss_per_fold[i]} - Accuracy: {acc_per_fold[i]}%')\n",
    "print('------------------------------------------------------------------------')\n",
    "print('Average scores for all folds:')\n",
    "print(f'> Accuracy: {np.mean(acc_per_fold)} (+- {np.std(acc_per_fold)})')\n",
    "print(f'> Pecision: {np.mean(_precision)} (+- {np.std(_precision)})')\n",
    "print(f'> Recall: {np.mean(_recal)} (+- {np.std(_recal)})')\n",
    "print(f'> F1: {np.mean(_f1)} (+- {np.std(_f1)})')\n",
    "print(f'> Loss: {np.mean(loss_per_fold)}')\n",
    "print('------------------------------------------------------------------------')"
   ]
  },
  {
   "cell_type": "markdown",
   "metadata": {},
   "source": [
    "## PSSM Result"
   ]
  },
  {
   "cell_type": "code",
   "execution_count": 29,
   "metadata": {},
   "outputs": [
    {
     "name": "stdout",
     "output_type": "stream",
     "text": [
      "              precision    recall  f1-score   support\n",
      "\n",
      "           0       0.52      0.95      0.67      1778\n",
      "           1       0.71      0.11      0.20      1778\n",
      "\n",
      "    accuracy                           0.53      3556\n",
      "   macro avg       0.61      0.53      0.43      3556\n",
      "weighted avg       0.61      0.53      0.43      3556\n",
      "\n"
     ]
    }
   ],
   "source": [
    "# the best\n",
    "y_probas = model.predict(X_test)\n",
    "threshold = 0.5\n",
    "y_predict = np.where(y_probas > threshold, 1, 0)\n",
    "\n",
    "print(classification_report(y_test, y_predict))"
   ]
  },
  {
   "cell_type": "code",
   "execution_count": 34,
   "metadata": {},
   "outputs": [
    {
     "name": "stdout",
     "output_type": "stream",
     "text": [
      "              precision    recall  f1-score   support\n",
      "\n",
      "           0       0.56      0.93      0.70      1778\n",
      "           1       0.80      0.28      0.41      1778\n",
      "\n",
      "    accuracy                           0.60      3556\n",
      "   macro avg       0.68      0.60      0.56      3556\n",
      "weighted avg       0.68      0.60      0.56      3556\n",
      "\n"
     ]
    }
   ],
   "source": [
    "# the best\n",
    "y_probas = model.predict(X_test)\n",
    "threshold = 0.5\n",
    "y_predict = np.where(y_probas > threshold, 1, 0)\n",
    "\n",
    "print(classification_report(y_test, y_predict))"
   ]
  },
  {
   "cell_type": "code",
   "execution_count": 36,
   "metadata": {},
   "outputs": [
    {
     "data": {
      "image/png": "[encoded data removed]",
      "text/plain": [
       "<Figure size 432x288 with 1 Axes>"
      ]
     },
     "metadata": {
      "needs_background": "light"
     },
     "output_type": "display_data"
    },
    {
     "data": {
      "image/png": "[encoded data removed]",
      "text/plain": [
       "<Figure size 432x288 with 1 Axes>"
      ]
     },
     "metadata": {
      "needs_background": "light"
     },
     "output_type": "display_data"
    },
    {
     "data": {
      "image/png": "[encoded data removed]",
      "text/plain": [
       "<Figure size 864x360 with 2 Axes>"
      ]
     },
     "metadata": {
      "needs_background": "light"
     },
     "output_type": "display_data"
    }
   ],
   "source": [
    "create_roc_curve(y_test,y_probas)\n",
    "# plot precision-recall curves\n",
    "plot_pr_curve(y_test, y_probas)\n",
    "plot_history(history)"
   ]
  },
  {
   "cell_type": "code",
   "execution_count": 38,
   "metadata": {},
   "outputs": [],
   "source": [
    "score = model.evaluate(X_test, y_test, verbose=0)"
   ]
  },
  {
   "cell_type": "code",
   "execution_count": 40,
   "metadata": {},
   "outputs": [
    {
     "data": {
      "image/png": "[encoded data removed]",
      "text/plain": [
       "<Figure size 432x288 with 1 Axes>"
      ]
     },
     "metadata": {
      "needs_background": "light"
     },
     "output_type": "display_data"
    },
    {
     "data": {
      "image/png": "[encoded data removed]",
      "text/plain": [
       "<Figure size 432x288 with 1 Axes>"
      ]
     },
     "metadata": {
      "needs_background": "light"
     },
     "output_type": "display_data"
    }
   ],
   "source": [
    "\n",
    "# Plot history: Loss\n",
    "plt.plot(history.history['val_loss'])\n",
    "plt.title('Validation loss history')\n",
    "plt.ylabel('Loss value')\n",
    "plt.xlabel('No. epoch')\n",
    "plt.show()\n",
    "\n",
    "# Plot history: Accuracy\n",
    "plt.plot(history.history['val_accuracy'])\n",
    "plt.title('Validation accuracy history')\n",
    "plt.ylabel('Accuracy value (%)')\n",
    "plt.xlabel('No. epoch')\n",
    "plt.show()"
   ]
  },
  {
   "cell_type": "code",
   "execution_count": 54,
   "metadata": {},
   "outputs": [
    {
     "name": "stdout",
     "output_type": "stream",
     "text": [
      "------------------------------------------------------------------------\n",
      "Training for fold 1 ...\n",
      "Epoch 00048: early stopping\n",
      "Score for fold 1: loss of 0.48726919293403625; accuracy of 77.3059606552124%\n",
      "Accuracy: 0.773060\n",
      "Precision: 0.773060\n",
      "Recall: 0.773448\n",
      "F1 score: 0.772979\n",
      "------------------------------------------------------------------------\n",
      "Training for fold 2 ...\n",
      "Epoch 00051: early stopping\n",
      "Score for fold 2: loss of 0.6429330110549927; accuracy of 67.04161763191223%\n",
      "Accuracy: 0.670416\n",
      "Precision: 0.670416\n",
      "Recall: 0.721834\n",
      "F1 score: 0.650143\n",
      "------------------------------------------------------------------------\n",
      "Training for fold 3 ...\n",
      "Score for fold 3: loss of 0.4136185050010681; accuracy of 82.05849528312683%\n",
      "Accuracy: 0.820585\n",
      "Precision: 0.820585\n",
      "Recall: 0.821268\n",
      "F1 score: 0.820489\n",
      "------------------------------------------------------------------------\n",
      "Training for fold 4 ...\n",
      "Epoch 00017: early stopping\n",
      "Score for fold 4: loss of 38.083770751953125; accuracy of 50.0%\n",
      "Accuracy: 0.500000\n",
      "Precision: 0.500000\n",
      "Recall: 0.250000\n",
      "F1 score: 0.333333\n"
     ]
    },
    {
     "name": "stderr",
     "output_type": "stream",
     "text": [
      "/home/ubuntu/miniconda3/envs/py3/lib/python3.7/site-packages/sklearn/metrics/_classification.py:1245: UndefinedMetricWarning: Recall is ill-defined and being set to 0.0 due to no true samples. Use `zero_division` parameter to control this behavior.\n",
      "  _warn_prf(average, modifier, msg_start, len(result))\n"
     ]
    },
    {
     "name": "stdout",
     "output_type": "stream",
     "text": [
      "------------------------------------------------------------------------\n",
      "Training for fold 5 ...\n",
      "Epoch 00024: early stopping\n",
      "Score for fold 5: loss of 0.6389148235321045; accuracy of 68.70078444480896%\n",
      "Accuracy: 0.687008\n",
      "Precision: 0.687008\n",
      "Recall: 0.742579\n",
      "F1 score: 0.667993\n",
      "------------------------------------------------------------------------\n",
      "Score per fold\n",
      "------------------------------------------------------------------------\n",
      "> Fold 1 - Loss: 0.48726919293403625 - Accuracy: 77.3059606552124%\n",
      "------------------------------------------------------------------------\n",
      "> Fold 2 - Loss: 0.6429330110549927 - Accuracy: 67.04161763191223%\n",
      "------------------------------------------------------------------------\n",
      "> Fold 3 - Loss: 0.4136185050010681 - Accuracy: 82.05849528312683%\n",
      "------------------------------------------------------------------------\n",
      "> Fold 4 - Loss: 38.083770751953125 - Accuracy: 50.0%\n",
      "------------------------------------------------------------------------\n",
      "> Fold 5 - Loss: 0.6389148235321045 - Accuracy: 68.70078444480896%\n",
      "------------------------------------------------------------------------\n",
      "Average scores for all folds:\n",
      "> Accuracy: 69.02137160301208 (+- 10.994869614382981)\n",
      "> Pecision: 69.02137232845895 (+- 10.994869069521672)\n",
      "> Recall: 66.1825778701618 (+- 20.86163515051433)\n",
      "> F1: 64.89877407736121 (+- 17.01687056032741)\n",
      "> Loss: 8.053301256895065\n",
      "------------------------------------------------------------------------\n"
     ]
    }
   ],
   "source": [
    "from sklearn.model_selection import KFold\n",
    "from sklearn.metrics import accuracy_score\n",
    "from sklearn.metrics import precision_score\n",
    "from sklearn.metrics import recall_score\n",
    "from sklearn.metrics import f1_score\n",
    "from sklearn.metrics import roc_auc_score\n",
    "\n",
    "\n",
    "inputs = np.concatenate((X_train, X_val), axis=0)\n",
    "targets = np.concatenate((y_train, y_val), axis=0)\n",
    "# Define per-fold score containers\n",
    "acc_per_fold = []\n",
    "loss_per_fold = []\n",
    "_precision = []\n",
    "_recal = []\n",
    "_f1 = []\n",
    "_auc_pr = []\n",
    "_roc_pr = []\n",
    "# Define the K-fold Cross Validator\n",
    "kfold = KFold(n_splits=5, shuffle=True)\n",
    "\n",
    "# K-fold Cross Validation model evaluation\n",
    "fold_no = 1\n",
    "for train_index, test_index  in kfold.split(inputs, targets):\n",
    "    \n",
    "    X_train= inputs[train_index]\n",
    "    y_train= targets[train_index]\n",
    "    X_val=  inputs[test_index]\n",
    "    y_val = targets[test_index]\n",
    "    # Early Stopping\n",
    "    es = EarlyStopping(monitor='val_loss', patience=15, verbose=1)\n",
    "\n",
    "    #learning rate decay\n",
    "    lr_scheduler = LearningRateScheduler(lr_schedule)\n",
    "    model = create_Modelbaseline()\n",
    "    # Generate a print\n",
    "    print('------------------------------------------------------------------------')\n",
    "    print(f'Training for fold {fold_no} ...')\n",
    "\n",
    "    # Fit data to model\n",
    "    history = model.fit(X_train, y_train, epochs=100,batch_size=128,\n",
    "                        validation_data=(X_val, y_val),\n",
    "                        callbacks=[es, lr_scheduler], verbose=0)\n",
    "\n",
    "    # Generate generalization metrics\n",
    "    scores = model.evaluate(X_test, y_test, verbose=0)\n",
    "    print(f'Score for fold {fold_no}: {model.metrics_names[0]} of {scores[0]}; {model.metrics_names[1]} of {scores[1]*100}%')\n",
    "    \n",
    "    # predict probabilities for test set\n",
    "    y_probas = model.predict(X_test)\n",
    "    threshold = 0.5\n",
    "    y_predict = np.where(y_probas > threshold, 1, 0)\n",
    "\n",
    "    # accuracy: (tp + tn) / (p + n)\n",
    "    accuracy = accuracy_score(y_predict, y_test)\n",
    "    print('Accuracy: %f' % accuracy)\n",
    "    # precision tp / (tp + fp)\n",
    "    precision = (precision_score(y_predict,y_test, pos_label= 1)+precision_score(y_predict,y_test , pos_label= 0))*0.5\n",
    "    print('Precision: %f' % precision)\n",
    "    # recall: tp / (tp + fn)\n",
    "    recall = (recall_score(y_predict,y_test, pos_label= 1)+recall_score(y_predict,y_test , pos_label= 0))*0.5\n",
    "    print('Recall: %f' % recall)\n",
    "    # f1: 2 tp / (2 tp + fp + fn)\n",
    "    f1 =  (f1_score(y_predict,y_test, pos_label= 1)+f1_score(y_predict,y_test , pos_label= 0))*0.5\n",
    "    print('F1 score: %f' % f1)\n",
    "    \n",
    "    acc_per_fold.append(scores[1] * 100)\n",
    "    loss_per_fold.append(scores[0])  \n",
    "    _precision.append(precision * 100)  \n",
    "    _recal.append(recall * 100)  \n",
    "    _f1.append(f1 * 100)  \n",
    " \n",
    "    # Increase fold number\n",
    "    fold_no = fold_no + 1\n",
    "\n",
    "# == Provide average scores ==\n",
    "print('------------------------------------------------------------------------')\n",
    "print('Score per fold')\n",
    "for i in range(0, len(acc_per_fold)):\n",
    "  print('------------------------------------------------------------------------')\n",
    "  print(f'> Fold {i+1} - Loss: {loss_per_fold[i]} - Accuracy: {acc_per_fold[i]}%')\n",
    "print('------------------------------------------------------------------------')\n",
    "print('Average scores for all folds:')\n",
    "print(f'> Accuracy: {np.mean(acc_per_fold)} (+- {np.std(acc_per_fold)})')\n",
    "print(f'> Pecision: {np.mean(_precision)} (+- {np.std(_precision)})')\n",
    "print(f'> Recall: {np.mean(_recal)} (+- {np.std(_recal)})')\n",
    "print(f'> F1: {np.mean(_f1)} (+- {np.std(_f1)})')\n",
    "print(f'> Loss: {np.mean(loss_per_fold)}')\n",
    "print('------------------------------------------------------------------------')"
   ]
  },
  {
   "cell_type": "code",
   "execution_count": 56,
   "metadata": {},
   "outputs": [],
   "source": [
    "model.save('/mnt/vdb/thesis/CustomCNN.Adam.V6.set_9.pssm.h5')"
   ]
  },
  {
   "cell_type": "markdown",
   "metadata": {},
   "source": [
    "## CNN 2D images"
   ]
  },
  {
   "cell_type": "code",
   "execution_count": 5,
   "metadata": {},
   "outputs": [],
   "source": [
    "from  tensorflow.keras.preprocessing.image import ImageDataGenerator"
   ]
  },
  {
   "cell_type": "code",
   "execution_count": 64,
   "metadata": {},
   "outputs": [
    {
     "name": "stdout",
     "output_type": "stream",
     "text": [
      "Data Type: uint8\n",
      "Min: 1.000, Max: 255.000\n",
      "Min: 0.004, Max: 1.000\n"
     ]
    }
   ],
   "source": [
    "# check image \n",
    "# example of pixel normalization\n",
    "from numpy import asarray\n",
    "from PIL import Image\n",
    "# load image\n",
    "image = Image.open('/mnt/vdb/thesis/pwm/images/AMP/cluster6961_878.png')\n",
    "pixels = asarray(image)\n",
    "# confirm pixel range is 0-255\n",
    "print('Data Type: %s' % pixels.dtype)\n",
    "print('Min: %.3f, Max: %.3f' % (pixels.min(), pixels.max()))\n",
    "# convert from integers to floats\n",
    "pixels = pixels.astype('float32')\n",
    "# normalize to the range 0-1\n",
    "pixels /= 255.0\n",
    "# confirm the normalization\n",
    "print('Min: %.3f, Max: %.3f' % (pixels.min(), pixels.max()))\n"
   ]
  },
  {
   "cell_type": "code",
   "execution_count": 6,
   "metadata": {},
   "outputs": [
    {
     "name": "stdout",
     "output_type": "stream",
     "text": [
      "Found 89393 images belonging to 2 classes.\n",
      "Found 22348 images belonging to 2 classes.\n",
      "{'AMP': 0, 'NonAMP': 1}\n"
     ]
    }
   ],
   "source": [
    "datagen = ImageDataGenerator(validation_split=0.2 , rescale=1/255 )\n",
    "validation_datagen = ImageDataGenerator(validation_split = .2)\n",
    "\n",
    "train_data = datagen.flow_from_directory(directory='/mnt/vdb/thesis/pwm/images/',\n",
    "                                      class_mode='binary', batch_size=64, target_size=(200, 200),\n",
    "                                      subset='training',shuffle= True)\n",
    "\n",
    "validation_set = datagen.flow_from_directory(directory='/mnt/vdb/thesis/pwm/images/',\n",
    "                                        class_mode='binary', batch_size=64,target_size=(200, 200),\n",
    "                                        subset='validation',shuffle= True)\n",
    "\n",
    "print(train_data.class_indices)"
   ]
  },
  {
   "cell_type": "code",
   "execution_count": 12,
   "metadata": {},
   "outputs": [
    {
     "name": "stdout",
     "output_type": "stream",
     "text": [
      "Found 56612 images belonging to 2 classes.\n",
      "Found 14152 images belonging to 2 classes.\n",
      "Found 3556 images belonging to 2 classes.\n",
      "{'amp': 0, 'nonamp': 1}\n"
     ]
    }
   ],
   "source": [
    "# set 3, 1 , 9\n",
    "datagen = ImageDataGenerator(validation_split=0.2 , rescale=1/255 )\n",
    "validation_datagen = ImageDataGenerator(validation_split = .2)\n",
    "\n",
    "train_data = datagen.flow_from_directory(directory='/mnt/vdb/thesis/trainingset2/set9/pssm/images/',\n",
    "                                      class_mode='binary', batch_size=128, target_size=(64, 64),\n",
    "                                      subset='training',shuffle= True)\n",
    "\n",
    "validation_set = datagen.flow_from_directory(directory='/mnt/vdb/thesis/trainingset2/set9/pssm/images/',\n",
    "                                        class_mode='binary', batch_size=128,target_size=(64, 64),\n",
    "                                        subset='validation',shuffle= True)\n",
    "\n",
    "test_data = datagen.flow_from_directory(directory='/mnt/vdb/thesis/trainingset2/benchmark_set/images/',\n",
    "                                        class_mode='binary', batch_size=128,target_size=(64, 64),shuffle= False)\n",
    "print(test_data.class_indices)"
   ]
  },
  {
   "cell_type": "code",
   "execution_count": 7,
   "metadata": {},
   "outputs": [
    {
     "data": {
      "image/png": "[encoded data removed]",
      "text/plain": [
       "<Figure size 1800x1800 with 20 Axes>"
      ]
     },
     "metadata": {
      "needs_background": "light"
     },
     "output_type": "display_data"
    }
   ],
   "source": [
    "# Quick look at the some resulting images\n",
    "plt.gcf().set_size_inches(25, 25)\n",
    "for x_batch, y_batch in train_data:\n",
    "    for i in range(0, 20):\n",
    "        plt.subplot(5, 5, i+1)\n",
    "        plt.title(y_batch[i])\n",
    "        plt.imshow(x_batch[i])\n",
    "    break"
   ]
  },
  {
   "cell_type": "code",
   "execution_count": 5,
   "metadata": {},
   "outputs": [
    {
     "name": "stdout",
     "output_type": "stream",
     "text": [
      "Model: \"sequential\"\n",
      "_________________________________________________________________\n",
      "Layer (type)                 Output Shape              Param #   \n",
      "=================================================================\n",
      "conv2d (Conv2D)              (None, 200, 200, 32)      896       \n",
      "_________________________________________________________________\n",
      "max_pooling2d (MaxPooling2D) (None, 100, 100, 32)      0         \n",
      "_________________________________________________________________\n",
      "conv2d_1 (Conv2D)            (None, 100, 100, 64)      18496     \n",
      "_________________________________________________________________\n",
      "max_pooling2d_1 (MaxPooling2 (None, 50, 50, 64)        0         \n",
      "_________________________________________________________________\n",
      "conv2d_2 (Conv2D)            (None, 50, 50, 128)       73856     \n",
      "_________________________________________________________________\n",
      "max_pooling2d_2 (MaxPooling2 (None, 25, 25, 128)       0         \n",
      "_________________________________________________________________\n",
      "flatten (Flatten)            (None, 80000)             0         \n",
      "_________________________________________________________________\n",
      "dense (Dense)                (None, 1024)              81921024  \n",
      "_________________________________________________________________\n",
      "batch_normalization (BatchNo (None, 1024)              4096      \n",
      "_________________________________________________________________\n",
      "dense_1 (Dense)              (None, 1024)              1049600   \n",
      "_________________________________________________________________\n",
      "dropout (Dropout)            (None, 1024)              0         \n",
      "_________________________________________________________________\n",
      "dense_2 (Dense)              (None, 1)                 1025      \n",
      "=================================================================\n",
      "Total params: 83,068,993\n",
      "Trainable params: 83,066,945\n",
      "Non-trainable params: 2,048\n",
      "_________________________________________________________________\n",
      "None\n"
     ]
    }
   ],
   "source": [
    "### model 1 \n",
    "def create_Modelbaseline_images():\n",
    "    model = Sequential()\n",
    "    model.add(Conv2D(128, (3, 3), input_shape=(200, 200, 3), activation='relu', padding='same'))\n",
    "    model.add(MaxPooling2D(pool_size=(2, 2), padding='same'))\n",
    "    model.add(Conv2D(64, (3, 3),  activation='relu', padding='same'))\n",
    "    model.add(MaxPooling2D(pool_size=(2, 2), padding='same'))\n",
    "    model.add(Conv2D(1, (3, 3),  activation='relu', padding='same'))\n",
    "    model.add(MaxPooling2D(pool_size=(2, 2), padding='same'))\n",
    "    model.add(Flatten())\n",
    "    model.add(Dense(1024, activation='relu'))\n",
    "    model.add(BatchNormalization())\n",
    "    model.add(Dense(1024, activation='relu'))\n",
    "    model.add(Dropout(0.5))\n",
    "    model.add(Dense(1, activation='sigmoid'))\n",
    "    model.compile(optimizer='Adam',loss='binary_crossentropy', metrics= ['accuracy'])\n",
    "    return model \n",
    "    #model.compile(optimizer=\"Adam\", loss='binary_crossentropy', metrics=['accuracy'])"
   ]
  },
  {
   "cell_type": "code",
   "execution_count": 6,
   "metadata": {},
   "outputs": [
    {
     "name": "stdout",
     "output_type": "stream",
     "text": [
      "Model: \"sequential\"\n",
      "_________________________________________________________________\n",
      "Layer (type)                 Output Shape              Param #   \n",
      "=================================================================\n",
      "conv2d (Conv2D)              (None, 200, 200, 32)      896       \n",
      "_________________________________________________________________\n",
      "batch_normalization (BatchNo (None, 200, 200, 32)      128       \n",
      "_________________________________________________________________\n",
      "conv2d_1 (Conv2D)            (None, 198, 198, 32)      9248      \n",
      "_________________________________________________________________\n",
      "batch_normalization_1 (Batch (None, 198, 198, 32)      128       \n",
      "_________________________________________________________________\n",
      "conv2d_2 (Conv2D)            (None, 198, 198, 32)      25632     \n",
      "_________________________________________________________________\n",
      "batch_normalization_2 (Batch (None, 198, 198, 32)      128       \n",
      "_________________________________________________________________\n",
      "conv2d_3 (Conv2D)            (None, 196, 196, 64)      18496     \n",
      "_________________________________________________________________\n",
      "batch_normalization_3 (Batch (None, 196, 196, 64)      256       \n",
      "_________________________________________________________________\n",
      "conv2d_4 (Conv2D)            (None, 194, 194, 64)      36928     \n",
      "_________________________________________________________________\n",
      "batch_normalization_4 (Batch (None, 194, 194, 64)      256       \n",
      "_________________________________________________________________\n",
      "conv2d_5 (Conv2D)            (None, 97, 97, 64)        102464    \n",
      "_________________________________________________________________\n",
      "batch_normalization_5 (Batch (None, 97, 97, 64)        256       \n",
      "_________________________________________________________________\n",
      "dropout (Dropout)            (None, 97, 97, 64)        0         \n",
      "_________________________________________________________________\n",
      "flatten (Flatten)            (None, 602176)            0         \n",
      "_________________________________________________________________\n",
      "dense (Dense)                (None, 1221)              735258117 \n",
      "_________________________________________________________________\n",
      "batch_normalization_6 (Batch (None, 1221)              4884      \n",
      "_________________________________________________________________\n",
      "dense_1 (Dense)              (None, 1221)              1492062   \n",
      "_________________________________________________________________\n",
      "batch_normalization_7 (Batch (None, 1221)              4884      \n",
      "_________________________________________________________________\n",
      "dropout_1 (Dropout)          (None, 1221)              0         \n",
      "_________________________________________________________________\n",
      "dense_2 (Dense)              (None, 1)                 1222      \n",
      "=================================================================\n",
      "Total params: 736,955,985\n",
      "Trainable params: 736,950,525\n",
      "Non-trainable params: 5,460\n",
      "_________________________________________________________________\n",
      "None\n"
     ]
    }
   ],
   "source": [
    "### model 2\n",
    "# https://www.kaggle.com/cdeotte/how-to-choose-cnn-architecture-mnist\n",
    "def create_Modelbaseline_images():\n",
    "    model = Sequential()\n",
    "    model.add(Conv2D(32, (3, 3), input_shape=(200, 200, 3), activation='relu', padding='same'))\n",
    "    model.add(BatchNormalization())\n",
    "    model.add(Conv2D(32,kernel_size=3,activation='relu'))\n",
    "    model.add(BatchNormalization())\n",
    "    model.add(Conv2D(32,kernel_size=5,strides=1,padding='same',activation='relu'))\n",
    "    model.add(BatchNormalization())\n",
    "    #model.add(Dropout(0.4))\n",
    "\n",
    "    model.add(Conv2D(64,kernel_size=3,activation='relu'))\n",
    "    model.add(BatchNormalization())\n",
    "    model.add(Conv2D(64,kernel_size=3,activation='relu'))\n",
    "    model.add(BatchNormalization())\n",
    "    model.add(Conv2D(64,kernel_size=5,strides=2,padding='same',activation='relu'))\n",
    "    model.add(BatchNormalization())\n",
    "    model.add(Dropout(0.4))\n",
    "\n",
    "\n",
    "    model.add(Flatten())\n",
    "    model.add(Dense(1221, activation='relu'))\n",
    "    model.add(BatchNormalization())\n",
    "    #model.add(Dropout(0.4))\n",
    "    model.add(Dense(1221, activation='relu'))\n",
    "    model.add(BatchNormalization())\n",
    "    model.add(Dropout(0.4))\n",
    "    model.add(Dense(1, activation='sigmoid'))\n",
    "    model.compile(optimizer='Adam',loss='binary_crossentropy', metrics= ['accuracy'])\n",
    "    return model \n",
    "    #model.compile(optimizer=\"Adam\", loss='binary_crossentropy', metrics=['accuracy']) \n",
    "model = create_Modelbaseline_images()    \n",
    "print(model.summary())    "
   ]
  },
  {
   "cell_type": "code",
   "execution_count": 14,
   "metadata": {
    "scrolled": true,
    "tags": []
   },
   "outputs": [
    {
     "name": "stdout",
     "output_type": "stream",
     "text": [
      "WARNING:tensorflow:`period` argument is deprecated. Please use `save_freq` to specify the frequency in number of batches seen.\n",
      "Epoch 1/100\n",
      " 40/443 [=>............................] - ETA: 8:20 - loss: 0.6516 - accuracy: 0.7557"
     ]
    },
    {
     "ename": "KeyboardInterrupt",
     "evalue": "",
     "output_type": "error",
     "traceback": [
      "\u001b[0;31m---------------------------------------------------------------------------\u001b[0m",
      "\u001b[0;31mKeyboardInterrupt\u001b[0m                         Traceback (most recent call last)",
      "\u001b[0;32m<ipython-input-14-4802756d563a>\u001b[0m in \u001b[0;36m<module>\u001b[0;34m\u001b[0m\n\u001b[1;32m     13\u001b[0m     \u001b[0;31m#validation_steps = len(validation_set) // 128,\u001b[0m\u001b[0;34m\u001b[0m\u001b[0;34m\u001b[0m\u001b[0;34m\u001b[0m\u001b[0m\n\u001b[1;32m     14\u001b[0m     \u001b[0mepochs\u001b[0m\u001b[0;34m=\u001b[0m\u001b[0;36m100\u001b[0m\u001b[0;34m,\u001b[0m\u001b[0;34m\u001b[0m\u001b[0;34m\u001b[0m\u001b[0m\n\u001b[0;32m---> 15\u001b[0;31m     \u001b[0mcallbacks\u001b[0m\u001b[0;34m=\u001b[0m\u001b[0;34m[\u001b[0m\u001b[0mes\u001b[0m\u001b[0;34m,\u001b[0m\u001b[0mlr_scheduler\u001b[0m\u001b[0;34m]\u001b[0m\u001b[0;34m\u001b[0m\u001b[0;34m\u001b[0m\u001b[0m\n\u001b[0m\u001b[1;32m     16\u001b[0m )\n",
      "\u001b[0;32m~/.local/lib/python3.7/site-packages/tensorflow/python/util/deprecation.py\u001b[0m in \u001b[0;36mnew_func\u001b[0;34m(*args, **kwargs)\u001b[0m\n\u001b[1;32m    322\u001b[0m               \u001b[0;34m'in a future version'\u001b[0m \u001b[0;32mif\u001b[0m \u001b[0mdate\u001b[0m \u001b[0;32mis\u001b[0m \u001b[0;32mNone\u001b[0m \u001b[0;32melse\u001b[0m \u001b[0;34m(\u001b[0m\u001b[0;34m'after %s'\u001b[0m \u001b[0;34m%\u001b[0m \u001b[0mdate\u001b[0m\u001b[0;34m)\u001b[0m\u001b[0;34m,\u001b[0m\u001b[0;34m\u001b[0m\u001b[0;34m\u001b[0m\u001b[0m\n\u001b[1;32m    323\u001b[0m               instructions)\n\u001b[0;32m--> 324\u001b[0;31m       \u001b[0;32mreturn\u001b[0m \u001b[0mfunc\u001b[0m\u001b[0;34m(\u001b[0m\u001b[0;34m*\u001b[0m\u001b[0margs\u001b[0m\u001b[0;34m,\u001b[0m \u001b[0;34m**\u001b[0m\u001b[0mkwargs\u001b[0m\u001b[0;34m)\u001b[0m\u001b[0;34m\u001b[0m\u001b[0;34m\u001b[0m\u001b[0m\n\u001b[0m\u001b[1;32m    325\u001b[0m     return tf_decorator.make_decorator(\n\u001b[1;32m    326\u001b[0m         \u001b[0mfunc\u001b[0m\u001b[0;34m,\u001b[0m \u001b[0mnew_func\u001b[0m\u001b[0;34m,\u001b[0m \u001b[0;34m'deprecated'\u001b[0m\u001b[0;34m,\u001b[0m\u001b[0;34m\u001b[0m\u001b[0;34m\u001b[0m\u001b[0m\n",
      "\u001b[0;32m~/.local/lib/python3.7/site-packages/tensorflow/python/keras/engine/training.py\u001b[0m in \u001b[0;36mfit_generator\u001b[0;34m(self, generator, steps_per_epoch, epochs, verbose, callbacks, validation_data, validation_steps, validation_freq, class_weight, max_queue_size, workers, use_multiprocessing, shuffle, initial_epoch)\u001b[0m\n\u001b[1;32m   1827\u001b[0m         \u001b[0muse_multiprocessing\u001b[0m\u001b[0;34m=\u001b[0m\u001b[0muse_multiprocessing\u001b[0m\u001b[0;34m,\u001b[0m\u001b[0;34m\u001b[0m\u001b[0;34m\u001b[0m\u001b[0m\n\u001b[1;32m   1828\u001b[0m         \u001b[0mshuffle\u001b[0m\u001b[0;34m=\u001b[0m\u001b[0mshuffle\u001b[0m\u001b[0;34m,\u001b[0m\u001b[0;34m\u001b[0m\u001b[0;34m\u001b[0m\u001b[0m\n\u001b[0;32m-> 1829\u001b[0;31m         initial_epoch=initial_epoch)\n\u001b[0m\u001b[1;32m   1830\u001b[0m \u001b[0;34m\u001b[0m\u001b[0m\n\u001b[1;32m   1831\u001b[0m   @deprecation.deprecated(\n",
      "\u001b[0;32m~/.local/lib/python3.7/site-packages/tensorflow/python/keras/engine/training.py\u001b[0m in \u001b[0;36m_method_wrapper\u001b[0;34m(self, *args, **kwargs)\u001b[0m\n\u001b[1;32m    106\u001b[0m   \u001b[0;32mdef\u001b[0m \u001b[0m_method_wrapper\u001b[0m\u001b[0;34m(\u001b[0m\u001b[0mself\u001b[0m\u001b[0;34m,\u001b[0m \u001b[0;34m*\u001b[0m\u001b[0margs\u001b[0m\u001b[0;34m,\u001b[0m \u001b[0;34m**\u001b[0m\u001b[0mkwargs\u001b[0m\u001b[0;34m)\u001b[0m\u001b[0;34m:\u001b[0m\u001b[0;34m\u001b[0m\u001b[0;34m\u001b[0m\u001b[0m\n\u001b[1;32m    107\u001b[0m     \u001b[0;32mif\u001b[0m \u001b[0;32mnot\u001b[0m \u001b[0mself\u001b[0m\u001b[0;34m.\u001b[0m\u001b[0m_in_multi_worker_mode\u001b[0m\u001b[0;34m(\u001b[0m\u001b[0;34m)\u001b[0m\u001b[0;34m:\u001b[0m  \u001b[0;31m# pylint: disable=protected-access\u001b[0m\u001b[0;34m\u001b[0m\u001b[0;34m\u001b[0m\u001b[0m\n\u001b[0;32m--> 108\u001b[0;31m       \u001b[0;32mreturn\u001b[0m \u001b[0mmethod\u001b[0m\u001b[0;34m(\u001b[0m\u001b[0mself\u001b[0m\u001b[0;34m,\u001b[0m \u001b[0;34m*\u001b[0m\u001b[0margs\u001b[0m\u001b[0;34m,\u001b[0m \u001b[0;34m**\u001b[0m\u001b[0mkwargs\u001b[0m\u001b[0;34m)\u001b[0m\u001b[0;34m\u001b[0m\u001b[0;34m\u001b[0m\u001b[0m\n\u001b[0m\u001b[1;32m    109\u001b[0m \u001b[0;34m\u001b[0m\u001b[0m\n\u001b[1;32m    110\u001b[0m     \u001b[0;31m# Running inside `run_distribute_coordinator` already.\u001b[0m\u001b[0;34m\u001b[0m\u001b[0;34m\u001b[0m\u001b[0;34m\u001b[0m\u001b[0m\n",
      "\u001b[0;32m~/.local/lib/python3.7/site-packages/tensorflow/python/keras/engine/training.py\u001b[0m in \u001b[0;36mfit\u001b[0;34m(self, x, y, batch_size, epochs, verbose, callbacks, validation_split, validation_data, shuffle, class_weight, sample_weight, initial_epoch, steps_per_epoch, validation_steps, validation_batch_size, validation_freq, max_queue_size, workers, use_multiprocessing)\u001b[0m\n\u001b[1;32m   1096\u001b[0m                 batch_size=batch_size):\n\u001b[1;32m   1097\u001b[0m               \u001b[0mcallbacks\u001b[0m\u001b[0;34m.\u001b[0m\u001b[0mon_train_batch_begin\u001b[0m\u001b[0;34m(\u001b[0m\u001b[0mstep\u001b[0m\u001b[0;34m)\u001b[0m\u001b[0;34m\u001b[0m\u001b[0;34m\u001b[0m\u001b[0m\n\u001b[0;32m-> 1098\u001b[0;31m               \u001b[0mtmp_logs\u001b[0m \u001b[0;34m=\u001b[0m \u001b[0mtrain_function\u001b[0m\u001b[0;34m(\u001b[0m\u001b[0miterator\u001b[0m\u001b[0;34m)\u001b[0m\u001b[0;34m\u001b[0m\u001b[0;34m\u001b[0m\u001b[0m\n\u001b[0m\u001b[1;32m   1099\u001b[0m               \u001b[0;32mif\u001b[0m \u001b[0mdata_handler\u001b[0m\u001b[0;34m.\u001b[0m\u001b[0mshould_sync\u001b[0m\u001b[0;34m:\u001b[0m\u001b[0;34m\u001b[0m\u001b[0;34m\u001b[0m\u001b[0m\n\u001b[1;32m   1100\u001b[0m                 \u001b[0mcontext\u001b[0m\u001b[0;34m.\u001b[0m\u001b[0masync_wait\u001b[0m\u001b[0;34m(\u001b[0m\u001b[0;34m)\u001b[0m\u001b[0;34m\u001b[0m\u001b[0;34m\u001b[0m\u001b[0m\n",
      "\u001b[0;32m~/.local/lib/python3.7/site-packages/tensorflow/python/eager/def_function.py\u001b[0m in \u001b[0;36m__call__\u001b[0;34m(self, *args, **kwds)\u001b[0m\n\u001b[1;32m    778\u001b[0m       \u001b[0;32melse\u001b[0m\u001b[0;34m:\u001b[0m\u001b[0;34m\u001b[0m\u001b[0;34m\u001b[0m\u001b[0m\n\u001b[1;32m    779\u001b[0m         \u001b[0mcompiler\u001b[0m \u001b[0;34m=\u001b[0m \u001b[0;34m\"nonXla\"\u001b[0m\u001b[0;34m\u001b[0m\u001b[0;34m\u001b[0m\u001b[0m\n\u001b[0;32m--> 780\u001b[0;31m         \u001b[0mresult\u001b[0m \u001b[0;34m=\u001b[0m \u001b[0mself\u001b[0m\u001b[0;34m.\u001b[0m\u001b[0m_call\u001b[0m\u001b[0;34m(\u001b[0m\u001b[0;34m*\u001b[0m\u001b[0margs\u001b[0m\u001b[0;34m,\u001b[0m \u001b[0;34m**\u001b[0m\u001b[0mkwds\u001b[0m\u001b[0;34m)\u001b[0m\u001b[0;34m\u001b[0m\u001b[0;34m\u001b[0m\u001b[0m\n\u001b[0m\u001b[1;32m    781\u001b[0m \u001b[0;34m\u001b[0m\u001b[0m\n\u001b[1;32m    782\u001b[0m       \u001b[0mnew_tracing_count\u001b[0m \u001b[0;34m=\u001b[0m \u001b[0mself\u001b[0m\u001b[0;34m.\u001b[0m\u001b[0m_get_tracing_count\u001b[0m\u001b[0;34m(\u001b[0m\u001b[0;34m)\u001b[0m\u001b[0;34m\u001b[0m\u001b[0;34m\u001b[0m\u001b[0m\n",
      "\u001b[0;32m~/.local/lib/python3.7/site-packages/tensorflow/python/eager/def_function.py\u001b[0m in \u001b[0;36m_call\u001b[0;34m(self, *args, **kwds)\u001b[0m\n\u001b[1;32m    805\u001b[0m       \u001b[0;31m# In this case we have created variables on the first call, so we run the\u001b[0m\u001b[0;34m\u001b[0m\u001b[0;34m\u001b[0m\u001b[0;34m\u001b[0m\u001b[0m\n\u001b[1;32m    806\u001b[0m       \u001b[0;31m# defunned version which is guaranteed to never create variables.\u001b[0m\u001b[0;34m\u001b[0m\u001b[0;34m\u001b[0m\u001b[0;34m\u001b[0m\u001b[0m\n\u001b[0;32m--> 807\u001b[0;31m       \u001b[0;32mreturn\u001b[0m \u001b[0mself\u001b[0m\u001b[0;34m.\u001b[0m\u001b[0m_stateless_fn\u001b[0m\u001b[0;34m(\u001b[0m\u001b[0;34m*\u001b[0m\u001b[0margs\u001b[0m\u001b[0;34m,\u001b[0m \u001b[0;34m**\u001b[0m\u001b[0mkwds\u001b[0m\u001b[0;34m)\u001b[0m  \u001b[0;31m# pylint: disable=not-callable\u001b[0m\u001b[0;34m\u001b[0m\u001b[0;34m\u001b[0m\u001b[0m\n\u001b[0m\u001b[1;32m    808\u001b[0m     \u001b[0;32melif\u001b[0m \u001b[0mself\u001b[0m\u001b[0;34m.\u001b[0m\u001b[0m_stateful_fn\u001b[0m \u001b[0;32mis\u001b[0m \u001b[0;32mnot\u001b[0m \u001b[0;32mNone\u001b[0m\u001b[0;34m:\u001b[0m\u001b[0;34m\u001b[0m\u001b[0;34m\u001b[0m\u001b[0m\n\u001b[1;32m    809\u001b[0m       \u001b[0;31m# Release the lock early so that multiple threads can perform the call\u001b[0m\u001b[0;34m\u001b[0m\u001b[0;34m\u001b[0m\u001b[0;34m\u001b[0m\u001b[0m\n",
      "\u001b[0;32m~/.local/lib/python3.7/site-packages/tensorflow/python/eager/function.py\u001b[0m in \u001b[0;36m__call__\u001b[0;34m(self, *args, **kwargs)\u001b[0m\n\u001b[1;32m   2827\u001b[0m     \u001b[0;32mwith\u001b[0m \u001b[0mself\u001b[0m\u001b[0;34m.\u001b[0m\u001b[0m_lock\u001b[0m\u001b[0;34m:\u001b[0m\u001b[0;34m\u001b[0m\u001b[0;34m\u001b[0m\u001b[0m\n\u001b[1;32m   2828\u001b[0m       \u001b[0mgraph_function\u001b[0m\u001b[0;34m,\u001b[0m \u001b[0margs\u001b[0m\u001b[0;34m,\u001b[0m \u001b[0mkwargs\u001b[0m \u001b[0;34m=\u001b[0m \u001b[0mself\u001b[0m\u001b[0;34m.\u001b[0m\u001b[0m_maybe_define_function\u001b[0m\u001b[0;34m(\u001b[0m\u001b[0margs\u001b[0m\u001b[0;34m,\u001b[0m \u001b[0mkwargs\u001b[0m\u001b[0;34m)\u001b[0m\u001b[0;34m\u001b[0m\u001b[0;34m\u001b[0m\u001b[0m\n\u001b[0;32m-> 2829\u001b[0;31m     \u001b[0;32mreturn\u001b[0m \u001b[0mgraph_function\u001b[0m\u001b[0;34m.\u001b[0m\u001b[0m_filtered_call\u001b[0m\u001b[0;34m(\u001b[0m\u001b[0margs\u001b[0m\u001b[0;34m,\u001b[0m \u001b[0mkwargs\u001b[0m\u001b[0;34m)\u001b[0m  \u001b[0;31m# pylint: disable=protected-access\u001b[0m\u001b[0;34m\u001b[0m\u001b[0;34m\u001b[0m\u001b[0m\n\u001b[0m\u001b[1;32m   2830\u001b[0m \u001b[0;34m\u001b[0m\u001b[0m\n\u001b[1;32m   2831\u001b[0m   \u001b[0;34m@\u001b[0m\u001b[0mproperty\u001b[0m\u001b[0;34m\u001b[0m\u001b[0;34m\u001b[0m\u001b[0m\n",
      "\u001b[0;32m~/.local/lib/python3.7/site-packages/tensorflow/python/eager/function.py\u001b[0m in \u001b[0;36m_filtered_call\u001b[0;34m(self, args, kwargs, cancellation_manager)\u001b[0m\n\u001b[1;32m   1846\u001b[0m                            resource_variable_ops.BaseResourceVariable))],\n\u001b[1;32m   1847\u001b[0m         \u001b[0mcaptured_inputs\u001b[0m\u001b[0;34m=\u001b[0m\u001b[0mself\u001b[0m\u001b[0;34m.\u001b[0m\u001b[0mcaptured_inputs\u001b[0m\u001b[0;34m,\u001b[0m\u001b[0;34m\u001b[0m\u001b[0;34m\u001b[0m\u001b[0m\n\u001b[0;32m-> 1848\u001b[0;31m         cancellation_manager=cancellation_manager)\n\u001b[0m\u001b[1;32m   1849\u001b[0m \u001b[0;34m\u001b[0m\u001b[0m\n\u001b[1;32m   1850\u001b[0m   \u001b[0;32mdef\u001b[0m \u001b[0m_call_flat\u001b[0m\u001b[0;34m(\u001b[0m\u001b[0mself\u001b[0m\u001b[0;34m,\u001b[0m \u001b[0margs\u001b[0m\u001b[0;34m,\u001b[0m \u001b[0mcaptured_inputs\u001b[0m\u001b[0;34m,\u001b[0m \u001b[0mcancellation_manager\u001b[0m\u001b[0;34m=\u001b[0m\u001b[0;32mNone\u001b[0m\u001b[0;34m)\u001b[0m\u001b[0;34m:\u001b[0m\u001b[0;34m\u001b[0m\u001b[0;34m\u001b[0m\u001b[0m\n",
      "\u001b[0;32m~/.local/lib/python3.7/site-packages/tensorflow/python/eager/function.py\u001b[0m in \u001b[0;36m_call_flat\u001b[0;34m(self, args, captured_inputs, cancellation_manager)\u001b[0m\n\u001b[1;32m   1922\u001b[0m       \u001b[0;31m# No tape is watching; skip to running the function.\u001b[0m\u001b[0;34m\u001b[0m\u001b[0;34m\u001b[0m\u001b[0;34m\u001b[0m\u001b[0m\n\u001b[1;32m   1923\u001b[0m       return self._build_call_outputs(self._inference_function.call(\n\u001b[0;32m-> 1924\u001b[0;31m           ctx, args, cancellation_manager=cancellation_manager))\n\u001b[0m\u001b[1;32m   1925\u001b[0m     forward_backward = self._select_forward_and_backward_functions(\n\u001b[1;32m   1926\u001b[0m         \u001b[0margs\u001b[0m\u001b[0;34m,\u001b[0m\u001b[0;34m\u001b[0m\u001b[0;34m\u001b[0m\u001b[0m\n",
      "\u001b[0;32m~/.local/lib/python3.7/site-packages/tensorflow/python/eager/function.py\u001b[0m in \u001b[0;36mcall\u001b[0;34m(self, ctx, args, cancellation_manager)\u001b[0m\n\u001b[1;32m    548\u001b[0m               \u001b[0minputs\u001b[0m\u001b[0;34m=\u001b[0m\u001b[0margs\u001b[0m\u001b[0;34m,\u001b[0m\u001b[0;34m\u001b[0m\u001b[0;34m\u001b[0m\u001b[0m\n\u001b[1;32m    549\u001b[0m               \u001b[0mattrs\u001b[0m\u001b[0;34m=\u001b[0m\u001b[0mattrs\u001b[0m\u001b[0;34m,\u001b[0m\u001b[0;34m\u001b[0m\u001b[0;34m\u001b[0m\u001b[0m\n\u001b[0;32m--> 550\u001b[0;31m               ctx=ctx)\n\u001b[0m\u001b[1;32m    551\u001b[0m         \u001b[0;32melse\u001b[0m\u001b[0;34m:\u001b[0m\u001b[0;34m\u001b[0m\u001b[0;34m\u001b[0m\u001b[0m\n\u001b[1;32m    552\u001b[0m           outputs = execute.execute_with_cancellation(\n",
      "\u001b[0;32m~/.local/lib/python3.7/site-packages/tensorflow/python/eager/execute.py\u001b[0m in \u001b[0;36mquick_execute\u001b[0;34m(op_name, num_outputs, inputs, attrs, ctx, name)\u001b[0m\n\u001b[1;32m     58\u001b[0m     \u001b[0mctx\u001b[0m\u001b[0;34m.\u001b[0m\u001b[0mensure_initialized\u001b[0m\u001b[0;34m(\u001b[0m\u001b[0;34m)\u001b[0m\u001b[0;34m\u001b[0m\u001b[0;34m\u001b[0m\u001b[0m\n\u001b[1;32m     59\u001b[0m     tensors = pywrap_tfe.TFE_Py_Execute(ctx._handle, device_name, op_name,\n\u001b[0;32m---> 60\u001b[0;31m                                         inputs, attrs, num_outputs)\n\u001b[0m\u001b[1;32m     61\u001b[0m   \u001b[0;32mexcept\u001b[0m \u001b[0mcore\u001b[0m\u001b[0;34m.\u001b[0m\u001b[0m_NotOkStatusException\u001b[0m \u001b[0;32mas\u001b[0m \u001b[0me\u001b[0m\u001b[0;34m:\u001b[0m\u001b[0;34m\u001b[0m\u001b[0;34m\u001b[0m\u001b[0m\n\u001b[1;32m     62\u001b[0m     \u001b[0;32mif\u001b[0m \u001b[0mname\u001b[0m \u001b[0;32mis\u001b[0m \u001b[0;32mnot\u001b[0m \u001b[0;32mNone\u001b[0m\u001b[0;34m:\u001b[0m\u001b[0;34m\u001b[0m\u001b[0;34m\u001b[0m\u001b[0m\n",
      "\u001b[0;31mKeyboardInterrupt\u001b[0m: "
     ]
    }
   ],
   "source": [
    "checkpoint = ModelCheckpoint(\"/mnt/vdb/thesis/CustomCNN.Adam.pssm.training2.set_9.h5\", monitor='val_loss', verbose=1,\n",
    "    save_best_only=True, mode='auto', period=1)\n",
    "# Early Stopping\n",
    "es = EarlyStopping(monitor='val_loss', patience=15, verbose=1)\n",
    "\n",
    "#learning rate decay\n",
    "lr_scheduler = LearningRateScheduler(lr_schedule)\n",
    "\n",
    "history = model.fit_generator(\n",
    "    generator=train_data,\n",
    "    #steps_per_epoch = len(train_data) // 128,\n",
    "    validation_data=validation_set,\n",
    "    #validation_steps = len(validation_set) // 128, \n",
    "    epochs=100, \n",
    "    callbacks=[es,lr_scheduler]\n",
    ")"
   ]
  },
  {
   "cell_type": "code",
   "execution_count": 14,
   "metadata": {},
   "outputs": [],
   "source": [
    "model.save(\"/mnt/vdb/thesis/CustomCNN.Adam.pssm.training2.set_9.h5\")"
   ]
  },
  {
   "cell_type": "code",
   "execution_count": 12,
   "metadata": {},
   "outputs": [
    {
     "data": {
      "image/png": "[encoded data removed]",
      "text/plain": [
       "<Figure size 864x360 with 2 Axes>"
      ]
     },
     "metadata": {
      "needs_background": "light"
     },
     "output_type": "display_data"
    }
   ],
   "source": [
    "plot_history(history)"
   ]
  },
  {
   "cell_type": "code",
   "execution_count": null,
   "metadata": {},
   "outputs": [],
   "source": [
    "# set 9\n",
    "y_test = test_data.classes\n",
    "y_probas = model.predict_generator(generator=test_data)\n",
    "y_pred = np.where(y_probas > 0.5, 1, 0)\n",
    "print(classification_report(y_test, y_pred)) "
   ]
  },
  {
   "cell_type": "code",
   "execution_count": null,
   "metadata": {},
   "outputs": [],
   "source": [
    "create_roc_curve(y_test,y_probas)\n",
    "# plot precision-recall curves\n",
    "plot_pr_curve(y_test, y_probas)\n",
    "plot_history(history)"
   ]
  },
  {
   "cell_type": "code",
   "execution_count": 13,
   "metadata": {},
   "outputs": [
    {
     "name": "stdout",
     "output_type": "stream",
     "text": [
      "WARNING:tensorflow:From <ipython-input-13-fa7423fd69ba>:3: Model.predict_generator (from tensorflow.python.keras.engine.training) is deprecated and will be removed in a future version.\n",
      "Instructions for updating:\n",
      "Please use Model.predict, which supports generators.\n",
      "              precision    recall  f1-score   support\n",
      "\n",
      "           0       0.80      0.85      0.82      1778\n",
      "           1       0.84      0.78      0.81      1778\n",
      "\n",
      "    accuracy                           0.82      3556\n",
      "   macro avg       0.82      0.82      0.82      3556\n",
      "weighted avg       0.82      0.82      0.82      3556\n",
      "\n"
     ]
    }
   ],
   "source": [
    "# set 9\n",
    "y_test = test_data.classes\n",
    "y_probas = model.predict_generator(generator=test_data)\n",
    "y_pred = np.where(y_probas > 0.5, 1, 0)\n",
    "print(classification_report(y_test, y_pred)) "
   ]
  },
  {
   "cell_type": "code",
   "execution_count": 19,
   "metadata": {},
   "outputs": [
    {
     "name": "stdout",
     "output_type": "stream",
     "text": [
      "              precision    recall  f1-score   support\n",
      "\n",
      "           0       0.57      0.92      0.70      1778\n",
      "           1       0.79      0.31      0.45      1778\n",
      "\n",
      "    accuracy                           0.62      3556\n",
      "   macro avg       0.68      0.62      0.58      3556\n",
      "weighted avg       0.68      0.62      0.58      3556\n",
      "\n"
     ]
    }
   ],
   "source": [
    "# set 1\n",
    "y_test = test_data.classes\n",
    "y_probas = model.predict_generator(generator=test_data)\n",
    "y_pred = np.where(y_probas > 0.5, 1, 0)\n",
    "print(classification_report(y_test, y_pred)) "
   ]
  },
  {
   "cell_type": "code",
   "execution_count": null,
   "metadata": {
    "scrolled": true,
    "tags": []
   },
   "outputs": [
    {
     "name": "stdout",
     "output_type": "stream",
     "text": [
      "Found 56612 images belonging to 2 classes.\n",
      "Found 14152 images belonging to 2 classes.\n",
      "Found 3556 images belonging to 2 classes.\n",
      "------------------------------------------------------------------------\n",
      "Training for fold 1 ...\n",
      "WARNING:tensorflow:From <ipython-input-7-25f86fa37d15>:55: Model.fit_generator (from tensorflow.python.keras.engine.training) is deprecated and will be removed in a future version.\n",
      "Instructions for updating:\n",
      "Please use Model.fit, which supports generators.\n"
     ]
    }
   ],
   "source": [
    "from sklearn.model_selection import KFold\n",
    "from sklearn.metrics import accuracy_score\n",
    "from sklearn.metrics import precision_score\n",
    "from sklearn.metrics import recall_score\n",
    "from sklearn.metrics import f1_score\n",
    "from sklearn.metrics import roc_auc_score\n",
    "\n",
    "# Define per-fold score containers\n",
    "acc_per_fold = []\n",
    "loss_per_fold = []\n",
    "_precision = []\n",
    "_recal = []\n",
    "_f1 = []\n",
    "_auc_pr = []\n",
    "_roc_pr = []\n",
    "# Define the K-fold Cross Validator\n",
    "kfold = KFold(n_splits=5, shuffle=True)\n",
    "\n",
    "# K-fold Cross Validation model evaluation\n",
    "fold_no = 1\n",
    "for x in range(5):\n",
    "    \n",
    "    datagen = ImageDataGenerator(validation_split=0.2 , rescale=1/255 )\n",
    "    validation_datagen = ImageDataGenerator(validation_split = .2)\n",
    "\n",
    "    train_data = datagen.flow_from_directory(directory='/mnt/vdb/thesis/trainingset2/set9/pssm/images/',\n",
    "                                          class_mode='binary', batch_size=128, target_size=(200, 200),\n",
    "                                          subset='training',shuffle= True)\n",
    "\n",
    "    validation_set = datagen.flow_from_directory(directory='/mnt/vdb/thesis/trainingset2/set9/pssm/images/',\n",
    "                                            class_mode='binary', batch_size=128,target_size=(200, 200),\n",
    "                                            subset='validation',shuffle= True)\n",
    "\n",
    "    test_data = datagen.flow_from_directory(directory='/mnt/vdb/thesis/trainingset2/benchmark_set/images/',\n",
    "                                            class_mode='binary', batch_size=128,target_size=(200, 200),shuffle= False)\n",
    "\n",
    "    model = create_Modelbaseline_images()\n",
    "    # Early Stopping\n",
    "    es = EarlyStopping(monitor='val_loss', patience=15, verbose=1)\n",
    "\n",
    "    #learning rate decay\n",
    "    lr_scheduler = LearningRateScheduler(lr_schedule)\n",
    "    # Generate a print\n",
    "    print('------------------------------------------------------------------------')\n",
    "    print(f'Training for fold {fold_no} ...')\n",
    "    \n",
    "    # Fit data to model\n",
    " \n",
    "    history = model.fit_generator(\n",
    "        generator=train_data,\n",
    "        #steps_per_epoch = len(train_data) // 128,\n",
    "        validation_data=validation_set,\n",
    "        #validation_steps = len(validation_set) // 128, \n",
    "        epochs=100, \n",
    "        callbacks=[es,lr_scheduler], verbose=0\n",
    "    )\n",
    "\n",
    "    y_test = test_data.classes\n",
    "    y_probas = model.predict_generator(generator=test_data)\n",
    "    y_predict = np.where(y_probas > 0.5, 1, 0)\n",
    "    print(classification_report(y_test, y_pred)) \n",
    "\n",
    "    # accuracy: (tp + tn) / (p + n)\n",
    "    accuracy = accuracy_score(y_predict, y_test)\n",
    "    print('Accuracy: %f' % accuracy)\n",
    "    # precision tp / (tp + fp)\n",
    "    precision = (precision_score(y_predict,y_test, pos_label= 1)+precision_score(y_predict,y_test , pos_label= 0))*0.5\n",
    "    print('Precision: %f' % precision)\n",
    "    # recall: tp / (tp + fn)\n",
    "    recall = (recall_score(y_predict,y_test, pos_label= 1)+recall_score(y_predict,y_test , pos_label= 0))*0.5\n",
    "    print('Recall: %f' % recall)\n",
    "    # f1: 2 tp / (2 tp + fp + fn)\n",
    "    f1 =  (f1_score(y_predict,y_test, pos_label= 1)+f1_score(y_predict,y_test , pos_label= 0))*0.5\n",
    "    print('F1 score: %f' % f1)\n",
    "    \n",
    "    acc_per_fold.append(scores[1] * 100)\n",
    "    loss_per_fold.append(scores[0])  \n",
    "    _precision.append(precision * 100)  \n",
    "    _recal.append(recall * 100)  \n",
    "    _f1.append(f1 * 100)  \n",
    " \n",
    "    # Increase fold number\n",
    "    fold_no = fold_no + 1\n",
    "\n",
    "# == Provide average scores ==\n",
    "print('------------------------------------------------------------------------')\n",
    "print('Score per fold')\n",
    "for i in range(0, len(acc_per_fold)):\n",
    "  print('------------------------------------------------------------------------')\n",
    "  print(f'> Fold {i+1} - Loss: {loss_per_fold[i]} - Accuracy: {acc_per_fold[i]}%')\n",
    "print('------------------------------------------------------------------------')\n",
    "print('Average scores for all folds:')\n",
    "print(f'> Accuracy: {np.mean(acc_per_fold)} (+- {np.std(acc_per_fold)})')\n",
    "print(f'> Pecision: {np.mean(_precision)} (+- {np.std(_precision)})')\n",
    "print(f'> Recall: {np.mean(_recal)} (+- {np.std(_recal)})')\n",
    "print(f'> F1: {np.mean(_f1)} (+- {np.std(_f1)})')\n",
    "print(f'> Loss: {np.mean(loss_per_fold)}')\n",
    "print('------------------------------------------------------------------------')"
   ]
  },
  {
   "cell_type": "code",
   "execution_count": null,
   "metadata": {},
   "outputs": [],
   "source": []
  },
  {
   "cell_type": "code",
   "execution_count": null,
   "metadata": {},
   "outputs": [],
   "source": []
  },
  {
   "cell_type": "code",
   "execution_count": 31,
   "metadata": {},
   "outputs": [
    {
     "name": "stdout",
     "output_type": "stream",
     "text": [
      "              precision    recall  f1-score   support\n",
      "\n",
      "           0       0.73      0.78      0.75      1778\n",
      "           1       0.76      0.72      0.74      1778\n",
      "\n",
      "    accuracy                           0.75      3556\n",
      "   macro avg       0.75      0.75      0.75      3556\n",
      "weighted avg       0.75      0.75      0.75      3556\n",
      "\n"
     ]
    }
   ],
   "source": [
    "# set 3\n",
    "y_test = test_data.classes\n",
    "y_probas = model.predict_generator(generator=test_data)\n",
    "y_pred = np.where(y_probas > 0.8, 1, 0)\n",
    "print(classification_report(y_test, y_pred)) "
   ]
  },
  {
   "cell_type": "code",
   "execution_count": 38,
   "metadata": {},
   "outputs": [
    {
     "name": "stdout",
     "output_type": "stream",
     "text": [
      "              precision    recall  f1-score   support\n",
      "\n",
      "           0       0.80      0.65      0.72      1778\n",
      "           1       0.70      0.84      0.77      1778\n",
      "\n",
      "    accuracy                           0.74      3556\n",
      "   macro avg       0.75      0.74      0.74      3556\n",
      "weighted avg       0.75      0.74      0.74      3556\n",
      "\n"
     ]
    }
   ],
   "source": [
    "# set 3\n",
    "y_pred = np.where(y_probas > 0.5, 1, 0)\n",
    "print(classification_report(y_test, y_pred)) "
   ]
  },
  {
   "cell_type": "markdown",
   "metadata": {
    "id": "fALQEI9g4Ejn"
   },
   "source": [
    "# Conclusion"
   ]
  },
  {
   "cell_type": "code",
   "execution_count": null,
   "metadata": {},
   "outputs": [],
   "source": [
    "# IF you AveragePooling in any -> didn;t show the good performance so use Maxpooling \n",
    "# 1211 , 512 show the better performance  \n",
    "\n",
    "# 2 CNN layer\n",
    "# 2 Dense layer \n",
    "\n",
    "# Add"
   ]
  },
  {
   "cell_type": "code",
   "execution_count": 19,
   "metadata": {
    "id": "Gh0Zvl9j4E38"
   },
   "outputs": [
    {
     "ename": "AttributeError",
     "evalue": "'Functional' object has no attribute 'layers_by_depth'",
     "output_type": "error",
     "traceback": [
      "\u001b[0;31m---------------------------------------------------------------------------\u001b[0m",
      "\u001b[0;31mAttributeError\u001b[0m                            Traceback (most recent call last)",
      "\u001b[0;32m<ipython-input-19-406262364133>\u001b[0m in \u001b[0;36m<module>\u001b[0;34m\u001b[0m\n\u001b[0;32m----> 1\u001b[0;31m \u001b[0mmodel\u001b[0m\u001b[0;34m.\u001b[0m\u001b[0mlayers_by_depth\u001b[0m\u001b[0;34m\u001b[0m\u001b[0;34m\u001b[0m\u001b[0m\n\u001b[0m",
      "\u001b[0;31mAttributeError\u001b[0m: 'Functional' object has no attribute 'layers_by_depth'"
     ]
    }
   ],
   "source": [
    "model.layers_by_depth"
   ]
  },
  {
   "cell_type": "code",
   "execution_count": null,
   "metadata": {},
   "outputs": [],
   "source": []
  }
 ],
 "metadata": {
  "accelerator": "GPU",
  "colab": {
   "collapsed_sections": [],
   "name": "CustomDNNModel.ipynb",
   "provenance": [],
   "toc_visible": true
  },
  "kernelspec": {
   "display_name": "Python 3",
   "language": "python",
   "name": "python3"
  },
  "language_info": {
   "codemirror_mode": {
    "name": "ipython",
    "version": 3
   },
   "file_extension": ".py",
   "mimetype": "text/x-python",
   "name": "python",
   "nbconvert_exporter": "python",
   "pygments_lexer": "ipython3",
   "version": "3.7.10"
  }
 },
 "nbformat": 4,
 "nbformat_minor": 4
}
