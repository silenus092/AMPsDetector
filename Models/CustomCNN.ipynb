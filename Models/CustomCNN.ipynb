{
 "cells": [
  {
   "cell_type": "code",
   "execution_count": null,
   "metadata": {},
   "outputs": [],
   "source": [
    "# https://stackoverflow.com/questions/48641189/fitting-3d-data-as-input-into-keras-sequential-model-layer"
   ]
  },
  {
   "cell_type": "code",
   "execution_count": null,
   "metadata": {},
   "outputs": [],
   "source": [
    "!pip install qhoptim\n",
    "!conda install keras=2.3.1 -y"
   ]
  },
  {
   "cell_type": "code",
   "execution_count": 2,
   "metadata": {},
   "outputs": [],
   "source": [
    "# Use only CPU\n",
    "import os \n",
    "os.environ['CUDA_VISIBLE_DEVICES'] = '-1'"
   ]
  },
  {
   "cell_type": "code",
   "execution_count": null,
   "metadata": {},
   "outputs": [],
   "source": [
    "import tensorflow as tf\n",
    "from tensorflow.python.client import device_lib\n",
    "print(device_lib.list_local_devices())"
   ]
  },
  {
   "cell_type": "code",
   "execution_count": 14,
   "metadata": {
    "id": "4aBzk8QXHS9S"
   },
   "outputs": [],
   "source": [
    "import os\n",
    "import gc\n",
    "\n",
    "import numpy as np\n",
    "import pandas as pd\n",
    "import matplotlib.pyplot as plt\n",
    "import matplotlib.patches as patches\n",
    "import seaborn as sns\n",
    "\n",
    "from collections import Counter\n",
    "from prettytable import PrettyTable\n",
    "from IPython.display import Image\n",
    "from sklearn.model_selection import train_test_split\n",
    "from sklearn.model_selection import cross_val_score\n",
    "from sklearn.model_selection import StratifiedKFold\n",
    "from sklearn.metrics import roc_curve,auc\n",
    "\n",
    "#keras\n",
    "import tensorflow.keras as keras\n",
    "from tensorflow.keras.models import Model\n",
    "from tensorflow.keras.regularizers import l2, l1_l2\n",
    "from tensorflow.keras.constraints import max_norm\n",
    "from tensorflow.keras.callbacks import EarlyStopping\n",
    "from tensorflow.keras.layers import Input, Dense, Dropout, Flatten, Activation\n",
    "from tensorflow.keras.layers import Conv1D, Add, MaxPooling1D, BatchNormalization\n",
    "from tensorflow.keras.layers import Embedding, Bidirectional, GlobalMaxPooling1D, AveragePooling1D, GlobalAveragePooling1D\n",
    "\n",
    "from tensorflow.keras.layers import Conv2D, ZeroPadding2D\n",
    "from tensorflow.keras.layers import MaxPooling2D\n",
    "\n",
    "from tensorflow.keras.models import Sequential\n",
    "from tensorflow.keras.callbacks import LearningRateScheduler\n",
    "from tensorflow.keras.wrappers.scikit_learn import KerasClassifier\n",
    "# CuDNNLSTM error; The error was because from TensorFlow 2 you do not need to specify CuDNNLSTM. \n",
    "# You can just use LSTM with no activation function and it will automatically use the CuDNN version. You do have to install CuDNN first.\n",
    "\n",
    "from tensorflow.keras.callbacks import ModelCheckpoint\n",
    "from sklearn.metrics import classification_report, confusion_matrix, accuracy_score\n",
    "\n",
    "import pickle5 as pickle\n",
    "# \n",
    "# from qhoptim.tf import QHAdamOptimizer"
   ]
  },
  {
   "cell_type": "code",
   "execution_count": 3,
   "metadata": {
    "id": "FNhtXHJrfEE4"
   },
   "outputs": [],
   "source": [
    "# small old ../datasets/AMPsNonAMPs_df.239.plk\n",
    "# /home/ubuntu/data/AMPsNonAMPs_df.plk old dataset\n",
    "# /mnt/vdb/thesis/jax/AMPNonAMP.final.reps new dataset\n",
    "\n",
    "with open( \"/mnt/vdb/thesis/jax/AMPNonAMP.V5_C08_sim60.reps\", 'rb') as file:\n",
    "    AMPs_df = pickle.load(file)"
   ]
  },
  {
   "cell_type": "code",
   "execution_count": 2,
   "metadata": {},
   "outputs": [],
   "source": [
    "# For PWS\n",
    "with open( '/mnt/vdb/thesis/pwm/AMPnonAMP.sim60_c08.pwm.pkl', 'rb') as file:\n",
    "    AMPs_df = pickle.load(file)\n"
   ]
  },
  {
   "cell_type": "code",
   "execution_count": null,
   "metadata": {
    "colab": {
     "base_uri": "https://localhost:8080/",
     "height": 597
    },
    "id": "mGiMSzzPfj2t",
    "outputId": "092eb611-b89c-4cac-c8c4-0557799510cf"
   },
   "outputs": [],
   "source": [
    "#AMPs_df.drop_duplicates(subset=['Sequence'],inplace=True)\n",
    "AMPs_df =AMPs_df[AMPs_df[\"length\"] <=30 ]\n",
    "AMPs_df "
   ]
  },
  {
   "cell_type": "markdown",
   "metadata": {
    "id": "g2i7Tk41aDZ5"
   },
   "source": [
    "### Utility function: plot_history, display_model_score"
   ]
  },
  {
   "cell_type": "code",
   "execution_count": 3,
   "metadata": {
    "id": "7F7ykQsDVxHO"
   },
   "outputs": [],
   "source": [
    "def plot_history(history):\n",
    "  # dict_keys(['loss', 'accuracy', 'val_loss', 'val_accuracy'])\n",
    "  acc = history.history['accuracy']\n",
    "  val_acc = history.history['val_accuracy']\n",
    "  loss = history.history['loss']\n",
    "  val_loss = history.history['val_loss']\n",
    "  x = range(1, len(acc) + 1)\n",
    "\n",
    "  plt.figure(figsize=(12, 5))\n",
    "  plt.subplot(1, 2, 1)\n",
    "  plt.plot(x, acc, 'b', label='Training acc')\n",
    "  plt.plot(x, val_acc, 'r', label='Validation acc')\n",
    "  plt.title('Training and validation accuracy')\n",
    "  plt.legend()\n",
    "\n",
    "  plt.subplot(1, 2, 2)\n",
    "  plt.plot(x, loss, 'b', label='Training loss')\n",
    "  plt.plot(x, val_loss, 'r', label='Validation loss')\n",
    "  plt.title('Training and validation loss')\n",
    "  plt.legend()\n",
    "\n",
    "# Display model score(Loss & Accuracy) across all sets.\n",
    "def display_model_score(model, train, val, test):\n",
    "  train_score = model.evaluate(train[0], train[1], verbose=1)\n",
    "  print('Train loss: ', train_score[0])\n",
    "  print('Train accuracy: ', train_score[1])\n",
    "  print('-'*70)\n",
    "  val_score = model.evaluate(val[0], val[1], verbose=1)\n",
    "  print('Val loss: ', val_score[0])\n",
    "  print('Val accuracy: ', val_score[1])\n",
    "  print('-'*70)\n",
    "  test_score = model.evaluate(test[0], test[1], verbose=1)\n",
    "  print('Test loss: ', test_score[0])\n",
    "  print('Test accuracy: ', test_score[1])\n",
    "\n",
    "def plot_history_CV(cv, estimator,x,y):\n",
    "  # plot arrows\n",
    "  fig1 = plt.figure(figsize=[12,12])\n",
    "  ax1 = fig1.add_subplot(111,aspect = 'equal')\n",
    "  ax1.add_patch(\n",
    "      patches.Arrow(0.45,0.5,-0.25,0.25,width=0.3,color='green',alpha = 0.5)\n",
    "      )\n",
    "  ax1.add_patch(\n",
    "      patches.Arrow(0.5,0.45,0.25,-0.25,width=0.3,color='red',alpha = 0.5)\n",
    "      )\n",
    "\n",
    "  tprs = []\n",
    "  aucs = []\n",
    "  mean_fpr = np.linspace(0,1,100)\n",
    "  i = 1\n",
    "  for train,test in cv.split(x,y):\n",
    "      model = create_Modelbaseline()\n",
    "      model.fit(x[train],y.iloc[train],\n",
    "            epochs=30,\n",
    "            shuffle=True,verbose=0)\n",
    "      prediction = model.predict(x[test])\n",
    "      fpr, tpr, t = roc_curve(y[test], prediction[:, 1])\n",
    "      tprs.append(interp(mean_fpr, fpr, tpr))\n",
    "      roc_auc = auc(fpr, tpr)\n",
    "      aucs.append(roc_auc)\n",
    "      plt.plot(fpr, tpr, lw=2, alpha=0.3, label='ROC fold %d (AUC = %0.2f)' % (i, roc_auc))\n",
    "      i= i+1\n",
    "\n",
    "  plt.plot([0,1],[0,1],linestyle = '--',lw = 2,color = 'black')\n",
    "  mean_tpr = np.mean(tprs, axis=0)\n",
    "  mean_auc = auc(mean_fpr, mean_tpr)\n",
    "  plt.plot(mean_fpr, mean_tpr, color='blue',\n",
    "          label=r'Mean ROC (AUC = %0.2f )' % (mean_auc),lw=2, alpha=1)\n",
    "\n",
    "  plt.xlabel('False Positive Rate')\n",
    "  plt.ylabel('True Positive Rate')\n",
    "  plt.title('ROC')\n",
    "  plt.legend(loc=\"lower right\")\n",
    "  plt.text(0.32,0.7,'More accurate area',fontsize = 12)\n",
    "  plt.text(0.63,0.4,'Less accurate area',fontsize = 12)\n",
    "  plt.show()"
   ]
  },
  {
   "cell_type": "code",
   "execution_count": 18,
   "metadata": {},
   "outputs": [],
   "source": [
    "#from keras import backend as K\n",
    "#K.set_value(model_ProtCNN.optimizer.learning_rate, 0.00001)\n",
    "def lr_schedule(epoch):\n",
    "    \n",
    "    lr = 1e-3\n",
    "    if epoch > 80:\n",
    "        lr = 0.1e-6\n",
    "    elif epoch > 50:    \n",
    "        lr = 0.3e-5\n",
    "    elif epoch > 20:\n",
    "        lr = 1e-4\n",
    "        \n",
    "    print(' Learning rate: ', lr)    \n",
    "    return lr "
   ]
  },
  {
   "cell_type": "markdown",
   "metadata": {
    "id": "nI-_ZAvfIb5A"
   },
   "source": [
    "# Split Train/ Test / Validation set"
   ]
  },
  {
   "cell_type": "code",
   "execution_count": 4,
   "metadata": {
    "id": "lAAQLx4UIptD"
   },
   "outputs": [
    {
     "data": {
      "text/plain": [
       "(137389, 400)"
      ]
     },
     "execution_count": 4,
     "metadata": {},
     "output_type": "execute_result"
    }
   ],
   "source": [
    "AMPs_df.shape"
   ]
  },
  {
   "cell_type": "code",
   "execution_count": 52,
   "metadata": {
    "id": "EkmqGqfUT0XR"
   },
   "outputs": [],
   "source": [
    "# For PWM -400 dimension\n",
    "window_sizes = 20\n",
    "\n",
    "X = AMPs_df[:,0:window_sizes*20].reshape(len(AMPs_df),1,20,window_sizes)\n",
    "Y = np.array([0] * 68869 + [1] * 68520) # <-- change here\n",
    "X_train, X_test, y_train, y_test = train_test_split(X,Y, test_size=0.2, random_state=1)\n",
    "X_train, X_val, y_train, y_val = train_test_split(X_train, y_train, test_size=0.25, random_state=1)"
   ]
  },
  {
   "cell_type": "code",
   "execution_count": 4,
   "metadata": {
    "id": "UWQ2IZWgIbST"
   },
   "outputs": [],
   "source": [
    "#X= np.array(AMPs_df['reps'].to_list())\n",
    "#y= np.array(AMPs_df['class'].to_list())\n",
    "\n",
    "X_train, X_test, y_train, y_test = train_test_split(np.array(AMPs_df['reps'].to_list()),  np.array(AMPs_df['class'].to_list()), test_size=0.2, random_state=1)\n",
    "X_train, X_val, y_train, y_val = train_test_split(X_train, y_train, test_size=0.25, random_state=1) # 0.25 x 0.8 = 0.2"
   ]
  },
  {
   "cell_type": "code",
   "execution_count": 53,
   "metadata": {
    "colab": {
     "base_uri": "https://localhost:8080/",
     "height": 73
    },
    "id": "IM7Scdevkwpp",
    "outputId": "55fa7ea6-a5f9-4e23-bf42-f1a4bf64f8a3"
   },
   "outputs": [
    {
     "name": "stdout",
     "output_type": "stream",
     "text": [
      "Train size:  82433\n",
      "Val size:  27478\n",
      "Test size:  27478\n"
     ]
    }
   ],
   "source": [
    "# Given data size\n",
    "print('Train size: ', len(X_train))\n",
    "print('Val size: ', len(X_val))\n",
    "print('Test size: ', len(X_test))"
   ]
  },
  {
   "cell_type": "markdown",
   "metadata": {},
   "source": [
    "## Custom CNN"
   ]
  },
  {
   "cell_type": "code",
   "execution_count": 6,
   "metadata": {},
   "outputs": [
    {
     "name": "stdout",
     "output_type": "stream",
     "text": [
      "(128565, 1900, 1)\n",
      "(42856, 1900, 1)\n",
      "(42855, 1900, 1)\n"
     ]
    }
   ],
   "source": [
    "# 3d dimension for LSTM\n",
    "# Batchs, n_timesteps, n_features\n",
    "\n",
    "# Images 3d dimension\n",
    "# width , heigth , channel\n",
    "\n",
    "# Conv1D with sequential data\n",
    "# batch, steps, channels\n",
    "\n",
    "# https://stackoverflow.com/questions/52803989/how-to-correct-shape-of-keras-input-into-a-3d-array/52804200\n",
    "X_train = np.reshape(X_train,(X_train.shape[0],X_train.shape[1],1))\n",
    "print(X_train.shape)\n",
    "X_test = np.reshape(X_test,(X_test.shape[0],X_test.shape[1],1))\n",
    "print(X_test.shape)\n",
    "X_val = np.reshape(X_val,(X_val.shape[0],X_val.shape[1],1))\n",
    "print(X_val.shape)"
   ]
  },
  {
   "cell_type": "code",
   "execution_count": 7,
   "metadata": {},
   "outputs": [
    {
     "data": {
      "text/plain": [
       "array([[[ 0.05368484, -0.03313179, -0.04137151, ...,  0.04686536,\n",
       "          0.07515805,  0.09453979]],\n",
       "\n",
       "       [[ 0.01226678,  0.03930363,  0.02485003, ...,  0.03290013,\n",
       "          0.0553586 , -0.03752161]],\n",
       "\n",
       "       [[ 0.02220141, -0.0530687 ,  0.0117378 , ...,  0.06830079,\n",
       "          0.13145781,  0.03153091]],\n",
       "\n",
       "       ...,\n",
       "\n",
       "       [[ 0.01613748,  0.0919472 ,  0.07108982, ...,  0.05503492,\n",
       "         -0.02092175,  0.02752282]],\n",
       "\n",
       "       [[ 0.00737427, -0.02503035,  0.03058322, ..., -0.04634462,\n",
       "          0.13963404,  0.00552622]],\n",
       "\n",
       "       [[ 0.01309069,  0.00857742,  0.03156777, ...,  0.05718511,\n",
       "          0.09086805, -0.00191969]]])"
      ]
     },
     "execution_count": 7,
     "metadata": {},
     "output_type": "execute_result"
    }
   ],
   "source": [
    "X_train"
   ]
  },
  {
   "cell_type": "code",
   "execution_count": 13,
   "metadata": {},
   "outputs": [
    {
     "data": {
      "text/plain": [
       "1"
      ]
     },
     "execution_count": 13,
     "metadata": {},
     "output_type": "execute_result"
    }
   ],
   "source": [
    "X_train.shape[1]"
   ]
  },
  {
   "cell_type": "code",
   "execution_count": 12,
   "metadata": {},
   "outputs": [
    {
     "ename": "ValueError",
     "evalue": "cannot reshape array of size 156622700 into shape (82433,1,1)",
     "output_type": "error",
     "traceback": [
      "\u001b[0;31m---------------------------------------------------------------------------\u001b[0m",
      "\u001b[0;31mValueError\u001b[0m                                Traceback (most recent call last)",
      "\u001b[0;32m<ipython-input-12-faa9a6d9ca0e>\u001b[0m in \u001b[0;36m<module>\u001b[0;34m\u001b[0m\n\u001b[0;32m----> 1\u001b[0;31m \u001b[0mX_train\u001b[0m \u001b[0;34m=\u001b[0m \u001b[0mnp\u001b[0m\u001b[0;34m.\u001b[0m\u001b[0mreshape\u001b[0m\u001b[0;34m(\u001b[0m\u001b[0mX_train\u001b[0m\u001b[0;34m,\u001b[0m\u001b[0;34m(\u001b[0m\u001b[0mX_train\u001b[0m\u001b[0;34m.\u001b[0m\u001b[0mshape\u001b[0m\u001b[0;34m[\u001b[0m\u001b[0;36m0\u001b[0m\u001b[0;34m]\u001b[0m\u001b[0;34m,\u001b[0m\u001b[0mX_train\u001b[0m\u001b[0;34m.\u001b[0m\u001b[0mshape\u001b[0m\u001b[0;34m[\u001b[0m\u001b[0;36m1\u001b[0m\u001b[0;34m]\u001b[0m\u001b[0;34m,\u001b[0m\u001b[0;36m1\u001b[0m\u001b[0;34m)\u001b[0m\u001b[0;34m)\u001b[0m\u001b[0;34m\u001b[0m\u001b[0;34m\u001b[0m\u001b[0m\n\u001b[0m\u001b[1;32m      2\u001b[0m \u001b[0mprint\u001b[0m\u001b[0;34m(\u001b[0m\u001b[0mX_train\u001b[0m\u001b[0;34m.\u001b[0m\u001b[0mshape\u001b[0m\u001b[0;34m)\u001b[0m\u001b[0;34m\u001b[0m\u001b[0;34m\u001b[0m\u001b[0m\n\u001b[1;32m      3\u001b[0m \u001b[0mX_test\u001b[0m \u001b[0;34m=\u001b[0m \u001b[0mnp\u001b[0m\u001b[0;34m.\u001b[0m\u001b[0mreshape\u001b[0m\u001b[0;34m(\u001b[0m\u001b[0mX_test\u001b[0m\u001b[0;34m,\u001b[0m\u001b[0;34m(\u001b[0m\u001b[0mX_test\u001b[0m\u001b[0;34m.\u001b[0m\u001b[0mshape\u001b[0m\u001b[0;34m[\u001b[0m\u001b[0;36m0\u001b[0m\u001b[0;34m]\u001b[0m\u001b[0;34m,\u001b[0m\u001b[0mX_test\u001b[0m\u001b[0;34m.\u001b[0m\u001b[0mshape\u001b[0m\u001b[0;34m[\u001b[0m\u001b[0;36m1\u001b[0m\u001b[0;34m]\u001b[0m\u001b[0;34m,\u001b[0m\u001b[0;36m1\u001b[0m\u001b[0;34m)\u001b[0m\u001b[0;34m)\u001b[0m\u001b[0;34m\u001b[0m\u001b[0;34m\u001b[0m\u001b[0m\n\u001b[1;32m      4\u001b[0m \u001b[0mprint\u001b[0m\u001b[0;34m(\u001b[0m\u001b[0mX_test\u001b[0m\u001b[0;34m.\u001b[0m\u001b[0mshape\u001b[0m\u001b[0;34m)\u001b[0m\u001b[0;34m\u001b[0m\u001b[0;34m\u001b[0m\u001b[0m\n\u001b[1;32m      5\u001b[0m \u001b[0mX_val\u001b[0m \u001b[0;34m=\u001b[0m \u001b[0mnp\u001b[0m\u001b[0;34m.\u001b[0m\u001b[0mreshape\u001b[0m\u001b[0;34m(\u001b[0m\u001b[0mX_val\u001b[0m\u001b[0;34m,\u001b[0m\u001b[0;34m(\u001b[0m\u001b[0mX_val\u001b[0m\u001b[0;34m.\u001b[0m\u001b[0mshape\u001b[0m\u001b[0;34m[\u001b[0m\u001b[0;36m0\u001b[0m\u001b[0;34m]\u001b[0m\u001b[0;34m,\u001b[0m\u001b[0mX_val\u001b[0m\u001b[0;34m.\u001b[0m\u001b[0mshape\u001b[0m\u001b[0;34m[\u001b[0m\u001b[0;36m1\u001b[0m\u001b[0;34m]\u001b[0m\u001b[0;34m,\u001b[0m\u001b[0;36m1\u001b[0m\u001b[0;34m)\u001b[0m\u001b[0;34m)\u001b[0m\u001b[0;34m\u001b[0m\u001b[0;34m\u001b[0m\u001b[0m\n",
      "\u001b[0;32m<__array_function__ internals>\u001b[0m in \u001b[0;36mreshape\u001b[0;34m(*args, **kwargs)\u001b[0m\n",
      "\u001b[0;32m~/.local/lib/python3.7/site-packages/numpy/core/fromnumeric.py\u001b[0m in \u001b[0;36mreshape\u001b[0;34m(a, newshape, order)\u001b[0m\n\u001b[1;32m    299\u001b[0m            [5, 6]])\n\u001b[1;32m    300\u001b[0m     \"\"\"\n\u001b[0;32m--> 301\u001b[0;31m     \u001b[0;32mreturn\u001b[0m \u001b[0m_wrapfunc\u001b[0m\u001b[0;34m(\u001b[0m\u001b[0ma\u001b[0m\u001b[0;34m,\u001b[0m \u001b[0;34m'reshape'\u001b[0m\u001b[0;34m,\u001b[0m \u001b[0mnewshape\u001b[0m\u001b[0;34m,\u001b[0m \u001b[0morder\u001b[0m\u001b[0;34m=\u001b[0m\u001b[0morder\u001b[0m\u001b[0;34m)\u001b[0m\u001b[0;34m\u001b[0m\u001b[0;34m\u001b[0m\u001b[0m\n\u001b[0m\u001b[1;32m    302\u001b[0m \u001b[0;34m\u001b[0m\u001b[0m\n\u001b[1;32m    303\u001b[0m \u001b[0;34m\u001b[0m\u001b[0m\n",
      "\u001b[0;32m~/.local/lib/python3.7/site-packages/numpy/core/fromnumeric.py\u001b[0m in \u001b[0;36m_wrapfunc\u001b[0;34m(obj, method, *args, **kwds)\u001b[0m\n\u001b[1;32m     59\u001b[0m \u001b[0;34m\u001b[0m\u001b[0m\n\u001b[1;32m     60\u001b[0m     \u001b[0;32mtry\u001b[0m\u001b[0;34m:\u001b[0m\u001b[0;34m\u001b[0m\u001b[0;34m\u001b[0m\u001b[0m\n\u001b[0;32m---> 61\u001b[0;31m         \u001b[0;32mreturn\u001b[0m \u001b[0mbound\u001b[0m\u001b[0;34m(\u001b[0m\u001b[0;34m*\u001b[0m\u001b[0margs\u001b[0m\u001b[0;34m,\u001b[0m \u001b[0;34m**\u001b[0m\u001b[0mkwds\u001b[0m\u001b[0;34m)\u001b[0m\u001b[0;34m\u001b[0m\u001b[0;34m\u001b[0m\u001b[0m\n\u001b[0m\u001b[1;32m     62\u001b[0m     \u001b[0;32mexcept\u001b[0m \u001b[0mTypeError\u001b[0m\u001b[0;34m:\u001b[0m\u001b[0;34m\u001b[0m\u001b[0;34m\u001b[0m\u001b[0m\n\u001b[1;32m     63\u001b[0m         \u001b[0;31m# A TypeError occurs if the object does have such a method in its\u001b[0m\u001b[0;34m\u001b[0m\u001b[0;34m\u001b[0m\u001b[0;34m\u001b[0m\u001b[0m\n",
      "\u001b[0;31mValueError\u001b[0m: cannot reshape array of size 156622700 into shape (82433,1,1)"
     ]
    }
   ],
   "source": [
    "X_train = np.reshape(X_train,(X_train.shape[0],X_train.shape[1],1))\n",
    "print(X_train.shape)\n",
    "X_test = np.reshape(X_test,(X_test.shape[0],X_test.shape[1],1))\n",
    "print(X_test.shape)\n",
    "X_val = np.reshape(X_val,(X_val.shape[0],X_val.shape[1],1))\n",
    "print(X_val.shape)"
   ]
  },
  {
   "cell_type": "code",
   "execution_count": 7,
   "metadata": {},
   "outputs": [
    {
     "name": "stdout",
     "output_type": "stream",
     "text": [
      "Model: \"functional_1\"\n",
      "_________________________________________________________________\n",
      "Layer (type)                 Output Shape              Param #   \n",
      "=================================================================\n",
      "input_1 (InputLayer)         [(None, 1900, 1)]         0         \n",
      "_________________________________________________________________\n",
      "conv1d (Conv1D)              (None, 1900, 512)         4096      \n",
      "_________________________________________________________________\n",
      "max_pooling1d (MaxPooling1D) (None, 633, 512)          0         \n",
      "_________________________________________________________________\n",
      "conv1d_1 (Conv1D)            (None, 633, 256)          655616    \n",
      "_________________________________________________________________\n",
      "max_pooling1d_1 (MaxPooling1 (None, 316, 256)          0         \n",
      "_________________________________________________________________\n",
      "flatten (Flatten)            (None, 80896)             0         \n",
      "_________________________________________________________________\n",
      "dense (Dense)                (None, 1211)              97966267  \n",
      "_________________________________________________________________\n",
      "dropout (Dropout)            (None, 1211)              0         \n",
      "_________________________________________________________________\n",
      "dense_1 (Dense)              (None, 1211)              1467732   \n",
      "_________________________________________________________________\n",
      "dropout_1 (Dropout)          (None, 1211)              0         \n",
      "_________________________________________________________________\n",
      "output_layer (Dense)         (None, 1)                 1212      \n",
      "=================================================================\n",
      "Total params: 100,094,923\n",
      "Trainable params: 100,094,923\n",
      "Non-trainable params: 0\n",
      "_________________________________________________________________\n"
     ]
    }
   ],
   "source": [
    "# the best Mark I\n",
    "def create_Modelbaseline():\n",
    "    x_input = Input(shape=(1900,1)) # n_timesteps, n_features\n",
    "    # Conv\n",
    "    conv = Conv1D(512, kernel_size=7, strides=1, padding='same', activation='relu')(x_input) \n",
    "    conv = MaxPooling1D(pool_size=3)(conv)\n",
    "    conv = Conv1D(256, kernel_size=5, strides=1, padding='same', activation='relu')(conv) \n",
    "    conv = MaxPooling1D(pool_size=2)(conv)\n",
    "\n",
    "    # Flatten NN\n",
    "    flat = Flatten()(conv)\n",
    "    \n",
    "    layer_3 = Dense(2432, activation='relu')(flat)\n",
    "    dropout_3 = Dropout(0.5)(layer_3)\n",
    "    layer_4 = Dense(1211, activation='relu')(dropout_3)\n",
    "    dropout_4 = Dropout(0.5)(layer_4)\n",
    "    x_output = Dense(1, activation='sigmoid', name='output_layer', kernel_regularizer=l2(0.0001))(dropout_4)\n",
    "\n",
    "    model = Model(inputs=x_input, outputs=x_output)\n",
    "    model.compile(optimizer=\"RMSprop\", loss='binary_crossentropy', metrics=['accuracy'])\n",
    "    \n",
    "    return model\n",
    "\n",
    "model = create_Modelbaseline()\n",
    "model.summary()"
   ]
  },
  {
   "cell_type": "code",
   "execution_count": 58,
   "metadata": {},
   "outputs": [
    {
     "name": "stdout",
     "output_type": "stream",
     "text": [
      "Model: \"functional_17\"\n",
      "_________________________________________________________________\n",
      "Layer (type)                 Output Shape              Param #   \n",
      "=================================================================\n",
      "input_9 (InputLayer)         [(None, 1900, 1)]         0         \n",
      "_________________________________________________________________\n",
      "conv1d_16 (Conv1D)           (None, 1900, 512)         4608      \n",
      "_________________________________________________________________\n",
      "max_pooling1d_16 (MaxPooling (None, 633, 512)          0         \n",
      "_________________________________________________________________\n",
      "conv1d_17 (Conv1D)           (None, 633, 256)          655616    \n",
      "_________________________________________________________________\n",
      "max_pooling1d_17 (MaxPooling (None, 316, 256)          0         \n",
      "_________________________________________________________________\n",
      "flatten_8 (Flatten)          (None, 80896)             0         \n",
      "_________________________________________________________________\n",
      "dense_16 (Dense)             (None, 1211)              97966267  \n",
      "_________________________________________________________________\n",
      "dropout_16 (Dropout)         (None, 1211)              0         \n",
      "_________________________________________________________________\n",
      "dense_17 (Dense)             (None, 1211)              1467732   \n",
      "_________________________________________________________________\n",
      "dropout_17 (Dropout)         (None, 1211)              0         \n",
      "_________________________________________________________________\n",
      "output_layer (Dense)         (None, 1)                 1212      \n",
      "=================================================================\n",
      "Total params: 100,095,435\n",
      "Trainable params: 100,095,435\n",
      "Non-trainable params: 0\n",
      "_________________________________________________________________\n"
     ]
    }
   ],
   "source": [
    "# n_timesteps, n_features, n_outputs = X_train.shape[2], X_train.shape[1], 1\n",
    "# nn.Conv1d with a kernel size of 1 and nn.Linear   give exactly the same results.\n",
    "\n",
    "# use in dev \n",
    "\n",
    "#SGD\n",
    "#RMSprop\n",
    "#Adam\n",
    "#Adadelta\n",
    "#Adagrad\n",
    "#Adamax\n",
    "#Nadam\n",
    "#Ftrl\n",
    "#\n",
    "#\n",
    "def create_Modelbaseline():\n",
    "    x_input = Input(shape=(1900,1)) # n_timesteps, n_features\n",
    "    # Conv\n",
    "    #conv = Conv1D(512, kernel_size=7, strides=1, padding='same', activation='relu')(x_input) \n",
    "    #conv = MaxPooling1D(pool_size=3)(conv)\n",
    "    conv = Conv1D(512, kernel_size=8, strides=1, padding='same', activation='relu')(x_input) \n",
    "    conv = MaxPooling1D(pool_size=3)(conv)\n",
    "    dropout_3 = Dropout(0.5)(layer_3)\n",
    "    conv = Conv1D(256, kernel_size=5, strides=1, padding='same', activation='relu')(conv) \n",
    "    conv = MaxPooling1D(pool_size=2)(conv)\n",
    "    dropout_3 = Dropout(0.5)(layer_3)\n",
    "   \n",
    "    # Flatten NN\n",
    "    flat = Flatten()(conv)\n",
    "    layer_3 = Dense(1211, activation='relu')(flat)\n",
    "    dropout_3 = Dropout(0.2)(layer_3)\n",
    "    layer_4 = Dense(1211, activation='relu')(dropout_3)\n",
    "    dropout_4 = Dropout(0.2)(layer_4)\n",
    "    x_output = Dense(1, activation='sigmoid', name='output_layer', kernel_regularizer=l2(0.0001))(dropout_4)\n",
    "\n",
    "    model = Model(inputs=x_input, outputs=x_output)\n",
    "    model.compile(optimizer=\"Adam\", loss='binary_crossentropy', metrics=['accuracy'])\n",
    "    \n",
    "    return model\n",
    "\n",
    "model = create_Modelbaseline()\n",
    "model.summary()"
   ]
  },
  {
   "cell_type": "code",
   "execution_count": 19,
   "metadata": {},
   "outputs": [
    {
     "name": "stdout",
     "output_type": "stream",
     "text": [
      "Model: \"functional_5\"\n",
      "_________________________________________________________________\n",
      "Layer (type)                 Output Shape              Param #   \n",
      "=================================================================\n",
      "input_3 (InputLayer)         [(None, 1900, 1)]         0         \n",
      "_________________________________________________________________\n",
      "conv1d_4 (Conv1D)            (None, 1900, 128)         2560      \n",
      "_________________________________________________________________\n",
      "max_pooling1d_4 (MaxPooling1 (None, 76, 128)           0         \n",
      "_________________________________________________________________\n",
      "conv1d_5 (Conv1D)            (None, 76, 128)           82048     \n",
      "_________________________________________________________________\n",
      "max_pooling1d_5 (MaxPooling1 (None, 19, 128)           0         \n",
      "_________________________________________________________________\n",
      "batch_normalization_4 (Batch (None, 19, 128)           512       \n",
      "_________________________________________________________________\n",
      "flatten_2 (Flatten)          (None, 2432)              0         \n",
      "_________________________________________________________________\n",
      "dense_4 (Dense)              (None, 1211)              2946363   \n",
      "_________________________________________________________________\n",
      "dropout_4 (Dropout)          (None, 1211)              0         \n",
      "_________________________________________________________________\n",
      "dense_5 (Dense)              (None, 512)               620544    \n",
      "_________________________________________________________________\n",
      "dropout_5 (Dropout)          (None, 512)               0         \n",
      "_________________________________________________________________\n",
      "output_layer (Dense)         (None, 1)                 513       \n",
      "=================================================================\n",
      "Total params: 3,652,540\n",
      "Trainable params: 3,652,284\n",
      "Non-trainable params: 256\n",
      "_________________________________________________________________\n"
     ]
    }
   ],
   "source": [
    "# create_ModelII\n",
    "## https://github.com/p-koo/learning_sequence_motifs/blob/master/code/models/cnn_25.py show best here \n",
    "def create_Modelbaseline():\n",
    "    x_input = Input(shape=(1900,1)) # n_timesteps, n_features\n",
    "    # Conv\n",
    "  #bn1 = BatchNormalization()(data)\n",
    "  #act1 = Activation('relu')(bn1)\n",
    "    \n",
    "    conv = Conv1D(128, kernel_size=19, strides=1, padding='same', activation='relu')(x_input)  # Extract whole motif pattern\n",
    "    conv = MaxPooling1D(pool_size=25)(conv)\n",
    "    conv = Conv1D(128, kernel_size=5, strides=1, padding='same', activation='relu')(conv)  # Extract extra features  \n",
    "    conv = MaxPooling1D(pool_size=4)(conv)\n",
    "    \n",
    "    x = BatchNormalization()(conv)\n",
    "   \n",
    "    # Flatten NN\n",
    "    flat = Flatten()(x)\n",
    "    layer_3 = Dense(1211, activation='relu')(flat)\n",
    "    dropout_3 = Dropout(0.5)(layer_3)\n",
    "    layer_4 = Dense(512, activation='relu')(dropout_3)\n",
    "    dropout_4 = Dropout(0.5)(layer_4)\n",
    "    x_output = Dense(1, activation='sigmoid', name='output_layer', kernel_regularizer=l1_l2(0.000001))(dropout_4)\n",
    "\n",
    "    model = Model(inputs=x_input, outputs=x_output)\n",
    "    model.compile(optimizer=\"Adam\", loss='binary_crossentropy', metrics=['accuracy'])\n",
    "    \n",
    "    return model\n",
    "\n",
    "model = create_Modelbaseline()\n",
    "model.summary()"
   ]
  },
  {
   "cell_type": "code",
   "execution_count": null,
   "metadata": {},
   "outputs": [],
   "source": [
    "# https://stackoverflow.com/questions/43237124/what-is-the-role-of-flatten-in-keras"
   ]
  },
  {
   "cell_type": "code",
   "execution_count": 13,
   "metadata": {},
   "outputs": [
    {
     "name": "stdout",
     "output_type": "stream",
     "text": [
      "Model: \"functional_3\"\n",
      "_________________________________________________________________\n",
      "Layer (type)                 Output Shape              Param #   \n",
      "=================================================================\n",
      "input_2 (InputLayer)         [(None, 1900, 1)]         0         \n",
      "_________________________________________________________________\n",
      "conv1d_2 (Conv1D)            (None, 1900, 64)          2624      \n",
      "_________________________________________________________________\n",
      "max_pooling1d_2 (MaxPooling1 (None, 76, 64)            0         \n",
      "_________________________________________________________________\n",
      "conv1d_3 (Conv1D)            (None, 76, 128)           57472     \n",
      "_________________________________________________________________\n",
      "max_pooling1d_3 (MaxPooling1 (None, 19, 128)           0         \n",
      "_________________________________________________________________\n",
      "batch_normalization_1 (Batch (None, 19, 128)           512       \n",
      "_________________________________________________________________\n",
      "flatten_1 (Flatten)          (None, 2432)              0         \n",
      "_________________________________________________________________\n",
      "dense_2 (Dense)              (None, 2432)              5917056   \n",
      "_________________________________________________________________\n",
      "batch_normalization_2 (Batch (None, 2432)              9728      \n",
      "_________________________________________________________________\n",
      "activation (Activation)      (None, 2432)              0         \n",
      "_________________________________________________________________\n",
      "dropout_2 (Dropout)          (None, 2432)              0         \n",
      "_________________________________________________________________\n",
      "dense_3 (Dense)              (None, 1216)              2958528   \n",
      "_________________________________________________________________\n",
      "batch_normalization_3 (Batch (None, 1216)              4864      \n",
      "_________________________________________________________________\n",
      "activation_1 (Activation)    (None, 1216)              0         \n",
      "_________________________________________________________________\n",
      "dropout_3 (Dropout)          (None, 1216)              0         \n",
      "_________________________________________________________________\n",
      "output_layer (Dense)         (None, 1)                 1217      \n",
      "=================================================================\n",
      "Total params: 8,952,001\n",
      "Trainable params: 8,944,449\n",
      "Non-trainable params: 7,552\n",
      "_________________________________________________________________\n"
     ]
    }
   ],
   "source": [
    "# create_ModelIIII\n",
    "#\n",
    "\n",
    "def create_Modelbaseline():\n",
    "    x_input = Input(shape=(1900,1)) # n_timesteps, n_features\n",
    "        \n",
    "    conv = Conv1D(64, kernel_size=40, strides=1, padding='same', activation='relu')(x_input)  # Extract whole motif pattern\n",
    "    conv = MaxPooling1D(pool_size=25)(conv)\n",
    "    conv = Conv1D(128, kernel_size=7, strides=1, padding='same', activation='relu')(conv)  # Extract extra features  \n",
    "    conv = MaxPooling1D(pool_size=4)(conv)\n",
    "    \n",
    "    x = BatchNormalization()(conv)\n",
    "    x = Flatten()(x)\n",
    "    #output = GlobalMaxPooling1D()(x)\n",
    "    \n",
    "    output = Dense(2432, activation=None)(x)\n",
    "    output = BatchNormalization()(output)\n",
    "    output = Activation('relu')(output)\n",
    "    output = Dropout(0.5)(output)\n",
    "    \n",
    "    output = Dense(1216, activation=None)(output)\n",
    "    output = BatchNormalization()(output)\n",
    "    output = Activation('relu')(output)\n",
    "    output = Dropout(0.5)(output)\n",
    "    \n",
    "    x_output = Dense(1, activation='sigmoid', name='output_layer', kernel_regularizer=l1_l2(0.000001))(output)\n",
    "    model = Model(inputs=x_input, outputs=x_output)\n",
    "    model.compile(optimizer=\"Adam\", loss='binary_crossentropy', metrics=['accuracy'])\n",
    "    \n",
    "    return model\n",
    "\n",
    "model = create_Modelbaseline()\n",
    "model.summary()"
   ]
  },
  {
   "cell_type": "code",
   "execution_count": null,
   "metadata": {},
   "outputs": [],
   "source": []
  },
  {
   "cell_type": "code",
   "execution_count": 21,
   "metadata": {
    "scrolled": true
   },
   "outputs": [
    {
     "name": "stdout",
     "output_type": "stream",
     "text": [
      "WARNING:tensorflow:`period` argument is deprecated. Please use `save_freq` to specify the frequency in number of batches seen.\n",
      " Learning rate:  0.001\n",
      "Epoch 1/100\n",
      "645/645 [==============================] - 8s 13ms/step - loss: 0.3627 - accuracy: 0.8438 - val_loss: 0.4580 - val_accuracy: 0.7969\n",
      " Learning rate:  0.001\n",
      "Epoch 2/100\n",
      "645/645 [==============================] - 8s 12ms/step - loss: 0.2875 - accuracy: 0.8804 - val_loss: 0.3460 - val_accuracy: 0.8559\n",
      " Learning rate:  0.001\n",
      "Epoch 3/100\n",
      "645/645 [==============================] - 8s 12ms/step - loss: 0.2612 - accuracy: 0.8932 - val_loss: 0.3036 - val_accuracy: 0.8721\n",
      " Learning rate:  0.001\n",
      "Epoch 4/100\n",
      "645/645 [==============================] - 7s 12ms/step - loss: 0.2425 - accuracy: 0.9011 - val_loss: 0.2612 - val_accuracy: 0.8937\n",
      " Learning rate:  0.001\n",
      "Epoch 5/100\n",
      "645/645 [==============================] - 8s 12ms/step - loss: 0.2296 - accuracy: 0.9075 - val_loss: 0.3445 - val_accuracy: 0.8735\n",
      " Learning rate:  0.001\n",
      "Epoch 6/100\n",
      "645/645 [==============================] - 8s 12ms/step - loss: 0.2215 - accuracy: 0.9099 - val_loss: 0.2718 - val_accuracy: 0.8929\n",
      " Learning rate:  0.001\n",
      "Epoch 7/100\n",
      "645/645 [==============================] - 8s 12ms/step - loss: 0.2049 - accuracy: 0.9171 - val_loss: 0.2810 - val_accuracy: 0.8847\n",
      " Learning rate:  0.001\n",
      "Epoch 8/100\n",
      "645/645 [==============================] - 8s 12ms/step - loss: 0.1950 - accuracy: 0.9227 - val_loss: 0.2538 - val_accuracy: 0.8971\n",
      " Learning rate:  0.001\n",
      "Epoch 9/100\n",
      "645/645 [==============================] - 8s 12ms/step - loss: 0.1844 - accuracy: 0.9262 - val_loss: 0.2755 - val_accuracy: 0.9002\n",
      " Learning rate:  0.001\n",
      "Epoch 10/100\n",
      "645/645 [==============================] - 8s 12ms/step - loss: 0.1780 - accuracy: 0.9296 - val_loss: 0.4436 - val_accuracy: 0.8468\n",
      " Learning rate:  0.001\n",
      "Epoch 11/100\n",
      "645/645 [==============================] - 8s 12ms/step - loss: 0.2034 - accuracy: 0.9177 - val_loss: 0.2912 - val_accuracy: 0.9038\n",
      " Learning rate:  0.001\n",
      "Epoch 12/100\n",
      "645/645 [==============================] - 8s 12ms/step - loss: 0.1678 - accuracy: 0.9333 - val_loss: 0.2621 - val_accuracy: 0.9042\n",
      " Learning rate:  0.001\n",
      "Epoch 13/100\n",
      "645/645 [==============================] - 8s 12ms/step - loss: 0.1603 - accuracy: 0.9366 - val_loss: 0.4049 - val_accuracy: 0.8684\n",
      " Learning rate:  0.001\n",
      "Epoch 14/100\n",
      "645/645 [==============================] - 8s 12ms/step - loss: 0.1535 - accuracy: 0.9382 - val_loss: 0.2715 - val_accuracy: 0.9045\n",
      " Learning rate:  0.001\n",
      "Epoch 15/100\n",
      "645/645 [==============================] - 7s 12ms/step - loss: 0.1452 - accuracy: 0.9422 - val_loss: 0.3379 - val_accuracy: 0.9082\n",
      " Learning rate:  0.001\n",
      "Epoch 16/100\n",
      "645/645 [==============================] - 8s 12ms/step - loss: 0.1415 - accuracy: 0.9442 - val_loss: 0.2891 - val_accuracy: 0.8981\n",
      " Learning rate:  0.001\n",
      "Epoch 17/100\n",
      "645/645 [==============================] - 8s 12ms/step - loss: 0.1359 - accuracy: 0.9467 - val_loss: 0.2792 - val_accuracy: 0.9046\n",
      " Learning rate:  0.001\n",
      "Epoch 18/100\n",
      "645/645 [==============================] - 8s 12ms/step - loss: 0.1290 - accuracy: 0.9489 - val_loss: 0.3217 - val_accuracy: 0.9055\n",
      " Learning rate:  0.001\n",
      "Epoch 19/100\n",
      "645/645 [==============================] - 8s 12ms/step - loss: 0.1230 - accuracy: 0.9511 - val_loss: 0.3301 - val_accuracy: 0.9099\n",
      " Learning rate:  0.001\n",
      "Epoch 20/100\n",
      "645/645 [==============================] - 7s 12ms/step - loss: 0.1176 - accuracy: 0.9542 - val_loss: 0.3042 - val_accuracy: 0.8941\n",
      " Learning rate:  0.001\n",
      "Epoch 21/100\n",
      "645/645 [==============================] - 7s 12ms/step - loss: 0.1200 - accuracy: 0.9530 - val_loss: 0.2296 - val_accuracy: 0.9136\n",
      " Learning rate:  0.0001\n",
      "Epoch 22/100\n",
      "645/645 [==============================] - 8s 12ms/step - loss: 0.0770 - accuracy: 0.9696 - val_loss: 0.2602 - val_accuracy: 0.9280\n",
      " Learning rate:  0.0001\n",
      "Epoch 23/100\n",
      "645/645 [==============================] - 8s 12ms/step - loss: 0.0646 - accuracy: 0.9753 - val_loss: 0.2908 - val_accuracy: 0.9298\n",
      " Learning rate:  0.0001\n",
      "Epoch 24/100\n",
      "645/645 [==============================] - 8s 12ms/step - loss: 0.0584 - accuracy: 0.9776 - val_loss: 0.2881 - val_accuracy: 0.9280\n",
      " Learning rate:  0.0001\n",
      "Epoch 25/100\n",
      "645/645 [==============================] - 8s 12ms/step - loss: 0.0533 - accuracy: 0.9798 - val_loss: 0.2864 - val_accuracy: 0.9285\n",
      " Learning rate:  0.0001\n",
      "Epoch 26/100\n",
      "645/645 [==============================] - 8s 12ms/step - loss: 0.0504 - accuracy: 0.9804 - val_loss: 0.3137 - val_accuracy: 0.9297\n",
      " Learning rate:  0.0001\n",
      "Epoch 27/100\n",
      "645/645 [==============================] - 7s 12ms/step - loss: 0.0480 - accuracy: 0.9819 - val_loss: 0.3312 - val_accuracy: 0.9281\n",
      " Learning rate:  0.0001\n",
      "Epoch 28/100\n",
      "645/645 [==============================] - 7s 12ms/step - loss: 0.0444 - accuracy: 0.9837 - val_loss: 0.3336 - val_accuracy: 0.9298\n",
      " Learning rate:  0.0001\n",
      "Epoch 29/100\n",
      "645/645 [==============================] - 8s 12ms/step - loss: 0.0425 - accuracy: 0.9840 - val_loss: 0.3345 - val_accuracy: 0.9310\n",
      " Learning rate:  0.0001\n",
      "Epoch 30/100\n",
      "645/645 [==============================] - 7s 12ms/step - loss: 0.0399 - accuracy: 0.9852 - val_loss: 0.3469 - val_accuracy: 0.9304\n",
      " Learning rate:  0.0001\n",
      "Epoch 31/100\n",
      "645/645 [==============================] - 8s 12ms/step - loss: 0.0388 - accuracy: 0.9858 - val_loss: 0.3597 - val_accuracy: 0.9310\n",
      " Learning rate:  0.0001\n",
      "Epoch 32/100\n",
      "645/645 [==============================] - 7s 11ms/step - loss: 0.0372 - accuracy: 0.9862 - val_loss: 0.3865 - val_accuracy: 0.9295\n",
      " Learning rate:  0.0001\n",
      "Epoch 33/100\n",
      "645/645 [==============================] - 7s 12ms/step - loss: 0.0364 - accuracy: 0.9872 - val_loss: 0.3313 - val_accuracy: 0.9303\n",
      " Learning rate:  0.0001\n",
      "Epoch 34/100\n",
      "645/645 [==============================] - 8s 12ms/step - loss: 0.0353 - accuracy: 0.9875 - val_loss: 0.3669 - val_accuracy: 0.9305\n",
      " Learning rate:  0.0001\n",
      "Epoch 35/100\n",
      "645/645 [==============================] - 8s 12ms/step - loss: 0.0332 - accuracy: 0.9884 - val_loss: 0.3970 - val_accuracy: 0.9309\n",
      " Learning rate:  0.0001\n",
      "Epoch 36/100\n",
      "645/645 [==============================] - 7s 12ms/step - loss: 0.0323 - accuracy: 0.9887 - val_loss: 0.3607 - val_accuracy: 0.9302\n",
      " Learning rate:  0.0001\n",
      "Epoch 37/100\n",
      "645/645 [==============================] - 7s 12ms/step - loss: 0.0304 - accuracy: 0.9891 - val_loss: 0.4385 - val_accuracy: 0.9283\n",
      " Learning rate:  0.0001\n",
      "Epoch 38/100\n",
      "645/645 [==============================] - 8s 12ms/step - loss: 0.0289 - accuracy: 0.9901 - val_loss: 0.3957 - val_accuracy: 0.9292\n",
      " Learning rate:  0.0001\n",
      "Epoch 39/100\n",
      "645/645 [==============================] - 8s 12ms/step - loss: 0.0300 - accuracy: 0.9897 - val_loss: 0.4555 - val_accuracy: 0.9298\n",
      " Learning rate:  0.0001\n",
      "Epoch 40/100\n",
      "645/645 [==============================] - 8s 12ms/step - loss: 0.0278 - accuracy: 0.9912 - val_loss: 0.3921 - val_accuracy: 0.9290\n",
      " Learning rate:  0.0001\n",
      "Epoch 41/100\n",
      "645/645 [==============================] - 7s 12ms/step - loss: 0.0300 - accuracy: 0.9901 - val_loss: 0.3717 - val_accuracy: 0.9305\n",
      "Epoch 00041: early stopping\n"
     ]
    }
   ],
   "source": [
    "checkpoint = ModelCheckpoint(\"/mnt/vdb/thesis/CustomCNN.Adam.v4.h5\", monitor='loss', verbose=1,\n",
    "    save_best_only=True, mode='auto', period=1)\n",
    "\n",
    "# Early Stopping\n",
    "es = EarlyStopping(monitor='val_loss', patience=20, verbose=1)\n",
    "\n",
    "#learning rate decay\n",
    "lr_scheduler = LearningRateScheduler(lr_schedule)\n",
    "\n",
    "history = model.fit(X_train, y_train, epochs=100,\n",
    "                    batch_size=128, validation_data=(X_val, y_val),\n",
    "                    callbacks=[es, lr_scheduler], verbose=1)"
   ]
  },
  {
   "cell_type": "code",
   "execution_count": 25,
   "metadata": {},
   "outputs": [],
   "source": [
    "model.save('/mnt/vdb/thesis/CustomCNN.Adam.III.V5.h5') "
   ]
  },
  {
   "cell_type": "code",
   "execution_count": 22,
   "metadata": {},
   "outputs": [
    {
     "name": "stdout",
     "output_type": "stream",
     "text": [
      "2577/2577 [==============================] - 6s 2ms/step - loss: 0.0143 - accuracy: 0.9968\n",
      "Train loss:  0.014292317442595959\n",
      "Train accuracy:  0.9968095421791077\n",
      "----------------------------------------------------------------------\n",
      "859/859 [==============================] - 2s 2ms/step - loss: 0.3717 - accuracy: 0.9305\n",
      "Val loss:  0.3716603219509125\n",
      "Val accuracy:  0.9305262565612793\n",
      "----------------------------------------------------------------------\n",
      "859/859 [==============================] - 2s 2ms/step - loss: 0.4053 - accuracy: 0.9254\n",
      "Test loss:  0.40525904297828674\n",
      "Test accuracy:  0.9253948330879211\n"
     ]
    }
   ],
   "source": [
    "display_model_score(model,\n",
    "    [X_train, y_train],\n",
    "    [X_val, y_val],\n",
    "    [X_test, y_test])"
   ]
  },
  {
   "cell_type": "code",
   "execution_count": 23,
   "metadata": {},
   "outputs": [
    {
     "data": {
      "image/png": "[encoded data removed]",
      "text/plain": [
       "<Figure size 864x360 with 2 Axes>"
      ]
     },
     "metadata": {
      "needs_background": "light"
     },
     "output_type": "display_data"
    }
   ],
   "source": [
    "plot_history(history)"
   ]
  },
  {
   "cell_type": "code",
   "execution_count": 24,
   "metadata": {},
   "outputs": [
    {
     "name": "stdout",
     "output_type": "stream",
     "text": [
      "              precision    recall  f1-score   support\n",
      "\n",
      "           0       0.93      0.92      0.93     13856\n",
      "           1       0.92      0.93      0.92     13622\n",
      "\n",
      "    accuracy                           0.93     27478\n",
      "   macro avg       0.93      0.93      0.93     27478\n",
      "weighted avg       0.93      0.93      0.93     27478\n",
      "\n"
     ]
    }
   ],
   "source": [
    "y_probas = model.predict(X_test)\n",
    "threshold = 0.5\n",
    "y_predict = np.where(y_probas > threshold, 1, 0)\n",
    "print(classification_report(y_test, y_predict))"
   ]
  },
  {
   "cell_type": "code",
   "execution_count": 12,
   "metadata": {},
   "outputs": [
    {
     "name": "stdout",
     "output_type": "stream",
     "text": [
      "              precision    recall  f1-score   support\n",
      "\n",
      "           0       0.95      0.94      0.95     21596\n",
      "           1       0.94      0.95      0.95     21260\n",
      "\n",
      "    accuracy                           0.95     42856\n",
      "   macro avg       0.95      0.95      0.95     42856\n",
      "weighted avg       0.95      0.95      0.95     42856\n",
      "\n"
     ]
    }
   ],
   "source": [
    "# Markk III\n",
    "y_probas = model.predict(X_test)\n",
    "threshold = 0.5\n",
    "y_predict = np.where(y_probas > threshold, 1, 0)\n",
    "print(classification_report(y_test, y_predict))"
   ]
  },
  {
   "cell_type": "code",
   "execution_count": null,
   "metadata": {},
   "outputs": [],
   "source": [
    "y_probas = model.predict(X_test)\n",
    "threshold = 0.5\n",
    "y_predict = np.where(y_probas > threshold, 1, 0)\n",
    "print(classification_report(y_test, y_predict))"
   ]
  },
  {
   "cell_type": "code",
   "execution_count": 20,
   "metadata": {},
   "outputs": [
    {
     "name": "stdout",
     "output_type": "stream",
     "text": [
      "              precision    recall  f1-score   support\n",
      "\n",
      "           0       0.92      0.96      0.94     22886\n",
      "           1       0.95      0.91      0.93     22400\n",
      "\n",
      "    accuracy                           0.93     45286\n",
      "   macro avg       0.94      0.93      0.93     45286\n",
      "weighted avg       0.93      0.93      0.93     45286\n",
      "\n"
     ]
    }
   ],
   "source": [
    "# 11/3/2021\n",
    "y_probas = model.predict(X_test)\n",
    "threshold = 0.5\n",
    "y_predict = np.where(y_probas > threshold, 1, 0)\n",
    "\n",
    "print(classification_report(y_test, y_predict))"
   ]
  },
  {
   "cell_type": "code",
   "execution_count": 62,
   "metadata": {},
   "outputs": [
    {
     "name": "stdout",
     "output_type": "stream",
     "text": [
      "              precision    recall  f1-score   support\n",
      "\n",
      "           0       0.95      0.96      0.96     25564\n",
      "           1       0.96      0.95      0.95     25244\n",
      "\n",
      "    accuracy                           0.95     50808\n",
      "   macro avg       0.95      0.95      0.95     50808\n",
      "weighted avg       0.95      0.95      0.95     50808\n",
      "\n"
     ]
    }
   ],
   "source": [
    "# the best\n",
    "y_probas = model.predict(X_test)\n",
    "threshold = 0.5\n",
    "y_predict = np.where(y_probas > threshold, 1, 0)\n",
    "\n",
    "print(classification_report(y_test, y_predict))"
   ]
  },
  {
   "cell_type": "markdown",
   "metadata": {},
   "source": [
    "# PWM "
   ]
  },
  {
   "cell_type": "markdown",
   "metadata": {},
   "source": [
    "## 2D Conv"
   ]
  },
  {
   "cell_type": "code",
   "execution_count": null,
   "metadata": {},
   "outputs": [],
   "source": [
    "# https://github.com/khanhlee/snare-cnn/blob/master/snare_classification.py\n",
    "\n",
    "num_features = 400\n",
    "nb_classes = 2\n",
    "nb_kernels = 3\n",
    "nb_pools = 2\n",
    "\n",
    "def cnn_model():\n",
    "    model = Sequential()\n",
    "    \n",
    "    model.add(ZeroPadding2D((1,1), input_shape = (1,20,window_sizes)))\n",
    "    model.add(Conv2D(32, (nb_kernels, nb_kernels)))\n",
    "    model.add(Activation('relu'))\n",
    "    model.add(MaxPooling2D(pool_size=(nb_pools, nb_pools), data_format=\"channels_first\"))\n",
    "    \n",
    "    model.add(ZeroPadding2D((1,1)))\n",
    "    model.add(Conv2D(64, (nb_kernels, nb_kernels)))\n",
    "    model.add(Activation('relu'))\n",
    "    model.add(MaxPooling2D(pool_size=(nb_pools, nb_pools), data_format=\"channels_first\"))\n",
    "    \n",
    "    model.add(ZeroPadding2D((1,1)))\n",
    "    model.add(Conv2D(128, (nb_kernels, nb_kernels)))\n",
    "    model.add(Activation('relu'))\n",
    "    model.add(MaxPooling2D(pool_size=(nb_pools, nb_pools), data_format=\"channels_first\"))\n",
    "    \n",
    "    model.add(ZeroPadding2D((1,1)))\n",
    "    model.add(Conv2D(256, (nb_kernels, nb_kernels)))\n",
    "    model.add(Activation('relu'))\n",
    "    model.add(MaxPooling2D(pool_size=(nb_pools, nb_pools), data_format=\"channels_first\"))\n",
    "\n",
    "    #model.add(Conv2D(32, (nb_kernels, nb_kernels), padding=\"same\", input_shape=(1,20,window_sizes)))\n",
    "    #model.add(Activation('relu'))\n",
    "    #model.add(MaxPooling2D(strides=(nb_pools, nb_pools), data_format=\"channels_first\"))\n",
    "    \n",
    "    #model.add(Conv2D(64, (nb_kernels, nb_kernels), padding=\"same\" ))\n",
    "    #model.add(Activation('relu'))\n",
    "    #model.add(MaxPooling2D(strides=(nb_pools, nb_pools), data_format=\"channels_first\"))\n",
    "    \n",
    "    #model.add(Conv2D(128, (nb_kernels, nb_kernels), padding=\"same\"))\n",
    "    #model.add(Activation('relu'))\n",
    "    #model.add(MaxPooling2D(strides=(nb_pools, nb_pools), data_format=\"channels_first\"))\n",
    "\n",
    "    #model.add(Conv2D(256, (nb_kernels, nb_kernels), padding=\"same\"))\n",
    "    #model.add(Activation('relu'))\n",
    "    #model.add(MaxPooling2D(strides=(nb_pools, nb_pools), data_format=\"channels_first\"))\n",
    "\n",
    "    ## add the model on top of the convolutional base\n",
    "    #model.add(top_model)\n",
    "    model.add(Flatten())\n",
    "    model.add(Dropout(0.1))\n",
    "    model.add(Dense(256))\n",
    "    #model.add(BatchNormalization())\n",
    "    model.add(Activation('relu'))\n",
    "    #model.add(Dropout(0.5))\n",
    "\n",
    "    model.add(  Dense(1, activation='sigmoid', name='output_layer', kernel_regularizer=l1_l2(0.000001)))\n",
    "    #model.add(BatchNormalization())\n",
    "\n",
    "    # f = open('model_summary.txt','w')\n",
    "    # f.write(str(model.summary()))\n",
    "    # f.close()\n",
    "\n",
    "    #model.compile(loss='categorical_crossentropy', optimizer='adadelta')\n",
    "    # Compile model\n",
    "    model.compile(loss='binary_crossentropy', optimizer='adam', metrics=['accuracy'])\n",
    "    return model\n",
    "model = cnn_model()\n",
    "#model.summary()"
   ]
  },
  {
   "cell_type": "code",
   "execution_count": 95,
   "metadata": {},
   "outputs": [
    {
     "name": "stdout",
     "output_type": "stream",
     "text": [
      "Model: \"functional_3\"\n",
      "_________________________________________________________________\n",
      "Layer (type)                 Output Shape              Param #   \n",
      "=================================================================\n",
      "input_9 (InputLayer)         [(None, 1, 20, 20)]       0         \n",
      "_________________________________________________________________\n",
      "conv2d_79 (Conv2D)           (None, 64, 20, 20)        1664      \n",
      "_________________________________________________________________\n",
      "max_pooling2d_73 (MaxPooling (None, 64, 19, 19)        0         \n",
      "_________________________________________________________________\n",
      "conv2d_80 (Conv2D)           (None, 128, 19, 19)       73856     \n",
      "_________________________________________________________________\n",
      "max_pooling2d_74 (MaxPooling (None, 128, 18, 18)       0         \n",
      "_________________________________________________________________\n",
      "batch_normalization_3 (Batch (None, 128, 18, 18)       72        \n",
      "_________________________________________________________________\n",
      "flatten_18 (Flatten)         (None, 41472)             0         \n",
      "_________________________________________________________________\n",
      "dense_25 (Dense)             (None, 1000)              41473000  \n",
      "_________________________________________________________________\n",
      "batch_normalization_4 (Batch (None, 1000)              4000      \n",
      "_________________________________________________________________\n",
      "activation_95 (Activation)   (None, 1000)              0         \n",
      "_________________________________________________________________\n",
      "dropout_19 (Dropout)         (None, 1000)              0         \n",
      "_________________________________________________________________\n",
      "dense_26 (Dense)             (None, 512)               512512    \n",
      "_________________________________________________________________\n",
      "batch_normalization_5 (Batch (None, 512)               2048      \n",
      "_________________________________________________________________\n",
      "activation_96 (Activation)   (None, 512)               0         \n",
      "_________________________________________________________________\n",
      "dropout_20 (Dropout)         (None, 512)               0         \n",
      "_________________________________________________________________\n",
      "output_layer (Dense)         (None, 1)                 513       \n",
      "=================================================================\n",
      "Total params: 42,067,665\n",
      "Trainable params: 42,064,605\n",
      "Non-trainable params: 3,060\n",
      "_________________________________________________________________\n"
     ]
    }
   ],
   "source": [
    "# Mark III\n",
    "def create_Modelbaseline():\n",
    "    x_input = Input(shape=(1,20,window_sizes)) # n_timesteps, n_features\n",
    "        \n",
    "    conv = Conv2D(64, kernel_size=(5,5), strides=(1,1) , padding='same', activation='relu', data_format=\"channels_first\")(x_input)  # Extract whole motif pattern\n",
    "    conv = MaxPooling2D(pool_size=(2,2), strides=(1,1) , data_format=\"channels_first\") (conv)\n",
    "    conv = Conv2D(128, kernel_size=(3,3), strides=(1,1)  , padding='same', activation='relu', data_format=\"channels_first\")(conv)  # Extract extra features  \n",
    "    conv = MaxPooling2D(pool_size=(2,2) , strides=(1,1)  , data_format=\"channels_first\")(conv)\n",
    "    \n",
    "    x = BatchNormalization()(conv)\n",
    "    x = Flatten()(x)\n",
    "    #output = GlobalMaxPooling1D()(x)\n",
    "    \n",
    "    output = Dense(1000, activation=None)(x)\n",
    "    output = BatchNormalization()(output)\n",
    "    output = Activation('relu')(output)\n",
    "    output = Dropout(0.5)(output)\n",
    "    \n",
    "    output = Dense(512, activation=None)(output)\n",
    "    output = BatchNormalization()(output)\n",
    "    output = Activation('relu')(output)\n",
    "    output = Dropout(0.5)(output)\n",
    "    \n",
    "    x_output = Dense(1, activation='sigmoid', name='output_layer', kernel_regularizer=l1_l2(0.000001))(output)\n",
    "    model = Model(inputs=x_input, outputs=x_output)\n",
    "    model.compile(optimizer=\"Adam\", loss='binary_crossentropy', metrics=['accuracy'])\n",
    "    \n",
    "    return model\n",
    "\n",
    "model = create_Modelbaseline()\n",
    "model.summary()"
   ]
  },
  {
   "cell_type": "code",
   "execution_count": 96,
   "metadata": {},
   "outputs": [
    {
     "name": "stdout",
     "output_type": "stream",
     "text": [
      " Learning rate:  0.001\n",
      "Epoch 1/100\n",
      "645/645 [==============================] - 7s 11ms/step - loss: 0.5055 - accuracy: 0.7669 - val_loss: 0.4115 - val_accuracy: 0.8144\n",
      " Learning rate:  0.001\n",
      "Epoch 2/100\n",
      "645/645 [==============================] - 7s 11ms/step - loss: 0.3977 - accuracy: 0.8252 - val_loss: 0.3720 - val_accuracy: 0.8417\n",
      " Learning rate:  0.001\n",
      "Epoch 3/100\n",
      "645/645 [==============================] - 7s 11ms/step - loss: 0.3623 - accuracy: 0.8447 - val_loss: 0.3477 - val_accuracy: 0.8500\n",
      " Learning rate:  0.001\n",
      "Epoch 4/100\n",
      "645/645 [==============================] - 7s 11ms/step - loss: 0.3407 - accuracy: 0.8551 - val_loss: 0.3420 - val_accuracy: 0.8538\n",
      " Learning rate:  0.001\n",
      "Epoch 5/100\n",
      "645/645 [==============================] - 7s 11ms/step - loss: 0.3223 - accuracy: 0.8652 - val_loss: 0.3201 - val_accuracy: 0.8641\n",
      " Learning rate:  0.001\n",
      "Epoch 6/100\n",
      "645/645 [==============================] - 7s 11ms/step - loss: 0.3057 - accuracy: 0.8727 - val_loss: 0.3111 - val_accuracy: 0.8720\n",
      " Learning rate:  0.001\n",
      "Epoch 7/100\n",
      "645/645 [==============================] - 7s 11ms/step - loss: 0.2920 - accuracy: 0.8795 - val_loss: 0.2944 - val_accuracy: 0.8787\n",
      " Learning rate:  0.001\n",
      "Epoch 8/100\n",
      "645/645 [==============================] - 7s 11ms/step - loss: 0.2774 - accuracy: 0.8850 - val_loss: 0.2967 - val_accuracy: 0.8784\n",
      " Learning rate:  0.001\n",
      "Epoch 9/100\n",
      "645/645 [==============================] - 7s 11ms/step - loss: 0.2659 - accuracy: 0.8906 - val_loss: 0.2886 - val_accuracy: 0.8838\n",
      " Learning rate:  0.001\n",
      "Epoch 10/100\n",
      "645/645 [==============================] - 7s 11ms/step - loss: 0.2530 - accuracy: 0.8966 - val_loss: 0.2924 - val_accuracy: 0.8822\n",
      " Learning rate:  0.001\n",
      "Epoch 11/100\n",
      "645/645 [==============================] - 7s 11ms/step - loss: 0.2404 - accuracy: 0.9026 - val_loss: 0.2764 - val_accuracy: 0.8902\n",
      " Learning rate:  0.001\n",
      "Epoch 12/100\n",
      "645/645 [==============================] - 7s 11ms/step - loss: 0.2285 - accuracy: 0.9078 - val_loss: 0.2817 - val_accuracy: 0.8875\n",
      " Learning rate:  0.001\n",
      "Epoch 13/100\n",
      "645/645 [==============================] - 7s 11ms/step - loss: 0.2160 - accuracy: 0.9133 - val_loss: 0.2689 - val_accuracy: 0.8942\n",
      " Learning rate:  0.001\n",
      "Epoch 14/100\n",
      "645/645 [==============================] - 7s 11ms/step - loss: 0.2023 - accuracy: 0.9191 - val_loss: 0.2738 - val_accuracy: 0.8932\n",
      " Learning rate:  0.001\n",
      "Epoch 15/100\n",
      "645/645 [==============================] - 7s 11ms/step - loss: 0.1921 - accuracy: 0.9237 - val_loss: 0.2742 - val_accuracy: 0.8951\n",
      " Learning rate:  0.001\n",
      "Epoch 16/100\n",
      "645/645 [==============================] - 7s 11ms/step - loss: 0.1803 - accuracy: 0.9291 - val_loss: 0.2703 - val_accuracy: 0.8975\n",
      " Learning rate:  0.001\n",
      "Epoch 17/100\n",
      "645/645 [==============================] - 7s 11ms/step - loss: 0.1689 - accuracy: 0.9333 - val_loss: 0.2790 - val_accuracy: 0.8978\n",
      " Learning rate:  0.001\n",
      "Epoch 18/100\n",
      "645/645 [==============================] - 7s 11ms/step - loss: 0.1600 - accuracy: 0.9379 - val_loss: 0.2784 - val_accuracy: 0.8990\n",
      " Learning rate:  0.001\n",
      "Epoch 19/100\n",
      "645/645 [==============================] - 7s 11ms/step - loss: 0.1511 - accuracy: 0.9415 - val_loss: 0.2944 - val_accuracy: 0.8981\n",
      " Learning rate:  0.001\n",
      "Epoch 20/100\n",
      "645/645 [==============================] - 7s 11ms/step - loss: 0.1417 - accuracy: 0.9455 - val_loss: 0.3030 - val_accuracy: 0.8939\n",
      " Learning rate:  0.001\n",
      "Epoch 21/100\n",
      "645/645 [==============================] - 7s 11ms/step - loss: 0.1318 - accuracy: 0.9495 - val_loss: 0.2900 - val_accuracy: 0.9016\n",
      " Learning rate:  0.0001\n",
      "Epoch 22/100\n",
      "645/645 [==============================] - 7s 11ms/step - loss: 0.1021 - accuracy: 0.9625 - val_loss: 0.2977 - val_accuracy: 0.9049\n",
      " Learning rate:  0.0001\n",
      "Epoch 23/100\n",
      "645/645 [==============================] - 7s 11ms/step - loss: 0.0892 - accuracy: 0.9681 - val_loss: 0.3067 - val_accuracy: 0.9069\n",
      "Epoch 00023: early stopping\n"
     ]
    }
   ],
   "source": [
    "\n",
    "# Early Stopping\n",
    "es = EarlyStopping(monitor='val_loss', patience=10, verbose=1)\n",
    "\n",
    "#learning rate decay\n",
    "lr_scheduler = LearningRateScheduler(lr_schedule)\n",
    "\n",
    "## balance data\n",
    "history = model.fit(X_train, y_train, epochs=100,\n",
    "                    batch_size=128, validation_data=(X_val, y_val),\n",
    "                    callbacks=[es, lr_scheduler], verbose=1)"
   ]
  },
  {
   "cell_type": "code",
   "execution_count": 97,
   "metadata": {},
   "outputs": [
    {
     "name": "stdout",
     "output_type": "stream",
     "text": [
      "2577/2577 [==============================] - 5s 2ms/step - loss: 0.0524 - accuracy: 0.9843\n",
      "Train loss:  0.052420176565647125\n",
      "Train accuracy:  0.9843388199806213\n",
      "----------------------------------------------------------------------\n",
      "859/859 [==============================] - 2s 2ms/step - loss: 0.3067 - accuracy: 0.9069\n",
      "Val loss:  0.3066624402999878\n",
      "Val accuracy:  0.906907320022583\n",
      "----------------------------------------------------------------------\n",
      "859/859 [==============================] - 2s 2ms/step - loss: 0.3040 - accuracy: 0.9078\n",
      "Test loss:  0.3039868474006653\n",
      "Test accuracy:  0.9077807664871216\n"
     ]
    }
   ],
   "source": [
    "display_model_score(model,\n",
    "    [X_train, y_train],\n",
    "    [X_val, y_val],\n",
    "    [X_test, y_test])"
   ]
  },
  {
   "cell_type": "code",
   "execution_count": 98,
   "metadata": {},
   "outputs": [
    {
     "name": "stdout",
     "output_type": "stream",
     "text": [
      "              precision    recall  f1-score   support\n",
      "\n",
      "           0       0.92      0.90      0.91     13820\n",
      "           1       0.90      0.92      0.91     13658\n",
      "\n",
      "    accuracy                           0.91     27478\n",
      "   macro avg       0.91      0.91      0.91     27478\n",
      "weighted avg       0.91      0.91      0.91     27478\n",
      "\n"
     ]
    }
   ],
   "source": [
    "# the best\n",
    "y_probas = model.predict(X_test)\n",
    "threshold = 0.5\n",
    "y_predict = np.where(y_probas > threshold, 1, 0)\n",
    "\n",
    "print(classification_report(y_test, y_predict))"
   ]
  },
  {
   "cell_type": "code",
   "execution_count": 99,
   "metadata": {},
   "outputs": [
    {
     "data": {
      "image/png": "[encoded data removed]",
      "text/plain": [
       "<Figure size 864x360 with 2 Axes>"
      ]
     },
     "metadata": {
      "needs_background": "light"
     },
     "output_type": "display_data"
    }
   ],
   "source": [
    "plot_history(history)"
   ]
  },
  {
   "cell_type": "code",
   "execution_count": 100,
   "metadata": {},
   "outputs": [],
   "source": [
    "model.save('/mnt/vdb/thesis/CustomCNN.Adam.V6.h5')"
   ]
  },
  {
   "cell_type": "markdown",
   "metadata": {
    "id": "fALQEI9g4Ejn"
   },
   "source": [
    "# Conclusion"
   ]
  },
  {
   "cell_type": "code",
   "execution_count": null,
   "metadata": {},
   "outputs": [],
   "source": [
    "# IF you AveragePooling in any -> didn;t show the good performance so use Maxpooling \n",
    "# 1211 , 512 show the better performance  \n",
    "\n",
    "# 2 CNN layer\n",
    "# 2 Dense layer \n",
    "\n",
    "# Add"
   ]
  },
  {
   "cell_type": "code",
   "execution_count": 19,
   "metadata": {
    "id": "Gh0Zvl9j4E38"
   },
   "outputs": [
    {
     "ename": "AttributeError",
     "evalue": "'Functional' object has no attribute 'layers_by_depth'",
     "output_type": "error",
     "traceback": [
      "\u001b[0;31m---------------------------------------------------------------------------\u001b[0m",
      "\u001b[0;31mAttributeError\u001b[0m                            Traceback (most recent call last)",
      "\u001b[0;32m<ipython-input-19-406262364133>\u001b[0m in \u001b[0;36m<module>\u001b[0;34m\u001b[0m\n\u001b[0;32m----> 1\u001b[0;31m \u001b[0mmodel\u001b[0m\u001b[0;34m.\u001b[0m\u001b[0mlayers_by_depth\u001b[0m\u001b[0;34m\u001b[0m\u001b[0;34m\u001b[0m\u001b[0m\n\u001b[0m",
      "\u001b[0;31mAttributeError\u001b[0m: 'Functional' object has no attribute 'layers_by_depth'"
     ]
    }
   ],
   "source": [
    "model.layers_by_depth"
   ]
  },
  {
   "cell_type": "code",
   "execution_count": null,
   "metadata": {},
   "outputs": [],
   "source": []
  }
 ],
 "metadata": {
  "accelerator": "GPU",
  "colab": {
   "collapsed_sections": [],
   "name": "CustomDNNModel.ipynb",
   "provenance": [],
   "toc_visible": true
  },
  "kernelspec": {
   "display_name": "Python 3",
   "language": "python",
   "name": "python3"
  },
  "language_info": {
   "codemirror_mode": {
    "name": "ipython",
    "version": 3
   },
   "file_extension": ".py",
   "mimetype": "text/x-python",
   "name": "python",
   "nbconvert_exporter": "python",
   "pygments_lexer": "ipython3",
   "version": "3.7.9"
  }
 },
 "nbformat": 4,
 "nbformat_minor": 4
}
