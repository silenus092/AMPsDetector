{
 "cells": [
  {
   "cell_type": "code",
   "execution_count": null,
   "metadata": {},
   "outputs": [],
   "source": [
    "# https://stackoverflow.com/questions/48641189/fitting-3d-data-as-input-into-keras-sequential-model-layer"
   ]
  },
  {
   "cell_type": "code",
   "execution_count": 22,
   "metadata": {},
   "outputs": [
    {
     "name": "stdout",
     "output_type": "stream",
     "text": [
      "Collecting qhoptim\n",
      "  Downloading qhoptim-1.1.0-py3-none-any.whl (20 kB)\n",
      "\u001b[33mWARNING: Error parsing requirements for matplotlib: [Errno 2] No such file or directory: '/home/ubuntu/miniconda3/envs/py3/lib/python3.7/site-packages/matplotlib-3.3.2.dist-info/METADATA'\u001b[0m\n",
      "Installing collected packages: qhoptim\n",
      "Successfully installed qhoptim-1.1.0\n"
     ]
    }
   ],
   "source": [
    "!pip install qhoptim"
   ]
  },
  {
   "cell_type": "code",
   "execution_count": 5,
   "metadata": {},
   "outputs": [
    {
     "name": "stdout",
     "output_type": "stream",
     "text": [
      "Collecting package metadata (current_repodata.json): done\n",
      "Solving environment: done\n",
      "\n",
      "\n",
      "==> WARNING: A newer version of conda exists. <==\n",
      "  current version: 4.8.3\n",
      "  latest version: 4.9.2\n",
      "\n",
      "Please update conda by running\n",
      "\n",
      "    $ conda update -n base -c defaults conda\n",
      "\n",
      "\n",
      "\n",
      "## Package Plan ##\n",
      "\n",
      "  environment location: /home/ubuntu/miniconda3/envs/py3\n",
      "\n",
      "  added / updated specs:\n",
      "    - keras=2.3.1\n",
      "\n",
      "\n",
      "The following packages will be downloaded:\n",
      "\n",
      "    package                    |            build\n",
      "    ---------------------------|-----------------\n",
      "    certifi-2020.12.5          |   py37h06a4308_0         141 KB\n",
      "    keras-2.3.1                |                0          12 KB\n",
      "    keras-base-2.3.1           |           py37_0         495 KB\n",
      "    openssl-1.1.1i             |       h27cfd23_0         2.5 MB\n",
      "    ------------------------------------------------------------\n",
      "                                           Total:         3.2 MB\n",
      "\n",
      "The following NEW packages will be INSTALLED:\n",
      "\n",
      "  keras-base         pkgs/main/linux-64::keras-base-2.3.1-py37_0\n",
      "\n",
      "The following packages will be UPDATED:\n",
      "\n",
      "  ca-certificates    conda-forge::ca-certificates-2020.12.~ --> pkgs/main::ca-certificates-2021.1.19-h06a4308_0\n",
      "\n",
      "The following packages will be SUPERSEDED by a higher-priority channel:\n",
      "\n",
      "  certifi            conda-forge::certifi-2020.12.5-py37h8~ --> pkgs/main::certifi-2020.12.5-py37h06a4308_0\n",
      "  keras                conda-forge/noarch::keras-2.4.3-py_0 --> pkgs/main/linux-64::keras-2.3.1-0\n",
      "  openssl            conda-forge::openssl-1.1.1i-h7f98852_0 --> pkgs/main::openssl-1.1.1i-h27cfd23_0\n",
      "\n",
      "\n",
      "\n",
      "Downloading and Extracting Packages\n",
      "openssl-1.1.1i       | 2.5 MB    | ##################################### | 100% \n",
      "keras-base-2.3.1     | 495 KB    | ##################################### | 100% \n",
      "keras-2.3.1          | 12 KB     | ##################################### | 100% \n",
      "certifi-2020.12.5    | 141 KB    | ##################################### | 100% \n",
      "Preparing transaction: done\n",
      "Verifying transaction: done\n",
      "Executing transaction: done\n"
     ]
    }
   ],
   "source": [
    "!conda install keras=2.3.1 -y"
   ]
  },
  {
   "cell_type": "code",
   "execution_count": 2,
   "metadata": {},
   "outputs": [],
   "source": [
    " #Use only CPU\n",
    "import os \n",
    "os.environ['CUDA_VISIBLE_DEVICES'] = '-1'"
   ]
  },
  {
   "cell_type": "code",
   "execution_count": 1,
   "metadata": {},
   "outputs": [
    {
     "name": "stdout",
     "output_type": "stream",
     "text": [
      "[name: \"/device:CPU:0\"\n",
      "device_type: \"CPU\"\n",
      "memory_limit: 268435456\n",
      "locality {\n",
      "}\n",
      "incarnation: 15360368458749329693\n",
      ", name: \"/device:XLA_CPU:0\"\n",
      "device_type: \"XLA_CPU\"\n",
      "memory_limit: 17179869184\n",
      "locality {\n",
      "}\n",
      "incarnation: 16134426514430374056\n",
      "physical_device_desc: \"device: XLA_CPU device\"\n",
      ", name: \"/device:XLA_GPU:0\"\n",
      "device_type: \"XLA_GPU\"\n",
      "memory_limit: 17179869184\n",
      "locality {\n",
      "}\n",
      "incarnation: 11756146409991432083\n",
      "physical_device_desc: \"device: XLA_GPU device\"\n",
      ", name: \"/device:GPU:0\"\n",
      "device_type: \"GPU\"\n",
      "memory_limit: 31595870336\n",
      "locality {\n",
      "  bus_id: 1\n",
      "  links {\n",
      "  }\n",
      "}\n",
      "incarnation: 14256696921772055789\n",
      "physical_device_desc: \"device: 0, name: Tesla V100-PCIE-32GB, pci bus id: 0000:00:06.0, compute capability: 7.0\"\n",
      "]\n"
     ]
    }
   ],
   "source": [
    "import tensorflow as tf\n",
    "from tensorflow.python.client import device_lib\n",
    "print(device_lib.list_local_devices())"
   ]
  },
  {
   "cell_type": "code",
   "execution_count": 1,
   "metadata": {
    "id": "4aBzk8QXHS9S"
   },
   "outputs": [],
   "source": [
    "import os\n",
    "import gc\n",
    "\n",
    "import numpy as np\n",
    "import pandas as pd\n",
    "import matplotlib.pyplot as plt\n",
    "import matplotlib.patches as patches\n",
    "import seaborn as sns\n",
    "\n",
    "from collections import Counter\n",
    "from prettytable import PrettyTable\n",
    "from IPython.display import Image\n",
    "from sklearn.model_selection import train_test_split\n",
    "from sklearn.model_selection import cross_val_score\n",
    "from sklearn.model_selection import StratifiedKFold\n",
    "from sklearn.metrics import roc_curve,auc\n",
    "\n",
    "#keras\n",
    "import tensorflow.keras as keras\n",
    "from tensorflow.keras.models import Model\n",
    "from tensorflow.keras.regularizers import l2\n",
    "from tensorflow.keras.constraints import max_norm\n",
    "from tensorflow.keras.callbacks import EarlyStopping\n",
    "from tensorflow.keras.layers import Input, Dense, Dropout, Flatten, Activation\n",
    "from tensorflow.keras.layers import Conv1D, Add, MaxPooling1D, BatchNormalization\n",
    "from tensorflow.keras.layers import Embedding, Bidirectional, GlobalMaxPooling1D\n",
    "\n",
    "from tensorflow.keras.callbacks import LearningRateScheduler\n",
    "from tensorflow.keras.wrappers.scikit_learn import KerasClassifier\n",
    "# CuDNNLSTM error; The error was because from TensorFlow 2 you do not need to specify CuDNNLSTM. \n",
    "# You can just use LSTM with no activation function and it will automatically use the CuDNN version. You do have to install CuDNN first.\n",
    "\n",
    "from tensorflow.keras.callbacks import ModelCheckpoint\n",
    "from sklearn.metrics import classification_report, confusion_matrix, accuracy_score\n",
    "\n",
    "# \n",
    "from qhoptim.tf import QHAdamOptimizer"
   ]
  },
  {
   "cell_type": "code",
   "execution_count": 16,
   "metadata": {},
   "outputs": [],
   "source": [
    "from tensorflow.keras import backend as K\n",
    "from tensorflow.keras.optimizers import Optimizer\n",
    "from keras.legacy import interfaces\n",
    "\n",
    "class QHAdam(Optimizer):\n",
    "    \"\"\"QH-Adam optimizer.\n",
    "    Default parameters follow those provided in the original paper.\n",
    "    # Arguments\n",
    "        lr: float >= 0. Learning rate.\n",
    "        beta_1: float, 0 < beta_1 < 1. Generally close to 1.\n",
    "        beta_2: float, 0 < beta_2 < 1. Generally close to 1.\n",
    "        neu_1: float, 0 < neu_1 < 1. Default based on paper equals 0.7\n",
    "        neu_2: float, 0 < neu_2 < 1. Default based on paper equals 1\n",
    "        epsilon: float >= 0. Fuzz factor. If `None`, defaults to `K.epsilon()`.\n",
    "        decay: float >= 0. Learning rate decay over each update.\n",
    "        amsgrad: boolean. Whether to apply the AMSGrad variant of this\n",
    "            algorithm from the paper \"On the Convergence of Adam and\n",
    "            Beyond\".\n",
    "    # References\n",
    "        - [QUASI-HYPERBOLIC MOMENTUM AND ADAM FOR DEEP LEARNING](\n",
    "           https://openreview.net/pdf?id=S1fUpoR5FQ)\n",
    "    \"\"\"\n",
    "\n",
    "    def __init__(self,\n",
    "                 lr=0.001,\n",
    "                 beta_1=0.999,\n",
    "                 beta_2=0.999,\n",
    "                 neu_1 = 0.7,\n",
    "                 neu_2 = 1.,\n",
    "                 epsilon=1e-3,\n",
    "                 decay=0.,\n",
    "                 amsgrad=False,\n",
    "                 **kwargs):\n",
    "        super(QHAdam, self).__init__(name=\"QHAdam\",**kwargs)\n",
    "        with K.name_scope(self.__class__.__name__):\n",
    "            self.learning_rate = K.variable(lr, name='lr')\n",
    "            self.iterations = K.variable(0, dtype='int64', name='iterations')\n",
    "            self.beta_1 = K.variable(beta_1, name='beta_1')\n",
    "            self.beta_2 = K.variable(beta_2, name='beta_2')\n",
    "            self.neu_1 = K.variable(neu_1, name='neu_1')\n",
    "            self.neu_2 = K.variable(neu_2, name='neu_2')\n",
    "            self.decay = K.variable(decay, name='decay')\n",
    "        if epsilon is None:\n",
    "            epsilon = K.epsilon()\n",
    "        self.epsilon = epsilon\n",
    "        self.initial_decay = decay\n",
    "        self.amsgrad = amsgrad\n",
    "\n",
    "    @interfaces.legacy_get_updates_support\n",
    "    def get_updates(self, loss, params):\n",
    "        grads = self.get_gradients(loss, params)\n",
    "        self.updates = [K.update_add(self.iterations, 1)]\n",
    "\n",
    "        lr = self.learning_rate\n",
    "        if self.initial_decay > 0:\n",
    "            lr = lr * (1. / (1. + self.decay * K.cast(self.iterations,\n",
    "                                                      K.dtype(self.decay))))\n",
    "\n",
    "        t = K.cast(self.iterations, K.floatx()) + 1\n",
    "\n",
    "\n",
    "        ms = [K.zeros(K.int_shape(p), dtype=K.dtype(p)) for p in params]\n",
    "        vs = [K.zeros(K.int_shape(p), dtype=K.dtype(p)) for p in params]\n",
    "        if self.amsgrad:\n",
    "            vhats = [K.zeros(K.int_shape(p), dtype=K.dtype(p)) for p in params]\n",
    "        else:\n",
    "            vhats = [K.zeros(1) for _ in params]\n",
    "        self.weights = [self.iterations] + ms + vs + vhats\n",
    "\n",
    "        for p, g, m, v, vhat in zip(params, grads, ms, vs, vhats):\n",
    "            m_t = (self.beta_1 * m) + (1. - self.beta_1) * g\n",
    "            v_t = (self.beta_2 * v) + (1. - self.beta_2) * K.square(g)\n",
    "            m_t_adj = m_t/(1. - K.pow(self.beta_1, t))\n",
    "            v_t_adj = v_t/(1. - K.pow(self.beta_2, t))\n",
    "            if self.amsgrad:\n",
    "                vhat_t = K.maximum(vhat, v_t)\n",
    "                p_t = p - lr * ((1.- self.neu_1)*g + self.neu_1*(m_t_adj)) / \\\n",
    "                       (K.sqrt((1.-self.neu_2) * K.square(g) + self.neu_2 * vhat_t) + self.epsilon)\n",
    "                self.updates.append(K.update(vhat, vhat_t))\n",
    "            else:\n",
    "                p_t = p - lr * ((1.-self.neu_1)*g + self.neu_1*(m_t_adj)) / \\\n",
    "                       (K.sqrt((1.-self.neu_2)*K.square(g) + self.neu_2 * v_t_adj) + self.epsilon)\n",
    "            self.updates.append(K.update(m, m_t))\n",
    "            self.updates.append(K.update(v, v_t))\n",
    "            new_p = p_t\n",
    "\n",
    "            # Apply constraints.\n",
    "            if getattr(p, 'constraint', None) is not None:\n",
    "                new_p = p.constraint(new_p)\n",
    "\n",
    "            self.updates.append(K.update(p, new_p))\n",
    "        return self.updates\n",
    "\n",
    "    def get_config(self):\n",
    "        config = {'lr': float(K.get_value(self.learning_rate)),\n",
    "                  'beta_1': float(K.get_value(self.beta_1)),\n",
    "                  'beta_2': float(K.get_value(self.beta_2)),\n",
    "                  'neu_1': float(K.get_value(self.neu_1)),\n",
    "                  'neu_2': float(K.get_value(self.neu_2)),\n",
    "                  'decay': float(K.get_value(self.decay)),\n",
    "                  'epsilon': self.epsilon,\n",
    "                  'amsgrad': self.amsgrad}\n",
    "        base_config = super(QHAdam, self).get_config()\n",
    "        return dict(list(base_config.items()) + list(config.items()))\n"
   ]
  },
  {
   "cell_type": "code",
   "execution_count": 2,
   "metadata": {
    "id": "FNhtXHJrfEE4"
   },
   "outputs": [],
   "source": [
    "# small old ../datasets/AMPsNonAMPs_df.239.plk\n",
    "# /home/ubuntu/data/AMPsNonAMPs_df.plk old dataset\n",
    "# /mnt/vdb/thesis/jax/AMPNonAMP.final.reps new dataset\n",
    "import pickle5 as pickle\n",
    "with open( \"/mnt/vdb/thesis/jax/AMPNonAMP.final.reps\", 'rb') as file:\n",
    "    AMPs_df = pickle.load(file)"
   ]
  },
  {
   "cell_type": "code",
   "execution_count": 4,
   "metadata": {
    "colab": {
     "base_uri": "https://localhost:8080/",
     "height": 597
    },
    "id": "mGiMSzzPfj2t",
    "outputId": "092eb611-b89c-4cac-c8c4-0557799510cf"
   },
   "outputs": [
    {
     "data": {
      "text/html": [
       "<div>\n",
       "<style scoped>\n",
       "    .dataframe tbody tr th:only-of-type {\n",
       "        vertical-align: middle;\n",
       "    }\n",
       "\n",
       "    .dataframe tbody tr th {\n",
       "        vertical-align: top;\n",
       "    }\n",
       "\n",
       "    .dataframe thead th {\n",
       "        text-align: right;\n",
       "    }\n",
       "</style>\n",
       "<table border=\"1\" class=\"dataframe\">\n",
       "  <thead>\n",
       "    <tr style=\"text-align: right;\">\n",
       "      <th></th>\n",
       "      <th>ID</th>\n",
       "      <th>length</th>\n",
       "      <th>class</th>\n",
       "      <th>reps</th>\n",
       "    </tr>\n",
       "  </thead>\n",
       "  <tbody>\n",
       "    <tr>\n",
       "      <th>1111</th>\n",
       "      <td>10015_dbaasp,10016_dbaasp|dbaasp_peptides</td>\n",
       "      <td>11</td>\n",
       "      <td>0</td>\n",
       "      <td>[0.20464208722114563, -0.055944692343473434, 0...</td>\n",
       "    </tr>\n",
       "    <tr>\n",
       "      <th>973</th>\n",
       "      <td>10026_dbaasp|dbaasp_peptides</td>\n",
       "      <td>22</td>\n",
       "      <td>0</td>\n",
       "      <td>[0.1005186140537262, 0.0014500601682811975, 0....</td>\n",
       "    </tr>\n",
       "    <tr>\n",
       "      <th>524</th>\n",
       "      <td>10029_dbaasp|dbaasp_peptides</td>\n",
       "      <td>14</td>\n",
       "      <td>0</td>\n",
       "      <td>[0.14606480300426483, 0.04153195396065712, 0.0...</td>\n",
       "    </tr>\n",
       "    <tr>\n",
       "      <th>1979</th>\n",
       "      <td>1003,1011,1019,1027,1035|CancerPPD_l_natural</td>\n",
       "      <td>20</td>\n",
       "      <td>0</td>\n",
       "      <td>[0.02989775501191616, -0.004465686157345772, -...</td>\n",
       "    </tr>\n",
       "    <tr>\n",
       "      <th>1917</th>\n",
       "      <td>10030_dbaasp|dbaasp_peptides</td>\n",
       "      <td>18</td>\n",
       "      <td>0</td>\n",
       "      <td>[0.11731283366680145, 0.022457238286733627, 0....</td>\n",
       "    </tr>\n",
       "    <tr>\n",
       "      <th>...</th>\n",
       "      <td>...</td>\n",
       "      <td>...</td>\n",
       "      <td>...</td>\n",
       "      <td>...</td>\n",
       "    </tr>\n",
       "    <tr>\n",
       "      <th>1609</th>\n",
       "      <td>dbAMP_12148</td>\n",
       "      <td>13</td>\n",
       "      <td>0</td>\n",
       "      <td>[0.2212764024734497, 0.15402714908123016, 0.12...</td>\n",
       "    </tr>\n",
       "    <tr>\n",
       "      <th>617</th>\n",
       "      <td>dbAMP_12158</td>\n",
       "      <td>17</td>\n",
       "      <td>0</td>\n",
       "      <td>[0.07279127091169357, 0.05830632895231247, -0....</td>\n",
       "    </tr>\n",
       "    <tr>\n",
       "      <th>1051</th>\n",
       "      <td>dbAMP_12161</td>\n",
       "      <td>16</td>\n",
       "      <td>0</td>\n",
       "      <td>[0.17415067553520203, 0.11548949033021927, 0.0...</td>\n",
       "    </tr>\n",
       "    <tr>\n",
       "      <th>1821</th>\n",
       "      <td>dbAMP_12203</td>\n",
       "      <td>15</td>\n",
       "      <td>0</td>\n",
       "      <td>[0.03923531994223595, -0.0253727026283741, -0....</td>\n",
       "    </tr>\n",
       "    <tr>\n",
       "      <th>15</th>\n",
       "      <td>dbAMP_12362</td>\n",
       "      <td>30</td>\n",
       "      <td>0</td>\n",
       "      <td>[0.01778259314596653, -0.03611695393919945, 7....</td>\n",
       "    </tr>\n",
       "  </tbody>\n",
       "</table>\n",
       "<p>22910 rows × 4 columns</p>\n",
       "</div>"
      ],
      "text/plain": [
       "                                                ID  length  class  \\\n",
       "1111     10015_dbaasp,10016_dbaasp|dbaasp_peptides      11      0   \n",
       "973                   10026_dbaasp|dbaasp_peptides      22      0   \n",
       "524                   10029_dbaasp|dbaasp_peptides      14      0   \n",
       "1979  1003,1011,1019,1027,1035|CancerPPD_l_natural      20      0   \n",
       "1917                  10030_dbaasp|dbaasp_peptides      18      0   \n",
       "...                                            ...     ...    ...   \n",
       "1609                                   dbAMP_12148      13      0   \n",
       "617                                    dbAMP_12158      17      0   \n",
       "1051                                   dbAMP_12161      16      0   \n",
       "1821                                   dbAMP_12203      15      0   \n",
       "15                                     dbAMP_12362      30      0   \n",
       "\n",
       "                                                   reps  \n",
       "1111  [0.20464208722114563, -0.055944692343473434, 0...  \n",
       "973   [0.1005186140537262, 0.0014500601682811975, 0....  \n",
       "524   [0.14606480300426483, 0.04153195396065712, 0.0...  \n",
       "1979  [0.02989775501191616, -0.004465686157345772, -...  \n",
       "1917  [0.11731283366680145, 0.022457238286733627, 0....  \n",
       "...                                                 ...  \n",
       "1609  [0.2212764024734497, 0.15402714908123016, 0.12...  \n",
       "617   [0.07279127091169357, 0.05830632895231247, -0....  \n",
       "1051  [0.17415067553520203, 0.11548949033021927, 0.0...  \n",
       "1821  [0.03923531994223595, -0.0253727026283741, -0....  \n",
       "15    [0.01778259314596653, -0.03611695393919945, 7....  \n",
       "\n",
       "[22910 rows x 4 columns]"
      ]
     },
     "execution_count": 4,
     "metadata": {},
     "output_type": "execute_result"
    }
   ],
   "source": [
    "#AMPs_df.drop_duplicates(subset=['Sequence'],inplace=True)\n",
    "AMPs_df =AMPs_df[AMPs_df[\"length\"] <=30 ]\n",
    "AMPs_df "
   ]
  },
  {
   "cell_type": "markdown",
   "metadata": {
    "id": "g2i7Tk41aDZ5"
   },
   "source": [
    "### Utility function: plot_history, display_model_score"
   ]
  },
  {
   "cell_type": "code",
   "execution_count": 15,
   "metadata": {
    "id": "7F7ykQsDVxHO"
   },
   "outputs": [],
   "source": [
    "def plot_history(history):\n",
    "  # dict_keys(['loss', 'accuracy', 'val_loss', 'val_accuracy'])\n",
    "  acc = history.history['accuracy']\n",
    "  val_acc = history.history['val_accuracy']\n",
    "  loss = history.history['loss']\n",
    "  val_loss = history.history['val_loss']\n",
    "  x = range(1, len(acc) + 1)\n",
    "\n",
    "  plt.figure(figsize=(12, 5))\n",
    "  plt.subplot(1, 2, 1)\n",
    "  plt.plot(x, acc, 'b', label='Training acc')\n",
    "  plt.plot(x, val_acc, 'r', label='Validation acc')\n",
    "  plt.title('Training and validation accuracy')\n",
    "  plt.legend()\n",
    "\n",
    "  plt.subplot(1, 2, 2)\n",
    "  plt.plot(x, loss, 'b', label='Training loss')\n",
    "  plt.plot(x, val_loss, 'r', label='Validation loss')\n",
    "  plt.title('Training and validation loss')\n",
    "  plt.legend()\n",
    "\n",
    "# Display model score(Loss & Accuracy) across all sets.\n",
    "def display_model_score(model, train, val, test):\n",
    "  train_score = model.evaluate(train[0], train[1], verbose=1)\n",
    "  print('Train loss: ', train_score[0])\n",
    "  print('Train accuracy: ', train_score[1])\n",
    "  print('-'*70)\n",
    "  val_score = model.evaluate(val[0], val[1], verbose=1)\n",
    "  print('Val loss: ', val_score[0])\n",
    "  print('Val accuracy: ', val_score[1])\n",
    "  print('-'*70)\n",
    "  test_score = model.evaluate(test[0], test[1], verbose=1)\n",
    "  print('Test loss: ', test_score[0])\n",
    "  print('Test accuracy: ', test_score[1])\n",
    "\n",
    "def plot_history_CV(cv, estimator,x,y):\n",
    "  # plot arrows\n",
    "  fig1 = plt.figure(figsize=[12,12])\n",
    "  ax1 = fig1.add_subplot(111,aspect = 'equal')\n",
    "  ax1.add_patch(\n",
    "      patches.Arrow(0.45,0.5,-0.25,0.25,width=0.3,color='green',alpha = 0.5)\n",
    "      )\n",
    "  ax1.add_patch(\n",
    "      patches.Arrow(0.5,0.45,0.25,-0.25,width=0.3,color='red',alpha = 0.5)\n",
    "      )\n",
    "\n",
    "  tprs = []\n",
    "  aucs = []\n",
    "  mean_fpr = np.linspace(0,1,100)\n",
    "  i = 1\n",
    "  for train,test in cv.split(x,y):\n",
    "      model = create_Modelbaseline()\n",
    "      model.fit(x[train],y.iloc[train],\n",
    "            epochs=30,\n",
    "            shuffle=True,verbose=0)\n",
    "      prediction = model.predict(x[test])\n",
    "      fpr, tpr, t = roc_curve(y[test], prediction[:, 1])\n",
    "      tprs.append(interp(mean_fpr, fpr, tpr))\n",
    "      roc_auc = auc(fpr, tpr)\n",
    "      aucs.append(roc_auc)\n",
    "      plt.plot(fpr, tpr, lw=2, alpha=0.3, label='ROC fold %d (AUC = %0.2f)' % (i, roc_auc))\n",
    "      i= i+1\n",
    "\n",
    "  plt.plot([0,1],[0,1],linestyle = '--',lw = 2,color = 'black')\n",
    "  mean_tpr = np.mean(tprs, axis=0)\n",
    "  mean_auc = auc(mean_fpr, mean_tpr)\n",
    "  plt.plot(mean_fpr, mean_tpr, color='blue',\n",
    "          label=r'Mean ROC (AUC = %0.2f )' % (mean_auc),lw=2, alpha=1)\n",
    "\n",
    "  plt.xlabel('False Positive Rate')\n",
    "  plt.ylabel('True Positive Rate')\n",
    "  plt.title('ROC')\n",
    "  plt.legend(loc=\"lower right\")\n",
    "  plt.text(0.32,0.7,'More accurate area',fontsize = 12)\n",
    "  plt.text(0.63,0.4,'Less accurate area',fontsize = 12)\n",
    "  plt.show()"
   ]
  },
  {
   "cell_type": "markdown",
   "metadata": {
    "id": "nI-_ZAvfIb5A"
   },
   "source": [
    "# Split Train/ Test / Validation set"
   ]
  },
  {
   "cell_type": "code",
   "execution_count": 3,
   "metadata": {
    "id": "lAAQLx4UIptD"
   },
   "outputs": [],
   "source": [
    "X= np.array(AMPs_df['reps'].to_list())\n",
    "y= np.array(AMPs_df['class'].to_list())"
   ]
  },
  {
   "cell_type": "code",
   "execution_count": 4,
   "metadata": {
    "id": "EkmqGqfUT0XR"
   },
   "outputs": [
    {
     "data": {
      "text/plain": [
       "(88692, 1900)"
      ]
     },
     "execution_count": 4,
     "metadata": {},
     "output_type": "execute_result"
    }
   ],
   "source": [
    "input_shape  = X.shape\n",
    "input_shape "
   ]
  },
  {
   "cell_type": "code",
   "execution_count": 5,
   "metadata": {
    "id": "UWQ2IZWgIbST"
   },
   "outputs": [],
   "source": [
    "X_train, X_test, y_train, y_test = train_test_split(X, y, test_size=0.2, random_state=1)\n",
    "X_train, X_val, y_train, y_val = train_test_split(X_train, y_train, test_size=0.25, random_state=1) # 0.25 x 0.8 = 0.2"
   ]
  },
  {
   "cell_type": "code",
   "execution_count": 6,
   "metadata": {
    "colab": {
     "base_uri": "https://localhost:8080/",
     "height": 73
    },
    "id": "IM7Scdevkwpp",
    "outputId": "55fa7ea6-a5f9-4e23-bf42-f1a4bf64f8a3"
   },
   "outputs": [
    {
     "name": "stdout",
     "output_type": "stream",
     "text": [
      "Train size:  53214\n",
      "Val size:  17739\n",
      "Test size:  17739\n"
     ]
    }
   ],
   "source": [
    "# Given data size\n",
    "print('Train size: ', len(X_train))\n",
    "print('Val size: ', len(X_val))\n",
    "print('Test size: ', len(X_test))"
   ]
  },
  {
   "cell_type": "markdown",
   "metadata": {},
   "source": [
    "## Custom CNN"
   ]
  },
  {
   "cell_type": "code",
   "execution_count": 7,
   "metadata": {},
   "outputs": [
    {
     "name": "stdout",
     "output_type": "stream",
     "text": [
      "(53214, 1900, 1)\n",
      "(17739, 1900, 1)\n",
      "(17739, 1900, 1)\n"
     ]
    }
   ],
   "source": [
    "# 3d dimension for LSTM\n",
    "# Batchs, n_timesteps, n_features\n",
    "\n",
    "# Images 3d dimension\n",
    "# width , heigth , channel\n",
    "\n",
    "# Conv1D with sequential data\n",
    "# batch, steps, channels\n",
    "\n",
    "# https://stackoverflow.com/questions/52803989/how-to-correct-shape-of-keras-input-into-a-3d-array/52804200\n",
    "X_train = np.reshape(X_train,(X_train.shape[0],X_train.shape[1],1))\n",
    "print(X_train.shape)\n",
    "X_test = np.reshape(X_test,(X_test.shape[0],X_test.shape[1],1))\n",
    "print(X_test.shape)\n",
    "X_val = np.reshape(X_val,(X_val.shape[0],X_val.shape[1],1))\n",
    "print(X_val.shape)"
   ]
  },
  {
   "cell_type": "code",
   "execution_count": 11,
   "metadata": {},
   "outputs": [
    {
     "name": "stdout",
     "output_type": "stream",
     "text": [
      "Model: \"functional_3\"\n",
      "_________________________________________________________________\n",
      "Layer (type)                 Output Shape              Param #   \n",
      "=================================================================\n",
      "input_2 (InputLayer)         [(None, 1900, 1)]         0         \n",
      "_________________________________________________________________\n",
      "conv1d_2 (Conv1D)            (None, 1900, 512)         4096      \n",
      "_________________________________________________________________\n",
      "max_pooling1d_2 (MaxPooling1 (None, 633, 512)          0         \n",
      "_________________________________________________________________\n",
      "conv1d_3 (Conv1D)            (None, 633, 256)          393472    \n",
      "_________________________________________________________________\n",
      "max_pooling1d_3 (MaxPooling1 (None, 316, 256)          0         \n",
      "_________________________________________________________________\n",
      "flatten_1 (Flatten)          (None, 80896)             0         \n",
      "_________________________________________________________________\n",
      "dense_2 (Dense)              (None, 1211)              97966267  \n",
      "_________________________________________________________________\n",
      "dropout_2 (Dropout)          (None, 1211)              0         \n",
      "_________________________________________________________________\n",
      "dense_3 (Dense)              (None, 1211)              1467732   \n",
      "_________________________________________________________________\n",
      "dropout_3 (Dropout)          (None, 1211)              0         \n",
      "_________________________________________________________________\n",
      "output_layer (Dense)         (None, 1)                 1212      \n",
      "=================================================================\n",
      "Total params: 99,832,779\n",
      "Trainable params: 99,832,779\n",
      "Non-trainable params: 0\n",
      "_________________________________________________________________\n"
     ]
    }
   ],
   "source": [
    "# n_timesteps, n_features, n_outputs = X_train.shape[2], X_train.shape[1], 1\n",
    "# nn.Conv1d with a kernel size of 1 and nn.Linear   give exactly the same results.\n",
    "\n",
    "\n",
    "#SGD\n",
    "#RMSprop\n",
    "#Adam\n",
    "#Adadelta\n",
    "#Adagrad\n",
    "#Adamax\n",
    "#Nadam\n",
    "#Ftrl\n",
    "#\n",
    "#\n",
    "\n",
    "def create_Modelbaseline():\n",
    "    x_input = Input(shape=(1900,1)) # n_timesteps, n_features\n",
    "    # Conv\n",
    "    conv = Conv1D(512, kernel_size=7, strides=1, padding='same', activation='relu')(x_input) \n",
    "    conv = MaxPooling1D(pool_size=3)(conv)\n",
    "    conv = Conv1D(256, kernel_size=3, strides=1, padding='same', activation='relu')(conv) \n",
    "    conv = MaxPooling1D(pool_size=2)(conv)\n",
    "    #conv = Conv1D(256, kernel_size=3, strides=1, padding='same', activation='relu')(conv) \n",
    "    #conv = MaxPooling1D(pool_size=2)(conv)\n",
    "    # Flatten NN\n",
    "    flat = Flatten()(conv)\n",
    "    \n",
    "    layer_3 = Dense(1211, activation='relu')(flat)\n",
    "    dropout_3 = Dropout(0.2)(layer_3)\n",
    "    layer_4 = Dense(1211, activation='relu')(dropout_3)\n",
    "    dropout_4 = Dropout(0.2)(layer_4)\n",
    "    x_output = Dense(1, activation='sigmoid', name='output_layer', kernel_regularizer=l2(0.0001))(dropout_4)\n",
    "\n",
    "    model = Model(inputs=x_input, outputs=x_output)\n",
    "    model.compile(optimizer=\"RMSprop\", loss='binary_crossentropy', metrics=['accuracy'])\n",
    "    \n",
    "    return model\n",
    "\n",
    "model = create_Modelbaseline()\n",
    "model.summary()"
   ]
  },
  {
   "cell_type": "code",
   "execution_count": 9,
   "metadata": {},
   "outputs": [],
   "source": [
    "#from keras import backend as K\n",
    "#K.set_value(model_ProtCNN.optimizer.learning_rate, 0.00001)\n",
    "def lr_schedule(epoch):\n",
    "    \n",
    "    lr = 1e-2\n",
    "    if epoch > 80:\n",
    "        lr = 0.5e-5\n",
    "    elif epoch > 50:    \n",
    "        lr = 0.3e-4\n",
    "    elif epoch > 20:\n",
    "        lr = 1e-3\n",
    "        \n",
    "    print(' Learning rate: ', lr)    \n",
    "    return lr "
   ]
  },
  {
   "cell_type": "code",
   "execution_count": 12,
   "metadata": {
    "scrolled": true
   },
   "outputs": [
    {
     "name": "stdout",
     "output_type": "stream",
     "text": [
      "WARNING:tensorflow:`period` argument is deprecated. Please use `save_freq` to specify the frequency in number of batches seen.\n",
      " Learning rate:  0.01\n",
      "Epoch 1/100\n",
      "  1/832 [..............................] - ETA: 0s - loss: 0.6932 - accuracy: 0.5312WARNING:tensorflow:Callbacks method `on_train_batch_end` is slow compared to the batch time (batch time: 0.0121s vs `on_train_batch_end` time: 0.0234s). Check your callbacks.\n",
      "831/832 [============================>.] - ETA: 0s - loss: 12.2395 - accuracy: 0.7298\n",
      "Epoch 00001: loss improved from inf to 12.23295, saving model to /mnt/vdb/thesis/CustomCNN.512_1211.hdf5\n",
      "832/832 [==============================] - 36s 43ms/step - loss: 12.2330 - accuracy: 0.7298 - val_loss: 0.4057 - val_accuracy: 0.8374\n",
      " Learning rate:  0.01\n",
      "Epoch 2/100\n",
      "831/832 [============================>.] - ETA: 0s - loss: 0.4709 - accuracy: 0.8395\n",
      "Epoch 00002: loss improved from 12.23295 to 0.47092, saving model to /mnt/vdb/thesis/CustomCNN.512_1211.hdf5\n",
      "832/832 [==============================] - 35s 42ms/step - loss: 0.4709 - accuracy: 0.8396 - val_loss: 0.3923 - val_accuracy: 0.8415\n",
      " Learning rate:  0.01\n",
      "Epoch 3/100\n",
      "831/832 [============================>.] - ETA: 0s - loss: 0.4083 - accuracy: 0.8539\n",
      "Epoch 00003: loss improved from 0.47092 to 0.40815, saving model to /mnt/vdb/thesis/CustomCNN.512_1211.hdf5\n",
      "832/832 [==============================] - 35s 42ms/step - loss: 0.4082 - accuracy: 0.8539 - val_loss: 0.3167 - val_accuracy: 0.8705\n",
      " Learning rate:  0.01\n",
      "Epoch 4/100\n",
      "831/832 [============================>.] - ETA: 0s - loss: 0.3704 - accuracy: 0.8622\n",
      "Epoch 00004: loss improved from 0.40815 to 0.37032, saving model to /mnt/vdb/thesis/CustomCNN.512_1211.hdf5\n",
      "832/832 [==============================] - 35s 42ms/step - loss: 0.3703 - accuracy: 0.8622 - val_loss: 0.3609 - val_accuracy: 0.8551\n",
      " Learning rate:  0.01\n",
      "Epoch 5/100\n",
      "831/832 [============================>.] - ETA: 0s - loss: 0.3716 - accuracy: 0.8643\n",
      "Epoch 00005: loss did not improve from 0.37032\n",
      "832/832 [==============================] - 33s 39ms/step - loss: 0.3715 - accuracy: 0.8643 - val_loss: 0.3440 - val_accuracy: 0.8607\n",
      " Learning rate:  0.01\n",
      "Epoch 6/100\n",
      "831/832 [============================>.] - ETA: 0s - loss: 0.3584 - accuracy: 0.8660\n",
      "Epoch 00006: loss improved from 0.37032 to 0.35848, saving model to /mnt/vdb/thesis/CustomCNN.512_1211.hdf5\n",
      "832/832 [==============================] - 36s 43ms/step - loss: 0.3585 - accuracy: 0.8660 - val_loss: 0.3616 - val_accuracy: 0.8531\n",
      " Learning rate:  0.01\n",
      "Epoch 7/100\n",
      "831/832 [============================>.] - ETA: 0s - loss: 0.3520 - accuracy: 0.8658\n",
      "Epoch 00007: loss improved from 0.35848 to 0.35190, saving model to /mnt/vdb/thesis/CustomCNN.512_1211.hdf5\n",
      "832/832 [==============================] - 36s 43ms/step - loss: 0.3519 - accuracy: 0.8658 - val_loss: 0.4047 - val_accuracy: 0.8597\n",
      " Learning rate:  0.01\n",
      "Epoch 8/100\n",
      "831/832 [============================>.] - ETA: 0s - loss: 0.3443 - accuracy: 0.8670\n",
      "Epoch 00008: loss improved from 0.35190 to 0.34435, saving model to /mnt/vdb/thesis/CustomCNN.512_1211.hdf5\n",
      "832/832 [==============================] - 35s 42ms/step - loss: 0.3444 - accuracy: 0.8669 - val_loss: 0.4637 - val_accuracy: 0.8436\n",
      " Learning rate:  0.01\n",
      "Epoch 9/100\n",
      "831/832 [============================>.] - ETA: 0s - loss: 0.3476 - accuracy: 0.8692\n",
      "Epoch 00009: loss did not improve from 0.34435\n",
      "832/832 [==============================] - 32s 39ms/step - loss: 0.3476 - accuracy: 0.8692 - val_loss: 0.3765 - val_accuracy: 0.8560\n",
      " Learning rate:  0.01\n",
      "Epoch 10/100\n",
      "831/832 [============================>.] - ETA: 0s - loss: 0.3668 - accuracy: 0.8683\n",
      "Epoch 00010: loss did not improve from 0.34435\n",
      "832/832 [==============================] - 32s 39ms/step - loss: 0.3667 - accuracy: 0.8683 - val_loss: 0.4054 - val_accuracy: 0.8483\n",
      " Learning rate:  0.01\n",
      "Epoch 11/100\n",
      "831/832 [============================>.] - ETA: 0s - loss: 0.3715 - accuracy: 0.8686\n",
      "Epoch 00011: loss did not improve from 0.34435\n",
      "832/832 [==============================] - 33s 39ms/step - loss: 0.3714 - accuracy: 0.8686 - val_loss: 0.3280 - val_accuracy: 0.8712\n",
      " Learning rate:  0.01\n",
      "Epoch 12/100\n",
      "831/832 [============================>.] - ETA: 0s - loss: 0.3473 - accuracy: 0.8686\n",
      "Epoch 00012: loss did not improve from 0.34435\n",
      "832/832 [==============================] - 32s 39ms/step - loss: 0.3473 - accuracy: 0.8685 - val_loss: 0.3595 - val_accuracy: 0.8518\n",
      " Learning rate:  0.01\n",
      "Epoch 13/100\n",
      "831/832 [============================>.] - ETA: 0s - loss: 0.3499 - accuracy: 0.8680\n",
      "Epoch 00013: loss did not improve from 0.34435\n",
      "832/832 [==============================] - 32s 39ms/step - loss: 0.3499 - accuracy: 0.8680 - val_loss: 0.3726 - val_accuracy: 0.8725\n",
      " Learning rate:  0.01\n",
      "Epoch 14/100\n",
      "831/832 [============================>.] - ETA: 0s - loss: 0.3472 - accuracy: 0.8662\n",
      "Epoch 00014: loss did not improve from 0.34435\n",
      "832/832 [==============================] - 32s 39ms/step - loss: 0.3472 - accuracy: 0.8661 - val_loss: 0.3285 - val_accuracy: 0.8711\n",
      " Learning rate:  0.01\n",
      "Epoch 15/100\n",
      "831/832 [============================>.] - ETA: 0s - loss: 0.3486 - accuracy: 0.8651\n",
      "Epoch 00015: loss did not improve from 0.34435\n",
      "832/832 [==============================] - 32s 39ms/step - loss: 0.3486 - accuracy: 0.8650 - val_loss: 0.5186 - val_accuracy: 0.8655\n",
      " Learning rate:  0.01\n",
      "Epoch 16/100\n",
      "831/832 [============================>.] - ETA: 0s - loss: 0.3591 - accuracy: 0.8659\n",
      "Epoch 00016: loss did not improve from 0.34435\n",
      "832/832 [==============================] - 32s 39ms/step - loss: 0.3591 - accuracy: 0.8659 - val_loss: 0.3479 - val_accuracy: 0.8773\n",
      "Epoch 00016: early stopping\n"
     ]
    }
   ],
   "source": [
    "checkpoint = ModelCheckpoint(\"/mnt/vdb/thesis/CustomCNN.512_1211.hdf5\", monitor='loss', verbose=1,\n",
    "    save_best_only=True, mode='auto', period=1)\n",
    "\n",
    "# Early Stopping\n",
    "es = EarlyStopping(monitor='loss', patience=8, verbose=1)\n",
    "\n",
    "#learning rate decay\n",
    "lr_scheduler = LearningRateScheduler(lr_schedule)\n",
    "\n",
    "history = model.fit(X_train, y_train, epochs=100,\n",
    "                    batch_size=64, validation_data=(X_val, y_val),\n",
    "                    callbacks=[checkpoint, es,lr_scheduler], verbose=1)"
   ]
  },
  {
   "cell_type": "code",
   "execution_count": 16,
   "metadata": {},
   "outputs": [
    {
     "name": "stdout",
     "output_type": "stream",
     "text": [
      "1663/1663 [==============================] - 10s 6ms/step - loss: 0.2976 - accuracy: 0.8888\n",
      "Train loss:  0.2976035475730896\n",
      "Train accuracy:  0.8888262510299683\n",
      "----------------------------------------------------------------------\n",
      "555/555 [==============================] - 3s 6ms/step - loss: 0.3479 - accuracy: 0.8773\n",
      "Val loss:  0.347937673330307\n",
      "Val accuracy:  0.8773324489593506\n",
      "----------------------------------------------------------------------\n",
      "555/555 [==============================] - 3s 6ms/step - loss: 0.3411 - accuracy: 0.8799\n",
      "Test loss:  0.3410780727863312\n",
      "Test accuracy:  0.8798692226409912\n"
     ]
    }
   ],
   "source": [
    "display_model_score(model,\n",
    "    [X_train, y_train],\n",
    "    [X_val, y_val],\n",
    "    [X_test, y_test])"
   ]
  },
  {
   "cell_type": "code",
   "execution_count": 14,
   "metadata": {},
   "outputs": [
    {
     "name": "stdout",
     "output_type": "stream",
     "text": [
      "              precision    recall  f1-score   support\n",
      "\n",
      "           0       0.87      0.89      0.88      8928\n",
      "           1       0.89      0.87      0.88      8811\n",
      "\n",
      "    accuracy                           0.88     17739\n",
      "   macro avg       0.88      0.88      0.88     17739\n",
      "weighted avg       0.88      0.88      0.88     17739\n",
      "\n"
     ]
    }
   ],
   "source": [
    "y_probas = model.predict(X_test)\n",
    "threshold = 0.5\n",
    "y_predict = np.where(y_probas > threshold, 1, 0)\n",
    "\n",
    "print(classification_report(y_test, y_predict))"
   ]
  },
  {
   "cell_type": "markdown",
   "metadata": {
    "id": "fALQEI9g4Ejn"
   },
   "source": [
    "# Conclusion"
   ]
  },
  {
   "cell_type": "code",
   "execution_count": null,
   "metadata": {
    "id": "Gh0Zvl9j4E38"
   },
   "outputs": [],
   "source": []
  }
 ],
 "metadata": {
  "accelerator": "GPU",
  "colab": {
   "collapsed_sections": [],
   "name": "CustomDNNModel.ipynb",
   "provenance": [],
   "toc_visible": true
  },
  "kernelspec": {
   "display_name": "Python 3",
   "language": "python",
   "name": "python3"
  },
  "language_info": {
   "codemirror_mode": {
    "name": "ipython",
    "version": 3
   },
   "file_extension": ".py",
   "mimetype": "text/x-python",
   "name": "python",
   "nbconvert_exporter": "python",
   "pygments_lexer": "ipython3",
   "version": "3.7.9"
  }
 },
 "nbformat": 4,
 "nbformat_minor": 4
}
