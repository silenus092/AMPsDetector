{
 "cells": [
  {
   "cell_type": "code",
   "execution_count": null,
   "metadata": {},
   "outputs": [],
   "source": [
    "# https://stackoverflow.com/questions/48641189/fitting-3d-data-as-input-into-keras-sequential-model-layer"
   ]
  },
  {
   "cell_type": "code",
   "execution_count": 22,
   "metadata": {},
   "outputs": [
    {
     "name": "stdout",
     "output_type": "stream",
     "text": [
      "Collecting qhoptim\n",
      "  Downloading qhoptim-1.1.0-py3-none-any.whl (20 kB)\n",
      "\u001b[33mWARNING: Error parsing requirements for matplotlib: [Errno 2] No such file or directory: '/home/ubuntu/miniconda3/envs/py3/lib/python3.7/site-packages/matplotlib-3.3.2.dist-info/METADATA'\u001b[0m\n",
      "Installing collected packages: qhoptim\n",
      "Successfully installed qhoptim-1.1.0\n"
     ]
    }
   ],
   "source": [
    "!pip install qhoptim"
   ]
  },
  {
   "cell_type": "code",
   "execution_count": 5,
   "metadata": {},
   "outputs": [
    {
     "name": "stdout",
     "output_type": "stream",
     "text": [
      "Collecting package metadata (current_repodata.json): done\n",
      "Solving environment: done\n",
      "\n",
      "\n",
      "==> WARNING: A newer version of conda exists. <==\n",
      "  current version: 4.8.3\n",
      "  latest version: 4.9.2\n",
      "\n",
      "Please update conda by running\n",
      "\n",
      "    $ conda update -n base -c defaults conda\n",
      "\n",
      "\n",
      "\n",
      "## Package Plan ##\n",
      "\n",
      "  environment location: /home/ubuntu/miniconda3/envs/py3\n",
      "\n",
      "  added / updated specs:\n",
      "    - keras=2.3.1\n",
      "\n",
      "\n",
      "The following packages will be downloaded:\n",
      "\n",
      "    package                    |            build\n",
      "    ---------------------------|-----------------\n",
      "    certifi-2020.12.5          |   py37h06a4308_0         141 KB\n",
      "    keras-2.3.1                |                0          12 KB\n",
      "    keras-base-2.3.1           |           py37_0         495 KB\n",
      "    openssl-1.1.1i             |       h27cfd23_0         2.5 MB\n",
      "    ------------------------------------------------------------\n",
      "                                           Total:         3.2 MB\n",
      "\n",
      "The following NEW packages will be INSTALLED:\n",
      "\n",
      "  keras-base         pkgs/main/linux-64::keras-base-2.3.1-py37_0\n",
      "\n",
      "The following packages will be UPDATED:\n",
      "\n",
      "  ca-certificates    conda-forge::ca-certificates-2020.12.~ --> pkgs/main::ca-certificates-2021.1.19-h06a4308_0\n",
      "\n",
      "The following packages will be SUPERSEDED by a higher-priority channel:\n",
      "\n",
      "  certifi            conda-forge::certifi-2020.12.5-py37h8~ --> pkgs/main::certifi-2020.12.5-py37h06a4308_0\n",
      "  keras                conda-forge/noarch::keras-2.4.3-py_0 --> pkgs/main/linux-64::keras-2.3.1-0\n",
      "  openssl            conda-forge::openssl-1.1.1i-h7f98852_0 --> pkgs/main::openssl-1.1.1i-h27cfd23_0\n",
      "\n",
      "\n",
      "\n",
      "Downloading and Extracting Packages\n",
      "openssl-1.1.1i       | 2.5 MB    | ##################################### | 100% \n",
      "keras-base-2.3.1     | 495 KB    | ##################################### | 100% \n",
      "keras-2.3.1          | 12 KB     | ##################################### | 100% \n",
      "certifi-2020.12.5    | 141 KB    | ##################################### | 100% \n",
      "Preparing transaction: done\n",
      "Verifying transaction: done\n",
      "Executing transaction: done\n"
     ]
    }
   ],
   "source": [
    "!conda install keras=2.3.1 -y"
   ]
  },
  {
   "cell_type": "code",
   "execution_count": 2,
   "metadata": {},
   "outputs": [],
   "source": [
    " #Use only CPU\n",
    "import os \n",
    "os.environ['CUDA_VISIBLE_DEVICES'] = '-1'"
   ]
  },
  {
   "cell_type": "code",
   "execution_count": 2,
   "metadata": {},
   "outputs": [
    {
     "name": "stdout",
     "output_type": "stream",
     "text": [
      "[name: \"/device:CPU:0\"\n",
      "device_type: \"CPU\"\n",
      "memory_limit: 268435456\n",
      "locality {\n",
      "}\n",
      "incarnation: 17993022828398494510\n",
      ", name: \"/device:XLA_CPU:0\"\n",
      "device_type: \"XLA_CPU\"\n",
      "memory_limit: 17179869184\n",
      "locality {\n",
      "}\n",
      "incarnation: 3274618457875477408\n",
      "physical_device_desc: \"device: XLA_CPU device\"\n",
      ", name: \"/device:XLA_GPU:0\"\n",
      "device_type: \"XLA_GPU\"\n",
      "memory_limit: 17179869184\n",
      "locality {\n",
      "}\n",
      "incarnation: 4232872575163048890\n",
      "physical_device_desc: \"device: XLA_GPU device\"\n",
      ", name: \"/device:GPU:0\"\n",
      "device_type: \"GPU\"\n",
      "memory_limit: 31595870336\n",
      "locality {\n",
      "  bus_id: 1\n",
      "  links {\n",
      "  }\n",
      "}\n",
      "incarnation: 5370779830014107259\n",
      "physical_device_desc: \"device: 0, name: Tesla V100-PCIE-32GB, pci bus id: 0000:00:06.0, compute capability: 7.0\"\n",
      "]\n"
     ]
    }
   ],
   "source": [
    "import tensorflow as tf\n",
    "from tensorflow.python.client import device_lib\n",
    "print(device_lib.list_local_devices())"
   ]
  },
  {
   "cell_type": "code",
   "execution_count": 1,
   "metadata": {
    "id": "4aBzk8QXHS9S"
   },
   "outputs": [],
   "source": [
    "import os\n",
    "import gc\n",
    "\n",
    "import numpy as np\n",
    "import pandas as pd\n",
    "import matplotlib.pyplot as plt\n",
    "import matplotlib.patches as patches\n",
    "import seaborn as sns\n",
    "\n",
    "from collections import Counter\n",
    "from prettytable import PrettyTable\n",
    "from IPython.display import Image\n",
    "from sklearn.model_selection import train_test_split\n",
    "from sklearn.model_selection import cross_val_score\n",
    "from sklearn.model_selection import StratifiedKFold\n",
    "from sklearn.metrics import roc_curve,auc\n",
    "\n",
    "#keras\n",
    "import tensorflow.keras as keras\n",
    "from tensorflow.keras.models import Model\n",
    "from tensorflow.keras.regularizers import l2, l1_l2\n",
    "from tensorflow.keras.constraints import max_norm\n",
    "from tensorflow.keras.callbacks import EarlyStopping\n",
    "from tensorflow.keras.layers import Input, Dense, Dropout, Flatten, Activation\n",
    "from tensorflow.keras.layers import Conv1D, Add, MaxPooling1D, BatchNormalization\n",
    "from tensorflow.keras.layers import Embedding, Bidirectional, GlobalMaxPooling1D, AveragePooling1D, GlobalAveragePooling1D\n",
    "\n",
    "from tensorflow.keras.callbacks import LearningRateScheduler\n",
    "from tensorflow.keras.wrappers.scikit_learn import KerasClassifier\n",
    "# CuDNNLSTM error; The error was because from TensorFlow 2 you do not need to specify CuDNNLSTM. \n",
    "# You can just use LSTM with no activation function and it will automatically use the CuDNN version. You do have to install CuDNN first.\n",
    "\n",
    "from tensorflow.keras.callbacks import ModelCheckpoint\n",
    "from sklearn.metrics import classification_report, confusion_matrix, accuracy_score\n",
    "\n",
    "# \n",
    "from qhoptim.tf import QHAdamOptimizer"
   ]
  },
  {
   "cell_type": "code",
   "execution_count": 2,
   "metadata": {},
   "outputs": [
    {
     "name": "stderr",
     "output_type": "stream",
     "text": [
      "Using TensorFlow backend.\n"
     ]
    }
   ],
   "source": [
    "from tensorflow.keras import backend as K\n",
    "from tensorflow.keras.optimizers import Optimizer\n",
    "from keras.legacy import interfaces\n",
    "\n",
    "class QHAdam(Optimizer):\n",
    "    \"\"\"QH-Adam optimizer.\n",
    "    Default parameters follow those provided in the original paper.\n",
    "    # Arguments\n",
    "        lr: float >= 0. Learning rate.\n",
    "        beta_1: float, 0 < beta_1 < 1. Generally close to 1.\n",
    "        beta_2: float, 0 < beta_2 < 1. Generally close to 1.\n",
    "        neu_1: float, 0 < neu_1 < 1. Default based on paper equals 0.7\n",
    "        neu_2: float, 0 < neu_2 < 1. Default based on paper equals 1\n",
    "        epsilon: float >= 0. Fuzz factor. If `None`, defaults to `K.epsilon()`.\n",
    "        decay: float >= 0. Learning rate decay over each update.\n",
    "        amsgrad: boolean. Whether to apply the AMSGrad variant of this\n",
    "            algorithm from the paper \"On the Convergence of Adam and\n",
    "            Beyond\".\n",
    "    # References\n",
    "        - [QUASI-HYPERBOLIC MOMENTUM AND ADAM FOR DEEP LEARNING](\n",
    "           https://openreview.net/pdf?id=S1fUpoR5FQ)\n",
    "    \"\"\"\n",
    "\n",
    "    def __init__(self,\n",
    "                 lr=0.001,\n",
    "                 beta_1=0.999,\n",
    "                 beta_2=0.999,\n",
    "                 neu_1 = 0.7,\n",
    "                 neu_2 = 1.,\n",
    "                 epsilon=1e-3,\n",
    "                 decay=0.,\n",
    "                 amsgrad=False,\n",
    "                 **kwargs):\n",
    "        super(QHAdam, self).__init__(name=\"QHAdam\",**kwargs)\n",
    "        with K.name_scope(self.__class__.__name__):\n",
    "            self.learning_rate = K.variable(lr, name='lr')\n",
    "            self.iterations = K.variable(0, dtype='int64', name='iterations')\n",
    "            self.beta_1 = K.variable(beta_1, name='beta_1')\n",
    "            self.beta_2 = K.variable(beta_2, name='beta_2')\n",
    "            self.neu_1 = K.variable(neu_1, name='neu_1')\n",
    "            self.neu_2 = K.variable(neu_2, name='neu_2')\n",
    "            self.decay = K.variable(decay, name='decay')\n",
    "        if epsilon is None:\n",
    "            epsilon = K.epsilon()\n",
    "        self.epsilon = epsilon\n",
    "        self.initial_decay = decay\n",
    "        self.amsgrad = amsgrad\n",
    "\n",
    "    @interfaces.legacy_get_updates_support\n",
    "    def get_updates(self, loss, params):\n",
    "        grads = self.get_gradients(loss, params)\n",
    "        self.updates = [K.update_add(self.iterations, 1)]\n",
    "\n",
    "        lr = self.learning_rate\n",
    "        if self.initial_decay > 0:\n",
    "            lr = lr * (1. / (1. + self.decay * K.cast(self.iterations,\n",
    "                                                      K.dtype(self.decay))))\n",
    "\n",
    "        t = K.cast(self.iterations, K.floatx()) + 1\n",
    "\n",
    "\n",
    "        ms = [K.zeros(K.int_shape(p), dtype=K.dtype(p)) for p in params]\n",
    "        vs = [K.zeros(K.int_shape(p), dtype=K.dtype(p)) for p in params]\n",
    "        if self.amsgrad:\n",
    "            vhats = [K.zeros(K.int_shape(p), dtype=K.dtype(p)) for p in params]\n",
    "        else:\n",
    "            vhats = [K.zeros(1) for _ in params]\n",
    "        self.weights = [self.iterations] + ms + vs + vhats\n",
    "\n",
    "        for p, g, m, v, vhat in zip(params, grads, ms, vs, vhats):\n",
    "            m_t = (self.beta_1 * m) + (1. - self.beta_1) * g\n",
    "            v_t = (self.beta_2 * v) + (1. - self.beta_2) * K.square(g)\n",
    "            m_t_adj = m_t/(1. - K.pow(self.beta_1, t))\n",
    "            v_t_adj = v_t/(1. - K.pow(self.beta_2, t))\n",
    "            if self.amsgrad:\n",
    "                vhat_t = K.maximum(vhat, v_t)\n",
    "                p_t = p - lr * ((1.- self.neu_1)*g + self.neu_1*(m_t_adj)) / \\\n",
    "                       (K.sqrt((1.-self.neu_2) * K.square(g) + self.neu_2 * vhat_t) + self.epsilon)\n",
    "                self.updates.append(K.update(vhat, vhat_t))\n",
    "            else:\n",
    "                p_t = p - lr * ((1.-self.neu_1)*g + self.neu_1*(m_t_adj)) / \\\n",
    "                       (K.sqrt((1.-self.neu_2)*K.square(g) + self.neu_2 * v_t_adj) + self.epsilon)\n",
    "            self.updates.append(K.update(m, m_t))\n",
    "            self.updates.append(K.update(v, v_t))\n",
    "            new_p = p_t\n",
    "\n",
    "            # Apply constraints.\n",
    "            if getattr(p, 'constraint', None) is not None:\n",
    "                new_p = p.constraint(new_p)\n",
    "\n",
    "            self.updates.append(K.update(p, new_p))\n",
    "        return self.updates\n",
    "\n",
    "    def get_config(self):\n",
    "        config = {'lr': float(K.get_value(self.learning_rate)),\n",
    "                  'beta_1': float(K.get_value(self.beta_1)),\n",
    "                  'beta_2': float(K.get_value(self.beta_2)),\n",
    "                  'neu_1': float(K.get_value(self.neu_1)),\n",
    "                  'neu_2': float(K.get_value(self.neu_2)),\n",
    "                  'decay': float(K.get_value(self.decay)),\n",
    "                  'epsilon': self.epsilon,\n",
    "                  'amsgrad': self.amsgrad}\n",
    "        base_config = super(QHAdam, self).get_config()\n",
    "        return dict(list(base_config.items()) + list(config.items()))\n"
   ]
  },
  {
   "cell_type": "code",
   "execution_count": 2,
   "metadata": {
    "id": "FNhtXHJrfEE4"
   },
   "outputs": [],
   "source": [
    "# small old ../datasets/AMPsNonAMPs_df.239.plk\n",
    "# /home/ubuntu/data/AMPsNonAMPs_df.plk old dataset\n",
    "# /mnt/vdb/thesis/jax/AMPNonAMP.final.reps new dataset\n",
    "import pickle5 as pickle\n",
    "with open( \"/mnt/vdb/thesis/jax/AMPNonAMP.V4_sim95.reps\", 'rb') as file:\n",
    "    AMPs_df = pickle.load(file)"
   ]
  },
  {
   "cell_type": "code",
   "execution_count": null,
   "metadata": {
    "colab": {
     "base_uri": "https://localhost:8080/",
     "height": 597
    },
    "id": "mGiMSzzPfj2t",
    "outputId": "092eb611-b89c-4cac-c8c4-0557799510cf"
   },
   "outputs": [],
   "source": [
    "#AMPs_df.drop_duplicates(subset=['Sequence'],inplace=True)\n",
    "AMPs_df =AMPs_df[AMPs_df[\"length\"] <=30 ]\n",
    "AMPs_df "
   ]
  },
  {
   "cell_type": "markdown",
   "metadata": {
    "id": "g2i7Tk41aDZ5"
   },
   "source": [
    "### Utility function: plot_history, display_model_score"
   ]
  },
  {
   "cell_type": "code",
   "execution_count": 3,
   "metadata": {
    "id": "7F7ykQsDVxHO"
   },
   "outputs": [],
   "source": [
    "def plot_history(history):\n",
    "  # dict_keys(['loss', 'accuracy', 'val_loss', 'val_accuracy'])\n",
    "  acc = history.history['accuracy']\n",
    "  val_acc = history.history['val_accuracy']\n",
    "  loss = history.history['loss']\n",
    "  val_loss = history.history['val_loss']\n",
    "  x = range(1, len(acc) + 1)\n",
    "\n",
    "  plt.figure(figsize=(12, 5))\n",
    "  plt.subplot(1, 2, 1)\n",
    "  plt.plot(x, acc, 'b', label='Training acc')\n",
    "  plt.plot(x, val_acc, 'r', label='Validation acc')\n",
    "  plt.title('Training and validation accuracy')\n",
    "  plt.legend()\n",
    "\n",
    "  plt.subplot(1, 2, 2)\n",
    "  plt.plot(x, loss, 'b', label='Training loss')\n",
    "  plt.plot(x, val_loss, 'r', label='Validation loss')\n",
    "  plt.title('Training and validation loss')\n",
    "  plt.legend()\n",
    "\n",
    "# Display model score(Loss & Accuracy) across all sets.\n",
    "def display_model_score(model, train, val, test):\n",
    "  train_score = model.evaluate(train[0], train[1], verbose=1)\n",
    "  print('Train loss: ', train_score[0])\n",
    "  print('Train accuracy: ', train_score[1])\n",
    "  print('-'*70)\n",
    "  val_score = model.evaluate(val[0], val[1], verbose=1)\n",
    "  print('Val loss: ', val_score[0])\n",
    "  print('Val accuracy: ', val_score[1])\n",
    "  print('-'*70)\n",
    "  test_score = model.evaluate(test[0], test[1], verbose=1)\n",
    "  print('Test loss: ', test_score[0])\n",
    "  print('Test accuracy: ', test_score[1])\n",
    "\n",
    "def plot_history_CV(cv, estimator,x,y):\n",
    "  # plot arrows\n",
    "  fig1 = plt.figure(figsize=[12,12])\n",
    "  ax1 = fig1.add_subplot(111,aspect = 'equal')\n",
    "  ax1.add_patch(\n",
    "      patches.Arrow(0.45,0.5,-0.25,0.25,width=0.3,color='green',alpha = 0.5)\n",
    "      )\n",
    "  ax1.add_patch(\n",
    "      patches.Arrow(0.5,0.45,0.25,-0.25,width=0.3,color='red',alpha = 0.5)\n",
    "      )\n",
    "\n",
    "  tprs = []\n",
    "  aucs = []\n",
    "  mean_fpr = np.linspace(0,1,100)\n",
    "  i = 1\n",
    "  for train,test in cv.split(x,y):\n",
    "      model = create_Modelbaseline()\n",
    "      model.fit(x[train],y.iloc[train],\n",
    "            epochs=30,\n",
    "            shuffle=True,verbose=0)\n",
    "      prediction = model.predict(x[test])\n",
    "      fpr, tpr, t = roc_curve(y[test], prediction[:, 1])\n",
    "      tprs.append(interp(mean_fpr, fpr, tpr))\n",
    "      roc_auc = auc(fpr, tpr)\n",
    "      aucs.append(roc_auc)\n",
    "      plt.plot(fpr, tpr, lw=2, alpha=0.3, label='ROC fold %d (AUC = %0.2f)' % (i, roc_auc))\n",
    "      i= i+1\n",
    "\n",
    "  plt.plot([0,1],[0,1],linestyle = '--',lw = 2,color = 'black')\n",
    "  mean_tpr = np.mean(tprs, axis=0)\n",
    "  mean_auc = auc(mean_fpr, mean_tpr)\n",
    "  plt.plot(mean_fpr, mean_tpr, color='blue',\n",
    "          label=r'Mean ROC (AUC = %0.2f )' % (mean_auc),lw=2, alpha=1)\n",
    "\n",
    "  plt.xlabel('False Positive Rate')\n",
    "  plt.ylabel('True Positive Rate')\n",
    "  plt.title('ROC')\n",
    "  plt.legend(loc=\"lower right\")\n",
    "  plt.text(0.32,0.7,'More accurate area',fontsize = 12)\n",
    "  plt.text(0.63,0.4,'Less accurate area',fontsize = 12)\n",
    "  plt.show()"
   ]
  },
  {
   "cell_type": "markdown",
   "metadata": {
    "id": "nI-_ZAvfIb5A"
   },
   "source": [
    "# Split Train/ Test / Validation set"
   ]
  },
  {
   "cell_type": "code",
   "execution_count": 5,
   "metadata": {
    "id": "lAAQLx4UIptD"
   },
   "outputs": [],
   "source": [
    "#X= np.array(AMPs_df['reps'].to_list())\n",
    "#y= np.array(AMPs_df['class'].to_list())"
   ]
  },
  {
   "cell_type": "code",
   "execution_count": 6,
   "metadata": {
    "id": "EkmqGqfUT0XR"
   },
   "outputs": [
    {
     "ename": "NameError",
     "evalue": "name 'X' is not defined",
     "output_type": "error",
     "traceback": [
      "\u001b[0;31m---------------------------------------------------------------------------\u001b[0m",
      "\u001b[0;31mNameError\u001b[0m                                 Traceback (most recent call last)",
      "\u001b[0;32m<ipython-input-6-2b78aed1e0f6>\u001b[0m in \u001b[0;36m<module>\u001b[0;34m\u001b[0m\n\u001b[0;32m----> 1\u001b[0;31m \u001b[0minput_shape\u001b[0m  \u001b[0;34m=\u001b[0m \u001b[0mX\u001b[0m\u001b[0;34m.\u001b[0m\u001b[0mshape\u001b[0m\u001b[0;34m\u001b[0m\u001b[0;34m\u001b[0m\u001b[0m\n\u001b[0m\u001b[1;32m      2\u001b[0m \u001b[0minput_shape\u001b[0m\u001b[0;34m\u001b[0m\u001b[0;34m\u001b[0m\u001b[0m\n",
      "\u001b[0;31mNameError\u001b[0m: name 'X' is not defined"
     ]
    }
   ],
   "source": [
    "input_shape  = X.shape\n",
    "input_shape "
   ]
  },
  {
   "cell_type": "code",
   "execution_count": 4,
   "metadata": {
    "id": "UWQ2IZWgIbST"
   },
   "outputs": [],
   "source": [
    "X_train, X_test, y_train, y_test = train_test_split(np.array(AMPs_df['reps'].to_list()),  np.array(AMPs_df['class'].to_list()), test_size=0.2, random_state=1)\n",
    "X_train, X_val, y_train, y_val = train_test_split(X_train, y_train, test_size=0.25, random_state=1) # 0.25 x 0.8 = 0.2"
   ]
  },
  {
   "cell_type": "code",
   "execution_count": 5,
   "metadata": {
    "colab": {
     "base_uri": "https://localhost:8080/",
     "height": 73
    },
    "id": "IM7Scdevkwpp",
    "outputId": "55fa7ea6-a5f9-4e23-bf42-f1a4bf64f8a3"
   },
   "outputs": [
    {
     "name": "stdout",
     "output_type": "stream",
     "text": [
      "Train size:  128565\n",
      "Val size:  42855\n",
      "Test size:  42856\n"
     ]
    }
   ],
   "source": [
    "# Given data size\n",
    "print('Train size: ', len(X_train))\n",
    "print('Val size: ', len(X_val))\n",
    "print('Test size: ', len(X_test))"
   ]
  },
  {
   "cell_type": "markdown",
   "metadata": {},
   "source": [
    "## Custom CNN"
   ]
  },
  {
   "cell_type": "code",
   "execution_count": 6,
   "metadata": {},
   "outputs": [
    {
     "name": "stdout",
     "output_type": "stream",
     "text": [
      "(128565, 1900, 1)\n",
      "(42856, 1900, 1)\n",
      "(42855, 1900, 1)\n"
     ]
    }
   ],
   "source": [
    "# 3d dimension for LSTM\n",
    "# Batchs, n_timesteps, n_features\n",
    "\n",
    "# Images 3d dimension\n",
    "# width , heigth , channel\n",
    "\n",
    "# Conv1D with sequential data\n",
    "# batch, steps, channels\n",
    "\n",
    "# https://stackoverflow.com/questions/52803989/how-to-correct-shape-of-keras-input-into-a-3d-array/52804200\n",
    "X_train = np.reshape(X_train,(X_train.shape[0],X_train.shape[1],1))\n",
    "print(X_train.shape)\n",
    "X_test = np.reshape(X_test,(X_test.shape[0],X_test.shape[1],1))\n",
    "print(X_test.shape)\n",
    "X_val = np.reshape(X_val,(X_val.shape[0],X_val.shape[1],1))\n",
    "print(X_val.shape)"
   ]
  },
  {
   "cell_type": "code",
   "execution_count": 7,
   "metadata": {},
   "outputs": [
    {
     "name": "stdout",
     "output_type": "stream",
     "text": [
      "Model: \"functional_1\"\n",
      "_________________________________________________________________\n",
      "Layer (type)                 Output Shape              Param #   \n",
      "=================================================================\n",
      "input_1 (InputLayer)         [(None, 1900, 1)]         0         \n",
      "_________________________________________________________________\n",
      "conv1d (Conv1D)              (None, 1900, 512)         4096      \n",
      "_________________________________________________________________\n",
      "max_pooling1d (MaxPooling1D) (None, 633, 512)          0         \n",
      "_________________________________________________________________\n",
      "conv1d_1 (Conv1D)            (None, 633, 256)          655616    \n",
      "_________________________________________________________________\n",
      "max_pooling1d_1 (MaxPooling1 (None, 316, 256)          0         \n",
      "_________________________________________________________________\n",
      "flatten (Flatten)            (None, 80896)             0         \n",
      "_________________________________________________________________\n",
      "dense (Dense)                (None, 1211)              97966267  \n",
      "_________________________________________________________________\n",
      "dropout (Dropout)            (None, 1211)              0         \n",
      "_________________________________________________________________\n",
      "dense_1 (Dense)              (None, 1211)              1467732   \n",
      "_________________________________________________________________\n",
      "dropout_1 (Dropout)          (None, 1211)              0         \n",
      "_________________________________________________________________\n",
      "output_layer (Dense)         (None, 1)                 1212      \n",
      "=================================================================\n",
      "Total params: 100,094,923\n",
      "Trainable params: 100,094,923\n",
      "Non-trainable params: 0\n",
      "_________________________________________________________________\n"
     ]
    }
   ],
   "source": [
    "# the best Mark I\n",
    "def create_Modelbaseline():\n",
    "    x_input = Input(shape=(1900,1)) # n_timesteps, n_features\n",
    "    # Conv\n",
    "    conv = Conv1D(512, kernel_size=7, strides=1, padding='same', activation='relu')(x_input) \n",
    "    conv = MaxPooling1D(pool_size=3)(conv)\n",
    "    conv = Conv1D(256, kernel_size=5, strides=1, padding='same', activation='relu')(conv) \n",
    "    conv = MaxPooling1D(pool_size=2)(conv)\n",
    "\n",
    "    # Flatten NN\n",
    "    flat = Flatten()(conv)\n",
    "    \n",
    "    layer_3 = Dense(2432, activation='relu')(flat)\n",
    "    dropout_3 = Dropout(0.5)(layer_3)\n",
    "    layer_4 = Dense(1211, activation='relu')(dropout_3)\n",
    "    dropout_4 = Dropout(0.5)(layer_4)\n",
    "    x_output = Dense(1, activation='sigmoid', name='output_layer', kernel_regularizer=l2(0.0001))(dropout_4)\n",
    "\n",
    "    model = Model(inputs=x_input, outputs=x_output)\n",
    "    model.compile(optimizer=\"RMSprop\", loss='binary_crossentropy', metrics=['accuracy'])\n",
    "    \n",
    "    return model\n",
    "\n",
    "model = create_Modelbaseline()\n",
    "model.summary()"
   ]
  },
  {
   "cell_type": "code",
   "execution_count": 58,
   "metadata": {},
   "outputs": [
    {
     "name": "stdout",
     "output_type": "stream",
     "text": [
      "Model: \"functional_17\"\n",
      "_________________________________________________________________\n",
      "Layer (type)                 Output Shape              Param #   \n",
      "=================================================================\n",
      "input_9 (InputLayer)         [(None, 1900, 1)]         0         \n",
      "_________________________________________________________________\n",
      "conv1d_16 (Conv1D)           (None, 1900, 512)         4608      \n",
      "_________________________________________________________________\n",
      "max_pooling1d_16 (MaxPooling (None, 633, 512)          0         \n",
      "_________________________________________________________________\n",
      "conv1d_17 (Conv1D)           (None, 633, 256)          655616    \n",
      "_________________________________________________________________\n",
      "max_pooling1d_17 (MaxPooling (None, 316, 256)          0         \n",
      "_________________________________________________________________\n",
      "flatten_8 (Flatten)          (None, 80896)             0         \n",
      "_________________________________________________________________\n",
      "dense_16 (Dense)             (None, 1211)              97966267  \n",
      "_________________________________________________________________\n",
      "dropout_16 (Dropout)         (None, 1211)              0         \n",
      "_________________________________________________________________\n",
      "dense_17 (Dense)             (None, 1211)              1467732   \n",
      "_________________________________________________________________\n",
      "dropout_17 (Dropout)         (None, 1211)              0         \n",
      "_________________________________________________________________\n",
      "output_layer (Dense)         (None, 1)                 1212      \n",
      "=================================================================\n",
      "Total params: 100,095,435\n",
      "Trainable params: 100,095,435\n",
      "Non-trainable params: 0\n",
      "_________________________________________________________________\n"
     ]
    }
   ],
   "source": [
    "# n_timesteps, n_features, n_outputs = X_train.shape[2], X_train.shape[1], 1\n",
    "# nn.Conv1d with a kernel size of 1 and nn.Linear   give exactly the same results.\n",
    "\n",
    "# use in dev \n",
    "\n",
    "#SGD\n",
    "#RMSprop\n",
    "#Adam\n",
    "#Adadelta\n",
    "#Adagrad\n",
    "#Adamax\n",
    "#Nadam\n",
    "#Ftrl\n",
    "#\n",
    "#\n",
    "def create_Modelbaseline():\n",
    "    x_input = Input(shape=(1900,1)) # n_timesteps, n_features\n",
    "    # Conv\n",
    "    #conv = Conv1D(512, kernel_size=7, strides=1, padding='same', activation='relu')(x_input) \n",
    "    #conv = MaxPooling1D(pool_size=3)(conv)\n",
    "    conv = Conv1D(512, kernel_size=8, strides=1, padding='same', activation='relu')(x_input) \n",
    "    conv = MaxPooling1D(pool_size=3)(conv)\n",
    "    dropout_3 = Dropout(0.5)(layer_3)\n",
    "    conv = Conv1D(256, kernel_size=5, strides=1, padding='same', activation='relu')(conv) \n",
    "    conv = MaxPooling1D(pool_size=2)(conv)\n",
    "    dropout_3 = Dropout(0.5)(layer_3)\n",
    "   \n",
    "    # Flatten NN\n",
    "    flat = Flatten()(conv)\n",
    "    layer_3 = Dense(1211, activation='relu')(flat)\n",
    "    dropout_3 = Dropout(0.2)(layer_3)\n",
    "    layer_4 = Dense(1211, activation='relu')(dropout_3)\n",
    "    dropout_4 = Dropout(0.2)(layer_4)\n",
    "    x_output = Dense(1, activation='sigmoid', name='output_layer', kernel_regularizer=l2(0.0001))(dropout_4)\n",
    "\n",
    "    model = Model(inputs=x_input, outputs=x_output)\n",
    "    model.compile(optimizer=\"Adam\", loss='binary_crossentropy', metrics=['accuracy'])\n",
    "    \n",
    "    return model\n",
    "\n",
    "model = create_Modelbaseline()\n",
    "model.summary()"
   ]
  },
  {
   "cell_type": "code",
   "execution_count": 6,
   "metadata": {},
   "outputs": [
    {
     "name": "stdout",
     "output_type": "stream",
     "text": [
      "Model: \"functional_1\"\n",
      "_________________________________________________________________\n",
      "Layer (type)                 Output Shape              Param #   \n",
      "=================================================================\n",
      "input_1 (InputLayer)         [(None, 1900, 1)]         0         \n",
      "_________________________________________________________________\n",
      "conv1d (Conv1D)              (None, 1900, 64)          3264      \n",
      "_________________________________________________________________\n",
      "max_pooling1d (MaxPooling1D) (None, 63, 64)            0         \n",
      "_________________________________________________________________\n",
      "conv1d_1 (Conv1D)            (None, 63, 128)           155776    \n",
      "_________________________________________________________________\n",
      "max_pooling1d_1 (MaxPooling1 (None, 6, 128)            0         \n",
      "_________________________________________________________________\n",
      "batch_normalization (BatchNo (None, 6, 128)            512       \n",
      "_________________________________________________________________\n",
      "flatten (Flatten)            (None, 768)               0         \n",
      "_________________________________________________________________\n",
      "dense (Dense)                (None, 1211)              931259    \n",
      "_________________________________________________________________\n",
      "dropout (Dropout)            (None, 1211)              0         \n",
      "_________________________________________________________________\n",
      "dense_1 (Dense)              (None, 512)               620544    \n",
      "_________________________________________________________________\n",
      "dropout_1 (Dropout)          (None, 512)               0         \n",
      "_________________________________________________________________\n",
      "output_layer (Dense)         (None, 1)                 513       \n",
      "=================================================================\n",
      "Total params: 1,711,868\n",
      "Trainable params: 1,711,612\n",
      "Non-trainable params: 256\n",
      "_________________________________________________________________\n"
     ]
    }
   ],
   "source": [
    "# create_ModelII\n",
    "## https://github.com/p-koo/learning_sequence_motifs/blob/master/code/models/cnn_25.py show best here \n",
    "def create_Modelbaseline():\n",
    "    x_input = Input(shape=(1900,1)) # n_timesteps, n_features\n",
    "    # Conv\n",
    "  #bn1 = BatchNormalization()(data)\n",
    "  #act1 = Activation('relu')(bn1)\n",
    "    \n",
    "    conv = Conv1D(64, kernel_size=19, strides=1, padding='same', activation='relu')(x_input)  # Extract whole motif pattern\n",
    "    conv = MaxPooling1D(pool_size=25)(conv)\n",
    "    conv = Conv1D(128, kernel_size=5, strides=1, padding='same', activation='relu')(conv)  # Extract extra features  \n",
    "    conv = MaxPooling1D(pool_size=4)(conv)\n",
    "    \n",
    "    x = BatchNormalization()(conv)\n",
    "   \n",
    "    # Flatten NN\n",
    "    flat = Flatten()(x)\n",
    "    layer_3 = Dense(1211, activation='relu')(flat)\n",
    "    dropout_3 = Dropout(0.5)(layer_3)\n",
    "    layer_4 = Dense(512, activation='relu')(dropout_3)\n",
    "    dropout_4 = Dropout(0.5)(layer_4)\n",
    "    x_output = Dense(1, activation='sigmoid', name='output_layer', kernel_regularizer=l1_l2(0.000001))(dropout_4)\n",
    "\n",
    "    model = Model(inputs=x_input, outputs=x_output)\n",
    "    model.compile(optimizer=\"Adam\", loss='binary_crossentropy', metrics=['accuracy'])\n",
    "    \n",
    "    return model\n",
    "\n",
    "model = create_Modelbaseline()\n",
    "model.summary()"
   ]
  },
  {
   "cell_type": "code",
   "execution_count": null,
   "metadata": {},
   "outputs": [],
   "source": [
    "# https://stackoverflow.com/questions/43237124/what-is-the-role-of-flatten-in-keras"
   ]
  },
  {
   "cell_type": "code",
   "execution_count": 7,
   "metadata": {},
   "outputs": [
    {
     "name": "stdout",
     "output_type": "stream",
     "text": [
      "Model: \"functional_1\"\n",
      "_________________________________________________________________\n",
      "Layer (type)                 Output Shape              Param #   \n",
      "=================================================================\n",
      "input_1 (InputLayer)         [(None, 1900, 1)]         0         \n",
      "_________________________________________________________________\n",
      "conv1d (Conv1D)              (None, 1900, 64)          2624      \n",
      "_________________________________________________________________\n",
      "max_pooling1d (MaxPooling1D) (None, 76, 64)            0         \n",
      "_________________________________________________________________\n",
      "conv1d_1 (Conv1D)            (None, 76, 128)           57472     \n",
      "_________________________________________________________________\n",
      "max_pooling1d_1 (MaxPooling1 (None, 19, 128)           0         \n",
      "_________________________________________________________________\n",
      "batch_normalization (BatchNo (None, 19, 128)           512       \n",
      "_________________________________________________________________\n",
      "flatten (Flatten)            (None, 2432)              0         \n",
      "_________________________________________________________________\n",
      "dense (Dense)                (None, 1211)              2946363   \n",
      "_________________________________________________________________\n",
      "batch_normalization_1 (Batch (None, 1211)              4844      \n",
      "_________________________________________________________________\n",
      "activation (Activation)      (None, 1211)              0         \n",
      "_________________________________________________________________\n",
      "dropout (Dropout)            (None, 1211)              0         \n",
      "_________________________________________________________________\n",
      "dense_1 (Dense)              (None, 512)               620544    \n",
      "_________________________________________________________________\n",
      "batch_normalization_2 (Batch (None, 512)               2048      \n",
      "_________________________________________________________________\n",
      "activation_1 (Activation)    (None, 512)               0         \n",
      "_________________________________________________________________\n",
      "dropout_1 (Dropout)          (None, 512)               0         \n",
      "_________________________________________________________________\n",
      "flatten_1 (Flatten)          (None, 512)               0         \n",
      "_________________________________________________________________\n",
      "output_layer (Dense)         (None, 1)                 513       \n",
      "=================================================================\n",
      "Total params: 3,634,920\n",
      "Trainable params: 3,631,218\n",
      "Non-trainable params: 3,702\n",
      "_________________________________________________________________\n"
     ]
    }
   ],
   "source": [
    "# create_ModelIII\n",
    "#\n",
    "\n",
    "def create_Modelbaseline():\n",
    "    x_input = Input(shape=(1900,1)) # n_timesteps, n_features\n",
    "        \n",
    "    conv = Conv1D(64, kernel_size=40, strides=1, padding='same', activation='relu')(x_input)  # Extract whole motif pattern\n",
    "    conv = MaxPooling1D(pool_size=25)(conv)\n",
    "    conv = Conv1D(128, kernel_size=7, strides=1, padding='same', activation='relu')(conv)  # Extract extra features  \n",
    "    conv = MaxPooling1D(pool_size=4)(conv)\n",
    "    \n",
    "    x = BatchNormalization()(conv)\n",
    "    x = Flatten()(x)\n",
    "    #output = GlobalMaxPooling1D()(x)\n",
    "    \n",
    "    output = Dense(2432, activation=None)(x)\n",
    "    output = BatchNormalization()(output)\n",
    "    output = Activation('relu')(output)\n",
    "    output = Dropout(0.5)(output)\n",
    "    \n",
    "    output = Dense(1216, activation=None)(output)\n",
    "    output = BatchNormalization()(output)\n",
    "    output = Activation('relu')(output)\n",
    "    output = Dropout(0.5)(output)\n",
    "    \n",
    "    output = Flatten()(output)\n",
    "    x_output = Dense(1, activation='sigmoid', name='output_layer', kernel_regularizer=l1_l2(0.000001))(output)\n",
    "    model = Model(inputs=x_input, outputs=x_output)\n",
    "    model.compile(optimizer=\"Adam\", loss='binary_crossentropy', metrics=['accuracy'])\n",
    "    \n",
    "    return model\n",
    "\n",
    "model = create_Modelbaseline()\n",
    "model.summary()"
   ]
  },
  {
   "cell_type": "code",
   "execution_count": null,
   "metadata": {},
   "outputs": [],
   "source": []
  },
  {
   "cell_type": "code",
   "execution_count": 8,
   "metadata": {},
   "outputs": [],
   "source": [
    "#from keras import backend as K\n",
    "#K.set_value(model_ProtCNN.optimizer.learning_rate, 0.00001)\n",
    "def lr_schedule(epoch):\n",
    "    \n",
    "    lr = 1e-3\n",
    "    if epoch > 80:\n",
    "        lr = 0.1e-6\n",
    "    elif epoch > 50:    \n",
    "        lr = 0.3e-5\n",
    "    elif epoch > 20:\n",
    "        lr = 1e-4\n",
    "        \n",
    "    print(' Learning rate: ', lr)    \n",
    "    return lr "
   ]
  },
  {
   "cell_type": "code",
   "execution_count": 9,
   "metadata": {
    "scrolled": true
   },
   "outputs": [
    {
     "name": "stdout",
     "output_type": "stream",
     "text": [
      "WARNING:tensorflow:`period` argument is deprecated. Please use `save_freq` to specify the frequency in number of batches seen.\n",
      " Learning rate:  0.001\n",
      "Epoch 1/100\n",
      "1005/1005 [==============================] - 9s 9ms/step - loss: 0.2960 - accuracy: 0.8797 - val_loss: 0.7383 - val_accuracy: 0.6584\n",
      " Learning rate:  0.001\n",
      "Epoch 2/100\n",
      "1005/1005 [==============================] - 8s 8ms/step - loss: 0.2203 - accuracy: 0.9142 - val_loss: 0.3606 - val_accuracy: 0.8430\n",
      " Learning rate:  0.001\n",
      "Epoch 3/100\n",
      "1005/1005 [==============================] - 8s 8ms/step - loss: 0.1980 - accuracy: 0.9234 - val_loss: 0.2516 - val_accuracy: 0.9000\n",
      " Learning rate:  0.001\n",
      "Epoch 4/100\n",
      "1005/1005 [==============================] - 8s 8ms/step - loss: 0.1840 - accuracy: 0.9298 - val_loss: 0.1947 - val_accuracy: 0.9239\n",
      " Learning rate:  0.001\n",
      "Epoch 5/100\n",
      "1005/1005 [==============================] - 8s 8ms/step - loss: 0.1725 - accuracy: 0.9356 - val_loss: 0.2364 - val_accuracy: 0.9031\n",
      " Learning rate:  0.001\n",
      "Epoch 6/100\n",
      "1005/1005 [==============================] - 8s 8ms/step - loss: 0.1629 - accuracy: 0.9381 - val_loss: 0.2206 - val_accuracy: 0.9109\n",
      " Learning rate:  0.001\n",
      "Epoch 7/100\n",
      "1005/1005 [==============================] - 8s 8ms/step - loss: 0.1569 - accuracy: 0.9405 - val_loss: 0.2199 - val_accuracy: 0.9135\n",
      " Learning rate:  0.001\n",
      "Epoch 8/100\n",
      "1005/1005 [==============================] - 8s 8ms/step - loss: 0.1482 - accuracy: 0.9442 - val_loss: 0.2176 - val_accuracy: 0.9099\n",
      " Learning rate:  0.001\n",
      "Epoch 9/100\n",
      "1005/1005 [==============================] - 8s 8ms/step - loss: 0.1473 - accuracy: 0.9445 - val_loss: 0.2726 - val_accuracy: 0.8909\n",
      " Learning rate:  0.001\n",
      "Epoch 10/100\n",
      "1005/1005 [==============================] - 8s 8ms/step - loss: 0.1397 - accuracy: 0.9474 - val_loss: 0.1694 - val_accuracy: 0.9367\n",
      " Learning rate:  0.001\n",
      "Epoch 11/100\n",
      "1005/1005 [==============================] - 8s 8ms/step - loss: 0.1339 - accuracy: 0.9492 - val_loss: 0.3559 - val_accuracy: 0.8447\n",
      " Learning rate:  0.001\n",
      "Epoch 12/100\n",
      "1005/1005 [==============================] - 8s 8ms/step - loss: 0.1286 - accuracy: 0.9516 - val_loss: 0.1803 - val_accuracy: 0.9345\n",
      " Learning rate:  0.001\n",
      "Epoch 13/100\n",
      "1005/1005 [==============================] - 8s 8ms/step - loss: 0.1228 - accuracy: 0.9534 - val_loss: 0.2026 - val_accuracy: 0.9243\n",
      " Learning rate:  0.001\n",
      "Epoch 14/100\n",
      "1005/1005 [==============================] - 8s 8ms/step - loss: 0.1182 - accuracy: 0.9556 - val_loss: 0.1689 - val_accuracy: 0.9390\n",
      " Learning rate:  0.001\n",
      "Epoch 15/100\n",
      "1005/1005 [==============================] - 8s 8ms/step - loss: 0.1142 - accuracy: 0.9571 - val_loss: 0.2444 - val_accuracy: 0.9049\n",
      " Learning rate:  0.001\n",
      "Epoch 16/100\n",
      "1005/1005 [==============================] - 8s 8ms/step - loss: 0.1083 - accuracy: 0.9593 - val_loss: 0.1947 - val_accuracy: 0.9293\n",
      " Learning rate:  0.001\n",
      "Epoch 17/100\n",
      "1005/1005 [==============================] - 8s 8ms/step - loss: 0.1056 - accuracy: 0.9601 - val_loss: 0.1865 - val_accuracy: 0.9324\n",
      " Learning rate:  0.001\n",
      "Epoch 18/100\n",
      "1005/1005 [==============================] - 8s 8ms/step - loss: 0.1011 - accuracy: 0.9615 - val_loss: 0.1857 - val_accuracy: 0.9306\n",
      " Learning rate:  0.001\n",
      "Epoch 19/100\n",
      "1005/1005 [==============================] - 8s 8ms/step - loss: 0.0972 - accuracy: 0.9631 - val_loss: 0.2294 - val_accuracy: 0.9163\n",
      " Learning rate:  0.001\n",
      "Epoch 20/100\n",
      "1005/1005 [==============================] - 8s 8ms/step - loss: 0.0943 - accuracy: 0.9646 - val_loss: 0.2081 - val_accuracy: 0.9261\n",
      " Learning rate:  0.001\n",
      "Epoch 21/100\n",
      "1005/1005 [==============================] - 8s 8ms/step - loss: 0.0905 - accuracy: 0.9663 - val_loss: 0.1662 - val_accuracy: 0.9406\n",
      " Learning rate:  0.0001\n",
      "Epoch 22/100\n",
      "1005/1005 [==============================] - 8s 8ms/step - loss: 0.0647 - accuracy: 0.9765 - val_loss: 0.1700 - val_accuracy: 0.9476\n",
      " Learning rate:  0.0001\n",
      "Epoch 23/100\n",
      "1005/1005 [==============================] - 8s 8ms/step - loss: 0.0578 - accuracy: 0.9790 - val_loss: 0.1747 - val_accuracy: 0.9481\n",
      " Learning rate:  0.0001\n",
      "Epoch 24/100\n",
      "1005/1005 [==============================] - 8s 8ms/step - loss: 0.0545 - accuracy: 0.9805 - val_loss: 0.1800 - val_accuracy: 0.9483\n",
      " Learning rate:  0.0001\n",
      "Epoch 25/100\n",
      "1005/1005 [==============================] - 8s 8ms/step - loss: 0.0521 - accuracy: 0.9815 - val_loss: 0.1833 - val_accuracy: 0.9473\n",
      " Learning rate:  0.0001\n",
      "Epoch 26/100\n",
      "1005/1005 [==============================] - 8s 8ms/step - loss: 0.0506 - accuracy: 0.9820 - val_loss: 0.1826 - val_accuracy: 0.9473\n",
      " Learning rate:  0.0001\n",
      "Epoch 27/100\n",
      "1005/1005 [==============================] - 8s 8ms/step - loss: 0.0488 - accuracy: 0.9825 - val_loss: 0.1839 - val_accuracy: 0.9485\n",
      " Learning rate:  0.0001\n",
      "Epoch 28/100\n",
      "1005/1005 [==============================] - 8s 8ms/step - loss: 0.0465 - accuracy: 0.9836 - val_loss: 0.1877 - val_accuracy: 0.9475\n",
      " Learning rate:  0.0001\n",
      "Epoch 29/100\n",
      "1005/1005 [==============================] - 8s 8ms/step - loss: 0.0458 - accuracy: 0.9839 - val_loss: 0.1876 - val_accuracy: 0.9471\n",
      " Learning rate:  0.0001\n",
      "Epoch 30/100\n",
      "1005/1005 [==============================] - 8s 8ms/step - loss: 0.0439 - accuracy: 0.9848 - val_loss: 0.1909 - val_accuracy: 0.9484\n",
      " Learning rate:  0.0001\n",
      "Epoch 31/100\n",
      "1005/1005 [==============================] - 8s 8ms/step - loss: 0.0426 - accuracy: 0.9852 - val_loss: 0.1955 - val_accuracy: 0.9478\n",
      " Learning rate:  0.0001\n",
      "Epoch 32/100\n",
      "1005/1005 [==============================] - 8s 8ms/step - loss: 0.0431 - accuracy: 0.9848 - val_loss: 0.1917 - val_accuracy: 0.9474\n",
      " Learning rate:  0.0001\n",
      "Epoch 33/100\n",
      "1005/1005 [==============================] - 8s 8ms/step - loss: 0.0408 - accuracy: 0.9857 - val_loss: 0.1971 - val_accuracy: 0.9488\n",
      " Learning rate:  0.0001\n",
      "Epoch 34/100\n",
      "1005/1005 [==============================] - 8s 8ms/step - loss: 0.0403 - accuracy: 0.9863 - val_loss: 0.1992 - val_accuracy: 0.9472\n",
      " Learning rate:  0.0001\n",
      "Epoch 35/100\n",
      "1005/1005 [==============================] - 8s 8ms/step - loss: 0.0391 - accuracy: 0.9863 - val_loss: 0.2040 - val_accuracy: 0.9443\n",
      " Learning rate:  0.0001\n",
      "Epoch 36/100\n",
      "1005/1005 [==============================] - 8s 8ms/step - loss: 0.0380 - accuracy: 0.9871 - val_loss: 0.2010 - val_accuracy: 0.9478\n",
      " Learning rate:  0.0001\n",
      "Epoch 37/100\n",
      "1005/1005 [==============================] - 8s 8ms/step - loss: 0.0373 - accuracy: 0.9873 - val_loss: 0.2057 - val_accuracy: 0.9482\n",
      " Learning rate:  0.0001\n",
      "Epoch 38/100\n",
      "1005/1005 [==============================] - 8s 8ms/step - loss: 0.0373 - accuracy: 0.9873 - val_loss: 0.2029 - val_accuracy: 0.9474\n",
      " Learning rate:  0.0001\n",
      "Epoch 39/100\n",
      "1005/1005 [==============================] - 8s 8ms/step - loss: 0.0366 - accuracy: 0.9876 - val_loss: 0.2051 - val_accuracy: 0.9466\n",
      " Learning rate:  0.0001\n",
      "Epoch 40/100\n",
      "1005/1005 [==============================] - 8s 8ms/step - loss: 0.0352 - accuracy: 0.9880 - val_loss: 0.2078 - val_accuracy: 0.9468\n",
      " Learning rate:  0.0001\n",
      "Epoch 41/100\n",
      "1005/1005 [==============================] - 8s 8ms/step - loss: 0.0355 - accuracy: 0.9881 - val_loss: 0.2069 - val_accuracy: 0.9475\n",
      "Epoch 00041: early stopping\n"
     ]
    }
   ],
   "source": [
    "checkpoint = ModelCheckpoint(\"/mnt/vdb/thesis/CustomCNN.Adam.v4.h5\", monitor='loss', verbose=1,\n",
    "    save_best_only=True, mode='auto', period=1)\n",
    "\n",
    "# Early Stopping\n",
    "es = EarlyStopping(monitor='val_loss', patience=20, verbose=1)\n",
    "\n",
    "#learning rate decay\n",
    "lr_scheduler = LearningRateScheduler(lr_schedule)\n",
    "\n",
    "history = model.fit(X_train, y_train, epochs=100,\n",
    "                    batch_size=128, validation_data=(X_val, y_val),\n",
    "                    callbacks=[es, lr_scheduler], verbose=1)"
   ]
  },
  {
   "cell_type": "code",
   "execution_count": 13,
   "metadata": {},
   "outputs": [],
   "source": [
    "model.save('/mnt/vdb/thesis/CustomCNN.Adam.III.V4.h5') "
   ]
  },
  {
   "cell_type": "code",
   "execution_count": 10,
   "metadata": {},
   "outputs": [
    {
     "name": "stdout",
     "output_type": "stream",
     "text": [
      "4018/4018 [==============================] - 8s 2ms/step - loss: 0.0201 - accuracy: 0.9945\n",
      "Train loss:  0.02008160762488842\n",
      "Train accuracy:  0.994539737701416\n",
      "----------------------------------------------------------------------\n",
      "1340/1340 [==============================] - 3s 2ms/step - loss: 0.2069 - accuracy: 0.9475\n",
      "Val loss:  0.20690956711769104\n",
      "Val accuracy:  0.9474506974220276\n",
      "----------------------------------------------------------------------\n",
      "1340/1340 [==============================] - 3s 2ms/step - loss: 0.2044 - accuracy: 0.9475\n",
      "Test loss:  0.20440642535686493\n",
      "Test accuracy:  0.9475219249725342\n"
     ]
    }
   ],
   "source": [
    "display_model_score(model,\n",
    "    [X_train, y_train],\n",
    "    [X_val, y_val],\n",
    "    [X_test, y_test])"
   ]
  },
  {
   "cell_type": "code",
   "execution_count": 11,
   "metadata": {},
   "outputs": [
    {
     "data": {
      "image/png": "[encoded data removed]",
      "text/plain": [
       "<Figure size 864x360 with 2 Axes>"
      ]
     },
     "metadata": {
      "needs_background": "light"
     },
     "output_type": "display_data"
    }
   ],
   "source": [
    "plot_history(history)"
   ]
  },
  {
   "cell_type": "code",
   "execution_count": 12,
   "metadata": {},
   "outputs": [
    {
     "name": "stdout",
     "output_type": "stream",
     "text": [
      "              precision    recall  f1-score   support\n",
      "\n",
      "           0       0.95      0.94      0.95     21596\n",
      "           1       0.94      0.95      0.95     21260\n",
      "\n",
      "    accuracy                           0.95     42856\n",
      "   macro avg       0.95      0.95      0.95     42856\n",
      "weighted avg       0.95      0.95      0.95     42856\n",
      "\n"
     ]
    }
   ],
   "source": [
    "# Markk III\n",
    "y_probas = model.predict(X_test)\n",
    "threshold = 0.5\n",
    "y_predict = np.where(y_probas > threshold, 1, 0)\n",
    "print(classification_report(y_test, y_predict))"
   ]
  },
  {
   "cell_type": "code",
   "execution_count": 13,
   "metadata": {},
   "outputs": [
    {
     "ename": "NameError",
     "evalue": "name 'y_predict' is not defined",
     "output_type": "error",
     "traceback": [
      "\u001b[0;31m---------------------------------------------------------------------------\u001b[0m",
      "\u001b[0;31mNameError\u001b[0m                                 Traceback (most recent call last)",
      "\u001b[0;32m<ipython-input-13-67b1e797cccd>\u001b[0m in \u001b[0;36m<module>\u001b[0;34m\u001b[0m\n\u001b[0;32m----> 1\u001b[0;31m \u001b[0my_predict\u001b[0m\u001b[0;34m\u001b[0m\u001b[0;34m\u001b[0m\u001b[0m\n\u001b[0m",
      "\u001b[0;31mNameError\u001b[0m: name 'y_predict' is not defined"
     ]
    }
   ],
   "source": [
    "print(classification_report(y_test, y_predict))"
   ]
  },
  {
   "cell_type": "code",
   "execution_count": null,
   "metadata": {},
   "outputs": [],
   "source": [
    "y_probas = model.predict(X_test)\n",
    "threshold = 0.5\n",
    "y_predict = np.where(y_probas > threshold, 1, 0)\n",
    "print(classification_report(y_test, y_predict))"
   ]
  },
  {
   "cell_type": "code",
   "execution_count": 20,
   "metadata": {},
   "outputs": [
    {
     "name": "stdout",
     "output_type": "stream",
     "text": [
      "              precision    recall  f1-score   support\n",
      "\n",
      "           0       0.92      0.96      0.94     22886\n",
      "           1       0.95      0.91      0.93     22400\n",
      "\n",
      "    accuracy                           0.93     45286\n",
      "   macro avg       0.94      0.93      0.93     45286\n",
      "weighted avg       0.93      0.93      0.93     45286\n",
      "\n"
     ]
    }
   ],
   "source": [
    "# 11/3/2021\n",
    "y_probas = model.predict(X_test)\n",
    "threshold = 0.5\n",
    "y_predict = np.where(y_probas > threshold, 1, 0)\n",
    "\n",
    "print(classification_report(y_test, y_predict))"
   ]
  },
  {
   "cell_type": "code",
   "execution_count": 62,
   "metadata": {},
   "outputs": [
    {
     "name": "stdout",
     "output_type": "stream",
     "text": [
      "              precision    recall  f1-score   support\n",
      "\n",
      "           0       0.95      0.96      0.96     25564\n",
      "           1       0.96      0.95      0.95     25244\n",
      "\n",
      "    accuracy                           0.95     50808\n",
      "   macro avg       0.95      0.95      0.95     50808\n",
      "weighted avg       0.95      0.95      0.95     50808\n",
      "\n"
     ]
    }
   ],
   "source": [
    "# the best\n",
    "y_probas = model.predict(X_test)\n",
    "threshold = 0.5\n",
    "y_predict = np.where(y_probas > threshold, 1, 0)\n",
    "\n",
    "print(classification_report(y_test, y_predict))"
   ]
  },
  {
   "cell_type": "markdown",
   "metadata": {
    "id": "fALQEI9g4Ejn"
   },
   "source": [
    "# Conclusion"
   ]
  },
  {
   "cell_type": "code",
   "execution_count": null,
   "metadata": {},
   "outputs": [],
   "source": [
    "# IF you AveragePooling in any -> didn;t show the good performance so use Maxpooling \n",
    "# 1211 , 512 show the better performance  \n",
    "\n",
    "# 2 CNN layer\n",
    "# 2 Dense layer \n",
    "\n",
    "# Add"
   ]
  },
  {
   "cell_type": "code",
   "execution_count": 19,
   "metadata": {
    "id": "Gh0Zvl9j4E38"
   },
   "outputs": [
    {
     "ename": "AttributeError",
     "evalue": "'Functional' object has no attribute 'layers_by_depth'",
     "output_type": "error",
     "traceback": [
      "\u001b[0;31m---------------------------------------------------------------------------\u001b[0m",
      "\u001b[0;31mAttributeError\u001b[0m                            Traceback (most recent call last)",
      "\u001b[0;32m<ipython-input-19-406262364133>\u001b[0m in \u001b[0;36m<module>\u001b[0;34m\u001b[0m\n\u001b[0;32m----> 1\u001b[0;31m \u001b[0mmodel\u001b[0m\u001b[0;34m.\u001b[0m\u001b[0mlayers_by_depth\u001b[0m\u001b[0;34m\u001b[0m\u001b[0;34m\u001b[0m\u001b[0m\n\u001b[0m",
      "\u001b[0;31mAttributeError\u001b[0m: 'Functional' object has no attribute 'layers_by_depth'"
     ]
    }
   ],
   "source": [
    "model.layers_by_depth"
   ]
  },
  {
   "cell_type": "code",
   "execution_count": null,
   "metadata": {},
   "outputs": [],
   "source": []
  }
 ],
 "metadata": {
  "accelerator": "GPU",
  "colab": {
   "collapsed_sections": [],
   "name": "CustomDNNModel.ipynb",
   "provenance": [],
   "toc_visible": true
  },
  "kernelspec": {
   "display_name": "Python 3",
   "language": "python",
   "name": "python3"
  },
  "language_info": {
   "codemirror_mode": {
    "name": "ipython",
    "version": 3
   },
   "file_extension": ".py",
   "mimetype": "text/x-python",
   "name": "python",
   "nbconvert_exporter": "python",
   "pygments_lexer": "ipython3",
   "version": "3.7.9"
  }
 },
 "nbformat": 4,
 "nbformat_minor": 4
}
