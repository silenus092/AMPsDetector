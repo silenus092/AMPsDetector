{
 "cells": [
  {
   "cell_type": "code",
   "execution_count": null,
   "metadata": {},
   "outputs": [],
   "source": [
    "# https://stackoverflow.com/questions/48641189/fitting-3d-data-as-input-into-keras-sequential-model-layer"
   ]
  },
  {
   "cell_type": "code",
   "execution_count": 5,
   "metadata": {},
   "outputs": [
    {
     "name": "stdout",
     "output_type": "stream",
     "text": [
      "Collecting package metadata (current_repodata.json): done\n",
      "Solving environment: done\n",
      "\n",
      "\n",
      "==> WARNING: A newer version of conda exists. <==\n",
      "  current version: 4.8.3\n",
      "  latest version: 4.9.2\n",
      "\n",
      "Please update conda by running\n",
      "\n",
      "    $ conda update -n base -c defaults conda\n",
      "\n",
      "\n",
      "\n",
      "## Package Plan ##\n",
      "\n",
      "  environment location: /home/ubuntu/miniconda3/envs/py3\n",
      "\n",
      "  added / updated specs:\n",
      "    - keras=2.3.1\n",
      "\n",
      "\n",
      "The following packages will be downloaded:\n",
      "\n",
      "    package                    |            build\n",
      "    ---------------------------|-----------------\n",
      "    certifi-2020.12.5          |   py37h06a4308_0         141 KB\n",
      "    keras-2.3.1                |                0          12 KB\n",
      "    keras-base-2.3.1           |           py37_0         495 KB\n",
      "    openssl-1.1.1i             |       h27cfd23_0         2.5 MB\n",
      "    ------------------------------------------------------------\n",
      "                                           Total:         3.2 MB\n",
      "\n",
      "The following NEW packages will be INSTALLED:\n",
      "\n",
      "  keras-base         pkgs/main/linux-64::keras-base-2.3.1-py37_0\n",
      "\n",
      "The following packages will be UPDATED:\n",
      "\n",
      "  ca-certificates    conda-forge::ca-certificates-2020.12.~ --> pkgs/main::ca-certificates-2021.1.19-h06a4308_0\n",
      "\n",
      "The following packages will be SUPERSEDED by a higher-priority channel:\n",
      "\n",
      "  certifi            conda-forge::certifi-2020.12.5-py37h8~ --> pkgs/main::certifi-2020.12.5-py37h06a4308_0\n",
      "  keras                conda-forge/noarch::keras-2.4.3-py_0 --> pkgs/main/linux-64::keras-2.3.1-0\n",
      "  openssl            conda-forge::openssl-1.1.1i-h7f98852_0 --> pkgs/main::openssl-1.1.1i-h27cfd23_0\n",
      "\n",
      "\n",
      "\n",
      "Downloading and Extracting Packages\n",
      "openssl-1.1.1i       | 2.5 MB    | ##################################### | 100% \n",
      "keras-base-2.3.1     | 495 KB    | ##################################### | 100% \n",
      "keras-2.3.1          | 12 KB     | ##################################### | 100% \n",
      "certifi-2020.12.5    | 141 KB    | ##################################### | 100% \n",
      "Preparing transaction: done\n",
      "Verifying transaction: done\n",
      "Executing transaction: done\n"
     ]
    }
   ],
   "source": [
    "!conda install keras=2.3.1 -y"
   ]
  },
  {
   "cell_type": "code",
   "execution_count": 2,
   "metadata": {},
   "outputs": [],
   "source": [
    " #Use only CPU\n",
    "import os \n",
    "os.environ['CUDA_VISIBLE_DEVICES'] = '-1'"
   ]
  },
  {
   "cell_type": "code",
   "execution_count": 1,
   "metadata": {},
   "outputs": [
    {
     "name": "stdout",
     "output_type": "stream",
     "text": [
      "[name: \"/device:CPU:0\"\n",
      "device_type: \"CPU\"\n",
      "memory_limit: 268435456\n",
      "locality {\n",
      "}\n",
      "incarnation: 15360368458749329693\n",
      ", name: \"/device:XLA_CPU:0\"\n",
      "device_type: \"XLA_CPU\"\n",
      "memory_limit: 17179869184\n",
      "locality {\n",
      "}\n",
      "incarnation: 16134426514430374056\n",
      "physical_device_desc: \"device: XLA_CPU device\"\n",
      ", name: \"/device:XLA_GPU:0\"\n",
      "device_type: \"XLA_GPU\"\n",
      "memory_limit: 17179869184\n",
      "locality {\n",
      "}\n",
      "incarnation: 11756146409991432083\n",
      "physical_device_desc: \"device: XLA_GPU device\"\n",
      ", name: \"/device:GPU:0\"\n",
      "device_type: \"GPU\"\n",
      "memory_limit: 31595870336\n",
      "locality {\n",
      "  bus_id: 1\n",
      "  links {\n",
      "  }\n",
      "}\n",
      "incarnation: 14256696921772055789\n",
      "physical_device_desc: \"device: 0, name: Tesla V100-PCIE-32GB, pci bus id: 0000:00:06.0, compute capability: 7.0\"\n",
      "]\n"
     ]
    }
   ],
   "source": [
    "import tensorflow as tf\n",
    "from tensorflow.python.client import device_lib\n",
    "print(device_lib.list_local_devices())"
   ]
  },
  {
   "cell_type": "code",
   "execution_count": 1,
   "metadata": {
    "id": "4aBzk8QXHS9S"
   },
   "outputs": [],
   "source": [
    "import os\n",
    "import gc\n",
    "\n",
    "import numpy as np\n",
    "import pandas as pd\n",
    "import matplotlib.pyplot as plt\n",
    "import matplotlib.patches as patches\n",
    "import seaborn as sns\n",
    "\n",
    "from collections import Counter\n",
    "from prettytable import PrettyTable\n",
    "from IPython.display import Image\n",
    "from sklearn.model_selection import train_test_split\n",
    "from sklearn.model_selection import cross_val_score\n",
    "from sklearn.model_selection import StratifiedKFold\n",
    "from sklearn.metrics import roc_curve,auc\n",
    "\n",
    "#keras\n",
    "import tensorflow.keras as keras\n",
    "from keras.models import Model\n",
    "from keras.regularizers import l2\n",
    "from keras.constraints import max_norm\n",
    "from keras.callbacks import EarlyStopping\n",
    "from keras.layers import Input, Dense, Dropout, Flatten, Activation\n",
    "from keras.layers import Conv1D, Add, MaxPooling1D, BatchNormalization\n",
    "from keras.layers import Embedding, Bidirectional, GlobalMaxPooling1D\n",
    "\n",
    "from tensorflow.keras.callbacks import LearningRateScheduler\n",
    "from keras.wrappers.scikit_learn import KerasClassifier\n",
    "# CuDNNLSTM error; The error was because from TensorFlow 2 you do not need to specify CuDNNLSTM. \n",
    "# You can just use LSTM with no activation function and it will automatically use the CuDNN version. You do have to install CuDNN first.\n",
    "\n",
    "from keras.callbacks import ModelCheckpoint\n",
    "from sklearn.metrics import classification_report, confusion_matrix, accuracy_score"
   ]
  },
  {
   "cell_type": "code",
   "execution_count": 3,
   "metadata": {
    "id": "FNhtXHJrfEE4"
   },
   "outputs": [],
   "source": [
    "# small old ../datasets/AMPsNonAMPs_df.239.plk\n",
    "# /home/ubuntu/data/AMPsNonAMPs_df.plk old dataset\n",
    "# /mnt/vdb/thesis/jax/AMPNonAMP.final.reps new dataset\n",
    "import pickle5 as pickle\n",
    "with open( \"/mnt/vdb/thesis/jax/AMPNonAMP.final.reps\", 'rb') as file:\n",
    "    AMPs_df = pickle.load(file)"
   ]
  },
  {
   "cell_type": "code",
   "execution_count": 4,
   "metadata": {
    "colab": {
     "base_uri": "https://localhost:8080/",
     "height": 597
    },
    "id": "mGiMSzzPfj2t",
    "outputId": "092eb611-b89c-4cac-c8c4-0557799510cf"
   },
   "outputs": [
    {
     "data": {
      "text/html": [
       "<div>\n",
       "<style scoped>\n",
       "    .dataframe tbody tr th:only-of-type {\n",
       "        vertical-align: middle;\n",
       "    }\n",
       "\n",
       "    .dataframe tbody tr th {\n",
       "        vertical-align: top;\n",
       "    }\n",
       "\n",
       "    .dataframe thead th {\n",
       "        text-align: right;\n",
       "    }\n",
       "</style>\n",
       "<table border=\"1\" class=\"dataframe\">\n",
       "  <thead>\n",
       "    <tr style=\"text-align: right;\">\n",
       "      <th></th>\n",
       "      <th>ID</th>\n",
       "      <th>length</th>\n",
       "      <th>class</th>\n",
       "      <th>reps</th>\n",
       "    </tr>\n",
       "  </thead>\n",
       "  <tbody>\n",
       "    <tr>\n",
       "      <th>1111</th>\n",
       "      <td>10015_dbaasp,10016_dbaasp|dbaasp_peptides</td>\n",
       "      <td>11</td>\n",
       "      <td>0</td>\n",
       "      <td>[0.20464208722114563, -0.055944692343473434, 0...</td>\n",
       "    </tr>\n",
       "    <tr>\n",
       "      <th>973</th>\n",
       "      <td>10026_dbaasp|dbaasp_peptides</td>\n",
       "      <td>22</td>\n",
       "      <td>0</td>\n",
       "      <td>[0.1005186140537262, 0.0014500601682811975, 0....</td>\n",
       "    </tr>\n",
       "    <tr>\n",
       "      <th>524</th>\n",
       "      <td>10029_dbaasp|dbaasp_peptides</td>\n",
       "      <td>14</td>\n",
       "      <td>0</td>\n",
       "      <td>[0.14606480300426483, 0.04153195396065712, 0.0...</td>\n",
       "    </tr>\n",
       "    <tr>\n",
       "      <th>1979</th>\n",
       "      <td>1003,1011,1019,1027,1035|CancerPPD_l_natural</td>\n",
       "      <td>20</td>\n",
       "      <td>0</td>\n",
       "      <td>[0.02989775501191616, -0.004465686157345772, -...</td>\n",
       "    </tr>\n",
       "    <tr>\n",
       "      <th>1917</th>\n",
       "      <td>10030_dbaasp|dbaasp_peptides</td>\n",
       "      <td>18</td>\n",
       "      <td>0</td>\n",
       "      <td>[0.11731283366680145, 0.022457238286733627, 0....</td>\n",
       "    </tr>\n",
       "    <tr>\n",
       "      <th>...</th>\n",
       "      <td>...</td>\n",
       "      <td>...</td>\n",
       "      <td>...</td>\n",
       "      <td>...</td>\n",
       "    </tr>\n",
       "    <tr>\n",
       "      <th>1609</th>\n",
       "      <td>dbAMP_12148</td>\n",
       "      <td>13</td>\n",
       "      <td>0</td>\n",
       "      <td>[0.2212764024734497, 0.15402714908123016, 0.12...</td>\n",
       "    </tr>\n",
       "    <tr>\n",
       "      <th>617</th>\n",
       "      <td>dbAMP_12158</td>\n",
       "      <td>17</td>\n",
       "      <td>0</td>\n",
       "      <td>[0.07279127091169357, 0.05830632895231247, -0....</td>\n",
       "    </tr>\n",
       "    <tr>\n",
       "      <th>1051</th>\n",
       "      <td>dbAMP_12161</td>\n",
       "      <td>16</td>\n",
       "      <td>0</td>\n",
       "      <td>[0.17415067553520203, 0.11548949033021927, 0.0...</td>\n",
       "    </tr>\n",
       "    <tr>\n",
       "      <th>1821</th>\n",
       "      <td>dbAMP_12203</td>\n",
       "      <td>15</td>\n",
       "      <td>0</td>\n",
       "      <td>[0.03923531994223595, -0.0253727026283741, -0....</td>\n",
       "    </tr>\n",
       "    <tr>\n",
       "      <th>15</th>\n",
       "      <td>dbAMP_12362</td>\n",
       "      <td>30</td>\n",
       "      <td>0</td>\n",
       "      <td>[0.01778259314596653, -0.03611695393919945, 7....</td>\n",
       "    </tr>\n",
       "  </tbody>\n",
       "</table>\n",
       "<p>22910 rows × 4 columns</p>\n",
       "</div>"
      ],
      "text/plain": [
       "                                                ID  length  class  \\\n",
       "1111     10015_dbaasp,10016_dbaasp|dbaasp_peptides      11      0   \n",
       "973                   10026_dbaasp|dbaasp_peptides      22      0   \n",
       "524                   10029_dbaasp|dbaasp_peptides      14      0   \n",
       "1979  1003,1011,1019,1027,1035|CancerPPD_l_natural      20      0   \n",
       "1917                  10030_dbaasp|dbaasp_peptides      18      0   \n",
       "...                                            ...     ...    ...   \n",
       "1609                                   dbAMP_12148      13      0   \n",
       "617                                    dbAMP_12158      17      0   \n",
       "1051                                   dbAMP_12161      16      0   \n",
       "1821                                   dbAMP_12203      15      0   \n",
       "15                                     dbAMP_12362      30      0   \n",
       "\n",
       "                                                   reps  \n",
       "1111  [0.20464208722114563, -0.055944692343473434, 0...  \n",
       "973   [0.1005186140537262, 0.0014500601682811975, 0....  \n",
       "524   [0.14606480300426483, 0.04153195396065712, 0.0...  \n",
       "1979  [0.02989775501191616, -0.004465686157345772, -...  \n",
       "1917  [0.11731283366680145, 0.022457238286733627, 0....  \n",
       "...                                                 ...  \n",
       "1609  [0.2212764024734497, 0.15402714908123016, 0.12...  \n",
       "617   [0.07279127091169357, 0.05830632895231247, -0....  \n",
       "1051  [0.17415067553520203, 0.11548949033021927, 0.0...  \n",
       "1821  [0.03923531994223595, -0.0253727026283741, -0....  \n",
       "15    [0.01778259314596653, -0.03611695393919945, 7....  \n",
       "\n",
       "[22910 rows x 4 columns]"
      ]
     },
     "execution_count": 4,
     "metadata": {},
     "output_type": "execute_result"
    }
   ],
   "source": [
    "#AMPs_df.drop_duplicates(subset=['Sequence'],inplace=True)\n",
    "AMPs_df =AMPs_df[AMPs_df[\"length\"] <=30 ]\n",
    "AMPs_df "
   ]
  },
  {
   "cell_type": "markdown",
   "metadata": {
    "id": "g2i7Tk41aDZ5"
   },
   "source": [
    "### Utility function: plot_history, display_model_score"
   ]
  },
  {
   "cell_type": "code",
   "execution_count": 5,
   "metadata": {
    "id": "7F7ykQsDVxHO"
   },
   "outputs": [],
   "source": [
    "def plot_history(history):\n",
    "  # dict_keys(['loss', 'accuracy', 'val_loss', 'val_accuracy'])\n",
    "  acc = history.history['accuracy']\n",
    "  val_acc = history.history['val_accuracy']\n",
    "  loss = history.history['loss']\n",
    "  val_loss = history.history['val_loss']\n",
    "  x = range(1, len(acc) + 1)\n",
    "\n",
    "  plt.figure(figsize=(12, 5))\n",
    "  plt.subplot(1, 2, 1)\n",
    "  plt.plot(x, acc, 'b', label='Training acc')\n",
    "  plt.plot(x, val_acc, 'r', label='Validation acc')\n",
    "  plt.title('Training and validation accuracy')\n",
    "  plt.legend()\n",
    "\n",
    "  plt.subplot(1, 2, 2)\n",
    "  plt.plot(x, loss, 'b', label='Training loss')\n",
    "  plt.plot(x, val_loss, 'r', label='Validation loss')\n",
    "  plt.title('Training and validation loss')\n",
    "  plt.legend()\n",
    "\n",
    "# Display model score(Loss & Accuracy) across all sets.\n",
    "def display_model_score(model, train, val, test):\n",
    "  train_score = model.evaluate(train[0], train[1], verbose=1)\n",
    "  print('Train loss: ', train_score[0])\n",
    "  print('Train accuracy: ', train_score[1])\n",
    "  print('-'*70)\n",
    "  val_score = model.evaluate(val[0], val[1], verbose=1)\n",
    "  print('Val loss: ', val_score[0])\n",
    "  print('Val accuracy: ', val_score[1])\n",
    "  print('-'*70)\n",
    "  test_score = model.evaluate(test[0], test[1], verbose=1)\n",
    "  print('Test loss: ', test_score[0])\n",
    "  print('Test accuracy: ', test_score[1])\n",
    "\n",
    "def plot_history_CV(cv, estimator,x,y):\n",
    "  # plot arrows\n",
    "  fig1 = plt.figure(figsize=[12,12])\n",
    "  ax1 = fig1.add_subplot(111,aspect = 'equal')\n",
    "  ax1.add_patch(\n",
    "      patches.Arrow(0.45,0.5,-0.25,0.25,width=0.3,color='green',alpha = 0.5)\n",
    "      )\n",
    "  ax1.add_patch(\n",
    "      patches.Arrow(0.5,0.45,0.25,-0.25,width=0.3,color='red',alpha = 0.5)\n",
    "      )\n",
    "\n",
    "  tprs = []\n",
    "  aucs = []\n",
    "  mean_fpr = np.linspace(0,1,100)\n",
    "  i = 1\n",
    "  for train,test in cv.split(x,y):\n",
    "      model = create_Modelbaseline()\n",
    "      model.fit(x[train],y.iloc[train],\n",
    "            epochs=30,\n",
    "            shuffle=True,verbose=0)\n",
    "      prediction = model.predict(x[test])\n",
    "      fpr, tpr, t = roc_curve(y[test], prediction[:, 1])\n",
    "      tprs.append(interp(mean_fpr, fpr, tpr))\n",
    "      roc_auc = auc(fpr, tpr)\n",
    "      aucs.append(roc_auc)\n",
    "      plt.plot(fpr, tpr, lw=2, alpha=0.3, label='ROC fold %d (AUC = %0.2f)' % (i, roc_auc))\n",
    "      i= i+1\n",
    "\n",
    "  plt.plot([0,1],[0,1],linestyle = '--',lw = 2,color = 'black')\n",
    "  mean_tpr = np.mean(tprs, axis=0)\n",
    "  mean_auc = auc(mean_fpr, mean_tpr)\n",
    "  plt.plot(mean_fpr, mean_tpr, color='blue',\n",
    "          label=r'Mean ROC (AUC = %0.2f )' % (mean_auc),lw=2, alpha=1)\n",
    "\n",
    "  plt.xlabel('False Positive Rate')\n",
    "  plt.ylabel('True Positive Rate')\n",
    "  plt.title('ROC')\n",
    "  plt.legend(loc=\"lower right\")\n",
    "  plt.text(0.32,0.7,'More accurate area',fontsize = 12)\n",
    "  plt.text(0.63,0.4,'Less accurate area',fontsize = 12)\n",
    "  plt.show()"
   ]
  },
  {
   "cell_type": "markdown",
   "metadata": {
    "id": "nI-_ZAvfIb5A"
   },
   "source": [
    "# Split Train/ Test / Validation set"
   ]
  },
  {
   "cell_type": "code",
   "execution_count": 5,
   "metadata": {
    "id": "lAAQLx4UIptD"
   },
   "outputs": [],
   "source": [
    "X= np.array(AMPs_df['reps'].to_list())\n",
    "y= np.array(AMPs_df['class'].to_list())"
   ]
  },
  {
   "cell_type": "code",
   "execution_count": 6,
   "metadata": {
    "id": "EkmqGqfUT0XR"
   },
   "outputs": [
    {
     "data": {
      "text/plain": [
       "(88692, 1900)"
      ]
     },
     "execution_count": 6,
     "metadata": {},
     "output_type": "execute_result"
    }
   ],
   "source": [
    "input_shape  = X.shape\n",
    "input_shape "
   ]
  },
  {
   "cell_type": "code",
   "execution_count": 7,
   "metadata": {
    "id": "UWQ2IZWgIbST"
   },
   "outputs": [],
   "source": [
    "X_train, X_test, y_train, y_test = train_test_split(X, y, test_size=0.2, random_state=1)\n",
    "X_train, X_val, y_train, y_val = train_test_split(X_train, y_train, test_size=0.25, random_state=1) # 0.25 x 0.8 = 0.2"
   ]
  },
  {
   "cell_type": "code",
   "execution_count": 8,
   "metadata": {
    "colab": {
     "base_uri": "https://localhost:8080/",
     "height": 73
    },
    "id": "IM7Scdevkwpp",
    "outputId": "55fa7ea6-a5f9-4e23-bf42-f1a4bf64f8a3"
   },
   "outputs": [
    {
     "name": "stdout",
     "output_type": "stream",
     "text": [
      "Train size:  53214\n",
      "Val size:  17739\n",
      "Test size:  17739\n"
     ]
    }
   ],
   "source": [
    "# Given data size\n",
    "print('Train size: ', len(X_train))\n",
    "print('Val size: ', len(X_val))\n",
    "print('Test size: ', len(X_test))"
   ]
  },
  {
   "cell_type": "markdown",
   "metadata": {
    "id": "9dHnNnR7IAAs"
   },
   "source": [
    "# Model 4: Deep-AmPEP30 + "
   ]
  },
  {
   "cell_type": "code",
   "execution_count": null,
   "metadata": {},
   "outputs": [],
   "source": [
    "# 3d dimension\n",
    "# Batchs, n_timesteps, n_features\n",
    "\n",
    "# Images 3d dimension\n",
    "# width , heigth , channel"
   ]
  },
  {
   "cell_type": "code",
   "execution_count": 9,
   "metadata": {},
   "outputs": [
    {
     "name": "stdout",
     "output_type": "stream",
     "text": [
      "(53214, 1900, 1)\n",
      "(17739, 1900, 1)\n",
      "(17739, 1900, 1)\n"
     ]
    }
   ],
   "source": [
    "import numpy as np\n",
    "# https://stackoverflow.com/questions/52803989/how-to-correct-shape-of-keras-input-into-a-3d-array/52804200\n",
    "X_train = np.reshape(X_train,(X_train.shape[0],X_train.shape[1],1))\n",
    "print(X_train.shape)\n",
    "X_test = np.reshape(X_test,(X_test.shape[0],X_test.shape[1],1))\n",
    "print(X_test.shape)\n",
    "X_val = np.reshape(X_val,(X_val.shape[0],X_val.shape[1],1))\n",
    "print(X_val.shape)"
   ]
  },
  {
   "cell_type": "code",
   "execution_count": null,
   "metadata": {},
   "outputs": [],
   "source": [
    "# original method \n",
    "def create_Modelbaseline():\n",
    "    x_input = Input(shape=(1900,1)) # n_timesteps, n_features\n",
    "    # Conv\n",
    "    conv = Conv1D(128, kernel_size=3, strides=1, padding='same', activation='relu')(x_input) \n",
    "    conv = MaxPooling1D(pool_size=2)(conv)\n",
    "    conv = Conv1D(128, kernel_size=3, strides=1, padding='same', activation='relu')(conv) \n",
    "    conv = MaxPooling1D(pool_size=2)(conv)\n",
    "    # Flatten NN\n",
    "    flat = Flatten()(conv)\n",
    "    \n",
    "    layer_3 = Dense(128)(flat)\n",
    "    dropout_3 = Dropout(0.2)(layer_3)\n",
    "    layer_4 = Dense(10)(dropout_3)\n",
    "    dropout_4 = Dropout(0.2)(layer_4)\n",
    "    x_output = Dense(1, activation='sigmoid', name='output_layer', kernel_regularizer=l2(0.0001))(dropout_4)\n",
    "\n",
    "    model = Model(inputs=x_input, outputs=x_output)\n",
    "    model.compile(optimizer='adam', loss='binary_crossentropy', metrics=['accuracy'])\n",
    "    return model\n",
    "\n",
    "model = create_Modelbaseline()\n",
    "model.summary()"
   ]
  },
  {
   "cell_type": "code",
   "execution_count": 17,
   "metadata": {},
   "outputs": [],
   "source": [
    "from keras import backend as K\n",
    "K.set_value(model.optimizer.learning_rate, 0.00001)"
   ]
  },
  {
   "cell_type": "code",
   "execution_count": 11,
   "metadata": {
    "scrolled": true
   },
   "outputs": [
    {
     "name": "stdout",
     "output_type": "stream",
     "text": [
      "WARNING:tensorflow:`period` argument is deprecated. Please use `save_freq` to specify the frequency in number of batches seen.\n",
      " Learning rate:  0.01\n",
      "Epoch 1/100\n",
      "  2/832 [..............................] - ETA: 1:35 - loss: 1005.9172 - accuracy: 0.5312WARNING:tensorflow:Callbacks method `on_train_batch_end` is slow compared to the batch time (batch time: 0.0714s vs `on_train_batch_end` time: 0.1584s). Check your callbacks.\n",
      "832/832 [==============================] - ETA: 0s - loss: 3.6077 - accuracy: 0.6687\n",
      "Epoch 00001: loss improved from inf to 3.60769, saving model to /mnt/vdb/thesis/AmPPEP30.1900.hdf5\n",
      "832/832 [==============================] - 225s 270ms/step - loss: 3.6077 - accuracy: 0.6687 - val_loss: 0.7354 - val_accuracy: 0.5756\n",
      " Learning rate:  0.01\n",
      "Epoch 2/100\n",
      "832/832 [==============================] - ETA: 0s - loss: 0.4792 - accuracy: 0.7826\n",
      "Epoch 00002: loss improved from 3.60769 to 0.47920, saving model to /mnt/vdb/thesis/AmPPEP30.1900.hdf5\n",
      "832/832 [==============================] - 222s 267ms/step - loss: 0.4792 - accuracy: 0.7826 - val_loss: 0.4271 - val_accuracy: 0.8109\n",
      " Learning rate:  0.01\n",
      "Epoch 3/100\n",
      "832/832 [==============================] - ETA: 0s - loss: 0.4290 - accuracy: 0.8138\n",
      "Epoch 00003: loss improved from 0.47920 to 0.42904, saving model to /mnt/vdb/thesis/AmPPEP30.1900.hdf5\n",
      "832/832 [==============================] - 220s 264ms/step - loss: 0.4290 - accuracy: 0.8138 - val_loss: 0.4231 - val_accuracy: 0.8265\n",
      " Learning rate:  0.01\n",
      "Epoch 4/100\n",
      "832/832 [==============================] - ETA: 0s - loss: 0.3968 - accuracy: 0.8314\n",
      "Epoch 00004: loss improved from 0.42904 to 0.39679, saving model to /mnt/vdb/thesis/AmPPEP30.1900.hdf5\n",
      "832/832 [==============================] - 222s 267ms/step - loss: 0.3968 - accuracy: 0.8314 - val_loss: 0.4213 - val_accuracy: 0.8233\n",
      " Learning rate:  0.01\n",
      "Epoch 5/100\n",
      "832/832 [==============================] - ETA: 0s - loss: 0.3747 - accuracy: 0.8414\n",
      "Epoch 00005: loss improved from 0.39679 to 0.37471, saving model to /mnt/vdb/thesis/AmPPEP30.1900.hdf5\n",
      "832/832 [==============================] - 220s 264ms/step - loss: 0.3747 - accuracy: 0.8414 - val_loss: 0.3564 - val_accuracy: 0.8529\n",
      " Learning rate:  0.01\n",
      "Epoch 6/100\n",
      "832/832 [==============================] - ETA: 0s - loss: 0.3653 - accuracy: 0.8476\n",
      "Epoch 00006: loss improved from 0.37471 to 0.36531, saving model to /mnt/vdb/thesis/AmPPEP30.1900.hdf5\n",
      "832/832 [==============================] - 220s 264ms/step - loss: 0.3653 - accuracy: 0.8476 - val_loss: 0.3555 - val_accuracy: 0.8554\n",
      " Learning rate:  0.01\n",
      "Epoch 7/100\n",
      "832/832 [==============================] - ETA: 0s - loss: 0.3545 - accuracy: 0.8526\n",
      "Epoch 00007: loss improved from 0.36531 to 0.35447, saving model to /mnt/vdb/thesis/AmPPEP30.1900.hdf5\n",
      "832/832 [==============================] - 219s 263ms/step - loss: 0.3545 - accuracy: 0.8526 - val_loss: 0.4054 - val_accuracy: 0.8318\n",
      " Learning rate:  0.01\n",
      "Epoch 8/100\n",
      "832/832 [==============================] - ETA: 0s - loss: 0.3490 - accuracy: 0.8532\n",
      "Epoch 00008: loss improved from 0.35447 to 0.34902, saving model to /mnt/vdb/thesis/AmPPEP30.1900.hdf5\n",
      "832/832 [==============================] - 220s 264ms/step - loss: 0.3490 - accuracy: 0.8532 - val_loss: 0.3620 - val_accuracy: 0.8473\n",
      " Learning rate:  0.01\n",
      "Epoch 9/100\n",
      "832/832 [==============================] - ETA: 0s - loss: 0.3454 - accuracy: 0.8566\n",
      "Epoch 00009: loss improved from 0.34902 to 0.34539, saving model to /mnt/vdb/thesis/AmPPEP30.1900.hdf5\n",
      "832/832 [==============================] - 220s 265ms/step - loss: 0.3454 - accuracy: 0.8566 - val_loss: 0.3567 - val_accuracy: 0.8469\n",
      " Learning rate:  0.01\n",
      "Epoch 10/100\n",
      "832/832 [==============================] - ETA: 0s - loss: 0.3445 - accuracy: 0.8571\n",
      "Epoch 00010: loss improved from 0.34539 to 0.34447, saving model to /mnt/vdb/thesis/AmPPEP30.1900.hdf5\n",
      "832/832 [==============================] - 221s 266ms/step - loss: 0.3445 - accuracy: 0.8571 - val_loss: 0.3408 - val_accuracy: 0.8531\n",
      " Learning rate:  0.01\n",
      "Epoch 11/100\n",
      "832/832 [==============================] - ETA: 0s - loss: 0.3420 - accuracy: 0.8577\n",
      "Epoch 00011: loss improved from 0.34447 to 0.34197, saving model to /mnt/vdb/thesis/AmPPEP30.1900.hdf5\n",
      "832/832 [==============================] - 224s 269ms/step - loss: 0.3420 - accuracy: 0.8577 - val_loss: 0.3372 - val_accuracy: 0.8577\n",
      " Learning rate:  0.01\n",
      "Epoch 12/100\n",
      "832/832 [==============================] - ETA: 0s - loss: 0.3394 - accuracy: 0.8598\n",
      "Epoch 00012: loss improved from 0.34197 to 0.33937, saving model to /mnt/vdb/thesis/AmPPEP30.1900.hdf5\n",
      "832/832 [==============================] - 221s 266ms/step - loss: 0.3394 - accuracy: 0.8598 - val_loss: 0.3412 - val_accuracy: 0.8550\n",
      " Learning rate:  0.01\n",
      "Epoch 13/100\n",
      "832/832 [==============================] - ETA: 0s - loss: 0.3749 - accuracy: 0.8410\n",
      "Epoch 00013: loss did not improve from 0.33937\n",
      "832/832 [==============================] - 208s 250ms/step - loss: 0.3749 - accuracy: 0.8410 - val_loss: 0.3348 - val_accuracy: 0.8603\n",
      " Learning rate:  0.01\n",
      "Epoch 14/100\n",
      "832/832 [==============================] - ETA: 0s - loss: 0.3437 - accuracy: 0.8604\n",
      "Epoch 00014: loss did not improve from 0.33937\n",
      "832/832 [==============================] - 208s 250ms/step - loss: 0.3437 - accuracy: 0.8604 - val_loss: 0.3791 - val_accuracy: 0.8596\n",
      " Learning rate:  0.01\n",
      "Epoch 15/100\n",
      "832/832 [==============================] - ETA: 0s - loss: 0.3463 - accuracy: 0.8559\n",
      "Epoch 00015: loss did not improve from 0.33937\n",
      "832/832 [==============================] - 208s 250ms/step - loss: 0.3463 - accuracy: 0.8559 - val_loss: 0.3580 - val_accuracy: 0.8560\n",
      " Learning rate:  0.01\n",
      "Epoch 16/100\n",
      "832/832 [==============================] - ETA: 0s - loss: 0.3460 - accuracy: 0.8581\n",
      "Epoch 00016: loss did not improve from 0.33937\n",
      "832/832 [==============================] - 208s 250ms/step - loss: 0.3460 - accuracy: 0.8581 - val_loss: 0.3562 - val_accuracy: 0.8490\n",
      " Learning rate:  0.01\n",
      "Epoch 17/100\n",
      "832/832 [==============================] - ETA: 0s - loss: 0.3523 - accuracy: 0.8570\n",
      "Epoch 00017: loss did not improve from 0.33937\n",
      "832/832 [==============================] - 208s 250ms/step - loss: 0.3523 - accuracy: 0.8570 - val_loss: 0.3415 - val_accuracy: 0.8527\n",
      " Learning rate:  0.01\n",
      "Epoch 18/100\n",
      "832/832 [==============================] - ETA: 0s - loss: 0.3503 - accuracy: 0.8549\n",
      "Epoch 00018: loss did not improve from 0.33937\n",
      "832/832 [==============================] - 208s 250ms/step - loss: 0.3503 - accuracy: 0.8549 - val_loss: 0.3723 - val_accuracy: 0.8369\n",
      " Learning rate:  0.01\n",
      "Epoch 19/100\n",
      "832/832 [==============================] - ETA: 0s - loss: 0.3564 - accuracy: 0.8547\n",
      "Epoch 00019: loss did not improve from 0.33937\n",
      "832/832 [==============================] - 208s 250ms/step - loss: 0.3564 - accuracy: 0.8547 - val_loss: 0.3603 - val_accuracy: 0.8598\n",
      " Learning rate:  0.01\n",
      "Epoch 20/100\n",
      "832/832 [==============================] - ETA: 0s - loss: 0.3609 - accuracy: 0.8521\n",
      "Epoch 00020: loss did not improve from 0.33937\n",
      "832/832 [==============================] - 208s 250ms/step - loss: 0.3609 - accuracy: 0.8521 - val_loss: 0.3592 - val_accuracy: 0.8476\n",
      " Learning rate:  0.01\n",
      "Epoch 21/100\n",
      "832/832 [==============================] - ETA: 0s - loss: 0.3603 - accuracy: 0.8507\n",
      "Epoch 00021: loss did not improve from 0.33937\n",
      "832/832 [==============================] - 208s 250ms/step - loss: 0.3603 - accuracy: 0.8507 - val_loss: 0.3464 - val_accuracy: 0.8507\n",
      " Learning rate:  0.001\n",
      "Epoch 22/100\n",
      "832/832 [==============================] - ETA: 0s - loss: 0.3100 - accuracy: 0.8706\n",
      "Epoch 00022: loss improved from 0.33937 to 0.31001, saving model to /mnt/vdb/thesis/AmPPEP30.1900.hdf5\n",
      "832/832 [==============================] - 224s 269ms/step - loss: 0.3100 - accuracy: 0.8706 - val_loss: 0.3242 - val_accuracy: 0.8657\n",
      " Learning rate:  0.001\n",
      "Epoch 23/100\n",
      "832/832 [==============================] - ETA: 0s - loss: 0.3029 - accuracy: 0.8730\n",
      "Epoch 00023: loss improved from 0.31001 to 0.30292, saving model to /mnt/vdb/thesis/AmPPEP30.1900.hdf5\n",
      "832/832 [==============================] - 221s 266ms/step - loss: 0.3029 - accuracy: 0.8730 - val_loss: 0.3265 - val_accuracy: 0.8655\n",
      " Learning rate:  0.001\n",
      "Epoch 24/100\n",
      "832/832 [==============================] - ETA: 0s - loss: 0.3004 - accuracy: 0.8744\n",
      "Epoch 00024: loss improved from 0.30292 to 0.30037, saving model to /mnt/vdb/thesis/AmPPEP30.1900.hdf5\n",
      "832/832 [==============================] - 223s 268ms/step - loss: 0.3004 - accuracy: 0.8744 - val_loss: 0.3209 - val_accuracy: 0.8656\n",
      " Learning rate:  0.001\n",
      "Epoch 25/100\n",
      "832/832 [==============================] - ETA: 0s - loss: 0.2990 - accuracy: 0.8747\n",
      "Epoch 00025: loss improved from 0.30037 to 0.29902, saving model to /mnt/vdb/thesis/AmPPEP30.1900.hdf5\n",
      "832/832 [==============================] - 221s 266ms/step - loss: 0.2990 - accuracy: 0.8747 - val_loss: 0.3222 - val_accuracy: 0.8665\n",
      " Learning rate:  0.001\n",
      "Epoch 26/100\n",
      "832/832 [==============================] - ETA: 0s - loss: 0.2963 - accuracy: 0.8768\n",
      "Epoch 00026: loss improved from 0.29902 to 0.29633, saving model to /mnt/vdb/thesis/AmPPEP30.1900.hdf5\n",
      "832/832 [==============================] - 220s 265ms/step - loss: 0.2963 - accuracy: 0.8768 - val_loss: 0.3168 - val_accuracy: 0.8685\n",
      " Learning rate:  0.001\n",
      "Epoch 27/100\n",
      "832/832 [==============================] - ETA: 0s - loss: 0.2957 - accuracy: 0.8767\n",
      "Epoch 00027: loss improved from 0.29633 to 0.29571, saving model to /mnt/vdb/thesis/AmPPEP30.1900.hdf5\n",
      "832/832 [==============================] - 219s 263ms/step - loss: 0.2957 - accuracy: 0.8767 - val_loss: 0.3149 - val_accuracy: 0.8664\n",
      " Learning rate:  0.001\n",
      "Epoch 28/100\n",
      "832/832 [==============================] - ETA: 0s - loss: 0.2937 - accuracy: 0.8768\n",
      "Epoch 00028: loss improved from 0.29571 to 0.29370, saving model to /mnt/vdb/thesis/AmPPEP30.1900.hdf5\n",
      "832/832 [==============================] - 221s 265ms/step - loss: 0.2937 - accuracy: 0.8768 - val_loss: 0.3119 - val_accuracy: 0.8702\n",
      " Learning rate:  0.001\n",
      "Epoch 29/100\n",
      "832/832 [==============================] - ETA: 0s - loss: 0.2928 - accuracy: 0.8782\n",
      "Epoch 00029: loss improved from 0.29370 to 0.29282, saving model to /mnt/vdb/thesis/AmPPEP30.1900.hdf5\n",
      "832/832 [==============================] - 219s 263ms/step - loss: 0.2928 - accuracy: 0.8782 - val_loss: 0.3199 - val_accuracy: 0.8645\n",
      " Learning rate:  0.001\n",
      "Epoch 30/100\n",
      "832/832 [==============================] - ETA: 0s - loss: 0.2925 - accuracy: 0.8786\n",
      "Epoch 00030: loss improved from 0.29282 to 0.29246, saving model to /mnt/vdb/thesis/AmPPEP30.1900.hdf5\n",
      "832/832 [==============================] - 219s 264ms/step - loss: 0.2925 - accuracy: 0.8786 - val_loss: 0.3162 - val_accuracy: 0.8701\n",
      " Learning rate:  0.001\n",
      "Epoch 31/100\n",
      "832/832 [==============================] - ETA: 0s - loss: 0.2913 - accuracy: 0.8790\n",
      "Epoch 00031: loss improved from 0.29246 to 0.29131, saving model to /mnt/vdb/thesis/AmPPEP30.1900.hdf5\n",
      "832/832 [==============================] - 220s 265ms/step - loss: 0.2913 - accuracy: 0.8790 - val_loss: 0.3120 - val_accuracy: 0.8695\n",
      " Learning rate:  0.001\n",
      "Epoch 32/100\n",
      "832/832 [==============================] - ETA: 0s - loss: 0.2908 - accuracy: 0.8801\n",
      "Epoch 00032: loss improved from 0.29131 to 0.29082, saving model to /mnt/vdb/thesis/AmPPEP30.1900.hdf5\n",
      "832/832 [==============================] - 220s 264ms/step - loss: 0.2908 - accuracy: 0.8801 - val_loss: 0.3170 - val_accuracy: 0.8684\n",
      " Learning rate:  0.001\n",
      "Epoch 33/100\n",
      "832/832 [==============================] - ETA: 0s - loss: 0.2906 - accuracy: 0.8787\n",
      "Epoch 00033: loss improved from 0.29082 to 0.29058, saving model to /mnt/vdb/thesis/AmPPEP30.1900.hdf5\n",
      "832/832 [==============================] - 222s 267ms/step - loss: 0.2906 - accuracy: 0.8787 - val_loss: 0.3130 - val_accuracy: 0.8710\n",
      " Learning rate:  0.001\n",
      "Epoch 34/100\n",
      "832/832 [==============================] - ETA: 0s - loss: 0.2890 - accuracy: 0.8794\n",
      "Epoch 00034: loss improved from 0.29058 to 0.28897, saving model to /mnt/vdb/thesis/AmPPEP30.1900.hdf5\n",
      "832/832 [==============================] - 219s 263ms/step - loss: 0.2890 - accuracy: 0.8794 - val_loss: 0.3128 - val_accuracy: 0.8692\n",
      " Learning rate:  0.001\n",
      "Epoch 35/100\n",
      "832/832 [==============================] - ETA: 0s - loss: 0.2887 - accuracy: 0.8801\n",
      "Epoch 00035: loss improved from 0.28897 to 0.28866, saving model to /mnt/vdb/thesis/AmPPEP30.1900.hdf5\n",
      "832/832 [==============================] - 222s 266ms/step - loss: 0.2887 - accuracy: 0.8801 - val_loss: 0.3187 - val_accuracy: 0.8666\n",
      " Learning rate:  0.001\n",
      "Epoch 36/100\n",
      "832/832 [==============================] - ETA: 0s - loss: 0.2883 - accuracy: 0.8808\n",
      "Epoch 00036: loss improved from 0.28866 to 0.28828, saving model to /mnt/vdb/thesis/AmPPEP30.1900.hdf5\n",
      "832/832 [==============================] - 221s 265ms/step - loss: 0.2883 - accuracy: 0.8808 - val_loss: 0.3126 - val_accuracy: 0.8689\n",
      " Learning rate:  0.001\n",
      "Epoch 37/100\n",
      "832/832 [==============================] - ETA: 0s - loss: 0.2863 - accuracy: 0.8813\n",
      "Epoch 00037: loss improved from 0.28828 to 0.28631, saving model to /mnt/vdb/thesis/AmPPEP30.1900.hdf5\n",
      "832/832 [==============================] - 221s 266ms/step - loss: 0.2863 - accuracy: 0.8813 - val_loss: 0.3093 - val_accuracy: 0.8732\n",
      " Learning rate:  0.001\n",
      "Epoch 38/100\n",
      "832/832 [==============================] - ETA: 0s - loss: 0.2865 - accuracy: 0.8808\n",
      "Epoch 00038: loss did not improve from 0.28631\n",
      "832/832 [==============================] - 208s 250ms/step - loss: 0.2865 - accuracy: 0.8808 - val_loss: 0.3167 - val_accuracy: 0.8692\n",
      " Learning rate:  0.001\n",
      "Epoch 39/100\n",
      "832/832 [==============================] - ETA: 0s - loss: 0.2864 - accuracy: 0.8813\n",
      "Epoch 00039: loss did not improve from 0.28631\n",
      "832/832 [==============================] - 208s 249ms/step - loss: 0.2864 - accuracy: 0.8813 - val_loss: 0.3122 - val_accuracy: 0.8714\n",
      " Learning rate:  0.001\n",
      "Epoch 40/100\n",
      "832/832 [==============================] - ETA: 0s - loss: 0.2856 - accuracy: 0.8813\n",
      "Epoch 00040: loss improved from 0.28631 to 0.28562, saving model to /mnt/vdb/thesis/AmPPEP30.1900.hdf5\n",
      "832/832 [==============================] - 222s 266ms/step - loss: 0.2856 - accuracy: 0.8813 - val_loss: 0.3213 - val_accuracy: 0.8701\n",
      " Learning rate:  0.001\n",
      "Epoch 41/100\n",
      "832/832 [==============================] - ETA: 0s - loss: 0.2848 - accuracy: 0.8817\n",
      "Epoch 00041: loss improved from 0.28562 to 0.28477, saving model to /mnt/vdb/thesis/AmPPEP30.1900.hdf5\n",
      "832/832 [==============================] - 219s 264ms/step - loss: 0.2848 - accuracy: 0.8817 - val_loss: 0.3114 - val_accuracy: 0.8687\n",
      " Learning rate:  0.001\n",
      "Epoch 42/100\n",
      "832/832 [==============================] - ETA: 0s - loss: 0.2851 - accuracy: 0.8819\n",
      "Epoch 00042: loss did not improve from 0.28477\n",
      "832/832 [==============================] - 208s 250ms/step - loss: 0.2851 - accuracy: 0.8819 - val_loss: 0.3123 - val_accuracy: 0.8679\n",
      " Learning rate:  0.001\n",
      "Epoch 43/100\n",
      "832/832 [==============================] - ETA: 0s - loss: 0.2834 - accuracy: 0.8829\n",
      "Epoch 00043: loss improved from 0.28477 to 0.28339, saving model to /mnt/vdb/thesis/AmPPEP30.1900.hdf5\n",
      "832/832 [==============================] - 221s 266ms/step - loss: 0.2834 - accuracy: 0.8829 - val_loss: 0.3209 - val_accuracy: 0.8719\n",
      " Learning rate:  0.001\n",
      "Epoch 44/100\n",
      "832/832 [==============================] - ETA: 0s - loss: 0.2843 - accuracy: 0.8812\n",
      "Epoch 00044: loss did not improve from 0.28339\n",
      "832/832 [==============================] - 208s 249ms/step - loss: 0.2843 - accuracy: 0.8812 - val_loss: 0.3082 - val_accuracy: 0.8714\n",
      " Learning rate:  0.001\n",
      "Epoch 45/100\n",
      "832/832 [==============================] - ETA: 0s - loss: 0.2827 - accuracy: 0.8820\n",
      "Epoch 00045: loss improved from 0.28339 to 0.28268, saving model to /mnt/vdb/thesis/AmPPEP30.1900.hdf5\n",
      "832/832 [==============================] - 222s 266ms/step - loss: 0.2827 - accuracy: 0.8820 - val_loss: 0.3120 - val_accuracy: 0.8707\n",
      " Learning rate:  0.001\n",
      "Epoch 46/100\n",
      "832/832 [==============================] - ETA: 0s - loss: 0.2818 - accuracy: 0.8830\n",
      "Epoch 00046: loss improved from 0.28268 to 0.28184, saving model to /mnt/vdb/thesis/AmPPEP30.1900.hdf5\n",
      "832/832 [==============================] - 223s 268ms/step - loss: 0.2818 - accuracy: 0.8830 - val_loss: 0.3202 - val_accuracy: 0.8699\n",
      " Learning rate:  0.001\n",
      "Epoch 47/100\n",
      "832/832 [==============================] - ETA: 0s - loss: 0.2816 - accuracy: 0.8833\n",
      "Epoch 00047: loss improved from 0.28184 to 0.28160, saving model to /mnt/vdb/thesis/AmPPEP30.1900.hdf5\n",
      "832/832 [==============================] - 220s 264ms/step - loss: 0.2816 - accuracy: 0.8833 - val_loss: 0.3067 - val_accuracy: 0.8735\n",
      " Learning rate:  0.001\n",
      "Epoch 48/100\n",
      "832/832 [==============================] - ETA: 0s - loss: 0.2824 - accuracy: 0.8833\n",
      "Epoch 00048: loss did not improve from 0.28160\n",
      "832/832 [==============================] - 208s 250ms/step - loss: 0.2824 - accuracy: 0.8833 - val_loss: 0.3203 - val_accuracy: 0.8715\n",
      " Learning rate:  0.001\n",
      "Epoch 49/100\n",
      "832/832 [==============================] - ETA: 0s - loss: 0.2827 - accuracy: 0.8843\n",
      "Epoch 00049: loss did not improve from 0.28160\n",
      "832/832 [==============================] - 208s 250ms/step - loss: 0.2827 - accuracy: 0.8843 - val_loss: 0.3164 - val_accuracy: 0.8710\n",
      " Learning rate:  0.001\n",
      "Epoch 50/100\n",
      "832/832 [==============================] - ETA: 0s - loss: 0.2821 - accuracy: 0.8823\n",
      "Epoch 00050: loss did not improve from 0.28160\n",
      "832/832 [==============================] - 208s 249ms/step - loss: 0.2821 - accuracy: 0.8823 - val_loss: 0.3103 - val_accuracy: 0.8718\n",
      " Learning rate:  0.001\n",
      "Epoch 51/100\n",
      "832/832 [==============================] - ETA: 0s - loss: 0.2806 - accuracy: 0.8839\n",
      "Epoch 00051: loss improved from 0.28160 to 0.28060, saving model to /mnt/vdb/thesis/AmPPEP30.1900.hdf5\n",
      "832/832 [==============================] - 223s 268ms/step - loss: 0.2806 - accuracy: 0.8839 - val_loss: 0.3094 - val_accuracy: 0.8720\n",
      " Learning rate:  3e-05\n",
      "Epoch 52/100\n",
      "832/832 [==============================] - ETA: 0s - loss: 0.2737 - accuracy: 0.8866\n",
      "Epoch 00052: loss improved from 0.28060 to 0.27374, saving model to /mnt/vdb/thesis/AmPPEP30.1900.hdf5\n",
      "832/832 [==============================] - 221s 266ms/step - loss: 0.2737 - accuracy: 0.8866 - val_loss: 0.3078 - val_accuracy: 0.8731\n",
      " Learning rate:  3e-05\n",
      "Epoch 53/100\n",
      "832/832 [==============================] - ETA: 0s - loss: 0.2721 - accuracy: 0.8879\n",
      "Epoch 00053: loss improved from 0.27374 to 0.27212, saving model to /mnt/vdb/thesis/AmPPEP30.1900.hdf5\n",
      "832/832 [==============================] - 220s 264ms/step - loss: 0.2721 - accuracy: 0.8879 - val_loss: 0.3075 - val_accuracy: 0.8726\n",
      " Learning rate:  3e-05\n",
      "Epoch 54/100\n",
      "832/832 [==============================] - ETA: 0s - loss: 0.2714 - accuracy: 0.8879\n",
      "Epoch 00054: loss improved from 0.27212 to 0.27145, saving model to /mnt/vdb/thesis/AmPPEP30.1900.hdf5\n",
      "832/832 [==============================] - 219s 264ms/step - loss: 0.2714 - accuracy: 0.8879 - val_loss: 0.3068 - val_accuracy: 0.8729\n",
      " Learning rate:  3e-05\n",
      "Epoch 55/100\n",
      "832/832 [==============================] - ETA: 0s - loss: 0.2715 - accuracy: 0.8878\n",
      "Epoch 00055: loss did not improve from 0.27145\n",
      "832/832 [==============================] - 208s 250ms/step - loss: 0.2715 - accuracy: 0.8878 - val_loss: 0.3069 - val_accuracy: 0.8723\n",
      " Learning rate:  3e-05\n",
      "Epoch 56/100\n",
      "832/832 [==============================] - ETA: 0s - loss: 0.2712 - accuracy: 0.8876\n",
      "Epoch 00056: loss improved from 0.27145 to 0.27118, saving model to /mnt/vdb/thesis/AmPPEP30.1900.hdf5\n",
      "832/832 [==============================] - 222s 267ms/step - loss: 0.2712 - accuracy: 0.8876 - val_loss: 0.3077 - val_accuracy: 0.8727\n",
      " Learning rate:  3e-05\n",
      "Epoch 57/100\n",
      "832/832 [==============================] - ETA: 0s - loss: 0.2709 - accuracy: 0.8877\n",
      "Epoch 00057: loss improved from 0.27118 to 0.27085, saving model to /mnt/vdb/thesis/AmPPEP30.1900.hdf5\n",
      "832/832 [==============================] - 220s 264ms/step - loss: 0.2709 - accuracy: 0.8877 - val_loss: 0.3072 - val_accuracy: 0.8725\n",
      " Learning rate:  3e-05\n",
      "Epoch 58/100\n",
      "832/832 [==============================] - ETA: 0s - loss: 0.2703 - accuracy: 0.8878\n",
      "Epoch 00058: loss improved from 0.27085 to 0.27029, saving model to /mnt/vdb/thesis/AmPPEP30.1900.hdf5\n",
      "832/832 [==============================] - 223s 268ms/step - loss: 0.2703 - accuracy: 0.8878 - val_loss: 0.3075 - val_accuracy: 0.8727\n",
      " Learning rate:  3e-05\n",
      "Epoch 59/100\n",
      "832/832 [==============================] - ETA: 0s - loss: 0.2707 - accuracy: 0.8883\n",
      "Epoch 00059: loss did not improve from 0.27029\n",
      "832/832 [==============================] - 207s 249ms/step - loss: 0.2707 - accuracy: 0.8883 - val_loss: 0.3077 - val_accuracy: 0.8721\n",
      " Learning rate:  3e-05\n",
      "Epoch 60/100\n",
      "832/832 [==============================] - ETA: 0s - loss: 0.2712 - accuracy: 0.8883\n",
      "Epoch 00060: loss did not improve from 0.27029\n",
      "832/832 [==============================] - 208s 250ms/step - loss: 0.2712 - accuracy: 0.8883 - val_loss: 0.3078 - val_accuracy: 0.8727\n",
      " Learning rate:  3e-05\n",
      "Epoch 61/100\n",
      "832/832 [==============================] - ETA: 0s - loss: 0.2708 - accuracy: 0.8884\n",
      "Epoch 00061: loss did not improve from 0.27029\n",
      "832/832 [==============================] - 208s 249ms/step - loss: 0.2708 - accuracy: 0.8884 - val_loss: 0.3081 - val_accuracy: 0.8723\n",
      " Learning rate:  3e-05\n",
      "Epoch 62/100\n",
      "832/832 [==============================] - ETA: 0s - loss: 0.2705 - accuracy: 0.8887\n",
      "Epoch 00062: loss did not improve from 0.27029\n",
      "832/832 [==============================] - 208s 249ms/step - loss: 0.2705 - accuracy: 0.8887 - val_loss: 0.3079 - val_accuracy: 0.8725\n",
      " Learning rate:  3e-05\n",
      "Epoch 63/100\n",
      "832/832 [==============================] - ETA: 0s - loss: 0.2708 - accuracy: 0.8886\n",
      "Epoch 00063: loss did not improve from 0.27029\n",
      "832/832 [==============================] - 208s 250ms/step - loss: 0.2708 - accuracy: 0.8886 - val_loss: 0.3076 - val_accuracy: 0.8727\n",
      " Learning rate:  3e-05\n",
      "Epoch 64/100\n",
      "832/832 [==============================] - ETA: 0s - loss: 0.2701 - accuracy: 0.8886\n",
      "Epoch 00064: loss improved from 0.27029 to 0.27012, saving model to /mnt/vdb/thesis/AmPPEP30.1900.hdf5\n",
      "832/832 [==============================] - 222s 267ms/step - loss: 0.2701 - accuracy: 0.8886 - val_loss: 0.3080 - val_accuracy: 0.8725\n",
      " Learning rate:  3e-05\n",
      "Epoch 65/100\n",
      "832/832 [==============================] - ETA: 0s - loss: 0.2705 - accuracy: 0.8878\n",
      "Epoch 00065: loss did not improve from 0.27012\n",
      "832/832 [==============================] - 208s 249ms/step - loss: 0.2705 - accuracy: 0.8878 - val_loss: 0.3083 - val_accuracy: 0.8720\n",
      " Learning rate:  3e-05\n",
      "Epoch 66/100\n",
      "832/832 [==============================] - ETA: 0s - loss: 0.2703 - accuracy: 0.8886\n",
      "Epoch 00066: loss did not improve from 0.27012\n",
      "832/832 [==============================] - 208s 249ms/step - loss: 0.2703 - accuracy: 0.8886 - val_loss: 0.3060 - val_accuracy: 0.8727\n",
      " Learning rate:  3e-05\n",
      "Epoch 67/100\n",
      "832/832 [==============================] - ETA: 0s - loss: 0.2704 - accuracy: 0.8885\n",
      "Epoch 00067: loss did not improve from 0.27012\n",
      "832/832 [==============================] - 208s 250ms/step - loss: 0.2704 - accuracy: 0.8885 - val_loss: 0.3085 - val_accuracy: 0.8723\n",
      " Learning rate:  3e-05\n",
      "Epoch 68/100\n",
      "832/832 [==============================] - ETA: 0s - loss: 0.2706 - accuracy: 0.8879\n",
      "Epoch 00068: loss did not improve from 0.27012\n",
      "832/832 [==============================] - 208s 249ms/step - loss: 0.2706 - accuracy: 0.8879 - val_loss: 0.3084 - val_accuracy: 0.8724\n",
      " Learning rate:  3e-05\n",
      "Epoch 69/100\n",
      "832/832 [==============================] - ETA: 0s - loss: 0.2695 - accuracy: 0.8883\n",
      "Epoch 00069: loss improved from 0.27012 to 0.26948, saving model to /mnt/vdb/thesis/AmPPEP30.1900.hdf5\n",
      "832/832 [==============================] - 224s 269ms/step - loss: 0.2695 - accuracy: 0.8883 - val_loss: 0.3090 - val_accuracy: 0.8721\n",
      " Learning rate:  3e-05\n",
      "Epoch 70/100\n",
      "832/832 [==============================] - ETA: 0s - loss: 0.2704 - accuracy: 0.8878\n",
      "Epoch 00070: loss did not improve from 0.26948\n",
      "832/832 [==============================] - 208s 250ms/step - loss: 0.2704 - accuracy: 0.8878 - val_loss: 0.3084 - val_accuracy: 0.8721\n",
      " Learning rate:  3e-05\n",
      "Epoch 71/100\n",
      "832/832 [==============================] - ETA: 0s - loss: 0.2710 - accuracy: 0.8891\n",
      "Epoch 00071: loss did not improve from 0.26948\n",
      "832/832 [==============================] - 208s 249ms/step - loss: 0.2710 - accuracy: 0.8891 - val_loss: 0.3076 - val_accuracy: 0.8720\n",
      " Learning rate:  5e-06\n",
      "Epoch 72/100\n",
      "832/832 [==============================] - ETA: 0s - loss: 0.2693 - accuracy: 0.8889\n",
      "Epoch 00072: loss improved from 0.26948 to 0.26927, saving model to /mnt/vdb/thesis/AmPPEP30.1900.hdf5\n",
      "832/832 [==============================] - 223s 268ms/step - loss: 0.2693 - accuracy: 0.8889 - val_loss: 0.3078 - val_accuracy: 0.8721\n",
      " Learning rate:  5e-06\n",
      "Epoch 73/100\n",
      "832/832 [==============================] - ETA: 0s - loss: 0.2696 - accuracy: 0.8891\n",
      "Epoch 00073: loss did not improve from 0.26927\n",
      "832/832 [==============================] - 208s 250ms/step - loss: 0.2696 - accuracy: 0.8891 - val_loss: 0.3078 - val_accuracy: 0.8721\n",
      " Learning rate:  5e-06\n",
      "Epoch 74/100\n",
      "832/832 [==============================] - ETA: 0s - loss: 0.2695 - accuracy: 0.8890\n",
      "Epoch 00074: loss did not improve from 0.26927\n",
      "832/832 [==============================] - 208s 250ms/step - loss: 0.2695 - accuracy: 0.8890 - val_loss: 0.3078 - val_accuracy: 0.8722\n",
      " Learning rate:  5e-06\n",
      "Epoch 75/100\n",
      "832/832 [==============================] - ETA: 0s - loss: 0.2705 - accuracy: 0.8882\n",
      "Epoch 00075: loss did not improve from 0.26927\n",
      "832/832 [==============================] - 208s 250ms/step - loss: 0.2705 - accuracy: 0.8882 - val_loss: 0.3078 - val_accuracy: 0.8720\n",
      " Learning rate:  5e-06\n",
      "Epoch 76/100\n",
      "832/832 [==============================] - ETA: 0s - loss: 0.2697 - accuracy: 0.8887\n",
      "Epoch 00076: loss did not improve from 0.26927\n",
      "832/832 [==============================] - 208s 249ms/step - loss: 0.2697 - accuracy: 0.8887 - val_loss: 0.3080 - val_accuracy: 0.8720\n",
      " Learning rate:  5e-06\n",
      "Epoch 77/100\n",
      "832/832 [==============================] - ETA: 0s - loss: 0.2698 - accuracy: 0.8882\n",
      "Epoch 00077: loss did not improve from 0.26927\n",
      "832/832 [==============================] - 208s 250ms/step - loss: 0.2698 - accuracy: 0.8882 - val_loss: 0.3079 - val_accuracy: 0.8721\n",
      " Learning rate:  5e-06\n",
      "Epoch 78/100\n",
      "832/832 [==============================] - ETA: 0s - loss: 0.2697 - accuracy: 0.8878\n",
      "Epoch 00078: loss did not improve from 0.26927\n",
      "832/832 [==============================] - 208s 249ms/step - loss: 0.2697 - accuracy: 0.8878 - val_loss: 0.3079 - val_accuracy: 0.8724\n",
      " Learning rate:  5e-06\n",
      "Epoch 79/100\n",
      "832/832 [==============================] - ETA: 0s - loss: 0.2700 - accuracy: 0.8894\n",
      "Epoch 00079: loss did not improve from 0.26927\n",
      "832/832 [==============================] - 208s 250ms/step - loss: 0.2700 - accuracy: 0.8894 - val_loss: 0.3079 - val_accuracy: 0.8722\n",
      " Learning rate:  5e-06\n",
      "Epoch 80/100\n",
      "832/832 [==============================] - ETA: 0s - loss: 0.2704 - accuracy: 0.8886\n",
      "Epoch 00080: loss did not improve from 0.26927\n",
      "832/832 [==============================] - 208s 250ms/step - loss: 0.2704 - accuracy: 0.8886 - val_loss: 0.3077 - val_accuracy: 0.8723\n",
      " Learning rate:  5e-06\n",
      "Epoch 81/100\n",
      "832/832 [==============================] - ETA: 0s - loss: 0.2697 - accuracy: 0.8881\n",
      "Epoch 00081: loss did not improve from 0.26927\n",
      "832/832 [==============================] - 208s 250ms/step - loss: 0.2697 - accuracy: 0.8881 - val_loss: 0.3079 - val_accuracy: 0.8723\n",
      " Learning rate:  5e-06\n",
      "Epoch 82/100\n",
      "832/832 [==============================] - ETA: 0s - loss: 0.2702 - accuracy: 0.8881\n",
      "Epoch 00082: loss did not improve from 0.26927\n",
      "832/832 [==============================] - 208s 250ms/step - loss: 0.2702 - accuracy: 0.8881 - val_loss: 0.3079 - val_accuracy: 0.8721\n",
      "Epoch 00082: early stopping\n"
     ]
    }
   ],
   "source": [
    "checkpoint = ModelCheckpoint(\"/mnt/vdb/thesis/AmPPEP30.1900.hdf5\", monitor='loss', verbose=1,\n",
    "    save_best_only=True, mode='auto', period=1)\n",
    "\n",
    "# Early Stopping\n",
    "es = EarlyStopping(monitor='loss', patience=8, verbose=1)\n",
    "\n",
    "#learning rate decay\n",
    "lr_scheduler = LearningRateScheduler(lr_schedule)\n",
    "\n",
    "history = model.fit(X_train, y_train, epochs=100,\n",
    "                    batch_size=64, validation_data=(X_val, y_val),\n",
    "                    callbacks=[checkpoint, es,lr_scheduler], verbose=1)"
   ]
  },
  {
   "cell_type": "code",
   "execution_count": 17,
   "metadata": {},
   "outputs": [
    {
     "name": "stdout",
     "output_type": "stream",
     "text": [
      "1663/1663 [==============================] - 63s 38ms/step - loss: 0.2671 - accuracy: 0.8893\n",
      "Train loss:  0.26714572310447693\n",
      "Train accuracy:  0.8892960548400879\n",
      "----------------------------------------------------------------------\n",
      "555/555 [==============================] - 21s 38ms/step - loss: 0.3079 - accuracy: 0.8721\n",
      "Val loss:  0.307868629693985\n",
      "Val accuracy:  0.8721461296081543\n",
      "----------------------------------------------------------------------\n",
      "555/555 [==============================] - 21s 38ms/step - loss: 0.3020 - accuracy: 0.8752\n",
      "Test loss:  0.3020343482494354\n",
      "Test accuracy:  0.8752466440200806\n"
     ]
    }
   ],
   "source": [
    "display_model_score(model,\n",
    "    [X_train, y_train],\n",
    "    [X_val, y_val],\n",
    "    [X_test, y_test])"
   ]
  },
  {
   "cell_type": "code",
   "execution_count": 18,
   "metadata": {},
   "outputs": [
    {
     "name": "stdout",
     "output_type": "stream",
     "text": [
      "              precision    recall  f1-score   support\n",
      "\n",
      "           0       0.88      0.87      0.88      8928\n",
      "           1       0.87      0.88      0.87      8811\n",
      "\n",
      "    accuracy                           0.88     17739\n",
      "   macro avg       0.88      0.88      0.88     17739\n",
      "weighted avg       0.88      0.88      0.88     17739\n",
      "\n"
     ]
    }
   ],
   "source": [
    "y_probas = model.predict(X_test)\n",
    "threshold = 0.5\n",
    "y_predict = np.where(y_probas > threshold, 1, 0)\n",
    "\n",
    "print(classification_report(y_test, y_predict))"
   ]
  },
  {
   "cell_type": "markdown",
   "metadata": {},
   "source": [
    "## MEmbedding"
   ]
  },
  {
   "cell_type": "code",
   "execution_count": 28,
   "metadata": {},
   "outputs": [
    {
     "name": "stdout",
     "output_type": "stream",
     "text": [
      "Model: \"functional_7\"\n",
      "_________________________________________________________________\n",
      "Layer (type)                 Output Shape              Param #   \n",
      "=================================================================\n",
      "input_4 (InputLayer)         [(None, 239, 1900)]       0         \n",
      "_________________________________________________________________\n",
      "embedding_3 (Embedding)      (None, 239, 1900, 1900)   45600     \n",
      "_________________________________________________________________\n",
      "flatten_3 (Flatten)          (None, 862790000)         0         \n",
      "=================================================================\n",
      "Total params: 45,600\n",
      "Trainable params: 45,600\n",
      "Non-trainable params: 0\n",
      "_________________________________________________________________\n",
      "None\n"
     ]
    }
   ],
   "source": [
    "\n",
    "word_input=Input(shape=(input_shape),dtype='float64')  \n",
    "\n",
    "# creating the embedding\n",
    "word_embedding=Embedding(input_dim=24,output_dim=1900,input_length=1900)(word_input)\n",
    "\n",
    "word_vec=Flatten()(word_embedding) # flatten\n",
    "embed_model =Model([word_input],word_vec) # combining all into a Keras model\n",
    "embed_model.compile(optimizer=keras.optimizers.Adam(lr=1e-3),loss='binary_crossentropy',metrics=['acc']) \n",
    "# compiling the model. parameters can be tuned as always.\n",
    "print(embed_model.summary()) # summary of the model"
   ]
  },
  {
   "cell_type": "code",
   "execution_count": 29,
   "metadata": {},
   "outputs": [
    {
     "name": "stdout",
     "output_type": "stream",
     "text": [
      "WARNING:tensorflow:Model was constructed with shape (None, 239, 1900) for input Tensor(\"input_4:0\", shape=(None, 239, 1900), dtype=float64), but it was called on an input with incompatible shape (None, 1).\n"
     ]
    }
   ],
   "source": [
    "embeddings=embed_model.predict(X_train[0]) # finally getting the embeddings."
   ]
  },
  {
   "cell_type": "code",
   "execution_count": 30,
   "metadata": {},
   "outputs": [
    {
     "data": {
      "text/plain": [
       "array([ 0.01733692, -0.0335286 ,  0.01197986, ...,  0.05971117,\n",
       "        0.06566247, -0.02294011])"
      ]
     },
     "execution_count": 30,
     "metadata": {},
     "output_type": "execute_result"
    }
   ],
   "source": [
    "X_train[0]"
   ]
  },
  {
   "cell_type": "code",
   "execution_count": 31,
   "metadata": {},
   "outputs": [
    {
     "name": "stdout",
     "output_type": "stream",
     "text": [
      "[[ 0.02140281  0.0160512  -0.01652263 ... -0.01446537 -0.03235978\n",
      "   0.00240989]\n",
      " [ 0.02140281  0.0160512  -0.01652263 ... -0.01446537 -0.03235978\n",
      "   0.00240989]\n",
      " [ 0.02140281  0.0160512  -0.01652263 ... -0.01446537 -0.03235978\n",
      "   0.00240989]\n",
      " ...\n",
      " [ 0.02140281  0.0160512  -0.01652263 ... -0.01446537 -0.03235978\n",
      "   0.00240989]\n",
      " [ 0.02140281  0.0160512  -0.01652263 ... -0.01446537 -0.03235978\n",
      "   0.00240989]\n",
      " [ 0.02140281  0.0160512  -0.01652263 ... -0.01446537 -0.03235978\n",
      "   0.00240989]]\n"
     ]
    }
   ],
   "source": [
    "print(embeddings)"
   ]
  },
  {
   "cell_type": "code",
   "execution_count": 32,
   "metadata": {},
   "outputs": [
    {
     "data": {
      "text/plain": [
       "1900"
      ]
     },
     "execution_count": 32,
     "metadata": {},
     "output_type": "execute_result"
    }
   ],
   "source": [
    "len(embeddings)"
   ]
  },
  {
   "cell_type": "code",
   "execution_count": 33,
   "metadata": {},
   "outputs": [
    {
     "data": {
      "text/plain": [
       "(1900, 1900)"
      ]
     },
     "execution_count": 33,
     "metadata": {},
     "output_type": "execute_result"
    }
   ],
   "source": [
    "embeddings.shape"
   ]
  },
  {
   "cell_type": "code",
   "execution_count": 109,
   "metadata": {},
   "outputs": [
    {
     "name": "stdout",
     "output_type": "stream",
     "text": [
      "(143, 1, 1900)\n",
      "(48, 1, 1900)\n",
      "(48, 1, 1900)\n"
     ]
    }
   ],
   "source": [
    "import numpy as np\n",
    "# https://stackoverflow.com/questions/52803989/how-to-correct-shape-of-keras-input-into-a-3d-array/52804200\n",
    "X_train = np.reshape(X_train,(X_train.shape[0],1,X_train.shape[1]))\n",
    "print(X_train.shape)\n",
    "X_test = np.reshape(X_test,(X_test.shape[0],1,X_test.shape[1]))\n",
    "print(X_test.shape)\n",
    "X_val = np.reshape(X_val,(X_val.shape[0],1,X_val.shape[1]))\n",
    "print(X_val.shape)"
   ]
  },
  {
   "cell_type": "code",
   "execution_count": 116,
   "metadata": {},
   "outputs": [
    {
     "data": {
      "text/plain": [
       "array([[ 0.04603789, -0.07072274, -0.03860193, ..., -0.01830798,\n",
       "         0.05091501,  0.05827223]])"
      ]
     },
     "execution_count": 116,
     "metadata": {},
     "output_type": "execute_result"
    }
   ],
   "source": [
    "X_test[0]"
   ]
  },
  {
   "cell_type": "markdown",
   "metadata": {
    "id": "o1yvj_MHIA6-"
   },
   "source": [
    "# Model 3: ProtCNN\n",
    "https://www.biorxiv.org/content/10.1101/626507v3.full"
   ]
  },
  {
   "cell_type": "code",
   "execution_count": 8,
   "metadata": {},
   "outputs": [
    {
     "name": "stdout",
     "output_type": "stream",
     "text": [
      "(53214, 1900, 1)\n",
      "(17739, 1900, 1)\n",
      "(17739, 1900, 1)\n"
     ]
    }
   ],
   "source": [
    "# convert format \n",
    "import numpy as np\n",
    "# https://stackoverflow.com/questions/52803989/how-to-correct-shape-of-keras-input-into-a-3d-array/52804200\n",
    "X_train = np.reshape(X_train,(X_train.shape[0],X_train.shape[1],1))\n",
    "print(X_train.shape)\n",
    "X_test = np.reshape(X_test,(X_test.shape[0],X_test.shape[1],1))\n",
    "print(X_test.shape)\n",
    "X_val = np.reshape(X_val,(X_val.shape[0],X_val.shape[1],1))\n",
    "print(X_val.shape)"
   ]
  },
  {
   "cell_type": "code",
   "execution_count": 15,
   "metadata": {
    "id": "uIIiKYP8IRYE"
   },
   "outputs": [],
   "source": [
    "def residual_block(data, filters, d_rate):\n",
    "  \"\"\"\n",
    "  residual_block consist of two resnet layers\n",
    "  For dilation_rate  # https://towardsdatascience.com/types-of-convolutions-in-deep-learning-717013397f4d\n",
    "  \n",
    "  _data: input\n",
    "  _filters: convolution filters\n",
    "  _d_rate: dilation rate\n",
    "  \"\"\"\n",
    "\n",
    "  shortcut = data\n",
    "\n",
    "  bn1 = BatchNormalization()(data)\n",
    "  act1 = Activation('relu')(bn1)\n",
    "  conv1 = Conv1D(filters, 1, dilation_rate=d_rate, padding='same', kernel_regularizer=l2(0.001))(act1)\n",
    "\n",
    "  #bottleneck convolution\n",
    "  bn2 = BatchNormalization()(conv1)\n",
    "  act2 = Activation('relu')(bn2)\n",
    "  conv2 = Conv1D(filters, 3, padding='same', kernel_regularizer=l2(0.001))(act2)\n",
    "\n",
    "  #skip connection\n",
    "  x = Add()([conv2, shortcut])\n",
    "\n",
    "  return x"
   ]
  },
  {
   "cell_type": "code",
   "execution_count": 19,
   "metadata": {
    "id": "iFyHyapJ4EKF"
   },
   "outputs": [
    {
     "name": "stdout",
     "output_type": "stream",
     "text": [
      "Model: \"functional_3\"\n",
      "__________________________________________________________________________________________________\n",
      "Layer (type)                    Output Shape         Param #     Connected to                     \n",
      "==================================================================================================\n",
      "input_3 (InputLayer)            [(None, 1900, 1)]    0                                            \n",
      "__________________________________________________________________________________________________\n",
      "conv1d_6 (Conv1D)               (None, 1900, 1024)   2048        input_3[0][0]                    \n",
      "__________________________________________________________________________________________________\n",
      "batch_normalization_4 (BatchNor (None, 1900, 1024)   4096        conv1d_6[0][0]                   \n",
      "__________________________________________________________________________________________________\n",
      "activation_4 (Activation)       (None, 1900, 1024)   0           batch_normalization_4[0][0]      \n",
      "__________________________________________________________________________________________________\n",
      "conv1d_7 (Conv1D)               (None, 1900, 1024)   1049600     activation_4[0][0]               \n",
      "__________________________________________________________________________________________________\n",
      "batch_normalization_5 (BatchNor (None, 1900, 1024)   4096        conv1d_7[0][0]                   \n",
      "__________________________________________________________________________________________________\n",
      "activation_5 (Activation)       (None, 1900, 1024)   0           batch_normalization_5[0][0]      \n",
      "__________________________________________________________________________________________________\n",
      "conv1d_8 (Conv1D)               (None, 1900, 1024)   3146752     activation_5[0][0]               \n",
      "__________________________________________________________________________________________________\n",
      "add_2 (Add)                     (None, 1900, 1024)   0           conv1d_8[0][0]                   \n",
      "                                                                 conv1d_6[0][0]                   \n",
      "__________________________________________________________________________________________________\n",
      "batch_normalization_6 (BatchNor (None, 1900, 1024)   4096        add_2[0][0]                      \n",
      "__________________________________________________________________________________________________\n",
      "activation_6 (Activation)       (None, 1900, 1024)   0           batch_normalization_6[0][0]      \n",
      "__________________________________________________________________________________________________\n",
      "conv1d_9 (Conv1D)               (None, 1900, 1024)   1049600     activation_6[0][0]               \n",
      "__________________________________________________________________________________________________\n",
      "batch_normalization_7 (BatchNor (None, 1900, 1024)   4096        conv1d_9[0][0]                   \n",
      "__________________________________________________________________________________________________\n",
      "activation_7 (Activation)       (None, 1900, 1024)   0           batch_normalization_7[0][0]      \n",
      "__________________________________________________________________________________________________\n",
      "conv1d_10 (Conv1D)              (None, 1900, 1024)   3146752     activation_7[0][0]               \n",
      "__________________________________________________________________________________________________\n",
      "add_3 (Add)                     (None, 1900, 1024)   0           conv1d_10[0][0]                  \n",
      "                                                                 add_2[0][0]                      \n",
      "__________________________________________________________________________________________________\n",
      "max_pooling1d_1 (MaxPooling1D)  (None, 633, 1024)    0           add_3[0][0]                      \n",
      "__________________________________________________________________________________________________\n",
      "dropout_4 (Dropout)             (None, 633, 1024)    0           max_pooling1d_1[0][0]            \n",
      "__________________________________________________________________________________________________\n",
      "flatten_1 (Flatten)             (None, 648192)       0           dropout_4[0][0]                  \n",
      "__________________________________________________________________________________________________\n",
      "dense_5 (Dense)                 (None, 1211)         784961723   flatten_1[0][0]                  \n",
      "__________________________________________________________________________________________________\n",
      "dropout_5 (Dropout)             (None, 1211)         0           dense_5[0][0]                    \n",
      "__________________________________________________________________________________________________\n",
      "dense_6 (Dense)                 (None, 1211)         1467732     dropout_5[0][0]                  \n",
      "__________________________________________________________________________________________________\n",
      "dropout_6 (Dropout)             (None, 1211)         0           dense_6[0][0]                    \n",
      "__________________________________________________________________________________________________\n",
      "dense_7 (Dense)                 (None, 1211)         1467732     dropout_6[0][0]                  \n",
      "__________________________________________________________________________________________________\n",
      "dropout_7 (Dropout)             (None, 1211)         0           dense_7[0][0]                    \n",
      "__________________________________________________________________________________________________\n",
      "dense_8 (Dense)                 (None, 1211)         1467732     dropout_7[0][0]                  \n",
      "__________________________________________________________________________________________________\n",
      "dense_9 (Dense)                 (None, 1)            1212        dense_8[0][0]                    \n",
      "==================================================================================================\n",
      "Total params: 797,777,267\n",
      "Trainable params: 797,769,075\n",
      "Non-trainable params: 8,192\n",
      "__________________________________________________________________________________________________\n"
     ]
    }
   ],
   "source": [
    "# model\n",
    "\n",
    "x_input = Input(shape=(1900,1))\n",
    "\n",
    "#initial conv\n",
    "conv = Conv1D(1024, 1, padding='same')(x_input) \n",
    "\n",
    "# per-residue representation\n",
    "res1 = residual_block(conv, 1024, 1)\n",
    "res2 = residual_block(res1, 1024, 1)\n",
    "\n",
    "x = MaxPooling1D(3)(res2)\n",
    "x = Dropout(0.5)(x)\n",
    "\n",
    "# softmax classifier\n",
    "x = Flatten()(x)\n",
    "layer_4 = Dense(1211 , activation='relu')(x)\n",
    "layer_4 = Dropout(0.5)(layer_4)\n",
    "layer_4 = Dense(1211 , activation='relu')(layer_4)\n",
    "layer_4 = Dropout(0.5)(layer_4)\n",
    "layer_4 = Dense(1211 , activation='relu')(layer_4)\n",
    "layer_4 = Dropout(0.5)(layer_4)\n",
    "layer_4 = Dense(1211 , activation='relu')(layer_4)\n",
    "x_output = Dense(1, activation='sigmoid', kernel_regularizer=l2(0.0001))(layer_4)\n",
    "\n",
    "model_ProtCNN = Model(inputs=x_input, outputs=x_output)\n",
    "model_ProtCNN.compile(optimizer='adam', loss='binary_crossentropy', metrics=['accuracy'])\n",
    "\n",
    "model_ProtCNN.summary()"
   ]
  },
  {
   "cell_type": "code",
   "execution_count": 10,
   "metadata": {},
   "outputs": [],
   "source": [
    "#from keras import backend as K\n",
    "#K.set_value(model_ProtCNN.optimizer.learning_rate, 0.00001)\n",
    "def lr_schedule(epoch):\n",
    "    \n",
    "    lr = 1e-2\n",
    "    if epoch > 80:\n",
    "        lr = 0.5e-5\n",
    "    elif epoch > 50:    \n",
    "        lr = 0.3e-4\n",
    "    elif epoch > 20:\n",
    "        lr = 1e-3\n",
    "        \n",
    "    print(' Learning rate: ', lr)    \n",
    "    return lr "
   ]
  },
  {
   "cell_type": "code",
   "execution_count": 21,
   "metadata": {
    "scrolled": true
   },
   "outputs": [
    {
     "name": "stdout",
     "output_type": "stream",
     "text": [
      "WARNING:tensorflow:`period` argument is deprecated. Please use `save_freq` to specify the frequency in number of batches seen.\n",
      " Learning rate:  0.001\n",
      "Epoch 1/100\n",
      "  2/832 [..............................] - ETA: 4:33 - loss: 429.1790 - accuracy: 0.4609WARNING:tensorflow:Callbacks method `on_train_batch_end` is slow compared to the batch time (batch time: 0.2007s vs `on_train_batch_end` time: 0.4579s). Check your callbacks.\n",
      "832/832 [==============================] - ETA: 0s - loss: 9.2612 - accuracy: 0.5136\n",
      "Epoch 00001: loss improved from inf to 9.26119, saving model to /mnt/vdb/ProtCNN.hdf5\n",
      "832/832 [==============================] - 637s 766ms/step - loss: 9.2612 - accuracy: 0.5136 - val_loss: 3.8958 - val_accuracy: 0.4931\n",
      " Learning rate:  0.001\n",
      "Epoch 2/100\n",
      "832/832 [==============================] - ETA: 0s - loss: 3.3306 - accuracy: 0.5025\n",
      "Epoch 00002: loss improved from 9.26119 to 3.33062, saving model to /mnt/vdb/ProtCNN.hdf5\n",
      "832/832 [==============================] - 631s 759ms/step - loss: 3.3306 - accuracy: 0.5025 - val_loss: 2.7776 - val_accuracy: 0.4931\n",
      " Learning rate:  0.001\n",
      "Epoch 3/100\n",
      "832/832 [==============================] - ETA: 0s - loss: 2.3041 - accuracy: 0.5020\n",
      "Epoch 00003: loss improved from 3.33062 to 2.30413, saving model to /mnt/vdb/ProtCNN.hdf5\n",
      "832/832 [==============================] - 628s 755ms/step - loss: 2.3041 - accuracy: 0.5020 - val_loss: 1.8775 - val_accuracy: 0.5069\n",
      " Learning rate:  0.001\n",
      "Epoch 4/100\n",
      "832/832 [==============================] - ETA: 0s - loss: 1.5521 - accuracy: 0.4965\n",
      "Epoch 00004: loss improved from 2.30413 to 1.55209, saving model to /mnt/vdb/ProtCNN.hdf5\n",
      "832/832 [==============================] - 629s 756ms/step - loss: 1.5521 - accuracy: 0.4965 - val_loss: 1.2727 - val_accuracy: 0.5081\n",
      " Learning rate:  0.001\n",
      "Epoch 5/100\n",
      "832/832 [==============================] - ETA: 0s - loss: 1.3179 - accuracy: 0.4999\n",
      "Epoch 00005: loss improved from 1.55209 to 1.31794, saving model to /mnt/vdb/ProtCNN.hdf5\n",
      "832/832 [==============================] - 630s 757ms/step - loss: 1.3179 - accuracy: 0.4999 - val_loss: 1.2118 - val_accuracy: 0.4931\n",
      " Learning rate:  0.001\n",
      "Epoch 6/100\n",
      "832/832 [==============================] - ETA: 0s - loss: 0.9740 - accuracy: 0.4946"
     ]
    },
    {
     "ename": "KeyboardInterrupt",
     "evalue": "",
     "output_type": "error",
     "traceback": [
      "\u001b[0;31m---------------------------------------------------------------------------\u001b[0m",
      "\u001b[0;31mKeyboardInterrupt\u001b[0m                         Traceback (most recent call last)",
      "\u001b[0;32m<ipython-input-21-3a5e78346a7b>\u001b[0m in \u001b[0;36m<module>\u001b[0;34m\u001b[0m\n\u001b[1;32m     14\u001b[0m     \u001b[0mepochs\u001b[0m\u001b[0;34m=\u001b[0m\u001b[0;36m100\u001b[0m\u001b[0;34m,\u001b[0m \u001b[0mbatch_size\u001b[0m\u001b[0;34m=\u001b[0m\u001b[0;36m64\u001b[0m\u001b[0;34m,\u001b[0m\u001b[0;34m\u001b[0m\u001b[0;34m\u001b[0m\u001b[0m\n\u001b[1;32m     15\u001b[0m     \u001b[0mvalidation_data\u001b[0m\u001b[0;34m=\u001b[0m\u001b[0;34m(\u001b[0m\u001b[0mX_val\u001b[0m\u001b[0;34m,\u001b[0m \u001b[0my_val\u001b[0m\u001b[0;34m)\u001b[0m\u001b[0;34m,\u001b[0m\u001b[0;34m\u001b[0m\u001b[0;34m\u001b[0m\u001b[0m\n\u001b[0;32m---> 16\u001b[0;31m     \u001b[0mcallbacks\u001b[0m\u001b[0;34m=\u001b[0m\u001b[0;34m[\u001b[0m\u001b[0mcheckpoint\u001b[0m\u001b[0;34m,\u001b[0m \u001b[0mes\u001b[0m\u001b[0;34m,\u001b[0m\u001b[0mlr_scheduler\u001b[0m\u001b[0;34m]\u001b[0m\u001b[0;34m\u001b[0m\u001b[0;34m\u001b[0m\u001b[0m\n\u001b[0m\u001b[1;32m     17\u001b[0m     )\n",
      "\u001b[0;32m~/.local/lib/python3.7/site-packages/tensorflow/python/keras/engine/training.py\u001b[0m in \u001b[0;36m_method_wrapper\u001b[0;34m(self, *args, **kwargs)\u001b[0m\n\u001b[1;32m    106\u001b[0m   \u001b[0;32mdef\u001b[0m \u001b[0m_method_wrapper\u001b[0m\u001b[0;34m(\u001b[0m\u001b[0mself\u001b[0m\u001b[0;34m,\u001b[0m \u001b[0;34m*\u001b[0m\u001b[0margs\u001b[0m\u001b[0;34m,\u001b[0m \u001b[0;34m**\u001b[0m\u001b[0mkwargs\u001b[0m\u001b[0;34m)\u001b[0m\u001b[0;34m:\u001b[0m\u001b[0;34m\u001b[0m\u001b[0;34m\u001b[0m\u001b[0m\n\u001b[1;32m    107\u001b[0m     \u001b[0;32mif\u001b[0m \u001b[0;32mnot\u001b[0m \u001b[0mself\u001b[0m\u001b[0;34m.\u001b[0m\u001b[0m_in_multi_worker_mode\u001b[0m\u001b[0;34m(\u001b[0m\u001b[0;34m)\u001b[0m\u001b[0;34m:\u001b[0m  \u001b[0;31m# pylint: disable=protected-access\u001b[0m\u001b[0;34m\u001b[0m\u001b[0;34m\u001b[0m\u001b[0m\n\u001b[0;32m--> 108\u001b[0;31m       \u001b[0;32mreturn\u001b[0m \u001b[0mmethod\u001b[0m\u001b[0;34m(\u001b[0m\u001b[0mself\u001b[0m\u001b[0;34m,\u001b[0m \u001b[0;34m*\u001b[0m\u001b[0margs\u001b[0m\u001b[0;34m,\u001b[0m \u001b[0;34m**\u001b[0m\u001b[0mkwargs\u001b[0m\u001b[0;34m)\u001b[0m\u001b[0;34m\u001b[0m\u001b[0;34m\u001b[0m\u001b[0m\n\u001b[0m\u001b[1;32m    109\u001b[0m \u001b[0;34m\u001b[0m\u001b[0m\n\u001b[1;32m    110\u001b[0m     \u001b[0;31m# Running inside `run_distribute_coordinator` already.\u001b[0m\u001b[0;34m\u001b[0m\u001b[0;34m\u001b[0m\u001b[0;34m\u001b[0m\u001b[0m\n",
      "\u001b[0;32m~/.local/lib/python3.7/site-packages/tensorflow/python/keras/engine/training.py\u001b[0m in \u001b[0;36mfit\u001b[0;34m(self, x, y, batch_size, epochs, verbose, callbacks, validation_split, validation_data, shuffle, class_weight, sample_weight, initial_epoch, steps_per_epoch, validation_steps, validation_batch_size, validation_freq, max_queue_size, workers, use_multiprocessing)\u001b[0m\n\u001b[1;32m   1131\u001b[0m               \u001b[0mworkers\u001b[0m\u001b[0;34m=\u001b[0m\u001b[0mworkers\u001b[0m\u001b[0;34m,\u001b[0m\u001b[0;34m\u001b[0m\u001b[0;34m\u001b[0m\u001b[0m\n\u001b[1;32m   1132\u001b[0m               \u001b[0muse_multiprocessing\u001b[0m\u001b[0;34m=\u001b[0m\u001b[0muse_multiprocessing\u001b[0m\u001b[0;34m,\u001b[0m\u001b[0;34m\u001b[0m\u001b[0;34m\u001b[0m\u001b[0m\n\u001b[0;32m-> 1133\u001b[0;31m               return_dict=True)\n\u001b[0m\u001b[1;32m   1134\u001b[0m           \u001b[0mval_logs\u001b[0m \u001b[0;34m=\u001b[0m \u001b[0;34m{\u001b[0m\u001b[0;34m'val_'\u001b[0m \u001b[0;34m+\u001b[0m \u001b[0mname\u001b[0m\u001b[0;34m:\u001b[0m \u001b[0mval\u001b[0m \u001b[0;32mfor\u001b[0m \u001b[0mname\u001b[0m\u001b[0;34m,\u001b[0m \u001b[0mval\u001b[0m \u001b[0;32min\u001b[0m \u001b[0mval_logs\u001b[0m\u001b[0;34m.\u001b[0m\u001b[0mitems\u001b[0m\u001b[0;34m(\u001b[0m\u001b[0;34m)\u001b[0m\u001b[0;34m}\u001b[0m\u001b[0;34m\u001b[0m\u001b[0;34m\u001b[0m\u001b[0m\n\u001b[1;32m   1135\u001b[0m           \u001b[0mepoch_logs\u001b[0m\u001b[0;34m.\u001b[0m\u001b[0mupdate\u001b[0m\u001b[0;34m(\u001b[0m\u001b[0mval_logs\u001b[0m\u001b[0;34m)\u001b[0m\u001b[0;34m\u001b[0m\u001b[0;34m\u001b[0m\u001b[0m\n",
      "\u001b[0;32m~/.local/lib/python3.7/site-packages/tensorflow/python/keras/engine/training.py\u001b[0m in \u001b[0;36m_method_wrapper\u001b[0;34m(self, *args, **kwargs)\u001b[0m\n\u001b[1;32m    106\u001b[0m   \u001b[0;32mdef\u001b[0m \u001b[0m_method_wrapper\u001b[0m\u001b[0;34m(\u001b[0m\u001b[0mself\u001b[0m\u001b[0;34m,\u001b[0m \u001b[0;34m*\u001b[0m\u001b[0margs\u001b[0m\u001b[0;34m,\u001b[0m \u001b[0;34m**\u001b[0m\u001b[0mkwargs\u001b[0m\u001b[0;34m)\u001b[0m\u001b[0;34m:\u001b[0m\u001b[0;34m\u001b[0m\u001b[0;34m\u001b[0m\u001b[0m\n\u001b[1;32m    107\u001b[0m     \u001b[0;32mif\u001b[0m \u001b[0;32mnot\u001b[0m \u001b[0mself\u001b[0m\u001b[0;34m.\u001b[0m\u001b[0m_in_multi_worker_mode\u001b[0m\u001b[0;34m(\u001b[0m\u001b[0;34m)\u001b[0m\u001b[0;34m:\u001b[0m  \u001b[0;31m# pylint: disable=protected-access\u001b[0m\u001b[0;34m\u001b[0m\u001b[0;34m\u001b[0m\u001b[0m\n\u001b[0;32m--> 108\u001b[0;31m       \u001b[0;32mreturn\u001b[0m \u001b[0mmethod\u001b[0m\u001b[0;34m(\u001b[0m\u001b[0mself\u001b[0m\u001b[0;34m,\u001b[0m \u001b[0;34m*\u001b[0m\u001b[0margs\u001b[0m\u001b[0;34m,\u001b[0m \u001b[0;34m**\u001b[0m\u001b[0mkwargs\u001b[0m\u001b[0;34m)\u001b[0m\u001b[0;34m\u001b[0m\u001b[0;34m\u001b[0m\u001b[0m\n\u001b[0m\u001b[1;32m    109\u001b[0m \u001b[0;34m\u001b[0m\u001b[0m\n\u001b[1;32m    110\u001b[0m     \u001b[0;31m# Running inside `run_distribute_coordinator` already.\u001b[0m\u001b[0;34m\u001b[0m\u001b[0;34m\u001b[0m\u001b[0;34m\u001b[0m\u001b[0m\n",
      "\u001b[0;32m~/.local/lib/python3.7/site-packages/tensorflow/python/keras/engine/training.py\u001b[0m in \u001b[0;36mevaluate\u001b[0;34m(self, x, y, batch_size, verbose, sample_weight, steps, callbacks, max_queue_size, workers, use_multiprocessing, return_dict)\u001b[0m\n\u001b[1;32m   1377\u001b[0m             \u001b[0;32mwith\u001b[0m \u001b[0mtrace\u001b[0m\u001b[0;34m.\u001b[0m\u001b[0mTrace\u001b[0m\u001b[0;34m(\u001b[0m\u001b[0;34m'TraceContext'\u001b[0m\u001b[0;34m,\u001b[0m \u001b[0mgraph_type\u001b[0m\u001b[0;34m=\u001b[0m\u001b[0;34m'test'\u001b[0m\u001b[0;34m,\u001b[0m \u001b[0mstep_num\u001b[0m\u001b[0;34m=\u001b[0m\u001b[0mstep\u001b[0m\u001b[0;34m)\u001b[0m\u001b[0;34m:\u001b[0m\u001b[0;34m\u001b[0m\u001b[0;34m\u001b[0m\u001b[0m\n\u001b[1;32m   1378\u001b[0m               \u001b[0mcallbacks\u001b[0m\u001b[0;34m.\u001b[0m\u001b[0mon_test_batch_begin\u001b[0m\u001b[0;34m(\u001b[0m\u001b[0mstep\u001b[0m\u001b[0;34m)\u001b[0m\u001b[0;34m\u001b[0m\u001b[0;34m\u001b[0m\u001b[0m\n\u001b[0;32m-> 1379\u001b[0;31m               \u001b[0mtmp_logs\u001b[0m \u001b[0;34m=\u001b[0m \u001b[0mtest_function\u001b[0m\u001b[0;34m(\u001b[0m\u001b[0miterator\u001b[0m\u001b[0;34m)\u001b[0m\u001b[0;34m\u001b[0m\u001b[0;34m\u001b[0m\u001b[0m\n\u001b[0m\u001b[1;32m   1380\u001b[0m               \u001b[0;32mif\u001b[0m \u001b[0mdata_handler\u001b[0m\u001b[0;34m.\u001b[0m\u001b[0mshould_sync\u001b[0m\u001b[0;34m:\u001b[0m\u001b[0;34m\u001b[0m\u001b[0;34m\u001b[0m\u001b[0m\n\u001b[1;32m   1381\u001b[0m                 \u001b[0mcontext\u001b[0m\u001b[0;34m.\u001b[0m\u001b[0masync_wait\u001b[0m\u001b[0;34m(\u001b[0m\u001b[0;34m)\u001b[0m\u001b[0;34m\u001b[0m\u001b[0;34m\u001b[0m\u001b[0m\n",
      "\u001b[0;32m~/.local/lib/python3.7/site-packages/tensorflow/python/eager/def_function.py\u001b[0m in \u001b[0;36m__call__\u001b[0;34m(self, *args, **kwds)\u001b[0m\n\u001b[1;32m    778\u001b[0m       \u001b[0;32melse\u001b[0m\u001b[0;34m:\u001b[0m\u001b[0;34m\u001b[0m\u001b[0;34m\u001b[0m\u001b[0m\n\u001b[1;32m    779\u001b[0m         \u001b[0mcompiler\u001b[0m \u001b[0;34m=\u001b[0m \u001b[0;34m\"nonXla\"\u001b[0m\u001b[0;34m\u001b[0m\u001b[0;34m\u001b[0m\u001b[0m\n\u001b[0;32m--> 780\u001b[0;31m         \u001b[0mresult\u001b[0m \u001b[0;34m=\u001b[0m \u001b[0mself\u001b[0m\u001b[0;34m.\u001b[0m\u001b[0m_call\u001b[0m\u001b[0;34m(\u001b[0m\u001b[0;34m*\u001b[0m\u001b[0margs\u001b[0m\u001b[0;34m,\u001b[0m \u001b[0;34m**\u001b[0m\u001b[0mkwds\u001b[0m\u001b[0;34m)\u001b[0m\u001b[0;34m\u001b[0m\u001b[0;34m\u001b[0m\u001b[0m\n\u001b[0m\u001b[1;32m    781\u001b[0m \u001b[0;34m\u001b[0m\u001b[0m\n\u001b[1;32m    782\u001b[0m       \u001b[0mnew_tracing_count\u001b[0m \u001b[0;34m=\u001b[0m \u001b[0mself\u001b[0m\u001b[0;34m.\u001b[0m\u001b[0m_get_tracing_count\u001b[0m\u001b[0;34m(\u001b[0m\u001b[0;34m)\u001b[0m\u001b[0;34m\u001b[0m\u001b[0;34m\u001b[0m\u001b[0m\n",
      "\u001b[0;32m~/.local/lib/python3.7/site-packages/tensorflow/python/eager/def_function.py\u001b[0m in \u001b[0;36m_call\u001b[0;34m(self, *args, **kwds)\u001b[0m\n\u001b[1;32m    812\u001b[0m       \u001b[0;31m# In this case we have not created variables on the first call. So we can\u001b[0m\u001b[0;34m\u001b[0m\u001b[0;34m\u001b[0m\u001b[0;34m\u001b[0m\u001b[0m\n\u001b[1;32m    813\u001b[0m       \u001b[0;31m# run the first trace but we should fail if variables are created.\u001b[0m\u001b[0;34m\u001b[0m\u001b[0;34m\u001b[0m\u001b[0;34m\u001b[0m\u001b[0m\n\u001b[0;32m--> 814\u001b[0;31m       \u001b[0mresults\u001b[0m \u001b[0;34m=\u001b[0m \u001b[0mself\u001b[0m\u001b[0;34m.\u001b[0m\u001b[0m_stateful_fn\u001b[0m\u001b[0;34m(\u001b[0m\u001b[0;34m*\u001b[0m\u001b[0margs\u001b[0m\u001b[0;34m,\u001b[0m \u001b[0;34m**\u001b[0m\u001b[0mkwds\u001b[0m\u001b[0;34m)\u001b[0m\u001b[0;34m\u001b[0m\u001b[0;34m\u001b[0m\u001b[0m\n\u001b[0m\u001b[1;32m    815\u001b[0m       \u001b[0;32mif\u001b[0m \u001b[0mself\u001b[0m\u001b[0;34m.\u001b[0m\u001b[0m_created_variables\u001b[0m\u001b[0;34m:\u001b[0m\u001b[0;34m\u001b[0m\u001b[0;34m\u001b[0m\u001b[0m\n\u001b[1;32m    816\u001b[0m         raise ValueError(\"Creating variables on a non-first call to a function\"\n",
      "\u001b[0;32m~/.local/lib/python3.7/site-packages/tensorflow/python/eager/function.py\u001b[0m in \u001b[0;36m__call__\u001b[0;34m(self, *args, **kwargs)\u001b[0m\n\u001b[1;32m   2827\u001b[0m     \u001b[0;32mwith\u001b[0m \u001b[0mself\u001b[0m\u001b[0;34m.\u001b[0m\u001b[0m_lock\u001b[0m\u001b[0;34m:\u001b[0m\u001b[0;34m\u001b[0m\u001b[0;34m\u001b[0m\u001b[0m\n\u001b[1;32m   2828\u001b[0m       \u001b[0mgraph_function\u001b[0m\u001b[0;34m,\u001b[0m \u001b[0margs\u001b[0m\u001b[0;34m,\u001b[0m \u001b[0mkwargs\u001b[0m \u001b[0;34m=\u001b[0m \u001b[0mself\u001b[0m\u001b[0;34m.\u001b[0m\u001b[0m_maybe_define_function\u001b[0m\u001b[0;34m(\u001b[0m\u001b[0margs\u001b[0m\u001b[0;34m,\u001b[0m \u001b[0mkwargs\u001b[0m\u001b[0;34m)\u001b[0m\u001b[0;34m\u001b[0m\u001b[0;34m\u001b[0m\u001b[0m\n\u001b[0;32m-> 2829\u001b[0;31m     \u001b[0;32mreturn\u001b[0m \u001b[0mgraph_function\u001b[0m\u001b[0;34m.\u001b[0m\u001b[0m_filtered_call\u001b[0m\u001b[0;34m(\u001b[0m\u001b[0margs\u001b[0m\u001b[0;34m,\u001b[0m \u001b[0mkwargs\u001b[0m\u001b[0;34m)\u001b[0m  \u001b[0;31m# pylint: disable=protected-access\u001b[0m\u001b[0;34m\u001b[0m\u001b[0;34m\u001b[0m\u001b[0m\n\u001b[0m\u001b[1;32m   2830\u001b[0m \u001b[0;34m\u001b[0m\u001b[0m\n\u001b[1;32m   2831\u001b[0m   \u001b[0;34m@\u001b[0m\u001b[0mproperty\u001b[0m\u001b[0;34m\u001b[0m\u001b[0;34m\u001b[0m\u001b[0m\n",
      "\u001b[0;32m~/.local/lib/python3.7/site-packages/tensorflow/python/eager/function.py\u001b[0m in \u001b[0;36m_filtered_call\u001b[0;34m(self, args, kwargs, cancellation_manager)\u001b[0m\n\u001b[1;32m   1846\u001b[0m                            resource_variable_ops.BaseResourceVariable))],\n\u001b[1;32m   1847\u001b[0m         \u001b[0mcaptured_inputs\u001b[0m\u001b[0;34m=\u001b[0m\u001b[0mself\u001b[0m\u001b[0;34m.\u001b[0m\u001b[0mcaptured_inputs\u001b[0m\u001b[0;34m,\u001b[0m\u001b[0;34m\u001b[0m\u001b[0;34m\u001b[0m\u001b[0m\n\u001b[0;32m-> 1848\u001b[0;31m         cancellation_manager=cancellation_manager)\n\u001b[0m\u001b[1;32m   1849\u001b[0m \u001b[0;34m\u001b[0m\u001b[0m\n\u001b[1;32m   1850\u001b[0m   \u001b[0;32mdef\u001b[0m \u001b[0m_call_flat\u001b[0m\u001b[0;34m(\u001b[0m\u001b[0mself\u001b[0m\u001b[0;34m,\u001b[0m \u001b[0margs\u001b[0m\u001b[0;34m,\u001b[0m \u001b[0mcaptured_inputs\u001b[0m\u001b[0;34m,\u001b[0m \u001b[0mcancellation_manager\u001b[0m\u001b[0;34m=\u001b[0m\u001b[0;32mNone\u001b[0m\u001b[0;34m)\u001b[0m\u001b[0;34m:\u001b[0m\u001b[0;34m\u001b[0m\u001b[0;34m\u001b[0m\u001b[0m\n",
      "\u001b[0;32m~/.local/lib/python3.7/site-packages/tensorflow/python/eager/function.py\u001b[0m in \u001b[0;36m_call_flat\u001b[0;34m(self, args, captured_inputs, cancellation_manager)\u001b[0m\n\u001b[1;32m   1922\u001b[0m       \u001b[0;31m# No tape is watching; skip to running the function.\u001b[0m\u001b[0;34m\u001b[0m\u001b[0;34m\u001b[0m\u001b[0;34m\u001b[0m\u001b[0m\n\u001b[1;32m   1923\u001b[0m       return self._build_call_outputs(self._inference_function.call(\n\u001b[0;32m-> 1924\u001b[0;31m           ctx, args, cancellation_manager=cancellation_manager))\n\u001b[0m\u001b[1;32m   1925\u001b[0m     forward_backward = self._select_forward_and_backward_functions(\n\u001b[1;32m   1926\u001b[0m         \u001b[0margs\u001b[0m\u001b[0;34m,\u001b[0m\u001b[0;34m\u001b[0m\u001b[0;34m\u001b[0m\u001b[0m\n",
      "\u001b[0;32m~/.local/lib/python3.7/site-packages/tensorflow/python/eager/function.py\u001b[0m in \u001b[0;36mcall\u001b[0;34m(self, ctx, args, cancellation_manager)\u001b[0m\n\u001b[1;32m    548\u001b[0m               \u001b[0minputs\u001b[0m\u001b[0;34m=\u001b[0m\u001b[0margs\u001b[0m\u001b[0;34m,\u001b[0m\u001b[0;34m\u001b[0m\u001b[0;34m\u001b[0m\u001b[0m\n\u001b[1;32m    549\u001b[0m               \u001b[0mattrs\u001b[0m\u001b[0;34m=\u001b[0m\u001b[0mattrs\u001b[0m\u001b[0;34m,\u001b[0m\u001b[0;34m\u001b[0m\u001b[0;34m\u001b[0m\u001b[0m\n\u001b[0;32m--> 550\u001b[0;31m               ctx=ctx)\n\u001b[0m\u001b[1;32m    551\u001b[0m         \u001b[0;32melse\u001b[0m\u001b[0;34m:\u001b[0m\u001b[0;34m\u001b[0m\u001b[0;34m\u001b[0m\u001b[0m\n\u001b[1;32m    552\u001b[0m           outputs = execute.execute_with_cancellation(\n",
      "\u001b[0;32m~/.local/lib/python3.7/site-packages/tensorflow/python/eager/execute.py\u001b[0m in \u001b[0;36mquick_execute\u001b[0;34m(op_name, num_outputs, inputs, attrs, ctx, name)\u001b[0m\n\u001b[1;32m     58\u001b[0m     \u001b[0mctx\u001b[0m\u001b[0;34m.\u001b[0m\u001b[0mensure_initialized\u001b[0m\u001b[0;34m(\u001b[0m\u001b[0;34m)\u001b[0m\u001b[0;34m\u001b[0m\u001b[0;34m\u001b[0m\u001b[0m\n\u001b[1;32m     59\u001b[0m     tensors = pywrap_tfe.TFE_Py_Execute(ctx._handle, device_name, op_name,\n\u001b[0;32m---> 60\u001b[0;31m                                         inputs, attrs, num_outputs)\n\u001b[0m\u001b[1;32m     61\u001b[0m   \u001b[0;32mexcept\u001b[0m \u001b[0mcore\u001b[0m\u001b[0;34m.\u001b[0m\u001b[0m_NotOkStatusException\u001b[0m \u001b[0;32mas\u001b[0m \u001b[0me\u001b[0m\u001b[0;34m:\u001b[0m\u001b[0;34m\u001b[0m\u001b[0;34m\u001b[0m\u001b[0m\n\u001b[1;32m     62\u001b[0m     \u001b[0;32mif\u001b[0m \u001b[0mname\u001b[0m \u001b[0;32mis\u001b[0m \u001b[0;32mnot\u001b[0m \u001b[0;32mNone\u001b[0m\u001b[0;34m:\u001b[0m\u001b[0;34m\u001b[0m\u001b[0;34m\u001b[0m\u001b[0m\n",
      "\u001b[0;31mKeyboardInterrupt\u001b[0m: "
     ]
    }
   ],
   "source": [
    "# Early Stopping\n",
    "es = EarlyStopping(monitor='loss', patience=6, verbose=1)\n",
    "# val_loss\n",
    "\n",
    "checkpoint = ModelCheckpoint(\"/mnt/vdb/ProtCNN.hdf5\", monitor='loss', verbose=1,\n",
    "    save_best_only=True, mode='auto', period=1)\n",
    "\n",
    "# val_accuracy\n",
    "\n",
    "lr_scheduler = LearningRateScheduler(lr_schedule)\n",
    "\n",
    "history2 = model_ProtCNN.fit(\n",
    "    X_train, y_train,\n",
    "    epochs=100, batch_size=64,\n",
    "    validation_data=(X_val, y_val),\n",
    "    callbacks=[checkpoint, es,lr_scheduler]\n",
    "    )\n"
   ]
  },
  {
   "cell_type": "code",
   "execution_count": 34,
   "metadata": {},
   "outputs": [],
   "source": [
    "# model_ProtCNN.save(\"/mnt/vdb/ProtCNN.bestmodel.h5\")\n",
    "model_ProtCNN= keras.models.load_model(\"/mnt/vdb/ProtCNN.hdf5\")"
   ]
  },
  {
   "cell_type": "code",
   "execution_count": null,
   "metadata": {
    "id": "kZO0R1iHSm4T"
   },
   "outputs": [],
   "source": [
    "y_probas = model_ProtCNN.predict(X_test)\n",
    "threshold = 0.5\n",
    "y_predict = np.where(y_probas > threshold, 1, 0)\n",
    "print(classification_report(y_test, y_predict))"
   ]
  },
  {
   "cell_type": "code",
   "execution_count": null,
   "metadata": {
    "id": "pMIGguFR4EHD"
   },
   "outputs": [],
   "source": [
    "plot_history(history2)"
   ]
  },
  {
   "cell_type": "code",
   "execution_count": null,
   "metadata": {
    "id": "_3iiV1sM4D6d"
   },
   "outputs": [],
   "source": [
    "display_model_score(model_ProtCNN,\n",
    "    [X_train, y_train],\n",
    "    [X_val, y_val],\n",
    "    [X_test, y_test])"
   ]
  },
  {
   "cell_type": "markdown",
   "metadata": {
    "id": "fALQEI9g4Ejn"
   },
   "source": [
    "# Conclusion"
   ]
  },
  {
   "cell_type": "code",
   "execution_count": null,
   "metadata": {
    "id": "Gh0Zvl9j4E38"
   },
   "outputs": [],
   "source": []
  }
 ],
 "metadata": {
  "accelerator": "GPU",
  "colab": {
   "collapsed_sections": [],
   "name": "CustomDNNModel.ipynb",
   "provenance": [],
   "toc_visible": true
  },
  "kernelspec": {
   "display_name": "Python 3",
   "language": "python",
   "name": "python3"
  },
  "language_info": {
   "codemirror_mode": {
    "name": "ipython",
    "version": 3
   },
   "file_extension": ".py",
   "mimetype": "text/x-python",
   "name": "python",
   "nbconvert_exporter": "python",
   "pygments_lexer": "ipython3",
   "version": "3.7.9"
  }
 },
 "nbformat": 4,
 "nbformat_minor": 4
}
