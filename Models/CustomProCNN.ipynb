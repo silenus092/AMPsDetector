{
 "cells": [
  {
   "cell_type": "code",
   "execution_count": null,
   "metadata": {},
   "outputs": [],
   "source": [
    "# https://stackoverflow.com/questions/48641189/fitting-3d-data-as-input-into-keras-sequential-model-layer"
   ]
  },
  {
   "cell_type": "code",
   "execution_count": null,
   "metadata": {},
   "outputs": [],
   "source": [
    "# !conda install keras=2.3.1 -y"
   ]
  },
  {
   "cell_type": "code",
   "execution_count": null,
   "metadata": {},
   "outputs": [],
   "source": [
    "# To check avialable CPU and GPU\n",
    "#import tensorflow as tf\n",
    "#from tensorflow.python.client import device_lib\n",
    "#print(device_lib.list_local_devices())"
   ]
  },
  {
   "cell_type": "code",
   "execution_count": 1,
   "metadata": {},
   "outputs": [],
   "source": [
    " #Use only CPU\n",
    "import os \n",
    "os.environ['CUDA_VISIBLE_DEVICES'] = '-1'"
   ]
  },
  {
   "cell_type": "code",
   "execution_count": 1,
   "metadata": {
    "id": "4aBzk8QXHS9S"
   },
   "outputs": [],
   "source": [
    "import os\n",
    "import gc\n",
    "\n",
    "import numpy as np\n",
    "import pandas as pd\n",
    "import matplotlib.pyplot as plt\n",
    "import matplotlib.patches as patches\n",
    "import seaborn as sns\n",
    "\n",
    "from collections import Counter\n",
    "from prettytable import PrettyTable\n",
    "from IPython.display import Image\n",
    "from sklearn.model_selection import train_test_split\n",
    "from sklearn.model_selection import cross_val_score\n",
    "from sklearn.model_selection import StratifiedKFold\n",
    "from sklearn.metrics import roc_curve,auc\n",
    "\n",
    "#keras\n",
    "import tensorflow.keras as keras\n",
    "from tensorflow.keras.models import Model\n",
    "from tensorflow.keras.regularizers import l2\n",
    "from tensorflow.keras.constraints import max_norm\n",
    "from tensorflow.keras.callbacks import EarlyStopping\n",
    "from tensorflow.keras.layers import Input, Dense, Dropout, Flatten, Activation\n",
    "from tensorflow.keras.layers import Conv1D, Add, MaxPooling1D, BatchNormalization\n",
    "from tensorflow.keras.layers import Embedding, Bidirectional, GlobalMaxPooling1D\n",
    "\n",
    "from tensorflow.keras.callbacks import LearningRateScheduler\n",
    "from tensorflow.keras.wrappers.scikit_learn import KerasClassifier\n",
    "# CuDNNLSTM error; The error was because from TensorFlow 2 you do not need to specify CuDNNLSTM. \n",
    "# You can just use LSTM with no activation function and it will automatically use the CuDNN version. You do have to install CuDNN first.\n",
    "\n",
    "from tensorflow.keras.callbacks import ModelCheckpoint\n",
    "from sklearn.metrics import classification_report, confusion_matrix, accuracy_score\n",
    "import scikitplot as skplt\n",
    "import pickle5 as pickle\n",
    "from utils import *"
   ]
  },
  {
   "cell_type": "code",
   "execution_count": 2,
   "metadata": {},
   "outputs": [],
   "source": [
    "from sklearn.metrics import precision_recall_curve\n",
    "from sklearn.metrics import plot_precision_recall_curve\n",
    "from sklearn.metrics import average_precision_score\n",
    "from matplotlib import pyplot\n",
    "\n",
    "def create_roc_curve(labels, scores):\n",
    "    fpr, tpr, thresholds = roc_curve(labels, scores)\n",
    "    roc_auc = auc(fpr, tpr)  \n",
    "\n",
    "    plt.title('Receiver Operating Characteristic' )\n",
    "    plt.plot(fpr, tpr, 'b', label='AUC = %0.2f'% roc_auc)\n",
    "\n",
    "    plt.legend(loc='lower right')\n",
    "    plt.plot([0,1],[0,1],'r--')\n",
    "    plt.xlim([-0.1,1.2])\n",
    "    plt.ylim([-0.1,1.2])\n",
    "    plt.xlabel('False Positive Rate or (1 - Specifity)')\n",
    "    plt.ylabel('True Positive Rate or (Sensitivity)')\n",
    "    plt.show()\n",
    "\n",
    "# plot no skill and model precision-recall curves\n",
    "def plot_pr_curve(test_y, model_probs):\n",
    "    precision, recall, _ = precision_recall_curve(test_y, model_probs)\n",
    "    auc_score = auc(recall, precision)\n",
    "    # calculate the no skill line as the proportion of the positive class\n",
    "    no_skill = len(test_y[test_y==1]) / len(test_y)\n",
    "    pyplot.title('2-class Precision-Recall curve')\n",
    "    # plot the no skill precision-recall curve\n",
    "    pyplot.plot([0, 1], [no_skill, no_skill], linestyle='--', label='No Skill')\n",
    "    # plot model precis|ion-recall curve\n",
    "    precision, recall, _ = precision_recall_curve(test_y, model_probs)\n",
    "    pyplot.plot(recall, precision, marker='.', label='Model AUC = %0.2f'% auc_score)\n",
    "    # axis labels\n",
    "    pyplot.xlabel('Recall')\n",
    "    pyplot.ylabel('Precision')\n",
    "    # show the legend\n",
    "    pyplot.legend()\n",
    "    # show the plot\n",
    "    pyplot.show()\n",
    "\n",
    "def plot_history(history):\n",
    "  # dict_keys(['loss', 'accuracy', 'val_loss', 'val_accuracy'])\n",
    "  acc = history.history['accuracy']\n",
    "  val_acc = history.history['val_accuracy']\n",
    "  loss = history.history['loss']\n",
    "  val_loss = history.history['val_loss']\n",
    "  x = range(1, len(acc) + 1)\n",
    "\n",
    "  plt.figure(figsize=(12, 5))\n",
    "  plt.subplot(1, 2, 1)\n",
    "  plt.plot(x, acc, 'b', label='Training acc')\n",
    "  plt.plot(x, val_acc, 'r', label='Validation acc')\n",
    "  plt.title('Training and validation accuracy')\n",
    "  plt.legend()\n",
    "\n",
    "  plt.subplot(1, 2, 2)\n",
    "  plt.plot(x, loss, 'b', label='Training loss')\n",
    "  plt.plot(x, val_loss, 'r', label='Validation loss')\n",
    "  plt.title('Training and validation loss')\n",
    "  plt.legend()"
   ]
  },
  {
   "cell_type": "code",
   "execution_count": 2,
   "metadata": {
    "id": "FNhtXHJrfEE4"
   },
   "outputs": [],
   "source": [
    "# small old ../datasets/AMPsNonAMPs_df.239.plk\n",
    "# /home/ubuntu/data/AMPsNonAMPs_df.plk old dataset\n",
    "# /mnt/vdb/thesis/jax/AMPNonAMP.final.reps new dataset\n",
    "with open( \"/mnt/vdb/thesis/jax/AMPNonAMP.V5_C08_sim60.reps\", 'rb') as file:\n",
    "    AMPs_df = pickle.load(file)"
   ]
  },
  {
   "cell_type": "code",
   "execution_count": 2,
   "metadata": {},
   "outputs": [],
   "source": [
    "# For PWS\n",
    "with open( '/mnt/vdb/thesis/pwm/AMPnonAMP.sim60_c08.pssm.pkl', 'rb') as file:\n",
    "    AMPs_df = pickle.load(file)\n"
   ]
  },
  {
   "cell_type": "code",
   "execution_count": 4,
   "metadata": {
    "colab": {
     "base_uri": "https://localhost:8080/",
     "height": 597
    },
    "id": "mGiMSzzPfj2t",
    "outputId": "092eb611-b89c-4cac-c8c4-0557799510cf"
   },
   "outputs": [
    {
     "data": {
      "text/html": [
       "<div>\n",
       "<style scoped>\n",
       "    .dataframe tbody tr th:only-of-type {\n",
       "        vertical-align: middle;\n",
       "    }\n",
       "\n",
       "    .dataframe tbody tr th {\n",
       "        vertical-align: top;\n",
       "    }\n",
       "\n",
       "    .dataframe thead th {\n",
       "        text-align: right;\n",
       "    }\n",
       "</style>\n",
       "<table border=\"1\" class=\"dataframe\">\n",
       "  <thead>\n",
       "    <tr style=\"text-align: right;\">\n",
       "      <th></th>\n",
       "      <th>ID</th>\n",
       "      <th>length</th>\n",
       "      <th>class</th>\n",
       "      <th>reps</th>\n",
       "    </tr>\n",
       "  </thead>\n",
       "  <tbody>\n",
       "    <tr>\n",
       "      <th>1111</th>\n",
       "      <td>10015_dbaasp,10016_dbaasp|dbaasp_peptides</td>\n",
       "      <td>11</td>\n",
       "      <td>0</td>\n",
       "      <td>[0.20464208722114563, -0.055944692343473434, 0...</td>\n",
       "    </tr>\n",
       "    <tr>\n",
       "      <th>973</th>\n",
       "      <td>10026_dbaasp|dbaasp_peptides</td>\n",
       "      <td>22</td>\n",
       "      <td>0</td>\n",
       "      <td>[0.1005186140537262, 0.0014500601682811975, 0....</td>\n",
       "    </tr>\n",
       "    <tr>\n",
       "      <th>524</th>\n",
       "      <td>10029_dbaasp|dbaasp_peptides</td>\n",
       "      <td>14</td>\n",
       "      <td>0</td>\n",
       "      <td>[0.14606480300426483, 0.04153195396065712, 0.0...</td>\n",
       "    </tr>\n",
       "    <tr>\n",
       "      <th>1979</th>\n",
       "      <td>1003,1011,1019,1027,1035|CancerPPD_l_natural</td>\n",
       "      <td>20</td>\n",
       "      <td>0</td>\n",
       "      <td>[0.02989775501191616, -0.004465686157345772, -...</td>\n",
       "    </tr>\n",
       "    <tr>\n",
       "      <th>1917</th>\n",
       "      <td>10030_dbaasp|dbaasp_peptides</td>\n",
       "      <td>18</td>\n",
       "      <td>0</td>\n",
       "      <td>[0.11731283366680145, 0.022457238286733627, 0....</td>\n",
       "    </tr>\n",
       "    <tr>\n",
       "      <th>...</th>\n",
       "      <td>...</td>\n",
       "      <td>...</td>\n",
       "      <td>...</td>\n",
       "      <td>...</td>\n",
       "    </tr>\n",
       "    <tr>\n",
       "      <th>1609</th>\n",
       "      <td>dbAMP_12148</td>\n",
       "      <td>13</td>\n",
       "      <td>0</td>\n",
       "      <td>[0.2212764024734497, 0.15402714908123016, 0.12...</td>\n",
       "    </tr>\n",
       "    <tr>\n",
       "      <th>617</th>\n",
       "      <td>dbAMP_12158</td>\n",
       "      <td>17</td>\n",
       "      <td>0</td>\n",
       "      <td>[0.07279127091169357, 0.05830632895231247, -0....</td>\n",
       "    </tr>\n",
       "    <tr>\n",
       "      <th>1051</th>\n",
       "      <td>dbAMP_12161</td>\n",
       "      <td>16</td>\n",
       "      <td>0</td>\n",
       "      <td>[0.17415067553520203, 0.11548949033021927, 0.0...</td>\n",
       "    </tr>\n",
       "    <tr>\n",
       "      <th>1821</th>\n",
       "      <td>dbAMP_12203</td>\n",
       "      <td>15</td>\n",
       "      <td>0</td>\n",
       "      <td>[0.03923531994223595, -0.0253727026283741, -0....</td>\n",
       "    </tr>\n",
       "    <tr>\n",
       "      <th>15</th>\n",
       "      <td>dbAMP_12362</td>\n",
       "      <td>30</td>\n",
       "      <td>0</td>\n",
       "      <td>[0.01778259314596653, -0.03611695393919945, 7....</td>\n",
       "    </tr>\n",
       "  </tbody>\n",
       "</table>\n",
       "<p>22910 rows × 4 columns</p>\n",
       "</div>"
      ],
      "text/plain": [
       "                                                ID  length  class  \\\n",
       "1111     10015_dbaasp,10016_dbaasp|dbaasp_peptides      11      0   \n",
       "973                   10026_dbaasp|dbaasp_peptides      22      0   \n",
       "524                   10029_dbaasp|dbaasp_peptides      14      0   \n",
       "1979  1003,1011,1019,1027,1035|CancerPPD_l_natural      20      0   \n",
       "1917                  10030_dbaasp|dbaasp_peptides      18      0   \n",
       "...                                            ...     ...    ...   \n",
       "1609                                   dbAMP_12148      13      0   \n",
       "617                                    dbAMP_12158      17      0   \n",
       "1051                                   dbAMP_12161      16      0   \n",
       "1821                                   dbAMP_12203      15      0   \n",
       "15                                     dbAMP_12362      30      0   \n",
       "\n",
       "                                                   reps  \n",
       "1111  [0.20464208722114563, -0.055944692343473434, 0...  \n",
       "973   [0.1005186140537262, 0.0014500601682811975, 0....  \n",
       "524   [0.14606480300426483, 0.04153195396065712, 0.0...  \n",
       "1979  [0.02989775501191616, -0.004465686157345772, -...  \n",
       "1917  [0.11731283366680145, 0.022457238286733627, 0....  \n",
       "...                                                 ...  \n",
       "1609  [0.2212764024734497, 0.15402714908123016, 0.12...  \n",
       "617   [0.07279127091169357, 0.05830632895231247, -0....  \n",
       "1051  [0.17415067553520203, 0.11548949033021927, 0.0...  \n",
       "1821  [0.03923531994223595, -0.0253727026283741, -0....  \n",
       "15    [0.01778259314596653, -0.03611695393919945, 7....  \n",
       "\n",
       "[22910 rows x 4 columns]"
      ]
     },
     "execution_count": 4,
     "metadata": {},
     "output_type": "execute_result"
    }
   ],
   "source": [
    "#AMPs_df.drop_duplicates(subset=['Sequence'],inplace=True)\n",
    "AMPs_df =AMPs_df[AMPs_df[\"length\"] <=30 ]\n",
    "AMPs_df "
   ]
  },
  {
   "cell_type": "markdown",
   "metadata": {
    "id": "nI-_ZAvfIb5A"
   },
   "source": [
    "# Split Train/ Test / Validation set"
   ]
  },
  {
   "cell_type": "code",
   "execution_count": 3,
   "metadata": {},
   "outputs": [
    {
     "data": {
      "text/plain": [
       "(137389, 400)"
      ]
     },
     "execution_count": 3,
     "metadata": {},
     "output_type": "execute_result"
    }
   ],
   "source": [
    "AMPs_df.shape"
   ]
  },
  {
   "cell_type": "code",
   "execution_count": 12,
   "metadata": {
    "id": "lAAQLx4UIptD"
   },
   "outputs": [],
   "source": [
    "# For PWM 2D\n",
    "window_sizes = 20\n",
    "X = AMPs_df[:,0:window_sizes*20].reshape(len(AMPs_df),1,20,window_sizes)\n",
    "Y = np.array([0] * 68869 + [1] * 68520)\n",
    "X_train, X_test, y_train, y_test = train_test_split(X,Y, test_size=0.2, random_state=1)\n",
    "X_train, X_val, y_train, y_val = train_test_split(X_train, y_train, test_size=0.25, random_state=1)"
   ]
  },
  {
   "cell_type": "code",
   "execution_count": 4,
   "metadata": {},
   "outputs": [],
   "source": [
    "# For 400 dimension\n",
    "Y1 =np.array([0] * 68869 + [1] * 68520)\n",
    "X_train, X_test, y_train, y_test = train_test_split(AMPs_df, Y1, test_size=0.2, random_state=42)\n",
    "X_train, X_val, y_train, y_val = train_test_split(X_train, y_train, test_size=0.25, random_state=1)"
   ]
  },
  {
   "cell_type": "code",
   "execution_count": 3,
   "metadata": {
    "id": "UWQ2IZWgIbST"
   },
   "outputs": [],
   "source": [
    "# For jax unirep \n",
    "#X= np.array(AMPs_df['reps'].to_list())\n",
    "#y= np.array(AMPs_df['class'].to_list())\n",
    "X_train, X_test, y_train, y_test = train_test_split(np.array(AMPs_df['reps'].to_list()), np.array(AMPs_df['class'].to_list()), test_size=0.2, random_state=1)\n",
    "X_train, X_val, y_train, y_val = train_test_split(X_train, y_train, test_size=0.25, random_state=1) # 0.25 x 0.8 = 0.2\n",
    "#del X\n",
    "#del y"
   ]
  },
  {
   "cell_type": "code",
   "execution_count": 4,
   "metadata": {
    "colab": {
     "base_uri": "https://localhost:8080/",
     "height": 73
    },
    "id": "IM7Scdevkwpp",
    "outputId": "55fa7ea6-a5f9-4e23-bf42-f1a4bf64f8a3"
   },
   "outputs": [
    {
     "name": "stdout",
     "output_type": "stream",
     "text": [
      "Train size:  51873\n",
      "Val size:  17292\n",
      "Test size:  17292\n"
     ]
    }
   ],
   "source": [
    "# Given data size\n",
    "print('Train size: ', len(X_train))\n",
    "print('Val size: ', len(X_val))\n",
    "print('Test size: ', len(X_test))"
   ]
  },
  {
   "cell_type": "markdown",
   "metadata": {
    "id": "9dHnNnR7IAAs"
   },
   "source": [
    "# Model 4: Deep-AmPEP30 + "
   ]
  },
  {
   "cell_type": "code",
   "execution_count": null,
   "metadata": {
    "collapsed": true,
    "jupyter": {
     "outputs_hidden": true
    }
   },
   "outputs": [],
   "source": [
    "# 3d dimension\n",
    "# Batchs, n_timesteps, n_features\n",
    "\n",
    "# Images 3d dimension\n",
    "# width , heigth , channel"
   ]
  },
  {
   "cell_type": "code",
   "execution_count": 6,
   "metadata": {
    "collapsed": true,
    "jupyter": {
     "outputs_hidden": true
    }
   },
   "outputs": [
    {
     "name": "stdout",
     "output_type": "stream",
     "text": [
      "(82433, 400, 1)\n",
      "(27478, 400, 1)\n",
      "(27478, 400, 1)\n"
     ]
    }
   ],
   "source": [
    "import numpy as np\n",
    "# https://stackoverflow.com/questions/52803989/how-to-correct-shape-of-keras-input-into-a-3d-array/52804200\n",
    "X_train = np.reshape(X_train,(X_train.shape[0],X_train.shape[1],1))\n",
    "print(X_train.shape)\n",
    "X_test = np.reshape(X_test,(X_test.shape[0],X_test.shape[1],1))\n",
    "print(X_test.shape)\n",
    "X_val = np.reshape(X_val,(X_val.shape[0],X_val.shape[1],1))\n",
    "print(X_val.shape)"
   ]
  },
  {
   "cell_type": "code",
   "execution_count": null,
   "metadata": {
    "collapsed": true,
    "jupyter": {
     "outputs_hidden": true
    }
   },
   "outputs": [],
   "source": [
    "# original method \n",
    "def create_Modelbaseline():\n",
    "    x_input = Input(shape=(1900,1)) # n_timesteps, n_features\n",
    "    # Conv\n",
    "    conv = Conv1D(128, kernel_size=3, strides=1, padding='same', activation='relu')(x_input) \n",
    "    conv = MaxPooling1D(pool_size=2)(conv)\n",
    "    conv = Conv1D(128, kernel_size=3, strides=1, padding='same', activation='relu')(conv) \n",
    "    conv = MaxPooling1D(pool_size=2)(conv)\n",
    "    # Flatten NN\n",
    "    flat = Flatten()(conv)\n",
    "    \n",
    "    layer_3 = Dense(128)(flat)\n",
    "    dropout_3 = Dropout(0.2)(layer_3)\n",
    "    layer_4 = Dense(10)(dropout_3)\n",
    "    dropout_4 = Dropout(0.2)(layer_4)\n",
    "    x_output = Dense(1, activation='sigmoid', name='output_layer', kernel_regularizer=l2(0.0001))(dropout_4)\n",
    "\n",
    "    model = Model(inputs=x_input, outputs=x_output)\n",
    "    model.compile(optimizer='adam', loss='binary_crossentropy', metrics=['accuracy'])\n",
    "    return model\n",
    "\n",
    "model = create_Modelbaseline()\n",
    "model.summary()"
   ]
  },
  {
   "cell_type": "code",
   "execution_count": 17,
   "metadata": {
    "collapsed": true,
    "jupyter": {
     "outputs_hidden": true
    }
   },
   "outputs": [],
   "source": [
    "from keras import backend as K\n",
    "K.set_value(model.optimizer.learning_rate, 0.00001)"
   ]
  },
  {
   "cell_type": "code",
   "execution_count": 11,
   "metadata": {
    "collapsed": true,
    "jupyter": {
     "outputs_hidden": true
    },
    "scrolled": true
   },
   "outputs": [
    {
     "name": "stdout",
     "output_type": "stream",
     "text": [
      "WARNING:tensorflow:`period` argument is deprecated. Please use `save_freq` to specify the frequency in number of batches seen.\n",
      " Learning rate:  0.01\n",
      "Epoch 1/100\n",
      "  2/832 [..............................] - ETA: 1:35 - loss: 1005.9172 - accuracy: 0.5312WARNING:tensorflow:Callbacks method `on_train_batch_end` is slow compared to the batch time (batch time: 0.0714s vs `on_train_batch_end` time: 0.1584s). Check your callbacks.\n",
      "832/832 [==============================] - ETA: 0s - loss: 3.6077 - accuracy: 0.6687\n",
      "Epoch 00001: loss improved from inf to 3.60769, saving model to /mnt/vdb/thesis/AmPPEP30.1900.hdf5\n",
      "832/832 [==============================] - 225s 270ms/step - loss: 3.6077 - accuracy: 0.6687 - val_loss: 0.7354 - val_accuracy: 0.5756\n",
      " Learning rate:  0.01\n",
      "Epoch 2/100\n",
      "832/832 [==============================] - ETA: 0s - loss: 0.4792 - accuracy: 0.7826\n",
      "Epoch 00002: loss improved from 3.60769 to 0.47920, saving model to /mnt/vdb/thesis/AmPPEP30.1900.hdf5\n",
      "832/832 [==============================] - 222s 267ms/step - loss: 0.4792 - accuracy: 0.7826 - val_loss: 0.4271 - val_accuracy: 0.8109\n",
      " Learning rate:  0.01\n",
      "Epoch 3/100\n",
      "832/832 [==============================] - ETA: 0s - loss: 0.4290 - accuracy: 0.8138\n",
      "Epoch 00003: loss improved from 0.47920 to 0.42904, saving model to /mnt/vdb/thesis/AmPPEP30.1900.hdf5\n",
      "832/832 [==============================] - 220s 264ms/step - loss: 0.4290 - accuracy: 0.8138 - val_loss: 0.4231 - val_accuracy: 0.8265\n",
      " Learning rate:  0.01\n",
      "Epoch 4/100\n",
      "832/832 [==============================] - ETA: 0s - loss: 0.3968 - accuracy: 0.8314\n",
      "Epoch 00004: loss improved from 0.42904 to 0.39679, saving model to /mnt/vdb/thesis/AmPPEP30.1900.hdf5\n",
      "832/832 [==============================] - 222s 267ms/step - loss: 0.3968 - accuracy: 0.8314 - val_loss: 0.4213 - val_accuracy: 0.8233\n",
      " Learning rate:  0.01\n",
      "Epoch 5/100\n",
      "832/832 [==============================] - ETA: 0s - loss: 0.3747 - accuracy: 0.8414\n",
      "Epoch 00005: loss improved from 0.39679 to 0.37471, saving model to /mnt/vdb/thesis/AmPPEP30.1900.hdf5\n",
      "832/832 [==============================] - 220s 264ms/step - loss: 0.3747 - accuracy: 0.8414 - val_loss: 0.3564 - val_accuracy: 0.8529\n",
      " Learning rate:  0.01\n",
      "Epoch 6/100\n",
      "832/832 [==============================] - ETA: 0s - loss: 0.3653 - accuracy: 0.8476\n",
      "Epoch 00006: loss improved from 0.37471 to 0.36531, saving model to /mnt/vdb/thesis/AmPPEP30.1900.hdf5\n",
      "832/832 [==============================] - 220s 264ms/step - loss: 0.3653 - accuracy: 0.8476 - val_loss: 0.3555 - val_accuracy: 0.8554\n",
      " Learning rate:  0.01\n",
      "Epoch 7/100\n",
      "832/832 [==============================] - ETA: 0s - loss: 0.3545 - accuracy: 0.8526\n",
      "Epoch 00007: loss improved from 0.36531 to 0.35447, saving model to /mnt/vdb/thesis/AmPPEP30.1900.hdf5\n",
      "832/832 [==============================] - 219s 263ms/step - loss: 0.3545 - accuracy: 0.8526 - val_loss: 0.4054 - val_accuracy: 0.8318\n",
      " Learning rate:  0.01\n",
      "Epoch 8/100\n",
      "832/832 [==============================] - ETA: 0s - loss: 0.3490 - accuracy: 0.8532\n",
      "Epoch 00008: loss improved from 0.35447 to 0.34902, saving model to /mnt/vdb/thesis/AmPPEP30.1900.hdf5\n",
      "832/832 [==============================] - 220s 264ms/step - loss: 0.3490 - accuracy: 0.8532 - val_loss: 0.3620 - val_accuracy: 0.8473\n",
      " Learning rate:  0.01\n",
      "Epoch 9/100\n",
      "832/832 [==============================] - ETA: 0s - loss: 0.3454 - accuracy: 0.8566\n",
      "Epoch 00009: loss improved from 0.34902 to 0.34539, saving model to /mnt/vdb/thesis/AmPPEP30.1900.hdf5\n",
      "832/832 [==============================] - 220s 265ms/step - loss: 0.3454 - accuracy: 0.8566 - val_loss: 0.3567 - val_accuracy: 0.8469\n",
      " Learning rate:  0.01\n",
      "Epoch 10/100\n",
      "832/832 [==============================] - ETA: 0s - loss: 0.3445 - accuracy: 0.8571\n",
      "Epoch 00010: loss improved from 0.34539 to 0.34447, saving model to /mnt/vdb/thesis/AmPPEP30.1900.hdf5\n",
      "832/832 [==============================] - 221s 266ms/step - loss: 0.3445 - accuracy: 0.8571 - val_loss: 0.3408 - val_accuracy: 0.8531\n",
      " Learning rate:  0.01\n",
      "Epoch 11/100\n",
      "832/832 [==============================] - ETA: 0s - loss: 0.3420 - accuracy: 0.8577\n",
      "Epoch 00011: loss improved from 0.34447 to 0.34197, saving model to /mnt/vdb/thesis/AmPPEP30.1900.hdf5\n",
      "832/832 [==============================] - 224s 269ms/step - loss: 0.3420 - accuracy: 0.8577 - val_loss: 0.3372 - val_accuracy: 0.8577\n",
      " Learning rate:  0.01\n",
      "Epoch 12/100\n",
      "832/832 [==============================] - ETA: 0s - loss: 0.3394 - accuracy: 0.8598\n",
      "Epoch 00012: loss improved from 0.34197 to 0.33937, saving model to /mnt/vdb/thesis/AmPPEP30.1900.hdf5\n",
      "832/832 [==============================] - 221s 266ms/step - loss: 0.3394 - accuracy: 0.8598 - val_loss: 0.3412 - val_accuracy: 0.8550\n",
      " Learning rate:  0.01\n",
      "Epoch 13/100\n",
      "832/832 [==============================] - ETA: 0s - loss: 0.3749 - accuracy: 0.8410\n",
      "Epoch 00013: loss did not improve from 0.33937\n",
      "832/832 [==============================] - 208s 250ms/step - loss: 0.3749 - accuracy: 0.8410 - val_loss: 0.3348 - val_accuracy: 0.8603\n",
      " Learning rate:  0.01\n",
      "Epoch 14/100\n",
      "832/832 [==============================] - ETA: 0s - loss: 0.3437 - accuracy: 0.8604\n",
      "Epoch 00014: loss did not improve from 0.33937\n",
      "832/832 [==============================] - 208s 250ms/step - loss: 0.3437 - accuracy: 0.8604 - val_loss: 0.3791 - val_accuracy: 0.8596\n",
      " Learning rate:  0.01\n",
      "Epoch 15/100\n",
      "832/832 [==============================] - ETA: 0s - loss: 0.3463 - accuracy: 0.8559\n",
      "Epoch 00015: loss did not improve from 0.33937\n",
      "832/832 [==============================] - 208s 250ms/step - loss: 0.3463 - accuracy: 0.8559 - val_loss: 0.3580 - val_accuracy: 0.8560\n",
      " Learning rate:  0.01\n",
      "Epoch 16/100\n",
      "832/832 [==============================] - ETA: 0s - loss: 0.3460 - accuracy: 0.8581\n",
      "Epoch 00016: loss did not improve from 0.33937\n",
      "832/832 [==============================] - 208s 250ms/step - loss: 0.3460 - accuracy: 0.8581 - val_loss: 0.3562 - val_accuracy: 0.8490\n",
      " Learning rate:  0.01\n",
      "Epoch 17/100\n",
      "832/832 [==============================] - ETA: 0s - loss: 0.3523 - accuracy: 0.8570\n",
      "Epoch 00017: loss did not improve from 0.33937\n",
      "832/832 [==============================] - 208s 250ms/step - loss: 0.3523 - accuracy: 0.8570 - val_loss: 0.3415 - val_accuracy: 0.8527\n",
      " Learning rate:  0.01\n",
      "Epoch 18/100\n",
      "832/832 [==============================] - ETA: 0s - loss: 0.3503 - accuracy: 0.8549\n",
      "Epoch 00018: loss did not improve from 0.33937\n",
      "832/832 [==============================] - 208s 250ms/step - loss: 0.3503 - accuracy: 0.8549 - val_loss: 0.3723 - val_accuracy: 0.8369\n",
      " Learning rate:  0.01\n",
      "Epoch 19/100\n",
      "832/832 [==============================] - ETA: 0s - loss: 0.3564 - accuracy: 0.8547\n",
      "Epoch 00019: loss did not improve from 0.33937\n",
      "832/832 [==============================] - 208s 250ms/step - loss: 0.3564 - accuracy: 0.8547 - val_loss: 0.3603 - val_accuracy: 0.8598\n",
      " Learning rate:  0.01\n",
      "Epoch 20/100\n",
      "832/832 [==============================] - ETA: 0s - loss: 0.3609 - accuracy: 0.8521\n",
      "Epoch 00020: loss did not improve from 0.33937\n",
      "832/832 [==============================] - 208s 250ms/step - loss: 0.3609 - accuracy: 0.8521 - val_loss: 0.3592 - val_accuracy: 0.8476\n",
      " Learning rate:  0.01\n",
      "Epoch 21/100\n",
      "832/832 [==============================] - ETA: 0s - loss: 0.3603 - accuracy: 0.8507\n",
      "Epoch 00021: loss did not improve from 0.33937\n",
      "832/832 [==============================] - 208s 250ms/step - loss: 0.3603 - accuracy: 0.8507 - val_loss: 0.3464 - val_accuracy: 0.8507\n",
      " Learning rate:  0.001\n",
      "Epoch 22/100\n",
      "832/832 [==============================] - ETA: 0s - loss: 0.3100 - accuracy: 0.8706\n",
      "Epoch 00022: loss improved from 0.33937 to 0.31001, saving model to /mnt/vdb/thesis/AmPPEP30.1900.hdf5\n",
      "832/832 [==============================] - 224s 269ms/step - loss: 0.3100 - accuracy: 0.8706 - val_loss: 0.3242 - val_accuracy: 0.8657\n",
      " Learning rate:  0.001\n",
      "Epoch 23/100\n",
      "832/832 [==============================] - ETA: 0s - loss: 0.3029 - accuracy: 0.8730\n",
      "Epoch 00023: loss improved from 0.31001 to 0.30292, saving model to /mnt/vdb/thesis/AmPPEP30.1900.hdf5\n",
      "832/832 [==============================] - 221s 266ms/step - loss: 0.3029 - accuracy: 0.8730 - val_loss: 0.3265 - val_accuracy: 0.8655\n",
      " Learning rate:  0.001\n",
      "Epoch 24/100\n",
      "832/832 [==============================] - ETA: 0s - loss: 0.3004 - accuracy: 0.8744\n",
      "Epoch 00024: loss improved from 0.30292 to 0.30037, saving model to /mnt/vdb/thesis/AmPPEP30.1900.hdf5\n",
      "832/832 [==============================] - 223s 268ms/step - loss: 0.3004 - accuracy: 0.8744 - val_loss: 0.3209 - val_accuracy: 0.8656\n",
      " Learning rate:  0.001\n",
      "Epoch 25/100\n",
      "832/832 [==============================] - ETA: 0s - loss: 0.2990 - accuracy: 0.8747\n",
      "Epoch 00025: loss improved from 0.30037 to 0.29902, saving model to /mnt/vdb/thesis/AmPPEP30.1900.hdf5\n",
      "832/832 [==============================] - 221s 266ms/step - loss: 0.2990 - accuracy: 0.8747 - val_loss: 0.3222 - val_accuracy: 0.8665\n",
      " Learning rate:  0.001\n",
      "Epoch 26/100\n",
      "832/832 [==============================] - ETA: 0s - loss: 0.2963 - accuracy: 0.8768\n",
      "Epoch 00026: loss improved from 0.29902 to 0.29633, saving model to /mnt/vdb/thesis/AmPPEP30.1900.hdf5\n",
      "832/832 [==============================] - 220s 265ms/step - loss: 0.2963 - accuracy: 0.8768 - val_loss: 0.3168 - val_accuracy: 0.8685\n",
      " Learning rate:  0.001\n",
      "Epoch 27/100\n",
      "832/832 [==============================] - ETA: 0s - loss: 0.2957 - accuracy: 0.8767\n",
      "Epoch 00027: loss improved from 0.29633 to 0.29571, saving model to /mnt/vdb/thesis/AmPPEP30.1900.hdf5\n",
      "832/832 [==============================] - 219s 263ms/step - loss: 0.2957 - accuracy: 0.8767 - val_loss: 0.3149 - val_accuracy: 0.8664\n",
      " Learning rate:  0.001\n",
      "Epoch 28/100\n",
      "832/832 [==============================] - ETA: 0s - loss: 0.2937 - accuracy: 0.8768\n",
      "Epoch 00028: loss improved from 0.29571 to 0.29370, saving model to /mnt/vdb/thesis/AmPPEP30.1900.hdf5\n",
      "832/832 [==============================] - 221s 265ms/step - loss: 0.2937 - accuracy: 0.8768 - val_loss: 0.3119 - val_accuracy: 0.8702\n",
      " Learning rate:  0.001\n",
      "Epoch 29/100\n",
      "832/832 [==============================] - ETA: 0s - loss: 0.2928 - accuracy: 0.8782\n",
      "Epoch 00029: loss improved from 0.29370 to 0.29282, saving model to /mnt/vdb/thesis/AmPPEP30.1900.hdf5\n",
      "832/832 [==============================] - 219s 263ms/step - loss: 0.2928 - accuracy: 0.8782 - val_loss: 0.3199 - val_accuracy: 0.8645\n",
      " Learning rate:  0.001\n",
      "Epoch 30/100\n",
      "832/832 [==============================] - ETA: 0s - loss: 0.2925 - accuracy: 0.8786\n",
      "Epoch 00030: loss improved from 0.29282 to 0.29246, saving model to /mnt/vdb/thesis/AmPPEP30.1900.hdf5\n",
      "832/832 [==============================] - 219s 264ms/step - loss: 0.2925 - accuracy: 0.8786 - val_loss: 0.3162 - val_accuracy: 0.8701\n",
      " Learning rate:  0.001\n",
      "Epoch 31/100\n",
      "832/832 [==============================] - ETA: 0s - loss: 0.2913 - accuracy: 0.8790\n",
      "Epoch 00031: loss improved from 0.29246 to 0.29131, saving model to /mnt/vdb/thesis/AmPPEP30.1900.hdf5\n",
      "832/832 [==============================] - 220s 265ms/step - loss: 0.2913 - accuracy: 0.8790 - val_loss: 0.3120 - val_accuracy: 0.8695\n",
      " Learning rate:  0.001\n",
      "Epoch 32/100\n",
      "832/832 [==============================] - ETA: 0s - loss: 0.2908 - accuracy: 0.8801\n",
      "Epoch 00032: loss improved from 0.29131 to 0.29082, saving model to /mnt/vdb/thesis/AmPPEP30.1900.hdf5\n",
      "832/832 [==============================] - 220s 264ms/step - loss: 0.2908 - accuracy: 0.8801 - val_loss: 0.3170 - val_accuracy: 0.8684\n",
      " Learning rate:  0.001\n",
      "Epoch 33/100\n",
      "832/832 [==============================] - ETA: 0s - loss: 0.2906 - accuracy: 0.8787\n",
      "Epoch 00033: loss improved from 0.29082 to 0.29058, saving model to /mnt/vdb/thesis/AmPPEP30.1900.hdf5\n",
      "832/832 [==============================] - 222s 267ms/step - loss: 0.2906 - accuracy: 0.8787 - val_loss: 0.3130 - val_accuracy: 0.8710\n",
      " Learning rate:  0.001\n",
      "Epoch 34/100\n",
      "832/832 [==============================] - ETA: 0s - loss: 0.2890 - accuracy: 0.8794\n",
      "Epoch 00034: loss improved from 0.29058 to 0.28897, saving model to /mnt/vdb/thesis/AmPPEP30.1900.hdf5\n",
      "832/832 [==============================] - 219s 263ms/step - loss: 0.2890 - accuracy: 0.8794 - val_loss: 0.3128 - val_accuracy: 0.8692\n",
      " Learning rate:  0.001\n",
      "Epoch 35/100\n",
      "832/832 [==============================] - ETA: 0s - loss: 0.2887 - accuracy: 0.8801\n",
      "Epoch 00035: loss improved from 0.28897 to 0.28866, saving model to /mnt/vdb/thesis/AmPPEP30.1900.hdf5\n",
      "832/832 [==============================] - 222s 266ms/step - loss: 0.2887 - accuracy: 0.8801 - val_loss: 0.3187 - val_accuracy: 0.8666\n",
      " Learning rate:  0.001\n",
      "Epoch 36/100\n",
      "832/832 [==============================] - ETA: 0s - loss: 0.2883 - accuracy: 0.8808\n",
      "Epoch 00036: loss improved from 0.28866 to 0.28828, saving model to /mnt/vdb/thesis/AmPPEP30.1900.hdf5\n",
      "832/832 [==============================] - 221s 265ms/step - loss: 0.2883 - accuracy: 0.8808 - val_loss: 0.3126 - val_accuracy: 0.8689\n",
      " Learning rate:  0.001\n",
      "Epoch 37/100\n",
      "832/832 [==============================] - ETA: 0s - loss: 0.2863 - accuracy: 0.8813\n",
      "Epoch 00037: loss improved from 0.28828 to 0.28631, saving model to /mnt/vdb/thesis/AmPPEP30.1900.hdf5\n",
      "832/832 [==============================] - 221s 266ms/step - loss: 0.2863 - accuracy: 0.8813 - val_loss: 0.3093 - val_accuracy: 0.8732\n",
      " Learning rate:  0.001\n",
      "Epoch 38/100\n",
      "832/832 [==============================] - ETA: 0s - loss: 0.2865 - accuracy: 0.8808\n",
      "Epoch 00038: loss did not improve from 0.28631\n",
      "832/832 [==============================] - 208s 250ms/step - loss: 0.2865 - accuracy: 0.8808 - val_loss: 0.3167 - val_accuracy: 0.8692\n",
      " Learning rate:  0.001\n",
      "Epoch 39/100\n",
      "832/832 [==============================] - ETA: 0s - loss: 0.2864 - accuracy: 0.8813\n",
      "Epoch 00039: loss did not improve from 0.28631\n",
      "832/832 [==============================] - 208s 249ms/step - loss: 0.2864 - accuracy: 0.8813 - val_loss: 0.3122 - val_accuracy: 0.8714\n",
      " Learning rate:  0.001\n",
      "Epoch 40/100\n",
      "832/832 [==============================] - ETA: 0s - loss: 0.2856 - accuracy: 0.8813\n",
      "Epoch 00040: loss improved from 0.28631 to 0.28562, saving model to /mnt/vdb/thesis/AmPPEP30.1900.hdf5\n",
      "832/832 [==============================] - 222s 266ms/step - loss: 0.2856 - accuracy: 0.8813 - val_loss: 0.3213 - val_accuracy: 0.8701\n",
      " Learning rate:  0.001\n",
      "Epoch 41/100\n",
      "832/832 [==============================] - ETA: 0s - loss: 0.2848 - accuracy: 0.8817\n",
      "Epoch 00041: loss improved from 0.28562 to 0.28477, saving model to /mnt/vdb/thesis/AmPPEP30.1900.hdf5\n",
      "832/832 [==============================] - 219s 264ms/step - loss: 0.2848 - accuracy: 0.8817 - val_loss: 0.3114 - val_accuracy: 0.8687\n",
      " Learning rate:  0.001\n",
      "Epoch 42/100\n",
      "832/832 [==============================] - ETA: 0s - loss: 0.2851 - accuracy: 0.8819\n",
      "Epoch 00042: loss did not improve from 0.28477\n",
      "832/832 [==============================] - 208s 250ms/step - loss: 0.2851 - accuracy: 0.8819 - val_loss: 0.3123 - val_accuracy: 0.8679\n",
      " Learning rate:  0.001\n",
      "Epoch 43/100\n",
      "832/832 [==============================] - ETA: 0s - loss: 0.2834 - accuracy: 0.8829\n",
      "Epoch 00043: loss improved from 0.28477 to 0.28339, saving model to /mnt/vdb/thesis/AmPPEP30.1900.hdf5\n",
      "832/832 [==============================] - 221s 266ms/step - loss: 0.2834 - accuracy: 0.8829 - val_loss: 0.3209 - val_accuracy: 0.8719\n",
      " Learning rate:  0.001\n",
      "Epoch 44/100\n",
      "832/832 [==============================] - ETA: 0s - loss: 0.2843 - accuracy: 0.8812\n",
      "Epoch 00044: loss did not improve from 0.28339\n",
      "832/832 [==============================] - 208s 249ms/step - loss: 0.2843 - accuracy: 0.8812 - val_loss: 0.3082 - val_accuracy: 0.8714\n",
      " Learning rate:  0.001\n",
      "Epoch 45/100\n",
      "832/832 [==============================] - ETA: 0s - loss: 0.2827 - accuracy: 0.8820\n",
      "Epoch 00045: loss improved from 0.28339 to 0.28268, saving model to /mnt/vdb/thesis/AmPPEP30.1900.hdf5\n",
      "832/832 [==============================] - 222s 266ms/step - loss: 0.2827 - accuracy: 0.8820 - val_loss: 0.3120 - val_accuracy: 0.8707\n",
      " Learning rate:  0.001\n",
      "Epoch 46/100\n",
      "832/832 [==============================] - ETA: 0s - loss: 0.2818 - accuracy: 0.8830\n",
      "Epoch 00046: loss improved from 0.28268 to 0.28184, saving model to /mnt/vdb/thesis/AmPPEP30.1900.hdf5\n",
      "832/832 [==============================] - 223s 268ms/step - loss: 0.2818 - accuracy: 0.8830 - val_loss: 0.3202 - val_accuracy: 0.8699\n",
      " Learning rate:  0.001\n",
      "Epoch 47/100\n",
      "832/832 [==============================] - ETA: 0s - loss: 0.2816 - accuracy: 0.8833\n",
      "Epoch 00047: loss improved from 0.28184 to 0.28160, saving model to /mnt/vdb/thesis/AmPPEP30.1900.hdf5\n",
      "832/832 [==============================] - 220s 264ms/step - loss: 0.2816 - accuracy: 0.8833 - val_loss: 0.3067 - val_accuracy: 0.8735\n",
      " Learning rate:  0.001\n",
      "Epoch 48/100\n",
      "832/832 [==============================] - ETA: 0s - loss: 0.2824 - accuracy: 0.8833\n",
      "Epoch 00048: loss did not improve from 0.28160\n",
      "832/832 [==============================] - 208s 250ms/step - loss: 0.2824 - accuracy: 0.8833 - val_loss: 0.3203 - val_accuracy: 0.8715\n",
      " Learning rate:  0.001\n",
      "Epoch 49/100\n",
      "832/832 [==============================] - ETA: 0s - loss: 0.2827 - accuracy: 0.8843\n",
      "Epoch 00049: loss did not improve from 0.28160\n",
      "832/832 [==============================] - 208s 250ms/step - loss: 0.2827 - accuracy: 0.8843 - val_loss: 0.3164 - val_accuracy: 0.8710\n",
      " Learning rate:  0.001\n",
      "Epoch 50/100\n",
      "832/832 [==============================] - ETA: 0s - loss: 0.2821 - accuracy: 0.8823\n",
      "Epoch 00050: loss did not improve from 0.28160\n",
      "832/832 [==============================] - 208s 249ms/step - loss: 0.2821 - accuracy: 0.8823 - val_loss: 0.3103 - val_accuracy: 0.8718\n",
      " Learning rate:  0.001\n",
      "Epoch 51/100\n",
      "832/832 [==============================] - ETA: 0s - loss: 0.2806 - accuracy: 0.8839\n",
      "Epoch 00051: loss improved from 0.28160 to 0.28060, saving model to /mnt/vdb/thesis/AmPPEP30.1900.hdf5\n",
      "832/832 [==============================] - 223s 268ms/step - loss: 0.2806 - accuracy: 0.8839 - val_loss: 0.3094 - val_accuracy: 0.8720\n",
      " Learning rate:  3e-05\n",
      "Epoch 52/100\n",
      "832/832 [==============================] - ETA: 0s - loss: 0.2737 - accuracy: 0.8866\n",
      "Epoch 00052: loss improved from 0.28060 to 0.27374, saving model to /mnt/vdb/thesis/AmPPEP30.1900.hdf5\n",
      "832/832 [==============================] - 221s 266ms/step - loss: 0.2737 - accuracy: 0.8866 - val_loss: 0.3078 - val_accuracy: 0.8731\n",
      " Learning rate:  3e-05\n",
      "Epoch 53/100\n",
      "832/832 [==============================] - ETA: 0s - loss: 0.2721 - accuracy: 0.8879\n",
      "Epoch 00053: loss improved from 0.27374 to 0.27212, saving model to /mnt/vdb/thesis/AmPPEP30.1900.hdf5\n",
      "832/832 [==============================] - 220s 264ms/step - loss: 0.2721 - accuracy: 0.8879 - val_loss: 0.3075 - val_accuracy: 0.8726\n",
      " Learning rate:  3e-05\n",
      "Epoch 54/100\n",
      "832/832 [==============================] - ETA: 0s - loss: 0.2714 - accuracy: 0.8879\n",
      "Epoch 00054: loss improved from 0.27212 to 0.27145, saving model to /mnt/vdb/thesis/AmPPEP30.1900.hdf5\n",
      "832/832 [==============================] - 219s 264ms/step - loss: 0.2714 - accuracy: 0.8879 - val_loss: 0.3068 - val_accuracy: 0.8729\n",
      " Learning rate:  3e-05\n",
      "Epoch 55/100\n",
      "832/832 [==============================] - ETA: 0s - loss: 0.2715 - accuracy: 0.8878\n",
      "Epoch 00055: loss did not improve from 0.27145\n",
      "832/832 [==============================] - 208s 250ms/step - loss: 0.2715 - accuracy: 0.8878 - val_loss: 0.3069 - val_accuracy: 0.8723\n",
      " Learning rate:  3e-05\n",
      "Epoch 56/100\n",
      "832/832 [==============================] - ETA: 0s - loss: 0.2712 - accuracy: 0.8876\n",
      "Epoch 00056: loss improved from 0.27145 to 0.27118, saving model to /mnt/vdb/thesis/AmPPEP30.1900.hdf5\n",
      "832/832 [==============================] - 222s 267ms/step - loss: 0.2712 - accuracy: 0.8876 - val_loss: 0.3077 - val_accuracy: 0.8727\n",
      " Learning rate:  3e-05\n",
      "Epoch 57/100\n",
      "832/832 [==============================] - ETA: 0s - loss: 0.2709 - accuracy: 0.8877\n",
      "Epoch 00057: loss improved from 0.27118 to 0.27085, saving model to /mnt/vdb/thesis/AmPPEP30.1900.hdf5\n",
      "832/832 [==============================] - 220s 264ms/step - loss: 0.2709 - accuracy: 0.8877 - val_loss: 0.3072 - val_accuracy: 0.8725\n",
      " Learning rate:  3e-05\n",
      "Epoch 58/100\n",
      "832/832 [==============================] - ETA: 0s - loss: 0.2703 - accuracy: 0.8878\n",
      "Epoch 00058: loss improved from 0.27085 to 0.27029, saving model to /mnt/vdb/thesis/AmPPEP30.1900.hdf5\n",
      "832/832 [==============================] - 223s 268ms/step - loss: 0.2703 - accuracy: 0.8878 - val_loss: 0.3075 - val_accuracy: 0.8727\n",
      " Learning rate:  3e-05\n",
      "Epoch 59/100\n",
      "832/832 [==============================] - ETA: 0s - loss: 0.2707 - accuracy: 0.8883\n",
      "Epoch 00059: loss did not improve from 0.27029\n",
      "832/832 [==============================] - 207s 249ms/step - loss: 0.2707 - accuracy: 0.8883 - val_loss: 0.3077 - val_accuracy: 0.8721\n",
      " Learning rate:  3e-05\n",
      "Epoch 60/100\n",
      "832/832 [==============================] - ETA: 0s - loss: 0.2712 - accuracy: 0.8883\n",
      "Epoch 00060: loss did not improve from 0.27029\n",
      "832/832 [==============================] - 208s 250ms/step - loss: 0.2712 - accuracy: 0.8883 - val_loss: 0.3078 - val_accuracy: 0.8727\n",
      " Learning rate:  3e-05\n",
      "Epoch 61/100\n",
      "832/832 [==============================] - ETA: 0s - loss: 0.2708 - accuracy: 0.8884\n",
      "Epoch 00061: loss did not improve from 0.27029\n",
      "832/832 [==============================] - 208s 249ms/step - loss: 0.2708 - accuracy: 0.8884 - val_loss: 0.3081 - val_accuracy: 0.8723\n",
      " Learning rate:  3e-05\n",
      "Epoch 62/100\n",
      "832/832 [==============================] - ETA: 0s - loss: 0.2705 - accuracy: 0.8887\n",
      "Epoch 00062: loss did not improve from 0.27029\n",
      "832/832 [==============================] - 208s 249ms/step - loss: 0.2705 - accuracy: 0.8887 - val_loss: 0.3079 - val_accuracy: 0.8725\n",
      " Learning rate:  3e-05\n",
      "Epoch 63/100\n",
      "832/832 [==============================] - ETA: 0s - loss: 0.2708 - accuracy: 0.8886\n",
      "Epoch 00063: loss did not improve from 0.27029\n",
      "832/832 [==============================] - 208s 250ms/step - loss: 0.2708 - accuracy: 0.8886 - val_loss: 0.3076 - val_accuracy: 0.8727\n",
      " Learning rate:  3e-05\n",
      "Epoch 64/100\n",
      "832/832 [==============================] - ETA: 0s - loss: 0.2701 - accuracy: 0.8886\n",
      "Epoch 00064: loss improved from 0.27029 to 0.27012, saving model to /mnt/vdb/thesis/AmPPEP30.1900.hdf5\n",
      "832/832 [==============================] - 222s 267ms/step - loss: 0.2701 - accuracy: 0.8886 - val_loss: 0.3080 - val_accuracy: 0.8725\n",
      " Learning rate:  3e-05\n",
      "Epoch 65/100\n",
      "832/832 [==============================] - ETA: 0s - loss: 0.2705 - accuracy: 0.8878\n",
      "Epoch 00065: loss did not improve from 0.27012\n",
      "832/832 [==============================] - 208s 249ms/step - loss: 0.2705 - accuracy: 0.8878 - val_loss: 0.3083 - val_accuracy: 0.8720\n",
      " Learning rate:  3e-05\n",
      "Epoch 66/100\n",
      "832/832 [==============================] - ETA: 0s - loss: 0.2703 - accuracy: 0.8886\n",
      "Epoch 00066: loss did not improve from 0.27012\n",
      "832/832 [==============================] - 208s 249ms/step - loss: 0.2703 - accuracy: 0.8886 - val_loss: 0.3060 - val_accuracy: 0.8727\n",
      " Learning rate:  3e-05\n",
      "Epoch 67/100\n",
      "832/832 [==============================] - ETA: 0s - loss: 0.2704 - accuracy: 0.8885\n",
      "Epoch 00067: loss did not improve from 0.27012\n",
      "832/832 [==============================] - 208s 250ms/step - loss: 0.2704 - accuracy: 0.8885 - val_loss: 0.3085 - val_accuracy: 0.8723\n",
      " Learning rate:  3e-05\n",
      "Epoch 68/100\n",
      "832/832 [==============================] - ETA: 0s - loss: 0.2706 - accuracy: 0.8879\n",
      "Epoch 00068: loss did not improve from 0.27012\n",
      "832/832 [==============================] - 208s 249ms/step - loss: 0.2706 - accuracy: 0.8879 - val_loss: 0.3084 - val_accuracy: 0.8724\n",
      " Learning rate:  3e-05\n",
      "Epoch 69/100\n",
      "832/832 [==============================] - ETA: 0s - loss: 0.2695 - accuracy: 0.8883\n",
      "Epoch 00069: loss improved from 0.27012 to 0.26948, saving model to /mnt/vdb/thesis/AmPPEP30.1900.hdf5\n",
      "832/832 [==============================] - 224s 269ms/step - loss: 0.2695 - accuracy: 0.8883 - val_loss: 0.3090 - val_accuracy: 0.8721\n",
      " Learning rate:  3e-05\n",
      "Epoch 70/100\n",
      "832/832 [==============================] - ETA: 0s - loss: 0.2704 - accuracy: 0.8878\n",
      "Epoch 00070: loss did not improve from 0.26948\n",
      "832/832 [==============================] - 208s 250ms/step - loss: 0.2704 - accuracy: 0.8878 - val_loss: 0.3084 - val_accuracy: 0.8721\n",
      " Learning rate:  3e-05\n",
      "Epoch 71/100\n",
      "832/832 [==============================] - ETA: 0s - loss: 0.2710 - accuracy: 0.8891\n",
      "Epoch 00071: loss did not improve from 0.26948\n",
      "832/832 [==============================] - 208s 249ms/step - loss: 0.2710 - accuracy: 0.8891 - val_loss: 0.3076 - val_accuracy: 0.8720\n",
      " Learning rate:  5e-06\n",
      "Epoch 72/100\n",
      "832/832 [==============================] - ETA: 0s - loss: 0.2693 - accuracy: 0.8889\n",
      "Epoch 00072: loss improved from 0.26948 to 0.26927, saving model to /mnt/vdb/thesis/AmPPEP30.1900.hdf5\n",
      "832/832 [==============================] - 223s 268ms/step - loss: 0.2693 - accuracy: 0.8889 - val_loss: 0.3078 - val_accuracy: 0.8721\n",
      " Learning rate:  5e-06\n",
      "Epoch 73/100\n",
      "832/832 [==============================] - ETA: 0s - loss: 0.2696 - accuracy: 0.8891\n",
      "Epoch 00073: loss did not improve from 0.26927\n",
      "832/832 [==============================] - 208s 250ms/step - loss: 0.2696 - accuracy: 0.8891 - val_loss: 0.3078 - val_accuracy: 0.8721\n",
      " Learning rate:  5e-06\n",
      "Epoch 74/100\n",
      "832/832 [==============================] - ETA: 0s - loss: 0.2695 - accuracy: 0.8890\n",
      "Epoch 00074: loss did not improve from 0.26927\n",
      "832/832 [==============================] - 208s 250ms/step - loss: 0.2695 - accuracy: 0.8890 - val_loss: 0.3078 - val_accuracy: 0.8722\n",
      " Learning rate:  5e-06\n",
      "Epoch 75/100\n",
      "832/832 [==============================] - ETA: 0s - loss: 0.2705 - accuracy: 0.8882\n",
      "Epoch 00075: loss did not improve from 0.26927\n",
      "832/832 [==============================] - 208s 250ms/step - loss: 0.2705 - accuracy: 0.8882 - val_loss: 0.3078 - val_accuracy: 0.8720\n",
      " Learning rate:  5e-06\n",
      "Epoch 76/100\n",
      "832/832 [==============================] - ETA: 0s - loss: 0.2697 - accuracy: 0.8887\n",
      "Epoch 00076: loss did not improve from 0.26927\n",
      "832/832 [==============================] - 208s 249ms/step - loss: 0.2697 - accuracy: 0.8887 - val_loss: 0.3080 - val_accuracy: 0.8720\n",
      " Learning rate:  5e-06\n",
      "Epoch 77/100\n",
      "832/832 [==============================] - ETA: 0s - loss: 0.2698 - accuracy: 0.8882\n",
      "Epoch 00077: loss did not improve from 0.26927\n",
      "832/832 [==============================] - 208s 250ms/step - loss: 0.2698 - accuracy: 0.8882 - val_loss: 0.3079 - val_accuracy: 0.8721\n",
      " Learning rate:  5e-06\n",
      "Epoch 78/100\n",
      "832/832 [==============================] - ETA: 0s - loss: 0.2697 - accuracy: 0.8878\n",
      "Epoch 00078: loss did not improve from 0.26927\n",
      "832/832 [==============================] - 208s 249ms/step - loss: 0.2697 - accuracy: 0.8878 - val_loss: 0.3079 - val_accuracy: 0.8724\n",
      " Learning rate:  5e-06\n",
      "Epoch 79/100\n",
      "832/832 [==============================] - ETA: 0s - loss: 0.2700 - accuracy: 0.8894\n",
      "Epoch 00079: loss did not improve from 0.26927\n",
      "832/832 [==============================] - 208s 250ms/step - loss: 0.2700 - accuracy: 0.8894 - val_loss: 0.3079 - val_accuracy: 0.8722\n",
      " Learning rate:  5e-06\n",
      "Epoch 80/100\n",
      "832/832 [==============================] - ETA: 0s - loss: 0.2704 - accuracy: 0.8886\n",
      "Epoch 00080: loss did not improve from 0.26927\n",
      "832/832 [==============================] - 208s 250ms/step - loss: 0.2704 - accuracy: 0.8886 - val_loss: 0.3077 - val_accuracy: 0.8723\n",
      " Learning rate:  5e-06\n",
      "Epoch 81/100\n",
      "832/832 [==============================] - ETA: 0s - loss: 0.2697 - accuracy: 0.8881\n",
      "Epoch 00081: loss did not improve from 0.26927\n",
      "832/832 [==============================] - 208s 250ms/step - loss: 0.2697 - accuracy: 0.8881 - val_loss: 0.3079 - val_accuracy: 0.8723\n",
      " Learning rate:  5e-06\n",
      "Epoch 82/100\n",
      "832/832 [==============================] - ETA: 0s - loss: 0.2702 - accuracy: 0.8881\n",
      "Epoch 00082: loss did not improve from 0.26927\n",
      "832/832 [==============================] - 208s 250ms/step - loss: 0.2702 - accuracy: 0.8881 - val_loss: 0.3079 - val_accuracy: 0.8721\n",
      "Epoch 00082: early stopping\n"
     ]
    }
   ],
   "source": [
    "checkpoint = ModelCheckpoint(\"/mnt/vdb/thesis/AmPPEP30.1900.hdf5\", monitor='loss', verbose=1,\n",
    "    save_best_only=True, mode='auto', period=1)\n",
    "\n",
    "# Early Stopping\n",
    "es = EarlyStopping(monitor='loss', patience=8, verbose=1)\n",
    "\n",
    "#learning rate decay\n",
    "lr_scheduler = LearningRateScheduler(lr_schedule)\n",
    "\n",
    "history = model.fit(X_train, y_train, epochs=100,\n",
    "                    batch_size=64, validation_data=(X_val, y_val),\n",
    "                    callbacks=[checkpoint, es,lr_scheduler], verbose=1)"
   ]
  },
  {
   "cell_type": "code",
   "execution_count": 17,
   "metadata": {
    "collapsed": true,
    "jupyter": {
     "outputs_hidden": true
    }
   },
   "outputs": [
    {
     "name": "stdout",
     "output_type": "stream",
     "text": [
      "1663/1663 [==============================] - 63s 38ms/step - loss: 0.2671 - accuracy: 0.8893\n",
      "Train loss:  0.26714572310447693\n",
      "Train accuracy:  0.8892960548400879\n",
      "----------------------------------------------------------------------\n",
      "555/555 [==============================] - 21s 38ms/step - loss: 0.3079 - accuracy: 0.8721\n",
      "Val loss:  0.307868629693985\n",
      "Val accuracy:  0.8721461296081543\n",
      "----------------------------------------------------------------------\n",
      "555/555 [==============================] - 21s 38ms/step - loss: 0.3020 - accuracy: 0.8752\n",
      "Test loss:  0.3020343482494354\n",
      "Test accuracy:  0.8752466440200806\n"
     ]
    }
   ],
   "source": [
    "display_model_score(model,\n",
    "    [X_train, y_train],\n",
    "    [X_val, y_val],\n",
    "    [X_test, y_test])"
   ]
  },
  {
   "cell_type": "code",
   "execution_count": 18,
   "metadata": {
    "collapsed": true,
    "jupyter": {
     "outputs_hidden": true
    },
    "tags": []
   },
   "outputs": [
    {
     "name": "stdout",
     "output_type": "stream",
     "text": [
      "              precision    recall  f1-score   support\n",
      "\n",
      "           0       0.88      0.87      0.88      8928\n",
      "           1       0.87      0.88      0.87      8811\n",
      "\n",
      "    accuracy                           0.88     17739\n",
      "   macro avg       0.88      0.88      0.88     17739\n",
      "weighted avg       0.88      0.88      0.88     17739\n",
      "\n"
     ]
    }
   ],
   "source": [
    "y_probas = model.predict(X_test)\n",
    "threshold = 0.5\n",
    "y_predict = np.where(y_probas > threshold, 1, 0)\n",
    "\n",
    "print(classification_report(y_test, y_predict))"
   ]
  },
  {
   "cell_type": "markdown",
   "metadata": {
    "id": "o1yvj_MHIA6-"
   },
   "source": [
    "# Model 3: ProtCNN\n",
    "https://www.biorxiv.org/content/10.1101/626507v3.full"
   ]
  },
  {
   "cell_type": "code",
   "execution_count": 5,
   "metadata": {},
   "outputs": [
    {
     "name": "stdout",
     "output_type": "stream",
     "text": [
      "(51873, 400, 1)\n",
      "(17292, 400, 1)\n",
      "(17292, 400, 1)\n"
     ]
    }
   ],
   "source": [
    "# convert format \n",
    "import numpy as np\n",
    "# https://stackoverflow.com/questions/52803989/how-to-correct-shape-of-keras-input-into-a-3d-array/52804200\n",
    "X_train = np.reshape(X_train,(X_train.shape[0],X_train.shape[1],1))\n",
    "print(X_train.shape)\n",
    "X_test = np.reshape(X_test,(X_test.shape[0],X_test.shape[1],1))\n",
    "print(X_test.shape)\n",
    "X_val = np.reshape(X_val,(X_val.shape[0],X_val.shape[1],1))\n",
    "print(X_val.shape)"
   ]
  },
  {
   "cell_type": "code",
   "execution_count": 5,
   "metadata": {
    "id": "uIIiKYP8IRYE"
   },
   "outputs": [],
   "source": [
    "def residual_block(data, filters, d_rate):\n",
    "  \"\"\"\n",
    "  residual_block consist of two resnet layers\n",
    "  For dilation_rate  # https://towardsdatascience.com/types-of-convolutions-in-deep-learning-717013397f4d\n",
    "  \n",
    "  _data: input\n",
    "  _filters: convolution filters\n",
    "  _d_rate: dilation rate\n",
    "  \"\"\"\n",
    "\n",
    "  shortcut = data\n",
    "\n",
    "  bn1 = BatchNormalization()(data)\n",
    "  act1 = Activation('relu')(bn1)\n",
    "  conv1 = Conv1D(filters, 1, dilation_rate=d_rate, padding='same', kernel_regularizer=l2(0.001))(act1)\n",
    "\n",
    "  #bottleneck convolution\n",
    "  bn2 = BatchNormalization()(conv1)\n",
    "  act2 = Activation('relu')(bn2)\n",
    "  conv2 = Conv1D(filters, 3, padding='same', kernel_regularizer=l2(0.001))(act2)\n",
    "\n",
    "  #skip connection\n",
    "  x = Add()([conv2, shortcut])\n",
    "\n",
    "  return x"
   ]
  },
  {
   "cell_type": "code",
   "execution_count": 31,
   "metadata": {},
   "outputs": [
    {
     "name": "stdout",
     "output_type": "stream",
     "text": [
      "Model: \"functional_15\"\n",
      "__________________________________________________________________________________________________\n",
      "Layer (type)                    Output Shape         Param #     Connected to                     \n",
      "==================================================================================================\n",
      "input_10 (InputLayer)           [(None, 1900, 1)]    0                                            \n",
      "__________________________________________________________________________________________________\n",
      "conv1d_38 (Conv1D)              (None, 1900, 128)    256         input_10[0][0]                   \n",
      "__________________________________________________________________________________________________\n",
      "batch_normalization_30 (BatchNo (None, 1900, 128)    512         conv1d_38[0][0]                  \n",
      "__________________________________________________________________________________________________\n",
      "activation_30 (Activation)      (None, 1900, 128)    0           batch_normalization_30[0][0]     \n",
      "__________________________________________________________________________________________________\n",
      "conv1d_39 (Conv1D)              (None, 1900, 128)    16512       activation_30[0][0]              \n",
      "__________________________________________________________________________________________________\n",
      "batch_normalization_31 (BatchNo (None, 1900, 128)    512         conv1d_39[0][0]                  \n",
      "__________________________________________________________________________________________________\n",
      "activation_31 (Activation)      (None, 1900, 128)    0           batch_normalization_31[0][0]     \n",
      "__________________________________________________________________________________________________\n",
      "conv1d_40 (Conv1D)              (None, 1900, 128)    49280       activation_31[0][0]              \n",
      "__________________________________________________________________________________________________\n",
      "add_15 (Add)                    (None, 1900, 128)    0           conv1d_40[0][0]                  \n",
      "                                                                 conv1d_38[0][0]                  \n",
      "__________________________________________________________________________________________________\n",
      "batch_normalization_32 (BatchNo (None, 1900, 128)    512         add_15[0][0]                     \n",
      "__________________________________________________________________________________________________\n",
      "activation_32 (Activation)      (None, 1900, 128)    0           batch_normalization_32[0][0]     \n",
      "__________________________________________________________________________________________________\n",
      "conv1d_41 (Conv1D)              (None, 1900, 128)    16512       activation_32[0][0]              \n",
      "__________________________________________________________________________________________________\n",
      "batch_normalization_33 (BatchNo (None, 1900, 128)    512         conv1d_41[0][0]                  \n",
      "__________________________________________________________________________________________________\n",
      "activation_33 (Activation)      (None, 1900, 128)    0           batch_normalization_33[0][0]     \n",
      "__________________________________________________________________________________________________\n",
      "conv1d_42 (Conv1D)              (None, 1900, 128)    49280       activation_33[0][0]              \n",
      "__________________________________________________________________________________________________\n",
      "add_16 (Add)                    (None, 1900, 128)    0           conv1d_42[0][0]                  \n",
      "                                                                 add_15[0][0]                     \n",
      "__________________________________________________________________________________________________\n",
      "max_pooling1d_7 (MaxPooling1D)  (None, 633, 128)     0           add_16[0][0]                     \n",
      "__________________________________________________________________________________________________\n",
      "dropout_19 (Dropout)            (None, 633, 128)     0           max_pooling1d_7[0][0]            \n",
      "__________________________________________________________________________________________________\n",
      "flatten_7 (Flatten)             (None, 81024)        0           dropout_19[0][0]                 \n",
      "__________________________________________________________________________________________________\n",
      "dense_23 (Dense)                (None, 1)            81025       flatten_7[0][0]                  \n",
      "==================================================================================================\n",
      "Total params: 214,913\n",
      "Trainable params: 213,889\n",
      "Non-trainable params: 1,024\n",
      "__________________________________________________________________________________________________\n"
     ]
    }
   ],
   "source": [
    "x_input = Input(shape=(1900,1))\n",
    "\n",
    "#initial conv\n",
    "conv = Conv1D(128, 1, padding='same')(x_input) \n",
    "\n",
    "# per-residue representation\n",
    "res1 = residual_block(conv, 128, 2)\n",
    "res2 = residual_block(res1, 128, 3)\n",
    "\n",
    "x = MaxPooling1D(3)(res2)\n",
    "x = Dropout(0.5)(x)\n",
    "\n",
    "# softmax classifier\n",
    "x = Flatten()(x)\n",
    "x_output = Dense(1000, activation='sigmoid', kernel_regularizer=l2(0.0001))(x)\n",
    "#x_output = Dense(1, activation='sigmoid', kernel_regularizer=l2(0.0001))(x)\n",
    "\n",
    "model_ProtCNN = Model(inputs=x_input, outputs=x_output)\n",
    "model_ProtCNN.compile(optimizer='adam', loss='categorical_crossentropy', metrics=['accuracy'])\n",
    "model_ProtCNN.summary()"
   ]
  },
  {
   "cell_type": "code",
   "execution_count": null,
   "metadata": {},
   "outputs": [],
   "source": [
    "# good model for detect nonAMP\n",
    "\n",
    "x_input = Input(shape=(1900,1))\n",
    "\n",
    "#initial conv\n",
    "conv = Conv1D(256, 1, padding='same')(x_input) \n",
    "\n",
    "# per-residue representation\n",
    "res1 = residual_block(conv, 256, 2)\n",
    "res2 = residual_block(res1, 256, 3)\n",
    "\n",
    "x = MaxPooling1D(3)(res2)\n",
    "x = Dropout(0.5)(x)\n",
    "\n",
    "# softmax classifier\n",
    "x = Flatten()(x)\n",
    "layer_4 = Dense(1211 , activation='relu')(x)\n",
    "layer_4 = Dropout(0.5)(layer_4)\n",
    "layer_4 = Dense(1211 , activation='relu')(layer_4)\n",
    "layer_4 = Dropout(0.5)(layer_4)\n",
    "layer_4 = Dense(1211 , activation='relu')(layer_4)\n",
    "layer_4 = Dropout(0.5)(layer_4)\n",
    "layer_4 = Dense(1211 , activation='relu')(layer_4)\n",
    "x_output = Dense(1, activation='sigmoid', kernel_regularizer=l2(0.0001))(layer_4)\n",
    "\n",
    "model_ProtCNN = Model(inputs=x_input, outputs=x_output)\n",
    "model_ProtCNN.compile(optimizer='adam', loss='binary_crossentropy', metrics=['accuracy'])\n",
    "\n",
    "model_ProtCNN.summary()"
   ]
  },
  {
   "cell_type": "code",
   "execution_count": 6,
   "metadata": {
    "id": "iFyHyapJ4EKF"
   },
   "outputs": [
    {
     "ename": "NameError",
     "evalue": "name 'residual_block' is not defined",
     "output_type": "error",
     "traceback": [
      "\u001b[0;31m---------------------------------------------------------------------------\u001b[0m",
      "\u001b[0;31mNameError\u001b[0m                                 Traceback (most recent call last)",
      "\u001b[0;32m<ipython-input-6-00380f80566a>\u001b[0m in \u001b[0;36m<module>\u001b[0;34m\u001b[0m\n\u001b[1;32m      7\u001b[0m \u001b[0;34m\u001b[0m\u001b[0m\n\u001b[1;32m      8\u001b[0m \u001b[0;31m# per-residue representation\u001b[0m\u001b[0;34m\u001b[0m\u001b[0;34m\u001b[0m\u001b[0;34m\u001b[0m\u001b[0m\n\u001b[0;32m----> 9\u001b[0;31m \u001b[0mres1\u001b[0m \u001b[0;34m=\u001b[0m \u001b[0mresidual_block\u001b[0m\u001b[0;34m(\u001b[0m\u001b[0mconv\u001b[0m\u001b[0;34m,\u001b[0m \u001b[0;36m256\u001b[0m\u001b[0;34m,\u001b[0m \u001b[0;36m2\u001b[0m\u001b[0;34m)\u001b[0m\u001b[0;34m\u001b[0m\u001b[0;34m\u001b[0m\u001b[0m\n\u001b[0m\u001b[1;32m     10\u001b[0m \u001b[0mres2\u001b[0m \u001b[0;34m=\u001b[0m \u001b[0mresidual_block\u001b[0m\u001b[0;34m(\u001b[0m\u001b[0mres1\u001b[0m\u001b[0;34m,\u001b[0m \u001b[0;36m256\u001b[0m\u001b[0;34m,\u001b[0m \u001b[0;36m3\u001b[0m\u001b[0;34m)\u001b[0m\u001b[0;34m\u001b[0m\u001b[0;34m\u001b[0m\u001b[0m\n\u001b[1;32m     11\u001b[0m \u001b[0;34m\u001b[0m\u001b[0m\n",
      "\u001b[0;31mNameError\u001b[0m: name 'residual_block' is not defined"
     ]
    }
   ],
   "source": [
    "# model\n",
    "\n",
    "x_input = Input(shape=(1900,1))\n",
    "\n",
    "#initial conv\n",
    "conv = Conv1D(256, 1, padding='same')(x_input) \n",
    "\n",
    "# per-residue representation\n",
    "res1 = residual_block(conv, 256, 2)\n",
    "res2 = residual_block(res1, 256, 3)\n",
    "\n",
    "x = MaxPooling1D(3)(res2)\n",
    "x = BatchNormalization()(x)\n",
    "\n",
    "# softmax classifier\n",
    "x = Flatten()(x)\n",
    "layer_4 = Dense(1211 , activation='relu')(x)\n",
    "layer_4 = Dropout(0.5)(layer_4)\n",
    "layer_4 = Dense(512 , activation='relu')(layer_4)\n",
    "layer_4 = Dropout(0.5)(layer_4)\n",
    "x_output = Dense(1, activation='sigmoid', kernel_regularizer=l2(0.0001))(layer_4)\n",
    "\n",
    "model_ProtCNN = Model(inputs=x_input, outputs=x_output)\n",
    "model_ProtCNN.compile(optimizer='adam', loss='binary_crossentropy', metrics=['accuracy'])\n",
    "\n",
    "model_ProtCNN.summary()"
   ]
  },
  {
   "cell_type": "code",
   "execution_count": 7,
   "metadata": {},
   "outputs": [],
   "source": [
    "#from keras import backend as K\n",
    "#K.set_value(model_ProtCNN.optimizer.learning_rate, 0.00001)\n",
    "def lr_schedule(epoch):\n",
    "    \n",
    "    lr = 1e-3\n",
    "    if epoch > 80:\n",
    "        lr = 0.1e-6\n",
    "    elif epoch > 50:    \n",
    "        lr = 0.3e-5\n",
    "    elif epoch > 20:\n",
    "        lr = 1e-4\n",
    "        \n",
    "    print(' Learning rate: ', lr)    \n",
    "    return lr "
   ]
  },
  {
   "cell_type": "code",
   "execution_count": 10,
   "metadata": {
    "scrolled": true
   },
   "outputs": [
    {
     "name": "stdout",
     "output_type": "stream",
     "text": [
      "WARNING:tensorflow:`period` argument is deprecated. Please use `save_freq` to specify the frequency in number of batches seen.\n",
      " Learning rate:  0.001\n",
      "Epoch 1/100\n",
      "  2/645 [..............................] - ETA: 55s - loss: 73.7406 - accuracy: 0.4727WARNING:tensorflow:Callbacks method `on_train_batch_end` is slow compared to the batch time (batch time: 0.0614s vs `on_train_batch_end` time: 0.1107s). Check your callbacks.\n",
      "644/645 [============================>.] - ETA: 0s - loss: 2.7184 - accuracy: 0.6246\n",
      "Epoch 00001: loss improved from inf to 2.71835, saving model to /mnt/vdb/thesis/ProtCNN.V5.h5\n",
      "645/645 [==============================] - 127s 196ms/step - loss: 2.7184 - accuracy: 0.6245 - val_loss: 1.3044 - val_accuracy: 0.7311\n",
      " Learning rate:  0.001\n",
      "Epoch 2/100\n",
      "644/645 [============================>.] - ETA: 0s - loss: 1.1884 - accuracy: 0.6522\n",
      "Epoch 00002: loss improved from 2.71835 to 1.18844, saving model to /mnt/vdb/thesis/ProtCNN.V5.h5\n",
      "645/645 [==============================] - 129s 200ms/step - loss: 1.1884 - accuracy: 0.6522 - val_loss: 0.8606 - val_accuracy: 0.8189\n",
      " Learning rate:  0.001\n",
      "Epoch 3/100\n",
      "644/645 [============================>.] - ETA: 0s - loss: 0.8685 - accuracy: 0.6792\n",
      "Epoch 00003: loss improved from 1.18844 to 0.86846, saving model to /mnt/vdb/thesis/ProtCNN.V5.h5\n",
      "645/645 [==============================] - 129s 200ms/step - loss: 0.8685 - accuracy: 0.6792 - val_loss: 0.6233 - val_accuracy: 0.8605\n",
      " Learning rate:  0.001\n",
      "Epoch 4/100\n",
      "644/645 [============================>.] - ETA: 0s - loss: 0.7214 - accuracy: 0.7038\n",
      "Epoch 00004: loss improved from 0.86846 to 0.72138, saving model to /mnt/vdb/thesis/ProtCNN.V5.h5\n",
      "645/645 [==============================] - 128s 198ms/step - loss: 0.7214 - accuracy: 0.7038 - val_loss: 0.5386 - val_accuracy: 0.8645\n",
      " Learning rate:  0.001\n",
      "Epoch 5/100\n",
      "644/645 [============================>.] - ETA: 0s - loss: 0.5808 - accuracy: 0.7418\n",
      "Epoch 00005: loss improved from 0.72138 to 0.58084, saving model to /mnt/vdb/thesis/ProtCNN.V5.h5\n",
      "645/645 [==============================] - 130s 201ms/step - loss: 0.5808 - accuracy: 0.7418 - val_loss: 0.4378 - val_accuracy: 0.8696\n",
      " Learning rate:  0.001\n",
      "Epoch 6/100\n",
      "644/645 [============================>.] - ETA: 0s - loss: 0.4936 - accuracy: 0.7915\n",
      "Epoch 00006: loss improved from 0.58084 to 0.49361, saving model to /mnt/vdb/thesis/ProtCNN.V5.h5\n",
      "645/645 [==============================] - 129s 200ms/step - loss: 0.4936 - accuracy: 0.7915 - val_loss: 0.3762 - val_accuracy: 0.8622\n",
      " Learning rate:  0.001\n",
      "Epoch 7/100\n",
      "644/645 [============================>.] - ETA: 0s - loss: 0.4846 - accuracy: 0.7804\n",
      "Epoch 00007: loss improved from 0.49361 to 0.48456, saving model to /mnt/vdb/thesis/ProtCNN.V5.h5\n",
      "645/645 [==============================] - 129s 199ms/step - loss: 0.4846 - accuracy: 0.7804 - val_loss: 0.3551 - val_accuracy: 0.8700\n",
      " Learning rate:  0.001\n",
      "Epoch 8/100\n",
      "644/645 [============================>.] - ETA: 0s - loss: 0.4458 - accuracy: 0.8089\n",
      "Epoch 00008: loss improved from 0.48456 to 0.44575, saving model to /mnt/vdb/thesis/ProtCNN.V5.h5\n",
      "645/645 [==============================] - 129s 200ms/step - loss: 0.4457 - accuracy: 0.8089 - val_loss: 0.3541 - val_accuracy: 0.8661\n",
      " Learning rate:  0.001\n",
      "Epoch 9/100\n",
      "644/645 [============================>.] - ETA: 0s - loss: 0.4347 - accuracy: 0.8140\n",
      "Epoch 00009: loss improved from 0.44575 to 0.43475, saving model to /mnt/vdb/thesis/ProtCNN.V5.h5\n",
      "645/645 [==============================] - 129s 199ms/step - loss: 0.4347 - accuracy: 0.8140 - val_loss: 0.3606 - val_accuracy: 0.8503\n",
      " Learning rate:  0.001\n",
      "Epoch 10/100\n",
      "644/645 [============================>.] - ETA: 0s - loss: 0.4687 - accuracy: 0.8091\n",
      "Epoch 00010: loss did not improve from 0.43475\n",
      "645/645 [==============================] - 121s 187ms/step - loss: 0.4687 - accuracy: 0.8091 - val_loss: 0.3571 - val_accuracy: 0.8787\n",
      " Learning rate:  0.001\n",
      "Epoch 11/100\n",
      "644/645 [============================>.] - ETA: 0s - loss: 0.4332 - accuracy: 0.8198\n",
      "Epoch 00011: loss improved from 0.43475 to 0.43319, saving model to /mnt/vdb/thesis/ProtCNN.V5.h5\n",
      "645/645 [==============================] - 128s 199ms/step - loss: 0.4332 - accuracy: 0.8198 - val_loss: 0.4093 - val_accuracy: 0.8272\n",
      " Learning rate:  0.001\n",
      "Epoch 12/100\n",
      "644/645 [============================>.] - ETA: 0s - loss: 0.4464 - accuracy: 0.8159\n",
      "Epoch 00012: loss did not improve from 0.43319\n",
      "645/645 [==============================] - 121s 187ms/step - loss: 0.4464 - accuracy: 0.8159 - val_loss: 0.3543 - val_accuracy: 0.8677\n",
      " Learning rate:  0.001\n",
      "Epoch 13/100\n",
      "644/645 [============================>.] - ETA: 0s - loss: 0.4251 - accuracy: 0.8247\n",
      "Epoch 00013: loss improved from 0.43319 to 0.42510, saving model to /mnt/vdb/thesis/ProtCNN.V5.h5\n",
      "645/645 [==============================] - 129s 201ms/step - loss: 0.4251 - accuracy: 0.8247 - val_loss: 0.3663 - val_accuracy: 0.8692\n",
      " Learning rate:  0.001\n",
      "Epoch 14/100\n",
      "644/645 [============================>.] - ETA: 0s - loss: 0.4261 - accuracy: 0.8232\n",
      "Epoch 00014: loss did not improve from 0.42510\n",
      "645/645 [==============================] - 121s 187ms/step - loss: 0.4262 - accuracy: 0.8231 - val_loss: 0.5096 - val_accuracy: 0.7364\n",
      " Learning rate:  0.001\n",
      "Epoch 15/100\n",
      "644/645 [============================>.] - ETA: 0s - loss: 0.5000 - accuracy: 0.8020\n",
      "Epoch 00015: loss did not improve from 0.42510\n",
      "645/645 [==============================] - 121s 187ms/step - loss: 0.5000 - accuracy: 0.8020 - val_loss: 0.3837 - val_accuracy: 0.8674\n",
      " Learning rate:  0.001\n",
      "Epoch 16/100\n",
      "644/645 [============================>.] - ETA: 0s - loss: 0.4432 - accuracy: 0.8173\n",
      "Epoch 00016: loss did not improve from 0.42510\n",
      "645/645 [==============================] - 121s 187ms/step - loss: 0.4432 - accuracy: 0.8173 - val_loss: 0.4267 - val_accuracy: 0.8128\n",
      " Learning rate:  0.001\n",
      "Epoch 17/100\n",
      "644/645 [============================>.] - ETA: 0s - loss: 0.4196 - accuracy: 0.8283\n",
      "Epoch 00017: loss improved from 0.42510 to 0.41955, saving model to /mnt/vdb/thesis/ProtCNN.V5.h5\n",
      "645/645 [==============================] - 129s 200ms/step - loss: 0.4196 - accuracy: 0.8283 - val_loss: 0.3318 - val_accuracy: 0.8730\n",
      " Learning rate:  0.001\n",
      "Epoch 18/100\n",
      "644/645 [============================>.] - ETA: 0s - loss: 0.4044 - accuracy: 0.8327\n",
      "Epoch 00018: loss improved from 0.41955 to 0.40442, saving model to /mnt/vdb/thesis/ProtCNN.V5.h5\n",
      "645/645 [==============================] - 128s 198ms/step - loss: 0.4044 - accuracy: 0.8327 - val_loss: 0.3173 - val_accuracy: 0.8826\n",
      " Learning rate:  0.001\n",
      "Epoch 19/100\n",
      "644/645 [============================>.] - ETA: 0s - loss: 0.4035 - accuracy: 0.8351\n",
      "Epoch 00019: loss improved from 0.40442 to 0.40348, saving model to /mnt/vdb/thesis/ProtCNN.V5.h5\n",
      "645/645 [==============================] - 129s 199ms/step - loss: 0.4035 - accuracy: 0.8352 - val_loss: 0.3222 - val_accuracy: 0.8806\n",
      " Learning rate:  0.001\n",
      "Epoch 20/100\n",
      "644/645 [============================>.] - ETA: 0s - loss: 0.3981 - accuracy: 0.8357\n",
      "Epoch 00020: loss improved from 0.40348 to 0.39811, saving model to /mnt/vdb/thesis/ProtCNN.V5.h5\n",
      "645/645 [==============================] - 129s 200ms/step - loss: 0.3981 - accuracy: 0.8357 - val_loss: 0.3734 - val_accuracy: 0.8499\n",
      " Learning rate:  0.001\n",
      "Epoch 21/100\n",
      "644/645 [============================>.] - ETA: 0s - loss: 0.4387 - accuracy: 0.8294\n",
      "Epoch 00021: loss did not improve from 0.39811\n",
      "645/645 [==============================] - 121s 187ms/step - loss: 0.4387 - accuracy: 0.8294 - val_loss: 0.3547 - val_accuracy: 0.8741\n",
      " Learning rate:  0.0001\n",
      "Epoch 22/100\n",
      "644/645 [============================>.] - ETA: 0s - loss: 0.3661 - accuracy: 0.8503\n",
      "Epoch 00022: loss improved from 0.39811 to 0.36607, saving model to /mnt/vdb/thesis/ProtCNN.V5.h5\n",
      "645/645 [==============================] - 129s 200ms/step - loss: 0.3661 - accuracy: 0.8503 - val_loss: 0.3041 - val_accuracy: 0.8898\n",
      " Learning rate:  0.0001\n",
      "Epoch 23/100\n",
      "644/645 [============================>.] - ETA: 0s - loss: 0.3533 - accuracy: 0.8550\n",
      "Epoch 00023: loss improved from 0.36607 to 0.35327, saving model to /mnt/vdb/thesis/ProtCNN.V5.h5\n",
      "645/645 [==============================] - 128s 199ms/step - loss: 0.3533 - accuracy: 0.8550 - val_loss: 0.3050 - val_accuracy: 0.8958\n",
      " Learning rate:  0.0001\n",
      "Epoch 24/100\n",
      "644/645 [============================>.] - ETA: 0s - loss: 0.3439 - accuracy: 0.8585\n",
      "Epoch 00024: loss improved from 0.35327 to 0.34385, saving model to /mnt/vdb/thesis/ProtCNN.V5.h5\n",
      "645/645 [==============================] - 128s 199ms/step - loss: 0.3439 - accuracy: 0.8585 - val_loss: 0.2903 - val_accuracy: 0.8985\n",
      " Learning rate:  0.0001\n",
      "Epoch 25/100\n",
      "644/645 [============================>.] - ETA: 0s - loss: 0.3417 - accuracy: 0.8585\n",
      "Epoch 00025: loss improved from 0.34385 to 0.34174, saving model to /mnt/vdb/thesis/ProtCNN.V5.h5\n",
      "645/645 [==============================] - 129s 199ms/step - loss: 0.3417 - accuracy: 0.8585 - val_loss: 0.2850 - val_accuracy: 0.8993\n",
      " Learning rate:  0.0001\n",
      "Epoch 26/100\n",
      "644/645 [============================>.] - ETA: 0s - loss: 0.3355 - accuracy: 0.8614\n",
      "Epoch 00026: loss improved from 0.34174 to 0.33548, saving model to /mnt/vdb/thesis/ProtCNN.V5.h5\n",
      "645/645 [==============================] - 129s 200ms/step - loss: 0.3355 - accuracy: 0.8614 - val_loss: 0.2876 - val_accuracy: 0.8964\n",
      " Learning rate:  0.0001\n",
      "Epoch 27/100\n",
      "644/645 [============================>.] - ETA: 0s - loss: 0.3335 - accuracy: 0.8615\n",
      "Epoch 00027: loss improved from 0.33548 to 0.33348, saving model to /mnt/vdb/thesis/ProtCNN.V5.h5\n",
      "645/645 [==============================] - 128s 199ms/step - loss: 0.3335 - accuracy: 0.8615 - val_loss: 0.2824 - val_accuracy: 0.8999\n",
      " Learning rate:  0.0001\n",
      "Epoch 28/100\n",
      "644/645 [============================>.] - ETA: 0s - loss: 0.3308 - accuracy: 0.8635\n",
      "Epoch 00028: loss improved from 0.33348 to 0.33080, saving model to /mnt/vdb/thesis/ProtCNN.V5.h5\n",
      "645/645 [==============================] - 128s 198ms/step - loss: 0.3308 - accuracy: 0.8635 - val_loss: 0.3048 - val_accuracy: 0.8929\n",
      " Learning rate:  0.0001\n",
      "Epoch 29/100\n",
      "644/645 [============================>.] - ETA: 0s - loss: 0.3259 - accuracy: 0.8662\n",
      "Epoch 00029: loss improved from 0.33080 to 0.32592, saving model to /mnt/vdb/thesis/ProtCNN.V5.h5\n",
      "645/645 [==============================] - 129s 200ms/step - loss: 0.3259 - accuracy: 0.8662 - val_loss: 0.2880 - val_accuracy: 0.8967\n",
      " Learning rate:  0.0001\n",
      "Epoch 30/100\n",
      "644/645 [============================>.] - ETA: 0s - loss: 0.3242 - accuracy: 0.8660\n",
      "Epoch 00030: loss improved from 0.32592 to 0.32424, saving model to /mnt/vdb/thesis/ProtCNN.V5.h5\n",
      "645/645 [==============================] - 128s 198ms/step - loss: 0.3242 - accuracy: 0.8660 - val_loss: 0.3059 - val_accuracy: 0.8891\n",
      " Learning rate:  0.0001\n",
      "Epoch 31/100\n",
      "644/645 [============================>.] - ETA: 0s - loss: 0.3195 - accuracy: 0.8687\n",
      "Epoch 00031: loss improved from 0.32424 to 0.31945, saving model to /mnt/vdb/thesis/ProtCNN.V5.h5\n",
      "645/645 [==============================] - 128s 198ms/step - loss: 0.3195 - accuracy: 0.8687 - val_loss: 0.2696 - val_accuracy: 0.9021\n",
      " Learning rate:  0.0001\n",
      "Epoch 32/100\n",
      "644/645 [============================>.] - ETA: 0s - loss: 0.3168 - accuracy: 0.8705\n",
      "Epoch 00032: loss improved from 0.31945 to 0.31675, saving model to /mnt/vdb/thesis/ProtCNN.V5.h5\n",
      "645/645 [==============================] - 128s 198ms/step - loss: 0.3168 - accuracy: 0.8705 - val_loss: 0.2753 - val_accuracy: 0.9006\n",
      " Learning rate:  0.0001\n",
      "Epoch 33/100\n",
      "644/645 [============================>.] - ETA: 0s - loss: 0.3142 - accuracy: 0.8720\n",
      "Epoch 00033: loss improved from 0.31675 to 0.31424, saving model to /mnt/vdb/thesis/ProtCNN.V5.h5\n",
      "645/645 [==============================] - 128s 198ms/step - loss: 0.3142 - accuracy: 0.8720 - val_loss: 0.2742 - val_accuracy: 0.9025\n",
      " Learning rate:  0.0001\n",
      "Epoch 34/100\n",
      "644/645 [============================>.] - ETA: 0s - loss: 0.3093 - accuracy: 0.8743\n",
      "Epoch 00034: loss improved from 0.31424 to 0.30928, saving model to /mnt/vdb/thesis/ProtCNN.V5.h5\n",
      "645/645 [==============================] - 128s 198ms/step - loss: 0.3093 - accuracy: 0.8743 - val_loss: 0.2667 - val_accuracy: 0.9035\n",
      " Learning rate:  0.0001\n",
      "Epoch 35/100\n",
      "644/645 [============================>.] - ETA: 0s - loss: 0.3055 - accuracy: 0.8769\n",
      "Epoch 00035: loss improved from 0.30928 to 0.30550, saving model to /mnt/vdb/thesis/ProtCNN.V5.h5\n",
      "645/645 [==============================] - 130s 201ms/step - loss: 0.3055 - accuracy: 0.8769 - val_loss: 0.2666 - val_accuracy: 0.8974\n",
      " Learning rate:  0.0001\n",
      "Epoch 36/100\n",
      "644/645 [============================>.] - ETA: 0s - loss: 0.3050 - accuracy: 0.8767\n",
      "Epoch 00036: loss improved from 0.30550 to 0.30503, saving model to /mnt/vdb/thesis/ProtCNN.V5.h5\n",
      "645/645 [==============================] - 129s 199ms/step - loss: 0.3050 - accuracy: 0.8767 - val_loss: 0.2811 - val_accuracy: 0.9017\n",
      " Learning rate:  0.0001\n",
      "Epoch 37/100\n",
      "644/645 [============================>.] - ETA: 0s - loss: 0.3046 - accuracy: 0.8775\n",
      "Epoch 00037: loss improved from 0.30503 to 0.30466, saving model to /mnt/vdb/thesis/ProtCNN.V5.h5\n",
      "645/645 [==============================] - 129s 199ms/step - loss: 0.3047 - accuracy: 0.8775 - val_loss: 0.2780 - val_accuracy: 0.8986\n",
      " Learning rate:  0.0001\n",
      "Epoch 38/100\n",
      "644/645 [============================>.] - ETA: 0s - loss: 0.3048 - accuracy: 0.8777\n",
      "Epoch 00038: loss did not improve from 0.30466\n",
      "645/645 [==============================] - 121s 187ms/step - loss: 0.3048 - accuracy: 0.8777 - val_loss: 0.2675 - val_accuracy: 0.9025\n",
      " Learning rate:  0.0001\n",
      "Epoch 39/100\n",
      "644/645 [============================>.] - ETA: 0s - loss: 0.2976 - accuracy: 0.8819\n",
      "Epoch 00039: loss improved from 0.30466 to 0.29755, saving model to /mnt/vdb/thesis/ProtCNN.V5.h5\n",
      "645/645 [==============================] - 128s 199ms/step - loss: 0.2976 - accuracy: 0.8819 - val_loss: 0.2801 - val_accuracy: 0.8957\n",
      " Learning rate:  0.0001\n",
      "Epoch 40/100\n",
      "644/645 [============================>.] - ETA: 0s - loss: 0.2957 - accuracy: 0.8832\n",
      "Epoch 00040: loss improved from 0.29755 to 0.29569, saving model to /mnt/vdb/thesis/ProtCNN.V5.h5\n",
      "645/645 [==============================] - 129s 201ms/step - loss: 0.2957 - accuracy: 0.8832 - val_loss: 0.2662 - val_accuracy: 0.9038\n",
      " Learning rate:  0.0001\n",
      "Epoch 41/100\n",
      "644/645 [============================>.] - ETA: 0s - loss: 0.2934 - accuracy: 0.8838\n",
      "Epoch 00041: loss improved from 0.29569 to 0.29339, saving model to /mnt/vdb/thesis/ProtCNN.V5.h5\n",
      "645/645 [==============================] - 130s 201ms/step - loss: 0.2934 - accuracy: 0.8838 - val_loss: 0.2741 - val_accuracy: 0.9033\n",
      " Learning rate:  0.0001\n",
      "Epoch 42/100\n",
      "644/645 [============================>.] - ETA: 0s - loss: 0.2903 - accuracy: 0.8839\n",
      "Epoch 00042: loss improved from 0.29339 to 0.29028, saving model to /mnt/vdb/thesis/ProtCNN.V5.h5\n",
      "645/645 [==============================] - 130s 202ms/step - loss: 0.2903 - accuracy: 0.8839 - val_loss: 0.2638 - val_accuracy: 0.9052\n",
      " Learning rate:  0.0001\n",
      "Epoch 43/100\n",
      "644/645 [============================>.] - ETA: 0s - loss: 0.2877 - accuracy: 0.8850\n",
      "Epoch 00043: loss improved from 0.29028 to 0.28767, saving model to /mnt/vdb/thesis/ProtCNN.V5.h5\n",
      "645/645 [==============================] - 128s 199ms/step - loss: 0.2877 - accuracy: 0.8850 - val_loss: 0.2633 - val_accuracy: 0.9019\n",
      " Learning rate:  0.0001\n",
      "Epoch 44/100\n",
      "644/645 [============================>.] - ETA: 0s - loss: 0.2828 - accuracy: 0.8874\n",
      "Epoch 00044: loss improved from 0.28767 to 0.28275, saving model to /mnt/vdb/thesis/ProtCNN.V5.h5\n",
      "645/645 [==============================] - 129s 200ms/step - loss: 0.2827 - accuracy: 0.8874 - val_loss: 0.2651 - val_accuracy: 0.9025\n",
      " Learning rate:  0.0001\n",
      "Epoch 45/100\n",
      "644/645 [============================>.] - ETA: 0s - loss: 0.2818 - accuracy: 0.8874\n",
      "Epoch 00045: loss improved from 0.28275 to 0.28178, saving model to /mnt/vdb/thesis/ProtCNN.V5.h5\n",
      "645/645 [==============================] - 128s 198ms/step - loss: 0.2818 - accuracy: 0.8874 - val_loss: 0.2681 - val_accuracy: 0.8988\n",
      " Learning rate:  0.0001\n",
      "Epoch 46/100\n",
      "644/645 [============================>.] - ETA: 0s - loss: 0.2780 - accuracy: 0.8900\n",
      "Epoch 00046: loss improved from 0.28178 to 0.27800, saving model to /mnt/vdb/thesis/ProtCNN.V5.h5\n",
      "645/645 [==============================] - 129s 200ms/step - loss: 0.2780 - accuracy: 0.8900 - val_loss: 0.2715 - val_accuracy: 0.9022\n",
      " Learning rate:  0.0001\n",
      "Epoch 47/100\n",
      "644/645 [============================>.] - ETA: 0s - loss: 0.2758 - accuracy: 0.8906\n",
      "Epoch 00047: loss improved from 0.27800 to 0.27578, saving model to /mnt/vdb/thesis/ProtCNN.V5.h5\n",
      "645/645 [==============================] - 128s 198ms/step - loss: 0.2758 - accuracy: 0.8907 - val_loss: 0.2653 - val_accuracy: 0.9054\n",
      " Learning rate:  0.0001\n",
      "Epoch 48/100\n",
      "644/645 [============================>.] - ETA: 0s - loss: 0.2671 - accuracy: 0.8915\n",
      "Epoch 00048: loss improved from 0.27578 to 0.26714, saving model to /mnt/vdb/thesis/ProtCNN.V5.h5\n",
      "645/645 [==============================] - 130s 201ms/step - loss: 0.2671 - accuracy: 0.8915 - val_loss: 0.2519 - val_accuracy: 0.9071\n",
      " Learning rate:  0.0001\n",
      "Epoch 49/100\n",
      "644/645 [============================>.] - ETA: 0s - loss: 0.2640 - accuracy: 0.8928\n",
      "Epoch 00049: loss improved from 0.26714 to 0.26399, saving model to /mnt/vdb/thesis/ProtCNN.V5.h5\n",
      "645/645 [==============================] - 128s 198ms/step - loss: 0.2640 - accuracy: 0.8928 - val_loss: 0.2622 - val_accuracy: 0.9028\n",
      " Learning rate:  0.0001\n",
      "Epoch 50/100\n",
      "644/645 [============================>.] - ETA: 0s - loss: 0.2606 - accuracy: 0.8951\n",
      "Epoch 00050: loss improved from 0.26399 to 0.26059, saving model to /mnt/vdb/thesis/ProtCNN.V5.h5\n",
      "645/645 [==============================] - 128s 198ms/step - loss: 0.2606 - accuracy: 0.8951 - val_loss: 0.2631 - val_accuracy: 0.9021\n",
      " Learning rate:  0.0001\n",
      "Epoch 51/100\n",
      "644/645 [============================>.] - ETA: 0s - loss: 0.2538 - accuracy: 0.8987\n",
      "Epoch 00051: loss improved from 0.26059 to 0.25378, saving model to /mnt/vdb/thesis/ProtCNN.V5.h5\n",
      "645/645 [==============================] - 129s 200ms/step - loss: 0.2538 - accuracy: 0.8987 - val_loss: 0.2575 - val_accuracy: 0.9067\n",
      " Learning rate:  3e-06\n",
      "Epoch 52/100\n",
      "644/645 [============================>.] - ETA: 0s - loss: 0.2426 - accuracy: 0.9036\n",
      "Epoch 00052: loss improved from 0.25378 to 0.24263, saving model to /mnt/vdb/thesis/ProtCNN.V5.h5\n",
      "645/645 [==============================] - 128s 198ms/step - loss: 0.2426 - accuracy: 0.9036 - val_loss: 0.2579 - val_accuracy: 0.9063\n",
      " Learning rate:  3e-06\n",
      "Epoch 53/100\n",
      "644/645 [============================>.] - ETA: 0s - loss: 0.2408 - accuracy: 0.9049\n",
      "Epoch 00053: loss improved from 0.24263 to 0.24075, saving model to /mnt/vdb/thesis/ProtCNN.V5.h5\n",
      "645/645 [==============================] - 128s 199ms/step - loss: 0.2408 - accuracy: 0.9049 - val_loss: 0.2538 - val_accuracy: 0.9072\n",
      " Learning rate:  3e-06\n",
      "Epoch 54/100\n",
      "644/645 [============================>.] - ETA: 0s - loss: 0.2387 - accuracy: 0.9054\n",
      "Epoch 00054: loss improved from 0.24075 to 0.23866, saving model to /mnt/vdb/thesis/ProtCNN.V5.h5\n",
      "645/645 [==============================] - 128s 199ms/step - loss: 0.2387 - accuracy: 0.9054 - val_loss: 0.2535 - val_accuracy: 0.9069\n",
      " Learning rate:  3e-06\n",
      "Epoch 55/100\n",
      "644/645 [============================>.] - ETA: 0s - loss: 0.2380 - accuracy: 0.9059\n",
      "Epoch 00055: loss improved from 0.23866 to 0.23799, saving model to /mnt/vdb/thesis/ProtCNN.V5.h5\n",
      "645/645 [==============================] - 128s 199ms/step - loss: 0.2380 - accuracy: 0.9059 - val_loss: 0.2521 - val_accuracy: 0.9066\n",
      " Learning rate:  3e-06\n",
      "Epoch 56/100\n",
      "644/645 [============================>.] - ETA: 0s - loss: 0.2390 - accuracy: 0.9059\n",
      "Epoch 00056: loss did not improve from 0.23799\n",
      "645/645 [==============================] - 121s 187ms/step - loss: 0.2390 - accuracy: 0.9059 - val_loss: 0.2527 - val_accuracy: 0.9063\n",
      " Learning rate:  3e-06\n",
      "Epoch 57/100\n",
      "644/645 [============================>.] - ETA: 0s - loss: 0.2359 - accuracy: 0.9070\n",
      "Epoch 00057: loss improved from 0.23799 to 0.23589, saving model to /mnt/vdb/thesis/ProtCNN.V5.h5\n",
      "645/645 [==============================] - 129s 199ms/step - loss: 0.2359 - accuracy: 0.9070 - val_loss: 0.2499 - val_accuracy: 0.9075\n",
      " Learning rate:  3e-06\n",
      "Epoch 58/100\n",
      "644/645 [============================>.] - ETA: 0s - loss: 0.2365 - accuracy: 0.9062\n",
      "Epoch 00058: loss did not improve from 0.23589\n",
      "645/645 [==============================] - 121s 187ms/step - loss: 0.2365 - accuracy: 0.9062 - val_loss: 0.2508 - val_accuracy: 0.9074\n",
      " Learning rate:  3e-06\n",
      "Epoch 59/100\n",
      "644/645 [============================>.] - ETA: 0s - loss: 0.2354 - accuracy: 0.9065\n",
      "Epoch 00059: loss improved from 0.23589 to 0.23542, saving model to /mnt/vdb/thesis/ProtCNN.V5.h5\n",
      "645/645 [==============================] - 128s 198ms/step - loss: 0.2354 - accuracy: 0.9065 - val_loss: 0.2508 - val_accuracy: 0.9073\n",
      " Learning rate:  3e-06\n",
      "Epoch 60/100\n",
      "644/645 [============================>.] - ETA: 0s - loss: 0.2347 - accuracy: 0.9079\n",
      "Epoch 00060: loss improved from 0.23542 to 0.23467, saving model to /mnt/vdb/thesis/ProtCNN.V5.h5\n",
      "645/645 [==============================] - 129s 200ms/step - loss: 0.2347 - accuracy: 0.9079 - val_loss: 0.2478 - val_accuracy: 0.9077\n",
      " Learning rate:  3e-06\n",
      "Epoch 61/100\n",
      "644/645 [============================>.] - ETA: 0s - loss: 0.2341 - accuracy: 0.9074\n",
      "Epoch 00061: loss improved from 0.23467 to 0.23413, saving model to /mnt/vdb/thesis/ProtCNN.V5.h5\n",
      "645/645 [==============================] - 128s 199ms/step - loss: 0.2341 - accuracy: 0.9074 - val_loss: 0.2489 - val_accuracy: 0.9069\n",
      " Learning rate:  3e-06\n",
      "Epoch 62/100\n",
      "644/645 [============================>.] - ETA: 0s - loss: 0.2335 - accuracy: 0.9075\n",
      "Epoch 00062: loss improved from 0.23413 to 0.23352, saving model to /mnt/vdb/thesis/ProtCNN.V5.h5\n",
      "645/645 [==============================] - 128s 198ms/step - loss: 0.2335 - accuracy: 0.9075 - val_loss: 0.2511 - val_accuracy: 0.9066\n",
      " Learning rate:  3e-06\n",
      "Epoch 63/100\n",
      "644/645 [============================>.] - ETA: 0s - loss: 0.2306 - accuracy: 0.9101\n",
      "Epoch 00063: loss improved from 0.23352 to 0.23058, saving model to /mnt/vdb/thesis/ProtCNN.V5.h5\n",
      "645/645 [==============================] - 128s 198ms/step - loss: 0.2306 - accuracy: 0.9101 - val_loss: 0.2489 - val_accuracy: 0.9070\n",
      " Learning rate:  3e-06\n",
      "Epoch 64/100\n",
      "644/645 [============================>.] - ETA: 0s - loss: 0.2324 - accuracy: 0.9079\n",
      "Epoch 00064: loss did not improve from 0.23058\n",
      "645/645 [==============================] - 121s 187ms/step - loss: 0.2324 - accuracy: 0.9079 - val_loss: 0.2495 - val_accuracy: 0.9069\n",
      " Learning rate:  3e-06\n",
      "Epoch 65/100\n",
      "644/645 [============================>.] - ETA: 0s - loss: 0.2331 - accuracy: 0.9083\n",
      "Epoch 00065: loss did not improve from 0.23058\n",
      "645/645 [==============================] - 121s 187ms/step - loss: 0.2331 - accuracy: 0.9083 - val_loss: 0.2492 - val_accuracy: 0.9069\n",
      " Learning rate:  3e-06\n",
      "Epoch 66/100\n",
      "644/645 [============================>.] - ETA: 0s - loss: 0.2300 - accuracy: 0.9088\n",
      "Epoch 00066: loss improved from 0.23058 to 0.22997, saving model to /mnt/vdb/thesis/ProtCNN.V5.h5\n",
      "645/645 [==============================] - 128s 199ms/step - loss: 0.2300 - accuracy: 0.9088 - val_loss: 0.2494 - val_accuracy: 0.9068\n",
      " Learning rate:  3e-06\n",
      "Epoch 67/100\n",
      "644/645 [============================>.] - ETA: 0s - loss: 0.2307 - accuracy: 0.9087\n",
      "Epoch 00067: loss did not improve from 0.22997\n",
      "645/645 [==============================] - 121s 187ms/step - loss: 0.2307 - accuracy: 0.9087 - val_loss: 0.2487 - val_accuracy: 0.9069\n",
      " Learning rate:  3e-06\n",
      "Epoch 68/100\n",
      "644/645 [============================>.] - ETA: 0s - loss: 0.2310 - accuracy: 0.9094\n",
      "Epoch 00068: loss did not improve from 0.22997\n",
      "645/645 [==============================] - 121s 187ms/step - loss: 0.2310 - accuracy: 0.9094 - val_loss: 0.2457 - val_accuracy: 0.9082\n",
      " Learning rate:  3e-06\n",
      "Epoch 69/100\n",
      "644/645 [============================>.] - ETA: 0s - loss: 0.2298 - accuracy: 0.9100\n",
      "Epoch 00069: loss improved from 0.22997 to 0.22982, saving model to /mnt/vdb/thesis/ProtCNN.V5.h5\n",
      "645/645 [==============================] - 130s 202ms/step - loss: 0.2298 - accuracy: 0.9100 - val_loss: 0.2474 - val_accuracy: 0.9076\n",
      " Learning rate:  3e-06\n",
      "Epoch 70/100\n",
      "644/645 [============================>.] - ETA: 0s - loss: 0.2288 - accuracy: 0.9102\n",
      "Epoch 00070: loss improved from 0.22982 to 0.22879, saving model to /mnt/vdb/thesis/ProtCNN.V5.h5\n",
      "645/645 [==============================] - 128s 198ms/step - loss: 0.2288 - accuracy: 0.9102 - val_loss: 0.2471 - val_accuracy: 0.9080\n",
      " Learning rate:  3e-06\n",
      "Epoch 71/100\n",
      "644/645 [============================>.] - ETA: 0s - loss: 0.2283 - accuracy: 0.9111\n",
      "Epoch 00071: loss improved from 0.22879 to 0.22834, saving model to /mnt/vdb/thesis/ProtCNN.V5.h5\n",
      "645/645 [==============================] - 128s 198ms/step - loss: 0.2283 - accuracy: 0.9111 - val_loss: 0.2494 - val_accuracy: 0.9070\n",
      " Learning rate:  3e-06\n",
      "Epoch 72/100\n",
      "644/645 [============================>.] - ETA: 0s - loss: 0.2290 - accuracy: 0.9106\n",
      "Epoch 00072: loss did not improve from 0.22834\n",
      "645/645 [==============================] - 121s 187ms/step - loss: 0.2291 - accuracy: 0.9106 - val_loss: 0.2467 - val_accuracy: 0.9077\n",
      " Learning rate:  3e-06\n",
      "Epoch 73/100\n",
      "644/645 [============================>.] - ETA: 0s - loss: 0.2285 - accuracy: 0.9106\n",
      "Epoch 00073: loss did not improve from 0.22834\n",
      "645/645 [==============================] - 121s 187ms/step - loss: 0.2285 - accuracy: 0.9106 - val_loss: 0.2472 - val_accuracy: 0.9078\n",
      " Learning rate:  3e-06\n",
      "Epoch 74/100\n",
      "644/645 [============================>.] - ETA: 0s - loss: 0.2275 - accuracy: 0.9103\n",
      "Epoch 00074: loss improved from 0.22834 to 0.22754, saving model to /mnt/vdb/thesis/ProtCNN.V5.h5\n",
      "645/645 [==============================] - 128s 199ms/step - loss: 0.2275 - accuracy: 0.9103 - val_loss: 0.2455 - val_accuracy: 0.9082\n",
      " Learning rate:  3e-06\n",
      "Epoch 75/100\n",
      "644/645 [============================>.] - ETA: 0s - loss: 0.2266 - accuracy: 0.9112\n",
      "Epoch 00075: loss improved from 0.22754 to 0.22661, saving model to /mnt/vdb/thesis/ProtCNN.V5.h5\n",
      "645/645 [==============================] - 128s 199ms/step - loss: 0.2266 - accuracy: 0.9112 - val_loss: 0.2480 - val_accuracy: 0.9080\n",
      " Learning rate:  3e-06\n",
      "Epoch 76/100\n",
      "644/645 [============================>.] - ETA: 0s - loss: 0.2276 - accuracy: 0.9103\n",
      "Epoch 00076: loss did not improve from 0.22661\n",
      "645/645 [==============================] - 121s 187ms/step - loss: 0.2276 - accuracy: 0.9103 - val_loss: 0.2465 - val_accuracy: 0.9082\n",
      " Learning rate:  3e-06\n",
      "Epoch 77/100\n",
      "644/645 [============================>.] - ETA: 0s - loss: 0.2260 - accuracy: 0.9118\n",
      "Epoch 00077: loss improved from 0.22661 to 0.22597, saving model to /mnt/vdb/thesis/ProtCNN.V5.h5\n",
      "645/645 [==============================] - 130s 201ms/step - loss: 0.2260 - accuracy: 0.9118 - val_loss: 0.2449 - val_accuracy: 0.9079\n",
      " Learning rate:  3e-06\n",
      "Epoch 78/100\n",
      "644/645 [============================>.] - ETA: 0s - loss: 0.2281 - accuracy: 0.9106\n",
      "Epoch 00078: loss did not improve from 0.22597\n",
      "645/645 [==============================] - 121s 187ms/step - loss: 0.2281 - accuracy: 0.9106 - val_loss: 0.2488 - val_accuracy: 0.9076\n",
      " Learning rate:  3e-06\n",
      "Epoch 79/100\n",
      "644/645 [============================>.] - ETA: 0s - loss: 0.2263 - accuracy: 0.9110\n",
      "Epoch 00079: loss did not improve from 0.22597\n",
      "645/645 [==============================] - 121s 187ms/step - loss: 0.2263 - accuracy: 0.9110 - val_loss: 0.2458 - val_accuracy: 0.9089\n",
      " Learning rate:  3e-06\n",
      "Epoch 80/100\n",
      "644/645 [============================>.] - ETA: 0s - loss: 0.2239 - accuracy: 0.9115\n",
      "Epoch 00080: loss improved from 0.22597 to 0.22393, saving model to /mnt/vdb/thesis/ProtCNN.V5.h5\n",
      "645/645 [==============================] - 128s 199ms/step - loss: 0.2239 - accuracy: 0.9115 - val_loss: 0.2465 - val_accuracy: 0.9079\n",
      " Learning rate:  3e-06\n",
      "Epoch 81/100\n",
      "644/645 [============================>.] - ETA: 0s - loss: 0.2278 - accuracy: 0.9112\n",
      "Epoch 00081: loss did not improve from 0.22393\n",
      "645/645 [==============================] - 121s 187ms/step - loss: 0.2277 - accuracy: 0.9112 - val_loss: 0.2464 - val_accuracy: 0.9080\n",
      " Learning rate:  1e-07\n",
      "Epoch 82/100\n",
      "644/645 [============================>.] - ETA: 0s - loss: 0.2242 - accuracy: 0.9126\n",
      "Epoch 00082: loss did not improve from 0.22393\n",
      "645/645 [==============================] - 121s 187ms/step - loss: 0.2242 - accuracy: 0.9126 - val_loss: 0.2462 - val_accuracy: 0.9081\n",
      " Learning rate:  1e-07\n",
      "Epoch 83/100\n",
      "644/645 [============================>.] - ETA: 0s - loss: 0.2243 - accuracy: 0.9130\n",
      "Epoch 00083: loss did not improve from 0.22393\n",
      "645/645 [==============================] - 121s 187ms/step - loss: 0.2243 - accuracy: 0.9130 - val_loss: 0.2464 - val_accuracy: 0.9077\n",
      " Learning rate:  1e-07\n",
      "Epoch 84/100\n",
      "644/645 [============================>.] - ETA: 0s - loss: 0.2263 - accuracy: 0.9108\n",
      "Epoch 00084: loss did not improve from 0.22393\n",
      "645/645 [==============================] - 121s 187ms/step - loss: 0.2263 - accuracy: 0.9108 - val_loss: 0.2460 - val_accuracy: 0.9081\n",
      " Learning rate:  1e-07\n",
      "Epoch 85/100\n",
      "644/645 [============================>.] - ETA: 0s - loss: 0.2272 - accuracy: 0.9116\n",
      "Epoch 00085: loss did not improve from 0.22393\n",
      "645/645 [==============================] - 121s 187ms/step - loss: 0.2272 - accuracy: 0.9116 - val_loss: 0.2464 - val_accuracy: 0.9080\n",
      " Learning rate:  1e-07\n",
      "Epoch 86/100\n",
      "644/645 [============================>.] - ETA: 0s - loss: 0.2262 - accuracy: 0.9111\n",
      "Epoch 00086: loss did not improve from 0.22393\n",
      "645/645 [==============================] - 121s 187ms/step - loss: 0.2262 - accuracy: 0.9111 - val_loss: 0.2463 - val_accuracy: 0.9081\n",
      " Learning rate:  1e-07\n",
      "Epoch 87/100\n",
      "644/645 [============================>.] - ETA: 0s - loss: 0.2247 - accuracy: 0.9120\n",
      "Epoch 00087: loss did not improve from 0.22393\n",
      "645/645 [==============================] - 121s 187ms/step - loss: 0.2247 - accuracy: 0.9120 - val_loss: 0.2464 - val_accuracy: 0.9079\n",
      " Learning rate:  1e-07\n",
      "Epoch 88/100\n",
      "644/645 [============================>.] - ETA: 0s - loss: 0.2248 - accuracy: 0.9114\n",
      "Epoch 00088: loss did not improve from 0.22393\n",
      "645/645 [==============================] - 121s 187ms/step - loss: 0.2248 - accuracy: 0.9114 - val_loss: 0.2465 - val_accuracy: 0.9078\n",
      " Learning rate:  1e-07\n",
      "Epoch 89/100\n",
      "644/645 [============================>.] - ETA: 0s - loss: 0.2240 - accuracy: 0.9117\n",
      "Epoch 00089: loss did not improve from 0.22393\n",
      "645/645 [==============================] - 121s 187ms/step - loss: 0.2240 - accuracy: 0.9117 - val_loss: 0.2463 - val_accuracy: 0.9083\n",
      " Learning rate:  1e-07\n",
      "Epoch 90/100\n",
      "644/645 [============================>.] - ETA: 0s - loss: 0.2269 - accuracy: 0.9108\n",
      "Epoch 00090: loss did not improve from 0.22393\n",
      "645/645 [==============================] - 120s 187ms/step - loss: 0.2269 - accuracy: 0.9108 - val_loss: 0.2462 - val_accuracy: 0.9081\n",
      " Learning rate:  1e-07\n",
      "Epoch 91/100\n",
      "644/645 [============================>.] - ETA: 0s - loss: 0.2269 - accuracy: 0.9111\n",
      "Epoch 00091: loss did not improve from 0.22393\n",
      "645/645 [==============================] - 121s 187ms/step - loss: 0.2269 - accuracy: 0.9111 - val_loss: 0.2462 - val_accuracy: 0.9080\n",
      " Learning rate:  1e-07\n",
      "Epoch 92/100\n",
      "644/645 [============================>.] - ETA: 0s - loss: 0.2253 - accuracy: 0.9110\n",
      "Epoch 00092: loss did not improve from 0.22393\n",
      "645/645 [==============================] - 121s 187ms/step - loss: 0.2253 - accuracy: 0.9110 - val_loss: 0.2462 - val_accuracy: 0.9084\n",
      " Learning rate:  1e-07\n",
      "Epoch 93/100\n",
      "644/645 [============================>.] - ETA: 0s - loss: 0.2238 - accuracy: 0.9120\n",
      "Epoch 00093: loss improved from 0.22393 to 0.22385, saving model to /mnt/vdb/thesis/ProtCNN.V5.h5\n",
      "645/645 [==============================] - 130s 201ms/step - loss: 0.2239 - accuracy: 0.9120 - val_loss: 0.2460 - val_accuracy: 0.9084\n",
      " Learning rate:  1e-07\n",
      "Epoch 94/100\n",
      "644/645 [============================>.] - ETA: 0s - loss: 0.2259 - accuracy: 0.9116\n",
      "Epoch 00094: loss did not improve from 0.22385\n",
      "645/645 [==============================] - 121s 187ms/step - loss: 0.2259 - accuracy: 0.9116 - val_loss: 0.2460 - val_accuracy: 0.9083\n",
      " Learning rate:  1e-07\n",
      "Epoch 95/100\n",
      "644/645 [============================>.] - ETA: 0s - loss: 0.2252 - accuracy: 0.9123\n",
      "Epoch 00095: loss did not improve from 0.22385\n",
      "645/645 [==============================] - 121s 187ms/step - loss: 0.2252 - accuracy: 0.9123 - val_loss: 0.2464 - val_accuracy: 0.9081\n",
      " Learning rate:  1e-07\n",
      "Epoch 96/100\n",
      "644/645 [============================>.] - ETA: 0s - loss: 0.2245 - accuracy: 0.9122\n",
      "Epoch 00096: loss did not improve from 0.22385\n",
      "645/645 [==============================] - 121s 187ms/step - loss: 0.2245 - accuracy: 0.9122 - val_loss: 0.2462 - val_accuracy: 0.9084\n",
      " Learning rate:  1e-07\n",
      "Epoch 97/100\n",
      "644/645 [============================>.] - ETA: 0s - loss: 0.2253 - accuracy: 0.9111\n",
      "Epoch 00097: loss did not improve from 0.22385\n",
      "645/645 [==============================] - 121s 187ms/step - loss: 0.2253 - accuracy: 0.9111 - val_loss: 0.2462 - val_accuracy: 0.9084\n",
      "Epoch 00097: early stopping\n"
     ]
    }
   ],
   "source": [
    "# Early Stopping\n",
    "es = EarlyStopping(monitor='val_loss', patience=20, verbose=1)\n",
    "# val_loss\n",
    "# ProtCNN_256X2_NN1221X4.V2.h5\n",
    "checkpoint = ModelCheckpoint(\"/mnt/vdb/thesis/ProtCNN.V5.h5\", monitor='loss', verbose=1,\n",
    "    save_best_only=True, mode='auto', period=1)\n",
    "\n",
    "# val_accuracy\n",
    "\n",
    "lr_scheduler = LearningRateScheduler(lr_schedule)\n",
    "\n",
    "history2 = model_ProtCNN.fit(\n",
    "    X_train, y_train,\n",
    "    epochs=100, batch_size=128,\n",
    "    validation_data=(X_val, y_val),\n",
    "    callbacks=[checkpoint, es,lr_scheduler]\n",
    "    )\n"
   ]
  },
  {
   "cell_type": "code",
   "execution_count": 11,
   "metadata": {},
   "outputs": [
    {
     "data": {
      "image/png": "[encoded data removed]",
      "text/plain": [
       "<Figure size 864x360 with 2 Axes>"
      ]
     },
     "metadata": {
      "needs_background": "light"
     },
     "output_type": "display_data"
    }
   ],
   "source": [
    "plot_history(history2)"
   ]
  },
  {
   "cell_type": "code",
   "execution_count": 13,
   "metadata": {},
   "outputs": [],
   "source": [
    "model_ProtCNN.save(\"/mnt/vdb/thesis/ProtCNN.V5.h5\")\n",
    "#model_ProtCNN= keras.models.load_model(\"/mnt/vdb/ProtCNN.hdf5\")"
   ]
  },
  {
   "cell_type": "code",
   "execution_count": 12,
   "metadata": {},
   "outputs": [
    {
     "name": "stdout",
     "output_type": "stream",
     "text": [
      "              precision    recall  f1-score   support\n",
      "\n",
      "           0       0.89      0.93      0.91     13856\n",
      "           1       0.92      0.88      0.90     13622\n",
      "\n",
      "    accuracy                           0.90     27478\n",
      "   macro avg       0.91      0.90      0.90     27478\n",
      "weighted avg       0.91      0.90      0.90     27478\n",
      "\n"
     ]
    }
   ],
   "source": [
    "y_probas = model_ProtCNN.predict(X_test)\n",
    "threshold = 0.5\n",
    "y_predict = np.where(y_probas > threshold, 1, 0)\n",
    "print(classification_report(y_test, y_predict))"
   ]
  },
  {
   "cell_type": "code",
   "execution_count": null,
   "metadata": {},
   "outputs": [],
   "source": []
  },
  {
   "cell_type": "code",
   "execution_count": 19,
   "metadata": {
    "id": "kZO0R1iHSm4T"
   },
   "outputs": [
    {
     "name": "stdout",
     "output_type": "stream",
     "text": [
      "              precision    recall  f1-score   support\n",
      "\n",
      "           0       0.95      0.94      0.95     25564\n",
      "           1       0.94      0.95      0.95     25244\n",
      "\n",
      "    accuracy                           0.95     50808\n",
      "   macro avg       0.95      0.95      0.95     50808\n",
      "weighted avg       0.95      0.95      0.95     50808\n",
      "\n"
     ]
    }
   ],
   "source": [
    "y_probas = model_ProtCNN.predict(X_test)\n",
    "threshold = 0.5\n",
    "y_predict = np.where(y_probas > threshold, 1, 0)\n",
    "print(classification_report(y_test, y_predict))"
   ]
  },
  {
   "cell_type": "code",
   "execution_count": 20,
   "metadata": {
    "id": "pMIGguFR4EHD"
   },
   "outputs": [
    {
     "data": {
      "image/png": "[encoded data removed]",
      "text/plain": [
       "<Figure size 864x360 with 2 Axes>"
      ]
     },
     "metadata": {
      "needs_background": "light"
     },
     "output_type": "display_data"
    }
   ],
   "source": [
    "plot_history(history2)"
   ]
  },
  {
   "cell_type": "code",
   "execution_count": 3,
   "metadata": {
    "id": "_3iiV1sM4D6d"
   },
   "outputs": [
    {
     "ename": "NameError",
     "evalue": "name 'model_ProtCNN' is not defined",
     "output_type": "error",
     "traceback": [
      "\u001b[0;31m---------------------------------------------------------------------------\u001b[0m",
      "\u001b[0;31mNameError\u001b[0m                                 Traceback (most recent call last)",
      "\u001b[0;32m<ipython-input-3-6ffcb3a07e10>\u001b[0m in \u001b[0;36m<module>\u001b[0;34m\u001b[0m\n\u001b[0;32m----> 1\u001b[0;31m display_model_score(model_ProtCNN,\n\u001b[0m\u001b[1;32m      2\u001b[0m     \u001b[0;34m[\u001b[0m\u001b[0mX_train\u001b[0m\u001b[0;34m,\u001b[0m \u001b[0my_train\u001b[0m\u001b[0;34m]\u001b[0m\u001b[0;34m,\u001b[0m\u001b[0;34m\u001b[0m\u001b[0;34m\u001b[0m\u001b[0m\n\u001b[1;32m      3\u001b[0m     \u001b[0;34m[\u001b[0m\u001b[0mX_val\u001b[0m\u001b[0;34m,\u001b[0m \u001b[0my_val\u001b[0m\u001b[0;34m]\u001b[0m\u001b[0;34m,\u001b[0m\u001b[0;34m\u001b[0m\u001b[0;34m\u001b[0m\u001b[0m\n\u001b[1;32m      4\u001b[0m     [X_test, y_test])\n",
      "\u001b[0;31mNameError\u001b[0m: name 'model_ProtCNN' is not defined"
     ]
    }
   ],
   "source": [
    "display_model_score(model_ProtCNN,\n",
    "    [X_train, y_train],\n",
    "    [X_val, y_val],\n",
    "    [X_test, y_test])"
   ]
  },
  {
   "cell_type": "markdown",
   "metadata": {},
   "source": [
    "# with PWM"
   ]
  },
  {
   "cell_type": "code",
   "execution_count": null,
   "metadata": {},
   "outputs": [],
   "source": [
    "# 2D\n"
   ]
  },
  {
   "cell_type": "code",
   "execution_count": null,
   "metadata": {},
   "outputs": [],
   "source": []
  },
  {
   "cell_type": "code",
   "execution_count": 9,
   "metadata": {},
   "outputs": [
    {
     "name": "stdout",
     "output_type": "stream",
     "text": [
      "Model: \"functional_1\"\n",
      "__________________________________________________________________________________________________\n",
      "Layer (type)                    Output Shape         Param #     Connected to                     \n",
      "==================================================================================================\n",
      "input_3 (InputLayer)            [(None, 400, 1)]     0                                            \n",
      "__________________________________________________________________________________________________\n",
      "conv1d_2 (Conv1D)               (None, 400, 128)     256         input_3[0][0]                    \n",
      "__________________________________________________________________________________________________\n",
      "batch_normalization (BatchNorma (None, 400, 128)     512         conv1d_2[0][0]                   \n",
      "__________________________________________________________________________________________________\n",
      "activation (Activation)         (None, 400, 128)     0           batch_normalization[0][0]        \n",
      "__________________________________________________________________________________________________\n",
      "conv1d_3 (Conv1D)               (None, 400, 128)     16512       activation[0][0]                 \n",
      "__________________________________________________________________________________________________\n",
      "batch_normalization_1 (BatchNor (None, 400, 128)     512         conv1d_3[0][0]                   \n",
      "__________________________________________________________________________________________________\n",
      "activation_1 (Activation)       (None, 400, 128)     0           batch_normalization_1[0][0]      \n",
      "__________________________________________________________________________________________________\n",
      "conv1d_4 (Conv1D)               (None, 400, 128)     49280       activation_1[0][0]               \n",
      "__________________________________________________________________________________________________\n",
      "add (Add)                       (None, 400, 128)     0           conv1d_4[0][0]                   \n",
      "                                                                 conv1d_2[0][0]                   \n",
      "__________________________________________________________________________________________________\n",
      "batch_normalization_2 (BatchNor (None, 400, 128)     512         add[0][0]                        \n",
      "__________________________________________________________________________________________________\n",
      "activation_2 (Activation)       (None, 400, 128)     0           batch_normalization_2[0][0]      \n",
      "__________________________________________________________________________________________________\n",
      "conv1d_5 (Conv1D)               (None, 400, 128)     16512       activation_2[0][0]               \n",
      "__________________________________________________________________________________________________\n",
      "batch_normalization_3 (BatchNor (None, 400, 128)     512         conv1d_5[0][0]                   \n",
      "__________________________________________________________________________________________________\n",
      "activation_3 (Activation)       (None, 400, 128)     0           batch_normalization_3[0][0]      \n",
      "__________________________________________________________________________________________________\n",
      "conv1d_6 (Conv1D)               (None, 400, 128)     49280       activation_3[0][0]               \n",
      "__________________________________________________________________________________________________\n",
      "add_1 (Add)                     (None, 400, 128)     0           conv1d_6[0][0]                   \n",
      "                                                                 add[0][0]                        \n",
      "__________________________________________________________________________________________________\n",
      "max_pooling1d (MaxPooling1D)    (None, 133, 128)     0           add_1[0][0]                      \n",
      "__________________________________________________________________________________________________\n",
      "dropout (Dropout)               (None, 133, 128)     0           max_pooling1d[0][0]              \n",
      "__________________________________________________________________________________________________\n",
      "flatten (Flatten)               (None, 17024)        0           dropout[0][0]                    \n",
      "__________________________________________________________________________________________________\n",
      "dense (Dense)                   (None, 1211)         20617275    flatten[0][0]                    \n",
      "__________________________________________________________________________________________________\n",
      "dropout_1 (Dropout)             (None, 1211)         0           dense[0][0]                      \n",
      "__________________________________________________________________________________________________\n",
      "dense_1 (Dense)                 (None, 256)          310272      dropout_1[0][0]                  \n",
      "__________________________________________________________________________________________________\n",
      "dropout_2 (Dropout)             (None, 256)          0           dense_1[0][0]                    \n",
      "__________________________________________________________________________________________________\n",
      "dense_2 (Dense)                 (None, 1)            257         dropout_2[0][0]                  \n",
      "==================================================================================================\n",
      "Total params: 21,061,692\n",
      "Trainable params: 21,060,668\n",
      "Non-trainable params: 1,024\n",
      "__________________________________________________________________________________________________\n"
     ]
    }
   ],
   "source": [
    "x_input = Input(shape=(400,1))\n",
    "\n",
    "#initial conv\n",
    "conv = Conv1D(128, 1, padding='same')(x_input) \n",
    "\n",
    "# per-residue representation\n",
    "res1 = residual_block(conv, 128, 2)\n",
    "res2 = residual_block(res1, 128, 3)\n",
    "\n",
    "x = MaxPooling1D(3)(res2)\n",
    "x = Dropout(0.5)(x)\n",
    "\n",
    "# softmax classifier\n",
    "x = Flatten()(x)\n",
    "layer_4 = Dense(1211 , activation='relu')(x)\n",
    "layer_4 = Dropout(0.5)(layer_4)\n",
    "layer_4 = Dense(256 , activation='relu')(layer_4)\n",
    "layer_4 = Dropout(0.5)(layer_4)\n",
    "x_output = Dense(1, activation='sigmoid', kernel_regularizer=l2(0.0001))(layer_4)\n",
    "\n",
    "model_ProtCNN = Model(inputs=x_input, outputs=x_output)\n",
    "model_ProtCNN.compile(optimizer='adam', loss='categorical_crossentropy', metrics=['accuracy'])\n",
    "model_ProtCNN.summary()"
   ]
  },
  {
   "cell_type": "code",
   "execution_count": 10,
   "metadata": {
    "id": "Gh0Zvl9j4E38"
   },
   "outputs": [
    {
     "name": "stdout",
     "output_type": "stream",
     "text": [
      "WARNING:tensorflow:`period` argument is deprecated. Please use `save_freq` to specify the frequency in number of batches seen.\n",
      " Learning rate:  0.001\n",
      "Epoch 1/100\n",
      "406/406 [==============================] - 9s 21ms/step - loss: 0.0438 - accuracy: 0.4995 - val_loss: 2.8720e-07 - val_accuracy: 0.5023\n",
      " Learning rate:  0.001\n",
      "Epoch 2/100\n",
      "406/406 [==============================] - 8s 20ms/step - loss: 7.0659e-08 - accuracy: 0.4990 - val_loss: 5.9874e-08 - val_accuracy: 0.4977\n",
      " Learning rate:  0.001\n",
      "Epoch 3/100\n",
      "406/406 [==============================] - 8s 20ms/step - loss: 5.9716e-08 - accuracy: 0.4991 - val_loss: 5.9874e-08 - val_accuracy: 0.4977\n",
      " Learning rate:  0.001\n",
      "Epoch 4/100\n",
      "406/406 [==============================] - 8s 20ms/step - loss: 5.9716e-08 - accuracy: 0.4991 - val_loss: 5.9874e-08 - val_accuracy: 0.4977\n",
      " Learning rate:  0.001\n",
      "Epoch 5/100\n",
      "406/406 [==============================] - 8s 20ms/step - loss: 5.9716e-08 - accuracy: 0.4991 - val_loss: 5.9874e-08 - val_accuracy: 0.4977\n",
      " Learning rate:  0.001\n",
      "Epoch 6/100\n",
      "406/406 [==============================] - 8s 20ms/step - loss: 5.9716e-08 - accuracy: 0.4991 - val_loss: 5.9874e-08 - val_accuracy: 0.4977\n",
      " Learning rate:  0.001\n",
      "Epoch 7/100\n",
      "406/406 [==============================] - 8s 20ms/step - loss: 5.9716e-08 - accuracy: 0.4991 - val_loss: 5.9874e-08 - val_accuracy: 0.4977\n",
      " Learning rate:  0.001\n",
      "Epoch 8/100\n",
      "406/406 [==============================] - 8s 20ms/step - loss: 5.9716e-08 - accuracy: 0.4991 - val_loss: 5.9874e-08 - val_accuracy: 0.4977\n",
      " Learning rate:  0.001\n",
      "Epoch 9/100\n",
      "406/406 [==============================] - 8s 20ms/step - loss: 5.9716e-08 - accuracy: 0.4991 - val_loss: 5.9874e-08 - val_accuracy: 0.4977\n",
      " Learning rate:  0.001\n",
      "Epoch 10/100\n",
      "406/406 [==============================] - 8s 20ms/step - loss: 5.9716e-08 - accuracy: 0.4991 - val_loss: 5.9874e-08 - val_accuracy: 0.4977\n",
      " Learning rate:  0.001\n",
      "Epoch 11/100\n",
      "406/406 [==============================] - 8s 20ms/step - loss: 5.9716e-08 - accuracy: 0.4991 - val_loss: 5.9874e-08 - val_accuracy: 0.4977\n",
      " Learning rate:  0.001\n",
      "Epoch 12/100\n",
      "406/406 [==============================] - 8s 20ms/step - loss: 5.9716e-08 - accuracy: 0.4991 - val_loss: 5.9874e-08 - val_accuracy: 0.4977\n",
      "Epoch 00012: early stopping\n"
     ]
    }
   ],
   "source": [
    "# Early Stopping\n",
    "es = EarlyStopping(monitor='val_loss', patience=10, verbose=1)\n",
    "# val_loss\n",
    "# ProtCNN_256X2_NN1221X4.V2.h5\n",
    "checkpoint = ModelCheckpoint(\"/mnt/vdb/thesis/ProtCNN.V5.h5\", monitor='loss', verbose=1,\n",
    "    save_best_only=True, mode='auto', period=1)\n",
    "\n",
    "# val_accuracy\n",
    "\n",
    "lr_scheduler = LearningRateScheduler(lr_schedule)\n",
    "\n",
    "history2 = model_ProtCNN.fit(\n",
    "    X_train, y_train,\n",
    "    epochs=100, batch_size=128,\n",
    "    validation_data=(X_val, y_val),\n",
    "    callbacks=[ es,lr_scheduler]\n",
    "    )"
   ]
  },
  {
   "cell_type": "code",
   "execution_count": 11,
   "metadata": {},
   "outputs": [
    {
     "name": "stdout",
     "output_type": "stream",
     "text": [
      "              precision    recall  f1-score   support\n",
      "\n",
      "           0       0.50      1.00      0.67      8726\n",
      "           1       0.00      0.00      0.00      8566\n",
      "\n",
      "    accuracy                           0.50     17292\n",
      "   macro avg       0.25      0.50      0.34     17292\n",
      "weighted avg       0.25      0.50      0.34     17292\n",
      "\n"
     ]
    },
    {
     "name": "stderr",
     "output_type": "stream",
     "text": [
      "/home/ubuntu/miniconda3/envs/py3/lib/python3.7/site-packages/sklearn/metrics/_classification.py:1245: UndefinedMetricWarning: Precision and F-score are ill-defined and being set to 0.0 in labels with no predicted samples. Use `zero_division` parameter to control this behavior.\n",
      "  _warn_prf(average, modifier, msg_start, len(result))\n",
      "/home/ubuntu/miniconda3/envs/py3/lib/python3.7/site-packages/sklearn/metrics/_classification.py:1245: UndefinedMetricWarning: Precision and F-score are ill-defined and being set to 0.0 in labels with no predicted samples. Use `zero_division` parameter to control this behavior.\n",
      "  _warn_prf(average, modifier, msg_start, len(result))\n",
      "/home/ubuntu/miniconda3/envs/py3/lib/python3.7/site-packages/sklearn/metrics/_classification.py:1245: UndefinedMetricWarning: Precision and F-score are ill-defined and being set to 0.0 in labels with no predicted samples. Use `zero_division` parameter to control this behavior.\n",
      "  _warn_prf(average, modifier, msg_start, len(result))\n"
     ]
    }
   ],
   "source": [
    "y_probas = model_ProtCNN.predict(X_test)\n",
    "threshold = 0.5\n",
    "y_predict = np.where(y_probas > threshold, 1, 0)\n",
    "print(classification_report(y_test, y_predict))"
   ]
  },
  {
   "cell_type": "code",
   "execution_count": 12,
   "metadata": {},
   "outputs": [
    {
     "name": "stdout",
     "output_type": "stream",
     "text": [
      "1622/1622 [==============================] - 4s 3ms/step - loss: 5.9716e-08 - accuracy: 0.4991\n",
      "Train loss:  5.971610761434931e-08\n",
      "Train accuracy:  0.49906501173973083\n",
      "----------------------------------------------------------------------\n",
      "541/541 [==============================] - 1s 3ms/step - loss: 5.9874e-08 - accuracy: 0.4977\n",
      "Val loss:  5.987351414660225e-08\n",
      "Val accuracy:  0.497744619846344\n",
      "----------------------------------------------------------------------\n",
      "541/541 [==============================] - 1s 3ms/step - loss: 5.9053e-08 - accuracy: 0.5046\n",
      "Test loss:  5.905313926746203e-08\n",
      "Test accuracy:  0.5046263933181763\n"
     ]
    }
   ],
   "source": [
    "display_model_score(model_ProtCNN,\n",
    "    [X_train, y_train],\n",
    "    [X_val, y_val],\n",
    "    [X_test, y_test])"
   ]
  },
  {
   "cell_type": "code",
   "execution_count": null,
   "metadata": {},
   "outputs": [],
   "source": [
    "plot_history(history2)"
   ]
  },
  {
   "cell_type": "code",
   "execution_count": 11,
   "metadata": {},
   "outputs": [],
   "source": [
    "model_ProtCNN.save(\"/mnt/vdb/thesis/ProtCNN.V5.set10.h5\")"
   ]
  },
  {
   "cell_type": "markdown",
   "metadata": {
    "id": "fALQEI9g4Ejn"
   },
   "source": [
    "# Training set 2"
   ]
  },
  {
   "cell_type": "markdown",
   "metadata": {},
   "source": [
    "## SET 9"
   ]
  },
  {
   "cell_type": "markdown",
   "metadata": {},
   "source": [
    "### JAX"
   ]
  },
  {
   "cell_type": "code",
   "execution_count": 3,
   "metadata": {},
   "outputs": [
    {
     "name": "stdout",
     "output_type": "stream",
     "text": [
      "(56611, 1900, 1)\n",
      "(3556, 1900, 1)\n",
      "(14153, 1900, 1)\n"
     ]
    }
   ],
   "source": [
    "import pickle5 as pickle\n",
    "with open( \"/mnt/vdb/thesis/trainingset2/set9/jax/AMPNonAMP.reps\", 'rb') as file:\n",
    "    AMPNonAMP_df = pickle.load(file)\n",
    "with open( \"/mnt/vdb/thesis/trainingset2/benchmark_set/jax/AMPNonAMP.benchmark_set.reps\", 'rb') as file:\n",
    "    benchmark_AMPs_df = pickle.load(file)\n",
    "    \n",
    "X_train = np.array(AMPNonAMP_df['reps'].to_list())\n",
    "y_train = np.array(AMPNonAMP_df['class'].to_list())\n",
    "X_test = np.array(benchmark_AMPs_df[\"reps\"].to_list())\n",
    "y_test = np.array( benchmark_AMPs_df[\"class\"].to_list())\n",
    "\n",
    "X_train, X_val, y_train, y_val = train_test_split(X_train, y_train, test_size=0.2, random_state=42)\n",
    "\n",
    "X_train = np.reshape(X_train,(X_train.shape[0],X_train.shape[1],1))\n",
    "print(X_train.shape)\n",
    "X_test = np.reshape(X_test,(X_test.shape[0],X_test.shape[1],1))\n",
    "print(X_test.shape)\n",
    "X_val = np.reshape(X_val,(X_val.shape[0],X_val.shape[1],1))\n",
    "print(X_val.shape)"
   ]
  },
  {
   "cell_type": "markdown",
   "metadata": {},
   "source": [
    "## PSSM"
   ]
  },
  {
   "cell_type": "code",
   "execution_count": 12,
   "metadata": {},
   "outputs": [
    {
     "name": "stdout",
     "output_type": "stream",
     "text": [
      "(56620, 400, 1)\n",
      "(3556, 400, 1)\n",
      "(14155, 400, 1)\n"
     ]
    }
   ],
   "source": [
    "with open( \"/mnt/vdb/thesis/trainingset2/set9/pssm/AMP/AMP.pssm.plk\", 'rb') as file:\n",
    "    AMPs_df = pickle.load(file)\n",
    "AMPs_df[\"class\"] = 0\n",
    "with open( \"/mnt/vdb/thesis/trainingset2/set9/pssm/nonAMP/nonAMP.pssm.plk\", 'rb') as file:\n",
    "    nonAMPs_df = pickle.load(file)   \n",
    "nonAMPs_df[\"class\"] = 1\n",
    "\n",
    "AMPNonAMP_df = pd.concat([AMPs_df, nonAMPs_df], ignore_index=True)\n",
    "\n",
    "#AMPs_df = AMPs_df[AMPs_df[\"length\"] <= 300 ]\n",
    "with open( \"../datasets/thesis/trainingset2/benchmark_set/AMPnonAMP.pssm.pkl\", 'rb') as file:\n",
    "    benchmark_AMPs_df = pickle.load(file)\n",
    "    \n",
    "X_train = np.array(AMPNonAMP_df['reps'].to_list())\n",
    "y_train = np.array(AMPNonAMP_df['class'].to_list())\n",
    "X_test = np.array(benchmark_AMPs_df[\"reps\"].to_list())\n",
    "y_test = np.array( benchmark_AMPs_df[\"class\"].to_list())\n",
    "X_train, X_val, y_train, y_val = train_test_split(X_train, y_train, test_size=0.2, random_state=42)\n",
    "\n",
    "X_train = np.reshape(X_train,(X_train.shape[0],X_train.shape[1],1))\n",
    "print(X_train.shape)\n",
    "X_test = np.reshape(X_test,(X_test.shape[0],X_test.shape[1],1))\n",
    "print(X_test.shape)\n",
    "X_val = np.reshape(X_val,(X_val.shape[0],X_val.shape[1],1))\n",
    "print(X_val.shape)"
   ]
  },
  {
   "cell_type": "code",
   "execution_count": 4,
   "metadata": {},
   "outputs": [],
   "source": [
    "def create_Modelbaseline_pssm():\n",
    "    x_input = Input(shape=(400,1))\n",
    "    #initial conv\n",
    "    conv = Conv1D(256, 1, padding='same')(x_input) \n",
    "\n",
    "    # per-residue representation\n",
    "    res1 = residual_block(conv, 256, 2)\n",
    "    res2 = residual_block(res1, 256, 3)\n",
    "\n",
    "    x = MaxPooling1D(3)(res2)\n",
    "    #x = Dropout(0.5)(x)\n",
    "\n",
    "    # softmax classifier\n",
    "    x = Flatten()(x)\n",
    "    layer_4 = Dense(1211 , activation='relu')(x)\n",
    "    layer_4 = BatchNormalization()(layer_4)\n",
    "    layer_4 = Dense(1211 , activation='relu')(layer_4)\n",
    "    layer_4 = BatchNormalization()(layer_4) # layer_4 = Dropout(0.5)(layer_4)\n",
    "    layer_4 = Dense(1211 , activation='relu')(layer_4)\n",
    "    layer_4 = BatchNormalization()(layer_4)\n",
    "    layer_4 = Dense(1211 , activation='relu')(layer_4)\n",
    "    layer_4 = BatchNormalization()(layer_4) # layer_4 = Dropout(0.5)(layer_4)\n",
    "    x_output = Dense(1, activation='sigmoid', kernel_regularizer=l2(0.0001))(layer_4)\n",
    "\n",
    "    model_ProtCNN = Model(inputs=x_input, outputs=x_output)\n",
    "    model_ProtCNN.compile(optimizer='adam', loss='binary_crossentropy', metrics=['accuracy'])\n",
    "\n",
    "    return model_ProtCNN\n",
    "\n",
    "\n",
    "def create_Modelbaseline_jax():\n",
    "    x_input = Input(shape=(1900,1))\n",
    "\n",
    "    #initial conv\n",
    "    conv = Conv1D(256, 1, padding='same')(x_input) \n",
    "\n",
    "    # per-residue representation\n",
    "    res1 = residual_block(conv, 256, 2)\n",
    "    res2 = residual_block(res1, 256, 3)\n",
    "\n",
    "    x = MaxPooling1D(3)(res2)\n",
    "    #x = Dropout(0.5)(x)\n",
    "\n",
    "    # softmax classifier\n",
    "    x = Flatten()(x)\n",
    "    layer_4 = Dense(1211 , activation='relu')(x)\n",
    "    layer_4 = BatchNormalization()(layer_4)\n",
    "    layer_4 = Dense(1211 , activation='relu')(layer_4)\n",
    "    layer_4 = BatchNormalization()(layer_4) # layer_4 = Dropout(0.5)(layer_4)\n",
    "    layer_4 = Dense(1211 , activation='relu')(layer_4)\n",
    "    layer_4 = BatchNormalization()(layer_4)\n",
    "    layer_4 = Dense(1211 , activation='relu')(layer_4)\n",
    "    layer_4 = BatchNormalization()(layer_4) # layer_4 = Dropout(0.5)(layer_4)\n",
    "    x_output = Dense(1, activation='sigmoid', kernel_regularizer=l2(0.0001))(layer_4)\n",
    "\n",
    "    model_ProtCNN = Model(inputs=x_input, outputs=x_output)\n",
    "    model_ProtCNN.compile(optimizer='adam', loss='binary_crossentropy', metrics=['accuracy'])\n",
    "\n",
    "    return model_ProtCNN"
   ]
  },
  {
   "cell_type": "code",
   "execution_count": 87,
   "metadata": {
    "scrolled": true,
    "tags": []
   },
   "outputs": [
    {
     "name": "stdout",
     "output_type": "stream",
     "text": [
      "WARNING:tensorflow:`period` argument is deprecated. Please use `save_freq` to specify the frequency in number of batches seen.\n",
      " Learning rate:  0.001\n",
      "Epoch 1/100\n",
      "443/443 [==============================] - 20s 44ms/step - loss: 0.8652 - accuracy: 0.8448 - val_loss: 0.8478 - val_accuracy: 0.5005\n",
      " Learning rate:  0.001\n",
      "Epoch 2/100\n",
      "443/443 [==============================] - 19s 43ms/step - loss: 0.3985 - accuracy: 0.8599 - val_loss: 0.4798 - val_accuracy: 0.7859\n",
      " Learning rate:  0.001\n",
      "Epoch 3/100\n",
      "443/443 [==============================] - 19s 43ms/step - loss: 0.3378 - accuracy: 0.8668 - val_loss: 0.6041 - val_accuracy: 0.7225\n",
      " Learning rate:  0.001\n",
      "Epoch 4/100\n",
      "443/443 [==============================] - 19s 43ms/step - loss: 0.3369 - accuracy: 0.8655 - val_loss: 0.4981 - val_accuracy: 0.7612\n",
      " Learning rate:  0.001\n",
      "Epoch 5/100\n",
      "443/443 [==============================] - 19s 43ms/step - loss: 0.3409 - accuracy: 0.8688 - val_loss: 7.3398 - val_accuracy: 0.5039\n",
      " Learning rate:  0.001\n",
      "Epoch 6/100\n",
      "443/443 [==============================] - 19s 43ms/step - loss: 0.3302 - accuracy: 0.8700 - val_loss: 11.2983 - val_accuracy: 0.5039\n",
      " Learning rate:  0.001\n",
      "Epoch 7/100\n",
      "443/443 [==============================] - 19s 43ms/step - loss: 0.3458 - accuracy: 0.8690 - val_loss: 4.2835 - val_accuracy: 0.5039\n",
      " Learning rate:  0.001\n",
      "Epoch 8/100\n",
      "443/443 [==============================] - 19s 43ms/step - loss: 0.3165 - accuracy: 0.8763 - val_loss: 0.4815 - val_accuracy: 0.7680\n",
      " Learning rate:  0.001\n",
      "Epoch 9/100\n",
      "443/443 [==============================] - 19s 43ms/step - loss: 0.3203 - accuracy: 0.8768 - val_loss: 4.6836 - val_accuracy: 0.5039\n",
      " Learning rate:  0.001\n",
      "Epoch 10/100\n",
      "443/443 [==============================] - 19s 43ms/step - loss: 0.3268 - accuracy: 0.8769 - val_loss: 0.4257 - val_accuracy: 0.8231\n",
      " Learning rate:  0.001\n",
      "Epoch 11/100\n",
      "443/443 [==============================] - 19s 43ms/step - loss: 0.3111 - accuracy: 0.8800 - val_loss: 0.8668 - val_accuracy: 0.5684\n",
      " Learning rate:  0.001\n",
      "Epoch 12/100\n",
      "443/443 [==============================] - 19s 43ms/step - loss: 0.3093 - accuracy: 0.8813 - val_loss: 3.9076 - val_accuracy: 0.5039\n",
      " Learning rate:  0.001\n",
      "Epoch 13/100\n",
      "443/443 [==============================] - 19s 43ms/step - loss: 0.3216 - accuracy: 0.8807 - val_loss: 0.7106 - val_accuracy: 0.5814\n",
      " Learning rate:  0.001\n",
      "Epoch 14/100\n",
      "443/443 [==============================] - 19s 43ms/step - loss: 0.2979 - accuracy: 0.8860 - val_loss: 21.0450 - val_accuracy: 0.5039\n",
      " Learning rate:  0.001\n",
      "Epoch 15/100\n",
      "443/443 [==============================] - 19s 43ms/step - loss: 0.3238 - accuracy: 0.8840 - val_loss: 0.6282 - val_accuracy: 0.7329\n",
      " Learning rate:  0.001\n",
      "Epoch 16/100\n",
      "443/443 [==============================] - 19s 43ms/step - loss: 0.2956 - accuracy: 0.8897 - val_loss: 2.1438 - val_accuracy: 0.5039\n",
      " Learning rate:  0.001\n",
      "Epoch 17/100\n",
      "443/443 [==============================] - 19s 43ms/step - loss: 0.3145 - accuracy: 0.8889 - val_loss: 9.1216 - val_accuracy: 0.5039\n",
      " Learning rate:  0.001\n",
      "Epoch 18/100\n",
      "443/443 [==============================] - 19s 43ms/step - loss: 0.2711 - accuracy: 0.8974 - val_loss: 0.8935 - val_accuracy: 0.7091\n",
      " Learning rate:  0.001\n",
      "Epoch 19/100\n",
      "443/443 [==============================] - 19s 43ms/step - loss: 0.3079 - accuracy: 0.8954 - val_loss: 0.5448 - val_accuracy: 0.7697\n",
      " Learning rate:  0.001\n",
      "Epoch 20/100\n",
      "443/443 [==============================] - 19s 43ms/step - loss: 0.2762 - accuracy: 0.8995 - val_loss: 0.6491 - val_accuracy: 0.7394\n",
      " Learning rate:  0.001\n",
      "Epoch 21/100\n",
      "443/443 [==============================] - 19s 43ms/step - loss: 0.2630 - accuracy: 0.9045 - val_loss: 1.2170 - val_accuracy: 0.5893\n",
      " Learning rate:  0.0001\n",
      "Epoch 22/100\n",
      "443/443 [==============================] - 19s 43ms/step - loss: 0.1964 - accuracy: 0.9297 - val_loss: 0.5981 - val_accuracy: 0.7547\n",
      " Learning rate:  0.0001\n",
      "Epoch 23/100\n",
      "443/443 [==============================] - 19s 43ms/step - loss: 0.1711 - accuracy: 0.9386 - val_loss: 0.3389 - val_accuracy: 0.8809\n",
      " Learning rate:  0.0001\n",
      "Epoch 24/100\n",
      "443/443 [==============================] - 19s 43ms/step - loss: 0.1601 - accuracy: 0.9423 - val_loss: 0.4752 - val_accuracy: 0.8244\n",
      " Learning rate:  0.0001\n",
      "Epoch 25/100\n",
      "443/443 [==============================] - 19s 43ms/step - loss: 0.1460 - accuracy: 0.9479 - val_loss: 0.4213 - val_accuracy: 0.8615\n",
      " Learning rate:  0.0001\n",
      "Epoch 26/100\n",
      "443/443 [==============================] - 19s 43ms/step - loss: 0.1350 - accuracy: 0.9522 - val_loss: 0.4256 - val_accuracy: 0.8648\n",
      " Learning rate:  0.0001\n",
      "Epoch 27/100\n",
      "443/443 [==============================] - 19s 43ms/step - loss: 0.1201 - accuracy: 0.9576 - val_loss: 0.4171 - val_accuracy: 0.8699\n",
      " Learning rate:  0.0001\n",
      "Epoch 28/100\n",
      "443/443 [==============================] - 19s 43ms/step - loss: 0.1112 - accuracy: 0.9602 - val_loss: 0.4698 - val_accuracy: 0.8687\n",
      " Learning rate:  0.0001\n",
      "Epoch 29/100\n",
      "443/443 [==============================] - 19s 43ms/step - loss: 0.1066 - accuracy: 0.9622 - val_loss: 0.4913 - val_accuracy: 0.8634\n",
      " Learning rate:  0.0001\n",
      "Epoch 30/100\n",
      "443/443 [==============================] - 19s 43ms/step - loss: 0.0932 - accuracy: 0.9683 - val_loss: 0.4883 - val_accuracy: 0.8726\n",
      " Learning rate:  0.0001\n",
      "Epoch 31/100\n",
      "443/443 [==============================] - 19s 43ms/step - loss: 0.0788 - accuracy: 0.9732 - val_loss: 0.5077 - val_accuracy: 0.8711\n",
      " Learning rate:  0.0001\n",
      "Epoch 32/100\n",
      "443/443 [==============================] - 19s 43ms/step - loss: 0.0713 - accuracy: 0.9759 - val_loss: 0.5513 - val_accuracy: 0.8681\n",
      " Learning rate:  0.0001\n",
      "Epoch 33/100\n",
      "443/443 [==============================] - 19s 43ms/step - loss: 0.0630 - accuracy: 0.9785 - val_loss: 0.6076 - val_accuracy: 0.8625\n",
      " Learning rate:  0.0001\n",
      "Epoch 34/100\n",
      "443/443 [==============================] - 19s 43ms/step - loss: 0.0598 - accuracy: 0.9802 - val_loss: 1.1186 - val_accuracy: 0.8259\n",
      " Learning rate:  0.0001\n",
      "Epoch 35/100\n",
      "443/443 [==============================] - 19s 43ms/step - loss: 0.0527 - accuracy: 0.9832 - val_loss: 0.6606 - val_accuracy: 0.8673\n",
      " Learning rate:  0.0001\n",
      "Epoch 36/100\n",
      "443/443 [==============================] - 19s 43ms/step - loss: 0.0528 - accuracy: 0.9831 - val_loss: 0.8003 - val_accuracy: 0.8432\n",
      " Learning rate:  0.0001\n",
      "Epoch 37/100\n",
      "443/443 [==============================] - 19s 43ms/step - loss: 0.0462 - accuracy: 0.9859 - val_loss: 0.6817 - val_accuracy: 0.8727\n",
      " Learning rate:  0.0001\n",
      "Epoch 38/100\n",
      "443/443 [==============================] - 19s 43ms/step - loss: 0.0418 - accuracy: 0.9875 - val_loss: 0.7107 - val_accuracy: 0.8690\n",
      "Epoch 00038: early stopping\n"
     ]
    }
   ],
   "source": [
    "# Early Stopping\n",
    "es = EarlyStopping(monitor='val_loss', patience=15, verbose=1)\n",
    "# val_loss\n",
    "# ProtCNN_256X2_NN1221X4.V2.h5\n",
    "checkpoint = ModelCheckpoint(\"/mnt/vdb/thesis/ProtCNN.set9.h5\", monitor='loss', verbose=1,\n",
    "    save_best_only=True, mode='auto', period=1)\n",
    "\n",
    "# val_accuracy\n",
    "\n",
    "lr_scheduler = LearningRateScheduler(lr_schedule)\n",
    "\n",
    "history2 = model_ProtCNN.fit(\n",
    "    X_train, y_train,\n",
    "    epochs=100, batch_size=128,\n",
    "    validation_data=(X_val, y_val),\n",
    "    callbacks=[ es,lr_scheduler]\n",
    "    )\n"
   ]
  },
  {
   "cell_type": "markdown",
   "metadata": {},
   "source": [
    "## PSSM"
   ]
  },
  {
   "cell_type": "code",
   "execution_count": 97,
   "metadata": {},
   "outputs": [
    {
     "name": "stdout",
     "output_type": "stream",
     "text": [
      "              precision    recall  f1-score   support\n",
      "\n",
      "           0       0.80      0.88      0.84      1778\n",
      "           1       0.87      0.77      0.82      1778\n",
      "\n",
      "    accuracy                           0.83      3556\n",
      "   macro avg       0.83      0.83      0.83      3556\n",
      "weighted avg       0.83      0.83      0.83      3556\n",
      "\n"
     ]
    },
    {
     "data": {
      "image/png": "[encoded data removed]",
      "text/plain": [
       "<Figure size 864x360 with 2 Axes>"
      ]
     },
     "metadata": {
      "needs_background": "light"
     },
     "output_type": "display_data"
    }
   ],
   "source": [
    "y_probas = model_ProtCNN.predict(X_test)\n",
    "\n",
    "threshold = 0.5\n",
    "y_predict = np.where(y_probas > threshold, 1, 0)\n",
    "print(classification_report(y_test, y_predict))\n",
    "plot_history(history2)\n"
   ]
  },
  {
   "cell_type": "code",
   "execution_count": 92,
   "metadata": {},
   "outputs": [
    {
     "data": {
      "image/png": "[encoded data removed]",
      "text/plain": [
       "<Figure size 432x288 with 1 Axes>"
      ]
     },
     "metadata": {
      "needs_background": "light"
     },
     "output_type": "display_data"
    },
    {
     "data": {
      "image/png": "[encoded data removed]",
      "text/plain": [
       "<Figure size 432x288 with 1 Axes>"
      ]
     },
     "metadata": {
      "needs_background": "light"
     },
     "output_type": "display_data"
    }
   ],
   "source": [
    "create_roc_curve(y_test,y_probas)\n",
    "# plot precision-recall curves\n",
    "plot_pr_curve(y_test, y_probas)"
   ]
  },
  {
   "cell_type": "code",
   "execution_count": 99,
   "metadata": {},
   "outputs": [
    {
     "data": {
      "text/plain": [
       "array([[7.6426226e-01],\n",
       "       [2.4973087e-05],\n",
       "       [3.7965246e-02],\n",
       "       ...,\n",
       "       [9.9999952e-01],\n",
       "       [9.5996290e-01],\n",
       "       [1.0000000e+00]], dtype=float32)"
      ]
     },
     "execution_count": 99,
     "metadata": {},
     "output_type": "execute_result"
    }
   ],
   "source": [
    "y_probas"
   ]
  },
  {
   "cell_type": "code",
   "execution_count": 103,
   "metadata": {},
   "outputs": [
    {
     "name": "stderr",
     "output_type": "stream",
     "text": [
      "/home/ubuntu/miniconda3/envs/py3/lib/python3.7/site-packages/sklearn/utils/deprecation.py:86: FutureWarning: Function plot_precision_recall_curve is deprecated; This will be removed in v0.5.0. Please use scikitplot.metrics.plot_precision_recall instead.\n",
      "  warnings.warn(msg, category=FutureWarning)\n"
     ]
    },
    {
     "ename": "IndexError",
     "evalue": "index 1 is out of bounds for axis 1 with size 1",
     "output_type": "error",
     "traceback": [
      "\u001b[0;31m---------------------------------------------------------------------------\u001b[0m",
      "\u001b[0;31mIndexError\u001b[0m                                Traceback (most recent call last)",
      "\u001b[0;32m<ipython-input-103-b68b99534813>\u001b[0m in \u001b[0;36m<module>\u001b[0;34m\u001b[0m\n\u001b[1;32m      1\u001b[0m \u001b[0;31m#skplt.metrics.plot_roc(y_test, y_probas)\u001b[0m\u001b[0;34m\u001b[0m\u001b[0;34m\u001b[0m\u001b[0;34m\u001b[0m\u001b[0m\n\u001b[0;32m----> 2\u001b[0;31m \u001b[0mskplt\u001b[0m\u001b[0;34m.\u001b[0m\u001b[0mmetrics\u001b[0m\u001b[0;34m.\u001b[0m\u001b[0mplot_precision_recall_curve\u001b[0m\u001b[0;34m(\u001b[0m\u001b[0my_test\u001b[0m\u001b[0;34m,\u001b[0m \u001b[0my_predict\u001b[0m\u001b[0;34m)\u001b[0m\u001b[0;34m\u001b[0m\u001b[0;34m\u001b[0m\u001b[0m\n\u001b[0m",
      "\u001b[0;32m~/miniconda3/envs/py3/lib/python3.7/site-packages/sklearn/utils/deprecation.py\u001b[0m in \u001b[0;36mwrapped\u001b[0;34m(*args, **kwargs)\u001b[0m\n\u001b[1;32m     85\u001b[0m         \u001b[0;32mdef\u001b[0m \u001b[0mwrapped\u001b[0m\u001b[0;34m(\u001b[0m\u001b[0;34m*\u001b[0m\u001b[0margs\u001b[0m\u001b[0;34m,\u001b[0m \u001b[0;34m**\u001b[0m\u001b[0mkwargs\u001b[0m\u001b[0;34m)\u001b[0m\u001b[0;34m:\u001b[0m\u001b[0;34m\u001b[0m\u001b[0;34m\u001b[0m\u001b[0m\n\u001b[1;32m     86\u001b[0m             \u001b[0mwarnings\u001b[0m\u001b[0;34m.\u001b[0m\u001b[0mwarn\u001b[0m\u001b[0;34m(\u001b[0m\u001b[0mmsg\u001b[0m\u001b[0;34m,\u001b[0m \u001b[0mcategory\u001b[0m\u001b[0;34m=\u001b[0m\u001b[0mFutureWarning\u001b[0m\u001b[0;34m)\u001b[0m\u001b[0;34m\u001b[0m\u001b[0;34m\u001b[0m\u001b[0m\n\u001b[0;32m---> 87\u001b[0;31m             \u001b[0;32mreturn\u001b[0m \u001b[0mfun\u001b[0m\u001b[0;34m(\u001b[0m\u001b[0;34m*\u001b[0m\u001b[0margs\u001b[0m\u001b[0;34m,\u001b[0m \u001b[0;34m**\u001b[0m\u001b[0mkwargs\u001b[0m\u001b[0;34m)\u001b[0m\u001b[0;34m\u001b[0m\u001b[0;34m\u001b[0m\u001b[0m\n\u001b[0m\u001b[1;32m     88\u001b[0m \u001b[0;34m\u001b[0m\u001b[0m\n\u001b[1;32m     89\u001b[0m         \u001b[0mwrapped\u001b[0m\u001b[0;34m.\u001b[0m\u001b[0m__doc__\u001b[0m \u001b[0;34m=\u001b[0m \u001b[0mself\u001b[0m\u001b[0;34m.\u001b[0m\u001b[0m_update_doc\u001b[0m\u001b[0;34m(\u001b[0m\u001b[0mwrapped\u001b[0m\u001b[0;34m.\u001b[0m\u001b[0m__doc__\u001b[0m\u001b[0;34m)\u001b[0m\u001b[0;34m\u001b[0m\u001b[0;34m\u001b[0m\u001b[0m\n",
      "\u001b[0;32m~/miniconda3/envs/py3/lib/python3.7/site-packages/scikitplot/metrics.py\u001b[0m in \u001b[0;36mplot_precision_recall_curve\u001b[0;34m(y_true, y_probas, title, curves, ax, figsize, cmap, title_fontsize, text_fontsize)\u001b[0m\n\u001b[1;32m    623\u001b[0m     \u001b[0;32mfor\u001b[0m \u001b[0mi\u001b[0m \u001b[0;32min\u001b[0m \u001b[0mrange\u001b[0m\u001b[0;34m(\u001b[0m\u001b[0mlen\u001b[0m\u001b[0;34m(\u001b[0m\u001b[0mclasses\u001b[0m\u001b[0;34m)\u001b[0m\u001b[0;34m)\u001b[0m\u001b[0;34m:\u001b[0m\u001b[0;34m\u001b[0m\u001b[0;34m\u001b[0m\u001b[0m\n\u001b[1;32m    624\u001b[0m         precision[i], recall[i], _ = precision_recall_curve(\n\u001b[0;32m--> 625\u001b[0;31m             y_true, probas[:, i], pos_label=classes[i])\n\u001b[0m\u001b[1;32m    626\u001b[0m \u001b[0;34m\u001b[0m\u001b[0m\n\u001b[1;32m    627\u001b[0m     \u001b[0my_true\u001b[0m \u001b[0;34m=\u001b[0m \u001b[0mlabel_binarize\u001b[0m\u001b[0;34m(\u001b[0m\u001b[0my_true\u001b[0m\u001b[0;34m,\u001b[0m \u001b[0mclasses\u001b[0m\u001b[0;34m=\u001b[0m\u001b[0mclasses\u001b[0m\u001b[0;34m)\u001b[0m\u001b[0;34m\u001b[0m\u001b[0;34m\u001b[0m\u001b[0m\n",
      "\u001b[0;31mIndexError\u001b[0m: index 1 is out of bounds for axis 1 with size 1"
     ]
    }
   ],
   "source": [
    "#skplt.metrics.plot_roc(y_test, y_probas)\n",
    "skplt.metrics.plot_precision_recall_curve(y_test, y_predict)\n"
   ]
  },
  {
   "cell_type": "code",
   "execution_count": null,
   "metadata": {},
   "outputs": [],
   "source": [
    "from sklearn.model_selection import KFold\n",
    "from sklearn.metrics import accuracy_score\n",
    "from sklearn.metrics import precision_score\n",
    "from sklearn.metrics import recall_score\n",
    "from sklearn.metrics import f1_score\n",
    "from sklearn.metrics import roc_auc_score\n",
    "\n",
    "\n",
    "inputs = np.concatenate((X_train, X_val), axis=0)\n",
    "targets = np.concatenate((y_train, y_val), axis=0)\n",
    "# Define per-fold score containers\n",
    "acc_per_fold = []\n",
    "loss_per_fold = []\n",
    "_precision = []\n",
    "_recal = []\n",
    "_f1 = []\n",
    "_auc_pr = []\n",
    "_roc_pr = []\n",
    "# Define the K-fold Cross Validator\n",
    "kfold = KFold(n_splits=5, shuffle=True)\n",
    "\n",
    "# K-fold Cross Validation model evaluation\n",
    "fold_no = 1\n",
    "for train_index, test_index  in kfold.split(inputs, targets):\n",
    "    \n",
    "    X_train= inputs[train_index]\n",
    "    y_train= targets[train_index]\n",
    "    X_val=  inputs[test_index]\n",
    "    y_val = targets[test_index]\n",
    "    # Early Stopping\n",
    "    es = EarlyStopping(monitor='val_loss', patience=15, verbose=1)\n",
    "\n",
    "    #learning rate decay\n",
    "    lr_scheduler = LearningRateScheduler(lr_schedule)\n",
    "    model = create_Modelbaseline_pssm()\n",
    "    # Generate a print\n",
    "    print('------------------------------------------------------------------------')\n",
    "    print(f'Training for fold {fold_no} ...')\n",
    "\n",
    "    # Fit data to model\n",
    "    history = model.fit(X_train, y_train, epochs=100,batch_size=128,\n",
    "                        validation_data=(X_val, y_val),\n",
    "                        callbacks=[es, lr_scheduler], verbose=0)\n",
    "\n",
    "    # Generate generalization metrics\n",
    "    scores = model.evaluate(X_test, y_test, verbose=0)\n",
    "    print(f'Score for fold {fold_no}: {model.metrics_names[0]} of {scores[0]}; {model.metrics_names[1]} of {scores[1]*100}%')\n",
    "    \n",
    "    # predict probabilities for test set\n",
    "    y_probas = model.predict(X_test)\n",
    "    threshold = 0.5\n",
    "    y_predict = np.where(y_probas > threshold, 1, 0)\n",
    "\n",
    "    # accuracy: (tp + tn) / (p + n)\n",
    "    accuracy = accuracy_score(y_predict, y_test)\n",
    "    print('Accuracy: %f' % accuracy)\n",
    "    # precision tp / (tp + fp)\n",
    "    precision = (precision_score(y_predict,y_test, pos_label= 1)+precision_score(y_predict,y_test , pos_label= 0))*0.5\n",
    "    print('Precision: %f' % precision)\n",
    "    # recall: tp / (tp + fn)\n",
    "    recall = (recall_score(y_predict,y_test, pos_label= 1)+recall_score(y_predict,y_test , pos_label= 0))*0.5\n",
    "    print('Recall: %f' % recall)\n",
    "    # f1: 2 tp / (2 tp + fp + fn)\n",
    "    f1 =  (f1_score(y_predict,y_test, pos_label= 1)+f1_score(y_predict,y_test , pos_label= 0))*0.5\n",
    "    print('F1 score: %f' % f1)\n",
    "    \n",
    "    acc_per_fold.append(scores[1] * 100)\n",
    "    loss_per_fold.append(scores[0])  \n",
    "    _precision.append(precision * 100)  \n",
    "    _recal.append(recall * 100)  \n",
    "    _f1.append(f1 * 100)  \n",
    " \n",
    "    # Increase fold number\n",
    "    fold_no = fold_no + 1\n",
    "\n",
    "# == Provide average scores ==\n",
    "print('------------------------------------------------------------------------')\n",
    "print('Score per fold')\n",
    "for i in range(0, len(acc_per_fold)):\n",
    "  print('------------------------------------------------------------------------')\n",
    "  print(f'> Fold {i+1} - Loss: {loss_per_fold[i]} - Accuracy: {acc_per_fold[i]}%')\n",
    "print('------------------------------------------------------------------------')\n",
    "print('Average scores for all folds:')\n",
    "print(f'> Accuracy: {np.mean(acc_per_fold)} (+- {np.std(acc_per_fold)})')\n",
    "print(f'> Pecision: {np.mean(_precision)} (+- {np.std(_precision)})')\n",
    "print(f'> Recall: {np.mean(_recal)} (+- {np.std(_recal)})')\n",
    "print(f'> F1: {np.mean(_f1)} (+- {np.std(_f1)})')\n",
    "print(f'> Loss: {np.mean(loss_per_fold)}')\n",
    "print('------------------------------------------------------------------------')"
   ]
  },
  {
   "cell_type": "markdown",
   "metadata": {},
   "source": [
    "## JAX -result"
   ]
  },
  {
   "cell_type": "code",
   "execution_count": 15,
   "metadata": {},
   "outputs": [
    {
     "name": "stdout",
     "output_type": "stream",
     "text": [
      "              precision    recall  f1-score   support\n",
      "\n",
      "           0       0.76      0.95      0.85      1778\n",
      "           1       0.93      0.71      0.80      1778\n",
      "\n",
      "    accuracy                           0.83      3556\n",
      "   macro avg       0.85      0.83      0.82      3556\n",
      "weighted avg       0.85      0.83      0.82      3556\n",
      "\n"
     ]
    },
    {
     "data": {
      "image/png": "[encoded data removed]",
      "text/plain": [
       "<Figure size 864x360 with 2 Axes>"
      ]
     },
     "metadata": {
      "needs_background": "light"
     },
     "output_type": "display_data"
    }
   ],
   "source": [
    "y_probas = model_ProtCNN.predict(X_test)\n",
    "threshold = 0.5\n",
    "y_predict = np.where(y_probas > threshold, 1, 0)\n",
    "print(classification_report(y_test, y_predict))\n",
    "plot_history(history2)"
   ]
  },
  {
   "cell_type": "code",
   "execution_count": 82,
   "metadata": {},
   "outputs": [
    {
     "data": {
      "image/png": "[encoded data removed]",
      "text/plain": [
       "<Figure size 432x288 with 1 Axes>"
      ]
     },
     "metadata": {
      "needs_background": "light"
     },
     "output_type": "display_data"
    },
    {
     "data": {
      "image/png": "[encoded data removed]",
      "text/plain": [
       "<Figure size 432x288 with 1 Axes>"
      ]
     },
     "metadata": {
      "needs_background": "light"
     },
     "output_type": "display_data"
    }
   ],
   "source": [
    "create_roc_curve(y_test,y_probas)\n",
    "# plot precision-recall curves\n",
    "plot_pr_curve(y_test, y_probas)"
   ]
  },
  {
   "cell_type": "code",
   "execution_count": 12,
   "metadata": {},
   "outputs": [
    {
     "name": "stdout",
     "output_type": "stream",
     "text": [
      "              precision    recall  f1-score   support\n",
      "\n",
      "           0       0.76      0.96      0.84      1778\n",
      "           1       0.94      0.69      0.80      1778\n",
      "\n",
      "    accuracy                           0.82      3556\n",
      "   macro avg       0.85      0.82      0.82      3556\n",
      "weighted avg       0.85      0.82      0.82      3556\n",
      "\n"
     ]
    },
    {
     "data": {
      "image/png": "[encoded data removed]",
      "text/plain": [
       "<Figure size 864x360 with 2 Axes>"
      ]
     },
     "metadata": {
      "needs_background": "light"
     },
     "output_type": "display_data"
    }
   ],
   "source": [
    "y_probas = model_ProtCNN.predict(X_test)\n",
    "threshold = 0.5\n",
    "y_predict = np.where(y_probas > threshold, 1, 0)\n",
    "print(classification_report(y_test, y_predict))\n",
    "plot_history(history2)"
   ]
  },
  {
   "cell_type": "code",
   "execution_count": 16,
   "metadata": {},
   "outputs": [
    {
     "name": "stdout",
     "output_type": "stream",
     "text": [
      "              precision    recall  f1-score   support\n",
      "\n",
      "           0       0.72      0.94      0.81      1778\n",
      "           1       0.91      0.63      0.74      1778\n",
      "\n",
      "    accuracy                           0.78      3556\n",
      "   macro avg       0.81      0.78      0.78      3556\n",
      "weighted avg       0.81      0.78      0.78      3556\n",
      "\n"
     ]
    },
    {
     "data": {
      "image/png": "[encoded data removed]",
      "text/plain": [
       "<Figure size 864x360 with 2 Axes>"
      ]
     },
     "metadata": {
      "needs_background": "light"
     },
     "output_type": "display_data"
    }
   ],
   "source": [
    "y_probas = model_ProtCNN.predict(X_test)\n",
    "threshold = 0.5\n",
    "y_predict = np.where(y_probas > threshold, 1, 0)\n",
    "print(classification_report(y_test, y_predict))\n",
    "plot_history(history2)"
   ]
  },
  {
   "cell_type": "code",
   "execution_count": 91,
   "metadata": {},
   "outputs": [],
   "source": [
    "model_ProtCNN.save(\"/mnt/vdb/thesis/ProtCNN.set9.pssm.h5\")"
   ]
  },
  {
   "cell_type": "code",
   "execution_count": 13,
   "metadata": {
    "scrolled": true,
    "tags": []
   },
   "outputs": [
    {
     "name": "stdout",
     "output_type": "stream",
     "text": [
      "------------------------------------------------------------------------\n",
      "Training for fold 1 ...\n",
      " Learning rate:  0.001\n",
      " Learning rate:  0.001\n",
      " Learning rate:  0.001\n",
      " Learning rate:  0.001\n",
      " Learning rate:  0.001\n",
      " Learning rate:  0.001\n",
      " Learning rate:  0.001\n",
      " Learning rate:  0.001\n",
      " Learning rate:  0.001\n",
      " Learning rate:  0.001\n",
      " Learning rate:  0.001\n",
      " Learning rate:  0.001\n",
      " Learning rate:  0.001\n",
      " Learning rate:  0.001\n",
      " Learning rate:  0.001\n",
      " Learning rate:  0.001\n",
      " Learning rate:  0.001\n",
      " Learning rate:  0.001\n",
      " Learning rate:  0.001\n",
      " Learning rate:  0.001\n",
      " Learning rate:  0.001\n",
      " Learning rate:  0.0001\n",
      " Learning rate:  0.0001\n",
      " Learning rate:  0.0001\n",
      " Learning rate:  0.0001\n",
      " Learning rate:  0.0001\n",
      " Learning rate:  0.0001\n",
      " Learning rate:  0.0001\n",
      " Learning rate:  0.0001\n",
      " Learning rate:  0.0001\n",
      " Learning rate:  0.0001\n",
      " Learning rate:  0.0001\n",
      " Learning rate:  0.0001\n",
      " Learning rate:  0.0001\n",
      " Learning rate:  0.0001\n",
      " Learning rate:  0.0001\n",
      " Learning rate:  0.0001\n",
      "Epoch 00037: early stopping\n",
      "Score for fold 1: loss of 1.022119164466858; accuracy of 79.07761335372925%\n",
      "Accuracy: 0.790776\n",
      "Precision: 0.790776\n",
      "Recall: 0.800764\n",
      "F1 score: 0.789025\n",
      "------------------------------------------------------------------------\n",
      "Training for fold 2 ...\n",
      " Learning rate:  0.001\n",
      " Learning rate:  0.001\n",
      " Learning rate:  0.001\n",
      " Learning rate:  0.001\n",
      " Learning rate:  0.001\n",
      " Learning rate:  0.001\n",
      " Learning rate:  0.001\n",
      " Learning rate:  0.001\n",
      " Learning rate:  0.001\n",
      " Learning rate:  0.001\n",
      " Learning rate:  0.001\n",
      " Learning rate:  0.001\n",
      " Learning rate:  0.001\n",
      " Learning rate:  0.001\n",
      " Learning rate:  0.001\n",
      " Learning rate:  0.001\n",
      " Learning rate:  0.001\n",
      " Learning rate:  0.001\n",
      " Learning rate:  0.001\n",
      " Learning rate:  0.001\n",
      " Learning rate:  0.001\n",
      " Learning rate:  0.0001\n",
      " Learning rate:  0.0001\n",
      " Learning rate:  0.0001\n",
      " Learning rate:  0.0001\n",
      " Learning rate:  0.0001\n",
      " Learning rate:  0.0001\n",
      " Learning rate:  0.0001\n",
      " Learning rate:  0.0001\n",
      " Learning rate:  0.0001\n",
      " Learning rate:  0.0001\n",
      " Learning rate:  0.0001\n",
      " Learning rate:  0.0001\n",
      " Learning rate:  0.0001\n",
      " Learning rate:  0.0001\n",
      " Learning rate:  0.0001\n",
      " Learning rate:  0.0001\n",
      "Epoch 00037: early stopping\n",
      "Score for fold 2: loss of 0.7258681654930115; accuracy of 81.27109408378601%\n",
      "Accuracy: 0.812711\n",
      "Precision: 0.812711\n",
      "Recall: 0.814002\n",
      "F1 score: 0.812518\n",
      "------------------------------------------------------------------------\n",
      "Training for fold 3 ...\n",
      " Learning rate:  0.001\n",
      " Learning rate:  0.001\n",
      " Learning rate:  0.001\n",
      " Learning rate:  0.001\n",
      " Learning rate:  0.001\n",
      " Learning rate:  0.001\n",
      " Learning rate:  0.001\n",
      " Learning rate:  0.001\n",
      " Learning rate:  0.001\n",
      " Learning rate:  0.001\n",
      " Learning rate:  0.001\n",
      " Learning rate:  0.001\n",
      " Learning rate:  0.001\n",
      " Learning rate:  0.001\n",
      " Learning rate:  0.001\n",
      " Learning rate:  0.001\n",
      " Learning rate:  0.001\n",
      " Learning rate:  0.001\n",
      " Learning rate:  0.001\n",
      " Learning rate:  0.001\n",
      " Learning rate:  0.001\n",
      " Learning rate:  0.0001\n",
      " Learning rate:  0.0001\n",
      " Learning rate:  0.0001\n",
      " Learning rate:  0.0001\n",
      " Learning rate:  0.0001\n",
      " Learning rate:  0.0001\n",
      " Learning rate:  0.0001\n",
      " Learning rate:  0.0001\n",
      " Learning rate:  0.0001\n",
      " Learning rate:  0.0001\n",
      " Learning rate:  0.0001\n",
      " Learning rate:  0.0001\n",
      " Learning rate:  0.0001\n",
      " Learning rate:  0.0001\n",
      " Learning rate:  0.0001\n",
      " Learning rate:  0.0001\n",
      "Epoch 00037: early stopping\n",
      "Score for fold 3: loss of 0.8547461628913879; accuracy of 82.36783146858215%\n",
      "Accuracy: 0.823678\n",
      "Precision: 0.823678\n",
      "Recall: 0.824855\n",
      "F1 score: 0.823519\n",
      "------------------------------------------------------------------------\n",
      "Training for fold 4 ...\n",
      " Learning rate:  0.001\n",
      " Learning rate:  0.001\n",
      " Learning rate:  0.001\n",
      " Learning rate:  0.001\n",
      " Learning rate:  0.001\n",
      " Learning rate:  0.001\n",
      " Learning rate:  0.001\n",
      " Learning rate:  0.001\n",
      " Learning rate:  0.001\n",
      " Learning rate:  0.001\n",
      " Learning rate:  0.001\n",
      " Learning rate:  0.001\n",
      " Learning rate:  0.001\n",
      " Learning rate:  0.001\n",
      " Learning rate:  0.001\n",
      " Learning rate:  0.001\n",
      " Learning rate:  0.001\n",
      " Learning rate:  0.001\n",
      " Learning rate:  0.001\n",
      " Learning rate:  0.001\n",
      " Learning rate:  0.001\n",
      " Learning rate:  0.0001\n",
      " Learning rate:  0.0001\n",
      " Learning rate:  0.0001\n",
      " Learning rate:  0.0001\n",
      " Learning rate:  0.0001\n",
      " Learning rate:  0.0001\n",
      " Learning rate:  0.0001\n",
      " Learning rate:  0.0001\n",
      " Learning rate:  0.0001\n",
      " Learning rate:  0.0001\n",
      " Learning rate:  0.0001\n",
      " Learning rate:  0.0001\n",
      " Learning rate:  0.0001\n",
      " Learning rate:  0.0001\n",
      " Learning rate:  0.0001\n",
      " Learning rate:  0.0001\n",
      "Epoch 00037: early stopping\n",
      "Score for fold 4: loss of 1.2421447038650513; accuracy of 80.17435073852539%\n",
      "Accuracy: 0.801744\n",
      "Precision: 0.801744\n",
      "Recall: 0.802501\n",
      "F1 score: 0.801619\n",
      "------------------------------------------------------------------------\n",
      "Training for fold 5 ...\n",
      " Learning rate:  0.001\n",
      " Learning rate:  0.001\n",
      " Learning rate:  0.001\n",
      " Learning rate:  0.001\n",
      " Learning rate:  0.001\n",
      " Learning rate:  0.001\n",
      " Learning rate:  0.001\n",
      " Learning rate:  0.001\n",
      " Learning rate:  0.001\n",
      " Learning rate:  0.001\n",
      " Learning rate:  0.001\n",
      " Learning rate:  0.001\n",
      " Learning rate:  0.001\n",
      " Learning rate:  0.001\n",
      " Learning rate:  0.001\n",
      " Learning rate:  0.001\n",
      " Learning rate:  0.001\n",
      " Learning rate:  0.001\n",
      " Learning rate:  0.001\n",
      " Learning rate:  0.001\n",
      " Learning rate:  0.001\n",
      " Learning rate:  0.0001\n",
      " Learning rate:  0.0001\n",
      " Learning rate:  0.0001\n",
      " Learning rate:  0.0001\n",
      " Learning rate:  0.0001\n",
      " Learning rate:  0.0001\n",
      " Learning rate:  0.0001\n",
      " Learning rate:  0.0001\n",
      " Learning rate:  0.0001\n",
      " Learning rate:  0.0001\n",
      " Learning rate:  0.0001\n",
      " Learning rate:  0.0001\n",
      " Learning rate:  0.0001\n",
      " Learning rate:  0.0001\n",
      " Learning rate:  0.0001\n",
      " Learning rate:  0.0001\n",
      "Epoch 00037: early stopping\n",
      "Score for fold 5: loss of 0.8786268830299377; accuracy of 81.27109408378601%\n",
      "Accuracy: 0.812711\n",
      "Precision: 0.812711\n",
      "Recall: 0.813550\n",
      "F1 score: 0.812585\n",
      "------------------------------------------------------------------------\n",
      "Score per fold\n",
      "------------------------------------------------------------------------\n",
      "> Fold 1 - Loss: 1.022119164466858 - Accuracy: 79.07761335372925%\n",
      "------------------------------------------------------------------------\n",
      "> Fold 2 - Loss: 0.7258681654930115 - Accuracy: 81.27109408378601%\n",
      "------------------------------------------------------------------------\n",
      "> Fold 3 - Loss: 0.8547461628913879 - Accuracy: 82.36783146858215%\n",
      "------------------------------------------------------------------------\n",
      "> Fold 4 - Loss: 1.2421447038650513 - Accuracy: 80.17435073852539%\n",
      "------------------------------------------------------------------------\n",
      "> Fold 5 - Loss: 0.8786268830299377 - Accuracy: 81.27109408378601%\n",
      "------------------------------------------------------------------------\n",
      "Average scores for all folds:\n",
      "> Accuracy: 80.83239674568176 (+- 1.1184596369484705)\n",
      "> Pecision: 80.8323959505062 (+- 1.1184575985945888)\n",
      "> Recall: 81.1134399021588 (+- 0.876801127305302)\n",
      "> F1: 80.78532323710029 (+- 1.1687025496211325)\n",
      "> Loss: 0.9447010159492493\n",
      "------------------------------------------------------------------------\n"
     ]
    }
   ],
   "source": [
    "from sklearn.model_selection import KFold\n",
    "from sklearn.metrics import accuracy_score\n",
    "from sklearn.metrics import precision_score\n",
    "from sklearn.metrics import recall_score\n",
    "from sklearn.metrics import f1_score\n",
    "from sklearn.metrics import roc_auc_score\n",
    "\n",
    "\n",
    "inputs = np.concatenate((X_train, X_val), axis=0)\n",
    "targets = np.concatenate((y_train, y_val), axis=0)\n",
    "# Define per-fold score containers\n",
    "acc_per_fold = []\n",
    "loss_per_fold = []\n",
    "_precision = []\n",
    "_recal = []\n",
    "_f1 = []\n",
    "_auc_pr = []\n",
    "_roc_pr = []\n",
    "# Define the K-fold Cross Validator\n",
    "kfold = KFold(n_splits=5, shuffle=True)\n",
    "\n",
    "# K-fold Cross Validation model evaluation\n",
    "fold_no = 1\n",
    "for train_index, test_index  in kfold.split(inputs, targets):\n",
    "    \n",
    "    X_train= inputs[train_index]\n",
    "    y_train= targets[train_index]\n",
    "    X_val=  inputs[test_index]\n",
    "    y_val = targets[test_index]\n",
    "    # Early Stopping\n",
    "    es = EarlyStopping(monitor='val_loss', patience=15, verbose=1)\n",
    "\n",
    "    #learning rate decay\n",
    "    lr_scheduler = LearningRateScheduler(lr_schedule)\n",
    "    model = create_Modelbaseline_pssm()\n",
    "    # Generate a print\n",
    "    print('------------------------------------------------------------------------')\n",
    "    print(f'Training for fold {fold_no} ...')\n",
    "\n",
    "    # Fit data to model\n",
    "    history = model.fit(X_train, y_train, epochs=100,batch_size=128,\n",
    "                        validation_data=(X_val, y_val),\n",
    "                        callbacks=[es, lr_scheduler], verbose=0)\n",
    "\n",
    "    # Generate generalization metrics\n",
    "    scores = model.evaluate(X_test, y_test, verbose=0)\n",
    "    print(f'Score for fold {fold_no}: {model.metrics_names[0]} of {scores[0]}; {model.metrics_names[1]} of {scores[1]*100}%')\n",
    "    \n",
    "    # predict probabilities for test set\n",
    "    y_probas = model.predict(X_test)\n",
    "    threshold = 0.5\n",
    "    y_predict = np.where(y_probas > threshold, 1, 0)\n",
    "\n",
    "    # accuracy: (tp + tn) / (p + n)\n",
    "    accuracy = accuracy_score(y_predict, y_test)\n",
    "    print('Accuracy: %f' % accuracy)\n",
    "    # precision tp / (tp + fp)\n",
    "    precision = (precision_score(y_predict,y_test, pos_label= 1)+precision_score(y_predict,y_test , pos_label= 0))*0.5\n",
    "    print('Precision: %f' % precision)\n",
    "    # recall: tp / (tp + fn)\n",
    "    recall = (recall_score(y_predict,y_test, pos_label= 1)+recall_score(y_predict,y_test , pos_label= 0))*0.5\n",
    "    print('Recall: %f' % recall)\n",
    "    # f1: 2 tp / (2 tp + fp + fn)\n",
    "    f1 =  (f1_score(y_predict,y_test, pos_label= 1)+f1_score(y_predict,y_test , pos_label= 0))*0.5\n",
    "    print('F1 score: %f' % f1)\n",
    "    \n",
    "    acc_per_fold.append(scores[1] * 100)\n",
    "    loss_per_fold.append(scores[0])  \n",
    "    _precision.append(precision * 100)  \n",
    "    _recal.append(recall * 100)  \n",
    "    _f1.append(f1 * 100)  \n",
    " \n",
    "    # Increase fold number\n",
    "    fold_no = fold_no + 1\n",
    "\n",
    "# == Provide average scores ==\n",
    "print('------------------------------------------------------------------------')\n",
    "print('Score per fold')\n",
    "for i in range(0, len(acc_per_fold)):\n",
    "  print('------------------------------------------------------------------------')\n",
    "  print(f'> Fold {i+1} - Loss: {loss_per_fold[i]} - Accuracy: {acc_per_fold[i]}%')\n",
    "print('------------------------------------------------------------------------')\n",
    "print('Average scores for all folds:')\n",
    "print(f'> Accuracy: {np.mean(acc_per_fold)} (+- {np.std(acc_per_fold)})')\n",
    "print(f'> Pecision: {np.mean(_precision)} (+- {np.std(_precision)})')\n",
    "print(f'> Recall: {np.mean(_recal)} (+- {np.std(_recal)})')\n",
    "print(f'> F1: {np.mean(_f1)} (+- {np.std(_f1)})')\n",
    "print(f'> Loss: {np.mean(loss_per_fold)}')\n",
    "print('------------------------------------------------------------------------')"
   ]
  },
  {
   "cell_type": "markdown",
   "metadata": {},
   "source": [
    "## SET 10 "
   ]
  },
  {
   "cell_type": "code",
   "execution_count": 3,
   "metadata": {},
   "outputs": [
    {
     "name": "stdout",
     "output_type": "stream",
     "text": [
      "(35470, 1900, 1)\n",
      "(3556, 1900, 1)\n",
      "(8868, 1900, 1)\n"
     ]
    }
   ],
   "source": [
    "import pickle5 as pickle\n",
    "with open( \"/mnt/vdb/thesis/trainingset2/set10/jax/AMPNonAMP.reps\", 'rb') as file:\n",
    "    AMPNonAMP_df = pickle.load(file)\n",
    "with open( \"/mnt/vdb/thesis/trainingset2/benchmark_set/jax/AMPNonAMP.benchmark_set.reps\", 'rb') as file:\n",
    "    benchmark_AMPs_df = pickle.load(file)\n",
    "    \n",
    "X_train = np.array(AMPNonAMP_df['reps'].to_list())\n",
    "y_train = np.array(AMPNonAMP_df['class'].to_list())\n",
    "X_test = np.array(benchmark_AMPs_df[\"reps\"].to_list())\n",
    "y_test = np.array( benchmark_AMPs_df[\"class\"].to_list())\n",
    "\n",
    "X_train, X_val, y_train, y_val = train_test_split(X_train, y_train, test_size=0.2, random_state=42)\n",
    "\n",
    "X_train = np.reshape(X_train,(X_train.shape[0],X_train.shape[1],1))\n",
    "print(X_train.shape)\n",
    "X_test = np.reshape(X_test,(X_test.shape[0],X_test.shape[1],1))\n",
    "print(X_test.shape)\n",
    "X_val = np.reshape(X_val,(X_val.shape[0],X_val.shape[1],1))\n",
    "print(X_val.shape)\n"
   ]
  },
  {
   "cell_type": "code",
   "execution_count": 7,
   "metadata": {},
   "outputs": [
    {
     "name": "stdout",
     "output_type": "stream",
     "text": [
      "WARNING:tensorflow:`period` argument is deprecated. Please use `save_freq` to specify the frequency in number of batches seen.\n",
      " Learning rate:  0.001\n",
      "Epoch 1/100\n",
      "  2/278 [..............................] - ETA: 23s - loss: 1.9185 - accuracy: 0.6406WARNING:tensorflow:Callbacks method `on_train_batch_end` is slow compared to the batch time (batch time: 0.0614s vs `on_train_batch_end` time: 0.1080s). Check your callbacks.\n",
      "278/278 [==============================] - 50s 181ms/step - loss: 1.0846 - accuracy: 0.8448 - val_loss: 8.8734 - val_accuracy: 0.5029\n",
      " Learning rate:  0.001\n",
      "Epoch 2/100\n",
      "278/278 [==============================] - 50s 180ms/step - loss: 0.5510 - accuracy: 0.8633 - val_loss: 0.8941 - val_accuracy: 0.6063\n",
      " Learning rate:  0.001\n",
      "Epoch 3/100\n",
      "278/278 [==============================] - 50s 179ms/step - loss: 0.3851 - accuracy: 0.8676 - val_loss: 0.3852 - val_accuracy: 0.8490\n",
      " Learning rate:  0.001\n",
      "Epoch 4/100\n",
      "278/278 [==============================] - 50s 180ms/step - loss: 0.3227 - accuracy: 0.8755 - val_loss: 0.3452 - val_accuracy: 0.8570\n",
      " Learning rate:  0.001\n",
      "Epoch 5/100\n",
      "278/278 [==============================] - 50s 180ms/step - loss: 0.2964 - accuracy: 0.8815 - val_loss: 0.4689 - val_accuracy: 0.8373\n",
      " Learning rate:  0.001\n",
      "Epoch 6/100\n",
      "278/278 [==============================] - 50s 179ms/step - loss: 0.2842 - accuracy: 0.8873 - val_loss: 0.3849 - val_accuracy: 0.8360\n",
      " Learning rate:  0.001\n",
      "Epoch 7/100\n",
      "278/278 [==============================] - 50s 180ms/step - loss: 0.2751 - accuracy: 0.8874 - val_loss: 0.4804 - val_accuracy: 0.7927\n",
      " Learning rate:  0.001\n",
      "Epoch 8/100\n",
      "278/278 [==============================] - 50s 180ms/step - loss: 0.2720 - accuracy: 0.8910 - val_loss: 0.4930 - val_accuracy: 0.7507\n",
      " Learning rate:  0.001\n",
      "Epoch 9/100\n",
      "278/278 [==============================] - 50s 180ms/step - loss: 0.2594 - accuracy: 0.8972 - val_loss: 0.4478 - val_accuracy: 0.8126\n",
      " Learning rate:  0.001\n",
      "Epoch 10/100\n",
      "278/278 [==============================] - 50s 180ms/step - loss: 0.2553 - accuracy: 0.8999 - val_loss: 0.8312 - val_accuracy: 0.7367\n",
      " Learning rate:  0.001\n",
      "Epoch 11/100\n",
      "278/278 [==============================] - 50s 180ms/step - loss: 0.2459 - accuracy: 0.9052 - val_loss: 0.3753 - val_accuracy: 0.8330\n",
      " Learning rate:  0.001\n",
      "Epoch 12/100\n",
      "278/278 [==============================] - 50s 180ms/step - loss: 0.2412 - accuracy: 0.9082 - val_loss: 0.5439 - val_accuracy: 0.7823\n",
      " Learning rate:  0.001\n",
      "Epoch 13/100\n",
      "278/278 [==============================] - 50s 180ms/step - loss: 0.2343 - accuracy: 0.9124 - val_loss: 0.3613 - val_accuracy: 0.8691\n",
      " Learning rate:  0.001\n",
      "Epoch 14/100\n",
      "278/278 [==============================] - 50s 180ms/step - loss: 0.2247 - accuracy: 0.9184 - val_loss: 0.3715 - val_accuracy: 0.8668\n",
      " Learning rate:  0.001\n",
      "Epoch 15/100\n",
      "278/278 [==============================] - 50s 180ms/step - loss: 0.2175 - accuracy: 0.9213 - val_loss: 0.3812 - val_accuracy: 0.8718\n",
      " Learning rate:  0.001\n",
      "Epoch 16/100\n",
      "278/278 [==============================] - 50s 180ms/step - loss: 0.2129 - accuracy: 0.9244 - val_loss: 0.4463 - val_accuracy: 0.8524\n",
      " Learning rate:  0.001\n",
      "Epoch 17/100\n",
      "278/278 [==============================] - 50s 180ms/step - loss: 0.1982 - accuracy: 0.9328 - val_loss: 0.5997 - val_accuracy: 0.8321\n",
      " Learning rate:  0.001\n",
      "Epoch 18/100\n",
      "278/278 [==============================] - 50s 180ms/step - loss: 0.1897 - accuracy: 0.9359 - val_loss: 0.5294 - val_accuracy: 0.8329\n",
      " Learning rate:  0.001\n",
      "Epoch 19/100\n",
      "278/278 [==============================] - 50s 180ms/step - loss: 0.1784 - accuracy: 0.9425 - val_loss: 0.4646 - val_accuracy: 0.8643\n",
      "Epoch 00019: early stopping\n"
     ]
    }
   ],
   "source": [
    "# Early Stopping\n",
    "es = EarlyStopping(monitor='val_loss', patience=15, verbose=1)\n",
    "# val_loss\n",
    "# ProtCNN_256X2_NN1221X4.V2.h5\n",
    "checkpoint = ModelCheckpoint(\"/mnt/vdb/thesis/ProtCNN.set10.h5\", monitor='loss', verbose=1,\n",
    "    save_best_only=True, mode='auto', period=1)\n",
    "\n",
    "# val_accuracy\n",
    "\n",
    "lr_scheduler = LearningRateScheduler(lr_schedule)\n",
    "model_ProtCNN = create_Modelbaseline_jax()\n",
    "history2 = model_ProtCNN.fit(\n",
    "    X_train, y_train,\n",
    "    epochs=100, batch_size=128,\n",
    "    validation_data=(X_val, y_val),\n",
    "    callbacks=[ es,lr_scheduler]\n",
    "    )\n"
   ]
  },
  {
   "cell_type": "code",
   "execution_count": 8,
   "metadata": {},
   "outputs": [
    {
     "name": "stdout",
     "output_type": "stream",
     "text": [
      "              precision    recall  f1-score   support\n",
      "\n",
      "           0       0.76      0.82      0.79      1778\n",
      "           1       0.81      0.75      0.78      1778\n",
      "\n",
      "    accuracy                           0.78      3556\n",
      "   macro avg       0.79      0.78      0.78      3556\n",
      "weighted avg       0.79      0.78      0.78      3556\n",
      "\n"
     ]
    },
    {
     "data": {
      "image/png": "[encoded data removed]",
      "text/plain": [
       "<Figure size 864x360 with 2 Axes>"
      ]
     },
     "metadata": {
      "needs_background": "light"
     },
     "output_type": "display_data"
    }
   ],
   "source": [
    "y_probas = model_ProtCNN.predict(X_test)\n",
    "threshold = 0.5\n",
    "y_predict = np.where(y_probas > threshold, 1, 0)\n",
    "print(classification_report(y_test, y_predict))\n",
    "plot_history(history2)"
   ]
  },
  {
   "cell_type": "code",
   "execution_count": 9,
   "metadata": {},
   "outputs": [
    {
     "data": {
      "image/png": "[encoded data removed]",
      "text/plain": [
       "<Figure size 432x288 with 1 Axes>"
      ]
     },
     "metadata": {
      "needs_background": "light"
     },
     "output_type": "display_data"
    },
    {
     "data": {
      "image/png": "[encoded data removed]",
      "text/plain": [
       "<Figure size 432x288 with 1 Axes>"
      ]
     },
     "metadata": {
      "needs_background": "light"
     },
     "output_type": "display_data"
    }
   ],
   "source": [
    "create_roc_curve(y_test,y_probas)\n",
    "# plot precision-recall curves\n",
    "plot_pr_curve(y_test, y_probas)"
   ]
  },
  {
   "cell_type": "code",
   "execution_count": 12,
   "metadata": {},
   "outputs": [],
   "source": [
    "from tensorflow import keras\n",
    "model = keras.models.load_model('/mnt/vdb/thesis/ProtCNN.set9.h5')\n",
    "\n",
    "# Lower Threashod\n",
    "with open( \"/mnt/vdb/thesis/trainingset2/benchmark_set/jax/AMPNonAMP.benchmark_set.reps\", 'rb') as file:\n",
    "    benchmark_AMPs_df = pickle.load(file)\n",
    "    \n",
    "X_test = np.array(benchmark_AMPs_df[\"reps\"].to_list())\n",
    "y_test = np.array( benchmark_AMPs_df[\"class\"].to_list())    \n",
    "\n"
   ]
  },
  {
   "cell_type": "code",
   "execution_count": 4,
   "metadata": {},
   "outputs": [],
   "source": [
    "from tensorflow import keras\n",
    "model = keras.models.load_model('/mnt/vdb/thesis/ProtCNN.set9.pssm.h5')\n",
    "\n",
    "with open( \"../datasets/thesis/trainingset2/benchmark_set/AMPnonAMP.pssm.pkl\", 'rb') as file:\n",
    "    benchmark_AMPs_df = pickle.load(file)\n",
    "\n",
    "X_test = np.array(benchmark_AMPs_df[\"reps\"].to_list())\n",
    "y_test = np.array( benchmark_AMPs_df[\"class\"].to_list())    "
   ]
  },
  {
   "cell_type": "code",
   "execution_count": 5,
   "metadata": {},
   "outputs": [
    {
     "name": "stdout",
     "output_type": "stream",
     "text": [
      "              precision    recall  f1-score   support\n",
      "\n",
      "           0       0.80      0.88      0.84      1778\n",
      "           1       0.87      0.77      0.82      1778\n",
      "\n",
      "    accuracy                           0.83      3556\n",
      "   macro avg       0.83      0.83      0.83      3556\n",
      "weighted avg       0.83      0.83      0.83      3556\n",
      "\n"
     ]
    }
   ],
   "source": [
    "# -set9 -PSSM\n",
    "y_probas = model.predict(X_test)\n",
    "threshold = 0.5\n",
    "y_predict = np.where(y_probas > threshold, 1, 0)\n",
    "print(classification_report(y_test, y_predict))"
   ]
  },
  {
   "cell_type": "code",
   "execution_count": 16,
   "metadata": {},
   "outputs": [
    {
     "name": "stdout",
     "output_type": "stream",
     "text": [
      "              precision    recall  f1-score   support\n",
      "\n",
      "           0       0.83      0.84      0.83      1778\n",
      "           1       0.84      0.83      0.83      1778\n",
      "\n",
      "    accuracy                           0.83      3556\n",
      "   macro avg       0.83      0.83      0.83      3556\n",
      "weighted avg       0.83      0.83      0.83      3556\n",
      "\n"
     ]
    }
   ],
   "source": [
    "threshold = 0.19\n",
    "y_predict = np.where(y_probas > threshold, 1, 0)\n",
    "print(classification_report(y_test, y_predict))"
   ]
  },
  {
   "cell_type": "code",
   "execution_count": 7,
   "metadata": {},
   "outputs": [],
   "source": [
    "# - set 10\n",
    "from tensorflow import keras\n",
    "model = keras.models.load_model('/mnt/vdb/thesis/ProtCNN.V5.set10.h5')\n",
    "\n",
    "# Lower Threashod\n",
    "with open( \"/mnt/vdb/thesis/trainingset2/benchmark_set/jax/AMPNonAMP.benchmark_set.reps\", 'rb') as file:\n",
    "    benchmark_AMPs_df = pickle.load(file)\n",
    "    \n",
    "X_test = np.array(benchmark_AMPs_df[\"reps\"].to_list())\n",
    "y_test = np.array( benchmark_AMPs_df[\"class\"].to_list())    \n"
   ]
  },
  {
   "cell_type": "code",
   "execution_count": 38,
   "metadata": {},
   "outputs": [
    {
     "name": "stdout",
     "output_type": "stream",
     "text": [
      "              precision    recall  f1-score   support\n",
      "\n",
      "           0       0.76      0.82      0.79      1778\n",
      "           1       0.81      0.75      0.78      1778\n",
      "\n",
      "    accuracy                           0.78      3556\n",
      "   macro avg       0.79      0.78      0.78      3556\n",
      "weighted avg       0.79      0.78      0.78      3556\n",
      "\n"
     ]
    }
   ],
   "source": [
    "y_probas = model.predict(X_test)\n",
    "threshold = 0.5\n",
    "y_predict = np.where(y_probas > threshold, 1, 0)\n",
    "print(classification_report(y_test, y_predict))"
   ]
  },
  {
   "cell_type": "code",
   "execution_count": 39,
   "metadata": {},
   "outputs": [
    {
     "name": "stdout",
     "output_type": "stream",
     "text": [
      "              precision    recall  f1-score   support\n",
      "\n",
      "           0       0.79      0.78      0.79      1778\n",
      "           1       0.78      0.79      0.79      1778\n",
      "\n",
      "    accuracy                           0.79      3556\n",
      "   macro avg       0.79      0.79      0.79      3556\n",
      "weighted avg       0.79      0.79      0.79      3556\n",
      "\n"
     ]
    }
   ],
   "source": [
    "threshold = 0.4\n",
    "y_predict = np.where(y_probas > threshold, 1, 0)\n",
    "print(classification_report(y_test, y_predict))"
   ]
  },
  {
   "cell_type": "code",
   "execution_count": 57,
   "metadata": {},
   "outputs": [
    {
     "name": "stdout",
     "output_type": "stream",
     "text": [
      "              precision    recall  f1-score   support\n",
      "\n",
      "           0       0.78      0.80      0.79      1778\n",
      "           1       0.79      0.78      0.78      1778\n",
      "\n",
      "    accuracy                           0.79      3556\n",
      "   macro avg       0.79      0.79      0.79      3556\n",
      "weighted avg       0.79      0.79      0.79      3556\n",
      "\n"
     ]
    },
    {
     "data": {
      "image/png": "[encoded data removed]",
      "text/plain": [
       "<Figure size 432x288 with 1 Axes>"
      ]
     },
     "metadata": {
      "needs_background": "light"
     },
     "output_type": "display_data"
    },
    {
     "data": {
      "image/png": "[encoded data removed]",
      "text/plain": [
       "<Figure size 432x288 with 1 Axes>"
      ]
     },
     "metadata": {
      "needs_background": "light"
     },
     "output_type": "display_data"
    }
   ],
   "source": [
    "threshold = 0.43\n",
    "y_predict = np.where(y_probas > threshold, 1, 0)\n",
    "print(classification_report(y_test, y_predict))\n",
    "create_roc_curve(y_test,y_probas)\n",
    "# plot precision-recall curves\n",
    "plot_pr_curve(y_test, y_probas)"
   ]
  },
  {
   "cell_type": "markdown",
   "metadata": {},
   "source": [
    "# Benchhmark 920"
   ]
  },
  {
   "cell_type": "code",
   "execution_count": 3,
   "metadata": {},
   "outputs": [],
   "source": [
    "from tensorflow import keras\n",
    "model = keras.models.load_model('/mnt/vdb/thesis/ProtCNN.V5.set10.h5')\n",
    "\n",
    "# Lower Threashod\n",
    "with open( \"/mnt/vdb/thesis/trainingset2/benchmark_set_920/jax/AMPNonAMP.benchmark_set.reps\", 'rb') as file:\n",
    "    benchmark_AMPs_df = pickle.load(file)\n",
    "    \n",
    "X_test = np.array(benchmark_AMPs_df[\"reps\"].to_list())\n",
    "y_test = np.array( benchmark_AMPs_df[\"class\"].to_list())    \n"
   ]
  },
  {
   "cell_type": "code",
   "execution_count": 5,
   "metadata": {},
   "outputs": [
    {
     "name": "stdout",
     "output_type": "stream",
     "text": [
      "              precision    recall  f1-score   support\n",
      "\n",
      "           0       0.66      0.85      0.74       920\n",
      "           1       0.78      0.56      0.65       920\n",
      "\n",
      "    accuracy                           0.70      1840\n",
      "   macro avg       0.72      0.70      0.70      1840\n",
      "weighted avg       0.72      0.70      0.70      1840\n",
      "\n"
     ]
    },
    {
     "data": {
      "image/png": "[encoded data removed]",
      "text/plain": [
       "<Figure size 432x288 with 1 Axes>"
      ]
     },
     "metadata": {
      "needs_background": "light"
     },
     "output_type": "display_data"
    },
    {
     "data": {
      "image/png": "[encoded data removed]",
      "text/plain": [
       "<Figure size 432x288 with 1 Axes>"
      ]
     },
     "metadata": {
      "needs_background": "light"
     },
     "output_type": "display_data"
    }
   ],
   "source": [
    "threshold = 0.43\n",
    "y_probas = model.predict(X_test)\n",
    "y_predict = np.where(y_probas > threshold, 1, 0)\n",
    "print(classification_report(y_test, y_predict))\n",
    "create_roc_curve(y_test,y_probas)\n",
    "# plot precision-recall curves\n",
    "plot_pr_curve(y_test, y_probas)"
   ]
  },
  {
   "cell_type": "markdown",
   "metadata": {},
   "source": [
    "# Benchmark 721"
   ]
  },
  {
   "cell_type": "code",
   "execution_count": 6,
   "metadata": {},
   "outputs": [
    {
     "data": {
      "text/html": [
       "<div>\n",
       "<style scoped>\n",
       "    .dataframe tbody tr th:only-of-type {\n",
       "        vertical-align: middle;\n",
       "    }\n",
       "\n",
       "    .dataframe tbody tr th {\n",
       "        vertical-align: top;\n",
       "    }\n",
       "\n",
       "    .dataframe thead th {\n",
       "        text-align: right;\n",
       "    }\n",
       "</style>\n",
       "<table border=\"1\" class=\"dataframe\">\n",
       "  <thead>\n",
       "    <tr style=\"text-align: right;\">\n",
       "      <th></th>\n",
       "      <th>ID</th>\n",
       "      <th>Sequence</th>\n",
       "      <th>length</th>\n",
       "    </tr>\n",
       "  </thead>\n",
       "  <tbody>\n",
       "    <tr>\n",
       "      <th>0</th>\n",
       "      <td>AP01235</td>\n",
       "      <td>FNKLKQGSSKRTCAKCFRKIMPSVHELDERRRGANRWAAGFRKCVS...</td>\n",
       "      <td>51</td>\n",
       "    </tr>\n",
       "    <tr>\n",
       "      <th>1</th>\n",
       "      <td>AP02387</td>\n",
       "      <td>RLGTALPALLKTLLAGLNG</td>\n",
       "      <td>19</td>\n",
       "    </tr>\n",
       "    <tr>\n",
       "      <th>2</th>\n",
       "      <td>AP02150</td>\n",
       "      <td>YEALVTSILGKLTGLWHNDSVDFMGHICYFRRRPKIRRFKLYHEGK...</td>\n",
       "      <td>65</td>\n",
       "    </tr>\n",
       "    <tr>\n",
       "      <th>3</th>\n",
       "      <td>AP00314</td>\n",
       "      <td>VFCTCRGFLCGSGERASGSCTINGVRHTLCCRR</td>\n",
       "      <td>33</td>\n",
       "    </tr>\n",
       "    <tr>\n",
       "      <th>4</th>\n",
       "      <td>AP01183</td>\n",
       "      <td>ATYYGNGLYCNKEKCWVDWNQAKGEIGKIIVNGWVNHGPWAPRR</td>\n",
       "      <td>44</td>\n",
       "    </tr>\n",
       "    <tr>\n",
       "      <th>...</th>\n",
       "      <td>...</td>\n",
       "      <td>...</td>\n",
       "      <td>...</td>\n",
       "    </tr>\n",
       "    <tr>\n",
       "      <th>1419</th>\n",
       "      <td>UniRef50_Q2FLE8</td>\n",
       "      <td>PYYWINGPLVTDAPEGTDVHAIHKGNISI</td>\n",
       "      <td>29</td>\n",
       "    </tr>\n",
       "    <tr>\n",
       "      <th>1420</th>\n",
       "      <td>UniRef50_A8QA64</td>\n",
       "      <td>WLGERWVVQTVLP</td>\n",
       "      <td>13</td>\n",
       "    </tr>\n",
       "    <tr>\n",
       "      <th>1421</th>\n",
       "      <td>UniRef50_Q9V4S8</td>\n",
       "      <td>PGTSGGLGQSELR</td>\n",
       "      <td>13</td>\n",
       "    </tr>\n",
       "    <tr>\n",
       "      <th>1422</th>\n",
       "      <td>UniRef50_Q8EFB4</td>\n",
       "      <td>ELIQGLTQPVLGVCLGMQMLTLLSKERGGQALDCQAHDCKCLGIIP...</td>\n",
       "      <td>79</td>\n",
       "    </tr>\n",
       "    <tr>\n",
       "      <th>1423</th>\n",
       "      <td>UniRef50_Q9Y6Y1</td>\n",
       "      <td>EWAKWTKEELIGQLKPMFHGIKWTCSNGNSS</td>\n",
       "      <td>31</td>\n",
       "    </tr>\n",
       "  </tbody>\n",
       "</table>\n",
       "<p>1424 rows × 3 columns</p>\n",
       "</div>"
      ],
      "text/plain": [
       "                   ID                                           Sequence  \\\n",
       "0             AP01235  FNKLKQGSSKRTCAKCFRKIMPSVHELDERRRGANRWAAGFRKCVS...   \n",
       "1             AP02387                                RLGTALPALLKTLLAGLNG   \n",
       "2             AP02150  YEALVTSILGKLTGLWHNDSVDFMGHICYFRRRPKIRRFKLYHEGK...   \n",
       "3             AP00314                  VFCTCRGFLCGSGERASGSCTINGVRHTLCCRR   \n",
       "4             AP01183       ATYYGNGLYCNKEKCWVDWNQAKGEIGKIIVNGWVNHGPWAPRR   \n",
       "...               ...                                                ...   \n",
       "1419  UniRef50_Q2FLE8                      PYYWINGPLVTDAPEGTDVHAIHKGNISI   \n",
       "1420  UniRef50_A8QA64                                      WLGERWVVQTVLP   \n",
       "1421  UniRef50_Q9V4S8                                      PGTSGGLGQSELR   \n",
       "1422  UniRef50_Q8EFB4  ELIQGLTQPVLGVCLGMQMLTLLSKERGGQALDCQAHDCKCLGIIP...   \n",
       "1423  UniRef50_Q9Y6Y1                    EWAKWTKEELIGQLKPMFHGIKWTCSNGNSS   \n",
       "\n",
       "      length  \n",
       "0         51  \n",
       "1         19  \n",
       "2         65  \n",
       "3         33  \n",
       "4         44  \n",
       "...      ...  \n",
       "1419      29  \n",
       "1420      13  \n",
       "1421      13  \n",
       "1422      79  \n",
       "1423      31  \n",
       "\n",
       "[1424 rows x 3 columns]"
      ]
     },
     "execution_count": 6,
     "metadata": {},
     "output_type": "execute_result"
    }
   ],
   "source": [
    "from Bio import SeqIO\n",
    "amp_fasta= \"../datasets/thesis/trainingset2/benchmark_set/721/test.only.fa\"\n",
    "with open(amp_fasta) as fasta_file:  # Will close handle cleanly\n",
    "    identifiers = []\n",
    "    lengths = []\n",
    "    sequence = []\n",
    "    for seq_record in SeqIO.parse(fasta_file, 'fasta'):  # (generator)\n",
    "        identifiers.append(seq_record.id)\n",
    "        sequence.append(str(seq_record.seq))\n",
    "        lengths.append(len(seq_record.seq))\n",
    "\n",
    "test_df = pd.DataFrame(list(zip(identifiers, sequence, lengths)), columns =['ID', 'Sequence', 'length']) \n",
    "test_df # 127018"
   ]
  },
  {
   "cell_type": "code",
   "execution_count": 19,
   "metadata": {},
   "outputs": [
    {
     "name": "stdout",
     "output_type": "stream",
     "text": [
      "              precision    recall  f1-score   support\n",
      "\n",
      "           0       0.79      0.81      0.80       712\n",
      "           1       0.80      0.79      0.80       712\n",
      "\n",
      "    accuracy                           0.80      1424\n",
      "   macro avg       0.80      0.80      0.80      1424\n",
      "weighted avg       0.80      0.80      0.80      1424\n",
      "\n"
     ]
    },
    {
     "data": {
      "image/png": "[encoded data removed]",
      "text/plain": [
       "<Figure size 432x288 with 1 Axes>"
      ]
     },
     "metadata": {
      "needs_background": "light"
     },
     "output_type": "display_data"
    },
    {
     "data": {
      "image/png": "[encoded data removed]",
      "text/plain": [
       "<Figure size 432x288 with 1 Axes>"
      ]
     },
     "metadata": {
      "needs_background": "light"
     },
     "output_type": "display_data"
    }
   ],
   "source": [
    "benchmark_AMPs_df = benchmark_AMPs_df[benchmark_AMPs_df.ID.isin(test_df[\"ID\"].to_list())]\n",
    "X_test = np.array(benchmark_AMPs_df[\"reps\"].to_list())\n",
    "y_test = np.array( benchmark_AMPs_df[\"class\"].to_list())\n",
    "threshold = 0.44\n",
    "y_probas = model.predict(X_test)\n",
    "y_predict = np.where(y_probas > threshold, 1, 0)\n",
    "print(classification_report(y_test, y_predict))\n",
    "create_roc_curve(y_test,y_probas)\n",
    "# plot precision-recall curves\n",
    "plot_pr_curve(y_test, y_probas)"
   ]
  },
  {
   "cell_type": "code",
   "execution_count": null,
   "metadata": {},
   "outputs": [],
   "source": []
  }
 ],
 "metadata": {
  "accelerator": "GPU",
  "colab": {
   "collapsed_sections": [],
   "name": "CustomDNNModel.ipynb",
   "provenance": [],
   "toc_visible": true
  },
  "kernelspec": {
   "display_name": "Python 3",
   "language": "python",
   "name": "python3"
  },
  "language_info": {
   "codemirror_mode": {
    "name": "ipython",
    "version": 3
   },
   "file_extension": ".py",
   "mimetype": "text/x-python",
   "name": "python",
   "nbconvert_exporter": "python",
   "pygments_lexer": "ipython3",
   "version": "3.7.10"
  }
 },
 "nbformat": 4,
 "nbformat_minor": 4
}
