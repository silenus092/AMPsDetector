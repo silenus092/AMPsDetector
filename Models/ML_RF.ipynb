{
 "cells": [
  {
   "cell_type": "code",
   "execution_count": 1,
   "metadata": {},
   "outputs": [],
   "source": [
    "from sklearn.model_selection import cross_validate\n",
    "from sklearn.model_selection import train_test_split\n",
    "from sklearn.model_selection import cross_val_score\n",
    "from sklearn.model_selection import StratifiedKFold\n",
    "from sklearn.metrics import roc_curve,auc\n",
    "from sklearn.metrics import plot_confusion_matrix\n",
    "from sklearn.metrics import classification_report, confusion_matrix, accuracy_score\n",
    "from sklearn.model_selection  import GridSearchCV\n",
    "from sklearn.ensemble import RandomForestClassifier \n",
    "import pickle5 as pickle\n",
    "import matplotlib.pyplot as plt\n",
    "import numpy as np\n",
    "import pandas as pd"
   ]
  },
  {
   "cell_type": "code",
   "execution_count": 2,
   "metadata": {},
   "outputs": [],
   "source": [
    "from sklearn.metrics import precision_recall_curve\n",
    "from sklearn.metrics import plot_precision_recall_curve\n",
    "from sklearn.metrics import average_precision_score\n",
    "from sklearn.metrics import classification_report, confusion_matrix, accuracy_score\n",
    "from sklearn.metrics import plot_roc_curve\n",
    "import scikitplot as skplt\n",
    "\n",
    "def confusion_Matrix(classifier, X_test, y_test):\n",
    "    class_names = ['AMPs', 'NonAMPs']\n",
    "\n",
    "    disp = plot_confusion_matrix(classifier, X_test, y_test,\n",
    "                                display_labels = class_names,\n",
    "                                cmap=plt.cm.Blues, xticks_rotation='vertical')\n",
    "\n",
    "    disp.ax_.set_title(\" Confusion Matrix\")\n",
    "\n",
    "    print(disp.confusion_matrix)\n",
    "    plt.grid(False)\n",
    "    plt.show()\n",
    "\n",
    "def create_roc_curve(classifier, labels, scores):\n",
    "  disp = plot_roc_curve(classifier, X_test, y_test)\n",
    "  disp.ax_.set_title('ROC Curve')\n",
    "  #plt.show()\n",
    "\n",
    "def create_precision_recall_curve(model, y_test, x_test, pred):\n",
    "    average_precision = average_precision_score(y_test, pred)\n",
    "    disp = plot_precision_recall_curve(model, x_test, y_test)\n",
    "    disp.ax_.set_title('Precision-Recall curve')"
   ]
  },
  {
   "cell_type": "code",
   "execution_count": 3,
   "metadata": {},
   "outputs": [],
   "source": [
    "with open( \"/mnt/vdb/thesis/jax/AMPNonAMP.V5_C08_sim60.reps\", 'rb') as file:\n",
    "    AMPs_df = pickle.load(file)"
   ]
  },
  {
   "cell_type": "code",
   "execution_count": 3,
   "metadata": {},
   "outputs": [],
   "source": [
    "with open( \"/mnt/vdb/thesis/trainingset2/set10/jax/AMPNonAMP.reps\", 'rb') as file:\n",
    "    AMPNonAMP_df = pickle.load(file)\n",
    "\n",
    "with open( \"/mnt/vdb/thesis/trainingset2/benchmark_set/jax/AMPNonAMP.benchmark_set.reps\", 'rb') as file:\n",
    "    benchmark_AMPs_df = pickle.load(file)"
   ]
  },
  {
   "cell_type": "code",
   "execution_count": null,
   "metadata": {},
   "outputs": [],
   "source": [
    "AMPs_df.drop_duplicates(subset=['Sequence'],inplace=True)"
   ]
  },
  {
   "cell_type": "code",
   "execution_count": 4,
   "metadata": {},
   "outputs": [
    {
     "data": {
      "text/html": [
       "<div>\n",
       "<style scoped>\n",
       "    .dataframe tbody tr th:only-of-type {\n",
       "        vertical-align: middle;\n",
       "    }\n",
       "\n",
       "    .dataframe tbody tr th {\n",
       "        vertical-align: top;\n",
       "    }\n",
       "\n",
       "    .dataframe thead th {\n",
       "        text-align: right;\n",
       "    }\n",
       "</style>\n",
       "<table border=\"1\" class=\"dataframe\">\n",
       "  <thead>\n",
       "    <tr style=\"text-align: right;\">\n",
       "      <th></th>\n",
       "      <th>0</th>\n",
       "      <th>1</th>\n",
       "      <th>2</th>\n",
       "      <th>3</th>\n",
       "      <th>4</th>\n",
       "      <th>5</th>\n",
       "      <th>6</th>\n",
       "      <th>7</th>\n",
       "      <th>8</th>\n",
       "      <th>9</th>\n",
       "      <th>...</th>\n",
       "      <th>1891</th>\n",
       "      <th>1892</th>\n",
       "      <th>1893</th>\n",
       "      <th>1894</th>\n",
       "      <th>1895</th>\n",
       "      <th>1896</th>\n",
       "      <th>1897</th>\n",
       "      <th>1898</th>\n",
       "      <th>1899</th>\n",
       "      <th>class</th>\n",
       "    </tr>\n",
       "  </thead>\n",
       "  <tbody>\n",
       "    <tr>\n",
       "      <th>210</th>\n",
       "      <td>0.020596</td>\n",
       "      <td>0.051454</td>\n",
       "      <td>0.009273</td>\n",
       "      <td>0.008583</td>\n",
       "      <td>-0.158560</td>\n",
       "      <td>0.096443</td>\n",
       "      <td>-0.280527</td>\n",
       "      <td>-0.004144</td>\n",
       "      <td>-0.024222</td>\n",
       "      <td>0.139821</td>\n",
       "      <td>...</td>\n",
       "      <td>0.017658</td>\n",
       "      <td>-0.178922</td>\n",
       "      <td>0.061034</td>\n",
       "      <td>-0.049153</td>\n",
       "      <td>-0.008552</td>\n",
       "      <td>0.295699</td>\n",
       "      <td>0.078237</td>\n",
       "      <td>0.084181</td>\n",
       "      <td>-0.002584</td>\n",
       "      <td>0</td>\n",
       "    </tr>\n",
       "    <tr>\n",
       "      <th>371</th>\n",
       "      <td>0.006680</td>\n",
       "      <td>-0.095586</td>\n",
       "      <td>0.059442</td>\n",
       "      <td>-0.021558</td>\n",
       "      <td>0.138408</td>\n",
       "      <td>-0.023227</td>\n",
       "      <td>-0.168920</td>\n",
       "      <td>-0.101124</td>\n",
       "      <td>-0.007432</td>\n",
       "      <td>0.117733</td>\n",
       "      <td>...</td>\n",
       "      <td>0.028154</td>\n",
       "      <td>-0.020222</td>\n",
       "      <td>0.024706</td>\n",
       "      <td>-0.072173</td>\n",
       "      <td>0.014760</td>\n",
       "      <td>0.140324</td>\n",
       "      <td>0.024822</td>\n",
       "      <td>-0.013351</td>\n",
       "      <td>-0.060497</td>\n",
       "      <td>0</td>\n",
       "    </tr>\n",
       "    <tr>\n",
       "      <th>420</th>\n",
       "      <td>0.010706</td>\n",
       "      <td>0.005045</td>\n",
       "      <td>0.022312</td>\n",
       "      <td>-0.010357</td>\n",
       "      <td>-0.001492</td>\n",
       "      <td>0.035573</td>\n",
       "      <td>-0.232180</td>\n",
       "      <td>-0.016746</td>\n",
       "      <td>-0.010970</td>\n",
       "      <td>0.026109</td>\n",
       "      <td>...</td>\n",
       "      <td>0.133411</td>\n",
       "      <td>-0.094850</td>\n",
       "      <td>0.031804</td>\n",
       "      <td>-0.086968</td>\n",
       "      <td>-0.029461</td>\n",
       "      <td>0.069626</td>\n",
       "      <td>0.047517</td>\n",
       "      <td>0.130172</td>\n",
       "      <td>0.006449</td>\n",
       "      <td>0</td>\n",
       "    </tr>\n",
       "    <tr>\n",
       "      <th>168</th>\n",
       "      <td>0.002073</td>\n",
       "      <td>-0.076902</td>\n",
       "      <td>-0.021565</td>\n",
       "      <td>0.016011</td>\n",
       "      <td>-0.059204</td>\n",
       "      <td>0.027183</td>\n",
       "      <td>-0.491927</td>\n",
       "      <td>0.013376</td>\n",
       "      <td>-0.020296</td>\n",
       "      <td>0.069320</td>\n",
       "      <td>...</td>\n",
       "      <td>0.020355</td>\n",
       "      <td>-0.125865</td>\n",
       "      <td>0.025240</td>\n",
       "      <td>0.004637</td>\n",
       "      <td>-0.003113</td>\n",
       "      <td>0.012125</td>\n",
       "      <td>0.028679</td>\n",
       "      <td>0.384807</td>\n",
       "      <td>0.030021</td>\n",
       "      <td>0</td>\n",
       "    </tr>\n",
       "    <tr>\n",
       "      <th>344</th>\n",
       "      <td>0.029898</td>\n",
       "      <td>-0.004466</td>\n",
       "      <td>-0.015070</td>\n",
       "      <td>0.031181</td>\n",
       "      <td>-0.066619</td>\n",
       "      <td>0.152418</td>\n",
       "      <td>-0.388183</td>\n",
       "      <td>-0.017860</td>\n",
       "      <td>-0.035654</td>\n",
       "      <td>0.172902</td>\n",
       "      <td>...</td>\n",
       "      <td>-0.017706</td>\n",
       "      <td>-0.102827</td>\n",
       "      <td>0.035134</td>\n",
       "      <td>0.017357</td>\n",
       "      <td>0.010981</td>\n",
       "      <td>0.447118</td>\n",
       "      <td>0.093590</td>\n",
       "      <td>0.055483</td>\n",
       "      <td>0.014400</td>\n",
       "      <td>0</td>\n",
       "    </tr>\n",
       "    <tr>\n",
       "      <th>...</th>\n",
       "      <td>...</td>\n",
       "      <td>...</td>\n",
       "      <td>...</td>\n",
       "      <td>...</td>\n",
       "      <td>...</td>\n",
       "      <td>...</td>\n",
       "      <td>...</td>\n",
       "      <td>...</td>\n",
       "      <td>...</td>\n",
       "      <td>...</td>\n",
       "      <td>...</td>\n",
       "      <td>...</td>\n",
       "      <td>...</td>\n",
       "      <td>...</td>\n",
       "      <td>...</td>\n",
       "      <td>...</td>\n",
       "      <td>...</td>\n",
       "      <td>...</td>\n",
       "      <td>...</td>\n",
       "      <td>...</td>\n",
       "      <td>...</td>\n",
       "    </tr>\n",
       "    <tr>\n",
       "      <th>471</th>\n",
       "      <td>0.013467</td>\n",
       "      <td>-0.135259</td>\n",
       "      <td>0.022123</td>\n",
       "      <td>0.004654</td>\n",
       "      <td>0.001060</td>\n",
       "      <td>0.035953</td>\n",
       "      <td>-0.242629</td>\n",
       "      <td>-0.004931</td>\n",
       "      <td>-0.015722</td>\n",
       "      <td>0.167582</td>\n",
       "      <td>...</td>\n",
       "      <td>0.067011</td>\n",
       "      <td>-0.050945</td>\n",
       "      <td>0.003909</td>\n",
       "      <td>0.007646</td>\n",
       "      <td>0.042930</td>\n",
       "      <td>0.086973</td>\n",
       "      <td>0.000517</td>\n",
       "      <td>0.206966</td>\n",
       "      <td>0.017166</td>\n",
       "      <td>0</td>\n",
       "    </tr>\n",
       "    <tr>\n",
       "      <th>447</th>\n",
       "      <td>0.019307</td>\n",
       "      <td>-0.030070</td>\n",
       "      <td>-0.012818</td>\n",
       "      <td>0.012989</td>\n",
       "      <td>0.020863</td>\n",
       "      <td>0.016052</td>\n",
       "      <td>-0.325731</td>\n",
       "      <td>-0.042692</td>\n",
       "      <td>-0.017072</td>\n",
       "      <td>0.111204</td>\n",
       "      <td>...</td>\n",
       "      <td>0.015929</td>\n",
       "      <td>-0.156615</td>\n",
       "      <td>0.030351</td>\n",
       "      <td>-0.023633</td>\n",
       "      <td>0.000660</td>\n",
       "      <td>0.026462</td>\n",
       "      <td>-0.004548</td>\n",
       "      <td>0.140177</td>\n",
       "      <td>0.027681</td>\n",
       "      <td>0</td>\n",
       "    </tr>\n",
       "    <tr>\n",
       "      <th>5</th>\n",
       "      <td>0.008608</td>\n",
       "      <td>-0.057360</td>\n",
       "      <td>0.019528</td>\n",
       "      <td>0.004598</td>\n",
       "      <td>-0.079074</td>\n",
       "      <td>0.019588</td>\n",
       "      <td>-0.113827</td>\n",
       "      <td>-0.013885</td>\n",
       "      <td>-0.014072</td>\n",
       "      <td>0.050159</td>\n",
       "      <td>...</td>\n",
       "      <td>0.008678</td>\n",
       "      <td>-0.124026</td>\n",
       "      <td>0.029327</td>\n",
       "      <td>-0.062297</td>\n",
       "      <td>-0.022352</td>\n",
       "      <td>0.069006</td>\n",
       "      <td>0.003294</td>\n",
       "      <td>0.120658</td>\n",
       "      <td>0.082524</td>\n",
       "      <td>0</td>\n",
       "    </tr>\n",
       "    <tr>\n",
       "      <th>477</th>\n",
       "      <td>0.014597</td>\n",
       "      <td>-0.139941</td>\n",
       "      <td>0.026719</td>\n",
       "      <td>0.003316</td>\n",
       "      <td>-0.017684</td>\n",
       "      <td>0.038440</td>\n",
       "      <td>-0.253193</td>\n",
       "      <td>-0.000880</td>\n",
       "      <td>-0.015894</td>\n",
       "      <td>0.151149</td>\n",
       "      <td>...</td>\n",
       "      <td>0.062336</td>\n",
       "      <td>-0.044791</td>\n",
       "      <td>-0.008192</td>\n",
       "      <td>0.044289</td>\n",
       "      <td>0.043903</td>\n",
       "      <td>0.078633</td>\n",
       "      <td>-0.006654</td>\n",
       "      <td>0.192273</td>\n",
       "      <td>0.040663</td>\n",
       "      <td>0</td>\n",
       "    </tr>\n",
       "    <tr>\n",
       "      <th>341</th>\n",
       "      <td>0.007431</td>\n",
       "      <td>-0.062929</td>\n",
       "      <td>0.021139</td>\n",
       "      <td>0.005992</td>\n",
       "      <td>-0.084893</td>\n",
       "      <td>0.009822</td>\n",
       "      <td>-0.074385</td>\n",
       "      <td>-0.011151</td>\n",
       "      <td>-0.014763</td>\n",
       "      <td>0.014829</td>\n",
       "      <td>...</td>\n",
       "      <td>-0.002755</td>\n",
       "      <td>-0.119420</td>\n",
       "      <td>0.034385</td>\n",
       "      <td>-0.046803</td>\n",
       "      <td>-0.026525</td>\n",
       "      <td>0.077348</td>\n",
       "      <td>0.007957</td>\n",
       "      <td>0.099998</td>\n",
       "      <td>0.082130</td>\n",
       "      <td>0</td>\n",
       "    </tr>\n",
       "  </tbody>\n",
       "</table>\n",
       "<p>137389 rows × 1901 columns</p>\n",
       "</div>"
      ],
      "text/plain": [
       "            0         1         2         3         4         5         6  \\\n",
       "210  0.020596  0.051454  0.009273  0.008583 -0.158560  0.096443 -0.280527   \n",
       "371  0.006680 -0.095586  0.059442 -0.021558  0.138408 -0.023227 -0.168920   \n",
       "420  0.010706  0.005045  0.022312 -0.010357 -0.001492  0.035573 -0.232180   \n",
       "168  0.002073 -0.076902 -0.021565  0.016011 -0.059204  0.027183 -0.491927   \n",
       "344  0.029898 -0.004466 -0.015070  0.031181 -0.066619  0.152418 -0.388183   \n",
       "..        ...       ...       ...       ...       ...       ...       ...   \n",
       "471  0.013467 -0.135259  0.022123  0.004654  0.001060  0.035953 -0.242629   \n",
       "447  0.019307 -0.030070 -0.012818  0.012989  0.020863  0.016052 -0.325731   \n",
       "5    0.008608 -0.057360  0.019528  0.004598 -0.079074  0.019588 -0.113827   \n",
       "477  0.014597 -0.139941  0.026719  0.003316 -0.017684  0.038440 -0.253193   \n",
       "341  0.007431 -0.062929  0.021139  0.005992 -0.084893  0.009822 -0.074385   \n",
       "\n",
       "            7         8         9  ...      1891      1892      1893  \\\n",
       "210 -0.004144 -0.024222  0.139821  ...  0.017658 -0.178922  0.061034   \n",
       "371 -0.101124 -0.007432  0.117733  ...  0.028154 -0.020222  0.024706   \n",
       "420 -0.016746 -0.010970  0.026109  ...  0.133411 -0.094850  0.031804   \n",
       "168  0.013376 -0.020296  0.069320  ...  0.020355 -0.125865  0.025240   \n",
       "344 -0.017860 -0.035654  0.172902  ... -0.017706 -0.102827  0.035134   \n",
       "..        ...       ...       ...  ...       ...       ...       ...   \n",
       "471 -0.004931 -0.015722  0.167582  ...  0.067011 -0.050945  0.003909   \n",
       "447 -0.042692 -0.017072  0.111204  ...  0.015929 -0.156615  0.030351   \n",
       "5   -0.013885 -0.014072  0.050159  ...  0.008678 -0.124026  0.029327   \n",
       "477 -0.000880 -0.015894  0.151149  ...  0.062336 -0.044791 -0.008192   \n",
       "341 -0.011151 -0.014763  0.014829  ... -0.002755 -0.119420  0.034385   \n",
       "\n",
       "         1894      1895      1896      1897      1898      1899  class  \n",
       "210 -0.049153 -0.008552  0.295699  0.078237  0.084181 -0.002584      0  \n",
       "371 -0.072173  0.014760  0.140324  0.024822 -0.013351 -0.060497      0  \n",
       "420 -0.086968 -0.029461  0.069626  0.047517  0.130172  0.006449      0  \n",
       "168  0.004637 -0.003113  0.012125  0.028679  0.384807  0.030021      0  \n",
       "344  0.017357  0.010981  0.447118  0.093590  0.055483  0.014400      0  \n",
       "..        ...       ...       ...       ...       ...       ...    ...  \n",
       "471  0.007646  0.042930  0.086973  0.000517  0.206966  0.017166      0  \n",
       "447 -0.023633  0.000660  0.026462 -0.004548  0.140177  0.027681      0  \n",
       "5   -0.062297 -0.022352  0.069006  0.003294  0.120658  0.082524      0  \n",
       "477  0.044289  0.043903  0.078633 -0.006654  0.192273  0.040663      0  \n",
       "341 -0.046803 -0.026525  0.077348  0.007957  0.099998  0.082130      0  \n",
       "\n",
       "[137389 rows x 1901 columns]"
      ]
     },
     "execution_count": 4,
     "metadata": {},
     "output_type": "execute_result"
    }
   ],
   "source": [
    "df =AMPs_df[[\"reps\",\"class\"]]\n",
    "df\n",
    "df_new = df.reps.apply(pd.Series).astype(np.float64)\n",
    "df_new['class'] = df['class']\n",
    "df_new"
   ]
  },
  {
   "cell_type": "code",
   "execution_count": 5,
   "metadata": {},
   "outputs": [],
   "source": [
    "X = df_new.iloc[:,:-1]\n",
    "y = df_new.iloc[:,-1]\n",
    "X_train, X_test, y_train, y_test = train_test_split( X, y, test_size=0.2, random_state=42)"
   ]
  },
  {
   "cell_type": "code",
   "execution_count": 7,
   "metadata": {},
   "outputs": [
    {
     "data": {
      "text/html": [
       "<div>\n",
       "<style scoped>\n",
       "    .dataframe tbody tr th:only-of-type {\n",
       "        vertical-align: middle;\n",
       "    }\n",
       "\n",
       "    .dataframe tbody tr th {\n",
       "        vertical-align: top;\n",
       "    }\n",
       "\n",
       "    .dataframe thead th {\n",
       "        text-align: right;\n",
       "    }\n",
       "</style>\n",
       "<table border=\"1\" class=\"dataframe\">\n",
       "  <thead>\n",
       "    <tr style=\"text-align: right;\">\n",
       "      <th></th>\n",
       "      <th>0</th>\n",
       "      <th>1</th>\n",
       "      <th>2</th>\n",
       "      <th>3</th>\n",
       "      <th>4</th>\n",
       "      <th>5</th>\n",
       "      <th>6</th>\n",
       "      <th>7</th>\n",
       "      <th>8</th>\n",
       "      <th>9</th>\n",
       "      <th>...</th>\n",
       "      <th>1890</th>\n",
       "      <th>1891</th>\n",
       "      <th>1892</th>\n",
       "      <th>1893</th>\n",
       "      <th>1894</th>\n",
       "      <th>1895</th>\n",
       "      <th>1896</th>\n",
       "      <th>1897</th>\n",
       "      <th>1898</th>\n",
       "      <th>1899</th>\n",
       "    </tr>\n",
       "  </thead>\n",
       "  <tbody>\n",
       "    <tr>\n",
       "      <th>210</th>\n",
       "      <td>0.020596</td>\n",
       "      <td>0.051454</td>\n",
       "      <td>0.009273</td>\n",
       "      <td>0.008583</td>\n",
       "      <td>-0.158560</td>\n",
       "      <td>0.096443</td>\n",
       "      <td>-0.280527</td>\n",
       "      <td>-0.004144</td>\n",
       "      <td>-0.024222</td>\n",
       "      <td>0.139821</td>\n",
       "      <td>...</td>\n",
       "      <td>0.064921</td>\n",
       "      <td>0.017658</td>\n",
       "      <td>-0.178922</td>\n",
       "      <td>0.061034</td>\n",
       "      <td>-0.049153</td>\n",
       "      <td>-0.008552</td>\n",
       "      <td>0.295699</td>\n",
       "      <td>0.078237</td>\n",
       "      <td>0.084181</td>\n",
       "      <td>-0.002584</td>\n",
       "    </tr>\n",
       "    <tr>\n",
       "      <th>371</th>\n",
       "      <td>0.006680</td>\n",
       "      <td>-0.095586</td>\n",
       "      <td>0.059442</td>\n",
       "      <td>-0.021558</td>\n",
       "      <td>0.138408</td>\n",
       "      <td>-0.023227</td>\n",
       "      <td>-0.168920</td>\n",
       "      <td>-0.101124</td>\n",
       "      <td>-0.007432</td>\n",
       "      <td>0.117733</td>\n",
       "      <td>...</td>\n",
       "      <td>0.092843</td>\n",
       "      <td>0.028154</td>\n",
       "      <td>-0.020222</td>\n",
       "      <td>0.024706</td>\n",
       "      <td>-0.072173</td>\n",
       "      <td>0.014760</td>\n",
       "      <td>0.140324</td>\n",
       "      <td>0.024822</td>\n",
       "      <td>-0.013351</td>\n",
       "      <td>-0.060497</td>\n",
       "    </tr>\n",
       "    <tr>\n",
       "      <th>420</th>\n",
       "      <td>0.010706</td>\n",
       "      <td>0.005045</td>\n",
       "      <td>0.022312</td>\n",
       "      <td>-0.010357</td>\n",
       "      <td>-0.001492</td>\n",
       "      <td>0.035573</td>\n",
       "      <td>-0.232180</td>\n",
       "      <td>-0.016746</td>\n",
       "      <td>-0.010970</td>\n",
       "      <td>0.026109</td>\n",
       "      <td>...</td>\n",
       "      <td>0.048697</td>\n",
       "      <td>0.133411</td>\n",
       "      <td>-0.094850</td>\n",
       "      <td>0.031804</td>\n",
       "      <td>-0.086968</td>\n",
       "      <td>-0.029461</td>\n",
       "      <td>0.069626</td>\n",
       "      <td>0.047517</td>\n",
       "      <td>0.130172</td>\n",
       "      <td>0.006449</td>\n",
       "    </tr>\n",
       "    <tr>\n",
       "      <th>168</th>\n",
       "      <td>0.002073</td>\n",
       "      <td>-0.076902</td>\n",
       "      <td>-0.021565</td>\n",
       "      <td>0.016011</td>\n",
       "      <td>-0.059204</td>\n",
       "      <td>0.027183</td>\n",
       "      <td>-0.491927</td>\n",
       "      <td>0.013376</td>\n",
       "      <td>-0.020296</td>\n",
       "      <td>0.069320</td>\n",
       "      <td>...</td>\n",
       "      <td>0.037901</td>\n",
       "      <td>0.020355</td>\n",
       "      <td>-0.125865</td>\n",
       "      <td>0.025240</td>\n",
       "      <td>0.004637</td>\n",
       "      <td>-0.003113</td>\n",
       "      <td>0.012125</td>\n",
       "      <td>0.028679</td>\n",
       "      <td>0.384807</td>\n",
       "      <td>0.030021</td>\n",
       "    </tr>\n",
       "    <tr>\n",
       "      <th>344</th>\n",
       "      <td>0.029898</td>\n",
       "      <td>-0.004466</td>\n",
       "      <td>-0.015070</td>\n",
       "      <td>0.031181</td>\n",
       "      <td>-0.066619</td>\n",
       "      <td>0.152418</td>\n",
       "      <td>-0.388183</td>\n",
       "      <td>-0.017860</td>\n",
       "      <td>-0.035654</td>\n",
       "      <td>0.172902</td>\n",
       "      <td>...</td>\n",
       "      <td>0.037580</td>\n",
       "      <td>-0.017706</td>\n",
       "      <td>-0.102827</td>\n",
       "      <td>0.035134</td>\n",
       "      <td>0.017357</td>\n",
       "      <td>0.010981</td>\n",
       "      <td>0.447118</td>\n",
       "      <td>0.093590</td>\n",
       "      <td>0.055483</td>\n",
       "      <td>0.014400</td>\n",
       "    </tr>\n",
       "    <tr>\n",
       "      <th>...</th>\n",
       "      <td>...</td>\n",
       "      <td>...</td>\n",
       "      <td>...</td>\n",
       "      <td>...</td>\n",
       "      <td>...</td>\n",
       "      <td>...</td>\n",
       "      <td>...</td>\n",
       "      <td>...</td>\n",
       "      <td>...</td>\n",
       "      <td>...</td>\n",
       "      <td>...</td>\n",
       "      <td>...</td>\n",
       "      <td>...</td>\n",
       "      <td>...</td>\n",
       "      <td>...</td>\n",
       "      <td>...</td>\n",
       "      <td>...</td>\n",
       "      <td>...</td>\n",
       "      <td>...</td>\n",
       "      <td>...</td>\n",
       "      <td>...</td>\n",
       "    </tr>\n",
       "    <tr>\n",
       "      <th>471</th>\n",
       "      <td>0.013467</td>\n",
       "      <td>-0.135259</td>\n",
       "      <td>0.022123</td>\n",
       "      <td>0.004654</td>\n",
       "      <td>0.001060</td>\n",
       "      <td>0.035953</td>\n",
       "      <td>-0.242629</td>\n",
       "      <td>-0.004931</td>\n",
       "      <td>-0.015722</td>\n",
       "      <td>0.167582</td>\n",
       "      <td>...</td>\n",
       "      <td>0.022613</td>\n",
       "      <td>0.067011</td>\n",
       "      <td>-0.050945</td>\n",
       "      <td>0.003909</td>\n",
       "      <td>0.007646</td>\n",
       "      <td>0.042930</td>\n",
       "      <td>0.086973</td>\n",
       "      <td>0.000517</td>\n",
       "      <td>0.206966</td>\n",
       "      <td>0.017166</td>\n",
       "    </tr>\n",
       "    <tr>\n",
       "      <th>447</th>\n",
       "      <td>0.019307</td>\n",
       "      <td>-0.030070</td>\n",
       "      <td>-0.012818</td>\n",
       "      <td>0.012989</td>\n",
       "      <td>0.020863</td>\n",
       "      <td>0.016052</td>\n",
       "      <td>-0.325731</td>\n",
       "      <td>-0.042692</td>\n",
       "      <td>-0.017072</td>\n",
       "      <td>0.111204</td>\n",
       "      <td>...</td>\n",
       "      <td>0.049278</td>\n",
       "      <td>0.015929</td>\n",
       "      <td>-0.156615</td>\n",
       "      <td>0.030351</td>\n",
       "      <td>-0.023633</td>\n",
       "      <td>0.000660</td>\n",
       "      <td>0.026462</td>\n",
       "      <td>-0.004548</td>\n",
       "      <td>0.140177</td>\n",
       "      <td>0.027681</td>\n",
       "    </tr>\n",
       "    <tr>\n",
       "      <th>5</th>\n",
       "      <td>0.008608</td>\n",
       "      <td>-0.057360</td>\n",
       "      <td>0.019528</td>\n",
       "      <td>0.004598</td>\n",
       "      <td>-0.079074</td>\n",
       "      <td>0.019588</td>\n",
       "      <td>-0.113827</td>\n",
       "      <td>-0.013885</td>\n",
       "      <td>-0.014072</td>\n",
       "      <td>0.050159</td>\n",
       "      <td>...</td>\n",
       "      <td>0.069397</td>\n",
       "      <td>0.008678</td>\n",
       "      <td>-0.124026</td>\n",
       "      <td>0.029327</td>\n",
       "      <td>-0.062297</td>\n",
       "      <td>-0.022352</td>\n",
       "      <td>0.069006</td>\n",
       "      <td>0.003294</td>\n",
       "      <td>0.120658</td>\n",
       "      <td>0.082524</td>\n",
       "    </tr>\n",
       "    <tr>\n",
       "      <th>477</th>\n",
       "      <td>0.014597</td>\n",
       "      <td>-0.139941</td>\n",
       "      <td>0.026719</td>\n",
       "      <td>0.003316</td>\n",
       "      <td>-0.017684</td>\n",
       "      <td>0.038440</td>\n",
       "      <td>-0.253193</td>\n",
       "      <td>-0.000880</td>\n",
       "      <td>-0.015894</td>\n",
       "      <td>0.151149</td>\n",
       "      <td>...</td>\n",
       "      <td>0.023765</td>\n",
       "      <td>0.062336</td>\n",
       "      <td>-0.044791</td>\n",
       "      <td>-0.008192</td>\n",
       "      <td>0.044289</td>\n",
       "      <td>0.043903</td>\n",
       "      <td>0.078633</td>\n",
       "      <td>-0.006654</td>\n",
       "      <td>0.192273</td>\n",
       "      <td>0.040663</td>\n",
       "    </tr>\n",
       "    <tr>\n",
       "      <th>341</th>\n",
       "      <td>0.007431</td>\n",
       "      <td>-0.062929</td>\n",
       "      <td>0.021139</td>\n",
       "      <td>0.005992</td>\n",
       "      <td>-0.084893</td>\n",
       "      <td>0.009822</td>\n",
       "      <td>-0.074385</td>\n",
       "      <td>-0.011151</td>\n",
       "      <td>-0.014763</td>\n",
       "      <td>0.014829</td>\n",
       "      <td>...</td>\n",
       "      <td>0.062600</td>\n",
       "      <td>-0.002755</td>\n",
       "      <td>-0.119420</td>\n",
       "      <td>0.034385</td>\n",
       "      <td>-0.046803</td>\n",
       "      <td>-0.026525</td>\n",
       "      <td>0.077348</td>\n",
       "      <td>0.007957</td>\n",
       "      <td>0.099998</td>\n",
       "      <td>0.082130</td>\n",
       "    </tr>\n",
       "  </tbody>\n",
       "</table>\n",
       "<p>137389 rows × 1900 columns</p>\n",
       "</div>"
      ],
      "text/plain": [
       "         0         1         2         3         4         5         6     \\\n",
       "210  0.020596  0.051454  0.009273  0.008583 -0.158560  0.096443 -0.280527   \n",
       "371  0.006680 -0.095586  0.059442 -0.021558  0.138408 -0.023227 -0.168920   \n",
       "420  0.010706  0.005045  0.022312 -0.010357 -0.001492  0.035573 -0.232180   \n",
       "168  0.002073 -0.076902 -0.021565  0.016011 -0.059204  0.027183 -0.491927   \n",
       "344  0.029898 -0.004466 -0.015070  0.031181 -0.066619  0.152418 -0.388183   \n",
       "..        ...       ...       ...       ...       ...       ...       ...   \n",
       "471  0.013467 -0.135259  0.022123  0.004654  0.001060  0.035953 -0.242629   \n",
       "447  0.019307 -0.030070 -0.012818  0.012989  0.020863  0.016052 -0.325731   \n",
       "5    0.008608 -0.057360  0.019528  0.004598 -0.079074  0.019588 -0.113827   \n",
       "477  0.014597 -0.139941  0.026719  0.003316 -0.017684  0.038440 -0.253193   \n",
       "341  0.007431 -0.062929  0.021139  0.005992 -0.084893  0.009822 -0.074385   \n",
       "\n",
       "         7         8         9     ...      1890      1891      1892  \\\n",
       "210 -0.004144 -0.024222  0.139821  ...  0.064921  0.017658 -0.178922   \n",
       "371 -0.101124 -0.007432  0.117733  ...  0.092843  0.028154 -0.020222   \n",
       "420 -0.016746 -0.010970  0.026109  ...  0.048697  0.133411 -0.094850   \n",
       "168  0.013376 -0.020296  0.069320  ...  0.037901  0.020355 -0.125865   \n",
       "344 -0.017860 -0.035654  0.172902  ...  0.037580 -0.017706 -0.102827   \n",
       "..        ...       ...       ...  ...       ...       ...       ...   \n",
       "471 -0.004931 -0.015722  0.167582  ...  0.022613  0.067011 -0.050945   \n",
       "447 -0.042692 -0.017072  0.111204  ...  0.049278  0.015929 -0.156615   \n",
       "5   -0.013885 -0.014072  0.050159  ...  0.069397  0.008678 -0.124026   \n",
       "477 -0.000880 -0.015894  0.151149  ...  0.023765  0.062336 -0.044791   \n",
       "341 -0.011151 -0.014763  0.014829  ...  0.062600 -0.002755 -0.119420   \n",
       "\n",
       "         1893      1894      1895      1896      1897      1898      1899  \n",
       "210  0.061034 -0.049153 -0.008552  0.295699  0.078237  0.084181 -0.002584  \n",
       "371  0.024706 -0.072173  0.014760  0.140324  0.024822 -0.013351 -0.060497  \n",
       "420  0.031804 -0.086968 -0.029461  0.069626  0.047517  0.130172  0.006449  \n",
       "168  0.025240  0.004637 -0.003113  0.012125  0.028679  0.384807  0.030021  \n",
       "344  0.035134  0.017357  0.010981  0.447118  0.093590  0.055483  0.014400  \n",
       "..        ...       ...       ...       ...       ...       ...       ...  \n",
       "471  0.003909  0.007646  0.042930  0.086973  0.000517  0.206966  0.017166  \n",
       "447  0.030351 -0.023633  0.000660  0.026462 -0.004548  0.140177  0.027681  \n",
       "5    0.029327 -0.062297 -0.022352  0.069006  0.003294  0.120658  0.082524  \n",
       "477 -0.008192  0.044289  0.043903  0.078633 -0.006654  0.192273  0.040663  \n",
       "341  0.034385 -0.046803 -0.026525  0.077348  0.007957  0.099998  0.082130  \n",
       "\n",
       "[137389 rows x 1900 columns]"
      ]
     },
     "execution_count": 7,
     "metadata": {},
     "output_type": "execute_result"
    }
   ],
   "source": [
    "X"
   ]
  },
  {
   "cell_type": "code",
   "execution_count": 10,
   "metadata": {},
   "outputs": [],
   "source": [
    "\n",
    "RFclassifier = RandomForestClassifier ( random_state=42)\n",
    "RFclassifier.fit(X_train, y_train)\n",
    "y_pred = RFclassifier.predict(X_test)"
   ]
  },
  {
   "cell_type": "code",
   "execution_count": 11,
   "metadata": {},
   "outputs": [
    {
     "name": "stdout",
     "output_type": "stream",
     "text": [
      "              precision    recall  f1-score   support\n",
      "\n",
      "           0       0.92      0.91      0.91      4335\n",
      "           1       0.90      0.91      0.91      4056\n",
      "\n",
      "    accuracy                           0.91      8391\n",
      "   macro avg       0.91      0.91      0.91      8391\n",
      "weighted avg       0.91      0.91      0.91      8391\n",
      "\n",
      "0.9094267667739244\n"
     ]
    }
   ],
   "source": [
    "print(classification_report(y_test,y_pred))\n",
    "print(accuracy_score(y_test, y_pred))"
   ]
  },
  {
   "cell_type": "markdown",
   "metadata": {},
   "source": [
    "# Old method"
   ]
  },
  {
   "cell_type": "code",
   "execution_count": 3,
   "metadata": {},
   "outputs": [],
   "source": [
    "def confusion_Matrix(classifier, X_test, y_test):\n",
    "    class_names = ['AMPs', 'NonAMPs']\n",
    "\n",
    "    disp = plot_confusion_matrix(classifier, X_test, y_test,\n",
    "                                display_labels = class_names,\n",
    "                                cmap=plt.cm.Blues, xticks_rotation='vertical')\n",
    "\n",
    "    disp.ax_.set_title(\" Confusion Matrix\")\n",
    "\n",
    "    print(disp.confusion_matrix)\n",
    "    plt.grid(False)\n",
    "    plt.show()"
   ]
  },
  {
   "cell_type": "code",
   "execution_count": 5,
   "metadata": {},
   "outputs": [],
   "source": [
    "#X= np.array(AMPs_df['reps'].to_list())\n",
    "#y= np.array(AMPs_df['class'].to_list())\n",
    "X_train, X_test, y_train, y_test = train_test_split(np.array(AMPs_df['reps'].to_list()), np.array(AMPs_df['class'].to_list()), test_size=0.2, random_state=42)"
   ]
  },
  {
   "cell_type": "code",
   "execution_count": 6,
   "metadata": {},
   "outputs": [],
   "source": [
    "RFclassifier = RandomForestClassifier ( random_state=42)\n",
    "RFclassifier.fit(X_train, y_train)\n",
    "y_pred = RFclassifier.predict(X_test)"
   ]
  },
  {
   "cell_type": "code",
   "execution_count": 7,
   "metadata": {},
   "outputs": [
    {
     "name": "stdout",
     "output_type": "stream",
     "text": [
      "              precision    recall  f1-score   support\n",
      "\n",
      "           0       0.92      0.91      0.92     13914\n",
      "           1       0.91      0.92      0.92     13564\n",
      "\n",
      "    accuracy                           0.92     27478\n",
      "   macro avg       0.92      0.92      0.92     27478\n",
      "weighted avg       0.92      0.92      0.92     27478\n",
      "\n",
      "0.9160055316980857\n",
      "[[12659  1255]\n",
      " [ 1053 12511]]\n"
     ]
    },
    {
     "data": {
      "image/png": "[encoded data removed]",
      "text/plain": [
       "<Figure size 432x288 with 2 Axes>"
      ]
     },
     "metadata": {
      "needs_background": "light"
     },
     "output_type": "display_data"
    }
   ],
   "source": [
    "\n",
    "print(classification_report(y_test,y_pred))\n",
    "print(accuracy_score(y_test, y_pred))\n",
    "confusion_Matrix(RFclassifier, X_test, y_test)"
   ]
  },
  {
   "cell_type": "code",
   "execution_count": 6,
   "metadata": {},
   "outputs": [],
   "source": [
    "with open('/mnt/vdb/thesis/best_RF.model', 'wb') as f:\n",
    "    pickle.dump(RFclassifier, f)\n",
    "#RFclassifier.save_model( \"best_RF.model\")"
   ]
  },
  {
   "cell_type": "code",
   "execution_count": null,
   "metadata": {},
   "outputs": [],
   "source": [
    "kfold = StratifiedKFold(n_splits=20, shuffle=True, random_state=42)\n",
    "scoring = ['accuracy', 'f1', 'roc_auc', 'recall', 'precision','neg_log_loss']\n",
    "scores = cross_validate(\n",
    "    RFclassifier, X_test, y_test, scoring=scoring, cv=kfold, return_train_score=True)\n",
    "print(\"Accuracy TEST: %0.2f (+/- %0.2f) Accuracy TRAIN: %0.2f (+/- %0.2f)\" %\n",
    "      (scores['test_accuracy'].mean(), scores['test_accuracy'].std() * 2, scores['train_accuracy'].mean(), scores['train_accuracy'].std() * 2))\n",
    "print(\"F1 TEST: %0.2f (+/- %0.2f) F1 TRAIN : %0.2f (+/- %0.2f) \" %\n",
    "      (scores['test_f1'].mean(), scores['test_f1'].std() * 2, scores['train_f1'].mean(), scores['train_f1'].std() * 2))\n",
    "print(\"AUROC TEST: %0.2f (+/- %0.2f) AUROC TRAIN : %0.2f (+/- %0.2f)\" %\n",
    "      (scores['test_roc_auc'].mean(), scores['test_roc_auc'].std() * 2, scores['train_roc_auc'].mean(), scores['train_roc_auc'].std() * 2))\n",
    "print(\"recall TEST: %0.2f (+/- %0.2f) recall TRAIN: %0.2f (+/- %0.2f)\" %\n",
    "      (scores['test_recall'].mean(), scores['test_recall'].std() * 2, scores['train_recall'].mean(), scores['train_recall'].std() * 2))\n",
    "print(\"Precision TEST: %0.2f (+/- %0.2f) Precision TRAIN: %0.2f (+/- %0.2f)\" %\n",
    "      (scores['test_precision'].mean(), scores['test_precision'].std() * 2, scores['train_precision'].mean(), scores['train_precision'].std() * 2))"
   ]
  },
  {
   "cell_type": "markdown",
   "metadata": {},
   "source": [
    "# PSSM RF\n"
   ]
  },
  {
   "cell_type": "code",
   "execution_count": 2,
   "metadata": {},
   "outputs": [],
   "source": [
    "with open( '/mnt/vdb/thesis/pwm/AMPnonAMP.sim60_c08.pssm.pkl', 'rb') as file:\n",
    "    AMPNonAMP_df = pickle.load(file)\n"
   ]
  },
  {
   "cell_type": "code",
   "execution_count": 3,
   "metadata": {},
   "outputs": [],
   "source": [
    "##Y1 =np.array([0] * 68869 + [1] * 68520)\n",
    "##X_train, X_test, y_train, y_test = train_test_split(AMPNonAMP_df, Y1, test_size=0.2, random_state=42)"
   ]
  },
  {
   "cell_type": "code",
   "execution_count": 4,
   "metadata": {},
   "outputs": [],
   "source": [
    "X= np.array(AMPNonAMP_df['reps'].to_list())\n",
    "y= np.array(AMPNonAMP_df['class'].to_list())\n",
    "X_train, X_test, y_train, y_test = train_test_split(X, y, test_size=0.2, random_state=1)"
   ]
  },
  {
   "cell_type": "code",
   "execution_count": 5,
   "metadata": {},
   "outputs": [
    {
     "name": "stdout",
     "output_type": "stream",
     "text": [
      "              precision    recall  f1-score   support\n",
      "\n",
      "           0       0.89      0.83      0.86      8726\n",
      "           1       0.84      0.89      0.86      8566\n",
      "\n",
      "    accuracy                           0.86     17292\n",
      "   macro avg       0.86      0.86      0.86     17292\n",
      "weighted avg       0.86      0.86      0.86     17292\n",
      "\n"
     ]
    }
   ],
   "source": [
    "RFclassifier = RandomForestClassifier ( random_state=42)\n",
    "RFclassifier.fit(X_train, y_train)\n",
    "y_pred = RFclassifier.predict(X_test)\n",
    "from sklearn.metrics import classification_report\n",
    "print(classification_report(y_test,y_pred))"
   ]
  },
  {
   "cell_type": "code",
   "execution_count": 6,
   "metadata": {},
   "outputs": [],
   "source": [
    "with open('/mnt/vdb/thesis/best_RF.model', 'wb') as f:\n",
    "    pickle.dump(RFclassifier, f)"
   ]
  },
  {
   "cell_type": "markdown",
   "metadata": {},
   "source": [
    "# On tringset2"
   ]
  },
  {
   "cell_type": "code",
   "execution_count": 23,
   "metadata": {},
   "outputs": [
    {
     "data": {
      "text/html": [
       "<div>\n",
       "<style scoped>\n",
       "    .dataframe tbody tr th:only-of-type {\n",
       "        vertical-align: middle;\n",
       "    }\n",
       "\n",
       "    .dataframe tbody tr th {\n",
       "        vertical-align: top;\n",
       "    }\n",
       "\n",
       "    .dataframe thead th {\n",
       "        text-align: right;\n",
       "    }\n",
       "</style>\n",
       "<table border=\"1\" class=\"dataframe\">\n",
       "  <thead>\n",
       "    <tr style=\"text-align: right;\">\n",
       "      <th></th>\n",
       "      <th>ID</th>\n",
       "      <th>length</th>\n",
       "      <th>class</th>\n",
       "      <th>reps</th>\n",
       "    </tr>\n",
       "  </thead>\n",
       "  <tbody>\n",
       "    <tr>\n",
       "      <th>270</th>\n",
       "      <td>+4E_Peptide,V681_V13K,S4E,S11E,T15E,</td>\n",
       "      <td>26</td>\n",
       "      <td>0</td>\n",
       "      <td>[0.013803755864501, -0.04868223890662193, 0.00...</td>\n",
       "    </tr>\n",
       "    <tr>\n",
       "      <th>271</th>\n",
       "      <td>+4S_Peptide,V681_V13K,K1S,K10S,K14S,</td>\n",
       "      <td>26</td>\n",
       "      <td>0</td>\n",
       "      <td>[0.025307096540927887, -0.01878233812749386, -...</td>\n",
       "    </tr>\n",
       "    <tr>\n",
       "      <th>272</th>\n",
       "      <td>,linocinCFP29_homolog,</td>\n",
       "      <td>253</td>\n",
       "      <td>0</td>\n",
       "      <td>[0.007707999553531408, 0.06123709678649902, 0....</td>\n",
       "    </tr>\n",
       "    <tr>\n",
       "      <th>279</th>\n",
       "      <td>-10,A11,</td>\n",
       "      <td>10</td>\n",
       "      <td>0</td>\n",
       "      <td>[0.06724510341882706, 0.021797023713588715, -0...</td>\n",
       "    </tr>\n",
       "    <tr>\n",
       "      <th>280</th>\n",
       "      <td>-11,A12,</td>\n",
       "      <td>9</td>\n",
       "      <td>0</td>\n",
       "      <td>[0.07372649013996124, 0.02437029778957367, -0....</td>\n",
       "    </tr>\n",
       "    <tr>\n",
       "      <th>...</th>\n",
       "      <td>...</td>\n",
       "      <td>...</td>\n",
       "      <td>...</td>\n",
       "      <td>...</td>\n",
       "    </tr>\n",
       "    <tr>\n",
       "      <th>295</th>\n",
       "      <td>αs1-casein_f90_95,</td>\n",
       "      <td>6</td>\n",
       "      <td>0</td>\n",
       "      <td>[0.08635857701301575, 0.0455104261636734, -0.0...</td>\n",
       "    </tr>\n",
       "    <tr>\n",
       "      <th>298</th>\n",
       "      <td>β-Casomorphins_5_f60_64,</td>\n",
       "      <td>5</td>\n",
       "      <td>0</td>\n",
       "      <td>[0.10100759565830231, 0.035976558923721313, -0...</td>\n",
       "    </tr>\n",
       "    <tr>\n",
       "      <th>297</th>\n",
       "      <td>β126-145,Bovine_hemoglobin_beta_chain_126-145,</td>\n",
       "      <td>20</td>\n",
       "      <td>0</td>\n",
       "      <td>[0.03266279771924019, -0.05012349784374237, -0...</td>\n",
       "    </tr>\n",
       "    <tr>\n",
       "      <th>300</th>\n",
       "      <td>∆1,2Mac,Maculatin_1.1.1,</td>\n",
       "      <td>19</td>\n",
       "      <td>0</td>\n",
       "      <td>[0.03144867345690727, 0.002185762394219637, -0...</td>\n",
       "    </tr>\n",
       "    <tr>\n",
       "      <th>299</th>\n",
       "      <td>∆1Mac,Maculatin-1.1_2-21,</td>\n",
       "      <td>20</td>\n",
       "      <td>0</td>\n",
       "      <td>[0.03005259670317173, 0.00801124982535839, -0....</td>\n",
       "    </tr>\n",
       "  </tbody>\n",
       "</table>\n",
       "<p>49986 rows × 4 columns</p>\n",
       "</div>"
      ],
      "text/plain": [
       "                                                 ID  length  class  \\\n",
       "270            +4E_Peptide,V681_V13K,S4E,S11E,T15E,      26      0   \n",
       "271            +4S_Peptide,V681_V13K,K1S,K10S,K14S,      26      0   \n",
       "272                          ,linocinCFP29_homolog,     253      0   \n",
       "279                                        -10,A11,      10      0   \n",
       "280                                        -11,A12,       9      0   \n",
       "..                                              ...     ...    ...   \n",
       "295                              αs1-casein_f90_95,       6      0   \n",
       "298                        β-Casomorphins_5_f60_64,       5      0   \n",
       "297  β126-145,Bovine_hemoglobin_beta_chain_126-145,      20      0   \n",
       "300                        ∆1,2Mac,Maculatin_1.1.1,      19      0   \n",
       "299                       ∆1Mac,Maculatin-1.1_2-21,      20      0   \n",
       "\n",
       "                                                  reps  \n",
       "270  [0.013803755864501, -0.04868223890662193, 0.00...  \n",
       "271  [0.025307096540927887, -0.01878233812749386, -...  \n",
       "272  [0.007707999553531408, 0.06123709678649902, 0....  \n",
       "279  [0.06724510341882706, 0.021797023713588715, -0...  \n",
       "280  [0.07372649013996124, 0.02437029778957367, -0....  \n",
       "..                                                 ...  \n",
       "295  [0.08635857701301575, 0.0455104261636734, -0.0...  \n",
       "298  [0.10100759565830231, 0.035976558923721313, -0...  \n",
       "297  [0.03266279771924019, -0.05012349784374237, -0...  \n",
       "300  [0.03144867345690727, 0.002185762394219637, -0...  \n",
       "299  [0.03005259670317173, 0.00801124982535839, -0....  \n",
       "\n",
       "[49986 rows x 4 columns]"
      ]
     },
     "execution_count": 23,
     "metadata": {},
     "output_type": "execute_result"
    }
   ],
   "source": [
    "AMPs_df[AMPs_df['class'] == 0]"
   ]
  },
  {
   "cell_type": "code",
   "execution_count": 24,
   "metadata": {},
   "outputs": [],
   "source": [
    "X_train, X_test, y_train, y_test = train_test_split(np.array(AMPs_df['reps'].to_list()), np.array(AMPs_df['class'].to_list()), test_size=0.2, random_state=42)"
   ]
  },
  {
   "cell_type": "code",
   "execution_count": 4,
   "metadata": {},
   "outputs": [],
   "source": [
    "X_train =np.array(AMPs_df['reps'].to_list())\n",
    "y_train = np.array(AMPs_df['class'].to_list())\n",
    "X_test = np.array(benchmark_AMPs_df[\"reps\"].to_list())\n",
    "y_test =np.array( benchmark_AMPs_df[\"class\"].to_list())"
   ]
  },
  {
   "cell_type": "code",
   "execution_count": 25,
   "metadata": {},
   "outputs": [],
   "source": [
    "RFclassifier = RandomForestClassifier ( random_state=42)\n",
    "RFclassifier.fit(X_train, y_train)\n",
    "y_pred = RFclassifier.predict(X_test)"
   ]
  },
  {
   "cell_type": "code",
   "execution_count": 26,
   "metadata": {},
   "outputs": [
    {
     "name": "stdout",
     "output_type": "stream",
     "text": [
      "              precision    recall  f1-score   support\n",
      "\n",
      "           0       0.95      0.93      0.94     10028\n",
      "           1       0.93      0.95      0.94      9970\n",
      "\n",
      "    accuracy                           0.94     19998\n",
      "   macro avg       0.94      0.94      0.94     19998\n",
      "weighted avg       0.94      0.94      0.94     19998\n",
      "\n"
     ]
    }
   ],
   "source": [
    "\n",
    "print(classification_report(y_test,y_pred))"
   ]
  },
  {
   "cell_type": "markdown",
   "metadata": {},
   "source": [
    "## SET 9"
   ]
  },
  {
   "cell_type": "code",
   "execution_count": 6,
   "metadata": {},
   "outputs": [],
   "source": [
    "## set 9\n",
    "X_train, X_test, y_train, y_test = train_test_split(np.array(AMPs_df['reps'].to_list()), np.array(AMPs_df['class'].to_list()), test_size=0.2, random_state=42)\n",
    "X_train =np.array(AMPs_df['reps'].to_list())\n",
    "y_train = np.array(AMPs_df['class'].to_list())\n",
    "X_test = np.array(benchmark_AMPs_df[\"reps\"].to_list())\n",
    "y_test =np.array( benchmark_AMPs_df[\"class\"].to_list())"
   ]
  },
  {
   "cell_type": "code",
   "execution_count": 5,
   "metadata": {},
   "outputs": [
    {
     "name": "stdout",
     "output_type": "stream",
     "text": [
      "              precision    recall  f1-score   support\n",
      "\n",
      "           0       0.70      0.96      0.81      1778\n",
      "           1       0.93      0.58      0.72      1778\n",
      "\n",
      "    accuracy                           0.77      3556\n",
      "   macro avg       0.81      0.77      0.76      3556\n",
      "weighted avg       0.81      0.77      0.76      3556\n",
      "\n"
     ]
    }
   ],
   "source": [
    "RFclassifier = RandomForestClassifier ( random_state=42)\n",
    "RFclassifier.fit(X_train, y_train)\n",
    "y_pred = RFclassifier.predict(X_test)\n",
    "print(classification_report(y_test,y_pred))"
   ]
  },
  {
   "cell_type": "code",
   "execution_count": 6,
   "metadata": {},
   "outputs": [
    {
     "name": "stdout",
     "output_type": "stream",
     "text": [
      "Accuracy TEST: 0.88 (+/- 0.00) Accuracy TRAIN: 1.00 (+/- 0.00)\n",
      "F1 TEST: 0.88 (+/- 0.00) F1 TRAIN : 1.00 (+/- 0.00) \n",
      "AUROC TEST: 0.96 (+/- 0.00) AUROC TRAIN : 1.00 (+/- 0.00)\n",
      "recall TEST: 0.86 (+/- 0.01) recall TRAIN: 1.00 (+/- 0.00)\n",
      "Precision TEST: 0.90 (+/- 0.01) Precision TRAIN: 1.00 (+/- 0.00)\n"
     ]
    }
   ],
   "source": [
    "kfold = StratifiedKFold(n_splits=5, shuffle=True, random_state=42)\n",
    "scoring = ['accuracy', 'f1', 'roc_auc', 'recall', 'precision','neg_log_loss']\n",
    "scores = cross_validate(\n",
    "    RFclassifier, X_train, y_train, scoring=scoring, cv=kfold, return_train_score=True)\n",
    "print(\"Accuracy TEST: %0.2f (+/- %0.2f) Accuracy TRAIN: %0.2f (+/- %0.2f)\" %\n",
    "      (scores['test_accuracy'].mean(), scores['test_accuracy'].std() * 2, scores['train_accuracy'].mean(), scores['train_accuracy'].std() * 2))\n",
    "print(\"F1 TEST: %0.2f (+/- %0.2f) F1 TRAIN : %0.2f (+/- %0.2f) \" %\n",
    "      (scores['test_f1'].mean(), scores['test_f1'].std() * 2, scores['train_f1'].mean(), scores['train_f1'].std() * 2))\n",
    "print(\"AUROC TEST: %0.2f (+/- %0.2f) AUROC TRAIN : %0.2f (+/- %0.2f)\" %\n",
    "      (scores['test_roc_auc'].mean(), scores['test_roc_auc'].std() * 2, scores['train_roc_auc'].mean(), scores['train_roc_auc'].std() * 2))\n",
    "print(\"recall TEST: %0.2f (+/- %0.2f) recall TRAIN: %0.2f (+/- %0.2f)\" %\n",
    "      (scores['test_recall'].mean(), scores['test_recall'].std() * 2, scores['train_recall'].mean(), scores['train_recall'].std() * 2))\n",
    "print(\"Precision TEST: %0.2f (+/- %0.2f) Precision TRAIN: %0.2f (+/- %0.2f)\" %\n",
    "      (scores['test_precision'].mean(), scores['test_precision'].std() * 2, scores['train_precision'].mean(), scores['train_precision'].std() * 2))"
   ]
  },
  {
   "cell_type": "code",
   "execution_count": 23,
   "metadata": {},
   "outputs": [
    {
     "data": {
      "image/png": "[encoded data removed]",
      "text/plain": [
       "<Figure size 432x288 with 1 Axes>"
      ]
     },
     "metadata": {
      "needs_background": "light"
     },
     "output_type": "display_data"
    },
    {
     "data": {
      "image/png": "[encoded data removed]",
      "text/plain": [
       "<Figure size 432x288 with 1 Axes>"
      ]
     },
     "metadata": {
      "needs_background": "light"
     },
     "output_type": "display_data"
    }
   ],
   "source": [
    "\n",
    "create_roc_curve(RFclassifier, y_test,y_pred)\n",
    "create_precision_recall_curve(RFclassifier, y_test, X_test,y_pred )"
   ]
  },
  {
   "cell_type": "code",
   "execution_count": 31,
   "metadata": {},
   "outputs": [
    {
     "name": "stderr",
     "output_type": "stream",
     "text": [
      "/home/ubuntu/miniconda3/envs/py3/lib/python3.7/site-packages/sklearn/utils/deprecation.py:86: FutureWarning: Function plot_precision_recall_curve is deprecated; This will be removed in v0.5.0. Please use scikitplot.metrics.plot_precision_recall instead.\n",
      "  warnings.warn(msg, category=FutureWarning)\n"
     ]
    },
    {
     "data": {
      "image/png": "[encoded data removed]",
      "text/plain": [
       "<Figure size 432x288 with 1 Axes>"
      ]
     },
     "metadata": {
      "needs_background": "light"
     },
     "output_type": "display_data"
    },
    {
     "data": {
      "image/png": "[encoded data removed]",
      "text/plain": [
       "<Figure size 432x288 with 1 Axes>"
      ]
     },
     "metadata": {
      "needs_background": "light"
     },
     "output_type": "display_data"
    }
   ],
   "source": [
    "skplt.metrics.plot_roc(y_test, y_prob)\n",
    "skplt.metrics.plot_precision_recall_curve(y_test, y_prob)\n",
    "plt.show()"
   ]
  },
  {
   "cell_type": "code",
   "execution_count": 4,
   "metadata": {},
   "outputs": [
    {
     "data": {
      "text/plain": [
       "RandomForestClassifier(random_state=42)"
      ]
     },
     "execution_count": 4,
     "metadata": {},
     "output_type": "execute_result"
    }
   ],
   "source": [
    "with open(\"/mnt/vdb/thesis/best_RF.model\", 'rb') as file:\n",
    "    RFclassifier = pickle.load(file)\n",
    "# summarize model.\n",
    "RFclassifier"
   ]
  },
  {
   "cell_type": "code",
   "execution_count": 8,
   "metadata": {},
   "outputs": [
    {
     "name": "stdout",
     "output_type": "stream",
     "text": [
      "\tBrier: 0.138\n",
      "\tPrecision: 0.934\n",
      "\tRecall: 0.579\n",
      "\tF1: 0.715\n",
      "\n"
     ]
    },
    {
     "data": {
      "text/plain": [
       "<matplotlib.legend.Legend at 0x7f650a8144d0>"
      ]
     },
     "execution_count": 8,
     "metadata": {},
     "output_type": "execute_result"
    },
    {
     "data": {
      "image/png": "[encoded data removed]",
      "text/plain": [
       "<Figure size 720x720 with 2 Axes>"
      ]
     },
     "metadata": {
      "needs_background": "light"
     },
     "output_type": "display_data"
    }
   ],
   "source": [
    "from sklearn.metrics import (brier_score_loss, precision_score, recall_score,\n",
    "                             f1_score)\n",
    "from sklearn.calibration import CalibratedClassifierCV, calibration_curve\n",
    "name = \"RF\"\n",
    "\n",
    "fig = plt.figure( figsize=(10, 10))\n",
    "ax1 = plt.subplot2grid((3, 1), (0, 0), rowspan=2)\n",
    "ax2 = plt.subplot2grid((3, 1), (2, 0))\n",
    "ax1.plot([0, 1], [0, 1], \"k:\", label=\"Perfectly calibrated\")\n",
    "\n",
    "y_pred = RFclassifier.predict(X_test)\n",
    "if hasattr(RFclassifier, \"predict_proba\"):\n",
    "    prob_pos = RFclassifier.predict_proba(X_test)[:, 1]\n",
    "else:  # use decision function\n",
    "    prob_pos = RFclassifier.decision_function(X_test)\n",
    "    prob_pos = (prob_pos - prob_pos.min()) / (prob_pos.max() - prob_pos.min())\n",
    "\n",
    "clf_score = brier_score_loss(y_test, prob_pos)\n",
    "\n",
    "print(\"\\tBrier: %1.3f\" % (clf_score)) # Brier score, reported in the legend (the smaller the better).\n",
    "print(\"\\tPrecision: %1.3f\" % precision_score(y_test, y_pred))\n",
    "print(\"\\tRecall: %1.3f\" % recall_score(y_test, y_pred))\n",
    "print(\"\\tF1: %1.3f\\n\" % f1_score(y_test, y_pred))\n",
    "\n",
    "fraction_of_positives, mean_predicted_value = calibration_curve(y_test, prob_pos, n_bins=10)\n",
    "\n",
    "ax1.plot(mean_predicted_value, fraction_of_positives, \"s-\",\n",
    "                 label=\"%s (%1.3f)\" % (name, clf_score))\n",
    "\n",
    "ax2.hist(prob_pos, range=(0, 1), bins=10, label=name,\n",
    "                 histtype=\"step\", lw=2)\n",
    " \n",
    "ax1.set_ylabel(\"Fraction of positives\")\n",
    "ax1.set_ylim([-0.05, 1.05])\n",
    "ax1.legend(loc=\"lower right\")\n",
    "ax1.set_title('Calibration plots  (reliability curve)')\n",
    "\n",
    "ax2.set_xlabel(\"Mean predicted value\")\n",
    "ax2.set_ylabel(\"Count\")\n",
    "ax2.legend(loc=\"upper center\", ncol=2)"
   ]
  },
  {
   "cell_type": "code",
   "execution_count": 6,
   "metadata": {},
   "outputs": [],
   "source": [
    "with open('/mnt/vdb/thesis/best_RF.model', 'wb') as f:\n",
    "    pickle.dump(RFclassifier, f)"
   ]
  },
  {
   "cell_type": "code",
   "execution_count": 10,
   "metadata": {},
   "outputs": [
    {
     "name": "stdout",
     "output_type": "stream",
     "text": [
      "------------------------------------------------------------------------\n",
      "Training for fold 1 ...\n",
      "Accuracy: 0.755343\n",
      "Precision: 0.557368\n",
      "Recall: 0.922719\n",
      "F1 score: 0.694951\n",
      "------------------------------------------------------------------------\n",
      "Training for fold 2 ...\n",
      "Accuracy: 0.743251\n",
      "Precision: 0.538245\n",
      "Recall: 0.912297\n",
      "F1 score: 0.677043\n",
      "------------------------------------------------------------------------\n",
      "Training for fold 3 ...\n",
      "Accuracy: 0.750281\n",
      "Precision: 0.549494\n",
      "Recall: 0.918233\n",
      "F1 score: 0.687544\n",
      "------------------------------------------------------------------------\n",
      "Training for fold 4 ...\n",
      "Accuracy: 0.743813\n",
      "Precision: 0.538245\n",
      "Recall: 0.914040\n",
      "F1 score: 0.677522\n",
      "------------------------------------------------------------------------\n",
      "Training for fold 5 ...\n",
      "Accuracy: 0.746063\n",
      "Precision: 0.541620\n",
      "Recall: 0.916270\n",
      "F1 score: 0.680806\n",
      "------------------------------------------------------------------------\n",
      "Average scores for all folds:\n",
      "> Accuracy: 74.77502812148482 (+- 0.45309637932785124)\n",
      "> Pecision: 54.49943757030371 (+- 0.7427479873664415)\n",
      "> Recall: 91.67119300945862 (+- 0.3611593606905944)\n",
      "> F1: 68.35731517391665 (+- 0.6813791936948189)\n",
      "> Loss: nan\n",
      "------------------------------------------------------------------------\n"
     ]
    },
    {
     "name": "stderr",
     "output_type": "stream",
     "text": [
      "/home/ubuntu/.local/lib/python3.7/site-packages/numpy/core/fromnumeric.py:3335: RuntimeWarning: Mean of empty slice.\n",
      "  out=out, **kwargs)\n",
      "/home/ubuntu/.local/lib/python3.7/site-packages/numpy/core/_methods.py:161: RuntimeWarning: invalid value encountered in double_scalars\n",
      "  ret = ret.dtype.type(ret / rcount)\n"
     ]
    }
   ],
   "source": [
    "from sklearn.model_selection import KFold\n",
    "from sklearn.metrics import accuracy_score\n",
    "from sklearn.metrics import precision_score\n",
    "from sklearn.metrics import recall_score\n",
    "from sklearn.metrics import f1_score\n",
    "from sklearn.metrics import roc_auc_score\n",
    "\n",
    "\n",
    "inputs =X_train\n",
    "targets = y_train\n",
    "# Define per-fold score containers\n",
    "acc_per_fold = []\n",
    "loss_per_fold = []\n",
    "_precision = []\n",
    "_recal = []\n",
    "_f1 = []\n",
    "_auc_pr = []\n",
    "_roc_pr = []\n",
    "# Define the K-fold Cross Validator\n",
    "kfold = KFold(n_splits=5, shuffle=True)\n",
    "\n",
    "# K-fold Cross Validation model evaluation\n",
    "fold_no = 1\n",
    "for train_index, test_index  in kfold.split(inputs, targets):\n",
    "    \n",
    "    X_train= inputs[train_index]\n",
    "    y_train= targets[train_index]\n",
    "\n",
    "    # Generate a print\n",
    "    print('------------------------------------------------------------------------')\n",
    "    print(f'Training for fold {fold_no} ...')\n",
    "\n",
    "    # Fit data to model\n",
    "    model =RandomForestClassifier ( random_state=42)\n",
    "    model.fit(X_train,y_train)\n",
    "    # Generate generalization metrics\n",
    "\n",
    "    # predict probabilities for test set\n",
    "    y_predict = model.predict(X_test)\n",
    "\n",
    "    # accuracy: (tp + tn) / (p + n)\n",
    "    accuracy = accuracy_score(y_predict, y_test)\n",
    "    print('Accuracy: %f' % accuracy)\n",
    "    # precision tp / (tp + fp)\n",
    "    precision = precision_score(y_predict,y_test)\n",
    "    print('Precision: %f' % precision)\n",
    "    # recall: tp / (tp + fn)\n",
    "    recall = recall_score(y_predict,y_test )\n",
    "    print('Recall: %f' % recall)\n",
    "    # f1: 2 tp / (2 tp + fp + fn)\n",
    "    f1 =  f1_score(y_predict,y_test)\n",
    "    print('F1 score: %f' % f1)\n",
    "    \n",
    "    acc_per_fold.append(accuracy * 100)\n",
    "    _precision.append(precision * 100)  \n",
    "    _recal.append(recall * 100)  \n",
    "    _f1.append(f1 * 100)  \n",
    " \n",
    "    # Increase fold number\n",
    "    fold_no = fold_no + 1\n",
    "\n",
    "# == Provide average scores ==\n",
    "print('------------------------------------------------------------------------')\n",
    "print('Average scores for all folds:')\n",
    "print(f'> Accuracy: {np.mean(acc_per_fold)} (+- {np.std(acc_per_fold)})')\n",
    "print(f'> Pecision: {np.mean(_precision)} (+- {np.std(_precision)})')\n",
    "print(f'> Recall: {np.mean(_recal)} (+- {np.std(_recal)})')\n",
    "print(f'> F1: {np.mean(_f1)} (+- {np.std(_f1)})')\n",
    "print(f'> Loss: {np.mean(loss_per_fold)}')\n",
    "print('------------------------------------------------------------------------')"
   ]
  },
  {
   "cell_type": "code",
   "execution_count": 7,
   "metadata": {},
   "outputs": [
    {
     "name": "stdout",
     "output_type": "stream",
     "text": [
      "------------------------------------------------------------------------\n",
      "Training for fold 1 ...\n",
      "Accuracy: 0.756749\n",
      "Precision: 0.756749\n",
      "Recall: 0.805295\n",
      "F1 score: 0.746679\n",
      "------------------------------------------------------------------------\n",
      "Training for fold 2 ...\n",
      "Accuracy: 0.755906\n",
      "Precision: 0.755906\n",
      "Recall: 0.807109\n",
      "F1 score: 0.745289\n",
      "------------------------------------------------------------------------\n",
      "Training for fold 3 ...\n",
      "Accuracy: 0.761530\n",
      "Precision: 0.761530\n",
      "Recall: 0.808218\n",
      "F1 score: 0.752144\n",
      "------------------------------------------------------------------------\n",
      "Training for fold 4 ...\n",
      "Accuracy: 0.753656\n",
      "Precision: 0.753656\n",
      "Recall: 0.801777\n",
      "F1 score: 0.743427\n",
      "------------------------------------------------------------------------\n",
      "Training for fold 5 ...\n",
      "Accuracy: 0.760405\n",
      "Precision: 0.760405\n",
      "Recall: 0.804714\n",
      "F1 score: 0.751366\n",
      "------------------------------------------------------------------------\n",
      "Average scores for all folds:\n",
      "> Accuracy: 75.76490438695163 (+- 0.2913798390773635)\n",
      "> Pecision: 75.76490438695164 (+- 0.29137983907736226)\n",
      "> Recall: 80.54225517747254 (+- 0.22120648991387065)\n",
      "> F1: 74.77810200703087 (+- 0.34137300910816254)\n",
      "> Loss: nan\n",
      "------------------------------------------------------------------------\n"
     ]
    },
    {
     "name": "stderr",
     "output_type": "stream",
     "text": [
      "/home/ubuntu/.local/lib/python3.7/site-packages/numpy/core/fromnumeric.py:3335: RuntimeWarning: Mean of empty slice.\n",
      "  out=out, **kwargs)\n",
      "/home/ubuntu/.local/lib/python3.7/site-packages/numpy/core/_methods.py:161: RuntimeWarning: invalid value encountered in double_scalars\n",
      "  ret = ret.dtype.type(ret / rcount)\n"
     ]
    }
   ],
   "source": [
    "from sklearn.model_selection import KFold\n",
    "from sklearn.metrics import accuracy_score\n",
    "from sklearn.metrics import precision_score\n",
    "from sklearn.metrics import recall_score\n",
    "from sklearn.metrics import f1_score\n",
    "from sklearn.metrics import roc_auc_score\n",
    "\n",
    "\n",
    "inputs =X_train\n",
    "targets = y_train\n",
    "# Define per-fold score containers\n",
    "acc_per_fold = []\n",
    "loss_per_fold = []\n",
    "_precision = []\n",
    "_recal = []\n",
    "_f1 = []\n",
    "_auc_pr = []\n",
    "_roc_pr = []\n",
    "# Define the K-fold Cross Validator\n",
    "kfold = KFold(n_splits=5, shuffle=True)\n",
    "\n",
    "# K-fold Cross Validation model evaluation\n",
    "fold_no = 1\n",
    "for train_index, test_index  in kfold.split(inputs, targets):\n",
    "    \n",
    "    X_train= inputs[train_index]\n",
    "    y_train= targets[train_index]\n",
    "\n",
    "    # Generate a print\n",
    "    print('------------------------------------------------------------------------')\n",
    "    print(f'Training for fold {fold_no} ...')\n",
    "\n",
    "    # Fit data to model\n",
    "    model =RandomForestClassifier ( random_state=42)\n",
    "    model.fit(X_train,y_train)\n",
    "    # Generate generalization metrics\n",
    "\n",
    "    # predict probabilities for test set\n",
    "    y_predict = model.predict(X_test)\n",
    "\n",
    "    # accuracy: (tp + tn) / (p + n)\n",
    "    accuracy = accuracy_score(y_predict, y_test)\n",
    "    print('Accuracy: %f' % accuracy)\n",
    "    # precision tp / (tp + fp)\n",
    "    precision = (precision_score(y_predict,y_test, pos_label= 1)+precision_score(y_predict,y_test , pos_label= 0))*0.5\n",
    "    print('Precision: %f' % precision)\n",
    "    # recall: tp / (tp + fn)\n",
    "    recall = (recall_score(y_predict,y_test, pos_label= 1)+recall_score(y_predict,y_test , pos_label= 0))*0.5\n",
    "    print('Recall: %f' % recall)\n",
    "    # f1: 2 tp / (2 tp + fp + fn)\n",
    "    f1 =  (f1_score(y_predict,y_test, pos_label= 1)+f1_score(y_predict,y_test , pos_label= 0))*0.5\n",
    "    print('F1 score: %f' % f1)\n",
    "    \n",
    "    acc_per_fold.append(accuracy * 100)\n",
    "    _precision.append(precision * 100)  \n",
    "    _recal.append(recall * 100)  \n",
    "    _f1.append(f1 * 100)  \n",
    " \n",
    "    # Increase fold number\n",
    "    fold_no = fold_no + 1\n",
    "\n",
    "# == Provide average scores ==\n",
    "print('------------------------------------------------------------------------')\n",
    "print('Average scores for all folds:')\n",
    "print(f'> Accuracy: {np.mean(acc_per_fold)} (+- {np.std(acc_per_fold)})')\n",
    "print(f'> Pecision: {np.mean(_precision)} (+- {np.std(_precision)})')\n",
    "print(f'> Recall: {np.mean(_recal)} (+- {np.std(_recal)})')\n",
    "print(f'> F1: {np.mean(_f1)} (+- {np.std(_f1)})')\n",
    "print(f'> Loss: {np.mean(loss_per_fold)}')\n",
    "print('------------------------------------------------------------------------')"
   ]
  },
  {
   "cell_type": "markdown",
   "metadata": {},
   "source": [
    "### PSSM -SET9"
   ]
  },
  {
   "cell_type": "code",
   "execution_count": 3,
   "metadata": {},
   "outputs": [],
   "source": [
    "with open( \"/mnt/vdb/thesis/trainingset2/set9/pssm/AMP/AMP.pssm.plk\", 'rb') as file:\n",
    "    AMPs_df = pickle.load(file)\n",
    "AMPs_df[\"class\"] = 0\n",
    "with open( \"/mnt/vdb/thesis/trainingset2/set9/pssm/nonAMP/nonAMP.pssm.plk\", 'rb') as file:\n",
    "    nonAMPs_df = pickle.load(file)   \n",
    "nonAMPs_df[\"class\"] = 1\n",
    "\n",
    "AMPNonAMP_df = pd.concat([AMPs_df, nonAMPs_df], ignore_index=True)\n",
    "\n",
    "#AMPs_df = AMPs_df[AMPs_df[\"length\"] <= 300 ]\n",
    "with open( \"../datasets/thesis/trainingset2/benchmark_set/AMPnonAMP.pssm.pkl\", 'rb') as file:\n",
    "    benchmark_AMPs_df = pickle.load(file)\n",
    "    \n",
    "X_train = np.array(AMPNonAMP_df['reps'].to_list())\n",
    "y_train = np.array(AMPNonAMP_df['class'].to_list())\n",
    "X_test = np.array(benchmark_AMPs_df[\"reps\"].to_list())\n",
    "y_test = np.array( benchmark_AMPs_df[\"class\"].to_list())"
   ]
  },
  {
   "cell_type": "code",
   "execution_count": null,
   "metadata": {},
   "outputs": [],
   "source": [
    "RFclassifier = RandomForestClassifier ( random_state=42)\n",
    "RFclassifier.fit(X_train, y_train)\n",
    "y_pred = RFclassifier.predict(X_test)\n",
    "print(classification_report(y_test,y_pred))"
   ]
  },
  {
   "cell_type": "code",
   "execution_count": 51,
   "metadata": {},
   "outputs": [
    {
     "name": "stdout",
     "output_type": "stream",
     "text": [
      "              precision    recall  f1-score   support\n",
      "\n",
      "           0       0.80      0.87      0.83      1778\n",
      "           1       0.86      0.78      0.82      1778\n",
      "\n",
      "    accuracy                           0.82      3556\n",
      "   macro avg       0.83      0.82      0.82      3556\n",
      "weighted avg       0.83      0.82      0.82      3556\n",
      "\n"
     ]
    }
   ],
   "source": [
    "RFclassifier = RandomForestClassifier ( random_state=42)\n",
    "clf_isotonic = CalibratedClassifierCV(RFclassifier, method='isotonic')\n",
    "clf_isotonic.fit(X_train, y_train)\n",
    "#predictions_isotonic = clf_isotonic.predict_proba(X_test)\n",
    "#RFclassifier.fit(X_train, y_train)\n",
    "y_pred = clf_isotonic.predict(X_test)\n",
    "print(classification_report(y_test,y_pred))"
   ]
  },
  {
   "cell_type": "code",
   "execution_count": 52,
   "metadata": {},
   "outputs": [
    {
     "name": "stdout",
     "output_type": "stream",
     "text": [
      "\tBrier: 0.119\n",
      "\tPrecision: 0.857\n",
      "\tRecall: 0.779\n",
      "\tF1: 0.816\n",
      "\n"
     ]
    },
    {
     "data": {
      "text/plain": [
       "<matplotlib.legend.Legend at 0x7f18b2990bd0>"
      ]
     },
     "execution_count": 52,
     "metadata": {},
     "output_type": "execute_result"
    },
    {
     "data": {
      "image/png": "[encoded data removed]",
      "text/plain": [
       "<Figure size 720x720 with 2 Axes>"
      ]
     },
     "metadata": {
      "needs_background": "light"
     },
     "output_type": "display_data"
    }
   ],
   "source": [
    "fig = plt.figure( figsize=(10, 10))\n",
    "ax1 = plt.subplot2grid((3, 1), (0, 0), rowspan=2)\n",
    "ax2 = plt.subplot2grid((3, 1), (2, 0))\n",
    "ax1.plot([0, 1], [0, 1], \"k:\", label=\"Perfectly calibrated\")\n",
    "\n",
    "if hasattr(clf_isotonic, \"predict_proba\"):\n",
    "    prob_pos = clf_isotonic.predict_proba(X_test)[:, 1]\n",
    "else:  # use decision function\n",
    "    prob_pos = clf_isotonic.decision_function(X_test)\n",
    "    prob_pos = (prob_pos - prob_pos.min()) / (prob_pos.max() - prob_pos.min())\n",
    "\n",
    "clf_score = brier_score_loss(y_test, prob_pos)\n",
    "\n",
    "print(\"\\tBrier: %1.3f\" % (clf_score)) # Brier score, reported in the legend (the smaller the better).\n",
    "print(\"\\tPrecision: %1.3f\" % precision_score(y_test, y_pred))\n",
    "print(\"\\tRecall: %1.3f\" % recall_score(y_test, y_pred))\n",
    "print(\"\\tF1: %1.3f\\n\" % f1_score(y_test, y_pred))\n",
    "\n",
    "fraction_of_positives, mean_predicted_value = calibration_curve(y_test, prob_pos, n_bins=10)\n",
    "\n",
    "ax1.plot(mean_predicted_value, fraction_of_positives, \"s-\",\n",
    "                 label=\"%s (%1.3f)\" % (name, clf_score))\n",
    "\n",
    "ax2.hist(prob_pos, range=(0, 1), bins=10, label=name,\n",
    "                 histtype=\"step\", lw=2)\n",
    " \n",
    "ax1.set_ylabel(\"Fraction of positives\")\n",
    "ax1.set_ylim([-0.05, 1.05])\n",
    "ax1.legend(loc=\"lower right\")\n",
    "ax1.set_title('Calibration plots  (reliability curve)')\n",
    "\n",
    "ax2.set_xlabel(\"Mean predicted value\")\n",
    "ax2.set_ylabel(\"Count\")\n",
    "ax2.legend(loc=\"upper center\", ncol=2)"
   ]
  },
  {
   "cell_type": "code",
   "execution_count": 55,
   "metadata": {},
   "outputs": [
    {
     "data": {
      "text/html": [
       "<div>\n",
       "<style scoped>\n",
       "    .dataframe tbody tr th:only-of-type {\n",
       "        vertical-align: middle;\n",
       "    }\n",
       "\n",
       "    .dataframe tbody tr th {\n",
       "        vertical-align: top;\n",
       "    }\n",
       "\n",
       "    .dataframe thead th {\n",
       "        text-align: right;\n",
       "    }\n",
       "</style>\n",
       "<table border=\"1\" class=\"dataframe\">\n",
       "  <thead>\n",
       "    <tr style=\"text-align: right;\">\n",
       "      <th></th>\n",
       "      <th>ID</th>\n",
       "      <th>Sequence</th>\n",
       "      <th>reps</th>\n",
       "      <th>length</th>\n",
       "      <th>class</th>\n",
       "    </tr>\n",
       "  </thead>\n",
       "  <tbody>\n",
       "    <tr>\n",
       "      <th>0</th>\n",
       "      <td>cluster25713</td>\n",
       "      <td>SDVARRFMRRQSRVIKGLV</td>\n",
       "      <td>[0.544095668702679, 0.47370848260698156, 0.473...</td>\n",
       "      <td>19</td>\n",
       "      <td>0</td>\n",
       "    </tr>\n",
       "    <tr>\n",
       "      <th>1</th>\n",
       "      <td>cluster25714</td>\n",
       "      <td>RDVCRNFMRRYQSRVIQGLV</td>\n",
       "      <td>[0.5, 0.5, 0.5, 0.5, 0.5, 0.5, 0.5, 0.5, 0.5, ...</td>\n",
       "      <td>20</td>\n",
       "      <td>0</td>\n",
       "    </tr>\n",
       "    <tr>\n",
       "      <th>2</th>\n",
       "      <td>cluster25715</td>\n",
       "      <td>RDVSRRFMRRGRDVSRRFMRR</td>\n",
       "      <td>[0.5, 0.5, 0.5, 0.5, 0.5, 0.5, 0.5, 0.5, 0.5, ...</td>\n",
       "      <td>21</td>\n",
       "      <td>0</td>\n",
       "    </tr>\n",
       "    <tr>\n",
       "      <th>3</th>\n",
       "      <td>cluster25716</td>\n",
       "      <td>RDVSRRFMRRRDVSRRFMRR</td>\n",
       "      <td>[0.5, 0.5, 0.5, 0.5, 0.5, 0.5, 0.5, 0.5, 0.5, ...</td>\n",
       "      <td>20</td>\n",
       "      <td>0</td>\n",
       "    </tr>\n",
       "    <tr>\n",
       "      <th>4</th>\n",
       "      <td>cluster25717</td>\n",
       "      <td>RECRIGNGQCKNQCHENEIRIAYCIRPGTHCCLQ</td>\n",
       "      <td>[0.5249058410464313, 0.4926475888339939, 0.492...</td>\n",
       "      <td>34</td>\n",
       "      <td>0</td>\n",
       "    </tr>\n",
       "    <tr>\n",
       "      <th>...</th>\n",
       "      <td>...</td>\n",
       "      <td>...</td>\n",
       "      <td>...</td>\n",
       "      <td>...</td>\n",
       "      <td>...</td>\n",
       "    </tr>\n",
       "    <tr>\n",
       "      <th>70770</th>\n",
       "      <td>UniRef50_A0A6V7M472</td>\n",
       "      <td>MLNYLTVNAYRTLEQCKPKI</td>\n",
       "      <td>[0.5422738369387539, 0.4875026035157896, 0.487...</td>\n",
       "      <td>20</td>\n",
       "      <td>1</td>\n",
       "    </tr>\n",
       "    <tr>\n",
       "      <th>70771</th>\n",
       "      <td>UniRef50_A0A6V7JUV0</td>\n",
       "      <td>AIRATNLHHSTVILALVKKS</td>\n",
       "      <td>[0.6244547736766732, 0.46257015465625045, 0.46...</td>\n",
       "      <td>20</td>\n",
       "      <td>1</td>\n",
       "    </tr>\n",
       "    <tr>\n",
       "      <th>70772</th>\n",
       "      <td>UniRef50_A0A6V7HXG9</td>\n",
       "      <td>CSSISVTVFTAGPKNRRLLD</td>\n",
       "      <td>[0.5422738369387539, 0.4875026035157896, 0.487...</td>\n",
       "      <td>20</td>\n",
       "      <td>1</td>\n",
       "    </tr>\n",
       "    <tr>\n",
       "      <th>70773</th>\n",
       "      <td>UniRef50_A0A6V7JD98</td>\n",
       "      <td>IQRSSINSNGSSETDGVQVF</td>\n",
       "      <td>[0.5, 0.5, 0.5, 0.5, 0.5, 0.5, 0.5, 0.5, 0.5, ...</td>\n",
       "      <td>20</td>\n",
       "      <td>1</td>\n",
       "    </tr>\n",
       "    <tr>\n",
       "      <th>70774</th>\n",
       "      <td>UniRef50_A0A6V7J9V8</td>\n",
       "      <td>MDGDKRRASKRRSLAAGREI</td>\n",
       "      <td>[0.6244547736766732, 0.46257015465625045, 0.46...</td>\n",
       "      <td>20</td>\n",
       "      <td>1</td>\n",
       "    </tr>\n",
       "  </tbody>\n",
       "</table>\n",
       "<p>70775 rows × 5 columns</p>\n",
       "</div>"
      ],
      "text/plain": [
       "                        ID                            Sequence  \\\n",
       "0             cluster25713                 SDVARRFMRRQSRVIKGLV   \n",
       "1             cluster25714                RDVCRNFMRRYQSRVIQGLV   \n",
       "2             cluster25715               RDVSRRFMRRGRDVSRRFMRR   \n",
       "3             cluster25716                RDVSRRFMRRRDVSRRFMRR   \n",
       "4             cluster25717  RECRIGNGQCKNQCHENEIRIAYCIRPGTHCCLQ   \n",
       "...                    ...                                 ...   \n",
       "70770  UniRef50_A0A6V7M472                MLNYLTVNAYRTLEQCKPKI   \n",
       "70771  UniRef50_A0A6V7JUV0                AIRATNLHHSTVILALVKKS   \n",
       "70772  UniRef50_A0A6V7HXG9                CSSISVTVFTAGPKNRRLLD   \n",
       "70773  UniRef50_A0A6V7JD98                IQRSSINSNGSSETDGVQVF   \n",
       "70774  UniRef50_A0A6V7J9V8                MDGDKRRASKRRSLAAGREI   \n",
       "\n",
       "                                                    reps length  class  \n",
       "0      [0.544095668702679, 0.47370848260698156, 0.473...     19      0  \n",
       "1      [0.5, 0.5, 0.5, 0.5, 0.5, 0.5, 0.5, 0.5, 0.5, ...     20      0  \n",
       "2      [0.5, 0.5, 0.5, 0.5, 0.5, 0.5, 0.5, 0.5, 0.5, ...     21      0  \n",
       "3      [0.5, 0.5, 0.5, 0.5, 0.5, 0.5, 0.5, 0.5, 0.5, ...     20      0  \n",
       "4      [0.5249058410464313, 0.4926475888339939, 0.492...     34      0  \n",
       "...                                                  ...    ...    ...  \n",
       "70770  [0.5422738369387539, 0.4875026035157896, 0.487...     20      1  \n",
       "70771  [0.6244547736766732, 0.46257015465625045, 0.46...     20      1  \n",
       "70772  [0.5422738369387539, 0.4875026035157896, 0.487...     20      1  \n",
       "70773  [0.5, 0.5, 0.5, 0.5, 0.5, 0.5, 0.5, 0.5, 0.5, ...     20      1  \n",
       "70774  [0.6244547736766732, 0.46257015465625045, 0.46...     20      1  \n",
       "\n",
       "[70775 rows x 5 columns]"
      ]
     },
     "execution_count": 55,
     "metadata": {},
     "output_type": "execute_result"
    }
   ],
   "source": [
    "AMPNonAMP_df"
   ]
  },
  {
   "cell_type": "code",
   "execution_count": 15,
   "metadata": {},
   "outputs": [
    {
     "data": {
      "image/png": "[encoded data removed]",
      "text/plain": [
       "<Figure size 432x288 with 1 Axes>"
      ]
     },
     "metadata": {
      "needs_background": "light"
     },
     "output_type": "display_data"
    },
    {
     "data": {
      "image/png": "[encoded data removed]",
      "text/plain": [
       "<Figure size 432x288 with 1 Axes>"
      ]
     },
     "metadata": {
      "needs_background": "light"
     },
     "output_type": "display_data"
    }
   ],
   "source": [
    "create_roc_curve(y_test,y_pred,1)\n",
    "create_precision_recall_curve(RFclassifier, y_test, X_test,y_pred )"
   ]
  },
  {
   "cell_type": "code",
   "execution_count": 36,
   "metadata": {},
   "outputs": [
    {
     "name": "stderr",
     "output_type": "stream",
     "text": [
      "/home/ubuntu/miniconda3/envs/py3/lib/python3.7/site-packages/sklearn/utils/deprecation.py:86: FutureWarning: Function plot_precision_recall_curve is deprecated; This will be removed in v0.5.0. Please use scikitplot.metrics.plot_precision_recall instead.\n",
      "  warnings.warn(msg, category=FutureWarning)\n"
     ]
    },
    {
     "data": {
      "image/png": "[encoded data removed]",
      "text/plain": [
       "<Figure size 432x288 with 1 Axes>"
      ]
     },
     "metadata": {
      "needs_background": "light"
     },
     "output_type": "display_data"
    },
    {
     "data": {
      "image/png": "[encoded data removed]",
      "text/plain": [
       "<Figure size 432x288 with 1 Axes>"
      ]
     },
     "metadata": {
      "needs_background": "light"
     },
     "output_type": "display_data"
    }
   ],
   "source": [
    "y_prob =  RFclassifier.predict_proba(X_test)\n",
    "skplt.metrics.plot_roc(y_test, y_prob)\n",
    "skplt.metrics.plot_precision_recall_curve(y_test, y_prob)\n",
    "plt.show()"
   ]
  },
  {
   "cell_type": "code",
   "execution_count": 16,
   "metadata": {},
   "outputs": [
    {
     "name": "stdout",
     "output_type": "stream",
     "text": [
      "Accuracy TEST: 0.88 (+/- 0.00) Accuracy TRAIN: 1.00 (+/- 0.00)\n",
      "F1 TEST: 0.88 (+/- 0.00) F1 TRAIN : 1.00 (+/- 0.00) \n",
      "AUROC TEST: 0.94 (+/- 0.00) AUROC TRAIN : 1.00 (+/- 0.00)\n",
      "recall TEST: 0.89 (+/- 0.01) recall TRAIN: 1.00 (+/- 0.00)\n",
      "Precision TEST: 0.87 (+/- 0.01) Precision TRAIN: 1.00 (+/- 0.00)\n"
     ]
    }
   ],
   "source": [
    "kfold = StratifiedKFold(n_splits=5, shuffle=True, random_state=42)\n",
    "scoring = ['accuracy', 'f1', 'roc_auc', 'recall', 'precision','neg_log_loss']\n",
    "scores = cross_validate(\n",
    "    RFclassifier, X_train, y_train, scoring=scoring, cv=kfold, return_train_score=True)\n",
    "print(\"Accuracy TEST: %0.2f (+/- %0.2f) Accuracy TRAIN: %0.2f (+/- %0.2f)\" %\n",
    "      (scores['test_accuracy'].mean(), scores['test_accuracy'].std() * 2, scores['train_accuracy'].mean(), scores['train_accuracy'].std() * 2))\n",
    "print(\"F1 TEST: %0.2f (+/- %0.2f) F1 TRAIN : %0.2f (+/- %0.2f) \" %\n",
    "      (scores['test_f1'].mean(), scores['test_f1'].std() * 2, scores['train_f1'].mean(), scores['train_f1'].std() * 2))\n",
    "print(\"AUROC TEST: %0.2f (+/- %0.2f) AUROC TRAIN : %0.2f (+/- %0.2f)\" %\n",
    "      (scores['test_roc_auc'].mean(), scores['test_roc_auc'].std() * 2, scores['train_roc_auc'].mean(), scores['train_roc_auc'].std() * 2))\n",
    "print(\"recall TEST: %0.2f (+/- %0.2f) recall TRAIN: %0.2f (+/- %0.2f)\" %\n",
    "      (scores['test_recall'].mean(), scores['test_recall'].std() * 2, scores['train_recall'].mean(), scores['train_recall'].std() * 2))\n",
    "print(\"Precision TEST: %0.2f (+/- %0.2f) Precision TRAIN: %0.2f (+/- %0.2f)\" %\n",
    "      (scores['test_precision'].mean(), scores['test_precision'].std() * 2, scores['train_precision'].mean(), scores['train_precision'].std() * 2))"
   ]
  },
  {
   "cell_type": "code",
   "execution_count": 17,
   "metadata": {},
   "outputs": [],
   "source": [
    "with open('/mnt/vdb/thesis/best_RF.pssm.model', 'wb') as f:\n",
    "    pickle.dump(RFclassifier, f)"
   ]
  },
  {
   "cell_type": "code",
   "execution_count": null,
   "metadata": {},
   "outputs": [],
   "source": [
    "from sklearn.model_selection import KFold\n",
    "from sklearn.metrics import accuracy_score\n",
    "from sklearn.metrics import precision_score\n",
    "from sklearn.metrics import recall_score\n",
    "from sklearn.metrics import f1_score\n",
    "from sklearn.metrics import roc_auc_score\n",
    "\n",
    "\n",
    "inputs =X_train\n",
    "targets = y_train\n",
    "# Define per-fold score containers\n",
    "acc_per_fold = []\n",
    "loss_per_fold = []\n",
    "_precision = []\n",
    "_recal = []\n",
    "_f1 = []\n",
    "_auc_pr = []\n",
    "_roc_pr = []\n",
    "# Define the K-fold Cross Validator\n",
    "kfold = KFold(n_splits=5, shuffle=True)\n",
    "\n",
    "# K-fold Cross Validation model evaluation\n",
    "fold_no = 1\n",
    "for train_index, test_index  in kfold.split(inputs, targets):\n",
    "    \n",
    "    X_train= inputs[train_index]\n",
    "    y_train= targets[train_index]\n",
    "\n",
    "    # Generate a print\n",
    "    print('------------------------------------------------------------------------')\n",
    "    print(f'Training for fold {fold_no} ...')\n",
    "\n",
    "    # Fit data to model\n",
    "    model =RandomForestClassifier ( random_state=42)\n",
    "    model.fit(X_train,y_train)\n",
    "    # Generate generalization metrics\n",
    "\n",
    "    # predict probabilities for test set\n",
    "    y_predict = model.predict(X_test)\n",
    "\n",
    "    # accuracy: (tp + tn) / (p + n)\n",
    "    accuracy = accuracy_score(y_predict, y_test)\n",
    "    print('Accuracy: %f' % accuracy)\n",
    "    # precision tp / (tp + fp)\n",
    "    precision = (precision_score(y_predict,y_test, pos_label= 1)+precision_score(y_predict,y_test , pos_label= 0))*0.5\n",
    "    print('Precision: %f' % precision)\n",
    "    # recall: tp / (tp + fn)\n",
    "    recall = (recall_score(y_predict,y_test, pos_label= 1)+recall_score(y_predict,y_test , pos_label= 0))*0.5\n",
    "    print('Recall: %f' % recall)\n",
    "    # f1: 2 tp / (2 tp + fp + fn)\n",
    "    f1 =  (f1_score(y_predict,y_test, pos_label= 1)+f1_score(y_predict,y_test , pos_label= 0))*0.5\n",
    "    print('F1 score: %f' % f1)\n",
    "    \n",
    "    acc_per_fold.append(accuracy * 100)\n",
    "    _precision.append(precision * 100)  \n",
    "    _recal.append(recall * 100)  \n",
    "    _f1.append(f1 * 100)  \n",
    " \n",
    "    # Increase fold number\n",
    "    fold_no = fold_no + 1\n",
    "\n",
    "# == Provide average scores ==\n",
    "print('------------------------------------------------------------------------')\n",
    "print('Average scores for all folds:')\n",
    "print(f'> Accuracy: {np.mean(acc_per_fold)} (+- {np.std(acc_per_fold)})')\n",
    "print(f'> Pecision: {np.mean(_precision)} (+- {np.std(_precision)})')\n",
    "print(f'> Recall: {np.mean(_recal)} (+- {np.std(_recal)})')\n",
    "print(f'> F1: {np.mean(_f1)} (+- {np.std(_f1)})')\n",
    "print(f'> Loss: {np.mean(loss_per_fold)}')\n",
    "print('------------------------------------------------------------------------')"
   ]
  },
  {
   "cell_type": "markdown",
   "metadata": {},
   "source": [
    "# SET 10"
   ]
  },
  {
   "cell_type": "code",
   "execution_count": 4,
   "metadata": {},
   "outputs": [],
   "source": [
    "    \n",
    "X_train = np.array(AMPNonAMP_df['reps'].to_list())\n",
    "y_train = np.array(AMPNonAMP_df['class'].to_list())\n",
    "X_test = np.array(benchmark_AMPs_df[\"reps\"].to_list())\n",
    "y_test = np.array( benchmark_AMPs_df[\"class\"].to_list())"
   ]
  },
  {
   "cell_type": "code",
   "execution_count": 5,
   "metadata": {},
   "outputs": [
    {
     "name": "stdout",
     "output_type": "stream",
     "text": [
      "              precision    recall  f1-score   support\n",
      "\n",
      "           0       0.72      0.87      0.79      1778\n",
      "           1       0.83      0.67      0.74      1778\n",
      "\n",
      "    accuracy                           0.77      3556\n",
      "   macro avg       0.78      0.77      0.77      3556\n",
      "weighted avg       0.78      0.77      0.77      3556\n",
      "\n"
     ]
    }
   ],
   "source": [
    "RFclassifier = RandomForestClassifier ( random_state=42)\n",
    "RFclassifier.fit(X_train, y_train)\n",
    "y_pred = RFclassifier.predict(X_test)\n",
    "print(classification_report(y_test,y_pred))"
   ]
  },
  {
   "cell_type": "code",
   "execution_count": 5,
   "metadata": {},
   "outputs": [
    {
     "name": "stdout",
     "output_type": "stream",
     "text": [
      "              precision    recall  f1-score   support\n",
      "\n",
      "           0       0.74      0.84      0.78      1778\n",
      "           1       0.81      0.70      0.75      1778\n",
      "\n",
      "    accuracy                           0.77      3556\n",
      "   macro avg       0.77      0.77      0.77      3556\n",
      "weighted avg       0.77      0.77      0.77      3556\n",
      "\n"
     ]
    }
   ],
   "source": [
    "## - C-0.4\n",
    "RFclassifier = RandomForestClassifier ( random_state=42)\n",
    "RFclassifier.fit(X_train, y_train)\n",
    "y_pred = RFclassifier.predict(X_test)\n",
    "print(classification_report(y_test,y_pred))"
   ]
  },
  {
   "cell_type": "code",
   "execution_count": 6,
   "metadata": {},
   "outputs": [
    {
     "name": "stderr",
     "output_type": "stream",
     "text": [
      "/home/ubuntu/miniconda3/envs/py3/lib/python3.7/site-packages/sklearn/utils/deprecation.py:86: FutureWarning: Function plot_precision_recall_curve is deprecated; This will be removed in v0.5.0. Please use scikitplot.metrics.plot_precision_recall instead.\n",
      "  warnings.warn(msg, category=FutureWarning)\n"
     ]
    },
    {
     "data": {
      "image/png": "[encoded data removed]",
      "text/plain": [
       "<Figure size 432x288 with 1 Axes>"
      ]
     },
     "metadata": {
      "needs_background": "light"
     },
     "output_type": "display_data"
    },
    {
     "data": {
      "image/png": "[encoded data removed]",
      "text/plain": [
       "<Figure size 432x288 with 1 Axes>"
      ]
     },
     "metadata": {
      "needs_background": "light"
     },
     "output_type": "display_data"
    }
   ],
   "source": [
    "y_prob =  RFclassifier.predict_proba(X_test)\n",
    "skplt.metrics.plot_roc(y_test, y_prob)\n",
    "skplt.metrics.plot_precision_recall_curve(y_test, y_prob)\n",
    "plt.show()"
   ]
  },
  {
   "cell_type": "code",
   "execution_count": 7,
   "metadata": {},
   "outputs": [],
   "source": [
    "with open('/mnt/vdb/thesis/best_RF.set_10.model', 'wb') as f:\n",
    "    pickle.dump(RFclassifier, f)"
   ]
  },
  {
   "cell_type": "code",
   "execution_count": 5,
   "metadata": {},
   "outputs": [
    {
     "name": "stdout",
     "output_type": "stream",
     "text": [
      "              precision    recall  f1-score   support\n",
      "\n",
      "           0       0.73      0.86      0.79      1778\n",
      "           1       0.83      0.68      0.74      1778\n",
      "\n",
      "    accuracy                           0.77      3556\n",
      "   macro avg       0.78      0.77      0.77      3556\n",
      "weighted avg       0.78      0.77      0.77      3556\n",
      "\n"
     ]
    }
   ],
   "source": [
    "## - C-0.5\n",
    "RFclassifier = RandomForestClassifier ( random_state=42)\n",
    "RFclassifier.fit(X_train, y_train)\n",
    "y_pred = RFclassifier.predict(X_test)\n",
    "print(classification_report(y_test,y_pred))"
   ]
  }
 ],
 "metadata": {
  "kernelspec": {
   "display_name": "Python 3",
   "language": "python",
   "name": "python3"
  },
  "language_info": {
   "codemirror_mode": {
    "name": "ipython",
    "version": 3
   },
   "file_extension": ".py",
   "mimetype": "text/x-python",
   "name": "python",
   "nbconvert_exporter": "python",
   "pygments_lexer": "ipython3",
   "version": "3.7.10"
  }
 },
 "nbformat": 4,
 "nbformat_minor": 4
}
