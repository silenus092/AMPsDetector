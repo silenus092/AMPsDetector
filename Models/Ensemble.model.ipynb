{
 "cells": [
  {
   "cell_type": "code",
   "execution_count": null,
   "id": "american-spectacular",
   "metadata": {},
   "outputs": [],
   "source": [
    "from multiscorer.multiscorer import MultiScorer\n",
    "#Scikit's libraries for demonstration\n",
    "from sklearn.metrics import accuracy_score, recall_score, precision_score, f1_score, log_loss, roc_auc_score\n",
    "from numpy import average\n",
    "import numpy as np\n",
    "import pandas as pd\n",
    "import matplotlib.pyplot as plt\n",
    "from sklearn.model_selection import cross_validate\n",
    "from sklearn.model_selection import train_test_split\n",
    "from sklearn.model_selection import cross_val_score\n",
    "from sklearn.model_selection import StratifiedKFold\n",
    "from sklearn.metrics import roc_curve,auc\n",
    "from sklearn.metrics import plot_confusion_matrix\n",
    "from sklearn.metrics import classification_report, confusion_matrix, accuracy_score\n",
    "from sklearn.model_selection  import GridSearchCV\n",
    "from sklearn.svm import SVC \n",
    "\n",
    "import pickle5 as pickle\n",
    "\n",
    "# GradientBoosting\n",
    "from sklearn.ensemble import VotingClassifier, RandomForestClassifier, StackingClassifier\n",
    "from xgboost import XGBClassifier\n",
    "\n",
    "def confusion_Matrix(classifier, X_test, y_test):\n",
    "    class_names = ['AMPs', 'NonAMPs']\n",
    "\n",
    "    disp = plot_confusion_matrix(classifier, X_test, y_test,\n",
    "                                display_labels = class_names,\n",
    "                                cmap=plt.cm.Blues, xticks_rotation='vertical')\n",
    "\n",
    "    disp.ax_.set_title(\" Confusion Matrix\")\n",
    "\n",
    "    print(disp.confusion_matrix)\n",
    "    plt.grid(False)\n",
    "    plt.show()"
   ]
  },
  {
   "cell_type": "code",
   "execution_count": 2,
   "id": "identical-forestry",
   "metadata": {},
   "outputs": [],
   "source": [
    "#AMPs_df = pd.read_pickle('../../datasets/AMPsNonAMPs_df.239.plk')\n",
    "AMPs_df = pd.read_pickle('/mnt/vdb/thesis/jax/AMPNonAMP.final.reps')\n",
    "X= np.array(AMPs_df['reps'].to_list())\n",
    "y= np.array(AMPs_df['class'].to_list())\n",
    "X_train, X_test, y_train, y_test = train_test_split(X, y, test_size=0.2, random_state=42)"
   ]
  },
  {
   "cell_type": "code",
   "execution_count": 9,
   "id": "exposed-tongue",
   "metadata": {},
   "outputs": [],
   "source": [
    "# Load model \n",
    "XGBmodel = XGBClassifier()\n",
    "XGBmodel.load_model(\"../Models/best_XGBmodel.model\")\n",
    "\n",
    "with open(\"../Models/best_RF.model\", 'rb') as file:\n",
    "    RF = pickle.load(file)\n",
    "    \n",
    "with open(\"/mnt/vdb/thesis/best_SVM.rbf.model\", 'rb') as file:\n",
    "    SVM = pickle.load(file)\n"
   ]
  },
  {
   "cell_type": "markdown",
   "id": "stock-definition",
   "metadata": {},
   "source": [
    "# Voting"
   ]
  },
  {
   "cell_type": "code",
   "execution_count": 3,
   "id": "higher-choir",
   "metadata": {},
   "outputs": [],
   "source": [
    "SVM =SVC(C=10, break_ties=False, cache_size=200, class_weight=None, coef0=0.0,\n",
    "    decision_function_shape='ovr', degree=3, gamma=0.1, kernel='rbf',\n",
    "    max_iter=-1, probability=True, random_state=None, shrinking=True, tol=0.001,\n",
    "    verbose=True)\n",
    "RF = RandomForestClassifier ( random_state=42)\n",
    "\n",
    "XGBmodel = XGBClassifier(random_state=42)"
   ]
  },
  {
   "cell_type": "code",
   "execution_count": null,
   "id": "regulated-spice",
   "metadata": {},
   "outputs": [
    {
     "name": "stdout",
     "output_type": "stream",
     "text": [
      "[LibSVM]"
     ]
    }
   ],
   "source": [
    "eclf = VotingClassifier(estimators=[\n",
    " ('SVM', SVM), ('RF', RF), ('XGBmodel', XGBmodel)],voting='soft',\n",
    "                        n_jobs =1, weights=[2,1,1],flatten_transform=True)\n",
    "\n",
    "eclf.fit(X_train, y_train)"
   ]
  },
  {
   "cell_type": "code",
   "execution_count": null,
   "id": "silent-confirmation",
   "metadata": {},
   "outputs": [],
   "source": [
    "y_pred = eclf.predict(X_test)\n",
    "print(classification_report(y_test,y_pred))\n",
    "print(accuracy_score(y_test, y_pred))\n",
    "confusion_Matrix(RFclassifier, X_test, y_test)"
   ]
  },
  {
   "cell_type": "markdown",
   "id": "informed-fitting",
   "metadata": {},
   "source": [
    "# Stacking"
   ]
  },
  {
   "cell_type": "code",
   "execution_count": null,
   "id": "lesser-petroleum",
   "metadata": {},
   "outputs": [],
   "source": [
    "estimators = [ ('RF', RF), ('XGBmodel', XGBmodel)]\n",
    "clf = StackingClassifier(  n_jobs = 24 , \n",
    "    estimators=estimators, final_estimator=SVM )\n",
    "clf.fit(X_train, y_train)"
   ]
  },
  {
   "cell_type": "code",
   "execution_count": null,
   "id": "universal-attraction",
   "metadata": {},
   "outputs": [],
   "source": [
    "y_pred = clf.predict(X_test)\n",
    "print(classification_report(y_test,y_pred))\n",
    "print(accuracy_score(y_test, y_pred))\n",
    "confusion_Matrix(RFclassifier, X_test, y_test)"
   ]
  },
  {
   "cell_type": "code",
   "execution_count": null,
   "id": "considered-chuck",
   "metadata": {},
   "outputs": [],
   "source": []
  }
 ],
 "metadata": {
  "kernelspec": {
   "display_name": "Python 3",
   "language": "python",
   "name": "python3"
  },
  "language_info": {
   "codemirror_mode": {
    "name": "ipython",
    "version": 3
   },
   "file_extension": ".py",
   "mimetype": "text/x-python",
   "name": "python",
   "nbconvert_exporter": "python",
   "pygments_lexer": "ipython3",
   "version": "3.7.9"
  }
 },
 "nbformat": 4,
 "nbformat_minor": 5
}
