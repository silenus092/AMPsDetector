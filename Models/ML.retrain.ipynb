{
 "cells": [
  {
   "cell_type": "code",
   "execution_count": 6,
   "metadata": {},
   "outputs": [
    {
     "name": "stdout",
     "output_type": "stream",
     "text": [
      "Requirement already satisfied: xgboost in /home/ubuntu/miniconda3/envs/py3/lib/python3.7/site-packages (1.2.1)\n",
      "Requirement already satisfied: numpy in /home/ubuntu/.local/lib/python3.7/site-packages (from xgboost) (1.18.5)\n",
      "Requirement already satisfied: scipy in /home/ubuntu/miniconda3/envs/py3/lib/python3.7/site-packages (from xgboost) (1.5.4)\n",
      "Collecting pickle5\n",
      "  Downloading pickle5-0.0.11.tar.gz (132 kB)\n",
      "\u001b[K     |████████████████████████████████| 132 kB 850 kB/s eta 0:00:01\n",
      "\u001b[?25hBuilding wheels for collected packages: pickle5\n",
      "  Building wheel for pickle5 (setup.py) ... \u001b[?25ldone\n",
      "\u001b[?25h  Created wheel for pickle5: filename=pickle5-0.0.11-cp37-cp37m-linux_x86_64.whl size=245873 sha256=84085b42d83b288575bf140013ecbf1b8cff6ba9a58b8734cf967aeee8ae2646\n",
      "  Stored in directory: /home/ubuntu/.cache/pip/wheels/7e/6a/00/67136a90d6aca437d806d1d3cedf98106e840c97a3e5188198\n",
      "Successfully built pickle5\n",
      "Installing collected packages: pickle5\n",
      "Successfully installed pickle5-0.0.11\n"
     ]
    }
   ],
   "source": [
    "!pip install xgboost\n",
    "!pip install pickle5\n",
    "!pip install umap-learn\n",
    "!pip install umap-learn[plot]"
   ]
  },
  {
   "cell_type": "code",
   "execution_count": 1,
   "metadata": {},
   "outputs": [],
   "source": [
    "from multiscorer.multiscorer import MultiScorer\n",
    "#Scikit's libraries for demonstration\n",
    "from sklearn.metrics import accuracy_score, recall_score, precision_score, f1_score, log_loss, roc_auc_score\n",
    "from numpy import average\n",
    "import numpy as np\n",
    "import pandas as pd\n",
    "import matplotlib.pyplot as plt\n",
    "from sklearn.model_selection import cross_validate\n",
    "from sklearn.model_selection import train_test_split\n",
    "from sklearn.model_selection import cross_val_score\n",
    "from sklearn.model_selection import StratifiedKFold\n",
    "from sklearn.metrics import roc_curve,auc\n",
    "from sklearn.metrics import plot_confusion_matrix\n",
    "from sklearn.metrics import classification_report, confusion_matrix, accuracy_score\n",
    "from sklearn.model_selection  import GridSearchCV\n",
    "from sklearn.svm import SVC \n",
    "\n",
    "import pickle5 as pickle\n",
    "\n",
    "# GradientBoosting\n",
    "from sklearn.ensemble import GradientBoostingClassifier\n",
    "from xgboost import XGBClassifier"
   ]
  },
  {
   "cell_type": "code",
   "execution_count": null,
   "metadata": {},
   "outputs": [],
   "source": [
    "#AMPs_df = pd.read_pickle('../../datasets/AMPsNonAMPs_df.239.plk')\n",
    "AMPs_df = pd.read_pickle('/mnt/vdb/thesis/jax/AMPNonAMP.final.reps')\n",
    "AMPs_df.drop_duplicates(subset=['Sequence'],inplace=True)\n",
    "AMPs_df\n"
   ]
  },
  {
   "cell_type": "code",
   "execution_count": 2,
   "metadata": {},
   "outputs": [
    {
     "data": {
      "text/html": [
       "<div>\n",
       "<style scoped>\n",
       "    .dataframe tbody tr th:only-of-type {\n",
       "        vertical-align: middle;\n",
       "    }\n",
       "\n",
       "    .dataframe tbody tr th {\n",
       "        vertical-align: top;\n",
       "    }\n",
       "\n",
       "    .dataframe thead th {\n",
       "        text-align: right;\n",
       "    }\n",
       "</style>\n",
       "<table border=\"1\" class=\"dataframe\">\n",
       "  <thead>\n",
       "    <tr style=\"text-align: right;\">\n",
       "      <th></th>\n",
       "      <th>ID</th>\n",
       "      <th>length</th>\n",
       "      <th>class</th>\n",
       "      <th>reps</th>\n",
       "    </tr>\n",
       "  </thead>\n",
       "  <tbody>\n",
       "    <tr>\n",
       "      <th>1272</th>\n",
       "      <td>0_antitbpred|antitbpred</td>\n",
       "      <td>33</td>\n",
       "      <td>0</td>\n",
       "      <td>[0.020596178248524666, 0.05145363137125969, 0....</td>\n",
       "    </tr>\n",
       "    <tr>\n",
       "      <th>1463</th>\n",
       "      <td>0_peptideDB.anti|peptideDB.anti</td>\n",
       "      <td>148</td>\n",
       "      <td>0</td>\n",
       "      <td>[0.006680205464363098, -0.09558606147766113, 0...</td>\n",
       "    </tr>\n",
       "    <tr>\n",
       "      <th>712</th>\n",
       "      <td>1000_pos_train_ds3|pos_train_ds3</td>\n",
       "      <td>86</td>\n",
       "      <td>0</td>\n",
       "      <td>[0.010705528780817986, 0.005044564604759216, 0...</td>\n",
       "    </tr>\n",
       "    <tr>\n",
       "      <th>1111</th>\n",
       "      <td>10015_dbaasp,10016_dbaasp|dbaasp_peptides</td>\n",
       "      <td>11</td>\n",
       "      <td>0</td>\n",
       "      <td>[0.20464208722114563, -0.055944692343473434, 0...</td>\n",
       "    </tr>\n",
       "    <tr>\n",
       "      <th>618</th>\n",
       "      <td>10023_dbaasp|dbaasp_peptides</td>\n",
       "      <td>36</td>\n",
       "      <td>0</td>\n",
       "      <td>[0.0020729468669742346, -0.07690200209617615, ...</td>\n",
       "    </tr>\n",
       "    <tr>\n",
       "      <th>...</th>\n",
       "      <td>...</td>\n",
       "      <td>...</td>\n",
       "      <td>...</td>\n",
       "      <td>...</td>\n",
       "    </tr>\n",
       "    <tr>\n",
       "      <th>341</th>\n",
       "      <td>jgi|Zymar1|771619|Za111_scaffold_384_0026</td>\n",
       "      <td>92</td>\n",
       "      <td>0</td>\n",
       "      <td>[0.006163035519421101, -0.1501017063856125, 0....</td>\n",
       "    </tr>\n",
       "    <tr>\n",
       "      <th>342</th>\n",
       "      <td>jgi|Zymbr1|3072|TI39_contig368g00016T0</td>\n",
       "      <td>769</td>\n",
       "      <td>0</td>\n",
       "      <td>[0.004322961904108524, -0.039575327187776566, ...</td>\n",
       "    </tr>\n",
       "    <tr>\n",
       "      <th>345</th>\n",
       "      <td>jgi|Zymps1|796288|Zp221_scaffold_1306_00022</td>\n",
       "      <td>790</td>\n",
       "      <td>0</td>\n",
       "      <td>[0.0037672598846256733, -0.036420367658138275,...</td>\n",
       "    </tr>\n",
       "    <tr>\n",
       "      <th>344</th>\n",
       "      <td>jgi|Zymps1|799992|Zp221_scaffold_243_00026</td>\n",
       "      <td>155</td>\n",
       "      <td>0</td>\n",
       "      <td>[0.0039311423897743225, -0.01658601127564907, ...</td>\n",
       "    </tr>\n",
       "    <tr>\n",
       "      <th>343</th>\n",
       "      <td>jgi|Zymps1|802458|Zp221_scaffold_490_00086</td>\n",
       "      <td>138</td>\n",
       "      <td>0</td>\n",
       "      <td>[0.008318976499140263, -0.01920546218752861, 0...</td>\n",
       "    </tr>\n",
       "  </tbody>\n",
       "</table>\n",
       "<p>88692 rows × 4 columns</p>\n",
       "</div>"
      ],
      "text/plain": [
       "                                               ID  length  class  \\\n",
       "1272                      0_antitbpred|antitbpred      33      0   \n",
       "1463              0_peptideDB.anti|peptideDB.anti     148      0   \n",
       "712              1000_pos_train_ds3|pos_train_ds3      86      0   \n",
       "1111    10015_dbaasp,10016_dbaasp|dbaasp_peptides      11      0   \n",
       "618                  10023_dbaasp|dbaasp_peptides      36      0   \n",
       "...                                           ...     ...    ...   \n",
       "341     jgi|Zymar1|771619|Za111_scaffold_384_0026      92      0   \n",
       "342        jgi|Zymbr1|3072|TI39_contig368g00016T0     769      0   \n",
       "345   jgi|Zymps1|796288|Zp221_scaffold_1306_00022     790      0   \n",
       "344    jgi|Zymps1|799992|Zp221_scaffold_243_00026     155      0   \n",
       "343    jgi|Zymps1|802458|Zp221_scaffold_490_00086     138      0   \n",
       "\n",
       "                                                   reps  \n",
       "1272  [0.020596178248524666, 0.05145363137125969, 0....  \n",
       "1463  [0.006680205464363098, -0.09558606147766113, 0...  \n",
       "712   [0.010705528780817986, 0.005044564604759216, 0...  \n",
       "1111  [0.20464208722114563, -0.055944692343473434, 0...  \n",
       "618   [0.0020729468669742346, -0.07690200209617615, ...  \n",
       "...                                                 ...  \n",
       "341   [0.006163035519421101, -0.1501017063856125, 0....  \n",
       "342   [0.004322961904108524, -0.039575327187776566, ...  \n",
       "345   [0.0037672598846256733, -0.036420367658138275,...  \n",
       "344   [0.0039311423897743225, -0.01658601127564907, ...  \n",
       "343   [0.008318976499140263, -0.01920546218752861, 0...  \n",
       "\n",
       "[88692 rows x 4 columns]"
      ]
     },
     "execution_count": 2,
     "metadata": {},
     "output_type": "execute_result"
    }
   ],
   "source": [
    "with open( \"/mnt/vdb/thesis/jax/AMPNonAMP.final.reps\", 'rb') as file:\n",
    "    AMPs_df = pickle.load(file)\n",
    "AMPs_df"
   ]
  },
  {
   "cell_type": "code",
   "execution_count": 3,
   "metadata": {},
   "outputs": [],
   "source": [
    "X= np.array(AMPs_df['reps'].to_list())\n",
    "y= np.array(AMPs_df['class'].to_list())"
   ]
  },
  {
   "cell_type": "code",
   "execution_count": 4,
   "metadata": {},
   "outputs": [],
   "source": [
    "X_train, X_test, y_train, y_test = train_test_split(X, y, test_size=0.2, random_state=42)"
   ]
  },
  {
   "cell_type": "code",
   "execution_count": 5,
   "metadata": {},
   "outputs": [],
   "source": [
    "def confusion_Matrix(classifier, X_test, y_test):\n",
    "    class_names = ['AMPs', 'NonAMPs']\n",
    "\n",
    "    disp = plot_confusion_matrix(classifier, X_test, y_test,\n",
    "                                display_labels = class_names,\n",
    "                                cmap=plt.cm.Blues, xticks_rotation='vertical')\n",
    "\n",
    "    disp.ax_.set_title(\" Confusion Matrix\")\n",
    "\n",
    "    print(disp.confusion_matrix)\n",
    "    plt.grid(False)\n",
    "    plt.show()"
   ]
  },
  {
   "cell_type": "markdown",
   "metadata": {},
   "source": [
    "# SVM"
   ]
  },
  {
   "cell_type": "code",
   "execution_count": 6,
   "metadata": {},
   "outputs": [
    {
     "data": {
      "text/plain": [
       "SVC()"
      ]
     },
     "execution_count": 6,
     "metadata": {},
     "output_type": "execute_result"
    }
   ],
   "source": [
    "# linear model \n",
    "svm_model =SVC()\n",
    "svm_model.fit(X_train, y_train) "
   ]
  },
  {
   "cell_type": "code",
   "execution_count": 7,
   "metadata": {},
   "outputs": [
    {
     "name": "stdout",
     "output_type": "stream",
     "text": [
      "              precision    recall  f1-score   support\n",
      "\n",
      "           0       0.93      0.90      0.91      8873\n",
      "           1       0.90      0.93      0.92      8866\n",
      "\n",
      "    accuracy                           0.91     17739\n",
      "   macro avg       0.92      0.91      0.91     17739\n",
      "weighted avg       0.92      0.91      0.91     17739\n",
      "\n",
      "[[7986  887]\n",
      " [ 622 8244]]\n"
     ]
    },
    {
     "data": {
      "image/png": "[encoded data removed]",
      "text/plain": [
       "<Figure size 432x288 with 2 Axes>"
      ]
     },
     "metadata": {
      "needs_background": "light"
     },
     "output_type": "display_data"
    }
   ],
   "source": [
    "grid_predictions = svm_model.predict(X_test) \n",
    "  \n",
    "# print classification report \n",
    "print(classification_report(y_test, grid_predictions)) \n",
    "confusion_Matrix(svm_model, X_test, y_test)"
   ]
  },
  {
   "cell_type": "code",
   "execution_count": 8,
   "metadata": {},
   "outputs": [],
   "source": [
    "with open('/mnt/vdb/thesis/best_SVM.linear.model', 'wb') as f:\n",
    "    pickle.dump(svm_model, f)"
   ]
  },
  {
   "cell_type": "code",
   "execution_count": null,
   "metadata": {},
   "outputs": [
    {
     "name": "stdout",
     "output_type": "stream",
     "text": [
      "[LibSVM]"
     ]
    }
   ],
   "source": [
    "svm_model =SVC(C=10, break_ties=False, cache_size=200, class_weight=None, coef0=0.0,\n",
    "    decision_function_shape='ovr', degree=3, gamma=0.1, kernel='rbf',\n",
    "    max_iter=-1, probability=True, random_state=None, shrinking=True, tol=0.001,\n",
    "    verbose=True)\n",
    "svm_model.fit(X_train, y_train) "
   ]
  },
  {
   "cell_type": "code",
   "execution_count": 20,
   "metadata": {},
   "outputs": [
    {
     "name": "stdout",
     "output_type": "stream",
     "text": [
      "              precision    recall  f1-score   support\n",
      "\n",
      "           0       0.94      0.93      0.94      8873\n",
      "           1       0.93      0.94      0.94      8866\n",
      "\n",
      "    accuracy                           0.94     17739\n",
      "   macro avg       0.94      0.94      0.94     17739\n",
      "weighted avg       0.94      0.94      0.94     17739\n",
      "\n",
      "[[8278  595]\n",
      " [ 488 8378]]\n"
     ]
    },
    {
     "data": {
      "image/png": "[encoded data removed]",
      "text/plain": [
       "<Figure size 432x288 with 2 Axes>"
      ]
     },
     "metadata": {
      "needs_background": "light"
     },
     "output_type": "display_data"
    }
   ],
   "source": [
    "grid_predictions = svm_model.predict(X_test) \n",
    "  \n",
    "# print classification report \n",
    "print(classification_report(y_test, grid_predictions)) \n",
    "confusion_Matrix(svm_model, X_test, y_test)"
   ]
  },
  {
   "cell_type": "code",
   "execution_count": 19,
   "metadata": {},
   "outputs": [],
   "source": [
    "import pickle\n",
    "# now you can save it to a file\n",
    "with open('best_SVM.model', 'wb') as f:\n",
    "    pickle.dump(svm_model, f)\n",
    "    #with open('svm_model.pkl', 'rb') as f:\n",
    "    #svm_model = pickle.load(f)"
   ]
  },
  {
   "cell_type": "code",
   "execution_count": 8,
   "metadata": {},
   "outputs": [
    {
     "name": "stdout",
     "output_type": "stream",
     "text": [
      "Cross-Validation Accuracy: 0.8625358221860651 \n",
      " \n",
      "\n"
     ]
    }
   ],
   "source": [
    "svm_model =SVC(C=10, break_ties=False, cache_size=200, class_weight=None, coef0=0.0,\n",
    "    decision_function_shape='ovr', degree=3, gamma=0.1, kernel='rbf',\n",
    "    max_iter=-1, probability=True, random_state=None, shrinking=True, tol=0.001,\n",
    "    verbose=True)\n",
    "score = cross_val_score(svm_model, X, y, cv=10, n_jobs=20, scoring='accuracy').mean()\n",
    "print('Cross-Validation Accuracy:', score, '\\n', '\\n')"
   ]
  },
  {
   "cell_type": "code",
   "execution_count": 6,
   "metadata": {},
   "outputs": [
    {
     "name": "stdout",
     "output_type": "stream",
     "text": [
      "Cross-Validation Accuracy: 0.857029261081841 \n",
      " \n",
      "\n"
     ]
    }
   ],
   "source": [
    "svm_model =SVC()\n",
    "score = cross_val_score(svm_model, X, y, cv=10, n_jobs=2, scoring='accuracy').mean()\n",
    "print('Cross-Validation Accuracy:', score, '\\n', '\\n')"
   ]
  },
  {
   "cell_type": "code",
   "execution_count": 7,
   "metadata": {},
   "outputs": [],
   "source": [
    "## use the package from gituhb\n",
    "scorer = MultiScorer({\n",
    "  'accuracy': (accuracy_score, {}),\n",
    "  'precision': (precision_score, {}),\n",
    "  'recall': (recall_score, {}),\n",
    "  'f1': (f1_score, {}), \n",
    "  'roc_auc': (roc_auc_score, {}),\n",
    "  'neg_log_loss': (log_loss, {}), \n",
    "    \n",
    "})\n"
   ]
  },
  {
   "cell_type": "code",
   "execution_count": null,
   "metadata": {},
   "outputs": [],
   "source": [
    "svm_model =SVC()\n",
    "cross_val_score(svm_model, X, y, cv=10, scoring=scorer )\n",
    "#print('Cross-Validation Accuracy:', score, '\\n', '\\n')"
   ]
  },
  {
   "cell_type": "code",
   "execution_count": 18,
   "metadata": {},
   "outputs": [
    {
     "name": "stdout",
     "output_type": "stream",
     "text": [
      "accuracy: 0.857\n",
      "precision: 0.829\n",
      "recall: 0.922\n",
      "f1: 0.869\n",
      "roc_auc: 0.858\n",
      "neg_log_loss: 4.938\n"
     ]
    }
   ],
   "source": [
    "results = scorer.get_results()\n",
    "for metric in results.keys():\n",
    "  print(\"%s: %.3f\" % (metric, average(results[metric])))"
   ]
  },
  {
   "cell_type": "code",
   "execution_count": null,
   "metadata": {},
   "outputs": [],
   "source": [
    "svm_model =SVC(probability=True)\n",
    "kfold = StratifiedKFold(n_splits=10, shuffle=True, random_state=42)\n",
    "scoring = ['accuracy', 'f1', 'roc_auc', 'recall', 'precision','neg_log_loss']\n",
    "scores = cross_validate(\n",
    "    svm_model, X, y, scoring=scoring, cv=kfold, return_train_score=True)\n",
    "print(\"Accuracy TEST: %0.2f (+/- %0.2f) Accuracy TRAIN: %0.2f (+/- %0.2f)\" %\n",
    "      (scores['test_accuracy'].mean(), scores['test_accuracy'].std() * 2, scores['train_accuracy'].mean(), scores['train_accuracy'].std() * 2))\n",
    "print(\"F1 TEST: %0.2f (+/- %0.2f) F1 TRAIN : %0.2f (+/- %0.2f) \" %\n",
    "      (scores['test_f1'].mean(), scores['test_f1'].std() * 2, scores['train_f1'].mean(), scores['train_f1'].std() * 2))\n",
    "print(\"AUROC TEST: %0.2f (+/- %0.2f) AUROC TRAIN : %0.2f (+/- %0.2f)\" %\n",
    "      (scores['test_roc_auc'].mean(), scores['test_roc_auc'].std() * 2, scores['train_roc_auc'].mean(), scores['train_roc_auc'].std() * 2))\n",
    "print(\"recall TEST: %0.2f (+/- %0.2f) recall TRAIN: %0.2f (+/- %0.2f)\" %\n",
    "      (scores['test_recall'].mean(), scores['test_recall'].std() * 2, scores['train_recall'].mean(), scores['train_recall'].std() * 2))\n",
    "print(\"Precision TEST: %0.2f (+/- %0.2f) Precision TRAIN: %0.2f (+/- %0.2f)\" %\n",
    "      (scores['test_precision'].mean(), scores['test_precision'].std() * 2, scores['train_precision'].mean(), scores['train_precision'].std() * 2))\n",
    "print(\"Log loss TEST: %0.2f (+/- %0.2f) Log loss TRAIN: %0.2f (+/- %0.2f)\" %\n",
    "      (scores['test_neg_log_loss'].mean(), scores['test_neg_log_loss'].std() * 2, scores['train_neg_log_loss'].mean(), scores['train_neg_"
   ]
  },
  {
   "cell_type": "markdown",
   "metadata": {},
   "source": [
    "## pssm"
   ]
  },
  {
   "cell_type": "code",
   "execution_count": 2,
   "metadata": {},
   "outputs": [],
   "source": [
    "with open( '/mnt/vdb/thesis/pwm/AMPnonAMP.sim60_c08.pssm.pkl', 'rb') as file:\n",
    "    AMPNonAMP_df = pickle.load(file)\n",
    "X= np.array(AMPNonAMP_df['reps'].to_list())\n",
    "y= np.array(AMPNonAMP_df['class'].to_list())\n",
    "X_train, X_test, y_train, y_test = train_test_split(X, y, test_size=0.2, random_state=1)"
   ]
  },
  {
   "cell_type": "code",
   "execution_count": 3,
   "metadata": {},
   "outputs": [
    {
     "name": "stdout",
     "output_type": "stream",
     "text": [
      "[LibSVM]"
     ]
    },
    {
     "data": {
      "text/plain": [
       "SVC(C=10, gamma=0.1, probability=True, verbose=True)"
      ]
     },
     "execution_count": 3,
     "metadata": {},
     "output_type": "execute_result"
    }
   ],
   "source": [
    "svm_model =SVC(C=10, break_ties=False, cache_size=200, class_weight=None, coef0=0.0,\n",
    "    decision_function_shape='ovr', degree=3, gamma=0.1, kernel='rbf',\n",
    "    max_iter=-1, probability=True, random_state=None, shrinking=True, tol=0.001,\n",
    "    verbose=True)\n",
    "svm_model.fit(X_train, y_train) "
   ]
  },
  {
   "cell_type": "code",
   "execution_count": 4,
   "metadata": {},
   "outputs": [
    {
     "name": "stdout",
     "output_type": "stream",
     "text": [
      "              precision    recall  f1-score   support\n",
      "\n",
      "           0       0.85      0.60      0.71      8726\n",
      "           1       0.69      0.89      0.78      8566\n",
      "\n",
      "    accuracy                           0.75     17292\n",
      "   macro avg       0.77      0.75      0.74     17292\n",
      "weighted avg       0.77      0.75      0.74     17292\n",
      "\n"
     ]
    },
    {
     "ename": "NameError",
     "evalue": "name 'confusion_Matrix' is not defined",
     "output_type": "error",
     "traceback": [
      "\u001b[0;31m---------------------------------------------------------------------------\u001b[0m",
      "\u001b[0;31mNameError\u001b[0m                                 Traceback (most recent call last)",
      "\u001b[0;32m<ipython-input-4-69c5b807bd05>\u001b[0m in \u001b[0;36m<module>\u001b[0;34m\u001b[0m\n\u001b[1;32m      3\u001b[0m \u001b[0;31m# print classification report\u001b[0m\u001b[0;34m\u001b[0m\u001b[0;34m\u001b[0m\u001b[0;34m\u001b[0m\u001b[0m\n\u001b[1;32m      4\u001b[0m \u001b[0mprint\u001b[0m\u001b[0;34m(\u001b[0m\u001b[0mclassification_report\u001b[0m\u001b[0;34m(\u001b[0m\u001b[0my_test\u001b[0m\u001b[0;34m,\u001b[0m \u001b[0mgrid_predictions\u001b[0m\u001b[0;34m)\u001b[0m\u001b[0;34m)\u001b[0m\u001b[0;34m\u001b[0m\u001b[0;34m\u001b[0m\u001b[0m\n\u001b[0;32m----> 5\u001b[0;31m \u001b[0mconfusion_Matrix\u001b[0m\u001b[0;34m(\u001b[0m\u001b[0msvm_model\u001b[0m\u001b[0;34m,\u001b[0m \u001b[0mX_test\u001b[0m\u001b[0;34m,\u001b[0m \u001b[0my_test\u001b[0m\u001b[0;34m)\u001b[0m\u001b[0;34m\u001b[0m\u001b[0;34m\u001b[0m\u001b[0m\n\u001b[0m",
      "\u001b[0;31mNameError\u001b[0m: name 'confusion_Matrix' is not defined"
     ]
    }
   ],
   "source": [
    "grid_predictions = svm_model.predict(X_test) \n",
    "  \n",
    "# print classification report \n",
    "print(classification_report(y_test, grid_predictions)) \n",
    "confusion_Matrix(svm_model, X_test, y_test)"
   ]
  },
  {
   "cell_type": "code",
   "execution_count": 5,
   "metadata": {},
   "outputs": [],
   "source": [
    "with open('/mnt/vdb/thesis/best_SVM.model', 'wb') as f:\n",
    "    pickle.dump(svm_model, f)"
   ]
  },
  {
   "cell_type": "markdown",
   "metadata": {},
   "source": [
    "## Training 2"
   ]
  },
  {
   "cell_type": "code",
   "execution_count": null,
   "metadata": {},
   "outputs": [],
   "source": []
  },
  {
   "cell_type": "code",
   "execution_count": null,
   "metadata": {},
   "outputs": [],
   "source": []
  },
  {
   "cell_type": "code",
   "execution_count": null,
   "metadata": {},
   "outputs": [],
   "source": []
  },
  {
   "cell_type": "code",
   "execution_count": null,
   "metadata": {},
   "outputs": [],
   "source": []
  },
  {
   "cell_type": "code",
   "execution_count": null,
   "metadata": {},
   "outputs": [],
   "source": []
  },
  {
   "cell_type": "code",
   "execution_count": null,
   "metadata": {},
   "outputs": [],
   "source": []
  }
 ],
 "metadata": {
  "kernelspec": {
   "display_name": "Python 3",
   "language": "python",
   "name": "python3"
  },
  "language_info": {
   "codemirror_mode": {
    "name": "ipython",
    "version": 3
   },
   "file_extension": ".py",
   "mimetype": "text/x-python",
   "name": "python",
   "nbconvert_exporter": "python",
   "pygments_lexer": "ipython3",
   "version": "3.7.10"
  }
 },
 "nbformat": 4,
 "nbformat_minor": 4
}
