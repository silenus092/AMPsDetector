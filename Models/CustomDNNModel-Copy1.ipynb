{
 "cells": [
  {
   "cell_type": "code",
   "execution_count": null,
   "metadata": {},
   "outputs": [],
   "source": [
    "# https://stackoverflow.com/questions/48641189/fitting-3d-data-as-input-into-keras-sequential-model-layer"
   ]
  },
  {
   "cell_type": "code",
   "execution_count": 1,
   "metadata": {},
   "outputs": [],
   "source": [
    " #Use only CPU\n",
    "import os \n",
    "os.environ['CUDA_VISIBLE_DEVICES'] = '-1'"
   ]
  },
  {
   "cell_type": "code",
   "execution_count": 1,
   "metadata": {},
   "outputs": [
    {
     "name": "stdout",
     "output_type": "stream",
     "text": [
      "[name: \"/device:CPU:0\"\n",
      "device_type: \"CPU\"\n",
      "memory_limit: 268435456\n",
      "locality {\n",
      "}\n",
      "incarnation: 4123347089788451962\n",
      ", name: \"/device:XLA_CPU:0\"\n",
      "device_type: \"XLA_CPU\"\n",
      "memory_limit: 17179869184\n",
      "locality {\n",
      "}\n",
      "incarnation: 9162099493350987648\n",
      "physical_device_desc: \"device: XLA_CPU device\"\n",
      ", name: \"/device:XLA_GPU:0\"\n",
      "device_type: \"XLA_GPU\"\n",
      "memory_limit: 17179869184\n",
      "locality {\n",
      "}\n",
      "incarnation: 7650193066214775356\n",
      "physical_device_desc: \"device: XLA_GPU device\"\n",
      ", name: \"/device:GPU:0\"\n",
      "device_type: \"GPU\"\n",
      "memory_limit: 31595870336\n",
      "locality {\n",
      "  bus_id: 1\n",
      "  links {\n",
      "  }\n",
      "}\n",
      "incarnation: 17166724876986519771\n",
      "physical_device_desc: \"device: 0, name: Tesla V100-PCIE-32GB, pci bus id: 0000:00:06.0, compute capability: 7.0\"\n",
      "]\n"
     ]
    }
   ],
   "source": [
    "import tensorflow as tf\n",
    "from tensorflow.python.client import device_lib\n",
    "print(device_lib.list_local_devices())"
   ]
  },
  {
   "cell_type": "code",
   "execution_count": 2,
   "metadata": {
    "id": "4aBzk8QXHS9S"
   },
   "outputs": [],
   "source": [
    "import os\n",
    "import gc\n",
    "\n",
    "import numpy as np\n",
    "import pandas as pd\n",
    "import matplotlib.pyplot as plt\n",
    "import matplotlib.patches as patches\n",
    "import seaborn as sns\n",
    "\n",
    "from collections import Counter\n",
    "from prettytable import PrettyTable\n",
    "from IPython.display import Image\n",
    "from sklearn.model_selection import train_test_split\n",
    "from sklearn.model_selection import cross_val_score\n",
    "from sklearn.model_selection import StratifiedKFold\n",
    "from sklearn.metrics import roc_curve,auc\n",
    "from keras.wrappers.scikit_learn import KerasClassifier\n",
    "#keras\n",
    "import keras\n",
    "from keras.models import Model\n",
    "from keras.regularizers import l2\n",
    "from keras.constraints import max_norm\n",
    "from keras.callbacks import EarlyStopping\n",
    "from keras.layers import Input, Dense, Dropout, Flatten, Activation\n",
    "from keras.layers import Conv1D, Add, MaxPooling1D, BatchNormalization\n",
    "from keras.layers import Embedding, Bidirectional, GlobalMaxPooling1D\n",
    "from tensorflow.python.keras.layers.recurrent import LSTM\n",
    "# CuDNNLSTM error; The error was because from TensorFlow 2 you do not need to specify CuDNNLSTM. \n",
    "# You can just use LSTM with no activation function and it will automatically use the CuDNN version. You do have to install CuDNN first.\n",
    "\n",
    "from keras.callbacks import ModelCheckpoint\n",
    "from sklearn.metrics import classification_report, confusion_matrix, accuracy_score"
   ]
  },
  {
   "cell_type": "code",
   "execution_count": 25,
   "metadata": {
    "id": "FNhtXHJrfEE4"
   },
   "outputs": [],
   "source": [
    "import pickle5 as pickle\n",
    "with open( \"/home/ubuntu/data/AMPsNonAMPs_df.plk\", 'rb') as file:\n",
    "    AMPs_df = pickle.load(file)"
   ]
  },
  {
   "cell_type": "code",
   "execution_count": 26,
   "metadata": {
    "colab": {
     "base_uri": "https://localhost:8080/",
     "height": 597
    },
    "id": "mGiMSzzPfj2t",
    "outputId": "092eb611-b89c-4cac-c8c4-0557799510cf"
   },
   "outputs": [
    {
     "data": {
      "text/html": [
       "<div>\n",
       "<style scoped>\n",
       "    .dataframe tbody tr th:only-of-type {\n",
       "        vertical-align: middle;\n",
       "    }\n",
       "\n",
       "    .dataframe tbody tr th {\n",
       "        vertical-align: top;\n",
       "    }\n",
       "\n",
       "    .dataframe thead th {\n",
       "        text-align: right;\n",
       "    }\n",
       "</style>\n",
       "<table border=\"1\" class=\"dataframe\">\n",
       "  <thead>\n",
       "    <tr style=\"text-align: right;\">\n",
       "      <th></th>\n",
       "      <th>ID</th>\n",
       "      <th>Sequence</th>\n",
       "      <th>length</th>\n",
       "      <th>class</th>\n",
       "      <th>reps</th>\n",
       "    </tr>\n",
       "  </thead>\n",
       "  <tbody>\n",
       "    <tr>\n",
       "      <th>0</th>\n",
       "      <td>EN92515250|C|B3FJD7|phage 201phi2-1 lysin</td>\n",
       "      <td>MAKKSVPLRKPAGSDGQGNIKVPGGPVVLDLGDFDDIFGPMESESP...</td>\n",
       "      <td>2337</td>\n",
       "      <td>0</td>\n",
       "      <td>[0.0032203220762312412, 0.07328620553016663, 0...</td>\n",
       "    </tr>\n",
       "    <tr>\n",
       "      <th>1</th>\n",
       "      <td>EN54061055|C|F8SJ56|phage PhiPA3 lysin</td>\n",
       "      <td>MASKKTTLPKPKGINPQGSIVQLDLDDFDDLFDEDFGLPKKNSPYT...</td>\n",
       "      <td>2319</td>\n",
       "      <td>0</td>\n",
       "      <td>[0.0027930964715778828, 0.06916013360023499, 0...</td>\n",
       "    </tr>\n",
       "    <tr>\n",
       "      <th>2</th>\n",
       "      <td>EN4815120|C|Q8SCY1|phage phiKZ lysin</td>\n",
       "      <td>MAKKVTLPKGQTGATGTTLGQAGNILDLSDVDDIFGDTPKAKKGSP...</td>\n",
       "      <td>2237</td>\n",
       "      <td>0</td>\n",
       "      <td>[0.0023172732908278704, 0.05406315624713898, 0...</td>\n",
       "    </tr>\n",
       "    <tr>\n",
       "      <th>3</th>\n",
       "      <td>EN3016141|D|D2J8A7|bacteriocin</td>\n",
       "      <td>MAETIKGLRIDLSLKDMGVGRSITELKRSFRTLNSDLKVSSKNFEY...</td>\n",
       "      <td>1619</td>\n",
       "      <td>0</td>\n",
       "      <td>[0.014644640497863293, 0.07187927514314651, 0....</td>\n",
       "    </tr>\n",
       "    <tr>\n",
       "      <th>4</th>\n",
       "      <td>EN9175723|BD|Q93IM3|bacteriocin</td>\n",
       "      <td>MAKKKNTYKVPSIIALTLAGTALTTHHAQAADKTQDQSTNKNILND...</td>\n",
       "      <td>1564</td>\n",
       "      <td>0</td>\n",
       "      <td>[0.0062357354909181595, 0.01848522014915943, 0...</td>\n",
       "    </tr>\n",
       "    <tr>\n",
       "      <th>...</th>\n",
       "      <td>...</td>\n",
       "      <td>...</td>\n",
       "      <td>...</td>\n",
       "      <td>...</td>\n",
       "      <td>...</td>\n",
       "    </tr>\n",
       "    <tr>\n",
       "      <th>42439</th>\n",
       "      <td>UniRef50_B2ABU5 Podospora anserina S mat+ geno...</td>\n",
       "      <td>MKWKAIIAAYGM</td>\n",
       "      <td>12</td>\n",
       "      <td>1</td>\n",
       "      <td>[0.04739842936396599, 0.01943567767739296, -0....</td>\n",
       "    </tr>\n",
       "    <tr>\n",
       "      <th>42440</th>\n",
       "      <td>UniRef50_A0A151HEL5 Zinc finger  C3HC4 type (R...</td>\n",
       "      <td>GLYFRPRRRASS</td>\n",
       "      <td>12</td>\n",
       "      <td>1</td>\n",
       "      <td>[0.0483490452170372, -0.007824046537280083, -0...</td>\n",
       "    </tr>\n",
       "    <tr>\n",
       "      <th>42441</th>\n",
       "      <td>UniRef50_K2MU79 Retrotransposon hot spot (RHS)...</td>\n",
       "      <td>MESNPMTLVGCG</td>\n",
       "      <td>12</td>\n",
       "      <td>1</td>\n",
       "      <td>[0.047337695956230164, -0.013988062739372253, ...</td>\n",
       "    </tr>\n",
       "    <tr>\n",
       "      <th>42442</th>\n",
       "      <td>UniRef50_A0A1E1IUT2 Flagellar calcium-binding ...</td>\n",
       "      <td>IRCVGHWMQAEH</td>\n",
       "      <td>12</td>\n",
       "      <td>1</td>\n",
       "      <td>[0.04697670415043831, -0.027571065351366997, -...</td>\n",
       "    </tr>\n",
       "    <tr>\n",
       "      <th>42443</th>\n",
       "      <td>UniRef50_A0A0S4ITT4 Dopa decarboxylase  putati...</td>\n",
       "      <td>APWSASTLHCPG</td>\n",
       "      <td>12</td>\n",
       "      <td>1</td>\n",
       "      <td>[0.04749748483300209, 0.005815288983285427, -0...</td>\n",
       "    </tr>\n",
       "  </tbody>\n",
       "</table>\n",
       "<p>41951 rows × 5 columns</p>\n",
       "</div>"
      ],
      "text/plain": [
       "                                                      ID  \\\n",
       "0              EN92515250|C|B3FJD7|phage 201phi2-1 lysin   \n",
       "1                 EN54061055|C|F8SJ56|phage PhiPA3 lysin   \n",
       "2                   EN4815120|C|Q8SCY1|phage phiKZ lysin   \n",
       "3                         EN3016141|D|D2J8A7|bacteriocin   \n",
       "4                        EN9175723|BD|Q93IM3|bacteriocin   \n",
       "...                                                  ...   \n",
       "42439  UniRef50_B2ABU5 Podospora anserina S mat+ geno...   \n",
       "42440  UniRef50_A0A151HEL5 Zinc finger  C3HC4 type (R...   \n",
       "42441  UniRef50_K2MU79 Retrotransposon hot spot (RHS)...   \n",
       "42442  UniRef50_A0A1E1IUT2 Flagellar calcium-binding ...   \n",
       "42443  UniRef50_A0A0S4ITT4 Dopa decarboxylase  putati...   \n",
       "\n",
       "                                                Sequence  length  class  \\\n",
       "0      MAKKSVPLRKPAGSDGQGNIKVPGGPVVLDLGDFDDIFGPMESESP...    2337      0   \n",
       "1      MASKKTTLPKPKGINPQGSIVQLDLDDFDDLFDEDFGLPKKNSPYT...    2319      0   \n",
       "2      MAKKVTLPKGQTGATGTTLGQAGNILDLSDVDDIFGDTPKAKKGSP...    2237      0   \n",
       "3      MAETIKGLRIDLSLKDMGVGRSITELKRSFRTLNSDLKVSSKNFEY...    1619      0   \n",
       "4      MAKKKNTYKVPSIIALTLAGTALTTHHAQAADKTQDQSTNKNILND...    1564      0   \n",
       "...                                                  ...     ...    ...   \n",
       "42439                                       MKWKAIIAAYGM      12      1   \n",
       "42440                                       GLYFRPRRRASS      12      1   \n",
       "42441                                       MESNPMTLVGCG      12      1   \n",
       "42442                                       IRCVGHWMQAEH      12      1   \n",
       "42443                                       APWSASTLHCPG      12      1   \n",
       "\n",
       "                                                    reps  \n",
       "0      [0.0032203220762312412, 0.07328620553016663, 0...  \n",
       "1      [0.0027930964715778828, 0.06916013360023499, 0...  \n",
       "2      [0.0023172732908278704, 0.05406315624713898, 0...  \n",
       "3      [0.014644640497863293, 0.07187927514314651, 0....  \n",
       "4      [0.0062357354909181595, 0.01848522014915943, 0...  \n",
       "...                                                  ...  \n",
       "42439  [0.04739842936396599, 0.01943567767739296, -0....  \n",
       "42440  [0.0483490452170372, -0.007824046537280083, -0...  \n",
       "42441  [0.047337695956230164, -0.013988062739372253, ...  \n",
       "42442  [0.04697670415043831, -0.027571065351366997, -...  \n",
       "42443  [0.04749748483300209, 0.005815288983285427, -0...  \n",
       "\n",
       "[41951 rows x 5 columns]"
      ]
     },
     "execution_count": 26,
     "metadata": {},
     "output_type": "execute_result"
    }
   ],
   "source": [
    "AMPs_df.drop_duplicates(subset=['Sequence'],inplace=True)\n",
    "AMPs_df"
   ]
  },
  {
   "cell_type": "code",
   "execution_count": 5,
   "metadata": {
    "id": "rz4gQNIeIaQh"
   },
   "outputs": [
    {
     "data": {
      "text/html": [
       "<div>\n",
       "<style scoped>\n",
       "    .dataframe tbody tr th:only-of-type {\n",
       "        vertical-align: middle;\n",
       "    }\n",
       "\n",
       "    .dataframe tbody tr th {\n",
       "        vertical-align: top;\n",
       "    }\n",
       "\n",
       "    .dataframe thead th {\n",
       "        text-align: right;\n",
       "    }\n",
       "</style>\n",
       "<table border=\"1\" class=\"dataframe\">\n",
       "  <thead>\n",
       "    <tr style=\"text-align: right;\">\n",
       "      <th></th>\n",
       "      <th>ID</th>\n",
       "      <th>Sequence</th>\n",
       "      <th>length</th>\n",
       "      <th>class</th>\n",
       "      <th>reps</th>\n",
       "    </tr>\n",
       "  </thead>\n",
       "  <tbody>\n",
       "    <tr>\n",
       "      <th>2080</th>\n",
       "      <td>L01A002211|Sequence 1225 from patent US 6573361</td>\n",
       "      <td>MANTKSAIKRIKTIERNRIRNCAYKSVVKTFIKKYLKVLSDYTNAP...</td>\n",
       "      <td>95</td>\n",
       "      <td>0</td>\n",
       "      <td>[0.006758428644388914, -0.010547993704676628, ...</td>\n",
       "    </tr>\n",
       "    <tr>\n",
       "      <th>2112</th>\n",
       "      <td>ADAM_0164|adam_test</td>\n",
       "      <td>AISYDQVKSSLLPCVGYVRGNNARPAPPNYCKGIRSLKSAARIRLD...</td>\n",
       "      <td>94</td>\n",
       "      <td>0</td>\n",
       "      <td>[0.009842261672019958, -0.09050261229276657, 0...</td>\n",
       "    </tr>\n",
       "    <tr>\n",
       "      <th>2223</th>\n",
       "      <td>ADAM_4403|adam_test</td>\n",
       "      <td>MKYCVVILALLVALVCITESRSTETGYAVAETLEDNDLDELQAYLE...</td>\n",
       "      <td>93</td>\n",
       "      <td>0</td>\n",
       "      <td>[0.005940052680671215, -0.01924821361899376, 0...</td>\n",
       "    </tr>\n",
       "    <tr>\n",
       "      <th>2232</th>\n",
       "      <td>ADAM_6138|adam_test</td>\n",
       "      <td>VGSEVSDKRTCVSLTTQRLPVSRIKTYTITEGSLRAVIFITKRGLK...</td>\n",
       "      <td>93</td>\n",
       "      <td>0</td>\n",
       "      <td>[0.010578776709735394, -0.05168537050485611, 0...</td>\n",
       "    </tr>\n",
       "    <tr>\n",
       "      <th>2315</th>\n",
       "      <td>L01A002317|Sequence 1515 from patent US 6573361</td>\n",
       "      <td>MGRSLKKGPFVAASLLRKIDKLNDKGDKQVVKTWSRASTILPQMVG...</td>\n",
       "      <td>92</td>\n",
       "      <td>0</td>\n",
       "      <td>[0.004393417853862047, -0.061859458684921265, ...</td>\n",
       "    </tr>\n",
       "    <tr>\n",
       "      <th>...</th>\n",
       "      <td>...</td>\n",
       "      <td>...</td>\n",
       "      <td>...</td>\n",
       "      <td>...</td>\n",
       "      <td>...</td>\n",
       "    </tr>\n",
       "    <tr>\n",
       "      <th>41948</th>\n",
       "      <td>UniRef50_A0A2H3S7M8 Uncharacterized protein n=...</td>\n",
       "      <td>MPLAYCSYSYN</td>\n",
       "      <td>11</td>\n",
       "      <td>1</td>\n",
       "      <td>[0.05190926417708397, 0.029500924050807953, -0...</td>\n",
       "    </tr>\n",
       "    <tr>\n",
       "      <th>41950</th>\n",
       "      <td>UniRef50_A0A2H3SG47 Uncharacterized protein n=...</td>\n",
       "      <td>MASQYGWLNSL</td>\n",
       "      <td>11</td>\n",
       "      <td>1</td>\n",
       "      <td>[0.05131299048662186, -0.013223196379840374, -...</td>\n",
       "    </tr>\n",
       "    <tr>\n",
       "      <th>42034</th>\n",
       "      <td>UniRef50_A0A0G4N8C6 Uncharacterized protein (F...</td>\n",
       "      <td>ARECSQGGSRP</td>\n",
       "      <td>11</td>\n",
       "      <td>1</td>\n",
       "      <td>[0.05259896442294121, -0.022827953100204468, -...</td>\n",
       "    </tr>\n",
       "    <tr>\n",
       "      <th>42146</th>\n",
       "      <td>UniRef50_A2NU82 Myeloperoxidase n=1 Tax=Homo s...</td>\n",
       "      <td>MTAAGKGIREQ</td>\n",
       "      <td>11</td>\n",
       "      <td>1</td>\n",
       "      <td>[0.05165543779730797, -0.025750694796442986, -...</td>\n",
       "    </tr>\n",
       "    <tr>\n",
       "      <th>42173</th>\n",
       "      <td>UniRef50_B7QLC4 Gamma-gliadin  putative (Fragm...</td>\n",
       "      <td>LVDVTNDQPFPQPLQPTAPPQTPQSTFIRPHQPPQPNAPFKINVPQ...</td>\n",
       "      <td>99</td>\n",
       "      <td>1</td>\n",
       "      <td>[0.014478703029453754, -0.041617922484874725, ...</td>\n",
       "    </tr>\n",
       "  </tbody>\n",
       "</table>\n",
       "<p>239 rows × 5 columns</p>\n",
       "</div>"
      ],
      "text/plain": [
       "                                                      ID  \\\n",
       "2080     L01A002211|Sequence 1225 from patent US 6573361   \n",
       "2112                                 ADAM_0164|adam_test   \n",
       "2223                                 ADAM_4403|adam_test   \n",
       "2232                                 ADAM_6138|adam_test   \n",
       "2315     L01A002317|Sequence 1515 from patent US 6573361   \n",
       "...                                                  ...   \n",
       "41948  UniRef50_A0A2H3S7M8 Uncharacterized protein n=...   \n",
       "41950  UniRef50_A0A2H3SG47 Uncharacterized protein n=...   \n",
       "42034  UniRef50_A0A0G4N8C6 Uncharacterized protein (F...   \n",
       "42146  UniRef50_A2NU82 Myeloperoxidase n=1 Tax=Homo s...   \n",
       "42173  UniRef50_B7QLC4 Gamma-gliadin  putative (Fragm...   \n",
       "\n",
       "                                                Sequence  length  class  \\\n",
       "2080   MANTKSAIKRIKTIERNRIRNCAYKSVVKTFIKKYLKVLSDYTNAP...      95      0   \n",
       "2112   AISYDQVKSSLLPCVGYVRGNNARPAPPNYCKGIRSLKSAARIRLD...      94      0   \n",
       "2223   MKYCVVILALLVALVCITESRSTETGYAVAETLEDNDLDELQAYLE...      93      0   \n",
       "2232   VGSEVSDKRTCVSLTTQRLPVSRIKTYTITEGSLRAVIFITKRGLK...      93      0   \n",
       "2315   MGRSLKKGPFVAASLLRKIDKLNDKGDKQVVKTWSRASTILPQMVG...      92      0   \n",
       "...                                                  ...     ...    ...   \n",
       "41948                                        MPLAYCSYSYN      11      1   \n",
       "41950                                        MASQYGWLNSL      11      1   \n",
       "42034                                        ARECSQGGSRP      11      1   \n",
       "42146                                        MTAAGKGIREQ      11      1   \n",
       "42173  LVDVTNDQPFPQPLQPTAPPQTPQSTFIRPHQPPQPNAPFKINVPQ...      99      1   \n",
       "\n",
       "                                                    reps  \n",
       "2080   [0.006758428644388914, -0.010547993704676628, ...  \n",
       "2112   [0.009842261672019958, -0.09050261229276657, 0...  \n",
       "2223   [0.005940052680671215, -0.01924821361899376, 0...  \n",
       "2232   [0.010578776709735394, -0.05168537050485611, 0...  \n",
       "2315   [0.004393417853862047, -0.061859458684921265, ...  \n",
       "...                                                  ...  \n",
       "41948  [0.05190926417708397, 0.029500924050807953, -0...  \n",
       "41950  [0.05131299048662186, -0.013223196379840374, -...  \n",
       "42034  [0.05259896442294121, -0.022827953100204468, -...  \n",
       "42146  [0.05165543779730797, -0.025750694796442986, -...  \n",
       "42173  [0.014478703029453754, -0.041617922484874725, ...  \n",
       "\n",
       "[239 rows x 5 columns]"
      ]
     },
     "execution_count": 5,
     "metadata": {},
     "output_type": "execute_result"
    }
   ],
   "source": [
    "# AMPs_df = pd.read_pickle('AMPsNonAMPs_df.plk')\n",
    "AMPs_df = pd.read_pickle('../datasets/AMPsNonAMPs_df.239.plk')\n",
    "AMPs_df.drop_duplicates(subset=['Sequence'],inplace=True)\n",
    "AMPs_df"
   ]
  },
  {
   "cell_type": "markdown",
   "metadata": {
    "id": "g2i7Tk41aDZ5"
   },
   "source": [
    "### Utility function: plot_history, display_model_score"
   ]
  },
  {
   "cell_type": "code",
   "execution_count": 6,
   "metadata": {
    "id": "7F7ykQsDVxHO"
   },
   "outputs": [],
   "source": [
    "def plot_history(history):\n",
    "  # dict_keys(['loss', 'accuracy', 'val_loss', 'val_accuracy'])\n",
    "  acc = history.history['accuracy']\n",
    "  val_acc = history.history['val_accuracy']\n",
    "  loss = history.history['loss']\n",
    "  val_loss = history.history['val_loss']\n",
    "  x = range(1, len(acc) + 1)\n",
    "\n",
    "  plt.figure(figsize=(12, 5))\n",
    "  plt.subplot(1, 2, 1)\n",
    "  plt.plot(x, acc, 'b', label='Training acc')\n",
    "  plt.plot(x, val_acc, 'r', label='Validation acc')\n",
    "  plt.title('Training and validation accuracy')\n",
    "  plt.legend()\n",
    "\n",
    "  plt.subplot(1, 2, 2)\n",
    "  plt.plot(x, loss, 'b', label='Training loss')\n",
    "  plt.plot(x, val_loss, 'r', label='Validation loss')\n",
    "  plt.title('Training and validation loss')\n",
    "  plt.legend()\n",
    "\n",
    "# Display model score(Loss & Accuracy) across all sets.\n",
    "def display_model_score(model, train, val, test):\n",
    "  train_score = model.evaluate(train[0], train[1], verbose=1)\n",
    "  print('Train loss: ', train_score[0])\n",
    "  print('Train accuracy: ', train_score[1])\n",
    "  print('-'*70)\n",
    "  val_score = model.evaluate(val[0], val[1], verbose=1)\n",
    "  print('Val loss: ', val_score[0])\n",
    "  print('Val accuracy: ', val_score[1])\n",
    "  print('-'*70)\n",
    "  test_score = model.evaluate(test[0], test[1], verbose=1)\n",
    "  print('Test loss: ', test_score[0])\n",
    "  print('Test accuracy: ', test_score[1])\n",
    "\n",
    "def plot_history_CV(cv, estimator,x,y):\n",
    "  # plot arrows\n",
    "  fig1 = plt.figure(figsize=[12,12])\n",
    "  ax1 = fig1.add_subplot(111,aspect = 'equal')\n",
    "  ax1.add_patch(\n",
    "      patches.Arrow(0.45,0.5,-0.25,0.25,width=0.3,color='green',alpha = 0.5)\n",
    "      )\n",
    "  ax1.add_patch(\n",
    "      patches.Arrow(0.5,0.45,0.25,-0.25,width=0.3,color='red',alpha = 0.5)\n",
    "      )\n",
    "\n",
    "  tprs = []\n",
    "  aucs = []\n",
    "  mean_fpr = np.linspace(0,1,100)\n",
    "  i = 1\n",
    "  for train,test in cv.split(x,y):\n",
    "      model = create_Modelbaseline()\n",
    "      model.fit(x[train],y.iloc[train],\n",
    "            epochs=30,\n",
    "            shuffle=True,verbose=0)\n",
    "      prediction = model.predict(x[test])\n",
    "      fpr, tpr, t = roc_curve(y[test], prediction[:, 1])\n",
    "      tprs.append(interp(mean_fpr, fpr, tpr))\n",
    "      roc_auc = auc(fpr, tpr)\n",
    "      aucs.append(roc_auc)\n",
    "      plt.plot(fpr, tpr, lw=2, alpha=0.3, label='ROC fold %d (AUC = %0.2f)' % (i, roc_auc))\n",
    "      i= i+1\n",
    "\n",
    "  plt.plot([0,1],[0,1],linestyle = '--',lw = 2,color = 'black')\n",
    "  mean_tpr = np.mean(tprs, axis=0)\n",
    "  mean_auc = auc(mean_fpr, mean_tpr)\n",
    "  plt.plot(mean_fpr, mean_tpr, color='blue',\n",
    "          label=r'Mean ROC (AUC = %0.2f )' % (mean_auc),lw=2, alpha=1)\n",
    "\n",
    "  plt.xlabel('False Positive Rate')\n",
    "  plt.ylabel('True Positive Rate')\n",
    "  plt.title('ROC')\n",
    "  plt.legend(loc=\"lower right\")\n",
    "  plt.text(0.32,0.7,'More accurate area',fontsize = 12)\n",
    "  plt.text(0.63,0.4,'Less accurate area',fontsize = 12)\n",
    "  plt.show()"
   ]
  },
  {
   "cell_type": "markdown",
   "metadata": {
    "id": "nI-_ZAvfIb5A"
   },
   "source": [
    "# Split Train/ Test / Validation set"
   ]
  },
  {
   "cell_type": "code",
   "execution_count": 27,
   "metadata": {
    "id": "lAAQLx4UIptD"
   },
   "outputs": [],
   "source": [
    "X= np.array(AMPs_df['reps'].to_list())\n",
    "y= np.array(AMPs_df['class'].to_list())"
   ]
  },
  {
   "cell_type": "code",
   "execution_count": 28,
   "metadata": {
    "id": "EkmqGqfUT0XR"
   },
   "outputs": [
    {
     "data": {
      "text/plain": [
       "(41951, 1900)"
      ]
     },
     "execution_count": 28,
     "metadata": {},
     "output_type": "execute_result"
    }
   ],
   "source": [
    "input_shape  = X.shape\n",
    "input_shape "
   ]
  },
  {
   "cell_type": "code",
   "execution_count": 29,
   "metadata": {
    "id": "UWQ2IZWgIbST"
   },
   "outputs": [],
   "source": [
    "X_train, X_test, y_train, y_test = train_test_split(X, y, test_size=0.2, random_state=1)\n",
    "X_train, X_val, y_train, y_val = train_test_split(X_train, y_train, test_size=0.25, random_state=1) # 0.25 x 0.8 = 0.2"
   ]
  },
  {
   "cell_type": "code",
   "execution_count": 30,
   "metadata": {
    "colab": {
     "base_uri": "https://localhost:8080/",
     "height": 73
    },
    "id": "IM7Scdevkwpp",
    "outputId": "55fa7ea6-a5f9-4e23-bf42-f1a4bf64f8a3"
   },
   "outputs": [
    {
     "name": "stdout",
     "output_type": "stream",
     "text": [
      "Train size:  25170\n",
      "Val size:  8390\n",
      "Test size:  8391\n"
     ]
    }
   ],
   "source": [
    "# Given data size\n",
    "print('Train size: ', len(X_train))\n",
    "print('Val size: ', len(X_val))\n",
    "print('Test size: ', len(X_test))"
   ]
  },
  {
   "cell_type": "markdown",
   "metadata": {
    "id": "9dHnNnR7IAAs"
   },
   "source": [
    "# Model 4: CNN simple model "
   ]
  },
  {
   "cell_type": "code",
   "execution_count": null,
   "metadata": {},
   "outputs": [],
   "source": [
    "# 3d dimension\n",
    "# Batchs, n_timesteps, n_features\n",
    "\n",
    "# Images 3d dimension\n",
    "# width , heigth , channel"
   ]
  },
  {
   "cell_type": "code",
   "execution_count": 31,
   "metadata": {},
   "outputs": [
    {
     "name": "stdout",
     "output_type": "stream",
     "text": [
      "(25170, 1900, 1)\n",
      "(8391, 1900, 1)\n",
      "(8390, 1900, 1)\n"
     ]
    }
   ],
   "source": [
    "import numpy as np\n",
    "# https://stackoverflow.com/questions/52803989/how-to-correct-shape-of-keras-input-into-a-3d-array/52804200\n",
    "X_train = np.reshape(X_train,(X_train.shape[0],X_train.shape[1],1))\n",
    "print(X_train.shape)\n",
    "X_test = np.reshape(X_test,(X_test.shape[0],X_test.shape[1],1))\n",
    "print(X_test.shape)\n",
    "X_val = np.reshape(X_val,(X_val.shape[0],X_val.shape[1],1))\n",
    "print(X_val.shape)"
   ]
  },
  {
   "cell_type": "code",
   "execution_count": 32,
   "metadata": {},
   "outputs": [
    {
     "data": {
      "text/plain": [
       "array([0.01734208])"
      ]
     },
     "execution_count": 32,
     "metadata": {},
     "output_type": "execute_result"
    }
   ],
   "source": [
    "X_train[0][0]"
   ]
  },
  {
   "cell_type": "code",
   "execution_count": 38,
   "metadata": {},
   "outputs": [
    {
     "name": "stdout",
     "output_type": "stream",
     "text": [
      "Model: \"functional_1\"\n",
      "_________________________________________________________________\n",
      "Layer (type)                 Output Shape              Param #   \n",
      "=================================================================\n",
      "input_1 (InputLayer)         [(None, 1900, 1)]         0         \n",
      "_________________________________________________________________\n",
      "conv1d (Conv1D)              (None, 1900, 1024)        2048      \n",
      "_________________________________________________________________\n",
      "max_pooling1d (MaxPooling1D) (None, 633, 1024)         0         \n",
      "_________________________________________________________________\n",
      "conv1d_1 (Conv1D)            (None, 633, 512)          524800    \n",
      "_________________________________________________________________\n",
      "max_pooling1d_1 (MaxPooling1 (None, 211, 512)          0         \n",
      "_________________________________________________________________\n",
      "conv1d_2 (Conv1D)            (None, 211, 256)          131328    \n",
      "_________________________________________________________________\n",
      "max_pooling1d_2 (MaxPooling1 (None, 70, 256)           0         \n",
      "_________________________________________________________________\n",
      "flatten (Flatten)            (None, 17920)             0         \n",
      "_________________________________________________________________\n",
      "dense (Dense)                (None, 128)               2293888   \n",
      "_________________________________________________________________\n",
      "dropout (Dropout)            (None, 128)               0         \n",
      "_________________________________________________________________\n",
      "dense_1 (Dense)              (None, 64)                8256      \n",
      "_________________________________________________________________\n",
      "dropout_1 (Dropout)          (None, 64)                0         \n",
      "_________________________________________________________________\n",
      "output_layer (Dense)         (None, 1)                 65        \n",
      "=================================================================\n",
      "Total params: 2,960,385\n",
      "Trainable params: 2,960,385\n",
      "Non-trainable params: 0\n",
      "_________________________________________________________________\n"
     ]
    }
   ],
   "source": [
    "# n_timesteps, n_features, n_outputs = X_train.shape[2], X_train.shape[1], 1\n",
    "tf.keras.backend.clear_session()\n",
    "def create_Modelbaseline():\n",
    "    x_input = Input(shape=(1900,1)) # n_timesteps, n_features\n",
    "    # Conv\n",
    "    conv = Conv1D(1024, kernel_size=1, padding='same', activation='relu')(x_input) \n",
    "    conv = MaxPooling1D(pool_size=3)(conv)\n",
    "    conv = Conv1D(512, kernel_size=1, padding='same', activation='relu')(conv) \n",
    "    conv = MaxPooling1D(pool_size=3)(conv)\n",
    "    conv = Conv1D(256, kernel_size=1, padding='same', activation='relu')(conv) \n",
    "    conv = MaxPooling1D(pool_size=3)(conv)\n",
    "    # Flatten NN\n",
    "    flat = Flatten()(conv)\n",
    "    layer_3 = Dense(128)(flat)\n",
    "    dropout_3 = Dropout(0.2)(layer_3)\n",
    "    layer_4 = Dense(64)(dropout_3)\n",
    "    dropout_4 = Dropout(0.2)(layer_4)\n",
    "    x_output = Dense(1, activation='sigmoid', name='output_layer', kernel_regularizer=l2(0.0001))(dropout_4)\n",
    "\n",
    "    model = Model(inputs=x_input, outputs=x_output)\n",
    "    model.compile(optimizer='adam', loss='binary_crossentropy', metrics=['accuracy'])\n",
    "    return model\n",
    "\n",
    "model = create_Modelbaseline()\n",
    "model.summary()"
   ]
  },
  {
   "cell_type": "code",
   "execution_count": 39,
   "metadata": {
    "scrolled": true
   },
   "outputs": [
    {
     "name": "stdout",
     "output_type": "stream",
     "text": [
      "WARNING:tensorflow:`period` argument is deprecated. Please use `save_freq` to specify the frequency in number of batches seen.\n",
      "Epoch 1/100\n",
      "394/394 [==============================] - ETA: 0s - loss: 0.3883 - accuracy: 0.8203\n",
      "Epoch 00001: loss improved from inf to 0.38832, saving model to ourCNN.bestmodel.hdf5\n",
      "394/394 [==============================] - 17s 44ms/step - loss: 0.3883 - accuracy: 0.8203 - val_loss: 0.3469 - val_accuracy: 0.8392\n",
      "Epoch 2/100\n",
      "394/394 [==============================] - ETA: 0s - loss: 0.3360 - accuracy: 0.8517\n",
      "Epoch 00002: loss improved from 0.38832 to 0.33603, saving model to ourCNN.bestmodel.hdf5\n",
      "394/394 [==============================] - 17s 43ms/step - loss: 0.3360 - accuracy: 0.8517 - val_loss: 0.3471 - val_accuracy: 0.8523\n",
      "Epoch 3/100\n",
      "393/394 [============================>.] - ETA: 0s - loss: 0.3129 - accuracy: 0.8631\n",
      "Epoch 00003: loss improved from 0.33603 to 0.31281, saving model to ourCNN.bestmodel.hdf5\n",
      "394/394 [==============================] - 17s 43ms/step - loss: 0.3128 - accuracy: 0.8632 - val_loss: 0.3427 - val_accuracy: 0.8560\n",
      "Epoch 4/100\n",
      "394/394 [==============================] - ETA: 0s - loss: 0.3035 - accuracy: 0.8685\n",
      "Epoch 00004: loss improved from 0.31281 to 0.30354, saving model to ourCNN.bestmodel.hdf5\n",
      "394/394 [==============================] - 17s 43ms/step - loss: 0.3035 - accuracy: 0.8685 - val_loss: 0.3012 - val_accuracy: 0.8698\n",
      "Epoch 5/100\n",
      "393/394 [============================>.] - ETA: 0s - loss: 0.2943 - accuracy: 0.8717\n",
      "Epoch 00005: loss improved from 0.30354 to 0.29446, saving model to ourCNN.bestmodel.hdf5\n",
      "394/394 [==============================] - 17s 43ms/step - loss: 0.2945 - accuracy: 0.8716 - val_loss: 0.2970 - val_accuracy: 0.8677\n",
      "Epoch 6/100\n",
      "393/394 [============================>.] - ETA: 0s - loss: 0.2891 - accuracy: 0.8729\n",
      "Epoch 00006: loss improved from 0.29446 to 0.28899, saving model to ourCNN.bestmodel.hdf5\n",
      "394/394 [==============================] - 17s 43ms/step - loss: 0.2890 - accuracy: 0.8729 - val_loss: 0.3175 - val_accuracy: 0.8570\n",
      "Epoch 7/100\n",
      "393/394 [============================>.] - ETA: 0s - loss: 0.2790 - accuracy: 0.8796\n",
      "Epoch 00007: loss improved from 0.28899 to 0.27910, saving model to ourCNN.bestmodel.hdf5\n",
      "394/394 [==============================] - 17s 43ms/step - loss: 0.2791 - accuracy: 0.8795 - val_loss: 0.2896 - val_accuracy: 0.8728\n",
      "Epoch 8/100\n",
      "393/394 [============================>.] - ETA: 0s - loss: 0.2802 - accuracy: 0.8781\n",
      "Epoch 00008: loss did not improve from 0.27910\n",
      "394/394 [==============================] - 17s 43ms/step - loss: 0.2801 - accuracy: 0.8781 - val_loss: 0.2873 - val_accuracy: 0.8702\n",
      "Epoch 9/100\n",
      "393/394 [============================>.] - ETA: 0s - loss: 0.2736 - accuracy: 0.8826\n",
      "Epoch 00009: loss improved from 0.27910 to 0.27391, saving model to ourCNN.bestmodel.hdf5\n",
      "394/394 [==============================] - 17s 43ms/step - loss: 0.2739 - accuracy: 0.8824 - val_loss: 0.3100 - val_accuracy: 0.8615\n",
      "Epoch 10/100\n",
      "393/394 [============================>.] - ETA: 0s - loss: 0.2692 - accuracy: 0.8837\n",
      "Epoch 00010: loss improved from 0.27391 to 0.26902, saving model to ourCNN.bestmodel.hdf5\n",
      "394/394 [==============================] - 17s 43ms/step - loss: 0.2690 - accuracy: 0.8838 - val_loss: 0.3021 - val_accuracy: 0.8749\n",
      "Epoch 11/100\n",
      "393/394 [============================>.] - ETA: 0s - loss: 0.2653 - accuracy: 0.8850\n",
      "Epoch 00011: loss improved from 0.26902 to 0.26526, saving model to ourCNN.bestmodel.hdf5\n",
      "394/394 [==============================] - 17s 43ms/step - loss: 0.2653 - accuracy: 0.8850 - val_loss: 0.2914 - val_accuracy: 0.8779\n",
      "Epoch 12/100\n",
      "393/394 [============================>.] - ETA: 0s - loss: 0.2632 - accuracy: 0.8870\n",
      "Epoch 00012: loss improved from 0.26526 to 0.26312, saving model to ourCNN.bestmodel.hdf5\n",
      "394/394 [==============================] - 17s 43ms/step - loss: 0.2631 - accuracy: 0.8870 - val_loss: 0.2888 - val_accuracy: 0.8743\n",
      "Epoch 13/100\n",
      "393/394 [============================>.] - ETA: 0s - loss: 0.2623 - accuracy: 0.8859\n",
      "Epoch 00013: loss improved from 0.26312 to 0.26227, saving model to ourCNN.bestmodel.hdf5\n",
      "394/394 [==============================] - 17s 43ms/step - loss: 0.2623 - accuracy: 0.8860 - val_loss: 0.2819 - val_accuracy: 0.8775\n",
      "Epoch 14/100\n",
      "393/394 [============================>.] - ETA: 0s - loss: 0.2550 - accuracy: 0.8898\n",
      "Epoch 00014: loss improved from 0.26227 to 0.25483, saving model to ourCNN.bestmodel.hdf5\n",
      "394/394 [==============================] - 17s 43ms/step - loss: 0.2548 - accuracy: 0.8899 - val_loss: 0.2785 - val_accuracy: 0.8801\n",
      "Epoch 15/100\n",
      "393/394 [============================>.] - ETA: 0s - loss: 0.2534 - accuracy: 0.8924\n",
      "Epoch 00015: loss improved from 0.25483 to 0.25330, saving model to ourCNN.bestmodel.hdf5\n",
      "394/394 [==============================] - 17s 43ms/step - loss: 0.2533 - accuracy: 0.8924 - val_loss: 0.2834 - val_accuracy: 0.8774\n",
      "Epoch 16/100\n",
      "393/394 [============================>.] - ETA: 0s - loss: 0.2524 - accuracy: 0.8923\n",
      "Epoch 00016: loss improved from 0.25330 to 0.25239, saving model to ourCNN.bestmodel.hdf5\n",
      "394/394 [==============================] - 17s 43ms/step - loss: 0.2524 - accuracy: 0.8923 - val_loss: 0.2841 - val_accuracy: 0.8768\n",
      "Epoch 17/100\n",
      "393/394 [============================>.] - ETA: 0s - loss: 0.2476 - accuracy: 0.8951\n",
      "Epoch 00017: loss improved from 0.25239 to 0.24764, saving model to ourCNN.bestmodel.hdf5\n",
      "394/394 [==============================] - 17s 42ms/step - loss: 0.2476 - accuracy: 0.8951 - val_loss: 0.2843 - val_accuracy: 0.8803\n",
      "Epoch 18/100\n",
      "393/394 [============================>.] - ETA: 0s - loss: 0.2476 - accuracy: 0.8940\n",
      "Epoch 00018: loss improved from 0.24764 to 0.24743, saving model to ourCNN.bestmodel.hdf5\n",
      "394/394 [==============================] - 17s 42ms/step - loss: 0.2474 - accuracy: 0.8940 - val_loss: 0.2901 - val_accuracy: 0.8841\n",
      "Epoch 19/100\n",
      "394/394 [==============================] - ETA: 0s - loss: 0.2431 - accuracy: 0.8959\n",
      "Epoch 00019: loss improved from 0.24743 to 0.24312, saving model to ourCNN.bestmodel.hdf5\n",
      "394/394 [==============================] - 17s 43ms/step - loss: 0.2431 - accuracy: 0.8959 - val_loss: 0.2768 - val_accuracy: 0.8849\n",
      "Epoch 20/100\n",
      "393/394 [============================>.] - ETA: 0s - loss: 0.2415 - accuracy: 0.8973\n",
      "Epoch 00020: loss improved from 0.24312 to 0.24142, saving model to ourCNN.bestmodel.hdf5\n",
      "394/394 [==============================] - 17s 42ms/step - loss: 0.2414 - accuracy: 0.8973 - val_loss: 0.2745 - val_accuracy: 0.8868\n",
      "Epoch 21/100\n",
      "394/394 [==============================] - ETA: 0s - loss: 0.2371 - accuracy: 0.8995\n",
      "Epoch 00021: loss improved from 0.24142 to 0.23713, saving model to ourCNN.bestmodel.hdf5\n",
      "394/394 [==============================] - 17s 43ms/step - loss: 0.2371 - accuracy: 0.8995 - val_loss: 0.2809 - val_accuracy: 0.8865\n",
      "Epoch 22/100\n",
      "393/394 [============================>.] - ETA: 0s - loss: 0.2355 - accuracy: 0.9002\n",
      "Epoch 00022: loss improved from 0.23713 to 0.23545, saving model to ourCNN.bestmodel.hdf5\n",
      "394/394 [==============================] - 17s 43ms/step - loss: 0.2355 - accuracy: 0.9003 - val_loss: 0.2767 - val_accuracy: 0.8806\n",
      "Epoch 23/100\n",
      "393/394 [============================>.] - ETA: 0s - loss: 0.2344 - accuracy: 0.9007\n",
      "Epoch 00023: loss improved from 0.23545 to 0.23438, saving model to ourCNN.bestmodel.hdf5\n",
      "394/394 [==============================] - 17s 43ms/step - loss: 0.2344 - accuracy: 0.9007 - val_loss: 0.2878 - val_accuracy: 0.8802\n",
      "Epoch 24/100\n",
      "393/394 [============================>.] - ETA: 0s - loss: 0.2337 - accuracy: 0.9023\n",
      "Epoch 00024: loss improved from 0.23438 to 0.23374, saving model to ourCNN.bestmodel.hdf5\n",
      "394/394 [==============================] - 17s 43ms/step - loss: 0.2337 - accuracy: 0.9022 - val_loss: 0.2808 - val_accuracy: 0.8851\n",
      "Epoch 25/100\n",
      "393/394 [============================>.] - ETA: 0s - loss: 0.2305 - accuracy: 0.9043\n",
      "Epoch 00025: loss improved from 0.23374 to 0.23042, saving model to ourCNN.bestmodel.hdf5\n",
      "394/394 [==============================] - 17s 43ms/step - loss: 0.2304 - accuracy: 0.9044 - val_loss: 0.2714 - val_accuracy: 0.8906\n",
      "Epoch 26/100\n",
      "393/394 [============================>.] - ETA: 0s - loss: 0.2295 - accuracy: 0.9049\n",
      "Epoch 00026: loss improved from 0.23042 to 0.22936, saving model to ourCNN.bestmodel.hdf5\n",
      "394/394 [==============================] - 17s 43ms/step - loss: 0.2294 - accuracy: 0.9049 - val_loss: 0.2875 - val_accuracy: 0.8814\n",
      "Epoch 27/100\n",
      "394/394 [==============================] - ETA: 0s - loss: 0.2263 - accuracy: 0.9056\n",
      "Epoch 00027: loss improved from 0.22936 to 0.22627, saving model to ourCNN.bestmodel.hdf5\n",
      "394/394 [==============================] - 17s 44ms/step - loss: 0.2263 - accuracy: 0.9056 - val_loss: 0.2917 - val_accuracy: 0.8801\n",
      "Epoch 28/100\n",
      "394/394 [==============================] - ETA: 0s - loss: 0.2250 - accuracy: 0.9056\n",
      "Epoch 00028: loss improved from 0.22627 to 0.22502, saving model to ourCNN.bestmodel.hdf5\n",
      "394/394 [==============================] - 17s 43ms/step - loss: 0.2250 - accuracy: 0.9056 - val_loss: 0.3025 - val_accuracy: 0.8777\n",
      "Epoch 29/100\n",
      "394/394 [==============================] - ETA: 0s - loss: 0.2242 - accuracy: 0.9058\n",
      "Epoch 00029: loss improved from 0.22502 to 0.22418, saving model to ourCNN.bestmodel.hdf5\n",
      "394/394 [==============================] - 17s 42ms/step - loss: 0.2242 - accuracy: 0.9058 - val_loss: 0.2751 - val_accuracy: 0.8871\n",
      "Epoch 30/100\n",
      "393/394 [============================>.] - ETA: 0s - loss: 0.2232 - accuracy: 0.9062\n",
      "Epoch 00030: loss improved from 0.22418 to 0.22310, saving model to ourCNN.bestmodel.hdf5\n",
      "394/394 [==============================] - 17s 43ms/step - loss: 0.2231 - accuracy: 0.9063 - val_loss: 0.2779 - val_accuracy: 0.8831\n",
      "Epoch 00030: early stopping\n"
     ]
    }
   ],
   "source": [
    "checkpoint = ModelCheckpoint(\"ourCNN.bestmodel.hdf5\", monitor='loss', verbose=1,\n",
    "    save_best_only=True, mode='auto', period=1)\n",
    "\n",
    "# Early Stopping\n",
    "es = EarlyStopping(monitor='val_loss', patience=5, verbose=1)\n",
    "\n",
    "history = model.fit(X_train, y_train, epochs=100, batch_size=64, validation_data=(X_val, y_val),\n",
    "                     callbacks=[checkpoint,es], verbose=1)"
   ]
  },
  {
   "cell_type": "code",
   "execution_count": 36,
   "metadata": {},
   "outputs": [
    {
     "name": "stdout",
     "output_type": "stream",
     "text": [
      "787/787 [==============================] - 4s 5ms/step - loss: 0.2537 - accuracy: 0.8862\n",
      "Train loss:  0.2537158131599426\n",
      "Train accuracy:  0.8862137198448181\n",
      "----------------------------------------------------------------------\n",
      "263/263 [==============================] - 1s 5ms/step - loss: 0.2825 - accuracy: 0.8722\n",
      "Val loss:  0.2825438976287842\n",
      "Val accuracy:  0.8722288608551025\n",
      "----------------------------------------------------------------------\n",
      "263/263 [==============================] - 1s 5ms/step - loss: 0.2739 - accuracy: 0.8755\n",
      "Test loss:  0.27394112944602966\n",
      "Test accuracy:  0.8754618167877197\n"
     ]
    }
   ],
   "source": [
    "display_model_score(model,\n",
    "    [X_train, y_train],\n",
    "    [X_val, y_val],\n",
    "    [X_test, y_test])"
   ]
  },
  {
   "cell_type": "code",
   "execution_count": 37,
   "metadata": {},
   "outputs": [
    {
     "name": "stdout",
     "output_type": "stream",
     "text": [
      "              precision    recall  f1-score   support\n",
      "\n",
      "           0       0.83      0.95      0.89      4264\n",
      "           1       0.94      0.80      0.86      4127\n",
      "\n",
      "    accuracy                           0.88      8391\n",
      "   macro avg       0.88      0.87      0.87      8391\n",
      "weighted avg       0.88      0.88      0.87      8391\n",
      "\n"
     ]
    }
   ],
   "source": [
    "y_probas = model.predict(X_test)\n",
    "threshold = 0.5\n",
    "y_predict = np.where(y_probas > threshold, 1, 0)\n",
    "\n",
    "print(classification_report(y_test, y_predict))"
   ]
  },
  {
   "cell_type": "markdown",
   "metadata": {},
   "source": [
    "## MEmbedding"
   ]
  },
  {
   "cell_type": "code",
   "execution_count": 28,
   "metadata": {},
   "outputs": [
    {
     "name": "stdout",
     "output_type": "stream",
     "text": [
      "Model: \"functional_7\"\n",
      "_________________________________________________________________\n",
      "Layer (type)                 Output Shape              Param #   \n",
      "=================================================================\n",
      "input_4 (InputLayer)         [(None, 239, 1900)]       0         \n",
      "_________________________________________________________________\n",
      "embedding_3 (Embedding)      (None, 239, 1900, 1900)   45600     \n",
      "_________________________________________________________________\n",
      "flatten_3 (Flatten)          (None, 862790000)         0         \n",
      "=================================================================\n",
      "Total params: 45,600\n",
      "Trainable params: 45,600\n",
      "Non-trainable params: 0\n",
      "_________________________________________________________________\n",
      "None\n"
     ]
    }
   ],
   "source": [
    "\n",
    "word_input=Input(shape=(input_shape),dtype='float64')  \n",
    "\n",
    "# creating the embedding\n",
    "word_embedding=Embedding(input_dim=24,output_dim=1900,input_length=1900)(word_input)\n",
    "\n",
    "word_vec=Flatten()(word_embedding) # flatten\n",
    "embed_model =Model([word_input],word_vec) # combining all into a Keras model\n",
    "embed_model.compile(optimizer=keras.optimizers.Adam(lr=1e-3),loss='binary_crossentropy',metrics=['acc']) \n",
    "# compiling the model. parameters can be tuned as always.\n",
    "print(embed_model.summary()) # summary of the model"
   ]
  },
  {
   "cell_type": "code",
   "execution_count": 29,
   "metadata": {},
   "outputs": [
    {
     "name": "stdout",
     "output_type": "stream",
     "text": [
      "WARNING:tensorflow:Model was constructed with shape (None, 239, 1900) for input Tensor(\"input_4:0\", shape=(None, 239, 1900), dtype=float64), but it was called on an input with incompatible shape (None, 1).\n"
     ]
    }
   ],
   "source": [
    "embeddings=embed_model.predict(X_train[0]) # finally getting the embeddings."
   ]
  },
  {
   "cell_type": "code",
   "execution_count": 30,
   "metadata": {},
   "outputs": [
    {
     "data": {
      "text/plain": [
       "array([ 0.01733692, -0.0335286 ,  0.01197986, ...,  0.05971117,\n",
       "        0.06566247, -0.02294011])"
      ]
     },
     "execution_count": 30,
     "metadata": {},
     "output_type": "execute_result"
    }
   ],
   "source": [
    "X_train[0]"
   ]
  },
  {
   "cell_type": "code",
   "execution_count": 31,
   "metadata": {},
   "outputs": [
    {
     "name": "stdout",
     "output_type": "stream",
     "text": [
      "[[ 0.02140281  0.0160512  -0.01652263 ... -0.01446537 -0.03235978\n",
      "   0.00240989]\n",
      " [ 0.02140281  0.0160512  -0.01652263 ... -0.01446537 -0.03235978\n",
      "   0.00240989]\n",
      " [ 0.02140281  0.0160512  -0.01652263 ... -0.01446537 -0.03235978\n",
      "   0.00240989]\n",
      " ...\n",
      " [ 0.02140281  0.0160512  -0.01652263 ... -0.01446537 -0.03235978\n",
      "   0.00240989]\n",
      " [ 0.02140281  0.0160512  -0.01652263 ... -0.01446537 -0.03235978\n",
      "   0.00240989]\n",
      " [ 0.02140281  0.0160512  -0.01652263 ... -0.01446537 -0.03235978\n",
      "   0.00240989]]\n"
     ]
    }
   ],
   "source": [
    "print(embeddings)"
   ]
  },
  {
   "cell_type": "code",
   "execution_count": 32,
   "metadata": {},
   "outputs": [
    {
     "data": {
      "text/plain": [
       "1900"
      ]
     },
     "execution_count": 32,
     "metadata": {},
     "output_type": "execute_result"
    }
   ],
   "source": [
    "len(embeddings)"
   ]
  },
  {
   "cell_type": "code",
   "execution_count": 33,
   "metadata": {},
   "outputs": [
    {
     "data": {
      "text/plain": [
       "(1900, 1900)"
      ]
     },
     "execution_count": 33,
     "metadata": {},
     "output_type": "execute_result"
    }
   ],
   "source": [
    "embeddings.shape"
   ]
  },
  {
   "cell_type": "code",
   "execution_count": 109,
   "metadata": {},
   "outputs": [
    {
     "name": "stdout",
     "output_type": "stream",
     "text": [
      "(143, 1, 1900)\n",
      "(48, 1, 1900)\n",
      "(48, 1, 1900)\n"
     ]
    }
   ],
   "source": [
    "import numpy as np\n",
    "# https://stackoverflow.com/questions/52803989/how-to-correct-shape-of-keras-input-into-a-3d-array/52804200\n",
    "X_train = np.reshape(X_train,(X_train.shape[0],1,X_train.shape[1]))\n",
    "print(X_train.shape)\n",
    "X_test = np.reshape(X_test,(X_test.shape[0],1,X_test.shape[1]))\n",
    "print(X_test.shape)\n",
    "X_val = np.reshape(X_val,(X_val.shape[0],1,X_val.shape[1]))\n",
    "print(X_val.shape)"
   ]
  },
  {
   "cell_type": "code",
   "execution_count": 116,
   "metadata": {},
   "outputs": [
    {
     "data": {
      "text/plain": [
       "array([[ 0.04603789, -0.07072274, -0.03860193, ..., -0.01830798,\n",
       "         0.05091501,  0.05827223]])"
      ]
     },
     "execution_count": 116,
     "metadata": {},
     "output_type": "execute_result"
    }
   ],
   "source": [
    "X_test[0]"
   ]
  },
  {
   "cell_type": "markdown",
   "metadata": {
    "id": "o1yvj_MHIA6-"
   },
   "source": [
    "# Model 3: ProtCNN\n",
    "https://www.biorxiv.org/content/10.1101/626507v3.full"
   ]
  },
  {
   "cell_type": "code",
   "execution_count": 40,
   "metadata": {
    "id": "uIIiKYP8IRYE"
   },
   "outputs": [],
   "source": [
    "def residual_block(data, filters, d_rate):\n",
    "  \"\"\"\n",
    "  _data: input\n",
    "  _filters: convolution filters\n",
    "  _d_rate: dilation rate\n",
    "  \"\"\"\n",
    "\n",
    "  shortcut = data\n",
    "\n",
    "  bn1 = BatchNormalization()(data)\n",
    "  act1 = Activation('relu')(bn1)\n",
    "  conv1 = Conv1D(filters, 1, dilation_rate=d_rate, padding='same', kernel_regularizer=l2(0.001))(act1)\n",
    "\n",
    "  #bottleneck convolution\n",
    "  bn2 = BatchNormalization()(conv1)\n",
    "  act2 = Activation('relu')(bn2)\n",
    "  conv2 = Conv1D(filters, 3, padding='same', kernel_regularizer=l2(0.001))(act2)\n",
    "\n",
    "  #skip connection\n",
    "  x = Add()([conv2, shortcut])\n",
    "\n",
    "  return x"
   ]
  },
  {
   "cell_type": "code",
   "execution_count": 50,
   "metadata": {
    "id": "iFyHyapJ4EKF"
   },
   "outputs": [
    {
     "name": "stdout",
     "output_type": "stream",
     "text": [
      "Model: \"functional_13\"\n",
      "__________________________________________________________________________________________________\n",
      "Layer (type)                    Output Shape         Param #     Connected to                     \n",
      "==================================================================================================\n",
      "input_9 (InputLayer)            [(None, 1900, 1)]    0                                            \n",
      "__________________________________________________________________________________________________\n",
      "conv1d_32 (Conv1D)              (None, 1900, 256)    512         input_9[0][0]                    \n",
      "__________________________________________________________________________________________________\n",
      "batch_normalization_22 (BatchNo (None, 1900, 256)    1024        conv1d_32[0][0]                  \n",
      "__________________________________________________________________________________________________\n",
      "activation_22 (Activation)      (None, 1900, 256)    0           batch_normalization_22[0][0]     \n",
      "__________________________________________________________________________________________________\n",
      "conv1d_33 (Conv1D)              (None, 1900, 256)    65792       activation_22[0][0]              \n",
      "__________________________________________________________________________________________________\n",
      "batch_normalization_23 (BatchNo (None, 1900, 256)    1024        conv1d_33[0][0]                  \n",
      "__________________________________________________________________________________________________\n",
      "activation_23 (Activation)      (None, 1900, 256)    0           batch_normalization_23[0][0]     \n",
      "__________________________________________________________________________________________________\n",
      "conv1d_34 (Conv1D)              (None, 1900, 256)    196864      activation_23[0][0]              \n",
      "__________________________________________________________________________________________________\n",
      "add_11 (Add)                    (None, 1900, 256)    0           conv1d_34[0][0]                  \n",
      "                                                                 conv1d_32[0][0]                  \n",
      "__________________________________________________________________________________________________\n",
      "batch_normalization_24 (BatchNo (None, 1900, 256)    1024        add_11[0][0]                     \n",
      "__________________________________________________________________________________________________\n",
      "activation_24 (Activation)      (None, 1900, 256)    0           batch_normalization_24[0][0]     \n",
      "__________________________________________________________________________________________________\n",
      "conv1d_35 (Conv1D)              (None, 1900, 256)    65792       activation_24[0][0]              \n",
      "__________________________________________________________________________________________________\n",
      "batch_normalization_25 (BatchNo (None, 1900, 256)    1024        conv1d_35[0][0]                  \n",
      "__________________________________________________________________________________________________\n",
      "activation_25 (Activation)      (None, 1900, 256)    0           batch_normalization_25[0][0]     \n",
      "__________________________________________________________________________________________________\n",
      "conv1d_36 (Conv1D)              (None, 1900, 256)    196864      activation_25[0][0]              \n",
      "__________________________________________________________________________________________________\n",
      "add_12 (Add)                    (None, 1900, 256)    0           conv1d_36[0][0]                  \n",
      "                                                                 add_11[0][0]                     \n",
      "__________________________________________________________________________________________________\n",
      "max_pooling1d_8 (MaxPooling1D)  (None, 633, 256)     0           add_12[0][0]                     \n",
      "__________________________________________________________________________________________________\n",
      "dropout_7 (Dropout)             (None, 633, 256)     0           max_pooling1d_8[0][0]            \n",
      "__________________________________________________________________________________________________\n",
      "flatten_6 (Flatten)             (None, 162048)       0           dropout_7[0][0]                  \n",
      "__________________________________________________________________________________________________\n",
      "dense_12 (Dense)                (None, 128)          20742272    flatten_6[0][0]                  \n",
      "__________________________________________________________________________________________________\n",
      "dense_13 (Dense)                (None, 1)            129         dense_12[0][0]                   \n",
      "==================================================================================================\n",
      "Total params: 21,272,321\n",
      "Trainable params: 21,270,273\n",
      "Non-trainable params: 2,048\n",
      "__________________________________________________________________________________________________\n"
     ]
    }
   ],
   "source": [
    "# model\n",
    "\n",
    "x_input = Input(shape=(1900,1))\n",
    "\n",
    "#initial conv\n",
    "conv = Conv1D(256, 1, padding='same')(x_input) \n",
    "\n",
    "# per-residue representation\n",
    "res1 = residual_block(conv, 256, 2)\n",
    "res2 = residual_block(res1, 256, 3)\n",
    "\n",
    "x = MaxPooling1D(3)(res2)\n",
    "x = Dropout(0.5)(x)\n",
    "\n",
    "# softmax classifier\n",
    "x = Flatten()(x)\n",
    "layer_4 = Dense(128 , activation='relu')(x)\n",
    "x_output = Dense(1, activation='sigmoid', kernel_regularizer=l2(0.0001))(layer_4)\n",
    "\n",
    "model_ProtCNN = Model(inputs=x_input, outputs=x_output)\n",
    "model_ProtCNN.compile(optimizer='adam', loss='binary_crossentropy', metrics=['accuracy'])\n",
    "\n",
    "model_ProtCNN.summary()"
   ]
  },
  {
   "cell_type": "code",
   "execution_count": 52,
   "metadata": {
    "scrolled": true
   },
   "outputs": [
    {
     "name": "stdout",
     "output_type": "stream",
     "text": [
      "WARNING:tensorflow:`period` argument is deprecated. Please use `save_freq` to specify the frequency in number of batches seen.\n",
      "Epoch 1/50\n",
      "394/394 [==============================] - ETA: 0s - loss: 2.0282 - accuracy: 0.8286\n",
      "Epoch 00001: loss improved from inf to 2.02816, saving model to ProtCNN.bestmodel.hdf5\n",
      "394/394 [==============================] - 36s 91ms/step - loss: 2.0282 - accuracy: 0.8286 - val_loss: 3.6051 - val_accuracy: 0.5079\n",
      "Epoch 2/50\n",
      "393/394 [============================>.] - ETA: 0s - loss: 1.1019 - accuracy: 0.8775\n",
      "Epoch 00002: loss improved from 2.02816 to 1.10186, saving model to ProtCNN.bestmodel.hdf5\n",
      "394/394 [==============================] - 35s 90ms/step - loss: 1.1019 - accuracy: 0.8775 - val_loss: 1.0693 - val_accuracy: 0.8503\n",
      "Epoch 3/50\n",
      "393/394 [============================>.] - ETA: 0s - loss: 0.9265 - accuracy: 0.8912\n",
      "Epoch 00003: loss improved from 1.10186 to 0.92654, saving model to ProtCNN.bestmodel.hdf5\n",
      "394/394 [==============================] - 35s 89ms/step - loss: 0.9265 - accuracy: 0.8912 - val_loss: 0.8702 - val_accuracy: 0.8853\n",
      "Epoch 4/50\n",
      "393/394 [============================>.] - ETA: 0s - loss: 0.7790 - accuracy: 0.8923\n",
      "Epoch 00004: loss improved from 0.92654 to 0.77895, saving model to ProtCNN.bestmodel.hdf5\n",
      "394/394 [==============================] - 35s 89ms/step - loss: 0.7789 - accuracy: 0.8923 - val_loss: 0.7348 - val_accuracy: 0.8790\n",
      "Epoch 5/50\n",
      "393/394 [============================>.] - ETA: 0s - loss: 0.6500 - accuracy: 0.8960\n",
      "Epoch 00005: loss improved from 0.77895 to 0.64993, saving model to ProtCNN.bestmodel.hdf5\n",
      "394/394 [==============================] - 35s 89ms/step - loss: 0.6499 - accuracy: 0.8960 - val_loss: 0.6001 - val_accuracy: 0.8931\n",
      "Epoch 6/50\n",
      "393/394 [============================>.] - ETA: 0s - loss: 0.5371 - accuracy: 0.9022\n",
      "Epoch 00006: loss improved from 0.64993 to 0.53708, saving model to ProtCNN.bestmodel.hdf5\n",
      "394/394 [==============================] - 35s 89ms/step - loss: 0.5371 - accuracy: 0.9023 - val_loss: 0.5291 - val_accuracy: 0.8908\n",
      "Epoch 7/50\n",
      "393/394 [============================>.] - ETA: 0s - loss: 0.4538 - accuracy: 0.9057\n",
      "Epoch 00007: loss improved from 0.53708 to 0.45377, saving model to ProtCNN.bestmodel.hdf5\n",
      "394/394 [==============================] - 35s 89ms/step - loss: 0.4538 - accuracy: 0.9057 - val_loss: 0.4482 - val_accuracy: 0.8980\n",
      "Epoch 8/50\n",
      "393/394 [============================>.] - ETA: 0s - loss: 0.3865 - accuracy: 0.9091\n",
      "Epoch 00008: loss improved from 0.45377 to 0.38667, saving model to ProtCNN.bestmodel.hdf5\n",
      "394/394 [==============================] - 35s 89ms/step - loss: 0.3867 - accuracy: 0.9090 - val_loss: 0.3876 - val_accuracy: 0.8985\n",
      "Epoch 9/50\n",
      "393/394 [============================>.] - ETA: 0s - loss: 0.3372 - accuracy: 0.9101\n",
      "Epoch 00009: loss improved from 0.38667 to 0.33711, saving model to ProtCNN.bestmodel.hdf5\n",
      "394/394 [==============================] - 35s 90ms/step - loss: 0.3371 - accuracy: 0.9101 - val_loss: 0.3450 - val_accuracy: 0.9033\n",
      "Epoch 10/50\n",
      "393/394 [============================>.] - ETA: 0s - loss: 0.3044 - accuracy: 0.9083\n",
      "Epoch 00010: loss improved from 0.33711 to 0.30430, saving model to ProtCNN.bestmodel.hdf5\n",
      "394/394 [==============================] - 35s 90ms/step - loss: 0.3043 - accuracy: 0.9083 - val_loss: 0.3533 - val_accuracy: 0.8921\n",
      "Epoch 11/50\n",
      "393/394 [============================>.] - ETA: 0s - loss: 0.2799 - accuracy: 0.9110\n",
      "Epoch 00011: loss improved from 0.30430 to 0.27987, saving model to ProtCNN.bestmodel.hdf5\n",
      "394/394 [==============================] - 36s 90ms/step - loss: 0.2799 - accuracy: 0.9110 - val_loss: 0.3078 - val_accuracy: 0.8985\n",
      "Epoch 12/50\n",
      "393/394 [============================>.] - ETA: 0s - loss: 0.2642 - accuracy: 0.9116\n",
      "Epoch 00012: loss improved from 0.27987 to 0.26410, saving model to ProtCNN.bestmodel.hdf5\n",
      "394/394 [==============================] - 35s 89ms/step - loss: 0.2641 - accuracy: 0.9116 - val_loss: 0.3014 - val_accuracy: 0.8962\n",
      "Epoch 13/50\n",
      "393/394 [============================>.] - ETA: 0s - loss: 0.2516 - accuracy: 0.9156\n",
      "Epoch 00013: loss improved from 0.26410 to 0.25168, saving model to ProtCNN.bestmodel.hdf5\n",
      "394/394 [==============================] - 35s 89ms/step - loss: 0.2517 - accuracy: 0.9157 - val_loss: 0.3024 - val_accuracy: 0.8949\n",
      "Epoch 14/50\n",
      "393/394 [============================>.] - ETA: 0s - loss: 0.2583 - accuracy: 0.9090\n",
      "Epoch 00014: loss did not improve from 0.25168\n",
      "394/394 [==============================] - 34s 86ms/step - loss: 0.2582 - accuracy: 0.9091 - val_loss: 0.3194 - val_accuracy: 0.8920\n",
      "Epoch 15/50\n",
      "393/394 [============================>.] - ETA: 0s - loss: 0.2493 - accuracy: 0.9132\n",
      "Epoch 00015: loss improved from 0.25168 to 0.24949, saving model to ProtCNN.bestmodel.hdf5\n",
      "394/394 [==============================] - 35s 89ms/step - loss: 0.2495 - accuracy: 0.9131 - val_loss: 0.3080 - val_accuracy: 0.8981\n",
      "Epoch 16/50\n",
      "393/394 [============================>.] - ETA: 0s - loss: 0.2528 - accuracy: 0.9119\n",
      "Epoch 00016: loss did not improve from 0.24949\n",
      "394/394 [==============================] - 34s 87ms/step - loss: 0.2528 - accuracy: 0.9119 - val_loss: 0.2843 - val_accuracy: 0.9029\n",
      "Epoch 17/50\n",
      "393/394 [============================>.] - ETA: 0s - loss: 0.2511 - accuracy: 0.9132\n",
      "Epoch 00017: loss did not improve from 0.24949\n",
      "394/394 [==============================] - 34s 87ms/step - loss: 0.2511 - accuracy: 0.9132 - val_loss: 0.2962 - val_accuracy: 0.9024\n",
      "Epoch 18/50\n",
      "393/394 [============================>.] - ETA: 0s - loss: 0.2526 - accuracy: 0.9136\n",
      "Epoch 00018: loss did not improve from 0.24949\n",
      "394/394 [==============================] - 34s 86ms/step - loss: 0.2526 - accuracy: 0.9136 - val_loss: 0.3065 - val_accuracy: 0.8924\n",
      "Epoch 19/50\n",
      "393/394 [============================>.] - ETA: 0s - loss: 0.2524 - accuracy: 0.9126\n",
      "Epoch 00019: loss did not improve from 0.24949\n",
      "394/394 [==============================] - 34s 87ms/step - loss: 0.2527 - accuracy: 0.9126 - val_loss: 0.3035 - val_accuracy: 0.8996\n",
      "Epoch 20/50\n",
      "393/394 [============================>.] - ETA: 0s - loss: 0.2546 - accuracy: 0.9129\n",
      "Epoch 00020: loss did not improve from 0.24949\n",
      "394/394 [==============================] - 34s 87ms/step - loss: 0.2546 - accuracy: 0.9129 - val_loss: 0.3146 - val_accuracy: 0.8901\n",
      "Epoch 21/50\n",
      "393/394 [============================>.] - ETA: 0s - loss: 0.2856 - accuracy: 0.9096\n",
      "Epoch 00021: loss did not improve from 0.24949\n",
      "394/394 [==============================] - 34s 87ms/step - loss: 0.2857 - accuracy: 0.9095 - val_loss: 0.3172 - val_accuracy: 0.8990\n",
      "Epoch 00021: early stopping\n"
     ]
    }
   ],
   "source": [
    "# Early Stopping\n",
    "es = EarlyStopping(monitor='val_loss', patience=5, verbose=1)\n",
    "checkpoint = ModelCheckpoint(\"ProtCNN.bestmodel.hdf5\", monitor='loss', verbose=1,\n",
    "    save_best_only=True, mode='auto', period=1)\n",
    "history2 = model_ProtCNN.fit(\n",
    "    X_train, y_train,\n",
    "    epochs=100, batch_size=64,\n",
    "    validation_data=(X_val, y_val),\n",
    "    callbacks=[es,checkpoint]\n",
    "    )\n"
   ]
  },
  {
   "cell_type": "code",
   "execution_count": 53,
   "metadata": {
    "id": "kZO0R1iHSm4T"
   },
   "outputs": [
    {
     "name": "stdout",
     "output_type": "stream",
     "text": [
      "              precision    recall  f1-score   support\n",
      "\n",
      "           0       0.94      0.86      0.90      4264\n",
      "           1       0.87      0.94      0.91      4127\n",
      "\n",
      "    accuracy                           0.90      8391\n",
      "   macro avg       0.91      0.90      0.90      8391\n",
      "weighted avg       0.91      0.90      0.90      8391\n",
      "\n"
     ]
    }
   ],
   "source": [
    "y_probas = model_ProtCNN.predict(X_test)\n",
    "threshold = 0.5\n",
    "y_predict = np.where(y_probas > threshold, 1, 0)\n",
    "print(classification_report(y_test, y_predict))"
   ]
  },
  {
   "cell_type": "code",
   "execution_count": 54,
   "metadata": {
    "id": "pMIGguFR4EHD"
   },
   "outputs": [
    {
     "data": {
      "image/png": "[encoded data removed]",
      "text/plain": [
       "<Figure size 864x360 with 2 Axes>"
      ]
     },
     "metadata": {
      "needs_background": "light"
     },
     "output_type": "display_data"
    }
   ],
   "source": [
    "plot_history(history2)"
   ]
  },
  {
   "cell_type": "code",
   "execution_count": 55,
   "metadata": {
    "id": "_3iiV1sM4D6d"
   },
   "outputs": [
    {
     "name": "stdout",
     "output_type": "stream",
     "text": [
      "787/787 [==============================] - 11s 14ms/step - loss: 0.2503 - accuracy: 0.9197\n",
      "Train loss:  0.25034141540527344\n",
      "Train accuracy:  0.9197457432746887\n",
      "----------------------------------------------------------------------\n",
      "263/263 [==============================] - 4s 14ms/step - loss: 0.3172 - accuracy: 0.8990\n",
      "Val loss:  0.31718045473098755\n",
      "Val accuracy:  0.8990464806556702\n",
      "----------------------------------------------------------------------\n",
      "263/263 [==============================] - 4s 14ms/step - loss: 0.3027 - accuracy: 0.9032\n",
      "Test loss:  0.3027271330356598\n",
      "Test accuracy:  0.9032296538352966\n"
     ]
    }
   ],
   "source": [
    "display_model_score(model_ProtCNN,\n",
    "    [X_train, y_train],\n",
    "    [X_val, y_val],\n",
    "    [X_test, y_test])"
   ]
  },
  {
   "cell_type": "markdown",
   "metadata": {
    "id": "fALQEI9g4Ejn"
   },
   "source": [
    "# Conclusion"
   ]
  },
  {
   "cell_type": "code",
   "execution_count": null,
   "metadata": {
    "id": "Gh0Zvl9j4E38"
   },
   "outputs": [],
   "source": []
  }
 ],
 "metadata": {
  "accelerator": "GPU",
  "colab": {
   "collapsed_sections": [],
   "name": "CustomDNNModel.ipynb",
   "provenance": [],
   "toc_visible": true
  },
  "kernelspec": {
   "display_name": "Python 3",
   "language": "python",
   "name": "python3"
  },
  "language_info": {
   "codemirror_mode": {
    "name": "ipython",
    "version": 3
   },
   "file_extension": ".py",
   "mimetype": "text/x-python",
   "name": "python",
   "nbconvert_exporter": "python",
   "pygments_lexer": "ipython3",
   "version": "3.7.9"
  }
 },
 "nbformat": 4,
 "nbformat_minor": 4
}
