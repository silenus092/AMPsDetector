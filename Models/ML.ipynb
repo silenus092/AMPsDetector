{
 "cells": [
  {
   "cell_type": "code",
   "execution_count": 33,
   "metadata": {},
   "outputs": [],
   "source": [
    "\n",
    "import numpy as np\n",
    "import pandas as pd\n",
    "import matplotlib.pyplot as plt\n",
    "\n",
    "from sklearn.ensemble import GradientBoostingClassifier\n",
    "from sklearn.model_selection import train_test_split\n",
    "from sklearn.model_selection import cross_val_score\n",
    "from sklearn.model_selection import StratifiedKFold\n",
    "from sklearn.metrics import roc_curve,auc\n",
    "from sklearn.metrics import plot_confusion_matrix\n",
    "from sklearn.metrics import classification_report, confusion_matrix, accuracy_score"
   ]
  },
  {
   "cell_type": "code",
   "execution_count": 15,
   "metadata": {},
   "outputs": [
    {
     "data": {
      "text/html": [
       "<div>\n",
       "<style scoped>\n",
       "    .dataframe tbody tr th:only-of-type {\n",
       "        vertical-align: middle;\n",
       "    }\n",
       "\n",
       "    .dataframe tbody tr th {\n",
       "        vertical-align: top;\n",
       "    }\n",
       "\n",
       "    .dataframe thead th {\n",
       "        text-align: right;\n",
       "    }\n",
       "</style>\n",
       "<table border=\"1\" class=\"dataframe\">\n",
       "  <thead>\n",
       "    <tr style=\"text-align: right;\">\n",
       "      <th></th>\n",
       "      <th>ID</th>\n",
       "      <th>Sequence</th>\n",
       "      <th>length</th>\n",
       "      <th>class</th>\n",
       "      <th>reps</th>\n",
       "    </tr>\n",
       "  </thead>\n",
       "  <tbody>\n",
       "    <tr>\n",
       "      <th>2080</th>\n",
       "      <td>L01A002211|Sequence 1225 from patent US 6573361</td>\n",
       "      <td>MANTKSAIKRIKTIERNRIRNCAYKSVVKTFIKKYLKVLSDYTNAP...</td>\n",
       "      <td>95</td>\n",
       "      <td>0</td>\n",
       "      <td>[0.006758428644388914, -0.010547993704676628, ...</td>\n",
       "    </tr>\n",
       "    <tr>\n",
       "      <th>2112</th>\n",
       "      <td>ADAM_0164|adam_test</td>\n",
       "      <td>AISYDQVKSSLLPCVGYVRGNNARPAPPNYCKGIRSLKSAARIRLD...</td>\n",
       "      <td>94</td>\n",
       "      <td>0</td>\n",
       "      <td>[0.009842261672019958, -0.09050261229276657, 0...</td>\n",
       "    </tr>\n",
       "    <tr>\n",
       "      <th>2223</th>\n",
       "      <td>ADAM_4403|adam_test</td>\n",
       "      <td>MKYCVVILALLVALVCITESRSTETGYAVAETLEDNDLDELQAYLE...</td>\n",
       "      <td>93</td>\n",
       "      <td>0</td>\n",
       "      <td>[0.005940052680671215, -0.01924821361899376, 0...</td>\n",
       "    </tr>\n",
       "    <tr>\n",
       "      <th>2232</th>\n",
       "      <td>ADAM_6138|adam_test</td>\n",
       "      <td>VGSEVSDKRTCVSLTTQRLPVSRIKTYTITEGSLRAVIFITKRGLK...</td>\n",
       "      <td>93</td>\n",
       "      <td>0</td>\n",
       "      <td>[0.010578776709735394, -0.05168537050485611, 0...</td>\n",
       "    </tr>\n",
       "    <tr>\n",
       "      <th>2315</th>\n",
       "      <td>L01A002317|Sequence 1515 from patent US 6573361</td>\n",
       "      <td>MGRSLKKGPFVAASLLRKIDKLNDKGDKQVVKTWSRASTILPQMVG...</td>\n",
       "      <td>92</td>\n",
       "      <td>0</td>\n",
       "      <td>[0.004393417853862047, -0.061859458684921265, ...</td>\n",
       "    </tr>\n",
       "    <tr>\n",
       "      <th>...</th>\n",
       "      <td>...</td>\n",
       "      <td>...</td>\n",
       "      <td>...</td>\n",
       "      <td>...</td>\n",
       "      <td>...</td>\n",
       "    </tr>\n",
       "    <tr>\n",
       "      <th>41948</th>\n",
       "      <td>UniRef50_A0A2H3S7M8 Uncharacterized protein n=...</td>\n",
       "      <td>MPLAYCSYSYN</td>\n",
       "      <td>11</td>\n",
       "      <td>1</td>\n",
       "      <td>[0.05190926417708397, 0.029500924050807953, -0...</td>\n",
       "    </tr>\n",
       "    <tr>\n",
       "      <th>41950</th>\n",
       "      <td>UniRef50_A0A2H3SG47 Uncharacterized protein n=...</td>\n",
       "      <td>MASQYGWLNSL</td>\n",
       "      <td>11</td>\n",
       "      <td>1</td>\n",
       "      <td>[0.05131299048662186, -0.013223196379840374, -...</td>\n",
       "    </tr>\n",
       "    <tr>\n",
       "      <th>42034</th>\n",
       "      <td>UniRef50_A0A0G4N8C6 Uncharacterized protein (F...</td>\n",
       "      <td>ARECSQGGSRP</td>\n",
       "      <td>11</td>\n",
       "      <td>1</td>\n",
       "      <td>[0.05259896442294121, -0.022827953100204468, -...</td>\n",
       "    </tr>\n",
       "    <tr>\n",
       "      <th>42146</th>\n",
       "      <td>UniRef50_A2NU82 Myeloperoxidase n=1 Tax=Homo s...</td>\n",
       "      <td>MTAAGKGIREQ</td>\n",
       "      <td>11</td>\n",
       "      <td>1</td>\n",
       "      <td>[0.05165543779730797, -0.025750694796442986, -...</td>\n",
       "    </tr>\n",
       "    <tr>\n",
       "      <th>42173</th>\n",
       "      <td>UniRef50_B7QLC4 Gamma-gliadin  putative (Fragm...</td>\n",
       "      <td>LVDVTNDQPFPQPLQPTAPPQTPQSTFIRPHQPPQPNAPFKINVPQ...</td>\n",
       "      <td>99</td>\n",
       "      <td>1</td>\n",
       "      <td>[0.014478703029453754, -0.041617922484874725, ...</td>\n",
       "    </tr>\n",
       "  </tbody>\n",
       "</table>\n",
       "<p>239 rows × 5 columns</p>\n",
       "</div>"
      ],
      "text/plain": [
       "                                                      ID  \\\n",
       "2080     L01A002211|Sequence 1225 from patent US 6573361   \n",
       "2112                                 ADAM_0164|adam_test   \n",
       "2223                                 ADAM_4403|adam_test   \n",
       "2232                                 ADAM_6138|adam_test   \n",
       "2315     L01A002317|Sequence 1515 from patent US 6573361   \n",
       "...                                                  ...   \n",
       "41948  UniRef50_A0A2H3S7M8 Uncharacterized protein n=...   \n",
       "41950  UniRef50_A0A2H3SG47 Uncharacterized protein n=...   \n",
       "42034  UniRef50_A0A0G4N8C6 Uncharacterized protein (F...   \n",
       "42146  UniRef50_A2NU82 Myeloperoxidase n=1 Tax=Homo s...   \n",
       "42173  UniRef50_B7QLC4 Gamma-gliadin  putative (Fragm...   \n",
       "\n",
       "                                                Sequence  length  class  \\\n",
       "2080   MANTKSAIKRIKTIERNRIRNCAYKSVVKTFIKKYLKVLSDYTNAP...      95      0   \n",
       "2112   AISYDQVKSSLLPCVGYVRGNNARPAPPNYCKGIRSLKSAARIRLD...      94      0   \n",
       "2223   MKYCVVILALLVALVCITESRSTETGYAVAETLEDNDLDELQAYLE...      93      0   \n",
       "2232   VGSEVSDKRTCVSLTTQRLPVSRIKTYTITEGSLRAVIFITKRGLK...      93      0   \n",
       "2315   MGRSLKKGPFVAASLLRKIDKLNDKGDKQVVKTWSRASTILPQMVG...      92      0   \n",
       "...                                                  ...     ...    ...   \n",
       "41948                                        MPLAYCSYSYN      11      1   \n",
       "41950                                        MASQYGWLNSL      11      1   \n",
       "42034                                        ARECSQGGSRP      11      1   \n",
       "42146                                        MTAAGKGIREQ      11      1   \n",
       "42173  LVDVTNDQPFPQPLQPTAPPQTPQSTFIRPHQPPQPNAPFKINVPQ...      99      1   \n",
       "\n",
       "                                                    reps  \n",
       "2080   [0.006758428644388914, -0.010547993704676628, ...  \n",
       "2112   [0.009842261672019958, -0.09050261229276657, 0...  \n",
       "2223   [0.005940052680671215, -0.01924821361899376, 0...  \n",
       "2232   [0.010578776709735394, -0.05168537050485611, 0...  \n",
       "2315   [0.004393417853862047, -0.061859458684921265, ...  \n",
       "...                                                  ...  \n",
       "41948  [0.05190926417708397, 0.029500924050807953, -0...  \n",
       "41950  [0.05131299048662186, -0.013223196379840374, -...  \n",
       "42034  [0.05259896442294121, -0.022827953100204468, -...  \n",
       "42146  [0.05165543779730797, -0.025750694796442986, -...  \n",
       "42173  [0.014478703029453754, -0.041617922484874725, ...  \n",
       "\n",
       "[239 rows x 5 columns]"
      ]
     },
     "execution_count": 15,
     "metadata": {},
     "output_type": "execute_result"
    }
   ],
   "source": [
    "\n",
    "AMPs_df = pd.read_pickle('../../datasets/AMPsNonAMPs_df.239.plk')\n",
    "AMPs_df"
   ]
  },
  {
   "cell_type": "code",
   "execution_count": 16,
   "metadata": {},
   "outputs": [],
   "source": [
    "X= AMPs_df['reps'].to_list()\n",
    "y= AMPs_df['class'].to_list() \n",
    "X_train, X_test, y_train, y_test = train_test_split(X, y, test_size=0.2, random_state=1)"
   ]
  },
  {
   "cell_type": "code",
   "execution_count": null,
   "metadata": {},
   "outputs": [],
   "source": []
  },
  {
   "cell_type": "code",
   "execution_count": 17,
   "metadata": {},
   "outputs": [],
   "source": [
    "def confusion_Matrix(classifier, X_test, y_test):\n",
    "    class_names = ['AMPs', 'NonAMPs']\n",
    "\n",
    "    disp = plot_confusion_matrix(classifier, X_test, y_test,\n",
    "                                display_labels = class_names,\n",
    "                                cmap=plt.cm.Blues, xticks_rotation='vertical')\n",
    "\n",
    "    disp.ax_.set_title(\" Confusion Matrix\")\n",
    "\n",
    "    print(disp.confusion_matrix)\n",
    "    plt.grid(False)\n",
    "    plt.show()"
   ]
  },
  {
   "cell_type": "markdown",
   "metadata": {},
   "source": [
    "# Clustering"
   ]
  },
  {
   "cell_type": "code",
   "execution_count": null,
   "metadata": {},
   "outputs": [],
   "source": []
  },
  {
   "cell_type": "code",
   "execution_count": null,
   "metadata": {},
   "outputs": [],
   "source": []
  },
  {
   "cell_type": "code",
   "execution_count": null,
   "metadata": {},
   "outputs": [],
   "source": []
  },
  {
   "cell_type": "markdown",
   "metadata": {},
   "source": [
    "# RF"
   ]
  },
  {
   "cell_type": "code",
   "execution_count": null,
   "metadata": {},
   "outputs": [],
   "source": []
  },
  {
   "cell_type": "code",
   "execution_count": null,
   "metadata": {},
   "outputs": [],
   "source": []
  },
  {
   "cell_type": "markdown",
   "metadata": {},
   "source": [
    "# SVM"
   ]
  },
  {
   "cell_type": "code",
   "execution_count": null,
   "metadata": {},
   "outputs": [],
   "source": []
  },
  {
   "cell_type": "code",
   "execution_count": null,
   "metadata": {},
   "outputs": [],
   "source": []
  },
  {
   "cell_type": "markdown",
   "metadata": {},
   "source": [
    "# Gradient Boosting Classifier"
   ]
  },
  {
   "cell_type": "code",
   "execution_count": 58,
   "metadata": {},
   "outputs": [],
   "source": [
    "n_estimators=200\n",
    "original_params = {'n_estimators': 200, 'max_leaf_nodes': 4, 'max_depth': 3, 'random_state': 2,\n",
    "                   'min_samples_split': 5}"
   ]
  },
  {
   "cell_type": "code",
   "execution_count": 37,
   "metadata": {},
   "outputs": [
    {
     "data": {
      "text/plain": [
       "GradientBoostingClassifier()"
      ]
     },
     "execution_count": 37,
     "metadata": {},
     "output_type": "execute_result"
    }
   ],
   "source": [
    "model = GradientBoostingClassifier(n_estimators= 200, max_leaf_nodes= 4, max_depth= 3)\n",
    "model.fit(X_train, y_train)\n",
    "# make a single prediction"
   ]
  },
  {
   "cell_type": "code",
   "execution_count": 47,
   "metadata": {},
   "outputs": [
    {
     "data": {
      "text/plain": [
       "array([1, 0, 0, 0, 1, 1, 0, 1, 1, 0, 1, 1, 1, 0, 1, 0, 0, 0, 1, 1, 1, 1,\n",
       "       1, 0, 1, 1, 0, 1, 0, 0, 0, 1, 0, 0, 0, 0, 0, 0, 1, 1, 0, 1, 0, 0,\n",
       "       0, 0, 0, 0])"
      ]
     },
     "execution_count": 47,
     "metadata": {},
     "output_type": "execute_result"
    }
   ],
   "source": [
    "# get predition \n",
    "pred = model.predict(X_test)\n",
    "pred"
   ]
  },
  {
   "cell_type": "code",
   "execution_count": 42,
   "metadata": {},
   "outputs": [
    {
     "name": "stdout",
     "output_type": "stream",
     "text": [
      "              precision    recall  f1-score   support\n",
      "\n",
      "           0       0.78      0.78      0.78        27\n",
      "           1       0.71      0.71      0.71        21\n",
      "\n",
      "    accuracy                           0.75        48\n",
      "   macro avg       0.75      0.75      0.75        48\n",
      "weighted avg       0.75      0.75      0.75        48\n",
      "\n",
      "Accuracy:0.75\n",
      "[[21  6]\n",
      " [ 6 15]]\n"
     ]
    },
    {
     "data": {
      "image/png": "[encoded data removed]",
      "text/plain": [
       "<Figure size 432x288 with 2 Axes>"
      ]
     },
     "metadata": {
      "needs_background": "light"
     },
     "output_type": "display_data"
    }
   ],
   "source": [
    "\n",
    "print(classification_report(y_test,pred))\n",
    "print(\"Accuracy:\"+str(accuracy_score(y_test, pred)))\n",
    "confusion_Matrix(model, X_test, y_test)"
   ]
  },
  {
   "cell_type": "code",
   "execution_count": 66,
   "metadata": {},
   "outputs": [
    {
     "data": {
      "text/plain": [
       "array([1.220428  , 1.08790822, 0.97140009, 0.87021867, 0.78768887,\n",
       "       0.71094151, 0.64362654, 0.58466363, 0.54438021, 0.49640413,\n",
       "       0.46418497, 0.42528316, 0.39916624, 0.36503429, 0.33975462,\n",
       "       0.31388511, 0.29628066, 0.27652472, 0.25350757, 0.23467956,\n",
       "       0.2188514 , 0.20538464, 0.19066506, 0.17843663, 0.16816469,\n",
       "       0.15633453, 0.14627208, 0.1378256 , 0.12768328, 0.11882675,\n",
       "       0.11112514, 0.10251223, 0.09689684, 0.08994751, 0.08548211,\n",
       "       0.07912823, 0.07503679, 0.07145196, 0.06639637, 0.06322751,\n",
       "       0.05946843, 0.05607885, 0.05384032, 0.05064273, 0.04731789,\n",
       "       0.04405568, 0.0416812 , 0.03984703, 0.03688819, 0.03562037,\n",
       "       0.03364137, 0.03175756, 0.03023644, 0.02816464, 0.02728195,\n",
       "       0.02612642, 0.02481803, 0.02308024, 0.02196666, 0.02073802,\n",
       "       0.01963881, 0.01834362, 0.01769575, 0.01695188, 0.01602829,\n",
       "       0.0150341 , 0.01424446, 0.01317691, 0.01251841, 0.01189766,\n",
       "       0.01114593, 0.01052235, 0.01013886, 0.00959687, 0.00904048,\n",
       "       0.00847982, 0.00798077, 0.00756873, 0.00713177, 0.0067741 ,\n",
       "       0.0064585 , 0.00615387, 0.00590628, 0.00557118, 0.00532296,\n",
       "       0.00506942, 0.00469269, 0.00437748, 0.00417488, 0.003886  ,\n",
       "       0.00366666, 0.00349292, 0.00328664, 0.00313575, 0.0029633 ,\n",
       "       0.00280834, 0.00263618, 0.00247198, 0.00233429, 0.00222642])"
      ]
     },
     "execution_count": 66,
     "metadata": {},
     "output_type": "execute_result"
    }
   ],
   "source": [
    "model.train_score_"
   ]
  },
  {
   "cell_type": "code",
   "execution_count": 71,
   "metadata": {},
   "outputs": [
    {
     "ename": "ValueError",
     "evalue": "x and y must have same first dimension, but have shapes (200,) and (100,)",
     "output_type": "error",
     "traceback": [
      "\u001b[0;31m---------------------------------------------------------------------------\u001b[0m",
      "\u001b[0;31mValueError\u001b[0m                                Traceback (most recent call last)",
      "\u001b[0;32m<ipython-input-71-9aef6d293bf8>\u001b[0m in \u001b[0;36m<module>\u001b[0;34m\u001b[0m\n\u001b[1;32m      5\u001b[0m     \u001b[0mtest_score\u001b[0m\u001b[0;34m[\u001b[0m\u001b[0mi\u001b[0m\u001b[0;34m]\u001b[0m \u001b[0;34m=\u001b[0m \u001b[0mmodel\u001b[0m\u001b[0;34m.\u001b[0m\u001b[0mloss_\u001b[0m\u001b[0;34m(\u001b[0m\u001b[0my_test\u001b[0m\u001b[0;34m,\u001b[0m \u001b[0mpred\u001b[0m\u001b[0;34m)\u001b[0m\u001b[0;34m\u001b[0m\u001b[0;34m\u001b[0m\u001b[0m\n\u001b[1;32m      6\u001b[0m \u001b[0;34m\u001b[0m\u001b[0m\n\u001b[0;32m----> 7\u001b[0;31m \u001b[0mplt\u001b[0m\u001b[0;34m.\u001b[0m\u001b[0mplot\u001b[0m\u001b[0;34m(\u001b[0m\u001b[0mnp\u001b[0m\u001b[0;34m.\u001b[0m\u001b[0marange\u001b[0m\u001b[0;34m(\u001b[0m\u001b[0mn_estimators\u001b[0m\u001b[0;34m)\u001b[0m \u001b[0;34m+\u001b[0m \u001b[0;36m1\u001b[0m\u001b[0;34m,\u001b[0m \u001b[0mtest_score\u001b[0m\u001b[0;34m,\u001b[0m \u001b[0mlabel\u001b[0m\u001b[0;34m=\u001b[0m\u001b[0;34m'Test'\u001b[0m\u001b[0;34m)\u001b[0m\u001b[0;34m\u001b[0m\u001b[0;34m\u001b[0m\u001b[0m\n\u001b[0m\u001b[1;32m      8\u001b[0m \u001b[0;31m#plt.plot(np.arange(n_estimators) + 1, model.train_score_, label='Train')\u001b[0m\u001b[0;34m\u001b[0m\u001b[0;34m\u001b[0m\u001b[0;34m\u001b[0m\u001b[0m\n",
      "\u001b[0;32m~/.conda/envs/jupyter_NB/lib/python3.8/site-packages/matplotlib/pyplot.py\u001b[0m in \u001b[0;36mplot\u001b[0;34m(scalex, scaley, data, *args, **kwargs)\u001b[0m\n\u001b[1;32m   2838\u001b[0m \u001b[0;34m@\u001b[0m\u001b[0m_copy_docstring_and_deprecators\u001b[0m\u001b[0;34m(\u001b[0m\u001b[0mAxes\u001b[0m\u001b[0;34m.\u001b[0m\u001b[0mplot\u001b[0m\u001b[0;34m)\u001b[0m\u001b[0;34m\u001b[0m\u001b[0;34m\u001b[0m\u001b[0m\n\u001b[1;32m   2839\u001b[0m \u001b[0;32mdef\u001b[0m \u001b[0mplot\u001b[0m\u001b[0;34m(\u001b[0m\u001b[0;34m*\u001b[0m\u001b[0margs\u001b[0m\u001b[0;34m,\u001b[0m \u001b[0mscalex\u001b[0m\u001b[0;34m=\u001b[0m\u001b[0;32mTrue\u001b[0m\u001b[0;34m,\u001b[0m \u001b[0mscaley\u001b[0m\u001b[0;34m=\u001b[0m\u001b[0;32mTrue\u001b[0m\u001b[0;34m,\u001b[0m \u001b[0mdata\u001b[0m\u001b[0;34m=\u001b[0m\u001b[0;32mNone\u001b[0m\u001b[0;34m,\u001b[0m \u001b[0;34m**\u001b[0m\u001b[0mkwargs\u001b[0m\u001b[0;34m)\u001b[0m\u001b[0;34m:\u001b[0m\u001b[0;34m\u001b[0m\u001b[0;34m\u001b[0m\u001b[0m\n\u001b[0;32m-> 2840\u001b[0;31m     return gca().plot(\n\u001b[0m\u001b[1;32m   2841\u001b[0m         \u001b[0;34m*\u001b[0m\u001b[0margs\u001b[0m\u001b[0;34m,\u001b[0m \u001b[0mscalex\u001b[0m\u001b[0;34m=\u001b[0m\u001b[0mscalex\u001b[0m\u001b[0;34m,\u001b[0m \u001b[0mscaley\u001b[0m\u001b[0;34m=\u001b[0m\u001b[0mscaley\u001b[0m\u001b[0;34m,\u001b[0m\u001b[0;34m\u001b[0m\u001b[0;34m\u001b[0m\u001b[0m\n\u001b[1;32m   2842\u001b[0m         **({\"data\": data} if data is not None else {}), **kwargs)\n",
      "\u001b[0;32m~/.conda/envs/jupyter_NB/lib/python3.8/site-packages/matplotlib/axes/_axes.py\u001b[0m in \u001b[0;36mplot\u001b[0;34m(self, scalex, scaley, data, *args, **kwargs)\u001b[0m\n\u001b[1;32m   1741\u001b[0m         \"\"\"\n\u001b[1;32m   1742\u001b[0m         \u001b[0mkwargs\u001b[0m \u001b[0;34m=\u001b[0m \u001b[0mcbook\u001b[0m\u001b[0;34m.\u001b[0m\u001b[0mnormalize_kwargs\u001b[0m\u001b[0;34m(\u001b[0m\u001b[0mkwargs\u001b[0m\u001b[0;34m,\u001b[0m \u001b[0mmlines\u001b[0m\u001b[0;34m.\u001b[0m\u001b[0mLine2D\u001b[0m\u001b[0;34m)\u001b[0m\u001b[0;34m\u001b[0m\u001b[0;34m\u001b[0m\u001b[0m\n\u001b[0;32m-> 1743\u001b[0;31m         \u001b[0mlines\u001b[0m \u001b[0;34m=\u001b[0m \u001b[0;34m[\u001b[0m\u001b[0;34m*\u001b[0m\u001b[0mself\u001b[0m\u001b[0;34m.\u001b[0m\u001b[0m_get_lines\u001b[0m\u001b[0;34m(\u001b[0m\u001b[0;34m*\u001b[0m\u001b[0margs\u001b[0m\u001b[0;34m,\u001b[0m \u001b[0mdata\u001b[0m\u001b[0;34m=\u001b[0m\u001b[0mdata\u001b[0m\u001b[0;34m,\u001b[0m \u001b[0;34m**\u001b[0m\u001b[0mkwargs\u001b[0m\u001b[0;34m)\u001b[0m\u001b[0;34m]\u001b[0m\u001b[0;34m\u001b[0m\u001b[0;34m\u001b[0m\u001b[0m\n\u001b[0m\u001b[1;32m   1744\u001b[0m         \u001b[0;32mfor\u001b[0m \u001b[0mline\u001b[0m \u001b[0;32min\u001b[0m \u001b[0mlines\u001b[0m\u001b[0;34m:\u001b[0m\u001b[0;34m\u001b[0m\u001b[0;34m\u001b[0m\u001b[0m\n\u001b[1;32m   1745\u001b[0m             \u001b[0mself\u001b[0m\u001b[0;34m.\u001b[0m\u001b[0madd_line\u001b[0m\u001b[0;34m(\u001b[0m\u001b[0mline\u001b[0m\u001b[0;34m)\u001b[0m\u001b[0;34m\u001b[0m\u001b[0;34m\u001b[0m\u001b[0m\n",
      "\u001b[0;32m~/.conda/envs/jupyter_NB/lib/python3.8/site-packages/matplotlib/axes/_base.py\u001b[0m in \u001b[0;36m__call__\u001b[0;34m(self, data, *args, **kwargs)\u001b[0m\n\u001b[1;32m    271\u001b[0m                 \u001b[0mthis\u001b[0m \u001b[0;34m+=\u001b[0m \u001b[0margs\u001b[0m\u001b[0;34m[\u001b[0m\u001b[0;36m0\u001b[0m\u001b[0;34m]\u001b[0m\u001b[0;34m,\u001b[0m\u001b[0;34m\u001b[0m\u001b[0;34m\u001b[0m\u001b[0m\n\u001b[1;32m    272\u001b[0m                 \u001b[0margs\u001b[0m \u001b[0;34m=\u001b[0m \u001b[0margs\u001b[0m\u001b[0;34m[\u001b[0m\u001b[0;36m1\u001b[0m\u001b[0;34m:\u001b[0m\u001b[0;34m]\u001b[0m\u001b[0;34m\u001b[0m\u001b[0;34m\u001b[0m\u001b[0m\n\u001b[0;32m--> 273\u001b[0;31m             \u001b[0;32myield\u001b[0m \u001b[0;32mfrom\u001b[0m \u001b[0mself\u001b[0m\u001b[0;34m.\u001b[0m\u001b[0m_plot_args\u001b[0m\u001b[0;34m(\u001b[0m\u001b[0mthis\u001b[0m\u001b[0;34m,\u001b[0m \u001b[0mkwargs\u001b[0m\u001b[0;34m)\u001b[0m\u001b[0;34m\u001b[0m\u001b[0;34m\u001b[0m\u001b[0m\n\u001b[0m\u001b[1;32m    274\u001b[0m \u001b[0;34m\u001b[0m\u001b[0m\n\u001b[1;32m    275\u001b[0m     \u001b[0;32mdef\u001b[0m \u001b[0mget_next_color\u001b[0m\u001b[0;34m(\u001b[0m\u001b[0mself\u001b[0m\u001b[0;34m)\u001b[0m\u001b[0;34m:\u001b[0m\u001b[0;34m\u001b[0m\u001b[0;34m\u001b[0m\u001b[0m\n",
      "\u001b[0;32m~/.conda/envs/jupyter_NB/lib/python3.8/site-packages/matplotlib/axes/_base.py\u001b[0m in \u001b[0;36m_plot_args\u001b[0;34m(self, tup, kwargs)\u001b[0m\n\u001b[1;32m    397\u001b[0m \u001b[0;34m\u001b[0m\u001b[0m\n\u001b[1;32m    398\u001b[0m         \u001b[0;32mif\u001b[0m \u001b[0mx\u001b[0m\u001b[0;34m.\u001b[0m\u001b[0mshape\u001b[0m\u001b[0;34m[\u001b[0m\u001b[0;36m0\u001b[0m\u001b[0;34m]\u001b[0m \u001b[0;34m!=\u001b[0m \u001b[0my\u001b[0m\u001b[0;34m.\u001b[0m\u001b[0mshape\u001b[0m\u001b[0;34m[\u001b[0m\u001b[0;36m0\u001b[0m\u001b[0;34m]\u001b[0m\u001b[0;34m:\u001b[0m\u001b[0;34m\u001b[0m\u001b[0;34m\u001b[0m\u001b[0m\n\u001b[0;32m--> 399\u001b[0;31m             raise ValueError(f\"x and y must have same first dimension, but \"\n\u001b[0m\u001b[1;32m    400\u001b[0m                              f\"have shapes {x.shape} and {y.shape}\")\n\u001b[1;32m    401\u001b[0m         \u001b[0;32mif\u001b[0m \u001b[0mx\u001b[0m\u001b[0;34m.\u001b[0m\u001b[0mndim\u001b[0m \u001b[0;34m>\u001b[0m \u001b[0;36m2\u001b[0m \u001b[0;32mor\u001b[0m \u001b[0my\u001b[0m\u001b[0;34m.\u001b[0m\u001b[0mndim\u001b[0m \u001b[0;34m>\u001b[0m \u001b[0;36m2\u001b[0m\u001b[0;34m:\u001b[0m\u001b[0;34m\u001b[0m\u001b[0;34m\u001b[0m\u001b[0m\n",
      "\u001b[0;31mValueError\u001b[0m: x and y must have same first dimension, but have shapes (200,) and (100,)"
     ]
    },
    {
     "data": {
      "image/png": "[encoded data removed]",
      "text/plain": [
       "<Figure size 432x288 with 1 Axes>"
      ]
     },
     "metadata": {
      "needs_background": "light"
     },
     "output_type": "display_data"
    }
   ],
   "source": [
    "#for pred in est:\n",
    "#    plt.plot(y_test, pred, color='r', alpha=0.1)\n",
    "test_score = np.empty(len(model.estimators_))\n",
    "for i, pred in enumerate(model.staged_predict(X_test)): \n",
    "    test_score[i] = model.loss_(y_test, pred) \n",
    "    \n",
    "plt.plot(np.arange(n_estimators) + 1, test_score, label='Test')\n",
    "#plt.plot(np.arange(n_estimators) + 1, model.train_score_, label='Train')"
   ]
  },
  {
   "cell_type": "markdown",
   "metadata": {},
   "source": [
    "## Hyperparameter Tuning\n",
    "hyperparameters to tune, perhaps the most important are as follows:\n",
    "\n",
    "* The number of trees or estimators in the model.\n",
    "* The learning rate of the model.\n",
    "* The row and column sampling rate for stochastic models.\n",
    "* The maximum tree depth.\n",
    "* The minimum tree weight.\n",
    "* The regularization terms alpha and lambda.\n",
    "\n",
    "How to configure or tune the configuration of gradient boosting algorithm?"
   ]
  },
  {
   "cell_type": "code",
   "execution_count": null,
   "metadata": {},
   "outputs": [],
   "source": [
    "original_params = {'n_estimators': 200, 'max_leaf_nodes': 4, 'max_depth': 3, 'random_state': 2,\n",
    "                   'min_samples_split': 5}"
   ]
  },
  {
   "cell_type": "markdown",
   "metadata": {},
   "source": [
    "## Evaluate the model"
   ]
  },
  {
   "cell_type": "code",
   "execution_count": null,
   "metadata": {},
   "outputs": [],
   "source": []
  },
  {
   "cell_type": "code",
   "execution_count": null,
   "metadata": {},
   "outputs": [],
   "source": []
  }
 ],
 "metadata": {
  "kernelspec": {
   "display_name": "Python 3",
   "language": "python",
   "name": "python3"
  },
  "language_info": {
   "codemirror_mode": {
    "name": "ipython",
    "version": 3
   },
   "file_extension": ".py",
   "mimetype": "text/x-python",
   "name": "python",
   "nbconvert_exporter": "python",
   "pygments_lexer": "ipython3",
   "version": "3.8.5"
  }
 },
 "nbformat": 4,
 "nbformat_minor": 4
}
