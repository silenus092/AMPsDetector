{
 "cells": [
  {
   "cell_type": "code",
   "execution_count": 1,
   "metadata": {},
   "outputs": [
    {
     "name": "stdout",
     "output_type": "stream",
     "text": [
      "[name: \"/device:CPU:0\"\n",
      "device_type: \"CPU\"\n",
      "memory_limit: 268435456\n",
      "locality {\n",
      "}\n",
      "incarnation: 15476060973695832596\n",
      ", name: \"/device:XLA_CPU:0\"\n",
      "device_type: \"XLA_CPU\"\n",
      "memory_limit: 17179869184\n",
      "locality {\n",
      "}\n",
      "incarnation: 17528611527058447927\n",
      "physical_device_desc: \"device: XLA_CPU device\"\n",
      ", name: \"/device:XLA_GPU:0\"\n",
      "device_type: \"XLA_GPU\"\n",
      "memory_limit: 17179869184\n",
      "locality {\n",
      "}\n",
      "incarnation: 8591421255042219751\n",
      "physical_device_desc: \"device: XLA_GPU device\"\n",
      ", name: \"/device:GPU:0\"\n",
      "device_type: \"GPU\"\n",
      "memory_limit: 31595870336\n",
      "locality {\n",
      "  bus_id: 1\n",
      "  links {\n",
      "  }\n",
      "}\n",
      "incarnation: 4878201874569329223\n",
      "physical_device_desc: \"device: 0, name: Tesla V100-PCIE-32GB, pci bus id: 0000:00:06.0, compute capability: 7.0\"\n",
      "]\n"
     ]
    }
   ],
   "source": [
    "from tensorflow.python.client import device_lib\n",
    "print(device_lib.list_local_devices())"
   ]
  },
  {
   "cell_type": "code",
   "execution_count": 1,
   "metadata": {
    "id": "4aBzk8QXHS9S"
   },
   "outputs": [
    {
     "name": "stderr",
     "output_type": "stream",
     "text": [
      "Using TensorFlow backend.\n"
     ]
    }
   ],
   "source": [
    "import os\n",
    "import gc\n",
    "\n",
    "import numpy as np\n",
    "import pandas as pd\n",
    "import matplotlib.pyplot as plt\n",
    "import matplotlib.patches as patches\n",
    "import seaborn as sns\n",
    "\n",
    "from collections import Counter\n",
    "from prettytable import PrettyTable\n",
    "from IPython.display import Image\n",
    "from sklearn.model_selection import train_test_split\n",
    "from sklearn.model_selection import cross_val_score\n",
    "from sklearn.model_selection import StratifiedKFold\n",
    "from sklearn.metrics import roc_curve,auc\n",
    "from keras.wrappers.scikit_learn import KerasClassifier\n",
    "from tensorflow.keras.callbacks import LearningRateScheduler\n",
    "from tensorflow.keras.models import Model\n",
    "from tensorflow.keras.regularizers import l2\n",
    "from tensorflow.keras.constraints import max_norm\n",
    "from tensorflow.keras.callbacks import EarlyStopping\n",
    "from tensorflow.keras.layers import Input, Dense, Dropout, Flatten, Activation\n",
    "from tensorflow.keras.layers import Conv1D, Add, MaxPooling1D, BatchNormalization \n",
    "from tensorflow.keras.layers import Embedding, Bidirectional, GlobalMaxPooling1D\n",
    "from tensorflow.python.keras.layers.recurrent import LSTM\n",
    "from tensorflow.keras.optimizers import Adam\n",
    "# CuDNNLSTM error; The error was because from TensorFlow 2 you do not need to specify CuDNNLSTM. \n",
    "# You can just use LSTM with no activation function and it will automatically use the CuDNN version. You do have to install CuDNN first.\n",
    "\n",
    "from keras.callbacks import ModelCheckpoint\n",
    "from sklearn.metrics import classification_report, confusion_matrix, accuracy_score"
   ]
  },
  {
   "cell_type": "code",
   "execution_count": 2,
   "metadata": {
    "id": "FNhtXHJrfEE4"
   },
   "outputs": [],
   "source": [
    "import pickle5 as pickle\n",
    "with open( \"/mnt/vdb/thesis/jax/AMPNonAMP.V4_sim95.reps\", 'rb') as file:\n",
    "    AMPs_df = pickle.load(file)"
   ]
  },
  {
   "cell_type": "code",
   "execution_count": 4,
   "metadata": {
    "colab": {
     "base_uri": "https://localhost:8080/",
     "height": 597
    },
    "id": "mGiMSzzPfj2t",
    "outputId": "092eb611-b89c-4cac-c8c4-0557799510cf"
   },
   "outputs": [
    {
     "data": {
      "text/html": [
       "<div>\n",
       "<style scoped>\n",
       "    .dataframe tbody tr th:only-of-type {\n",
       "        vertical-align: middle;\n",
       "    }\n",
       "\n",
       "    .dataframe tbody tr th {\n",
       "        vertical-align: top;\n",
       "    }\n",
       "\n",
       "    .dataframe thead th {\n",
       "        text-align: right;\n",
       "    }\n",
       "</style>\n",
       "<table border=\"1\" class=\"dataframe\">\n",
       "  <thead>\n",
       "    <tr style=\"text-align: right;\">\n",
       "      <th></th>\n",
       "      <th>ID</th>\n",
       "      <th>length</th>\n",
       "      <th>class</th>\n",
       "      <th>reps</th>\n",
       "    </tr>\n",
       "  </thead>\n",
       "  <tbody>\n",
       "    <tr>\n",
       "      <th>261</th>\n",
       "      <td>0_antitbpred|antitbpred</td>\n",
       "      <td>33</td>\n",
       "      <td>0</td>\n",
       "      <td>[0.021885789930820465, 0.06677412241697311, 0....</td>\n",
       "    </tr>\n",
       "    <tr>\n",
       "      <th>17</th>\n",
       "      <td>0_peptideDB.anti|peptideDB.anti</td>\n",
       "      <td>148</td>\n",
       "      <td>0</td>\n",
       "      <td>[0.00609204825013876, -0.07883947342634201, 0....</td>\n",
       "    </tr>\n",
       "    <tr>\n",
       "      <th>226</th>\n",
       "      <td>1000_pos_train_ds3|pos_train_ds3</td>\n",
       "      <td>86</td>\n",
       "      <td>0</td>\n",
       "      <td>[0.012824639678001404, 0.0021224096417427063, ...</td>\n",
       "    </tr>\n",
       "    <tr>\n",
       "      <th>302</th>\n",
       "      <td>10023_dbaasp|dbaasp_peptides</td>\n",
       "      <td>36</td>\n",
       "      <td>0</td>\n",
       "      <td>[0.003721927758306265, -0.07121428847312927, -...</td>\n",
       "    </tr>\n",
       "    <tr>\n",
       "      <th>60</th>\n",
       "      <td>1003,1011,1019,1027,1035|CancerPPD_l_natural</td>\n",
       "      <td>20</td>\n",
       "      <td>0</td>\n",
       "      <td>[0.02940366230905056, 0.001728760078549385, -0...</td>\n",
       "    </tr>\n",
       "    <tr>\n",
       "      <th>...</th>\n",
       "      <td>...</td>\n",
       "      <td>...</td>\n",
       "      <td>...</td>\n",
       "      <td>...</td>\n",
       "    </tr>\n",
       "    <tr>\n",
       "      <th>456</th>\n",
       "      <td>tagenome__1003787_1003787.scaffolds.fasta_scaf...</td>\n",
       "      <td>47</td>\n",
       "      <td>0</td>\n",
       "      <td>[0.019306708127260208, -0.030069835484027863, ...</td>\n",
       "    </tr>\n",
       "    <tr>\n",
       "      <th>171</th>\n",
       "      <td>tagenome__1003787_1003787.scaffolds.fasta_scaf...</td>\n",
       "      <td>60</td>\n",
       "      <td>0</td>\n",
       "      <td>[0.011303016915917397, -0.07055054605007172, 0...</td>\n",
       "    </tr>\n",
       "    <tr>\n",
       "      <th>283</th>\n",
       "      <td>tagenome__1003787_1003787.scaffolds.fasta_scaf...</td>\n",
       "      <td>58</td>\n",
       "      <td>0</td>\n",
       "      <td>[0.014870524406433105, -0.13572746515274048, 0...</td>\n",
       "    </tr>\n",
       "    <tr>\n",
       "      <th>148</th>\n",
       "      <td>tagenome__1003787_1003787.scaffolds.fasta_scaf...</td>\n",
       "      <td>56</td>\n",
       "      <td>0</td>\n",
       "      <td>[0.010077092796564102, -0.07801175117492676, 0...</td>\n",
       "    </tr>\n",
       "    <tr>\n",
       "      <th>302</th>\n",
       "      <td>tagenome__1003787_1003787.scaffolds.fasta_scaf...</td>\n",
       "      <td>90</td>\n",
       "      <td>0</td>\n",
       "      <td>[0.011703676544129848, -0.029389584437012672, ...</td>\n",
       "    </tr>\n",
       "  </tbody>\n",
       "</table>\n",
       "<p>214276 rows × 4 columns</p>\n",
       "</div>"
      ],
      "text/plain": [
       "                                                    ID  length  class  \\\n",
       "261                            0_antitbpred|antitbpred      33      0   \n",
       "17                     0_peptideDB.anti|peptideDB.anti     148      0   \n",
       "226                   1000_pos_train_ds3|pos_train_ds3      86      0   \n",
       "302                       10023_dbaasp|dbaasp_peptides      36      0   \n",
       "60        1003,1011,1019,1027,1035|CancerPPD_l_natural      20      0   \n",
       "..                                                 ...     ...    ...   \n",
       "456  tagenome__1003787_1003787.scaffolds.fasta_scaf...      47      0   \n",
       "171  tagenome__1003787_1003787.scaffolds.fasta_scaf...      60      0   \n",
       "283  tagenome__1003787_1003787.scaffolds.fasta_scaf...      58      0   \n",
       "148  tagenome__1003787_1003787.scaffolds.fasta_scaf...      56      0   \n",
       "302  tagenome__1003787_1003787.scaffolds.fasta_scaf...      90      0   \n",
       "\n",
       "                                                  reps  \n",
       "261  [0.021885789930820465, 0.06677412241697311, 0....  \n",
       "17   [0.00609204825013876, -0.07883947342634201, 0....  \n",
       "226  [0.012824639678001404, 0.0021224096417427063, ...  \n",
       "302  [0.003721927758306265, -0.07121428847312927, -...  \n",
       "60   [0.02940366230905056, 0.001728760078549385, -0...  \n",
       "..                                                 ...  \n",
       "456  [0.019306708127260208, -0.030069835484027863, ...  \n",
       "171  [0.011303016915917397, -0.07055054605007172, 0...  \n",
       "283  [0.014870524406433105, -0.13572746515274048, 0...  \n",
       "148  [0.010077092796564102, -0.07801175117492676, 0...  \n",
       "302  [0.011703676544129848, -0.029389584437012672, ...  \n",
       "\n",
       "[214276 rows x 4 columns]"
      ]
     },
     "execution_count": 4,
     "metadata": {},
     "output_type": "execute_result"
    }
   ],
   "source": [
    "#AMPs_df.drop_duplicates(subset=['Sequence'],inplace=True)\n",
    "AMPs_df"
   ]
  },
  {
   "cell_type": "code",
   "execution_count": null,
   "metadata": {
    "id": "rz4gQNIeIaQh"
   },
   "outputs": [],
   "source": [
    "# AMPs_df = pd.read_pickle('AMPsNonAMPs_df.plk')\n",
    "AMPs_df = pd.read_pickle('AMPsNonAMPs_df.239.plk')\n",
    "AMPs_df"
   ]
  },
  {
   "cell_type": "markdown",
   "metadata": {
    "id": "g2i7Tk41aDZ5"
   },
   "source": [
    "### Utility function: plot_history, display_model_score"
   ]
  },
  {
   "cell_type": "code",
   "execution_count": 3,
   "metadata": {
    "id": "7F7ykQsDVxHO"
   },
   "outputs": [],
   "source": [
    "def plot_history(history):\n",
    "  # dict_keys(['loss', 'accuracy', 'val_loss', 'val_accuracy'])\n",
    "  acc = history.history['accuracy']\n",
    "  val_acc = history.history['val_accuracy']\n",
    "  loss = history.history['loss']\n",
    "  val_loss = history.history['val_loss']\n",
    "  x = range(1, len(acc) + 1)\n",
    "\n",
    "  plt.figure(figsize=(12, 5))\n",
    "  plt.subplot(1, 2, 1)\n",
    "  plt.plot(x, acc, 'b', label='Training acc')\n",
    "  plt.plot(x, val_acc, 'r', label='Validation acc')\n",
    "  plt.title('Training and validation accuracy')\n",
    "  plt.legend()\n",
    "\n",
    "  plt.subplot(1, 2, 2)\n",
    "  plt.plot(x, loss, 'b', label='Training loss')\n",
    "  plt.plot(x, val_loss, 'r', label='Validation loss')\n",
    "  plt.title('Training and validation loss')\n",
    "  plt.legend()\n",
    "\n",
    "# Display model score(Loss & Accuracy) across all sets.\n",
    "def display_model_score(model, train, val, test):\n",
    "  train_score = model.evaluate(train[0], train[1], verbose=1)\n",
    "  print('Train loss: ', train_score[0])\n",
    "  print('Train accuracy: ', train_score[1])\n",
    "  print('-'*70)\n",
    "  val_score = model.evaluate(val[0], val[1], verbose=1)\n",
    "  print('Val loss: ', val_score[0])\n",
    "  print('Val accuracy: ', val_score[1])\n",
    "  print('-'*70)\n",
    "  test_score = model.evaluate(test[0], test[1], verbose=1)\n",
    "  print('Test loss: ', test_score[0])\n",
    "  print('Test accuracy: ', test_score[1])\n",
    "\n",
    "def plot_history_CV(cv, estimator,x,y):\n",
    "  # plot arrows\n",
    "  fig1 = plt.figure(figsize=[12,12])\n",
    "  ax1 = fig1.add_subplot(111,aspect = 'equal')\n",
    "  ax1.add_patch(\n",
    "      patches.Arrow(0.45,0.5,-0.25,0.25,width=0.3,color='green',alpha = 0.5)\n",
    "      )\n",
    "  ax1.add_patch(\n",
    "      patches.Arrow(0.5,0.45,0.25,-0.25,width=0.3,color='red',alpha = 0.5)\n",
    "      )\n",
    "\n",
    "  tprs = []\n",
    "  aucs = []\n",
    "  mean_fpr = np.linspace(0,1,100)\n",
    "  i = 1\n",
    "  for train,test in cv.split(x,y):\n",
    "      model = create_Modelbaseline()\n",
    "      model.fit(x[train],y.iloc[train],\n",
    "            epochs=30,\n",
    "            shuffle=True,verbose=0)\n",
    "      prediction = model.predict(x[test])\n",
    "      fpr, tpr, t = roc_curve(y[test], prediction[:, 1])\n",
    "      tprs.append(interp(mean_fpr, fpr, tpr))\n",
    "      roc_auc = auc(fpr, tpr)\n",
    "      aucs.append(roc_auc)\n",
    "      plt.plot(fpr, tpr, lw=2, alpha=0.3, label='ROC fold %d (AUC = %0.2f)' % (i, roc_auc))\n",
    "      i= i+1\n",
    "\n",
    "  plt.plot([0,1],[0,1],linestyle = '--',lw = 2,color = 'black')\n",
    "  mean_tpr = np.mean(tprs, axis=0)\n",
    "  mean_auc = auc(mean_fpr, mean_tpr)\n",
    "  plt.plot(mean_fpr, mean_tpr, color='blue',\n",
    "          label=r'Mean ROC (AUC = %0.2f )' % (mean_auc),lw=2, alpha=1)\n",
    "\n",
    "  plt.xlabel('False Positive Rate')\n",
    "  plt.ylabel('True Positive Rate')\n",
    "  plt.title('ROC')\n",
    "  plt.legend(loc=\"lower right\")\n",
    "  plt.text(0.32,0.7,'More accurate area',fontsize = 12)\n",
    "  plt.text(0.63,0.4,'Less accurate area',fontsize = 12)\n",
    "  plt.show()"
   ]
  },
  {
   "cell_type": "markdown",
   "metadata": {
    "id": "nI-_ZAvfIb5A"
   },
   "source": [
    "# Split Train/ Test / Validation set"
   ]
  },
  {
   "cell_type": "code",
   "execution_count": 6,
   "metadata": {
    "id": "lAAQLx4UIptD"
   },
   "outputs": [],
   "source": [
    "X= np.array(AMPs_df['reps'].to_list())\n",
    "y= np.array(AMPs_df['class'].to_list())"
   ]
  },
  {
   "cell_type": "code",
   "execution_count": 7,
   "metadata": {
    "id": "EkmqGqfUT0XR"
   },
   "outputs": [
    {
     "data": {
      "text/plain": [
       "(88692, 1900)"
      ]
     },
     "execution_count": 7,
     "metadata": {},
     "output_type": "execute_result"
    }
   ],
   "source": [
    "input_shape  = X.shape\n",
    "input_shape"
   ]
  },
  {
   "cell_type": "code",
   "execution_count": 4,
   "metadata": {
    "id": "UWQ2IZWgIbST"
   },
   "outputs": [],
   "source": [
    "X_train, X_test, y_train, y_test = train_test_split(np.array(AMPs_df['reps'].to_list()), np.array(AMPs_df['class'].to_list()), test_size=0.2, random_state=1)\n",
    "X_train, X_val, y_train, y_val = train_test_split(X_train, y_train, test_size=0.25, random_state=1) # 0.25 x 0.8 = 0.2"
   ]
  },
  {
   "cell_type": "code",
   "execution_count": 5,
   "metadata": {
    "colab": {
     "base_uri": "https://localhost:8080/",
     "height": 73
    },
    "id": "IM7Scdevkwpp",
    "outputId": "55fa7ea6-a5f9-4e23-bf42-f1a4bf64f8a3"
   },
   "outputs": [
    {
     "name": "stdout",
     "output_type": "stream",
     "text": [
      "Train size:  128565\n",
      "Val size:  42855\n",
      "Test size:  42856\n"
     ]
    }
   ],
   "source": [
    "# Given data size\n",
    "print('Train size: ', len(X_train))\n",
    "print('Val size: ', len(X_val))\n",
    "print('Test size: ', len(X_test))"
   ]
  },
  {
   "cell_type": "markdown",
   "metadata": {
    "id": "9dHnNnR7IAAs"
   },
   "source": [
    "# Model 1: Our simple model "
   ]
  },
  {
   "cell_type": "markdown",
   "metadata": {
    "id": "4tb99vdzJc6A"
   },
   "source": [
    "## Keras"
   ]
  },
  {
   "cell_type": "code",
   "execution_count": 19,
   "metadata": {
    "id": "rnEsdsHWJf2B"
   },
   "outputs": [],
   "source": [
    "def create_Modelbaseline():\n",
    "  x_input = Input(shape=(1900,))\n",
    "  layer_0 = Dense(896)(x_input)\n",
    "  dropout_0 = Dropout(0.5)(layer_0)\n",
    "  layer_1 = Dense(448)(dropout_0)\n",
    "  dropout_1 = Dropout(0.5)(layer_1)\n",
    "  layer_2 = Dense(224)(dropout_1)\n",
    "  dropout_2 = Dropout(0.5)(layer_2)\n",
    "  layer_3 = Dense(112)(dropout_2)\n",
    "  dropout_3 = Dropout(0.5)(layer_3)\n",
    "  layer_4 = Dense(56)(dropout_3)\n",
    "  dropout_4 = Dropout(0.5)(layer_4)\n",
    "  x_output = Dense(1, activation='sigmoid', name='output_layer')(dropout_4)\n",
    "\n",
    "  model = Model(inputs=x_input, outputs=x_output)\n",
    "  model.compile(optimizer=Adam(lr=0.0001), loss='binary_crossentropy', metrics=['accuracy'])\n",
    "  return model"
   ]
  },
  {
   "cell_type": "code",
   "execution_count": 20,
   "metadata": {
    "colab": {
     "base_uri": "https://localhost:8080/",
     "height": 616
    },
    "id": "5BiM6J7tJf5u",
    "outputId": "b5c8a8bb-1ff7-4fd0-ec9d-e60926bddf15"
   },
   "outputs": [
    {
     "name": "stdout",
     "output_type": "stream",
     "text": [
      "Model: \"functional_3\"\n",
      "_________________________________________________________________\n",
      "Layer (type)                 Output Shape              Param #   \n",
      "=================================================================\n",
      "input_2 (InputLayer)         [(None, 1900)]            0         \n",
      "_________________________________________________________________\n",
      "dense_5 (Dense)              (None, 896)               1703296   \n",
      "_________________________________________________________________\n",
      "dropout_5 (Dropout)          (None, 896)               0         \n",
      "_________________________________________________________________\n",
      "dense_6 (Dense)              (None, 448)               401856    \n",
      "_________________________________________________________________\n",
      "dropout_6 (Dropout)          (None, 448)               0         \n",
      "_________________________________________________________________\n",
      "dense_7 (Dense)              (None, 224)               100576    \n",
      "_________________________________________________________________\n",
      "dropout_7 (Dropout)          (None, 224)               0         \n",
      "_________________________________________________________________\n",
      "dense_8 (Dense)              (None, 112)               25200     \n",
      "_________________________________________________________________\n",
      "dropout_8 (Dropout)          (None, 112)               0         \n",
      "_________________________________________________________________\n",
      "dense_9 (Dense)              (None, 56)                6328      \n",
      "_________________________________________________________________\n",
      "dropout_9 (Dropout)          (None, 56)                0         \n",
      "_________________________________________________________________\n",
      "output_layer (Dense)         (None, 1)                 57        \n",
      "=================================================================\n",
      "Total params: 2,237,313\n",
      "Trainable params: 2,237,313\n",
      "Non-trainable params: 0\n",
      "_________________________________________________________________\n"
     ]
    }
   ],
   "source": [
    " model = create_Modelbaseline()\n",
    " model.summary()"
   ]
  },
  {
   "cell_type": "code",
   "execution_count": 21,
   "metadata": {
    "colab": {
     "base_uri": "https://localhost:8080/",
     "height": 1000
    },
    "id": "fn-5xjDBV0Fs",
    "outputId": "1627a5ba-ef0d-482e-d621-12d8be92ad57",
    "scrolled": true
   },
   "outputs": [
    {
     "name": "stdout",
     "output_type": "stream",
     "text": [
      "WARNING:tensorflow:`period` argument is deprecated. Please use `save_freq` to specify the frequency in number of batches seen.\n",
      "Epoch 1/100\n",
      "\n",
      "Epoch 00001: val_accuracy improved from -inf to 0.86352, saving model to our_best_model.hdf5\n",
      "1663/1663 - 5s - loss: 0.5031 - accuracy: 0.7806 - val_loss: 0.3301 - val_accuracy: 0.8635\n",
      "Epoch 2/100\n",
      "\n",
      "Epoch 00002: val_accuracy improved from 0.86352 to 0.86983, saving model to our_best_model.hdf5\n",
      "1663/1663 - 5s - loss: 0.3955 - accuracy: 0.8380 - val_loss: 0.3121 - val_accuracy: 0.8698\n",
      "Epoch 3/100\n",
      "\n",
      "Epoch 00003: val_accuracy improved from 0.86983 to 0.87463, saving model to our_best_model.hdf5\n",
      "1663/1663 - 5s - loss: 0.3660 - accuracy: 0.8536 - val_loss: 0.3128 - val_accuracy: 0.8746\n",
      "Epoch 4/100\n",
      "\n",
      "Epoch 00004: val_accuracy did not improve from 0.87463\n",
      "1663/1663 - 5s - loss: 0.3466 - accuracy: 0.8622 - val_loss: 0.3408 - val_accuracy: 0.8508\n",
      "Epoch 5/100\n",
      "\n",
      "Epoch 00005: val_accuracy improved from 0.87463 to 0.88049, saving model to our_best_model.hdf5\n",
      "1663/1663 - 5s - loss: 0.3343 - accuracy: 0.8666 - val_loss: 0.2911 - val_accuracy: 0.8805\n",
      "Epoch 6/100\n",
      "\n",
      "Epoch 00006: val_accuracy did not improve from 0.88049\n",
      "1663/1663 - 5s - loss: 0.3208 - accuracy: 0.8719 - val_loss: 0.2947 - val_accuracy: 0.8796\n",
      "Epoch 7/100\n",
      "\n",
      "Epoch 00007: val_accuracy improved from 0.88049 to 0.88432, saving model to our_best_model.hdf5\n",
      "1663/1663 - 5s - loss: 0.3126 - accuracy: 0.8765 - val_loss: 0.2857 - val_accuracy: 0.8843\n",
      "Epoch 8/100\n",
      "\n",
      "Epoch 00008: val_accuracy improved from 0.88432 to 0.88590, saving model to our_best_model.hdf5\n",
      "1663/1663 - 5s - loss: 0.3079 - accuracy: 0.8781 - val_loss: 0.2821 - val_accuracy: 0.8859\n",
      "Epoch 9/100\n",
      "\n",
      "Epoch 00009: val_accuracy improved from 0.88590 to 0.88618, saving model to our_best_model.hdf5\n",
      "1663/1663 - 5s - loss: 0.2996 - accuracy: 0.8816 - val_loss: 0.2819 - val_accuracy: 0.8862\n",
      "Epoch 10/100\n",
      "\n",
      "Epoch 00010: val_accuracy did not improve from 0.88618\n",
      "1663/1663 - 5s - loss: 0.2955 - accuracy: 0.8832 - val_loss: 0.2851 - val_accuracy: 0.8827\n",
      "Epoch 11/100\n",
      "\n",
      "Epoch 00011: val_accuracy did not improve from 0.88618\n",
      "1663/1663 - 5s - loss: 0.2900 - accuracy: 0.8838 - val_loss: 0.2944 - val_accuracy: 0.8817\n",
      "Epoch 12/100\n",
      "\n",
      "Epoch 00012: val_accuracy did not improve from 0.88618\n",
      "1663/1663 - 5s - loss: 0.2860 - accuracy: 0.8859 - val_loss: 0.2891 - val_accuracy: 0.8838\n",
      "Epoch 13/100\n",
      "\n",
      "Epoch 00013: val_accuracy did not improve from 0.88618\n",
      "1663/1663 - 5s - loss: 0.2865 - accuracy: 0.8864 - val_loss: 0.2877 - val_accuracy: 0.8794\n",
      "Epoch 14/100\n",
      "\n",
      "Epoch 00014: val_accuracy improved from 0.88618 to 0.88968, saving model to our_best_model.hdf5\n",
      "1663/1663 - 5s - loss: 0.2807 - accuracy: 0.8879 - val_loss: 0.2744 - val_accuracy: 0.8897\n",
      "Epoch 15/100\n",
      "\n",
      "Epoch 00015: val_accuracy did not improve from 0.88968\n",
      "1663/1663 - 5s - loss: 0.2791 - accuracy: 0.8895 - val_loss: 0.2824 - val_accuracy: 0.8838\n",
      "Epoch 16/100\n",
      "\n",
      "Epoch 00016: val_accuracy did not improve from 0.88968\n",
      "1663/1663 - 5s - loss: 0.2778 - accuracy: 0.8903 - val_loss: 0.2795 - val_accuracy: 0.8883\n",
      "Epoch 17/100\n",
      "\n",
      "Epoch 00017: val_accuracy improved from 0.88968 to 0.89137, saving model to our_best_model.hdf5\n",
      "1663/1663 - 5s - loss: 0.2758 - accuracy: 0.8904 - val_loss: 0.2744 - val_accuracy: 0.8914\n",
      "Epoch 18/100\n",
      "\n",
      "Epoch 00018: val_accuracy did not improve from 0.89137\n",
      "1663/1663 - 5s - loss: 0.2724 - accuracy: 0.8913 - val_loss: 0.2748 - val_accuracy: 0.8909\n",
      "Epoch 19/100\n",
      "\n",
      "Epoch 00019: val_accuracy did not improve from 0.89137\n",
      "1663/1663 - 4s - loss: 0.2732 - accuracy: 0.8921 - val_loss: 0.2756 - val_accuracy: 0.8896\n",
      "Epoch 20/100\n",
      "\n",
      "Epoch 00020: val_accuracy improved from 0.89137 to 0.89176, saving model to our_best_model.hdf5\n",
      "1663/1663 - 5s - loss: 0.2737 - accuracy: 0.8915 - val_loss: 0.2715 - val_accuracy: 0.8918\n",
      "Epoch 21/100\n",
      "\n",
      "Epoch 00021: val_accuracy improved from 0.89176 to 0.89205, saving model to our_best_model.hdf5\n",
      "1663/1663 - 5s - loss: 0.2713 - accuracy: 0.8935 - val_loss: 0.2704 - val_accuracy: 0.8920\n",
      "Epoch 22/100\n",
      "\n",
      "Epoch 00022: val_accuracy did not improve from 0.89205\n",
      "1663/1663 - 4s - loss: 0.2709 - accuracy: 0.8937 - val_loss: 0.2685 - val_accuracy: 0.8916\n",
      "Epoch 23/100\n",
      "\n",
      "Epoch 00023: val_accuracy did not improve from 0.89205\n",
      "1663/1663 - 5s - loss: 0.2681 - accuracy: 0.8951 - val_loss: 0.2881 - val_accuracy: 0.8851\n",
      "Epoch 24/100\n",
      "\n",
      "Epoch 00024: val_accuracy improved from 0.89205 to 0.89362, saving model to our_best_model.hdf5\n",
      "1663/1663 - 5s - loss: 0.2666 - accuracy: 0.8952 - val_loss: 0.2696 - val_accuracy: 0.8936\n",
      "Epoch 25/100\n",
      "\n",
      "Epoch 00025: val_accuracy did not improve from 0.89362\n",
      "1663/1663 - 5s - loss: 0.2675 - accuracy: 0.8947 - val_loss: 0.2719 - val_accuracy: 0.8935\n",
      "Epoch 26/100\n",
      "\n",
      "Epoch 00026: val_accuracy did not improve from 0.89362\n",
      "1663/1663 - 5s - loss: 0.2665 - accuracy: 0.8955 - val_loss: 0.2826 - val_accuracy: 0.8848\n",
      "Epoch 27/100\n",
      "\n",
      "Epoch 00027: val_accuracy did not improve from 0.89362\n",
      "1663/1663 - 5s - loss: 0.2638 - accuracy: 0.8959 - val_loss: 0.2707 - val_accuracy: 0.8915\n",
      "Epoch 28/100\n",
      "\n",
      "Epoch 00028: val_accuracy did not improve from 0.89362\n",
      "1663/1663 - 5s - loss: 0.2640 - accuracy: 0.8956 - val_loss: 0.2684 - val_accuracy: 0.8931\n",
      "Epoch 29/100\n",
      "\n",
      "Epoch 00029: val_accuracy did not improve from 0.89362\n",
      "1663/1663 - 5s - loss: 0.2644 - accuracy: 0.8974 - val_loss: 0.2730 - val_accuracy: 0.8927\n",
      "Epoch 30/100\n",
      "\n",
      "Epoch 00030: val_accuracy did not improve from 0.89362\n",
      "1663/1663 - 5s - loss: 0.2628 - accuracy: 0.8969 - val_loss: 0.2766 - val_accuracy: 0.8860\n",
      "Epoch 31/100\n",
      "\n",
      "Epoch 00031: val_accuracy did not improve from 0.89362\n",
      "1663/1663 - 4s - loss: 0.2637 - accuracy: 0.8963 - val_loss: 0.2799 - val_accuracy: 0.8893\n",
      "Epoch 32/100\n",
      "\n",
      "Epoch 00032: val_accuracy did not improve from 0.89362\n",
      "1663/1663 - 5s - loss: 0.2614 - accuracy: 0.8965 - val_loss: 0.2683 - val_accuracy: 0.8927\n",
      "Epoch 33/100\n",
      "\n",
      "Epoch 00033: val_accuracy did not improve from 0.89362\n",
      "1663/1663 - 5s - loss: 0.2608 - accuracy: 0.8970 - val_loss: 0.2828 - val_accuracy: 0.8881\n",
      "Epoch 34/100\n",
      "\n",
      "Epoch 00034: val_accuracy did not improve from 0.89362\n",
      "1663/1663 - 5s - loss: 0.2609 - accuracy: 0.8976 - val_loss: 0.2682 - val_accuracy: 0.8918\n",
      "Epoch 35/100\n",
      "\n",
      "Epoch 00035: val_accuracy did not improve from 0.89362\n",
      "1663/1663 - 5s - loss: 0.2611 - accuracy: 0.8983 - val_loss: 0.2690 - val_accuracy: 0.8934\n",
      "Epoch 36/100\n",
      "\n",
      "Epoch 00036: val_accuracy improved from 0.89362 to 0.89402, saving model to our_best_model.hdf5\n",
      "1663/1663 - 5s - loss: 0.2586 - accuracy: 0.8994 - val_loss: 0.2658 - val_accuracy: 0.8940\n",
      "Epoch 37/100\n",
      "\n",
      "Epoch 00037: val_accuracy did not improve from 0.89402\n",
      "1663/1663 - 5s - loss: 0.2584 - accuracy: 0.8989 - val_loss: 0.2686 - val_accuracy: 0.8921\n",
      "Epoch 38/100\n",
      "\n",
      "Epoch 00038: val_accuracy did not improve from 0.89402\n",
      "1663/1663 - 5s - loss: 0.2591 - accuracy: 0.8979 - val_loss: 0.2678 - val_accuracy: 0.8926\n",
      "Epoch 39/100\n",
      "\n",
      "Epoch 00039: val_accuracy improved from 0.89402 to 0.89447, saving model to our_best_model.hdf5\n",
      "1663/1663 - 5s - loss: 0.2583 - accuracy: 0.8978 - val_loss: 0.2654 - val_accuracy: 0.8945\n",
      "Epoch 40/100\n",
      "\n",
      "Epoch 00040: val_accuracy did not improve from 0.89447\n",
      "1663/1663 - 5s - loss: 0.2572 - accuracy: 0.8993 - val_loss: 0.2723 - val_accuracy: 0.8924\n",
      "Epoch 41/100\n",
      "\n",
      "Epoch 00041: val_accuracy did not improve from 0.89447\n",
      "1663/1663 - 5s - loss: 0.2576 - accuracy: 0.8986 - val_loss: 0.2655 - val_accuracy: 0.8933\n",
      "Epoch 42/100\n",
      "\n",
      "Epoch 00042: val_accuracy improved from 0.89447 to 0.89498, saving model to our_best_model.hdf5\n",
      "1663/1663 - 5s - loss: 0.2580 - accuracy: 0.8981 - val_loss: 0.2771 - val_accuracy: 0.8950\n",
      "Epoch 43/100\n",
      "\n",
      "Epoch 00043: val_accuracy did not improve from 0.89498\n",
      "1663/1663 - 5s - loss: 0.2559 - accuracy: 0.9008 - val_loss: 0.2751 - val_accuracy: 0.8869\n",
      "Epoch 44/100\n",
      "\n",
      "Epoch 00044: val_accuracy did not improve from 0.89498\n",
      "1663/1663 - 4s - loss: 0.2569 - accuracy: 0.8999 - val_loss: 0.2743 - val_accuracy: 0.8885\n",
      "Epoch 45/100\n",
      "\n",
      "Epoch 00045: val_accuracy did not improve from 0.89498\n",
      "1663/1663 - 5s - loss: 0.2560 - accuracy: 0.8999 - val_loss: 0.2676 - val_accuracy: 0.8937\n",
      "Epoch 46/100\n",
      "\n",
      "Epoch 00046: val_accuracy did not improve from 0.89498\n",
      "1663/1663 - 5s - loss: 0.2553 - accuracy: 0.8989 - val_loss: 0.2703 - val_accuracy: 0.8948\n",
      "Epoch 47/100\n",
      "\n",
      "Epoch 00047: val_accuracy did not improve from 0.89498\n",
      "1663/1663 - 4s - loss: 0.2555 - accuracy: 0.9006 - val_loss: 0.2685 - val_accuracy: 0.8924\n",
      "Epoch 48/100\n",
      "\n",
      "Epoch 00048: val_accuracy did not improve from 0.89498\n",
      "1663/1663 - 5s - loss: 0.2545 - accuracy: 0.8990 - val_loss: 0.2683 - val_accuracy: 0.8945\n",
      "Epoch 49/100\n",
      "\n",
      "Epoch 00049: val_accuracy did not improve from 0.89498\n",
      "1663/1663 - 5s - loss: 0.2539 - accuracy: 0.9002 - val_loss: 0.2696 - val_accuracy: 0.8936\n",
      "Epoch 50/100\n",
      "\n",
      "Epoch 00050: val_accuracy did not improve from 0.89498\n",
      "1663/1663 - 5s - loss: 0.2556 - accuracy: 0.8987 - val_loss: 0.2699 - val_accuracy: 0.8907\n",
      "Epoch 51/100\n",
      "\n",
      "Epoch 00051: val_accuracy did not improve from 0.89498\n",
      "1663/1663 - 5s - loss: 0.2526 - accuracy: 0.9001 - val_loss: 0.2664 - val_accuracy: 0.8946\n",
      "Epoch 52/100\n",
      "\n",
      "Epoch 00052: val_accuracy did not improve from 0.89498\n",
      "1663/1663 - 5s - loss: 0.2553 - accuracy: 0.9005 - val_loss: 0.2818 - val_accuracy: 0.8872\n",
      "Epoch 53/100\n",
      "\n",
      "Epoch 00053: val_accuracy improved from 0.89498 to 0.89661, saving model to our_best_model.hdf5\n",
      "1663/1663 - 5s - loss: 0.2537 - accuracy: 0.9006 - val_loss: 0.2643 - val_accuracy: 0.8966\n",
      "Epoch 54/100\n",
      "\n",
      "Epoch 00054: val_accuracy did not improve from 0.89661\n",
      "1663/1663 - 5s - loss: 0.2551 - accuracy: 0.8997 - val_loss: 0.2633 - val_accuracy: 0.8952\n",
      "Epoch 55/100\n",
      "\n",
      "Epoch 00055: val_accuracy did not improve from 0.89661\n",
      "1663/1663 - 5s - loss: 0.2527 - accuracy: 0.9019 - val_loss: 0.2650 - val_accuracy: 0.8948\n",
      "Epoch 56/100\n",
      "\n",
      "Epoch 00056: val_accuracy did not improve from 0.89661\n",
      "1663/1663 - 4s - loss: 0.2517 - accuracy: 0.9003 - val_loss: 0.2659 - val_accuracy: 0.8942\n",
      "Epoch 57/100\n",
      "\n",
      "Epoch 00057: val_accuracy did not improve from 0.89661\n",
      "1663/1663 - 4s - loss: 0.2521 - accuracy: 0.9007 - val_loss: 0.2672 - val_accuracy: 0.8942\n",
      "Epoch 58/100\n",
      "\n",
      "Epoch 00058: val_accuracy did not improve from 0.89661\n",
      "1663/1663 - 4s - loss: 0.2527 - accuracy: 0.9013 - val_loss: 0.2759 - val_accuracy: 0.8907\n",
      "Epoch 59/100\n",
      "\n",
      "Epoch 00059: val_accuracy did not improve from 0.89661\n",
      "1663/1663 - 4s - loss: 0.2522 - accuracy: 0.9010 - val_loss: 0.2693 - val_accuracy: 0.8903\n",
      "Epoch 60/100\n",
      "\n",
      "Epoch 00060: val_accuracy did not improve from 0.89661\n",
      "1663/1663 - 4s - loss: 0.2524 - accuracy: 0.9012 - val_loss: 0.2626 - val_accuracy: 0.8947\n",
      "Epoch 61/100\n",
      "\n",
      "Epoch 00061: val_accuracy did not improve from 0.89661\n",
      "1663/1663 - 5s - loss: 0.2503 - accuracy: 0.9013 - val_loss: 0.2692 - val_accuracy: 0.8935\n",
      "Epoch 62/100\n",
      "\n",
      "Epoch 00062: val_accuracy did not improve from 0.89661\n",
      "1663/1663 - 4s - loss: 0.2512 - accuracy: 0.9010 - val_loss: 0.2716 - val_accuracy: 0.8953\n",
      "Epoch 63/100\n",
      "\n",
      "Epoch 00063: val_accuracy did not improve from 0.89661\n",
      "1663/1663 - 5s - loss: 0.2501 - accuracy: 0.9028 - val_loss: 0.2651 - val_accuracy: 0.8945\n",
      "Epoch 64/100\n",
      "\n",
      "Epoch 00064: val_accuracy did not improve from 0.89661\n",
      "1663/1663 - 5s - loss: 0.2522 - accuracy: 0.9011 - val_loss: 0.2725 - val_accuracy: 0.8913\n",
      "Epoch 65/100\n",
      "\n",
      "Epoch 00065: val_accuracy did not improve from 0.89661\n",
      "1663/1663 - 5s - loss: 0.2517 - accuracy: 0.9013 - val_loss: 0.2830 - val_accuracy: 0.8825\n",
      "Epoch 66/100\n",
      "\n",
      "Epoch 00066: val_accuracy did not improve from 0.89661\n",
      "1663/1663 - 5s - loss: 0.2504 - accuracy: 0.9013 - val_loss: 0.2686 - val_accuracy: 0.8916\n",
      "Epoch 67/100\n",
      "\n",
      "Epoch 00067: val_accuracy did not improve from 0.89661\n",
      "1663/1663 - 4s - loss: 0.2498 - accuracy: 0.9031 - val_loss: 0.2659 - val_accuracy: 0.8956\n",
      "Epoch 68/100\n",
      "\n",
      "Epoch 00068: val_accuracy did not improve from 0.89661\n",
      "1663/1663 - 4s - loss: 0.2498 - accuracy: 0.9028 - val_loss: 0.2714 - val_accuracy: 0.8917\n",
      "Epoch 69/100\n",
      "\n",
      "Epoch 00069: val_accuracy did not improve from 0.89661\n",
      "1663/1663 - 5s - loss: 0.2502 - accuracy: 0.9018 - val_loss: 0.2692 - val_accuracy: 0.8915\n",
      "Epoch 70/100\n",
      "\n",
      "Epoch 00070: val_accuracy did not improve from 0.89661\n",
      "1663/1663 - 5s - loss: 0.2495 - accuracy: 0.9023 - val_loss: 0.2681 - val_accuracy: 0.8923\n",
      "Epoch 71/100\n",
      "\n",
      "Epoch 00071: val_accuracy did not improve from 0.89661\n",
      "1663/1663 - 5s - loss: 0.2497 - accuracy: 0.9018 - val_loss: 0.2649 - val_accuracy: 0.8934\n",
      "Epoch 72/100\n",
      "\n",
      "Epoch 00072: val_accuracy did not improve from 0.89661\n",
      "1663/1663 - 5s - loss: 0.2487 - accuracy: 0.9015 - val_loss: 0.2736 - val_accuracy: 0.8946\n",
      "Epoch 73/100\n",
      "\n",
      "Epoch 00073: val_accuracy did not improve from 0.89661\n",
      "1663/1663 - 4s - loss: 0.2503 - accuracy: 0.9018 - val_loss: 0.2648 - val_accuracy: 0.8944\n",
      "Epoch 74/100\n",
      "\n",
      "Epoch 00074: val_accuracy did not improve from 0.89661\n",
      "1663/1663 - 4s - loss: 0.2494 - accuracy: 0.9022 - val_loss: 0.2659 - val_accuracy: 0.8948\n",
      "Epoch 75/100\n",
      "\n",
      "Epoch 00075: val_accuracy did not improve from 0.89661\n",
      "1663/1663 - 5s - loss: 0.2491 - accuracy: 0.9024 - val_loss: 0.2866 - val_accuracy: 0.8905\n",
      "Epoch 76/100\n",
      "\n",
      "Epoch 00076: val_accuracy did not improve from 0.89661\n",
      "1663/1663 - 5s - loss: 0.2493 - accuracy: 0.9023 - val_loss: 0.2716 - val_accuracy: 0.8950\n",
      "Epoch 77/100\n",
      "\n",
      "Epoch 00077: val_accuracy did not improve from 0.89661\n",
      "1663/1663 - 5s - loss: 0.2476 - accuracy: 0.9038 - val_loss: 0.2638 - val_accuracy: 0.8948\n",
      "Epoch 78/100\n",
      "\n",
      "Epoch 00078: val_accuracy did not improve from 0.89661\n",
      "1663/1663 - 5s - loss: 0.2494 - accuracy: 0.9034 - val_loss: 0.2743 - val_accuracy: 0.8912\n",
      "Epoch 79/100\n",
      "\n",
      "Epoch 00079: val_accuracy did not improve from 0.89661\n",
      "1663/1663 - 5s - loss: 0.2501 - accuracy: 0.9023 - val_loss: 0.2773 - val_accuracy: 0.8912\n",
      "Epoch 80/100\n",
      "\n",
      "Epoch 00080: val_accuracy did not improve from 0.89661\n",
      "1663/1663 - 4s - loss: 0.2495 - accuracy: 0.9029 - val_loss: 0.2732 - val_accuracy: 0.8946\n",
      "Epoch 81/100\n",
      "\n",
      "Epoch 00081: val_accuracy did not improve from 0.89661\n",
      "1663/1663 - 5s - loss: 0.2489 - accuracy: 0.9036 - val_loss: 0.2633 - val_accuracy: 0.8958\n",
      "Epoch 82/100\n",
      "\n",
      "Epoch 00082: val_accuracy did not improve from 0.89661\n",
      "1663/1663 - 5s - loss: 0.2495 - accuracy: 0.9034 - val_loss: 0.2685 - val_accuracy: 0.8935\n",
      "Epoch 83/100\n",
      "\n",
      "Epoch 00083: val_accuracy did not improve from 0.89661\n",
      "1663/1663 - 5s - loss: 0.2467 - accuracy: 0.9042 - val_loss: 0.2701 - val_accuracy: 0.8907\n",
      "Epoch 84/100\n",
      "\n",
      "Epoch 00084: val_accuracy did not improve from 0.89661\n",
      "1663/1663 - 5s - loss: 0.2481 - accuracy: 0.9028 - val_loss: 0.2649 - val_accuracy: 0.8949\n",
      "Epoch 85/100\n",
      "\n",
      "Epoch 00085: val_accuracy did not improve from 0.89661\n",
      "1663/1663 - 5s - loss: 0.2468 - accuracy: 0.9048 - val_loss: 0.2637 - val_accuracy: 0.8956\n",
      "Epoch 86/100\n",
      "\n",
      "Epoch 00086: val_accuracy did not improve from 0.89661\n",
      "1663/1663 - 4s - loss: 0.2467 - accuracy: 0.9035 - val_loss: 0.2647 - val_accuracy: 0.8963\n",
      "Epoch 87/100\n",
      "\n",
      "Epoch 00087: val_accuracy did not improve from 0.89661\n",
      "1663/1663 - 5s - loss: 0.2466 - accuracy: 0.9042 - val_loss: 0.2681 - val_accuracy: 0.8945\n",
      "Epoch 88/100\n",
      "\n",
      "Epoch 00088: val_accuracy did not improve from 0.89661\n",
      "1663/1663 - 5s - loss: 0.2485 - accuracy: 0.9045 - val_loss: 0.2665 - val_accuracy: 0.8944\n",
      "Epoch 89/100\n",
      "\n",
      "Epoch 00089: val_accuracy did not improve from 0.89661\n",
      "1663/1663 - 5s - loss: 0.2480 - accuracy: 0.9035 - val_loss: 0.2734 - val_accuracy: 0.8920\n",
      "Epoch 90/100\n",
      "\n",
      "Epoch 00090: val_accuracy did not improve from 0.89661\n",
      "1663/1663 - 4s - loss: 0.2471 - accuracy: 0.9036 - val_loss: 0.2630 - val_accuracy: 0.8955\n",
      "Epoch 91/100\n",
      "\n",
      "Epoch 00091: val_accuracy did not improve from 0.89661\n",
      "1663/1663 - 5s - loss: 0.2461 - accuracy: 0.9044 - val_loss: 0.2713 - val_accuracy: 0.8936\n",
      "Epoch 92/100\n",
      "\n",
      "Epoch 00092: val_accuracy did not improve from 0.89661\n",
      "1663/1663 - 4s - loss: 0.2472 - accuracy: 0.9040 - val_loss: 0.2790 - val_accuracy: 0.8850\n",
      "Epoch 93/100\n",
      "\n",
      "Epoch 00093: val_accuracy improved from 0.89661 to 0.89689, saving model to our_best_model.hdf5\n",
      "1663/1663 - 5s - loss: 0.2474 - accuracy: 0.9043 - val_loss: 0.2639 - val_accuracy: 0.8969\n",
      "Epoch 94/100\n",
      "\n",
      "Epoch 00094: val_accuracy did not improve from 0.89689\n",
      "1663/1663 - 5s - loss: 0.2475 - accuracy: 0.9044 - val_loss: 0.2786 - val_accuracy: 0.8867\n",
      "Epoch 95/100\n",
      "\n",
      "Epoch 00095: val_accuracy did not improve from 0.89689\n",
      "1663/1663 - 5s - loss: 0.2447 - accuracy: 0.9056 - val_loss: 0.2645 - val_accuracy: 0.8958\n",
      "Epoch 96/100\n",
      "\n",
      "Epoch 00096: val_accuracy did not improve from 0.89689\n",
      "1663/1663 - 4s - loss: 0.2446 - accuracy: 0.9049 - val_loss: 0.2686 - val_accuracy: 0.8923\n",
      "Epoch 97/100\n",
      "\n",
      "Epoch 00097: val_accuracy did not improve from 0.89689\n",
      "1663/1663 - 4s - loss: 0.2459 - accuracy: 0.9024 - val_loss: 0.2669 - val_accuracy: 0.8951\n",
      "Epoch 98/100\n",
      "\n",
      "Epoch 00098: val_accuracy did not improve from 0.89689\n",
      "1663/1663 - 4s - loss: 0.2475 - accuracy: 0.9035 - val_loss: 0.2796 - val_accuracy: 0.8893\n",
      "Epoch 99/100\n",
      "\n",
      "Epoch 00099: val_accuracy did not improve from 0.89689\n",
      "1663/1663 - 4s - loss: 0.2463 - accuracy: 0.9034 - val_loss: 0.2659 - val_accuracy: 0.8940\n",
      "Epoch 100/100\n",
      "\n",
      "Epoch 00100: val_accuracy did not improve from 0.89689\n",
      "1663/1663 - 4s - loss: 0.2445 - accuracy: 0.9038 - val_loss: 0.2654 - val_accuracy: 0.8941\n"
     ]
    }
   ],
   "source": [
    "checkpoint = ModelCheckpoint(\"our_best_model.hdf5\", monitor='val_accuracy', verbose=1,\n",
    "    save_best_only=True, mode='auto', period=1)\n",
    "\n",
    "history = model.fit(X_train, y_train, epochs=100, validation_data=(X_val, y_val),\n",
    "                     callbacks=[checkpoint], verbose=2)\n"
   ]
  },
  {
   "cell_type": "code",
   "execution_count": 24,
   "metadata": {
    "colab": {
     "base_uri": "https://localhost:8080/",
     "height": 336
    },
    "id": "78rubOsMatf7",
    "outputId": "fd557d64-a3fb-4107-b4bc-6f3c230e86d9"
   },
   "outputs": [
    {
     "data": {
      "image/png": "[encoded data removed]",
      "text/plain": [
       "<Figure size 864x360 with 2 Axes>"
      ]
     },
     "metadata": {
      "needs_background": "light"
     },
     "output_type": "display_data"
    }
   ],
   "source": [
    "plot_history(history)"
   ]
  },
  {
   "cell_type": "markdown",
   "metadata": {
    "id": "lsxtS0l3esdH"
   },
   "source": [
    "Overfitting if: training loss >> validation loss, training loss much greater than validation loss.\n",
    "\n",
    "Underfitting if: training loss << validation loss, training loss much less than validation loss. "
   ]
  },
  {
   "cell_type": "code",
   "execution_count": 25,
   "metadata": {
    "colab": {
     "base_uri": "https://localhost:8080/",
     "height": 223
    },
    "id": "WMW5lf7fcX6h",
    "outputId": "334829d1-6272-45c6-b68b-438ce7cf73c1"
   },
   "outputs": [
    {
     "name": "stdout",
     "output_type": "stream",
     "text": [
      "1663/1663 [==============================] - 2s 1ms/step - loss: 0.2272 - accuracy: 0.9087\n",
      "Train loss:  0.2272053211927414\n",
      "Train accuracy:  0.9086894392967224\n",
      "----------------------------------------------------------------------\n",
      "555/555 [==============================] - 1s 1ms/step - loss: 0.2654 - accuracy: 0.8941\n",
      "Val loss:  0.26535043120384216\n",
      "Val accuracy:  0.8940752148628235\n",
      "----------------------------------------------------------------------\n",
      "555/555 [==============================] - 1s 1ms/step - loss: 0.2552 - accuracy: 0.9004\n",
      "Test loss:  0.25519099831581116\n",
      "Test accuracy:  0.9003889560699463\n"
     ]
    }
   ],
   "source": [
    "display_model_score(model,\n",
    "    [X_train, y_train],\n",
    "    [X_val, y_val],\n",
    "    [X_test, y_test])"
   ]
  },
  {
   "cell_type": "code",
   "execution_count": 26,
   "metadata": {
    "colab": {
     "base_uri": "https://localhost:8080/",
     "height": 148
    },
    "id": "7N7O3u_dm1FL",
    "outputId": "5f707ca4-8bb7-493f-ca49-02f13fda2e1a"
   },
   "outputs": [],
   "source": [
    "y_probas = model.predict(X_test)"
   ]
  },
  {
   "cell_type": "code",
   "execution_count": 27,
   "metadata": {
    "colab": {
     "base_uri": "https://localhost:8080/",
     "height": 186
    },
    "id": "_9PISRBnj0xr",
    "outputId": "8fddc58c-6119-4e45-e7d6-c3d01442c81e"
   },
   "outputs": [
    {
     "name": "stdout",
     "output_type": "stream",
     "text": [
      "              precision    recall  f1-score   support\n",
      "\n",
      "           0       0.91      0.90      0.90      8928\n",
      "           1       0.90      0.90      0.90      8811\n",
      "\n",
      "    accuracy                           0.90     17739\n",
      "   macro avg       0.90      0.90      0.90     17739\n",
      "weighted avg       0.90      0.90      0.90     17739\n",
      "\n"
     ]
    }
   ],
   "source": [
    "threshold = 0.5\n",
    "y_predict = np.where(y_probas > threshold, 1, 0)\n",
    "\n",
    "print(classification_report(y_test, y_predict))"
   ]
  },
  {
   "cell_type": "code",
   "execution_count": 28,
   "metadata": {},
   "outputs": [
    {
     "name": "stdout",
     "output_type": "stream",
     "text": [
      "ROC area is 0.9004177329657576\n"
     ]
    },
    {
     "data": {
      "text/plain": [
       "<matplotlib.legend.Legend at 0x7f303c7f3fd0>"
      ]
     },
     "execution_count": 28,
     "metadata": {},
     "output_type": "execute_result"
    },
    {
     "data": {
      "image/png": "[encoded data removed]",
      "text/plain": [
       "<Figure size 432x288 with 1 Axes>"
      ]
     },
     "metadata": {
      "needs_background": "light"
     },
     "output_type": "display_data"
    }
   ],
   "source": [
    "from sklearn.metrics import roc_curve, auc\n",
    "# probs from log preds\n",
    "# probs = np.exp(preds[:,1])\n",
    "# Compute ROC curve\n",
    "fpr, tpr, thresholds = roc_curve(y_test, y_predict, pos_label=1)\n",
    "\n",
    "# Compute ROC area\n",
    "roc_auc = auc(fpr, tpr)\n",
    "print('ROC area is {0}'.format(roc_auc))\n",
    "plt.figure()\n",
    "plt.plot(fpr, tpr, color='darkorange', label='ROC curve (area = %0.2f)' % roc_auc)\n",
    "plt.plot([0, 1], [0, 1], color='navy', linestyle='--')\n",
    "plt.xlim([-0.01, 1.0])\n",
    "plt.ylim([0.0, 1.01])\n",
    "plt.xlabel('False Positive Rate')\n",
    "plt.ylabel('True Positive Rate')\n",
    "plt.title('Receiver operating characteristic')\n",
    "plt.legend(loc=\"lower right\")"
   ]
  },
  {
   "cell_type": "markdown",
   "metadata": {
    "id": "UBBbFeGaXM7O"
   },
   "source": [
    "# Cross validation with whole dataset"
   ]
  },
  {
   "cell_type": "code",
   "execution_count": 21,
   "metadata": {
    "id": "IfOdoWiqJfmO"
   },
   "outputs": [],
   "source": [
    "\n",
    "estimator = KerasClassifier(build_fn=create_Modelbaseline, epochs=100,verbose=0)\n",
    "kfold = StratifiedKFold(n_splits=5, shuffle=True)\n",
    "results = cross_val_score(estimator, X, y, cv=kfold)"
   ]
  },
  {
   "cell_type": "code",
   "execution_count": 22,
   "metadata": {
    "colab": {
     "base_uri": "https://localhost:8080/",
     "height": 36
    },
    "id": "rbGCYLBqVAB0",
    "outputId": "482a9c74-f22a-410d-8c49-4a20eab67069"
   },
   "outputs": [
    {
     "name": "stdout",
     "output_type": "stream",
     "text": [
      "Baseline: 89.40% (0.35%)\n"
     ]
    }
   ],
   "source": [
    "print(\"Baseline: %.2f%% (%.2f%%)\" % (results.mean()*100, results.std()*100))"
   ]
  },
  {
   "cell_type": "code",
   "execution_count": null,
   "metadata": {},
   "outputs": [],
   "source": [
    "kfold = StratifiedKFold(n_splits=10, shuffle=True, random_state=42)\n",
    "scoring = ['accuracy', 'f1', 'roc_auc', 'recall', 'precision','neg_log_loss']\n",
    "scores = cross_validate(estimator, X, y, scoring=scoring, cv=kfold, return_train_score=True)\n",
    "print(\"Accuracy TEST: %0.2f (+/- %0.2f) Accuracy TRAIN: %0.2f (+/- %0.2f)\" %\n",
    "      (scores['test_accuracy'].mean(), scores['test_accuracy'].std() * 2, scores['train_accuracy'].mean(), scores['train_accuracy'].std() * 2))\n",
    "print(\"F1 TEST: %0.2f (+/- %0.2f) F1 TRAIN : %0.2f (+/- %0.2f) \" %\n",
    "      (scores['test_f1'].mean(), scores['test_f1'].std() * 2, scores['train_f1'].mean(), scores['train_f1'].std() * 2))\n",
    "print(\"AUROC TEST: %0.2f (+/- %0.2f) AUROC TRAIN : %0.2f (+/- %0.2f)\" %\n",
    "      (scores['test_roc_auc'].mean(), scores['test_roc_auc'].std() * 2, scores['train_roc_auc'].mean(), scores['train_roc_auc'].std() * 2))\n",
    "print(\"recall TEST: %0.2f (+/- %0.2f) recall TRAIN: %0.2f (+/- %0.2f)\" %\n",
    "      (scores['test_recall'].mean(), scores['test_recall'].std() * 2, scores['train_recall'].mean(), scores['train_recall'].std() * 2))\n",
    "print(\"Precision TEST: %0.2f (+/- %0.2f) Precision TRAIN: %0.2f (+/- %0.2f)\" %\n",
    "      (scores['test_precision'].mean(), scores['test_precision'].std() * 2, scores['train_precision'].mean(), scores['train_precision'].std() * 2))\n",
    "print(\"Log loss TEST: %0.2f (+/- %0.2f) Log loss TRAIN: %0.2f (+/- %0.2f)\" %\n",
    "      (scores['test_neg_log_loss'].mean(), scores['test_neg_log_loss'].std() * 2, scores['train_neg_log_loss'].mean(), scores['train_neg_log_loss'].std() * 2))"
   ]
  },
  {
   "cell_type": "markdown",
   "metadata": {
    "id": "TO18oGqEIAf5"
   },
   "source": [
    "# Model 2: Bidirectional LSTM\n",
    "(The perforamnce did not good)"
   ]
  },
  {
   "cell_type": "markdown",
   "metadata": {
    "id": "fNONrOjcxCKz"
   },
   "source": [
    "The below models are from https://towardsdatascience.com/protein-sequence-classification-99c80d0ad2df\n",
    "\n",
    "https://stackoverflow.com/questions/38714959/understanding-keras-lstms"
   ]
  },
  {
   "cell_type": "markdown",
   "metadata": {
    "id": "ax797xXuwsAJ"
   },
   "source": [
    "Embedding\n",
    "* https://towardsdatascience.com/neural-network-embeddings-explained-4d028e6f0526\n",
    "\n",
    "must specify 3 arguments:\n",
    "\n",
    "    input_dim: This is the size of the vocabulary in the text data. For example, if your data is integer encoded to values between 0-10, then the size of the vocabulary would be 11 words.\n",
    "    output_dim: This is the size of the vector space in which words will be embedded. It defines the size of the output vectors from this layer for each word. For example, it could be 32 or 100 or even larger. Test different values for your problem.\n",
    "    input_length: This is the length of input sequences, as you would define for any input layer of a Keras model. For example, if all of your input documents are comprised of 1000 words, this would be 1000.\n",
    "\n",
    "\n",
    "Input LSTM \n",
    "https://github.com/MohammadFneish7/Keras_LSTM_Diagram\n",
    "\n",
    "(No batches , Timeesteps , no features)"
   ]
  },
  {
   "cell_type": "code",
   "execution_count": 6,
   "metadata": {
    "colab": {
     "base_uri": "https://localhost:8080/",
     "height": 36
    },
    "id": "Neqnr6Hhv1QC",
    "outputId": "22fe2f0a-c418-4def-fbe8-f3d2ec8ddca4"
   },
   "outputs": [
    {
     "name": "stdout",
     "output_type": "stream",
     "text": [
      "(128565, 1900, 1)\n",
      "(42856, 1900, 1)\n",
      "(42855, 1900, 1)\n"
     ]
    }
   ],
   "source": [
    "import numpy as np\n",
    "# https://stackoverflow.com/questions/52803989/how-to-correct-shape-of-keras-input-into-a-3d-array/52804200\n",
    "X_train = np.reshape(X_train,(X_train.shape[0],X_train.shape[1],1))\n",
    "print(X_train.shape)\n",
    "X_test = np.reshape(X_test,(X_test.shape[0],X_test.shape[1],1))\n",
    "print(X_test.shape)\n",
    "X_val = np.reshape(X_val,(X_val.shape[0],X_val.shape[1],1))\n",
    "print(X_val.shape)"
   ]
  },
  {
   "cell_type": "code",
   "execution_count": 12,
   "metadata": {
    "colab": {
     "base_uri": "https://localhost:8080/",
     "height": 36
    },
    "id": "vrc6-83n0Pb2",
    "outputId": "285b5c67-1712-4482-e820-5288f45aaa17"
   },
   "outputs": [],
   "source": [
    "x_input = Input( shape=(1900,1) )"
   ]
  },
  {
   "cell_type": "markdown",
   "metadata": {
    "id": "O4_WG1mW3cP_"
   },
   "source": [
    "Keras - ImportError: cannot import name 'CuDNNLSTM'\n",
    "\n",
    " To slove : for Tensorflow-2: You can just use LSTM with no activation function and it will automatically use the CuDNN version\n",
    "\n",
    "* https://stackoverflow.com/questions/48086014/keras-model-with-cudnnlstm-layers-doesnt-work-on-production-server\n",
    "* https://forums.developer.nvidia.com/t/importerror-cannot-import-name-cudnnlstm-from-tensorflow-keras-layers/82778\n",
    " "
   ]
  },
  {
   "cell_type": "code",
   "execution_count": 7,
   "metadata": {
    "id": "3K_HqPYhfu_r"
   },
   "outputs": [
    {
     "name": "stdout",
     "output_type": "stream",
     "text": [
      "Model: \"functional_1\"\n",
      "_________________________________________________________________\n",
      "Layer (type)                 Output Shape              Param #   \n",
      "=================================================================\n",
      "input_1 (InputLayer)         [(None, 1900, 1)]         0         \n",
      "_________________________________________________________________\n",
      "conv1d (Conv1D)              (None, 1900, 256)         2560      \n",
      "_________________________________________________________________\n",
      "max_pooling1d (MaxPooling1D) (None, 475, 256)          0         \n",
      "_________________________________________________________________\n",
      "dropout (Dropout)            (None, 475, 256)          0         \n",
      "_________________________________________________________________\n",
      "lstm (LSTM)                  (None, 475, 64)           82176     \n",
      "_________________________________________________________________\n",
      "dropout_1 (Dropout)          (None, 475, 64)           0         \n",
      "_________________________________________________________________\n",
      "flatten (Flatten)            (None, 30400)             0         \n",
      "_________________________________________________________________\n",
      "dense (Dense)                (None, 1984)              60315584  \n",
      "_________________________________________________________________\n",
      "dense_1 (Dense)              (None, 256)               508160    \n",
      "_________________________________________________________________\n",
      "output_layer (Dense)         (None, 1)                 257       \n",
      "=================================================================\n",
      "Total params: 60,908,737\n",
      "Trainable params: 60,908,737\n",
      "Non-trainable params: 0\n",
      "_________________________________________________________________\n"
     ]
    }
   ],
   "source": [
    "x_input = Input( shape=(1900,1) )\n",
    "\n",
    "#initial conv\n",
    "conv = Conv1D(256, 9,padding='same', activation = 'relu')(x_input) \n",
    "\n",
    "#conv = BatchNormalization()(conv)\n",
    "x = MaxPooling1D(4)(conv)\n",
    "x = Dropout(0.2)(x)\n",
    "\n",
    "\n",
    "flat = Flatten()(x)\n",
    "\n",
    "bi_rnn =  LSTM(64, return_sequences=True ) (x)\n",
    "x = Dropout(0.2)(bi_rnn)\n",
    "#x = Bidirectional( LSTM(128, kernel_regularizer=l2(0.01), recurrent_regularizer=l2(0.01)\n",
    "#                        , bias_regularizer=l2(0.01), return_sequences=False, stateful=False ) )(x)\n",
    "\n",
    "flat = Flatten()(x)\n",
    "layer_3 = Dense(1984, activation='relu')(flat)\n",
    "dropout_3 = Dropout(0.2)(layer_3)\n",
    "layer_3 = Dense(256, activation='relu')(layer_3)\n",
    "# softmax classifier\n",
    "x_output = Dense(1, activation='sigmoid', name='output_layer')(layer_3)\n",
    "\n",
    "model_BLSTM = Model(inputs=x_input, outputs=x_output)\n",
    "model_BLSTM.compile(optimizer='adam', loss='binary_crossentropy', metrics=['accuracy'])\n",
    "\n",
    "model_BLSTM.summary()"
   ]
  },
  {
   "cell_type": "code",
   "execution_count": 7,
   "metadata": {},
   "outputs": [
    {
     "name": "stdout",
     "output_type": "stream",
     "text": [
      "Model: \"functional_1\"\n",
      "_________________________________________________________________\n",
      "Layer (type)                 Output Shape              Param #   \n",
      "=================================================================\n",
      "input_1 (InputLayer)         [(None, 1900, 1)]         0         \n",
      "_________________________________________________________________\n",
      "conv1d (Conv1D)              (None, 1900, 64)          2624      \n",
      "_________________________________________________________________\n",
      "max_pooling1d (MaxPooling1D) (None, 76, 64)            0         \n",
      "_________________________________________________________________\n",
      "conv1d_1 (Conv1D)            (None, 76, 128)           57472     \n",
      "_________________________________________________________________\n",
      "max_pooling1d_1 (MaxPooling1 (None, 19, 128)           0         \n",
      "_________________________________________________________________\n",
      "dense (Dense)                (None, 19, 1211)          156219    \n",
      "_________________________________________________________________\n",
      "dropout (Dropout)            (None, 19, 1211)          0         \n",
      "_________________________________________________________________\n",
      "bidirectional (Bidirectional (None, 19, 128)           653312    \n",
      "_________________________________________________________________\n",
      "dropout_1 (Dropout)          (None, 19, 128)           0         \n",
      "_________________________________________________________________\n",
      "flatten (Flatten)            (None, 2432)              0         \n",
      "_________________________________________________________________\n",
      "dense_1 (Dense)              (None, 1)                 2433      \n",
      "=================================================================\n",
      "Total params: 872,060\n",
      "Trainable params: 872,060\n",
      "Non-trainable params: 0\n",
      "_________________________________________________________________\n"
     ]
    }
   ],
   "source": [
    "# Model III\n",
    "\n",
    "x_input = Input( shape=(1900,1) )\n",
    "\n",
    "#Conv1D\n",
    "conv = Conv1D(64, kernel_size=40, strides=1, padding='same', activation='relu')(x_input)  # Extract whole motif pattern\n",
    "conv = MaxPooling1D(pool_size=25)(conv)\n",
    "conv = Conv1D(128, kernel_size=7, strides=1, padding='same', activation='relu')(conv)  # Extract extra features  \n",
    "conv = MaxPooling1D(pool_size=4)(conv)\n",
    "\n",
    "# batch normalization on features\n",
    "#conv = BatchNormalization()(conv)\n",
    "\n",
    "# Dropout and Dense Layer before LSTM\n",
    "layer = Dense(1211, activation='relu')(conv)\n",
    "dense_convinpn = Dropout(0.5)(layer)\n",
    "\n",
    "\n",
    "# Bi-LSTM\n",
    "lstm = Bidirectional(LSTM(64, return_sequences=True, name='bilstm'))(dense_convinpn) # learn order of sequence\n",
    "drop_after_lstm = Dropout(0.5)(lstm)\n",
    "\n",
    "# Dense out\n",
    "output = Flatten()(drop_after_lstm)\n",
    "x_output = Dense(1, activation='sigmoid')(output)\n",
    "\n",
    "# comple\n",
    "model_BLSTM = Model(inputs=x_input, outputs=x_output)\n",
    "model_BLSTM.compile(optimizer='adam', loss='binary_crossentropy', metrics=['accuracy'])\n",
    "\n",
    "model_BLSTM.summary()"
   ]
  },
  {
   "cell_type": "code",
   "execution_count": null,
   "metadata": {},
   "outputs": [],
   "source": []
  },
  {
   "cell_type": "code",
   "execution_count": null,
   "metadata": {},
   "outputs": [],
   "source": []
  },
  {
   "cell_type": "code",
   "execution_count": null,
   "metadata": {},
   "outputs": [],
   "source": []
  },
  {
   "cell_type": "code",
   "execution_count": null,
   "metadata": {},
   "outputs": [],
   "source": []
  },
  {
   "cell_type": "code",
   "execution_count": 8,
   "metadata": {},
   "outputs": [],
   "source": [
    "#from keras import backend as K\n",
    "#K.set_value(model_ProtCNN.optimizer.learning_rate, 0.00001)\n",
    "def lr_schedule(epoch):\n",
    "    \n",
    "    lr = 1e-3\n",
    "    if epoch > 80:\n",
    "        lr = 0.1e-6\n",
    "    elif epoch > 50:    \n",
    "        lr = 0.3e-5\n",
    "    elif epoch > 20:\n",
    "        lr = 1e-4\n",
    "        \n",
    "    print(' Learning rate: ', lr)    \n",
    "    return lr \n",
    "\n",
    "#learning rate decay\n",
    "lr_scheduler = LearningRateScheduler(lr_schedule)"
   ]
  },
  {
   "cell_type": "code",
   "execution_count": 9,
   "metadata": {
    "id": "CT66n3ZxfvD4",
    "scrolled": true
   },
   "outputs": [
    {
     "name": "stdout",
     "output_type": "stream",
     "text": [
      " Learning rate:  0.001\n",
      "Epoch 1/100\n",
      "503/503 [==============================] - 56s 112ms/step - loss: 0.3579 - accuracy: 0.8315 - val_loss: 0.2554 - val_accuracy: 0.8955\n",
      " Learning rate:  0.001\n",
      "Epoch 2/100\n",
      "503/503 [==============================] - 56s 111ms/step - loss: 0.2504 - accuracy: 0.8998 - val_loss: 0.2411 - val_accuracy: 0.9030\n",
      " Learning rate:  0.001\n",
      "Epoch 3/100\n",
      "503/503 [==============================] - 55s 110ms/step - loss: 0.2283 - accuracy: 0.9100 - val_loss: 0.2212 - val_accuracy: 0.9150\n",
      " Learning rate:  0.001\n",
      "Epoch 4/100\n",
      "503/503 [==============================] - 56s 111ms/step - loss: 0.2098 - accuracy: 0.9185 - val_loss: 0.2033 - val_accuracy: 0.9217\n",
      " Learning rate:  0.001\n",
      "Epoch 5/100\n",
      "503/503 [==============================] - 56s 111ms/step - loss: 0.1999 - accuracy: 0.9227 - val_loss: 0.1997 - val_accuracy: 0.9216\n",
      " Learning rate:  0.001\n",
      "Epoch 6/100\n",
      "503/503 [==============================] - 55s 109ms/step - loss: 0.1932 - accuracy: 0.9252 - val_loss: 0.2162 - val_accuracy: 0.9170\n",
      " Learning rate:  0.001\n",
      "Epoch 7/100\n",
      "503/503 [==============================] - 55s 109ms/step - loss: 0.1843 - accuracy: 0.9284 - val_loss: 0.2046 - val_accuracy: 0.9235\n",
      " Learning rate:  0.001\n",
      "Epoch 8/100\n",
      "503/503 [==============================] - 56s 111ms/step - loss: 0.1776 - accuracy: 0.9314 - val_loss: 0.1898 - val_accuracy: 0.9263\n",
      " Learning rate:  0.001\n",
      "Epoch 9/100\n",
      "503/503 [==============================] - 56s 111ms/step - loss: 0.1707 - accuracy: 0.9342 - val_loss: 0.1888 - val_accuracy: 0.9285\n",
      " Learning rate:  0.001\n",
      "Epoch 10/100\n",
      "503/503 [==============================] - 56s 111ms/step - loss: 0.1662 - accuracy: 0.9360 - val_loss: 0.1881 - val_accuracy: 0.9290\n",
      " Learning rate:  0.001\n",
      "Epoch 11/100\n",
      "503/503 [==============================] - 56s 110ms/step - loss: 0.1647 - accuracy: 0.9372 - val_loss: 0.1850 - val_accuracy: 0.9298\n",
      " Learning rate:  0.001\n",
      "Epoch 12/100\n",
      "503/503 [==============================] - 56s 112ms/step - loss: 0.1574 - accuracy: 0.9397 - val_loss: 0.1913 - val_accuracy: 0.9265\n",
      " Learning rate:  0.001\n",
      "Epoch 13/100\n",
      "503/503 [==============================] - 55s 109ms/step - loss: 0.1567 - accuracy: 0.9396 - val_loss: 0.1855 - val_accuracy: 0.9286\n",
      " Learning rate:  0.001\n",
      "Epoch 14/100\n",
      "503/503 [==============================] - 55s 110ms/step - loss: 0.1524 - accuracy: 0.9419 - val_loss: 0.1897 - val_accuracy: 0.9305\n",
      " Learning rate:  0.001\n",
      "Epoch 15/100\n",
      "503/503 [==============================] - 55s 110ms/step - loss: 0.1498 - accuracy: 0.9435 - val_loss: 0.1937 - val_accuracy: 0.9277\n",
      " Learning rate:  0.001\n",
      "Epoch 16/100\n",
      "503/503 [==============================] - 55s 110ms/step - loss: 0.1465 - accuracy: 0.9438 - val_loss: 0.1837 - val_accuracy: 0.9312\n",
      " Learning rate:  0.001\n",
      "Epoch 17/100\n",
      "503/503 [==============================] - 55s 110ms/step - loss: 0.1431 - accuracy: 0.9459 - val_loss: 0.1975 - val_accuracy: 0.9243\n",
      " Learning rate:  0.001\n",
      "Epoch 18/100\n",
      "503/503 [==============================] - 55s 110ms/step - loss: 0.1421 - accuracy: 0.9460 - val_loss: 0.1816 - val_accuracy: 0.9320\n",
      " Learning rate:  0.001\n",
      "Epoch 19/100\n",
      "503/503 [==============================] - 56s 112ms/step - loss: 0.1410 - accuracy: 0.9461 - val_loss: 0.1898 - val_accuracy: 0.9318\n",
      " Learning rate:  0.001\n",
      "Epoch 20/100\n",
      "503/503 [==============================] - 55s 110ms/step - loss: 0.1359 - accuracy: 0.9489 - val_loss: 0.1818 - val_accuracy: 0.9316\n",
      " Learning rate:  0.001\n",
      "Epoch 21/100\n",
      "503/503 [==============================] - 55s 110ms/step - loss: 0.1356 - accuracy: 0.9485 - val_loss: 0.1799 - val_accuracy: 0.9327\n",
      " Learning rate:  0.0001\n",
      "Epoch 22/100\n",
      "503/503 [==============================] - 55s 110ms/step - loss: 0.1087 - accuracy: 0.9595 - val_loss: 0.1872 - val_accuracy: 0.9354\n",
      " Learning rate:  0.0001\n",
      "Epoch 23/100\n",
      "503/503 [==============================] - 55s 109ms/step - loss: 0.1024 - accuracy: 0.9624 - val_loss: 0.1883 - val_accuracy: 0.9350\n",
      " Learning rate:  0.0001\n",
      "Epoch 24/100\n",
      "503/503 [==============================] - 57s 112ms/step - loss: 0.0993 - accuracy: 0.9636 - val_loss: 0.1923 - val_accuracy: 0.9345\n",
      " Learning rate:  0.0001\n",
      "Epoch 25/100\n",
      "503/503 [==============================] - 55s 110ms/step - loss: 0.0973 - accuracy: 0.9645 - val_loss: 0.1933 - val_accuracy: 0.9347\n",
      " Learning rate:  0.0001\n",
      "Epoch 26/100\n",
      "503/503 [==============================] - 55s 109ms/step - loss: 0.0953 - accuracy: 0.9651 - val_loss: 0.1936 - val_accuracy: 0.9339\n",
      " Learning rate:  0.0001\n",
      "Epoch 27/100\n",
      "503/503 [==============================] - 55s 110ms/step - loss: 0.0945 - accuracy: 0.9655 - val_loss: 0.1974 - val_accuracy: 0.9341\n",
      " Learning rate:  0.0001\n",
      "Epoch 28/100\n",
      "503/503 [==============================] - 56s 111ms/step - loss: 0.0933 - accuracy: 0.9659 - val_loss: 0.1917 - val_accuracy: 0.9345\n",
      " Learning rate:  0.0001\n",
      "Epoch 29/100\n",
      "503/503 [==============================] - 55s 110ms/step - loss: 0.0923 - accuracy: 0.9662 - val_loss: 0.1954 - val_accuracy: 0.9343\n",
      " Learning rate:  0.0001\n",
      "Epoch 30/100\n",
      "503/503 [==============================] - 55s 110ms/step - loss: 0.0913 - accuracy: 0.9665 - val_loss: 0.1969 - val_accuracy: 0.9339\n",
      " Learning rate:  0.0001\n",
      "Epoch 31/100\n",
      "503/503 [==============================] - 56s 111ms/step - loss: 0.0900 - accuracy: 0.9672 - val_loss: 0.1993 - val_accuracy: 0.9343\n",
      " Learning rate:  0.0001\n",
      "Epoch 32/100\n",
      "503/503 [==============================] - 56s 111ms/step - loss: 0.0891 - accuracy: 0.9675 - val_loss: 0.2040 - val_accuracy: 0.9335\n",
      " Learning rate:  0.0001\n",
      "Epoch 33/100\n",
      "503/503 [==============================] - 55s 109ms/step - loss: 0.0883 - accuracy: 0.9679 - val_loss: 0.2053 - val_accuracy: 0.9336\n",
      " Learning rate:  0.0001\n",
      "Epoch 34/100\n",
      "503/503 [==============================] - 55s 109ms/step - loss: 0.0878 - accuracy: 0.9679 - val_loss: 0.2097 - val_accuracy: 0.9333\n",
      " Learning rate:  0.0001\n",
      "Epoch 35/100\n",
      "503/503 [==============================] - 54s 107ms/step - loss: 0.0877 - accuracy: 0.9681 - val_loss: 0.2120 - val_accuracy: 0.9328\n",
      " Learning rate:  0.0001\n",
      "Epoch 36/100\n",
      "503/503 [==============================] - 55s 110ms/step - loss: 0.0867 - accuracy: 0.9687 - val_loss: 0.2077 - val_accuracy: 0.9327\n",
      "Epoch 00036: early stopping\n"
     ]
    }
   ],
   "source": [
    "checkpoint_BLSTM = ModelCheckpoint(\"/mnt/vdb/thesis/best_model_BLSTM.4.hdf5\", monitor='loss', verbose=1,\n",
    "    save_best_only=True, mode='auto', period=1)\n",
    "\n",
    "# Early Stopping\n",
    "es = EarlyStopping(monitor='val_loss', patience=15, verbose=1)\n",
    "\n",
    "history_BLSTM = model_BLSTM.fit(X_train, y_train, epochs=100, batch_size=256, validation_data=(X_val, y_val),\n",
    "                     callbacks=[es,lr_scheduler], verbose=1)"
   ]
  },
  {
   "cell_type": "code",
   "execution_count": 13,
   "metadata": {
    "id": "nyvMdMU1UqD0"
   },
   "outputs": [],
   "source": [
    "model_BLSTM.save('/mnt/vdb/thesis/best_model_BLSTM.V4.h5') "
   ]
  },
  {
   "cell_type": "code",
   "execution_count": 10,
   "metadata": {
    "id": "UtViR8TYUp4i"
   },
   "outputs": [
    {
     "data": {
      "image/png": "[encoded data removed]",
      "text/plain": [
       "<Figure size 864x360 with 2 Axes>"
      ]
     },
     "metadata": {
      "needs_background": "light"
     },
     "output_type": "display_data"
    }
   ],
   "source": [
    "plot_history(history_BLSTM)"
   ]
  },
  {
   "cell_type": "code",
   "execution_count": 11,
   "metadata": {
    "id": "pR4uE8Gzfuw0"
   },
   "outputs": [
    {
     "name": "stdout",
     "output_type": "stream",
     "text": [
      "4018/4018 [==============================] - 46s 11ms/step - loss: 0.0804 - accuracy: 0.9717\n",
      "Train loss:  0.0804130882024765\n",
      "Train accuracy:  0.9716563820838928\n",
      "----------------------------------------------------------------------\n",
      "1340/1340 [==============================] - 15s 11ms/step - loss: 0.2077 - accuracy: 0.9327\n",
      "Val loss:  0.2076585441827774\n",
      "Val accuracy:  0.9327033162117004\n",
      "----------------------------------------------------------------------\n",
      "1340/1340 [==============================] - 15s 11ms/step - loss: 0.2121 - accuracy: 0.9314\n",
      "Test loss:  0.21209943294525146\n",
      "Test accuracy:  0.9314448237419128\n"
     ]
    }
   ],
   "source": [
    "display_model_score(model_BLSTM,\n",
    "    [X_train, y_train],\n",
    "    [X_val, y_val],\n",
    "    [X_test, y_test])"
   ]
  },
  {
   "cell_type": "code",
   "execution_count": 22,
   "metadata": {},
   "outputs": [
    {
     "data": {
      "text/plain": [
       "array([[[9.7694093e-01],\n",
       "        [9.7690183e-01],\n",
       "        [9.7948438e-01],\n",
       "        ...,\n",
       "        [9.8458117e-01],\n",
       "        [9.8582262e-01],\n",
       "        [9.8432964e-01]],\n",
       "\n",
       "       [[9.5548019e-02],\n",
       "        [1.1228124e-01],\n",
       "        [1.0063087e-01],\n",
       "        ...,\n",
       "        [9.5385477e-02],\n",
       "        [9.7495556e-02],\n",
       "        [1.2400813e-01]],\n",
       "\n",
       "       [[9.7842902e-01],\n",
       "        [9.8039311e-01],\n",
       "        [9.8057681e-01],\n",
       "        ...,\n",
       "        [9.8866218e-01],\n",
       "        [9.8838621e-01],\n",
       "        [9.7944438e-01]],\n",
       "\n",
       "       ...,\n",
       "\n",
       "       [[7.1135099e-04],\n",
       "        [1.3960534e-03],\n",
       "        [1.8303135e-03],\n",
       "        ...,\n",
       "        [2.8875249e-03],\n",
       "        [2.3981279e-03],\n",
       "        [2.0798075e-03]],\n",
       "\n",
       "       [[9.9862504e-01],\n",
       "        [9.9945158e-01],\n",
       "        [9.9951577e-01],\n",
       "        ...,\n",
       "        [9.9980479e-01],\n",
       "        [9.9961817e-01],\n",
       "        [9.9969149e-01]],\n",
       "\n",
       "       [[9.9397272e-01],\n",
       "        [9.9669373e-01],\n",
       "        [9.9685609e-01],\n",
       "        ...,\n",
       "        [9.9796665e-01],\n",
       "        [9.9815065e-01],\n",
       "        [9.9650097e-01]]], dtype=float32)"
      ]
     },
     "execution_count": 22,
     "metadata": {},
     "output_type": "execute_result"
    }
   ],
   "source": [
    "y_probas"
   ]
  },
  {
   "cell_type": "code",
   "execution_count": 12,
   "metadata": {
    "id": "Atr10FO4fuuE"
   },
   "outputs": [
    {
     "name": "stdout",
     "output_type": "stream",
     "text": [
      "              precision    recall  f1-score   support\n",
      "\n",
      "           0       0.93      0.93      0.93     21596\n",
      "           1       0.93      0.93      0.93     21260\n",
      "\n",
      "    accuracy                           0.93     42856\n",
      "   macro avg       0.93      0.93      0.93     42856\n",
      "weighted avg       0.93      0.93      0.93     42856\n",
      "\n"
     ]
    }
   ],
   "source": [
    "y_probas = model_BLSTM.predict(X_test)\n",
    "threshold = 0.5\n",
    "y_predict = np.where(y_probas > threshold, 1, 0)\n",
    "print(classification_report(y_test, y_predict))"
   ]
  },
  {
   "cell_type": "code",
   "execution_count": 82,
   "metadata": {},
   "outputs": [
    {
     "ename": "IndexError",
     "evalue": "invalid index to scalar variable.",
     "output_type": "error",
     "traceback": [
      "\u001b[0;31m---------------------------------------------------------------------------\u001b[0m",
      "\u001b[0;31mIndexError\u001b[0m                                Traceback (most recent call last)",
      "\u001b[0;32m<ipython-input-82-1ddc2d5d6aa8>\u001b[0m in \u001b[0;36m<module>\u001b[0;34m\u001b[0m\n\u001b[0;32m----> 1\u001b[0;31m \u001b[0my\u001b[0m \u001b[0;34m=\u001b[0m \u001b[0;34m[\u001b[0m \u001b[0my_predict\u001b[0m\u001b[0;34m[\u001b[0m\u001b[0mi\u001b[0m\u001b[0;34m]\u001b[0m\u001b[0;34m[\u001b[0m\u001b[0;36m0\u001b[0m\u001b[0;34m]\u001b[0m\u001b[0;34m[\u001b[0m\u001b[0;36m0\u001b[0m\u001b[0;34m]\u001b[0m \u001b[0;32mfor\u001b[0m \u001b[0mi\u001b[0m \u001b[0;32min\u001b[0m \u001b[0mrange\u001b[0m\u001b[0;34m(\u001b[0m\u001b[0;36m0\u001b[0m\u001b[0;34m,\u001b[0m\u001b[0mlen\u001b[0m\u001b[0;34m(\u001b[0m\u001b[0my_predict\u001b[0m\u001b[0;34m)\u001b[0m\u001b[0;34m)\u001b[0m\u001b[0;34m]\u001b[0m\u001b[0;34m\u001b[0m\u001b[0;34m\u001b[0m\u001b[0m\n\u001b[0m\u001b[1;32m      2\u001b[0m \u001b[0my_predict\u001b[0m \u001b[0;34m=\u001b[0m \u001b[0mnp\u001b[0m\u001b[0;34m.\u001b[0m\u001b[0masarray\u001b[0m\u001b[0;34m(\u001b[0m\u001b[0my\u001b[0m\u001b[0;34m)\u001b[0m\u001b[0;34m\u001b[0m\u001b[0;34m\u001b[0m\u001b[0m\n",
      "\u001b[0;32m<ipython-input-82-1ddc2d5d6aa8>\u001b[0m in \u001b[0;36m<listcomp>\u001b[0;34m(.0)\u001b[0m\n\u001b[0;32m----> 1\u001b[0;31m \u001b[0my\u001b[0m \u001b[0;34m=\u001b[0m \u001b[0;34m[\u001b[0m \u001b[0my_predict\u001b[0m\u001b[0;34m[\u001b[0m\u001b[0mi\u001b[0m\u001b[0;34m]\u001b[0m\u001b[0;34m[\u001b[0m\u001b[0;36m0\u001b[0m\u001b[0;34m]\u001b[0m\u001b[0;34m[\u001b[0m\u001b[0;36m0\u001b[0m\u001b[0;34m]\u001b[0m \u001b[0;32mfor\u001b[0m \u001b[0mi\u001b[0m \u001b[0;32min\u001b[0m \u001b[0mrange\u001b[0m\u001b[0;34m(\u001b[0m\u001b[0;36m0\u001b[0m\u001b[0;34m,\u001b[0m\u001b[0mlen\u001b[0m\u001b[0;34m(\u001b[0m\u001b[0my_predict\u001b[0m\u001b[0;34m)\u001b[0m\u001b[0;34m)\u001b[0m\u001b[0;34m]\u001b[0m\u001b[0;34m\u001b[0m\u001b[0;34m\u001b[0m\u001b[0m\n\u001b[0m\u001b[1;32m      2\u001b[0m \u001b[0my_predict\u001b[0m \u001b[0;34m=\u001b[0m \u001b[0mnp\u001b[0m\u001b[0;34m.\u001b[0m\u001b[0masarray\u001b[0m\u001b[0;34m(\u001b[0m\u001b[0my\u001b[0m\u001b[0;34m)\u001b[0m\u001b[0;34m\u001b[0m\u001b[0;34m\u001b[0m\u001b[0m\n",
      "\u001b[0;31mIndexError\u001b[0m: invalid index to scalar variable."
     ]
    }
   ],
   "source": [
    "y = [ y_predict[i][0][0] for i in range(0,len(y_predict))]  \n",
    "y_predict = np.asarray(y)"
   ]
  },
  {
   "cell_type": "code",
   "execution_count": 83,
   "metadata": {},
   "outputs": [
    {
     "name": "stdout",
     "output_type": "stream",
     "text": [
      "              precision    recall  f1-score   support\n",
      "\n",
      "           0       0.93      0.93      0.93     21596\n",
      "           1       0.93      0.93      0.93     21260\n",
      "\n",
      "    accuracy                           0.93     42856\n",
      "   macro avg       0.93      0.93      0.93     42856\n",
      "weighted avg       0.93      0.93      0.93     42856\n",
      "\n"
     ]
    }
   ],
   "source": [
    "print(classification_report(y_test, y_predict))"
   ]
  },
  {
   "cell_type": "code",
   "execution_count": 37,
   "metadata": {},
   "outputs": [
    {
     "data": {
      "text/plain": [
       "(42856, 19, 1)"
      ]
     },
     "execution_count": 37,
     "metadata": {},
     "output_type": "execute_result"
    }
   ],
   "source": []
  },
  {
   "cell_type": "markdown",
   "metadata": {
    "id": "fALQEI9g4Ejn"
   },
   "source": [
    "# Conclusion"
   ]
  },
  {
   "cell_type": "code",
   "execution_count": null,
   "metadata": {
    "id": "Gh0Zvl9j4E38"
   },
   "outputs": [],
   "source": []
  }
 ],
 "metadata": {
  "accelerator": "GPU",
  "colab": {
   "collapsed_sections": [],
   "name": "CustomDNNModel.ipynb",
   "provenance": [],
   "toc_visible": true
  },
  "kernelspec": {
   "display_name": "Python 3",
   "language": "python",
   "name": "python3"
  },
  "language_info": {
   "codemirror_mode": {
    "name": "ipython",
    "version": 3
   },
   "file_extension": ".py",
   "mimetype": "text/x-python",
   "name": "python",
   "nbconvert_exporter": "python",
   "pygments_lexer": "ipython3",
   "version": "3.7.9"
  }
 },
 "nbformat": 4,
 "nbformat_minor": 4
}
