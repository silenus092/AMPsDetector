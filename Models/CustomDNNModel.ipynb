{
 "cells": [
  {
   "cell_type": "code",
   "execution_count": 1,
   "metadata": {},
   "outputs": [
    {
     "name": "stdout",
     "output_type": "stream",
     "text": [
      "[name: \"/device:CPU:0\"\n",
      "device_type: \"CPU\"\n",
      "memory_limit: 268435456\n",
      "locality {\n",
      "}\n",
      "incarnation: 15476060973695832596\n",
      ", name: \"/device:XLA_CPU:0\"\n",
      "device_type: \"XLA_CPU\"\n",
      "memory_limit: 17179869184\n",
      "locality {\n",
      "}\n",
      "incarnation: 17528611527058447927\n",
      "physical_device_desc: \"device: XLA_CPU device\"\n",
      ", name: \"/device:XLA_GPU:0\"\n",
      "device_type: \"XLA_GPU\"\n",
      "memory_limit: 17179869184\n",
      "locality {\n",
      "}\n",
      "incarnation: 8591421255042219751\n",
      "physical_device_desc: \"device: XLA_GPU device\"\n",
      ", name: \"/device:GPU:0\"\n",
      "device_type: \"GPU\"\n",
      "memory_limit: 31595870336\n",
      "locality {\n",
      "  bus_id: 1\n",
      "  links {\n",
      "  }\n",
      "}\n",
      "incarnation: 4878201874569329223\n",
      "physical_device_desc: \"device: 0, name: Tesla V100-PCIE-32GB, pci bus id: 0000:00:06.0, compute capability: 7.0\"\n",
      "]\n"
     ]
    }
   ],
   "source": [
    "from tensorflow.python.client import device_lib\n",
    "print(device_lib.list_local_devices())"
   ]
  },
  {
   "cell_type": "code",
   "execution_count": 1,
   "metadata": {
    "id": "4aBzk8QXHS9S"
   },
   "outputs": [],
   "source": [
    "import os\n",
    "import gc\n",
    "\n",
    "import numpy as np\n",
    "import pandas as pd\n",
    "import matplotlib.pyplot as plt\n",
    "import matplotlib.patches as patches\n",
    "import seaborn as sns\n",
    "\n",
    "from collections import Counter\n",
    "from prettytable import PrettyTable\n",
    "from IPython.display import Image\n",
    "from sklearn.model_selection import train_test_split\n",
    "from sklearn.model_selection import cross_val_score\n",
    "from sklearn.model_selection import StratifiedKFold\n",
    "from sklearn.metrics import roc_curve,auc\n",
    "from tensorflow.keras.wrappers.scikit_learn import KerasClassifier\n",
    "from tensorflow.keras.callbacks import LearningRateScheduler\n",
    "from tensorflow.keras.models import Model\n",
    "from tensorflow.keras.regularizers import l2\n",
    "from tensorflow.keras.constraints import max_norm\n",
    "from tensorflow.keras.callbacks import EarlyStopping\n",
    "from tensorflow.keras.layers import Input, Dense, Dropout, Flatten, Activation\n",
    "from tensorflow.keras.layers import Conv1D, Add, MaxPooling1D, BatchNormalization \n",
    "from tensorflow.keras.layers import Embedding, Bidirectional, GlobalMaxPooling1D\n",
    "from tensorflow.python.keras.layers.recurrent import LSTM\n",
    "from tensorflow.keras.optimizers import Adam\n",
    "# CuDNNLSTM error; The error was because from TensorFlow 2 you do not need to specify CuDNNLSTM. \n",
    "# You can just use LSTM with no activation function and it will automatically use the CuDNN version. You do have to install CuDNN first.\n",
    "\n",
    "from tensorflow.keras.callbacks import ModelCheckpoint\n",
    "from sklearn.metrics import classification_report, confusion_matrix, accuracy_score\n",
    "\n",
    "import pickle5 as pickle"
   ]
  },
  {
   "cell_type": "code",
   "execution_count": 2,
   "metadata": {},
   "outputs": [],
   "source": [
    "# For PWS\n",
    "with open( '/mnt/vdb/thesis/pwm/AMPnonAMP.sim60_c08.pssm.pkl', 'rb') as file:\n",
    "    AMPs_df = pickle.load(file)"
   ]
  },
  {
   "cell_type": "code",
   "execution_count": 2,
   "metadata": {
    "id": "FNhtXHJrfEE4"
   },
   "outputs": [],
   "source": [
    "\n",
    "with open( \"/mnt/vdb/thesis/jax/AMPNonAMP.V5_C08_sim60.reps\", 'rb') as file:\n",
    "    AMPs_df = pickle.load(file)"
   ]
  },
  {
   "cell_type": "code",
   "execution_count": 4,
   "metadata": {
    "colab": {
     "base_uri": "https://localhost:8080/",
     "height": 597
    },
    "id": "mGiMSzzPfj2t",
    "outputId": "092eb611-b89c-4cac-c8c4-0557799510cf"
   },
   "outputs": [
    {
     "data": {
      "text/html": [
       "<div>\n",
       "<style scoped>\n",
       "    .dataframe tbody tr th:only-of-type {\n",
       "        vertical-align: middle;\n",
       "    }\n",
       "\n",
       "    .dataframe tbody tr th {\n",
       "        vertical-align: top;\n",
       "    }\n",
       "\n",
       "    .dataframe thead th {\n",
       "        text-align: right;\n",
       "    }\n",
       "</style>\n",
       "<table border=\"1\" class=\"dataframe\">\n",
       "  <thead>\n",
       "    <tr style=\"text-align: right;\">\n",
       "      <th></th>\n",
       "      <th>ID</th>\n",
       "      <th>length</th>\n",
       "      <th>class</th>\n",
       "      <th>reps</th>\n",
       "    </tr>\n",
       "  </thead>\n",
       "  <tbody>\n",
       "    <tr>\n",
       "      <th>261</th>\n",
       "      <td>0_antitbpred|antitbpred</td>\n",
       "      <td>33</td>\n",
       "      <td>0</td>\n",
       "      <td>[0.021885789930820465, 0.06677412241697311, 0....</td>\n",
       "    </tr>\n",
       "    <tr>\n",
       "      <th>17</th>\n",
       "      <td>0_peptideDB.anti|peptideDB.anti</td>\n",
       "      <td>148</td>\n",
       "      <td>0</td>\n",
       "      <td>[0.00609204825013876, -0.07883947342634201, 0....</td>\n",
       "    </tr>\n",
       "    <tr>\n",
       "      <th>226</th>\n",
       "      <td>1000_pos_train_ds3|pos_train_ds3</td>\n",
       "      <td>86</td>\n",
       "      <td>0</td>\n",
       "      <td>[0.012824639678001404, 0.0021224096417427063, ...</td>\n",
       "    </tr>\n",
       "    <tr>\n",
       "      <th>302</th>\n",
       "      <td>10023_dbaasp|dbaasp_peptides</td>\n",
       "      <td>36</td>\n",
       "      <td>0</td>\n",
       "      <td>[0.003721927758306265, -0.07121428847312927, -...</td>\n",
       "    </tr>\n",
       "    <tr>\n",
       "      <th>60</th>\n",
       "      <td>1003,1011,1019,1027,1035|CancerPPD_l_natural</td>\n",
       "      <td>20</td>\n",
       "      <td>0</td>\n",
       "      <td>[0.02940366230905056, 0.001728760078549385, -0...</td>\n",
       "    </tr>\n",
       "    <tr>\n",
       "      <th>...</th>\n",
       "      <td>...</td>\n",
       "      <td>...</td>\n",
       "      <td>...</td>\n",
       "      <td>...</td>\n",
       "    </tr>\n",
       "    <tr>\n",
       "      <th>456</th>\n",
       "      <td>tagenome__1003787_1003787.scaffolds.fasta_scaf...</td>\n",
       "      <td>47</td>\n",
       "      <td>0</td>\n",
       "      <td>[0.019306708127260208, -0.030069835484027863, ...</td>\n",
       "    </tr>\n",
       "    <tr>\n",
       "      <th>171</th>\n",
       "      <td>tagenome__1003787_1003787.scaffolds.fasta_scaf...</td>\n",
       "      <td>60</td>\n",
       "      <td>0</td>\n",
       "      <td>[0.011303016915917397, -0.07055054605007172, 0...</td>\n",
       "    </tr>\n",
       "    <tr>\n",
       "      <th>283</th>\n",
       "      <td>tagenome__1003787_1003787.scaffolds.fasta_scaf...</td>\n",
       "      <td>58</td>\n",
       "      <td>0</td>\n",
       "      <td>[0.014870524406433105, -0.13572746515274048, 0...</td>\n",
       "    </tr>\n",
       "    <tr>\n",
       "      <th>148</th>\n",
       "      <td>tagenome__1003787_1003787.scaffolds.fasta_scaf...</td>\n",
       "      <td>56</td>\n",
       "      <td>0</td>\n",
       "      <td>[0.010077092796564102, -0.07801175117492676, 0...</td>\n",
       "    </tr>\n",
       "    <tr>\n",
       "      <th>302</th>\n",
       "      <td>tagenome__1003787_1003787.scaffolds.fasta_scaf...</td>\n",
       "      <td>90</td>\n",
       "      <td>0</td>\n",
       "      <td>[0.011703676544129848, -0.029389584437012672, ...</td>\n",
       "    </tr>\n",
       "  </tbody>\n",
       "</table>\n",
       "<p>214276 rows × 4 columns</p>\n",
       "</div>"
      ],
      "text/plain": [
       "                                                    ID  length  class  \\\n",
       "261                            0_antitbpred|antitbpred      33      0   \n",
       "17                     0_peptideDB.anti|peptideDB.anti     148      0   \n",
       "226                   1000_pos_train_ds3|pos_train_ds3      86      0   \n",
       "302                       10023_dbaasp|dbaasp_peptides      36      0   \n",
       "60        1003,1011,1019,1027,1035|CancerPPD_l_natural      20      0   \n",
       "..                                                 ...     ...    ...   \n",
       "456  tagenome__1003787_1003787.scaffolds.fasta_scaf...      47      0   \n",
       "171  tagenome__1003787_1003787.scaffolds.fasta_scaf...      60      0   \n",
       "283  tagenome__1003787_1003787.scaffolds.fasta_scaf...      58      0   \n",
       "148  tagenome__1003787_1003787.scaffolds.fasta_scaf...      56      0   \n",
       "302  tagenome__1003787_1003787.scaffolds.fasta_scaf...      90      0   \n",
       "\n",
       "                                                  reps  \n",
       "261  [0.021885789930820465, 0.06677412241697311, 0....  \n",
       "17   [0.00609204825013876, -0.07883947342634201, 0....  \n",
       "226  [0.012824639678001404, 0.0021224096417427063, ...  \n",
       "302  [0.003721927758306265, -0.07121428847312927, -...  \n",
       "60   [0.02940366230905056, 0.001728760078549385, -0...  \n",
       "..                                                 ...  \n",
       "456  [0.019306708127260208, -0.030069835484027863, ...  \n",
       "171  [0.011303016915917397, -0.07055054605007172, 0...  \n",
       "283  [0.014870524406433105, -0.13572746515274048, 0...  \n",
       "148  [0.010077092796564102, -0.07801175117492676, 0...  \n",
       "302  [0.011703676544129848, -0.029389584437012672, ...  \n",
       "\n",
       "[214276 rows x 4 columns]"
      ]
     },
     "execution_count": 4,
     "metadata": {},
     "output_type": "execute_result"
    }
   ],
   "source": [
    "#AMPs_df.drop_duplicates(subset=['Sequence'],inplace=True)\n",
    "AMPs_df"
   ]
  },
  {
   "cell_type": "markdown",
   "metadata": {
    "id": "g2i7Tk41aDZ5"
   },
   "source": [
    "### Utility function: plot_history, display_model_score"
   ]
  },
  {
   "cell_type": "code",
   "execution_count": 2,
   "metadata": {},
   "outputs": [],
   "source": [
    "from sklearn.metrics import precision_recall_curve\n",
    "from sklearn.metrics import plot_precision_recall_curve\n",
    "from sklearn.metrics import average_precision_score\n",
    "from matplotlib import pyplot\n",
    "\n",
    "def create_roc_curve(labels, scores):\n",
    "    fpr, tpr, thresholds = roc_curve(labels, scores)\n",
    "    roc_auc = auc(fpr, tpr)  \n",
    "\n",
    "    plt.title('Receiver Operating Characteristic' )\n",
    "    plt.plot(fpr, tpr, 'b', label='AUC = %0.2f'% roc_auc)\n",
    "\n",
    "    plt.legend(loc='lower right')\n",
    "    plt.plot([0,1],[0,1],'r--')\n",
    "    plt.xlim([-0.1,1.2])\n",
    "    plt.ylim([-0.1,1.2])\n",
    "    plt.xlabel('False Positive Rate or (1 - Specifity)')\n",
    "    plt.ylabel('True Positive Rate or (Sensitivity)')\n",
    "    plt.show()\n",
    "\n",
    "# plot no skill and model precision-recall curves\n",
    "def plot_pr_curve(test_y, model_probs):\n",
    "    precision, recall, _ = precision_recall_curve(test_y, model_probs)\n",
    "    auc_score = auc(recall, precision)\n",
    "    # calculate the no skill line as the proportion of the positive class\n",
    "    no_skill = len(test_y[test_y==1]) / len(test_y)\n",
    "    pyplot.title('2-class Precision-Recall curve')\n",
    "    # plot the no skill precision-recall curve\n",
    "    pyplot.plot([0, 1], [no_skill, no_skill], linestyle='--', label='No Skill')\n",
    "    # plot model precis|ion-recall curve\n",
    "    precision, recall, _ = precision_recall_curve(test_y, model_probs)\n",
    "    pyplot.plot(recall, precision, marker='.', label='Model AUC = %0.2f'% auc_score)\n",
    "    # axis labels\n",
    "    pyplot.xlabel('Recall')\n",
    "    pyplot.ylabel('Precision')\n",
    "    # show the legend\n",
    "    pyplot.legend()\n",
    "    # show the plot\n",
    "    pyplot.show()"
   ]
  },
  {
   "cell_type": "code",
   "execution_count": 3,
   "metadata": {
    "id": "7F7ykQsDVxHO"
   },
   "outputs": [],
   "source": [
    "def plot_history(history):\n",
    "  # dict_keys(['loss', 'accuracy', 'val_loss', 'val_accuracy'])\n",
    "  acc = history.history['accuracy']\n",
    "  val_acc = history.history['val_accuracy']\n",
    "  loss = history.history['loss']\n",
    "  val_loss = history.history['val_loss']\n",
    "  x = range(1, len(acc) + 1)\n",
    "\n",
    "  plt.figure(figsize=(12, 5))\n",
    "  plt.subplot(1, 2, 1)\n",
    "  plt.plot(x, acc, 'b', label='Training acc')\n",
    "  plt.plot(x, val_acc, 'r', label='Validation acc')\n",
    "  plt.title('Training and validation accuracy')\n",
    "  plt.legend()\n",
    "\n",
    "  plt.subplot(1, 2, 2)\n",
    "  plt.plot(x, loss, 'b', label='Training loss')\n",
    "  plt.plot(x, val_loss, 'r', label='Validation loss')\n",
    "  plt.title('Training and validation loss')\n",
    "  plt.legend()\n",
    "\n",
    "# Display model score(Loss & Accuracy) across all sets.\n",
    "def display_model_score(model, train, val, test):\n",
    "  train_score = model.evaluate(train[0], train[1], verbose=1)\n",
    "  print('Train loss: ', train_score[0])\n",
    "  print('Train accuracy: ', train_score[1])\n",
    "  print('-'*70)\n",
    "  val_score = model.evaluate(val[0], val[1], verbose=1)\n",
    "  print('Val loss: ', val_score[0])\n",
    "  print('Val accuracy: ', val_score[1])\n",
    "  print('-'*70)\n",
    "  test_score = model.evaluate(test[0], test[1], verbose=1)\n",
    "  print('Test loss: ', test_score[0])\n",
    "  print('Test accuracy: ', test_score[1])\n",
    "\n",
    "def plot_history_CV(cv, estimator,x,y):\n",
    "  # plot arrows\n",
    "  fig1 = plt.figure(figsize=[12,12])\n",
    "  ax1 = fig1.add_subplot(111,aspect = 'equal')\n",
    "  ax1.add_patch(\n",
    "      patches.Arrow(0.45,0.5,-0.25,0.25,width=0.3,color='green',alpha = 0.5)\n",
    "      )\n",
    "  ax1.add_patch(\n",
    "      patches.Arrow(0.5,0.45,0.25,-0.25,width=0.3,color='red',alpha = 0.5)\n",
    "      )\n",
    "\n",
    "  tprs = []\n",
    "  aucs = []\n",
    "  mean_fpr = np.linspace(0,1,100)\n",
    "  i = 1\n",
    "  for train,test in cv.split(x,y):\n",
    "      model = create_Modelbaseline()\n",
    "      model.fit(x[train],y.iloc[train],\n",
    "            epochs=30,\n",
    "            shuffle=True,verbose=0)\n",
    "      prediction = model.predict(x[test])\n",
    "      fpr, tpr, t = roc_curve(y[test], prediction[:, 1])\n",
    "      tprs.append(interp(mean_fpr, fpr, tpr))\n",
    "      roc_auc = auc(fpr, tpr)\n",
    "      aucs.append(roc_auc)\n",
    "      plt.plot(fpr, tpr, lw=2, alpha=0.3, label='ROC fold %d (AUC = %0.2f)' % (i, roc_auc))\n",
    "      i= i+1\n",
    "\n",
    "  plt.plot([0,1],[0,1],linestyle = '--',lw = 2,color = 'black')\n",
    "  mean_tpr = np.mean(tprs, axis=0)\n",
    "  mean_auc = auc(mean_fpr, mean_tpr)\n",
    "  plt.plot(mean_fpr, mean_tpr, color='blue',\n",
    "          label=r'Mean ROC (AUC = %0.2f )' % (mean_auc),lw=2, alpha=1)\n",
    "\n",
    "  plt.xlabel('False Positive Rate')\n",
    "  plt.ylabel('True Positive Rate')\n",
    "  plt.title('ROC')\n",
    "  plt.legend(loc=\"lower right\")\n",
    "  plt.text(0.32,0.7,'More accurate area',fontsize = 12)\n",
    "  plt.text(0.63,0.4,'Less accurate area',fontsize = 12)\n",
    "  plt.show()"
   ]
  },
  {
   "cell_type": "markdown",
   "metadata": {
    "id": "nI-_ZAvfIb5A"
   },
   "source": [
    "# Split Train/ Test / Validation set"
   ]
  },
  {
   "cell_type": "code",
   "execution_count": 11,
   "metadata": {},
   "outputs": [],
   "source": [
    "# For PWM -400 dimension\n",
    "\n",
    "Y1 =np.array([0] * 68869 + [1] * 68520)\n",
    "X_train, X_test, y_train, y_test = train_test_split(AMPs_df, Y1, test_size=0.2, random_state=42)\n",
    "X_train, X_val, y_train, y_val = train_test_split(X_train, y_train, test_size=0.25, random_state=1)"
   ]
  },
  {
   "cell_type": "code",
   "execution_count": 7,
   "metadata": {
    "id": "EkmqGqfUT0XR"
   },
   "outputs": [
    {
     "data": {
      "text/plain": [
       "(88692, 1900)"
      ]
     },
     "execution_count": 7,
     "metadata": {},
     "output_type": "execute_result"
    }
   ],
   "source": [
    "input_shape  = X.shape\n",
    "input_shape"
   ]
  },
  {
   "cell_type": "code",
   "execution_count": 16,
   "metadata": {
    "id": "UWQ2IZWgIbST"
   },
   "outputs": [],
   "source": [
    "#X= np.array(AMPs_df['reps'].to_list())\n",
    "#y= np.array(AMPs_df['class'].to_list())\n",
    "X_train, X_test, y_train, y_test = train_test_split(np.array(AMPs_df['reps'].to_list()), np.array(AMPs_df['class'].to_list()), test_size=0.2, random_state=42, shuffle= True)\n",
    "X_train, X_val, y_train, y_val = train_test_split(X_train, y_train, test_size=0.25, random_state=42, shuffle= True) # 0.25 x 0.8 = 0.2"
   ]
  },
  {
   "cell_type": "code",
   "execution_count": 17,
   "metadata": {
    "colab": {
     "base_uri": "https://localhost:8080/",
     "height": 73
    },
    "id": "IM7Scdevkwpp",
    "outputId": "55fa7ea6-a5f9-4e23-bf42-f1a4bf64f8a3"
   },
   "outputs": [
    {
     "name": "stdout",
     "output_type": "stream",
     "text": [
      "Train size:  51873\n",
      "Val size:  17292\n",
      "Test size:  17292\n"
     ]
    }
   ],
   "source": [
    "# Given data size\n",
    "print('Train size: ', len(X_train))\n",
    "print('Val size: ', len(X_val))\n",
    "print('Test size: ', len(X_test))"
   ]
  },
  {
   "cell_type": "markdown",
   "metadata": {
    "id": "9dHnNnR7IAAs"
   },
   "source": [
    "# Model 1: Our simple model "
   ]
  },
  {
   "cell_type": "markdown",
   "metadata": {
    "id": "4tb99vdzJc6A"
   },
   "source": [
    "## Keras"
   ]
  },
  {
   "cell_type": "code",
   "execution_count": 13,
   "metadata": {
    "id": "rnEsdsHWJf2B"
   },
   "outputs": [],
   "source": [
    "def create_Modelbaseline():\n",
    "  x_input = Input(shape=(1900,))\n",
    "  layer_0 = Dense(1600)(x_input)\n",
    "  dropout_0 = BatchNormalization()(layer_0)\n",
    "  layer_1 = Dense(1200)(dropout_0)\n",
    "  dropout_1 = BatchNormalization()(layer_1)\n",
    "  layer_2 = Dense(800)(dropout_1)\n",
    "  dropout_2 = Dropout(0.5)(layer_2)\n",
    "  layer_3 = Dense(512)(dropout_2)\n",
    "  dropout_3 = Dropout(0.5)(layer_3)\n",
    "  x_output = Dense(1, activation='sigmoid', name='output_layer')(dropout_3)\n",
    "\n",
    "  model = Model(inputs=x_input, outputs=x_output)\n",
    "  model.compile(optimizer=Adam(lr=0.0001), loss='binary_crossentropy', metrics=['accuracy'])\n",
    "  return model"
   ]
  },
  {
   "cell_type": "code",
   "execution_count": 14,
   "metadata": {
    "colab": {
     "base_uri": "https://localhost:8080/",
     "height": 616
    },
    "id": "5BiM6J7tJf5u",
    "outputId": "b5c8a8bb-1ff7-4fd0-ec9d-e60926bddf15"
   },
   "outputs": [
    {
     "name": "stdout",
     "output_type": "stream",
     "text": [
      "Model: \"functional_3\"\n",
      "_________________________________________________________________\n",
      "Layer (type)                 Output Shape              Param #   \n",
      "=================================================================\n",
      "input_3 (InputLayer)         [(None, 1900)]            0         \n",
      "_________________________________________________________________\n",
      "dense_9 (Dense)              (None, 1600)              3041600   \n",
      "_________________________________________________________________\n",
      "batch_normalization_2 (Batch (None, 1600)              6400      \n",
      "_________________________________________________________________\n",
      "dense_10 (Dense)             (None, 1200)              1921200   \n",
      "_________________________________________________________________\n",
      "batch_normalization_3 (Batch (None, 1200)              4800      \n",
      "_________________________________________________________________\n",
      "dense_11 (Dense)             (None, 800)               960800    \n",
      "_________________________________________________________________\n",
      "dropout_7 (Dropout)          (None, 800)               0         \n",
      "_________________________________________________________________\n",
      "dense_12 (Dense)             (None, 512)               410112    \n",
      "_________________________________________________________________\n",
      "dropout_8 (Dropout)          (None, 512)               0         \n",
      "_________________________________________________________________\n",
      "output_layer (Dense)         (None, 1)                 513       \n",
      "=================================================================\n",
      "Total params: 6,345,425\n",
      "Trainable params: 6,339,825\n",
      "Non-trainable params: 5,600\n",
      "_________________________________________________________________\n"
     ]
    }
   ],
   "source": [
    " model = create_Modelbaseline()\n",
    " model.summary()"
   ]
  },
  {
   "cell_type": "code",
   "execution_count": 4,
   "metadata": {},
   "outputs": [],
   "source": [
    "#from keras import backend as K\n",
    "#K.set_value(model_ProtCNN.optimizer.learning_rate, 0.00001)\n",
    "def lr_schedule(epoch):\n",
    "    \n",
    "    lr = 1e-3\n",
    "    if epoch > 80:\n",
    "        lr = 0.1e-6\n",
    "    elif epoch > 50:    \n",
    "        lr = 0.3e-5\n",
    "    elif epoch > 20:\n",
    "        lr = 1e-4\n",
    "        \n",
    "    print(' Learning rate: ', lr)    \n",
    "    return lr \n",
    "\n",
    "\n",
    "# Early Stopping\n",
    "es = EarlyStopping(monitor='val_loss', patience=15, verbose=1)\n",
    "\n",
    "#learning rate decay\n",
    "lr_scheduler = LearningRateScheduler(lr_schedule)"
   ]
  },
  {
   "cell_type": "code",
   "execution_count": 16,
   "metadata": {
    "colab": {
     "base_uri": "https://localhost:8080/",
     "height": 1000
    },
    "id": "fn-5xjDBV0Fs",
    "outputId": "1627a5ba-ef0d-482e-d621-12d8be92ad57",
    "scrolled": true
   },
   "outputs": [
    {
     "name": "stdout",
     "output_type": "stream",
     "text": [
      " Learning rate:  0.001\n",
      "Epoch 1/100\n",
      "2577/2577 - 9s - loss: 0.6304 - accuracy: 0.8112 - val_loss: 0.3955 - val_accuracy: 0.8451\n",
      " Learning rate:  0.001\n",
      "Epoch 2/100\n",
      "2577/2577 - 8s - loss: 0.3763 - accuracy: 0.8482 - val_loss: 0.3233 - val_accuracy: 0.8646\n",
      " Learning rate:  0.001\n",
      "Epoch 3/100\n",
      "2577/2577 - 8s - loss: 0.3628 - accuracy: 0.8551 - val_loss: 0.3210 - val_accuracy: 0.8682\n",
      " Learning rate:  0.001\n",
      "Epoch 4/100\n",
      "2577/2577 - 8s - loss: 0.3402 - accuracy: 0.8629 - val_loss: 0.3486 - val_accuracy: 0.8537\n",
      " Learning rate:  0.001\n",
      "Epoch 5/100\n",
      "2577/2577 - 8s - loss: 0.3295 - accuracy: 0.8657 - val_loss: 0.3159 - val_accuracy: 0.8683\n",
      " Learning rate:  0.001\n",
      "Epoch 6/100\n",
      "2577/2577 - 9s - loss: 0.3235 - accuracy: 0.8691 - val_loss: 0.3194 - val_accuracy: 0.8782\n",
      " Learning rate:  0.001\n",
      "Epoch 7/100\n",
      "2577/2577 - 9s - loss: 0.3193 - accuracy: 0.8710 - val_loss: 0.3013 - val_accuracy: 0.8775\n",
      " Learning rate:  0.001\n",
      "Epoch 8/100\n",
      "2577/2577 - 8s - loss: 0.3148 - accuracy: 0.8719 - val_loss: 0.2943 - val_accuracy: 0.8771\n",
      " Learning rate:  0.001\n",
      "Epoch 9/100\n",
      "2577/2577 - 8s - loss: 0.3121 - accuracy: 0.8742 - val_loss: 0.2889 - val_accuracy: 0.8824\n",
      " Learning rate:  0.001\n",
      "Epoch 10/100\n",
      "2577/2577 - 8s - loss: 0.3120 - accuracy: 0.8737 - val_loss: 0.2951 - val_accuracy: 0.8771\n",
      " Learning rate:  0.001\n",
      "Epoch 11/100\n",
      "2577/2577 - 8s - loss: 0.3082 - accuracy: 0.8758 - val_loss: 0.3119 - val_accuracy: 0.8702\n",
      " Learning rate:  0.001\n",
      "Epoch 12/100\n",
      "2577/2577 - 8s - loss: 0.3082 - accuracy: 0.8755 - val_loss: 0.2974 - val_accuracy: 0.8781\n",
      " Learning rate:  0.001\n",
      "Epoch 13/100\n",
      "2577/2577 - 8s - loss: 0.3064 - accuracy: 0.8774 - val_loss: 0.3019 - val_accuracy: 0.8825\n",
      " Learning rate:  0.001\n",
      "Epoch 14/100\n",
      "2577/2577 - 8s - loss: 0.3042 - accuracy: 0.8775 - val_loss: 0.2941 - val_accuracy: 0.8801\n",
      " Learning rate:  0.001\n",
      "Epoch 15/100\n",
      "2577/2577 - 8s - loss: 0.3043 - accuracy: 0.8783 - val_loss: 0.2936 - val_accuracy: 0.8811\n",
      " Learning rate:  0.001\n",
      "Epoch 16/100\n",
      "2577/2577 - 8s - loss: 0.3027 - accuracy: 0.8780 - val_loss: 0.2921 - val_accuracy: 0.8821\n",
      " Learning rate:  0.001\n",
      "Epoch 17/100\n",
      "2577/2577 - 8s - loss: 0.3009 - accuracy: 0.8796 - val_loss: 0.2931 - val_accuracy: 0.8831\n",
      " Learning rate:  0.001\n",
      "Epoch 18/100\n",
      "2577/2577 - 9s - loss: 0.2996 - accuracy: 0.8804 - val_loss: 0.3177 - val_accuracy: 0.8787\n",
      " Learning rate:  0.001\n",
      "Epoch 19/100\n",
      "2577/2577 - 9s - loss: 0.2996 - accuracy: 0.8807 - val_loss: 0.2918 - val_accuracy: 0.8840\n",
      " Learning rate:  0.001\n",
      "Epoch 20/100\n",
      "2577/2577 - 8s - loss: 0.2974 - accuracy: 0.8817 - val_loss: 0.2926 - val_accuracy: 0.8788\n",
      " Learning rate:  0.001\n",
      "Epoch 21/100\n",
      "2577/2577 - 8s - loss: 0.2980 - accuracy: 0.8810 - val_loss: 0.3019 - val_accuracy: 0.8758\n",
      " Learning rate:  0.0001\n",
      "Epoch 22/100\n",
      "2577/2577 - 8s - loss: 0.2761 - accuracy: 0.8878 - val_loss: 0.2770 - val_accuracy: 0.8878\n",
      " Learning rate:  0.0001\n",
      "Epoch 23/100\n",
      "2577/2577 - 8s - loss: 0.2733 - accuracy: 0.8905 - val_loss: 0.2772 - val_accuracy: 0.8876\n",
      " Learning rate:  0.0001\n",
      "Epoch 24/100\n",
      "2577/2577 - 8s - loss: 0.2733 - accuracy: 0.8904 - val_loss: 0.2790 - val_accuracy: 0.8869\n",
      " Learning rate:  0.0001\n",
      "Epoch 25/100\n",
      "2577/2577 - 8s - loss: 0.2734 - accuracy: 0.8908 - val_loss: 0.2767 - val_accuracy: 0.8875\n",
      " Learning rate:  0.0001\n",
      "Epoch 26/100\n",
      "2577/2577 - 8s - loss: 0.2727 - accuracy: 0.8911 - val_loss: 0.2767 - val_accuracy: 0.8879\n",
      " Learning rate:  0.0001\n",
      "Epoch 27/100\n",
      "2577/2577 - 8s - loss: 0.2706 - accuracy: 0.8915 - val_loss: 0.2764 - val_accuracy: 0.8881\n",
      " Learning rate:  0.0001\n",
      "Epoch 28/100\n",
      "2577/2577 - 8s - loss: 0.2718 - accuracy: 0.8915 - val_loss: 0.2771 - val_accuracy: 0.8877\n",
      " Learning rate:  0.0001\n",
      "Epoch 29/100\n",
      "2577/2577 - 8s - loss: 0.2720 - accuracy: 0.8915 - val_loss: 0.2792 - val_accuracy: 0.8863\n",
      " Learning rate:  0.0001\n",
      "Epoch 30/100\n",
      "2577/2577 - 8s - loss: 0.2722 - accuracy: 0.8911 - val_loss: 0.2783 - val_accuracy: 0.8865\n",
      " Learning rate:  0.0001\n",
      "Epoch 31/100\n",
      "2577/2577 - 8s - loss: 0.2722 - accuracy: 0.8911 - val_loss: 0.2760 - val_accuracy: 0.8877\n",
      " Learning rate:  0.0001\n",
      "Epoch 32/100\n",
      "2577/2577 - 8s - loss: 0.2716 - accuracy: 0.8919 - val_loss: 0.2784 - val_accuracy: 0.8877\n",
      " Learning rate:  0.0001\n",
      "Epoch 33/100\n",
      "2577/2577 - 8s - loss: 0.2727 - accuracy: 0.8922 - val_loss: 0.2772 - val_accuracy: 0.8867\n",
      " Learning rate:  0.0001\n",
      "Epoch 34/100\n",
      "2577/2577 - 8s - loss: 0.2718 - accuracy: 0.8917 - val_loss: 0.2755 - val_accuracy: 0.8874\n",
      " Learning rate:  0.0001\n",
      "Epoch 35/100\n",
      "2577/2577 - 8s - loss: 0.2708 - accuracy: 0.8920 - val_loss: 0.2777 - val_accuracy: 0.8887\n",
      " Learning rate:  0.0001\n",
      "Epoch 36/100\n",
      "2577/2577 - 8s - loss: 0.2711 - accuracy: 0.8913 - val_loss: 0.2811 - val_accuracy: 0.8868\n",
      " Learning rate:  0.0001\n",
      "Epoch 37/100\n",
      "2577/2577 - 8s - loss: 0.2711 - accuracy: 0.8916 - val_loss: 0.2790 - val_accuracy: 0.8880\n",
      " Learning rate:  0.0001\n",
      "Epoch 38/100\n",
      "2577/2577 - 8s - loss: 0.2710 - accuracy: 0.8915 - val_loss: 0.2771 - val_accuracy: 0.8879\n",
      " Learning rate:  0.0001\n",
      "Epoch 39/100\n",
      "2577/2577 - 8s - loss: 0.2704 - accuracy: 0.8909 - val_loss: 0.2782 - val_accuracy: 0.8869\n",
      " Learning rate:  0.0001\n",
      "Epoch 40/100\n",
      "2577/2577 - 8s - loss: 0.2694 - accuracy: 0.8919 - val_loss: 0.2773 - val_accuracy: 0.8862\n",
      " Learning rate:  0.0001\n",
      "Epoch 41/100\n",
      "2577/2577 - 8s - loss: 0.2711 - accuracy: 0.8922 - val_loss: 0.2797 - val_accuracy: 0.8868\n",
      " Learning rate:  0.0001\n",
      "Epoch 42/100\n",
      "2577/2577 - 8s - loss: 0.2688 - accuracy: 0.8932 - val_loss: 0.2770 - val_accuracy: 0.8881\n",
      " Learning rate:  0.0001\n",
      "Epoch 43/100\n",
      "2577/2577 - 9s - loss: 0.2709 - accuracy: 0.8918 - val_loss: 0.2771 - val_accuracy: 0.8881\n",
      " Learning rate:  0.0001\n",
      "Epoch 44/100\n",
      "2577/2577 - 8s - loss: 0.2702 - accuracy: 0.8925 - val_loss: 0.2783 - val_accuracy: 0.8872\n",
      " Learning rate:  0.0001\n",
      "Epoch 45/100\n",
      "2577/2577 - 8s - loss: 0.2694 - accuracy: 0.8926 - val_loss: 0.2783 - val_accuracy: 0.8862\n",
      " Learning rate:  0.0001\n",
      "Epoch 46/100\n",
      "2577/2577 - 9s - loss: 0.2690 - accuracy: 0.8924 - val_loss: 0.2781 - val_accuracy: 0.8869\n",
      " Learning rate:  0.0001\n",
      "Epoch 47/100\n",
      "2577/2577 - 9s - loss: 0.2685 - accuracy: 0.8927 - val_loss: 0.2772 - val_accuracy: 0.8887\n",
      " Learning rate:  0.0001\n",
      "Epoch 48/100\n",
      "2577/2577 - 8s - loss: 0.2695 - accuracy: 0.8920 - val_loss: 0.2767 - val_accuracy: 0.8873\n",
      " Learning rate:  0.0001\n",
      "Epoch 49/100\n",
      "2577/2577 - 9s - loss: 0.2691 - accuracy: 0.8925 - val_loss: 0.2792 - val_accuracy: 0.8860\n",
      "Epoch 00049: early stopping\n"
     ]
    }
   ],
   "source": [
    "checkpoint = ModelCheckpoint(\"our_best_model.hdf5\", monitor='val_accuracy', verbose=1,\n",
    "    save_best_only=True, mode='auto', period=1)\n",
    "\n",
    "history = model.fit(X_train, y_train, epochs=100, validation_data=(X_val, y_val),\n",
    "                     callbacks=[lr_scheduler,es], verbose=2)\n"
   ]
  },
  {
   "cell_type": "code",
   "execution_count": 17,
   "metadata": {
    "colab": {
     "base_uri": "https://localhost:8080/",
     "height": 336
    },
    "id": "78rubOsMatf7",
    "outputId": "fd557d64-a3fb-4107-b4bc-6f3c230e86d9"
   },
   "outputs": [
    {
     "data": {
      "image/png": "[encoded data removed]",
      "text/plain": [
       "<Figure size 864x360 with 2 Axes>"
      ]
     },
     "metadata": {
      "needs_background": "light"
     },
     "output_type": "display_data"
    }
   ],
   "source": [
    "plot_history(history)"
   ]
  },
  {
   "cell_type": "markdown",
   "metadata": {
    "id": "lsxtS0l3esdH"
   },
   "source": [
    "Overfitting if: training loss >> validation loss, training loss much greater than validation loss.\n",
    "\n",
    "Underfitting if: training loss << validation loss, training loss much less than validation loss. "
   ]
  },
  {
   "cell_type": "code",
   "execution_count": 18,
   "metadata": {
    "colab": {
     "base_uri": "https://localhost:8080/",
     "height": 223
    },
    "id": "WMW5lf7fcX6h",
    "outputId": "334829d1-6272-45c6-b68b-438ce7cf73c1"
   },
   "outputs": [
    {
     "name": "stdout",
     "output_type": "stream",
     "text": [
      "2577/2577 [==============================] - 4s 1ms/step - loss: 0.2621 - accuracy: 0.8958\n",
      "Train loss:  0.2621147334575653\n",
      "Train accuracy:  0.895794153213501\n",
      "----------------------------------------------------------------------\n",
      "859/859 [==============================] - 1s 2ms/step - loss: 0.2792 - accuracy: 0.8860\n",
      "Val loss:  0.2792086899280548\n",
      "Val accuracy:  0.8859815001487732\n",
      "----------------------------------------------------------------------\n",
      "859/859 [==============================] - 1s 2ms/step - loss: 0.2820 - accuracy: 0.8867\n",
      "Test loss:  0.28201717138290405\n",
      "Test accuracy:  0.8866729736328125\n"
     ]
    }
   ],
   "source": [
    "display_model_score(model,\n",
    "    [X_train, y_train],\n",
    "    [X_val, y_val],\n",
    "    [X_test, y_test])"
   ]
  },
  {
   "cell_type": "code",
   "execution_count": 19,
   "metadata": {
    "colab": {
     "base_uri": "https://localhost:8080/",
     "height": 148
    },
    "id": "7N7O3u_dm1FL",
    "outputId": "5f707ca4-8bb7-493f-ca49-02f13fda2e1a"
   },
   "outputs": [],
   "source": [
    "y_probas = model.predict(X_test)"
   ]
  },
  {
   "cell_type": "code",
   "execution_count": 20,
   "metadata": {
    "colab": {
     "base_uri": "https://localhost:8080/",
     "height": 186
    },
    "id": "_9PISRBnj0xr",
    "outputId": "8fddc58c-6119-4e45-e7d6-c3d01442c81e"
   },
   "outputs": [
    {
     "name": "stdout",
     "output_type": "stream",
     "text": [
      "              precision    recall  f1-score   support\n",
      "\n",
      "           0       0.88      0.90      0.89     13856\n",
      "           1       0.89      0.87      0.88     13622\n",
      "\n",
      "    accuracy                           0.89     27478\n",
      "   macro avg       0.89      0.89      0.89     27478\n",
      "weighted avg       0.89      0.89      0.89     27478\n",
      "\n"
     ]
    }
   ],
   "source": [
    "threshold = 0.5\n",
    "y_predict = np.where(y_probas > threshold, 1, 0)\n",
    "\n",
    "print(classification_report(y_test, y_predict))"
   ]
  },
  {
   "cell_type": "code",
   "execution_count": 28,
   "metadata": {},
   "outputs": [
    {
     "name": "stdout",
     "output_type": "stream",
     "text": [
      "ROC area is 0.9004177329657576\n"
     ]
    },
    {
     "data": {
      "text/plain": [
       "<matplotlib.legend.Legend at 0x7f303c7f3fd0>"
      ]
     },
     "execution_count": 28,
     "metadata": {},
     "output_type": "execute_result"
    },
    {
     "data": {
      "image/png": "[encoded data removed]",
      "text/plain": [
       "<Figure size 432x288 with 1 Axes>"
      ]
     },
     "metadata": {
      "needs_background": "light"
     },
     "output_type": "display_data"
    }
   ],
   "source": [
    "from sklearn.metrics import roc_curve, auc\n",
    "# probs from log preds\n",
    "# probs = np.exp(preds[:,1])\n",
    "# Compute ROC curve\n",
    "fpr, tpr, thresholds = roc_curve(y_test, y_predict, pos_label=1)\n",
    "\n",
    "# Compute ROC area\n",
    "roc_auc = auc(fpr, tpr)\n",
    "print('ROC area is {0}'.format(roc_auc))\n",
    "plt.figure()\n",
    "plt.plot(fpr, tpr, color='darkorange', label='ROC curve (area = %0.2f)' % roc_auc)\n",
    "plt.plot([0, 1], [0, 1], color='navy', linestyle='--')\n",
    "plt.xlim([-0.01, 1.0])\n",
    "plt.ylim([0.0, 1.01])\n",
    "plt.xlabel('False Positive Rate')\n",
    "plt.ylabel('True Positive Rate')\n",
    "plt.title('Receiver operating characteristic')\n",
    "plt.legend(loc=\"lower right\")"
   ]
  },
  {
   "cell_type": "markdown",
   "metadata": {
    "id": "UBBbFeGaXM7O"
   },
   "source": [
    "# Cross validation with whole dataset"
   ]
  },
  {
   "cell_type": "code",
   "execution_count": 21,
   "metadata": {
    "id": "IfOdoWiqJfmO"
   },
   "outputs": [],
   "source": [
    "\n",
    "estimator = KerasClassifier(build_fn=create_Modelbaseline, epochs=100,verbose=0)\n",
    "kfold = StratifiedKFold(n_splits=5, shuffle=True)\n",
    "results = cross_val_score(estimator, X, y, cv=kfold)"
   ]
  },
  {
   "cell_type": "code",
   "execution_count": 22,
   "metadata": {
    "colab": {
     "base_uri": "https://localhost:8080/",
     "height": 36
    },
    "id": "rbGCYLBqVAB0",
    "outputId": "482a9c74-f22a-410d-8c49-4a20eab67069"
   },
   "outputs": [
    {
     "name": "stdout",
     "output_type": "stream",
     "text": [
      "Baseline: 89.40% (0.35%)\n"
     ]
    }
   ],
   "source": [
    "print(\"Baseline: %.2f%% (%.2f%%)\" % (results.mean()*100, results.std()*100))"
   ]
  },
  {
   "cell_type": "code",
   "execution_count": null,
   "metadata": {},
   "outputs": [],
   "source": [
    "kfold = StratifiedKFold(n_splits=10, shuffle=True, random_state=42)\n",
    "scoring = ['accuracy', 'f1', 'roc_auc', 'recall', 'precision','neg_log_loss']\n",
    "scores = cross_validate(estimator, X, y, scoring=scoring, cv=kfold, return_train_score=True)\n",
    "print(\"Accuracy TEST: %0.2f (+/- %0.2f) Accuracy TRAIN: %0.2f (+/- %0.2f)\" %\n",
    "      (scores['test_accuracy'].mean(), scores['test_accuracy'].std() * 2, scores['train_accuracy'].mean(), scores['train_accuracy'].std() * 2))\n",
    "print(\"F1 TEST: %0.2f (+/- %0.2f) F1 TRAIN : %0.2f (+/- %0.2f) \" %\n",
    "      (scores['test_f1'].mean(), scores['test_f1'].std() * 2, scores['train_f1'].mean(), scores['train_f1'].std() * 2))\n",
    "print(\"AUROC TEST: %0.2f (+/- %0.2f) AUROC TRAIN : %0.2f (+/- %0.2f)\" %\n",
    "      (scores['test_roc_auc'].mean(), scores['test_roc_auc'].std() * 2, scores['train_roc_auc'].mean(), scores['train_roc_auc'].std() * 2))\n",
    "print(\"recall TEST: %0.2f (+/- %0.2f) recall TRAIN: %0.2f (+/- %0.2f)\" %\n",
    "      (scores['test_recall'].mean(), scores['test_recall'].std() * 2, scores['train_recall'].mean(), scores['train_recall'].std() * 2))\n",
    "print(\"Precision TEST: %0.2f (+/- %0.2f) Precision TRAIN: %0.2f (+/- %0.2f)\" %\n",
    "      (scores['test_precision'].mean(), scores['test_precision'].std() * 2, scores['train_precision'].mean(), scores['train_precision'].std() * 2))\n",
    "print(\"Log loss TEST: %0.2f (+/- %0.2f) Log loss TRAIN: %0.2f (+/- %0.2f)\" %\n",
    "      (scores['test_neg_log_loss'].mean(), scores['test_neg_log_loss'].std() * 2, scores['train_neg_log_loss'].mean(), scores['train_neg_log_loss'].std() * 2))"
   ]
  },
  {
   "cell_type": "markdown",
   "metadata": {
    "id": "TO18oGqEIAf5"
   },
   "source": [
    "# Model 2: Bidirectional LSTM\n",
    "(The perforamnce did not good)"
   ]
  },
  {
   "cell_type": "markdown",
   "metadata": {
    "id": "fNONrOjcxCKz"
   },
   "source": [
    "The below models are from https://towardsdatascience.com/protein-sequence-classification-99c80d0ad2df\n",
    "\n",
    "https://stackoverflow.com/questions/38714959/understanding-keras-lstms"
   ]
  },
  {
   "cell_type": "markdown",
   "metadata": {
    "id": "ax797xXuwsAJ"
   },
   "source": [
    "Embedding\n",
    "* https://towardsdatascience.com/neural-network-embeddings-explained-4d028e6f0526\n",
    "\n",
    "must specify 3 arguments:\n",
    "\n",
    "    input_dim: This is the size of the vocabulary in the text data. For example, if your data is integer encoded to values between 0-10, then the size of the vocabulary would be 11 words.\n",
    "    output_dim: This is the size of the vector space in which words will be embedded. It defines the size of the output vectors from this layer for each word. For example, it could be 32 or 100 or even larger. Test different values for your problem.\n",
    "    input_length: This is the length of input sequences, as you would define for any input layer of a Keras model. For example, if all of your input documents are comprised of 1000 words, this would be 1000.\n",
    "\n",
    "\n",
    "Input LSTM \n",
    "https://github.com/MohammadFneish7/Keras_LSTM_Diagram\n",
    "\n",
    "(No batches , Timeesteps , no features)"
   ]
  },
  {
   "cell_type": "code",
   "execution_count": 13,
   "metadata": {
    "colab": {
     "base_uri": "https://localhost:8080/",
     "height": 36
    },
    "id": "Neqnr6Hhv1QC",
    "outputId": "22fe2f0a-c418-4def-fbe8-f3d2ec8ddca4"
   },
   "outputs": [
    {
     "name": "stdout",
     "output_type": "stream",
     "text": [
      "(82433, 400, 1)\n",
      "(27478, 400, 1)\n",
      "(27478, 400, 1)\n"
     ]
    }
   ],
   "source": [
    "import numpy as np\n",
    "# https://stackoverflow.com/questions/52803989/how-to-correct-shape-of-keras-input-into-a-3d-array/52804200\n",
    "X_train = np.reshape(X_train,(X_train.shape[0],X_train.shape[1],1))\n",
    "print(X_train.shape)\n",
    "X_test = np.reshape(X_test,(X_test.shape[0],X_test.shape[1],1))\n",
    "print(X_test.shape)\n",
    "X_val = np.reshape(X_val,(X_val.shape[0],X_val.shape[1],1))\n",
    "print(X_val.shape)"
   ]
  },
  {
   "cell_type": "code",
   "execution_count": 8,
   "metadata": {
    "colab": {
     "base_uri": "https://localhost:8080/",
     "height": 36
    },
    "id": "vrc6-83n0Pb2",
    "outputId": "285b5c67-1712-4482-e820-5288f45aaa17"
   },
   "outputs": [],
   "source": [
    "x_input = Input( shape=(1900,1) )"
   ]
  },
  {
   "cell_type": "markdown",
   "metadata": {
    "id": "O4_WG1mW3cP_"
   },
   "source": [
    "Keras - ImportError: cannot import name 'CuDNNLSTM'\n",
    "\n",
    " To slove : for Tensorflow-2: You can just use LSTM with no activation function and it will automatically use the CuDNN version\n",
    "\n",
    "* https://stackoverflow.com/questions/48086014/keras-model-with-cudnnlstm-layers-doesnt-work-on-production-server\n",
    "* https://forums.developer.nvidia.com/t/importerror-cannot-import-name-cudnnlstm-from-tensorflow-keras-layers/82778\n",
    " "
   ]
  },
  {
   "cell_type": "code",
   "execution_count": 7,
   "metadata": {
    "id": "3K_HqPYhfu_r"
   },
   "outputs": [
    {
     "name": "stdout",
     "output_type": "stream",
     "text": [
      "Model: \"functional_1\"\n",
      "_________________________________________________________________\n",
      "Layer (type)                 Output Shape              Param #   \n",
      "=================================================================\n",
      "input_1 (InputLayer)         [(None, 1900, 1)]         0         \n",
      "_________________________________________________________________\n",
      "conv1d (Conv1D)              (None, 1900, 256)         2560      \n",
      "_________________________________________________________________\n",
      "max_pooling1d (MaxPooling1D) (None, 475, 256)          0         \n",
      "_________________________________________________________________\n",
      "dropout (Dropout)            (None, 475, 256)          0         \n",
      "_________________________________________________________________\n",
      "lstm (LSTM)                  (None, 475, 64)           82176     \n",
      "_________________________________________________________________\n",
      "dropout_1 (Dropout)          (None, 475, 64)           0         \n",
      "_________________________________________________________________\n",
      "flatten (Flatten)            (None, 30400)             0         \n",
      "_________________________________________________________________\n",
      "dense (Dense)                (None, 1984)              60315584  \n",
      "_________________________________________________________________\n",
      "dense_1 (Dense)              (None, 256)               508160    \n",
      "_________________________________________________________________\n",
      "output_layer (Dense)         (None, 1)                 257       \n",
      "=================================================================\n",
      "Total params: 60,908,737\n",
      "Trainable params: 60,908,737\n",
      "Non-trainable params: 0\n",
      "_________________________________________________________________\n"
     ]
    }
   ],
   "source": [
    "x_input = Input( shape=(1900,1) )\n",
    "\n",
    "#initial conv\n",
    "conv = Conv1D(256, 9,padding='same', activation = 'relu')(x_input) \n",
    "\n",
    "#conv = BatchNormalization()(conv)\n",
    "x = MaxPooling1D(4)(conv)\n",
    "x = Dropout(0.2)(x)\n",
    "\n",
    "\n",
    "flat = Flatten()(x)\n",
    "\n",
    "bi_rnn =  LSTM(64, return_sequences=True ) (x)\n",
    "x = Dropout(0.2)(bi_rnn)\n",
    "#x = Bidirectional( LSTM(128, kernel_regularizer=l2(0.01), recurrent_regularizer=l2(0.01)\n",
    "#                        , bias_regularizer=l2(0.01), return_sequences=False, stateful=False ) )(x)\n",
    "\n",
    "flat = Flatten()(x)\n",
    "layer_3 = Dense(1984, activation='relu')(flat)\n",
    "dropout_3 = Dropout(0.2)(layer_3)\n",
    "layer_3 = Dense(256, activation='relu')(layer_3)\n",
    "# softmax classifier\n",
    "x_output = Dense(1, activation='sigmoid', name='output_layer')(layer_3)\n",
    "\n",
    "model_BLSTM = Model(inputs=x_input, outputs=x_output)\n",
    "model_BLSTM.compile(optimizer='adam', loss='binary_crossentropy', metrics=['accuracy'])\n",
    "\n",
    "model_BLSTM.summary()"
   ]
  },
  {
   "cell_type": "code",
   "execution_count": 15,
   "metadata": {},
   "outputs": [
    {
     "name": "stdout",
     "output_type": "stream",
     "text": [
      "Model: \"functional_3\"\n",
      "_________________________________________________________________\n",
      "Layer (type)                 Output Shape              Param #   \n",
      "=================================================================\n",
      "input_3 (InputLayer)         [(None, 1900, 1)]         0         \n",
      "_________________________________________________________________\n",
      "conv1d_2 (Conv1D)            (None, 1900, 64)          2624      \n",
      "_________________________________________________________________\n",
      "max_pooling1d_2 (MaxPooling1 (None, 76, 64)            0         \n",
      "_________________________________________________________________\n",
      "conv1d_3 (Conv1D)            (None, 76, 128)           57472     \n",
      "_________________________________________________________________\n",
      "max_pooling1d_3 (MaxPooling1 (None, 19, 128)           0         \n",
      "_________________________________________________________________\n",
      "dense_3 (Dense)              (None, 19, 1211)          156219    \n",
      "_________________________________________________________________\n",
      "dropout_2 (Dropout)          (None, 19, 1211)          0         \n",
      "_________________________________________________________________\n",
      "bidirectional_1 (Bidirection (None, 19, 128)           653312    \n",
      "_________________________________________________________________\n",
      "dropout_3 (Dropout)          (None, 19, 128)           0         \n",
      "_________________________________________________________________\n",
      "flatten_1 (Flatten)          (None, 2432)              0         \n",
      "_________________________________________________________________\n",
      "dense_4 (Dense)              (None, 1)                 2433      \n",
      "=================================================================\n",
      "Total params: 872,060\n",
      "Trainable params: 872,060\n",
      "Non-trainable params: 0\n",
      "_________________________________________________________________\n"
     ]
    }
   ],
   "source": [
    "# Model III\n",
    "\n",
    "x_input = Input( shape=(1900,1) )\n",
    "\n",
    "#Conv1D\n",
    "conv = Conv1D(64, kernel_size=40, strides=1, padding='same', activation='relu')(x_input)  # Extract whole motif pattern\n",
    "conv = MaxPooling1D(pool_size=25)(conv)\n",
    "conv = Conv1D(128, kernel_size=7, strides=1, padding='same', activation='relu')(conv)  # Extract extra features  \n",
    "conv = MaxPooling1D(pool_size=4)(conv)\n",
    "\n",
    "# batch normalization on features\n",
    "#conv = BatchNormalization()(conv)\n",
    "\n",
    "# Dropout and Dense Layer before LSTM\n",
    "layer = Dense(1211, activation='relu')(conv)\n",
    "dense_convinpn = Dropout(0.5)(layer)\n",
    "\n",
    "\n",
    "# Bi-LSTM\n",
    "lstm = Bidirectional(LSTM(64, return_sequences=True, name='bilstm'))(dense_convinpn) # learn order of sequence\n",
    "drop_after_lstm = Dropout(0.5)(lstm)\n",
    "\n",
    "# Dense out\n",
    "output = Flatten()(drop_after_lstm)\n",
    "x_output = Dense(1, activation='sigmoid')(output)\n",
    "\n",
    "# comple\n",
    "model_BLSTM = Model(inputs=x_input, outputs=x_output)\n",
    "model_BLSTM.compile(optimizer='adam', loss='binary_crossentropy', metrics=['accuracy'])\n",
    "\n",
    "model_BLSTM.summary()"
   ]
  },
  {
   "cell_type": "code",
   "execution_count": 14,
   "metadata": {},
   "outputs": [
    {
     "name": "stdout",
     "output_type": "stream",
     "text": [
      "Model: \"functional_1\"\n",
      "_________________________________________________________________\n",
      "Layer (type)                 Output Shape              Param #   \n",
      "=================================================================\n",
      "input_1 (InputLayer)         [(None, 400, 1)]          0         \n",
      "_________________________________________________________________\n",
      "conv1d (Conv1D)              (None, 400, 64)           2624      \n",
      "_________________________________________________________________\n",
      "max_pooling1d (MaxPooling1D) (None, 16, 64)            0         \n",
      "_________________________________________________________________\n",
      "conv1d_1 (Conv1D)            (None, 16, 128)           57472     \n",
      "_________________________________________________________________\n",
      "max_pooling1d_1 (MaxPooling1 (None, 4, 128)            0         \n",
      "_________________________________________________________________\n",
      "dense (Dense)                (None, 4, 1211)           156219    \n",
      "_________________________________________________________________\n",
      "dropout (Dropout)            (None, 4, 1211)           0         \n",
      "_________________________________________________________________\n",
      "bidirectional (Bidirectional (None, 4, 128)            653312    \n",
      "_________________________________________________________________\n",
      "dropout_1 (Dropout)          (None, 4, 128)            0         \n",
      "_________________________________________________________________\n",
      "flatten (Flatten)            (None, 512)               0         \n",
      "_________________________________________________________________\n",
      "batch_normalization (BatchNo (None, 512)               2048      \n",
      "_________________________________________________________________\n",
      "dense_1 (Dense)              (None, 1211)              621243    \n",
      "_________________________________________________________________\n",
      "dense_2 (Dense)              (None, 1)                 1212      \n",
      "=================================================================\n",
      "Total params: 1,494,130\n",
      "Trainable params: 1,493,106\n",
      "Non-trainable params: 1,024\n",
      "_________________________________________________________________\n"
     ]
    }
   ],
   "source": [
    "x_input = Input( shape=(1900,1) )\n",
    "\n",
    "#Conv1D\n",
    "conv = Conv1D(64, kernel_size=40, strides=1, padding='same', activation='relu')(x_input)  # Extract whole motif pattern\n",
    "conv = MaxPooling1D(pool_size=25)(conv)\n",
    "conv = Conv1D(128, kernel_size=7, strides=1, padding='same', activation='relu')(conv)  # Extract extra features  \n",
    "conv = MaxPooling1D(pool_size=4)(conv)\n",
    "\n",
    "# batch normalization on features\n",
    "#conv = BatchNormalization()(conv)\n",
    "\n",
    "# Dropout and Dense Layer before LSTM\n",
    "layer = Dense(1211, activation='relu')(conv)\n",
    "dense_convinpn = Dropout(0.5)(layer)\n",
    "\n",
    "\n",
    "# Bi-LSTM\n",
    "lstm = Bidirectional(LSTM(64, return_sequences=True, name='bilstm'))(dense_convinpn) # learn order of sequence\n",
    "drop_after_lstm = Dropout(0.5)(lstm)\n",
    "\n",
    "# Dense out\n",
    "output = Flatten()(drop_after_lstm)\n",
    "output = BatchNormalization()(output)\n",
    "output = Dense(1211, activation='relu')(output)\n",
    "x_output = Dense(1, activation='sigmoid')(output)\n",
    "\n",
    "# comple\n",
    "model_BLSTM = Model(inputs=x_input, outputs=x_output)\n",
    "model_BLSTM.compile(optimizer='adam', loss='binary_crossentropy', metrics=['accuracy'])\n",
    "\n",
    "model_BLSTM.summary()"
   ]
  },
  {
   "cell_type": "code",
   "execution_count": null,
   "metadata": {},
   "outputs": [],
   "source": []
  },
  {
   "cell_type": "code",
   "execution_count": 8,
   "metadata": {},
   "outputs": [],
   "source": [
    "#from keras import backend as K\n",
    "#K.set_value(model_ProtCNN.optimizer.learning_rate, 0.00001)\n",
    "def lr_schedule(epoch):\n",
    "    \n",
    "    lr = 1e-3\n",
    "    if epoch > 80:\n",
    "        lr = 0.1e-6\n",
    "    elif epoch > 50:    \n",
    "        lr = 0.3e-5\n",
    "    elif epoch > 20:\n",
    "        lr = 1e-4\n",
    "        \n",
    "    print(' Learning rate: ', lr)    \n",
    "    return lr \n",
    "\n",
    "#learning rate decay\n",
    "lr_scheduler = LearningRateScheduler(lr_schedule)"
   ]
  },
  {
   "cell_type": "code",
   "execution_count": 16,
   "metadata": {
    "id": "CT66n3ZxfvD4",
    "scrolled": true
   },
   "outputs": [
    {
     "name": "stdout",
     "output_type": "stream",
     "text": [
      " Learning rate:  0.001\n",
      "Epoch 1/100\n",
      "323/323 [==============================] - 38s 117ms/step - loss: 0.4405 - accuracy: 0.7768 - val_loss: 0.3651 - val_accuracy: 0.8402\n",
      " Learning rate:  0.001\n",
      "Epoch 2/100\n",
      "323/323 [==============================] - 36s 113ms/step - loss: 0.3037 - accuracy: 0.8735 - val_loss: 0.2869 - val_accuracy: 0.8800\n",
      " Learning rate:  0.001\n",
      "Epoch 3/100\n",
      "323/323 [==============================] - 38s 116ms/step - loss: 0.2779 - accuracy: 0.8860 - val_loss: 0.3662 - val_accuracy: 0.8458\n",
      " Learning rate:  0.001\n",
      "Epoch 4/100\n",
      "323/323 [==============================] - 37s 115ms/step - loss: 0.2945 - accuracy: 0.8766 - val_loss: 0.3836 - val_accuracy: 0.8542\n",
      " Learning rate:  0.001\n",
      "Epoch 5/100\n",
      "323/323 [==============================] - 37s 114ms/step - loss: 0.2861 - accuracy: 0.8796 - val_loss: 0.2627 - val_accuracy: 0.8903\n",
      " Learning rate:  0.001\n",
      "Epoch 6/100\n",
      "323/323 [==============================] - 37s 113ms/step - loss: 0.2407 - accuracy: 0.9044 - val_loss: 0.2604 - val_accuracy: 0.8987\n",
      " Learning rate:  0.001\n",
      "Epoch 7/100\n",
      "323/323 [==============================] - 37s 115ms/step - loss: 0.2356 - accuracy: 0.9051 - val_loss: 0.2537 - val_accuracy: 0.8994\n",
      " Learning rate:  0.001\n",
      "Epoch 8/100\n",
      "323/323 [==============================] - 35s 109ms/step - loss: 0.2204 - accuracy: 0.9115 - val_loss: 0.2469 - val_accuracy: 0.9009\n",
      " Learning rate:  0.001\n",
      "Epoch 9/100\n",
      "323/323 [==============================] - 38s 118ms/step - loss: 0.2387 - accuracy: 0.9029 - val_loss: 0.2455 - val_accuracy: 0.9026\n",
      " Learning rate:  0.001\n",
      "Epoch 10/100\n",
      "323/323 [==============================] - 38s 117ms/step - loss: 0.2152 - accuracy: 0.9134 - val_loss: 0.2510 - val_accuracy: 0.9022\n",
      " Learning rate:  0.001\n",
      "Epoch 11/100\n",
      "323/323 [==============================] - 38s 117ms/step - loss: 0.2082 - accuracy: 0.9160 - val_loss: 0.2405 - val_accuracy: 0.9030\n",
      " Learning rate:  0.001\n",
      "Epoch 12/100\n",
      "323/323 [==============================] - 36s 112ms/step - loss: 0.2019 - accuracy: 0.9198 - val_loss: 0.2553 - val_accuracy: 0.8966\n",
      " Learning rate:  0.001\n",
      "Epoch 13/100\n",
      "323/323 [==============================] - 36s 112ms/step - loss: 0.1971 - accuracy: 0.9219 - val_loss: 0.2366 - val_accuracy: 0.9060\n",
      " Learning rate:  0.001\n",
      "Epoch 14/100\n",
      "323/323 [==============================] - 37s 116ms/step - loss: 0.1946 - accuracy: 0.9226 - val_loss: 0.2377 - val_accuracy: 0.9065\n",
      " Learning rate:  0.001\n",
      "Epoch 15/100\n",
      "323/323 [==============================] - 37s 114ms/step - loss: 0.1864 - accuracy: 0.9265 - val_loss: 0.2422 - val_accuracy: 0.9039\n",
      " Learning rate:  0.001\n",
      "Epoch 16/100\n",
      "323/323 [==============================] - 36s 112ms/step - loss: 0.1914 - accuracy: 0.9244 - val_loss: 0.2610 - val_accuracy: 0.8947\n",
      " Learning rate:  0.001\n",
      "Epoch 17/100\n",
      "323/323 [==============================] - 37s 115ms/step - loss: 0.1930 - accuracy: 0.9234 - val_loss: 0.2555 - val_accuracy: 0.9022\n",
      " Learning rate:  0.001\n",
      "Epoch 18/100\n",
      "323/323 [==============================] - 37s 115ms/step - loss: 0.1845 - accuracy: 0.9270 - val_loss: 0.4370 - val_accuracy: 0.8387\n",
      " Learning rate:  0.001\n",
      "Epoch 19/100\n",
      "323/323 [==============================] - 37s 113ms/step - loss: 0.2499 - accuracy: 0.8976 - val_loss: 0.2427 - val_accuracy: 0.9069\n",
      " Learning rate:  0.001\n",
      "Epoch 20/100\n",
      "323/323 [==============================] - 37s 113ms/step - loss: 0.1869 - accuracy: 0.9274 - val_loss: 0.2374 - val_accuracy: 0.9092\n",
      " Learning rate:  0.001\n",
      "Epoch 21/100\n",
      "323/323 [==============================] - 38s 117ms/step - loss: 0.1768 - accuracy: 0.9302 - val_loss: 0.2347 - val_accuracy: 0.9077\n",
      " Learning rate:  0.0001\n",
      "Epoch 22/100\n",
      "323/323 [==============================] - 37s 114ms/step - loss: 0.1494 - accuracy: 0.9429 - val_loss: 0.2321 - val_accuracy: 0.9113\n",
      " Learning rate:  0.0001\n",
      "Epoch 23/100\n",
      "323/323 [==============================] - 37s 115ms/step - loss: 0.1414 - accuracy: 0.9459 - val_loss: 0.2380 - val_accuracy: 0.9102\n",
      " Learning rate:  0.0001\n",
      "Epoch 24/100\n",
      "323/323 [==============================] - 37s 115ms/step - loss: 0.1384 - accuracy: 0.9470 - val_loss: 0.2388 - val_accuracy: 0.9114\n",
      " Learning rate:  0.0001\n",
      "Epoch 25/100\n",
      "323/323 [==============================] - 37s 116ms/step - loss: 0.1392 - accuracy: 0.9468 - val_loss: 0.2421 - val_accuracy: 0.9110\n",
      " Learning rate:  0.0001\n",
      "Epoch 26/100\n",
      "323/323 [==============================] - 37s 114ms/step - loss: 0.1341 - accuracy: 0.9489 - val_loss: 0.2468 - val_accuracy: 0.9112\n",
      " Learning rate:  0.0001\n",
      "Epoch 27/100\n",
      "323/323 [==============================] - 37s 115ms/step - loss: 0.1334 - accuracy: 0.9490 - val_loss: 0.2468 - val_accuracy: 0.9105\n",
      " Learning rate:  0.0001\n",
      "Epoch 28/100\n",
      "323/323 [==============================] - 39s 119ms/step - loss: 0.1311 - accuracy: 0.9504 - val_loss: 0.2440 - val_accuracy: 0.9108\n",
      " Learning rate:  0.0001\n",
      "Epoch 29/100\n",
      "323/323 [==============================] - 37s 114ms/step - loss: 0.1298 - accuracy: 0.9504 - val_loss: 0.2479 - val_accuracy: 0.9102\n",
      " Learning rate:  0.0001\n",
      "Epoch 30/100\n",
      "323/323 [==============================] - 37s 114ms/step - loss: 0.1284 - accuracy: 0.9507 - val_loss: 0.2526 - val_accuracy: 0.9113\n",
      " Learning rate:  0.0001\n",
      "Epoch 31/100\n",
      "323/323 [==============================] - 36s 112ms/step - loss: 0.1276 - accuracy: 0.9513 - val_loss: 0.2480 - val_accuracy: 0.9095\n",
      " Learning rate:  0.0001\n",
      "Epoch 32/100\n",
      "323/323 [==============================] - 36s 113ms/step - loss: 0.1277 - accuracy: 0.9514 - val_loss: 0.2510 - val_accuracy: 0.9103\n",
      " Learning rate:  0.0001\n",
      "Epoch 33/100\n",
      "323/323 [==============================] - 38s 117ms/step - loss: 0.1251 - accuracy: 0.9525 - val_loss: 0.2559 - val_accuracy: 0.9099\n",
      " Learning rate:  0.0001\n",
      "Epoch 34/100\n",
      "323/323 [==============================] - 38s 119ms/step - loss: 0.1245 - accuracy: 0.9525 - val_loss: 0.2500 - val_accuracy: 0.9107\n",
      " Learning rate:  0.0001\n",
      "Epoch 35/100\n",
      "323/323 [==============================] - 38s 118ms/step - loss: 0.1238 - accuracy: 0.9532 - val_loss: 0.2531 - val_accuracy: 0.9099\n",
      " Learning rate:  0.0001\n",
      "Epoch 36/100\n",
      "323/323 [==============================] - 38s 118ms/step - loss: 0.1224 - accuracy: 0.9541 - val_loss: 0.2639 - val_accuracy: 0.9073\n",
      " Learning rate:  0.0001\n",
      "Epoch 37/100\n",
      "323/323 [==============================] - 38s 118ms/step - loss: 0.1226 - accuracy: 0.9532 - val_loss: 0.2655 - val_accuracy: 0.9090\n",
      "Epoch 00037: early stopping\n"
     ]
    }
   ],
   "source": [
    "checkpoint_BLSTM = ModelCheckpoint(\"/mnt/vdb/thesis/best_model_BLSTM.4.hdf5\", monitor='loss', verbose=1,\n",
    "    save_best_only=True, mode='auto', period=1)\n",
    "\n",
    "# Early Stopping\n",
    "es = EarlyStopping(monitor='val_loss', patience=15, verbose=1)\n",
    "\n",
    "history_BLSTM = model_BLSTM.fit(X_train, y_train, epochs=100, batch_size=256, validation_data=(X_val, y_val),\n",
    "                     callbacks=[es,lr_scheduler], verbose=1)"
   ]
  },
  {
   "cell_type": "code",
   "execution_count": 21,
   "metadata": {
    "id": "nyvMdMU1UqD0"
   },
   "outputs": [],
   "source": [
    "model_BLSTM.save('/mnt/vdb/thesis/best_model_BLSTM.V5.h5') "
   ]
  },
  {
   "cell_type": "code",
   "execution_count": 18,
   "metadata": {
    "id": "UtViR8TYUp4i"
   },
   "outputs": [
    {
     "data": {
      "image/png": "[encoded data removed]",
      "text/plain": [
       "<Figure size 864x360 with 2 Axes>"
      ]
     },
     "metadata": {
      "needs_background": "light"
     },
     "output_type": "display_data"
    }
   ],
   "source": [
    "plot_history(history_BLSTM)"
   ]
  },
  {
   "cell_type": "code",
   "execution_count": null,
   "metadata": {},
   "outputs": [],
   "source": []
  },
  {
   "cell_type": "code",
   "execution_count": null,
   "metadata": {},
   "outputs": [],
   "source": []
  },
  {
   "cell_type": "code",
   "execution_count": 19,
   "metadata": {
    "id": "pR4uE8Gzfuw0"
   },
   "outputs": [
    {
     "name": "stdout",
     "output_type": "stream",
     "text": [
      "2577/2577 [==============================] - 32s 12ms/step - loss: 0.1122 - accuracy: 0.9581\n",
      "Train loss:  0.1122024655342102\n",
      "Train accuracy:  0.958087146282196\n",
      "----------------------------------------------------------------------\n",
      "859/859 [==============================] - 11s 12ms/step - loss: 0.2655 - accuracy: 0.9090\n",
      "Val loss:  0.26550421118736267\n",
      "Val accuracy:  0.9090180993080139\n",
      "----------------------------------------------------------------------\n",
      "859/859 [==============================] - 10s 12ms/step - loss: 0.2770 - accuracy: 0.9076\n",
      "Test loss:  0.2770465612411499\n",
      "Test accuracy:  0.9075987935066223\n"
     ]
    }
   ],
   "source": [
    "display_model_score(model_BLSTM,\n",
    "    [X_train, y_train],\n",
    "    [X_val, y_val],\n",
    "    [X_test, y_test])"
   ]
  },
  {
   "cell_type": "code",
   "execution_count": 20,
   "metadata": {
    "id": "Atr10FO4fuuE"
   },
   "outputs": [
    {
     "name": "stdout",
     "output_type": "stream",
     "text": [
      "              precision    recall  f1-score   support\n",
      "\n",
      "           0       0.91      0.91      0.91     13856\n",
      "           1       0.91      0.90      0.91     13622\n",
      "\n",
      "    accuracy                           0.91     27478\n",
      "   macro avg       0.91      0.91      0.91     27478\n",
      "weighted avg       0.91      0.91      0.91     27478\n",
      "\n"
     ]
    }
   ],
   "source": [
    "y_probas = model_BLSTM.predict(X_test)\n",
    "threshold = 0.5\n",
    "y_predict = np.where(y_probas > threshold, 1, 0)\n",
    "print(classification_report(y_test, y_predict))"
   ]
  },
  {
   "cell_type": "code",
   "execution_count": 37,
   "metadata": {},
   "outputs": [
    {
     "data": {
      "text/plain": [
       "(42856, 19, 1)"
      ]
     },
     "execution_count": 37,
     "metadata": {},
     "output_type": "execute_result"
    }
   ],
   "source": []
  },
  {
   "cell_type": "code",
   "execution_count": 83,
   "metadata": {},
   "outputs": [
    {
     "name": "stdout",
     "output_type": "stream",
     "text": [
      "              precision    recall  f1-score   support\n",
      "\n",
      "           0       0.93      0.93      0.93     21596\n",
      "           1       0.93      0.93      0.93     21260\n",
      "\n",
      "    accuracy                           0.93     42856\n",
      "   macro avg       0.93      0.93      0.93     42856\n",
      "weighted avg       0.93      0.93      0.93     42856\n",
      "\n"
     ]
    }
   ],
   "source": [
    "print(classification_report(y_test, y_predict))"
   ]
  },
  {
   "cell_type": "markdown",
   "metadata": {},
   "source": [
    "## PWM\n",
    "```\n",
    "You don't need to restructure anything at all to get the output of a Conv1D layer into an LSTM layer.\n",
    "\n",
    "So, the problem is simply the presence of the Flatten layer, which destroys the shape.\n",
    "\n",
    "These are the shapes used by Conv1D and LSTM:\n",
    "\n",
    "Conv1D: (batch, length, channels)\n",
    "LSTM: (batch, timeSteps, features)\n",
    "Length is the same as timeSteps, and channels is the same as features.\n",
    "\n",
    "Using the Bidirectional wrapper won't change a thing either. It will only duplicate your output features.\n",
    "\n",
    "Classifying.\n",
    "If you're going to classify the entire sequence as a whole, your last LSTM must use return_sequences=False. (Or you may use some flatten + dense instead after)\n",
    "\n",
    "If you're going to classify each step of the sequence, all your LSTMs should have return_sequences=True. You should not flatten the data after them.\n",
    "```"
   ]
  },
  {
   "cell_type": "code",
   "execution_count": 68,
   "metadata": {},
   "outputs": [
    {
     "name": "stdout",
     "output_type": "stream",
     "text": [
      "Model: \"functional_49\"\n",
      "_________________________________________________________________\n",
      "Layer (type)                 Output Shape              Param #   \n",
      "=================================================================\n",
      "input_27 (InputLayer)        [(None, 400, 1)]          0         \n",
      "_________________________________________________________________\n",
      "conv1d_52 (Conv1D)           (None, 400, 64)           2624      \n",
      "_________________________________________________________________\n",
      "max_pooling1d_52 (MaxPooling (None, 16, 64)            0         \n",
      "_________________________________________________________________\n",
      "conv1d_53 (Conv1D)           (None, 16, 128)           57472     \n",
      "_________________________________________________________________\n",
      "max_pooling1d_53 (MaxPooling (None, 4, 128)            0         \n",
      "_________________________________________________________________\n",
      "bidirectional_26 (Bidirectio (None, 4, 128)            98816     \n",
      "_________________________________________________________________\n",
      "dropout_47 (Dropout)         (None, 4, 128)            0         \n",
      "_________________________________________________________________\n",
      "flatten_19 (Flatten)         (None, 512)               0         \n",
      "_________________________________________________________________\n",
      "dense_72 (Dense)             (None, 1211)              621243    \n",
      "_________________________________________________________________\n",
      "batch_normalization_25 (Batc (None, 1211)              4844      \n",
      "_________________________________________________________________\n",
      "dense_73 (Dense)             (None, 1211)              1467732   \n",
      "_________________________________________________________________\n",
      "dropout_48 (Dropout)         (None, 1211)              0         \n",
      "_________________________________________________________________\n",
      "dense_74 (Dense)             (None, 1)                 1212      \n",
      "=================================================================\n",
      "Total params: 2,253,943\n",
      "Trainable params: 2,251,521\n",
      "Non-trainable params: 2,422\n",
      "_________________________________________________________________\n"
     ]
    }
   ],
   "source": [
    "x_input = Input( shape=(400,1) )\n",
    "\n",
    "#Conv1D\n",
    "conv = Conv1D(64, kernel_size=40, padding='same', activation='relu')(x_input)  # Extract whole motif pattern\n",
    "conv = MaxPooling1D(pool_size=25)(conv)\n",
    "conv = Conv1D(128, kernel_size=7, padding='same', activation='relu')(conv)  # Extract extra features  \n",
    "conv = MaxPooling1D(pool_size=4)(conv)\n",
    "\n",
    "# batch normalization on features\n",
    "#conv = BatchNormalization()(conv)\n",
    "\n",
    "# Dropout and Dense Layer before LSTM\n",
    "#conv = Dense(1211, activation='relu')(conv)\n",
    "#conv = Dropout(0.5)(conv)\n",
    "\n",
    "\n",
    "# Bi-LSTM\n",
    "lstm = Bidirectional(LSTM(64, return_sequences=True, name='bilstm'))(conv) # learn order of sequence\n",
    "lstm = Dropout(0.5)(lstm)\n",
    "\n",
    "# Dense out\n",
    "output = Flatten()(lstm)\n",
    "output = Dense(1211, activation='relu')(output)\n",
    "output = BatchNormalization()(output)\n",
    "output = Dense(1211, activation='relu')(output)\n",
    "output = Dropout(0.5)(output)\n",
    "x_output = Dense(1, activation='sigmoid')(output)\n",
    "\n",
    "# comple\n",
    "model_BLSTM = Model(inputs=x_input, outputs=x_output)\n",
    "model_BLSTM.compile(optimizer='adam', loss='binary_crossentropy', metrics=['accuracy'])\n",
    "\n",
    "model_BLSTM.summary()"
   ]
  },
  {
   "cell_type": "code",
   "execution_count": 69,
   "metadata": {
    "scrolled": true,
    "tags": []
   },
   "outputs": [
    {
     "name": "stdout",
     "output_type": "stream",
     "text": [
      "WARNING:tensorflow:`period` argument is deprecated. Please use `save_freq` to specify the frequency in number of batches seen.\n",
      " Learning rate:  0.001\n",
      "Epoch 1/100\n",
      "201/203 [============================>.] - ETA: 0s - loss: 0.6873 - accuracy: 0.5248\n",
      "Epoch 00001: loss improved from inf to 0.68716, saving model to /mnt/vdb/thesis/best_model_BLSTM.V5.hdf5\n",
      "203/203 [==============================] - 6s 31ms/step - loss: 0.6872 - accuracy: 0.5252 - val_loss: 0.6943 - val_accuracy: 0.5041\n",
      " Learning rate:  0.001\n",
      "Epoch 2/100\n",
      "202/203 [============================>.] - ETA: 0s - loss: 0.5949 - accuracy: 0.6568\n",
      "Epoch 00002: loss improved from 0.68716 to 0.59497, saving model to /mnt/vdb/thesis/best_model_BLSTM.V5.hdf5\n",
      "203/203 [==============================] - 6s 27ms/step - loss: 0.5950 - accuracy: 0.6569 - val_loss: 0.6285 - val_accuracy: 0.6584\n",
      " Learning rate:  0.001\n",
      "Epoch 3/100\n",
      "202/203 [============================>.] - ETA: 0s - loss: 0.5488 - accuracy: 0.7073\n",
      "Epoch 00003: loss improved from 0.59497 to 0.54890, saving model to /mnt/vdb/thesis/best_model_BLSTM.V5.hdf5\n",
      "203/203 [==============================] - 6s 28ms/step - loss: 0.5489 - accuracy: 0.7072 - val_loss: 0.5827 - val_accuracy: 0.6743\n",
      " Learning rate:  0.001\n",
      "Epoch 4/100\n",
      "203/203 [==============================] - ETA: 0s - loss: 0.5321 - accuracy: 0.7246\n",
      "Epoch 00004: loss improved from 0.54890 to 0.53213, saving model to /mnt/vdb/thesis/best_model_BLSTM.V5.hdf5\n",
      "203/203 [==============================] - 6s 28ms/step - loss: 0.5321 - accuracy: 0.7246 - val_loss: 2.0100 - val_accuracy: 0.4992\n",
      " Learning rate:  0.001\n",
      "Epoch 5/100\n",
      "202/203 [============================>.] - ETA: 0s - loss: 0.5267 - accuracy: 0.7295\n",
      "Epoch 00005: loss improved from 0.53213 to 0.52662, saving model to /mnt/vdb/thesis/best_model_BLSTM.V5.hdf5\n",
      "203/203 [==============================] - 6s 28ms/step - loss: 0.5266 - accuracy: 0.7295 - val_loss: 3.2927 - val_accuracy: 0.4992\n",
      " Learning rate:  0.001\n",
      "Epoch 6/100\n",
      "203/203 [==============================] - ETA: 0s - loss: 0.5272 - accuracy: 0.7277\n",
      "Epoch 00006: loss did not improve from 0.52662\n",
      "203/203 [==============================] - 6s 27ms/step - loss: 0.5272 - accuracy: 0.7277 - val_loss: 1.3531 - val_accuracy: 0.5895\n",
      " Learning rate:  0.001\n",
      "Epoch 7/100\n",
      "203/203 [==============================] - ETA: 0s - loss: 0.5245 - accuracy: 0.7326\n",
      "Epoch 00007: loss improved from 0.52662 to 0.52445, saving model to /mnt/vdb/thesis/best_model_BLSTM.V5.hdf5\n",
      "203/203 [==============================] - 6s 28ms/step - loss: 0.5245 - accuracy: 0.7326 - val_loss: 1.5237 - val_accuracy: 0.5718\n",
      " Learning rate:  0.001\n",
      "Epoch 8/100\n",
      "203/203 [==============================] - ETA: 0s - loss: 0.5190 - accuracy: 0.7364\n",
      "Epoch 00008: loss improved from 0.52445 to 0.51901, saving model to /mnt/vdb/thesis/best_model_BLSTM.V5.hdf5\n",
      "203/203 [==============================] - 6s 29ms/step - loss: 0.5190 - accuracy: 0.7364 - val_loss: 1.2718 - val_accuracy: 0.5540\n",
      " Learning rate:  0.001\n",
      "Epoch 9/100\n",
      "203/203 [==============================] - ETA: 0s - loss: 0.5197 - accuracy: 0.7372\n",
      "Epoch 00009: loss did not improve from 0.51901\n",
      "203/203 [==============================] - 6s 28ms/step - loss: 0.5197 - accuracy: 0.7372 - val_loss: 1.5786 - val_accuracy: 0.5396\n",
      " Learning rate:  0.001\n",
      "Epoch 10/100\n",
      "203/203 [==============================] - ETA: 0s - loss: 0.5162 - accuracy: 0.7392\n",
      "Epoch 00010: loss improved from 0.51901 to 0.51619, saving model to /mnt/vdb/thesis/best_model_BLSTM.V5.hdf5\n",
      "203/203 [==============================] - 6s 28ms/step - loss: 0.5162 - accuracy: 0.7392 - val_loss: 0.5271 - val_accuracy: 0.7384\n",
      " Learning rate:  0.001\n",
      "Epoch 11/100\n",
      "203/203 [==============================] - ETA: 0s - loss: 0.5136 - accuracy: 0.7415\n",
      "Epoch 00011: loss improved from 0.51619 to 0.51359, saving model to /mnt/vdb/thesis/best_model_BLSTM.V5.hdf5\n",
      "203/203 [==============================] - 6s 30ms/step - loss: 0.5136 - accuracy: 0.7415 - val_loss: 0.6634 - val_accuracy: 0.5966\n",
      " Learning rate:  0.001\n",
      "Epoch 12/100\n",
      "203/203 [==============================] - ETA: 0s - loss: 0.5132 - accuracy: 0.7403\n",
      "Epoch 00012: loss improved from 0.51359 to 0.51322, saving model to /mnt/vdb/thesis/best_model_BLSTM.V5.hdf5\n",
      "203/203 [==============================] - 6s 29ms/step - loss: 0.5132 - accuracy: 0.7403 - val_loss: 0.6601 - val_accuracy: 0.6663\n",
      " Learning rate:  0.001\n",
      "Epoch 13/100\n",
      "202/203 [============================>.] - ETA: 0s - loss: 0.5137 - accuracy: 0.7428\n",
      "Epoch 00013: loss did not improve from 0.51322\n",
      "203/203 [==============================] - 6s 28ms/step - loss: 0.5135 - accuracy: 0.7430 - val_loss: 0.5966 - val_accuracy: 0.6807\n",
      " Learning rate:  0.001\n",
      "Epoch 14/100\n",
      "202/203 [============================>.] - ETA: 0s - loss: 0.5090 - accuracy: 0.7469\n",
      "Epoch 00014: loss improved from 0.51322 to 0.50887, saving model to /mnt/vdb/thesis/best_model_BLSTM.V5.hdf5\n",
      "203/203 [==============================] - 6s 29ms/step - loss: 0.5089 - accuracy: 0.7470 - val_loss: 2.1727 - val_accuracy: 0.4995\n",
      " Learning rate:  0.001\n",
      "Epoch 15/100\n",
      "201/203 [============================>.] - ETA: 0s - loss: 0.5084 - accuracy: 0.7446\n",
      "Epoch 00015: loss improved from 0.50887 to 0.50824, saving model to /mnt/vdb/thesis/best_model_BLSTM.V5.hdf5\n",
      "203/203 [==============================] - 6s 28ms/step - loss: 0.5082 - accuracy: 0.7448 - val_loss: 0.7547 - val_accuracy: 0.6338\n",
      " Learning rate:  0.001\n",
      "Epoch 16/100\n",
      "202/203 [============================>.] - ETA: 0s - loss: 0.5069 - accuracy: 0.7459\n",
      "Epoch 00016: loss improved from 0.50824 to 0.50701, saving model to /mnt/vdb/thesis/best_model_BLSTM.V5.hdf5\n",
      "203/203 [==============================] - 6s 28ms/step - loss: 0.5070 - accuracy: 0.7458 - val_loss: 0.9325 - val_accuracy: 0.5167\n",
      " Learning rate:  0.001\n",
      "Epoch 17/100\n",
      "202/203 [============================>.] - ETA: 0s - loss: 0.5012 - accuracy: 0.7532\n",
      "Epoch 00017: loss improved from 0.50701 to 0.50106, saving model to /mnt/vdb/thesis/best_model_BLSTM.V5.hdf5\n",
      "203/203 [==============================] - 6s 29ms/step - loss: 0.5011 - accuracy: 0.7533 - val_loss: 3.7791 - val_accuracy: 0.4992\n",
      " Learning rate:  0.001\n",
      "Epoch 18/100\n",
      "202/203 [============================>.] - ETA: 0s - loss: 0.5011 - accuracy: 0.7509\n",
      "Epoch 00018: loss improved from 0.50106 to 0.50071, saving model to /mnt/vdb/thesis/best_model_BLSTM.V5.hdf5\n",
      "203/203 [==============================] - 6s 30ms/step - loss: 0.5007 - accuracy: 0.7512 - val_loss: 0.7614 - val_accuracy: 0.6328\n",
      " Learning rate:  0.001\n",
      "Epoch 19/100\n",
      "201/203 [============================>.] - ETA: 0s - loss: 0.5004 - accuracy: 0.7540\n",
      "Epoch 00019: loss did not improve from 0.50071\n",
      "203/203 [==============================] - 6s 28ms/step - loss: 0.5008 - accuracy: 0.7537 - val_loss: 0.9377 - val_accuracy: 0.5419\n",
      " Learning rate:  0.001\n",
      "Epoch 20/100\n",
      "203/203 [==============================] - ETA: 0s - loss: 0.5014 - accuracy: 0.7508\n",
      "Epoch 00020: loss did not improve from 0.50071\n",
      "203/203 [==============================] - 6s 28ms/step - loss: 0.5014 - accuracy: 0.7508 - val_loss: 1.2978 - val_accuracy: 0.4992\n",
      "Epoch 00020: early stopping\n"
     ]
    }
   ],
   "source": [
    "checkpoint_BLSTM = ModelCheckpoint(\"/mnt/vdb/thesis/best_model_BLSTM.V5.hdf5\", monitor='loss', verbose=1,\n",
    "    save_best_only=True, mode='auto', period=1)\n",
    "\n",
    "# Early Stopping\n",
    "es = EarlyStopping(monitor='val_loss', patience=10, verbose=1)\n",
    "\n",
    "history_BLSTM = model_BLSTM.fit(X_train, y_train, epochs=100, batch_size=256, validation_data=(X_val, y_val),\n",
    "                     callbacks=[es,checkpoint_BLSTM,lr_scheduler], verbose=1)"
   ]
  },
  {
   "cell_type": "code",
   "execution_count": 70,
   "metadata": {},
   "outputs": [
    {
     "name": "stdout",
     "output_type": "stream",
     "text": [
      "              precision    recall  f1-score   support\n",
      "\n",
      "           0       0.50      1.00      0.67      8722\n",
      "           1       0.00      0.00      0.00      8570\n",
      "\n",
      "    accuracy                           0.50     17292\n",
      "   macro avg       0.25      0.50      0.34     17292\n",
      "weighted avg       0.25      0.50      0.34     17292\n",
      "\n"
     ]
    },
    {
     "name": "stderr",
     "output_type": "stream",
     "text": [
      "/home/ubuntu/miniconda3/envs/py3/lib/python3.7/site-packages/sklearn/metrics/_classification.py:1245: UndefinedMetricWarning: Precision and F-score are ill-defined and being set to 0.0 in labels with no predicted samples. Use `zero_division` parameter to control this behavior.\n",
      "  _warn_prf(average, modifier, msg_start, len(result))\n",
      "/home/ubuntu/miniconda3/envs/py3/lib/python3.7/site-packages/sklearn/metrics/_classification.py:1245: UndefinedMetricWarning: Precision and F-score are ill-defined and being set to 0.0 in labels with no predicted samples. Use `zero_division` parameter to control this behavior.\n",
      "  _warn_prf(average, modifier, msg_start, len(result))\n",
      "/home/ubuntu/miniconda3/envs/py3/lib/python3.7/site-packages/sklearn/metrics/_classification.py:1245: UndefinedMetricWarning: Precision and F-score are ill-defined and being set to 0.0 in labels with no predicted samples. Use `zero_division` parameter to control this behavior.\n",
      "  _warn_prf(average, modifier, msg_start, len(result))\n"
     ]
    }
   ],
   "source": [
    "y_probas = model_BLSTM.predict(X_test)\n",
    "threshold = 0.5\n",
    "y_predict = np.where(y_probas > threshold, 1, 0)\n",
    "print(classification_report(y_test, y_predict))"
   ]
  },
  {
   "cell_type": "code",
   "execution_count": 71,
   "metadata": {},
   "outputs": [
    {
     "name": "stdout",
     "output_type": "stream",
     "text": [
      "1622/1622 [==============================] - 6s 4ms/step - loss: 1.2964 - accuracy: 0.4987\n",
      "Train loss:  1.296425461769104\n",
      "Train accuracy:  0.4986601769924164\n",
      "----------------------------------------------------------------------\n",
      "541/541 [==============================] - 2s 4ms/step - loss: 1.2978 - accuracy: 0.4992\n",
      "Val loss:  1.297782063484192\n",
      "Val accuracy:  0.499248206615448\n",
      "----------------------------------------------------------------------\n",
      "541/541 [==============================] - 2s 4ms/step - loss: 1.2841 - accuracy: 0.5044\n",
      "Test loss:  1.284087061882019\n",
      "Test accuracy:  0.504395067691803\n"
     ]
    }
   ],
   "source": [
    "display_model_score(model_BLSTM,\n",
    "    [X_train, y_train],\n",
    "    [X_val, y_val],\n",
    "    [X_test, y_test])"
   ]
  },
  {
   "cell_type": "code",
   "execution_count": 72,
   "metadata": {},
   "outputs": [
    {
     "data": {
      "image/png": "[encoded data removed]",
      "text/plain": [
       "<Figure size 864x360 with 2 Axes>"
      ]
     },
     "metadata": {
      "needs_background": "light"
     },
     "output_type": "display_data"
    }
   ],
   "source": [
    "plot_history(history_BLSTM)"
   ]
  },
  {
   "cell_type": "code",
   "execution_count": 21,
   "metadata": {},
   "outputs": [],
   "source": [
    "model_BLSTM.save('/mnt/vdb/thesis/best_model_BLSTM.V5.h5') "
   ]
  },
  {
   "cell_type": "markdown",
   "metadata": {
    "id": "fALQEI9g4Ejn"
   },
   "source": [
    "# Training set 2"
   ]
  },
  {
   "cell_type": "markdown",
   "metadata": {},
   "source": [
    "### set9 PSSM"
   ]
  },
  {
   "cell_type": "code",
   "execution_count": 13,
   "metadata": {},
   "outputs": [
    {
     "name": "stdout",
     "output_type": "stream",
     "text": [
      "(56620, 400, 1)\n",
      "(3556, 400, 1)\n",
      "(14155, 400, 1)\n"
     ]
    }
   ],
   "source": [
    "with open( \"/mnt/vdb/thesis/trainingset2/set9/pssm/AMP/AMP.pssm.plk\", 'rb') as file:\n",
    "    AMPs_df = pickle.load(file)\n",
    "AMPs_df[\"class\"] = 0\n",
    "with open( \"/mnt/vdb/thesis/trainingset2/set9/pssm/nonAMP/nonAMP.pssm.plk\", 'rb') as file:\n",
    "    nonAMPs_df = pickle.load(file)   \n",
    "nonAMPs_df[\"class\"] = 1\n",
    "\n",
    "AMPNonAMP_df = pd.concat([AMPs_df, nonAMPs_df], ignore_index=True)\n",
    "\n",
    "#AMPs_df = AMPs_df[AMPs_df[\"length\"] <= 300 ]\n",
    "with open( \"../datasets/thesis/trainingset2/benchmark_set/AMPnonAMP.pssm.pkl\", 'rb') as file:\n",
    "    benchmark_AMPs_df = pickle.load(file)\n",
    "    \n",
    "X_train = np.array(AMPNonAMP_df['reps'].to_list())\n",
    "y_train = np.array(AMPNonAMP_df['class'].to_list())\n",
    "X_test = np.array(benchmark_AMPs_df[\"reps\"].to_list())\n",
    "y_test = np.array( benchmark_AMPs_df[\"class\"].to_list())\n",
    "X_train, X_val, y_train, y_val = train_test_split(X_train, y_train, test_size=0.2, random_state=42)\n",
    "\n",
    "X_train = np.reshape(X_train,(X_train.shape[0],X_train.shape[1],1))\n",
    "print(X_train.shape)\n",
    "X_test = np.reshape(X_test,(X_test.shape[0],X_test.shape[1],1))\n",
    "print(X_test.shape)\n",
    "X_val = np.reshape(X_val,(X_val.shape[0],X_val.shape[1],1))\n",
    "print(X_val.shape)"
   ]
  },
  {
   "cell_type": "markdown",
   "metadata": {},
   "source": [
    "## SET 9"
   ]
  },
  {
   "cell_type": "code",
   "execution_count": null,
   "metadata": {},
   "outputs": [],
   "source": [
    "import pickle5 as pickle\n",
    "with open( \"/mnt/vdb/thesis/trainingset2/set9/jax/AMPNonAMP.reps\", 'rb') as file:\n",
    "    AMPNonAMP_df = pickle.load(file)\n",
    "with open( \"/mnt/vdb/thesis/trainingset2/benchmark_set/jax/AMPNonAMP.benchmark_set.reps\", 'rb') as file:\n",
    "    benchmark_AMPs_df = pickle.load(file)\n",
    "    \n",
    "X_train = np.array(AMPNonAMP_df['reps'].to_list())\n",
    "y_train = np.array(AMPNonAMP_df['class'].to_list())\n",
    "X_test = np.array(benchmark_AMPs_df[\"reps\"].to_list())\n",
    "y_test = np.array( benchmark_AMPs_df[\"class\"].to_list())\n",
    "\n",
    "X_train, X_val, y_train, y_val = train_test_split(X_train, y_train, test_size=0.2, random_state=42)\n",
    "\n",
    "X_train = np.reshape(X_train,(X_train.shape[0],X_train.shape[1],1))\n",
    "print(X_train.shape)\n",
    "X_test = np.reshape(X_test,(X_test.shape[0],X_test.shape[1],1))\n",
    "print(X_test.shape)\n",
    "X_val = np.reshape(X_val,(X_val.shape[0],X_val.shape[1],1))\n",
    "print(X_val.shape)"
   ]
  },
  {
   "cell_type": "code",
   "execution_count": 5,
   "metadata": {
    "id": "Gh0Zvl9j4E38"
   },
   "outputs": [
    {
     "name": "stdout",
     "output_type": "stream",
     "text": [
      "Model: \"functional_1\"\n",
      "_________________________________________________________________\n",
      "Layer (type)                 Output Shape              Param #   \n",
      "=================================================================\n",
      "input_1 (InputLayer)         [(None, 400, 1)]          0         \n",
      "_________________________________________________________________\n",
      "conv1d (Conv1D)              (None, 400, 64)           2624      \n",
      "_________________________________________________________________\n",
      "max_pooling1d (MaxPooling1D) (None, 16, 64)            0         \n",
      "_________________________________________________________________\n",
      "conv1d_1 (Conv1D)            (None, 16, 128)           57472     \n",
      "_________________________________________________________________\n",
      "max_pooling1d_1 (MaxPooling1 (None, 4, 128)            0         \n",
      "_________________________________________________________________\n",
      "dense (Dense)                (None, 4, 1211)           156219    \n",
      "_________________________________________________________________\n",
      "bidirectional (Bidirectional (None, 4, 128)            653312    \n",
      "_________________________________________________________________\n",
      "flatten (Flatten)            (None, 512)               0         \n",
      "_________________________________________________________________\n",
      "batch_normalization (BatchNo (None, 512)               2048      \n",
      "_________________________________________________________________\n",
      "dense_1 (Dense)              (None, 1211)              621243    \n",
      "_________________________________________________________________\n",
      "batch_normalization_1 (Batch (None, 1211)              4844      \n",
      "_________________________________________________________________\n",
      "dense_2 (Dense)              (None, 1211)              1467732   \n",
      "_________________________________________________________________\n",
      "batch_normalization_2 (Batch (None, 1211)              4844      \n",
      "_________________________________________________________________\n",
      "dense_3 (Dense)              (None, 1)                 1212      \n",
      "=================================================================\n",
      "Total params: 2,971,550\n",
      "Trainable params: 2,965,682\n",
      "Non-trainable params: 5,868\n",
      "_________________________________________________________________\n"
     ]
    }
   ],
   "source": [
    "def create_Modelbaseline_pssm():\n",
    "    x_input = Input( shape=(400,1) )\n",
    "\n",
    "    #Conv1D\n",
    "    conv = Conv1D(64, kernel_size=40, strides=1, padding='same', activation='relu')(x_input)  # Extract whole motif pattern\n",
    "    conv = MaxPooling1D(pool_size=25)(conv)\n",
    "    conv = Conv1D(128, kernel_size=7, strides=1, padding='same', activation='relu')(conv)  # Extract extra features  \n",
    "    conv = MaxPooling1D(pool_size=4)(conv)\n",
    "\n",
    "    # batch normalization on features\n",
    "    #conv = BatchNormalization()(conv)\n",
    "\n",
    "    # Dropout and Dense Layer before LSTM\n",
    "    layer = Dense(1211, activation='relu')(conv)\n",
    "    #dense_convinpn = Dropout(0.5)(layer)\n",
    "\n",
    "\n",
    "    # Bi-LSTM\n",
    "    lstm = Bidirectional(LSTM(64, return_sequences=True, name='bilstm'))(layer) # learn order of sequence\n",
    "    #drop_after_lstm = Dropout(0.5)(lstm)\n",
    "\n",
    "    # Dense out\n",
    "    output = Flatten()(lstm)\n",
    "    #output = Dropout(0.5)(output)\n",
    "    output = BatchNormalization()(output)\n",
    "    output = Dense(1211, activation='relu')(output)\n",
    "    output = BatchNormalization()(output)\n",
    "    output = Dense(1211, activation='relu')(output)\n",
    "    output = BatchNormalization()(output)\n",
    "    x_output = Dense(1, activation='sigmoid')(output)\n",
    "\n",
    "    # comple\n",
    "    model_BLSTM = Model(inputs=x_input, outputs=x_output)\n",
    "    model_BLSTM.compile(optimizer='adam', loss='binary_crossentropy', metrics=['accuracy'])\n",
    "    return model_BLSTM\n",
    "\n",
    "def create_Modelbaseline_jax():\n",
    "    x_input = Input( shape=(1900,1) )\n",
    "    #Conv1D\n",
    "    conv = Conv1D(64, kernel_size=40, strides=1, padding='same', activation='relu')(x_input)  # Extract whole motif pattern\n",
    "    conv = MaxPooling1D(pool_size=25)(conv)\n",
    "    conv = Conv1D(128, kernel_size=7, strides=1, padding='same', activation='relu')(conv)  # Extract extra features  \n",
    "    conv = MaxPooling1D(pool_size=4)(conv)\n",
    "\n",
    "    # batch normalization on features\n",
    "    #conv = BatchNormalization()(conv)\n",
    "\n",
    "    # Dropout and Dense Layer before LSTM\n",
    "    layer = Dense(1211, activation='relu')(conv)\n",
    "    #dense_convinpn = Dropout(0.5)(layer)\n",
    "\n",
    "    # Bi-LSTM\n",
    "    lstm = Bidirectional(LSTM(64, return_sequences=True, name='bilstm'))(layer) # learn order of sequence\n",
    "    #drop_after_lstm = Dropout(0.5)(lstm)\n",
    "\n",
    "    # Dense out\n",
    "    output = Flatten()(lstm)\n",
    "    #output = Dropout(0.5)(output)\n",
    "    output = BatchNormalization()(output)\n",
    "    output = Dense(1211, activation='relu')(output)\n",
    "    output = BatchNormalization()(output)\n",
    "    output = Dense(1211, activation='relu')(output)\n",
    "    output = BatchNormalization()(output)\n",
    "    x_output = Dense(1, activation='sigmoid')(output)\n",
    "\n",
    "    # comple\n",
    "    model_BLSTM = Model(inputs=x_input, outputs=x_output)\n",
    "    model_BLSTM.compile(optimizer='adam', loss='binary_crossentropy', metrics=['accuracy'])\n",
    "    return model_BLSTM\n",
    "\n",
    "model_BLSTM = create_Modelbaseline_pssm()\n",
    "model_BLSTM.summary()"
   ]
  },
  {
   "cell_type": "code",
   "execution_count": 16,
   "metadata": {
    "scrolled": true,
    "tags": []
   },
   "outputs": [
    {
     "name": "stdout",
     "output_type": "stream",
     "text": [
      "WARNING:tensorflow:`period` argument is deprecated. Please use `save_freq` to specify the frequency in number of batches seen.\n",
      " Learning rate:  0.001\n",
      "Epoch 1/100\n",
      "222/222 [==============================] - 8s 34ms/step - loss: 0.3372 - accuracy: 0.8541 - val_loss: 18.4151 - val_accuracy: 0.5039\n",
      " Learning rate:  0.001\n",
      "Epoch 2/100\n",
      "222/222 [==============================] - 7s 33ms/step - loss: 0.3304 - accuracy: 0.8595 - val_loss: 17.2984 - val_accuracy: 0.5039\n",
      " Learning rate:  0.001\n",
      "Epoch 3/100\n",
      "222/222 [==============================] - 7s 34ms/step - loss: 0.3234 - accuracy: 0.8620 - val_loss: 15.6187 - val_accuracy: 0.5039\n",
      " Learning rate:  0.001\n",
      "Epoch 4/100\n",
      "222/222 [==============================] - 7s 32ms/step - loss: 0.3190 - accuracy: 0.8632 - val_loss: 22.3743 - val_accuracy: 0.5039\n",
      " Learning rate:  0.001\n",
      "Epoch 5/100\n",
      "222/222 [==============================] - 7s 33ms/step - loss: 0.3134 - accuracy: 0.8665 - val_loss: 19.5632 - val_accuracy: 0.5039\n",
      " Learning rate:  0.001\n",
      "Epoch 6/100\n",
      "222/222 [==============================] - 7s 33ms/step - loss: 0.3156 - accuracy: 0.8663 - val_loss: 23.9986 - val_accuracy: 0.5039\n",
      " Learning rate:  0.001\n",
      "Epoch 7/100\n",
      "222/222 [==============================] - 7s 31ms/step - loss: 0.3074 - accuracy: 0.8691 - val_loss: 56.7909 - val_accuracy: 0.5039\n",
      " Learning rate:  0.001\n",
      "Epoch 8/100\n",
      "222/222 [==============================] - 7s 33ms/step - loss: 0.3041 - accuracy: 0.8702 - val_loss: 21.4891 - val_accuracy: 0.5039\n",
      " Learning rate:  0.001\n",
      "Epoch 9/100\n",
      "222/222 [==============================] - 7s 32ms/step - loss: 0.3015 - accuracy: 0.8723 - val_loss: 70.5275 - val_accuracy: 0.5039\n",
      " Learning rate:  0.001\n",
      "Epoch 10/100\n",
      "222/222 [==============================] - 7s 32ms/step - loss: 0.3008 - accuracy: 0.8735 - val_loss: 0.9238 - val_accuracy: 0.5851\n",
      " Learning rate:  0.001\n",
      "Epoch 11/100\n",
      "222/222 [==============================] - 7s 33ms/step - loss: 0.2948 - accuracy: 0.8766 - val_loss: 9.4839 - val_accuracy: 0.5039\n",
      " Learning rate:  0.001\n",
      "Epoch 12/100\n",
      "222/222 [==============================] - 7s 32ms/step - loss: 0.2879 - accuracy: 0.8796 - val_loss: 56.4493 - val_accuracy: 0.5039\n",
      " Learning rate:  0.001\n",
      "Epoch 13/100\n",
      "222/222 [==============================] - 7s 33ms/step - loss: 0.2869 - accuracy: 0.8802 - val_loss: 14.0103 - val_accuracy: 0.5039\n",
      " Learning rate:  0.001\n",
      "Epoch 14/100\n",
      "222/222 [==============================] - 7s 32ms/step - loss: 0.2874 - accuracy: 0.8811 - val_loss: 48.8936 - val_accuracy: 0.5039\n",
      " Learning rate:  0.001\n",
      "Epoch 15/100\n",
      "222/222 [==============================] - 7s 31ms/step - loss: 0.2755 - accuracy: 0.8872 - val_loss: 29.9291 - val_accuracy: 0.5039\n",
      " Learning rate:  0.001\n",
      "Epoch 16/100\n",
      "222/222 [==============================] - 7s 33ms/step - loss: 0.2684 - accuracy: 0.8877 - val_loss: 15.7289 - val_accuracy: 0.5039\n",
      " Learning rate:  0.001\n",
      "Epoch 17/100\n",
      "222/222 [==============================] - 7s 33ms/step - loss: 0.2609 - accuracy: 0.8931 - val_loss: 15.2512 - val_accuracy: 0.5036\n",
      " Learning rate:  0.001\n",
      "Epoch 18/100\n",
      "222/222 [==============================] - 7s 33ms/step - loss: 0.2608 - accuracy: 0.8931 - val_loss: 22.3454 - val_accuracy: 0.5039\n",
      " Learning rate:  0.001\n",
      "Epoch 19/100\n",
      "222/222 [==============================] - 7s 32ms/step - loss: 0.2498 - accuracy: 0.8970 - val_loss: 50.8665 - val_accuracy: 0.5039\n",
      " Learning rate:  0.001\n",
      "Epoch 20/100\n",
      "222/222 [==============================] - 7s 32ms/step - loss: 0.2475 - accuracy: 0.8995 - val_loss: 8.2337 - val_accuracy: 0.5039\n",
      " Learning rate:  0.001\n",
      "Epoch 21/100\n",
      "222/222 [==============================] - 7s 32ms/step - loss: 0.2383 - accuracy: 0.9021 - val_loss: 7.9779 - val_accuracy: 0.5039\n",
      " Learning rate:  0.0001\n",
      "Epoch 22/100\n",
      "222/222 [==============================] - 7s 32ms/step - loss: 0.1943 - accuracy: 0.9239 - val_loss: 2.0287 - val_accuracy: 0.5043\n",
      " Learning rate:  0.0001\n",
      "Epoch 23/100\n",
      "222/222 [==============================] - 7s 33ms/step - loss: 0.1751 - accuracy: 0.9321 - val_loss: 0.9961 - val_accuracy: 0.6401\n",
      " Learning rate:  0.0001\n",
      "Epoch 24/100\n",
      "222/222 [==============================] - 7s 32ms/step - loss: 0.1654 - accuracy: 0.9362 - val_loss: 2.4528 - val_accuracy: 0.5458\n",
      " Learning rate:  0.0001\n",
      "Epoch 25/100\n",
      "222/222 [==============================] - 7s 30ms/step - loss: 0.1552 - accuracy: 0.9410 - val_loss: 9.2422 - val_accuracy: 0.4918\n",
      " Learning rate:  0.0001\n",
      "Epoch 26/100\n",
      "222/222 [==============================] - 7s 31ms/step - loss: 0.1471 - accuracy: 0.9446 - val_loss: 2.8083 - val_accuracy: 0.6477\n",
      " Learning rate:  0.0001\n",
      "Epoch 27/100\n",
      "222/222 [==============================] - 7s 31ms/step - loss: 0.1408 - accuracy: 0.9468 - val_loss: 2.0649 - val_accuracy: 0.6742\n",
      " Learning rate:  0.0001\n",
      "Epoch 28/100\n",
      "222/222 [==============================] - 7s 32ms/step - loss: 0.1328 - accuracy: 0.9506 - val_loss: 1.6647 - val_accuracy: 0.5766\n",
      " Learning rate:  0.0001\n",
      "Epoch 29/100\n",
      "222/222 [==============================] - 7s 33ms/step - loss: 0.1247 - accuracy: 0.9535 - val_loss: 19.2562 - val_accuracy: 0.5038\n",
      " Learning rate:  0.0001\n",
      "Epoch 30/100\n",
      "222/222 [==============================] - 7s 31ms/step - loss: 0.1182 - accuracy: 0.9562 - val_loss: 6.3448 - val_accuracy: 0.5048\n",
      "Epoch 00030: early stopping\n"
     ]
    }
   ],
   "source": [
    "checkpoint_BLSTM = ModelCheckpoint(\"/mnt/vdb/thesis/best_model_BLSTM.V5.hdf5\", monitor='loss', verbose=1,\n",
    "    save_best_only=True, mode='auto', period=1)\n",
    "\n",
    "# Early Stopping\n",
    "es = EarlyStopping(monitor='val_loss', patience=20, verbose=1)\n",
    "\n",
    "history_BLSTM = model_BLSTM.fit(X_train, y_train, epochs=100, batch_size=256, validation_data=(X_val, y_val),\n",
    "                     callbacks=[es,lr_scheduler], verbose=1)"
   ]
  },
  {
   "cell_type": "code",
   "execution_count": null,
   "metadata": {},
   "outputs": [],
   "source": []
  },
  {
   "cell_type": "code",
   "execution_count": 37,
   "metadata": {},
   "outputs": [
    {
     "name": "stdout",
     "output_type": "stream",
     "text": [
      "              precision    recall  f1-score   support\n",
      "\n",
      "           0       0.79      0.86      0.82      1778\n",
      "           1       0.84      0.77      0.80      1778\n",
      "\n",
      "    accuracy                           0.81      3556\n",
      "   macro avg       0.81      0.81      0.81      3556\n",
      "weighted avg       0.81      0.81      0.81      3556\n",
      "\n"
     ]
    },
    {
     "data": {
      "image/png": "[encoded data removed]",
      "text/plain": [
       "<Figure size 864x360 with 2 Axes>"
      ]
     },
     "metadata": {
      "needs_background": "light"
     },
     "output_type": "display_data"
    }
   ],
   "source": [
    "y_probas = model_BLSTM.predict(X_test)\n",
    "threshold = 0.5\n",
    "y_predict = np.where(y_probas > threshold, 1, 0)\n",
    "print(classification_report(y_test, y_predict))\n",
    "plot_history(history_BLSTM)"
   ]
  },
  {
   "cell_type": "code",
   "execution_count": 12,
   "metadata": {},
   "outputs": [
    {
     "name": "stdout",
     "output_type": "stream",
     "text": [
      "              precision    recall  f1-score   support\n",
      "\n",
      "           0       0.81      0.92      0.86      1778\n",
      "           1       0.90      0.79      0.84      1778\n",
      "\n",
      "    accuracy                           0.85      3556\n",
      "   macro avg       0.86      0.85      0.85      3556\n",
      "weighted avg       0.86      0.85      0.85      3556\n",
      "\n"
     ]
    },
    {
     "data": {
      "image/png": "[encoded data removed]",
      "text/plain": [
       "<Figure size 864x360 with 2 Axes>"
      ]
     },
     "metadata": {
      "needs_background": "light"
     },
     "output_type": "display_data"
    }
   ],
   "source": [
    "y_probas = model_BLSTM.predict(X_test)\n",
    "threshold = 0.5\n",
    "y_predict = np.where(y_probas > threshold, 1, 0)\n",
    "print(classification_report(y_test, y_predict))\n",
    "plot_history(history_BLSTM)"
   ]
  },
  {
   "cell_type": "code",
   "execution_count": 40,
   "metadata": {},
   "outputs": [
    {
     "data": {
      "image/png": "[encoded data removed]",
      "text/plain": [
       "<Figure size 432x288 with 1 Axes>"
      ]
     },
     "metadata": {
      "needs_background": "light"
     },
     "output_type": "display_data"
    },
    {
     "data": {
      "image/png": "[encoded data removed]",
      "text/plain": [
       "<Figure size 432x288 with 1 Axes>"
      ]
     },
     "metadata": {
      "needs_background": "light"
     },
     "output_type": "display_data"
    }
   ],
   "source": [
    "create_roc_curve(y_test,y_probas)\n",
    "# plot precision-recall curves\n",
    "plot_pr_curve(y_test, y_probas)"
   ]
  },
  {
   "cell_type": "code",
   "execution_count": 19,
   "metadata": {},
   "outputs": [
    {
     "name": "stdout",
     "output_type": "stream",
     "text": [
      "INFO:tensorflow:Assets written to: /mnt/vdb/thesis/best_model_BLSTM.V5.pssm.hdf/assets\n"
     ]
    }
   ],
   "source": [
    "model_BLSTM.save(\"/mnt/vdb/thesis/best_model_BLSTM.V5.pssm.hdf\")\n"
   ]
  },
  {
   "cell_type": "code",
   "execution_count": 51,
   "metadata": {},
   "outputs": [
    {
     "name": "stderr",
     "output_type": "stream",
     "text": [
      "/home/ubuntu/miniconda3/envs/py3/lib/python3.7/site-packages/sklearn/metrics/_classification.py:1245: UndefinedMetricWarning: Precision and F-score are ill-defined and being set to 0.0 in labels with no predicted samples. Use `zero_division` parameter to control this behavior.\n",
      "  _warn_prf(average, modifier, msg_start, len(result))\n",
      "/home/ubuntu/miniconda3/envs/py3/lib/python3.7/site-packages/sklearn/metrics/_classification.py:1245: UndefinedMetricWarning: Precision and F-score are ill-defined and being set to 0.0 in labels with no predicted samples. Use `zero_division` parameter to control this behavior.\n",
      "  _warn_prf(average, modifier, msg_start, len(result))\n",
      "/home/ubuntu/miniconda3/envs/py3/lib/python3.7/site-packages/sklearn/metrics/_classification.py:1245: UndefinedMetricWarning: Precision and F-score are ill-defined and being set to 0.0 in labels with no predicted samples. Use `zero_division` parameter to control this behavior.\n",
      "  _warn_prf(average, modifier, msg_start, len(result))\n"
     ]
    },
    {
     "name": "stdout",
     "output_type": "stream",
     "text": [
      "              precision    recall  f1-score   support\n",
      "\n",
      "           0       0.50      1.00      0.67      1778\n",
      "           1       0.00      0.00      0.00      1778\n",
      "\n",
      "    accuracy                           0.50      3556\n",
      "   macro avg       0.25      0.50      0.33      3556\n",
      "weighted avg       0.25      0.50      0.33      3556\n",
      "\n"
     ]
    },
    {
     "data": {
      "image/png": "[encoded data removed]",
      "text/plain": [
       "<Figure size 864x360 with 2 Axes>"
      ]
     },
     "metadata": {
      "needs_background": "light"
     },
     "output_type": "display_data"
    }
   ],
   "source": [
    "# set9 PSSM\n",
    "y_probas = model_BLSTM.predict(X_test)\n",
    "threshold = 0.5\n",
    "y_predict = np.where(y_probas > threshold, 1, 0)\n",
    "print(classification_report(y_test, y_predict))\n",
    "plot_history(history_BLSTM)"
   ]
  },
  {
   "cell_type": "code",
   "execution_count": 48,
   "metadata": {},
   "outputs": [
    {
     "data": {
      "image/png": "[encoded data removed]",
      "text/plain": [
       "<Figure size 432x288 with 1 Axes>"
      ]
     },
     "metadata": {
      "needs_background": "light"
     },
     "output_type": "display_data"
    },
    {
     "data": {
      "image/png": "[encoded data removed]",
      "text/plain": [
       "<Figure size 432x288 with 1 Axes>"
      ]
     },
     "metadata": {
      "needs_background": "light"
     },
     "output_type": "display_data"
    }
   ],
   "source": [
    "create_roc_curve(y_test,y_probas)\n",
    "# plot precision-recall curves\n",
    "plot_pr_curve(y_test, y_probas)"
   ]
  },
  {
   "cell_type": "code",
   "execution_count": 18,
   "metadata": {
    "scrolled": true,
    "tags": []
   },
   "outputs": [
    {
     "name": "stdout",
     "output_type": "stream",
     "text": [
      "------------------------------------------------------------------------\n",
      "Training for fold 1 ...\n",
      " Learning rate:  0.001\n",
      " Learning rate:  0.001\n",
      " Learning rate:  0.001\n",
      " Learning rate:  0.001\n",
      " Learning rate:  0.001\n",
      " Learning rate:  0.001\n",
      " Learning rate:  0.001\n",
      " Learning rate:  0.001\n",
      " Learning rate:  0.001\n",
      " Learning rate:  0.001\n",
      " Learning rate:  0.001\n",
      " Learning rate:  0.001\n",
      " Learning rate:  0.001\n",
      " Learning rate:  0.001\n",
      " Learning rate:  0.001\n",
      " Learning rate:  0.001\n",
      "Epoch 00016: early stopping\n",
      "Score for fold 1: loss of 52.171844482421875; accuracy of 50.0%\n",
      "Accuracy: 0.500000\n",
      "Precision: 0.500000\n",
      "Recall: 0.250000\n",
      "F1 score: 0.333333\n"
     ]
    },
    {
     "name": "stderr",
     "output_type": "stream",
     "text": [
      "/home/ubuntu/miniconda3/envs/py3/lib/python3.7/site-packages/sklearn/metrics/_classification.py:1245: UndefinedMetricWarning: Recall is ill-defined and being set to 0.0 due to no true samples. Use `zero_division` parameter to control this behavior.\n",
      "  _warn_prf(average, modifier, msg_start, len(result))\n"
     ]
    },
    {
     "name": "stdout",
     "output_type": "stream",
     "text": [
      "------------------------------------------------------------------------\n",
      "Training for fold 2 ...\n",
      " Learning rate:  0.001\n",
      " Learning rate:  0.001\n",
      " Learning rate:  0.001\n",
      " Learning rate:  0.001\n",
      " Learning rate:  0.001\n",
      " Learning rate:  0.001\n",
      " Learning rate:  0.001\n",
      " Learning rate:  0.001\n",
      " Learning rate:  0.001\n",
      " Learning rate:  0.001\n",
      " Learning rate:  0.001\n",
      " Learning rate:  0.001\n",
      " Learning rate:  0.001\n",
      " Learning rate:  0.001\n",
      " Learning rate:  0.001\n",
      " Learning rate:  0.001\n",
      "Epoch 00016: early stopping\n",
      "Score for fold 2: loss of 32.25640106201172; accuracy of 50.0%\n",
      "Accuracy: 0.500000\n",
      "Precision: 0.500000\n",
      "Recall: 0.250000\n",
      "F1 score: 0.333333\n"
     ]
    },
    {
     "name": "stderr",
     "output_type": "stream",
     "text": [
      "/home/ubuntu/miniconda3/envs/py3/lib/python3.7/site-packages/sklearn/metrics/_classification.py:1245: UndefinedMetricWarning: Recall is ill-defined and being set to 0.0 due to no true samples. Use `zero_division` parameter to control this behavior.\n",
      "  _warn_prf(average, modifier, msg_start, len(result))\n"
     ]
    },
    {
     "name": "stdout",
     "output_type": "stream",
     "text": [
      "------------------------------------------------------------------------\n",
      "Training for fold 3 ...\n",
      " Learning rate:  0.001\n",
      " Learning rate:  0.001\n",
      " Learning rate:  0.001\n",
      " Learning rate:  0.001\n",
      " Learning rate:  0.001\n",
      " Learning rate:  0.001\n",
      " Learning rate:  0.001\n",
      " Learning rate:  0.001\n",
      " Learning rate:  0.001\n",
      " Learning rate:  0.001\n",
      " Learning rate:  0.001\n",
      " Learning rate:  0.001\n",
      " Learning rate:  0.001\n",
      " Learning rate:  0.001\n",
      " Learning rate:  0.001\n",
      " Learning rate:  0.001\n",
      " Learning rate:  0.001\n",
      " Learning rate:  0.001\n",
      " Learning rate:  0.001\n",
      " Learning rate:  0.001\n",
      "Epoch 00020: early stopping\n",
      "Score for fold 3: loss of 19.816286087036133; accuracy of 50.0%\n",
      "Accuracy: 0.500000\n",
      "Precision: 0.500000\n",
      "Recall: 0.250000\n",
      "F1 score: 0.333333\n"
     ]
    },
    {
     "name": "stderr",
     "output_type": "stream",
     "text": [
      "/home/ubuntu/miniconda3/envs/py3/lib/python3.7/site-packages/sklearn/metrics/_classification.py:1245: UndefinedMetricWarning: Recall is ill-defined and being set to 0.0 due to no true samples. Use `zero_division` parameter to control this behavior.\n",
      "  _warn_prf(average, modifier, msg_start, len(result))\n"
     ]
    },
    {
     "name": "stdout",
     "output_type": "stream",
     "text": [
      "------------------------------------------------------------------------\n",
      "Training for fold 4 ...\n",
      " Learning rate:  0.001\n",
      " Learning rate:  0.001\n",
      " Learning rate:  0.001\n",
      " Learning rate:  0.001\n",
      " Learning rate:  0.001\n",
      " Learning rate:  0.001\n",
      " Learning rate:  0.001\n",
      " Learning rate:  0.001\n",
      " Learning rate:  0.001\n",
      " Learning rate:  0.001\n",
      " Learning rate:  0.001\n",
      " Learning rate:  0.001\n",
      " Learning rate:  0.001\n",
      " Learning rate:  0.001\n",
      " Learning rate:  0.001\n",
      " Learning rate:  0.001\n",
      " Learning rate:  0.001\n",
      " Learning rate:  0.001\n",
      " Learning rate:  0.001\n",
      " Learning rate:  0.001\n",
      " Learning rate:  0.001\n",
      " Learning rate:  0.0001\n",
      " Learning rate:  0.0001\n",
      " Learning rate:  0.0001\n",
      " Learning rate:  0.0001\n",
      " Learning rate:  0.0001\n",
      " Learning rate:  0.0001\n",
      " Learning rate:  0.0001\n",
      " Learning rate:  0.0001\n",
      " Learning rate:  0.0001\n",
      " Learning rate:  0.0001\n",
      " Learning rate:  0.0001\n",
      " Learning rate:  0.0001\n",
      " Learning rate:  0.0001\n",
      " Learning rate:  0.0001\n",
      " Learning rate:  0.0001\n",
      " Learning rate:  0.0001\n",
      " Learning rate:  0.0001\n",
      "Epoch 00038: early stopping\n",
      "Score for fold 4: loss of 11.651477813720703; accuracy of 50.0%\n",
      "Accuracy: 0.500000\n",
      "Precision: 0.500000\n",
      "Recall: 0.250000\n",
      "F1 score: 0.333333\n"
     ]
    },
    {
     "name": "stderr",
     "output_type": "stream",
     "text": [
      "/home/ubuntu/miniconda3/envs/py3/lib/python3.7/site-packages/sklearn/metrics/_classification.py:1245: UndefinedMetricWarning: Recall is ill-defined and being set to 0.0 due to no true samples. Use `zero_division` parameter to control this behavior.\n",
      "  _warn_prf(average, modifier, msg_start, len(result))\n"
     ]
    },
    {
     "name": "stdout",
     "output_type": "stream",
     "text": [
      "------------------------------------------------------------------------\n",
      "Training for fold 5 ...\n",
      " Learning rate:  0.001\n",
      " Learning rate:  0.001\n",
      " Learning rate:  0.001\n",
      " Learning rate:  0.001\n",
      " Learning rate:  0.001\n",
      " Learning rate:  0.001\n",
      " Learning rate:  0.001\n",
      " Learning rate:  0.001\n",
      " Learning rate:  0.001\n",
      " Learning rate:  0.001\n",
      " Learning rate:  0.001\n",
      " Learning rate:  0.001\n",
      " Learning rate:  0.001\n",
      " Learning rate:  0.001\n",
      " Learning rate:  0.001\n",
      " Learning rate:  0.001\n",
      " Learning rate:  0.001\n",
      " Learning rate:  0.001\n",
      " Learning rate:  0.001\n",
      " Learning rate:  0.001\n",
      " Learning rate:  0.001\n",
      " Learning rate:  0.0001\n",
      " Learning rate:  0.0001\n",
      " Learning rate:  0.0001\n",
      " Learning rate:  0.0001\n",
      " Learning rate:  0.0001\n",
      " Learning rate:  0.0001\n",
      " Learning rate:  0.0001\n",
      " Learning rate:  0.0001\n",
      " Learning rate:  0.0001\n",
      " Learning rate:  0.0001\n",
      " Learning rate:  0.0001\n",
      " Learning rate:  0.0001\n",
      " Learning rate:  0.0001\n",
      " Learning rate:  0.0001\n",
      " Learning rate:  0.0001\n",
      " Learning rate:  0.0001\n",
      "Epoch 00037: early stopping\n",
      "Score for fold 5: loss of 8.266519546508789; accuracy of 59.05511975288391%\n",
      "Accuracy: 0.590551\n",
      "Precision: 0.590551\n",
      "Recall: 0.654521\n",
      "F1 score: 0.543282\n",
      "------------------------------------------------------------------------\n",
      "Score per fold\n",
      "------------------------------------------------------------------------\n",
      "> Fold 1 - Loss: 52.171844482421875 - Accuracy: 50.0%\n",
      "------------------------------------------------------------------------\n",
      "> Fold 2 - Loss: 32.25640106201172 - Accuracy: 50.0%\n",
      "------------------------------------------------------------------------\n",
      "> Fold 3 - Loss: 19.816286087036133 - Accuracy: 50.0%\n",
      "------------------------------------------------------------------------\n",
      "> Fold 4 - Loss: 11.651477813720703 - Accuracy: 50.0%\n",
      "------------------------------------------------------------------------\n",
      "> Fold 5 - Loss: 8.266519546508789 - Accuracy: 59.05511975288391%\n",
      "------------------------------------------------------------------------\n",
      "Average scores for all folds:\n",
      "> Accuracy: 51.81102395057678 (+- 3.6220479011535645)\n",
      "> Pecision: 51.811023622047244 (+- 3.6220472440944858)\n",
      "> Recall: 33.090424647566486 (+- 16.18084929513297)\n",
      "> F1: 37.53231008080166 (+- 8.397953494936663)\n",
      "> Loss: 24.832505798339845\n",
      "------------------------------------------------------------------------\n"
     ]
    }
   ],
   "source": [
    "# PSSM\n",
    "\n",
    "from sklearn.model_selection import KFold\n",
    "from sklearn.metrics import accuracy_score\n",
    "from sklearn.metrics import precision_score\n",
    "from sklearn.metrics import recall_score\n",
    "from sklearn.metrics import f1_score\n",
    "from sklearn.metrics import roc_auc_score\n",
    "\n",
    "\n",
    "inputs = np.concatenate((X_train, X_val), axis=0)\n",
    "targets = np.concatenate((y_train, y_val), axis=0)\n",
    "# Define per-fold score containers\n",
    "acc_per_fold = []\n",
    "loss_per_fold = []\n",
    "_precision = []\n",
    "_recal = []\n",
    "_f1 = []\n",
    "_auc_pr = []\n",
    "_roc_pr = []\n",
    "# Define the K-fold Cross Validator\n",
    "kfold = KFold(n_splits=5, shuffle=True)\n",
    "\n",
    "# K-fold Cross Validation model evaluation\n",
    "fold_no = 1\n",
    "for train_index, test_index  in kfold.split(inputs, targets):\n",
    "    \n",
    "    X_train= inputs[train_index]\n",
    "    y_train= targets[train_index]\n",
    "    X_val=  inputs[test_index]\n",
    "    y_val = targets[test_index]\n",
    "    # Early Stopping\n",
    "    es = EarlyStopping(monitor='val_loss', patience=15, verbose=1)\n",
    "\n",
    "    #learning rate decay\n",
    "    lr_scheduler = LearningRateScheduler(lr_schedule)\n",
    "    model = create_Modelbaseline_pssm()\n",
    "    # Generate a print\n",
    "    print('------------------------------------------------------------------------')\n",
    "    print(f'Training for fold {fold_no} ...')\n",
    "\n",
    "    # Fit data to model\n",
    "    history = model.fit(X_train, y_train, epochs=100,batch_size=128,\n",
    "                        validation_data=(X_val, y_val),\n",
    "                        callbacks=[es, lr_scheduler], verbose=0)\n",
    "\n",
    "    # Generate generalization metrics\n",
    "    scores = model.evaluate(X_test, y_test, verbose=0)\n",
    "    print(f'Score for fold {fold_no}: {model.metrics_names[0]} of {scores[0]}; {model.metrics_names[1]} of {scores[1]*100}%')\n",
    "    \n",
    "    # predict probabilities for test set\n",
    "    y_probas = model.predict(X_test)\n",
    "    threshold = 0.5\n",
    "    y_predict = np.where(y_probas > threshold, 1, 0)\n",
    "\n",
    "    # accuracy: (tp + tn) / (p + n)\n",
    "    accuracy = accuracy_score(y_predict, y_test)\n",
    "    print('Accuracy: %f' % accuracy)\n",
    "    # precision tp / (tp + fp)\n",
    "    precision = (precision_score(y_predict,y_test, pos_label= 1)+precision_score(y_predict,y_test , pos_label= 0))*0.5\n",
    "    print('Precision: %f' % precision)\n",
    "    # recall: tp / (tp + fn)\n",
    "    recall = (recall_score(y_predict,y_test, pos_label= 1)+recall_score(y_predict,y_test , pos_label= 0))*0.5\n",
    "    print('Recall: %f' % recall)\n",
    "    # f1: 2 tp / (2 tp + fp + fn)\n",
    "    f1 =  (f1_score(y_predict,y_test, pos_label= 1)+f1_score(y_predict,y_test , pos_label= 0))*0.5\n",
    "    print('F1 score: %f' % f1)\n",
    "    \n",
    "    acc_per_fold.append(scores[1] * 100)\n",
    "    loss_per_fold.append(scores[0])  \n",
    "    _precision.append(precision * 100)  \n",
    "    _recal.append(recall * 100)  \n",
    "    _f1.append(f1 * 100)  \n",
    " \n",
    "    # Increase fold number\n",
    "    fold_no = fold_no + 1\n",
    "\n",
    "# == Provide average scores ==\n",
    "print('------------------------------------------------------------------------')\n",
    "print('Score per fold')\n",
    "for i in range(0, len(acc_per_fold)):\n",
    "  print('------------------------------------------------------------------------')\n",
    "  print(f'> Fold {i+1} - Loss: {loss_per_fold[i]} - Accuracy: {acc_per_fold[i]}%')\n",
    "print('------------------------------------------------------------------------')\n",
    "print('Average scores for all folds:')\n",
    "print(f'> Accuracy: {np.mean(acc_per_fold)} (+- {np.std(acc_per_fold)})')\n",
    "print(f'> Pecision: {np.mean(_precision)} (+- {np.std(_precision)})')\n",
    "print(f'> Recall: {np.mean(_recal)} (+- {np.std(_recal)})')\n",
    "print(f'> F1: {np.mean(_f1)} (+- {np.std(_f1)})')\n",
    "print(f'> Loss: {np.mean(loss_per_fold)}')\n",
    "print('------------------------------------------------------------------------')"
   ]
  },
  {
   "cell_type": "code",
   "execution_count": 21,
   "metadata": {
    "scrolled": true,
    "tags": []
   },
   "outputs": [
    {
     "name": "stdout",
     "output_type": "stream",
     "text": [
      "------------------------------------------------------------------------\n",
      "Training for fold 1 ...\n",
      " Learning rate:  0.001\n",
      " Learning rate:  0.001\n",
      " Learning rate:  0.001\n",
      " Learning rate:  0.001\n",
      " Learning rate:  0.001\n",
      " Learning rate:  0.001\n",
      " Learning rate:  0.001\n",
      " Learning rate:  0.001\n",
      " Learning rate:  0.001\n",
      " Learning rate:  0.001\n",
      " Learning rate:  0.001\n",
      " Learning rate:  0.001\n",
      " Learning rate:  0.001\n",
      " Learning rate:  0.001\n",
      " Learning rate:  0.001\n",
      " Learning rate:  0.001\n",
      " Learning rate:  0.001\n",
      " Learning rate:  0.001\n",
      " Learning rate:  0.001\n",
      " Learning rate:  0.001\n",
      " Learning rate:  0.001\n",
      "Epoch 00021: early stopping\n",
      "Score for fold 1: loss of 2.8184731006622314; accuracy of 58.80202651023865%\n",
      "Accuracy: 0.588020\n",
      "Precision: 0.588020\n",
      "Recall: 0.716185\n",
      "F1 score: 0.516335\n",
      "------------------------------------------------------------------------\n",
      "Training for fold 2 ...\n",
      " Learning rate:  0.001\n",
      " Learning rate:  0.001\n",
      " Learning rate:  0.001\n",
      " Learning rate:  0.001\n",
      " Learning rate:  0.001\n",
      " Learning rate:  0.001\n",
      " Learning rate:  0.001\n",
      " Learning rate:  0.001\n",
      " Learning rate:  0.001\n",
      " Learning rate:  0.001\n",
      " Learning rate:  0.001\n",
      " Learning rate:  0.001\n",
      " Learning rate:  0.001\n",
      " Learning rate:  0.001\n",
      " Learning rate:  0.001\n",
      " Learning rate:  0.001\n",
      " Learning rate:  0.001\n",
      " Learning rate:  0.001\n",
      " Learning rate:  0.001\n",
      " Learning rate:  0.001\n",
      " Learning rate:  0.001\n",
      " Learning rate:  0.0001\n",
      " Learning rate:  0.0001\n",
      " Learning rate:  0.0001\n",
      " Learning rate:  0.0001\n",
      " Learning rate:  0.0001\n",
      " Learning rate:  0.0001\n",
      " Learning rate:  0.0001\n",
      " Learning rate:  0.0001\n",
      " Learning rate:  0.0001\n",
      " Learning rate:  0.0001\n",
      "Epoch 00031: early stopping\n",
      "Score for fold 2: loss of 0.8704397082328796; accuracy of 80.11810779571533%\n",
      "Accuracy: 0.801181\n",
      "Precision: 0.801181\n",
      "Recall: 0.828298\n",
      "F1 score: 0.796989\n",
      "------------------------------------------------------------------------\n",
      "Training for fold 3 ...\n",
      " Learning rate:  0.001\n",
      " Learning rate:  0.001\n",
      " Learning rate:  0.001\n",
      " Learning rate:  0.001\n",
      " Learning rate:  0.001\n",
      " Learning rate:  0.001\n",
      " Learning rate:  0.001\n",
      " Learning rate:  0.001\n",
      " Learning rate:  0.001\n",
      " Learning rate:  0.001\n",
      " Learning rate:  0.001\n",
      " Learning rate:  0.001\n",
      " Learning rate:  0.001\n",
      " Learning rate:  0.001\n",
      " Learning rate:  0.001\n",
      " Learning rate:  0.001\n",
      " Learning rate:  0.001\n",
      " Learning rate:  0.001\n",
      " Learning rate:  0.001\n",
      "Epoch 00019: early stopping\n",
      "Score for fold 3: loss of 1.9976575374603271; accuracy of 58.23959708213806%\n",
      "Accuracy: 0.582396\n",
      "Precision: 0.582396\n",
      "Recall: 0.752253\n",
      "F1 score: 0.497867\n",
      "------------------------------------------------------------------------\n",
      "Training for fold 4 ...\n",
      " Learning rate:  0.001\n",
      " Learning rate:  0.001\n",
      " Learning rate:  0.001\n",
      " Learning rate:  0.001\n",
      " Learning rate:  0.001\n",
      " Learning rate:  0.001\n",
      " Learning rate:  0.001\n",
      " Learning rate:  0.001\n",
      " Learning rate:  0.001\n",
      " Learning rate:  0.001\n",
      " Learning rate:  0.001\n",
      " Learning rate:  0.001\n",
      " Learning rate:  0.001\n",
      " Learning rate:  0.001\n",
      " Learning rate:  0.001\n",
      " Learning rate:  0.001\n",
      " Learning rate:  0.001\n",
      " Learning rate:  0.001\n",
      " Learning rate:  0.001\n",
      " Learning rate:  0.001\n",
      " Learning rate:  0.001\n",
      "Epoch 00021: early stopping\n",
      "Score for fold 4: loss of 0.5780133605003357; accuracy of 78.03711891174316%\n",
      "Accuracy: 0.780371\n",
      "Precision: 0.780371\n",
      "Recall: 0.783178\n",
      "F1 score: 0.779826\n",
      "------------------------------------------------------------------------\n",
      "Training for fold 5 ...\n",
      " Learning rate:  0.001\n",
      " Learning rate:  0.001\n",
      " Learning rate:  0.001\n",
      " Learning rate:  0.001\n",
      " Learning rate:  0.001\n",
      " Learning rate:  0.001\n",
      " Learning rate:  0.001\n",
      " Learning rate:  0.001\n",
      " Learning rate:  0.001\n",
      " Learning rate:  0.001\n",
      " Learning rate:  0.001\n",
      " Learning rate:  0.001\n",
      " Learning rate:  0.001\n",
      " Learning rate:  0.001\n",
      " Learning rate:  0.001\n",
      " Learning rate:  0.001\n",
      " Learning rate:  0.001\n",
      " Learning rate:  0.001\n",
      " Learning rate:  0.001\n",
      " Learning rate:  0.001\n",
      " Learning rate:  0.001\n",
      " Learning rate:  0.0001\n",
      " Learning rate:  0.0001\n",
      " Learning rate:  0.0001\n",
      " Learning rate:  0.0001\n",
      " Learning rate:  0.0001\n",
      " Learning rate:  0.0001\n",
      " Learning rate:  0.0001\n",
      " Learning rate:  0.0001\n",
      " Learning rate:  0.0001\n",
      " Learning rate:  0.0001\n",
      " Learning rate:  0.0001\n",
      " Learning rate:  0.0001\n",
      " Learning rate:  0.0001\n",
      " Learning rate:  0.0001\n",
      " Learning rate:  0.0001\n",
      " Learning rate:  0.0001\n",
      "Epoch 00037: early stopping\n",
      "Score for fold 5: loss of 1.456844449043274; accuracy of 79.80877161026001%\n",
      "Accuracy: 0.798088\n",
      "Precision: 0.798088\n",
      "Recall: 0.821311\n",
      "F1 score: 0.794372\n",
      "------------------------------------------------------------------------\n",
      "Score per fold\n",
      "------------------------------------------------------------------------\n",
      "> Fold 1 - Loss: 2.8184731006622314 - Accuracy: 58.80202651023865%\n",
      "------------------------------------------------------------------------\n",
      "> Fold 2 - Loss: 0.8704397082328796 - Accuracy: 80.11810779571533%\n",
      "------------------------------------------------------------------------\n",
      "> Fold 3 - Loss: 1.9976575374603271 - Accuracy: 58.23959708213806%\n",
      "------------------------------------------------------------------------\n",
      "> Fold 4 - Loss: 0.5780133605003357 - Accuracy: 78.03711891174316%\n",
      "------------------------------------------------------------------------\n",
      "> Fold 5 - Loss: 1.456844449043274 - Accuracy: 79.80877161026001%\n",
      "------------------------------------------------------------------------\n",
      "Average scores for all folds:\n",
      "> Accuracy: 71.00112438201904 (+- 10.216396852079958)\n",
      "> Pecision: 71.00112485939256 (+- 10.216398811125996)\n",
      "> Recall: 78.0244947296827 (+- 4.216951493030943)\n",
      "> F1: 67.70778337754886 (+- 13.90312827704232)\n",
      "> Loss: 1.5442856311798097\n",
      "------------------------------------------------------------------------\n"
     ]
    }
   ],
   "source": [
    "## jax\n",
    "\n",
    "from sklearn.model_selection import KFold\n",
    "from sklearn.metrics import accuracy_score\n",
    "from sklearn.metrics import precision_score\n",
    "from sklearn.metrics import recall_score\n",
    "from sklearn.metrics import f1_score\n",
    "from sklearn.metrics import roc_auc_score\n",
    "\n",
    "\n",
    "inputs = np.concatenate((X_train, X_val), axis=0)\n",
    "targets = np.concatenate((y_train, y_val), axis=0)\n",
    "# Define per-fold score containers\n",
    "acc_per_fold = []\n",
    "loss_per_fold = []\n",
    "_precision = []\n",
    "_recal = []\n",
    "_f1 = []\n",
    "_auc_pr = []\n",
    "_roc_pr = []\n",
    "# Define the K-fold Cross Validator\n",
    "kfold = KFold(n_splits=5, shuffle=True)\n",
    "\n",
    "# K-fold Cross Validation model evaluation\n",
    "fold_no = 1\n",
    "for train_index, test_index  in kfold.split(inputs, targets):\n",
    "    \n",
    "    X_train= inputs[train_index]\n",
    "    y_train= targets[train_index]\n",
    "    X_val=  inputs[test_index]\n",
    "    y_val = targets[test_index]\n",
    "    # Early Stopping\n",
    "    es = EarlyStopping(monitor='val_loss', patience=15, verbose=1)\n",
    "\n",
    "    #learning rate decay\n",
    "    lr_scheduler = LearningRateScheduler(lr_schedule)\n",
    "    model = create_Modelbaseline_jax()\n",
    "    # Generate a print\n",
    "    print('------------------------------------------------------------------------')\n",
    "    print(f'Training for fold {fold_no} ...')\n",
    "\n",
    "    # Fit data to model\n",
    "    history = model.fit(X_train, y_train, epochs=100,batch_size=128,\n",
    "                        validation_data=(X_val, y_val),\n",
    "                        callbacks=[es, lr_scheduler], verbose=0)\n",
    "\n",
    "    # Generate generalization metrics\n",
    "    scores = model.evaluate(X_test, y_test, verbose=0)\n",
    "    print(f'Score for fold {fold_no}: {model.metrics_names[0]} of {scores[0]}; {model.metrics_names[1]} of {scores[1]*100}%')\n",
    "    \n",
    "    # predict probabilities for test set\n",
    "    y_probas = model.predict(X_test)\n",
    "    threshold = 0.5\n",
    "    y_predict = np.where(y_probas > threshold, 1, 0)\n",
    "\n",
    "    # accuracy: (tp + tn) / (p + n)\n",
    "    accuracy = accuracy_score(y_predict, y_test)\n",
    "    print('Accuracy: %f' % accuracy)\n",
    "    # precision tp / (tp + fp)\n",
    "    precision = (precision_score(y_predict,y_test, pos_label= 1)+precision_score(y_predict,y_test , pos_label= 0))*0.5\n",
    "    print('Precision: %f' % precision)\n",
    "    # recall: tp / (tp + fn)\n",
    "    recall = (recall_score(y_predict,y_test, pos_label= 1)+recall_score(y_predict,y_test , pos_label= 0))*0.5\n",
    "    print('Recall: %f' % recall)\n",
    "    # f1: 2 tp / (2 tp + fp + fn)\n",
    "    f1 =  (f1_score(y_predict,y_test, pos_label= 1)+f1_score(y_predict,y_test , pos_label= 0))*0.5\n",
    "    print('F1 score: %f' % f1)\n",
    "    \n",
    "    acc_per_fold.append(scores[1] * 100)\n",
    "    loss_per_fold.append(scores[0])  \n",
    "    _precision.append(precision * 100)  \n",
    "    _recal.append(recall * 100)  \n",
    "    _f1.append(f1 * 100)  \n",
    " \n",
    "    # Increase fold number\n",
    "    fold_no = fold_no + 1\n",
    "\n",
    "# == Provide average scores ==\n",
    "print('------------------------------------------------------------------------')\n",
    "print('Score per fold')\n",
    "for i in range(0, len(acc_per_fold)):\n",
    "  print('------------------------------------------------------------------------')\n",
    "  print(f'> Fold {i+1} - Loss: {loss_per_fold[i]} - Accuracy: {acc_per_fold[i]}%')\n",
    "print('------------------------------------------------------------------------')\n",
    "print('Average scores for all folds:')\n",
    "print(f'> Accuracy: {np.mean(acc_per_fold)} (+- {np.std(acc_per_fold)})')\n",
    "print(f'> Pecision: {np.mean(_precision)} (+- {np.std(_precision)})')\n",
    "print(f'> Recall: {np.mean(_recal)} (+- {np.std(_recal)})')\n",
    "print(f'> F1: {np.mean(_f1)} (+- {np.std(_f1)})')\n",
    "print(f'> Loss: {np.mean(loss_per_fold)}')\n",
    "print('------------------------------------------------------------------------')"
   ]
  },
  {
   "cell_type": "markdown",
   "metadata": {},
   "source": [
    "## SET 10"
   ]
  },
  {
   "cell_type": "code",
   "execution_count": 9,
   "metadata": {},
   "outputs": [
    {
     "name": "stdout",
     "output_type": "stream",
     "text": [
      "(35470, 1900, 1)\n",
      "(3556, 1900, 1)\n",
      "(8868, 1900, 1)\n"
     ]
    }
   ],
   "source": [
    "import pickle5 as pickle\n",
    "with open( \"/mnt/vdb/thesis/trainingset2/set10/jax/AMPNonAMP.reps\", 'rb') as file:\n",
    "    AMPNonAMP_df = pickle.load(file)\n",
    "with open( \"/mnt/vdb/thesis/trainingset2/benchmark_set/jax/AMPNonAMP.benchmark_set.reps\", 'rb') as file:\n",
    "    benchmark_AMPs_df = pickle.load(file)\n",
    "    \n",
    "X_train = np.array(AMPNonAMP_df['reps'].to_list())\n",
    "y_train = np.array(AMPNonAMP_df['class'].to_list())\n",
    "X_test = np.array(benchmark_AMPs_df[\"reps\"].to_list())\n",
    "y_test = np.array( benchmark_AMPs_df[\"class\"].to_list())\n",
    "\n",
    "X_train, X_val, y_train, y_val = train_test_split(X_train, y_train, test_size=0.2, random_state=42)\n",
    "\n",
    "X_train = np.reshape(X_train,(X_train.shape[0],X_train.shape[1],1))\n",
    "print(X_train.shape)\n",
    "X_test = np.reshape(X_test,(X_test.shape[0],X_test.shape[1],1))\n",
    "print(X_test.shape)\n",
    "X_val = np.reshape(X_val,(X_val.shape[0],X_val.shape[1],1))\n",
    "print(X_val.shape)"
   ]
  },
  {
   "cell_type": "code",
   "execution_count": 10,
   "metadata": {
    "scrolled": true,
    "tags": []
   },
   "outputs": [
    {
     "name": "stdout",
     "output_type": "stream",
     "text": [
      " Learning rate:  0.001\n",
      "Epoch 1/100\n",
      "139/139 [==============================] - 18s 126ms/step - loss: 0.4044 - accuracy: 0.8362 - val_loss: 0.6743 - val_accuracy: 0.6848\n",
      " Learning rate:  0.001\n",
      "Epoch 2/100\n",
      "139/139 [==============================] - 17s 121ms/step - loss: 0.3071 - accuracy: 0.8632 - val_loss: 0.6446 - val_accuracy: 0.5032\n",
      " Learning rate:  0.001\n",
      "Epoch 3/100\n",
      "139/139 [==============================] - 18s 127ms/step - loss: 0.2900 - accuracy: 0.8739 - val_loss: 0.4918 - val_accuracy: 0.8364\n",
      " Learning rate:  0.001\n",
      "Epoch 4/100\n",
      "139/139 [==============================] - 17s 120ms/step - loss: 0.2803 - accuracy: 0.8779 - val_loss: 0.3821 - val_accuracy: 0.8328\n",
      " Learning rate:  0.001\n",
      "Epoch 5/100\n",
      "139/139 [==============================] - 16s 116ms/step - loss: 0.2712 - accuracy: 0.8821 - val_loss: 0.3849 - val_accuracy: 0.8447\n",
      " Learning rate:  0.001\n",
      "Epoch 6/100\n",
      "139/139 [==============================] - 16s 116ms/step - loss: 0.2606 - accuracy: 0.8869 - val_loss: 0.4426 - val_accuracy: 0.7687\n",
      " Learning rate:  0.001\n",
      "Epoch 7/100\n",
      "139/139 [==============================] - 16s 116ms/step - loss: 0.2503 - accuracy: 0.8928 - val_loss: 0.7236 - val_accuracy: 0.6891\n",
      " Learning rate:  0.001\n",
      "Epoch 8/100\n",
      "139/139 [==============================] - 17s 122ms/step - loss: 0.2413 - accuracy: 0.8965 - val_loss: 0.4334 - val_accuracy: 0.8083\n",
      " Learning rate:  0.001\n",
      "Epoch 9/100\n",
      "139/139 [==============================] - 16s 119ms/step - loss: 0.2305 - accuracy: 0.9019 - val_loss: 4.1345 - val_accuracy: 0.5062\n",
      " Learning rate:  0.001\n",
      "Epoch 10/100\n",
      "139/139 [==============================] - 18s 130ms/step - loss: 0.2233 - accuracy: 0.9029 - val_loss: 1.4989 - val_accuracy: 0.5898\n",
      " Learning rate:  0.001\n",
      "Epoch 11/100\n",
      "139/139 [==============================] - 16s 117ms/step - loss: 0.2164 - accuracy: 0.9082 - val_loss: 0.6070 - val_accuracy: 0.7825\n",
      " Learning rate:  0.001\n",
      "Epoch 12/100\n",
      "139/139 [==============================] - 17s 121ms/step - loss: 0.2074 - accuracy: 0.9135 - val_loss: 0.6915 - val_accuracy: 0.7322\n",
      " Learning rate:  0.001\n",
      "Epoch 13/100\n",
      "139/139 [==============================] - 16s 115ms/step - loss: 0.2010 - accuracy: 0.9153 - val_loss: 0.9098 - val_accuracy: 0.7241\n",
      " Learning rate:  0.001\n",
      "Epoch 14/100\n",
      "139/139 [==============================] - 17s 119ms/step - loss: 0.1917 - accuracy: 0.9186 - val_loss: 5.0063 - val_accuracy: 0.5092\n",
      " Learning rate:  0.001\n",
      "Epoch 15/100\n",
      "139/139 [==============================] - 17s 123ms/step - loss: 0.1851 - accuracy: 0.9223 - val_loss: 0.8009 - val_accuracy: 0.7351\n",
      " Learning rate:  0.001\n",
      "Epoch 16/100\n",
      "139/139 [==============================] - 17s 125ms/step - loss: 0.1744 - accuracy: 0.9264 - val_loss: 0.8660 - val_accuracy: 0.6659\n",
      " Learning rate:  0.001\n",
      "Epoch 17/100\n",
      "139/139 [==============================] - 17s 126ms/step - loss: 0.1685 - accuracy: 0.9306 - val_loss: 0.5787 - val_accuracy: 0.8322\n",
      " Learning rate:  0.001\n",
      "Epoch 18/100\n",
      "139/139 [==============================] - 17s 125ms/step - loss: 0.1560 - accuracy: 0.9365 - val_loss: 5.4436 - val_accuracy: 0.5228\n",
      " Learning rate:  0.001\n",
      "Epoch 19/100\n",
      "139/139 [==============================] - 17s 120ms/step - loss: 0.1530 - accuracy: 0.9372 - val_loss: 1.2126 - val_accuracy: 0.7687\n",
      " Learning rate:  0.001\n",
      "Epoch 20/100\n",
      "139/139 [==============================] - 17s 124ms/step - loss: 0.1409 - accuracy: 0.9422 - val_loss: 0.8242 - val_accuracy: 0.7444\n",
      " Learning rate:  0.001\n",
      "Epoch 21/100\n",
      "139/139 [==============================] - 17s 121ms/step - loss: 0.1345 - accuracy: 0.9455 - val_loss: 0.9084 - val_accuracy: 0.7605\n",
      " Learning rate:  0.0001\n",
      "Epoch 22/100\n",
      "139/139 [==============================] - 17s 123ms/step - loss: 0.0794 - accuracy: 0.9704 - val_loss: 0.4877 - val_accuracy: 0.8612\n",
      " Learning rate:  0.0001\n",
      "Epoch 23/100\n",
      "139/139 [==============================] - 17s 124ms/step - loss: 0.0522 - accuracy: 0.9816 - val_loss: 0.5300 - val_accuracy: 0.8651\n",
      " Learning rate:  0.0001\n",
      "Epoch 24/100\n",
      "139/139 [==============================] - 17s 124ms/step - loss: 0.0421 - accuracy: 0.9866 - val_loss: 0.5734 - val_accuracy: 0.8681\n",
      "Epoch 00024: early stopping\n"
     ]
    }
   ],
   "source": [
    "model_BLSTM = create_Modelbaseline_jax()\n",
    "\n",
    "# Early Stopping\n",
    "es = EarlyStopping(monitor='val_loss', patience=20, verbose=1)\n",
    "\n",
    "history_BLSTM = model_BLSTM.fit(X_train, y_train, epochs=100, batch_size=256, validation_data=(X_val, y_val),\n",
    "                     callbacks=[es,lr_scheduler], verbose=1)"
   ]
  },
  {
   "cell_type": "code",
   "execution_count": 11,
   "metadata": {},
   "outputs": [
    {
     "name": "stdout",
     "output_type": "stream",
     "text": [
      "              precision    recall  f1-score   support\n",
      "\n",
      "           0       0.76      0.87      0.81      1778\n",
      "           1       0.84      0.73      0.78      1778\n",
      "\n",
      "    accuracy                           0.80      3556\n",
      "   macro avg       0.80      0.80      0.80      3556\n",
      "weighted avg       0.80      0.80      0.80      3556\n",
      "\n"
     ]
    },
    {
     "data": {
      "image/png": "[encoded data removed]",
      "text/plain": [
       "<Figure size 864x360 with 2 Axes>"
      ]
     },
     "metadata": {
      "needs_background": "light"
     },
     "output_type": "display_data"
    }
   ],
   "source": [
    "# C0.4\n",
    "y_probas = model_BLSTM.predict(X_test)\n",
    "threshold = 0.5\n",
    "y_predict = np.where(y_probas > threshold, 1, 0)\n",
    "print(classification_report(y_test, y_predict))\n",
    "plot_history(history_BLSTM)"
   ]
  },
  {
   "cell_type": "code",
   "execution_count": 9,
   "metadata": {},
   "outputs": [
    {
     "data": {
      "image/png": "[encoded data removed]",
      "text/plain": [
       "<Figure size 432x288 with 1 Axes>"
      ]
     },
     "metadata": {
      "needs_background": "light"
     },
     "output_type": "display_data"
    },
    {
     "data": {
      "image/png": "[encoded data removed]",
      "text/plain": [
       "<Figure size 432x288 with 1 Axes>"
      ]
     },
     "metadata": {
      "needs_background": "light"
     },
     "output_type": "display_data"
    }
   ],
   "source": [
    "create_roc_curve(y_test,y_probas)\n",
    "# plot precision-recall curves\n",
    "plot_pr_curve(y_test, y_probas)"
   ]
  },
  {
   "cell_type": "code",
   "execution_count": 12,
   "metadata": {},
   "outputs": [
    {
     "name": "stdout",
     "output_type": "stream",
     "text": [
      "WARNING:tensorflow:From /home/ubuntu/.local/lib/python3.7/site-packages/tensorflow/python/training/tracking/tracking.py:111: Model.state_updates (from tensorflow.python.keras.engine.training) is deprecated and will be removed in a future version.\n",
      "Instructions for updating:\n",
      "This property should not be used in TensorFlow 2.0, as updates are applied automatically.\n",
      "WARNING:tensorflow:From /home/ubuntu/.local/lib/python3.7/site-packages/tensorflow/python/training/tracking/tracking.py:111: Layer.updates (from tensorflow.python.keras.engine.base_layer) is deprecated and will be removed in a future version.\n",
      "Instructions for updating:\n",
      "This property should not be used in TensorFlow 2.0, as updates are applied automatically.\n",
      "INFO:tensorflow:Assets written to: /mnt/vdb/thesis/best_model_BLSTM.V5.set_10.hdf/assets\n"
     ]
    }
   ],
   "source": [
    "model_BLSTM.save(\"/mnt/vdb/thesis/best_model_BLSTM.V5.set_10.hdf\")\n"
   ]
  },
  {
   "cell_type": "code",
   "execution_count": 7,
   "metadata": {},
   "outputs": [
    {
     "name": "stdout",
     "output_type": "stream",
     "text": [
      " Learning rate:  0.001\n",
      "Epoch 1/100\n",
      "141/141 [==============================] - 17s 124ms/step - loss: 0.4086 - accuracy: 0.8340 - val_loss: 0.6860 - val_accuracy: 0.4997\n",
      " Learning rate:  0.001\n",
      "Epoch 2/100\n",
      "141/141 [==============================] - 17s 121ms/step - loss: 0.3089 - accuracy: 0.8645 - val_loss: 0.6125 - val_accuracy: 0.6191\n",
      " Learning rate:  0.001\n",
      "Epoch 3/100\n",
      "141/141 [==============================] - 17s 117ms/step - loss: 0.2900 - accuracy: 0.8739 - val_loss: 0.5944 - val_accuracy: 0.6050\n",
      " Learning rate:  0.001\n",
      "Epoch 4/100\n",
      "141/141 [==============================] - 17s 121ms/step - loss: 0.2867 - accuracy: 0.8741 - val_loss: 0.9113 - val_accuracy: 0.5689\n",
      " Learning rate:  0.001\n",
      "Epoch 5/100\n",
      "141/141 [==============================] - 16s 117ms/step - loss: 0.2739 - accuracy: 0.8798 - val_loss: 0.5664 - val_accuracy: 0.7147\n",
      " Learning rate:  0.001\n",
      "Epoch 6/100\n",
      "141/141 [==============================] - 17s 120ms/step - loss: 0.2632 - accuracy: 0.8843 - val_loss: 0.6809 - val_accuracy: 0.6565\n",
      " Learning rate:  0.001\n",
      "Epoch 7/100\n",
      "141/141 [==============================] - 16s 115ms/step - loss: 0.2561 - accuracy: 0.8883 - val_loss: 0.4774 - val_accuracy: 0.7904\n",
      " Learning rate:  0.001\n",
      "Epoch 8/100\n",
      "141/141 [==============================] - 17s 118ms/step - loss: 0.2498 - accuracy: 0.8896 - val_loss: 0.3563 - val_accuracy: 0.8375\n",
      " Learning rate:  0.001\n",
      "Epoch 9/100\n",
      "141/141 [==============================] - 17s 120ms/step - loss: 0.2463 - accuracy: 0.8937 - val_loss: 0.4607 - val_accuracy: 0.8185\n",
      " Learning rate:  0.001\n",
      "Epoch 10/100\n",
      "141/141 [==============================] - 16s 117ms/step - loss: 0.2331 - accuracy: 0.8978 - val_loss: 0.4748 - val_accuracy: 0.7752\n",
      " Learning rate:  0.001\n",
      "Epoch 11/100\n",
      "141/141 [==============================] - 17s 118ms/step - loss: 0.2319 - accuracy: 0.9011 - val_loss: 0.4149 - val_accuracy: 0.8188\n",
      " Learning rate:  0.001\n",
      "Epoch 12/100\n",
      "141/141 [==============================] - 17s 122ms/step - loss: 0.2215 - accuracy: 0.9048 - val_loss: 0.5716 - val_accuracy: 0.7247\n",
      " Learning rate:  0.001\n",
      "Epoch 13/100\n",
      "141/141 [==============================] - 17s 120ms/step - loss: 0.2161 - accuracy: 0.9073 - val_loss: 0.6059 - val_accuracy: 0.7519\n",
      " Learning rate:  0.001\n",
      "Epoch 14/100\n",
      "141/141 [==============================] - 16s 117ms/step - loss: 0.2122 - accuracy: 0.9093 - val_loss: 2.5212 - val_accuracy: 0.5493\n",
      " Learning rate:  0.001\n",
      "Epoch 15/100\n",
      "141/141 [==============================] - 16s 117ms/step - loss: 0.2034 - accuracy: 0.9137 - val_loss: 0.5263 - val_accuracy: 0.7740\n",
      " Learning rate:  0.001\n",
      "Epoch 16/100\n",
      "141/141 [==============================] - 16s 117ms/step - loss: 0.1893 - accuracy: 0.9202 - val_loss: 0.6060 - val_accuracy: 0.7875\n",
      " Learning rate:  0.001\n",
      "Epoch 17/100\n",
      "141/141 [==============================] - 17s 120ms/step - loss: 0.1870 - accuracy: 0.9215 - val_loss: 1.1265 - val_accuracy: 0.7580\n",
      " Learning rate:  0.001\n",
      "Epoch 18/100\n",
      "141/141 [==============================] - 16s 115ms/step - loss: 0.1748 - accuracy: 0.9265 - val_loss: 4.0661 - val_accuracy: 0.5003\n",
      " Learning rate:  0.001\n",
      "Epoch 19/100\n",
      "141/141 [==============================] - 17s 124ms/step - loss: 0.1717 - accuracy: 0.9286 - val_loss: 1.0843 - val_accuracy: 0.7655\n",
      " Learning rate:  0.001\n",
      "Epoch 20/100\n",
      "141/141 [==============================] - 17s 119ms/step - loss: 0.1589 - accuracy: 0.9339 - val_loss: 2.2039 - val_accuracy: 0.6657\n",
      " Learning rate:  0.001\n",
      "Epoch 21/100\n",
      "141/141 [==============================] - 17s 123ms/step - loss: 0.1513 - accuracy: 0.9372 - val_loss: 0.5125 - val_accuracy: 0.8213\n",
      " Learning rate:  0.0001\n",
      "Epoch 22/100\n",
      "141/141 [==============================] - 17s 118ms/step - loss: 0.0991 - accuracy: 0.9618 - val_loss: 0.4370 - val_accuracy: 0.8662\n",
      " Learning rate:  0.0001\n",
      "Epoch 23/100\n",
      "141/141 [==============================] - 16s 116ms/step - loss: 0.0710 - accuracy: 0.9749 - val_loss: 0.4985 - val_accuracy: 0.8629\n",
      " Learning rate:  0.0001\n",
      "Epoch 24/100\n",
      "141/141 [==============================] - 17s 122ms/step - loss: 0.0580 - accuracy: 0.9790 - val_loss: 0.5826 - val_accuracy: 0.8485\n",
      " Learning rate:  0.0001\n",
      "Epoch 25/100\n",
      "141/141 [==============================] - 17s 119ms/step - loss: 0.0466 - accuracy: 0.9835 - val_loss: 0.5903 - val_accuracy: 0.8575\n",
      " Learning rate:  0.0001\n",
      "Epoch 26/100\n",
      "141/141 [==============================] - 18s 126ms/step - loss: 0.0411 - accuracy: 0.9864 - val_loss: 0.6252 - val_accuracy: 0.8600\n",
      " Learning rate:  0.0001\n",
      "Epoch 27/100\n",
      "141/141 [==============================] - 17s 118ms/step - loss: 0.0335 - accuracy: 0.9894 - val_loss: 0.6621 - val_accuracy: 0.8570\n",
      " Learning rate:  0.0001\n",
      "Epoch 28/100\n",
      "141/141 [==============================] - 17s 118ms/step - loss: 0.0265 - accuracy: 0.9918 - val_loss: 0.7708 - val_accuracy: 0.8487\n",
      "Epoch 00028: early stopping\n"
     ]
    }
   ],
   "source": [
    "# C 0.5\n",
    "model_BLSTM = create_Modelbaseline_jax()\n",
    "\n",
    "# Early Stopping\n",
    "es = EarlyStopping(monitor='val_loss', patience=20, verbose=1)\n",
    "\n",
    "history_BLSTM = model_BLSTM.fit(X_train, y_train, epochs=100, batch_size=256, validation_data=(X_val, y_val),\n",
    "                     callbacks=[es,lr_scheduler], verbose=1)"
   ]
  },
  {
   "cell_type": "code",
   "execution_count": 8,
   "metadata": {},
   "outputs": [
    {
     "name": "stdout",
     "output_type": "stream",
     "text": [
      "              precision    recall  f1-score   support\n",
      "\n",
      "           0       0.72      0.86      0.78      1778\n",
      "           1       0.82      0.67      0.74      1778\n",
      "\n",
      "    accuracy                           0.76      3556\n",
      "   macro avg       0.77      0.76      0.76      3556\n",
      "weighted avg       0.77      0.76      0.76      3556\n",
      "\n"
     ]
    },
    {
     "data": {
      "image/png": "[encoded data removed]",
      "text/plain": [
       "<Figure size 864x360 with 2 Axes>"
      ]
     },
     "metadata": {
      "needs_background": "light"
     },
     "output_type": "display_data"
    }
   ],
   "source": [
    "y_probas = model_BLSTM.predict(X_test)\n",
    "threshold = 0.5\n",
    "y_predict = np.where(y_probas > threshold, 1, 0)\n",
    "print(classification_report(y_test, y_predict))\n",
    "plot_history(history_BLSTM)"
   ]
  },
  {
   "cell_type": "code",
   "execution_count": null,
   "metadata": {},
   "outputs": [],
   "source": []
  },
  {
   "cell_type": "code",
   "execution_count": null,
   "metadata": {},
   "outputs": [],
   "source": []
  }
 ],
 "metadata": {
  "accelerator": "GPU",
  "colab": {
   "collapsed_sections": [],
   "name": "CustomDNNModel.ipynb",
   "provenance": [],
   "toc_visible": true
  },
  "kernelspec": {
   "display_name": "Python 3",
   "language": "python",
   "name": "python3"
  },
  "language_info": {
   "codemirror_mode": {
    "name": "ipython",
    "version": 3
   },
   "file_extension": ".py",
   "mimetype": "text/x-python",
   "name": "python",
   "nbconvert_exporter": "python",
   "pygments_lexer": "ipython3",
   "version": "3.7.10"
  }
 },
 "nbformat": 4,
 "nbformat_minor": 4
}
