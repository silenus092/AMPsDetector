{
 "cells": [
  {
   "cell_type": "code",
   "execution_count": 1,
   "metadata": {
    "colab": {
     "base_uri": "https://localhost:8080/",
     "height": 224
    },
    "id": "7nw5Dpk9fA1L",
    "outputId": "412428fa-b1bc-4cbd-fa97-36507714af54"
   },
   "outputs": [
    {
     "name": "stdout",
     "output_type": "stream",
     "text": [
      "Collecting pickle5\n",
      "\u001b[?25l  Downloading https://files.pythonhosted.org/packages/f7/4c/5c4dd0462c8d3a6bc4af500a6af240763c2ebd1efdc736fc2c946d44b70a/pickle5-0.0.11.tar.gz (132kB)\n",
      "\u001b[K     |████████████████████████████████| 133kB 4.9MB/s eta 0:00:01\n",
      "\u001b[?25hBuilding wheels for collected packages: pickle5\n",
      "  Building wheel for pickle5 (setup.py) ... \u001b[?25l\u001b[?25hdone\n",
      "  Created wheel for pickle5: filename=pickle5-0.0.11-cp36-cp36m-linux_x86_64.whl size=218623 sha256=1da7bdc6b69670ffdbf4b10cc5b4574ea746c15a2f66b767626cfa83a003a93e\n",
      "  Stored in directory: /root/.cache/pip/wheels/a6/90/95/f889ca4aa8b0e0c7f21c8470b6f5d6032f0390a3a141a9a3bd\n",
      "Successfully built pickle5\n",
      "Installing collected packages: pickle5\n",
      "Successfully installed pickle5-0.0.11\n"
     ]
    }
   ],
   "source": [
    "!pip install pickle5"
   ]
  },
  {
   "cell_type": "code",
   "execution_count": 2,
   "metadata": {
    "id": "rSOm_Dj_TZkP"
   },
   "outputs": [],
   "source": [
    "!cp \"/content/drive/My Drive/Colab Notebooks/AMPsNonAMPs_df.plk\" ."
   ]
  },
  {
   "cell_type": "code",
   "execution_count": 3,
   "metadata": {
    "colab": {
     "base_uri": "https://localhost:8080/",
     "height": 299
    },
    "id": "dcnBwM_mmaDj",
    "outputId": "239d0e6d-aa4d-401a-b7b5-c34f8965d3e8"
   },
   "outputs": [
    {
     "name": "stdout",
     "output_type": "stream",
     "text": [
      "Collecting scikit-plot\n",
      "  Downloading https://files.pythonhosted.org/packages/7c/47/32520e259340c140a4ad27c1b97050dd3254fdc517b1d59974d47037510e/scikit_plot-0.3.7-py3-none-any.whl\n",
      "Requirement already satisfied: scipy>=0.9 in /usr/local/lib/python3.6/dist-packages (from scikit-plot) (1.4.1)\n",
      "Requirement already satisfied: matplotlib>=1.4.0 in /usr/local/lib/python3.6/dist-packages (from scikit-plot) (3.2.2)\n",
      "Requirement already satisfied: joblib>=0.10 in /usr/local/lib/python3.6/dist-packages (from scikit-plot) (0.16.0)\n",
      "Requirement already satisfied: scikit-learn>=0.18 in /usr/local/lib/python3.6/dist-packages (from scikit-plot) (0.22.2.post1)\n",
      "Requirement already satisfied: numpy>=1.13.3 in /usr/local/lib/python3.6/dist-packages (from scipy>=0.9->scikit-plot) (1.18.5)\n",
      "Requirement already satisfied: python-dateutil>=2.1 in /usr/local/lib/python3.6/dist-packages (from matplotlib>=1.4.0->scikit-plot) (2.8.1)\n",
      "Requirement already satisfied: kiwisolver>=1.0.1 in /usr/local/lib/python3.6/dist-packages (from matplotlib>=1.4.0->scikit-plot) (1.2.0)\n",
      "Requirement already satisfied: pyparsing!=2.0.4,!=2.1.2,!=2.1.6,>=2.0.1 in /usr/local/lib/python3.6/dist-packages (from matplotlib>=1.4.0->scikit-plot) (2.4.7)\n",
      "Requirement already satisfied: cycler>=0.10 in /usr/local/lib/python3.6/dist-packages (from matplotlib>=1.4.0->scikit-plot) (0.10.0)\n",
      "Requirement already satisfied: six>=1.5 in /usr/local/lib/python3.6/dist-packages (from python-dateutil>=2.1->matplotlib>=1.4.0->scikit-plot) (1.15.0)\n",
      "Installing collected packages: scikit-plot\n",
      "Successfully installed scikit-plot-0.3.7\n"
     ]
    }
   ],
   "source": [
    "!pip install scikit-plot"
   ]
  },
  {
   "cell_type": "code",
   "execution_count": 4,
   "metadata": {
    "id": "4aBzk8QXHS9S"
   },
   "outputs": [],
   "source": [
    "import os\n",
    "import gc\n",
    "\n",
    "import numpy as np\n",
    "import pandas as pd\n",
    "import matplotlib.pyplot as plt\n",
    "import matplotlib.patches as patches\n",
    "import seaborn as sns\n",
    "\n",
    "from collections import Counter\n",
    "from prettytable import PrettyTable\n",
    "from IPython.display import Image\n",
    "from sklearn.model_selection import train_test_split\n",
    "from sklearn.model_selection import cross_val_score\n",
    "from sklearn.model_selection import StratifiedKFold\n",
    "from sklearn.metrics import roc_curve,auc\n",
    "from keras.wrappers.scikit_learn import KerasClassifier\n",
    "\n",
    "from keras.models import Model\n",
    "from keras.regularizers import l2\n",
    "from keras.constraints import max_norm\n",
    "from keras.callbacks import EarlyStopping\n",
    "from keras.layers import Input, Dense, Dropout, Flatten, Activation\n",
    "from keras.layers import Conv1D, Add, MaxPooling1D, BatchNormalization\n",
    "from keras.layers import Embedding, Bidirectional, GlobalMaxPooling1D\n",
    "from tensorflow.python.keras.layers.recurrent import LSTM\n",
    "# CuDNNLSTM error; The error was because from TensorFlow 2 you do not need to specify CuDNNLSTM. \n",
    "# You can just use LSTM with no activation function and it will automatically use the CuDNN version. You do have to install CuDNN first.\n",
    "\n",
    "from keras.callbacks import ModelCheckpoint\n",
    "\n",
    "from sklearn.metrics import classification_report, confusion_matrix, accuracy_score"
   ]
  },
  {
   "cell_type": "code",
   "execution_count": 5,
   "metadata": {
    "id": "FNhtXHJrfEE4"
   },
   "outputs": [],
   "source": [
    "import pickle5 as pickle\n",
    "with open( \"AMPsNonAMPs_df.plk\", 'rb') as file:\n",
    "    AMPs_df = pickle.load(file)"
   ]
  },
  {
   "cell_type": "code",
   "execution_count": 6,
   "metadata": {
    "colab": {
     "base_uri": "https://localhost:8080/",
     "height": 597
    },
    "id": "mGiMSzzPfj2t",
    "outputId": "092eb611-b89c-4cac-c8c4-0557799510cf"
   },
   "outputs": [
    {
     "data": {
      "text/html": [
       "<div>\n",
       "<style scoped>\n",
       "    .dataframe tbody tr th:only-of-type {\n",
       "        vertical-align: middle;\n",
       "    }\n",
       "\n",
       "    .dataframe tbody tr th {\n",
       "        vertical-align: top;\n",
       "    }\n",
       "\n",
       "    .dataframe thead th {\n",
       "        text-align: right;\n",
       "    }\n",
       "</style>\n",
       "<table border=\"1\" class=\"dataframe\">\n",
       "  <thead>\n",
       "    <tr style=\"text-align: right;\">\n",
       "      <th></th>\n",
       "      <th>ID</th>\n",
       "      <th>Sequence</th>\n",
       "      <th>length</th>\n",
       "      <th>class</th>\n",
       "      <th>reps</th>\n",
       "    </tr>\n",
       "  </thead>\n",
       "  <tbody>\n",
       "    <tr>\n",
       "      <th>0</th>\n",
       "      <td>EN92515250|C|B3FJD7|phage 201phi2-1 lysin</td>\n",
       "      <td>MAKKSVPLRKPAGSDGQGNIKVPGGPVVLDLGDFDDIFGPMESESP...</td>\n",
       "      <td>2337</td>\n",
       "      <td>0</td>\n",
       "      <td>[0.0032203220762312412, 0.07328620553016663, 0...</td>\n",
       "    </tr>\n",
       "    <tr>\n",
       "      <th>1</th>\n",
       "      <td>EN54061055|C|F8SJ56|phage PhiPA3 lysin</td>\n",
       "      <td>MASKKTTLPKPKGINPQGSIVQLDLDDFDDLFDEDFGLPKKNSPYT...</td>\n",
       "      <td>2319</td>\n",
       "      <td>0</td>\n",
       "      <td>[0.0027930964715778828, 0.06916013360023499, 0...</td>\n",
       "    </tr>\n",
       "    <tr>\n",
       "      <th>2</th>\n",
       "      <td>EN4815120|C|Q8SCY1|phage phiKZ lysin</td>\n",
       "      <td>MAKKVTLPKGQTGATGTTLGQAGNILDLSDVDDIFGDTPKAKKGSP...</td>\n",
       "      <td>2237</td>\n",
       "      <td>0</td>\n",
       "      <td>[0.0023172732908278704, 0.05406315624713898, 0...</td>\n",
       "    </tr>\n",
       "    <tr>\n",
       "      <th>3</th>\n",
       "      <td>EN3016141|D|D2J8A7|bacteriocin</td>\n",
       "      <td>MAETIKGLRIDLSLKDMGVGRSITELKRSFRTLNSDLKVSSKNFEY...</td>\n",
       "      <td>1619</td>\n",
       "      <td>0</td>\n",
       "      <td>[0.014644640497863293, 0.07187927514314651, 0....</td>\n",
       "    </tr>\n",
       "    <tr>\n",
       "      <th>4</th>\n",
       "      <td>EN9175723|BD|Q93IM3|bacteriocin</td>\n",
       "      <td>MAKKKNTYKVPSIIALTLAGTALTTHHAQAADKTQDQSTNKNILND...</td>\n",
       "      <td>1564</td>\n",
       "      <td>0</td>\n",
       "      <td>[0.0062357354909181595, 0.01848522014915943, 0...</td>\n",
       "    </tr>\n",
       "    <tr>\n",
       "      <th>...</th>\n",
       "      <td>...</td>\n",
       "      <td>...</td>\n",
       "      <td>...</td>\n",
       "      <td>...</td>\n",
       "      <td>...</td>\n",
       "    </tr>\n",
       "    <tr>\n",
       "      <th>42439</th>\n",
       "      <td>UniRef50_B2ABU5 Podospora anserina S mat+ geno...</td>\n",
       "      <td>MKWKAIIAAYGM</td>\n",
       "      <td>12</td>\n",
       "      <td>1</td>\n",
       "      <td>[0.04739842936396599, 0.01943567767739296, -0....</td>\n",
       "    </tr>\n",
       "    <tr>\n",
       "      <th>42440</th>\n",
       "      <td>UniRef50_A0A151HEL5 Zinc finger  C3HC4 type (R...</td>\n",
       "      <td>GLYFRPRRRASS</td>\n",
       "      <td>12</td>\n",
       "      <td>1</td>\n",
       "      <td>[0.0483490452170372, -0.007824046537280083, -0...</td>\n",
       "    </tr>\n",
       "    <tr>\n",
       "      <th>42441</th>\n",
       "      <td>UniRef50_K2MU79 Retrotransposon hot spot (RHS)...</td>\n",
       "      <td>MESNPMTLVGCG</td>\n",
       "      <td>12</td>\n",
       "      <td>1</td>\n",
       "      <td>[0.047337695956230164, -0.013988062739372253, ...</td>\n",
       "    </tr>\n",
       "    <tr>\n",
       "      <th>42442</th>\n",
       "      <td>UniRef50_A0A1E1IUT2 Flagellar calcium-binding ...</td>\n",
       "      <td>IRCVGHWMQAEH</td>\n",
       "      <td>12</td>\n",
       "      <td>1</td>\n",
       "      <td>[0.04697670415043831, -0.027571065351366997, -...</td>\n",
       "    </tr>\n",
       "    <tr>\n",
       "      <th>42443</th>\n",
       "      <td>UniRef50_A0A0S4ITT4 Dopa decarboxylase  putati...</td>\n",
       "      <td>APWSASTLHCPG</td>\n",
       "      <td>12</td>\n",
       "      <td>1</td>\n",
       "      <td>[0.04749748483300209, 0.005815288983285427, -0...</td>\n",
       "    </tr>\n",
       "  </tbody>\n",
       "</table>\n",
       "<p>41951 rows × 5 columns</p>\n",
       "</div>"
      ],
      "text/plain": [
       "                                                      ID  ...                                               reps\n",
       "0              EN92515250|C|B3FJD7|phage 201phi2-1 lysin  ...  [0.0032203220762312412, 0.07328620553016663, 0...\n",
       "1                 EN54061055|C|F8SJ56|phage PhiPA3 lysin  ...  [0.0027930964715778828, 0.06916013360023499, 0...\n",
       "2                   EN4815120|C|Q8SCY1|phage phiKZ lysin  ...  [0.0023172732908278704, 0.05406315624713898, 0...\n",
       "3                         EN3016141|D|D2J8A7|bacteriocin  ...  [0.014644640497863293, 0.07187927514314651, 0....\n",
       "4                        EN9175723|BD|Q93IM3|bacteriocin  ...  [0.0062357354909181595, 0.01848522014915943, 0...\n",
       "...                                                  ...  ...                                                ...\n",
       "42439  UniRef50_B2ABU5 Podospora anserina S mat+ geno...  ...  [0.04739842936396599, 0.01943567767739296, -0....\n",
       "42440  UniRef50_A0A151HEL5 Zinc finger  C3HC4 type (R...  ...  [0.0483490452170372, -0.007824046537280083, -0...\n",
       "42441  UniRef50_K2MU79 Retrotransposon hot spot (RHS)...  ...  [0.047337695956230164, -0.013988062739372253, ...\n",
       "42442  UniRef50_A0A1E1IUT2 Flagellar calcium-binding ...  ...  [0.04697670415043831, -0.027571065351366997, -...\n",
       "42443  UniRef50_A0A0S4ITT4 Dopa decarboxylase  putati...  ...  [0.04749748483300209, 0.005815288983285427, -0...\n",
       "\n",
       "[41951 rows x 5 columns]"
      ]
     },
     "execution_count": 6,
     "metadata": {
      "tags": []
     },
     "output_type": "execute_result"
    }
   ],
   "source": [
    "AMPs_df.drop_duplicates(subset=['Sequence'],inplace=True)\n",
    "AMPs_df"
   ]
  },
  {
   "cell_type": "code",
   "execution_count": null,
   "metadata": {
    "id": "rz4gQNIeIaQh"
   },
   "outputs": [],
   "source": [
    "# AMPs_df = pd.read_pickle('AMPsNonAMPs_df.plk')\n",
    "AMPs_df = pd.read_pickle('AMPsNonAMPs_df.239.plk')\n",
    "AMPs_df"
   ]
  },
  {
   "cell_type": "markdown",
   "metadata": {
    "id": "g2i7Tk41aDZ5"
   },
   "source": [
    "### Utility function: plot_history, display_model_score"
   ]
  },
  {
   "cell_type": "code",
   "execution_count": 16,
   "metadata": {
    "id": "7F7ykQsDVxHO"
   },
   "outputs": [],
   "source": [
    "def plot_history(history):\n",
    "  # dict_keys(['loss', 'accuracy', 'val_loss', 'val_accuracy'])\n",
    "  acc = history.history['accuracy']\n",
    "  val_acc = history.history['val_accuracy']\n",
    "  loss = history.history['loss']\n",
    "  val_loss = history.history['val_loss']\n",
    "  x = range(1, len(acc) + 1)\n",
    "\n",
    "  plt.figure(figsize=(12, 5))\n",
    "  plt.subplot(1, 2, 1)\n",
    "  plt.plot(x, acc, 'b', label='Training acc')\n",
    "  plt.plot(x, val_acc, 'r', label='Validation acc')\n",
    "  plt.title('Training and validation accuracy')\n",
    "  plt.legend()\n",
    "\n",
    "  plt.subplot(1, 2, 2)\n",
    "  plt.plot(x, loss, 'b', label='Training loss')\n",
    "  plt.plot(x, val_loss, 'r', label='Validation loss')\n",
    "  plt.title('Training and validation loss')\n",
    "  plt.legend()\n",
    "\n",
    "# Display model score(Loss & Accuracy) across all sets.\n",
    "def display_model_score(model, train, val, test):\n",
    "  train_score = model.evaluate(train[0], train[1], verbose=1)\n",
    "  print('Train loss: ', train_score[0])\n",
    "  print('Train accuracy: ', train_score[1])\n",
    "  print('-'*70)\n",
    "  val_score = model.evaluate(val[0], val[1], verbose=1)\n",
    "  print('Val loss: ', val_score[0])\n",
    "  print('Val accuracy: ', val_score[1])\n",
    "  print('-'*70)\n",
    "  test_score = model.evaluate(test[0], test[1], verbose=1)\n",
    "  print('Test loss: ', test_score[0])\n",
    "  print('Test accuracy: ', test_score[1])\n",
    "\n",
    "def plot_history_CV(cv, estimator,x,y):\n",
    "  # plot arrows\n",
    "  fig1 = plt.figure(figsize=[12,12])\n",
    "  ax1 = fig1.add_subplot(111,aspect = 'equal')\n",
    "  ax1.add_patch(\n",
    "      patches.Arrow(0.45,0.5,-0.25,0.25,width=0.3,color='green',alpha = 0.5)\n",
    "      )\n",
    "  ax1.add_patch(\n",
    "      patches.Arrow(0.5,0.45,0.25,-0.25,width=0.3,color='red',alpha = 0.5)\n",
    "      )\n",
    "\n",
    "  tprs = []\n",
    "  aucs = []\n",
    "  mean_fpr = np.linspace(0,1,100)\n",
    "  i = 1\n",
    "  for train,test in cv.split(x,y):\n",
    "      model = create_Modelbaseline()\n",
    "      model.fit(x[train],y.iloc[train],\n",
    "            epochs=30,\n",
    "            shuffle=True,verbose=0)\n",
    "      prediction = model.predict(x[test])\n",
    "      fpr, tpr, t = roc_curve(y[test], prediction[:, 1])\n",
    "      tprs.append(interp(mean_fpr, fpr, tpr))\n",
    "      roc_auc = auc(fpr, tpr)\n",
    "      aucs.append(roc_auc)\n",
    "      plt.plot(fpr, tpr, lw=2, alpha=0.3, label='ROC fold %d (AUC = %0.2f)' % (i, roc_auc))\n",
    "      i= i+1\n",
    "\n",
    "  plt.plot([0,1],[0,1],linestyle = '--',lw = 2,color = 'black')\n",
    "  mean_tpr = np.mean(tprs, axis=0)\n",
    "  mean_auc = auc(mean_fpr, mean_tpr)\n",
    "  plt.plot(mean_fpr, mean_tpr, color='blue',\n",
    "          label=r'Mean ROC (AUC = %0.2f )' % (mean_auc),lw=2, alpha=1)\n",
    "\n",
    "  plt.xlabel('False Positive Rate')\n",
    "  plt.ylabel('True Positive Rate')\n",
    "  plt.title('ROC')\n",
    "  plt.legend(loc=\"lower right\")\n",
    "  plt.text(0.32,0.7,'More accurate area',fontsize = 12)\n",
    "  plt.text(0.63,0.4,'Less accurate area',fontsize = 12)\n",
    "  plt.show()"
   ]
  },
  {
   "cell_type": "markdown",
   "metadata": {
    "id": "nI-_ZAvfIb5A"
   },
   "source": [
    "# Split Train/ Test / Validation set"
   ]
  },
  {
   "cell_type": "code",
   "execution_count": 7,
   "metadata": {
    "id": "lAAQLx4UIptD"
   },
   "outputs": [],
   "source": [
    "X= np.array(AMPs_df['reps'].to_list())\n",
    "y= np.array(AMPs_df['class'].to_list())"
   ]
  },
  {
   "cell_type": "code",
   "execution_count": 8,
   "metadata": {
    "id": "EkmqGqfUT0XR"
   },
   "outputs": [],
   "source": [
    "input_shape  = X.shape"
   ]
  },
  {
   "cell_type": "code",
   "execution_count": 9,
   "metadata": {
    "id": "UWQ2IZWgIbST"
   },
   "outputs": [],
   "source": [
    "X_train, X_test, y_train, y_test = train_test_split(X, y, test_size=0.2, random_state=1)\n",
    "X_train, X_val, y_train, y_val = train_test_split(X_train, y_train, test_size=0.25, random_state=1) # 0.25 x 0.8 = 0.2"
   ]
  },
  {
   "cell_type": "code",
   "execution_count": 10,
   "metadata": {
    "colab": {
     "base_uri": "https://localhost:8080/",
     "height": 73
    },
    "id": "IM7Scdevkwpp",
    "outputId": "55fa7ea6-a5f9-4e23-bf42-f1a4bf64f8a3"
   },
   "outputs": [
    {
     "name": "stdout",
     "output_type": "stream",
     "text": [
      "Train size:  25170\n",
      "Val size:  8390\n",
      "Test size:  8391\n"
     ]
    }
   ],
   "source": [
    "# Given data size\n",
    "print('Train size: ', len(X_train))\n",
    "print('Val size: ', len(X_val))\n",
    "print('Test size: ', len(X_test))"
   ]
  },
  {
   "cell_type": "markdown",
   "metadata": {
    "id": "9dHnNnR7IAAs"
   },
   "source": [
    "# Model 1: Our simple model "
   ]
  },
  {
   "cell_type": "markdown",
   "metadata": {
    "id": "4tb99vdzJc6A"
   },
   "source": [
    "## Keras"
   ]
  },
  {
   "cell_type": "code",
   "execution_count": 11,
   "metadata": {
    "id": "rnEsdsHWJf2B"
   },
   "outputs": [],
   "source": [
    "def create_Modelbaseline():\n",
    "  x_input = Input(shape=(1900,))\n",
    "  layer_0 = Dense(896)(x_input)\n",
    "  dropout_0 = Dropout(0.5)(layer_0)\n",
    "  layer_1 = Dense(448)(dropout_0)\n",
    "  dropout_1 = Dropout(0.5)(layer_1)\n",
    "  layer_2 = Dense(224)(dropout_1)\n",
    "  dropout_2 = Dropout(0.5)(layer_2)\n",
    "  layer_3 = Dense(112)(dropout_2)\n",
    "  dropout_3 = Dropout(0.5)(layer_3)\n",
    "  layer_4 = Dense(56)(dropout_3)\n",
    "  dropout_4 = Dropout(0.5)(layer_4)\n",
    "  x_output = Dense(1, activation='sigmoid', name='output_layer')(dropout_4)\n",
    "\n",
    "  model = Model(inputs=x_input, outputs=x_output)\n",
    "  model.compile(optimizer='adam', loss='binary_crossentropy', metrics=['accuracy'])\n",
    "  return model"
   ]
  },
  {
   "cell_type": "code",
   "execution_count": 12,
   "metadata": {
    "colab": {
     "base_uri": "https://localhost:8080/",
     "height": 616
    },
    "id": "5BiM6J7tJf5u",
    "outputId": "b5c8a8bb-1ff7-4fd0-ec9d-e60926bddf15"
   },
   "outputs": [
    {
     "name": "stdout",
     "output_type": "stream",
     "text": [
      "Model: \"functional_1\"\n",
      "_________________________________________________________________\n",
      "Layer (type)                 Output Shape              Param #   \n",
      "=================================================================\n",
      "input_1 (InputLayer)         [(None, 1900)]            0         \n",
      "_________________________________________________________________\n",
      "dense (Dense)                (None, 896)               1703296   \n",
      "_________________________________________________________________\n",
      "dropout (Dropout)            (None, 896)               0         \n",
      "_________________________________________________________________\n",
      "dense_1 (Dense)              (None, 448)               401856    \n",
      "_________________________________________________________________\n",
      "dropout_1 (Dropout)          (None, 448)               0         \n",
      "_________________________________________________________________\n",
      "dense_2 (Dense)              (None, 224)               100576    \n",
      "_________________________________________________________________\n",
      "dropout_2 (Dropout)          (None, 224)               0         \n",
      "_________________________________________________________________\n",
      "dense_3 (Dense)              (None, 112)               25200     \n",
      "_________________________________________________________________\n",
      "dropout_3 (Dropout)          (None, 112)               0         \n",
      "_________________________________________________________________\n",
      "dense_4 (Dense)              (None, 56)                6328      \n",
      "_________________________________________________________________\n",
      "dropout_4 (Dropout)          (None, 56)                0         \n",
      "_________________________________________________________________\n",
      "output_layer (Dense)         (None, 1)                 57        \n",
      "=================================================================\n",
      "Total params: 2,237,313\n",
      "Trainable params: 2,237,313\n",
      "Non-trainable params: 0\n",
      "_________________________________________________________________\n"
     ]
    }
   ],
   "source": [
    " model = create_Modelbaseline()\n",
    " model.summary()"
   ]
  },
  {
   "cell_type": "code",
   "execution_count": null,
   "metadata": {
    "colab": {
     "base_uri": "https://localhost:8080/",
     "height": 1000
    },
    "id": "fn-5xjDBV0Fs",
    "outputId": "1627a5ba-ef0d-482e-d621-12d8be92ad57"
   },
   "outputs": [],
   "source": [
    "checkpoint = ModelCheckpoint(\"our_best_model.hdf5\", monitor='loss', verbose=1,\n",
    "    save_best_only=True, mode='auto', period=1)\n",
    "\n",
    "history = model.fit(X_train, y_train, epochs=100, validation_data=(X_val, y_val),\n",
    "                     callbacks=[checkpoint], verbose=2)\n"
   ]
  },
  {
   "cell_type": "code",
   "execution_count": 17,
   "metadata": {
    "colab": {
     "base_uri": "https://localhost:8080/",
     "height": 336
    },
    "id": "78rubOsMatf7",
    "outputId": "fd557d64-a3fb-4107-b4bc-6f3c230e86d9"
   },
   "outputs": [
    {
     "data": {
      "image/png": "[encoded data removed]",
      "text/plain": [
       "<Figure size 864x360 with 2 Axes>"
      ]
     },
     "metadata": {
      "needs_background": "light",
      "tags": []
     },
     "output_type": "display_data"
    }
   ],
   "source": [
    "plot_history(history)"
   ]
  },
  {
   "cell_type": "markdown",
   "metadata": {
    "id": "lsxtS0l3esdH"
   },
   "source": [
    "Overfitting if: training loss >> validation loss, training loss much greater than validation loss.\n",
    "\n",
    "Underfitting if: training loss << validation loss, training loss much less than validation loss. "
   ]
  },
  {
   "cell_type": "code",
   "execution_count": 18,
   "metadata": {
    "colab": {
     "base_uri": "https://localhost:8080/",
     "height": 223
    },
    "id": "WMW5lf7fcX6h",
    "outputId": "334829d1-6272-45c6-b68b-438ce7cf73c1"
   },
   "outputs": [
    {
     "name": "stdout",
     "output_type": "stream",
     "text": [
      "787/787 [==============================] - 1s 2ms/step - loss: 0.2210 - accuracy: 0.9109\n",
      "Train loss:  0.22096017003059387\n",
      "Train accuracy:  0.9108859896659851\n",
      "----------------------------------------------------------------------\n",
      "263/263 [==============================] - 1s 2ms/step - loss: 0.2810 - accuracy: 0.8884\n",
      "Val loss:  0.2810097336769104\n",
      "Val accuracy:  0.8884386420249939\n",
      "----------------------------------------------------------------------\n",
      "263/263 [==============================] - 0s 2ms/step - loss: 0.2670 - accuracy: 0.8961\n",
      "Test loss:  0.2670401632785797\n",
      "Test accuracy:  0.8960791230201721\n"
     ]
    }
   ],
   "source": [
    "display_model_score(model,\n",
    "    [X_train, y_train],\n",
    "    [X_val, y_val],\n",
    "    [X_test, y_test])"
   ]
  },
  {
   "cell_type": "code",
   "execution_count": 19,
   "metadata": {
    "colab": {
     "base_uri": "https://localhost:8080/",
     "height": 148
    },
    "id": "7N7O3u_dm1FL",
    "outputId": "5f707ca4-8bb7-493f-ca49-02f13fda2e1a"
   },
   "outputs": [
    {
     "data": {
      "text/plain": [
       "array([[0.8296889 ],\n",
       "       [0.77989316],\n",
       "       [0.7821433 ],\n",
       "       ...,\n",
       "       [0.01220401],\n",
       "       [0.68471795],\n",
       "       [0.99759454]], dtype=float32)"
      ]
     },
     "execution_count": 19,
     "metadata": {
      "tags": []
     },
     "output_type": "execute_result"
    }
   ],
   "source": [
    "y_probas = model.predict(X_test)\n",
    "y_probas"
   ]
  },
  {
   "cell_type": "code",
   "execution_count": 20,
   "metadata": {
    "colab": {
     "base_uri": "https://localhost:8080/",
     "height": 186
    },
    "id": "_9PISRBnj0xr",
    "outputId": "8fddc58c-6119-4e45-e7d6-c3d01442c81e"
   },
   "outputs": [
    {
     "name": "stdout",
     "output_type": "stream",
     "text": [
      "              precision    recall  f1-score   support\n",
      "\n",
      "           0       0.93      0.86      0.89      4264\n",
      "           1       0.86      0.94      0.90      4127\n",
      "\n",
      "    accuracy                           0.90      8391\n",
      "   macro avg       0.90      0.90      0.90      8391\n",
      "weighted avg       0.90      0.90      0.90      8391\n",
      "\n"
     ]
    }
   ],
   "source": [
    "threshold = 0.5\n",
    "y_predict = np.where(y_probas > threshold, 1, 0)\n",
    "\n",
    "print(classification_report(y_test, y_predict))"
   ]
  },
  {
   "cell_type": "markdown",
   "metadata": {
    "id": "UBBbFeGaXM7O"
   },
   "source": [
    "# Cross validation with whole dataset"
   ]
  },
  {
   "cell_type": "code",
   "execution_count": 21,
   "metadata": {
    "id": "IfOdoWiqJfmO"
   },
   "outputs": [],
   "source": [
    "\n",
    "estimator = KerasClassifier(build_fn=create_Modelbaseline, epochs=100,verbose=0)\n",
    "kfold = StratifiedKFold(n_splits=5, shuffle=True)\n",
    "results = cross_val_score(estimator, X, y, cv=kfold)"
   ]
  },
  {
   "cell_type": "code",
   "execution_count": 22,
   "metadata": {
    "colab": {
     "base_uri": "https://localhost:8080/",
     "height": 36
    },
    "id": "rbGCYLBqVAB0",
    "outputId": "482a9c74-f22a-410d-8c49-4a20eab67069"
   },
   "outputs": [
    {
     "name": "stdout",
     "output_type": "stream",
     "text": [
      "Baseline: 89.40% (0.35%)\n"
     ]
    }
   ],
   "source": [
    "print(\"Baseline: %.2f%% (%.2f%%)\" % (results.mean()*100, results.std()*100))"
   ]
  },
  {
   "cell_type": "markdown",
   "metadata": {
    "id": "TO18oGqEIAf5"
   },
   "source": [
    "# Model 2: Bidirectional LSTM\n",
    "(The perforamnce did not good)"
   ]
  },
  {
   "cell_type": "markdown",
   "metadata": {
    "id": "fNONrOjcxCKz"
   },
   "source": [
    "The below models are from https://towardsdatascience.com/protein-sequence-classification-99c80d0ad2df"
   ]
  },
  {
   "cell_type": "markdown",
   "metadata": {
    "id": "ax797xXuwsAJ"
   },
   "source": [
    "Embedding\n",
    "* https://towardsdatascience.com/neural-network-embeddings-explained-4d028e6f0526\n",
    "\n",
    "must specify 3 arguments:\n",
    "\n",
    "    input_dim: This is the size of the vocabulary in the text data. For example, if your data is integer encoded to values between 0-10, then the size of the vocabulary would be 11 words.\n",
    "    output_dim: This is the size of the vector space in which words will be embedded. It defines the size of the output vectors from this layer for each word. For example, it could be 32 or 100 or even larger. Test different values for your problem.\n",
    "    input_length: This is the length of input sequences, as you would define for any input layer of a Keras model. For example, if all of your input documents are comprised of 1000 words, this would be 1000.\n"
   ]
  },
  {
   "cell_type": "code",
   "execution_count": 23,
   "metadata": {
    "colab": {
     "base_uri": "https://localhost:8080/",
     "height": 36
    },
    "id": "Neqnr6Hhv1QC",
    "outputId": "22fe2f0a-c418-4def-fbe8-f3d2ec8ddca4"
   },
   "outputs": [
    {
     "data": {
      "text/plain": [
       "(41951, 1900)"
      ]
     },
     "execution_count": 23,
     "metadata": {
      "tags": []
     },
     "output_type": "execute_result"
    }
   ],
   "source": [
    "input_shape"
   ]
  },
  {
   "cell_type": "code",
   "execution_count": 24,
   "metadata": {
    "colab": {
     "base_uri": "https://localhost:8080/",
     "height": 36
    },
    "id": "vrc6-83n0Pb2",
    "outputId": "285b5c67-1712-4482-e820-5288f45aaa17"
   },
   "outputs": [
    {
     "data": {
      "text/plain": [
       "<tf.Tensor 'embedding/embedding_lookup/Identity_1:0' shape=(None, 1900, 512) dtype=float32>"
      ]
     },
     "execution_count": 24,
     "metadata": {
      "tags": []
     },
     "output_type": "execute_result"
    }
   ],
   "source": [
    "x_input = Input( ( 1900,) )\n",
    "emb = Embedding(21, 512, input_length=1900)(x_input)\n",
    "emb"
   ]
  },
  {
   "cell_type": "markdown",
   "metadata": {
    "id": "O4_WG1mW3cP_"
   },
   "source": [
    "Keras - ImportError: cannot import name 'CuDNNLSTM'\n",
    "\n",
    " To slove : for Tensorflow-2: You can just use LSTM with no activation function and it will automatically use the CuDNN version\n",
    "\n",
    "* https://stackoverflow.com/questions/48086014/keras-model-with-cudnnlstm-layers-doesnt-work-on-production-server\n",
    "* https://forums.developer.nvidia.com/t/importerror-cannot-import-name-cudnnlstm-from-tensorflow-keras-layers/82778\n",
    " "
   ]
  },
  {
   "cell_type": "code",
   "execution_count": null,
   "metadata": {
    "id": "3K_HqPYhfu_r"
   },
   "outputs": [],
   "source": [
    "\n",
    "bi_rnn = Bidirectional( LSTM(128, kernel_regularizer=l2(0.01), recurrent_regularizer=l2(0.01)\n",
    "                        , bias_regularizer=l2(0.01)))(x_input)\n",
    "x = Dropout(0.3)(bi_rnn)\n",
    "\n",
    "# softmax classifier\n",
    "x_output = Dense(1, activation='softmax', name='output_layer')(x)\n",
    "\n",
    "model_BLSTM = Model(inputs=x_input, outputs=x_output)\n",
    "model_BLSTM.compile(optimizer='adam', loss='categorical_crossentropy', metrics=['accuracy'])\n",
    "\n",
    "model_BLSTM.summary()"
   ]
  },
  {
   "cell_type": "code",
   "execution_count": null,
   "metadata": {
    "id": "CT66n3ZxfvD4"
   },
   "outputs": [],
   "source": [
    "checkpoint_BLSTM = ModelCheckpoint(\"/content/drive/My Drive/Colab Notebooks/best_model_BLSTM.v2.hdf5\", monitor='loss', verbose=1,\n",
    "    save_best_only=True, mode='auto', period=1)\n",
    "\n",
    "history_BLSTM = model_BLSTM.fit(X_train, y_train, epochs=100, validation_data=(X_val, y_val),\n",
    "                     callbacks=[checkpoint_BLSTM], verbose=1)"
   ]
  },
  {
   "cell_type": "code",
   "execution_count": null,
   "metadata": {
    "id": "nyvMdMU1UqD0"
   },
   "outputs": [],
   "source": []
  },
  {
   "cell_type": "code",
   "execution_count": null,
   "metadata": {
    "id": "UtViR8TYUp4i"
   },
   "outputs": [],
   "source": [
    "plot_history(history_BLSTM)"
   ]
  },
  {
   "cell_type": "code",
   "execution_count": null,
   "metadata": {
    "id": "pR4uE8Gzfuw0"
   },
   "outputs": [],
   "source": [
    "display_model_score(model_BLSTM,\n",
    "    [X_train, y_train],\n",
    "    [X_val, y_val],\n",
    "    [X_test, y_test])"
   ]
  },
  {
   "cell_type": "code",
   "execution_count": null,
   "metadata": {
    "id": "Atr10FO4fuuE"
   },
   "outputs": [],
   "source": [
    "y_probas = model_BLSTM.predict(X_test)\n",
    "threshold = 0.5\n",
    "y_predict = np.where(y_probas > threshold, 1, 0)\n",
    "print(classification_report(y_test, y_predict))"
   ]
  },
  {
   "cell_type": "markdown",
   "metadata": {
    "id": "o1yvj_MHIA6-"
   },
   "source": [
    "# Model 3: ProtCNN\n",
    "(The perforamnce did not good)"
   ]
  },
  {
   "cell_type": "code",
   "execution_count": null,
   "metadata": {
    "id": "pPnhJuGfSDzP"
   },
   "outputs": [],
   "source": [
    "import tensorflow as tf\n",
    "tf.keras.backend.clear_session()"
   ]
  },
  {
   "cell_type": "code",
   "execution_count": null,
   "metadata": {
    "id": "uIIiKYP8IRYE"
   },
   "outputs": [],
   "source": [
    "def residual_block(data, filters, d_rate):\n",
    "  \"\"\"\n",
    "  _data: input\n",
    "  _filters: convolution filters\n",
    "  _d_rate: dilation rate\n",
    "  \"\"\"\n",
    "\n",
    "  shortcut = data\n",
    "\n",
    "  bn1 = BatchNormalization()(data)\n",
    "  act1 = Activation('relu')(bn1)\n",
    "  conv1 = Conv1D(filters, 1, dilation_rate=d_rate, padding='same', kernel_regularizer=l2(0.001))(act1)\n",
    "\n",
    "  #bottleneck convolution\n",
    "  bn2 = BatchNormalization()(conv1)\n",
    "  act2 = Activation('relu')(bn2)\n",
    "  conv2 = Conv1D(filters, 3, padding='same', kernel_regularizer=l2(0.001))(act2)\n",
    "\n",
    "  #skip connection\n",
    "  x = Add()([conv2, shortcut])\n",
    "\n",
    "  return x"
   ]
  },
  {
   "cell_type": "code",
   "execution_count": null,
   "metadata": {
    "id": "iFyHyapJ4EKF"
   },
   "outputs": [],
   "source": [
    "# model\n",
    "\n",
    "x_input = Input(shape=(1900, 1))\n",
    "\n",
    "#initial conv\n",
    "conv = Conv1D(128, 1, padding='same')(x_input) \n",
    "\n",
    "# per-residue representation\n",
    "res1 = residual_block(conv, 128, 2)\n",
    "res2 = residual_block(res1, 128, 3)\n",
    "\n",
    "x = MaxPooling1D(3)(res2)\n",
    "x = Dropout(0.5)(x)\n",
    "\n",
    "# softmax classifier\n",
    "x = Flatten()(x)\n",
    "x_output = Dense(1, activation='sigmoid', kernel_regularizer=l2(0.0001))(x)\n",
    "\n",
    "model_ProtCNN = Model(inputs=x_input, outputs=x_output)\n",
    "model_ProtCNN.compile(optimizer='adam', loss='categorical_crossentropy', metrics=['accuracy'])\n",
    "\n",
    "model_ProtCNN.summary()"
   ]
  },
  {
   "cell_type": "code",
   "execution_count": null,
   "metadata": {
    "id": "pMIGguFR4EHD"
   },
   "outputs": [],
   "source": [
    "plot_history(history_ProtCNN)"
   ]
  },
  {
   "cell_type": "code",
   "execution_count": null,
   "metadata": {
    "id": "_3iiV1sM4D6d"
   },
   "outputs": [],
   "source": [
    "display_model_score(model_ProtCNN,\n",
    "    [X_train, y_train],\n",
    "    [X_val, y_val],\n",
    "    [X_test, y_test])"
   ]
  },
  {
   "cell_type": "code",
   "execution_count": null,
   "metadata": {
    "id": "kZO0R1iHSm4T"
   },
   "outputs": [],
   "source": [
    "y_probas = model_ProtCNN.predict(X_test)\n",
    "threshold = 0.5\n",
    "y_predict = np.where(y_probas > threshold, 1, 0)\n",
    "print(classification_report(y_test, y_predict))"
   ]
  },
  {
   "cell_type": "markdown",
   "metadata": {
    "id": "fALQEI9g4Ejn"
   },
   "source": [
    "# Conclusion"
   ]
  },
  {
   "cell_type": "code",
   "execution_count": null,
   "metadata": {
    "id": "Gh0Zvl9j4E38"
   },
   "outputs": [],
   "source": []
  }
 ],
 "metadata": {
  "accelerator": "GPU",
  "colab": {
   "collapsed_sections": [],
   "name": "CustomDNNModel.ipynb",
   "provenance": [],
   "toc_visible": true
  },
  "kernelspec": {
   "display_name": "Python 3",
   "language": "python",
   "name": "python3"
  },
  "language_info": {
   "codemirror_mode": {
    "name": "ipython",
    "version": 3
   },
   "file_extension": ".py",
   "mimetype": "text/x-python",
   "name": "python",
   "nbconvert_exporter": "python",
   "pygments_lexer": "ipython3",
   "version": "3.8.5"
  }
 },
 "nbformat": 4,
 "nbformat_minor": 4
}
