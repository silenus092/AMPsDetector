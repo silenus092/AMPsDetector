{
 "cells": [
  {
   "cell_type": "code",
   "execution_count": 2,
   "metadata": {},
   "outputs": [
    {
     "name": "stdout",
     "output_type": "stream",
     "text": [
      "[name: \"/device:CPU:0\"\n",
      "device_type: \"CPU\"\n",
      "memory_limit: 268435456\n",
      "locality {\n",
      "}\n",
      "incarnation: 1219466188373926612\n",
      ", name: \"/device:XLA_CPU:0\"\n",
      "device_type: \"XLA_CPU\"\n",
      "memory_limit: 17179869184\n",
      "locality {\n",
      "}\n",
      "incarnation: 2362715368385731528\n",
      "physical_device_desc: \"device: XLA_CPU device\"\n",
      ", name: \"/device:XLA_GPU:0\"\n",
      "device_type: \"XLA_GPU\"\n",
      "memory_limit: 17179869184\n",
      "locality {\n",
      "}\n",
      "incarnation: 7682598851431441296\n",
      "physical_device_desc: \"device: XLA_GPU device\"\n",
      ", name: \"/device:GPU:0\"\n",
      "device_type: \"GPU\"\n",
      "memory_limit: 31595870336\n",
      "locality {\n",
      "  bus_id: 1\n",
      "  links {\n",
      "  }\n",
      "}\n",
      "incarnation: 920215174347936450\n",
      "physical_device_desc: \"device: 0, name: Tesla V100-PCIE-32GB, pci bus id: 0000:00:06.0, compute capability: 7.0\"\n",
      "]\n"
     ]
    }
   ],
   "source": [
    "from tensorflow.python.client import device_lib\n",
    "print(device_lib.list_local_devices())"
   ]
  },
  {
   "cell_type": "code",
   "execution_count": 3,
   "metadata": {
    "id": "4aBzk8QXHS9S"
   },
   "outputs": [],
   "source": [
    "import os\n",
    "import gc\n",
    "\n",
    "import numpy as np\n",
    "import pandas as pd\n",
    "import matplotlib.pyplot as plt\n",
    "import matplotlib.patches as patches\n",
    "import seaborn as sns\n",
    "\n",
    "from collections import Counter\n",
    "from prettytable import PrettyTable\n",
    "from IPython.display import Image\n",
    "from sklearn.model_selection import train_test_split\n",
    "from sklearn.model_selection import cross_val_score\n",
    "from sklearn.model_selection import StratifiedKFold\n",
    "from sklearn.metrics import roc_curve,auc\n",
    "from keras.wrappers.scikit_learn import KerasClassifier\n",
    "\n",
    "from keras.models import Model\n",
    "from keras.regularizers import l2\n",
    "from keras.constraints import max_norm\n",
    "from keras.callbacks import EarlyStopping\n",
    "from keras.layers import Input, Dense, Dropout, Flatten, Activation\n",
    "from keras.layers import Conv1D, Add, MaxPooling1D, BatchNormalization\n",
    "from keras.layers import Embedding, Bidirectional, GlobalMaxPooling1D\n",
    "from tensorflow.python.keras.layers.recurrent import LSTM\n",
    "# CuDNNLSTM error; The error was because from TensorFlow 2 you do not need to specify CuDNNLSTM. \n",
    "# You can just use LSTM with no activation function and it will automatically use the CuDNN version. You do have to install CuDNN first.\n",
    "\n",
    "from keras.callbacks import ModelCheckpoint\n",
    "from sklearn.metrics import classification_report, confusion_matrix, accuracy_score"
   ]
  },
  {
   "cell_type": "code",
   "execution_count": 4,
   "metadata": {
    "id": "FNhtXHJrfEE4"
   },
   "outputs": [],
   "source": [
    "import pickle5 as pickle\n",
    "with open( \"/home/ubuntu/data/AMPsNonAMPs_df.plk\", 'rb') as file:\n",
    "    AMPs_df = pickle.load(file)"
   ]
  },
  {
   "cell_type": "code",
   "execution_count": 5,
   "metadata": {
    "colab": {
     "base_uri": "https://localhost:8080/",
     "height": 597
    },
    "id": "mGiMSzzPfj2t",
    "outputId": "092eb611-b89c-4cac-c8c4-0557799510cf"
   },
   "outputs": [
    {
     "data": {
      "text/html": [
       "<div>\n",
       "<style scoped>\n",
       "    .dataframe tbody tr th:only-of-type {\n",
       "        vertical-align: middle;\n",
       "    }\n",
       "\n",
       "    .dataframe tbody tr th {\n",
       "        vertical-align: top;\n",
       "    }\n",
       "\n",
       "    .dataframe thead th {\n",
       "        text-align: right;\n",
       "    }\n",
       "</style>\n",
       "<table border=\"1\" class=\"dataframe\">\n",
       "  <thead>\n",
       "    <tr style=\"text-align: right;\">\n",
       "      <th></th>\n",
       "      <th>ID</th>\n",
       "      <th>Sequence</th>\n",
       "      <th>length</th>\n",
       "      <th>class</th>\n",
       "      <th>reps</th>\n",
       "    </tr>\n",
       "  </thead>\n",
       "  <tbody>\n",
       "    <tr>\n",
       "      <th>0</th>\n",
       "      <td>EN92515250|C|B3FJD7|phage 201phi2-1 lysin</td>\n",
       "      <td>MAKKSVPLRKPAGSDGQGNIKVPGGPVVLDLGDFDDIFGPMESESP...</td>\n",
       "      <td>2337</td>\n",
       "      <td>0</td>\n",
       "      <td>[0.0032203220762312412, 0.07328620553016663, 0...</td>\n",
       "    </tr>\n",
       "    <tr>\n",
       "      <th>1</th>\n",
       "      <td>EN54061055|C|F8SJ56|phage PhiPA3 lysin</td>\n",
       "      <td>MASKKTTLPKPKGINPQGSIVQLDLDDFDDLFDEDFGLPKKNSPYT...</td>\n",
       "      <td>2319</td>\n",
       "      <td>0</td>\n",
       "      <td>[0.0027930964715778828, 0.06916013360023499, 0...</td>\n",
       "    </tr>\n",
       "    <tr>\n",
       "      <th>2</th>\n",
       "      <td>EN4815120|C|Q8SCY1|phage phiKZ lysin</td>\n",
       "      <td>MAKKVTLPKGQTGATGTTLGQAGNILDLSDVDDIFGDTPKAKKGSP...</td>\n",
       "      <td>2237</td>\n",
       "      <td>0</td>\n",
       "      <td>[0.0023172732908278704, 0.05406315624713898, 0...</td>\n",
       "    </tr>\n",
       "    <tr>\n",
       "      <th>3</th>\n",
       "      <td>EN3016141|D|D2J8A7|bacteriocin</td>\n",
       "      <td>MAETIKGLRIDLSLKDMGVGRSITELKRSFRTLNSDLKVSSKNFEY...</td>\n",
       "      <td>1619</td>\n",
       "      <td>0</td>\n",
       "      <td>[0.014644640497863293, 0.07187927514314651, 0....</td>\n",
       "    </tr>\n",
       "    <tr>\n",
       "      <th>4</th>\n",
       "      <td>EN9175723|BD|Q93IM3|bacteriocin</td>\n",
       "      <td>MAKKKNTYKVPSIIALTLAGTALTTHHAQAADKTQDQSTNKNILND...</td>\n",
       "      <td>1564</td>\n",
       "      <td>0</td>\n",
       "      <td>[0.0062357354909181595, 0.01848522014915943, 0...</td>\n",
       "    </tr>\n",
       "    <tr>\n",
       "      <th>...</th>\n",
       "      <td>...</td>\n",
       "      <td>...</td>\n",
       "      <td>...</td>\n",
       "      <td>...</td>\n",
       "      <td>...</td>\n",
       "    </tr>\n",
       "    <tr>\n",
       "      <th>42439</th>\n",
       "      <td>UniRef50_B2ABU5 Podospora anserina S mat+ geno...</td>\n",
       "      <td>MKWKAIIAAYGM</td>\n",
       "      <td>12</td>\n",
       "      <td>1</td>\n",
       "      <td>[0.04739842936396599, 0.01943567767739296, -0....</td>\n",
       "    </tr>\n",
       "    <tr>\n",
       "      <th>42440</th>\n",
       "      <td>UniRef50_A0A151HEL5 Zinc finger  C3HC4 type (R...</td>\n",
       "      <td>GLYFRPRRRASS</td>\n",
       "      <td>12</td>\n",
       "      <td>1</td>\n",
       "      <td>[0.0483490452170372, -0.007824046537280083, -0...</td>\n",
       "    </tr>\n",
       "    <tr>\n",
       "      <th>42441</th>\n",
       "      <td>UniRef50_K2MU79 Retrotransposon hot spot (RHS)...</td>\n",
       "      <td>MESNPMTLVGCG</td>\n",
       "      <td>12</td>\n",
       "      <td>1</td>\n",
       "      <td>[0.047337695956230164, -0.013988062739372253, ...</td>\n",
       "    </tr>\n",
       "    <tr>\n",
       "      <th>42442</th>\n",
       "      <td>UniRef50_A0A1E1IUT2 Flagellar calcium-binding ...</td>\n",
       "      <td>IRCVGHWMQAEH</td>\n",
       "      <td>12</td>\n",
       "      <td>1</td>\n",
       "      <td>[0.04697670415043831, -0.027571065351366997, -...</td>\n",
       "    </tr>\n",
       "    <tr>\n",
       "      <th>42443</th>\n",
       "      <td>UniRef50_A0A0S4ITT4 Dopa decarboxylase  putati...</td>\n",
       "      <td>APWSASTLHCPG</td>\n",
       "      <td>12</td>\n",
       "      <td>1</td>\n",
       "      <td>[0.04749748483300209, 0.005815288983285427, -0...</td>\n",
       "    </tr>\n",
       "  </tbody>\n",
       "</table>\n",
       "<p>41951 rows × 5 columns</p>\n",
       "</div>"
      ],
      "text/plain": [
       "                                                      ID  \\\n",
       "0              EN92515250|C|B3FJD7|phage 201phi2-1 lysin   \n",
       "1                 EN54061055|C|F8SJ56|phage PhiPA3 lysin   \n",
       "2                   EN4815120|C|Q8SCY1|phage phiKZ lysin   \n",
       "3                         EN3016141|D|D2J8A7|bacteriocin   \n",
       "4                        EN9175723|BD|Q93IM3|bacteriocin   \n",
       "...                                                  ...   \n",
       "42439  UniRef50_B2ABU5 Podospora anserina S mat+ geno...   \n",
       "42440  UniRef50_A0A151HEL5 Zinc finger  C3HC4 type (R...   \n",
       "42441  UniRef50_K2MU79 Retrotransposon hot spot (RHS)...   \n",
       "42442  UniRef50_A0A1E1IUT2 Flagellar calcium-binding ...   \n",
       "42443  UniRef50_A0A0S4ITT4 Dopa decarboxylase  putati...   \n",
       "\n",
       "                                                Sequence  length  class  \\\n",
       "0      MAKKSVPLRKPAGSDGQGNIKVPGGPVVLDLGDFDDIFGPMESESP...    2337      0   \n",
       "1      MASKKTTLPKPKGINPQGSIVQLDLDDFDDLFDEDFGLPKKNSPYT...    2319      0   \n",
       "2      MAKKVTLPKGQTGATGTTLGQAGNILDLSDVDDIFGDTPKAKKGSP...    2237      0   \n",
       "3      MAETIKGLRIDLSLKDMGVGRSITELKRSFRTLNSDLKVSSKNFEY...    1619      0   \n",
       "4      MAKKKNTYKVPSIIALTLAGTALTTHHAQAADKTQDQSTNKNILND...    1564      0   \n",
       "...                                                  ...     ...    ...   \n",
       "42439                                       MKWKAIIAAYGM      12      1   \n",
       "42440                                       GLYFRPRRRASS      12      1   \n",
       "42441                                       MESNPMTLVGCG      12      1   \n",
       "42442                                       IRCVGHWMQAEH      12      1   \n",
       "42443                                       APWSASTLHCPG      12      1   \n",
       "\n",
       "                                                    reps  \n",
       "0      [0.0032203220762312412, 0.07328620553016663, 0...  \n",
       "1      [0.0027930964715778828, 0.06916013360023499, 0...  \n",
       "2      [0.0023172732908278704, 0.05406315624713898, 0...  \n",
       "3      [0.014644640497863293, 0.07187927514314651, 0....  \n",
       "4      [0.0062357354909181595, 0.01848522014915943, 0...  \n",
       "...                                                  ...  \n",
       "42439  [0.04739842936396599, 0.01943567767739296, -0....  \n",
       "42440  [0.0483490452170372, -0.007824046537280083, -0...  \n",
       "42441  [0.047337695956230164, -0.013988062739372253, ...  \n",
       "42442  [0.04697670415043831, -0.027571065351366997, -...  \n",
       "42443  [0.04749748483300209, 0.005815288983285427, -0...  \n",
       "\n",
       "[41951 rows x 5 columns]"
      ]
     },
     "execution_count": 5,
     "metadata": {},
     "output_type": "execute_result"
    }
   ],
   "source": [
    "AMPs_df.drop_duplicates(subset=['Sequence'],inplace=True)\n",
    "AMPs_df"
   ]
  },
  {
   "cell_type": "code",
   "execution_count": null,
   "metadata": {
    "id": "rz4gQNIeIaQh"
   },
   "outputs": [],
   "source": [
    "# AMPs_df = pd.read_pickle('AMPsNonAMPs_df.plk')\n",
    "AMPs_df = pd.read_pickle('AMPsNonAMPs_df.239.plk')\n",
    "AMPs_df"
   ]
  },
  {
   "cell_type": "markdown",
   "metadata": {
    "id": "g2i7Tk41aDZ5"
   },
   "source": [
    "### Utility function: plot_history, display_model_score"
   ]
  },
  {
   "cell_type": "code",
   "execution_count": 6,
   "metadata": {
    "id": "7F7ykQsDVxHO"
   },
   "outputs": [],
   "source": [
    "def plot_history(history):\n",
    "  # dict_keys(['loss', 'accuracy', 'val_loss', 'val_accuracy'])\n",
    "  acc = history.history['accuracy']\n",
    "  val_acc = history.history['val_accuracy']\n",
    "  loss = history.history['loss']\n",
    "  val_loss = history.history['val_loss']\n",
    "  x = range(1, len(acc) + 1)\n",
    "\n",
    "  plt.figure(figsize=(12, 5))\n",
    "  plt.subplot(1, 2, 1)\n",
    "  plt.plot(x, acc, 'b', label='Training acc')\n",
    "  plt.plot(x, val_acc, 'r', label='Validation acc')\n",
    "  plt.title('Training and validation accuracy')\n",
    "  plt.legend()\n",
    "\n",
    "  plt.subplot(1, 2, 2)\n",
    "  plt.plot(x, loss, 'b', label='Training loss')\n",
    "  plt.plot(x, val_loss, 'r', label='Validation loss')\n",
    "  plt.title('Training and validation loss')\n",
    "  plt.legend()\n",
    "\n",
    "# Display model score(Loss & Accuracy) across all sets.\n",
    "def display_model_score(model, train, val, test):\n",
    "  train_score = model.evaluate(train[0], train[1], verbose=1)\n",
    "  print('Train loss: ', train_score[0])\n",
    "  print('Train accuracy: ', train_score[1])\n",
    "  print('-'*70)\n",
    "  val_score = model.evaluate(val[0], val[1], verbose=1)\n",
    "  print('Val loss: ', val_score[0])\n",
    "  print('Val accuracy: ', val_score[1])\n",
    "  print('-'*70)\n",
    "  test_score = model.evaluate(test[0], test[1], verbose=1)\n",
    "  print('Test loss: ', test_score[0])\n",
    "  print('Test accuracy: ', test_score[1])\n",
    "\n",
    "def plot_history_CV(cv, estimator,x,y):\n",
    "  # plot arrows\n",
    "  fig1 = plt.figure(figsize=[12,12])\n",
    "  ax1 = fig1.add_subplot(111,aspect = 'equal')\n",
    "  ax1.add_patch(\n",
    "      patches.Arrow(0.45,0.5,-0.25,0.25,width=0.3,color='green',alpha = 0.5)\n",
    "      )\n",
    "  ax1.add_patch(\n",
    "      patches.Arrow(0.5,0.45,0.25,-0.25,width=0.3,color='red',alpha = 0.5)\n",
    "      )\n",
    "\n",
    "  tprs = []\n",
    "  aucs = []\n",
    "  mean_fpr = np.linspace(0,1,100)\n",
    "  i = 1\n",
    "  for train,test in cv.split(x,y):\n",
    "      model = create_Modelbaseline()\n",
    "      model.fit(x[train],y.iloc[train],\n",
    "            epochs=30,\n",
    "            shuffle=True,verbose=0)\n",
    "      prediction = model.predict(x[test])\n",
    "      fpr, tpr, t = roc_curve(y[test], prediction[:, 1])\n",
    "      tprs.append(interp(mean_fpr, fpr, tpr))\n",
    "      roc_auc = auc(fpr, tpr)\n",
    "      aucs.append(roc_auc)\n",
    "      plt.plot(fpr, tpr, lw=2, alpha=0.3, label='ROC fold %d (AUC = %0.2f)' % (i, roc_auc))\n",
    "      i= i+1\n",
    "\n",
    "  plt.plot([0,1],[0,1],linestyle = '--',lw = 2,color = 'black')\n",
    "  mean_tpr = np.mean(tprs, axis=0)\n",
    "  mean_auc = auc(mean_fpr, mean_tpr)\n",
    "  plt.plot(mean_fpr, mean_tpr, color='blue',\n",
    "          label=r'Mean ROC (AUC = %0.2f )' % (mean_auc),lw=2, alpha=1)\n",
    "\n",
    "  plt.xlabel('False Positive Rate')\n",
    "  plt.ylabel('True Positive Rate')\n",
    "  plt.title('ROC')\n",
    "  plt.legend(loc=\"lower right\")\n",
    "  plt.text(0.32,0.7,'More accurate area',fontsize = 12)\n",
    "  plt.text(0.63,0.4,'Less accurate area',fontsize = 12)\n",
    "  plt.show()"
   ]
  },
  {
   "cell_type": "markdown",
   "metadata": {
    "id": "nI-_ZAvfIb5A"
   },
   "source": [
    "# Split Train/ Test / Validation set"
   ]
  },
  {
   "cell_type": "code",
   "execution_count": 7,
   "metadata": {
    "id": "lAAQLx4UIptD"
   },
   "outputs": [],
   "source": [
    "X= np.array(AMPs_df['reps'].to_list())\n",
    "y= np.array(AMPs_df['class'].to_list())"
   ]
  },
  {
   "cell_type": "code",
   "execution_count": 8,
   "metadata": {
    "id": "EkmqGqfUT0XR"
   },
   "outputs": [
    {
     "data": {
      "text/plain": [
       "(41951, 1900)"
      ]
     },
     "execution_count": 8,
     "metadata": {},
     "output_type": "execute_result"
    }
   ],
   "source": [
    "input_shape  = X.shape\n",
    "input_shape"
   ]
  },
  {
   "cell_type": "code",
   "execution_count": 9,
   "metadata": {
    "id": "UWQ2IZWgIbST"
   },
   "outputs": [],
   "source": [
    "X_train, X_test, y_train, y_test = train_test_split(X, y, test_size=0.2, random_state=1)\n",
    "X_train, X_val, y_train, y_val = train_test_split(X_train, y_train, test_size=0.25, random_state=1) # 0.25 x 0.8 = 0.2"
   ]
  },
  {
   "cell_type": "code",
   "execution_count": 10,
   "metadata": {
    "colab": {
     "base_uri": "https://localhost:8080/",
     "height": 73
    },
    "id": "IM7Scdevkwpp",
    "outputId": "55fa7ea6-a5f9-4e23-bf42-f1a4bf64f8a3"
   },
   "outputs": [
    {
     "name": "stdout",
     "output_type": "stream",
     "text": [
      "Train size:  25170\n",
      "Val size:  8390\n",
      "Test size:  8391\n"
     ]
    }
   ],
   "source": [
    "# Given data size\n",
    "print('Train size: ', len(X_train))\n",
    "print('Val size: ', len(X_val))\n",
    "print('Test size: ', len(X_test))"
   ]
  },
  {
   "cell_type": "markdown",
   "metadata": {
    "id": "9dHnNnR7IAAs"
   },
   "source": [
    "# Model 1: Our simple model "
   ]
  },
  {
   "cell_type": "markdown",
   "metadata": {
    "id": "4tb99vdzJc6A"
   },
   "source": [
    "## Keras"
   ]
  },
  {
   "cell_type": "code",
   "execution_count": 10,
   "metadata": {
    "id": "rnEsdsHWJf2B"
   },
   "outputs": [],
   "source": [
    "def create_Modelbaseline():\n",
    "  x_input = Input(shape=(1900,))\n",
    "  layer_0 = Dense(896)(x_input)\n",
    "  dropout_0 = Dropout(0.5)(layer_0)\n",
    "  layer_1 = Dense(448)(dropout_0)\n",
    "  dropout_1 = Dropout(0.5)(layer_1)\n",
    "  layer_2 = Dense(224)(dropout_1)\n",
    "  dropout_2 = Dropout(0.5)(layer_2)\n",
    "  layer_3 = Dense(112)(dropout_2)\n",
    "  dropout_3 = Dropout(0.5)(layer_3)\n",
    "  layer_4 = Dense(56)(dropout_3)\n",
    "  dropout_4 = Dropout(0.5)(layer_4)\n",
    "  x_output = Dense(1, activation='sigmoid', name='output_layer')(dropout_4)\n",
    "\n",
    "  model = Model(inputs=x_input, outputs=x_output)\n",
    "  model.compile(optimizer='adam', loss='binary_crossentropy', metrics=['accuracy'])\n",
    "  return model"
   ]
  },
  {
   "cell_type": "code",
   "execution_count": 11,
   "metadata": {
    "colab": {
     "base_uri": "https://localhost:8080/",
     "height": 616
    },
    "id": "5BiM6J7tJf5u",
    "outputId": "b5c8a8bb-1ff7-4fd0-ec9d-e60926bddf15"
   },
   "outputs": [
    {
     "name": "stdout",
     "output_type": "stream",
     "text": [
      "Model: \"functional_1\"\n",
      "_________________________________________________________________\n",
      "Layer (type)                 Output Shape              Param #   \n",
      "=================================================================\n",
      "input_1 (InputLayer)         [(None, 1900)]            0         \n",
      "_________________________________________________________________\n",
      "dense (Dense)                (None, 896)               1703296   \n",
      "_________________________________________________________________\n",
      "dropout (Dropout)            (None, 896)               0         \n",
      "_________________________________________________________________\n",
      "dense_1 (Dense)              (None, 448)               401856    \n",
      "_________________________________________________________________\n",
      "dropout_1 (Dropout)          (None, 448)               0         \n",
      "_________________________________________________________________\n",
      "dense_2 (Dense)              (None, 224)               100576    \n",
      "_________________________________________________________________\n",
      "dropout_2 (Dropout)          (None, 224)               0         \n",
      "_________________________________________________________________\n",
      "dense_3 (Dense)              (None, 112)               25200     \n",
      "_________________________________________________________________\n",
      "dropout_3 (Dropout)          (None, 112)               0         \n",
      "_________________________________________________________________\n",
      "dense_4 (Dense)              (None, 56)                6328      \n",
      "_________________________________________________________________\n",
      "dropout_4 (Dropout)          (None, 56)                0         \n",
      "_________________________________________________________________\n",
      "output_layer (Dense)         (None, 1)                 57        \n",
      "=================================================================\n",
      "Total params: 2,237,313\n",
      "Trainable params: 2,237,313\n",
      "Non-trainable params: 0\n",
      "_________________________________________________________________\n"
     ]
    }
   ],
   "source": [
    " model = create_Modelbaseline()\n",
    " model.summary()"
   ]
  },
  {
   "cell_type": "code",
   "execution_count": 13,
   "metadata": {
    "colab": {
     "base_uri": "https://localhost:8080/",
     "height": 1000
    },
    "id": "fn-5xjDBV0Fs",
    "outputId": "1627a5ba-ef0d-482e-d621-12d8be92ad57",
    "scrolled": true
   },
   "outputs": [
    {
     "name": "stdout",
     "output_type": "stream",
     "text": [
      "WARNING:tensorflow:`period` argument is deprecated. Please use `save_freq` to specify the frequency in number of batches seen.\n",
      "Epoch 1/100\n",
      "\n",
      "Epoch 00001: loss improved from inf to 0.92098, saving model to our_best_model.hdf5\n",
      "787/787 - 3s - loss: 0.9210 - accuracy: 0.7741 - val_loss: 0.3144 - val_accuracy: 0.8609\n",
      "Epoch 2/100\n",
      "\n",
      "Epoch 00002: loss improved from 0.92098 to 0.35398, saving model to our_best_model.hdf5\n",
      "787/787 - 2s - loss: 0.3540 - accuracy: 0.8525 - val_loss: 0.3825 - val_accuracy: 0.8387\n",
      "Epoch 3/100\n",
      "\n",
      "Epoch 00003: loss improved from 0.35398 to 0.32556, saving model to our_best_model.hdf5\n",
      "787/787 - 2s - loss: 0.3256 - accuracy: 0.8646 - val_loss: 0.2932 - val_accuracy: 0.8677\n",
      "Epoch 4/100\n",
      "\n",
      "Epoch 00004: loss improved from 0.32556 to 0.31714, saving model to our_best_model.hdf5\n",
      "787/787 - 2s - loss: 0.3171 - accuracy: 0.8658 - val_loss: 0.2817 - val_accuracy: 0.8756\n",
      "Epoch 5/100\n",
      "\n",
      "Epoch 00005: loss improved from 0.31714 to 0.31550, saving model to our_best_model.hdf5\n",
      "787/787 - 2s - loss: 0.3155 - accuracy: 0.8697 - val_loss: 0.2920 - val_accuracy: 0.8758\n",
      "Epoch 6/100\n",
      "\n",
      "Epoch 00006: loss did not improve from 0.31550\n",
      "787/787 - 2s - loss: 0.3190 - accuracy: 0.8684 - val_loss: 0.2810 - val_accuracy: 0.8794\n",
      "Epoch 7/100\n",
      "\n",
      "Epoch 00007: loss did not improve from 0.31550\n",
      "787/787 - 2s - loss: 0.3157 - accuracy: 0.8708 - val_loss: 0.2823 - val_accuracy: 0.8750\n",
      "Epoch 8/100\n",
      "\n",
      "Epoch 00008: loss did not improve from 0.31550\n",
      "787/787 - 2s - loss: 0.3212 - accuracy: 0.8694 - val_loss: 0.2714 - val_accuracy: 0.8813\n",
      "Epoch 9/100\n",
      "\n",
      "Epoch 00009: loss did not improve from 0.31550\n",
      "787/787 - 2s - loss: 0.3211 - accuracy: 0.8694 - val_loss: 0.2734 - val_accuracy: 0.8814\n",
      "Epoch 10/100\n",
      "\n",
      "Epoch 00010: loss improved from 0.31550 to 0.31478, saving model to our_best_model.hdf5\n",
      "787/787 - 2s - loss: 0.3148 - accuracy: 0.8727 - val_loss: 0.2733 - val_accuracy: 0.8813\n",
      "Epoch 11/100\n",
      "\n",
      "Epoch 00011: loss did not improve from 0.31478\n",
      "787/787 - 2s - loss: 0.3158 - accuracy: 0.8724 - val_loss: 0.2704 - val_accuracy: 0.8861\n",
      "Epoch 12/100\n",
      "\n",
      "Epoch 00012: loss improved from 0.31478 to 0.30799, saving model to our_best_model.hdf5\n",
      "787/787 - 2s - loss: 0.3080 - accuracy: 0.8763 - val_loss: 0.2659 - val_accuracy: 0.8872\n",
      "Epoch 13/100\n",
      "\n",
      "Epoch 00013: loss improved from 0.30799 to 0.30654, saving model to our_best_model.hdf5\n",
      "787/787 - 2s - loss: 0.3065 - accuracy: 0.8756 - val_loss: 0.3251 - val_accuracy: 0.8751\n",
      "Epoch 14/100\n",
      "\n",
      "Epoch 00014: loss improved from 0.30654 to 0.30430, saving model to our_best_model.hdf5\n",
      "787/787 - 2s - loss: 0.3043 - accuracy: 0.8785 - val_loss: 0.2626 - val_accuracy: 0.8830\n",
      "Epoch 15/100\n",
      "\n",
      "Epoch 00015: loss improved from 0.30430 to 0.29964, saving model to our_best_model.hdf5\n",
      "787/787 - 2s - loss: 0.2996 - accuracy: 0.8811 - val_loss: 0.2888 - val_accuracy: 0.8806\n",
      "Epoch 16/100\n",
      "\n",
      "Epoch 00016: loss improved from 0.29964 to 0.29891, saving model to our_best_model.hdf5\n",
      "787/787 - 2s - loss: 0.2989 - accuracy: 0.8793 - val_loss: 0.2578 - val_accuracy: 0.8862\n",
      "Epoch 17/100\n",
      "\n",
      "Epoch 00017: loss improved from 0.29891 to 0.29554, saving model to our_best_model.hdf5\n",
      "787/787 - 2s - loss: 0.2955 - accuracy: 0.8818 - val_loss: 0.2786 - val_accuracy: 0.8849\n",
      "Epoch 18/100\n",
      "\n",
      "Epoch 00018: loss did not improve from 0.29554\n",
      "787/787 - 2s - loss: 0.3009 - accuracy: 0.8814 - val_loss: 0.2630 - val_accuracy: 0.8877\n",
      "Epoch 19/100\n",
      "\n",
      "Epoch 00019: loss improved from 0.29554 to 0.29382, saving model to our_best_model.hdf5\n",
      "787/787 - 2s - loss: 0.2938 - accuracy: 0.8831 - val_loss: 0.2879 - val_accuracy: 0.8745\n",
      "Epoch 20/100\n",
      "\n",
      "Epoch 00020: loss improved from 0.29382 to 0.29262, saving model to our_best_model.hdf5\n",
      "787/787 - 2s - loss: 0.2926 - accuracy: 0.8855 - val_loss: 0.3536 - val_accuracy: 0.8721\n",
      "Epoch 21/100\n",
      "\n",
      "Epoch 00021: loss did not improve from 0.29262\n",
      "787/787 - 2s - loss: 0.2949 - accuracy: 0.8834 - val_loss: 0.2611 - val_accuracy: 0.8883\n",
      "Epoch 22/100\n",
      "\n",
      "Epoch 00022: loss improved from 0.29262 to 0.29193, saving model to our_best_model.hdf5\n",
      "787/787 - 2s - loss: 0.2919 - accuracy: 0.8816 - val_loss: 0.3056 - val_accuracy: 0.8875\n",
      "Epoch 23/100\n",
      "\n",
      "Epoch 00023: loss did not improve from 0.29193\n",
      "787/787 - 2s - loss: 0.2936 - accuracy: 0.8841 - val_loss: 0.2594 - val_accuracy: 0.8852\n",
      "Epoch 24/100\n",
      "\n",
      "Epoch 00024: loss improved from 0.29193 to 0.28839, saving model to our_best_model.hdf5\n",
      "787/787 - 2s - loss: 0.2884 - accuracy: 0.8858 - val_loss: 0.3047 - val_accuracy: 0.8852\n",
      "Epoch 25/100\n",
      "\n",
      "Epoch 00025: loss did not improve from 0.28839\n",
      "787/787 - 2s - loss: 0.2909 - accuracy: 0.8857 - val_loss: 0.3512 - val_accuracy: 0.8549\n",
      "Epoch 26/100\n",
      "\n",
      "Epoch 00026: loss did not improve from 0.28839\n",
      "787/787 - 2s - loss: 0.2900 - accuracy: 0.8855 - val_loss: 0.2781 - val_accuracy: 0.8897\n",
      "Epoch 27/100\n",
      "\n",
      "Epoch 00027: loss did not improve from 0.28839\n",
      "787/787 - 2s - loss: 0.2885 - accuracy: 0.8858 - val_loss: 0.3161 - val_accuracy: 0.8790\n",
      "Epoch 28/100\n",
      "\n",
      "Epoch 00028: loss did not improve from 0.28839\n",
      "787/787 - 2s - loss: 0.2899 - accuracy: 0.8858 - val_loss: 0.2576 - val_accuracy: 0.8872\n",
      "Epoch 29/100\n",
      "\n",
      "Epoch 00029: loss improved from 0.28839 to 0.28443, saving model to our_best_model.hdf5\n",
      "787/787 - 2s - loss: 0.2844 - accuracy: 0.8881 - val_loss: 0.2888 - val_accuracy: 0.8740\n",
      "Epoch 30/100\n",
      "\n",
      "Epoch 00030: loss did not improve from 0.28443\n",
      "787/787 - 2s - loss: 0.2857 - accuracy: 0.8880 - val_loss: 0.2569 - val_accuracy: 0.8878\n",
      "Epoch 31/100\n",
      "\n",
      "Epoch 00031: loss did not improve from 0.28443\n",
      "787/787 - 2s - loss: 0.2906 - accuracy: 0.8868 - val_loss: 0.2884 - val_accuracy: 0.8815\n",
      "Epoch 32/100\n",
      "\n",
      "Epoch 00032: loss improved from 0.28443 to 0.27919, saving model to our_best_model.hdf5\n",
      "787/787 - 2s - loss: 0.2792 - accuracy: 0.8912 - val_loss: 0.2890 - val_accuracy: 0.8868\n",
      "Epoch 33/100\n",
      "\n",
      "Epoch 00033: loss did not improve from 0.27919\n",
      "787/787 - 2s - loss: 0.2839 - accuracy: 0.8895 - val_loss: 0.2596 - val_accuracy: 0.8881\n",
      "Epoch 34/100\n",
      "\n",
      "Epoch 00034: loss did not improve from 0.27919\n",
      "787/787 - 2s - loss: 0.2861 - accuracy: 0.8907 - val_loss: 0.2991 - val_accuracy: 0.8862\n",
      "Epoch 35/100\n",
      "\n",
      "Epoch 00035: loss did not improve from 0.27919\n",
      "787/787 - 2s - loss: 0.2838 - accuracy: 0.8876 - val_loss: 0.2980 - val_accuracy: 0.8846\n",
      "Epoch 36/100\n",
      "\n",
      "Epoch 00036: loss improved from 0.27919 to 0.27913, saving model to our_best_model.hdf5\n",
      "787/787 - 2s - loss: 0.2791 - accuracy: 0.8890 - val_loss: 0.2683 - val_accuracy: 0.8853\n",
      "Epoch 37/100\n",
      "\n",
      "Epoch 00037: loss did not improve from 0.27913\n",
      "787/787 - 2s - loss: 0.2825 - accuracy: 0.8896 - val_loss: 0.2733 - val_accuracy: 0.8901\n",
      "Epoch 38/100\n",
      "\n",
      "Epoch 00038: loss did not improve from 0.27913\n",
      "787/787 - 2s - loss: 0.2824 - accuracy: 0.8876 - val_loss: 0.2666 - val_accuracy: 0.8869\n",
      "Epoch 39/100\n",
      "\n",
      "Epoch 00039: loss improved from 0.27913 to 0.27819, saving model to our_best_model.hdf5\n",
      "787/787 - 2s - loss: 0.2782 - accuracy: 0.8909 - val_loss: 0.2605 - val_accuracy: 0.8876\n",
      "Epoch 40/100\n",
      "\n",
      "Epoch 00040: loss improved from 0.27819 to 0.27779, saving model to our_best_model.hdf5\n",
      "787/787 - 2s - loss: 0.2778 - accuracy: 0.8927 - val_loss: 0.2541 - val_accuracy: 0.8880\n",
      "Epoch 41/100\n",
      "\n",
      "Epoch 00041: loss did not improve from 0.27779\n",
      "787/787 - 2s - loss: 0.2798 - accuracy: 0.8892 - val_loss: 0.3009 - val_accuracy: 0.8855\n",
      "Epoch 42/100\n",
      "\n",
      "Epoch 00042: loss did not improve from 0.27779\n",
      "787/787 - 2s - loss: 0.2778 - accuracy: 0.8911 - val_loss: 0.3344 - val_accuracy: 0.8821\n",
      "Epoch 43/100\n",
      "\n",
      "Epoch 00043: loss did not improve from 0.27779\n",
      "787/787 - 2s - loss: 0.2791 - accuracy: 0.8900 - val_loss: 0.2646 - val_accuracy: 0.8844\n",
      "Epoch 44/100\n",
      "\n",
      "Epoch 00044: loss did not improve from 0.27779\n",
      "787/787 - 2s - loss: 0.2828 - accuracy: 0.8888 - val_loss: 0.2568 - val_accuracy: 0.8868\n",
      "Epoch 45/100\n",
      "\n",
      "Epoch 00045: loss improved from 0.27779 to 0.27460, saving model to our_best_model.hdf5\n",
      "787/787 - 2s - loss: 0.2746 - accuracy: 0.8925 - val_loss: 0.2641 - val_accuracy: 0.8878\n",
      "Epoch 46/100\n",
      "\n",
      "Epoch 00046: loss did not improve from 0.27460\n",
      "787/787 - 2s - loss: 0.2772 - accuracy: 0.8903 - val_loss: 0.3554 - val_accuracy: 0.8779\n",
      "Epoch 47/100\n",
      "\n",
      "Epoch 00047: loss did not improve from 0.27460\n",
      "787/787 - 2s - loss: 0.2865 - accuracy: 0.8916 - val_loss: 0.2643 - val_accuracy: 0.8875\n",
      "Epoch 48/100\n",
      "\n",
      "Epoch 00048: loss did not improve from 0.27460\n",
      "787/787 - 2s - loss: 0.2774 - accuracy: 0.8941 - val_loss: 0.2757 - val_accuracy: 0.8881\n",
      "Epoch 49/100\n",
      "\n",
      "Epoch 00049: loss did not improve from 0.27460\n",
      "787/787 - 2s - loss: 0.2753 - accuracy: 0.8935 - val_loss: 0.2585 - val_accuracy: 0.8889\n",
      "Epoch 50/100\n",
      "\n",
      "Epoch 00050: loss did not improve from 0.27460\n",
      "787/787 - 2s - loss: 0.2847 - accuracy: 0.8906 - val_loss: 0.2774 - val_accuracy: 0.8899\n",
      "Epoch 51/100\n",
      "\n",
      "Epoch 00051: loss did not improve from 0.27460\n",
      "787/787 - 2s - loss: 0.2777 - accuracy: 0.8934 - val_loss: 0.2842 - val_accuracy: 0.8846\n",
      "Epoch 52/100\n",
      "\n",
      "Epoch 00052: loss did not improve from 0.27460\n",
      "787/787 - 2s - loss: 0.2822 - accuracy: 0.8904 - val_loss: 0.2712 - val_accuracy: 0.8896\n",
      "Epoch 53/100\n",
      "\n",
      "Epoch 00053: loss improved from 0.27460 to 0.27189, saving model to our_best_model.hdf5\n",
      "787/787 - 2s - loss: 0.2719 - accuracy: 0.8924 - val_loss: 0.2996 - val_accuracy: 0.8857\n",
      "Epoch 54/100\n",
      "\n",
      "Epoch 00054: loss did not improve from 0.27189\n",
      "787/787 - 2s - loss: 0.2750 - accuracy: 0.8930 - val_loss: 0.2812 - val_accuracy: 0.8751\n",
      "Epoch 55/100\n",
      "\n",
      "Epoch 00055: loss did not improve from 0.27189\n",
      "787/787 - 2s - loss: 0.2744 - accuracy: 0.8897 - val_loss: 0.3610 - val_accuracy: 0.8734\n",
      "Epoch 56/100\n",
      "\n",
      "Epoch 00056: loss did not improve from 0.27189\n",
      "787/787 - 2s - loss: 0.2738 - accuracy: 0.8946 - val_loss: 0.2896 - val_accuracy: 0.8884\n",
      "Epoch 57/100\n",
      "\n",
      "Epoch 00057: loss did not improve from 0.27189\n",
      "787/787 - 2s - loss: 0.2772 - accuracy: 0.8909 - val_loss: 0.3158 - val_accuracy: 0.8820\n",
      "Epoch 58/100\n",
      "\n",
      "Epoch 00058: loss did not improve from 0.27189\n",
      "787/787 - 2s - loss: 0.2747 - accuracy: 0.8911 - val_loss: 0.3496 - val_accuracy: 0.8861\n",
      "Epoch 59/100\n",
      "\n",
      "Epoch 00059: loss did not improve from 0.27189\n",
      "787/787 - 2s - loss: 0.2744 - accuracy: 0.8958 - val_loss: 0.2535 - val_accuracy: 0.8917\n",
      "Epoch 60/100\n",
      "\n",
      "Epoch 00060: loss did not improve from 0.27189\n",
      "787/787 - 2s - loss: 0.2742 - accuracy: 0.8953 - val_loss: 0.2583 - val_accuracy: 0.8906\n",
      "Epoch 61/100\n",
      "\n",
      "Epoch 00061: loss did not improve from 0.27189\n",
      "787/787 - 2s - loss: 0.2788 - accuracy: 0.8938 - val_loss: 0.2721 - val_accuracy: 0.8915\n",
      "Epoch 62/100\n",
      "\n",
      "Epoch 00062: loss did not improve from 0.27189\n",
      "787/787 - 2s - loss: 0.2722 - accuracy: 0.8945 - val_loss: 0.2931 - val_accuracy: 0.8892\n",
      "Epoch 63/100\n",
      "\n",
      "Epoch 00063: loss did not improve from 0.27189\n",
      "787/787 - 2s - loss: 0.2773 - accuracy: 0.8948 - val_loss: 0.2958 - val_accuracy: 0.8750\n",
      "Epoch 64/100\n",
      "\n",
      "Epoch 00064: loss did not improve from 0.27189\n",
      "787/787 - 2s - loss: 0.2770 - accuracy: 0.8928 - val_loss: 0.3135 - val_accuracy: 0.8793\n",
      "Epoch 65/100\n",
      "\n",
      "Epoch 00065: loss did not improve from 0.27189\n",
      "787/787 - 2s - loss: 0.2852 - accuracy: 0.8912 - val_loss: 0.2671 - val_accuracy: 0.8826\n",
      "Epoch 66/100\n",
      "\n",
      "Epoch 00066: loss improved from 0.27189 to 0.27120, saving model to our_best_model.hdf5\n",
      "787/787 - 2s - loss: 0.2712 - accuracy: 0.8942 - val_loss: 0.3218 - val_accuracy: 0.8841\n",
      "Epoch 67/100\n",
      "\n",
      "Epoch 00067: loss improved from 0.27120 to 0.26885, saving model to our_best_model.hdf5\n",
      "787/787 - 2s - loss: 0.2688 - accuracy: 0.8969 - val_loss: 0.3221 - val_accuracy: 0.8931\n",
      "Epoch 68/100\n",
      "\n",
      "Epoch 00068: loss did not improve from 0.26885\n",
      "787/787 - 2s - loss: 0.2737 - accuracy: 0.8939 - val_loss: 0.2728 - val_accuracy: 0.8861\n",
      "Epoch 69/100\n",
      "\n",
      "Epoch 00069: loss did not improve from 0.26885\n",
      "787/787 - 2s - loss: 0.2717 - accuracy: 0.8946 - val_loss: 0.2991 - val_accuracy: 0.8882\n",
      "Epoch 70/100\n",
      "\n",
      "Epoch 00070: loss did not improve from 0.26885\n",
      "787/787 - 2s - loss: 0.2776 - accuracy: 0.8924 - val_loss: 0.3135 - val_accuracy: 0.8901\n",
      "Epoch 71/100\n",
      "\n",
      "Epoch 00071: loss did not improve from 0.26885\n",
      "787/787 - 2s - loss: 0.2796 - accuracy: 0.8924 - val_loss: 0.2642 - val_accuracy: 0.8844\n",
      "Epoch 72/100\n",
      "\n",
      "Epoch 00072: loss did not improve from 0.26885\n",
      "787/787 - 2s - loss: 0.2711 - accuracy: 0.8934 - val_loss: 0.2787 - val_accuracy: 0.8926\n",
      "Epoch 73/100\n",
      "\n",
      "Epoch 00073: loss did not improve from 0.26885\n",
      "787/787 - 2s - loss: 0.2710 - accuracy: 0.8947 - val_loss: 0.2922 - val_accuracy: 0.8857\n",
      "Epoch 74/100\n",
      "\n",
      "Epoch 00074: loss did not improve from 0.26885\n",
      "787/787 - 2s - loss: 0.2711 - accuracy: 0.8946 - val_loss: 0.2742 - val_accuracy: 0.8905\n",
      "Epoch 75/100\n",
      "\n",
      "Epoch 00075: loss did not improve from 0.26885\n",
      "787/787 - 2s - loss: 0.2777 - accuracy: 0.8922 - val_loss: 0.3097 - val_accuracy: 0.8735\n",
      "Epoch 76/100\n",
      "\n",
      "Epoch 00076: loss did not improve from 0.26885\n",
      "787/787 - 2s - loss: 0.2712 - accuracy: 0.8946 - val_loss: 0.2546 - val_accuracy: 0.8892\n",
      "Epoch 77/100\n",
      "\n",
      "Epoch 00077: loss did not improve from 0.26885\n",
      "787/787 - 2s - loss: 0.2708 - accuracy: 0.8928 - val_loss: 0.2684 - val_accuracy: 0.8867\n",
      "Epoch 78/100\n",
      "\n",
      "Epoch 00078: loss did not improve from 0.26885\n",
      "787/787 - 2s - loss: 0.2773 - accuracy: 0.8948 - val_loss: 0.2802 - val_accuracy: 0.8846\n",
      "Epoch 79/100\n",
      "\n",
      "Epoch 00079: loss did not improve from 0.26885\n",
      "787/787 - 2s - loss: 0.2741 - accuracy: 0.8936 - val_loss: 0.2864 - val_accuracy: 0.8882\n",
      "Epoch 80/100\n",
      "\n",
      "Epoch 00080: loss did not improve from 0.26885\n",
      "787/787 - 2s - loss: 0.2709 - accuracy: 0.8934 - val_loss: 0.3415 - val_accuracy: 0.8844\n",
      "Epoch 81/100\n",
      "\n",
      "Epoch 00081: loss did not improve from 0.26885\n",
      "787/787 - 2s - loss: 0.2760 - accuracy: 0.8937 - val_loss: 0.2983 - val_accuracy: 0.8688\n",
      "Epoch 82/100\n",
      "\n",
      "Epoch 00082: loss did not improve from 0.26885\n",
      "787/787 - 2s - loss: 0.2708 - accuracy: 0.8947 - val_loss: 0.3285 - val_accuracy: 0.8702\n",
      "Epoch 83/100\n",
      "\n",
      "Epoch 00083: loss did not improve from 0.26885\n",
      "787/787 - 2s - loss: 0.2699 - accuracy: 0.8938 - val_loss: 0.2650 - val_accuracy: 0.8883\n",
      "Epoch 84/100\n",
      "\n",
      "Epoch 00084: loss improved from 0.26885 to 0.26867, saving model to our_best_model.hdf5\n",
      "787/787 - 2s - loss: 0.2687 - accuracy: 0.8959 - val_loss: 0.2867 - val_accuracy: 0.8863\n",
      "Epoch 85/100\n",
      "\n",
      "Epoch 00085: loss did not improve from 0.26867\n",
      "787/787 - 2s - loss: 0.2756 - accuracy: 0.8924 - val_loss: 0.2726 - val_accuracy: 0.8871\n",
      "Epoch 86/100\n",
      "\n",
      "Epoch 00086: loss did not improve from 0.26867\n",
      "787/787 - 2s - loss: 0.2727 - accuracy: 0.8953 - val_loss: 0.2728 - val_accuracy: 0.8878\n",
      "Epoch 87/100\n",
      "\n",
      "Epoch 00087: loss did not improve from 0.26867\n",
      "787/787 - 2s - loss: 0.2741 - accuracy: 0.8964 - val_loss: 0.3234 - val_accuracy: 0.8865\n",
      "Epoch 88/100\n",
      "\n",
      "Epoch 00088: loss did not improve from 0.26867\n",
      "787/787 - 2s - loss: 0.2721 - accuracy: 0.8938 - val_loss: 0.2857 - val_accuracy: 0.8914\n",
      "Epoch 89/100\n",
      "\n",
      "Epoch 00089: loss did not improve from 0.26867\n",
      "787/787 - 2s - loss: 0.2738 - accuracy: 0.8936 - val_loss: 0.2636 - val_accuracy: 0.8888\n",
      "Epoch 90/100\n",
      "\n",
      "Epoch 00090: loss did not improve from 0.26867\n",
      "787/787 - 2s - loss: 0.2726 - accuracy: 0.8957 - val_loss: 0.2914 - val_accuracy: 0.8853\n",
      "Epoch 91/100\n",
      "\n",
      "Epoch 00091: loss did not improve from 0.26867\n",
      "787/787 - 2s - loss: 0.2795 - accuracy: 0.8940 - val_loss: 0.2737 - val_accuracy: 0.8870\n",
      "Epoch 92/100\n",
      "\n",
      "Epoch 00092: loss did not improve from 0.26867\n",
      "787/787 - 2s - loss: 0.2696 - accuracy: 0.8980 - val_loss: 0.2818 - val_accuracy: 0.8845\n",
      "Epoch 93/100\n",
      "\n",
      "Epoch 00093: loss did not improve from 0.26867\n",
      "787/787 - 2s - loss: 0.2703 - accuracy: 0.8956 - val_loss: 0.2863 - val_accuracy: 0.8771\n",
      "Epoch 94/100\n",
      "\n",
      "Epoch 00094: loss improved from 0.26867 to 0.26856, saving model to our_best_model.hdf5\n",
      "787/787 - 2s - loss: 0.2686 - accuracy: 0.8944 - val_loss: 0.2849 - val_accuracy: 0.8853\n",
      "Epoch 95/100\n",
      "\n",
      "Epoch 00095: loss did not improve from 0.26856\n",
      "787/787 - 2s - loss: 0.2733 - accuracy: 0.8948 - val_loss: 0.2860 - val_accuracy: 0.8894\n",
      "Epoch 96/100\n",
      "\n",
      "Epoch 00096: loss improved from 0.26856 to 0.26698, saving model to our_best_model.hdf5\n",
      "787/787 - 2s - loss: 0.2670 - accuracy: 0.8963 - val_loss: 0.2639 - val_accuracy: 0.8878\n",
      "Epoch 97/100\n",
      "\n",
      "Epoch 00097: loss did not improve from 0.26698\n",
      "787/787 - 2s - loss: 0.2677 - accuracy: 0.8963 - val_loss: 0.2665 - val_accuracy: 0.8880\n",
      "Epoch 98/100\n",
      "\n",
      "Epoch 00098: loss did not improve from 0.26698\n",
      "787/787 - 2s - loss: 0.2753 - accuracy: 0.8944 - val_loss: 0.2611 - val_accuracy: 0.8883\n",
      "Epoch 99/100\n",
      "\n",
      "Epoch 00099: loss did not improve from 0.26698\n",
      "787/787 - 2s - loss: 0.2685 - accuracy: 0.8948 - val_loss: 0.2624 - val_accuracy: 0.8900\n",
      "Epoch 100/100\n",
      "\n",
      "Epoch 00100: loss did not improve from 0.26698\n",
      "787/787 - 2s - loss: 0.2728 - accuracy: 0.8956 - val_loss: 0.3191 - val_accuracy: 0.8838\n"
     ]
    }
   ],
   "source": [
    "checkpoint = ModelCheckpoint(\"our_best_model.hdf5\", monitor='loss', verbose=1,\n",
    "    save_best_only=True, mode='auto', period=1)\n",
    "\n",
    "history = model.fit(X_train, y_train, epochs=50, validation_data=(X_val, y_val),\n",
    "                     callbacks=[checkpoint], verbose=2)\n"
   ]
  },
  {
   "cell_type": "code",
   "execution_count": 14,
   "metadata": {
    "colab": {
     "base_uri": "https://localhost:8080/",
     "height": 336
    },
    "id": "78rubOsMatf7",
    "outputId": "fd557d64-a3fb-4107-b4bc-6f3c230e86d9"
   },
   "outputs": [
    {
     "data": {
      "image/png": "[encoded data removed]",
      "text/plain": [
       "<Figure size 864x360 with 2 Axes>"
      ]
     },
     "metadata": {
      "needs_background": "light"
     },
     "output_type": "display_data"
    }
   ],
   "source": [
    "plot_history(history)"
   ]
  },
  {
   "cell_type": "markdown",
   "metadata": {
    "id": "lsxtS0l3esdH"
   },
   "source": [
    "Overfitting if: training loss >> validation loss, training loss much greater than validation loss.\n",
    "\n",
    "Underfitting if: training loss << validation loss, training loss much less than validation loss. "
   ]
  },
  {
   "cell_type": "code",
   "execution_count": 15,
   "metadata": {
    "colab": {
     "base_uri": "https://localhost:8080/",
     "height": 223
    },
    "id": "WMW5lf7fcX6h",
    "outputId": "334829d1-6272-45c6-b68b-438ce7cf73c1"
   },
   "outputs": [
    {
     "name": "stdout",
     "output_type": "stream",
     "text": [
      "787/787 [==============================] - 1s 2ms/step - loss: 0.2382 - accuracy: 0.9098\n",
      "Train loss:  0.2381516993045807\n",
      "Train accuracy:  0.9097735285758972\n",
      "----------------------------------------------------------------------\n",
      "263/263 [==============================] - 0s 2ms/step - loss: 0.3191 - accuracy: 0.8838\n",
      "Val loss:  0.31905773282051086\n",
      "Val accuracy:  0.8837902545928955\n",
      "----------------------------------------------------------------------\n",
      "263/263 [==============================] - 0s 2ms/step - loss: 0.2919 - accuracy: 0.8938\n",
      "Test loss:  0.2919025719165802\n",
      "Test accuracy:  0.8938148021697998\n"
     ]
    }
   ],
   "source": [
    "display_model_score(model,\n",
    "    [X_train, y_train],\n",
    "    [X_val, y_val],\n",
    "    [X_test, y_test])"
   ]
  },
  {
   "cell_type": "code",
   "execution_count": 16,
   "metadata": {
    "colab": {
     "base_uri": "https://localhost:8080/",
     "height": 148
    },
    "id": "7N7O3u_dm1FL",
    "outputId": "5f707ca4-8bb7-493f-ca49-02f13fda2e1a"
   },
   "outputs": [
    {
     "data": {
      "text/plain": [
       "array([[0.9397335 ],\n",
       "       [0.84990627],\n",
       "       [0.91319346],\n",
       "       ...,\n",
       "       [0.00275618],\n",
       "       [0.62678194],\n",
       "       [0.99972457]], dtype=float32)"
      ]
     },
     "execution_count": 16,
     "metadata": {},
     "output_type": "execute_result"
    }
   ],
   "source": [
    "y_probas = model.predict(X_test)\n",
    "y_probas"
   ]
  },
  {
   "cell_type": "code",
   "execution_count": 17,
   "metadata": {
    "colab": {
     "base_uri": "https://localhost:8080/",
     "height": 186
    },
    "id": "_9PISRBnj0xr",
    "outputId": "8fddc58c-6119-4e45-e7d6-c3d01442c81e"
   },
   "outputs": [
    {
     "name": "stdout",
     "output_type": "stream",
     "text": [
      "              precision    recall  f1-score   support\n",
      "\n",
      "           0       0.94      0.85      0.89      4264\n",
      "           1       0.86      0.94      0.90      4127\n",
      "\n",
      "    accuracy                           0.89      8391\n",
      "   macro avg       0.90      0.89      0.89      8391\n",
      "weighted avg       0.90      0.89      0.89      8391\n",
      "\n"
     ]
    }
   ],
   "source": [
    "threshold = 0.5\n",
    "y_predict = np.where(y_probas > threshold, 1, 0)\n",
    "\n",
    "print(classification_report(y_test, y_predict))"
   ]
  },
  {
   "cell_type": "code",
   "execution_count": 18,
   "metadata": {},
   "outputs": [
    {
     "name": "stdout",
     "output_type": "stream",
     "text": [
      "ROC area is 0.8945708454051046\n"
     ]
    },
    {
     "data": {
      "text/plain": [
       "<matplotlib.legend.Legend at 0x7f6864bb3e50>"
      ]
     },
     "execution_count": 18,
     "metadata": {},
     "output_type": "execute_result"
    },
    {
     "data": {
      "image/png": "[encoded data removed]",
      "text/plain": [
       "<Figure size 432x288 with 1 Axes>"
      ]
     },
     "metadata": {
      "needs_background": "light"
     },
     "output_type": "display_data"
    }
   ],
   "source": [
    "from sklearn.metrics import roc_curve, auc\n",
    "# probs from log preds\n",
    "# probs = np.exp(preds[:,1])\n",
    "# Compute ROC curve\n",
    "fpr, tpr, thresholds = roc_curve(y_test, y_predict, pos_label=1)\n",
    "\n",
    "# Compute ROC area\n",
    "roc_auc = auc(fpr, tpr)\n",
    "print('ROC area is {0}'.format(roc_auc))\n",
    "plt.figure()\n",
    "plt.plot(fpr, tpr, color='darkorange', label='ROC curve (area = %0.2f)' % roc_auc)\n",
    "plt.plot([0, 1], [0, 1], color='navy', linestyle='--')\n",
    "plt.xlim([-0.01, 1.0])\n",
    "plt.ylim([0.0, 1.01])\n",
    "plt.xlabel('False Positive Rate')\n",
    "plt.ylabel('True Positive Rate')\n",
    "plt.title('Receiver operating characteristic')\n",
    "plt.legend(loc=\"lower right\")"
   ]
  },
  {
   "cell_type": "markdown",
   "metadata": {
    "id": "UBBbFeGaXM7O"
   },
   "source": [
    "# Cross validation with whole dataset"
   ]
  },
  {
   "cell_type": "code",
   "execution_count": 21,
   "metadata": {
    "id": "IfOdoWiqJfmO"
   },
   "outputs": [],
   "source": [
    "\n",
    "estimator = KerasClassifier(build_fn=create_Modelbaseline, epochs=100,verbose=0)\n",
    "kfold = StratifiedKFold(n_splits=5, shuffle=True)\n",
    "results = cross_val_score(estimator, X, y, cv=kfold)"
   ]
  },
  {
   "cell_type": "code",
   "execution_count": 22,
   "metadata": {
    "colab": {
     "base_uri": "https://localhost:8080/",
     "height": 36
    },
    "id": "rbGCYLBqVAB0",
    "outputId": "482a9c74-f22a-410d-8c49-4a20eab67069"
   },
   "outputs": [
    {
     "name": "stdout",
     "output_type": "stream",
     "text": [
      "Baseline: 89.40% (0.35%)\n"
     ]
    }
   ],
   "source": [
    "print(\"Baseline: %.2f%% (%.2f%%)\" % (results.mean()*100, results.std()*100))"
   ]
  },
  {
   "cell_type": "code",
   "execution_count": null,
   "metadata": {},
   "outputs": [],
   "source": [
    "kfold = StratifiedKFold(n_splits=10, shuffle=True, random_state=42)\n",
    "scoring = ['accuracy', 'f1', 'roc_auc', 'recall', 'precision','neg_log_loss']\n",
    "scores = cross_validate(estimator, X, y, scoring=scoring, cv=kfold, return_train_score=True)\n",
    "print(\"Accuracy TEST: %0.2f (+/- %0.2f) Accuracy TRAIN: %0.2f (+/- %0.2f)\" %\n",
    "      (scores['test_accuracy'].mean(), scores['test_accuracy'].std() * 2, scores['train_accuracy'].mean(), scores['train_accuracy'].std() * 2))\n",
    "print(\"F1 TEST: %0.2f (+/- %0.2f) F1 TRAIN : %0.2f (+/- %0.2f) \" %\n",
    "      (scores['test_f1'].mean(), scores['test_f1'].std() * 2, scores['train_f1'].mean(), scores['train_f1'].std() * 2))\n",
    "print(\"AUROC TEST: %0.2f (+/- %0.2f) AUROC TRAIN : %0.2f (+/- %0.2f)\" %\n",
    "      (scores['test_roc_auc'].mean(), scores['test_roc_auc'].std() * 2, scores['train_roc_auc'].mean(), scores['train_roc_auc'].std() * 2))\n",
    "print(\"recall TEST: %0.2f (+/- %0.2f) recall TRAIN: %0.2f (+/- %0.2f)\" %\n",
    "      (scores['test_recall'].mean(), scores['test_recall'].std() * 2, scores['train_recall'].mean(), scores['train_recall'].std() * 2))\n",
    "print(\"Precision TEST: %0.2f (+/- %0.2f) Precision TRAIN: %0.2f (+/- %0.2f)\" %\n",
    "      (scores['test_precision'].mean(), scores['test_precision'].std() * 2, scores['train_precision'].mean(), scores['train_precision'].std() * 2))\n",
    "print(\"Log loss TEST: %0.2f (+/- %0.2f) Log loss TRAIN: %0.2f (+/- %0.2f)\" %\n",
    "      (scores['test_neg_log_loss'].mean(), scores['test_neg_log_loss'].std() * 2, scores['train_neg_log_loss'].mean(), scores['train_neg_log_loss'].std() * 2))"
   ]
  },
  {
   "cell_type": "markdown",
   "metadata": {
    "id": "TO18oGqEIAf5"
   },
   "source": [
    "# Model 2: Bidirectional LSTM\n",
    "(The perforamnce did not good)"
   ]
  },
  {
   "cell_type": "markdown",
   "metadata": {
    "id": "fNONrOjcxCKz"
   },
   "source": [
    "The below models are from https://towardsdatascience.com/protein-sequence-classification-99c80d0ad2df"
   ]
  },
  {
   "cell_type": "markdown",
   "metadata": {
    "id": "ax797xXuwsAJ"
   },
   "source": [
    "Embedding\n",
    "* https://towardsdatascience.com/neural-network-embeddings-explained-4d028e6f0526\n",
    "\n",
    "must specify 3 arguments:\n",
    "\n",
    "    input_dim: This is the size of the vocabulary in the text data. For example, if your data is integer encoded to values between 0-10, then the size of the vocabulary would be 11 words.\n",
    "    output_dim: This is the size of the vector space in which words will be embedded. It defines the size of the output vectors from this layer for each word. For example, it could be 32 or 100 or even larger. Test different values for your problem.\n",
    "    input_length: This is the length of input sequences, as you would define for any input layer of a Keras model. For example, if all of your input documents are comprised of 1000 words, this would be 1000.\n"
   ]
  },
  {
   "cell_type": "code",
   "execution_count": 11,
   "metadata": {
    "colab": {
     "base_uri": "https://localhost:8080/",
     "height": 36
    },
    "id": "Neqnr6Hhv1QC",
    "outputId": "22fe2f0a-c418-4def-fbe8-f3d2ec8ddca4"
   },
   "outputs": [
    {
     "name": "stdout",
     "output_type": "stream",
     "text": [
      "(25170, 1900, 1)\n",
      "(8391, 1900, 1)\n",
      "(8390, 1900, 1)\n"
     ]
    }
   ],
   "source": [
    "import numpy as np\n",
    "# https://stackoverflow.com/questions/52803989/how-to-correct-shape-of-keras-input-into-a-3d-array/52804200\n",
    "X_train = np.reshape(X_train,(X_train.shape[0],X_train.shape[1],1))\n",
    "print(X_train.shape)\n",
    "X_test = np.reshape(X_test,(X_test.shape[0],X_test.shape[1],1))\n",
    "print(X_test.shape)\n",
    "X_val = np.reshape(X_val,(X_val.shape[0],X_val.shape[1],1))\n",
    "print(X_val.shape)"
   ]
  },
  {
   "cell_type": "code",
   "execution_count": 12,
   "metadata": {
    "colab": {
     "base_uri": "https://localhost:8080/",
     "height": 36
    },
    "id": "vrc6-83n0Pb2",
    "outputId": "285b5c67-1712-4482-e820-5288f45aaa17"
   },
   "outputs": [],
   "source": [
    "x_input = Input( shape=(1900,1) )"
   ]
  },
  {
   "cell_type": "markdown",
   "metadata": {
    "id": "O4_WG1mW3cP_"
   },
   "source": [
    "Keras - ImportError: cannot import name 'CuDNNLSTM'\n",
    "\n",
    " To slove : for Tensorflow-2: You can just use LSTM with no activation function and it will automatically use the CuDNN version\n",
    "\n",
    "* https://stackoverflow.com/questions/48086014/keras-model-with-cudnnlstm-layers-doesnt-work-on-production-server\n",
    "* https://forums.developer.nvidia.com/t/importerror-cannot-import-name-cudnnlstm-from-tensorflow-keras-layers/82778\n",
    " "
   ]
  },
  {
   "cell_type": "code",
   "execution_count": 21,
   "metadata": {
    "id": "3K_HqPYhfu_r"
   },
   "outputs": [
    {
     "name": "stdout",
     "output_type": "stream",
     "text": [
      "Model: \"functional_7\"\n",
      "_________________________________________________________________\n",
      "Layer (type)                 Output Shape              Param #   \n",
      "=================================================================\n",
      "input_1 (InputLayer)         [(None, 1900, 1)]         0         \n",
      "_________________________________________________________________\n",
      "bidirectional_4 (Bidirection (None, 128)               33792     \n",
      "_________________________________________________________________\n",
      "dropout_3 (Dropout)          (None, 128)               0         \n",
      "_________________________________________________________________\n",
      "output_layer (Dense)         (None, 1)                 129       \n",
      "=================================================================\n",
      "Total params: 33,921\n",
      "Trainable params: 33,921\n",
      "Non-trainable params: 0\n",
      "_________________________________________________________________\n"
     ]
    }
   ],
   "source": [
    "\n",
    "bi_rnn = Bidirectional( LSTM(64, kernel_regularizer=l2(0.01), recurrent_regularizer=l2(0.01)\n",
    "                        , bias_regularizer=l2(0.01), return_sequences=False, stateful=False ) )(x_input)\n",
    "x = Dropout(0.3)(bi_rnn)\n",
    "\n",
    "# softmax classifier\n",
    "x_output = Dense(1, activation='softmax', name='output_layer')(x)\n",
    "\n",
    "model_BLSTM = Model(inputs=x_input, outputs=x_output)\n",
    "model_BLSTM.compile(optimizer='adam', loss='categorical_crossentropy', metrics=['accuracy'])\n",
    "\n",
    "model_BLSTM.summary()"
   ]
  },
  {
   "cell_type": "code",
   "execution_count": 17,
   "metadata": {},
   "outputs": [
    {
     "name": "stdout",
     "output_type": "stream",
     "text": [
      "WARNING:tensorflow:Layer lstm_14 will not use cuDNN kernel since it doesn't meet the cuDNN kernel criteria. It will use generic GPU kernel as fallback when running on GPU\n",
      "WARNING:tensorflow:Layer lstm_14 will not use cuDNN kernel since it doesn't meet the cuDNN kernel criteria. It will use generic GPU kernel as fallback when running on GPU\n",
      "WARNING:tensorflow:Layer lstm_14 will not use cuDNN kernel since it doesn't meet the cuDNN kernel criteria. It will use generic GPU kernel as fallback when running on GPU\n"
     ]
    }
   ],
   "source": [
    "from tensorflow import keras\n",
    "model_BLSTM = keras.models.load_model('best_model_BLSTM.v2.hdf5')"
   ]
  },
  {
   "cell_type": "code",
   "execution_count": 22,
   "metadata": {
    "id": "CT66n3ZxfvD4"
   },
   "outputs": [
    {
     "name": "stdout",
     "output_type": "stream",
     "text": [
      "WARNING:tensorflow:`period` argument is deprecated. Please use `save_freq` to specify the frequency in number of batches seen.\n",
      "Epoch 1/50\n",
      "99/99 [==============================] - ETA: 0s - loss: 2.0076 - accuracy: 0.4953\n",
      "Epoch 00001: loss improved from inf to 2.00764, saving model to best_model_BLSTM.v2.hdf5\n",
      "99/99 [==============================] - 1020s 10s/step - loss: 2.0076 - accuracy: 0.4953 - val_loss: 1.7775 - val_accuracy: 0.4925\n",
      "Epoch 2/50\n",
      "99/99 [==============================] - ETA: 0s - loss: 1.4617 - accuracy: 0.4953 \n",
      "Epoch 00002: loss improved from 2.00764 to 1.46168, saving model to best_model_BLSTM.v2.hdf5\n",
      "99/99 [==============================] - 1096s 11s/step - loss: 1.4617 - accuracy: 0.4953 - val_loss: 1.2110 - val_accuracy: 0.4925\n",
      "Epoch 3/50\n",
      "99/99 [==============================] - ETA: 0s - loss: 1.0682 - accuracy: 0.4953 \n",
      "Epoch 00003: loss improved from 1.46168 to 1.06824, saving model to best_model_BLSTM.v2.hdf5\n",
      "99/99 [==============================] - 1082s 11s/step - loss: 1.0682 - accuracy: 0.4953 - val_loss: 0.9439 - val_accuracy: 0.4925\n",
      "Epoch 4/50\n",
      "99/99 [==============================] - ETA: 0s - loss: 0.8971 - accuracy: 0.4953 \n",
      "Epoch 00004: loss improved from 1.06824 to 0.89707, saving model to best_model_BLSTM.v2.hdf5\n",
      "99/99 [==============================] - 1087s 11s/step - loss: 0.8971 - accuracy: 0.4953 - val_loss: 1.0773 - val_accuracy: 0.4925\n",
      "Epoch 5/50\n",
      "99/99 [==============================] - ETA: 0s - loss: 1.0379 - accuracy: 0.4953 \n",
      "Epoch 00005: loss did not improve from 0.89707\n",
      "99/99 [==============================] - 1071s 11s/step - loss: 1.0379 - accuracy: 0.4953 - val_loss: 0.9650 - val_accuracy: 0.4925\n",
      "Epoch 6/50\n",
      "99/99 [==============================] - ETA: 0s - loss: 0.9118 - accuracy: 0.4953\n",
      "Epoch 00006: loss did not improve from 0.89707\n",
      "99/99 [==============================] - 1012s 10s/step - loss: 0.9118 - accuracy: 0.4953 - val_loss: 0.8683 - val_accuracy: 0.4925\n",
      "Epoch 7/50\n",
      "99/99 [==============================] - ETA: 0s - loss: 0.8404 - accuracy: 0.4953\n",
      "Epoch 00007: loss improved from 0.89707 to 0.84042, saving model to best_model_BLSTM.v2.hdf5\n",
      "99/99 [==============================] - 1015s 10s/step - loss: 0.8404 - accuracy: 0.4953 - val_loss: 0.8101 - val_accuracy: 0.4925\n",
      "Epoch 8/50\n",
      "99/99 [==============================] - ETA: 0s - loss: 0.7899 - accuracy: 0.4953 \n",
      "Epoch 00008: loss improved from 0.84042 to 0.78986, saving model to best_model_BLSTM.v2.hdf5\n",
      "99/99 [==============================] - 1027s 10s/step - loss: 0.7899 - accuracy: 0.4953 - val_loss: 0.7665 - val_accuracy: 0.4925\n",
      "Epoch 9/50\n",
      "99/99 [==============================] - ETA: 0s - loss: 0.7498 - accuracy: 0.4953\n",
      "Epoch 00009: loss improved from 0.78986 to 0.74983, saving model to best_model_BLSTM.v2.hdf5\n",
      "99/99 [==============================] - 983s 10s/step - loss: 0.7498 - accuracy: 0.4953 - val_loss: 0.7319 - val_accuracy: 0.4925\n",
      "Epoch 10/50\n",
      "99/99 [==============================] - ETA: 0s - loss: 0.7160 - accuracy: 0.4953\n",
      "Epoch 00010: loss improved from 0.74983 to 0.71603, saving model to best_model_BLSTM.v2.hdf5\n",
      "99/99 [==============================] - 963s 10s/step - loss: 0.7160 - accuracy: 0.4953 - val_loss: 0.7054 - val_accuracy: 0.4925\n",
      "Epoch 11/50\n",
      "99/99 [==============================] - ETA: 0s - loss: 0.6859 - accuracy: 0.4953\n",
      "Epoch 00011: loss improved from 0.71603 to 0.68594, saving model to best_model_BLSTM.v2.hdf5\n",
      "99/99 [==============================] - 945s 10s/step - loss: 0.6859 - accuracy: 0.4953 - val_loss: 0.6730 - val_accuracy: 0.4925\n",
      "Epoch 12/50\n",
      "99/99 [==============================] - ETA: 0s - loss: 0.6583 - accuracy: 0.4953\n",
      "Epoch 00012: loss improved from 0.68594 to 0.65833, saving model to best_model_BLSTM.v2.hdf5\n",
      "99/99 [==============================] - 951s 10s/step - loss: 0.6583 - accuracy: 0.4953 - val_loss: 0.6386 - val_accuracy: 0.4925\n",
      "Epoch 13/50\n",
      "99/99 [==============================] - ETA: 0s - loss: 0.6278 - accuracy: 0.4953\n",
      "Epoch 00013: loss improved from 0.65833 to 0.62784, saving model to best_model_BLSTM.v2.hdf5\n",
      "99/99 [==============================] - 964s 10s/step - loss: 0.6278 - accuracy: 0.4953 - val_loss: 0.6125 - val_accuracy: 0.4925\n",
      "Epoch 14/50\n",
      "99/99 [==============================] - ETA: 0s - loss: 0.5985 - accuracy: 0.4953\n",
      "Epoch 00014: loss improved from 0.62784 to 0.59847, saving model to best_model_BLSTM.v2.hdf5\n",
      "99/99 [==============================] - 973s 10s/step - loss: 0.5985 - accuracy: 0.4953 - val_loss: 0.5883 - val_accuracy: 0.4925\n",
      "Epoch 15/50\n",
      "99/99 [==============================] - ETA: 0s - loss: 0.5728 - accuracy: 0.4953\n",
      "Epoch 00015: loss improved from 0.59847 to 0.57275, saving model to best_model_BLSTM.v2.hdf5\n",
      "99/99 [==============================] - 947s 10s/step - loss: 0.5728 - accuracy: 0.4953 - val_loss: 0.5578 - val_accuracy: 0.4925\n",
      "Epoch 16/50\n",
      "99/99 [==============================] - ETA: 0s - loss: 0.5469 - accuracy: 0.4953\n",
      "Epoch 00016: loss improved from 0.57275 to 0.54692, saving model to best_model_BLSTM.v2.hdf5\n",
      "99/99 [==============================] - 964s 10s/step - loss: 0.5469 - accuracy: 0.4953 - val_loss: 0.5320 - val_accuracy: 0.4925\n",
      "Epoch 17/50\n",
      "99/99 [==============================] - ETA: 0s - loss: 0.5191 - accuracy: 0.4953\n",
      "Epoch 00017: loss improved from 0.54692 to 0.51911, saving model to best_model_BLSTM.v2.hdf5\n",
      "99/99 [==============================] - 974s 10s/step - loss: 0.5191 - accuracy: 0.4953 - val_loss: 0.5047 - val_accuracy: 0.4925\n",
      "Epoch 18/50\n",
      "99/99 [==============================] - ETA: 0s - loss: 0.4989 - accuracy: 0.4953\n",
      "Epoch 00018: loss improved from 0.51911 to 0.49886, saving model to best_model_BLSTM.v2.hdf5\n",
      "99/99 [==============================] - 999s 10s/step - loss: 0.4989 - accuracy: 0.4953 - val_loss: 0.4859 - val_accuracy: 0.4925\n",
      "Epoch 19/50\n",
      "99/99 [==============================] - ETA: 0s - loss: 0.4749 - accuracy: 0.4953 \n",
      "Epoch 00019: loss improved from 0.49886 to 0.47489, saving model to best_model_BLSTM.v2.hdf5\n",
      "99/99 [==============================] - 1113s 11s/step - loss: 0.4749 - accuracy: 0.4953 - val_loss: 0.4614 - val_accuracy: 0.4925\n",
      "Epoch 20/50\n",
      "99/99 [==============================] - ETA: 0s - loss: 0.4559 - accuracy: 0.4953\n",
      "Epoch 00020: loss improved from 0.47489 to 0.45588, saving model to best_model_BLSTM.v2.hdf5\n",
      "99/99 [==============================] - 1009s 10s/step - loss: 0.4559 - accuracy: 0.4953 - val_loss: 0.4453 - val_accuracy: 0.4925\n",
      "Epoch 21/50\n",
      "81/99 [=======================>......] - ETA: 2:57 - loss: 0.4390 - accuracy: 0.4976"
     ]
    },
    {
     "ename": "KeyboardInterrupt",
     "evalue": "",
     "output_type": "error",
     "traceback": [
      "\u001b[0;31m---------------------------------------------------------------------------\u001b[0m",
      "\u001b[0;31mKeyboardInterrupt\u001b[0m                         Traceback (most recent call last)",
      "\u001b[0;32m<ipython-input-22-3d1d0258d552>\u001b[0m in \u001b[0;36m<module>\u001b[0;34m\u001b[0m\n\u001b[1;32m      6\u001b[0m \u001b[0;34m\u001b[0m\u001b[0m\n\u001b[1;32m      7\u001b[0m history_BLSTM = model_BLSTM.fit(X_train, y_train, epochs=50, batch_size=256, validation_data=(X_val, y_val),\n\u001b[0;32m----> 8\u001b[0;31m                      callbacks=[checkpoint_BLSTM, es], verbose=1)\n\u001b[0m",
      "\u001b[0;32m~/.local/lib/python3.7/site-packages/tensorflow/python/keras/engine/training.py\u001b[0m in \u001b[0;36m_method_wrapper\u001b[0;34m(self, *args, **kwargs)\u001b[0m\n\u001b[1;32m    106\u001b[0m   \u001b[0;32mdef\u001b[0m \u001b[0m_method_wrapper\u001b[0m\u001b[0;34m(\u001b[0m\u001b[0mself\u001b[0m\u001b[0;34m,\u001b[0m \u001b[0;34m*\u001b[0m\u001b[0margs\u001b[0m\u001b[0;34m,\u001b[0m \u001b[0;34m**\u001b[0m\u001b[0mkwargs\u001b[0m\u001b[0;34m)\u001b[0m\u001b[0;34m:\u001b[0m\u001b[0;34m\u001b[0m\u001b[0;34m\u001b[0m\u001b[0m\n\u001b[1;32m    107\u001b[0m     \u001b[0;32mif\u001b[0m \u001b[0;32mnot\u001b[0m \u001b[0mself\u001b[0m\u001b[0;34m.\u001b[0m\u001b[0m_in_multi_worker_mode\u001b[0m\u001b[0;34m(\u001b[0m\u001b[0;34m)\u001b[0m\u001b[0;34m:\u001b[0m  \u001b[0;31m# pylint: disable=protected-access\u001b[0m\u001b[0;34m\u001b[0m\u001b[0;34m\u001b[0m\u001b[0m\n\u001b[0;32m--> 108\u001b[0;31m       \u001b[0;32mreturn\u001b[0m \u001b[0mmethod\u001b[0m\u001b[0;34m(\u001b[0m\u001b[0mself\u001b[0m\u001b[0;34m,\u001b[0m \u001b[0;34m*\u001b[0m\u001b[0margs\u001b[0m\u001b[0;34m,\u001b[0m \u001b[0;34m**\u001b[0m\u001b[0mkwargs\u001b[0m\u001b[0;34m)\u001b[0m\u001b[0;34m\u001b[0m\u001b[0;34m\u001b[0m\u001b[0m\n\u001b[0m\u001b[1;32m    109\u001b[0m \u001b[0;34m\u001b[0m\u001b[0m\n\u001b[1;32m    110\u001b[0m     \u001b[0;31m# Running inside `run_distribute_coordinator` already.\u001b[0m\u001b[0;34m\u001b[0m\u001b[0;34m\u001b[0m\u001b[0;34m\u001b[0m\u001b[0m\n",
      "\u001b[0;32m~/.local/lib/python3.7/site-packages/tensorflow/python/keras/engine/training.py\u001b[0m in \u001b[0;36mfit\u001b[0;34m(self, x, y, batch_size, epochs, verbose, callbacks, validation_split, validation_data, shuffle, class_weight, sample_weight, initial_epoch, steps_per_epoch, validation_steps, validation_batch_size, validation_freq, max_queue_size, workers, use_multiprocessing)\u001b[0m\n\u001b[1;32m   1096\u001b[0m                 batch_size=batch_size):\n\u001b[1;32m   1097\u001b[0m               \u001b[0mcallbacks\u001b[0m\u001b[0;34m.\u001b[0m\u001b[0mon_train_batch_begin\u001b[0m\u001b[0;34m(\u001b[0m\u001b[0mstep\u001b[0m\u001b[0;34m)\u001b[0m\u001b[0;34m\u001b[0m\u001b[0;34m\u001b[0m\u001b[0m\n\u001b[0;32m-> 1098\u001b[0;31m               \u001b[0mtmp_logs\u001b[0m \u001b[0;34m=\u001b[0m \u001b[0mtrain_function\u001b[0m\u001b[0;34m(\u001b[0m\u001b[0miterator\u001b[0m\u001b[0;34m)\u001b[0m\u001b[0;34m\u001b[0m\u001b[0;34m\u001b[0m\u001b[0m\n\u001b[0m\u001b[1;32m   1099\u001b[0m               \u001b[0;32mif\u001b[0m \u001b[0mdata_handler\u001b[0m\u001b[0;34m.\u001b[0m\u001b[0mshould_sync\u001b[0m\u001b[0;34m:\u001b[0m\u001b[0;34m\u001b[0m\u001b[0;34m\u001b[0m\u001b[0m\n\u001b[1;32m   1100\u001b[0m                 \u001b[0mcontext\u001b[0m\u001b[0;34m.\u001b[0m\u001b[0masync_wait\u001b[0m\u001b[0;34m(\u001b[0m\u001b[0;34m)\u001b[0m\u001b[0;34m\u001b[0m\u001b[0;34m\u001b[0m\u001b[0m\n",
      "\u001b[0;32m~/.local/lib/python3.7/site-packages/tensorflow/python/eager/def_function.py\u001b[0m in \u001b[0;36m__call__\u001b[0;34m(self, *args, **kwds)\u001b[0m\n\u001b[1;32m    778\u001b[0m       \u001b[0;32melse\u001b[0m\u001b[0;34m:\u001b[0m\u001b[0;34m\u001b[0m\u001b[0;34m\u001b[0m\u001b[0m\n\u001b[1;32m    779\u001b[0m         \u001b[0mcompiler\u001b[0m \u001b[0;34m=\u001b[0m \u001b[0;34m\"nonXla\"\u001b[0m\u001b[0;34m\u001b[0m\u001b[0;34m\u001b[0m\u001b[0m\n\u001b[0;32m--> 780\u001b[0;31m         \u001b[0mresult\u001b[0m \u001b[0;34m=\u001b[0m \u001b[0mself\u001b[0m\u001b[0;34m.\u001b[0m\u001b[0m_call\u001b[0m\u001b[0;34m(\u001b[0m\u001b[0;34m*\u001b[0m\u001b[0margs\u001b[0m\u001b[0;34m,\u001b[0m \u001b[0;34m**\u001b[0m\u001b[0mkwds\u001b[0m\u001b[0;34m)\u001b[0m\u001b[0;34m\u001b[0m\u001b[0;34m\u001b[0m\u001b[0m\n\u001b[0m\u001b[1;32m    781\u001b[0m \u001b[0;34m\u001b[0m\u001b[0m\n\u001b[1;32m    782\u001b[0m       \u001b[0mnew_tracing_count\u001b[0m \u001b[0;34m=\u001b[0m \u001b[0mself\u001b[0m\u001b[0;34m.\u001b[0m\u001b[0m_get_tracing_count\u001b[0m\u001b[0;34m(\u001b[0m\u001b[0;34m)\u001b[0m\u001b[0;34m\u001b[0m\u001b[0;34m\u001b[0m\u001b[0m\n",
      "\u001b[0;32m~/.local/lib/python3.7/site-packages/tensorflow/python/eager/def_function.py\u001b[0m in \u001b[0;36m_call\u001b[0;34m(self, *args, **kwds)\u001b[0m\n\u001b[1;32m    805\u001b[0m       \u001b[0;31m# In this case we have created variables on the first call, so we run the\u001b[0m\u001b[0;34m\u001b[0m\u001b[0;34m\u001b[0m\u001b[0;34m\u001b[0m\u001b[0m\n\u001b[1;32m    806\u001b[0m       \u001b[0;31m# defunned version which is guaranteed to never create variables.\u001b[0m\u001b[0;34m\u001b[0m\u001b[0;34m\u001b[0m\u001b[0;34m\u001b[0m\u001b[0m\n\u001b[0;32m--> 807\u001b[0;31m       \u001b[0;32mreturn\u001b[0m \u001b[0mself\u001b[0m\u001b[0;34m.\u001b[0m\u001b[0m_stateless_fn\u001b[0m\u001b[0;34m(\u001b[0m\u001b[0;34m*\u001b[0m\u001b[0margs\u001b[0m\u001b[0;34m,\u001b[0m \u001b[0;34m**\u001b[0m\u001b[0mkwds\u001b[0m\u001b[0;34m)\u001b[0m  \u001b[0;31m# pylint: disable=not-callable\u001b[0m\u001b[0;34m\u001b[0m\u001b[0;34m\u001b[0m\u001b[0m\n\u001b[0m\u001b[1;32m    808\u001b[0m     \u001b[0;32melif\u001b[0m \u001b[0mself\u001b[0m\u001b[0;34m.\u001b[0m\u001b[0m_stateful_fn\u001b[0m \u001b[0;32mis\u001b[0m \u001b[0;32mnot\u001b[0m \u001b[0;32mNone\u001b[0m\u001b[0;34m:\u001b[0m\u001b[0;34m\u001b[0m\u001b[0;34m\u001b[0m\u001b[0m\n\u001b[1;32m    809\u001b[0m       \u001b[0;31m# Release the lock early so that multiple threads can perform the call\u001b[0m\u001b[0;34m\u001b[0m\u001b[0;34m\u001b[0m\u001b[0;34m\u001b[0m\u001b[0m\n",
      "\u001b[0;32m~/.local/lib/python3.7/site-packages/tensorflow/python/eager/function.py\u001b[0m in \u001b[0;36m__call__\u001b[0;34m(self, *args, **kwargs)\u001b[0m\n\u001b[1;32m   2827\u001b[0m     \u001b[0;32mwith\u001b[0m \u001b[0mself\u001b[0m\u001b[0;34m.\u001b[0m\u001b[0m_lock\u001b[0m\u001b[0;34m:\u001b[0m\u001b[0;34m\u001b[0m\u001b[0;34m\u001b[0m\u001b[0m\n\u001b[1;32m   2828\u001b[0m       \u001b[0mgraph_function\u001b[0m\u001b[0;34m,\u001b[0m \u001b[0margs\u001b[0m\u001b[0;34m,\u001b[0m \u001b[0mkwargs\u001b[0m \u001b[0;34m=\u001b[0m \u001b[0mself\u001b[0m\u001b[0;34m.\u001b[0m\u001b[0m_maybe_define_function\u001b[0m\u001b[0;34m(\u001b[0m\u001b[0margs\u001b[0m\u001b[0;34m,\u001b[0m \u001b[0mkwargs\u001b[0m\u001b[0;34m)\u001b[0m\u001b[0;34m\u001b[0m\u001b[0;34m\u001b[0m\u001b[0m\n\u001b[0;32m-> 2829\u001b[0;31m     \u001b[0;32mreturn\u001b[0m \u001b[0mgraph_function\u001b[0m\u001b[0;34m.\u001b[0m\u001b[0m_filtered_call\u001b[0m\u001b[0;34m(\u001b[0m\u001b[0margs\u001b[0m\u001b[0;34m,\u001b[0m \u001b[0mkwargs\u001b[0m\u001b[0;34m)\u001b[0m  \u001b[0;31m# pylint: disable=protected-access\u001b[0m\u001b[0;34m\u001b[0m\u001b[0;34m\u001b[0m\u001b[0m\n\u001b[0m\u001b[1;32m   2830\u001b[0m \u001b[0;34m\u001b[0m\u001b[0m\n\u001b[1;32m   2831\u001b[0m   \u001b[0;34m@\u001b[0m\u001b[0mproperty\u001b[0m\u001b[0;34m\u001b[0m\u001b[0;34m\u001b[0m\u001b[0m\n",
      "\u001b[0;32m~/.local/lib/python3.7/site-packages/tensorflow/python/eager/function.py\u001b[0m in \u001b[0;36m_filtered_call\u001b[0;34m(self, args, kwargs, cancellation_manager)\u001b[0m\n\u001b[1;32m   1846\u001b[0m                            resource_variable_ops.BaseResourceVariable))],\n\u001b[1;32m   1847\u001b[0m         \u001b[0mcaptured_inputs\u001b[0m\u001b[0;34m=\u001b[0m\u001b[0mself\u001b[0m\u001b[0;34m.\u001b[0m\u001b[0mcaptured_inputs\u001b[0m\u001b[0;34m,\u001b[0m\u001b[0;34m\u001b[0m\u001b[0;34m\u001b[0m\u001b[0m\n\u001b[0;32m-> 1848\u001b[0;31m         cancellation_manager=cancellation_manager)\n\u001b[0m\u001b[1;32m   1849\u001b[0m \u001b[0;34m\u001b[0m\u001b[0m\n\u001b[1;32m   1850\u001b[0m   \u001b[0;32mdef\u001b[0m \u001b[0m_call_flat\u001b[0m\u001b[0;34m(\u001b[0m\u001b[0mself\u001b[0m\u001b[0;34m,\u001b[0m \u001b[0margs\u001b[0m\u001b[0;34m,\u001b[0m \u001b[0mcaptured_inputs\u001b[0m\u001b[0;34m,\u001b[0m \u001b[0mcancellation_manager\u001b[0m\u001b[0;34m=\u001b[0m\u001b[0;32mNone\u001b[0m\u001b[0;34m)\u001b[0m\u001b[0;34m:\u001b[0m\u001b[0;34m\u001b[0m\u001b[0;34m\u001b[0m\u001b[0m\n",
      "\u001b[0;32m~/.local/lib/python3.7/site-packages/tensorflow/python/eager/function.py\u001b[0m in \u001b[0;36m_call_flat\u001b[0;34m(self, args, captured_inputs, cancellation_manager)\u001b[0m\n\u001b[1;32m   1922\u001b[0m       \u001b[0;31m# No tape is watching; skip to running the function.\u001b[0m\u001b[0;34m\u001b[0m\u001b[0;34m\u001b[0m\u001b[0;34m\u001b[0m\u001b[0m\n\u001b[1;32m   1923\u001b[0m       return self._build_call_outputs(self._inference_function.call(\n\u001b[0;32m-> 1924\u001b[0;31m           ctx, args, cancellation_manager=cancellation_manager))\n\u001b[0m\u001b[1;32m   1925\u001b[0m     forward_backward = self._select_forward_and_backward_functions(\n\u001b[1;32m   1926\u001b[0m         \u001b[0margs\u001b[0m\u001b[0;34m,\u001b[0m\u001b[0;34m\u001b[0m\u001b[0;34m\u001b[0m\u001b[0m\n",
      "\u001b[0;32m~/.local/lib/python3.7/site-packages/tensorflow/python/eager/function.py\u001b[0m in \u001b[0;36mcall\u001b[0;34m(self, ctx, args, cancellation_manager)\u001b[0m\n\u001b[1;32m    548\u001b[0m               \u001b[0minputs\u001b[0m\u001b[0;34m=\u001b[0m\u001b[0margs\u001b[0m\u001b[0;34m,\u001b[0m\u001b[0;34m\u001b[0m\u001b[0;34m\u001b[0m\u001b[0m\n\u001b[1;32m    549\u001b[0m               \u001b[0mattrs\u001b[0m\u001b[0;34m=\u001b[0m\u001b[0mattrs\u001b[0m\u001b[0;34m,\u001b[0m\u001b[0;34m\u001b[0m\u001b[0;34m\u001b[0m\u001b[0m\n\u001b[0;32m--> 550\u001b[0;31m               ctx=ctx)\n\u001b[0m\u001b[1;32m    551\u001b[0m         \u001b[0;32melse\u001b[0m\u001b[0;34m:\u001b[0m\u001b[0;34m\u001b[0m\u001b[0;34m\u001b[0m\u001b[0m\n\u001b[1;32m    552\u001b[0m           outputs = execute.execute_with_cancellation(\n",
      "\u001b[0;32m~/.local/lib/python3.7/site-packages/tensorflow/python/eager/execute.py\u001b[0m in \u001b[0;36mquick_execute\u001b[0;34m(op_name, num_outputs, inputs, attrs, ctx, name)\u001b[0m\n\u001b[1;32m     58\u001b[0m     \u001b[0mctx\u001b[0m\u001b[0;34m.\u001b[0m\u001b[0mensure_initialized\u001b[0m\u001b[0;34m(\u001b[0m\u001b[0;34m)\u001b[0m\u001b[0;34m\u001b[0m\u001b[0;34m\u001b[0m\u001b[0m\n\u001b[1;32m     59\u001b[0m     tensors = pywrap_tfe.TFE_Py_Execute(ctx._handle, device_name, op_name,\n\u001b[0;32m---> 60\u001b[0;31m                                         inputs, attrs, num_outputs)\n\u001b[0m\u001b[1;32m     61\u001b[0m   \u001b[0;32mexcept\u001b[0m \u001b[0mcore\u001b[0m\u001b[0;34m.\u001b[0m\u001b[0m_NotOkStatusException\u001b[0m \u001b[0;32mas\u001b[0m \u001b[0me\u001b[0m\u001b[0;34m:\u001b[0m\u001b[0;34m\u001b[0m\u001b[0;34m\u001b[0m\u001b[0m\n\u001b[1;32m     62\u001b[0m     \u001b[0;32mif\u001b[0m \u001b[0mname\u001b[0m \u001b[0;32mis\u001b[0m \u001b[0;32mnot\u001b[0m \u001b[0;32mNone\u001b[0m\u001b[0;34m:\u001b[0m\u001b[0;34m\u001b[0m\u001b[0;34m\u001b[0m\u001b[0m\n",
      "\u001b[0;31mKeyboardInterrupt\u001b[0m: "
     ]
    }
   ],
   "source": [
    "checkpoint_BLSTM = ModelCheckpoint(\"best_model_BLSTM.v2.hdf5\", monitor='loss', verbose=1,\n",
    "    save_best_only=True, mode='auto', period=1)\n",
    "\n",
    "# Early Stopping\n",
    "es = EarlyStopping(monitor='val_loss', patience=5, verbose=1)\n",
    "\n",
    "history_BLSTM = model_BLSTM.fit(X_train, y_train, epochs=50, batch_size=256, validation_data=(X_val, y_val),\n",
    "                     callbacks=[checkpoint_BLSTM, es], verbose=1)"
   ]
  },
  {
   "cell_type": "code",
   "execution_count": null,
   "metadata": {
    "id": "nyvMdMU1UqD0"
   },
   "outputs": [],
   "source": []
  },
  {
   "cell_type": "code",
   "execution_count": null,
   "metadata": {
    "id": "UtViR8TYUp4i"
   },
   "outputs": [],
   "source": [
    "plot_history(history_BLSTM)"
   ]
  },
  {
   "cell_type": "code",
   "execution_count": null,
   "metadata": {
    "id": "pR4uE8Gzfuw0"
   },
   "outputs": [],
   "source": [
    "display_model_score(model_BLSTM,\n",
    "    [X_train, y_train],\n",
    "    [X_val, y_val],\n",
    "    [X_test, y_test])"
   ]
  },
  {
   "cell_type": "code",
   "execution_count": null,
   "metadata": {
    "id": "Atr10FO4fuuE"
   },
   "outputs": [],
   "source": [
    "y_probas = model_BLSTM.predict(X_test)\n",
    "threshold = 0.5\n",
    "y_predict = np.where(y_probas > threshold, 1, 0)\n",
    "print(classification_report(y_test, y_predict))"
   ]
  },
  {
   "cell_type": "markdown",
   "metadata": {
    "id": "fALQEI9g4Ejn"
   },
   "source": [
    "# Conclusion"
   ]
  },
  {
   "cell_type": "code",
   "execution_count": null,
   "metadata": {
    "id": "Gh0Zvl9j4E38"
   },
   "outputs": [],
   "source": []
  }
 ],
 "metadata": {
  "accelerator": "GPU",
  "colab": {
   "collapsed_sections": [],
   "name": "CustomDNNModel.ipynb",
   "provenance": [],
   "toc_visible": true
  },
  "kernelspec": {
   "display_name": "Python 3",
   "language": "python",
   "name": "python3"
  },
  "language_info": {
   "codemirror_mode": {
    "name": "ipython",
    "version": 3
   },
   "file_extension": ".py",
   "mimetype": "text/x-python",
   "name": "python",
   "nbconvert_exporter": "python",
   "pygments_lexer": "ipython3",
   "version": "3.7.9"
  }
 },
 "nbformat": 4,
 "nbformat_minor": 4
}
