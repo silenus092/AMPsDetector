{
 "cells": [
  {
   "cell_type": "code",
   "execution_count": 1,
   "id": "formed-words",
   "metadata": {},
   "outputs": [],
   "source": [
    "from Bio import AlignIO\n",
    "from Bio.Align import AlignInfo \n",
    "from multiprocessing import Pool\n",
    "from Bio import motifs\n",
    "from Bio.Seq import Seq\n",
    "import pickle\n",
    "import numpy as np\n",
    "import glob\n",
    "import os \n",
    "import pandas as pd\n",
    "from Bio import SeqIO\n",
    "import csv\n",
    "import matplotlib.pyplot as plt\n",
    "from collections import Counter\n",
    "%matplotlib inline"
   ]
  },
  {
   "cell_type": "code",
   "execution_count": 2,
   "id": "figured-european",
   "metadata": {},
   "outputs": [],
   "source": [
    "char_code_list = [char for char in \"ACDEFGHIKLMNPQRSTVWY\"] \n",
    "\n",
    "def getPosition_Probability_Matrix(_matrix):\n",
    "    num_columns = len(_matrix[0])\n",
    "    keys = _matrix.keys()\n",
    "   # print(num_columns)\n",
    "    d = {}\n",
    "\n",
    "    for i in range(num_columns):\n",
    "        #print(\"postion:\"+str(i))\n",
    "        sub_dict = {}\n",
    "        for char in keys:\n",
    "            if _matrix[char][i] != 0 :\n",
    "                sub_dict[char] =  round(_matrix[char][i],4)\n",
    "        \n",
    "        d[i]=(sub_dict)\n",
    "        #cleaned = set(n for n in value if n != 0) \n",
    "        #d[key] = cleaned\n",
    "    \n",
    "    #cleaned = [tuple(n for n in sublist if n != 0) for sublist in _matrix]\n",
    "    return d\n",
    "\n",
    "def calculateProtien_PositionSpecificScoringMatrix(sequence, predefine_matrix):\n",
    "    scores = 0\n",
    "    score= 0\n",
    "    raw_score = 0\n",
    "    max_score = pssm.max\n",
    "    min_score = pssm.min\n",
    "    for i in range( len(sequence) ):\n",
    "        score =predefine_matrix[sequence[i]][i]\n",
    "        scores += score\n",
    "        raw_score += score\n",
    "        rel_score = (score - min_score) / (max_score - min_score)\n",
    "        print(\"Position %d: score = %5.4f, rel. score = %5.4f\" % (\n",
    "            i, score, rel_score))\n",
    "    print(\"Max_raw_score:\"+ str(max_score) ) \n",
    "    print(\"Min_raw_score:\"+ str(min_score) ) \n",
    "    print(\"raw_score:\"+ str(raw_score) )   \n",
    "    rel_score = (scores - min_score) / (max_score - min_score)\n",
    "    return rel_score\n",
    "\n",
    "def convert_protein_pwm(sequence):\n",
    "    m = motifs.create(sequence, alphabet=\"ACDEFGHIKLMNPQRSTVWY\")  \n",
    "    index_pattern = [char for char in m.consensus]\n",
    "    pwm = m.counts.normalize(pseudocounts=0.5)\n",
    "    pwm_df = pd.DataFrame.from_dict(pwm)\n",
    "    pwm_df.index = index_pattern\n",
    "    result_df = pd.DataFrame(0, columns=['A','C','D','E','F','G','H','I','K','L','M','N','P','Q','R','S','T','V','W','Y'],\n",
    "    index = ['A','C','D','E','F','G','H','I','K','L','M','N','P','Q','R','S','T','V','W','Y'])\n",
    "    # Sum value of column A...Y \n",
    "    # For example. sum value of \n",
    "    for  char in char_code_list: # column\n",
    "        for index, row in pwm_df.iterrows():\n",
    "            result_df.loc[index, char] += row[char]\n",
    "    _flat = result_df.values.flatten()\n",
    "\n",
    "    return _flat, pwm_df, result_df\n",
    "\n",
    "from pathlib import Path\n",
    "def scale_by(x_ar):\n",
    "    # sigmod function \n",
    "    return 1 / (1 + np.exp(x_ar * -1)) \n",
    "\n",
    "def NormalizeData(x,_min,_max):\n",
    "    return  (x - _min) / (_max - _min) \n",
    "\n",
    "def NormalizeData_V1(x):\n",
    "    return  (x - x.min()) / (x.max() - x.min()) \n",
    "\n",
    "\n",
    "\n",
    "def convert_to20X20_(pssm , index_pattern):\n",
    "    \"\"\"\n",
    "    \n",
    "    pssm: dcit\n",
    "        get pssm as dict \n",
    "    \"\"\"\n",
    "    pssm_df = pd.DataFrame.from_dict(pssm)\n",
    "    pssm_df.index = index_pattern\n",
    "    result_df = pd.DataFrame(0, columns=['A','C','D','E','F','G','H','I','K','L','M','N','P','Q','R','S','T','V','W','Y'],\n",
    "    index = ['A','C','D','E','F','G','H','I','K','L','M','N','P','Q','R','S','T','V','W','Y'])\n",
    "    for  char in char_code_list: # column\n",
    "        for index, row in pssm_df.iterrows():\n",
    "            result_df.loc[index, char] += round(row[char],2)\n",
    "    return result_df\n",
    "\n",
    "def get_pssm(m):\n",
    "    pwm = m.counts.normalize(pseudocounts=0.5)\n",
    "    pssm = pwm.log_odds()\n",
    "    return pssm\n",
    "\n",
    "def create_image(df,file):\n",
    "    plt.axis(\"off\")\n",
    "    plt.imshow(df)\n",
    "    plt.savefig(file, bbox_inches='tight', pad_inches=0)"
   ]
  },
  {
   "cell_type": "code",
   "execution_count": 53,
   "id": "realistic-forward",
   "metadata": {},
   "outputs": [],
   "source": [
    "from os import getpid\n",
    "from functools import partial\n",
    "\n",
    "num_partitions = 24 #number of partitions to split dataframe 22\n",
    "num_cores = 24 #number of cores on your machine 22\n",
    "\n",
    "def convert_pssm_cluster(list_ndarray):\n",
    "    process_id =str(getpid())\n",
    "    path = \"/mnt/vdb/thesis/pwm/AMP/\"\n",
    "    pro_plk= path + \"chunk\"+process_id+\".pkl\"\n",
    "    if not os.path.exists(path):\n",
    "        os.makedirs(path)\n",
    "    print(process_id+\" Start\")\n",
    "    \n",
    "    \n",
    "\n",
    "    char_code_list = [char for char in \"ACDEFGHIKLMNPQRSTVWY\"] \n",
    "\n",
    "    ready_df = pd.DataFrame(columns = ['ID', 'Sequence','reps', 'length'])\n",
    "    for file in list_ndarray:\n",
    "        count = 0 \n",
    "        ## print(file)\n",
    "        identifiers = []\n",
    "        lengths = []\n",
    "        sequence = []\n",
    "        _flat = []\n",
    "        ## should be MSA (e.g.,5 seqs per cluster) then create PSSM, not create from each seq \n",
    "        for seq_record in SeqIO.parse(file, 'fasta'):\n",
    "             ###if count == 5:\n",
    "            ###    break\n",
    "            ##identifiers.append(seq_record.id)\n",
    "            sequence.append(str(seq_record.seq))\n",
    "            ##lengths.append(len(seq_record.seq))\n",
    "            \n",
    "        m = motifs.create(sequence, alphabet=\"ACDEFGHIKLMNPQRSTVWY\")  \n",
    "\n",
    "        index_pattern = [char for char in m.consensus]\n",
    "        file_name =  Path(file).stem \n",
    "        file_ = '/mnt/vdb/thesis/pwm/images/AMP/'+file_name+'.png'\n",
    "        \n",
    "        pssm = get_pssm(m)\n",
    "        result_df = convert_to20X20_(pssm , index_pattern)\n",
    "        result_df = scale_by(result_df/len(m.consensus))\n",
    "        create_image(result_df,file_) \n",
    "\n",
    "        _flat = result_df.values.flatten()\n",
    " \n",
    "        ready_df = ready_df.append({'ID': file_name, 'Sequence':m.consensus,\n",
    "                                   'reps': _flat, 'length': len(m.consensus)}, ignore_index=True) \n",
    "    \n",
    "    \n",
    "    print(process_id+\" Finish\")\n",
    "    output = open(pro_plk, 'wb')\n",
    "    pickle.dump(ready_df, output)\n",
    "    output.close()\n",
    "\n",
    "def parallelize_dataframe(df, func):\n",
    "    _tmp_df_split = np.array_split(df, num_partitions)\n",
    "    pool = Pool(num_cores)\n",
    "    pool.map(func, _tmp_df_split)\n",
    "\n",
    "    pool.close()\n",
    "    pool.join()\n",
    "    \n",
    "def get_df(fastas):\n",
    "    with open(fastas) as fasta_file:  # Will close handle cleanly\n",
    "        identifiers = []\n",
    "        lengths = []\n",
    "        seqs = []\n",
    "        for seq_record in SeqIO.parse(fasta_file, 'fasta'):  # (generator)\n",
    "            identifiers.append(seq_record.id)\n",
    "            # Remove leading and trailing characters from a string\n",
    "            seqs.append(str(seq_record.seq.strip('*')))\n",
    "            lengths.append(len(seq_record.seq))\n",
    "    # dictionary of lists  \n",
    "    dict = {'ID': identifiers, 'Sequence': seqs, 'length': lengths}  \n",
    "    df = pd.DataFrame(dict) \n",
    "    return df\n",
    "\n",
    "def mergeDF(path,to_dir,file_name):\n",
    "    appended_data = []\n",
    "    for infile in glob.glob(path):\n",
    "        #print(infile)\n",
    "        data = pd.read_pickle(infile)\n",
    "        # store DataFrame in list\n",
    "        appended_data.append(data)\n",
    "        \n",
    "    result_path=to_dir+\"/\"+file_name\n",
    "    print(\"Save:\",result_path)\n",
    "    appended_data = pd.concat(appended_data, ignore_index=True)\n",
    "    appended_data.to_pickle(result_path)\n",
    "    return appended_data"
   ]
  },
  {
   "cell_type": "markdown",
   "id": "proper-pregnancy",
   "metadata": {},
   "source": [
    "# Solution 1 "
   ]
  },
  {
   "cell_type": "code",
   "execution_count": null,
   "id": "modified-athletics",
   "metadata": {},
   "outputs": [],
   "source": []
  },
  {
   "cell_type": "markdown",
   "id": "designed-weapon",
   "metadata": {},
   "source": [
    "## AMP /(multicore )"
   ]
  },
  {
   "cell_type": "code",
   "execution_count": 21,
   "id": "committed-durham",
   "metadata": {},
   "outputs": [
    {
     "data": {
      "text/plain": [
       "24"
      ]
     },
     "execution_count": 21,
     "metadata": {},
     "output_type": "execute_result"
    }
   ],
   "source": [
    "mylist = [f for f in glob.glob(\"/mnt/vdb/thesis/pwm/AMP/tmp_cluster/*_800.fasta\")]\n",
    "_tmp_df_split = np.array_split(mylist, num_partitions)\n",
    "len(_tmp_df_split)"
   ]
  },
  {
   "cell_type": "code",
   "execution_count": 5,
   "id": "threaded-chair",
   "metadata": {
    "scrolled": true,
    "tags": []
   },
   "outputs": [
    {
     "name": "stdout",
     "output_type": "stream",
     "text": [
      "30137 Start30140 Start30139 Start30142 Start30138 Start\n",
      "30141 Start30143 Start\n",
      "30144 Start\n",
      "\n",
      "30145 Start\n",
      "\n",
      "30146 Start30152 Start30151 Start\n",
      "30148 Start30154 Start\n",
      "30149 Start\n",
      "30155 Start\n",
      "\n",
      "\n",
      "30156 Start\n",
      "30153 Start30160 Start\n",
      "30157 Start\n",
      "30159 Start30158 Start\n",
      "\n",
      "30147 Start\n",
      "\n",
      "\n",
      "\n",
      "\n",
      "\n",
      "30150 Start\n",
      "30140 Finish\n",
      "30152 Finish\n",
      "30155 Finish\n",
      "30145 Finish\n",
      "30144 Finish\n",
      "30138 Finish\n",
      "30159 Finish\n",
      "30148 Finish\n",
      "30153 Finish\n",
      "30139 Finish\n",
      "30156 Finish\n",
      "30160 Finish\n",
      "30146 Finish\n",
      "30150 Finish\n",
      "30142 Finish\n",
      "30143 Finish\n",
      "30151 Finish\n",
      "30149 Finish\n",
      "30154 Finish\n",
      "30137 Finish\n",
      "30158 Finish\n",
      "30141 Finish\n",
      "30147 Finish\n",
      "30157 Finish\n"
     ]
    }
   ],
   "source": [
    "mylist = [f for f in glob.glob(\"/mnt/vdb/thesis/pwm/AMP/tmp_cluster/*.fasta\")]\n",
    "parallelize_dataframe(mylist, convert_pssm_cluster)"
   ]
  },
  {
   "cell_type": "code",
   "execution_count": 54,
   "id": "cross-accordance",
   "metadata": {},
   "outputs": [
    {
     "name": "stdout",
     "output_type": "stream",
     "text": [
      "Save: /mnt/vdb/thesis/pwm/AMP//AMP_C08_S06.pssm.plk\n"
     ]
    }
   ],
   "source": [
    "path = \"/mnt/vdb/thesis/pwm/AMP/\"\n",
    "result_df = mergeDF(path+\"/*.pkl\",path,\"AMP_C08_S06.pssm.plk\")"
   ]
  },
  {
   "cell_type": "code",
   "execution_count": 55,
   "id": "owned-criminal",
   "metadata": {},
   "outputs": [
    {
     "data": {
      "text/plain": [
       "<AxesSubplot:>"
      ]
     },
     "execution_count": 55,
     "metadata": {},
     "output_type": "execute_result"
    },
    {
     "data": {
      "image/png": "[encoded data removed]",
      "text/plain": [
       "<Figure size 432x288 with 1 Axes>"
      ]
     },
     "metadata": {
      "needs_background": "light"
     },
     "output_type": "display_data"
    }
   ],
   "source": [
    "result_df.length.hist(bins=150)"
   ]
  },
  {
   "cell_type": "code",
   "execution_count": 62,
   "id": "differential-banking",
   "metadata": {},
   "outputs": [
    {
     "data": {
      "text/plain": [
       "array([0.5375, 0.4964, 0.4964, 0.4964, 0.4964, 0.4964, 0.4964, 0.4964,\n",
       "       0.4964, 0.4964, 0.4964, 0.4964, 0.4964, 0.4964, 0.4964, 0.4964,\n",
       "       0.4964, 0.4964, 0.4964, 0.4964, 0.4994, 0.5066, 0.4994, 0.4994,\n",
       "       0.4994, 0.4994, 0.4994, 0.4994, 0.4994, 0.4994, 0.4994, 0.4994,\n",
       "       0.4994, 0.4994, 0.4994, 0.4994, 0.4994, 0.4994, 0.4994, 0.4994,\n",
       "       0.4979, 0.4979, 0.5221, 0.4979, 0.4979, 0.4979, 0.4979, 0.4979,\n",
       "       0.4979, 0.4979, 0.4979, 0.4979, 0.4979, 0.4979, 0.4979, 0.4979,\n",
       "       0.4979, 0.4979, 0.4979, 0.4979, 0.4977, 0.4977, 0.4977, 0.5243,\n",
       "       0.4977, 0.4977, 0.4977, 0.4977, 0.4977, 0.4977, 0.4977, 0.4977,\n",
       "       0.4977, 0.4977, 0.4977, 0.4977, 0.4977, 0.4977, 0.4977, 0.4977,\n",
       "       0.4981, 0.4981, 0.4981, 0.4981, 0.5199, 0.4981, 0.4981, 0.4981,\n",
       "       0.4981, 0.4981, 0.4981, 0.4981, 0.4981, 0.4981, 0.4981, 0.4981,\n",
       "       0.4981, 0.4981, 0.4981, 0.4981, 0.4972, 0.4972, 0.4972, 0.4972,\n",
       "       0.4972, 0.5287, 0.4972, 0.4972, 0.4972, 0.4972, 0.4972, 0.4972,\n",
       "       0.4972, 0.4972, 0.4972, 0.4972, 0.4972, 0.4972, 0.4972, 0.4972,\n",
       "       0.5   , 0.5   , 0.5   , 0.5   , 0.5   , 0.5   , 0.5   , 0.5   ,\n",
       "       0.5   , 0.5   , 0.5   , 0.5   , 0.5   , 0.5   , 0.5   , 0.5   ,\n",
       "       0.5   , 0.5   , 0.5   , 0.5   , 0.4991, 0.4991, 0.4991, 0.4991,\n",
       "       0.4991, 0.4991, 0.4991, 0.5088, 0.4991, 0.4991, 0.4991, 0.4991,\n",
       "       0.4991, 0.4991, 0.4991, 0.4991, 0.4991, 0.4991, 0.4991, 0.4991,\n",
       "       0.4949, 0.4949, 0.4949, 0.4949, 0.4949, 0.4949, 0.4949, 0.4949,\n",
       "       0.5529, 0.4949, 0.4949, 0.4949, 0.4949, 0.4949, 0.4949, 0.4949,\n",
       "       0.4949, 0.4949, 0.4949, 0.4949, 0.4972, 0.4972, 0.4972, 0.4972,\n",
       "       0.4972, 0.4972, 0.4972, 0.4972, 0.4972, 0.5287, 0.4972, 0.4972,\n",
       "       0.4972, 0.4972, 0.4972, 0.4972, 0.4972, 0.4972, 0.4972, 0.4972,\n",
       "       0.4996, 0.4996, 0.4996, 0.4996, 0.4996, 0.4996, 0.4996, 0.4996,\n",
       "       0.4996, 0.4996, 0.5044, 0.4996, 0.4996, 0.4996, 0.4996, 0.4996,\n",
       "       0.4996, 0.4996, 0.4996, 0.4996, 0.4981, 0.4981, 0.4981, 0.4981,\n",
       "       0.4981, 0.4981, 0.4981, 0.4981, 0.4981, 0.4981, 0.4981, 0.5199,\n",
       "       0.4981, 0.4981, 0.4981, 0.4981, 0.4981, 0.4981, 0.4981, 0.4981,\n",
       "       0.4979, 0.4979, 0.4979, 0.4979, 0.4979, 0.4979, 0.4979, 0.4979,\n",
       "       0.4979, 0.4979, 0.4979, 0.4979, 0.5221, 0.4979, 0.4979, 0.4979,\n",
       "       0.4979, 0.4979, 0.4979, 0.4979, 0.4989, 0.4989, 0.4989, 0.4989,\n",
       "       0.4989, 0.4989, 0.4989, 0.4989, 0.4989, 0.4989, 0.4989, 0.4989,\n",
       "       0.4989, 0.5111, 0.4989, 0.4989, 0.4989, 0.4989, 0.4989, 0.4989,\n",
       "       0.4989, 0.4989, 0.4989, 0.4989, 0.4989, 0.4989, 0.4989, 0.4989,\n",
       "       0.4989, 0.4989, 0.4989, 0.4989, 0.4989, 0.4989, 0.5111, 0.4989,\n",
       "       0.4989, 0.4989, 0.4989, 0.4989, 0.4979, 0.4979, 0.4979, 0.4979,\n",
       "       0.4979, 0.4979, 0.4979, 0.4979, 0.4979, 0.4979, 0.4979, 0.4979,\n",
       "       0.4979, 0.4979, 0.4979, 0.5221, 0.4979, 0.4979, 0.4979, 0.4979,\n",
       "       0.4987, 0.4987, 0.4987, 0.4987, 0.4987, 0.4987, 0.4987, 0.4987,\n",
       "       0.4987, 0.4987, 0.4987, 0.4987, 0.4987, 0.4987, 0.4987, 0.4987,\n",
       "       0.5133, 0.4987, 0.4987, 0.4987, 0.4977, 0.4977, 0.4977, 0.4977,\n",
       "       0.4977, 0.4977, 0.4977, 0.4977, 0.4977, 0.4977, 0.4977, 0.4977,\n",
       "       0.4977, 0.4977, 0.4977, 0.4977, 0.4977, 0.5243, 0.4977, 0.4977,\n",
       "       0.5   , 0.5   , 0.5   , 0.5   , 0.5   , 0.5   , 0.5   , 0.5   ,\n",
       "       0.5   , 0.5   , 0.5   , 0.5   , 0.5   , 0.5   , 0.5   , 0.5   ,\n",
       "       0.5   , 0.5   , 0.5   , 0.5   , 0.4996, 0.4996, 0.4996, 0.4996,\n",
       "       0.4996, 0.4996, 0.4996, 0.4996, 0.4996, 0.4996, 0.4996, 0.4996,\n",
       "       0.4996, 0.4996, 0.4996, 0.4996, 0.4996, 0.4996, 0.4996, 0.5044])"
      ]
     },
     "execution_count": 62,
     "metadata": {},
     "output_type": "execute_result"
    }
   ],
   "source": [
    "np.round(result_df.reps[0], 4)"
   ]
  },
  {
   "cell_type": "markdown",
   "id": "differential-spare",
   "metadata": {},
   "source": [
    "## solution 2 padding\n",
    "\n",
    "--> https://www.nature.com/articles/s41598-020-71450-8"
   ]
  },
  {
   "cell_type": "code",
   "execution_count": null,
   "id": "hawaiian-pollution",
   "metadata": {},
   "outputs": [],
   "source": []
  }
 ],
 "metadata": {
  "kernelspec": {
   "display_name": "Python 3",
   "language": "python",
   "name": "python3"
  },
  "language_info": {
   "codemirror_mode": {
    "name": "ipython",
    "version": 3
   },
   "file_extension": ".py",
   "mimetype": "text/x-python",
   "name": "python",
   "nbconvert_exporter": "python",
   "pygments_lexer": "ipython3",
   "version": "3.7.10"
  }
 },
 "nbformat": 4,
 "nbformat_minor": 5
}
