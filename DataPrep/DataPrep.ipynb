{
 "cells": [
  {
   "cell_type": "code",
   "execution_count": 3,
   "metadata": {},
   "outputs": [],
   "source": [
    "from Bio import SeqIO\n",
    "from io import StringIO\n",
    "from gzip import open as gzopen\n",
    "from Bio.SeqIO.FastaIO import SimpleFastaParser\n",
    "import numpy as np\n",
    "#import matplotlib.pyplot as plt\n",
    "import os \n",
    "import pandas as pd\n",
    "\n",
    "pd.options.display.max_columns = None\n",
    "#pd.options.display.max_rows = None"
   ]
  },
  {
   "cell_type": "code",
   "execution_count": 9,
   "metadata": {},
   "outputs": [],
   "source": [
    "amp_DB_fasta = \"/home/kongkitimanonk/SCRATCH_NOBAK/datasets/phase2/amp_clustered100.22DBs.fasta\"\n",
    "uniref50 = \"/home/kongkitimanonk/SCRATCH_NOBAK/datasets/phase2/uniref50.len2350.fasta\"\n",
    "LenFile = open('/home/kongkitimanonk/SCRATCH_NOBAK/datasets/phase2/non_AMPs.csv', 'w')"
   ]
  },
  {
   "cell_type": "code",
   "execution_count": 5,
   "metadata": {},
   "outputs": [],
   "source": [
    "\n",
    "lengths = map(len, SeqIO.parse(amp_DB_fasta, 'fasta'))\n",
    "df = pd.Series([x for x in lengths], name=\"length\").to_frame()"
   ]
  },
  {
   "cell_type": "code",
   "execution_count": 6,
   "metadata": {},
   "outputs": [
    {
     "data": {
      "text/plain": [
       "count    21226.000000\n",
       "mean        60.496938\n",
       "std        114.696874\n",
       "min         11.000000\n",
       "25%         18.000000\n",
       "50%         28.000000\n",
       "75%         61.000000\n",
       "max       2337.000000\n",
       "Name: length, dtype: float64"
      ]
     },
     "execution_count": 6,
     "metadata": {},
     "output_type": "execute_result"
    }
   ],
   "source": [
    "df.length.describe()"
   ]
  },
  {
   "cell_type": "code",
   "execution_count": 7,
   "metadata": {},
   "outputs": [
    {
     "data": {
      "text/plain": [
       "(8.673, 34.26]        12220\n",
       "(34.26, 57.52]         3384\n",
       "(57.52, 80.78]         2620\n",
       "(80.78, 104.04]        1208\n",
       "(127.3, 150.56]         218\n",
       "                      ...  \n",
       "(1592.68, 1615.94]        0\n",
       "(1639.2, 1662.46]         0\n",
       "(1662.46, 1685.72]        0\n",
       "(1708.98, 1732.24]        0\n",
       "(1150.74, 1174.0]         0\n",
       "Name: length, Length: 100, dtype: int64"
      ]
     },
     "execution_count": 7,
     "metadata": {},
     "output_type": "execute_result"
    }
   ],
   "source": [
    "df['length'].value_counts(bins=100)"
   ]
  },
  {
   "cell_type": "code",
   "execution_count": 8,
   "metadata": {},
   "outputs": [
    {
     "data": {
      "text/html": [
       "<div>\n",
       "<style scoped>\n",
       "    .dataframe tbody tr th:only-of-type {\n",
       "        vertical-align: middle;\n",
       "    }\n",
       "\n",
       "    .dataframe tbody tr th {\n",
       "        vertical-align: top;\n",
       "    }\n",
       "\n",
       "    .dataframe thead th {\n",
       "        text-align: right;\n",
       "    }\n",
       "</style>\n",
       "<table border=\"1\" class=\"dataframe\">\n",
       "  <thead>\n",
       "    <tr style=\"text-align: right;\">\n",
       "      <th></th>\n",
       "      <th>length</th>\n",
       "      <th>count</th>\n",
       "    </tr>\n",
       "  </thead>\n",
       "  <tbody>\n",
       "    <tr>\n",
       "      <th>9</th>\n",
       "      <td>20</td>\n",
       "      <td>1131</td>\n",
       "    </tr>\n",
       "    <tr>\n",
       "      <th>2</th>\n",
       "      <td>13</td>\n",
       "      <td>1119</td>\n",
       "    </tr>\n",
       "    <tr>\n",
       "      <th>1</th>\n",
       "      <td>12</td>\n",
       "      <td>912</td>\n",
       "    </tr>\n",
       "    <tr>\n",
       "      <th>7</th>\n",
       "      <td>18</td>\n",
       "      <td>873</td>\n",
       "    </tr>\n",
       "    <tr>\n",
       "      <th>4</th>\n",
       "      <td>15</td>\n",
       "      <td>855</td>\n",
       "    </tr>\n",
       "    <tr>\n",
       "      <th>...</th>\n",
       "      <td>...</td>\n",
       "      <td>...</td>\n",
       "    </tr>\n",
       "    <tr>\n",
       "      <th>392</th>\n",
       "      <td>448</td>\n",
       "      <td>1</td>\n",
       "    </tr>\n",
       "    <tr>\n",
       "      <th>394</th>\n",
       "      <td>455</td>\n",
       "      <td>1</td>\n",
       "    </tr>\n",
       "    <tr>\n",
       "      <th>396</th>\n",
       "      <td>460</td>\n",
       "      <td>1</td>\n",
       "    </tr>\n",
       "    <tr>\n",
       "      <th>397</th>\n",
       "      <td>461</td>\n",
       "      <td>1</td>\n",
       "    </tr>\n",
       "    <tr>\n",
       "      <th>534</th>\n",
       "      <td>2337</td>\n",
       "      <td>1</td>\n",
       "    </tr>\n",
       "  </tbody>\n",
       "</table>\n",
       "<p>535 rows × 2 columns</p>\n",
       "</div>"
      ],
      "text/plain": [
       "     length  count\n",
       "9        20   1131\n",
       "2        13   1119\n",
       "1        12    912\n",
       "7        18    873\n",
       "4        15    855\n",
       "..      ...    ...\n",
       "392     448      1\n",
       "394     455      1\n",
       "396     460      1\n",
       "397     461      1\n",
       "534    2337      1\n",
       "\n",
       "[535 rows x 2 columns]"
      ]
     },
     "execution_count": 8,
     "metadata": {},
     "output_type": "execute_result"
    }
   ],
   "source": [
    "df_count=df.groupby('length').length.count().reset_index(name='count').sort_values(['count'], ascending=False)\n",
    "#df_count.to_csv('df_count.csv', index=False)\n",
    "_tmp_df_count =df_count\n",
    "_tmp_df_count"
   ]
  },
  {
   "cell_type": "code",
   "execution_count": 30,
   "metadata": {},
   "outputs": [
    {
     "data": {
      "text/plain": [
       "9    1128\n",
       "Name: count, dtype: int64"
      ]
     },
     "execution_count": 30,
     "metadata": {},
     "output_type": "execute_result"
    }
   ],
   "source": [
    "_tmp_df_count.loc[ _tmp_df_count['length'] == 20]['count'].values +1"
   ]
  },
  {
   "cell_type": "code",
   "execution_count": 47,
   "metadata": {},
   "outputs": [
    {
     "data": {
      "text/plain": [
       "False"
      ]
     },
     "execution_count": 47,
     "metadata": {},
     "output_type": "execute_result"
    }
   ],
   "source": [
    "_tmp_df_count['count'].values.sum() == 0"
   ]
  },
  {
   "cell_type": "code",
   "execution_count": null,
   "metadata": {
    "tags": []
   },
   "outputs": [],
   "source": [
    "\n",
    "with open(uniref50) as record_len2400:\n",
    "      for _name, _seq in  SimpleFastaParser(record_len2400):\n",
    "           seqLen = len(_seq)\n",
    "           #update value\n",
    "           _tmp_row = _tmp_df_count.loc[ _tmp_df_count['length'] == seqLen]\n",
    "           if not _tmp_row.empty and  _tmp_row['count'].values > 0:\n",
    "               #print (str(_tmp_row['length']) +\" \"+ str(_tmp_row['count']))\n",
    "               LenFile.write(_name+','+_seq+',' + str(seqLen) + '\\n')\n",
    "               _tmp_df_count.at[ _tmp_row.index,'count']= _tmp_row['count'] - 1\n",
    "           else:\n",
    "               if _tmp_df_count['count'].values.sum() == 0:\n",
    "                   print(\"stop\")\n",
    "                   break\n",
    "\n",
    "        \n"
   ]
  },
  {
   "cell_type": "code",
   "execution_count": null,
   "metadata": {
    "tags": [
     "outputPrepend"
    ]
   },
   "outputs": [],
   "source": [
    "\"\"\"LenFile = open('non_AMPs.csv', 'w')\n",
    "\n",
    "with open(\"/mnt/c/works/RKI/uniref50.len2400.fasta\") as record_len2400:\n",
    "    for index, row in df_count.iterrows():\n",
    "        _count= row['count']\n",
    "        _length= row['length']\n",
    "        print(\"_length:\"+ str(_length))\n",
    "        for _name, _seq in  SimpleFastaParser(record_len2400):\n",
    "            seqLen = len(_seq)\n",
    "            if _length == seqLen:\n",
    "                #print(\"seqLen:\"+ str(seqLen))\n",
    "                LenFile.write(_name+','+_seq+',' + str(seqLen) + '\\n')\n",
    "                _count = _count - 1 \n",
    "            if _count == 0:\n",
    "                break;\n",
    "        \n",
    "        if _count != 0:\n",
    "            print(\"Remaining:\"+ str(_count) +\" \" + str(_length))\"\"\"\n"
   ]
  },
  {
   "cell_type": "code",
   "execution_count": null,
   "metadata": {},
   "outputs": [],
   "source": [
    "## Split file \n",
    "\n",
    "def batch_iterator(iterator, batch_size):\n",
    "    \"\"\"Returns lists of length batch_size.\n",
    "\n",
    "    This can be used on any iterator, for example to batch up\n",
    "    SeqRecord objects from Bio.SeqIO.parse(...), or to batch\n",
    "    Alignment objects from Bio.AlignIO.parse(...), or simply\n",
    "    lines from a file handle.\n",
    "\n",
    "    This is a generator function, and it returns lists of the\n",
    "    entries from the supplied iterator.  Each list will have\n",
    "    batch_size entries, although the final list may be shorter.\n",
    "    \"\"\"\n",
    "    entry = True  # Make sure we loop once\n",
    "    while entry:\n",
    "        batch = []\n",
    "        while len(batch) < batch_size:\n",
    "            try:\n",
    "                entry =  next(iterator)\n",
    "            except StopIteration:\n",
    "                entry = None\n",
    "            if entry is None:\n",
    "                # End of file\n",
    "                break\n",
    "            batch.append(entry)\n",
    "        if batch:\n",
    "            yield batch\n",
    "            \n",
    "record_iter = SeqIO.parse(gzopen(\"uniref50.fasta.gz\", \"rt\"), \"fasta\")\n",
    "for i, batch in enumerate(batch_iterator(record_iter, 200000)):\n",
    "    filename = \"group_%i.fasta\" % (i + 1)\n",
    "    with open(filename, \"w\") as handle:\n",
    "        count = SeqIO.write(batch, handle, \"fasta\")\n",
    "    print(\"Wrote %i records to %s\" % (count, filename))"
   ]
  },
  {
   "cell_type": "markdown",
   "metadata": {},
   "source": [
    "#  Step:2 Data labeling"
   ]
  },
  {
   "cell_type": "code",
   "execution_count": null,
   "metadata": {},
   "outputs": [],
   "source": [
    "# setup\n",
    "am"
   ]
  },
  {
   "cell_type": "code",
   "execution_count": null,
   "metadata": {},
   "outputs": [],
   "source": []
  }
 ],
 "metadata": {
  "kernelspec": {
   "display_name": "Python 3",
   "language": "python",
   "name": "python3"
  },
  "language_info": {
   "codemirror_mode": {
    "name": "ipython",
    "version": 3
   },
   "file_extension": ".py",
   "mimetype": "text/x-python",
   "name": "python",
   "nbconvert_exporter": "python",
   "pygments_lexer": "ipython3",
   "version": "3.8.5"
  }
 },
 "nbformat": 4,
 "nbformat_minor": 4
}
