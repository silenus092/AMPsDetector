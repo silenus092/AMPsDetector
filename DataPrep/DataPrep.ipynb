{
 "cells": [
  {
   "cell_type": "code",
   "execution_count": 3,
   "metadata": {},
   "outputs": [],
   "source": [
    "from Bio import SeqIO\n",
    "from io import StringIO\n",
    "from gzip import open as gzopen\n",
    "from Bio.SeqIO.FastaIO import SimpleFastaParser\n",
    "import numpy as np\n",
    "#import matplotlib.pyplot as plt\n",
    "import os \n",
    "import pandas as pd\n",
    "\n",
    "pd.options.display.max_columns = None\n",
    "#pd.options.display.max_rows = None"
   ]
  },
  {
   "cell_type": "markdown",
   "metadata": {},
   "source": [
    "# Step:1 Extract AMPs and Non AMPs\n"
   ]
  },
  {
   "cell_type": "code",
   "execution_count": 18,
   "metadata": {},
   "outputs": [],
   "source": [
    "amp_DB_fasta = \"/home/kongkitimanonk/SCRATCH_NOBAK/datasets/phase2/amp_clustered100.22DBs.fasta\"\n",
    "uniref50 = \"/home/kongkitimanonk/SCRATCH_NOBAK/datasets/phase2/uniref50.len2350.fasta\"\n",
    "non_AMPs_path='/home/kongkitimanonk/SCRATCH_NOBAK/datasets/phase2/non_AMPs.csv'\n",
    "AMPs_path='/home/kongkitimanonk/SCRATCH_NOBAK/datasets/phase2/AMPs.csv'"
   ]
  },
  {
   "cell_type": "markdown",
   "metadata": {},
   "source": [
    "## AMPs"
   ]
  },
  {
   "cell_type": "code",
   "execution_count": 5,
   "metadata": {},
   "outputs": [],
   "source": [
    "\n",
    "lengths = map(len, SeqIO.parse(amp_DB_fasta, 'fasta'))\n",
    "df = pd.Series([x for x in lengths], name=\"length\").to_frame()"
   ]
  },
  {
   "cell_type": "code",
   "execution_count": 6,
   "metadata": {},
   "outputs": [
    {
     "data": {
      "text/plain": [
       "count    21226.000000\n",
       "mean        60.496938\n",
       "std        114.696874\n",
       "min         11.000000\n",
       "25%         18.000000\n",
       "50%         28.000000\n",
       "75%         61.000000\n",
       "max       2337.000000\n",
       "Name: length, dtype: float64"
      ]
     },
     "execution_count": 6,
     "metadata": {},
     "output_type": "execute_result"
    }
   ],
   "source": [
    "df.length.describe()"
   ]
  },
  {
   "cell_type": "code",
   "execution_count": 7,
   "metadata": {},
   "outputs": [
    {
     "data": {
      "text/plain": [
       "(8.673, 34.26]        12220\n",
       "(34.26, 57.52]         3384\n",
       "(57.52, 80.78]         2620\n",
       "(80.78, 104.04]        1208\n",
       "(127.3, 150.56]         218\n",
       "                      ...  \n",
       "(1592.68, 1615.94]        0\n",
       "(1639.2, 1662.46]         0\n",
       "(1662.46, 1685.72]        0\n",
       "(1708.98, 1732.24]        0\n",
       "(1150.74, 1174.0]         0\n",
       "Name: length, Length: 100, dtype: int64"
      ]
     },
     "execution_count": 7,
     "metadata": {},
     "output_type": "execute_result"
    }
   ],
   "source": [
    "df['length'].value_counts(bins=100)"
   ]
  },
  {
   "cell_type": "code",
   "execution_count": 8,
   "metadata": {},
   "outputs": [
    {
     "data": {
      "text/html": [
       "<div>\n",
       "<style scoped>\n",
       "    .dataframe tbody tr th:only-of-type {\n",
       "        vertical-align: middle;\n",
       "    }\n",
       "\n",
       "    .dataframe tbody tr th {\n",
       "        vertical-align: top;\n",
       "    }\n",
       "\n",
       "    .dataframe thead th {\n",
       "        text-align: right;\n",
       "    }\n",
       "</style>\n",
       "<table border=\"1\" class=\"dataframe\">\n",
       "  <thead>\n",
       "    <tr style=\"text-align: right;\">\n",
       "      <th></th>\n",
       "      <th>length</th>\n",
       "      <th>count</th>\n",
       "    </tr>\n",
       "  </thead>\n",
       "  <tbody>\n",
       "    <tr>\n",
       "      <th>9</th>\n",
       "      <td>20</td>\n",
       "      <td>1131</td>\n",
       "    </tr>\n",
       "    <tr>\n",
       "      <th>2</th>\n",
       "      <td>13</td>\n",
       "      <td>1119</td>\n",
       "    </tr>\n",
       "    <tr>\n",
       "      <th>1</th>\n",
       "      <td>12</td>\n",
       "      <td>912</td>\n",
       "    </tr>\n",
       "    <tr>\n",
       "      <th>7</th>\n",
       "      <td>18</td>\n",
       "      <td>873</td>\n",
       "    </tr>\n",
       "    <tr>\n",
       "      <th>4</th>\n",
       "      <td>15</td>\n",
       "      <td>855</td>\n",
       "    </tr>\n",
       "    <tr>\n",
       "      <th>...</th>\n",
       "      <td>...</td>\n",
       "      <td>...</td>\n",
       "    </tr>\n",
       "    <tr>\n",
       "      <th>392</th>\n",
       "      <td>448</td>\n",
       "      <td>1</td>\n",
       "    </tr>\n",
       "    <tr>\n",
       "      <th>394</th>\n",
       "      <td>455</td>\n",
       "      <td>1</td>\n",
       "    </tr>\n",
       "    <tr>\n",
       "      <th>396</th>\n",
       "      <td>460</td>\n",
       "      <td>1</td>\n",
       "    </tr>\n",
       "    <tr>\n",
       "      <th>397</th>\n",
       "      <td>461</td>\n",
       "      <td>1</td>\n",
       "    </tr>\n",
       "    <tr>\n",
       "      <th>534</th>\n",
       "      <td>2337</td>\n",
       "      <td>1</td>\n",
       "    </tr>\n",
       "  </tbody>\n",
       "</table>\n",
       "<p>535 rows × 2 columns</p>\n",
       "</div>"
      ],
      "text/plain": [
       "     length  count\n",
       "9        20   1131\n",
       "2        13   1119\n",
       "1        12    912\n",
       "7        18    873\n",
       "4        15    855\n",
       "..      ...    ...\n",
       "392     448      1\n",
       "394     455      1\n",
       "396     460      1\n",
       "397     461      1\n",
       "534    2337      1\n",
       "\n",
       "[535 rows x 2 columns]"
      ]
     },
     "execution_count": 8,
     "metadata": {},
     "output_type": "execute_result"
    }
   ],
   "source": [
    "df_count=df.groupby('length').length.count().reset_index(name='count').sort_values(['count'], ascending=False)\n",
    "#df_count.to_csv('df_count.csv', index=False)\n",
    "_tmp_df_count =df_count\n",
    "_tmp_df_count"
   ]
  },
  {
   "cell_type": "code",
   "execution_count": 30,
   "metadata": {},
   "outputs": [
    {
     "data": {
      "text/plain": [
       "9    1128\n",
       "Name: count, dtype: int64"
      ]
     },
     "execution_count": 30,
     "metadata": {},
     "output_type": "execute_result"
    }
   ],
   "source": [
    "_tmp_df_count.loc[ _tmp_df_count['length'] == 20]['count'].values +1"
   ]
  },
  {
   "cell_type": "code",
   "execution_count": 47,
   "metadata": {},
   "outputs": [
    {
     "data": {
      "text/plain": [
       "False"
      ]
     },
     "execution_count": 47,
     "metadata": {},
     "output_type": "execute_result"
    }
   ],
   "source": [
    "_tmp_df_count['count'].values.sum() == 0"
   ]
  },
  {
   "cell_type": "markdown",
   "metadata": {},
   "source": [
    "write to csv file"
   ]
  },
  {
   "cell_type": "code",
   "execution_count": 17,
   "metadata": {},
   "outputs": [],
   "source": [
    "AMPs_csv = open(AMPs_path, 'w')\n",
    "AMPs_csv.write('\"ID\",\"Sequence\",\"length\"'+ '\\n')\n",
    "with open(amp_DB_fasta) as amps_record:\n",
    "    for _name, _seq in  SimpleFastaParser(amps_record):\n",
    "        AMPs_csv.write('\"'+_name+'\",\"'+_seq+'\",\"' + str(len(_seq))+'\"' + '\\n')"
   ]
  },
  {
   "cell_type": "markdown",
   "metadata": {},
   "source": [
    "## Non AMPs"
   ]
  },
  {
   "cell_type": "code",
   "execution_count": null,
   "metadata": {},
   "outputs": [],
   "source": [
    "!seqkit --threads 20 -M 2350 /home/kongkitimanonk/SCRATCH_NOBAK/datasets/phase2/uniref50.fasta.gz > /home/kongkitimanonk/SCRATCH_NOBAK/datasets/phase2/uniref50.len2350.fasta"
   ]
  },
  {
   "cell_type": "code",
   "execution_count": 10,
   "metadata": {
    "tags": []
   },
   "outputs": [
    {
     "name": "stdout",
     "output_type": "stream",
     "text": [
      "stop\n"
     ]
    }
   ],
   "source": [
    "NonAMPs_csv = open(non_AMPs_path, 'w')\n",
    "NonAMPs_csv.write('\"ID\",\"Sequence\",\"length\"'+ '\\n')\n",
    "with open(uniref50) as record_len2400:\n",
    "      for _name, _seq in  SimpleFastaParser(record_len2400):\n",
    "           seqLen = len(_seq)\n",
    "           #update value\n",
    "           _tmp_row = _tmp_df_count.loc[ _tmp_df_count['length'] == seqLen]\n",
    "           if not _tmp_row.empty and  _tmp_row['count'].values > 0:\n",
    "               #print (str(_tmp_row['length']) +\" \"+ str(_tmp_row['count']))\n",
    "               NonAMPs_csv.write('\"'+_name+'\",\"'_seq+'\",\"'+ str(seqLen)+'\"' + '\\n')\n",
    "               _tmp_df_count.at[ _tmp_row.index,'count']= _tmp_row['count'] - 1\n",
    "           else:\n",
    "               if _tmp_df_count['count'].values.sum() == 0:\n",
    "                   print(\"stop\")\n",
    "                   break\n",
    "\n",
    "        \n"
   ]
  },
  {
   "cell_type": "code",
   "execution_count": null,
   "metadata": {
    "tags": [
     "outputPrepend"
    ]
   },
   "outputs": [],
   "source": []
  },
  {
   "cell_type": "code",
   "execution_count": null,
   "metadata": {},
   "outputs": [],
   "source": [
    "## Split file \n",
    "\n",
    "def batch_iterator(iterator, batch_size):\n",
    "    \"\"\"Returns lists of length batch_size.\n",
    "\n",
    "    This can be used on any iterator, for example to batch up\n",
    "    SeqRecord objects from Bio.SeqIO.parse(...), or to batch\n",
    "    Alignment objects from Bio.AlignIO.parse(...), or simply\n",
    "    lines from a file handle.\n",
    "\n",
    "    This is a generator function, and it returns lists of the\n",
    "    entries from the supplied iterator.  Each list will have\n",
    "    batch_size entries, although the final list may be shorter.\n",
    "    \"\"\"\n",
    "    entry = True  # Make sure we loop once\n",
    "    while entry:\n",
    "        batch = []\n",
    "        while len(batch) < batch_size:\n",
    "            try:\n",
    "                entry =  next(iterator)\n",
    "            except StopIteration:\n",
    "                entry = None\n",
    "            if entry is None:\n",
    "                # End of file\n",
    "                break\n",
    "            batch.append(entry)\n",
    "        if batch:\n",
    "            yield batch\n",
    "\"\"\"\n",
    "record_iter = SeqIO.parse(gzopen(\"uniref50.fasta.gz\", \"rt\"), \"fasta\")\n",
    "for i, batch in enumerate(batch_iterator(record_iter, 200000)):\n",
    "    filename = \"group_%i.fasta\" % (i + 1)\n",
    "    with open(filename, \"w\") as handle:\n",
    "        count = SeqIO.write(batch, handle, \"fasta\")\n",
    "    print(\"Wrote %i records to %s\" % (count, filename))\n",
    "\"\"\"            "
   ]
  },
  {
   "cell_type": "markdown",
   "metadata": {},
   "source": [
    "#  Step:2 Data labeling & Cleaning"
   ]
  },
  {
   "cell_type": "code",
   "execution_count": null,
   "metadata": {},
   "outputs": [],
   "source": [
    "!pip install ipympl"
   ]
  },
  {
   "cell_type": "code",
   "execution_count": 53,
   "metadata": {},
   "outputs": [],
   "source": [
    "\n",
    "import csv\n",
    "import matplotlib.pyplot as plt\n",
    "\n",
    "%matplotlib widget"
   ]
  },
  {
   "cell_type": "code",
   "execution_count": 31,
   "metadata": {},
   "outputs": [],
   "source": [
    "#nonAMPs_df=pd.read_csv(non_AMPs_path,sep=',',header=0,quoting=csv.QUOTE_ALL)\n",
    "nonAMPs_df=pd.read_csv(non_AMPs_path,sep=',',header=0)\n",
    "AMPs_df=pd.read_csv(AMPs_path,sep=',',header=0,quoting=csv.QUOTE_ALL)"
   ]
  },
  {
   "cell_type": "code",
   "execution_count": 34,
   "metadata": {},
   "outputs": [
    {
     "data": {
      "text/html": [
       "<div>\n",
       "<style scoped>\n",
       "    .dataframe tbody tr th:only-of-type {\n",
       "        vertical-align: middle;\n",
       "    }\n",
       "\n",
       "    .dataframe tbody tr th {\n",
       "        vertical-align: top;\n",
       "    }\n",
       "\n",
       "    .dataframe thead th {\n",
       "        text-align: right;\n",
       "    }\n",
       "</style>\n",
       "<table border=\"1\" class=\"dataframe\">\n",
       "  <thead>\n",
       "    <tr style=\"text-align: right;\">\n",
       "      <th></th>\n",
       "      <th>ID</th>\n",
       "      <th>Sequence</th>\n",
       "      <th>length</th>\n",
       "    </tr>\n",
       "  </thead>\n",
       "  <tbody>\n",
       "    <tr>\n",
       "      <th>0</th>\n",
       "      <td>EN92515250|C|B3FJD7|phage 201phi2-1 lysin</td>\n",
       "      <td>MAKKSVPLRKPAGSDGQGNIKVPGGPVVLDLGDFDDIFGPMESESP...</td>\n",
       "      <td>2337</td>\n",
       "    </tr>\n",
       "    <tr>\n",
       "      <th>1</th>\n",
       "      <td>EN54061055|C|F8SJ56|phage PhiPA3 lysin</td>\n",
       "      <td>MASKKTTLPKPKGINPQGSIVQLDLDDFDDLFDEDFGLPKKNSPYT...</td>\n",
       "      <td>2319</td>\n",
       "    </tr>\n",
       "    <tr>\n",
       "      <th>2</th>\n",
       "      <td>EN4815120|C|Q8SCY1|phage phiKZ lysin</td>\n",
       "      <td>MAKKVTLPKGQTGATGTTLGQAGNILDLSDVDDIFGDTPKAKKGSP...</td>\n",
       "      <td>2237</td>\n",
       "    </tr>\n",
       "    <tr>\n",
       "      <th>3</th>\n",
       "      <td>EN3016141|D|D2J8A7|bacteriocin</td>\n",
       "      <td>MAETIKGLRIDLSLKDMGVGRSITELKRSFRTLNSDLKVSSKNFEY...</td>\n",
       "      <td>1619</td>\n",
       "    </tr>\n",
       "    <tr>\n",
       "      <th>4</th>\n",
       "      <td>EN9175723|BD|Q93IM3|bacteriocin</td>\n",
       "      <td>MAKKKNTYKVPSIIALTLAGTALTTHHAQAADKTQDQSTNKNILND...</td>\n",
       "      <td>1564</td>\n",
       "    </tr>\n",
       "  </tbody>\n",
       "</table>\n",
       "</div>"
      ],
      "text/plain": [
       "                                          ID  \\\n",
       "0  EN92515250|C|B3FJD7|phage 201phi2-1 lysin   \n",
       "1     EN54061055|C|F8SJ56|phage PhiPA3 lysin   \n",
       "2       EN4815120|C|Q8SCY1|phage phiKZ lysin   \n",
       "3             EN3016141|D|D2J8A7|bacteriocin   \n",
       "4            EN9175723|BD|Q93IM3|bacteriocin   \n",
       "\n",
       "                                            Sequence  length  \n",
       "0  MAKKSVPLRKPAGSDGQGNIKVPGGPVVLDLGDFDDIFGPMESESP...    2337  \n",
       "1  MASKKTTLPKPKGINPQGSIVQLDLDDFDDLFDEDFGLPKKNSPYT...    2319  \n",
       "2  MAKKVTLPKGQTGATGTTLGQAGNILDLSDVDDIFGDTPKAKKGSP...    2237  \n",
       "3  MAETIKGLRIDLSLKDMGVGRSITELKRSFRTLNSDLKVSSKNFEY...    1619  \n",
       "4  MAKKKNTYKVPSIIALTLAGTALTTHHAQAADKTQDQSTNKNILND...    1564  "
      ]
     },
     "execution_count": 34,
     "metadata": {},
     "output_type": "execute_result"
    }
   ],
   "source": [
    "AMPs_df.head()"
   ]
  },
  {
   "cell_type": "code",
   "execution_count": 33,
   "metadata": {},
   "outputs": [
    {
     "data": {
      "text/html": [
       "<div>\n",
       "<style scoped>\n",
       "    .dataframe tbody tr th:only-of-type {\n",
       "        vertical-align: middle;\n",
       "    }\n",
       "\n",
       "    .dataframe tbody tr th {\n",
       "        vertical-align: top;\n",
       "    }\n",
       "\n",
       "    .dataframe thead th {\n",
       "        text-align: right;\n",
       "    }\n",
       "</style>\n",
       "<table border=\"1\" class=\"dataframe\">\n",
       "  <thead>\n",
       "    <tr style=\"text-align: right;\">\n",
       "      <th></th>\n",
       "      <th>ID</th>\n",
       "      <th>Sequence</th>\n",
       "      <th>length</th>\n",
       "    </tr>\n",
       "  </thead>\n",
       "  <tbody>\n",
       "    <tr>\n",
       "      <th>0</th>\n",
       "      <td>UniRef50_A0A672ZWI7 Ig-like domain-containing ...</td>\n",
       "      <td>MVIHQRHTSDESFSSSPVEIRITAATPIPELAEERSAEKPPAVTET...</td>\n",
       "      <td>189</td>\n",
       "    </tr>\n",
       "    <tr>\n",
       "      <th>1</th>\n",
       "      <td>UniRef50_A0A3Q2PZR6 Uncharacterized protein n=...</td>\n",
       "      <td>MSTQAPTFTQPLQSVVALEGSAATFEAQVSGSPVPEVSWFRDGQVL...</td>\n",
       "      <td>295</td>\n",
       "    </tr>\n",
       "    <tr>\n",
       "      <th>2</th>\n",
       "      <td>UniRef50_V9IMB4 Titin n=21 Tax=Apis TaxID=7459...</td>\n",
       "      <td>MWMEVGRVNADTQKLNIRDLQENHMYLIRIFAKNEVGLSDPLESDE...</td>\n",
       "      <td>121</td>\n",
       "    </tr>\n",
       "    <tr>\n",
       "      <th>3</th>\n",
       "      <td>UniRef50_B4IRR3 GL21409 (Fragment) n=18 Tax=Dr...</td>\n",
       "      <td>IIHPLEDVSVTKGENAIFELELSKGDALVKWFKNGKELVFNDRVQL...</td>\n",
       "      <td>320</td>\n",
       "    </tr>\n",
       "    <tr>\n",
       "      <th>4</th>\n",
       "      <td>UniRef50_UPI00083D1E21 titin-like n=26 Tax=Apo...</td>\n",
       "      <td>HDFGIVILDILYCYEENSGVYECRAFNKYGEDTTKATLKCFSKASL...</td>\n",
       "      <td>65</td>\n",
       "    </tr>\n",
       "  </tbody>\n",
       "</table>\n",
       "</div>"
      ],
      "text/plain": [
       "                                                  ID  \\\n",
       "0  UniRef50_A0A672ZWI7 Ig-like domain-containing ...   \n",
       "1  UniRef50_A0A3Q2PZR6 Uncharacterized protein n=...   \n",
       "2  UniRef50_V9IMB4 Titin n=21 Tax=Apis TaxID=7459...   \n",
       "3  UniRef50_B4IRR3 GL21409 (Fragment) n=18 Tax=Dr...   \n",
       "4  UniRef50_UPI00083D1E21 titin-like n=26 Tax=Apo...   \n",
       "\n",
       "                                            Sequence  length  \n",
       "0  MVIHQRHTSDESFSSSPVEIRITAATPIPELAEERSAEKPPAVTET...     189  \n",
       "1  MSTQAPTFTQPLQSVVALEGSAATFEAQVSGSPVPEVSWFRDGQVL...     295  \n",
       "2  MWMEVGRVNADTQKLNIRDLQENHMYLIRIFAKNEVGLSDPLESDE...     121  \n",
       "3  IIHPLEDVSVTKGENAIFELELSKGDALVKWFKNGKELVFNDRVQL...     320  \n",
       "4  HDFGIVILDILYCYEENSGVYECRAFNKYGEDTTKATLKCFSKASL...      65  "
      ]
     },
     "execution_count": 33,
     "metadata": {},
     "output_type": "execute_result"
    }
   ],
   "source": [
    "nonAMPs_df.head()"
   ]
  },
  {
   "cell_type": "markdown",
   "metadata": {},
   "source": [
    "## Cleaning"
   ]
  },
  {
   "cell_type": "code",
   "execution_count": null,
   "metadata": {},
   "outputs": [],
   "source": [
    "#"
   ]
  },
  {
   "cell_type": "code",
   "execution_count": null,
   "metadata": {},
   "outputs": [],
   "source": []
  },
  {
   "cell_type": "markdown",
   "metadata": {},
   "source": [
    "## Identity check of Distribution "
   ]
  },
  {
   "cell_type": "code",
   "execution_count": 49,
   "metadata": {},
   "outputs": [],
   "source": [
    "def lengthDistribution(df,title):\n",
    "    fig = plt.figure()\n",
    "    ax = fig.gca()\n",
    "    pd.Series(df['length']).hist(color='blue', bins=200, ax=ax)\n",
    "    plt.ylabel('Num of Seq with this length ')\n",
    "    plt.xlabel('Length of Seq')\n",
    "    plt.title(title)"
   ]
  },
  {
   "cell_type": "code",
   "execution_count": 52,
   "metadata": {},
   "outputs": [
    {
     "data": {
      "application/vnd.jupyter.widget-view+json": {
       "model_id": "2e3e157d21ed4a9696b9a491c0258dd6",
       "version_major": 2,
       "version_minor": 0
      },
      "text/plain": [
       "Canvas(toolbar=Toolbar(toolitems=[('Home', 'Reset original view', 'home', 'home'), ('Back', 'Back to previous …"
      ]
     },
     "metadata": {},
     "output_type": "display_data"
    }
   ],
   "source": [
    "lengthDistribution(nonAMPs_df,\"Non Amps\")"
   ]
  },
  {
   "cell_type": "markdown",
   "metadata": {},
   "source": [
    "## Labeling"
   ]
  },
  {
   "cell_type": "code",
   "execution_count": null,
   "metadata": {},
   "outputs": [],
   "source": [
    "# setup\n",
    "am"
   ]
  },
  {
   "cell_type": "code",
   "execution_count": null,
   "metadata": {},
   "outputs": [],
   "source": []
  }
 ],
 "metadata": {
  "kernelspec": {
   "display_name": "Python 3",
   "language": "python",
   "name": "python3"
  },
  "language_info": {
   "codemirror_mode": {
    "name": "ipython",
    "version": 3
   },
   "file_extension": ".py",
   "mimetype": "text/x-python",
   "name": "python",
   "nbconvert_exporter": "python",
   "pygments_lexer": "ipython3",
   "version": "3.7.6"
  }
 },
 "nbformat": 4,
 "nbformat_minor": 4
}
