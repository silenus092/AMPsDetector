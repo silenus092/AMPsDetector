{
 "cells": [
  {
   "cell_type": "code",
   "execution_count": 2,
   "metadata": {},
   "outputs": [
    {
     "name": "stdout",
     "output_type": "stream",
     "text": [
      "Collecting package metadata: done\n",
      "Solving environment: / ^C\n",
      "| "
     ]
    }
   ],
   "source": [
    "# !conda install -c anaconda biopython "
   ]
  },
  {
   "cell_type": "code",
   "execution_count": 5,
   "metadata": {},
   "outputs": [],
   "source": [
    "from Bio import SeqIO\n",
    "from io import StringIO\n",
    "from gzip import open as gzopen\n",
    "\n",
    "import numpy as np\n",
    "import matplotlib.pyplot as plt\n",
    "import os \n",
    "import pandas"
   ]
  },
  {
   "cell_type": "code",
   "execution_count": 10,
   "metadata": {},
   "outputs": [],
   "source": [
    "# lenghtDistribution\n",
    "def lengthDistribution(file_path):\n",
    "    head, tail = os.path.split(file_path) \n",
    "    lengths = map(len, SeqIO.parse(file_path, 'fasta'))\n",
    "    fig = plt.figure(figsize = (50,50))\n",
    "    ax = fig.gca()\n",
    "    pandas.Series(lengths).hist(color='blue', bins=200, ax=ax)\n",
    "    plt.ylabel('Num of Seq with this length ')\n",
    "    plt.xlabel('Length of Seq')\n",
    "    plt.yticks(np.arange(0, 10000, 50))\n",
    "    plt.xticks(np.arange(0, 2500, 50))\n",
    "    plt.title(tail)\n",
    "    save_file_path = os.path.join(root_img_path, tail)\n",
    "    plt.savefig(save_file_path+'.lenDis.png')\n",
    "\n",
    "file = \"/mnt/c/works/RKI/AMPsConverter/AMP_DB/stats/nr100\"\n",
    "lengths = map(len, SeqIO.parse(file, 'fasta'))"
   ]
  },
  {
   "cell_type": "code",
   "execution_count": 12,
   "metadata": {},
   "outputs": [],
   "source": [
    "[x for x in lengths]"
   ]
  },
  {
   "cell_type": "code",
   "execution_count": 13,
   "metadata": {},
   "outputs": [
    {
     "data": {
      "text/plain": [
       "[]"
      ]
     },
     "execution_count": 13,
     "metadata": {},
     "output_type": "execute_result"
    }
   ],
   "source": [
    "df"
   ]
  },
  {
   "cell_type": "code",
   "execution_count": 44,
   "metadata": {},
   "outputs": [],
   "source": [
    "df = pandas.Series([x for x in lengths], name=\"length\").to_frame()"
   ]
  },
  {
   "cell_type": "code",
   "execution_count": 30,
   "metadata": {},
   "outputs": [],
   "source": [
    "def batch_iterator(iterator, batch_size):\n",
    "    \"\"\"Returns lists of length batch_size.\n",
    "\n",
    "    This can be used on any iterator, for example to batch up\n",
    "    SeqRecord objects from Bio.SeqIO.parse(...), or to batch\n",
    "    Alignment objects from Bio.AlignIO.parse(...), or simply\n",
    "    lines from a file handle.\n",
    "\n",
    "    This is a generator function, and it returns lists of the\n",
    "    entries from the supplied iterator.  Each list will have\n",
    "    batch_size entries, although the final list may be shorter.\n",
    "    \"\"\"\n",
    "    entry = True  # Make sure we loop once\n",
    "    while entry:\n",
    "        batch = []\n",
    "        while len(batch) < batch_size:\n",
    "            try:\n",
    "                entry =  next(iterator)\n",
    "            except StopIteration:\n",
    "                entry = None\n",
    "            if entry is None:\n",
    "                # End of file\n",
    "                break\n",
    "            batch.append(entry)\n",
    "        if batch:\n",
    "            yield batch\n"
   ]
  },
  {
   "cell_type": "code",
   "execution_count": 33,
   "metadata": {},
   "outputs": [
    {
     "name": "stdout",
     "output_type": "stream",
     "text": [
      "Wrote 200000 records to group_1.fasta\n",
      "Wrote 200000 records to group_2.fasta\n",
      "Wrote 200000 records to group_3.fasta\n",
      "Wrote 200000 records to group_4.fasta\n",
      "Wrote 200000 records to group_5.fasta\n",
      "Wrote 200000 records to group_6.fasta\n",
      "Wrote 200000 records to group_7.fasta\n",
      "Wrote 200000 records to group_8.fasta\n",
      "Wrote 200000 records to group_9.fasta\n",
      "Wrote 200000 records to group_10.fasta\n",
      "Wrote 200000 records to group_11.fasta\n",
      "Wrote 200000 records to group_12.fasta\n",
      "Wrote 200000 records to group_13.fasta\n",
      "Wrote 200000 records to group_14.fasta\n",
      "Wrote 200000 records to group_15.fasta\n",
      "Wrote 200000 records to group_16.fasta\n",
      "Wrote 200000 records to group_17.fasta\n",
      "Wrote 200000 records to group_18.fasta\n",
      "Wrote 200000 records to group_19.fasta\n",
      "Wrote 200000 records to group_20.fasta\n",
      "Wrote 200000 records to group_21.fasta\n",
      "Wrote 200000 records to group_22.fasta\n",
      "Wrote 200000 records to group_23.fasta\n",
      "Wrote 200000 records to group_24.fasta\n",
      "Wrote 200000 records to group_25.fasta\n",
      "Wrote 200000 records to group_26.fasta\n",
      "Wrote 200000 records to group_27.fasta\n",
      "Wrote 200000 records to group_28.fasta\n",
      "Wrote 200000 records to group_29.fasta\n",
      "Wrote 200000 records to group_30.fasta\n",
      "Wrote 200000 records to group_31.fasta\n",
      "Wrote 200000 records to group_32.fasta\n",
      "Wrote 200000 records to group_33.fasta\n",
      "Wrote 200000 records to group_34.fasta\n",
      "Wrote 200000 records to group_35.fasta\n",
      "Wrote 200000 records to group_36.fasta\n",
      "Wrote 200000 records to group_37.fasta\n",
      "Wrote 200000 records to group_38.fasta\n",
      "Wrote 200000 records to group_39.fasta\n",
      "Wrote 200000 records to group_40.fasta\n",
      "Wrote 200000 records to group_41.fasta\n",
      "Wrote 200000 records to group_42.fasta\n",
      "Wrote 200000 records to group_43.fasta\n",
      "Wrote 200000 records to group_44.fasta\n",
      "Wrote 200000 records to group_45.fasta\n",
      "Wrote 200000 records to group_46.fasta\n",
      "Wrote 200000 records to group_47.fasta\n",
      "Wrote 200000 records to group_48.fasta\n",
      "Wrote 200000 records to group_49.fasta\n",
      "Wrote 200000 records to group_50.fasta\n",
      "Wrote 200000 records to group_51.fasta\n",
      "Wrote 200000 records to group_52.fasta\n",
      "Wrote 200000 records to group_53.fasta\n",
      "Wrote 200000 records to group_54.fasta\n",
      "Wrote 200000 records to group_55.fasta\n",
      "Wrote 200000 records to group_56.fasta\n"
     ]
    },
    {
     "ename": "KeyboardInterrupt",
     "evalue": "",
     "output_type": "error",
     "traceback": [
      "\u001b[0;31m---------------------------------------------------------------------------\u001b[0m",
      "\u001b[0;31mKeyboardInterrupt\u001b[0m                         Traceback (most recent call last)",
      "\u001b[0;32m<ipython-input-33-a4b43e8a0393>\u001b[0m in \u001b[0;36m<module>\u001b[0;34m\u001b[0m\n\u001b[1;32m      1\u001b[0m \u001b[0mrecord_iter\u001b[0m \u001b[0;34m=\u001b[0m \u001b[0mSeqIO\u001b[0m\u001b[0;34m.\u001b[0m\u001b[0mparse\u001b[0m\u001b[0;34m(\u001b[0m\u001b[0mgzopen\u001b[0m\u001b[0;34m(\u001b[0m\u001b[0;34m\"uniref50.fasta.gz\"\u001b[0m\u001b[0;34m,\u001b[0m \u001b[0;34m\"rt\"\u001b[0m\u001b[0;34m)\u001b[0m\u001b[0;34m,\u001b[0m \u001b[0;34m\"fasta\"\u001b[0m\u001b[0;34m)\u001b[0m\u001b[0;34m\u001b[0m\u001b[0;34m\u001b[0m\u001b[0m\n\u001b[0;32m----> 2\u001b[0;31m \u001b[0;32mfor\u001b[0m \u001b[0mi\u001b[0m\u001b[0;34m,\u001b[0m \u001b[0mbatch\u001b[0m \u001b[0;32min\u001b[0m \u001b[0menumerate\u001b[0m\u001b[0;34m(\u001b[0m\u001b[0mbatch_iterator\u001b[0m\u001b[0;34m(\u001b[0m\u001b[0mrecord_iter\u001b[0m\u001b[0;34m,\u001b[0m \u001b[0;36m200000\u001b[0m\u001b[0;34m)\u001b[0m\u001b[0;34m)\u001b[0m\u001b[0;34m:\u001b[0m\u001b[0;34m\u001b[0m\u001b[0;34m\u001b[0m\u001b[0m\n\u001b[0m\u001b[1;32m      3\u001b[0m     \u001b[0mfilename\u001b[0m \u001b[0;34m=\u001b[0m \u001b[0;34m\"group_%i.fasta\"\u001b[0m \u001b[0;34m%\u001b[0m \u001b[0;34m(\u001b[0m\u001b[0mi\u001b[0m \u001b[0;34m+\u001b[0m \u001b[0;36m1\u001b[0m\u001b[0;34m)\u001b[0m\u001b[0;34m\u001b[0m\u001b[0;34m\u001b[0m\u001b[0m\n\u001b[1;32m      4\u001b[0m     \u001b[0;32mwith\u001b[0m \u001b[0mopen\u001b[0m\u001b[0;34m(\u001b[0m\u001b[0mfilename\u001b[0m\u001b[0;34m,\u001b[0m \u001b[0;34m\"w\"\u001b[0m\u001b[0;34m)\u001b[0m \u001b[0;32mas\u001b[0m \u001b[0mhandle\u001b[0m\u001b[0;34m:\u001b[0m\u001b[0;34m\u001b[0m\u001b[0;34m\u001b[0m\u001b[0m\n\u001b[1;32m      5\u001b[0m         \u001b[0mcount\u001b[0m \u001b[0;34m=\u001b[0m \u001b[0mSeqIO\u001b[0m\u001b[0;34m.\u001b[0m\u001b[0mwrite\u001b[0m\u001b[0;34m(\u001b[0m\u001b[0mbatch\u001b[0m\u001b[0;34m,\u001b[0m \u001b[0mhandle\u001b[0m\u001b[0;34m,\u001b[0m \u001b[0;34m\"fasta\"\u001b[0m\u001b[0;34m)\u001b[0m\u001b[0;34m\u001b[0m\u001b[0;34m\u001b[0m\u001b[0m\n",
      "\u001b[0;32m<ipython-input-30-3ee9289e3365>\u001b[0m in \u001b[0;36mbatch_iterator\u001b[0;34m(iterator, batch_size)\u001b[0m\n\u001b[1;32m     16\u001b[0m         \u001b[0;32mwhile\u001b[0m \u001b[0mlen\u001b[0m\u001b[0;34m(\u001b[0m\u001b[0mbatch\u001b[0m\u001b[0;34m)\u001b[0m \u001b[0;34m<\u001b[0m \u001b[0mbatch_size\u001b[0m\u001b[0;34m:\u001b[0m\u001b[0;34m\u001b[0m\u001b[0;34m\u001b[0m\u001b[0m\n\u001b[1;32m     17\u001b[0m             \u001b[0;32mtry\u001b[0m\u001b[0;34m:\u001b[0m\u001b[0;34m\u001b[0m\u001b[0;34m\u001b[0m\u001b[0m\n\u001b[0;32m---> 18\u001b[0;31m                 \u001b[0mentry\u001b[0m \u001b[0;34m=\u001b[0m  \u001b[0mnext\u001b[0m\u001b[0;34m(\u001b[0m\u001b[0miterator\u001b[0m\u001b[0;34m)\u001b[0m\u001b[0;34m\u001b[0m\u001b[0;34m\u001b[0m\u001b[0m\n\u001b[0m\u001b[1;32m     19\u001b[0m             \u001b[0;32mexcept\u001b[0m \u001b[0mStopIteration\u001b[0m\u001b[0;34m:\u001b[0m\u001b[0;34m\u001b[0m\u001b[0;34m\u001b[0m\u001b[0m\n\u001b[1;32m     20\u001b[0m                 \u001b[0mentry\u001b[0m \u001b[0;34m=\u001b[0m \u001b[0;32mNone\u001b[0m\u001b[0;34m\u001b[0m\u001b[0;34m\u001b[0m\u001b[0m\n",
      "\u001b[0;32m~/.conda/envs/jupyter_NB/lib/python3.8/site-packages/Bio/SeqIO/Interfaces.py\u001b[0m in \u001b[0;36m__next__\u001b[0;34m(self)\u001b[0m\n\u001b[1;32m     71\u001b[0m     \u001b[0;32mdef\u001b[0m \u001b[0m__next__\u001b[0m\u001b[0;34m(\u001b[0m\u001b[0mself\u001b[0m\u001b[0;34m)\u001b[0m\u001b[0;34m:\u001b[0m\u001b[0;34m\u001b[0m\u001b[0;34m\u001b[0m\u001b[0m\n\u001b[1;32m     72\u001b[0m         \u001b[0;32mtry\u001b[0m\u001b[0;34m:\u001b[0m\u001b[0;34m\u001b[0m\u001b[0;34m\u001b[0m\u001b[0m\n\u001b[0;32m---> 73\u001b[0;31m             \u001b[0;32mreturn\u001b[0m \u001b[0mnext\u001b[0m\u001b[0;34m(\u001b[0m\u001b[0mself\u001b[0m\u001b[0;34m.\u001b[0m\u001b[0mrecords\u001b[0m\u001b[0;34m)\u001b[0m\u001b[0;34m\u001b[0m\u001b[0;34m\u001b[0m\u001b[0m\n\u001b[0m\u001b[1;32m     74\u001b[0m         \u001b[0;32mexcept\u001b[0m \u001b[0mException\u001b[0m\u001b[0;34m:\u001b[0m\u001b[0;34m\u001b[0m\u001b[0;34m\u001b[0m\u001b[0m\n\u001b[1;32m     75\u001b[0m             \u001b[0;32mif\u001b[0m \u001b[0mself\u001b[0m\u001b[0;34m.\u001b[0m\u001b[0mshould_close_stream\u001b[0m\u001b[0;34m:\u001b[0m\u001b[0;34m\u001b[0m\u001b[0;34m\u001b[0m\u001b[0m\n",
      "\u001b[0;32m~/.conda/envs/jupyter_NB/lib/python3.8/site-packages/Bio/SeqIO/FastaIO.py\u001b[0m in \u001b[0;36miterate\u001b[0;34m(self, handle)\u001b[0m\n\u001b[1;32m    203\u001b[0m                     \u001b[0;31m# Should we use SeqRecord default for no ID?\u001b[0m\u001b[0;34m\u001b[0m\u001b[0;34m\u001b[0m\u001b[0;34m\u001b[0m\u001b[0m\n\u001b[1;32m    204\u001b[0m                     \u001b[0mfirst_word\u001b[0m \u001b[0;34m=\u001b[0m \u001b[0;34m\"\"\u001b[0m\u001b[0;34m\u001b[0m\u001b[0;34m\u001b[0m\u001b[0m\n\u001b[0;32m--> 205\u001b[0;31m                 yield SeqRecord(\n\u001b[0m\u001b[1;32m    206\u001b[0m                     \u001b[0mSeq\u001b[0m\u001b[0;34m(\u001b[0m\u001b[0msequence\u001b[0m\u001b[0;34m)\u001b[0m\u001b[0;34m,\u001b[0m \u001b[0mid\u001b[0m\u001b[0;34m=\u001b[0m\u001b[0mfirst_word\u001b[0m\u001b[0;34m,\u001b[0m \u001b[0mname\u001b[0m\u001b[0;34m=\u001b[0m\u001b[0mfirst_word\u001b[0m\u001b[0;34m,\u001b[0m \u001b[0mdescription\u001b[0m\u001b[0;34m=\u001b[0m\u001b[0mtitle\u001b[0m\u001b[0;34m,\u001b[0m\u001b[0;34m\u001b[0m\u001b[0;34m\u001b[0m\u001b[0m\n\u001b[1;32m    207\u001b[0m                 )\n",
      "\u001b[0;32m~/.conda/envs/jupyter_NB/lib/python3.8/site-packages/Bio/SeqRecord.py\u001b[0m in \u001b[0;36m__init__\u001b[0;34m(self, seq, id, name, description, dbxrefs, features, annotations, letter_annotations)\u001b[0m\n\u001b[1;32m    218\u001b[0m         \u001b[0;31m# annotations about the whole sequence\u001b[0m\u001b[0;34m\u001b[0m\u001b[0;34m\u001b[0m\u001b[0;34m\u001b[0m\u001b[0m\n\u001b[1;32m    219\u001b[0m         \u001b[0;32mif\u001b[0m \u001b[0mannotations\u001b[0m \u001b[0;32mis\u001b[0m \u001b[0;32mNone\u001b[0m\u001b[0;34m:\u001b[0m\u001b[0;34m\u001b[0m\u001b[0;34m\u001b[0m\u001b[0m\n\u001b[0;32m--> 220\u001b[0;31m             \u001b[0mannotations\u001b[0m \u001b[0;34m=\u001b[0m \u001b[0;34m{\u001b[0m\u001b[0;34m}\u001b[0m\u001b[0;34m\u001b[0m\u001b[0;34m\u001b[0m\u001b[0m\n\u001b[0m\u001b[1;32m    221\u001b[0m         \u001b[0;32melif\u001b[0m \u001b[0;32mnot\u001b[0m \u001b[0misinstance\u001b[0m\u001b[0;34m(\u001b[0m\u001b[0mannotations\u001b[0m\u001b[0;34m,\u001b[0m \u001b[0mdict\u001b[0m\u001b[0;34m)\u001b[0m\u001b[0;34m:\u001b[0m\u001b[0;34m\u001b[0m\u001b[0;34m\u001b[0m\u001b[0m\n\u001b[1;32m    222\u001b[0m             \u001b[0;32mraise\u001b[0m \u001b[0mTypeError\u001b[0m\u001b[0;34m(\u001b[0m\u001b[0;34m\"annotations argument should be a dict\"\u001b[0m\u001b[0;34m)\u001b[0m\u001b[0;34m\u001b[0m\u001b[0;34m\u001b[0m\u001b[0m\n",
      "\u001b[0;31mKeyboardInterrupt\u001b[0m: "
     ]
    }
   ],
   "source": [
    "\n",
    "record_iter = SeqIO.parse(gzopen(\"uniref50.fasta.gz\", \"rt\"), \"fasta\")\n",
    "for i, batch in enumerate(batch_iterator(record_iter, 200000)):\n",
    "    filename = \"group_%i.fasta\" % (i + 1)\n",
    "    with open(filename, \"w\") as handle:\n",
    "        count = SeqIO.write(batch, handle, \"fasta\")\n",
    "    print(\"Wrote %i records to %s\" % (count, filename))\n"
   ]
  },
  {
   "cell_type": "code",
   "execution_count": 23,
   "metadata": {},
   "outputs": [],
   "source": [
    "records = SeqIO.parse(\n",
    "    # There is actually simpler (thanks @peterjc)\n",
    "    # StringIO(gzopen(\"random_10.fastq.gz\").read().decode(\"utf-8\")),\n",
    "    gzopen(\"uniref50.fasta.gz\", \"rt\"),\n",
    "    format=\"fasta\")"
   ]
  },
  {
   "cell_type": "code",
   "execution_count": 24,
   "metadata": {},
   "outputs": [
    {
     "ename": "KeyboardInterrupt",
     "evalue": "",
     "output_type": "error",
     "traceback": [
      "\u001b[0;31m---------------------------------------------------------------------------\u001b[0m",
      "\u001b[0;31mKeyboardInterrupt\u001b[0m                         Traceback (most recent call last)",
      "\u001b[0;32m<ipython-input-24-c43e374e53ae>\u001b[0m in \u001b[0;36m<module>\u001b[0;34m\u001b[0m\n\u001b[0;32m----> 1\u001b[0;31m \u001b[0msizes\u001b[0m \u001b[0;34m=\u001b[0m \u001b[0;34m[\u001b[0m\u001b[0mlen\u001b[0m\u001b[0;34m(\u001b[0m\u001b[0mrec\u001b[0m\u001b[0;34m)\u001b[0m \u001b[0;32mfor\u001b[0m \u001b[0mrec\u001b[0m \u001b[0;32min\u001b[0m \u001b[0mrecords\u001b[0m\u001b[0;34m]\u001b[0m\u001b[0;34m\u001b[0m\u001b[0;34m\u001b[0m\u001b[0m\n\u001b[0m",
      "\u001b[0;32m<ipython-input-24-c43e374e53ae>\u001b[0m in \u001b[0;36m<listcomp>\u001b[0;34m(.0)\u001b[0m\n\u001b[0;32m----> 1\u001b[0;31m \u001b[0msizes\u001b[0m \u001b[0;34m=\u001b[0m \u001b[0;34m[\u001b[0m\u001b[0mlen\u001b[0m\u001b[0;34m(\u001b[0m\u001b[0mrec\u001b[0m\u001b[0;34m)\u001b[0m \u001b[0;32mfor\u001b[0m \u001b[0mrec\u001b[0m \u001b[0;32min\u001b[0m \u001b[0mrecords\u001b[0m\u001b[0;34m]\u001b[0m\u001b[0;34m\u001b[0m\u001b[0;34m\u001b[0m\u001b[0m\n\u001b[0m",
      "\u001b[0;31mKeyboardInterrupt\u001b[0m: "
     ]
    }
   ],
   "source": [
    "sizes = [len(rec) for rec in records]"
   ]
  },
  {
   "cell_type": "code",
   "execution_count": null,
   "metadata": {},
   "outputs": [],
   "source": [
    "sizes"
   ]
  },
  {
   "cell_type": "code",
   "execution_count": 17,
   "metadata": {},
   "outputs": [
    {
     "ename": "SyntaxError",
     "evalue": "unmatched ')' (<ipython-input-17-ce3d451b95b7>, line 1)",
     "output_type": "error",
     "traceback": [
      "\u001b[0;36m  File \u001b[0;32m\"<ipython-input-17-ce3d451b95b7>\"\u001b[0;36m, line \u001b[0;32m1\u001b[0m\n\u001b[0;31m    )seqs = []\u001b[0m\n\u001b[0m    ^\u001b[0m\n\u001b[0;31mSyntaxError\u001b[0m\u001b[0;31m:\u001b[0m unmatched ')'\n"
     ]
    }
   ],
   "source": [
    "seqs = []\n",
    "ids = []\n",
    "for rec in records:\n",
    "    ids.append(rec.id)\n",
    "    seqs.append(rec.seq)\n",
    "   "
   ]
  },
  {
   "cell_type": "code",
   "execution_count": 6,
   "metadata": {},
   "outputs": [
    {
     "ename": "ModuleNotFoundError",
     "evalue": "No module named 'pylab'",
     "output_type": "error",
     "traceback": [
      "\u001b[0;31m---------------------------------------------------------------------------\u001b[0m",
      "\u001b[0;31mModuleNotFoundError\u001b[0m                       Traceback (most recent call last)",
      "\u001b[0;32m<ipython-input-6-a18b8f3c2edd>\u001b[0m in \u001b[0;36m<module>\u001b[0;34m\u001b[0m\n\u001b[0;32m----> 1\u001b[0;31m \u001b[0;32mimport\u001b[0m \u001b[0mpylab\u001b[0m\u001b[0;34m\u001b[0m\u001b[0;34m\u001b[0m\u001b[0m\n\u001b[0m",
      "\u001b[0;31mModuleNotFoundError\u001b[0m: No module named 'pylab'"
     ]
    }
   ],
   "source": [
    "d = {'col1': [1, 2], 'col2': [3, 4]}"
   ]
  },
  {
   "cell_type": "code",
   "execution_count": null,
   "metadata": {},
   "outputs": [],
   "source": [
    "import pandas as pd\n",
    "\n",
    "cars = {'Brand': ['Honda Civic','Toyota Corolla','Ford Focus','Audi A4'],\n",
    "        'Price': [22000,25000,27000,35000]\n",
    "        }\n",
    "\n",
    "df = pd.DataFrame(cars, columns = ['Brand', 'Price'])"
   ]
  }
 ],
 "metadata": {
  "kernelspec": {
   "display_name": "Python 3",
   "language": "python",
   "name": "python3"
  },
  "language_info": {
   "codemirror_mode": {
    "name": "ipython",
    "version": 3
   },
   "file_extension": ".py",
   "mimetype": "text/x-python",
   "name": "python",
   "nbconvert_exporter": "python",
   "pygments_lexer": "ipython3",
   "version": "3.7.6"
  }
 },
 "nbformat": 4,
 "nbformat_minor": 4
}
