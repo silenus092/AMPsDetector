{
 "cells": [
  {
   "cell_type": "code",
   "execution_count": 10,
   "metadata": {},
   "outputs": [],
   "source": [
    "from Bio import SeqIO\n",
    "from Bio.SeqIO.FastaIO import SimpleFastaParser\n",
    "from io import StringIO\n",
    "from gzip import open as gzopen\n",
    "from Bio import SeqIO\n",
    "import numpy as np\n",
    "#import matplotlib.pyplot as plt\n",
    "import os \n",
    "import pandas as pd\n",
    "\n",
    "pd.options.display.max_columns = None\n",
    "#pd.options.display.max_rows = None"
   ]
  },
  {
   "cell_type": "markdown",
   "metadata": {},
   "source": [
    "# Step:1 Extract AMPs and Non AMPs\n"
   ]
  },
  {
   "cell_type": "code",
   "execution_count": 6,
   "metadata": {},
   "outputs": [],
   "source": [
    "\n",
    "amp_DB_70_fasta = \"../datasets/fasta/AMP.nr70.fasta\"\n",
    "amp_DB_80_fasta = \"../datasets/fasta/AMP.nr80.fasta\"\n",
    "amp_DB_90_fasta = \"../datasets/fasta/AMP.nr90.fasta\"\n",
    "\n",
    "amp_70_csv = \"../datasets/newcluster/AMP.nr70.csv\"\n",
    "amp_80_csv = \"../datasets/newcluster/AMP.nr80.csv\"\n",
    "amp_90_csv = \"../datasets/newcluster/AMP.nr90.csv\"\n",
    "\n",
    "save_non_AMPs_path='/home/kongkitimanonk/SCRATCH_NOBAK/datasets/phase2/non_AMPs.csv'\n"
   ]
  },
  {
   "cell_type": "markdown",
   "metadata": {},
   "source": [
    "## AMPs cluster 70 "
   ]
  },
  {
   "cell_type": "code",
   "execution_count": 49,
   "metadata": {},
   "outputs": [
    {
     "data": {
      "text/plain": [
       "7580"
      ]
     },
     "execution_count": 49,
     "metadata": {},
     "output_type": "execute_result"
    }
   ],
   "source": [
    "sizes = [len(rec) for rec in SeqIO.parse(amp_DB_70_fasta, \"fasta\")]\n",
    "len(sizes)"
   ]
  },
  {
   "cell_type": "code",
   "execution_count": 41,
   "metadata": {},
   "outputs": [],
   "source": [
    "lengths = map(len, SeqIO.parse(amp_DB_70_fasta, 'fasta'))\n",
    "df = pd.Series([x for x in lengths], name=\"length\").to_frame()"
   ]
  },
  {
   "cell_type": "code",
   "execution_count": 42,
   "metadata": {},
   "outputs": [
    {
     "data": {
      "text/plain": [
       "count    7580.000000\n",
       "mean       60.546174\n",
       "std       114.461391\n",
       "min        11.000000\n",
       "25%        18.000000\n",
       "50%        30.000000\n",
       "75%        66.000000\n",
       "max      2337.000000\n",
       "Name: length, dtype: float64"
      ]
     },
     "execution_count": 42,
     "metadata": {},
     "output_type": "execute_result"
    }
   ],
   "source": [
    "df.length.describe()"
   ]
  },
  {
   "cell_type": "code",
   "execution_count": 43,
   "metadata": {},
   "outputs": [
    {
     "data": {
      "text/html": [
       "<div>\n",
       "<style scoped>\n",
       "    .dataframe tbody tr th:only-of-type {\n",
       "        vertical-align: middle;\n",
       "    }\n",
       "\n",
       "    .dataframe tbody tr th {\n",
       "        vertical-align: top;\n",
       "    }\n",
       "\n",
       "    .dataframe thead th {\n",
       "        text-align: right;\n",
       "    }\n",
       "</style>\n",
       "<table border=\"1\" class=\"dataframe\">\n",
       "  <thead>\n",
       "    <tr style=\"text-align: right;\">\n",
       "      <th></th>\n",
       "      <th>length</th>\n",
       "    </tr>\n",
       "  </thead>\n",
       "  <tbody>\n",
       "    <tr>\n",
       "      <th>0</th>\n",
       "      <td>2337</td>\n",
       "    </tr>\n",
       "    <tr>\n",
       "      <th>1</th>\n",
       "      <td>2319</td>\n",
       "    </tr>\n",
       "    <tr>\n",
       "      <th>2</th>\n",
       "      <td>2237</td>\n",
       "    </tr>\n",
       "    <tr>\n",
       "      <th>3</th>\n",
       "      <td>1619</td>\n",
       "    </tr>\n",
       "    <tr>\n",
       "      <th>4</th>\n",
       "      <td>1564</td>\n",
       "    </tr>\n",
       "    <tr>\n",
       "      <th>...</th>\n",
       "      <td>...</td>\n",
       "    </tr>\n",
       "    <tr>\n",
       "      <th>7575</th>\n",
       "      <td>11</td>\n",
       "    </tr>\n",
       "    <tr>\n",
       "      <th>7576</th>\n",
       "      <td>11</td>\n",
       "    </tr>\n",
       "    <tr>\n",
       "      <th>7577</th>\n",
       "      <td>11</td>\n",
       "    </tr>\n",
       "    <tr>\n",
       "      <th>7578</th>\n",
       "      <td>11</td>\n",
       "    </tr>\n",
       "    <tr>\n",
       "      <th>7579</th>\n",
       "      <td>11</td>\n",
       "    </tr>\n",
       "  </tbody>\n",
       "</table>\n",
       "<p>7580 rows × 1 columns</p>\n",
       "</div>"
      ],
      "text/plain": [
       "      length\n",
       "0       2337\n",
       "1       2319\n",
       "2       2237\n",
       "3       1619\n",
       "4       1564\n",
       "...      ...\n",
       "7575      11\n",
       "7576      11\n",
       "7577      11\n",
       "7578      11\n",
       "7579      11\n",
       "\n",
       "[7580 rows x 1 columns]"
      ]
     },
     "execution_count": 43,
     "metadata": {},
     "output_type": "execute_result"
    }
   ],
   "source": [
    "df"
   ]
  },
  {
   "cell_type": "code",
   "execution_count": 14,
   "metadata": {},
   "outputs": [
    {
     "data": {
      "text/html": [
       "<div>\n",
       "<style scoped>\n",
       "    .dataframe tbody tr th:only-of-type {\n",
       "        vertical-align: middle;\n",
       "    }\n",
       "\n",
       "    .dataframe tbody tr th {\n",
       "        vertical-align: top;\n",
       "    }\n",
       "\n",
       "    .dataframe thead th {\n",
       "        text-align: right;\n",
       "    }\n",
       "</style>\n",
       "<table border=\"1\" class=\"dataframe\">\n",
       "  <thead>\n",
       "    <tr style=\"text-align: right;\">\n",
       "      <th></th>\n",
       "      <th>length</th>\n",
       "      <th>count</th>\n",
       "    </tr>\n",
       "  </thead>\n",
       "  <tbody>\n",
       "    <tr>\n",
       "      <th>9</th>\n",
       "      <td>20</td>\n",
       "      <td>514</td>\n",
       "    </tr>\n",
       "    <tr>\n",
       "      <th>4</th>\n",
       "      <td>15</td>\n",
       "      <td>375</td>\n",
       "    </tr>\n",
       "    <tr>\n",
       "      <th>2</th>\n",
       "      <td>13</td>\n",
       "      <td>369</td>\n",
       "    </tr>\n",
       "    <tr>\n",
       "      <th>1</th>\n",
       "      <td>12</td>\n",
       "      <td>345</td>\n",
       "    </tr>\n",
       "    <tr>\n",
       "      <th>7</th>\n",
       "      <td>18</td>\n",
       "      <td>270</td>\n",
       "    </tr>\n",
       "    <tr>\n",
       "      <th>...</th>\n",
       "      <td>...</td>\n",
       "      <td>...</td>\n",
       "    </tr>\n",
       "    <tr>\n",
       "      <th>269</th>\n",
       "      <td>320</td>\n",
       "      <td>1</td>\n",
       "    </tr>\n",
       "    <tr>\n",
       "      <th>270</th>\n",
       "      <td>321</td>\n",
       "      <td>1</td>\n",
       "    </tr>\n",
       "    <tr>\n",
       "      <th>271</th>\n",
       "      <td>322</td>\n",
       "      <td>1</td>\n",
       "    </tr>\n",
       "    <tr>\n",
       "      <th>272</th>\n",
       "      <td>323</td>\n",
       "      <td>1</td>\n",
       "    </tr>\n",
       "    <tr>\n",
       "      <th>424</th>\n",
       "      <td>2337</td>\n",
       "      <td>1</td>\n",
       "    </tr>\n",
       "  </tbody>\n",
       "</table>\n",
       "<p>425 rows × 2 columns</p>\n",
       "</div>"
      ],
      "text/plain": [
       "     length  count\n",
       "9        20    514\n",
       "4        15    375\n",
       "2        13    369\n",
       "1        12    345\n",
       "7        18    270\n",
       "..      ...    ...\n",
       "269     320      1\n",
       "270     321      1\n",
       "271     322      1\n",
       "272     323      1\n",
       "424    2337      1\n",
       "\n",
       "[425 rows x 2 columns]"
      ]
     },
     "execution_count": 14,
     "metadata": {},
     "output_type": "execute_result"
    }
   ],
   "source": [
    "df_count=df.groupby('length').length.count().reset_index(name='count').sort_values(['count'], ascending=False)\n",
    "#df_count.to_csv('df_count.csv', index=False)\n",
    "_tmp_df_count =df_count\n",
    "_tmp_df_count = _tmp_df_count.astype({\"length\": int}) \n",
    "_tmp_df_count"
   ]
  },
  {
   "cell_type": "code",
   "execution_count": 20,
   "metadata": {},
   "outputs": [
    {
     "data": {
      "text/html": [
       "<div>\n",
       "<style scoped>\n",
       "    .dataframe tbody tr th:only-of-type {\n",
       "        vertical-align: middle;\n",
       "    }\n",
       "\n",
       "    .dataframe tbody tr th {\n",
       "        vertical-align: top;\n",
       "    }\n",
       "\n",
       "    .dataframe thead th {\n",
       "        text-align: right;\n",
       "    }\n",
       "</style>\n",
       "<table border=\"1\" class=\"dataframe\">\n",
       "  <thead>\n",
       "    <tr style=\"text-align: right;\">\n",
       "      <th></th>\n",
       "      <th>length</th>\n",
       "      <th>count</th>\n",
       "    </tr>\n",
       "  </thead>\n",
       "  <tbody>\n",
       "    <tr>\n",
       "      <th>9</th>\n",
       "      <td>20</td>\n",
       "      <td>514</td>\n",
       "    </tr>\n",
       "    <tr>\n",
       "      <th>4</th>\n",
       "      <td>15</td>\n",
       "      <td>375</td>\n",
       "    </tr>\n",
       "    <tr>\n",
       "      <th>2</th>\n",
       "      <td>13</td>\n",
       "      <td>369</td>\n",
       "    </tr>\n",
       "    <tr>\n",
       "      <th>1</th>\n",
       "      <td>12</td>\n",
       "      <td>345</td>\n",
       "    </tr>\n",
       "    <tr>\n",
       "      <th>7</th>\n",
       "      <td>18</td>\n",
       "      <td>270</td>\n",
       "    </tr>\n",
       "    <tr>\n",
       "      <th>...</th>\n",
       "      <td>...</td>\n",
       "      <td>...</td>\n",
       "    </tr>\n",
       "    <tr>\n",
       "      <th>70</th>\n",
       "      <td>81</td>\n",
       "      <td>25</td>\n",
       "    </tr>\n",
       "    <tr>\n",
       "      <th>47</th>\n",
       "      <td>58</td>\n",
       "      <td>24</td>\n",
       "    </tr>\n",
       "    <tr>\n",
       "      <th>79</th>\n",
       "      <td>90</td>\n",
       "      <td>24</td>\n",
       "    </tr>\n",
       "    <tr>\n",
       "      <th>88</th>\n",
       "      <td>99</td>\n",
       "      <td>20</td>\n",
       "    </tr>\n",
       "    <tr>\n",
       "      <th>86</th>\n",
       "      <td>97</td>\n",
       "      <td>20</td>\n",
       "    </tr>\n",
       "  </tbody>\n",
       "</table>\n",
       "<p>90 rows × 2 columns</p>\n",
       "</div>"
      ],
      "text/plain": [
       "    length  count\n",
       "9       20    514\n",
       "4       15    375\n",
       "2       13    369\n",
       "1       12    345\n",
       "7       18    270\n",
       "..     ...    ...\n",
       "70      81     25\n",
       "47      58     24\n",
       "79      90     24\n",
       "88      99     20\n",
       "86      97     20\n",
       "\n",
       "[90 rows x 2 columns]"
      ]
     },
     "execution_count": 20,
     "metadata": {},
     "output_type": "execute_result"
    }
   ],
   "source": [
    "_tmp_df_count[_tmp_df_count['length'] <= 100]"
   ]
  },
  {
   "cell_type": "markdown",
   "metadata": {},
   "source": [
    "write to csv file"
   ]
  },
  {
   "cell_type": "code",
   "execution_count": 53,
   "metadata": {},
   "outputs": [
    {
     "name": "stdout",
     "output_type": "stream",
     "text": [
      "7580\n"
     ]
    }
   ],
   "source": [
    "AMPs_70_csv = open(amp_70_csv, 'w')\n",
    "AMPs_70_csv.write('\"ID\",\"Sequence\",\"length\"'+ '\\n')\n",
    "count = 0\n",
    "for record in SeqIO.parse(amp_DB_70_fasta, \"fasta\"):\n",
    "    count = count + 1\n",
    "    AMPs_70_csv.write('\"'+str(record.id)+'\",\"'+str(record.seq)+'\",\"' + str(len(record.seq))+'\"' + '\\n')\n",
    "print(count)\n",
    "# with open(amp_DB_70_fasta) as amps_record:\n",
    "#    for _name, _seq in  SimpleFastaParser(amps_record):\n",
    "#        AMPs_70_csv.write('\"'+_name+'\",\"'+_seq+'\",\"' + str(len(_seq))+'\"' + '\\n')\n",
    "AMPs_70_csv.close()"
   ]
  },
  {
   "cell_type": "markdown",
   "metadata": {},
   "source": [
    "## AMPs cluster 80 "
   ]
  },
  {
   "cell_type": "code",
   "execution_count": 58,
   "metadata": {},
   "outputs": [
    {
     "data": {
      "text/plain": [
       "count    9600.000000\n",
       "mean       57.365000\n",
       "std       107.811655\n",
       "min        11.000000\n",
       "25%        17.000000\n",
       "50%        28.000000\n",
       "75%        64.000000\n",
       "max      2337.000000\n",
       "Name: length, dtype: float64"
      ]
     },
     "execution_count": 58,
     "metadata": {},
     "output_type": "execute_result"
    }
   ],
   "source": [
    "lengths = map(len, SeqIO.parse(amp_DB_80_fasta, 'fasta'))\n",
    "df = pd.Series([x for x in lengths], name=\"length\").to_frame()\n",
    "df.length.describe()"
   ]
  },
  {
   "cell_type": "code",
   "execution_count": 59,
   "metadata": {},
   "outputs": [
    {
     "data": {
      "text/html": [
       "<div>\n",
       "<style scoped>\n",
       "    .dataframe tbody tr th:only-of-type {\n",
       "        vertical-align: middle;\n",
       "    }\n",
       "\n",
       "    .dataframe tbody tr th {\n",
       "        vertical-align: top;\n",
       "    }\n",
       "\n",
       "    .dataframe thead th {\n",
       "        text-align: right;\n",
       "    }\n",
       "</style>\n",
       "<table border=\"1\" class=\"dataframe\">\n",
       "  <thead>\n",
       "    <tr style=\"text-align: right;\">\n",
       "      <th></th>\n",
       "      <th>length</th>\n",
       "      <th>count</th>\n",
       "    </tr>\n",
       "  </thead>\n",
       "  <tbody>\n",
       "    <tr>\n",
       "      <th>9</th>\n",
       "      <td>20</td>\n",
       "      <td>552</td>\n",
       "    </tr>\n",
       "    <tr>\n",
       "      <th>2</th>\n",
       "      <td>13</td>\n",
       "      <td>500</td>\n",
       "    </tr>\n",
       "    <tr>\n",
       "      <th>4</th>\n",
       "      <td>15</td>\n",
       "      <td>495</td>\n",
       "    </tr>\n",
       "    <tr>\n",
       "      <th>1</th>\n",
       "      <td>12</td>\n",
       "      <td>484</td>\n",
       "    </tr>\n",
       "    <tr>\n",
       "      <th>7</th>\n",
       "      <td>18</td>\n",
       "      <td>385</td>\n",
       "    </tr>\n",
       "    <tr>\n",
       "      <th>...</th>\n",
       "      <td>...</td>\n",
       "      <td>...</td>\n",
       "    </tr>\n",
       "    <tr>\n",
       "      <th>78</th>\n",
       "      <td>89</td>\n",
       "      <td>29</td>\n",
       "    </tr>\n",
       "    <tr>\n",
       "      <th>70</th>\n",
       "      <td>81</td>\n",
       "      <td>28</td>\n",
       "    </tr>\n",
       "    <tr>\n",
       "      <th>79</th>\n",
       "      <td>90</td>\n",
       "      <td>26</td>\n",
       "    </tr>\n",
       "    <tr>\n",
       "      <th>88</th>\n",
       "      <td>99</td>\n",
       "      <td>23</td>\n",
       "    </tr>\n",
       "    <tr>\n",
       "      <th>86</th>\n",
       "      <td>97</td>\n",
       "      <td>23</td>\n",
       "    </tr>\n",
       "  </tbody>\n",
       "</table>\n",
       "<p>90 rows × 2 columns</p>\n",
       "</div>"
      ],
      "text/plain": [
       "    length  count\n",
       "9       20    552\n",
       "2       13    500\n",
       "4       15    495\n",
       "1       12    484\n",
       "7       18    385\n",
       "..     ...    ...\n",
       "78      89     29\n",
       "70      81     28\n",
       "79      90     26\n",
       "88      99     23\n",
       "86      97     23\n",
       "\n",
       "[90 rows x 2 columns]"
      ]
     },
     "execution_count": 59,
     "metadata": {},
     "output_type": "execute_result"
    }
   ],
   "source": [
    "df_count=df.groupby('length').length.count().reset_index(name='count').sort_values(['count'], ascending=False)\n",
    "#df_count.to_csv('df_count.csv', index=False)\n",
    "_tmp_df_count =df_count\n",
    "_tmp_df_count = _tmp_df_count.astype({\"length\": int}) \n",
    "_tmp_df_count[_tmp_df_count['length'] <= 100]"
   ]
  },
  {
   "cell_type": "code",
   "execution_count": 62,
   "metadata": {},
   "outputs": [
    {
     "name": "stdout",
     "output_type": "stream",
     "text": [
      "9600\n"
     ]
    }
   ],
   "source": [
    "AMPs_80_csv = open(amp_80_csv, 'w')\n",
    "AMPs_80_csv.write('\"ID\",\"Sequence\",\"length\"'+ '\\n')\n",
    "for record in SeqIO.parse(amp_DB_80_fasta, \"fasta\"):\n",
    "    AMPs_80_csv.write('\"'+str(record.id)+'\",\"'+str(record.seq)+'\",\"' + str(len(record.seq))+'\"' + '\\n')\n",
    "AMPs_80_csv.close()\n"
   ]
  },
  {
   "cell_type": "markdown",
   "metadata": {},
   "source": [
    "## AMPs cluster 90 "
   ]
  },
  {
   "cell_type": "code",
   "execution_count": 66,
   "metadata": {},
   "outputs": [
    {
     "data": {
      "text/plain": [
       "count    13131.000000\n",
       "mean        52.737263\n",
       "std         98.994318\n",
       "min         11.000000\n",
       "25%         17.000000\n",
       "50%         26.000000\n",
       "75%         58.500000\n",
       "max       2337.000000\n",
       "Name: length, dtype: float64"
      ]
     },
     "execution_count": 66,
     "metadata": {},
     "output_type": "execute_result"
    }
   ],
   "source": [
    "lengths = map(len, SeqIO.parse(amp_DB_90_fasta, 'fasta'))\n",
    "df = pd.Series([x for x in lengths], name=\"length\").to_frame()\n",
    "df.length.describe()"
   ]
  },
  {
   "cell_type": "code",
   "execution_count": 67,
   "metadata": {},
   "outputs": [],
   "source": [
    "AMPs_90_csv = open(amp_90_csv, 'w')\n",
    "AMPs_90_csv.write('\"ID\",\"Sequence\",\"length\"'+ '\\n')\n",
    "with open(amp_DB_90_fasta) as amps_record:\n",
    "    for _name, _seq in  SimpleFastaParser(amps_record):\n",
    "        AMPs_90_csv.write('\"'+_name+'\",\"'+_seq+'\",\"' + str(len(_seq))+'\"' + '\\n')\n",
    "    AMPs_90_csv.close()"
   ]
  },
  {
   "cell_type": "markdown",
   "metadata": {},
   "source": [
    "## Non AMPs"
   ]
  },
  {
   "cell_type": "markdown",
   "metadata": {},
   "source": [
    "Cut seq.length that beyond the 2350 to reduce the Uniref50 file size"
   ]
  },
  {
   "cell_type": "code",
   "execution_count": null,
   "metadata": {},
   "outputs": [],
   "source": [
    "!seqkit --threads 20 -M 2350 /home/kongkitimanonk/SCRATCH_NOBAK/datasets/phase2/uniref50.fasta.gz > /home/kongkitimanonk/SCRATCH_NOBAK/datasets/phase2/uniref50.len2350.fasta"
   ]
  },
  {
   "cell_type": "markdown",
   "metadata": {},
   "source": [
    "Start to extract exact lenght and amount of each seq."
   ]
  },
  {
   "cell_type": "code",
   "execution_count": 10,
   "metadata": {
    "tags": []
   },
   "outputs": [
    {
     "name": "stdout",
     "output_type": "stream",
     "text": [
      "stop\n"
     ]
    }
   ],
   "source": [
    "NonAMPs_csv = open(non_AMPs_path, 'w')\n",
    "NonAMPs_csv.write('\"ID\",\"Sequence\",\"length\"'+ '\\n')\n",
    "with open(uniref50) as record_len2400:\n",
    "      for _name, _seq in  SimpleFastaParser(record_len2400):\n",
    "           seqLen = len(_seq)\n",
    "           #update value\n",
    "           _tmp_row = _tmp_df_count.loc[ _tmp_df_count['length'] == seqLen]\n",
    "           if not _tmp_row.empty and  _tmp_row['count'].values > 0:\n",
    "               #print (str(_tmp_row['length']) +\" \"+ str(_tmp_row['count']))\n",
    "               NonAMPs_csv.write('\"'+_name+'\",\"'_seq+'\",\"'+ str(seqLen)+'\"' + '\\n')\n",
    "               _tmp_df_count.at[ _tmp_row.index,'count']= _tmp_row['count'] - 1\n",
    "           else:\n",
    "               if _tmp_df_count['count'].values.sum() == 0:\n",
    "                   print(\"stop\")\n",
    "                   break\n",
    "\n",
    "        \n"
   ]
  },
  {
   "cell_type": "code",
   "execution_count": null,
   "metadata": {
    "tags": [
     "outputPrepend"
    ]
   },
   "outputs": [],
   "source": []
  },
  {
   "cell_type": "code",
   "execution_count": null,
   "metadata": {},
   "outputs": [],
   "source": [
    "## Split file \n",
    "\n",
    "def batch_iterator(iterator, batch_size):\n",
    "    \"\"\"Returns lists of length batch_size.\n",
    "\n",
    "    This can be used on any iterator, for example to batch up\n",
    "    SeqRecord objects from Bio.SeqIO.parse(...), or to batch\n",
    "    Alignment objects from Bio.AlignIO.parse(...), or simply\n",
    "    lines from a file handle.\n",
    "\n",
    "    This is a generator function, and it returns lists of the\n",
    "    entries from the supplied iterator.  Each list will have\n",
    "    batch_size entries, although the final list may be shorter.\n",
    "    \"\"\"\n",
    "    entry = True  # Make sure we loop once\n",
    "    while entry:\n",
    "        batch = []\n",
    "        while len(batch) < batch_size:\n",
    "            try:\n",
    "                entry =  next(iterator)\n",
    "            except StopIteration:\n",
    "                entry = None\n",
    "            if entry is None:\n",
    "                # End of file\n",
    "                break\n",
    "            batch.append(entry)\n",
    "        if batch:\n",
    "            yield batch\n",
    "\"\"\"\n",
    "record_iter = SeqIO.parse(gzopen(\"uniref50.fasta.gz\", \"rt\"), \"fasta\")\n",
    "for i, batch in enumerate(batch_iterator(record_iter, 200000)):\n",
    "    filename = \"group_%i.fasta\" % (i + 1)\n",
    "    with open(filename, \"w\") as handle:\n",
    "        count = SeqIO.write(batch, handle, \"fasta\")\n",
    "    print(\"Wrote %i records to %s\" % (count, filename))\n",
    "\"\"\"            "
   ]
  },
  {
   "cell_type": "markdown",
   "metadata": {},
   "source": [
    "#  Step:2 Data Cleaning"
   ]
  },
  {
   "cell_type": "code",
   "execution_count": null,
   "metadata": {},
   "outputs": [],
   "source": [
    "!pip install ipympl\n",
    "\"\"\"\n",
    "conda install -y nodejs\n",
    "pip install --upgrade jupyterlab\n",
    "jupyter labextension install @jupyter-widgets/jupyterlab-manager\n",
    "jupyter labextension install jupyter-matplotlib\n",
    "jupyter nbextension enable --py widgetsnbextension\n",
    "\"\"\""
   ]
  },
  {
   "cell_type": "code",
   "execution_count": 31,
   "metadata": {},
   "outputs": [],
   "source": [
    "import csv\n",
    "import matplotlib.pyplot as plt\n",
    "from collections import Counter\n",
    "%matplotlib inline\n",
    "#%matplotlib widget"
   ]
  },
  {
   "cell_type": "markdown",
   "metadata": {},
   "source": [
    "Change and Run three times for different number of cluster "
   ]
  },
  {
   "cell_type": "code",
   "execution_count": 156,
   "metadata": {},
   "outputs": [],
   "source": [
    "non_AMPs_path='../datasets/non_AMPs.csv'\n",
    "\n",
    "#NonAMPs_nr80_csv = open('../datasets/newcluster/NonAMPs.nr80.csv', 'w')\n",
    "#NonAMPs_nr90_csv = open('../datasets/newcluster/NonAMPs.nr90.csv', 'w')\n",
    "NonAMPs_nr70_csv = open('../datasets/newcluster/NonAMPs.nr70.csv', 'w')\n"
   ]
  },
  {
   "cell_type": "code",
   "execution_count": 157,
   "metadata": {},
   "outputs": [],
   "source": [
    "#nonAMPs_df=pd.read_csv(non_AMPs_path,sep=',',header=0,quoting=csv.QUOTE_ALL)\n",
    "nonAMPs_df=pd.read_csv(non_AMPs_path,sep=',',header=0)\n",
    "AMPs_df=pd.read_csv(amp_70_csv,sep=',',header=0,quoting=csv.QUOTE_ALL)  #<---- changee this line amp_70_csv amp_80_csv"
   ]
  },
  {
   "cell_type": "code",
   "execution_count": 158,
   "metadata": {},
   "outputs": [
    {
     "data": {
      "text/html": [
       "<div>\n",
       "<style scoped>\n",
       "    .dataframe tbody tr th:only-of-type {\n",
       "        vertical-align: middle;\n",
       "    }\n",
       "\n",
       "    .dataframe tbody tr th {\n",
       "        vertical-align: top;\n",
       "    }\n",
       "\n",
       "    .dataframe thead th {\n",
       "        text-align: right;\n",
       "    }\n",
       "</style>\n",
       "<table border=\"1\" class=\"dataframe\">\n",
       "  <thead>\n",
       "    <tr style=\"text-align: right;\">\n",
       "      <th></th>\n",
       "      <th>ID</th>\n",
       "      <th>Sequence</th>\n",
       "      <th>length</th>\n",
       "    </tr>\n",
       "  </thead>\n",
       "  <tbody>\n",
       "    <tr>\n",
       "      <th>0</th>\n",
       "      <td>EN92515250|C|B3FJD7|phage</td>\n",
       "      <td>MAKKSVPLRKPAGSDGQGNIKVPGGPVVLDLGDFDDIFGPMESESP...</td>\n",
       "      <td>2337</td>\n",
       "    </tr>\n",
       "    <tr>\n",
       "      <th>1</th>\n",
       "      <td>EN54061055|C|F8SJ56|phage</td>\n",
       "      <td>MASKKTTLPKPKGINPQGSIVQLDLDDFDDLFDEDFGLPKKNSPYT...</td>\n",
       "      <td>2319</td>\n",
       "    </tr>\n",
       "    <tr>\n",
       "      <th>2</th>\n",
       "      <td>EN4815120|C|Q8SCY1|phage</td>\n",
       "      <td>MAKKVTLPKGQTGATGTTLGQAGNILDLSDVDDIFGDTPKAKKGSP...</td>\n",
       "      <td>2237</td>\n",
       "    </tr>\n",
       "    <tr>\n",
       "      <th>3</th>\n",
       "      <td>EN3016141|D|D2J8A7|bacteriocin</td>\n",
       "      <td>MAETIKGLRIDLSLKDMGVGRSITELKRSFRTLNSDLKVSSKNFEY...</td>\n",
       "      <td>1619</td>\n",
       "    </tr>\n",
       "    <tr>\n",
       "      <th>4</th>\n",
       "      <td>EN9175723|BD|Q93IM3|bacteriocin</td>\n",
       "      <td>MAKKKNTYKVPSIIALTLAGTALTTHHAQAADKTQDQSTNKNILND...</td>\n",
       "      <td>1564</td>\n",
       "    </tr>\n",
       "    <tr>\n",
       "      <th>...</th>\n",
       "      <td>...</td>\n",
       "      <td>...</td>\n",
       "      <td>...</td>\n",
       "    </tr>\n",
       "    <tr>\n",
       "      <th>7703</th>\n",
       "      <td>E12119|Tigerin-OL1|green cascade frog (Odorran...</td>\n",
       "      <td>ICIMIPISRCY</td>\n",
       "      <td>11</td>\n",
       "    </tr>\n",
       "    <tr>\n",
       "      <th>7704</th>\n",
       "      <td>L01A001285|Sequence 18 from patent US 6743769</td>\n",
       "      <td>KFKHYFFWKYK</td>\n",
       "      <td>11</td>\n",
       "    </tr>\n",
       "    <tr>\n",
       "      <th>7705</th>\n",
       "      <td>L01A001283|Sequence 20 from patent US 6743769</td>\n",
       "      <td>KWKWWWWWKWK</td>\n",
       "      <td>11</td>\n",
       "    </tr>\n",
       "    <tr>\n",
       "      <th>7706</th>\n",
       "      <td>L01A001366|Sequence 1 from patent US 6696559</td>\n",
       "      <td>YXXIQXWXHYR</td>\n",
       "      <td>11</td>\n",
       "    </tr>\n",
       "    <tr>\n",
       "      <th>7707</th>\n",
       "      <td>LFB0116|milkampdb</td>\n",
       "      <td>EEWQWEMEELG</td>\n",
       "      <td>11</td>\n",
       "    </tr>\n",
       "  </tbody>\n",
       "</table>\n",
       "<p>7708 rows × 3 columns</p>\n",
       "</div>"
      ],
      "text/plain": [
       "                                                     ID  \\\n",
       "0                             EN92515250|C|B3FJD7|phage   \n",
       "1                             EN54061055|C|F8SJ56|phage   \n",
       "2                              EN4815120|C|Q8SCY1|phage   \n",
       "3                        EN3016141|D|D2J8A7|bacteriocin   \n",
       "4                       EN9175723|BD|Q93IM3|bacteriocin   \n",
       "...                                                 ...   \n",
       "7703  E12119|Tigerin-OL1|green cascade frog (Odorran...   \n",
       "7704      L01A001285|Sequence 18 from patent US 6743769   \n",
       "7705      L01A001283|Sequence 20 from patent US 6743769   \n",
       "7706       L01A001366|Sequence 1 from patent US 6696559   \n",
       "7707                                  LFB0116|milkampdb   \n",
       "\n",
       "                                               Sequence  length  \n",
       "0     MAKKSVPLRKPAGSDGQGNIKVPGGPVVLDLGDFDDIFGPMESESP...    2337  \n",
       "1     MASKKTTLPKPKGINPQGSIVQLDLDDFDDLFDEDFGLPKKNSPYT...    2319  \n",
       "2     MAKKVTLPKGQTGATGTTLGQAGNILDLSDVDDIFGDTPKAKKGSP...    2237  \n",
       "3     MAETIKGLRIDLSLKDMGVGRSITELKRSFRTLNSDLKVSSKNFEY...    1619  \n",
       "4     MAKKKNTYKVPSIIALTLAGTALTTHHAQAADKTQDQSTNKNILND...    1564  \n",
       "...                                                 ...     ...  \n",
       "7703                                        ICIMIPISRCY      11  \n",
       "7704                                        KFKHYFFWKYK      11  \n",
       "7705                                        KWKWWWWWKWK      11  \n",
       "7706                                        YXXIQXWXHYR      11  \n",
       "7707                                        EEWQWEMEELG      11  \n",
       "\n",
       "[7708 rows x 3 columns]"
      ]
     },
     "execution_count": 158,
     "metadata": {},
     "output_type": "execute_result"
    }
   ],
   "source": [
    "AMPs_df"
   ]
  },
  {
   "cell_type": "code",
   "execution_count": 159,
   "metadata": {},
   "outputs": [
    {
     "data": {
      "text/html": [
       "<div>\n",
       "<style scoped>\n",
       "    .dataframe tbody tr th:only-of-type {\n",
       "        vertical-align: middle;\n",
       "    }\n",
       "\n",
       "    .dataframe tbody tr th {\n",
       "        vertical-align: top;\n",
       "    }\n",
       "\n",
       "    .dataframe thead th {\n",
       "        text-align: right;\n",
       "    }\n",
       "</style>\n",
       "<table border=\"1\" class=\"dataframe\">\n",
       "  <thead>\n",
       "    <tr style=\"text-align: right;\">\n",
       "      <th></th>\n",
       "      <th>ID</th>\n",
       "      <th>Sequence</th>\n",
       "      <th>length</th>\n",
       "    </tr>\n",
       "  </thead>\n",
       "  <tbody>\n",
       "    <tr>\n",
       "      <th>0</th>\n",
       "      <td>UniRef50_A0A672ZWI7 Ig-like domain-containing ...</td>\n",
       "      <td>MVIHQRHTSDESFSSSPVEIRITAATPIPELAEERSAEKPPAVTET...</td>\n",
       "      <td>189</td>\n",
       "    </tr>\n",
       "    <tr>\n",
       "      <th>1</th>\n",
       "      <td>UniRef50_A0A3Q2PZR6 Uncharacterized protein n=...</td>\n",
       "      <td>MSTQAPTFTQPLQSVVALEGSAATFEAQVSGSPVPEVSWFRDGQVL...</td>\n",
       "      <td>295</td>\n",
       "    </tr>\n",
       "    <tr>\n",
       "      <th>2</th>\n",
       "      <td>UniRef50_V9IMB4 Titin n=21 Tax=Apis TaxID=7459...</td>\n",
       "      <td>MWMEVGRVNADTQKLNIRDLQENHMYLIRIFAKNEVGLSDPLESDE...</td>\n",
       "      <td>121</td>\n",
       "    </tr>\n",
       "    <tr>\n",
       "      <th>3</th>\n",
       "      <td>UniRef50_B4IRR3 GL21409 (Fragment) n=18 Tax=Dr...</td>\n",
       "      <td>IIHPLEDVSVTKGENAIFELELSKGDALVKWFKNGKELVFNDRVQL...</td>\n",
       "      <td>320</td>\n",
       "    </tr>\n",
       "    <tr>\n",
       "      <th>4</th>\n",
       "      <td>UniRef50_UPI00083D1E21 titin-like n=26 Tax=Apo...</td>\n",
       "      <td>HDFGIVILDILYCYEENSGVYECRAFNKYGEDTTKATLKCFSKASL...</td>\n",
       "      <td>65</td>\n",
       "    </tr>\n",
       "    <tr>\n",
       "      <th>...</th>\n",
       "      <td>...</td>\n",
       "      <td>...</td>\n",
       "      <td>...</td>\n",
       "    </tr>\n",
       "    <tr>\n",
       "      <th>21214</th>\n",
       "      <td>UniRef50_A0A151HEL5 Zinc finger  C3HC4 type (R...</td>\n",
       "      <td>GLYFRPRRRASS</td>\n",
       "      <td>12</td>\n",
       "    </tr>\n",
       "    <tr>\n",
       "      <th>21215</th>\n",
       "      <td>UniRef50_K2MU79 Retrotransposon hot spot (RHS)...</td>\n",
       "      <td>MESNPMTLVGCG</td>\n",
       "      <td>12</td>\n",
       "    </tr>\n",
       "    <tr>\n",
       "      <th>21216</th>\n",
       "      <td>UniRef50_A0A1E1IUT2 Flagellar calcium-binding ...</td>\n",
       "      <td>IRCVGHWMQAEH</td>\n",
       "      <td>12</td>\n",
       "    </tr>\n",
       "    <tr>\n",
       "      <th>21217</th>\n",
       "      <td>UniRef50_A0A0S4ITT4 Dopa decarboxylase  putati...</td>\n",
       "      <td>APWSASTLHCPG</td>\n",
       "      <td>12</td>\n",
       "    </tr>\n",
       "    <tr>\n",
       "      <th>21218</th>\n",
       "      <td>UniRef50_P86818 [Ala1 Thr6]-phyllokinin n=1 Ta...</td>\n",
       "      <td>APPGFTPFRIY</td>\n",
       "      <td>11</td>\n",
       "    </tr>\n",
       "  </tbody>\n",
       "</table>\n",
       "<p>21219 rows × 3 columns</p>\n",
       "</div>"
      ],
      "text/plain": [
       "                                                      ID  \\\n",
       "0      UniRef50_A0A672ZWI7 Ig-like domain-containing ...   \n",
       "1      UniRef50_A0A3Q2PZR6 Uncharacterized protein n=...   \n",
       "2      UniRef50_V9IMB4 Titin n=21 Tax=Apis TaxID=7459...   \n",
       "3      UniRef50_B4IRR3 GL21409 (Fragment) n=18 Tax=Dr...   \n",
       "4      UniRef50_UPI00083D1E21 titin-like n=26 Tax=Apo...   \n",
       "...                                                  ...   \n",
       "21214  UniRef50_A0A151HEL5 Zinc finger  C3HC4 type (R...   \n",
       "21215  UniRef50_K2MU79 Retrotransposon hot spot (RHS)...   \n",
       "21216  UniRef50_A0A1E1IUT2 Flagellar calcium-binding ...   \n",
       "21217  UniRef50_A0A0S4ITT4 Dopa decarboxylase  putati...   \n",
       "21218  UniRef50_P86818 [Ala1 Thr6]-phyllokinin n=1 Ta...   \n",
       "\n",
       "                                                Sequence  length  \n",
       "0      MVIHQRHTSDESFSSSPVEIRITAATPIPELAEERSAEKPPAVTET...     189  \n",
       "1      MSTQAPTFTQPLQSVVALEGSAATFEAQVSGSPVPEVSWFRDGQVL...     295  \n",
       "2      MWMEVGRVNADTQKLNIRDLQENHMYLIRIFAKNEVGLSDPLESDE...     121  \n",
       "3      IIHPLEDVSVTKGENAIFELELSKGDALVKWFKNGKELVFNDRVQL...     320  \n",
       "4      HDFGIVILDILYCYEENSGVYECRAFNKYGEDTTKATLKCFSKASL...      65  \n",
       "...                                                  ...     ...  \n",
       "21214                                       GLYFRPRRRASS      12  \n",
       "21215                                       MESNPMTLVGCG      12  \n",
       "21216                                       IRCVGHWMQAEH      12  \n",
       "21217                                       APWSASTLHCPG      12  \n",
       "21218                                        APPGFTPFRIY      11  \n",
       "\n",
       "[21219 rows x 3 columns]"
      ]
     },
     "execution_count": 159,
     "metadata": {},
     "output_type": "execute_result"
    }
   ],
   "source": [
    "nonAMPs_df"
   ]
  },
  {
   "cell_type": "markdown",
   "metadata": {},
   "source": [
    "## Cleaning"
   ]
  },
  {
   "cell_type": "code",
   "execution_count": 160,
   "metadata": {},
   "outputs": [],
   "source": [
    "# remove white space\n",
    "nonAMPs_df['ID'] = nonAMPs_df['ID'].str.strip()\n",
    "nonAMPs_df['Sequence'] = nonAMPs_df['Sequence'].str.strip()\n",
    "AMPs_df['ID'] = AMPs_df['ID'].str.strip()\n",
    "AMPs_df['Sequence'] = AMPs_df['Sequence'].str.strip()\n"
   ]
  },
  {
   "cell_type": "code",
   "execution_count": 161,
   "metadata": {},
   "outputs": [],
   "source": [
    "AMPs_df['Sequence'] = AMPs_df['Sequence'].str.upper()\n",
    "nonAMPs_df['Sequence'] = nonAMPs_df['Sequence'].str.upper()"
   ]
  },
  {
   "cell_type": "code",
   "execution_count": 162,
   "metadata": {},
   "outputs": [],
   "source": [
    "## Deduplicate \n",
    "query_list = AMPs_df[\"Sequence\"]\n",
    "nonAMPs_df.drop(nonAMPs_df[nonAMPs_df['Sequence'].isin(query_list)].index , inplace = True)"
   ]
  },
  {
   "cell_type": "code",
   "execution_count": 163,
   "metadata": {},
   "outputs": [
    {
     "data": {
      "text/html": [
       "<div>\n",
       "<style scoped>\n",
       "    .dataframe tbody tr th:only-of-type {\n",
       "        vertical-align: middle;\n",
       "    }\n",
       "\n",
       "    .dataframe tbody tr th {\n",
       "        vertical-align: top;\n",
       "    }\n",
       "\n",
       "    .dataframe thead th {\n",
       "        text-align: right;\n",
       "    }\n",
       "</style>\n",
       "<table border=\"1\" class=\"dataframe\">\n",
       "  <thead>\n",
       "    <tr style=\"text-align: right;\">\n",
       "      <th></th>\n",
       "      <th>ID</th>\n",
       "      <th>Sequence</th>\n",
       "      <th>length</th>\n",
       "    </tr>\n",
       "  </thead>\n",
       "  <tbody>\n",
       "    <tr>\n",
       "      <th>0</th>\n",
       "      <td>UniRef50_A0A672ZWI7 Ig-like domain-containing ...</td>\n",
       "      <td>MVIHQRHTSDESFSSSPVEIRITAATPIPELAEERSAEKPPAVTET...</td>\n",
       "      <td>189</td>\n",
       "    </tr>\n",
       "    <tr>\n",
       "      <th>1</th>\n",
       "      <td>UniRef50_A0A3Q2PZR6 Uncharacterized protein n=...</td>\n",
       "      <td>MSTQAPTFTQPLQSVVALEGSAATFEAQVSGSPVPEVSWFRDGQVL...</td>\n",
       "      <td>295</td>\n",
       "    </tr>\n",
       "    <tr>\n",
       "      <th>2</th>\n",
       "      <td>UniRef50_V9IMB4 Titin n=21 Tax=Apis TaxID=7459...</td>\n",
       "      <td>MWMEVGRVNADTQKLNIRDLQENHMYLIRIFAKNEVGLSDPLESDE...</td>\n",
       "      <td>121</td>\n",
       "    </tr>\n",
       "    <tr>\n",
       "      <th>3</th>\n",
       "      <td>UniRef50_B4IRR3 GL21409 (Fragment) n=18 Tax=Dr...</td>\n",
       "      <td>IIHPLEDVSVTKGENAIFELELSKGDALVKWFKNGKELVFNDRVQL...</td>\n",
       "      <td>320</td>\n",
       "    </tr>\n",
       "    <tr>\n",
       "      <th>4</th>\n",
       "      <td>UniRef50_UPI00083D1E21 titin-like n=26 Tax=Apo...</td>\n",
       "      <td>HDFGIVILDILYCYEENSGVYECRAFNKYGEDTTKATLKCFSKASL...</td>\n",
       "      <td>65</td>\n",
       "    </tr>\n",
       "    <tr>\n",
       "      <th>...</th>\n",
       "      <td>...</td>\n",
       "      <td>...</td>\n",
       "      <td>...</td>\n",
       "    </tr>\n",
       "    <tr>\n",
       "      <th>21214</th>\n",
       "      <td>UniRef50_A0A151HEL5 Zinc finger  C3HC4 type (R...</td>\n",
       "      <td>GLYFRPRRRASS</td>\n",
       "      <td>12</td>\n",
       "    </tr>\n",
       "    <tr>\n",
       "      <th>21215</th>\n",
       "      <td>UniRef50_K2MU79 Retrotransposon hot spot (RHS)...</td>\n",
       "      <td>MESNPMTLVGCG</td>\n",
       "      <td>12</td>\n",
       "    </tr>\n",
       "    <tr>\n",
       "      <th>21216</th>\n",
       "      <td>UniRef50_A0A1E1IUT2 Flagellar calcium-binding ...</td>\n",
       "      <td>IRCVGHWMQAEH</td>\n",
       "      <td>12</td>\n",
       "    </tr>\n",
       "    <tr>\n",
       "      <th>21217</th>\n",
       "      <td>UniRef50_A0A0S4ITT4 Dopa decarboxylase  putati...</td>\n",
       "      <td>APWSASTLHCPG</td>\n",
       "      <td>12</td>\n",
       "    </tr>\n",
       "    <tr>\n",
       "      <th>21218</th>\n",
       "      <td>UniRef50_P86818 [Ala1 Thr6]-phyllokinin n=1 Ta...</td>\n",
       "      <td>APPGFTPFRIY</td>\n",
       "      <td>11</td>\n",
       "    </tr>\n",
       "  </tbody>\n",
       "</table>\n",
       "<p>20968 rows × 3 columns</p>\n",
       "</div>"
      ],
      "text/plain": [
       "                                                      ID  \\\n",
       "0      UniRef50_A0A672ZWI7 Ig-like domain-containing ...   \n",
       "1      UniRef50_A0A3Q2PZR6 Uncharacterized protein n=...   \n",
       "2      UniRef50_V9IMB4 Titin n=21 Tax=Apis TaxID=7459...   \n",
       "3      UniRef50_B4IRR3 GL21409 (Fragment) n=18 Tax=Dr...   \n",
       "4      UniRef50_UPI00083D1E21 titin-like n=26 Tax=Apo...   \n",
       "...                                                  ...   \n",
       "21214  UniRef50_A0A151HEL5 Zinc finger  C3HC4 type (R...   \n",
       "21215  UniRef50_K2MU79 Retrotransposon hot spot (RHS)...   \n",
       "21216  UniRef50_A0A1E1IUT2 Flagellar calcium-binding ...   \n",
       "21217  UniRef50_A0A0S4ITT4 Dopa decarboxylase  putati...   \n",
       "21218  UniRef50_P86818 [Ala1 Thr6]-phyllokinin n=1 Ta...   \n",
       "\n",
       "                                                Sequence  length  \n",
       "0      MVIHQRHTSDESFSSSPVEIRITAATPIPELAEERSAEKPPAVTET...     189  \n",
       "1      MSTQAPTFTQPLQSVVALEGSAATFEAQVSGSPVPEVSWFRDGQVL...     295  \n",
       "2      MWMEVGRVNADTQKLNIRDLQENHMYLIRIFAKNEVGLSDPLESDE...     121  \n",
       "3      IIHPLEDVSVTKGENAIFELELSKGDALVKWFKNGKELVFNDRVQL...     320  \n",
       "4      HDFGIVILDILYCYEENSGVYECRAFNKYGEDTTKATLKCFSKASL...      65  \n",
       "...                                                  ...     ...  \n",
       "21214                                       GLYFRPRRRASS      12  \n",
       "21215                                       MESNPMTLVGCG      12  \n",
       "21216                                       IRCVGHWMQAEH      12  \n",
       "21217                                       APWSASTLHCPG      12  \n",
       "21218                                        APPGFTPFRIY      11  \n",
       "\n",
       "[20968 rows x 3 columns]"
      ]
     },
     "execution_count": 163,
     "metadata": {},
     "output_type": "execute_result"
    }
   ],
   "source": [
    "nonAMPs_df"
   ]
  },
  {
   "cell_type": "markdown",
   "metadata": {},
   "source": [
    "## Data Balancing"
   ]
  },
  {
   "cell_type": "markdown",
   "metadata": {},
   "source": [
    "AMP count"
   ]
  },
  {
   "cell_type": "code",
   "execution_count": 164,
   "metadata": {},
   "outputs": [
    {
     "data": {
      "text/html": [
       "<div>\n",
       "<style scoped>\n",
       "    .dataframe tbody tr th:only-of-type {\n",
       "        vertical-align: middle;\n",
       "    }\n",
       "\n",
       "    .dataframe tbody tr th {\n",
       "        vertical-align: top;\n",
       "    }\n",
       "\n",
       "    .dataframe thead th {\n",
       "        text-align: right;\n",
       "    }\n",
       "</style>\n",
       "<table border=\"1\" class=\"dataframe\">\n",
       "  <thead>\n",
       "    <tr style=\"text-align: right;\">\n",
       "      <th></th>\n",
       "      <th>length</th>\n",
       "      <th>count</th>\n",
       "    </tr>\n",
       "  </thead>\n",
       "  <tbody>\n",
       "    <tr>\n",
       "      <th>9</th>\n",
       "      <td>20</td>\n",
       "      <td>514</td>\n",
       "    </tr>\n",
       "    <tr>\n",
       "      <th>4</th>\n",
       "      <td>15</td>\n",
       "      <td>375</td>\n",
       "    </tr>\n",
       "    <tr>\n",
       "      <th>2</th>\n",
       "      <td>13</td>\n",
       "      <td>369</td>\n",
       "    </tr>\n",
       "    <tr>\n",
       "      <th>1</th>\n",
       "      <td>12</td>\n",
       "      <td>345</td>\n",
       "    </tr>\n",
       "    <tr>\n",
       "      <th>0</th>\n",
       "      <td>11</td>\n",
       "      <td>302</td>\n",
       "    </tr>\n",
       "    <tr>\n",
       "      <th>...</th>\n",
       "      <td>...</td>\n",
       "      <td>...</td>\n",
       "    </tr>\n",
       "    <tr>\n",
       "      <th>269</th>\n",
       "      <td>320</td>\n",
       "      <td>1</td>\n",
       "    </tr>\n",
       "    <tr>\n",
       "      <th>270</th>\n",
       "      <td>321</td>\n",
       "      <td>1</td>\n",
       "    </tr>\n",
       "    <tr>\n",
       "      <th>271</th>\n",
       "      <td>322</td>\n",
       "      <td>1</td>\n",
       "    </tr>\n",
       "    <tr>\n",
       "      <th>272</th>\n",
       "      <td>323</td>\n",
       "      <td>1</td>\n",
       "    </tr>\n",
       "    <tr>\n",
       "      <th>424</th>\n",
       "      <td>2337</td>\n",
       "      <td>1</td>\n",
       "    </tr>\n",
       "  </tbody>\n",
       "</table>\n",
       "<p>425 rows × 2 columns</p>\n",
       "</div>"
      ],
      "text/plain": [
       "     length  count\n",
       "9        20    514\n",
       "4        15    375\n",
       "2        13    369\n",
       "1        12    345\n",
       "0        11    302\n",
       "..      ...    ...\n",
       "269     320      1\n",
       "270     321      1\n",
       "271     322      1\n",
       "272     323      1\n",
       "424    2337      1\n",
       "\n",
       "[425 rows x 2 columns]"
      ]
     },
     "execution_count": 164,
     "metadata": {},
     "output_type": "execute_result"
    }
   ],
   "source": [
    "df_count=AMPs_df.groupby('length').length.count().reset_index(name='count').sort_values(['count'], ascending=False)\n",
    "#df_count.to_csv('df_count.csv', index=False)\n",
    "_tmp_df_count =df_count\n",
    "_tmp_df_count = _tmp_df_count.astype({\"length\": int}) \n",
    "_tmp_df_count"
   ]
  },
  {
   "cell_type": "markdown",
   "metadata": {},
   "source": [
    "Non-AMP  count"
   ]
  },
  {
   "cell_type": "code",
   "execution_count": 165,
   "metadata": {},
   "outputs": [
    {
     "data": {
      "text/html": [
       "<div>\n",
       "<style scoped>\n",
       "    .dataframe tbody tr th:only-of-type {\n",
       "        vertical-align: middle;\n",
       "    }\n",
       "\n",
       "    .dataframe tbody tr th {\n",
       "        vertical-align: top;\n",
       "    }\n",
       "\n",
       "    .dataframe thead th {\n",
       "        text-align: right;\n",
       "    }\n",
       "</style>\n",
       "<table border=\"1\" class=\"dataframe\">\n",
       "  <thead>\n",
       "    <tr style=\"text-align: right;\">\n",
       "      <th></th>\n",
       "      <th>length</th>\n",
       "      <th>count</th>\n",
       "    </tr>\n",
       "  </thead>\n",
       "  <tbody>\n",
       "    <tr>\n",
       "      <th>9</th>\n",
       "      <td>20</td>\n",
       "      <td>1107</td>\n",
       "    </tr>\n",
       "    <tr>\n",
       "      <th>2</th>\n",
       "      <td>13</td>\n",
       "      <td>1093</td>\n",
       "    </tr>\n",
       "    <tr>\n",
       "      <th>1</th>\n",
       "      <td>12</td>\n",
       "      <td>894</td>\n",
       "    </tr>\n",
       "    <tr>\n",
       "      <th>7</th>\n",
       "      <td>18</td>\n",
       "      <td>861</td>\n",
       "    </tr>\n",
       "    <tr>\n",
       "      <th>4</th>\n",
       "      <td>15</td>\n",
       "      <td>830</td>\n",
       "    </tr>\n",
       "    <tr>\n",
       "      <th>...</th>\n",
       "      <td>...</td>\n",
       "      <td>...</td>\n",
       "    </tr>\n",
       "    <tr>\n",
       "      <th>392</th>\n",
       "      <td>448</td>\n",
       "      <td>1</td>\n",
       "    </tr>\n",
       "    <tr>\n",
       "      <th>394</th>\n",
       "      <td>455</td>\n",
       "      <td>1</td>\n",
       "    </tr>\n",
       "    <tr>\n",
       "      <th>396</th>\n",
       "      <td>460</td>\n",
       "      <td>1</td>\n",
       "    </tr>\n",
       "    <tr>\n",
       "      <th>397</th>\n",
       "      <td>461</td>\n",
       "      <td>1</td>\n",
       "    </tr>\n",
       "    <tr>\n",
       "      <th>534</th>\n",
       "      <td>2337</td>\n",
       "      <td>1</td>\n",
       "    </tr>\n",
       "  </tbody>\n",
       "</table>\n",
       "<p>535 rows × 2 columns</p>\n",
       "</div>"
      ],
      "text/plain": [
       "     length  count\n",
       "9        20   1107\n",
       "2        13   1093\n",
       "1        12    894\n",
       "7        18    861\n",
       "4        15    830\n",
       "..      ...    ...\n",
       "392     448      1\n",
       "394     455      1\n",
       "396     460      1\n",
       "397     461      1\n",
       "534    2337      1\n",
       "\n",
       "[535 rows x 2 columns]"
      ]
     },
     "execution_count": 165,
     "metadata": {},
     "output_type": "execute_result"
    }
   ],
   "source": [
    "nonAMPs_df_count=nonAMPs_df.groupby('length').length.count().reset_index(name='count').sort_values(['count'], ascending=False)\n",
    "#df_count.to_csv('df_count.csv', index=False)\n",
    "_tmp_nonAMPs_df_count = nonAMPs_df_count\n",
    "_tmp_nonAMPs_df_count = _tmp_nonAMPs_df_count.astype({\"length\": int}) \n",
    "_tmp_nonAMPs_df_count"
   ]
  },
  {
   "cell_type": "code",
   "execution_count": 166,
   "metadata": {
    "scrolled": true
   },
   "outputs": [
    {
     "name": "stdout",
     "output_type": "stream",
     "text": [
      "complete\n"
     ]
    }
   ],
   "source": [
    "NonAMPs_nr70_csv.write('\"ID\",\"Sequence\",\"length\"'+ '\\n')\n",
    "for index, row in _tmp_df_count.iterrows():\n",
    "    #print(row['length'], row['count'])\n",
    "    count = row['count']\n",
    "    seqLen = row['length']\n",
    "    for index, rowNonAMP in nonAMPs_df.iterrows():\n",
    "        if rowNonAMP['length'] == seqLen:\n",
    "            if  count > 0:\n",
    "                #print (str(rowNonAMP['length']) +\" \"+ str(rowNonAMP['ID']))\n",
    "                NonAMPs_nr70_csv.write('\"'+rowNonAMP['ID']+'\",\"'+rowNonAMP['Sequence']+'\",\"'+str(rowNonAMP['length'])+'\"' + '\\n') #<---- changee this line NonAMPs_nr70_csv NonAMPs_nr80_csv\n",
    "                count = count - 1\n",
    "            else:\n",
    "                if count == 0:\n",
    "                    #print(\"stop\")\n",
    "                    break\n",
    "NonAMPs_nr70_csv.close() #<---- changee this line NonAMPs_nr70_csv NonAMPs_nr80_csv\n",
    "print(\"complete\")"
   ]
  },
  {
   "cell_type": "markdown",
   "metadata": {},
   "source": [
    "## Similarity check of Distribution"
   ]
  },
  {
   "cell_type": "code",
   "execution_count": 136,
   "metadata": {},
   "outputs": [
    {
     "data": {
      "text/plain": [
       "count    20826.000000\n",
       "mean        61.310765\n",
       "std        115.638308\n",
       "min         11.000000\n",
       "25%         18.000000\n",
       "50%         29.000000\n",
       "75%         62.000000\n",
       "max       2337.000000\n",
       "Name: length, dtype: float64"
      ]
     },
     "execution_count": 136,
     "metadata": {},
     "output_type": "execute_result"
    }
   ],
   "source": [
    "nonAMPs_df.length.describe()"
   ]
  },
  {
   "cell_type": "code",
   "execution_count": 137,
   "metadata": {},
   "outputs": [
    {
     "data": {
      "text/plain": [
       "count    13131.000000\n",
       "mean        52.737263\n",
       "std         98.994318\n",
       "min         11.000000\n",
       "25%         17.000000\n",
       "50%         26.000000\n",
       "75%         58.500000\n",
       "max       2337.000000\n",
       "Name: length, dtype: float64"
      ]
     },
     "execution_count": 137,
     "metadata": {},
     "output_type": "execute_result"
    }
   ],
   "source": [
    "AMPs_df.length.describe()"
   ]
  },
  {
   "cell_type": "markdown",
   "metadata": {},
   "source": [
    "Note: it should have same amount but I didn't know why there are 7 missing peptides from nonAMPs file, however, the describe() function show the same statistics"
   ]
  },
  {
   "cell_type": "code",
   "execution_count": 46,
   "metadata": {},
   "outputs": [],
   "source": [
    "def lengthDistribution(df,title):\n",
    "    fig = plt.figure()\n",
    "    ax = fig.gca()\n",
    "    pd.Series(df['length']).hist(color='blue', bins=200, ax=ax)\n",
    "    plt.ylabel('Num of Seq with this length ')\n",
    "    plt.xlabel('Length of Seq')\n",
    "    plt.title(title)\n",
    "\n",
    "def plotCharDistribution(dict_counts, char_totalsize, title):\n",
    "    fig = plt.figure()\n",
    "    fig.suptitle(title, fontsize=20)\n",
    "    ax = fig.add_subplot(111)\n",
    "    # The bar chart, with letters along the horizontal axis and the calculated\n",
    "    # letter frequencies as percentages as the bar height\n",
    "    x = range(len(dict_counts))\n",
    "    letters =  dict_counts.keys()\n",
    "    ax.bar(x, [val / char_totalsize * 100 for key,val in dict_counts.items()], width=0.8,\n",
    "        color='g', alpha=0.5, align='center')\n",
    "    ax.set_xticks(x)\n",
    "    ax.set_xticklabels(letters)\n",
    "    ax.tick_params(axis='x', direction='out')\n",
    "    ax.set_xlim(-0.5, 25.5)\n",
    "    ax.yaxis.grid(True)\n",
    "    ax.set_ylabel('Letter frequency, %')\n",
    "\n",
    "def countProtien(df, title):\n",
    "    # count Sequence \n",
    "    records = df['Sequence']\n",
    "    print(\"Count Records:\", len(records))\n",
    "    # countAminoAcids\n",
    "    counts = Counter()\n",
    "    for index, row in df.iterrows():\n",
    "        line= row['Sequence']\n",
    "        counts.update(line.rstrip())\n",
    "        total = float(sum(counts.values()))\n",
    "    sorted_dict = {key: value for key, value in sorted(counts.items())}\n",
    "    for key,val in sorted_dict.items():\n",
    "        print(\"{}: {}, ({:.2%})\".format(key,val, val / total))\n",
    "\n",
    "    plotCharDistribution(sorted_dict, total, title)"
   ]
  },
  {
   "cell_type": "code",
   "execution_count": 39,
   "metadata": {},
   "outputs": [
    {
     "data": {
      "image/png": "[encoded data removed]",
      "text/plain": [
       "<Figure size 432x288 with 1 Axes>"
      ]
     },
     "metadata": {
      "needs_background": "light"
     },
     "output_type": "display_data"
    },
    {
     "data": {
      "image/png": "[encoded data removed]",
      "text/plain": [
       "<Figure size 432x288 with 1 Axes>"
      ]
     },
     "metadata": {
      "needs_background": "light"
     },
     "output_type": "display_data"
    }
   ],
   "source": [
    "lengthDistribution(nonAMPs_df,\"Non Amps\")\n",
    "lengthDistribution(AMPs_df,\"Amps\")"
   ]
  },
  {
   "cell_type": "code",
   "execution_count": 50,
   "metadata": {},
   "outputs": [
    {
     "name": "stdout",
     "output_type": "stream",
     "text": [
      "Count Records: 21219\n",
      "A: 97362, (7.58%)\n",
      "B: 12, (0.00%)\n",
      "C: 24278, (1.89%)\n",
      "D: 68125, (5.31%)\n",
      "E: 80075, (6.24%)\n",
      "F: 47225, (3.68%)\n",
      "G: 87545, (6.82%)\n",
      "H: 29592, (2.30%)\n",
      "I: 66630, (5.19%)\n",
      "K: 74760, (5.82%)\n",
      "L: 117285, (9.13%)\n",
      "M: 37433, (2.92%)\n",
      "N: 55711, (4.34%)\n",
      "P: 62916, (4.90%)\n",
      "Q: 52002, (4.05%)\n",
      "R: 72586, (5.65%)\n",
      "S: 99760, (7.77%)\n",
      "T: 76856, (5.99%)\n",
      "V: 80965, (6.31%)\n",
      "W: 15424, (1.20%)\n",
      "X: 819, (0.06%)\n",
      "Y: 36664, (2.86%)\n",
      "Z: 6, (0.00%)\n"
     ]
    },
    {
     "data": {
      "image/png": "[encoded data removed]",
      "text/plain": [
       "<Figure size 432x288 with 1 Axes>"
      ]
     },
     "metadata": {
      "needs_background": "light"
     },
     "output_type": "display_data"
    }
   ],
   "source": [
    "countProtien(nonAMPs_df,\"Non AMPs\")\n"
   ]
  },
  {
   "cell_type": "code",
   "execution_count": 51,
   "metadata": {},
   "outputs": [
    {
     "name": "stdout",
     "output_type": "stream",
     "text": [
      "Count Records: 21226\n",
      "A: 98654, (7.68%)\n",
      "B: 20, (0.00%)\n",
      "C: 44171, (3.44%)\n",
      "D: 52677, (4.10%)\n",
      "E: 57690, (4.49%)\n",
      "F: 48055, (3.74%)\n",
      "G: 109341, (8.51%)\n",
      "H: 24361, (1.90%)\n",
      "I: 69185, (5.39%)\n",
      "J: 73, (0.01%)\n",
      "K: 112602, (8.77%)\n",
      "L: 104187, (8.11%)\n",
      "M: 22701, (1.77%)\n",
      "N: 63546, (4.95%)\n",
      "O: 105, (0.01%)\n",
      "P: 54034, (4.21%)\n",
      "Q: 45787, (3.57%)\n",
      "R: 72116, (5.62%)\n",
      "S: 80188, (6.24%)\n",
      "T: 69394, (5.40%)\n",
      "U: 6, (0.00%)\n",
      "V: 78687, (6.13%)\n",
      "W: 25760, (2.01%)\n",
      "X: 3269, (0.25%)\n",
      "Y: 47457, (3.70%)\n",
      "Z: 42, (0.00%)\n"
     ]
    },
    {
     "data": {
      "image/png": "[encoded data removed]",
      "text/plain": [
       "<Figure size 432x288 with 1 Axes>"
      ]
     },
     "metadata": {
      "needs_background": "light"
     },
     "output_type": "display_data"
    }
   ],
   "source": [
    "countProtien(AMPs_df,\"AMPs\")"
   ]
  },
  {
   "cell_type": "markdown",
   "metadata": {},
   "source": [
    "## Step3: Labeling"
   ]
  },
  {
   "cell_type": "code",
   "execution_count": 138,
   "metadata": {},
   "outputs": [],
   "source": [
    "save_AMPsNonAMPs_nr70_path='../datasets/newcluster/AMPs_NonAMPs.ready.nr70.csv'\n",
    "save_AMPsNonAMPs_nr80_path='../datasets/newcluster/AMPs_NonAMPs.ready.nr80.csv'\n",
    "save_AMPsNonAMPs_nr90_path='../datasets/newcluster/AMPs_NonAMPs.ready.nr90.csv'"
   ]
  },
  {
   "cell_type": "code",
   "execution_count": 173,
   "metadata": {},
   "outputs": [],
   "source": [
    "nonAMPs_df=pd.read_csv('../datasets/newcluster/NonAMPs.nr90.csv',sep=',',header=0,quoting=csv.QUOTE_ALL) #<---- changee this line NonAMPs_nr80_csv NonAMPs_nr90_csv\n",
    "AMPs_df=pd.read_csv(amp_90_csv,sep=',',header=0,quoting=csv.QUOTE_ALL)  #<---- changee this line amp_70_csv amp_80_csv"
   ]
  },
  {
   "cell_type": "code",
   "execution_count": 174,
   "metadata": {},
   "outputs": [],
   "source": [
    "# setup\n",
    "nonAMPs_df['class']=1\n",
    "AMPs_df['class']=0"
   ]
  },
  {
   "cell_type": "code",
   "execution_count": 175,
   "metadata": {},
   "outputs": [
    {
     "data": {
      "text/html": [
       "<div>\n",
       "<style scoped>\n",
       "    .dataframe tbody tr th:only-of-type {\n",
       "        vertical-align: middle;\n",
       "    }\n",
       "\n",
       "    .dataframe tbody tr th {\n",
       "        vertical-align: top;\n",
       "    }\n",
       "\n",
       "    .dataframe thead th {\n",
       "        text-align: right;\n",
       "    }\n",
       "</style>\n",
       "<table border=\"1\" class=\"dataframe\">\n",
       "  <thead>\n",
       "    <tr style=\"text-align: right;\">\n",
       "      <th></th>\n",
       "      <th>ID</th>\n",
       "      <th>Sequence</th>\n",
       "      <th>length</th>\n",
       "      <th>class</th>\n",
       "    </tr>\n",
       "  </thead>\n",
       "  <tbody>\n",
       "    <tr>\n",
       "      <th>0</th>\n",
       "      <td>EN92515250|C|B3FJD7|phage 201phi2-1 lysin</td>\n",
       "      <td>MAKKSVPLRKPAGSDGQGNIKVPGGPVVLDLGDFDDIFGPMESESP...</td>\n",
       "      <td>2337</td>\n",
       "      <td>0</td>\n",
       "    </tr>\n",
       "    <tr>\n",
       "      <th>1</th>\n",
       "      <td>EN54061055|C|F8SJ56|phage PhiPA3 lysin</td>\n",
       "      <td>MASKKTTLPKPKGINPQGSIVQLDLDDFDDLFDEDFGLPKKNSPYT...</td>\n",
       "      <td>2319</td>\n",
       "      <td>0</td>\n",
       "    </tr>\n",
       "    <tr>\n",
       "      <th>2</th>\n",
       "      <td>EN4815120|C|Q8SCY1|phage phiKZ lysin</td>\n",
       "      <td>MAKKVTLPKGQTGATGTTLGQAGNILDLSDVDDIFGDTPKAKKGSP...</td>\n",
       "      <td>2237</td>\n",
       "      <td>0</td>\n",
       "    </tr>\n",
       "    <tr>\n",
       "      <th>3</th>\n",
       "      <td>EN3016141|D|D2J8A7|bacteriocin</td>\n",
       "      <td>MAETIKGLRIDLSLKDMGVGRSITELKRSFRTLNSDLKVSSKNFEY...</td>\n",
       "      <td>1619</td>\n",
       "      <td>0</td>\n",
       "    </tr>\n",
       "    <tr>\n",
       "      <th>4</th>\n",
       "      <td>EN9175723|BD|Q93IM3|bacteriocin</td>\n",
       "      <td>MAKKKNTYKVPSIIALTLAGTALTTHHAQAADKTQDQSTNKNILND...</td>\n",
       "      <td>1564</td>\n",
       "      <td>0</td>\n",
       "    </tr>\n",
       "    <tr>\n",
       "      <th>...</th>\n",
       "      <td>...</td>\n",
       "      <td>...</td>\n",
       "      <td>...</td>\n",
       "      <td>...</td>\n",
       "    </tr>\n",
       "    <tr>\n",
       "      <th>13126</th>\n",
       "      <td>LFB0115|milkampdb</td>\n",
       "      <td>RRWQRWMKKLG</td>\n",
       "      <td>11</td>\n",
       "      <td>0</td>\n",
       "    </tr>\n",
       "    <tr>\n",
       "      <th>13127</th>\n",
       "      <td>LFH0081|milkampdb</td>\n",
       "      <td>RWAWRLMRKVR</td>\n",
       "      <td>11</td>\n",
       "      <td>0</td>\n",
       "    </tr>\n",
       "    <tr>\n",
       "      <th>13128</th>\n",
       "      <td>2529_peptideDB.anti|peptideDB.anti</td>\n",
       "      <td>SLAGVISGAKK</td>\n",
       "      <td>11</td>\n",
       "      <td>0</td>\n",
       "    </tr>\n",
       "    <tr>\n",
       "      <th>13129</th>\n",
       "      <td>1178_pos_train_ds3|pos_train_ds3</td>\n",
       "      <td>SFINVNCWCET</td>\n",
       "      <td>11</td>\n",
       "      <td>0</td>\n",
       "    </tr>\n",
       "    <tr>\n",
       "      <th>13130</th>\n",
       "      <td>41_pos_train_ds3|pos_train_ds3</td>\n",
       "      <td>SFLNVNCWCQT</td>\n",
       "      <td>11</td>\n",
       "      <td>0</td>\n",
       "    </tr>\n",
       "  </tbody>\n",
       "</table>\n",
       "<p>13131 rows × 4 columns</p>\n",
       "</div>"
      ],
      "text/plain": [
       "                                              ID  \\\n",
       "0      EN92515250|C|B3FJD7|phage 201phi2-1 lysin   \n",
       "1         EN54061055|C|F8SJ56|phage PhiPA3 lysin   \n",
       "2           EN4815120|C|Q8SCY1|phage phiKZ lysin   \n",
       "3                 EN3016141|D|D2J8A7|bacteriocin   \n",
       "4                EN9175723|BD|Q93IM3|bacteriocin   \n",
       "...                                          ...   \n",
       "13126                          LFB0115|milkampdb   \n",
       "13127                          LFH0081|milkampdb   \n",
       "13128         2529_peptideDB.anti|peptideDB.anti   \n",
       "13129           1178_pos_train_ds3|pos_train_ds3   \n",
       "13130             41_pos_train_ds3|pos_train_ds3   \n",
       "\n",
       "                                                Sequence  length  class  \n",
       "0      MAKKSVPLRKPAGSDGQGNIKVPGGPVVLDLGDFDDIFGPMESESP...    2337      0  \n",
       "1      MASKKTTLPKPKGINPQGSIVQLDLDDFDDLFDEDFGLPKKNSPYT...    2319      0  \n",
       "2      MAKKVTLPKGQTGATGTTLGQAGNILDLSDVDDIFGDTPKAKKGSP...    2237      0  \n",
       "3      MAETIKGLRIDLSLKDMGVGRSITELKRSFRTLNSDLKVSSKNFEY...    1619      0  \n",
       "4      MAKKKNTYKVPSIIALTLAGTALTTHHAQAADKTQDQSTNKNILND...    1564      0  \n",
       "...                                                  ...     ...    ...  \n",
       "13126                                        RRWQRWMKKLG      11      0  \n",
       "13127                                        RWAWRLMRKVR      11      0  \n",
       "13128                                        SLAGVISGAKK      11      0  \n",
       "13129                                        SFINVNCWCET      11      0  \n",
       "13130                                        SFLNVNCWCQT      11      0  \n",
       "\n",
       "[13131 rows x 4 columns]"
      ]
     },
     "execution_count": 175,
     "metadata": {},
     "output_type": "execute_result"
    }
   ],
   "source": [
    "AMPs_df"
   ]
  },
  {
   "cell_type": "code",
   "execution_count": 176,
   "metadata": {},
   "outputs": [
    {
     "data": {
      "text/html": [
       "<div>\n",
       "<style scoped>\n",
       "    .dataframe tbody tr th:only-of-type {\n",
       "        vertical-align: middle;\n",
       "    }\n",
       "\n",
       "    .dataframe tbody tr th {\n",
       "        vertical-align: top;\n",
       "    }\n",
       "\n",
       "    .dataframe thead th {\n",
       "        text-align: right;\n",
       "    }\n",
       "</style>\n",
       "<table border=\"1\" class=\"dataframe\">\n",
       "  <thead>\n",
       "    <tr style=\"text-align: right;\">\n",
       "      <th></th>\n",
       "      <th>ID</th>\n",
       "      <th>Sequence</th>\n",
       "      <th>length</th>\n",
       "      <th>class</th>\n",
       "    </tr>\n",
       "  </thead>\n",
       "  <tbody>\n",
       "    <tr>\n",
       "      <th>0</th>\n",
       "      <td>UniRef50_A0A410SEU7 Truncated nuclear receptor...</td>\n",
       "      <td>TELTFNYNLECLGNGKTVCK</td>\n",
       "      <td>20</td>\n",
       "      <td>1</td>\n",
       "    </tr>\n",
       "    <tr>\n",
       "      <th>1</th>\n",
       "      <td>UniRef50_A7KZR0 CARD15 (Fragment) n=3 Tax=Simi...</td>\n",
       "      <td>FQCFFAAFYLALSADVPPAL</td>\n",
       "      <td>20</td>\n",
       "      <td>1</td>\n",
       "    </tr>\n",
       "    <tr>\n",
       "      <th>2</th>\n",
       "      <td>UniRef50_P81070 Fibrinogen (Fragment) n=3 Tax=...</td>\n",
       "      <td>LHSNLEYQYRYSGRVASGIP</td>\n",
       "      <td>20</td>\n",
       "      <td>1</td>\n",
       "    </tr>\n",
       "    <tr>\n",
       "      <th>3</th>\n",
       "      <td>UniRef50_A0A5K1GBG1 Uncharacterized protein (F...</td>\n",
       "      <td>LNPVYVSGSFYQRATRCNSN</td>\n",
       "      <td>20</td>\n",
       "      <td>1</td>\n",
       "    </tr>\n",
       "    <tr>\n",
       "      <th>4</th>\n",
       "      <td>UniRef50_A0A1M4ZPR7 Uncharacterized protein n=...</td>\n",
       "      <td>MAVNTWVGNSYVGADGRWIR</td>\n",
       "      <td>20</td>\n",
       "      <td>1</td>\n",
       "    </tr>\n",
       "    <tr>\n",
       "      <th>...</th>\n",
       "      <td>...</td>\n",
       "      <td>...</td>\n",
       "      <td>...</td>\n",
       "      <td>...</td>\n",
       "    </tr>\n",
       "    <tr>\n",
       "      <th>13126</th>\n",
       "      <td>UniRef50_A0A323TJX8 VWFD domain-containing pro...</td>\n",
       "      <td>SYLLAKDFVGGDFEVIGEYESVGGLMRLKSVVVRGQGTDVTLHVDG...</td>\n",
       "      <td>380</td>\n",
       "      <td>1</td>\n",
       "    </tr>\n",
       "    <tr>\n",
       "      <th>13127</th>\n",
       "      <td>UniRef50_C6WJT6 Response regulator receiver pr...</td>\n",
       "      <td>MSNRRVLMVDDEQRVLDGLRRMLRGRYELTTSVSGAEAIGLVREST...</td>\n",
       "      <td>382</td>\n",
       "      <td>1</td>\n",
       "    </tr>\n",
       "    <tr>\n",
       "      <th>13128</th>\n",
       "      <td>UniRef50_A0A1A8A8S0 EH domain binding protein ...</td>\n",
       "      <td>MTSVWKRLQRVGKKASKFQFVASFEELILESCKKWQPDKLRVMWIR...</td>\n",
       "      <td>210</td>\n",
       "      <td>1</td>\n",
       "    </tr>\n",
       "    <tr>\n",
       "      <th>13129</th>\n",
       "      <td>UniRef50_F6TRT4 SYCP2_ARLD domain-containing p...</td>\n",
       "      <td>MGTNEKQLENLLRGSDSNKIEEFLQSNLNTPQACGTVFESCLRRVA...</td>\n",
       "      <td>384</td>\n",
       "      <td>1</td>\n",
       "    </tr>\n",
       "    <tr>\n",
       "      <th>13130</th>\n",
       "      <td>UniRef50_A0A0X3PKU3 FERM domain-containing pro...</td>\n",
       "      <td>MPWTFPAGPPMTGDSRRLALRIHVPDADVTKTLVFDALMTVGQACD...</td>\n",
       "      <td>2337</td>\n",
       "      <td>1</td>\n",
       "    </tr>\n",
       "  </tbody>\n",
       "</table>\n",
       "<p>13131 rows × 4 columns</p>\n",
       "</div>"
      ],
      "text/plain": [
       "                                                      ID  \\\n",
       "0      UniRef50_A0A410SEU7 Truncated nuclear receptor...   \n",
       "1      UniRef50_A7KZR0 CARD15 (Fragment) n=3 Tax=Simi...   \n",
       "2      UniRef50_P81070 Fibrinogen (Fragment) n=3 Tax=...   \n",
       "3      UniRef50_A0A5K1GBG1 Uncharacterized protein (F...   \n",
       "4      UniRef50_A0A1M4ZPR7 Uncharacterized protein n=...   \n",
       "...                                                  ...   \n",
       "13126  UniRef50_A0A323TJX8 VWFD domain-containing pro...   \n",
       "13127  UniRef50_C6WJT6 Response regulator receiver pr...   \n",
       "13128  UniRef50_A0A1A8A8S0 EH domain binding protein ...   \n",
       "13129  UniRef50_F6TRT4 SYCP2_ARLD domain-containing p...   \n",
       "13130  UniRef50_A0A0X3PKU3 FERM domain-containing pro...   \n",
       "\n",
       "                                                Sequence  length  class  \n",
       "0                                   TELTFNYNLECLGNGKTVCK      20      1  \n",
       "1                                   FQCFFAAFYLALSADVPPAL      20      1  \n",
       "2                                   LHSNLEYQYRYSGRVASGIP      20      1  \n",
       "3                                   LNPVYVSGSFYQRATRCNSN      20      1  \n",
       "4                                   MAVNTWVGNSYVGADGRWIR      20      1  \n",
       "...                                                  ...     ...    ...  \n",
       "13126  SYLLAKDFVGGDFEVIGEYESVGGLMRLKSVVVRGQGTDVTLHVDG...     380      1  \n",
       "13127  MSNRRVLMVDDEQRVLDGLRRMLRGRYELTTSVSGAEAIGLVREST...     382      1  \n",
       "13128  MTSVWKRLQRVGKKASKFQFVASFEELILESCKKWQPDKLRVMWIR...     210      1  \n",
       "13129  MGTNEKQLENLLRGSDSNKIEEFLQSNLNTPQACGTVFESCLRRVA...     384      1  \n",
       "13130  MPWTFPAGPPMTGDSRRLALRIHVPDADVTKTLVFDALMTVGQACD...    2337      1  \n",
       "\n",
       "[13131 rows x 4 columns]"
      ]
     },
     "execution_count": 176,
     "metadata": {},
     "output_type": "execute_result"
    }
   ],
   "source": [
    "nonAMPs_df"
   ]
  },
  {
   "cell_type": "code",
   "execution_count": 177,
   "metadata": {},
   "outputs": [
    {
     "data": {
      "text/html": [
       "<div>\n",
       "<style scoped>\n",
       "    .dataframe tbody tr th:only-of-type {\n",
       "        vertical-align: middle;\n",
       "    }\n",
       "\n",
       "    .dataframe tbody tr th {\n",
       "        vertical-align: top;\n",
       "    }\n",
       "\n",
       "    .dataframe thead th {\n",
       "        text-align: right;\n",
       "    }\n",
       "</style>\n",
       "<table border=\"1\" class=\"dataframe\">\n",
       "  <thead>\n",
       "    <tr style=\"text-align: right;\">\n",
       "      <th></th>\n",
       "      <th>ID</th>\n",
       "      <th>Sequence</th>\n",
       "      <th>length</th>\n",
       "      <th>class</th>\n",
       "    </tr>\n",
       "  </thead>\n",
       "  <tbody>\n",
       "    <tr>\n",
       "      <th>0</th>\n",
       "      <td>EN92515250|C|B3FJD7|phage 201phi2-1 lysin</td>\n",
       "      <td>MAKKSVPLRKPAGSDGQGNIKVPGGPVVLDLGDFDDIFGPMESESP...</td>\n",
       "      <td>2337</td>\n",
       "      <td>0</td>\n",
       "    </tr>\n",
       "    <tr>\n",
       "      <th>1</th>\n",
       "      <td>EN54061055|C|F8SJ56|phage PhiPA3 lysin</td>\n",
       "      <td>MASKKTTLPKPKGINPQGSIVQLDLDDFDDLFDEDFGLPKKNSPYT...</td>\n",
       "      <td>2319</td>\n",
       "      <td>0</td>\n",
       "    </tr>\n",
       "    <tr>\n",
       "      <th>2</th>\n",
       "      <td>EN4815120|C|Q8SCY1|phage phiKZ lysin</td>\n",
       "      <td>MAKKVTLPKGQTGATGTTLGQAGNILDLSDVDDIFGDTPKAKKGSP...</td>\n",
       "      <td>2237</td>\n",
       "      <td>0</td>\n",
       "    </tr>\n",
       "    <tr>\n",
       "      <th>3</th>\n",
       "      <td>EN3016141|D|D2J8A7|bacteriocin</td>\n",
       "      <td>MAETIKGLRIDLSLKDMGVGRSITELKRSFRTLNSDLKVSSKNFEY...</td>\n",
       "      <td>1619</td>\n",
       "      <td>0</td>\n",
       "    </tr>\n",
       "    <tr>\n",
       "      <th>4</th>\n",
       "      <td>EN9175723|BD|Q93IM3|bacteriocin</td>\n",
       "      <td>MAKKKNTYKVPSIIALTLAGTALTTHHAQAADKTQDQSTNKNILND...</td>\n",
       "      <td>1564</td>\n",
       "      <td>0</td>\n",
       "    </tr>\n",
       "    <tr>\n",
       "      <th>...</th>\n",
       "      <td>...</td>\n",
       "      <td>...</td>\n",
       "      <td>...</td>\n",
       "      <td>...</td>\n",
       "    </tr>\n",
       "    <tr>\n",
       "      <th>13126</th>\n",
       "      <td>UniRef50_A0A323TJX8 VWFD domain-containing pro...</td>\n",
       "      <td>SYLLAKDFVGGDFEVIGEYESVGGLMRLKSVVVRGQGTDVTLHVDG...</td>\n",
       "      <td>380</td>\n",
       "      <td>1</td>\n",
       "    </tr>\n",
       "    <tr>\n",
       "      <th>13127</th>\n",
       "      <td>UniRef50_C6WJT6 Response regulator receiver pr...</td>\n",
       "      <td>MSNRRVLMVDDEQRVLDGLRRMLRGRYELTTSVSGAEAIGLVREST...</td>\n",
       "      <td>382</td>\n",
       "      <td>1</td>\n",
       "    </tr>\n",
       "    <tr>\n",
       "      <th>13128</th>\n",
       "      <td>UniRef50_A0A1A8A8S0 EH domain binding protein ...</td>\n",
       "      <td>MTSVWKRLQRVGKKASKFQFVASFEELILESCKKWQPDKLRVMWIR...</td>\n",
       "      <td>210</td>\n",
       "      <td>1</td>\n",
       "    </tr>\n",
       "    <tr>\n",
       "      <th>13129</th>\n",
       "      <td>UniRef50_F6TRT4 SYCP2_ARLD domain-containing p...</td>\n",
       "      <td>MGTNEKQLENLLRGSDSNKIEEFLQSNLNTPQACGTVFESCLRRVA...</td>\n",
       "      <td>384</td>\n",
       "      <td>1</td>\n",
       "    </tr>\n",
       "    <tr>\n",
       "      <th>13130</th>\n",
       "      <td>UniRef50_A0A0X3PKU3 FERM domain-containing pro...</td>\n",
       "      <td>MPWTFPAGPPMTGDSRRLALRIHVPDADVTKTLVFDALMTVGQACD...</td>\n",
       "      <td>2337</td>\n",
       "      <td>1</td>\n",
       "    </tr>\n",
       "  </tbody>\n",
       "</table>\n",
       "<p>26262 rows × 4 columns</p>\n",
       "</div>"
      ],
      "text/plain": [
       "                                                      ID  \\\n",
       "0              EN92515250|C|B3FJD7|phage 201phi2-1 lysin   \n",
       "1                 EN54061055|C|F8SJ56|phage PhiPA3 lysin   \n",
       "2                   EN4815120|C|Q8SCY1|phage phiKZ lysin   \n",
       "3                         EN3016141|D|D2J8A7|bacteriocin   \n",
       "4                        EN9175723|BD|Q93IM3|bacteriocin   \n",
       "...                                                  ...   \n",
       "13126  UniRef50_A0A323TJX8 VWFD domain-containing pro...   \n",
       "13127  UniRef50_C6WJT6 Response regulator receiver pr...   \n",
       "13128  UniRef50_A0A1A8A8S0 EH domain binding protein ...   \n",
       "13129  UniRef50_F6TRT4 SYCP2_ARLD domain-containing p...   \n",
       "13130  UniRef50_A0A0X3PKU3 FERM domain-containing pro...   \n",
       "\n",
       "                                                Sequence  length  class  \n",
       "0      MAKKSVPLRKPAGSDGQGNIKVPGGPVVLDLGDFDDIFGPMESESP...    2337      0  \n",
       "1      MASKKTTLPKPKGINPQGSIVQLDLDDFDDLFDEDFGLPKKNSPYT...    2319      0  \n",
       "2      MAKKVTLPKGQTGATGTTLGQAGNILDLSDVDDIFGDTPKAKKGSP...    2237      0  \n",
       "3      MAETIKGLRIDLSLKDMGVGRSITELKRSFRTLNSDLKVSSKNFEY...    1619      0  \n",
       "4      MAKKKNTYKVPSIIALTLAGTALTTHHAQAADKTQDQSTNKNILND...    1564      0  \n",
       "...                                                  ...     ...    ...  \n",
       "13126  SYLLAKDFVGGDFEVIGEYESVGGLMRLKSVVVRGQGTDVTLHVDG...     380      1  \n",
       "13127  MSNRRVLMVDDEQRVLDGLRRMLRGRYELTTSVSGAEAIGLVREST...     382      1  \n",
       "13128  MTSVWKRLQRVGKKASKFQFVASFEELILESCKKWQPDKLRVMWIR...     210      1  \n",
       "13129  MGTNEKQLENLLRGSDSNKIEEFLQSNLNTPQACGTVFESCLRRVA...     384      1  \n",
       "13130  MPWTFPAGPPMTGDSRRLALRIHVPDADVTKTLVFDALMTVGQACD...    2337      1  \n",
       "\n",
       "[26262 rows x 4 columns]"
      ]
     },
     "execution_count": 177,
     "metadata": {},
     "output_type": "execute_result"
    }
   ],
   "source": [
    "ready_df = pd.concat([AMPs_df,nonAMPs_df], axis=0)\n",
    "ready_df"
   ]
  },
  {
   "cell_type": "code",
   "execution_count": 178,
   "metadata": {},
   "outputs": [],
   "source": [
    "ready_df.to_csv(save_AMPsNonAMPs_nr90_path,sep=\",\", quotechar='\"',index=False, quoting=csv.QUOTE_ALL)"
   ]
  },
  {
   "cell_type": "markdown",
   "metadata": {},
   "source": [
    "## To FASTA"
   ]
  },
  {
   "cell_type": "code",
   "execution_count": 4,
   "metadata": {},
   "outputs": [
    {
     "name": "stdout",
     "output_type": "stream",
     "text": [
      "--- End of Writing ----\n"
     ]
    }
   ],
   "source": [
    "df = pd.read_csv(\"AMPS_NonAMPs.ready.csv\", header=0, encoding=\"utf-8\", usecols=['ID', 'Sequence'])\n",
    "with open(\"AMPS_NonAMPs.ready.fasta\", 'w') as file:\n",
    "    for index, row in df.iterrows():\n",
    "        header = row['ID']\n",
    "        seq = row['Sequence']\n",
    "        # print(header)\n",
    "        file.write('>'+ header + '\\n')\n",
    "        file.write(seq + '\\n')\n",
    "        \n",
    "print(\"--- End of Writing ----\")"
   ]
  },
  {
   "cell_type": "code",
   "execution_count": 28,
   "metadata": {},
   "outputs": [
    {
     "name": "stdout",
     "output_type": "stream",
     "text": [
      "--- End of Writing ----\n"
     ]
    }
   ],
   "source": [
    "#df = pd.read_csv(\"AMPS_NonAMPs.ready.csv\", header=0, encoding=\"utf-8\", usecols=['ID', 'Sequence','class'])\n",
    "df= df[df['class']==1]\n",
    "\n",
    "with open(\"NonAMPs.ready.fasta\", 'w') as file:\n",
    "    for index, row in df.iterrows():\n",
    "        header = row['ID']\n",
    "        seq = row['Sequence']\n",
    "        # print(header)\n",
    "        file.write('>'+ header + '\\n')\n",
    "        file.write(seq + '\\n')\n",
    "           \n",
    "print(\"--- End of Writing ----\")"
   ]
  },
  {
   "cell_type": "code",
   "execution_count": 15,
   "metadata": {},
   "outputs": [],
   "source": [
    "search_values = ['A','C','D','E','F','G','H','I','K','L','M','N','P','Q','R','S','T','V','W','Y','X']\n",
    "not_search_values = ['B','J','O','U','Z']"
   ]
  },
  {
   "cell_type": "code",
   "execution_count": 16,
   "metadata": {},
   "outputs": [
    {
     "data": {
      "text/plain": [
       "'B|J|O|U|Z'"
      ]
     },
     "execution_count": 16,
     "metadata": {},
     "output_type": "execute_result"
    }
   ],
   "source": [
    "key = '|'.join(not_search_values )\n",
    "key"
   ]
  },
  {
   "cell_type": "code",
   "execution_count": 26,
   "metadata": {},
   "outputs": [
    {
     "data": {
      "text/html": [
       "<div>\n",
       "<style scoped>\n",
       "    .dataframe tbody tr th:only-of-type {\n",
       "        vertical-align: middle;\n",
       "    }\n",
       "\n",
       "    .dataframe tbody tr th {\n",
       "        vertical-align: top;\n",
       "    }\n",
       "\n",
       "    .dataframe thead th {\n",
       "        text-align: right;\n",
       "    }\n",
       "</style>\n",
       "<table border=\"1\" class=\"dataframe\">\n",
       "  <thead>\n",
       "    <tr style=\"text-align: right;\">\n",
       "      <th></th>\n",
       "      <th>ID</th>\n",
       "      <th>Sequence</th>\n",
       "      <th>class</th>\n",
       "    </tr>\n",
       "  </thead>\n",
       "  <tbody>\n",
       "    <tr>\n",
       "      <th>34703</th>\n",
       "      <td>UniRef50_Q9UWI9 5 kDa flagellin (Fragment) n=1...</td>\n",
       "      <td>PALTNBILVPTEKVKVTLXPSD</td>\n",
       "      <td>1</td>\n",
       "    </tr>\n",
       "    <tr>\n",
       "      <th>35342</th>\n",
       "      <td>UniRef50_P21985 Flagellar filament 33 kDa core...</td>\n",
       "      <td>MIINHNMSAINAQXVQGBVT</td>\n",
       "      <td>1</td>\n",
       "    </tr>\n",
       "    <tr>\n",
       "      <th>35420</th>\n",
       "      <td>UniRef50_P20677 Serum amyloid P-component (Fra...</td>\n",
       "      <td>ZPIDLMGKVFVFDKELSPBI</td>\n",
       "      <td>1</td>\n",
       "    </tr>\n",
       "    <tr>\n",
       "      <th>36375</th>\n",
       "      <td>UniRef50_Q7M546 Ribosomal protein S2 (Fragment...</td>\n",
       "      <td>SENESDTESZLLZNSPPGE</td>\n",
       "      <td>1</td>\n",
       "    </tr>\n",
       "    <tr>\n",
       "      <th>36795</th>\n",
       "      <td>UniRef50_P01206 Melanotropin beta n=1 Tax=Scyl...</td>\n",
       "      <td>BZIBYKMGHFRWGAPMDK</td>\n",
       "      <td>1</td>\n",
       "    </tr>\n",
       "    <tr>\n",
       "      <th>39192</th>\n",
       "      <td>UniRef50_P14474 Fibrinogen beta chain (Fragmen...</td>\n",
       "      <td>QGVBGBEEGLFGGR</td>\n",
       "      <td>1</td>\n",
       "    </tr>\n",
       "    <tr>\n",
       "      <th>39793</th>\n",
       "      <td>UniRef50_P42717 Waspkinin n=1 Tax=Parapolybia ...</td>\n",
       "      <td>QZKRPPGFSPFRK</td>\n",
       "      <td>1</td>\n",
       "    </tr>\n",
       "    <tr>\n",
       "      <th>39828</th>\n",
       "      <td>UniRef50_P14472 Fibrinogen beta chain (Fragmen...</td>\n",
       "      <td>QGVBBBZGLFSAR</td>\n",
       "      <td>1</td>\n",
       "    </tr>\n",
       "    <tr>\n",
       "      <th>40894</th>\n",
       "      <td>UniRef50_P25072 Phospholipase A2 1 (Fragment) ...</td>\n",
       "      <td>SLLBFKBMIEST</td>\n",
       "      <td>1</td>\n",
       "    </tr>\n",
       "  </tbody>\n",
       "</table>\n",
       "</div>"
      ],
      "text/plain": [
       "                                                      ID  \\\n",
       "34703  UniRef50_Q9UWI9 5 kDa flagellin (Fragment) n=1...   \n",
       "35342  UniRef50_P21985 Flagellar filament 33 kDa core...   \n",
       "35420  UniRef50_P20677 Serum amyloid P-component (Fra...   \n",
       "36375  UniRef50_Q7M546 Ribosomal protein S2 (Fragment...   \n",
       "36795  UniRef50_P01206 Melanotropin beta n=1 Tax=Scyl...   \n",
       "39192  UniRef50_P14474 Fibrinogen beta chain (Fragmen...   \n",
       "39793  UniRef50_P42717 Waspkinin n=1 Tax=Parapolybia ...   \n",
       "39828  UniRef50_P14472 Fibrinogen beta chain (Fragmen...   \n",
       "40894  UniRef50_P25072 Phospholipase A2 1 (Fragment) ...   \n",
       "\n",
       "                     Sequence  class  \n",
       "34703  PALTNBILVPTEKVKVTLXPSD      1  \n",
       "35342    MIINHNMSAINAQXVQGBVT      1  \n",
       "35420    ZPIDLMGKVFVFDKELSPBI      1  \n",
       "36375     SENESDTESZLLZNSPPGE      1  \n",
       "36795      BZIBYKMGHFRWGAPMDK      1  \n",
       "39192          QGVBGBEEGLFGGR      1  \n",
       "39793           QZKRPPGFSPFRK      1  \n",
       "39828           QGVBBBZGLFSAR      1  \n",
       "40894            SLLBFKBMIEST      1  "
      ]
     },
     "execution_count": 26,
     "metadata": {},
     "output_type": "execute_result"
    }
   ],
   "source": [
    "df[df['Sequence'].str.contains(key)]"
   ]
  },
  {
   "cell_type": "code",
   "execution_count": 27,
   "metadata": {},
   "outputs": [],
   "source": [
    "df = df[~df['Sequence'].str.contains(key)]"
   ]
  },
  {
   "cell_type": "code",
   "execution_count": null,
   "metadata": {},
   "outputs": [],
   "source": []
  }
 ],
 "metadata": {
  "kernelspec": {
   "display_name": "Python 3",
   "language": "python",
   "name": "python3"
  },
  "language_info": {
   "codemirror_mode": {
    "name": "ipython",
    "version": 3
   },
   "file_extension": ".py",
   "mimetype": "text/x-python",
   "name": "python",
   "nbconvert_exporter": "python",
   "pygments_lexer": "ipython3",
   "version": "3.7.9"
  }
 },
 "nbformat": 4,
 "nbformat_minor": 4
}
