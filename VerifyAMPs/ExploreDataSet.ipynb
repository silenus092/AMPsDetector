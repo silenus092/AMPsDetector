{
 "cells": [
  {
   "cell_type": "code",
   "execution_count": 1,
   "metadata": {},
   "outputs": [],
   "source": [
    "import numpy as np\n",
    "import csv\n",
    "import pandas as pd\n",
    "from Bio import pairwise2\n",
    "from Bio import SeqIO\n",
    "\n",
    "import matplotlib.pyplot as plt\n",
    "from collections import Counter"
   ]
  },
  {
   "cell_type": "code",
   "execution_count": 2,
   "metadata": {},
   "outputs": [],
   "source": [
    "def lengthDistribution(df,title):\n",
    "    fig = plt.figure()\n",
    "    ax = fig.gca()\n",
    "    pd.Series(df['length']).hist(color='blue', bins=200, ax=ax)\n",
    "    plt.ylabel('Num of Seq with this length ')\n",
    "    plt.xlabel('Length of Seq')\n",
    "    plt.title(title)\n",
    "\n",
    "def plotCharDistribution(dict_counts, char_totalsize, title):\n",
    "    fig = plt.figure()\n",
    "    fig.suptitle(title, fontsize=20)\n",
    "    ax = fig.add_subplot(111)\n",
    "    # The bar chart, with letters along the horizontal axis and the calculated\n",
    "    # letter frequencies as percentages as the bar height\n",
    "    x = range(len(dict_counts))\n",
    "    letters =  dict_counts.keys()\n",
    "    ax.bar(x, [val / char_totalsize * 100 for key,val in dict_counts.items()], width=0.8,\n",
    "        color='g', alpha=0.5, align='center')\n",
    "    ax.set_xticks(x)\n",
    "    ax.set_xticklabels(letters)\n",
    "    ax.tick_params(axis='x', direction='out')\n",
    "    ax.set_xlim(-0.5, 25.5)\n",
    "    ax.yaxis.grid(True)\n",
    "    ax.set_ylabel('Letter frequency, %')\n",
    "\n",
    "def countProtien(df, title):\n",
    "    # count Sequence \n",
    "    records = df['Sequence']\n",
    "    print(\"Count Records:\", len(records))\n",
    "    # countAminoAcids\n",
    "    counts = Counter()\n",
    "    for index, row in df.iterrows():\n",
    "        line= row['Sequence']\n",
    "        counts.update(line.rstrip())\n",
    "        total = float(sum(counts.values()))\n",
    "    sorted_dict = {key: value for key, value in sorted(counts.items())}\n",
    "    for key,val in sorted_dict.items():\n",
    "        print(\"{}: {}, ({:.2%})\".format(key,val, val / total))\n",
    "\n",
    "    plotCharDistribution(sorted_dict, total, title)"
   ]
  },
  {
   "cell_type": "markdown",
   "metadata": {},
   "source": [
    "# Exact Search"
   ]
  },
  {
   "cell_type": "code",
   "execution_count": 3,
   "metadata": {},
   "outputs": [
    {
     "data": {
      "text/html": [
       "<div>\n",
       "<style scoped>\n",
       "    .dataframe tbody tr th:only-of-type {\n",
       "        vertical-align: middle;\n",
       "    }\n",
       "\n",
       "    .dataframe tbody tr th {\n",
       "        vertical-align: top;\n",
       "    }\n",
       "\n",
       "    .dataframe thead th {\n",
       "        text-align: right;\n",
       "    }\n",
       "</style>\n",
       "<table border=\"1\" class=\"dataframe\">\n",
       "  <thead>\n",
       "    <tr style=\"text-align: right;\">\n",
       "      <th></th>\n",
       "      <th>ID</th>\n",
       "      <th>Sequence</th>\n",
       "      <th>length</th>\n",
       "      <th>class</th>\n",
       "    </tr>\n",
       "  </thead>\n",
       "  <tbody>\n",
       "    <tr>\n",
       "      <th>0</th>\n",
       "      <td>EN92515250|C|B3FJD7|phage 201phi2-1 lysin</td>\n",
       "      <td>MAKKSVPLRKPAGSDGQGNIKVPGGPVVLDLGDFDDIFGPMESESP...</td>\n",
       "      <td>2337</td>\n",
       "      <td>0</td>\n",
       "    </tr>\n",
       "    <tr>\n",
       "      <th>1</th>\n",
       "      <td>EN54061055|C|F8SJ56|phage PhiPA3 lysin</td>\n",
       "      <td>MASKKTTLPKPKGINPQGSIVQLDLDDFDDLFDEDFGLPKKNSPYT...</td>\n",
       "      <td>2319</td>\n",
       "      <td>0</td>\n",
       "    </tr>\n",
       "    <tr>\n",
       "      <th>2</th>\n",
       "      <td>EN4815120|C|Q8SCY1|phage phiKZ lysin</td>\n",
       "      <td>MAKKVTLPKGQTGATGTTLGQAGNILDLSDVDDIFGDTPKAKKGSP...</td>\n",
       "      <td>2237</td>\n",
       "      <td>0</td>\n",
       "    </tr>\n",
       "    <tr>\n",
       "      <th>3</th>\n",
       "      <td>EN3016141|D|D2J8A7|bacteriocin</td>\n",
       "      <td>MAETIKGLRIDLSLKDMGVGRSITELKRSFRTLNSDLKVSSKNFEY...</td>\n",
       "      <td>1619</td>\n",
       "      <td>0</td>\n",
       "    </tr>\n",
       "    <tr>\n",
       "      <th>4</th>\n",
       "      <td>EN9175723|BD|Q93IM3|bacteriocin</td>\n",
       "      <td>MAKKKNTYKVPSIIALTLAGTALTTHHAQAADKTQDQSTNKNILND...</td>\n",
       "      <td>1564</td>\n",
       "      <td>0</td>\n",
       "    </tr>\n",
       "    <tr>\n",
       "      <th>...</th>\n",
       "      <td>...</td>\n",
       "      <td>...</td>\n",
       "      <td>...</td>\n",
       "      <td>...</td>\n",
       "    </tr>\n",
       "    <tr>\n",
       "      <th>42440</th>\n",
       "      <td>UniRef50_A0A151HEL5 Zinc finger  C3HC4 type (R...</td>\n",
       "      <td>GLYFRPRRRASS</td>\n",
       "      <td>12</td>\n",
       "      <td>1</td>\n",
       "    </tr>\n",
       "    <tr>\n",
       "      <th>42441</th>\n",
       "      <td>UniRef50_K2MU79 Retrotransposon hot spot (RHS)...</td>\n",
       "      <td>MESNPMTLVGCG</td>\n",
       "      <td>12</td>\n",
       "      <td>1</td>\n",
       "    </tr>\n",
       "    <tr>\n",
       "      <th>42442</th>\n",
       "      <td>UniRef50_A0A1E1IUT2 Flagellar calcium-binding ...</td>\n",
       "      <td>IRCVGHWMQAEH</td>\n",
       "      <td>12</td>\n",
       "      <td>1</td>\n",
       "    </tr>\n",
       "    <tr>\n",
       "      <th>42443</th>\n",
       "      <td>UniRef50_A0A0S4ITT4 Dopa decarboxylase  putati...</td>\n",
       "      <td>APWSASTLHCPG</td>\n",
       "      <td>12</td>\n",
       "      <td>1</td>\n",
       "    </tr>\n",
       "    <tr>\n",
       "      <th>42444</th>\n",
       "      <td>UniRef50_P86818 [Ala1 Thr6]-phyllokinin n=1 Ta...</td>\n",
       "      <td>APPGFTPFRIY</td>\n",
       "      <td>11</td>\n",
       "      <td>1</td>\n",
       "    </tr>\n",
       "  </tbody>\n",
       "</table>\n",
       "<p>42445 rows × 4 columns</p>\n",
       "</div>"
      ],
      "text/plain": [
       "                                                      ID  \\\n",
       "0              EN92515250|C|B3FJD7|phage 201phi2-1 lysin   \n",
       "1                 EN54061055|C|F8SJ56|phage PhiPA3 lysin   \n",
       "2                   EN4815120|C|Q8SCY1|phage phiKZ lysin   \n",
       "3                         EN3016141|D|D2J8A7|bacteriocin   \n",
       "4                        EN9175723|BD|Q93IM3|bacteriocin   \n",
       "...                                                  ...   \n",
       "42440  UniRef50_A0A151HEL5 Zinc finger  C3HC4 type (R...   \n",
       "42441  UniRef50_K2MU79 Retrotransposon hot spot (RHS)...   \n",
       "42442  UniRef50_A0A1E1IUT2 Flagellar calcium-binding ...   \n",
       "42443  UniRef50_A0A0S4ITT4 Dopa decarboxylase  putati...   \n",
       "42444  UniRef50_P86818 [Ala1 Thr6]-phyllokinin n=1 Ta...   \n",
       "\n",
       "                                                Sequence  length  class  \n",
       "0      MAKKSVPLRKPAGSDGQGNIKVPGGPVVLDLGDFDDIFGPMESESP...    2337      0  \n",
       "1      MASKKTTLPKPKGINPQGSIVQLDLDDFDDLFDEDFGLPKKNSPYT...    2319      0  \n",
       "2      MAKKVTLPKGQTGATGTTLGQAGNILDLSDVDDIFGDTPKAKKGSP...    2237      0  \n",
       "3      MAETIKGLRIDLSLKDMGVGRSITELKRSFRTLNSDLKVSSKNFEY...    1619      0  \n",
       "4      MAKKKNTYKVPSIIALTLAGTALTTHHAQAADKTQDQSTNKNILND...    1564      0  \n",
       "...                                                  ...     ...    ...  \n",
       "42440                                       GLYFRPRRRASS      12      1  \n",
       "42441                                       MESNPMTLVGCG      12      1  \n",
       "42442                                       IRCVGHWMQAEH      12      1  \n",
       "42443                                       APWSASTLHCPG      12      1  \n",
       "42444                                        APPGFTPFRIY      11      1  \n",
       "\n",
       "[42445 rows x 4 columns]"
      ]
     },
     "execution_count": 3,
     "metadata": {},
     "output_type": "execute_result"
    }
   ],
   "source": [
    "path = '../datasets/AMPS_NonAMPs.ready.csv'\n",
    "df=pd.read_csv(path,sep=',',header=0,quoting=csv.QUOTE_ALL)\n",
    "df"
   ]
  },
  {
   "cell_type": "code",
   "execution_count": 4,
   "metadata": {},
   "outputs": [
    {
     "data": {
      "text/plain": [
       "0        False\n",
       "1        False\n",
       "2        False\n",
       "3        False\n",
       "4        False\n",
       "         ...  \n",
       "42440    False\n",
       "42441    False\n",
       "42442    False\n",
       "42443    False\n",
       "42444     True\n",
       "Name: Sequence, Length: 42445, dtype: bool"
      ]
     },
     "execution_count": 4,
     "metadata": {},
     "output_type": "execute_result"
    }
   ],
   "source": [
    "df['Sequence'].duplicated()"
   ]
  },
  {
   "cell_type": "code",
   "execution_count": 5,
   "metadata": {},
   "outputs": [
    {
     "data": {
      "text/html": [
       "<div>\n",
       "<style scoped>\n",
       "    .dataframe tbody tr th:only-of-type {\n",
       "        vertical-align: middle;\n",
       "    }\n",
       "\n",
       "    .dataframe tbody tr th {\n",
       "        vertical-align: top;\n",
       "    }\n",
       "\n",
       "    .dataframe thead th {\n",
       "        text-align: right;\n",
       "    }\n",
       "</style>\n",
       "<table border=\"1\" class=\"dataframe\">\n",
       "  <thead>\n",
       "    <tr style=\"text-align: right;\">\n",
       "      <th></th>\n",
       "      <th>ID</th>\n",
       "      <th>Sequence</th>\n",
       "      <th>length</th>\n",
       "      <th>class</th>\n",
       "    </tr>\n",
       "  </thead>\n",
       "  <tbody>\n",
       "    <tr>\n",
       "      <th>21782</th>\n",
       "      <td>UniRef50_P62975 Ubiquitin n=51 Tax=root TaxID=...</td>\n",
       "      <td>MQIFVKTLTGKTITLEVEPSDTIENVKAKIQDKEGIPPDQQRLIFA...</td>\n",
       "      <td>76</td>\n",
       "      <td>1</td>\n",
       "    </tr>\n",
       "    <tr>\n",
       "      <th>22441</th>\n",
       "      <td>UniRef50_P62581 Caeridin-1.4 n=43 Tax=Opisthok...</td>\n",
       "      <td>GLLDGLLGGLGL</td>\n",
       "      <td>12</td>\n",
       "      <td>1</td>\n",
       "    </tr>\n",
       "    <tr>\n",
       "      <th>22831</th>\n",
       "      <td>UniRef50_P59259 Histone H4 n=223 Tax=cellular ...</td>\n",
       "      <td>MSGRGKGGKGLGKGGAKRHRKVLRDNIQGITKPAIRRLARRGGVKR...</td>\n",
       "      <td>103</td>\n",
       "      <td>1</td>\n",
       "    </tr>\n",
       "    <tr>\n",
       "      <th>23149</th>\n",
       "      <td>UniRef50_P62805 Histone H4 n=1661 Tax=cellular...</td>\n",
       "      <td>MSGRGKGGKGLGKGGAKRHRKVLRDNIQGITKPAIRRLARRGGVKR...</td>\n",
       "      <td>103</td>\n",
       "      <td>1</td>\n",
       "    </tr>\n",
       "    <tr>\n",
       "      <th>24669</th>\n",
       "      <td>UniRef50_P86282 Phylloseptin Bu-1 n=2 Tax=Tetr...</td>\n",
       "      <td>FLISIPYSASIGGTATLTGTA</td>\n",
       "      <td>21</td>\n",
       "      <td>1</td>\n",
       "    </tr>\n",
       "    <tr>\n",
       "      <th>...</th>\n",
       "      <td>...</td>\n",
       "      <td>...</td>\n",
       "      <td>...</td>\n",
       "      <td>...</td>\n",
       "    </tr>\n",
       "    <tr>\n",
       "      <th>41815</th>\n",
       "      <td>UniRef50_P42989 Substance P-like peptide 1 n=1...</td>\n",
       "      <td>QPNPDEFFGLM</td>\n",
       "      <td>11</td>\n",
       "      <td>1</td>\n",
       "    </tr>\n",
       "    <tr>\n",
       "      <th>41816</th>\n",
       "      <td>UniRef50_P42990 Substance P-like peptide 2 n=1...</td>\n",
       "      <td>QPNPNEFFGLM</td>\n",
       "      <td>11</td>\n",
       "      <td>1</td>\n",
       "    </tr>\n",
       "    <tr>\n",
       "      <th>41820</th>\n",
       "      <td>UniRef50_P08615 Physalaemin n=1 Tax=Physalaemu...</td>\n",
       "      <td>QADPNKFYGLM</td>\n",
       "      <td>11</td>\n",
       "      <td>1</td>\n",
       "    </tr>\n",
       "    <tr>\n",
       "      <th>42317</th>\n",
       "      <td>UniRef50_P62117 50S ribosomal protein L36  chl...</td>\n",
       "      <td>MKIRASVRKICEKCRLIRRRGRIIVICSNPRHKQRQG</td>\n",
       "      <td>37</td>\n",
       "      <td>1</td>\n",
       "    </tr>\n",
       "    <tr>\n",
       "      <th>42444</th>\n",
       "      <td>UniRef50_P86818 [Ala1 Thr6]-phyllokinin n=1 Ta...</td>\n",
       "      <td>APPGFTPFRIY</td>\n",
       "      <td>11</td>\n",
       "      <td>1</td>\n",
       "    </tr>\n",
       "  </tbody>\n",
       "</table>\n",
       "<p>494 rows × 4 columns</p>\n",
       "</div>"
      ],
      "text/plain": [
       "                                                      ID  \\\n",
       "21782  UniRef50_P62975 Ubiquitin n=51 Tax=root TaxID=...   \n",
       "22441  UniRef50_P62581 Caeridin-1.4 n=43 Tax=Opisthok...   \n",
       "22831  UniRef50_P59259 Histone H4 n=223 Tax=cellular ...   \n",
       "23149  UniRef50_P62805 Histone H4 n=1661 Tax=cellular...   \n",
       "24669  UniRef50_P86282 Phylloseptin Bu-1 n=2 Tax=Tetr...   \n",
       "...                                                  ...   \n",
       "41815  UniRef50_P42989 Substance P-like peptide 1 n=1...   \n",
       "41816  UniRef50_P42990 Substance P-like peptide 2 n=1...   \n",
       "41820  UniRef50_P08615 Physalaemin n=1 Tax=Physalaemu...   \n",
       "42317  UniRef50_P62117 50S ribosomal protein L36  chl...   \n",
       "42444  UniRef50_P86818 [Ala1 Thr6]-phyllokinin n=1 Ta...   \n",
       "\n",
       "                                                Sequence  length  class  \n",
       "21782  MQIFVKTLTGKTITLEVEPSDTIENVKAKIQDKEGIPPDQQRLIFA...      76      1  \n",
       "22441                                       GLLDGLLGGLGL      12      1  \n",
       "22831  MSGRGKGGKGLGKGGAKRHRKVLRDNIQGITKPAIRRLARRGGVKR...     103      1  \n",
       "23149  MSGRGKGGKGLGKGGAKRHRKVLRDNIQGITKPAIRRLARRGGVKR...     103      1  \n",
       "24669                              FLISIPYSASIGGTATLTGTA      21      1  \n",
       "...                                                  ...     ...    ...  \n",
       "41815                                        QPNPDEFFGLM      11      1  \n",
       "41816                                        QPNPNEFFGLM      11      1  \n",
       "41820                                        QADPNKFYGLM      11      1  \n",
       "42317              MKIRASVRKICEKCRLIRRRGRIIVICSNPRHKQRQG      37      1  \n",
       "42444                                        APPGFTPFRIY      11      1  \n",
       "\n",
       "[494 rows x 4 columns]"
      ]
     },
     "execution_count": 5,
     "metadata": {},
     "output_type": "execute_result"
    }
   ],
   "source": [
    "dups = df[df['Sequence'].duplicated()]\n",
    "dups"
   ]
  },
  {
   "cell_type": "markdown",
   "metadata": {},
   "source": [
    "# Fix Records"
   ]
  },
  {
   "cell_type": "markdown",
   "metadata": {},
   "source": [
    "Deduplicate"
   ]
  },
  {
   "cell_type": "code",
   "execution_count": 6,
   "metadata": {},
   "outputs": [
    {
     "data": {
      "text/html": [
       "<div>\n",
       "<style scoped>\n",
       "    .dataframe tbody tr th:only-of-type {\n",
       "        vertical-align: middle;\n",
       "    }\n",
       "\n",
       "    .dataframe tbody tr th {\n",
       "        vertical-align: top;\n",
       "    }\n",
       "\n",
       "    .dataframe thead th {\n",
       "        text-align: right;\n",
       "    }\n",
       "</style>\n",
       "<table border=\"1\" class=\"dataframe\">\n",
       "  <thead>\n",
       "    <tr style=\"text-align: right;\">\n",
       "      <th></th>\n",
       "      <th>ID</th>\n",
       "      <th>Sequence</th>\n",
       "      <th>length</th>\n",
       "      <th>class</th>\n",
       "    </tr>\n",
       "  </thead>\n",
       "  <tbody>\n",
       "    <tr>\n",
       "      <th>0</th>\n",
       "      <td>EN92515250|C|B3FJD7|phage 201phi2-1 lysin</td>\n",
       "      <td>MAKKSVPLRKPAGSDGQGNIKVPGGPVVLDLGDFDDIFGPMESESP...</td>\n",
       "      <td>2337</td>\n",
       "      <td>0</td>\n",
       "    </tr>\n",
       "    <tr>\n",
       "      <th>1</th>\n",
       "      <td>EN54061055|C|F8SJ56|phage PhiPA3 lysin</td>\n",
       "      <td>MASKKTTLPKPKGINPQGSIVQLDLDDFDDLFDEDFGLPKKNSPYT...</td>\n",
       "      <td>2319</td>\n",
       "      <td>0</td>\n",
       "    </tr>\n",
       "    <tr>\n",
       "      <th>2</th>\n",
       "      <td>EN4815120|C|Q8SCY1|phage phiKZ lysin</td>\n",
       "      <td>MAKKVTLPKGQTGATGTTLGQAGNILDLSDVDDIFGDTPKAKKGSP...</td>\n",
       "      <td>2237</td>\n",
       "      <td>0</td>\n",
       "    </tr>\n",
       "    <tr>\n",
       "      <th>3</th>\n",
       "      <td>EN3016141|D|D2J8A7|bacteriocin</td>\n",
       "      <td>MAETIKGLRIDLSLKDMGVGRSITELKRSFRTLNSDLKVSSKNFEY...</td>\n",
       "      <td>1619</td>\n",
       "      <td>0</td>\n",
       "    </tr>\n",
       "    <tr>\n",
       "      <th>4</th>\n",
       "      <td>EN9175723|BD|Q93IM3|bacteriocin</td>\n",
       "      <td>MAKKKNTYKVPSIIALTLAGTALTTHHAQAADKTQDQSTNKNILND...</td>\n",
       "      <td>1564</td>\n",
       "      <td>0</td>\n",
       "    </tr>\n",
       "    <tr>\n",
       "      <th>...</th>\n",
       "      <td>...</td>\n",
       "      <td>...</td>\n",
       "      <td>...</td>\n",
       "      <td>...</td>\n",
       "    </tr>\n",
       "    <tr>\n",
       "      <th>42439</th>\n",
       "      <td>UniRef50_B2ABU5 Podospora anserina S mat+ geno...</td>\n",
       "      <td>MKWKAIIAAYGM</td>\n",
       "      <td>12</td>\n",
       "      <td>1</td>\n",
       "    </tr>\n",
       "    <tr>\n",
       "      <th>42440</th>\n",
       "      <td>UniRef50_A0A151HEL5 Zinc finger  C3HC4 type (R...</td>\n",
       "      <td>GLYFRPRRRASS</td>\n",
       "      <td>12</td>\n",
       "      <td>1</td>\n",
       "    </tr>\n",
       "    <tr>\n",
       "      <th>42441</th>\n",
       "      <td>UniRef50_K2MU79 Retrotransposon hot spot (RHS)...</td>\n",
       "      <td>MESNPMTLVGCG</td>\n",
       "      <td>12</td>\n",
       "      <td>1</td>\n",
       "    </tr>\n",
       "    <tr>\n",
       "      <th>42442</th>\n",
       "      <td>UniRef50_A0A1E1IUT2 Flagellar calcium-binding ...</td>\n",
       "      <td>IRCVGHWMQAEH</td>\n",
       "      <td>12</td>\n",
       "      <td>1</td>\n",
       "    </tr>\n",
       "    <tr>\n",
       "      <th>42443</th>\n",
       "      <td>UniRef50_A0A0S4ITT4 Dopa decarboxylase  putati...</td>\n",
       "      <td>APWSASTLHCPG</td>\n",
       "      <td>12</td>\n",
       "      <td>1</td>\n",
       "    </tr>\n",
       "  </tbody>\n",
       "</table>\n",
       "<p>41951 rows × 4 columns</p>\n",
       "</div>"
      ],
      "text/plain": [
       "                                                      ID  \\\n",
       "0              EN92515250|C|B3FJD7|phage 201phi2-1 lysin   \n",
       "1                 EN54061055|C|F8SJ56|phage PhiPA3 lysin   \n",
       "2                   EN4815120|C|Q8SCY1|phage phiKZ lysin   \n",
       "3                         EN3016141|D|D2J8A7|bacteriocin   \n",
       "4                        EN9175723|BD|Q93IM3|bacteriocin   \n",
       "...                                                  ...   \n",
       "42439  UniRef50_B2ABU5 Podospora anserina S mat+ geno...   \n",
       "42440  UniRef50_A0A151HEL5 Zinc finger  C3HC4 type (R...   \n",
       "42441  UniRef50_K2MU79 Retrotransposon hot spot (RHS)...   \n",
       "42442  UniRef50_A0A1E1IUT2 Flagellar calcium-binding ...   \n",
       "42443  UniRef50_A0A0S4ITT4 Dopa decarboxylase  putati...   \n",
       "\n",
       "                                                Sequence  length  class  \n",
       "0      MAKKSVPLRKPAGSDGQGNIKVPGGPVVLDLGDFDDIFGPMESESP...    2337      0  \n",
       "1      MASKKTTLPKPKGINPQGSIVQLDLDDFDDLFDEDFGLPKKNSPYT...    2319      0  \n",
       "2      MAKKVTLPKGQTGATGTTLGQAGNILDLSDVDDIFGDTPKAKKGSP...    2237      0  \n",
       "3      MAETIKGLRIDLSLKDMGVGRSITELKRSFRTLNSDLKVSSKNFEY...    1619      0  \n",
       "4      MAKKKNTYKVPSIIALTLAGTALTTHHAQAADKTQDQSTNKNILND...    1564      0  \n",
       "...                                                  ...     ...    ...  \n",
       "42439                                       MKWKAIIAAYGM      12      1  \n",
       "42440                                       GLYFRPRRRASS      12      1  \n",
       "42441                                       MESNPMTLVGCG      12      1  \n",
       "42442                                       IRCVGHWMQAEH      12      1  \n",
       "42443                                       APWSASTLHCPG      12      1  \n",
       "\n",
       "[41951 rows x 4 columns]"
      ]
     },
     "execution_count": 6,
     "metadata": {},
     "output_type": "execute_result"
    }
   ],
   "source": [
    "df.drop_duplicates(subset=['Sequence'],inplace=True)\n",
    "df"
   ]
  },
  {
   "cell_type": "code",
   "execution_count": 13,
   "metadata": {},
   "outputs": [],
   "source": [
    "df.to_csv(\"../datasets/deduplicate/AMPS_NonAMPs.ready.csv\",sep=\",\", quotechar='\"',index=False, quoting=csv.QUOTE_ALL)"
   ]
  },
  {
   "cell_type": "markdown",
   "metadata": {},
   "source": [
    "## NonAMPs Only"
   ]
  },
  {
   "cell_type": "code",
   "execution_count": 8,
   "metadata": {},
   "outputs": [
    {
     "data": {
      "text/html": [
       "<div>\n",
       "<style scoped>\n",
       "    .dataframe tbody tr th:only-of-type {\n",
       "        vertical-align: middle;\n",
       "    }\n",
       "\n",
       "    .dataframe tbody tr th {\n",
       "        vertical-align: top;\n",
       "    }\n",
       "\n",
       "    .dataframe thead th {\n",
       "        text-align: right;\n",
       "    }\n",
       "</style>\n",
       "<table border=\"1\" class=\"dataframe\">\n",
       "  <thead>\n",
       "    <tr style=\"text-align: right;\">\n",
       "      <th></th>\n",
       "      <th>ID</th>\n",
       "      <th>Sequence</th>\n",
       "      <th>length</th>\n",
       "      <th>class</th>\n",
       "    </tr>\n",
       "  </thead>\n",
       "  <tbody>\n",
       "    <tr>\n",
       "      <th>21226</th>\n",
       "      <td>UniRef50_A0A672ZWI7 Ig-like domain-containing ...</td>\n",
       "      <td>MVIHQRHTSDESFSSSPVEIRITAATPIPELAEERSAEKPPAVTET...</td>\n",
       "      <td>189</td>\n",
       "      <td>1</td>\n",
       "    </tr>\n",
       "    <tr>\n",
       "      <th>21227</th>\n",
       "      <td>UniRef50_A0A3Q2PZR6 Uncharacterized protein n=...</td>\n",
       "      <td>MSTQAPTFTQPLQSVVALEGSAATFEAQVSGSPVPEVSWFRDGQVL...</td>\n",
       "      <td>295</td>\n",
       "      <td>1</td>\n",
       "    </tr>\n",
       "    <tr>\n",
       "      <th>21228</th>\n",
       "      <td>UniRef50_V9IMB4 Titin n=21 Tax=Apis TaxID=7459...</td>\n",
       "      <td>MWMEVGRVNADTQKLNIRDLQENHMYLIRIFAKNEVGLSDPLESDE...</td>\n",
       "      <td>121</td>\n",
       "      <td>1</td>\n",
       "    </tr>\n",
       "    <tr>\n",
       "      <th>21229</th>\n",
       "      <td>UniRef50_B4IRR3 GL21409 (Fragment) n=18 Tax=Dr...</td>\n",
       "      <td>IIHPLEDVSVTKGENAIFELELSKGDALVKWFKNGKELVFNDRVQL...</td>\n",
       "      <td>320</td>\n",
       "      <td>1</td>\n",
       "    </tr>\n",
       "    <tr>\n",
       "      <th>21230</th>\n",
       "      <td>UniRef50_UPI00083D1E21 titin-like n=26 Tax=Apo...</td>\n",
       "      <td>HDFGIVILDILYCYEENSGVYECRAFNKYGEDTTKATLKCFSKASL...</td>\n",
       "      <td>65</td>\n",
       "      <td>1</td>\n",
       "    </tr>\n",
       "    <tr>\n",
       "      <th>...</th>\n",
       "      <td>...</td>\n",
       "      <td>...</td>\n",
       "      <td>...</td>\n",
       "      <td>...</td>\n",
       "    </tr>\n",
       "    <tr>\n",
       "      <th>42439</th>\n",
       "      <td>UniRef50_B2ABU5 Podospora anserina S mat+ geno...</td>\n",
       "      <td>MKWKAIIAAYGM</td>\n",
       "      <td>12</td>\n",
       "      <td>1</td>\n",
       "    </tr>\n",
       "    <tr>\n",
       "      <th>42440</th>\n",
       "      <td>UniRef50_A0A151HEL5 Zinc finger  C3HC4 type (R...</td>\n",
       "      <td>GLYFRPRRRASS</td>\n",
       "      <td>12</td>\n",
       "      <td>1</td>\n",
       "    </tr>\n",
       "    <tr>\n",
       "      <th>42441</th>\n",
       "      <td>UniRef50_K2MU79 Retrotransposon hot spot (RHS)...</td>\n",
       "      <td>MESNPMTLVGCG</td>\n",
       "      <td>12</td>\n",
       "      <td>1</td>\n",
       "    </tr>\n",
       "    <tr>\n",
       "      <th>42442</th>\n",
       "      <td>UniRef50_A0A1E1IUT2 Flagellar calcium-binding ...</td>\n",
       "      <td>IRCVGHWMQAEH</td>\n",
       "      <td>12</td>\n",
       "      <td>1</td>\n",
       "    </tr>\n",
       "    <tr>\n",
       "      <th>42443</th>\n",
       "      <td>UniRef50_A0A0S4ITT4 Dopa decarboxylase  putati...</td>\n",
       "      <td>APWSASTLHCPG</td>\n",
       "      <td>12</td>\n",
       "      <td>1</td>\n",
       "    </tr>\n",
       "  </tbody>\n",
       "</table>\n",
       "<p>20725 rows × 4 columns</p>\n",
       "</div>"
      ],
      "text/plain": [
       "                                                      ID  \\\n",
       "21226  UniRef50_A0A672ZWI7 Ig-like domain-containing ...   \n",
       "21227  UniRef50_A0A3Q2PZR6 Uncharacterized protein n=...   \n",
       "21228  UniRef50_V9IMB4 Titin n=21 Tax=Apis TaxID=7459...   \n",
       "21229  UniRef50_B4IRR3 GL21409 (Fragment) n=18 Tax=Dr...   \n",
       "21230  UniRef50_UPI00083D1E21 titin-like n=26 Tax=Apo...   \n",
       "...                                                  ...   \n",
       "42439  UniRef50_B2ABU5 Podospora anserina S mat+ geno...   \n",
       "42440  UniRef50_A0A151HEL5 Zinc finger  C3HC4 type (R...   \n",
       "42441  UniRef50_K2MU79 Retrotransposon hot spot (RHS)...   \n",
       "42442  UniRef50_A0A1E1IUT2 Flagellar calcium-binding ...   \n",
       "42443  UniRef50_A0A0S4ITT4 Dopa decarboxylase  putati...   \n",
       "\n",
       "                                                Sequence  length  class  \n",
       "21226  MVIHQRHTSDESFSSSPVEIRITAATPIPELAEERSAEKPPAVTET...     189      1  \n",
       "21227  MSTQAPTFTQPLQSVVALEGSAATFEAQVSGSPVPEVSWFRDGQVL...     295      1  \n",
       "21228  MWMEVGRVNADTQKLNIRDLQENHMYLIRIFAKNEVGLSDPLESDE...     121      1  \n",
       "21229  IIHPLEDVSVTKGENAIFELELSKGDALVKWFKNGKELVFNDRVQL...     320      1  \n",
       "21230  HDFGIVILDILYCYEENSGVYECRAFNKYGEDTTKATLKCFSKASL...      65      1  \n",
       "...                                                  ...     ...    ...  \n",
       "42439                                       MKWKAIIAAYGM      12      1  \n",
       "42440                                       GLYFRPRRRASS      12      1  \n",
       "42441                                       MESNPMTLVGCG      12      1  \n",
       "42442                                       IRCVGHWMQAEH      12      1  \n",
       "42443                                       APWSASTLHCPG      12      1  \n",
       "\n",
       "[20725 rows x 4 columns]"
      ]
     },
     "execution_count": 8,
     "metadata": {},
     "output_type": "execute_result"
    }
   ],
   "source": [
    "NonAMPs_df = df[df[\"class\"] == 1]\n",
    "NonAMPs_df"
   ]
  },
  {
   "cell_type": "code",
   "execution_count": 9,
   "metadata": {},
   "outputs": [
    {
     "name": "stdout",
     "output_type": "stream",
     "text": [
      "Count Records: 20725\n",
      "A: 96580, (7.58%)\n",
      "B: 12, (0.00%)\n",
      "C: 24057, (1.89%)\n",
      "D: 67814, (5.32%)\n",
      "E: 79808, (6.26%)\n",
      "F: 46782, (3.67%)\n",
      "G: 86580, (6.79%)\n",
      "H: 29437, (2.31%)\n",
      "I: 65922, (5.17%)\n",
      "K: 73834, (5.79%)\n",
      "L: 116169, (9.11%)\n",
      "M: 37276, (2.92%)\n",
      "N: 55393, (4.35%)\n",
      "P: 62403, (4.90%)\n",
      "Q: 51729, (4.06%)\n",
      "R: 72201, (5.66%)\n",
      "S: 99277, (7.79%)\n",
      "T: 76551, (6.01%)\n",
      "V: 80353, (6.30%)\n",
      "W: 15322, (1.20%)\n",
      "X: 771, (0.06%)\n",
      "Y: 36494, (2.86%)\n",
      "Z: 6, (0.00%)\n"
     ]
    },
    {
     "data": {
      "image/png": "[encoded data removed]",
      "text/plain": [
       "<Figure size 432x288 with 1 Axes>"
      ]
     },
     "metadata": {
      "needs_background": "light"
     },
     "output_type": "display_data"
    }
   ],
   "source": [
    "countProtien(NonAMPs_df,\"Non-AMPs\")"
   ]
  },
  {
   "cell_type": "markdown",
   "metadata": {},
   "source": [
    "## Plot"
   ]
  },
  {
   "cell_type": "code",
   "execution_count": 14,
   "metadata": {},
   "outputs": [],
   "source": [
    "Old_readyfile = pd.read_csv(\"../datasets/AMPS_NonAMPs.ready.csv\",sep=',',header=0,quoting=csv.QUOTE_ALL)\n",
    "new_readyfile = pd.read_csv(\"../datasets/deduplicate/AMPS_NonAMPs.ready.csv\",sep=',',header=0,quoting=csv.QUOTE_ALL)"
   ]
  },
  {
   "cell_type": "code",
   "execution_count": 20,
   "metadata": {},
   "outputs": [
    {
     "data": {
      "image/png": "[encoded data removed]",
      "text/plain": [
       "<Figure size 432x288 with 1 Axes>"
      ]
     },
     "metadata": {
      "needs_background": "light"
     },
     "output_type": "display_data"
    },
    {
     "data": {
      "image/png": "[encoded data removed]",
      "text/plain": [
       "<Figure size 432x288 with 1 Axes>"
      ]
     },
     "metadata": {
      "needs_background": "light"
     },
     "output_type": "display_data"
    }
   ],
   "source": [
    "lengthDistribution(Old_readyfile,\"Old ready file\")\n",
    "lengthDistribution(new_readyfile,\"New ready file\")"
   ]
  },
  {
   "cell_type": "code",
   "execution_count": 21,
   "metadata": {},
   "outputs": [
    {
     "name": "stdout",
     "output_type": "stream",
     "text": [
      "Count Records: 42445\n",
      "A: 196016, (7.63%)\n",
      "B: 32, (0.00%)\n",
      "C: 68449, (2.67%)\n",
      "D: 120802, (4.70%)\n",
      "E: 137765, (5.36%)\n",
      "F: 95280, (3.71%)\n",
      "G: 196886, (7.67%)\n",
      "H: 53953, (2.10%)\n",
      "I: 135815, (5.29%)\n",
      "J: 73, (0.00%)\n",
      "K: 187362, (7.30%)\n",
      "L: 221472, (8.62%)\n",
      "M: 60134, (2.34%)\n",
      "N: 119257, (4.64%)\n",
      "O: 105, (0.00%)\n",
      "P: 116950, (4.55%)\n",
      "Q: 97789, (3.81%)\n",
      "R: 144702, (5.63%)\n",
      "S: 179948, (7.01%)\n",
      "T: 146250, (5.69%)\n",
      "U: 6, (0.00%)\n",
      "V: 159652, (6.22%)\n",
      "W: 41184, (1.60%)\n",
      "X: 4088, (0.16%)\n",
      "Y: 84121, (3.28%)\n",
      "Z: 48, (0.00%)\n"
     ]
    },
    {
     "data": {
      "image/png": "[encoded data removed]",
      "text/plain": [
       "<Figure size 432x288 with 1 Axes>"
      ]
     },
     "metadata": {
      "needs_background": "light"
     },
     "output_type": "display_data"
    }
   ],
   "source": [
    "countProtien(Old_readyfile,\"Old ready file\")\n"
   ]
  },
  {
   "cell_type": "code",
   "execution_count": 22,
   "metadata": {},
   "outputs": [
    {
     "name": "stdout",
     "output_type": "stream",
     "text": [
      "Count Records: 41951\n",
      "A: 195234, (7.63%)\n",
      "B: 32, (0.00%)\n",
      "C: 68228, (2.67%)\n",
      "D: 120491, (4.71%)\n",
      "E: 137498, (5.37%)\n",
      "F: 94837, (3.71%)\n",
      "G: 195921, (7.66%)\n",
      "H: 53798, (2.10%)\n",
      "I: 135107, (5.28%)\n",
      "J: 73, (0.00%)\n",
      "K: 186436, (7.29%)\n",
      "L: 220356, (8.61%)\n",
      "M: 59977, (2.34%)\n",
      "N: 118939, (4.65%)\n",
      "O: 105, (0.00%)\n",
      "P: 116437, (4.55%)\n",
      "Q: 97516, (3.81%)\n",
      "R: 144317, (5.64%)\n",
      "S: 179465, (7.01%)\n",
      "T: 145945, (5.70%)\n",
      "U: 6, (0.00%)\n",
      "V: 159040, (6.22%)\n",
      "W: 41082, (1.61%)\n",
      "X: 4040, (0.16%)\n",
      "Y: 83951, (3.28%)\n",
      "Z: 48, (0.00%)\n"
     ]
    },
    {
     "data": {
      "image/png": "[encoded data removed]",
      "text/plain": [
       "<Figure size 432x288 with 1 Axes>"
      ]
     },
     "metadata": {
      "needs_background": "light"
     },
     "output_type": "display_data"
    }
   ],
   "source": [
    "countProtien(new_readyfile,\"New ready file\")"
   ]
  },
  {
   "cell_type": "markdown",
   "metadata": {},
   "source": [
    "# Pairwaise"
   ]
  },
  {
   "cell_type": "code",
   "execution_count": 4,
   "metadata": {},
   "outputs": [],
   "source": [
    "AMPsSeq = SeqIO.parse('amp_clustered100.22DBs.fasta', \"fasta\") \n",
    "NonAMPsSeq = SeqIO.parse('NonAMPs.ready.fasta', \"fasta\") "
   ]
  },
  {
   "cell_type": "code",
   "execution_count": null,
   "metadata": {},
   "outputs": [],
   "source": [
    "for record in AMPsSeq:\n",
    "    print(\"%s - %s\" % (record.seq, record.id))\n"
   ]
  },
  {
   "cell_type": "code",
   "execution_count": null,
   "metadata": {},
   "outputs": [],
   "source": [
    "SARS_COV = pairwise2.align.globalxx(SARS.seq, COV2.seq, one_alignment_only=True, score_only=True)"
   ]
  }
 ],
 "metadata": {
  "kernelspec": {
   "display_name": "Python 3",
   "language": "python",
   "name": "python3"
  },
  "language_info": {
   "codemirror_mode": {
    "name": "ipython",
    "version": 3
   },
   "file_extension": ".py",
   "mimetype": "text/x-python",
   "name": "python",
   "nbconvert_exporter": "python",
   "pygments_lexer": "ipython3",
   "version": "3.8.5"
  }
 },
 "nbformat": 4,
 "nbformat_minor": 4
}
