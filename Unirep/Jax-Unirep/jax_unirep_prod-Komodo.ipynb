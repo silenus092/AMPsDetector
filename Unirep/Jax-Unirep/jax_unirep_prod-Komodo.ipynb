{
 "cells": [
  {
   "cell_type": "code",
   "execution_count": null,
   "metadata": {
    "id": "DDCRQnyeZS5x"
   },
   "outputs": [],
   "source": [
    "!pip install scikit-plot\n",
    "!pip install jax-unirep"
   ]
  },
  {
   "cell_type": "markdown",
   "metadata": {
    "id": "HGOsaByCvPDu"
   },
   "source": [
    "Try to deal with GPU memory \n",
    "accroading to https://jax.readthedocs.io/en/latest/gpu_memory_allocation.html"
   ]
  },
  {
   "cell_type": "code",
   "execution_count": 1,
   "metadata": {
    "id": "Uq49wrJkr20U"
   },
   "outputs": [],
   "source": [
    "import os\n",
    "\n",
    "os.environ['XLA_PYTHON_CLIENT_PREALLOCATE']='False'\n",
    "os.environ['XLA_PYTHON_CLIENT_MEM_FRACTION']='.90'\n",
    "os.environ['XLA_PYTHON_CLIENT_ALLOCATOR']='platform'\n",
    "\n",
    "import jax\n",
    "# Global flag to set a specific platform, must be used at startup.\n",
    "#jax.config.update('jax_platform_name', 'cpu')\n",
    "\n",
    "import numpy as np\n",
    "import pandas as pd\n",
    "import csv\n",
    "import matplotlib.pyplot as plt\n",
    "\n",
    "from Bio import SeqIO\n",
    "import jax\n",
    "from jax_unirep import get_reps\n",
    "from jax_unirep import evotune, fit\n",
    "from jax_unirep.utils import dump_params"
   ]
  },
  {
   "cell_type": "code",
   "execution_count": 2,
   "metadata": {},
   "outputs": [],
   "source": [
    "import gc\n",
    "def clear_jax_caches():\n",
    "  \"\"\"Utility to clear all the function caches in jax.\"\"\"\n",
    "  # main jit/pmap lu wrapped function caches - have to grab from closures\n",
    "  jax.xla._xla_callable.__closure__[1].cell_contents.clear()\n",
    "  jax.pxla.parallel_callable.__closure__[1].cell_contents.clear()\n",
    "  # primitive callable caches\n",
    "  jax.xla.xla_primitive_callable.cache_clear()\n",
    "  jax.xla.primitive_computation.cache_clear()\n",
    "  # jaxpr caches for control flow and reductions\n",
    "  jax.lax.lax_control_flow._initial_style_jaxpr.cache_clear()\n",
    "  jax.lax.lax_control_flow._fori_body_fun.cache_clear()\n",
    "  jax.lax.lax._reduction_jaxpr.cache_clear()\n",
    "  # these are trivial and only included for completeness sake\n",
    "  jax.lax.lax.broadcast_shapes.cache_clear()\n",
    "  jax.xla.xb.get_backend.cache_clear()\n",
    "  jax.xla.xb.dtype_to_etype.cache_clear()\n",
    "  jax.xla.xb.supported_numpy_dtypes.cache_clear()\n",
    "    \n",
    "def reset_device_memory(delete_objs=True):\n",
    "    \"\"\"Free all tracked DeviceArray memory and delete objects.\n",
    "\n",
    "  Args:\n",
    "    delete_objs: bool: whether to delete all live DeviceValues or just free.\n",
    "\n",
    "  Returns:\n",
    "    number of DeviceArrays that were manually freed.\n",
    "  \"\"\"\n",
    "    dvals = (x for x in gc.get_objects() if isinstance(x, jax.xla.DeviceArray))\n",
    "    n_deleted = 0\n",
    "    for dv in dvals:\n",
    "    \n",
    "        if not isinstance(dv, jax.xla.DeviceConstant):\n",
    "            try: \n",
    "                dv._check_if_deleted()  # pylint: disable=protected-access\n",
    "                dv.device_buffer.delete()\n",
    "                n_deleted += 1\n",
    "            except:\n",
    "                pass\n",
    "        if delete_objs:\n",
    "\n",
    "            del dv\n",
    "    del dvals\n",
    "    gc.collect()\n",
    "    return n_deleted\n"
   ]
  },
  {
   "cell_type": "code",
   "execution_count": 3,
   "metadata": {},
   "outputs": [
    {
     "data": {
      "text/html": [
       "<div>\n",
       "<style scoped>\n",
       "    .dataframe tbody tr th:only-of-type {\n",
       "        vertical-align: middle;\n",
       "    }\n",
       "\n",
       "    .dataframe tbody tr th {\n",
       "        vertical-align: top;\n",
       "    }\n",
       "\n",
       "    .dataframe thead th {\n",
       "        text-align: right;\n",
       "    }\n",
       "</style>\n",
       "<table border=\"1\" class=\"dataframe\">\n",
       "  <thead>\n",
       "    <tr style=\"text-align: right;\">\n",
       "      <th></th>\n",
       "      <th>ID</th>\n",
       "      <th>Sequence</th>\n",
       "      <th>length</th>\n",
       "    </tr>\n",
       "  </thead>\n",
       "  <tbody>\n",
       "    <tr>\n",
       "      <th>0</th>\n",
       "      <td>34</td>\n",
       "      <td>LVLLNTEERPHFYTLYLEEPDFSGHRYGPVSSEVILALQRVDKVVE...</td>\n",
       "      <td>116</td>\n",
       "    </tr>\n",
       "    <tr>\n",
       "      <th>1</th>\n",
       "      <td>38</td>\n",
       "      <td>RKKQYLRLLASTILPLNKYNQKQKGQTFVFGRKYDREFGLGSRRTL...</td>\n",
       "      <td>122</td>\n",
       "    </tr>\n",
       "    <tr>\n",
       "      <th>2</th>\n",
       "      <td>59</td>\n",
       "      <td>LSVVDKVTDENILRSANWSPLFNATILWACQINSTSFVSKGICMTL...</td>\n",
       "      <td>106</td>\n",
       "    </tr>\n",
       "    <tr>\n",
       "      <th>3</th>\n",
       "      <td>61</td>\n",
       "      <td>AHFENRKKEEEELIFLKDRIEQRRAERAEQQRIRSEREKERQARLA...</td>\n",
       "      <td>101</td>\n",
       "    </tr>\n",
       "    <tr>\n",
       "      <th>4</th>\n",
       "      <td>69</td>\n",
       "      <td>KQKVTISGESSGWAASDKRVSQGSVLGPILFNLFINDMEEGVNSLL...</td>\n",
       "      <td>166</td>\n",
       "    </tr>\n",
       "    <tr>\n",
       "      <th>...</th>\n",
       "      <td>...</td>\n",
       "      <td>...</td>\n",
       "      <td>...</td>\n",
       "    </tr>\n",
       "    <tr>\n",
       "      <th>1468918</th>\n",
       "      <td>34495360</td>\n",
       "      <td>IRKNFLFFIRSGWVDFTIPTFHSQYPEDTGHARRKPFSFNGERLLF...</td>\n",
       "      <td>100</td>\n",
       "    </tr>\n",
       "    <tr>\n",
       "      <th>1468919</th>\n",
       "      <td>34495366</td>\n",
       "      <td>WTKQLTKALLSFVDDLPPTRPKRPHALPTKLFIPSGSLTDTLRDII...</td>\n",
       "      <td>138</td>\n",
       "    </tr>\n",
       "    <tr>\n",
       "      <th>1468920</th>\n",
       "      <td>34495367</td>\n",
       "      <td>LEYHPPCCPAESLPELMEVVLDSVLRTARKMVLGDLNFCTEATLSG...</td>\n",
       "      <td>119</td>\n",
       "    </tr>\n",
       "    <tr>\n",
       "      <th>1468921</th>\n",
       "      <td>34495419</td>\n",
       "      <td>SKTTQRRIVGEALNTQRLAWNHVNYGSISRFEGFWTIFQLLTRTTI...</td>\n",
       "      <td>89</td>\n",
       "    </tr>\n",
       "    <tr>\n",
       "      <th>1468922</th>\n",
       "      <td>34495428</td>\n",
       "      <td>TPADNSSDTTLLNVALELGLQVMRMTLSTLNWRRVYQLCSMLTCAT...</td>\n",
       "      <td>241</td>\n",
       "    </tr>\n",
       "  </tbody>\n",
       "</table>\n",
       "<p>1468923 rows × 3 columns</p>\n",
       "</div>"
      ],
      "text/plain": [
       "               ID                                           Sequence  length\n",
       "0              34  LVLLNTEERPHFYTLYLEEPDFSGHRYGPVSSEVILALQRVDKVVE...     116\n",
       "1              38  RKKQYLRLLASTILPLNKYNQKQKGQTFVFGRKYDREFGLGSRRTL...     122\n",
       "2              59  LSVVDKVTDENILRSANWSPLFNATILWACQINSTSFVSKGICMTL...     106\n",
       "3              61  AHFENRKKEEEELIFLKDRIEQRRAERAEQQRIRSEREKERQARLA...     101\n",
       "4              69  KQKVTISGESSGWAASDKRVSQGSVLGPILFNLFINDMEEGVNSLL...     166\n",
       "...           ...                                                ...     ...\n",
       "1468918  34495360  IRKNFLFFIRSGWVDFTIPTFHSQYPEDTGHARRKPFSFNGERLLF...     100\n",
       "1468919  34495366  WTKQLTKALLSFVDDLPPTRPKRPHALPTKLFIPSGSLTDTLRDII...     138\n",
       "1468920  34495367  LEYHPPCCPAESLPELMEVVLDSVLRTARKMVLGDLNFCTEATLSG...     119\n",
       "1468921  34495419  SKTTQRRIVGEALNTQRLAWNHVNYGSISRFEGFWTIFQLLTRTTI...      89\n",
       "1468922  34495428  TPADNSSDTTLLNVALELGLQVMRMTLSTLNWRRVYQLCSMLTCAT...     241\n",
       "\n",
       "[1468923 rows x 3 columns]"
      ]
     },
     "execution_count": 3,
     "metadata": {},
     "output_type": "execute_result"
    }
   ],
   "source": [
    "fastas = \"/home/ubuntu/data/bk_fasta/ALK-2620-02_S2_L001.assembly.len10.cd100.fasta\"\n",
    "with open(fastas) as fasta_file:  # Will close handle cleanly\n",
    "    identifiers = []\n",
    "    lengths = []\n",
    "    seqs = []\n",
    "    for seq_record in SeqIO.parse(fasta_file, 'fasta'):  # (generator)\n",
    "        identifiers.append(seq_record.id)\n",
    "        # Remove leading and trailing characters from a string\n",
    "        seqs.append(str(seq_record.seq.strip('*')))\n",
    "        lengths.append(len(seq_record.seq))\n",
    "# dictionary of lists  \n",
    "dict = {'ID': identifiers, 'Sequence': seqs, 'length': lengths}  \n",
    "df = pd.DataFrame(dict) \n",
    "#df[\"Sequence\"] =  seqs\n",
    "#df.to_pickle(plk)    \n",
    "df  "
   ]
  },
  {
   "cell_type": "code",
   "execution_count": 4,
   "metadata": {},
   "outputs": [
    {
     "name": "stdout",
     "output_type": "stream",
     "text": [
      "complete\n"
     ]
    }
   ],
   "source": [
    "# Setting my chunk size\n",
    "chunk_size = 2000\n",
    "# Assigning chunk numbers to rows\n",
    "df['chunk'] = df['ID'].apply(lambda x: int(int(x)/ chunk_size))\n",
    "# We don't want the 'chunk' and 'index' columns in the output\n",
    "cols = [col for col in df.columns if col not in ['chunk']]\n",
    "# groupby chunk and export each chunk to a different csv.\n",
    "i = 0\n",
    "for _, chunk in df.groupby('chunk'):\n",
    "    chunk[cols].to_csv(f'/mnt/vdb/komodo/cd100/chunks/chunk{i}.csv', index=False)\n",
    "    i += 1\n",
    "print(\"complete\")"
   ]
  },
  {
   "cell_type": "code",
   "execution_count": 3,
   "metadata": {},
   "outputs": [],
   "source": [
    "def createREPs(df, filename):\n",
    "    _h_avg, h_final, c_final= get_reps(df['Sequence'].to_list())\n",
    "    df.drop(columns=['Sequence'], inplace=True)\n",
    "    df['reps']=_h_avg.tolist() # if there is a problem , might be here , possible solution is reindexing\n",
    "    df.to_pickle(filename) # dont forget to change the file name to 0_613834"
   ]
  },
  {
   "cell_type": "code",
   "execution_count": 4,
   "metadata": {},
   "outputs": [
    {
     "name": "stdout",
     "output_type": "stream",
     "text": [
      "626\n"
     ]
    }
   ],
   "source": [
    "import glob\n",
    "appended_reps = []\n",
    "for infile in glob.glob(\"/mnt/vdb/komodo/cd100/reps/*.pkl\"):\n",
    "    # print(infile)\n",
    "    appended_reps.append(infile)\n",
    "print(len(appended_reps))"
   ]
  },
  {
   "cell_type": "code",
   "execution_count": null,
   "metadata": {
    "scrolled": true
   },
   "outputs": [],
   "source": [
    "for infile in glob.glob(\"/mnt/vdb/komodo/cd100/chunks/*.csv\"):\n",
    "    #print(\"Read:\"+infile)\n",
    "    file_name = os.path.basename(infile)\n",
    "    result=\"/mnt/vdb/komodo/cd100/reps/\"+file_name.replace(\"csv\", \"pkl\")\n",
    "    if result in appended_reps :\n",
    "        # print(\"found then skip : \" , result)\n",
    "        continue\n",
    "    else:\n",
    "        df = pd.read_csv(infile) \n",
    "        createREPs(df,result)\n",
    "        print(\"Save:\"+result)\n",
    "        reset_device_memory()\n",
    "        clear_jax_caches()\n",
    "print(\"complete\")"
   ]
  },
  {
   "cell_type": "code",
   "execution_count": null,
   "metadata": {},
   "outputs": [],
   "source": []
  },
  {
   "cell_type": "code",
   "execution_count": null,
   "metadata": {},
   "outputs": [],
   "source": [
    "df.to_pickle(plk)\n"
   ]
  }
 ],
 "metadata": {
  "accelerator": "GPU",
  "colab": {
   "name": "jax-unirep.ipynb",
   "provenance": [],
   "toc_visible": true
  },
  "kernelspec": {
   "display_name": "Python 3",
   "language": "python",
   "name": "python3"
  },
  "language_info": {
   "codemirror_mode": {
    "name": "ipython",
    "version": 3
   },
   "file_extension": ".py",
   "mimetype": "text/x-python",
   "name": "python",
   "nbconvert_exporter": "python",
   "pygments_lexer": "ipython3",
   "version": "3.7.9"
  }
 },
 "nbformat": 4,
 "nbformat_minor": 4
}
