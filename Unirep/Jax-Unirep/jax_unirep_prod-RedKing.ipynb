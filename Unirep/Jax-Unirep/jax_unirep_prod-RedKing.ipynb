{
 "cells": [
  {
   "cell_type": "code",
   "execution_count": null,
   "metadata": {
    "id": "DDCRQnyeZS5x"
   },
   "outputs": [],
   "source": [
    "!pip install scikit-plot\n",
    "!pip install jax-unirep"
   ]
  },
  {
   "cell_type": "markdown",
   "metadata": {
    "id": "HGOsaByCvPDu"
   },
   "source": [
    "Try to deal with GPU memory \n",
    "accroading to https://jax.readthedocs.io/en/latest/gpu_memory_allocation.html"
   ]
  },
  {
   "cell_type": "code",
   "execution_count": 1,
   "metadata": {
    "id": "Uq49wrJkr20U"
   },
   "outputs": [
    {
     "name": "stderr",
     "output_type": "stream",
     "text": [
      "/home/kongkitimanonk/.conda/envs/jupyter_NB/lib/python3.8/site-packages/jax/lib/xla_bridge.py:130: UserWarning: No GPU/TPU found, falling back to CPU.\n",
      "  warnings.warn('No GPU/TPU found, falling back to CPU.')\n"
     ]
    }
   ],
   "source": [
    "import numpy as np\n",
    "import pandas as pd\n",
    "import csv\n",
    "import matplotlib.pyplot as plt\n",
    "\n",
    "from Bio import SeqIO\n",
    "from jax_unirep import get_reps\n",
    "from jax_unirep import evotune, fit\n",
    "from jax_unirep.utils import dump_params"
   ]
  },
  {
   "cell_type": "code",
   "execution_count": 2,
   "metadata": {},
   "outputs": [],
   "source": [
    "fastas = \"/home/kongkitimanonk/SCRATCH_NOBAK/cd-hit/bk_fasta/SRR8608947.assembly.len10.fasta\"\n",
    "plk = \"/home/kongkitimanonk/SCRATCH_NOBAK/phase3/RedKingCrab.len10.pkl\""
   ]
  },
  {
   "cell_type": "code",
   "execution_count": 3,
   "metadata": {},
   "outputs": [],
   "source": [
    "with open(fastas) as fasta_file:  # Will close handle cleanly\n",
    "    identifiers = []\n",
    "    lengths = []\n",
    "    seqs = []\n",
    "    for seq_record in SeqIO.parse(fasta_file, 'fasta'):  # (generator)\n",
    "        identifiers.append(seq_record.id)\n",
    "        # Remove leading and trailing characters from a string\n",
    "        seqs.append(str(seq_record.seq.strip('*')))\n",
    "        lengths.append(len(seq_record.seq))"
   ]
  },
  {
   "cell_type": "code",
   "execution_count": 4,
   "metadata": {},
   "outputs": [
    {
     "data": {
      "text/html": [
       "<div>\n",
       "<style scoped>\n",
       "    .dataframe tbody tr th:only-of-type {\n",
       "        vertical-align: middle;\n",
       "    }\n",
       "\n",
       "    .dataframe tbody tr th {\n",
       "        vertical-align: top;\n",
       "    }\n",
       "\n",
       "    .dataframe thead th {\n",
       "        text-align: right;\n",
       "    }\n",
       "</style>\n",
       "<table border=\"1\" class=\"dataframe\">\n",
       "  <thead>\n",
       "    <tr style=\"text-align: right;\">\n",
       "      <th></th>\n",
       "      <th>ID</th>\n",
       "      <th>Sequence</th>\n",
       "      <th>length</th>\n",
       "    </tr>\n",
       "  </thead>\n",
       "  <tbody>\n",
       "    <tr>\n",
       "      <th>0</th>\n",
       "      <td>0</td>\n",
       "      <td>QGDMVVIQCLVHKGKHSLCHLLGAVKVMVTVGKN</td>\n",
       "      <td>34</td>\n",
       "    </tr>\n",
       "    <tr>\n",
       "      <th>1</th>\n",
       "      <td>1</td>\n",
       "      <td>VLPDGDHDLDRAQKVTETVLAFVYKALNDHHVSLRVPCSNPT</td>\n",
       "      <td>42</td>\n",
       "    </tr>\n",
       "    <tr>\n",
       "      <th>2</th>\n",
       "      <td>2</td>\n",
       "      <td>MYGSTGPPHSEHLGGRGGCSLA</td>\n",
       "      <td>24</td>\n",
       "    </tr>\n",
       "    <tr>\n",
       "      <th>3</th>\n",
       "      <td>3</td>\n",
       "      <td>LLWVVVVFWMLEVVSLVSVVSVVDMVLVLESVSVVDSVVVLE</td>\n",
       "      <td>42</td>\n",
       "    </tr>\n",
       "    <tr>\n",
       "      <th>4</th>\n",
       "      <td>4</td>\n",
       "      <td>FNLRSNLTSFLILSFGPALCELFWETQWSGSTNLEANSN</td>\n",
       "      <td>40</td>\n",
       "    </tr>\n",
       "    <tr>\n",
       "      <th>...</th>\n",
       "      <td>...</td>\n",
       "      <td>...</td>\n",
       "      <td>...</td>\n",
       "    </tr>\n",
       "    <tr>\n",
       "      <th>6492118</th>\n",
       "      <td>6492118</td>\n",
       "      <td>MGCKFPHLFPVNSPQMVKISAQ</td>\n",
       "      <td>24</td>\n",
       "    </tr>\n",
       "    <tr>\n",
       "      <th>6492119</th>\n",
       "      <td>6492119</td>\n",
       "      <td>MSYINRKCPLKSNFEIKYLWKCTCAF</td>\n",
       "      <td>28</td>\n",
       "    </tr>\n",
       "    <tr>\n",
       "      <th>6492120</th>\n",
       "      <td>6492120</td>\n",
       "      <td>MLYPKLLFLQ</td>\n",
       "      <td>12</td>\n",
       "    </tr>\n",
       "    <tr>\n",
       "      <th>6492121</th>\n",
       "      <td>6492121</td>\n",
       "      <td>KDGVRKYMNEFVAGWEEGRRPTGDRGAWGRFVPGHPFGDNGVR</td>\n",
       "      <td>43</td>\n",
       "    </tr>\n",
       "    <tr>\n",
       "      <th>6492122</th>\n",
       "      <td>6492122</td>\n",
       "      <td>SLLVGRRGVDRLGTEVHGGVSFLATPSGITASGNR</td>\n",
       "      <td>36</td>\n",
       "    </tr>\n",
       "  </tbody>\n",
       "</table>\n",
       "<p>6492123 rows × 3 columns</p>\n",
       "</div>"
      ],
      "text/plain": [
       "              ID                                     Sequence  length\n",
       "0              0           QGDMVVIQCLVHKGKHSLCHLLGAVKVMVTVGKN      34\n",
       "1              1   VLPDGDHDLDRAQKVTETVLAFVYKALNDHHVSLRVPCSNPT      42\n",
       "2              2                       MYGSTGPPHSEHLGGRGGCSLA      24\n",
       "3              3   LLWVVVVFWMLEVVSLVSVVSVVDMVLVLESVSVVDSVVVLE      42\n",
       "4              4      FNLRSNLTSFLILSFGPALCELFWETQWSGSTNLEANSN      40\n",
       "...          ...                                          ...     ...\n",
       "6492118  6492118                       MGCKFPHLFPVNSPQMVKISAQ      24\n",
       "6492119  6492119                   MSYINRKCPLKSNFEIKYLWKCTCAF      28\n",
       "6492120  6492120                                   MLYPKLLFLQ      12\n",
       "6492121  6492121  KDGVRKYMNEFVAGWEEGRRPTGDRGAWGRFVPGHPFGDNGVR      43\n",
       "6492122  6492122          SLLVGRRGVDRLGTEVHGGVSFLATPSGITASGNR      36\n",
       "\n",
       "[6492123 rows x 3 columns]"
      ]
     },
     "execution_count": 4,
     "metadata": {},
     "output_type": "execute_result"
    }
   ],
   "source": [
    "# dictionary of lists  \n",
    "dict = {'ID': identifiers, 'Sequence': seqs, 'length': lengths}  \n",
    "df = pd.DataFrame(dict) \n",
    "#df[\"Sequence\"] =  seqs\n",
    "#df.to_pickle(plk)    \n",
    "df  "
   ]
  },
  {
   "cell_type": "code",
   "execution_count": null,
   "metadata": {},
   "outputs": [],
   "source": [
    "_h_avg, h_final, c_final= get_reps(df['Sequence'].to_list())\n",
    "df['reps']=_h_avg.tolist()\n",
    "df"
   ]
  },
  {
   "cell_type": "markdown",
   "metadata": {},
   "source": [
    "Remove Duplicate"
   ]
  },
  {
   "cell_type": "code",
   "execution_count": null,
   "metadata": {},
   "outputs": [],
   "source": [
    "df.drop_duplicates(subset=['Sequence'],inplace=True)\n",
    "df"
   ]
  },
  {
   "cell_type": "code",
   "execution_count": null,
   "metadata": {},
   "outputs": [],
   "source": [
    "df.to_pickle(plk)\n",
    "tmp_df = pd.read_pickle(plk)\n",
    "tmp_df"
   ]
  },
  {
   "cell_type": "code",
   "execution_count": null,
   "metadata": {},
   "outputs": [],
   "source": []
  }
 ],
 "metadata": {
  "accelerator": "GPU",
  "colab": {
   "name": "jax-unirep.ipynb",
   "provenance": [],
   "toc_visible": true
  },
  "kernelspec": {
   "display_name": "Python 3",
   "language": "python",
   "name": "python3"
  },
  "language_info": {
   "codemirror_mode": {
    "name": "ipython",
    "version": 3
   },
   "file_extension": ".py",
   "mimetype": "text/x-python",
   "name": "python",
   "nbconvert_exporter": "python",
   "pygments_lexer": "ipython3",
   "version": "3.8.5"
  }
 },
 "nbformat": 4,
 "nbformat_minor": 4
}
