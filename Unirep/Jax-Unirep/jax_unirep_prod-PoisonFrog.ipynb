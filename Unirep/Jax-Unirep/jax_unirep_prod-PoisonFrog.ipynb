{
 "cells": [
  {
   "cell_type": "code",
   "execution_count": null,
   "metadata": {
    "id": "DDCRQnyeZS5x"
   },
   "outputs": [],
   "source": [
    "!pip install scikit-plot\n",
    "!pip install jax-unirep"
   ]
  },
  {
   "cell_type": "markdown",
   "metadata": {
    "id": "HGOsaByCvPDu"
   },
   "source": [
    "Try to deal with GPU memory \n",
    "accroading to https://jax.readthedocs.io/en/latest/gpu_memory_allocation.html"
   ]
  },
  {
   "cell_type": "code",
   "execution_count": 1,
   "metadata": {
    "id": "Uq49wrJkr20U"
   },
   "outputs": [
    {
     "name": "stderr",
     "output_type": "stream",
     "text": [
      "/home/kongkitimanonk/.conda/envs/jupyter_NB/lib/python3.8/site-packages/jax/lib/xla_bridge.py:130: UserWarning: No GPU/TPU found, falling back to CPU.\n",
      "  warnings.warn('No GPU/TPU found, falling back to CPU.')\n"
     ]
    }
   ],
   "source": [
    "import numpy as np\n",
    "import pandas as pd\n",
    "import csv\n",
    "import matplotlib.pyplot as plt\n",
    "\n",
    "from Bio import SeqIO\n",
    "from jax_unirep import get_reps\n",
    "from jax_unirep import evotune, fit\n",
    "from jax_unirep.utils import dump_params\n",
    "import os\n",
    "import gc\n",
    "\n",
    "os.environ['XLA_PYTHON_CLIENT_PREALLOCATE']='False'\n",
    "os.environ['XLA_PYTHON_CLIENT_MEM_FRACTION']='.70'"
   ]
  },
  {
   "cell_type": "code",
   "execution_count": 2,
   "metadata": {},
   "outputs": [],
   "source": [
    "os.environ['MKL_NUM_THREADS']='1' \n",
    "os.environ['OPENBLAS_NUM_THREADS']='1'\n",
    "\n",
    "os.environ[\"NUM_INTER_THREADS\"]=\"1\"\n",
    "os.environ[\"NUM_INTRA_THREADS\"]=\"1\"\n",
    "os.environ.update(\n",
    "        XLA_FLAGS=(\n",
    "            '--xla_cpu_multi_thread_eigen=false '\n",
    "            'intra_op_parallelism_threads=5 '\n",
    "            'inter_op_parallelism_threads=5 '\n",
    "            'OMP_NUM_THREADS=1  '\n",
    "        ),\n",
    "        XLA_PYTHON_CLIENT_PREALLOCATE='false',\n",
    "    )\n",
    "#os.environ[\"XLA_FLAGS\"] = (\"--xla_cpu_multi_thread_eigen=false intra_op_parallelism_threads=10\")"
   ]
  },
  {
   "cell_type": "code",
   "execution_count": 3,
   "metadata": {},
   "outputs": [],
   "source": [
    "fastas = \"/home/kongkitimanonk/SCRATCH_NOBAK/cd-hit/bk_fasta/SRR11234331.assembly.len15.fasta\"\n",
    "plk = \"/home/kongkitimanonk/SCRATCH_NOBAK/phase3/PoisonFrog.len15.pkl\""
   ]
  },
  {
   "cell_type": "code",
   "execution_count": 4,
   "metadata": {},
   "outputs": [],
   "source": [
    "with open(fastas) as fasta_file:  # Will close handle cleanly\n",
    "    identifiers = []\n",
    "    lengths = []\n",
    "    seqs = []\n",
    "    for seq_record in SeqIO.parse(fasta_file, 'fasta'):  # (generator)\n",
    "        identifiers.append(seq_record.id)\n",
    "        # Remove leading and trailing characters from a string\n",
    "        seqs.append(str(seq_record.seq.strip('*')))\n",
    "        lengths.append(len(seq_record.seq))"
   ]
  },
  {
   "cell_type": "code",
   "execution_count": 5,
   "metadata": {},
   "outputs": [
    {
     "data": {
      "text/html": [
       "<div>\n",
       "<style scoped>\n",
       "    .dataframe tbody tr th:only-of-type {\n",
       "        vertical-align: middle;\n",
       "    }\n",
       "\n",
       "    .dataframe tbody tr th {\n",
       "        vertical-align: top;\n",
       "    }\n",
       "\n",
       "    .dataframe thead th {\n",
       "        text-align: right;\n",
       "    }\n",
       "</style>\n",
       "<table border=\"1\" class=\"dataframe\">\n",
       "  <thead>\n",
       "    <tr style=\"text-align: right;\">\n",
       "      <th></th>\n",
       "      <th>ID</th>\n",
       "      <th>Sequence</th>\n",
       "      <th>length</th>\n",
       "    </tr>\n",
       "  </thead>\n",
       "  <tbody>\n",
       "    <tr>\n",
       "      <th>0</th>\n",
       "      <td>0</td>\n",
       "      <td>VAQHRPLIPVLPERPQYSGRSLHSPAAVSMPLSDLDLLAVTDLSLS...</td>\n",
       "      <td>50</td>\n",
       "    </tr>\n",
       "    <tr>\n",
       "      <th>1</th>\n",
       "      <td>1</td>\n",
       "      <td>MERIELRHANSEEGRSQKTSCRYKFF</td>\n",
       "      <td>28</td>\n",
       "    </tr>\n",
       "    <tr>\n",
       "      <th>2</th>\n",
       "      <td>2</td>\n",
       "      <td>MQTLKRGGHRRLAVDTNFSEKPED</td>\n",
       "      <td>26</td>\n",
       "    </tr>\n",
       "    <tr>\n",
       "      <th>3</th>\n",
       "      <td>3</td>\n",
       "      <td>MPQLNSLHTSVSLSVTPL</td>\n",
       "      <td>20</td>\n",
       "    </tr>\n",
       "    <tr>\n",
       "      <th>4</th>\n",
       "      <td>4</td>\n",
       "      <td>MYCLAMLHPTQVRGR</td>\n",
       "      <td>17</td>\n",
       "    </tr>\n",
       "    <tr>\n",
       "      <th>...</th>\n",
       "      <td>...</td>\n",
       "      <td>...</td>\n",
       "      <td>...</td>\n",
       "    </tr>\n",
       "    <tr>\n",
       "      <th>12753725</th>\n",
       "      <td>12753725</td>\n",
       "      <td>MFFSSPSRRVFSLSNESS</td>\n",
       "      <td>20</td>\n",
       "    </tr>\n",
       "    <tr>\n",
       "      <th>12753726</th>\n",
       "      <td>12753726</td>\n",
       "      <td>MNPITPICTVHSTSIAFLFFILAV</td>\n",
       "      <td>26</td>\n",
       "    </tr>\n",
       "    <tr>\n",
       "      <th>12753727</th>\n",
       "      <td>12753727</td>\n",
       "      <td>CGLWGGQSVRTQRQLVMSDAQHVPSPAAGSELVSVLWAVGRQLLLL...</td>\n",
       "      <td>163</td>\n",
       "    </tr>\n",
       "    <tr>\n",
       "      <th>12753728</th>\n",
       "      <td>12753728</td>\n",
       "      <td>MPRAMRKRHRSRKRES</td>\n",
       "      <td>18</td>\n",
       "    </tr>\n",
       "    <tr>\n",
       "      <th>12753729</th>\n",
       "      <td>12753729</td>\n",
       "      <td>MRRRRDRTTQRCGGLLV</td>\n",
       "      <td>19</td>\n",
       "    </tr>\n",
       "  </tbody>\n",
       "</table>\n",
       "<p>12753730 rows × 3 columns</p>\n",
       "</div>"
      ],
      "text/plain": [
       "                ID                                           Sequence  length\n",
       "0                0  VAQHRPLIPVLPERPQYSGRSLHSPAAVSMPLSDLDLLAVTDLSLS...      50\n",
       "1                1                         MERIELRHANSEEGRSQKTSCRYKFF      28\n",
       "2                2                           MQTLKRGGHRRLAVDTNFSEKPED      26\n",
       "3                3                                 MPQLNSLHTSVSLSVTPL      20\n",
       "4                4                                    MYCLAMLHPTQVRGR      17\n",
       "...            ...                                                ...     ...\n",
       "12753725  12753725                                 MFFSSPSRRVFSLSNESS      20\n",
       "12753726  12753726                           MNPITPICTVHSTSIAFLFFILAV      26\n",
       "12753727  12753727  CGLWGGQSVRTQRQLVMSDAQHVPSPAAGSELVSVLWAVGRQLLLL...     163\n",
       "12753728  12753728                                   MPRAMRKRHRSRKRES      18\n",
       "12753729  12753729                                  MRRRRDRTTQRCGGLLV      19\n",
       "\n",
       "[12753730 rows x 3 columns]"
      ]
     },
     "execution_count": 5,
     "metadata": {},
     "output_type": "execute_result"
    }
   ],
   "source": [
    "# dictionary of lists  \n",
    "dict = {'ID': identifiers, 'Sequence': seqs, 'length': lengths}  \n",
    "df = pd.DataFrame(dict) \n",
    "#df[\"Sequence\"] =  seqs\n",
    "#df.to_pickle(plk)    \n",
    "df  "
   ]
  },
  {
   "cell_type": "markdown",
   "metadata": {},
   "source": [
    "Remove Duplicate"
   ]
  },
  {
   "cell_type": "code",
   "execution_count": 6,
   "metadata": {},
   "outputs": [
    {
     "data": {
      "text/html": [
       "<div>\n",
       "<style scoped>\n",
       "    .dataframe tbody tr th:only-of-type {\n",
       "        vertical-align: middle;\n",
       "    }\n",
       "\n",
       "    .dataframe tbody tr th {\n",
       "        vertical-align: top;\n",
       "    }\n",
       "\n",
       "    .dataframe thead th {\n",
       "        text-align: right;\n",
       "    }\n",
       "</style>\n",
       "<table border=\"1\" class=\"dataframe\">\n",
       "  <thead>\n",
       "    <tr style=\"text-align: right;\">\n",
       "      <th></th>\n",
       "      <th>ID</th>\n",
       "      <th>Sequence</th>\n",
       "      <th>length</th>\n",
       "    </tr>\n",
       "  </thead>\n",
       "  <tbody>\n",
       "    <tr>\n",
       "      <th>0</th>\n",
       "      <td>0</td>\n",
       "      <td>VAQHRPLIPVLPERPQYSGRSLHSPAAVSMPLSDLDLLAVTDLSLS...</td>\n",
       "      <td>50</td>\n",
       "    </tr>\n",
       "    <tr>\n",
       "      <th>1</th>\n",
       "      <td>1</td>\n",
       "      <td>MERIELRHANSEEGRSQKTSCRYKFF</td>\n",
       "      <td>28</td>\n",
       "    </tr>\n",
       "    <tr>\n",
       "      <th>2</th>\n",
       "      <td>2</td>\n",
       "      <td>MQTLKRGGHRRLAVDTNFSEKPED</td>\n",
       "      <td>26</td>\n",
       "    </tr>\n",
       "    <tr>\n",
       "      <th>3</th>\n",
       "      <td>3</td>\n",
       "      <td>MPQLNSLHTSVSLSVTPL</td>\n",
       "      <td>20</td>\n",
       "    </tr>\n",
       "    <tr>\n",
       "      <th>4</th>\n",
       "      <td>4</td>\n",
       "      <td>MYCLAMLHPTQVRGR</td>\n",
       "      <td>17</td>\n",
       "    </tr>\n",
       "    <tr>\n",
       "      <th>...</th>\n",
       "      <td>...</td>\n",
       "      <td>...</td>\n",
       "      <td>...</td>\n",
       "    </tr>\n",
       "    <tr>\n",
       "      <th>12753717</th>\n",
       "      <td>12753717</td>\n",
       "      <td>EPQRRSARLSAKPAPPKAEPKPKKPPAAKKADKAQKRKKGKADSGKDA</td>\n",
       "      <td>48</td>\n",
       "    </tr>\n",
       "    <tr>\n",
       "      <th>12753718</th>\n",
       "      <td>12753718</td>\n",
       "      <td>HLFQNLPFLFFFFELCQPSLLLVAFWALALLLEGRV</td>\n",
       "      <td>37</td>\n",
       "    </tr>\n",
       "    <tr>\n",
       "      <th>12753720</th>\n",
       "      <td>12753720</td>\n",
       "      <td>PEAKVGGLCSRWKDSVFVRMVLELKVTVRHPRLRIWSLWWIFNSAG...</td>\n",
       "      <td>97</td>\n",
       "    </tr>\n",
       "    <tr>\n",
       "      <th>12753721</th>\n",
       "      <td>12753721</td>\n",
       "      <td>MKKVAILQENALLLIN</td>\n",
       "      <td>18</td>\n",
       "    </tr>\n",
       "    <tr>\n",
       "      <th>12753727</th>\n",
       "      <td>12753727</td>\n",
       "      <td>CGLWGGQSVRTQRQLVMSDAQHVPSPAAGSELVSVLWAVGRQLLLL...</td>\n",
       "      <td>163</td>\n",
       "    </tr>\n",
       "  </tbody>\n",
       "</table>\n",
       "<p>4910674 rows × 3 columns</p>\n",
       "</div>"
      ],
      "text/plain": [
       "                ID                                           Sequence  length\n",
       "0                0  VAQHRPLIPVLPERPQYSGRSLHSPAAVSMPLSDLDLLAVTDLSLS...      50\n",
       "1                1                         MERIELRHANSEEGRSQKTSCRYKFF      28\n",
       "2                2                           MQTLKRGGHRRLAVDTNFSEKPED      26\n",
       "3                3                                 MPQLNSLHTSVSLSVTPL      20\n",
       "4                4                                    MYCLAMLHPTQVRGR      17\n",
       "...            ...                                                ...     ...\n",
       "12753717  12753717   EPQRRSARLSAKPAPPKAEPKPKKPPAAKKADKAQKRKKGKADSGKDA      48\n",
       "12753718  12753718               HLFQNLPFLFFFFELCQPSLLLVAFWALALLLEGRV      37\n",
       "12753720  12753720  PEAKVGGLCSRWKDSVFVRMVLELKVTVRHPRLRIWSLWWIFNSAG...      97\n",
       "12753721  12753721                                   MKKVAILQENALLLIN      18\n",
       "12753727  12753727  CGLWGGQSVRTQRQLVMSDAQHVPSPAAGSELVSVLWAVGRQLLLL...     163\n",
       "\n",
       "[4910674 rows x 3 columns]"
      ]
     },
     "execution_count": 6,
     "metadata": {},
     "output_type": "execute_result"
    }
   ],
   "source": [
    "df.drop_duplicates(subset=['Sequence'],inplace=True)\n",
    "df"
   ]
  },
  {
   "cell_type": "markdown",
   "metadata": {},
   "source": [
    "Divide records , this one did not relate to ID"
   ]
  },
  {
   "cell_type": "code",
   "execution_count": 15,
   "metadata": {},
   "outputs": [],
   "source": [
    "#0-613834\n",
    "#613834-1277668\n",
    "#1277668-1841502\n",
    "#1841502-2455336\n",
    "#2455336 -3069170\n",
    "# 3069170-3683004\n",
    "#3683004-4296838\n",
    "# 4296838 - 4910674 \n",
    "df1 = df.iloc[0:200000, :]\n",
    "df2 = df.iloc[200000:613834, :]\n",
    "\n",
    "\n",
    "#df1_1 = df.iloc[200000:613834, :]\n",
    "#df2 = df.iloc[613834:1277668, :]\n",
    "#df3 = df.iloc[1277668:1841502, :]\n",
    "#df4 = df.iloc[1841502:2455336, :]\n",
    "#df5 = df.iloc[2455336:3069170, :]\n",
    "#df6 = df.iloc[3069170:3683004, :]\n",
    "#df7 = df.iloc[3683004:4296838, :]\n",
    "#df8 = df.iloc[4296838:4910674, :]"
   ]
  },
  {
   "cell_type": "code",
   "execution_count": 16,
   "metadata": {},
   "outputs": [
    {
     "data": {
      "text/html": [
       "<div>\n",
       "<style scoped>\n",
       "    .dataframe tbody tr th:only-of-type {\n",
       "        vertical-align: middle;\n",
       "    }\n",
       "\n",
       "    .dataframe tbody tr th {\n",
       "        vertical-align: top;\n",
       "    }\n",
       "\n",
       "    .dataframe thead th {\n",
       "        text-align: right;\n",
       "    }\n",
       "</style>\n",
       "<table border=\"1\" class=\"dataframe\">\n",
       "  <thead>\n",
       "    <tr style=\"text-align: right;\">\n",
       "      <th></th>\n",
       "      <th>ID</th>\n",
       "      <th>Sequence</th>\n",
       "      <th>length</th>\n",
       "    </tr>\n",
       "  </thead>\n",
       "  <tbody>\n",
       "    <tr>\n",
       "      <th>324050</th>\n",
       "      <td>324050</td>\n",
       "      <td>MWITPEFNKQVASKLQLLGK</td>\n",
       "      <td>22</td>\n",
       "    </tr>\n",
       "    <tr>\n",
       "      <th>324052</th>\n",
       "      <td>324052</td>\n",
       "      <td>FLLYQQDLVLHVYVMVQQQLLAIQVDPADLLIPVFPLVL</td>\n",
       "      <td>40</td>\n",
       "    </tr>\n",
       "    <tr>\n",
       "      <th>324053</th>\n",
       "      <td>324053</td>\n",
       "      <td>QSLLNISNVVKSPISGDLWIVLGSEDHLAVHFSSSLTSLLSCSLS</td>\n",
       "      <td>46</td>\n",
       "    </tr>\n",
       "    <tr>\n",
       "      <th>324054</th>\n",
       "      <td>324054</td>\n",
       "      <td>KQVRITIIIFNRQLITQLTQLNETLITEIGVVYYDDICWWLFKSWH...</td>\n",
       "      <td>52</td>\n",
       "    </tr>\n",
       "    <tr>\n",
       "      <th>324055</th>\n",
       "      <td>324055</td>\n",
       "      <td>SRWRCRSSRSLLSGRWRSVRSVSSPRTSRPLSVVLLSPPGIMSLLA...</td>\n",
       "      <td>469</td>\n",
       "    </tr>\n",
       "    <tr>\n",
       "      <th>...</th>\n",
       "      <td>...</td>\n",
       "      <td>...</td>\n",
       "      <td>...</td>\n",
       "    </tr>\n",
       "    <tr>\n",
       "      <th>1117797</th>\n",
       "      <td>1117797</td>\n",
       "      <td>RNRNLFWKLNPFWLKLRGPNDRTLDQLDCFISSHPEPQNINLLWDT...</td>\n",
       "      <td>88</td>\n",
       "    </tr>\n",
       "    <tr>\n",
       "      <th>1117798</th>\n",
       "      <td>1117798</td>\n",
       "      <td>SSNLVMWVADVEHGNKGISDHSTIILMLRFGQRNRN</td>\n",
       "      <td>36</td>\n",
       "    </tr>\n",
       "    <tr>\n",
       "      <th>1117799</th>\n",
       "      <td>1117799</td>\n",
       "      <td>HLDFTLPKEDDKSSATQSPAENPERKPPGGKKERRNTEVNEQKKET...</td>\n",
       "      <td>165</td>\n",
       "    </tr>\n",
       "    <tr>\n",
       "      <th>1117802</th>\n",
       "      <td>1117802</td>\n",
       "      <td>KDVAPRTFALIKLLLSLRLYFTMATKSRALEAKTRMMTRK</td>\n",
       "      <td>40</td>\n",
       "    </tr>\n",
       "    <tr>\n",
       "      <th>1117803</th>\n",
       "      <td>1117803</td>\n",
       "      <td>MMTRQQPAPLLFLRHFSALHLCLIRDFLQR</td>\n",
       "      <td>32</td>\n",
       "    </tr>\n",
       "  </tbody>\n",
       "</table>\n",
       "<p>413834 rows × 3 columns</p>\n",
       "</div>"
      ],
      "text/plain": [
       "              ID                                           Sequence  length\n",
       "324050    324050                               MWITPEFNKQVASKLQLLGK      22\n",
       "324052    324052            FLLYQQDLVLHVYVMVQQQLLAIQVDPADLLIPVFPLVL      40\n",
       "324053    324053      QSLLNISNVVKSPISGDLWIVLGSEDHLAVHFSSSLTSLLSCSLS      46\n",
       "324054    324054  KQVRITIIIFNRQLITQLTQLNETLITEIGVVYYDDICWWLFKSWH...      52\n",
       "324055    324055  SRWRCRSSRSLLSGRWRSVRSVSSPRTSRPLSVVLLSPPGIMSLLA...     469\n",
       "...          ...                                                ...     ...\n",
       "1117797  1117797  RNRNLFWKLNPFWLKLRGPNDRTLDQLDCFISSHPEPQNINLLWDT...      88\n",
       "1117798  1117798               SSNLVMWVADVEHGNKGISDHSTIILMLRFGQRNRN      36\n",
       "1117799  1117799  HLDFTLPKEDDKSSATQSPAENPERKPPGGKKERRNTEVNEQKKET...     165\n",
       "1117802  1117802           KDVAPRTFALIKLLLSLRLYFTMATKSRALEAKTRMMTRK      40\n",
       "1117803  1117803                     MMTRQQPAPLLFLRHFSALHLCLIRDFLQR      32\n",
       "\n",
       "[413834 rows x 3 columns]"
      ]
     },
     "execution_count": 16,
     "metadata": {},
     "output_type": "execute_result"
    }
   ],
   "source": [
    "df2"
   ]
  },
  {
   "cell_type": "code",
   "execution_count": 9,
   "metadata": {},
   "outputs": [],
   "source": [
    "def createREPs(df, filename):\n",
    "    _h_avg, h_final, c_final= get_reps(df['Sequence'].to_list())\n",
    "    df['reps']=_h_avg.tolist() # if there is a problem , might be here , possible solution is reindexing\n",
    "    df.to_pickle(filename) # dont forget to change the file name to 0_613834"
   ]
  },
  {
   "cell_type": "code",
   "execution_count": null,
   "metadata": {},
   "outputs": [],
   "source": [
    "createREPs(df1,\"/home/kongkitimanonk/SCRATCH_NOBAK/phase3/PoisonFrog.len15.0_200000.pkl\")"
   ]
  },
  {
   "cell_type": "code",
   "execution_count": null,
   "metadata": {},
   "outputs": [],
   "source": [
    "createREPs(df2,\"/home/kongkitimanonk/SCRATCH_NOBAK/phase3/PoisonFrog.len15.200000_613834.pkl\")"
   ]
  },
  {
   "cell_type": "code",
   "execution_count": 15,
   "metadata": {},
   "outputs": [
    {
     "ename": "KeyboardInterrupt",
     "evalue": "",
     "output_type": "error",
     "traceback": [
      "\u001b[0;31m---------------------------------------------------------------------------\u001b[0m",
      "\u001b[0;31mKeyboardInterrupt\u001b[0m                         Traceback (most recent call last)",
      "\u001b[0;32m<ipython-input-15-1933940de84c>\u001b[0m in \u001b[0;36m<module>\u001b[0;34m\u001b[0m\n\u001b[0;32m----> 1\u001b[0;31m \u001b[0m_h_avg\u001b[0m\u001b[0;34m,\u001b[0m \u001b[0mh_final\u001b[0m\u001b[0;34m,\u001b[0m \u001b[0mc_final\u001b[0m\u001b[0;34m=\u001b[0m \u001b[0mget_reps\u001b[0m\u001b[0;34m(\u001b[0m\u001b[0mdf1\u001b[0m\u001b[0;34m[\u001b[0m\u001b[0;34m'Sequence'\u001b[0m\u001b[0;34m]\u001b[0m\u001b[0;34m.\u001b[0m\u001b[0mto_list\u001b[0m\u001b[0;34m(\u001b[0m\u001b[0;34m)\u001b[0m\u001b[0;34m)\u001b[0m\u001b[0;34m\u001b[0m\u001b[0;34m\u001b[0m\u001b[0m\n\u001b[0m\u001b[1;32m      2\u001b[0m \u001b[0mdf1\u001b[0m\u001b[0;34m[\u001b[0m\u001b[0;34m'reps'\u001b[0m\u001b[0;34m]\u001b[0m\u001b[0;34m=\u001b[0m\u001b[0m_h_avg\u001b[0m\u001b[0;34m.\u001b[0m\u001b[0mtolist\u001b[0m\u001b[0;34m(\u001b[0m\u001b[0;34m)\u001b[0m\u001b[0;34m\u001b[0m\u001b[0;34m\u001b[0m\u001b[0m\n\u001b[1;32m      3\u001b[0m \u001b[0mdf1\u001b[0m\u001b[0;34m.\u001b[0m\u001b[0mto_pickle\u001b[0m\u001b[0;34m(\u001b[0m\u001b[0;34m\"/home/kongkitimanonk/SCRATCH_NOBAK/phase3/PoisonFrog.len15.0_200000.pkl\"\u001b[0m\u001b[0;34m)\u001b[0m \u001b[0;31m# dont forget to change the file name to 0_613834\u001b[0m\u001b[0;34m\u001b[0m\u001b[0;34m\u001b[0m\u001b[0m\n",
      "\u001b[0;32m~/.conda/envs/jupyter_NB/lib/python3.8/site-packages/jax_unirep/featurize.py\u001b[0m in \u001b[0;36mget_reps\u001b[0;34m(seqs, params)\u001b[0m\n\u001b[1;32m    142\u001b[0m         \u001b[0;32mreturn\u001b[0m \u001b[0mh_avg\u001b[0m\u001b[0;34m,\u001b[0m \u001b[0mh_final\u001b[0m\u001b[0;34m,\u001b[0m \u001b[0mc_final\u001b[0m\u001b[0;34m\u001b[0m\u001b[0;34m\u001b[0m\u001b[0m\n\u001b[1;32m    143\u001b[0m     \u001b[0;32melse\u001b[0m\u001b[0;34m:\u001b[0m\u001b[0;34m\u001b[0m\u001b[0;34m\u001b[0m\u001b[0m\n\u001b[0;32m--> 144\u001b[0;31m         \u001b[0mh_avg\u001b[0m\u001b[0;34m,\u001b[0m \u001b[0mh_final\u001b[0m\u001b[0;34m,\u001b[0m \u001b[0mc_final\u001b[0m \u001b[0;34m=\u001b[0m \u001b[0mrep_arbitrary_lengths\u001b[0m\u001b[0;34m(\u001b[0m\u001b[0mseqs\u001b[0m\u001b[0;34m,\u001b[0m \u001b[0mparams\u001b[0m\u001b[0;34m)\u001b[0m\u001b[0;34m\u001b[0m\u001b[0;34m\u001b[0m\u001b[0m\n\u001b[0m\u001b[1;32m    145\u001b[0m         \u001b[0;32mreturn\u001b[0m \u001b[0mh_avg\u001b[0m\u001b[0;34m,\u001b[0m \u001b[0mh_final\u001b[0m\u001b[0;34m,\u001b[0m \u001b[0mc_final\u001b[0m\u001b[0;34m\u001b[0m\u001b[0;34m\u001b[0m\u001b[0m\n",
      "\u001b[0;32m~/.conda/envs/jupyter_NB/lib/python3.8/site-packages/jax_unirep/featurize.py\u001b[0m in \u001b[0;36mrep_arbitrary_lengths\u001b[0;34m(seqs, params)\u001b[0m\n\u001b[1;32m     61\u001b[0m         \u001b[0msubset\u001b[0m \u001b[0;34m=\u001b[0m \u001b[0;34m[\u001b[0m\u001b[0mseqs\u001b[0m\u001b[0;34m[\u001b[0m\u001b[0mi\u001b[0m\u001b[0;34m]\u001b[0m \u001b[0;32mfor\u001b[0m \u001b[0mi\u001b[0m \u001b[0;32min\u001b[0m \u001b[0midxs\u001b[0m\u001b[0;34m]\u001b[0m\u001b[0;34m\u001b[0m\u001b[0;34m\u001b[0m\u001b[0m\n\u001b[1;32m     62\u001b[0m \u001b[0;34m\u001b[0m\u001b[0m\n\u001b[0;32m---> 63\u001b[0;31m         \u001b[0mh_avg\u001b[0m\u001b[0;34m,\u001b[0m \u001b[0mh_final\u001b[0m\u001b[0;34m,\u001b[0m \u001b[0mc_final\u001b[0m \u001b[0;34m=\u001b[0m \u001b[0mrep_same_lengths\u001b[0m\u001b[0;34m(\u001b[0m\u001b[0msubset\u001b[0m\u001b[0;34m,\u001b[0m \u001b[0mparams\u001b[0m\u001b[0;34m)\u001b[0m\u001b[0;34m\u001b[0m\u001b[0;34m\u001b[0m\u001b[0m\n\u001b[0m\u001b[1;32m     64\u001b[0m         \u001b[0mha_list\u001b[0m\u001b[0;34m.\u001b[0m\u001b[0mappend\u001b[0m\u001b[0;34m(\u001b[0m\u001b[0mh_avg\u001b[0m\u001b[0;34m)\u001b[0m\u001b[0;34m\u001b[0m\u001b[0;34m\u001b[0m\u001b[0m\n\u001b[1;32m     65\u001b[0m         \u001b[0mhf_list\u001b[0m\u001b[0;34m.\u001b[0m\u001b[0mappend\u001b[0m\u001b[0;34m(\u001b[0m\u001b[0mh_final\u001b[0m\u001b[0;34m)\u001b[0m\u001b[0;34m\u001b[0m\u001b[0;34m\u001b[0m\u001b[0m\n",
      "\u001b[0;32m~/.conda/envs/jupyter_NB/lib/python3.8/site-packages/jax_unirep/featurize.py\u001b[0m in \u001b[0;36mrep_same_lengths\u001b[0;34m(seqs, params)\u001b[0m\n\u001b[1;32m     36\u001b[0m     \u001b[0mh_avg\u001b[0m \u001b[0;34m=\u001b[0m \u001b[0mh\u001b[0m\u001b[0;34m.\u001b[0m\u001b[0mmean\u001b[0m\u001b[0;34m(\u001b[0m\u001b[0maxis\u001b[0m\u001b[0;34m=\u001b[0m\u001b[0;36m1\u001b[0m\u001b[0;34m)\u001b[0m\u001b[0;34m\u001b[0m\u001b[0;34m\u001b[0m\u001b[0m\n\u001b[1;32m     37\u001b[0m \u001b[0;34m\u001b[0m\u001b[0m\n\u001b[0;32m---> 38\u001b[0;31m     \u001b[0;32mreturn\u001b[0m \u001b[0mnp\u001b[0m\u001b[0;34m.\u001b[0m\u001b[0marray\u001b[0m\u001b[0;34m(\u001b[0m\u001b[0mh_avg\u001b[0m\u001b[0;34m)\u001b[0m\u001b[0;34m,\u001b[0m \u001b[0mnp\u001b[0m\u001b[0;34m.\u001b[0m\u001b[0marray\u001b[0m\u001b[0;34m(\u001b[0m\u001b[0mh_final\u001b[0m\u001b[0;34m)\u001b[0m\u001b[0;34m,\u001b[0m \u001b[0mnp\u001b[0m\u001b[0;34m.\u001b[0m\u001b[0marray\u001b[0m\u001b[0;34m(\u001b[0m\u001b[0mc_final\u001b[0m\u001b[0;34m)\u001b[0m\u001b[0;34m\u001b[0m\u001b[0;34m\u001b[0m\u001b[0m\n\u001b[0m\u001b[1;32m     39\u001b[0m \u001b[0;34m\u001b[0m\u001b[0m\n\u001b[1;32m     40\u001b[0m \u001b[0;34m\u001b[0m\u001b[0m\n",
      "\u001b[0;32m~/.conda/envs/jupyter_NB/lib/python3.8/site-packages/jax/interpreters/xla.py\u001b[0m in \u001b[0;36m__array__\u001b[0;34m(self, dtype, context)\u001b[0m\n\u001b[1;32m   1078\u001b[0m \u001b[0;34m\u001b[0m\u001b[0m\n\u001b[1;32m   1079\u001b[0m   \u001b[0;32mdef\u001b[0m \u001b[0m__array__\u001b[0m\u001b[0;34m(\u001b[0m\u001b[0mself\u001b[0m\u001b[0;34m,\u001b[0m \u001b[0mdtype\u001b[0m\u001b[0;34m=\u001b[0m\u001b[0;32mNone\u001b[0m\u001b[0;34m,\u001b[0m \u001b[0mcontext\u001b[0m\u001b[0;34m=\u001b[0m\u001b[0;32mNone\u001b[0m\u001b[0;34m)\u001b[0m\u001b[0;34m:\u001b[0m\u001b[0;34m\u001b[0m\u001b[0;34m\u001b[0m\u001b[0m\n\u001b[0;32m-> 1080\u001b[0;31m     \u001b[0;32mreturn\u001b[0m \u001b[0mnp\u001b[0m\u001b[0;34m.\u001b[0m\u001b[0masarray\u001b[0m\u001b[0;34m(\u001b[0m\u001b[0mself\u001b[0m\u001b[0;34m.\u001b[0m\u001b[0m_value\u001b[0m\u001b[0;34m,\u001b[0m \u001b[0mdtype\u001b[0m\u001b[0;34m=\u001b[0m\u001b[0mdtype\u001b[0m\u001b[0;34m)\u001b[0m\u001b[0;34m\u001b[0m\u001b[0;34m\u001b[0m\u001b[0m\n\u001b[0m\u001b[1;32m   1081\u001b[0m \u001b[0;34m\u001b[0m\u001b[0m\n\u001b[1;32m   1082\u001b[0m   \u001b[0;34m@\u001b[0m\u001b[0mproperty\u001b[0m\u001b[0;34m\u001b[0m\u001b[0;34m\u001b[0m\u001b[0m\n",
      "\u001b[0;32m~/.conda/envs/jupyter_NB/lib/python3.8/site-packages/jax/interpreters/xla.py\u001b[0m in \u001b[0;36m_value\u001b[0;34m(self)\u001b[0m\n\u001b[1;32m    983\u001b[0m         \u001b[0mself\u001b[0m\u001b[0;34m.\u001b[0m\u001b[0m_npy_value\u001b[0m \u001b[0;34m=\u001b[0m \u001b[0mlazy\u001b[0m\u001b[0;34m.\u001b[0m\u001b[0meval_lexpr\u001b[0m\u001b[0;34m(\u001b[0m\u001b[0mself\u001b[0m\u001b[0;34m.\u001b[0m\u001b[0m_lazy_expr\u001b[0m\u001b[0;34m,\u001b[0m \u001b[0;32mNone\u001b[0m\u001b[0;34m)\u001b[0m\u001b[0;34m\u001b[0m\u001b[0;34m\u001b[0m\u001b[0m\n\u001b[1;32m    984\u001b[0m       \u001b[0;32melse\u001b[0m\u001b[0;34m:\u001b[0m\u001b[0;34m\u001b[0m\u001b[0;34m\u001b[0m\u001b[0m\n\u001b[0;32m--> 985\u001b[0;31m         \u001b[0mself\u001b[0m\u001b[0;34m.\u001b[0m\u001b[0m_npy_value\u001b[0m \u001b[0;34m=\u001b[0m \u001b[0m_force\u001b[0m\u001b[0;34m(\u001b[0m\u001b[0mself\u001b[0m\u001b[0;34m)\u001b[0m\u001b[0;34m.\u001b[0m\u001b[0mdevice_buffer\u001b[0m\u001b[0;34m.\u001b[0m\u001b[0mto_py\u001b[0m\u001b[0;34m(\u001b[0m\u001b[0;34m)\u001b[0m\u001b[0;34m\u001b[0m\u001b[0;34m\u001b[0m\u001b[0m\n\u001b[0m\u001b[1;32m    986\u001b[0m       \u001b[0mself\u001b[0m\u001b[0;34m.\u001b[0m\u001b[0m_npy_value\u001b[0m\u001b[0;34m.\u001b[0m\u001b[0mflags\u001b[0m\u001b[0;34m.\u001b[0m\u001b[0mwriteable\u001b[0m \u001b[0;34m=\u001b[0m \u001b[0;32mFalse\u001b[0m\u001b[0;34m\u001b[0m\u001b[0;34m\u001b[0m\u001b[0m\n\u001b[1;32m    987\u001b[0m     \u001b[0;32mreturn\u001b[0m \u001b[0mself\u001b[0m\u001b[0;34m.\u001b[0m\u001b[0m_npy_value\u001b[0m\u001b[0;34m\u001b[0m\u001b[0;34m\u001b[0m\u001b[0m\n",
      "\u001b[0;31mKeyboardInterrupt\u001b[0m: "
     ]
    }
   ],
   "source": [
    "_h_avg, h_final, c_final= get_reps(df1['Sequence'].to_list())\n",
    "df1['reps']=_h_avg.tolist() # if there is a problem , might be here , possible solution is reindexing\n",
    "df1.to_pickle(\"/home/kongkitimanonk/SCRATCH_NOBAK/phase3/PoisonFrog.len15.0_200000.pkl\") # dont forget to change the file name to 0_613834"
   ]
  },
  {
   "cell_type": "markdown",
   "metadata": {},
   "source": [
    "----- base ---"
   ]
  },
  {
   "cell_type": "code",
   "execution_count": null,
   "metadata": {},
   "outputs": [],
   "source": [
    "_h_avg, h_final, c_final= get_reps(df['Sequence'].to_list())\n",
    "df['reps']=_h_avg.tolist()\n",
    "df"
   ]
  },
  {
   "cell_type": "code",
   "execution_count": null,
   "metadata": {},
   "outputs": [],
   "source": [
    "df.to_pickle(plk)\n"
   ]
  }
 ],
 "metadata": {
  "accelerator": "GPU",
  "colab": {
   "name": "jax-unirep.ipynb",
   "provenance": [],
   "toc_visible": true
  },
  "kernelspec": {
   "display_name": "Python 3",
   "language": "python",
   "name": "python3"
  },
  "language_info": {
   "codemirror_mode": {
    "name": "ipython",
    "version": 3
   },
   "file_extension": ".py",
   "mimetype": "text/x-python",
   "name": "python",
   "nbconvert_exporter": "python",
   "pygments_lexer": "ipython3",
   "version": "3.8.5"
  }
 },
 "nbformat": 4,
 "nbformat_minor": 4
}
