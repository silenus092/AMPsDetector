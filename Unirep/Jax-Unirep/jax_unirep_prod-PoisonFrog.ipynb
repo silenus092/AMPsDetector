{
 "cells": [
  {
   "cell_type": "code",
   "execution_count": null,
   "metadata": {
    "id": "DDCRQnyeZS5x"
   },
   "outputs": [],
   "source": [
    "!pip install scikit-plot\n",
    "!pip install jax-unirep"
   ]
  },
  {
   "cell_type": "markdown",
   "metadata": {
    "id": "HGOsaByCvPDu"
   },
   "source": [
    "Try to deal with GPU memory \n",
    "accroading to https://jax.readthedocs.io/en/latest/gpu_memory_allocation.html"
   ]
  },
  {
   "cell_type": "code",
   "execution_count": 1,
   "metadata": {
    "id": "Uq49wrJkr20U"
   },
   "outputs": [
    {
     "name": "stderr",
     "output_type": "stream",
     "text": [
      "/home/kongkitimanonk/.conda/envs/jupyter_NB/lib/python3.8/site-packages/jax/lib/xla_bridge.py:130: UserWarning: No GPU/TPU found, falling back to CPU.\n",
      "  warnings.warn('No GPU/TPU found, falling back to CPU.')\n"
     ]
    }
   ],
   "source": [
    "import numpy as np\n",
    "import pandas as pd\n",
    "import csv\n",
    "import matplotlib.pyplot as plt\n",
    "\n",
    "from Bio import SeqIO\n",
    "from jax_unirep import get_reps\n",
    "from jax_unirep import evotune, fit\n",
    "from jax_unirep.utils import dump_params\n",
    "import os\n",
    "import gc\n",
    "\n",
    "os.environ['XLA_PYTHON_CLIENT_PREALLOCATE']='False'\n",
    "os.environ['XLA_PYTHON_CLIENT_MEM_FRACTION']='.70'"
   ]
  },
  {
   "cell_type": "code",
   "execution_count": 2,
   "metadata": {},
   "outputs": [],
   "source": [
    "os.environ['MKL_NUM_THREADS']='1' \n",
    "os.environ['OPENBLAS_NUM_THREADS']='1'\n",
    "\n",
    "os.environ[\"NUM_INTER_THREADS\"]=\"1\"\n",
    "os.environ[\"NUM_INTRA_THREADS\"]=\"1\"\n",
    "os.environ.update(\n",
    "        XLA_FLAGS=(\n",
    "            '--xla_cpu_multi_thread_eigen=false '\n",
    "            'intra_op_parallelism_threads=2 '\n",
    "            'inter_op_parallelism_threads=2 '\n",
    "            'OMP_NUM_THREADS=1  '\n",
    "        ),\n",
    "        XLA_PYTHON_CLIENT_PREALLOCATE='false',\n",
    "    )\n",
    "#os.environ[\"XLA_FLAGS\"] = (\"--xla_cpu_multi_thread_eigen=false intra_op_parallelism_threads=10\")"
   ]
  },
  {
   "cell_type": "code",
   "execution_count": 3,
   "metadata": {},
   "outputs": [],
   "source": [
    "fastas = \"/home/kongkitimanonk/SCRATCH_NOBAK/cd-hit/bk_fasta/SRR11234331.assembly.len15.fasta\"\n",
    "plk = \"/home/kongkitimanonk/SCRATCH_NOBAK/phase3/PoisonFrog.len15.pkl\""
   ]
  },
  {
   "cell_type": "code",
   "execution_count": 5,
   "metadata": {},
   "outputs": [],
   "source": [
    "with open(fastas) as fasta_file:  # Will close handle cleanly\n",
    "    identifiers = []\n",
    "    lengths = []\n",
    "    seqs = []\n",
    "    for seq_record in SeqIO.parse(fasta_file, 'fasta'):  # (generator)\n",
    "        identifiers.append(seq_record.id)\n",
    "        # Remove leading and trailing characters from a string\n",
    "        seqs.append(str(seq_record.seq.strip('*')))\n",
    "        lengths.append(len(seq_record.seq))"
   ]
  },
  {
   "cell_type": "code",
   "execution_count": 6,
   "metadata": {},
   "outputs": [
    {
     "data": {
      "text/html": [
       "<div>\n",
       "<style scoped>\n",
       "    .dataframe tbody tr th:only-of-type {\n",
       "        vertical-align: middle;\n",
       "    }\n",
       "\n",
       "    .dataframe tbody tr th {\n",
       "        vertical-align: top;\n",
       "    }\n",
       "\n",
       "    .dataframe thead th {\n",
       "        text-align: right;\n",
       "    }\n",
       "</style>\n",
       "<table border=\"1\" class=\"dataframe\">\n",
       "  <thead>\n",
       "    <tr style=\"text-align: right;\">\n",
       "      <th></th>\n",
       "      <th>ID</th>\n",
       "      <th>Sequence</th>\n",
       "      <th>length</th>\n",
       "    </tr>\n",
       "  </thead>\n",
       "  <tbody>\n",
       "    <tr>\n",
       "      <th>0</th>\n",
       "      <td>0</td>\n",
       "      <td>VAQHRPLIPVLPERPQYSGRSLHSPAAVSMPLSDLDLLAVTDLSLS...</td>\n",
       "      <td>50</td>\n",
       "    </tr>\n",
       "    <tr>\n",
       "      <th>1</th>\n",
       "      <td>1</td>\n",
       "      <td>MERIELRHANSEEGRSQKTSCRYKFF</td>\n",
       "      <td>28</td>\n",
       "    </tr>\n",
       "    <tr>\n",
       "      <th>2</th>\n",
       "      <td>2</td>\n",
       "      <td>MQTLKRGGHRRLAVDTNFSEKPED</td>\n",
       "      <td>26</td>\n",
       "    </tr>\n",
       "    <tr>\n",
       "      <th>3</th>\n",
       "      <td>3</td>\n",
       "      <td>MPQLNSLHTSVSLSVTPL</td>\n",
       "      <td>20</td>\n",
       "    </tr>\n",
       "    <tr>\n",
       "      <th>4</th>\n",
       "      <td>4</td>\n",
       "      <td>MYCLAMLHPTQVRGR</td>\n",
       "      <td>17</td>\n",
       "    </tr>\n",
       "    <tr>\n",
       "      <th>...</th>\n",
       "      <td>...</td>\n",
       "      <td>...</td>\n",
       "      <td>...</td>\n",
       "    </tr>\n",
       "    <tr>\n",
       "      <th>12753725</th>\n",
       "      <td>12753725</td>\n",
       "      <td>MFFSSPSRRVFSLSNESS</td>\n",
       "      <td>20</td>\n",
       "    </tr>\n",
       "    <tr>\n",
       "      <th>12753726</th>\n",
       "      <td>12753726</td>\n",
       "      <td>MNPITPICTVHSTSIAFLFFILAV</td>\n",
       "      <td>26</td>\n",
       "    </tr>\n",
       "    <tr>\n",
       "      <th>12753727</th>\n",
       "      <td>12753727</td>\n",
       "      <td>CGLWGGQSVRTQRQLVMSDAQHVPSPAAGSELVSVLWAVGRQLLLL...</td>\n",
       "      <td>163</td>\n",
       "    </tr>\n",
       "    <tr>\n",
       "      <th>12753728</th>\n",
       "      <td>12753728</td>\n",
       "      <td>MPRAMRKRHRSRKRES</td>\n",
       "      <td>18</td>\n",
       "    </tr>\n",
       "    <tr>\n",
       "      <th>12753729</th>\n",
       "      <td>12753729</td>\n",
       "      <td>MRRRRDRTTQRCGGLLV</td>\n",
       "      <td>19</td>\n",
       "    </tr>\n",
       "  </tbody>\n",
       "</table>\n",
       "<p>12753730 rows × 3 columns</p>\n",
       "</div>"
      ],
      "text/plain": [
       "                ID                                           Sequence  length\n",
       "0                0  VAQHRPLIPVLPERPQYSGRSLHSPAAVSMPLSDLDLLAVTDLSLS...      50\n",
       "1                1                         MERIELRHANSEEGRSQKTSCRYKFF      28\n",
       "2                2                           MQTLKRGGHRRLAVDTNFSEKPED      26\n",
       "3                3                                 MPQLNSLHTSVSLSVTPL      20\n",
       "4                4                                    MYCLAMLHPTQVRGR      17\n",
       "...            ...                                                ...     ...\n",
       "12753725  12753725                                 MFFSSPSRRVFSLSNESS      20\n",
       "12753726  12753726                           MNPITPICTVHSTSIAFLFFILAV      26\n",
       "12753727  12753727  CGLWGGQSVRTQRQLVMSDAQHVPSPAAGSELVSVLWAVGRQLLLL...     163\n",
       "12753728  12753728                                   MPRAMRKRHRSRKRES      18\n",
       "12753729  12753729                                  MRRRRDRTTQRCGGLLV      19\n",
       "\n",
       "[12753730 rows x 3 columns]"
      ]
     },
     "execution_count": 6,
     "metadata": {},
     "output_type": "execute_result"
    }
   ],
   "source": [
    "# dictionary of lists  \n",
    "dict = {'ID': identifiers, 'Sequence': seqs, 'length': lengths}  \n",
    "df = pd.DataFrame(dict) \n",
    "#df[\"Sequence\"] =  seqs\n",
    "#df.to_pickle(plk)    \n",
    "df  "
   ]
  },
  {
   "cell_type": "markdown",
   "metadata": {},
   "source": [
    "Remove Duplicate"
   ]
  },
  {
   "cell_type": "code",
   "execution_count": 7,
   "metadata": {},
   "outputs": [
    {
     "data": {
      "text/html": [
       "<div>\n",
       "<style scoped>\n",
       "    .dataframe tbody tr th:only-of-type {\n",
       "        vertical-align: middle;\n",
       "    }\n",
       "\n",
       "    .dataframe tbody tr th {\n",
       "        vertical-align: top;\n",
       "    }\n",
       "\n",
       "    .dataframe thead th {\n",
       "        text-align: right;\n",
       "    }\n",
       "</style>\n",
       "<table border=\"1\" class=\"dataframe\">\n",
       "  <thead>\n",
       "    <tr style=\"text-align: right;\">\n",
       "      <th></th>\n",
       "      <th>ID</th>\n",
       "      <th>Sequence</th>\n",
       "      <th>length</th>\n",
       "    </tr>\n",
       "  </thead>\n",
       "  <tbody>\n",
       "    <tr>\n",
       "      <th>0</th>\n",
       "      <td>0</td>\n",
       "      <td>VAQHRPLIPVLPERPQYSGRSLHSPAAVSMPLSDLDLLAVTDLSLS...</td>\n",
       "      <td>50</td>\n",
       "    </tr>\n",
       "    <tr>\n",
       "      <th>1</th>\n",
       "      <td>1</td>\n",
       "      <td>MERIELRHANSEEGRSQKTSCRYKFF</td>\n",
       "      <td>28</td>\n",
       "    </tr>\n",
       "    <tr>\n",
       "      <th>2</th>\n",
       "      <td>2</td>\n",
       "      <td>MQTLKRGGHRRLAVDTNFSEKPED</td>\n",
       "      <td>26</td>\n",
       "    </tr>\n",
       "    <tr>\n",
       "      <th>3</th>\n",
       "      <td>3</td>\n",
       "      <td>MPQLNSLHTSVSLSVTPL</td>\n",
       "      <td>20</td>\n",
       "    </tr>\n",
       "    <tr>\n",
       "      <th>4</th>\n",
       "      <td>4</td>\n",
       "      <td>MYCLAMLHPTQVRGR</td>\n",
       "      <td>17</td>\n",
       "    </tr>\n",
       "    <tr>\n",
       "      <th>...</th>\n",
       "      <td>...</td>\n",
       "      <td>...</td>\n",
       "      <td>...</td>\n",
       "    </tr>\n",
       "    <tr>\n",
       "      <th>12753717</th>\n",
       "      <td>12753717</td>\n",
       "      <td>EPQRRSARLSAKPAPPKAEPKPKKPPAAKKADKAQKRKKGKADSGKDA</td>\n",
       "      <td>48</td>\n",
       "    </tr>\n",
       "    <tr>\n",
       "      <th>12753718</th>\n",
       "      <td>12753718</td>\n",
       "      <td>HLFQNLPFLFFFFELCQPSLLLVAFWALALLLEGRV</td>\n",
       "      <td>37</td>\n",
       "    </tr>\n",
       "    <tr>\n",
       "      <th>12753720</th>\n",
       "      <td>12753720</td>\n",
       "      <td>PEAKVGGLCSRWKDSVFVRMVLELKVTVRHPRLRIWSLWWIFNSAG...</td>\n",
       "      <td>97</td>\n",
       "    </tr>\n",
       "    <tr>\n",
       "      <th>12753721</th>\n",
       "      <td>12753721</td>\n",
       "      <td>MKKVAILQENALLLIN</td>\n",
       "      <td>18</td>\n",
       "    </tr>\n",
       "    <tr>\n",
       "      <th>12753727</th>\n",
       "      <td>12753727</td>\n",
       "      <td>CGLWGGQSVRTQRQLVMSDAQHVPSPAAGSELVSVLWAVGRQLLLL...</td>\n",
       "      <td>163</td>\n",
       "    </tr>\n",
       "  </tbody>\n",
       "</table>\n",
       "<p>4910674 rows × 3 columns</p>\n",
       "</div>"
      ],
      "text/plain": [
       "                ID                                           Sequence  length\n",
       "0                0  VAQHRPLIPVLPERPQYSGRSLHSPAAVSMPLSDLDLLAVTDLSLS...      50\n",
       "1                1                         MERIELRHANSEEGRSQKTSCRYKFF      28\n",
       "2                2                           MQTLKRGGHRRLAVDTNFSEKPED      26\n",
       "3                3                                 MPQLNSLHTSVSLSVTPL      20\n",
       "4                4                                    MYCLAMLHPTQVRGR      17\n",
       "...            ...                                                ...     ...\n",
       "12753717  12753717   EPQRRSARLSAKPAPPKAEPKPKKPPAAKKADKAQKRKKGKADSGKDA      48\n",
       "12753718  12753718               HLFQNLPFLFFFFELCQPSLLLVAFWALALLLEGRV      37\n",
       "12753720  12753720  PEAKVGGLCSRWKDSVFVRMVLELKVTVRHPRLRIWSLWWIFNSAG...      97\n",
       "12753721  12753721                                   MKKVAILQENALLLIN      18\n",
       "12753727  12753727  CGLWGGQSVRTQRQLVMSDAQHVPSPAAGSELVSVLWAVGRQLLLL...     163\n",
       "\n",
       "[4910674 rows x 3 columns]"
      ]
     },
     "execution_count": 7,
     "metadata": {},
     "output_type": "execute_result"
    }
   ],
   "source": [
    "df.drop_duplicates(subset=['Sequence'],inplace=True)\n",
    "df"
   ]
  },
  {
   "cell_type": "code",
   "execution_count": 21,
   "metadata": {},
   "outputs": [],
   "source": [
    "#0-613834\n",
    "#613834-1277668\n",
    "#1277668-1841502\n",
    "#1841502-2455336\n",
    "#2455336 -3069170\n",
    "# 3069170-3683004\n",
    "#3683004-4296838\n",
    "# 4296838 - 4910674 \n",
    "#df1 = df.iloc[0:300000, :]\n",
    "#df2 = df.iloc[300000:613834, :]\n",
    "\n",
    "df3 = df.iloc[613834:1277668, :]\n",
    "#df3 = df.iloc[1277668:1841502, :]\n",
    "#df4 = df.iloc[1841502:2455336, :]\n",
    "#df5 = df.iloc[2455336:3069170, :]\n",
    "#df6 = df.iloc[3069170:3683004, :]\n",
    "#df7 = df.iloc[3683004:4296838, :]\n",
    "#df8 = df.iloc[4296838:4910674, :]"
   ]
  },
  {
   "cell_type": "code",
   "execution_count": 22,
   "metadata": {},
   "outputs": [
    {
     "data": {
      "text/html": [
       "<div>\n",
       "<style scoped>\n",
       "    .dataframe tbody tr th:only-of-type {\n",
       "        vertical-align: middle;\n",
       "    }\n",
       "\n",
       "    .dataframe tbody tr th {\n",
       "        vertical-align: top;\n",
       "    }\n",
       "\n",
       "    .dataframe thead th {\n",
       "        text-align: right;\n",
       "    }\n",
       "</style>\n",
       "<table border=\"1\" class=\"dataframe\">\n",
       "  <thead>\n",
       "    <tr style=\"text-align: right;\">\n",
       "      <th></th>\n",
       "      <th>ID</th>\n",
       "      <th>Sequence</th>\n",
       "      <th>length</th>\n",
       "    </tr>\n",
       "  </thead>\n",
       "  <tbody>\n",
       "    <tr>\n",
       "      <th>1117804</th>\n",
       "      <td>1117804</td>\n",
       "      <td>MIWVCMSGKGTGEMAVITSSINAQVYVDILDTFLVLSIERMFGDDE...</td>\n",
       "      <td>114</td>\n",
       "    </tr>\n",
       "    <tr>\n",
       "      <th>1117809</th>\n",
       "      <td>1117809</td>\n",
       "      <td>HAICAIRASAIICMSCHCVPSCKGFPTLGTDKSCGNEAWIVVSLEM...</td>\n",
       "      <td>120</td>\n",
       "    </tr>\n",
       "    <tr>\n",
       "      <th>1117812</th>\n",
       "      <td>1117812</td>\n",
       "      <td>VWGPASPGRLFAVGVDTGVWCVLFDGAAGWGPVRRQFFRLETLVCL...</td>\n",
       "      <td>54</td>\n",
       "    </tr>\n",
       "    <tr>\n",
       "      <th>1117814</th>\n",
       "      <td>1117814</td>\n",
       "      <td>MSNHFLSSYTNCTCLATEG</td>\n",
       "      <td>21</td>\n",
       "    </tr>\n",
       "    <tr>\n",
       "      <th>1117815</th>\n",
       "      <td>1117815</td>\n",
       "      <td>LGLCCAYRTWPLYCECLTIFLAPTLIVHVWPQKDESCILGSLL</td>\n",
       "      <td>44</td>\n",
       "    </tr>\n",
       "    <tr>\n",
       "      <th>...</th>\n",
       "      <td>...</td>\n",
       "      <td>...</td>\n",
       "      <td>...</td>\n",
       "    </tr>\n",
       "    <tr>\n",
       "      <th>2582399</th>\n",
       "      <td>2582399</td>\n",
       "      <td>KKKRNRAALGRYARMEKLAIEGIVVQRAECRPAASEHYMQMKRRQI...</td>\n",
       "      <td>164</td>\n",
       "    </tr>\n",
       "    <tr>\n",
       "      <th>2582400</th>\n",
       "      <td>2582400</td>\n",
       "      <td>MSNTCCLSARARFPSSFFFFSYSILFAWLDTGL</td>\n",
       "      <td>35</td>\n",
       "    </tr>\n",
       "    <tr>\n",
       "      <th>2582402</th>\n",
       "      <td>2582402</td>\n",
       "      <td>LAAELERRGEAAGAEIPESGVRAAAGEHRAGLLLRLFGRFSSWKANH</td>\n",
       "      <td>48</td>\n",
       "    </tr>\n",
       "    <tr>\n",
       "      <th>2582411</th>\n",
       "      <td>2582411</td>\n",
       "      <td>PSIAMKGLMICLVAAAFCMDLARSLQCYYCKEESDLAKCNGVKECS...</td>\n",
       "      <td>356</td>\n",
       "    </tr>\n",
       "    <tr>\n",
       "      <th>2582412</th>\n",
       "      <td>2582412</td>\n",
       "      <td>RRHGSSKGFFPASTLPLLLRYPYHCTFTTKTKR</td>\n",
       "      <td>34</td>\n",
       "    </tr>\n",
       "  </tbody>\n",
       "</table>\n",
       "<p>663834 rows × 3 columns</p>\n",
       "</div>"
      ],
      "text/plain": [
       "              ID                                           Sequence  length\n",
       "1117804  1117804  MIWVCMSGKGTGEMAVITSSINAQVYVDILDTFLVLSIERMFGDDE...     114\n",
       "1117809  1117809  HAICAIRASAIICMSCHCVPSCKGFPTLGTDKSCGNEAWIVVSLEM...     120\n",
       "1117812  1117812  VWGPASPGRLFAVGVDTGVWCVLFDGAAGWGPVRRQFFRLETLVCL...      54\n",
       "1117814  1117814                                MSNHFLSSYTNCTCLATEG      21\n",
       "1117815  1117815        LGLCCAYRTWPLYCECLTIFLAPTLIVHVWPQKDESCILGSLL      44\n",
       "...          ...                                                ...     ...\n",
       "2582399  2582399  KKKRNRAALGRYARMEKLAIEGIVVQRAECRPAASEHYMQMKRRQI...     164\n",
       "2582400  2582400                  MSNTCCLSARARFPSSFFFFSYSILFAWLDTGL      35\n",
       "2582402  2582402    LAAELERRGEAAGAEIPESGVRAAAGEHRAGLLLRLFGRFSSWKANH      48\n",
       "2582411  2582411  PSIAMKGLMICLVAAAFCMDLARSLQCYYCKEESDLAKCNGVKECS...     356\n",
       "2582412  2582412                  RRHGSSKGFFPASTLPLLLRYPYHCTFTTKTKR      34\n",
       "\n",
       "[663834 rows x 3 columns]"
      ]
     },
     "execution_count": 22,
     "metadata": {},
     "output_type": "execute_result"
    }
   ],
   "source": [
    "df3"
   ]
  },
  {
   "cell_type": "code",
   "execution_count": 10,
   "metadata": {},
   "outputs": [],
   "source": [
    "def createREPs(df, filename):\n",
    "    _h_avg, h_final, c_final= get_reps(df['Sequence'].to_list())\n",
    "    df['reps']=_h_avg.tolist() # if there is a problem , might be here , possible solution is reindexing\n",
    "    df.to_pickle(filename) # dont forget to change the file name to 0_613834"
   ]
  },
  {
   "cell_type": "code",
   "execution_count": 11,
   "metadata": {},
   "outputs": [
    {
     "name": "stderr",
     "output_type": "stream",
     "text": [
      "<ipython-input-10-204853ba1859>:3: SettingWithCopyWarning: \n",
      "A value is trying to be set on a copy of a slice from a DataFrame.\n",
      "Try using .loc[row_indexer,col_indexer] = value instead\n",
      "\n",
      "See the caveats in the documentation: https://pandas.pydata.org/pandas-docs/stable/user_guide/indexing.html#returning-a-view-versus-a-copy\n",
      "  df['reps']=_h_avg.tolist() # if there is a problem , might be here , possible solution is reindexing\n"
     ]
    }
   ],
   "source": [
    "createREPs(df1,\"/home/kongkitimanonk/SCRATCH_NOBAK/phase3/PoisonFrog.len15.0_300000.pkl\")"
   ]
  },
  {
   "cell_type": "code",
   "execution_count": 13,
   "metadata": {},
   "outputs": [
    {
     "name": "stderr",
     "output_type": "stream",
     "text": [
      "<ipython-input-10-204853ba1859>:3: SettingWithCopyWarning: \n",
      "A value is trying to be set on a copy of a slice from a DataFrame.\n",
      "Try using .loc[row_indexer,col_indexer] = value instead\n",
      "\n",
      "See the caveats in the documentation: https://pandas.pydata.org/pandas-docs/stable/user_guide/indexing.html#returning-a-view-versus-a-copy\n",
      "  df['reps']=_h_avg.tolist() # if there is a problem , might be here , possible solution is reindexing\n"
     ]
    }
   ],
   "source": [
    "df1=\"\"\n",
    "createREPs(df2,\"/home/kongkitimanonk/SCRATCH_NOBAK/phase3/PoisonFrog.len15.300000_613834.pkl\")"
   ]
  },
  {
   "cell_type": "code",
   "execution_count": null,
   "metadata": {},
   "outputs": [],
   "source": [
    "df2=\"\"\n",
    "createREPs(df3,\"/home/kongkitimanonk/SCRATCH_NOBAK/phase3/PoisonFrog.len15.613834_1277668.pkl\")"
   ]
  },
  {
   "cell_type": "markdown",
   "metadata": {},
   "source": [
    "----- base ---"
   ]
  },
  {
   "cell_type": "code",
   "execution_count": null,
   "metadata": {},
   "outputs": [],
   "source": [
    "_h_avg, h_final, c_final= get_reps(df['Sequence'].to_list())\n",
    "df['reps']=_h_avg.tolist()\n",
    "df"
   ]
  },
  {
   "cell_type": "code",
   "execution_count": null,
   "metadata": {},
   "outputs": [],
   "source": [
    "df.to_pickle(plk)\n"
   ]
  }
 ],
 "metadata": {
  "accelerator": "GPU",
  "colab": {
   "name": "jax-unirep.ipynb",
   "provenance": [],
   "toc_visible": true
  },
  "kernelspec": {
   "display_name": "Python 3",
   "language": "python",
   "name": "python3"
  },
  "language_info": {
   "codemirror_mode": {
    "name": "ipython",
    "version": 3
   },
   "file_extension": ".py",
   "mimetype": "text/x-python",
   "name": "python",
   "nbconvert_exporter": "python",
   "pygments_lexer": "ipython3",
   "version": "3.8.5"
  }
 },
 "nbformat": 4,
 "nbformat_minor": 4
}
