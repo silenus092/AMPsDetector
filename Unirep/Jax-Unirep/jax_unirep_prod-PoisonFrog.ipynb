{
 "cells": [
  {
   "cell_type": "code",
   "execution_count": null,
   "metadata": {
    "id": "DDCRQnyeZS5x"
   },
   "outputs": [],
   "source": [
    "!pip install scikit-plot\n",
    "!pip install jax-unirep"
   ]
  },
  {
   "cell_type": "markdown",
   "metadata": {
    "id": "HGOsaByCvPDu"
   },
   "source": [
    "Try to deal with GPU memory \n",
    "accroading to https://jax.readthedocs.io/en/latest/gpu_memory_allocation.html"
   ]
  },
  {
   "cell_type": "code",
   "execution_count": 1,
   "metadata": {
    "id": "Uq49wrJkr20U"
   },
   "outputs": [
    {
     "name": "stderr",
     "output_type": "stream",
     "text": [
      "/home/kongkitimanonk/.conda/envs/jupyter_NB/lib/python3.8/site-packages/jax/lib/xla_bridge.py:130: UserWarning: No GPU/TPU found, falling back to CPU.\n",
      "  warnings.warn('No GPU/TPU found, falling back to CPU.')\n"
     ]
    }
   ],
   "source": [
    "import numpy as np\n",
    "import pandas as pd\n",
    "import csv\n",
    "import matplotlib.pyplot as plt\n",
    "\n",
    "from Bio import SeqIO\n",
    "from jax_unirep import get_reps\n",
    "from jax_unirep import evotune, fit\n",
    "from jax_unirep.utils import dump_params\n",
    "import os\n",
    "\n",
    "os.environ['XLA_PYTHON_CLIENT_PREALLOCATE']='False'\n",
    "os.environ['XLA_PYTHON_CLIENT_MEM_FRACTION']='.50'"
   ]
  },
  {
   "cell_type": "code",
   "execution_count": 2,
   "metadata": {},
   "outputs": [],
   "source": [
    "fastas = \"/home/kongkitimanonk/SCRATCH_NOBAK/cd-hit/bk_fasta/SRR11234331.assembly.len15.fasta\"\n",
    "plk = \"/home/kongkitimanonk/SCRATCH_NOBAK/phase3/PoisonFrog.len15.pkl\""
   ]
  },
  {
   "cell_type": "code",
   "execution_count": 3,
   "metadata": {},
   "outputs": [],
   "source": [
    "with open(fastas) as fasta_file:  # Will close handle cleanly\n",
    "    identifiers = []\n",
    "    lengths = []\n",
    "    seqs = []\n",
    "    for seq_record in SeqIO.parse(fasta_file, 'fasta'):  # (generator)\n",
    "        identifiers.append(seq_record.id)\n",
    "        # Remove leading and trailing characters from a string\n",
    "        seqs.append(str(seq_record.seq.strip('*')))\n",
    "        lengths.append(len(seq_record.seq))"
   ]
  },
  {
   "cell_type": "code",
   "execution_count": 4,
   "metadata": {},
   "outputs": [
    {
     "data": {
      "text/html": [
       "<div>\n",
       "<style scoped>\n",
       "    .dataframe tbody tr th:only-of-type {\n",
       "        vertical-align: middle;\n",
       "    }\n",
       "\n",
       "    .dataframe tbody tr th {\n",
       "        vertical-align: top;\n",
       "    }\n",
       "\n",
       "    .dataframe thead th {\n",
       "        text-align: right;\n",
       "    }\n",
       "</style>\n",
       "<table border=\"1\" class=\"dataframe\">\n",
       "  <thead>\n",
       "    <tr style=\"text-align: right;\">\n",
       "      <th></th>\n",
       "      <th>ID</th>\n",
       "      <th>Sequence</th>\n",
       "      <th>length</th>\n",
       "    </tr>\n",
       "  </thead>\n",
       "  <tbody>\n",
       "    <tr>\n",
       "      <th>0</th>\n",
       "      <td>0</td>\n",
       "      <td>VAQHRPLIPVLPERPQYSGRSLHSPAAVSMPLSDLDLLAVTDLSLS...</td>\n",
       "      <td>50</td>\n",
       "    </tr>\n",
       "    <tr>\n",
       "      <th>1</th>\n",
       "      <td>1</td>\n",
       "      <td>MERIELRHANSEEGRSQKTSCRYKFF</td>\n",
       "      <td>28</td>\n",
       "    </tr>\n",
       "    <tr>\n",
       "      <th>2</th>\n",
       "      <td>2</td>\n",
       "      <td>MQTLKRGGHRRLAVDTNFSEKPED</td>\n",
       "      <td>26</td>\n",
       "    </tr>\n",
       "    <tr>\n",
       "      <th>3</th>\n",
       "      <td>3</td>\n",
       "      <td>MPQLNSLHTSVSLSVTPL</td>\n",
       "      <td>20</td>\n",
       "    </tr>\n",
       "    <tr>\n",
       "      <th>4</th>\n",
       "      <td>4</td>\n",
       "      <td>MYCLAMLHPTQVRGR</td>\n",
       "      <td>17</td>\n",
       "    </tr>\n",
       "    <tr>\n",
       "      <th>...</th>\n",
       "      <td>...</td>\n",
       "      <td>...</td>\n",
       "      <td>...</td>\n",
       "    </tr>\n",
       "    <tr>\n",
       "      <th>12753725</th>\n",
       "      <td>12753725</td>\n",
       "      <td>MFFSSPSRRVFSLSNESS</td>\n",
       "      <td>20</td>\n",
       "    </tr>\n",
       "    <tr>\n",
       "      <th>12753726</th>\n",
       "      <td>12753726</td>\n",
       "      <td>MNPITPICTVHSTSIAFLFFILAV</td>\n",
       "      <td>26</td>\n",
       "    </tr>\n",
       "    <tr>\n",
       "      <th>12753727</th>\n",
       "      <td>12753727</td>\n",
       "      <td>CGLWGGQSVRTQRQLVMSDAQHVPSPAAGSELVSVLWAVGRQLLLL...</td>\n",
       "      <td>163</td>\n",
       "    </tr>\n",
       "    <tr>\n",
       "      <th>12753728</th>\n",
       "      <td>12753728</td>\n",
       "      <td>MPRAMRKRHRSRKRES</td>\n",
       "      <td>18</td>\n",
       "    </tr>\n",
       "    <tr>\n",
       "      <th>12753729</th>\n",
       "      <td>12753729</td>\n",
       "      <td>MRRRRDRTTQRCGGLLV</td>\n",
       "      <td>19</td>\n",
       "    </tr>\n",
       "  </tbody>\n",
       "</table>\n",
       "<p>12753730 rows × 3 columns</p>\n",
       "</div>"
      ],
      "text/plain": [
       "                ID                                           Sequence  length\n",
       "0                0  VAQHRPLIPVLPERPQYSGRSLHSPAAVSMPLSDLDLLAVTDLSLS...      50\n",
       "1                1                         MERIELRHANSEEGRSQKTSCRYKFF      28\n",
       "2                2                           MQTLKRGGHRRLAVDTNFSEKPED      26\n",
       "3                3                                 MPQLNSLHTSVSLSVTPL      20\n",
       "4                4                                    MYCLAMLHPTQVRGR      17\n",
       "...            ...                                                ...     ...\n",
       "12753725  12753725                                 MFFSSPSRRVFSLSNESS      20\n",
       "12753726  12753726                           MNPITPICTVHSTSIAFLFFILAV      26\n",
       "12753727  12753727  CGLWGGQSVRTQRQLVMSDAQHVPSPAAGSELVSVLWAVGRQLLLL...     163\n",
       "12753728  12753728                                   MPRAMRKRHRSRKRES      18\n",
       "12753729  12753729                                  MRRRRDRTTQRCGGLLV      19\n",
       "\n",
       "[12753730 rows x 3 columns]"
      ]
     },
     "execution_count": 4,
     "metadata": {},
     "output_type": "execute_result"
    }
   ],
   "source": [
    "# dictionary of lists  \n",
    "dict = {'ID': identifiers, 'Sequence': seqs, 'length': lengths}  \n",
    "df = pd.DataFrame(dict) \n",
    "#df[\"Sequence\"] =  seqs\n",
    "#df.to_pickle(plk)    \n",
    "df  "
   ]
  },
  {
   "cell_type": "markdown",
   "metadata": {},
   "source": [
    "Remove Duplicate"
   ]
  },
  {
   "cell_type": "code",
   "execution_count": 5,
   "metadata": {},
   "outputs": [
    {
     "data": {
      "text/html": [
       "<div>\n",
       "<style scoped>\n",
       "    .dataframe tbody tr th:only-of-type {\n",
       "        vertical-align: middle;\n",
       "    }\n",
       "\n",
       "    .dataframe tbody tr th {\n",
       "        vertical-align: top;\n",
       "    }\n",
       "\n",
       "    .dataframe thead th {\n",
       "        text-align: right;\n",
       "    }\n",
       "</style>\n",
       "<table border=\"1\" class=\"dataframe\">\n",
       "  <thead>\n",
       "    <tr style=\"text-align: right;\">\n",
       "      <th></th>\n",
       "      <th>ID</th>\n",
       "      <th>Sequence</th>\n",
       "      <th>length</th>\n",
       "    </tr>\n",
       "  </thead>\n",
       "  <tbody>\n",
       "    <tr>\n",
       "      <th>0</th>\n",
       "      <td>0</td>\n",
       "      <td>VAQHRPLIPVLPERPQYSGRSLHSPAAVSMPLSDLDLLAVTDLSLS...</td>\n",
       "      <td>50</td>\n",
       "    </tr>\n",
       "    <tr>\n",
       "      <th>1</th>\n",
       "      <td>1</td>\n",
       "      <td>MERIELRHANSEEGRSQKTSCRYKFF</td>\n",
       "      <td>28</td>\n",
       "    </tr>\n",
       "    <tr>\n",
       "      <th>2</th>\n",
       "      <td>2</td>\n",
       "      <td>MQTLKRGGHRRLAVDTNFSEKPED</td>\n",
       "      <td>26</td>\n",
       "    </tr>\n",
       "    <tr>\n",
       "      <th>3</th>\n",
       "      <td>3</td>\n",
       "      <td>MPQLNSLHTSVSLSVTPL</td>\n",
       "      <td>20</td>\n",
       "    </tr>\n",
       "    <tr>\n",
       "      <th>4</th>\n",
       "      <td>4</td>\n",
       "      <td>MYCLAMLHPTQVRGR</td>\n",
       "      <td>17</td>\n",
       "    </tr>\n",
       "    <tr>\n",
       "      <th>...</th>\n",
       "      <td>...</td>\n",
       "      <td>...</td>\n",
       "      <td>...</td>\n",
       "    </tr>\n",
       "    <tr>\n",
       "      <th>12753717</th>\n",
       "      <td>12753717</td>\n",
       "      <td>EPQRRSARLSAKPAPPKAEPKPKKPPAAKKADKAQKRKKGKADSGKDA</td>\n",
       "      <td>48</td>\n",
       "    </tr>\n",
       "    <tr>\n",
       "      <th>12753718</th>\n",
       "      <td>12753718</td>\n",
       "      <td>HLFQNLPFLFFFFELCQPSLLLVAFWALALLLEGRV</td>\n",
       "      <td>37</td>\n",
       "    </tr>\n",
       "    <tr>\n",
       "      <th>12753720</th>\n",
       "      <td>12753720</td>\n",
       "      <td>PEAKVGGLCSRWKDSVFVRMVLELKVTVRHPRLRIWSLWWIFNSAG...</td>\n",
       "      <td>97</td>\n",
       "    </tr>\n",
       "    <tr>\n",
       "      <th>12753721</th>\n",
       "      <td>12753721</td>\n",
       "      <td>MKKVAILQENALLLIN</td>\n",
       "      <td>18</td>\n",
       "    </tr>\n",
       "    <tr>\n",
       "      <th>12753727</th>\n",
       "      <td>12753727</td>\n",
       "      <td>CGLWGGQSVRTQRQLVMSDAQHVPSPAAGSELVSVLWAVGRQLLLL...</td>\n",
       "      <td>163</td>\n",
       "    </tr>\n",
       "  </tbody>\n",
       "</table>\n",
       "<p>4910674 rows × 3 columns</p>\n",
       "</div>"
      ],
      "text/plain": [
       "                ID                                           Sequence  length\n",
       "0                0  VAQHRPLIPVLPERPQYSGRSLHSPAAVSMPLSDLDLLAVTDLSLS...      50\n",
       "1                1                         MERIELRHANSEEGRSQKTSCRYKFF      28\n",
       "2                2                           MQTLKRGGHRRLAVDTNFSEKPED      26\n",
       "3                3                                 MPQLNSLHTSVSLSVTPL      20\n",
       "4                4                                    MYCLAMLHPTQVRGR      17\n",
       "...            ...                                                ...     ...\n",
       "12753717  12753717   EPQRRSARLSAKPAPPKAEPKPKKPPAAKKADKAQKRKKGKADSGKDA      48\n",
       "12753718  12753718               HLFQNLPFLFFFFELCQPSLLLVAFWALALLLEGRV      37\n",
       "12753720  12753720  PEAKVGGLCSRWKDSVFVRMVLELKVTVRHPRLRIWSLWWIFNSAG...      97\n",
       "12753721  12753721                                   MKKVAILQENALLLIN      18\n",
       "12753727  12753727  CGLWGGQSVRTQRQLVMSDAQHVPSPAAGSELVSVLWAVGRQLLLL...     163\n",
       "\n",
       "[4910674 rows x 3 columns]"
      ]
     },
     "execution_count": 5,
     "metadata": {},
     "output_type": "execute_result"
    }
   ],
   "source": [
    "df.drop_duplicates(subset=['Sequence'],inplace=True)\n",
    "df"
   ]
  },
  {
   "cell_type": "code",
   "execution_count": null,
   "metadata": {},
   "outputs": [],
   "source": [
    "#0-613834\n",
    "#613834-1277668\n",
    "#1277668-1841502\n",
    "#1841502-2455336\n",
    "#2455336 -3069170\n",
    "# 3069170-3683004\n",
    "#3683004-4296838\n",
    "# 4296838 - 4910674 \n",
    "df1 = df.iloc[0:613834, :]\n",
    "df2 = df.iloc[613834:1277668, :]\n",
    "df3 = df.iloc[1277668:1841502, :]\n",
    "df4 = df.iloc[1841502:2455336, :]\n",
    "df5 = df.iloc[2455336:3069170, :]\n",
    "df6 = df.iloc[3069170:3683004, :]\n",
    "df7 = df.iloc[3683004:4296838, :]\n",
    "df8 = df.iloc[4296838:4910674, :]"
   ]
  },
  {
   "cell_type": "code",
   "execution_count": null,
   "metadata": {},
   "outputs": [],
   "source": [
    "df1 = df.iloc[0:613834, :]\n",
    "_h_avg, h_final, c_final= get_reps(df1['Sequence'].to_list())\n",
    "df1['reps']=_h_avg.tolist()\n",
    "df1.to_pickle(\"/home/kongkitimanonk/SCRATCH_NOBAK/phase3/PoisonFrog.len15.0_613834.pkl\")"
   ]
  },
  {
   "cell_type": "code",
   "execution_count": null,
   "metadata": {},
   "outputs": [],
   "source": [
    "df1"
   ]
  },
  {
   "cell_type": "code",
   "execution_count": null,
   "metadata": {},
   "outputs": [],
   "source": [
    "del [[df1]]\n",
    "gc.collect()\n",
    "df1=\"\""
   ]
  },
  {
   "cell_type": "markdown",
   "metadata": {},
   "source": [
    "----- base ---"
   ]
  },
  {
   "cell_type": "code",
   "execution_count": null,
   "metadata": {},
   "outputs": [],
   "source": [
    "_h_avg, h_final, c_final= get_reps(df['Sequence'].to_list())\n",
    "df['reps']=_h_avg.tolist()\n",
    "df"
   ]
  },
  {
   "cell_type": "code",
   "execution_count": null,
   "metadata": {},
   "outputs": [],
   "source": [
    "df.to_pickle(plk)\n"
   ]
  }
 ],
 "metadata": {
  "accelerator": "GPU",
  "colab": {
   "name": "jax-unirep.ipynb",
   "provenance": [],
   "toc_visible": true
  },
  "kernelspec": {
   "display_name": "Python 3",
   "language": "python",
   "name": "python3"
  },
  "language_info": {
   "codemirror_mode": {
    "name": "ipython",
    "version": 3
   },
   "file_extension": ".py",
   "mimetype": "text/x-python",
   "name": "python",
   "nbconvert_exporter": "python",
   "pygments_lexer": "ipython3",
   "version": "3.8.5"
  }
 },
 "nbformat": 4,
 "nbformat_minor": 4
}
