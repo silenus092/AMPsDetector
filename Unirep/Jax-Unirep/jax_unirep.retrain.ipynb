{
 "cells": [
  {
   "cell_type": "code",
   "execution_count": 1,
   "metadata": {
    "id": "kvLpExG9qgyo"
   },
   "outputs": [],
   "source": [
    "import jax\n",
    "# Global flag to set a specific platform, must be used at startup.\n",
    "#jax.config.update('jax_platform_name', 'cpu')\n",
    "\n",
    "import os\n",
    "\n",
    "os.environ['XLA_PYTHON_CLIENT_PREALLOCATE']='False'\n",
    "os.environ['XLA_PYTHON_CLIENT_MEM_FRACTION']='.98'\n",
    "os.environ['XLA_PYTHON_CLIENT_ALLOCATOR']='platform'\n"
   ]
  },
  {
   "cell_type": "code",
   "execution_count": 2,
   "metadata": {
    "id": "Uq49wrJkr20U"
   },
   "outputs": [],
   "source": [
    "import numpy as np\n",
    "import pandas as pd\n",
    "import csv\n",
    "import matplotlib.pyplot as plt\n",
    "from sklearn.model_selection import train_test_split\n",
    "from jax_unirep import get_reps\n",
    "  \n",
    "from jax_unirep import evotune, fit\n",
    "from jax_unirep.utils import dump_params"
   ]
  },
  {
   "cell_type": "code",
   "execution_count": 3,
   "metadata": {},
   "outputs": [],
   "source": [
    "import gc\n",
    "import jax \n",
    "def clear_jax_caches():\n",
    "  \"\"\"Utility to clear all the function caches in jax.\"\"\"\n",
    "  # main jit/pmap lu wrapped function caches - have to grab from closures\n",
    "  jax.xla._xla_callable.__closure__[1].cell_contents.clear()\n",
    "  jax.pxla.parallel_callable.__closure__[1].cell_contents.clear()\n",
    "  # primitive callable caches\n",
    "  jax.xla.xla_primitive_callable.cache_clear()\n",
    "  jax.xla.primitive_computation.cache_clear()\n",
    "  # jaxpr caches for control flow and reductions\n",
    "  jax.lax.lax_control_flow._initial_style_jaxpr.cache_clear()\n",
    "  jax.lax.lax_control_flow._fori_body_fun.cache_clear()\n",
    "  jax.lax.lax._reduction_jaxpr.cache_clear()\n",
    "  # these are trivial and only included for completeness sake\n",
    "  jax.lax.lax.broadcast_shapes.cache_clear()\n",
    "  jax.xla.xb.get_backend.cache_clear()\n",
    "  jax.xla.xb.dtype_to_etype.cache_clear()\n",
    "  jax.xla.xb.supported_numpy_dtypes.cache_clear()\n",
    "    \n",
    "def reset_device_memory(delete_objs=True):\n",
    "    \"\"\"Free all tracked DeviceArray memory and delete objects.\n",
    "\n",
    "  Args:\n",
    "    delete_objs: bool: whether to delete all live DeviceValues or just free.\n",
    "\n",
    "  Returns:\n",
    "    number of DeviceArrays that were manually freed.\n",
    "  \"\"\"\n",
    "    dvals = (x for x in gc.get_objects() if isinstance(x, jax.xla.DeviceArray))\n",
    "    n_deleted = 0\n",
    "    for dv in dvals:\n",
    "    \n",
    "        if not isinstance(dv, jax.xla.DeviceConstant):\n",
    "            try: \n",
    "                dv._check_if_deleted()  # pylint: disable=protected-access\n",
    "                dv.device_buffer.delete()\n",
    "                n_deleted += 1\n",
    "            except:\n",
    "                pass\n",
    "        if delete_objs:\n",
    "\n",
    "            del dv\n",
    "    del dvals\n",
    "    gc.collect()\n",
    "    return n_deleted"
   ]
  },
  {
   "cell_type": "code",
   "execution_count": 4,
   "metadata": {
    "id": "gr1pgcdC45lA"
   },
   "outputs": [],
   "source": [
    "#db_path=\"AMPS_NonAMPs.ready.csv\"\n",
    "db_path=\"/mnt/vdb/thesis/AMP_NonAMPs.ready.csv\""
   ]
  },
  {
   "cell_type": "code",
   "execution_count": 5,
   "metadata": {
    "colab": {
     "base_uri": "https://localhost:8080/",
     "height": 565
    },
    "id": "n-luJbmp4clD",
    "outputId": "3206bd02-cf62-4c69-93fc-ba645b2a8923"
   },
   "outputs": [
    {
     "data": {
      "text/html": [
       "<div>\n",
       "<style scoped>\n",
       "    .dataframe tbody tr th:only-of-type {\n",
       "        vertical-align: middle;\n",
       "    }\n",
       "\n",
       "    .dataframe tbody tr th {\n",
       "        vertical-align: top;\n",
       "    }\n",
       "\n",
       "    .dataframe thead th {\n",
       "        text-align: right;\n",
       "    }\n",
       "</style>\n",
       "<table border=\"1\" class=\"dataframe\">\n",
       "  <thead>\n",
       "    <tr style=\"text-align: right;\">\n",
       "      <th></th>\n",
       "      <th>ID</th>\n",
       "      <th>Sequence</th>\n",
       "      <th>length</th>\n",
       "      <th>class</th>\n",
       "    </tr>\n",
       "  </thead>\n",
       "  <tbody>\n",
       "    <tr>\n",
       "      <th>0</th>\n",
       "      <td>EN92515250|C|B3FJD7|phage</td>\n",
       "      <td>MAKKSVPLRKPAGSDGQGNIKVPGGPVVLDLGDFDDIFGPMESESP...</td>\n",
       "      <td>2337</td>\n",
       "      <td>0</td>\n",
       "    </tr>\n",
       "    <tr>\n",
       "      <th>1</th>\n",
       "      <td>EN54061055|C|F8SJ56|phage</td>\n",
       "      <td>MASKKTTLPKPKGINPQGSIVQLDLDDFDDLFDEDFGLPKKNSPYT...</td>\n",
       "      <td>2319</td>\n",
       "      <td>0</td>\n",
       "    </tr>\n",
       "    <tr>\n",
       "      <th>2</th>\n",
       "      <td>EN4815120|C|Q8SCY1|phage</td>\n",
       "      <td>MAKKVTLPKGQTGATGTTLGQAGNILDLSDVDDIFGDTPKAKKGSP...</td>\n",
       "      <td>2237</td>\n",
       "      <td>0</td>\n",
       "    </tr>\n",
       "    <tr>\n",
       "      <th>3</th>\n",
       "      <td>EN3016141|D|D2J8A7|bacteriocin</td>\n",
       "      <td>MAETIKGLRIDLSLKDMGVGRSITELKRSFRTLNSDLKVSSKNFEY...</td>\n",
       "      <td>1619</td>\n",
       "      <td>0</td>\n",
       "    </tr>\n",
       "    <tr>\n",
       "      <th>4</th>\n",
       "      <td>EN9175723|BD|Q93IM3|bacteriocin</td>\n",
       "      <td>MAKKKNTYKVPSIIALTLAGTALTTHHAQAADKTQDQSTNKNILND...</td>\n",
       "      <td>1564</td>\n",
       "      <td>0</td>\n",
       "    </tr>\n",
       "    <tr>\n",
       "      <th>...</th>\n",
       "      <td>...</td>\n",
       "      <td>...</td>\n",
       "      <td>...</td>\n",
       "      <td>...</td>\n",
       "    </tr>\n",
       "    <tr>\n",
       "      <th>88687</th>\n",
       "      <td>UniRef50_T0J8N2</td>\n",
       "      <td>MLLASTDPAALLDMIGSYQVPSEMKWISSDER</td>\n",
       "      <td>32</td>\n",
       "      <td>1</td>\n",
       "    </tr>\n",
       "    <tr>\n",
       "      <th>88688</th>\n",
       "      <td>UniRef50_H0HGK9</td>\n",
       "      <td>MMGNARDPVTRSIIKLLIANFERYEAFVQKLV</td>\n",
       "      <td>32</td>\n",
       "      <td>1</td>\n",
       "    </tr>\n",
       "    <tr>\n",
       "      <th>88689</th>\n",
       "      <td>UniRef50_A0A2X3HFW3</td>\n",
       "      <td>MAGIWNWLNSTKLFDDGQINLSVLKQLIDFLF</td>\n",
       "      <td>32</td>\n",
       "      <td>1</td>\n",
       "    </tr>\n",
       "    <tr>\n",
       "      <th>88690</th>\n",
       "      <td>UniRef50_A0A2V3SLD6</td>\n",
       "      <td>MEPAFQVRKKGSQQKKDFKFKKLKKTDLKCEV</td>\n",
       "      <td>32</td>\n",
       "      <td>1</td>\n",
       "    </tr>\n",
       "    <tr>\n",
       "      <th>88691</th>\n",
       "      <td>UniRef50_A0A1I6N211</td>\n",
       "      <td>MYLALATVINFTLFFTAIYYLVGLFSKTNNSD</td>\n",
       "      <td>32</td>\n",
       "      <td>1</td>\n",
       "    </tr>\n",
       "  </tbody>\n",
       "</table>\n",
       "<p>88692 rows × 4 columns</p>\n",
       "</div>"
      ],
      "text/plain": [
       "                                    ID  \\\n",
       "0            EN92515250|C|B3FJD7|phage   \n",
       "1            EN54061055|C|F8SJ56|phage   \n",
       "2             EN4815120|C|Q8SCY1|phage   \n",
       "3       EN3016141|D|D2J8A7|bacteriocin   \n",
       "4      EN9175723|BD|Q93IM3|bacteriocin   \n",
       "...                                ...   \n",
       "88687                  UniRef50_T0J8N2   \n",
       "88688                  UniRef50_H0HGK9   \n",
       "88689              UniRef50_A0A2X3HFW3   \n",
       "88690              UniRef50_A0A2V3SLD6   \n",
       "88691              UniRef50_A0A1I6N211   \n",
       "\n",
       "                                                Sequence  length  class  \n",
       "0      MAKKSVPLRKPAGSDGQGNIKVPGGPVVLDLGDFDDIFGPMESESP...    2337      0  \n",
       "1      MASKKTTLPKPKGINPQGSIVQLDLDDFDDLFDEDFGLPKKNSPYT...    2319      0  \n",
       "2      MAKKVTLPKGQTGATGTTLGQAGNILDLSDVDDIFGDTPKAKKGSP...    2237      0  \n",
       "3      MAETIKGLRIDLSLKDMGVGRSITELKRSFRTLNSDLKVSSKNFEY...    1619      0  \n",
       "4      MAKKKNTYKVPSIIALTLAGTALTTHHAQAADKTQDQSTNKNILND...    1564      0  \n",
       "...                                                  ...     ...    ...  \n",
       "88687                   MLLASTDPAALLDMIGSYQVPSEMKWISSDER      32      1  \n",
       "88688                   MMGNARDPVTRSIIKLLIANFERYEAFVQKLV      32      1  \n",
       "88689                   MAGIWNWLNSTKLFDDGQINLSVLKQLIDFLF      32      1  \n",
       "88690                   MEPAFQVRKKGSQQKKDFKFKKLKKTDLKCEV      32      1  \n",
       "88691                   MYLALATVINFTLFFTAIYYLVGLFSKTNNSD      32      1  \n",
       "\n",
       "[88692 rows x 4 columns]"
      ]
     },
     "execution_count": 5,
     "metadata": {},
     "output_type": "execute_result"
    }
   ],
   "source": [
    "df=pd.read_csv(db_path,sep=',',header=0,quoting=csv.QUOTE_ALL)\n",
    "df # Class 0= AMPs , 1=NonAMps"
   ]
  },
  {
   "cell_type": "code",
   "execution_count": 6,
   "metadata": {},
   "outputs": [
    {
     "name": "stdout",
     "output_type": "stream",
     "text": [
      "complete\n"
     ]
    }
   ],
   "source": [
    "# Setting my chunk size\n",
    "chunk_size = 2000\n",
    "# Assigning chunk numbers to rows\n",
    "df['chunk'] = df.index.map(lambda x: int(int(x)/ chunk_size))\n",
    "# We don't want the 'chunk' and 'index' columns in the output\n",
    "cols = [col for col in df.columns if col not in ['chunk']]\n",
    "# groupby chunk and export each chunk to a different csv.\n",
    "i = 0\n",
    "for _, chunk in df.groupby('chunk'):\n",
    "    chunk[cols].to_csv(f'/mnt/vdb/thesis/jax/chunk{i}.csv',sep=\",\", quotechar='\"',index=False, quoting=csv.QUOTE_ALL) # <<-- change this line \n",
    "    i += 1\n",
    "print(\"complete\")"
   ]
  },
  {
   "cell_type": "code",
   "execution_count": 7,
   "metadata": {},
   "outputs": [],
   "source": [
    "def createREPs(df, filename):\n",
    "    _h_avg, h_final, c_final= get_reps(df['Sequence'].to_list())\n",
    "    df.drop(columns=['Sequence'], inplace=True)\n",
    "    df['reps']=_h_avg.tolist() # if there is a problem , might be here , possible solution is reindexing\n",
    "    df.to_pickle(filename) # dont forget to change the file name to 0_613834"
   ]
  },
  {
   "cell_type": "code",
   "execution_count": 8,
   "metadata": {},
   "outputs": [
    {
     "name": "stdout",
     "output_type": "stream",
     "text": [
      "0\n"
     ]
    }
   ],
   "source": [
    "import glob\n",
    "appended_reps = []\n",
    "for infile in glob.glob(\"/mnt/vdb/thesis/jax/*.pkl\"): # <<-- change this line \n",
    "    # print(infile)\n",
    "    appended_reps.append(infile)\n",
    "print(len(appended_reps))"
   ]
  },
  {
   "cell_type": "code",
   "execution_count": 9,
   "metadata": {},
   "outputs": [
    {
     "name": "stdout",
     "output_type": "stream",
     "text": [
      "Save:/mnt/vdb/thesis/jax/chunk10.pkl\n",
      "Save:/mnt/vdb/thesis/jax/chunk17.pkl\n",
      "Save:/mnt/vdb/thesis/jax/chunk36.pkl\n",
      "Save:/mnt/vdb/thesis/jax/chunk30.pkl\n",
      "Save:/mnt/vdb/thesis/jax/chunk23.pkl\n",
      "Save:/mnt/vdb/thesis/jax/chunk8.pkl\n",
      "Save:/mnt/vdb/thesis/jax/chunk27.pkl\n",
      "Save:/mnt/vdb/thesis/jax/chunk43.pkl\n",
      "Save:/mnt/vdb/thesis/jax/chunk41.pkl\n",
      "Save:/mnt/vdb/thesis/jax/chunk11.pkl\n",
      "Save:/mnt/vdb/thesis/jax/chunk32.pkl\n",
      "Save:/mnt/vdb/thesis/jax/chunk13.pkl\n",
      "Save:/mnt/vdb/thesis/jax/chunk24.pkl\n",
      "Save:/mnt/vdb/thesis/jax/chunk5.pkl\n",
      "Save:/mnt/vdb/thesis/jax/chunk6.pkl\n",
      "Save:/mnt/vdb/thesis/jax/chunk44.pkl\n",
      "Save:/mnt/vdb/thesis/jax/chunk12.pkl\n",
      "Save:/mnt/vdb/thesis/jax/chunk25.pkl\n",
      "Save:/mnt/vdb/thesis/jax/chunk31.pkl\n",
      "Save:/mnt/vdb/thesis/jax/chunk2.pkl\n",
      "Save:/mnt/vdb/thesis/jax/chunk3.pkl\n",
      "Save:/mnt/vdb/thesis/jax/chunk29.pkl\n",
      "Save:/mnt/vdb/thesis/jax/chunk16.pkl\n",
      "Save:/mnt/vdb/thesis/jax/chunk38.pkl\n",
      "Save:/mnt/vdb/thesis/jax/chunk7.pkl\n",
      "Save:/mnt/vdb/thesis/jax/chunk40.pkl\n",
      "Save:/mnt/vdb/thesis/jax/chunk9.pkl\n",
      "Save:/mnt/vdb/thesis/jax/chunk1.pkl\n",
      "Save:/mnt/vdb/thesis/jax/chunk39.pkl\n",
      "Save:/mnt/vdb/thesis/jax/chunk35.pkl\n",
      "Save:/mnt/vdb/thesis/jax/chunk14.pkl\n",
      "Save:/mnt/vdb/thesis/jax/chunk26.pkl\n",
      "Save:/mnt/vdb/thesis/jax/chunk18.pkl\n",
      "Save:/mnt/vdb/thesis/jax/chunk28.pkl\n",
      "Save:/mnt/vdb/thesis/jax/chunk21.pkl\n",
      "Save:/mnt/vdb/thesis/jax/chunk15.pkl\n",
      "Save:/mnt/vdb/thesis/jax/chunk20.pkl\n",
      "Save:/mnt/vdb/thesis/jax/chunk37.pkl\n",
      "Save:/mnt/vdb/thesis/jax/chunk33.pkl\n",
      "Save:/mnt/vdb/thesis/jax/chunk19.pkl\n",
      "Save:/mnt/vdb/thesis/jax/chunk34.pkl\n",
      "Save:/mnt/vdb/thesis/jax/chunk0.pkl\n",
      "Save:/mnt/vdb/thesis/jax/chunk42.pkl\n",
      "Save:/mnt/vdb/thesis/jax/chunk4.pkl\n",
      "Save:/mnt/vdb/thesis/jax/chunk22.pkl\n",
      "complete\n"
     ]
    }
   ],
   "source": [
    "for infile in glob.glob(\"/mnt/vdb/thesis/jax/*.csv\"): # <<-- change this line \n",
    "    #print(\"Read:\"+infile)\n",
    "    file_name = os.path.basename(infile)\n",
    "    result=\"/mnt/vdb/thesis/jax/\"+file_name.replace(\"csv\", \"pkl\") # <<-- change this line \n",
    "    if result in appended_reps :\n",
    "        # print(\"found then skip : \" , result)\n",
    "        continue\n",
    "    else:\n",
    "        df = pd.read_csv(infile) \n",
    "        createREPs(df,result)\n",
    "        print(\"Save:\"+result)\n",
    "        reset_device_memory()\n",
    "        clear_jax_caches()\n",
    "print(\"complete\")"
   ]
  },
  {
   "cell_type": "code",
   "execution_count": 10,
   "metadata": {},
   "outputs": [],
   "source": [
    "reset_device_memory()\n",
    "clear_jax_caches()"
   ]
  },
  {
   "cell_type": "code",
   "execution_count": 12,
   "metadata": {},
   "outputs": [],
   "source": [
    "def mergeDF(path,to_dir,file_name):\n",
    "    appended_data = []\n",
    "    for infile in glob.glob(path):\n",
    "        #print(infile)\n",
    "        data = pd.read_pickle(infile)\n",
    "        # store DataFrame in list\n",
    "        appended_data.append(data)\n",
    "    result_path=to_dir+\"/\"+file_name\n",
    "    print(\"Save:\",result_path)\n",
    "    appended_data = pd.concat(appended_data)\n",
    "    appended_data.sort_values(by=['ID'], inplace=True)\n",
    "    appended_data.to_pickle(result_path)\n",
    "    return appended_data"
   ]
  },
  {
   "cell_type": "code",
   "execution_count": 13,
   "metadata": {},
   "outputs": [
    {
     "name": "stdout",
     "output_type": "stream",
     "text": [
      "Save: /mnt/vdb/thesis/jax/AMPNonAMP.final.reps\n"
     ]
    },
    {
     "data": {
      "text/html": [
       "<div>\n",
       "<style scoped>\n",
       "    .dataframe tbody tr th:only-of-type {\n",
       "        vertical-align: middle;\n",
       "    }\n",
       "\n",
       "    .dataframe tbody tr th {\n",
       "        vertical-align: top;\n",
       "    }\n",
       "\n",
       "    .dataframe thead th {\n",
       "        text-align: right;\n",
       "    }\n",
       "</style>\n",
       "<table border=\"1\" class=\"dataframe\">\n",
       "  <thead>\n",
       "    <tr style=\"text-align: right;\">\n",
       "      <th></th>\n",
       "      <th>ID</th>\n",
       "      <th>length</th>\n",
       "      <th>class</th>\n",
       "      <th>reps</th>\n",
       "    </tr>\n",
       "  </thead>\n",
       "  <tbody>\n",
       "    <tr>\n",
       "      <th>1272</th>\n",
       "      <td>0_antitbpred|antitbpred</td>\n",
       "      <td>33</td>\n",
       "      <td>0</td>\n",
       "      <td>[0.020596178248524666, 0.05145363137125969, 0....</td>\n",
       "    </tr>\n",
       "    <tr>\n",
       "      <th>1463</th>\n",
       "      <td>0_peptideDB.anti|peptideDB.anti</td>\n",
       "      <td>148</td>\n",
       "      <td>0</td>\n",
       "      <td>[0.006680205464363098, -0.09558606147766113, 0...</td>\n",
       "    </tr>\n",
       "    <tr>\n",
       "      <th>712</th>\n",
       "      <td>1000_pos_train_ds3|pos_train_ds3</td>\n",
       "      <td>86</td>\n",
       "      <td>0</td>\n",
       "      <td>[0.010705528780817986, 0.005044564604759216, 0...</td>\n",
       "    </tr>\n",
       "    <tr>\n",
       "      <th>1111</th>\n",
       "      <td>10015_dbaasp,10016_dbaasp|dbaasp_peptides</td>\n",
       "      <td>11</td>\n",
       "      <td>0</td>\n",
       "      <td>[0.20464208722114563, -0.055944692343473434, 0...</td>\n",
       "    </tr>\n",
       "    <tr>\n",
       "      <th>618</th>\n",
       "      <td>10023_dbaasp|dbaasp_peptides</td>\n",
       "      <td>36</td>\n",
       "      <td>0</td>\n",
       "      <td>[0.0020729468669742346, -0.07690200209617615, ...</td>\n",
       "    </tr>\n",
       "    <tr>\n",
       "      <th>...</th>\n",
       "      <td>...</td>\n",
       "      <td>...</td>\n",
       "      <td>...</td>\n",
       "      <td>...</td>\n",
       "    </tr>\n",
       "    <tr>\n",
       "      <th>341</th>\n",
       "      <td>jgi|Zymar1|771619|Za111_scaffold_384_0026</td>\n",
       "      <td>92</td>\n",
       "      <td>0</td>\n",
       "      <td>[0.006163035519421101, -0.1501017063856125, 0....</td>\n",
       "    </tr>\n",
       "    <tr>\n",
       "      <th>342</th>\n",
       "      <td>jgi|Zymbr1|3072|TI39_contig368g00016T0</td>\n",
       "      <td>769</td>\n",
       "      <td>0</td>\n",
       "      <td>[0.004322961904108524, -0.039575327187776566, ...</td>\n",
       "    </tr>\n",
       "    <tr>\n",
       "      <th>345</th>\n",
       "      <td>jgi|Zymps1|796288|Zp221_scaffold_1306_00022</td>\n",
       "      <td>790</td>\n",
       "      <td>0</td>\n",
       "      <td>[0.0037672598846256733, -0.036420367658138275,...</td>\n",
       "    </tr>\n",
       "    <tr>\n",
       "      <th>344</th>\n",
       "      <td>jgi|Zymps1|799992|Zp221_scaffold_243_00026</td>\n",
       "      <td>155</td>\n",
       "      <td>0</td>\n",
       "      <td>[0.0039311423897743225, -0.01658601127564907, ...</td>\n",
       "    </tr>\n",
       "    <tr>\n",
       "      <th>343</th>\n",
       "      <td>jgi|Zymps1|802458|Zp221_scaffold_490_00086</td>\n",
       "      <td>138</td>\n",
       "      <td>0</td>\n",
       "      <td>[0.008318976499140263, -0.01920546218752861, 0...</td>\n",
       "    </tr>\n",
       "  </tbody>\n",
       "</table>\n",
       "<p>88692 rows × 4 columns</p>\n",
       "</div>"
      ],
      "text/plain": [
       "                                               ID  length  class  \\\n",
       "1272                      0_antitbpred|antitbpred      33      0   \n",
       "1463              0_peptideDB.anti|peptideDB.anti     148      0   \n",
       "712              1000_pos_train_ds3|pos_train_ds3      86      0   \n",
       "1111    10015_dbaasp,10016_dbaasp|dbaasp_peptides      11      0   \n",
       "618                  10023_dbaasp|dbaasp_peptides      36      0   \n",
       "...                                           ...     ...    ...   \n",
       "341     jgi|Zymar1|771619|Za111_scaffold_384_0026      92      0   \n",
       "342        jgi|Zymbr1|3072|TI39_contig368g00016T0     769      0   \n",
       "345   jgi|Zymps1|796288|Zp221_scaffold_1306_00022     790      0   \n",
       "344    jgi|Zymps1|799992|Zp221_scaffold_243_00026     155      0   \n",
       "343    jgi|Zymps1|802458|Zp221_scaffold_490_00086     138      0   \n",
       "\n",
       "                                                   reps  \n",
       "1272  [0.020596178248524666, 0.05145363137125969, 0....  \n",
       "1463  [0.006680205464363098, -0.09558606147766113, 0...  \n",
       "712   [0.010705528780817986, 0.005044564604759216, 0...  \n",
       "1111  [0.20464208722114563, -0.055944692343473434, 0...  \n",
       "618   [0.0020729468669742346, -0.07690200209617615, ...  \n",
       "...                                                 ...  \n",
       "341   [0.006163035519421101, -0.1501017063856125, 0....  \n",
       "342   [0.004322961904108524, -0.039575327187776566, ...  \n",
       "345   [0.0037672598846256733, -0.036420367658138275,...  \n",
       "344   [0.0039311423897743225, -0.01658601127564907, ...  \n",
       "343   [0.008318976499140263, -0.01920546218752861, 0...  \n",
       "\n",
       "[88692 rows x 4 columns]"
      ]
     },
     "execution_count": 13,
     "metadata": {},
     "output_type": "execute_result"
    }
   ],
   "source": [
    "# write result\n",
    "final_df = mergeDF(\"/mnt/vdb/thesis/jax/*.pkl\",\"/mnt/vdb/thesis/jax\",\"AMPNonAMP.final.reps\") # <<-- change this line \n",
    "final_df"
   ]
  },
  {
   "cell_type": "markdown",
   "metadata": {},
   "source": [
    "Remove Duplicate"
   ]
  },
  {
   "cell_type": "markdown",
   "metadata": {
    "id": "1clrjyjisTgc"
   },
   "source": [
    "## Split train and test set"
   ]
  },
  {
   "cell_type": "code",
   "execution_count": 14,
   "metadata": {
    "id": "42bd9Symt5cu"
   },
   "outputs": [],
   "source": [
    "X= np.array(final_df['reps'].to_list())\n",
    "y= np.array(final_df['class'].to_list())"
   ]
  },
  {
   "cell_type": "code",
   "execution_count": 15,
   "metadata": {},
   "outputs": [
    {
     "data": {
      "text/plain": [
       "(88692, 1900)"
      ]
     },
     "execution_count": 15,
     "metadata": {},
     "output_type": "execute_result"
    }
   ],
   "source": [
    "X.shape"
   ]
  },
  {
   "cell_type": "code",
   "execution_count": 16,
   "metadata": {
    "id": "olea-OhdsTGc"
   },
   "outputs": [],
   "source": [
    " X_train, X_test, y_train, y_test = train_test_split(X, y, test_size=0.2, random_state=1)\n",
    "\n",
    "# X_train, X_val, y_train, y_val = train_test_split(X_train, y_train, test_size=0.25, random_state=1) # 0.25 x 0.8 = 0.2"
   ]
  },
  {
   "cell_type": "code",
   "execution_count": 36,
   "metadata": {},
   "outputs": [
    {
     "data": {
      "text/plain": [
       "10511"
      ]
     },
     "execution_count": 36,
     "metadata": {},
     "output_type": "execute_result"
    }
   ],
   "source": [
    "len(y_train[y_train == 1])"
   ]
  },
  {
   "cell_type": "code",
   "execution_count": 37,
   "metadata": {},
   "outputs": [
    {
     "data": {
      "text/plain": [
       "10498"
      ]
     },
     "execution_count": 37,
     "metadata": {},
     "output_type": "execute_result"
    }
   ],
   "source": [
    "len(y_train[y_train == 0])"
   ]
  },
  {
   "cell_type": "markdown",
   "metadata": {
    "id": "USezczz5sDcf"
   },
   "source": [
    "# Implement Toy Model (RF)"
   ]
  },
  {
   "cell_type": "code",
   "execution_count": 17,
   "metadata": {
    "id": "kFHcxYL5Kuxq"
   },
   "outputs": [],
   "source": [
    "from sklearn.ensemble import RandomForestClassifier \n",
    "\n",
    "classifier = RandomForestClassifier ( random_state=0)\n",
    "classifier.fit(X_train, y_train)\n",
    "y_pred = classifier.predict(X_test)"
   ]
  },
  {
   "cell_type": "code",
   "execution_count": 18,
   "metadata": {
    "colab": {
     "base_uri": "https://localhost:8080/",
     "height": 199
    },
    "id": "10ktAnKgVAO4",
    "outputId": "14b17d9d-2fce-4a10-ac95-98676008c006"
   },
   "outputs": [
    {
     "name": "stdout",
     "output_type": "stream",
     "text": [
      "              precision    recall  f1-score   support\n",
      "\n",
      "           0       0.93      0.90      0.91      8928\n",
      "           1       0.90      0.93      0.91      8811\n",
      "\n",
      "    accuracy                           0.91     17739\n",
      "   macro avg       0.91      0.91      0.91     17739\n",
      "weighted avg       0.91      0.91      0.91     17739\n",
      "\n",
      "0.9121709228254129\n"
     ]
    }
   ],
   "source": [
    "from sklearn.metrics import classification_report, confusion_matrix, accuracy_score\n",
    "print(classification_report(y_test,y_pred))\n",
    "print(accuracy_score(y_test, y_pred))"
   ]
  },
  {
   "cell_type": "code",
   "execution_count": 19,
   "metadata": {
    "colab": {
     "base_uri": "https://localhost:8080/",
     "height": 368
    },
    "id": "ixPo2uVxYeFh",
    "outputId": "8da1e5b7-7944-4a92-fb0f-5cc7ad0f42cb"
   },
   "outputs": [
    {
     "name": "stdout",
     "output_type": "stream",
     "text": [
      "[[8010  918]\n",
      " [ 640 8171]]\n"
     ]
    },
    {
     "data": {
      "image/png": "[encoded data removed]",
      "text/plain": [
       "<Figure size 432x288 with 2 Axes>"
      ]
     },
     "metadata": {
      "needs_background": "light"
     },
     "output_type": "display_data"
    }
   ],
   "source": [
    "from sklearn.metrics import plot_confusion_matrix\n",
    "\n",
    "class_names = ['AMPs', 'NonAMPs']\n",
    "\n",
    "disp = plot_confusion_matrix(classifier, X_test, y_test,\n",
    "                            display_labels = class_names,\n",
    "                            cmap=plt.cm.Blues, xticks_rotation='vertical')\n",
    "\n",
    "disp.ax_.set_title(\" Confusion Matrix\")\n",
    "\n",
    "print(disp.confusion_matrix)\n",
    "plt.grid(False)\n",
    "plt.show()"
   ]
  },
  {
   "cell_type": "code",
   "execution_count": null,
   "metadata": {},
   "outputs": [],
   "source": []
  }
 ],
 "metadata": {
  "accelerator": "GPU",
  "colab": {
   "name": "jax-unirep.ipynb",
   "provenance": [],
   "toc_visible": true
  },
  "kernelspec": {
   "display_name": "Python 3",
   "language": "python",
   "name": "python3"
  },
  "language_info": {
   "codemirror_mode": {
    "name": "ipython",
    "version": 3
   },
   "file_extension": ".py",
   "mimetype": "text/x-python",
   "name": "python",
   "nbconvert_exporter": "python",
   "pygments_lexer": "ipython3",
   "version": "3.7.9"
  }
 },
 "nbformat": 4,
 "nbformat_minor": 4
}
