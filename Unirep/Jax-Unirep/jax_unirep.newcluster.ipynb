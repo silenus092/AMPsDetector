{
 "cells": [
  {
   "cell_type": "code",
   "execution_count": 1,
   "metadata": {
    "id": "kvLpExG9qgyo"
   },
   "outputs": [],
   "source": [
    "import jax\n",
    "# Global flag to set a specific platform, must be used at startup.\n",
    "#jax.config.update('jax_platform_name', 'cpu')\n",
    "\n",
    "import os\n",
    "\n",
    "os.environ['XLA_PYTHON_CLIENT_PREALLOCATE']='False'\n",
    "os.environ['XLA_PYTHON_CLIENT_MEM_FRACTION']='.98'\n",
    "os.environ['XLA_PYTHON_CLIENT_ALLOCATOR']='platform'\n"
   ]
  },
  {
   "cell_type": "code",
   "execution_count": 2,
   "metadata": {
    "id": "Uq49wrJkr20U"
   },
   "outputs": [],
   "source": [
    "import numpy as np\n",
    "import pandas as pd\n",
    "import csv\n",
    "import matplotlib.pyplot as plt\n",
    "from sklearn.model_selection import train_test_split\n",
    "from jax_unirep import get_reps\n",
    "  \n",
    "from jax_unirep import evotune, fit\n",
    "from jax_unirep.utils import dump_params"
   ]
  },
  {
   "cell_type": "code",
   "execution_count": 3,
   "metadata": {},
   "outputs": [],
   "source": [
    "import gc\n",
    "import jax \n",
    "def clear_jax_caches():\n",
    "  \"\"\"Utility to clear all the function caches in jax.\"\"\"\n",
    "  # main jit/pmap lu wrapped function caches - have to grab from closures\n",
    "  jax.xla._xla_callable.__closure__[1].cell_contents.clear()\n",
    "  jax.pxla.parallel_callable.__closure__[1].cell_contents.clear()\n",
    "  # primitive callable caches\n",
    "  jax.xla.xla_primitive_callable.cache_clear()\n",
    "  jax.xla.primitive_computation.cache_clear()\n",
    "  # jaxpr caches for control flow and reductions\n",
    "  jax.lax.lax_control_flow._initial_style_jaxpr.cache_clear()\n",
    "  jax.lax.lax_control_flow._fori_body_fun.cache_clear()\n",
    "  jax.lax.lax._reduction_jaxpr.cache_clear()\n",
    "  # these are trivial and only included for completeness sake\n",
    "  jax.lax.lax.broadcast_shapes.cache_clear()\n",
    "  jax.xla.xb.get_backend.cache_clear()\n",
    "  jax.xla.xb.dtype_to_etype.cache_clear()\n",
    "  jax.xla.xb.supported_numpy_dtypes.cache_clear()\n",
    "    \n",
    "def reset_device_memory(delete_objs=True):\n",
    "    \"\"\"Free all tracked DeviceArray memory and delete objects.\n",
    "\n",
    "  Args:\n",
    "    delete_objs: bool: whether to delete all live DeviceValues or just free.\n",
    "\n",
    "  Returns:\n",
    "    number of DeviceArrays that were manually freed.\n",
    "  \"\"\"\n",
    "    dvals = (x for x in gc.get_objects() if isinstance(x, jax.xla.DeviceArray))\n",
    "    n_deleted = 0\n",
    "    for dv in dvals:\n",
    "    \n",
    "        if not isinstance(dv, jax.xla.DeviceConstant):\n",
    "            try: \n",
    "                dv._check_if_deleted()  # pylint: disable=protected-access\n",
    "                dv.device_buffer.delete()\n",
    "                n_deleted += 1\n",
    "            except:\n",
    "                pass\n",
    "        if delete_objs:\n",
    "\n",
    "            del dv\n",
    "    del dvals\n",
    "    gc.collect()\n",
    "    return n_deleted"
   ]
  },
  {
   "cell_type": "code",
   "execution_count": 25,
   "metadata": {
    "id": "gr1pgcdC45lA"
   },
   "outputs": [],
   "source": [
    "#db_path=\"AMPS_NonAMPs.ready.csv\"\n",
    "db_path=\"../../datasets/newcluster/AMPs_NonAMPs.ready.nr90.csv\"# <----- Change here AMPs_NonAMPs.ready.nr70.csv"
   ]
  },
  {
   "cell_type": "code",
   "execution_count": 26,
   "metadata": {
    "colab": {
     "base_uri": "https://localhost:8080/",
     "height": 565
    },
    "id": "n-luJbmp4clD",
    "outputId": "3206bd02-cf62-4c69-93fc-ba645b2a8923"
   },
   "outputs": [
    {
     "data": {
      "text/html": [
       "<div>\n",
       "<style scoped>\n",
       "    .dataframe tbody tr th:only-of-type {\n",
       "        vertical-align: middle;\n",
       "    }\n",
       "\n",
       "    .dataframe tbody tr th {\n",
       "        vertical-align: top;\n",
       "    }\n",
       "\n",
       "    .dataframe thead th {\n",
       "        text-align: right;\n",
       "    }\n",
       "</style>\n",
       "<table border=\"1\" class=\"dataframe\">\n",
       "  <thead>\n",
       "    <tr style=\"text-align: right;\">\n",
       "      <th></th>\n",
       "      <th>ID</th>\n",
       "      <th>Sequence</th>\n",
       "      <th>length</th>\n",
       "      <th>class</th>\n",
       "    </tr>\n",
       "  </thead>\n",
       "  <tbody>\n",
       "    <tr>\n",
       "      <th>0</th>\n",
       "      <td>EN92515250|C|B3FJD7|phage 201phi2-1 lysin</td>\n",
       "      <td>MAKKSVPLRKPAGSDGQGNIKVPGGPVVLDLGDFDDIFGPMESESP...</td>\n",
       "      <td>2337</td>\n",
       "      <td>0</td>\n",
       "    </tr>\n",
       "    <tr>\n",
       "      <th>1</th>\n",
       "      <td>EN54061055|C|F8SJ56|phage PhiPA3 lysin</td>\n",
       "      <td>MASKKTTLPKPKGINPQGSIVQLDLDDFDDLFDEDFGLPKKNSPYT...</td>\n",
       "      <td>2319</td>\n",
       "      <td>0</td>\n",
       "    </tr>\n",
       "    <tr>\n",
       "      <th>2</th>\n",
       "      <td>EN4815120|C|Q8SCY1|phage phiKZ lysin</td>\n",
       "      <td>MAKKVTLPKGQTGATGTTLGQAGNILDLSDVDDIFGDTPKAKKGSP...</td>\n",
       "      <td>2237</td>\n",
       "      <td>0</td>\n",
       "    </tr>\n",
       "    <tr>\n",
       "      <th>3</th>\n",
       "      <td>EN3016141|D|D2J8A7|bacteriocin</td>\n",
       "      <td>MAETIKGLRIDLSLKDMGVGRSITELKRSFRTLNSDLKVSSKNFEY...</td>\n",
       "      <td>1619</td>\n",
       "      <td>0</td>\n",
       "    </tr>\n",
       "    <tr>\n",
       "      <th>4</th>\n",
       "      <td>EN9175723|BD|Q93IM3|bacteriocin</td>\n",
       "      <td>MAKKKNTYKVPSIIALTLAGTALTTHHAQAADKTQDQSTNKNILND...</td>\n",
       "      <td>1564</td>\n",
       "      <td>0</td>\n",
       "    </tr>\n",
       "    <tr>\n",
       "      <th>...</th>\n",
       "      <td>...</td>\n",
       "      <td>...</td>\n",
       "      <td>...</td>\n",
       "      <td>...</td>\n",
       "    </tr>\n",
       "    <tr>\n",
       "      <th>26257</th>\n",
       "      <td>UniRef50_A0A323TJX8 VWFD domain-containing pro...</td>\n",
       "      <td>SYLLAKDFVGGDFEVIGEYESVGGLMRLKSVVVRGQGTDVTLHVDG...</td>\n",
       "      <td>380</td>\n",
       "      <td>1</td>\n",
       "    </tr>\n",
       "    <tr>\n",
       "      <th>26258</th>\n",
       "      <td>UniRef50_C6WJT6 Response regulator receiver pr...</td>\n",
       "      <td>MSNRRVLMVDDEQRVLDGLRRMLRGRYELTTSVSGAEAIGLVREST...</td>\n",
       "      <td>382</td>\n",
       "      <td>1</td>\n",
       "    </tr>\n",
       "    <tr>\n",
       "      <th>26259</th>\n",
       "      <td>UniRef50_A0A1A8A8S0 EH domain binding protein ...</td>\n",
       "      <td>MTSVWKRLQRVGKKASKFQFVASFEELILESCKKWQPDKLRVMWIR...</td>\n",
       "      <td>210</td>\n",
       "      <td>1</td>\n",
       "    </tr>\n",
       "    <tr>\n",
       "      <th>26260</th>\n",
       "      <td>UniRef50_F6TRT4 SYCP2_ARLD domain-containing p...</td>\n",
       "      <td>MGTNEKQLENLLRGSDSNKIEEFLQSNLNTPQACGTVFESCLRRVA...</td>\n",
       "      <td>384</td>\n",
       "      <td>1</td>\n",
       "    </tr>\n",
       "    <tr>\n",
       "      <th>26261</th>\n",
       "      <td>UniRef50_A0A0X3PKU3 FERM domain-containing pro...</td>\n",
       "      <td>MPWTFPAGPPMTGDSRRLALRIHVPDADVTKTLVFDALMTVGQACD...</td>\n",
       "      <td>2337</td>\n",
       "      <td>1</td>\n",
       "    </tr>\n",
       "  </tbody>\n",
       "</table>\n",
       "<p>26262 rows × 4 columns</p>\n",
       "</div>"
      ],
      "text/plain": [
       "                                                      ID  \\\n",
       "0              EN92515250|C|B3FJD7|phage 201phi2-1 lysin   \n",
       "1                 EN54061055|C|F8SJ56|phage PhiPA3 lysin   \n",
       "2                   EN4815120|C|Q8SCY1|phage phiKZ lysin   \n",
       "3                         EN3016141|D|D2J8A7|bacteriocin   \n",
       "4                        EN9175723|BD|Q93IM3|bacteriocin   \n",
       "...                                                  ...   \n",
       "26257  UniRef50_A0A323TJX8 VWFD domain-containing pro...   \n",
       "26258  UniRef50_C6WJT6 Response regulator receiver pr...   \n",
       "26259  UniRef50_A0A1A8A8S0 EH domain binding protein ...   \n",
       "26260  UniRef50_F6TRT4 SYCP2_ARLD domain-containing p...   \n",
       "26261  UniRef50_A0A0X3PKU3 FERM domain-containing pro...   \n",
       "\n",
       "                                                Sequence  length  class  \n",
       "0      MAKKSVPLRKPAGSDGQGNIKVPGGPVVLDLGDFDDIFGPMESESP...    2337      0  \n",
       "1      MASKKTTLPKPKGINPQGSIVQLDLDDFDDLFDEDFGLPKKNSPYT...    2319      0  \n",
       "2      MAKKVTLPKGQTGATGTTLGQAGNILDLSDVDDIFGDTPKAKKGSP...    2237      0  \n",
       "3      MAETIKGLRIDLSLKDMGVGRSITELKRSFRTLNSDLKVSSKNFEY...    1619      0  \n",
       "4      MAKKKNTYKVPSIIALTLAGTALTTHHAQAADKTQDQSTNKNILND...    1564      0  \n",
       "...                                                  ...     ...    ...  \n",
       "26257  SYLLAKDFVGGDFEVIGEYESVGGLMRLKSVVVRGQGTDVTLHVDG...     380      1  \n",
       "26258  MSNRRVLMVDDEQRVLDGLRRMLRGRYELTTSVSGAEAIGLVREST...     382      1  \n",
       "26259  MTSVWKRLQRVGKKASKFQFVASFEELILESCKKWQPDKLRVMWIR...     210      1  \n",
       "26260  MGTNEKQLENLLRGSDSNKIEEFLQSNLNTPQACGTVFESCLRRVA...     384      1  \n",
       "26261  MPWTFPAGPPMTGDSRRLALRIHVPDADVTKTLVFDALMTVGQACD...    2337      1  \n",
       "\n",
       "[26262 rows x 4 columns]"
      ]
     },
     "execution_count": 26,
     "metadata": {},
     "output_type": "execute_result"
    }
   ],
   "source": [
    "df=pd.read_csv(db_path,sep=',',header=0,quoting=csv.QUOTE_ALL)\n",
    "df # Class 0= AMPs , 1=NonAMps"
   ]
  },
  {
   "cell_type": "code",
   "execution_count": 27,
   "metadata": {},
   "outputs": [
    {
     "name": "stdout",
     "output_type": "stream",
     "text": [
      "complete\n"
     ]
    }
   ],
   "source": [
    "# Setting my chunk size\n",
    "chunk_size = 3000\n",
    "# Assigning chunk numbers to rows\n",
    "df['chunk'] = df.index.map(lambda x: int(int(x)/ chunk_size))\n",
    "# We don't want the 'chunk' and 'index' columns in the output\n",
    "cols = [col for col in df.columns if col not in ['chunk']]\n",
    "# groupby chunk and export each chunk to a different csv.\n",
    "i = 0\n",
    "for _, chunk in df.groupby('chunk'):\n",
    "    chunk[cols].to_csv(f'/mnt/vdb/thesis/newclus_reps/90/chunk{i}.csv',sep=\",\", quotechar='\"',index=False, quoting=csv.QUOTE_ALL) # <<-- change this line \n",
    "    i += 1\n",
    "print(\"complete\")"
   ]
  },
  {
   "cell_type": "code",
   "execution_count": 28,
   "metadata": {},
   "outputs": [],
   "source": [
    "def createREPs(df, filename):\n",
    "    _h_avg, h_final, c_final= get_reps(df['Sequence'].to_list())\n",
    "    df.drop(columns=['Sequence'], inplace=True)\n",
    "    df['reps']=_h_avg.tolist() # if there is a problem , might be here , possible solution is reindexing\n",
    "    df.to_pickle(filename) # dont forget to change the file name to 0_613834"
   ]
  },
  {
   "cell_type": "code",
   "execution_count": 29,
   "metadata": {},
   "outputs": [
    {
     "name": "stdout",
     "output_type": "stream",
     "text": [
      "0\n"
     ]
    }
   ],
   "source": [
    "import glob\n",
    "appended_reps = []\n",
    "for infile in glob.glob(\"/mnt/vdb/thesis/newclus_reps/90/*.pkl\"): # <<-- change this line \n",
    "    # print(infile)\n",
    "    appended_reps.append(infile)\n",
    "print(len(appended_reps))"
   ]
  },
  {
   "cell_type": "code",
   "execution_count": 30,
   "metadata": {},
   "outputs": [
    {
     "name": "stdout",
     "output_type": "stream",
     "text": [
      "Save:/mnt/vdb/thesis/newclus_reps/90/chunk8.pkl\n",
      "Save:/mnt/vdb/thesis/newclus_reps/90/chunk5.pkl\n",
      "Save:/mnt/vdb/thesis/newclus_reps/90/chunk6.pkl\n",
      "Save:/mnt/vdb/thesis/newclus_reps/90/chunk2.pkl\n",
      "Save:/mnt/vdb/thesis/newclus_reps/90/chunk3.pkl\n",
      "Save:/mnt/vdb/thesis/newclus_reps/90/chunk7.pkl\n",
      "Save:/mnt/vdb/thesis/newclus_reps/90/chunk1.pkl\n",
      "Save:/mnt/vdb/thesis/newclus_reps/90/chunk0.pkl\n",
      "Save:/mnt/vdb/thesis/newclus_reps/90/chunk4.pkl\n",
      "complete\n"
     ]
    }
   ],
   "source": [
    "for infile in glob.glob(\"/mnt/vdb/thesis/newclus_reps/90/*.csv\"): # <<-- change this line \n",
    "    #print(\"Read:\"+infile)\n",
    "    file_name = os.path.basename(infile)\n",
    "    result=\"/mnt/vdb/thesis/newclus_reps/90/\"+file_name.replace(\"csv\", \"pkl\") # <<-- change this line \n",
    "    if result in appended_reps :\n",
    "        # print(\"found then skip : \" , result)\n",
    "        continue\n",
    "    else:\n",
    "        df = pd.read_csv(infile) \n",
    "        createREPs(df,result)\n",
    "        print(\"Save:\"+result)\n",
    "        reset_device_memory()\n",
    "        clear_jax_caches()\n",
    "print(\"complete\")"
   ]
  },
  {
   "cell_type": "code",
   "execution_count": 17,
   "metadata": {},
   "outputs": [],
   "source": [
    "reset_device_memory()\n",
    "clear_jax_caches()"
   ]
  },
  {
   "cell_type": "code",
   "execution_count": 31,
   "metadata": {},
   "outputs": [],
   "source": [
    "def mergeDF(path,to_dir,file_name):\n",
    "    appended_data = []\n",
    "    for infile in glob.glob(path):\n",
    "        #print(infile)\n",
    "        data = pd.read_pickle(infile)\n",
    "        # store DataFrame in list\n",
    "        appended_data.append(data)\n",
    "    result_path=to_dir+\"/\"+file_name\n",
    "    print(\"Save:\",result_path)\n",
    "    appended_data = pd.concat(appended_data)\n",
    "    appended_data.sort_values(by=['ID'], inplace=True)\n",
    "    appended_data.to_pickle(result_path)\n",
    "    return appended_data"
   ]
  },
  {
   "cell_type": "code",
   "execution_count": 32,
   "metadata": {},
   "outputs": [
    {
     "name": "stdout",
     "output_type": "stream",
     "text": [
      "Save: /mnt/vdb/thesis/newclus_reps/90/AMPNonAMP.nr90.reps.plk\n"
     ]
    },
    {
     "data": {
      "text/html": [
       "<div>\n",
       "<style scoped>\n",
       "    .dataframe tbody tr th:only-of-type {\n",
       "        vertical-align: middle;\n",
       "    }\n",
       "\n",
       "    .dataframe tbody tr th {\n",
       "        vertical-align: top;\n",
       "    }\n",
       "\n",
       "    .dataframe thead th {\n",
       "        text-align: right;\n",
       "    }\n",
       "</style>\n",
       "<table border=\"1\" class=\"dataframe\">\n",
       "  <thead>\n",
       "    <tr style=\"text-align: right;\">\n",
       "      <th></th>\n",
       "      <th>ID</th>\n",
       "      <th>length</th>\n",
       "      <th>class</th>\n",
       "      <th>reps</th>\n",
       "    </tr>\n",
       "  </thead>\n",
       "  <tbody>\n",
       "    <tr>\n",
       "      <th>2348</th>\n",
       "      <td>0_antitbpred|antitbpred</td>\n",
       "      <td>33</td>\n",
       "      <td>0</td>\n",
       "      <td>[0.021885791793465614, 0.06677425652742386, 0....</td>\n",
       "    </tr>\n",
       "    <tr>\n",
       "      <th>1560</th>\n",
       "      <td>1000_pos_train_ds3|pos_train_ds3</td>\n",
       "      <td>86</td>\n",
       "      <td>0</td>\n",
       "      <td>[0.010705526918172836, 0.005044554825872183, 0...</td>\n",
       "    </tr>\n",
       "    <tr>\n",
       "      <th>1032</th>\n",
       "      <td>10015_dbaasp,10016_dbaasp|dbaasp_peptides</td>\n",
       "      <td>11</td>\n",
       "      <td>0</td>\n",
       "      <td>[0.20464205741882324, -0.05594474822282791, 0....</td>\n",
       "    </tr>\n",
       "    <tr>\n",
       "      <th>2020</th>\n",
       "      <td>10023_dbaasp|dbaasp_peptides</td>\n",
       "      <td>36</td>\n",
       "      <td>0</td>\n",
       "      <td>[0.0037219570949673653, -0.07121426612138748, ...</td>\n",
       "    </tr>\n",
       "    <tr>\n",
       "      <th>2088</th>\n",
       "      <td>10029_dbaasp|dbaasp_peptides</td>\n",
       "      <td>14</td>\n",
       "      <td>0</td>\n",
       "      <td>[0.14606480300426483, 0.041531842201948166, 0....</td>\n",
       "    </tr>\n",
       "    <tr>\n",
       "      <th>...</th>\n",
       "      <td>...</td>\n",
       "      <td>...</td>\n",
       "      <td>...</td>\n",
       "      <td>...</td>\n",
       "    </tr>\n",
       "    <tr>\n",
       "      <th>829</th>\n",
       "      <td>dbAMP_12158</td>\n",
       "      <td>17</td>\n",
       "      <td>0</td>\n",
       "      <td>[0.07279127091169357, 0.05830632895231247, -0....</td>\n",
       "    </tr>\n",
       "    <tr>\n",
       "      <th>1115</th>\n",
       "      <td>dbAMP_12161</td>\n",
       "      <td>16</td>\n",
       "      <td>0</td>\n",
       "      <td>[0.17415067553520203, 0.11548950523138046, 0.0...</td>\n",
       "    </tr>\n",
       "    <tr>\n",
       "      <th>1693</th>\n",
       "      <td>dbAMP_12203</td>\n",
       "      <td>15</td>\n",
       "      <td>0</td>\n",
       "      <td>[0.03923531994223595, -0.025372691452503204, -...</td>\n",
       "    </tr>\n",
       "    <tr>\n",
       "      <th>560</th>\n",
       "      <td>dbAMP_12275</td>\n",
       "      <td>53</td>\n",
       "      <td>0</td>\n",
       "      <td>[0.032192349433898926, -0.07197041809558868, 0...</td>\n",
       "    </tr>\n",
       "    <tr>\n",
       "      <th>2786</th>\n",
       "      <td>dbAMP_12362</td>\n",
       "      <td>30</td>\n",
       "      <td>0</td>\n",
       "      <td>[0.01702335849404335, -0.022844504565000534, -...</td>\n",
       "    </tr>\n",
       "  </tbody>\n",
       "</table>\n",
       "<p>26262 rows × 4 columns</p>\n",
       "</div>"
      ],
      "text/plain": [
       "                                             ID  length  class  \\\n",
       "2348                    0_antitbpred|antitbpred      33      0   \n",
       "1560           1000_pos_train_ds3|pos_train_ds3      86      0   \n",
       "1032  10015_dbaasp,10016_dbaasp|dbaasp_peptides      11      0   \n",
       "2020               10023_dbaasp|dbaasp_peptides      36      0   \n",
       "2088               10029_dbaasp|dbaasp_peptides      14      0   \n",
       "...                                         ...     ...    ...   \n",
       "829                                 dbAMP_12158      17      0   \n",
       "1115                                dbAMP_12161      16      0   \n",
       "1693                                dbAMP_12203      15      0   \n",
       "560                                 dbAMP_12275      53      0   \n",
       "2786                                dbAMP_12362      30      0   \n",
       "\n",
       "                                                   reps  \n",
       "2348  [0.021885791793465614, 0.06677425652742386, 0....  \n",
       "1560  [0.010705526918172836, 0.005044554825872183, 0...  \n",
       "1032  [0.20464205741882324, -0.05594474822282791, 0....  \n",
       "2020  [0.0037219570949673653, -0.07121426612138748, ...  \n",
       "2088  [0.14606480300426483, 0.041531842201948166, 0....  \n",
       "...                                                 ...  \n",
       "829   [0.07279127091169357, 0.05830632895231247, -0....  \n",
       "1115  [0.17415067553520203, 0.11548950523138046, 0.0...  \n",
       "1693  [0.03923531994223595, -0.025372691452503204, -...  \n",
       "560   [0.032192349433898926, -0.07197041809558868, 0...  \n",
       "2786  [0.01702335849404335, -0.022844504565000534, -...  \n",
       "\n",
       "[26262 rows x 4 columns]"
      ]
     },
     "execution_count": 32,
     "metadata": {},
     "output_type": "execute_result"
    }
   ],
   "source": [
    "# write result\n",
    "AMPs_df =mergeDF(\"/mnt/vdb/thesis/newclus_reps/90/*.pkl\",\"/mnt/vdb/thesis/newclus_reps/90\",\"AMPNonAMP.nr90.reps.plk\") # <<-- change this line \n",
    "AMPs_df"
   ]
  },
  {
   "cell_type": "markdown",
   "metadata": {},
   "source": [
    "Remove Duplicate"
   ]
  },
  {
   "cell_type": "markdown",
   "metadata": {
    "id": "1clrjyjisTgc"
   },
   "source": [
    "## Split train and test set"
   ]
  },
  {
   "cell_type": "code",
   "execution_count": 33,
   "metadata": {
    "id": "42bd9Symt5cu"
   },
   "outputs": [],
   "source": [
    "X= np.array(AMPs_df['reps'].to_list())\n",
    "y= np.array(AMPs_df['class'].to_list())"
   ]
  },
  {
   "cell_type": "code",
   "execution_count": 34,
   "metadata": {},
   "outputs": [
    {
     "data": {
      "text/plain": [
       "(26262, 1900)"
      ]
     },
     "execution_count": 34,
     "metadata": {},
     "output_type": "execute_result"
    }
   ],
   "source": [
    "X.shape"
   ]
  },
  {
   "cell_type": "code",
   "execution_count": 35,
   "metadata": {
    "id": "olea-OhdsTGc"
   },
   "outputs": [],
   "source": [
    " X_train, X_test, y_train, y_test = train_test_split(X, y, test_size=0.2, random_state=1)\n",
    "\n",
    "# X_train, X_val, y_train, y_val = train_test_split(X_train, y_train, test_size=0.25, random_state=1) # 0.25 x 0.8 = 0.2"
   ]
  },
  {
   "cell_type": "code",
   "execution_count": 36,
   "metadata": {},
   "outputs": [
    {
     "data": {
      "text/plain": [
       "10511"
      ]
     },
     "execution_count": 36,
     "metadata": {},
     "output_type": "execute_result"
    }
   ],
   "source": [
    "len(y_train[y_train == 1])"
   ]
  },
  {
   "cell_type": "code",
   "execution_count": 37,
   "metadata": {},
   "outputs": [
    {
     "data": {
      "text/plain": [
       "10498"
      ]
     },
     "execution_count": 37,
     "metadata": {},
     "output_type": "execute_result"
    }
   ],
   "source": [
    "len(y_train[y_train == 0])"
   ]
  },
  {
   "cell_type": "markdown",
   "metadata": {
    "id": "USezczz5sDcf"
   },
   "source": [
    "# Implement Toy Model (RF)"
   ]
  },
  {
   "cell_type": "code",
   "execution_count": 38,
   "metadata": {
    "id": "kFHcxYL5Kuxq"
   },
   "outputs": [],
   "source": [
    "from sklearn.ensemble import RandomForestClassifier \n",
    "\n",
    "classifier = RandomForestClassifier ( random_state=0)\n",
    "classifier.fit(X_train, y_train)\n",
    "y_pred = classifier.predict(X_test)"
   ]
  },
  {
   "cell_type": "code",
   "execution_count": 39,
   "metadata": {
    "colab": {
     "base_uri": "https://localhost:8080/",
     "height": 199
    },
    "id": "10ktAnKgVAO4",
    "outputId": "14b17d9d-2fce-4a10-ac95-98676008c006"
   },
   "outputs": [
    {
     "name": "stdout",
     "output_type": "stream",
     "text": [
      "              precision    recall  f1-score   support\n",
      "\n",
      "           0       0.89      0.89      0.89      2633\n",
      "           1       0.89      0.89      0.89      2620\n",
      "\n",
      "    accuracy                           0.89      5253\n",
      "   macro avg       0.89      0.89      0.89      5253\n",
      "weighted avg       0.89      0.89      0.89      5253\n",
      "\n",
      "0.89130020940415\n"
     ]
    }
   ],
   "source": [
    "from sklearn.metrics import classification_report, confusion_matrix, accuracy_score\n",
    "print(classification_report(y_test,y_pred))\n",
    "print(accuracy_score(y_test, y_pred))"
   ]
  },
  {
   "cell_type": "code",
   "execution_count": 40,
   "metadata": {
    "colab": {
     "base_uri": "https://localhost:8080/",
     "height": 368
    },
    "id": "ixPo2uVxYeFh",
    "outputId": "8da1e5b7-7944-4a92-fb0f-5cc7ad0f42cb"
   },
   "outputs": [
    {
     "name": "stdout",
     "output_type": "stream",
     "text": [
      "[[2340  293]\n",
      " [ 278 2342]]\n"
     ]
    },
    {
     "data": {
      "image/png": "[encoded data removed]",
      "text/plain": [
       "<Figure size 432x288 with 2 Axes>"
      ]
     },
     "metadata": {
      "needs_background": "light"
     },
     "output_type": "display_data"
    }
   ],
   "source": [
    "from sklearn.metrics import plot_confusion_matrix\n",
    "\n",
    "class_names = ['AMPs', 'NonAMPs']\n",
    "\n",
    "disp = plot_confusion_matrix(classifier, X_test, y_test,\n",
    "                            display_labels = class_names,\n",
    "                            cmap=plt.cm.Blues, xticks_rotation='vertical')\n",
    "\n",
    "disp.ax_.set_title(\" Confusion Matrix\")\n",
    "\n",
    "print(disp.confusion_matrix)\n",
    "plt.grid(False)\n",
    "plt.show()"
   ]
  },
  {
   "cell_type": "code",
   "execution_count": null,
   "metadata": {},
   "outputs": [],
   "source": []
  }
 ],
 "metadata": {
  "accelerator": "GPU",
  "colab": {
   "name": "jax-unirep.ipynb",
   "provenance": [],
   "toc_visible": true
  },
  "kernelspec": {
   "display_name": "Python 3",
   "language": "python",
   "name": "python3"
  },
  "language_info": {
   "codemirror_mode": {
    "name": "ipython",
    "version": 3
   },
   "file_extension": ".py",
   "mimetype": "text/x-python",
   "name": "python",
   "nbconvert_exporter": "python",
   "pygments_lexer": "ipython3",
   "version": "3.7.10"
  }
 },
 "nbformat": 4,
 "nbformat_minor": 4
}
