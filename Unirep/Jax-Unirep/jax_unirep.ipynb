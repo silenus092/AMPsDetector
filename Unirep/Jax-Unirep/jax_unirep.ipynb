{
 "cells": [
  {
   "cell_type": "code",
<<<<<<< HEAD
   "execution_count": 1,
   "metadata": {
    "id": "DDCRQnyeZS5x"
   },
   "outputs": [
    {
     "name": "stdout",
     "output_type": "stream",
     "text": [
      "Collecting scikit-plot\n",
      "  Downloading scikit_plot-0.3.7-py3-none-any.whl (33 kB)\n",
      "Collecting scipy>=0.9\n",
      "  Downloading scipy-1.5.2-cp38-cp38-manylinux1_x86_64.whl (25.7 MB)\n",
      "\u001b[K     |████████████████████████████████| 25.7 MB 12.9 MB/s eta 0:00:01\n",
      "\u001b[?25hRequirement already satisfied: matplotlib>=1.4.0 in /mnt/biolibs/conda/kongkitimanonk/.conda/envs/jupyter_NB/lib/python3.8/site-packages (from scikit-plot) (3.3.2)\n",
      "Collecting scikit-learn>=0.18\n",
      "  Downloading scikit_learn-0.23.2-cp38-cp38-manylinux1_x86_64.whl (6.8 MB)\n",
      "\u001b[K     |████████████████████████████████| 6.8 MB 17.1 MB/s eta 0:00:01\n",
      "\u001b[?25hCollecting joblib>=0.10\n",
      "  Downloading joblib-0.17.0-py3-none-any.whl (301 kB)\n",
      "\u001b[K     |████████████████████████████████| 301 kB 39.0 MB/s eta 0:00:01\n",
      "\u001b[?25hRequirement already satisfied: numpy>=1.14.5 in /mnt/biolibs/conda/kongkitimanonk/.conda/envs/jupyter_NB/lib/python3.8/site-packages (from scipy>=0.9->scikit-plot) (1.19.1)\n",
      "Requirement already satisfied: cycler>=0.10 in /mnt/biolibs/conda/kongkitimanonk/.conda/envs/jupyter_NB/lib/python3.8/site-packages (from matplotlib>=1.4.0->scikit-plot) (0.10.0)\n",
      "Requirement already satisfied: python-dateutil>=2.1 in /mnt/biolibs/conda/kongkitimanonk/.conda/envs/jupyter_NB/lib/python3.8/site-packages (from matplotlib>=1.4.0->scikit-plot) (2.8.1)\n",
      "Requirement already satisfied: pillow>=6.2.0 in /mnt/biolibs/conda/kongkitimanonk/.conda/envs/jupyter_NB/lib/python3.8/site-packages (from matplotlib>=1.4.0->scikit-plot) (7.2.0)\n",
      "Requirement already satisfied: certifi>=2020.06.20 in /mnt/biolibs/conda/kongkitimanonk/.conda/envs/jupyter_NB/lib/python3.8/site-packages (from matplotlib>=1.4.0->scikit-plot) (2020.6.20)\n",
      "Requirement already satisfied: kiwisolver>=1.0.1 in /mnt/biolibs/conda/kongkitimanonk/.conda/envs/jupyter_NB/lib/python3.8/site-packages (from matplotlib>=1.4.0->scikit-plot) (1.2.0)\n",
      "Requirement already satisfied: pyparsing!=2.0.4,!=2.1.2,!=2.1.6,>=2.0.3 in /mnt/biolibs/conda/kongkitimanonk/.conda/envs/jupyter_NB/lib/python3.8/site-packages (from matplotlib>=1.4.0->scikit-plot) (2.4.7)\n",
      "Collecting threadpoolctl>=2.0.0\n",
      "  Downloading threadpoolctl-2.1.0-py3-none-any.whl (12 kB)\n",
      "Requirement already satisfied: six in /mnt/biolibs/conda/kongkitimanonk/.conda/envs/jupyter_NB/lib/python3.8/site-packages (from cycler>=0.10->matplotlib>=1.4.0->scikit-plot) (1.15.0)\n",
      "Installing collected packages: scipy, joblib, threadpoolctl, scikit-learn, scikit-plot\n",
      "Successfully installed joblib-0.17.0 scikit-learn-0.23.2 scikit-plot-0.3.7 scipy-1.5.2 threadpoolctl-2.1.0\n"
     ]
    }
   ],
=======
   "execution_count": null,
   "metadata": {
    "id": "DDCRQnyeZS5x"
   },
   "outputs": [],
>>>>>>> c2753bb2ef3e2a574bf3c85e23722f218d5c4d5a
   "source": [
    "!pip install scikit-plot"
   ]
  },
  {
   "cell_type": "code",
<<<<<<< HEAD
   "execution_count": 2,
   "metadata": {
    "id": "5PrTLq_V4oU5"
   },
   "outputs": [
    {
     "name": "stdout",
     "output_type": "stream",
     "text": [
      "Collecting jax-unirep\n",
      "  Downloading jax_unirep-1.0.3-py3-none-any.whl (67.7 MB)\n",
      "\u001b[K     |████████████████████████████████| 67.7 MB 986 kB/s eta 0:00:011    |██████▌                         | 13.8 MB 8.8 MB/s eta 0:00:07     |███████████████████             | 40.0 MB 21.9 MB/s eta 0:00:02     |███████████████████████▉        | 50.4 MB 21.9 MB/s eta 0:00:01\n",
      "\u001b[?25hCollecting jaxlib\n",
      "  Downloading jaxlib-0.1.55-cp38-none-manylinux2010_x86_64.whl (31.9 MB)\n",
      "\u001b[K     |████████████████████████████████| 31.9 MB 17.4 MB/s eta 0:00:01    |▊                               | 706 kB 14.7 MB/s eta 0:00:03     |██████████████████████████████  | 30.0 MB 17.4 MB/s eta 0:00:01\n",
      "\u001b[?25hCollecting tqdm\n",
      "  Downloading tqdm-4.50.2-py2.py3-none-any.whl (70 kB)\n",
      "\u001b[K     |████████████████████████████████| 70 kB 14.1 MB/s eta 0:00:01\n",
      "\u001b[?25hCollecting optuna\n",
      "  Downloading optuna-2.2.0.tar.gz (246 kB)\n",
      "\u001b[K     |████████████████████████████████| 246 kB 33.7 MB/s eta 0:00:01\n",
      "\u001b[?25h  Installing build dependencies ... \u001b[?25ldone\n",
      "\u001b[?25h  Getting requirements to build wheel ... \u001b[?25ldone\n",
      "\u001b[?25h    Preparing wheel metadata ... \u001b[?25ldone\n",
      "\u001b[?25hCollecting multipledispatch\n",
      "  Downloading multipledispatch-0.6.0-py3-none-any.whl (11 kB)\n",
      "Collecting jax<0.2.0\n",
      "  Downloading jax-0.1.77.tar.gz (448 kB)\n",
      "\u001b[K     |████████████████████████████████| 448 kB 35.4 MB/s eta 0:00:01\n",
      "\u001b[?25hRequirement already satisfied: numpy in /mnt/biolibs/conda/kongkitimanonk/.conda/envs/jupyter_NB/lib/python3.8/site-packages (from jax-unirep) (1.19.1)\n",
      "Requirement already satisfied: scikit-learn in /mnt/biolibs/conda/kongkitimanonk/.conda/envs/jupyter_NB/lib/python3.8/site-packages (from jax-unirep) (0.23.2)\n",
      "Collecting absl-py\n",
      "  Downloading absl_py-0.10.0-py3-none-any.whl (127 kB)\n",
      "\u001b[K     |████████████████████████████████| 127 kB 32.0 MB/s eta 0:00:01\n",
      "\u001b[?25hRequirement already satisfied: scipy in /mnt/biolibs/conda/kongkitimanonk/.conda/envs/jupyter_NB/lib/python3.8/site-packages (from jaxlib->jax-unirep) (1.5.2)\n",
      "Collecting sqlalchemy>=1.1.0\n",
      "  Downloading SQLAlchemy-1.3.20-cp38-cp38-manylinux2010_x86_64.whl (1.3 MB)\n",
      "\u001b[K     |████████████████████████████████| 1.3 MB 39.0 MB/s eta 0:00:01\n",
      "\u001b[?25hCollecting alembic\n",
      "  Downloading alembic-1.4.3-py2.py3-none-any.whl (159 kB)\n",
      "\u001b[K     |████████████████████████████████| 159 kB 34.1 MB/s eta 0:00:01\n",
      "\u001b[?25hRequirement already satisfied: packaging>=20.0 in /mnt/biolibs/conda/kongkitimanonk/.conda/envs/jupyter_NB/lib/python3.8/site-packages (from optuna->jax-unirep) (20.4)\n",
      "Collecting cmaes>=0.6.0\n",
      "  Downloading cmaes-0.6.1-py3-none-any.whl (9.7 kB)\n",
      "Collecting colorlog\n",
      "  Downloading colorlog-4.4.0-py2.py3-none-any.whl (14 kB)\n",
      "Requirement already satisfied: joblib in /mnt/biolibs/conda/kongkitimanonk/.conda/envs/jupyter_NB/lib/python3.8/site-packages (from optuna->jax-unirep) (0.17.0)\n",
      "Collecting cliff\n",
      "  Downloading cliff-3.4.0-py3-none-any.whl (76 kB)\n",
      "\u001b[K     |████████████████████████████████| 76 kB 6.1 MB/s  eta 0:00:01\n",
      "\u001b[?25hRequirement already satisfied: six in /mnt/biolibs/conda/kongkitimanonk/.conda/envs/jupyter_NB/lib/python3.8/site-packages (from multipledispatch->jax-unirep) (1.15.0)\n",
      "Collecting opt_einsum\n",
      "  Downloading opt_einsum-3.3.0-py3-none-any.whl (65 kB)\n",
      "\u001b[K     |████████████████████████████████| 65 kB 4.1 MB/s eta 0:00:011\n",
      "\u001b[?25hRequirement already satisfied: threadpoolctl>=2.0.0 in /mnt/biolibs/conda/kongkitimanonk/.conda/envs/jupyter_NB/lib/python3.8/site-packages (from scikit-learn->jax-unirep) (2.1.0)\n",
      "Requirement already satisfied: python-dateutil in /mnt/biolibs/conda/kongkitimanonk/.conda/envs/jupyter_NB/lib/python3.8/site-packages (from alembic->optuna->jax-unirep) (2.8.1)\n",
      "Collecting Mako\n",
      "  Downloading Mako-1.1.3-py2.py3-none-any.whl (75 kB)\n",
      "\u001b[K     |████████████████████████████████| 75 kB 7.8 MB/s  eta 0:00:01\n",
      "\u001b[?25hCollecting python-editor>=0.3\n",
      "  Downloading python_editor-1.0.4-py3-none-any.whl (4.9 kB)\n",
      "Requirement already satisfied: pyparsing>=2.0.2 in /mnt/biolibs/conda/kongkitimanonk/.conda/envs/jupyter_NB/lib/python3.8/site-packages (from packaging>=20.0->optuna->jax-unirep) (2.4.7)\n",
      "Requirement already satisfied: PyYAML>=3.12 in /mnt/biolibs/conda/kongkitimanonk/.conda/envs/jupyter_NB/lib/python3.8/site-packages (from cliff->optuna->jax-unirep) (5.3.1)\n",
      "Collecting stevedore>=2.0.1\n",
      "  Downloading stevedore-3.2.2-py3-none-any.whl (42 kB)\n",
      "\u001b[K     |████████████████████████████████| 42 kB 1.8 MB/s  eta 0:00:01\n",
      "\u001b[?25hCollecting pbr!=2.1.0,>=2.0.0\n",
      "  Downloading pbr-5.5.0-py2.py3-none-any.whl (106 kB)\n",
      "\u001b[K     |████████████████████████████████| 106 kB 23.8 MB/s eta 0:00:01\n",
      "\u001b[?25hCollecting cmd2!=0.8.3,>=0.8.0\n",
      "  Downloading cmd2-1.3.11-py3-none-any.whl (133 kB)\n",
      "\u001b[K     |████████████████████████████████| 133 kB 25.3 MB/s eta 0:00:01\n",
      "\u001b[?25hCollecting PrettyTable<0.8,>=0.7.2\n",
      "  Downloading prettytable-0.7.2.tar.bz2 (21 kB)\n",
      "Requirement already satisfied: MarkupSafe>=0.9.2 in /mnt/biolibs/conda/kongkitimanonk/.conda/envs/jupyter_NB/lib/python3.8/site-packages (from Mako->alembic->optuna->jax-unirep) (1.1.1)\n",
      "Collecting pyperclip>=1.6\n",
      "  Downloading pyperclip-1.8.1.tar.gz (20 kB)\n",
      "Requirement already satisfied: colorama>=0.3.7 in /mnt/biolibs/conda/kongkitimanonk/.conda/envs/jupyter_NB/lib/python3.8/site-packages (from cmd2!=0.8.3,>=0.8.0->cliff->optuna->jax-unirep) (0.4.3)\n",
      "Requirement already satisfied: attrs>=16.3.0 in /mnt/biolibs/conda/kongkitimanonk/.conda/envs/jupyter_NB/lib/python3.8/site-packages (from cmd2!=0.8.3,>=0.8.0->cliff->optuna->jax-unirep) (20.2.0)\n",
      "Requirement already satisfied: setuptools>=34.4 in /mnt/biolibs/conda/kongkitimanonk/.conda/envs/jupyter_NB/lib/python3.8/site-packages (from cmd2!=0.8.3,>=0.8.0->cliff->optuna->jax-unirep) (49.6.0.post20200917)\n",
      "Requirement already satisfied: wcwidth>=0.1.7 in /mnt/biolibs/conda/kongkitimanonk/.conda/envs/jupyter_NB/lib/python3.8/site-packages (from cmd2!=0.8.3,>=0.8.0->cliff->optuna->jax-unirep) (0.2.5)\n",
      "Building wheels for collected packages: optuna, jax, PrettyTable, pyperclip\n",
      "  Building wheel for optuna (PEP 517) ... \u001b[?25ldone\n",
      "\u001b[?25h  Created wheel for optuna: filename=optuna-2.2.0-py3-none-any.whl size=340874 sha256=a253768d69acf15628feed4e46b0b2481ec10e2a1726f3b9ece3b8b13abf6ad5\n",
      "  Stored in directory: /home/kongkitimanonk/.cache/pip/wheels/15/45/54/39f8af31973192855ef1ab8eada6eac2dbe056b4eaab5af5a7\n",
      "  Building wheel for jax (setup.py) ... \u001b[?25ldone\n",
      "\u001b[?25h  Created wheel for jax: filename=jax-0.1.77-py3-none-any.whl size=516859 sha256=415d91ef67697483adf3369393063e191a73ba0a21d9020b0c5bf429d013c8f7\n",
      "  Stored in directory: /home/kongkitimanonk/.cache/pip/wheels/10/87/d5/b244a963bbfe76adb31fc08a0d3559fac6c1e978c5625f6ea2\n",
      "  Building wheel for PrettyTable (setup.py) ... \u001b[?25ldone\n",
      "\u001b[?25h  Created wheel for PrettyTable: filename=prettytable-0.7.2-py3-none-any.whl size=13700 sha256=c79365ac5be1dbc5ec6911596909ba1eb6d396df3388ad97488af9785054014d\n",
      "  Stored in directory: /home/kongkitimanonk/.cache/pip/wheels/46/60/6c/bb25d05df22906786206e901e9354bb3061061191116768bee\n",
      "  Building wheel for pyperclip (setup.py) ... \u001b[?25ldone\n",
      "\u001b[?25h  Created wheel for pyperclip: filename=pyperclip-1.8.1-py3-none-any.whl size=11119 sha256=7f8aa59c56a2d76b85a3f0add93fb136f4af391d2b999caf0a4cf02095c3adf7\n",
      "  Stored in directory: /home/kongkitimanonk/.cache/pip/wheels/67/0c/ba/1468f38115898442e13f99a19a8dcf1e0ca73488053ef7b388\n",
      "Successfully built optuna jax PrettyTable pyperclip\n",
      "Installing collected packages: absl-py, jaxlib, tqdm, sqlalchemy, Mako, python-editor, alembic, cmaes, colorlog, pbr, stevedore, pyperclip, cmd2, PrettyTable, cliff, optuna, multipledispatch, opt-einsum, jax, jax-unirep\n",
      "Successfully installed Mako-1.1.3 PrettyTable-0.7.2 absl-py-0.10.0 alembic-1.4.3 cliff-3.4.0 cmaes-0.6.1 cmd2-1.3.11 colorlog-4.4.0 jax-0.1.77 jax-unirep-1.0.3 jaxlib-0.1.55 multipledispatch-0.6.0 opt-einsum-3.3.0 optuna-2.2.0 pbr-5.5.0 pyperclip-1.8.1 python-editor-1.0.4 sqlalchemy-1.3.20 stevedore-3.2.2 tqdm-4.50.2\n"
     ]
    }
   ],
=======
   "execution_count": null,
   "metadata": {
    "id": "5PrTLq_V4oU5"
   },
   "outputs": [],
>>>>>>> c2753bb2ef3e2a574bf3c85e23722f218d5c4d5a
   "source": [
    "!pip install jax-unirep"
   ]
  },
  {
   "cell_type": "markdown",
   "metadata": {
    "id": "HGOsaByCvPDu"
   },
   "source": [
    "Try to deal with GPU memory \n",
    "accroading to https://jax.readthedocs.io/en/latest/gpu_memory_allocation.html"
   ]
  },
  {
   "cell_type": "code",
   "execution_count": 1,
   "metadata": {
    "id": "kvLpExG9qgyo"
   },
   "outputs": [],
   "source": [
    "import os\n",
    "os.environ['XLA_PYTHON_CLIENT_PREALLOCATE']='False'\n",
    "os.environ['XLA_PYTHON_CLIENT_MEM_FRACTION']='.80'"
   ]
  },
  {
   "cell_type": "code",
<<<<<<< HEAD
   "execution_count": 3,
   "metadata": {
    "id": "Uq49wrJkr20U"
   },
   "outputs": [
    {
     "name": "stderr",
     "output_type": "stream",
     "text": [
      "/home/kongkitimanonk/.conda/envs/jupyter_NB/lib/python3.8/site-packages/jax/lib/xla_bridge.py:130: UserWarning: No GPU/TPU found, falling back to CPU.\n",
      "  warnings.warn('No GPU/TPU found, falling back to CPU.')\n"
     ]
    }
   ],
=======
   "execution_count": 2,
   "metadata": {
    "id": "Uq49wrJkr20U"
   },
   "outputs": [],
>>>>>>> c2753bb2ef3e2a574bf3c85e23722f218d5c4d5a
   "source": [
    "import numpy as np\n",
    "import pandas as pd\n",
    "import csv\n",
    "import matplotlib.pyplot as plt\n",
    "from sklearn.model_selection import train_test_split\n",
    "from jax_unirep import get_reps\n",
    "  \n",
    "from jax_unirep import evotune, fit\n",
    "from jax_unirep.utils import dump_params"
   ]
  },
  {
   "cell_type": "code",
<<<<<<< HEAD
   "execution_count": 4,
=======
   "execution_count": 3,
>>>>>>> c2753bb2ef3e2a574bf3c85e23722f218d5c4d5a
   "metadata": {
    "id": "gr1pgcdC45lA"
   },
   "outputs": [],
   "source": [
<<<<<<< HEAD
    "#db_path=\"AMPS_NonAMPs.ready.csv\"\n",
    "db_path=\"/home/kongkitimanonk/SCRATCH_NOBAK/datasets/phase2/AMPS_NonAMPs.ready.csv\""
=======
    "db_path=\"AMPS_NonAMPs.ready.csv\""
>>>>>>> c2753bb2ef3e2a574bf3c85e23722f218d5c4d5a
   ]
  },
  {
   "cell_type": "code",
<<<<<<< HEAD
   "execution_count": 5,
=======
   "execution_count": 4,
>>>>>>> c2753bb2ef3e2a574bf3c85e23722f218d5c4d5a
   "metadata": {
    "colab": {
     "base_uri": "https://localhost:8080/",
     "height": 565
    },
    "id": "n-luJbmp4clD",
    "outputId": "3206bd02-cf62-4c69-93fc-ba645b2a8923"
   },
   "outputs": [
    {
     "data": {
      "text/html": [
       "<div>\n",
       "<style scoped>\n",
       "    .dataframe tbody tr th:only-of-type {\n",
       "        vertical-align: middle;\n",
       "    }\n",
       "\n",
       "    .dataframe tbody tr th {\n",
       "        vertical-align: top;\n",
       "    }\n",
       "\n",
       "    .dataframe thead th {\n",
       "        text-align: right;\n",
       "    }\n",
       "</style>\n",
       "<table border=\"1\" class=\"dataframe\">\n",
       "  <thead>\n",
       "    <tr style=\"text-align: right;\">\n",
       "      <th></th>\n",
       "      <th>ID</th>\n",
       "      <th>Sequence</th>\n",
       "      <th>length</th>\n",
       "      <th>class</th>\n",
       "    </tr>\n",
       "  </thead>\n",
       "  <tbody>\n",
       "    <tr>\n",
       "      <th>0</th>\n",
       "      <td>EN92515250|C|B3FJD7|phage 201phi2-1 lysin</td>\n",
       "      <td>MAKKSVPLRKPAGSDGQGNIKVPGGPVVLDLGDFDDIFGPMESESP...</td>\n",
       "      <td>2337</td>\n",
       "      <td>0</td>\n",
       "    </tr>\n",
       "    <tr>\n",
       "      <th>1</th>\n",
       "      <td>EN54061055|C|F8SJ56|phage PhiPA3 lysin</td>\n",
       "      <td>MASKKTTLPKPKGINPQGSIVQLDLDDFDDLFDEDFGLPKKNSPYT...</td>\n",
       "      <td>2319</td>\n",
       "      <td>0</td>\n",
       "    </tr>\n",
       "    <tr>\n",
       "      <th>2</th>\n",
       "      <td>EN4815120|C|Q8SCY1|phage phiKZ lysin</td>\n",
       "      <td>MAKKVTLPKGQTGATGTTLGQAGNILDLSDVDDIFGDTPKAKKGSP...</td>\n",
       "      <td>2237</td>\n",
       "      <td>0</td>\n",
       "    </tr>\n",
       "    <tr>\n",
       "      <th>3</th>\n",
       "      <td>EN3016141|D|D2J8A7|bacteriocin</td>\n",
       "      <td>MAETIKGLRIDLSLKDMGVGRSITELKRSFRTLNSDLKVSSKNFEY...</td>\n",
       "      <td>1619</td>\n",
       "      <td>0</td>\n",
       "    </tr>\n",
       "    <tr>\n",
       "      <th>4</th>\n",
       "      <td>EN9175723|BD|Q93IM3|bacteriocin</td>\n",
       "      <td>MAKKKNTYKVPSIIALTLAGTALTTHHAQAADKTQDQSTNKNILND...</td>\n",
       "      <td>1564</td>\n",
       "      <td>0</td>\n",
       "    </tr>\n",
       "    <tr>\n",
       "      <th>...</th>\n",
       "      <td>...</td>\n",
       "      <td>...</td>\n",
       "      <td>...</td>\n",
       "      <td>...</td>\n",
       "    </tr>\n",
       "    <tr>\n",
       "      <th>42440</th>\n",
       "      <td>UniRef50_A0A151HEL5 Zinc finger  C3HC4 type (R...</td>\n",
       "      <td>GLYFRPRRRASS</td>\n",
       "      <td>12</td>\n",
       "      <td>1</td>\n",
       "    </tr>\n",
       "    <tr>\n",
       "      <th>42441</th>\n",
       "      <td>UniRef50_K2MU79 Retrotransposon hot spot (RHS)...</td>\n",
       "      <td>MESNPMTLVGCG</td>\n",
       "      <td>12</td>\n",
       "      <td>1</td>\n",
       "    </tr>\n",
       "    <tr>\n",
       "      <th>42442</th>\n",
       "      <td>UniRef50_A0A1E1IUT2 Flagellar calcium-binding ...</td>\n",
       "      <td>IRCVGHWMQAEH</td>\n",
       "      <td>12</td>\n",
       "      <td>1</td>\n",
       "    </tr>\n",
       "    <tr>\n",
       "      <th>42443</th>\n",
       "      <td>UniRef50_A0A0S4ITT4 Dopa decarboxylase  putati...</td>\n",
       "      <td>APWSASTLHCPG</td>\n",
       "      <td>12</td>\n",
       "      <td>1</td>\n",
       "    </tr>\n",
       "    <tr>\n",
       "      <th>42444</th>\n",
       "      <td>UniRef50_P86818 [Ala1 Thr6]-phyllokinin n=1 Ta...</td>\n",
       "      <td>APPGFTPFRIY</td>\n",
       "      <td>11</td>\n",
       "      <td>1</td>\n",
       "    </tr>\n",
       "  </tbody>\n",
       "</table>\n",
       "<p>42445 rows × 4 columns</p>\n",
       "</div>"
      ],
      "text/plain": [
<<<<<<< HEAD
       "                                                      ID  \\\n",
       "0              EN92515250|C|B3FJD7|phage 201phi2-1 lysin   \n",
       "1                 EN54061055|C|F8SJ56|phage PhiPA3 lysin   \n",
       "2                   EN4815120|C|Q8SCY1|phage phiKZ lysin   \n",
       "3                         EN3016141|D|D2J8A7|bacteriocin   \n",
       "4                        EN9175723|BD|Q93IM3|bacteriocin   \n",
       "...                                                  ...   \n",
       "42440  UniRef50_A0A151HEL5 Zinc finger  C3HC4 type (R...   \n",
       "42441  UniRef50_K2MU79 Retrotransposon hot spot (RHS)...   \n",
       "42442  UniRef50_A0A1E1IUT2 Flagellar calcium-binding ...   \n",
       "42443  UniRef50_A0A0S4ITT4 Dopa decarboxylase  putati...   \n",
       "42444  UniRef50_P86818 [Ala1 Thr6]-phyllokinin n=1 Ta...   \n",
       "\n",
       "                                                Sequence  length  class  \n",
       "0      MAKKSVPLRKPAGSDGQGNIKVPGGPVVLDLGDFDDIFGPMESESP...    2337      0  \n",
       "1      MASKKTTLPKPKGINPQGSIVQLDLDDFDDLFDEDFGLPKKNSPYT...    2319      0  \n",
       "2      MAKKVTLPKGQTGATGTTLGQAGNILDLSDVDDIFGDTPKAKKGSP...    2237      0  \n",
       "3      MAETIKGLRIDLSLKDMGVGRSITELKRSFRTLNSDLKVSSKNFEY...    1619      0  \n",
       "4      MAKKKNTYKVPSIIALTLAGTALTTHHAQAADKTQDQSTNKNILND...    1564      0  \n",
       "...                                                  ...     ...    ...  \n",
       "42440                                       GLYFRPRRRASS      12      1  \n",
       "42441                                       MESNPMTLVGCG      12      1  \n",
       "42442                                       IRCVGHWMQAEH      12      1  \n",
       "42443                                       APWSASTLHCPG      12      1  \n",
       "42444                                        APPGFTPFRIY      11      1  \n",
=======
       "                                                      ID  ... class\n",
       "0              EN92515250|C|B3FJD7|phage 201phi2-1 lysin  ...     0\n",
       "1                 EN54061055|C|F8SJ56|phage PhiPA3 lysin  ...     0\n",
       "2                   EN4815120|C|Q8SCY1|phage phiKZ lysin  ...     0\n",
       "3                         EN3016141|D|D2J8A7|bacteriocin  ...     0\n",
       "4                        EN9175723|BD|Q93IM3|bacteriocin  ...     0\n",
       "...                                                  ...  ...   ...\n",
       "42440  UniRef50_A0A151HEL5 Zinc finger  C3HC4 type (R...  ...     1\n",
       "42441  UniRef50_K2MU79 Retrotransposon hot spot (RHS)...  ...     1\n",
       "42442  UniRef50_A0A1E1IUT2 Flagellar calcium-binding ...  ...     1\n",
       "42443  UniRef50_A0A0S4ITT4 Dopa decarboxylase  putati...  ...     1\n",
       "42444  UniRef50_P86818 [Ala1 Thr6]-phyllokinin n=1 Ta...  ...     1\n",
>>>>>>> c2753bb2ef3e2a574bf3c85e23722f218d5c4d5a
       "\n",
       "[42445 rows x 4 columns]"
      ]
     },
<<<<<<< HEAD
     "execution_count": 5,
     "metadata": {},
=======
     "execution_count": 4,
     "metadata": {
      "tags": []
     },
>>>>>>> c2753bb2ef3e2a574bf3c85e23722f218d5c4d5a
     "output_type": "execute_result"
    }
   ],
   "source": [
    "AMPs_df=pd.read_csv(db_path,sep=',',header=0,quoting=csv.QUOTE_ALL)\n",
    "AMPs_df # Class 0= AMPs , 1=NonAMps"
   ]
  },
  {
   "cell_type": "markdown",
   "metadata": {
    "id": "hOUER8lwsVO7"
   },
   "source": [
    "## **Experimental testing**:\n",
    " Right now we cannot feed all datasets into jax-unirep, so I use\n",
    "a simple random sampling (remove some datasets) and get seq. only length is less than ....\n",
    "\n",
    "due to out-of-memory(OOM) failures (GPU memory leak or GPU doesn't have enough memory) I got the error like this\n",
    "```\n",
    "RuntimeError: Resource exhausted: Out of memory while trying to allocate 18053216 bytes.\n",
    "or\n",
    "Out of memory while trying to allocate 340000000 bytes.\n",
    "```\n",
    "* Discussion in gihub https://github.com/ElArkk/jax-unirep/issues/44 \n",
    "* GPU memory allocation https://jax.readthedocs.io/en/latest/gpu_memory_allocation.html\n",
    "\n",
    "However,we can use CPU, it works but it takes forever. \n",
    "\n",
    "In the original UniRep, they mention about the full-sized model (mLSTM1900) requires a machine with more than 16GB of GPU RAM (https://github.com/churchlab/UniRep)\n",
    "\n",
    "\n",
    "**In Google Colab(GPU and TPU)** , I successfully  test with ~250-300 datasets , above of this will cause OOM errors."
   ]
  },
  {
   "cell_type": "code",
   "execution_count": 5,
   "metadata": {
    "colab": {
     "base_uri": "https://localhost:8080/",
     "height": 669
    },
    "id": "YdjWsouoSu2g",
    "outputId": "2db11611-6c3f-4c69-a506-a90b309c6b63"
   },
   "outputs": [
    {
     "data": {
      "text/html": [
       "<div>\n",
       "<style scoped>\n",
       "    .dataframe tbody tr th:only-of-type {\n",
       "        vertical-align: middle;\n",
       "    }\n",
       "\n",
       "    .dataframe tbody tr th {\n",
       "        vertical-align: top;\n",
       "    }\n",
       "\n",
       "    .dataframe thead th {\n",
       "        text-align: right;\n",
       "    }\n",
       "</style>\n",
       "<table border=\"1\" class=\"dataframe\">\n",
       "  <thead>\n",
       "    <tr style=\"text-align: right;\">\n",
       "      <th></th>\n",
       "      <th>ID</th>\n",
       "      <th>Sequence</th>\n",
       "      <th>length</th>\n",
       "      <th>class</th>\n",
       "    </tr>\n",
       "  </thead>\n",
       "  <tbody>\n",
       "    <tr>\n",
       "      <th>2080</th>\n",
       "      <td>L01A002211|Sequence 1225 from patent US 6573361</td>\n",
       "      <td>MANTKSAIKRIKTIERNRIRNCAYKSVVKTFIKKYLKVLSDYTNAP...</td>\n",
       "      <td>95</td>\n",
       "      <td>0</td>\n",
       "    </tr>\n",
       "    <tr>\n",
       "      <th>2112</th>\n",
       "      <td>ADAM_0164|adam_test</td>\n",
       "      <td>AISYDQVKSSLLPCVGYVRGNNARPAPPNYCKGIRSLKSAARIRLD...</td>\n",
       "      <td>94</td>\n",
       "      <td>0</td>\n",
       "    </tr>\n",
       "    <tr>\n",
       "      <th>2223</th>\n",
       "      <td>ADAM_4403|adam_test</td>\n",
       "      <td>MKYCVVILALLVALVCITESRSTETGYAVAETLEDNDLDELQAYLE...</td>\n",
       "      <td>93</td>\n",
       "      <td>0</td>\n",
       "    </tr>\n",
       "    <tr>\n",
       "      <th>2232</th>\n",
       "      <td>ADAM_6138|adam_test</td>\n",
       "      <td>VGSEVSDKRTCVSLTTQRLPVSRIKTYTITEGSLRAVIFITKRGLK...</td>\n",
       "      <td>93</td>\n",
       "      <td>0</td>\n",
       "    </tr>\n",
       "    <tr>\n",
       "      <th>2315</th>\n",
       "      <td>L01A002317|Sequence 1515 from patent US 6573361</td>\n",
       "      <td>MGRSLKKGPFVAASLLRKIDKLNDKGDKQVVKTWSRASTILPQMVG...</td>\n",
       "      <td>92</td>\n",
       "      <td>0</td>\n",
       "    </tr>\n",
       "    <tr>\n",
       "      <th>...</th>\n",
       "      <td>...</td>\n",
       "      <td>...</td>\n",
       "      <td>...</td>\n",
       "      <td>...</td>\n",
       "    </tr>\n",
       "    <tr>\n",
       "      <th>41948</th>\n",
       "      <td>UniRef50_A0A2H3S7M8 Uncharacterized protein n=...</td>\n",
       "      <td>MPLAYCSYSYN</td>\n",
       "      <td>11</td>\n",
       "      <td>1</td>\n",
       "    </tr>\n",
       "    <tr>\n",
       "      <th>41950</th>\n",
       "      <td>UniRef50_A0A2H3SG47 Uncharacterized protein n=...</td>\n",
       "      <td>MASQYGWLNSL</td>\n",
       "      <td>11</td>\n",
       "      <td>1</td>\n",
       "    </tr>\n",
       "    <tr>\n",
       "      <th>42034</th>\n",
       "      <td>UniRef50_A0A0G4N8C6 Uncharacterized protein (F...</td>\n",
       "      <td>ARECSQGGSRP</td>\n",
       "      <td>11</td>\n",
       "      <td>1</td>\n",
       "    </tr>\n",
       "    <tr>\n",
       "      <th>42146</th>\n",
       "      <td>UniRef50_A2NU82 Myeloperoxidase n=1 Tax=Homo s...</td>\n",
       "      <td>MTAAGKGIREQ</td>\n",
       "      <td>11</td>\n",
       "      <td>1</td>\n",
       "    </tr>\n",
       "    <tr>\n",
       "      <th>42173</th>\n",
       "      <td>UniRef50_B7QLC4 Gamma-gliadin  putative (Fragm...</td>\n",
       "      <td>LVDVTNDQPFPQPLQPTAPPQTPQSTFIRPHQPPQPNAPFKINVPQ...</td>\n",
       "      <td>99</td>\n",
       "      <td>1</td>\n",
       "    </tr>\n",
       "  </tbody>\n",
       "</table>\n",
       "<p>239 rows × 4 columns</p>\n",
       "</div>"
      ],
      "text/plain": [
       "                                                      ID  ... class\n",
       "2080     L01A002211|Sequence 1225 from patent US 6573361  ...     0\n",
       "2112                                 ADAM_0164|adam_test  ...     0\n",
       "2223                                 ADAM_4403|adam_test  ...     0\n",
       "2232                                 ADAM_6138|adam_test  ...     0\n",
       "2315     L01A002317|Sequence 1515 from patent US 6573361  ...     0\n",
       "...                                                  ...  ...   ...\n",
       "41948  UniRef50_A0A2H3S7M8 Uncharacterized protein n=...  ...     1\n",
       "41950  UniRef50_A0A2H3SG47 Uncharacterized protein n=...  ...     1\n",
       "42034  UniRef50_A0A0G4N8C6 Uncharacterized protein (F...  ...     1\n",
       "42146  UniRef50_A2NU82 Myeloperoxidase n=1 Tax=Homo s...  ...     1\n",
       "42173  UniRef50_B7QLC4 Gamma-gliadin  putative (Fragm...  ...     1\n",
       "\n",
       "[239 rows x 4 columns]"
      ]
     },
     "execution_count": 5,
     "metadata": {
      "tags": []
     },
     "output_type": "execute_result"
    }
   ],
   "source": [
    "np.random.seed(10)\n",
    "AMPs_df = AMPs_df[AMPs_df['length']<275]\n",
    "remove_n = 40300\n",
    "drop_indices = np.random.choice(AMPs_df.index, remove_n, replace=False)\n",
    "AMPs_df = AMPs_df.drop(drop_indices)\n",
    "AMPs_df"
   ]
  },
  {
<<<<<<< HEAD
   "cell_type": "code",
   "execution_count": 6,
   "metadata": {},
   "outputs": [
    {
     "data": {
      "text/plain": [
       "'MAKKSVPLRKPAGSDGQGNIKVPGGPVVLDLGDFDDIFGPMESESPKQGPLGQFYTGLKDSLSDRFKTKDIVRNFLRSAAPDGISNVMGFADEAMAVTRDIKESLERTNAADLQYIAKKAQQILPQVKDYVSEDTYNNISEGLENKIDEYDYTIQSGRDQTAIRRARQEESDSNQIKAAMDNIALTERLNHNKSEQAANARHNQSRAENSIRDVLTTKRFDFMAKSMGMAVDSLQRLAGYNEQVDYGFQRKGLELQFRSYLGIKELVKLSEAHLELNARAYNSIVRNTALADHQKTNRKDLGQIGNGQSNSRGFASNAARAIGGKTLSQFYGNYSGNVQSRVTDSLSQKLGMAVQAIKMGEAGPNLWDNKYSFAGGIAGDFLSDFLLNDLVPMMGREARSPLTKLSNKYGGRHNQAGYLMDNMPAFMQEFVNNNQNQHGWKGSIRNLIAPYVPQFGLQDRLQNGTFQTIDQHAAFNQATQRSIVDAIPGYLARILQEMRMIRTGSDQVAREVFDMTTGKFGVEANMHDNIQNRILPENAVRSASATINDALNQIDKDGKLSAGARKALGERLLRDSSSNQRFDPEAYIRTRGYAQGTSPEVAAELEQHFRGQFEFDNKGKMADTAANHQLRQEFSQAFLDIRSISRDPIKEINRMINSGHTEPLRALGIIVTEKGYDRINYPRIWEILRSGVTGHNPYAPGGDGNDPNTIDRSGEAGHKSFMGPQHPGLVKAFAANKLDAFRTKYAPEEQAARDAMAKHLKAMRGRFGSASKNVQETFADLTGGKGTDYTPGIQSFSKMMSAGPGFGPQNLGGGYSSFVGQAVDDHKDSMQGYVANGMQQLTDLYSSFDPTQPVIKGIDFSMGDLIDINTKKIITKPSDITGEVINRLGQTVVTATEAAAGLLSPKGEVIVKAVEAGAAAISKAIGLNRKTNQSESSTDNESTDPNGAEQLNKQDWSLGPGENPIITARGMLNGDYRDAAGKIIDSIADISSDVYDKTGNLVLTAKEFANGLWSKRTGKRYRPTKGLSKLLALAKGASKFSGTNATSMGFAAMKFAGKAALGVASAAFNFVMDNQNAYLPGEPVPVITRRQLQAGEYYDDKGKTIEDFADVYSPIYNAQGEAVIAPELYKQLTNFDGSKHVLAKNRRIWAKFIMRPIRAVRDAYMRQTKRYYKWLGKTTAKAGGWLGGKLFGGFAKRGSNLLGSAFDSVEDPNTKAQIDATLMASQQQTSVMEQVLQAIQDLKPKELRKGSWQEQAARKMGLGSKDPKAAGKDGDEKQAGFLKRGLAGLASMLGLGNKGEDDDDDGFGLEDAADLADIGDAAGNARERGRRRRGGKRGWFGRMWDKAKGSKLGKWGGGLVEKAGQSRLGQMAGRGLAMAGESAAGRAGLGVVTQVAKRPTLWTAVAAASVGMGAYLYSSIKSSSGEFRRLRLAQYGIRGMRRELKVLELEALLEKYTDKNSDSPSFSLNGAGAKDILSIMGIDLDNQAEVQNFAKWLDLRFKPVYLAWIGGLNKIGQSQVKINEIDDKVPKELKADLLDSVRFPYNGDTPYAVLVNPFDPDDTPEPNAEYISKMFDELKAEYDPERKAAEAKVDKKGDGKGTMEKAAAAGTIGTAVATGNAAKDLVTKQAAAGDKNSDVLKTPLAATAAAASSMSGTIANLNERIGNSITGLQAIRMRAYGVQTLHLSDVRSLLALEAVYAKDLTAVDGVVDYNGDESKLLAAAGALLGKDTSVGSSDRPKLYNWLVQRFGPTFRAYYGTAKGLNPSAELKSMESKLSGADKVTVGQAVMGAVYRHDQTVWDSESIFDVKGPLSDLKRLADADLEQLRKDSAKEVIDSPTQKGSDQMAGKNAAETGGSFADKVVGTIKDTWNKTTETVSGAWNRASDAAQDTYAGAKIAIGMGPDYGEGGAKGGAVKSTGTGGTMLSGTGGKFEELPYPSANGSIKAAYPTLLAAGKMTGVPVDWLTVIAGIESNFNYDIKASTSSATGWYQFIDSTWDQVVKQYGAKYGIPGKQADPERKARKDPRASALMGAEFIKANYATVSKGIGRNDLTDTDIYMAHFLGPGGAIKFLKADPNAMAYKIFSKEYSANMAIFFVNSKPSQPRTISDVYKLFQAKMDKFWNTVGKGYRQGSGESPSNTANADAQTPGAVENSQTADEAAMKDKLKAEASNKDGMGSDTKGEQPAGGNSDIKQGDGTGSVQSLARNTAPMPGAPATGGGSSSSVSNTGTDSGAGTADSQQQAQLDAAQAQNTRRAAEVKRDQNVAADVNDIQVRQLNTLFEIRDLTQLQLDNSKDLLKAFTGGQSAGGQGSGNNMNPSTMQGRPAAQRESSVTLR'"
      ]
     },
     "execution_count": 6,
     "metadata": {},
     "output_type": "execute_result"
    }
   ],
   "source": [
    "AMPs_df.iloc[0]['Sequence']"
   ]
  },
  {
   "cell_type": "code",
   "execution_count": 7,
   "metadata": {},
   "outputs": [
    {
     "data": {
      "text/html": [
       "<div>\n",
       "<style scoped>\n",
       "    .dataframe tbody tr th:only-of-type {\n",
       "        vertical-align: middle;\n",
       "    }\n",
       "\n",
       "    .dataframe tbody tr th {\n",
       "        vertical-align: top;\n",
       "    }\n",
       "\n",
       "    .dataframe thead th {\n",
       "        text-align: right;\n",
       "    }\n",
       "</style>\n",
       "<table border=\"1\" class=\"dataframe\">\n",
       "  <thead>\n",
       "    <tr style=\"text-align: right;\">\n",
       "      <th></th>\n",
       "      <th>ID</th>\n",
       "      <th>Sequence</th>\n",
       "      <th>length</th>\n",
       "      <th>class</th>\n",
       "      <th>reps</th>\n",
       "    </tr>\n",
       "  </thead>\n",
       "  <tbody>\n",
       "    <tr>\n",
       "      <th>0</th>\n",
       "      <td>EN92515250|C|B3FJD7|phage 201phi2-1 lysin</td>\n",
       "      <td>MAKKSVPLRKPAGSDGQGNIKVPGGPVVLDLGDFDDIFGPMESESP...</td>\n",
       "      <td>2337</td>\n",
       "      <td>0</td>\n",
       "      <td>[0.0032203220762312412, 0.07328620553016663, 0...</td>\n",
       "    </tr>\n",
       "    <tr>\n",
       "      <th>1</th>\n",
       "      <td>EN54061055|C|F8SJ56|phage PhiPA3 lysin</td>\n",
       "      <td>MASKKTTLPKPKGINPQGSIVQLDLDDFDDLFDEDFGLPKKNSPYT...</td>\n",
       "      <td>2319</td>\n",
       "      <td>0</td>\n",
       "      <td>[0.0027930964715778828, 0.06916013360023499, 0...</td>\n",
       "    </tr>\n",
       "    <tr>\n",
       "      <th>2</th>\n",
       "      <td>EN4815120|C|Q8SCY1|phage phiKZ lysin</td>\n",
       "      <td>MAKKVTLPKGQTGATGTTLGQAGNILDLSDVDDIFGDTPKAKKGSP...</td>\n",
       "      <td>2237</td>\n",
       "      <td>0</td>\n",
       "      <td>[0.0023172732908278704, 0.05406315624713898, 0...</td>\n",
       "    </tr>\n",
       "    <tr>\n",
       "      <th>3</th>\n",
       "      <td>EN3016141|D|D2J8A7|bacteriocin</td>\n",
       "      <td>MAETIKGLRIDLSLKDMGVGRSITELKRSFRTLNSDLKVSSKNFEY...</td>\n",
       "      <td>1619</td>\n",
       "      <td>0</td>\n",
       "      <td>[0.014644640497863293, 0.07187927514314651, 0....</td>\n",
       "    </tr>\n",
       "    <tr>\n",
       "      <th>4</th>\n",
       "      <td>EN9175723|BD|Q93IM3|bacteriocin</td>\n",
       "      <td>MAKKKNTYKVPSIIALTLAGTALTTHHAQAADKTQDQSTNKNILND...</td>\n",
       "      <td>1564</td>\n",
       "      <td>0</td>\n",
       "      <td>[0.0062357354909181595, 0.01848522014915943, 0...</td>\n",
       "    </tr>\n",
       "    <tr>\n",
       "      <th>...</th>\n",
       "      <td>...</td>\n",
       "      <td>...</td>\n",
       "      <td>...</td>\n",
       "      <td>...</td>\n",
       "      <td>...</td>\n",
       "    </tr>\n",
       "    <tr>\n",
       "      <th>42440</th>\n",
       "      <td>UniRef50_A0A151HEL5 Zinc finger  C3HC4 type (R...</td>\n",
       "      <td>GLYFRPRRRASS</td>\n",
       "      <td>12</td>\n",
       "      <td>1</td>\n",
       "      <td>[0.0483490452170372, -0.007824046537280083, -0...</td>\n",
       "    </tr>\n",
       "    <tr>\n",
       "      <th>42441</th>\n",
       "      <td>UniRef50_K2MU79 Retrotransposon hot spot (RHS)...</td>\n",
       "      <td>MESNPMTLVGCG</td>\n",
       "      <td>12</td>\n",
       "      <td>1</td>\n",
       "      <td>[0.047337695956230164, -0.013988062739372253, ...</td>\n",
       "    </tr>\n",
       "    <tr>\n",
       "      <th>42442</th>\n",
       "      <td>UniRef50_A0A1E1IUT2 Flagellar calcium-binding ...</td>\n",
       "      <td>IRCVGHWMQAEH</td>\n",
       "      <td>12</td>\n",
       "      <td>1</td>\n",
       "      <td>[0.04697670415043831, -0.027571065351366997, -...</td>\n",
       "    </tr>\n",
       "    <tr>\n",
       "      <th>42443</th>\n",
       "      <td>UniRef50_A0A0S4ITT4 Dopa decarboxylase  putati...</td>\n",
       "      <td>APWSASTLHCPG</td>\n",
       "      <td>12</td>\n",
       "      <td>1</td>\n",
       "      <td>[0.04749748483300209, 0.005815288983285427, -0...</td>\n",
       "    </tr>\n",
       "    <tr>\n",
       "      <th>42444</th>\n",
       "      <td>UniRef50_P86818 [Ala1 Thr6]-phyllokinin n=1 Ta...</td>\n",
       "      <td>APPGFTPFRIY</td>\n",
       "      <td>11</td>\n",
       "      <td>1</td>\n",
       "      <td>[0.05909949913620949, 0.01405306626111269, -0....</td>\n",
       "    </tr>\n",
       "  </tbody>\n",
       "</table>\n",
       "<p>42445 rows × 5 columns</p>\n",
       "</div>"
      ],
      "text/plain": [
       "                                                      ID  \\\n",
       "0              EN92515250|C|B3FJD7|phage 201phi2-1 lysin   \n",
       "1                 EN54061055|C|F8SJ56|phage PhiPA3 lysin   \n",
       "2                   EN4815120|C|Q8SCY1|phage phiKZ lysin   \n",
       "3                         EN3016141|D|D2J8A7|bacteriocin   \n",
       "4                        EN9175723|BD|Q93IM3|bacteriocin   \n",
       "...                                                  ...   \n",
       "42440  UniRef50_A0A151HEL5 Zinc finger  C3HC4 type (R...   \n",
       "42441  UniRef50_K2MU79 Retrotransposon hot spot (RHS)...   \n",
       "42442  UniRef50_A0A1E1IUT2 Flagellar calcium-binding ...   \n",
       "42443  UniRef50_A0A0S4ITT4 Dopa decarboxylase  putati...   \n",
       "42444  UniRef50_P86818 [Ala1 Thr6]-phyllokinin n=1 Ta...   \n",
       "\n",
       "                                                Sequence  length  class  \\\n",
       "0      MAKKSVPLRKPAGSDGQGNIKVPGGPVVLDLGDFDDIFGPMESESP...    2337      0   \n",
       "1      MASKKTTLPKPKGINPQGSIVQLDLDDFDDLFDEDFGLPKKNSPYT...    2319      0   \n",
       "2      MAKKVTLPKGQTGATGTTLGQAGNILDLSDVDDIFGDTPKAKKGSP...    2237      0   \n",
       "3      MAETIKGLRIDLSLKDMGVGRSITELKRSFRTLNSDLKVSSKNFEY...    1619      0   \n",
       "4      MAKKKNTYKVPSIIALTLAGTALTTHHAQAADKTQDQSTNKNILND...    1564      0   \n",
       "...                                                  ...     ...    ...   \n",
       "42440                                       GLYFRPRRRASS      12      1   \n",
       "42441                                       MESNPMTLVGCG      12      1   \n",
       "42442                                       IRCVGHWMQAEH      12      1   \n",
       "42443                                       APWSASTLHCPG      12      1   \n",
       "42444                                        APPGFTPFRIY      11      1   \n",
       "\n",
       "                                                    reps  \n",
       "0      [0.0032203220762312412, 0.07328620553016663, 0...  \n",
       "1      [0.0027930964715778828, 0.06916013360023499, 0...  \n",
       "2      [0.0023172732908278704, 0.05406315624713898, 0...  \n",
       "3      [0.014644640497863293, 0.07187927514314651, 0....  \n",
       "4      [0.0062357354909181595, 0.01848522014915943, 0...  \n",
       "...                                                  ...  \n",
       "42440  [0.0483490452170372, -0.007824046537280083, -0...  \n",
       "42441  [0.047337695956230164, -0.013988062739372253, ...  \n",
       "42442  [0.04697670415043831, -0.027571065351366997, -...  \n",
       "42443  [0.04749748483300209, 0.005815288983285427, -0...  \n",
       "42444  [0.05909949913620949, 0.01405306626111269, -0....  \n",
       "\n",
       "[42445 rows x 5 columns]"
      ]
     },
     "execution_count": 7,
     "metadata": {},
     "output_type": "execute_result"
    }
   ],
   "source": [
    "_h_avg, h_final, c_final= get_reps(AMPs_df['Sequence'].to_list())\n",
    "AMPs_df['reps']=_h_avg.tolist()\n",
    "AMPs_df.to_pickle('AMPsNonAMPs_df.plk')\n",
    "AMPs_df"
   ]
  },
  {
   "cell_type": "code",
   "execution_count": null,
   "metadata": {},
   "outputs": [],
   "source": [
    "\n",
    "AMPs_df = pd.read_pickle('AMPsNonAMPs_df.plk')\n",
    "AMPs_df"
   ]
  },
  {
=======
>>>>>>> c2753bb2ef3e2a574bf3c85e23722f218d5c4d5a
   "cell_type": "markdown",
   "metadata": {
    "id": "1clrjyjisTgc"
   },
   "source": [
    "## Split train and test set"
   ]
  },
  {
   "cell_type": "code",
<<<<<<< HEAD
   "execution_count": 15,
=======
   "execution_count": 6,
>>>>>>> c2753bb2ef3e2a574bf3c85e23722f218d5c4d5a
   "metadata": {
    "id": "42bd9Symt5cu"
   },
   "outputs": [],
   "source": [
<<<<<<< HEAD
    "X= AMPs_df['reps'].to_list()\n",
    "y= AMPs_df['class'].to_list()"
=======
    "X= AMPs_df['Sequence']\n",
    "y= AMPs_df['class']"
>>>>>>> c2753bb2ef3e2a574bf3c85e23722f218d5c4d5a
   ]
  },
  {
   "cell_type": "code",
<<<<<<< HEAD
   "execution_count": 16,
=======
   "execution_count": 7,
>>>>>>> c2753bb2ef3e2a574bf3c85e23722f218d5c4d5a
   "metadata": {
    "id": "olea-OhdsTGc"
   },
   "outputs": [],
   "source": [
    " X_train, X_test, y_train, y_test = train_test_split(X, y, test_size=0.2, random_state=1)\n",
    "\n",
    "# X_train, X_val, y_train, y_val = train_test_split(X_train, y_train, test_size=0.25, random_state=1) # 0.25 x 0.8 = 0.2"
   ]
  },
  {
   "cell_type": "code",
<<<<<<< HEAD
   "execution_count": null,
=======
   "execution_count": 10,
>>>>>>> c2753bb2ef3e2a574bf3c85e23722f218d5c4d5a
   "metadata": {
    "colab": {
     "base_uri": "https://localhost:8080/",
     "height": 235
    },
    "id": "ov2up45LuSh0",
    "outputId": "fae518af-5040-48a3-e786-93217f2409e9"
   },
<<<<<<< HEAD
   "outputs": [],
=======
   "outputs": [
    {
     "data": {
      "text/plain": [
       "2080     MANTKSAIKRIKTIERNRIRNCAYKSVVKTFIKKYLKVLSDYTNAP...\n",
       "31251         MIRPQSSMSKHIPQFCGVLGHTFMEFLKGSGDYCQAQHDLYADK\n",
       "14628                                 MVSRAAGLAARLARLALRAL\n",
       "32699                    MVDWIIGIGVAVLVVLIIRQQFRKKRNGQSGCG\n",
       "27862    EMAIELGDASAMYNRAVMHRHGQGGPVNYLEAIRLYEMAIDDGYAS...\n",
       "                               ...                        \n",
       "26118                                  SQLQVKTWYQNRRMKWKKI\n",
       "14499                                 YAGFLRXIKKILSKIKKLLK\n",
       "26325              VKFKVQKDCLPLPESTFKHAIKDNYFEPFRFNPRLNAQQ\n",
       "41950                                          MASQYGWLNSL\n",
       "7852               GLWNSIKIAGKKLFVNVLDKIRCKVAGGCKTSPDVEYHK\n",
       "Name: Sequence, Length: 191, dtype: object"
      ]
     },
     "execution_count": 10,
     "metadata": {
      "tags": []
     },
     "output_type": "execute_result"
    }
   ],
>>>>>>> c2753bb2ef3e2a574bf3c85e23722f218d5c4d5a
   "source": [
    "# X_train y_train\n",
    "# X_val y_val\n",
    "# X_test y_test\n",
<<<<<<< HEAD
    "X_train[0]"
=======
    "X_train"
>>>>>>> c2753bb2ef3e2a574bf3c85e23722f218d5c4d5a
   ]
  },
  {
   "cell_type": "markdown",
   "metadata": {
    "id": "ljpU0NBIvb6k"
   },
   "source": [
    "Use jax-unirep to get \"reps\" of our sequences"
   ]
  },
  {
   "cell_type": "code",
   "execution_count": 11,
   "metadata": {
    "id": "kVhXro6eHTwp"
   },
   "outputs": [],
   "source": [
<<<<<<< HEAD
    "#encoded_XTest_h_avg, h_final, c_final= get_reps(X_test.to_list())\n"
=======
    "encoded_XTest_h_avg, h_final, c_final= get_reps(X_test.to_list())\n"
>>>>>>> c2753bb2ef3e2a574bf3c85e23722f218d5c4d5a
   ]
  },
  {
   "cell_type": "code",
   "execution_count": 17,
   "metadata": {
    "colab": {
     "base_uri": "https://localhost:8080/",
     "height": 254
    },
    "id": "Id_ZyBGvvq1q",
    "outputId": "91cac9d0-de02-4f1c-da58-84cdff75163b"
   },
   "outputs": [
    {
     "data": {
      "text/plain": [
       "array([[ 4.50811908e-02, -5.70504107e-02, -3.91879268e-02, ...,\n",
       "        -8.85980297e-03,  5.41265979e-02,  6.03123158e-02],\n",
       "       [ 3.57009210e-02, -3.04098334e-02, -5.79583272e-03, ...,\n",
       "         6.09648451e-02,  5.16050644e-02,  3.03401612e-02],\n",
       "       [ 3.95193771e-02, -4.01638374e-02, -2.71999035e-02, ...,\n",
       "         6.24471903e-02,  6.75325021e-02,  8.85927826e-02],\n",
       "       ...,\n",
       "       [ 1.58738364e-02, -2.10723922e-01,  2.83727273e-02, ...,\n",
       "        -1.26511147e-02,  2.57162124e-01,  3.57268602e-02],\n",
       "       [ 6.42440375e-03, -2.62509752e-02,  9.60013786e-05, ...,\n",
       "        -3.68243158e-02,  4.33110595e-02, -6.82816878e-02],\n",
       "       [ 1.23925926e-02, -5.59971184e-02,  1.00520616e-02, ...,\n",
       "         5.38413972e-03,  7.47785345e-02,  1.19894199e-01]])"
      ]
     },
     "execution_count": 17,
     "metadata": {
      "tags": []
     },
     "output_type": "execute_result"
    }
   ],
   "source": [
<<<<<<< HEAD
    "#encoded_XTest_h_avg"
=======
    "encoded_XTest_h_avg"
>>>>>>> c2753bb2ef3e2a574bf3c85e23722f218d5c4d5a
   ]
  },
  {
   "cell_type": "code",
   "execution_count": 9,
   "metadata": {
    "id": "wjTHsFblJAKn"
   },
   "outputs": [],
   "source": [
<<<<<<< HEAD
    "#encoded_XTrain_h_avg, h_final, c_final= get_reps(X_train.to_list())"
=======
    "encoded_XTrain_h_avg, h_final, c_final= get_reps(X_train.to_list())"
>>>>>>> c2753bb2ef3e2a574bf3c85e23722f218d5c4d5a
   ]
  },
  {
   "cell_type": "markdown",
   "metadata": {
    "id": "USezczz5sDcf"
   },
   "source": [
    "# Implement Toy Model (RF)"
   ]
  },
  {
   "cell_type": "code",
<<<<<<< HEAD
   "execution_count": 19,
=======
   "execution_count": 12,
>>>>>>> c2753bb2ef3e2a574bf3c85e23722f218d5c4d5a
   "metadata": {
    "id": "kFHcxYL5Kuxq"
   },
   "outputs": [],
   "source": [
    "from sklearn.ensemble import RandomForestClassifier \n",
    "\n",
    "classifier = RandomForestClassifier (n_estimators=20, random_state=0)\n",
<<<<<<< HEAD
    "classifier.fit(X_train, y_train)\n",
    "y_pred = classifier.predict(X_test)"
=======
    "classifier.fit(encoded_XTrain_h_avg, y_train)\n",
    "y_pred = classifier.predict(encoded_XTest_h_avg)"
>>>>>>> c2753bb2ef3e2a574bf3c85e23722f218d5c4d5a
   ]
  },
  {
   "cell_type": "code",
   "execution_count": 13,
   "metadata": {
    "colab": {
     "base_uri": "https://localhost:8080/",
     "height": 199
    },
    "id": "10ktAnKgVAO4",
    "outputId": "14b17d9d-2fce-4a10-ac95-98676008c006"
   },
   "outputs": [
    {
     "name": "stdout",
     "output_type": "stream",
     "text": [
      "              precision    recall  f1-score   support\n",
      "\n",
      "           0       0.85      0.81      0.83        27\n",
      "           1       0.77      0.81      0.79        21\n",
      "\n",
      "    accuracy                           0.81        48\n",
      "   macro avg       0.81      0.81      0.81        48\n",
      "weighted avg       0.81      0.81      0.81        48\n",
      "\n",
      "0.8125\n"
     ]
    }
   ],
   "source": [
    "from sklearn.metrics import classification_report, confusion_matrix, accuracy_score\n",
    "print(classification_report(y_test,y_pred))\n",
    "print(accuracy_score(y_test, y_pred))"
   ]
  },
  {
   "cell_type": "code",
<<<<<<< HEAD
   "execution_count": 21,
=======
   "execution_count": 14,
>>>>>>> c2753bb2ef3e2a574bf3c85e23722f218d5c4d5a
   "metadata": {
    "colab": {
     "base_uri": "https://localhost:8080/",
     "height": 368
    },
    "id": "ixPo2uVxYeFh",
    "outputId": "8da1e5b7-7944-4a92-fb0f-5cc7ad0f42cb"
   },
   "outputs": [
    {
     "name": "stdout",
     "output_type": "stream",
     "text": [
<<<<<<< HEAD
      "[[3838  462]\n",
      " [ 560 3629]]\n"
=======
      "[[22  5]\n",
      " [ 4 17]]\n"
>>>>>>> c2753bb2ef3e2a574bf3c85e23722f218d5c4d5a
     ]
    },
    {
     "data": {
<<<<<<< HEAD
      "image/png": "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\n",
=======
      "image/png": "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\n",
>>>>>>> c2753bb2ef3e2a574bf3c85e23722f218d5c4d5a
      "text/plain": [
       "<Figure size 432x288 with 2 Axes>"
      ]
     },
     "metadata": {
<<<<<<< HEAD
      "needs_background": "light"
=======
      "needs_background": "light",
      "tags": []
>>>>>>> c2753bb2ef3e2a574bf3c85e23722f218d5c4d5a
     },
     "output_type": "display_data"
    }
   ],
   "source": [
    "from sklearn.metrics import plot_confusion_matrix\n",
    "\n",
    "class_names = ['AMPs', 'NonAMPs']\n",
    "\n",
<<<<<<< HEAD
    "disp = plot_confusion_matrix(classifier, X_test, y_test,\n",
=======
    "disp = plot_confusion_matrix(classifier, encoded_XTest_h_avg, y_test,\n",
>>>>>>> c2753bb2ef3e2a574bf3c85e23722f218d5c4d5a
    "                            display_labels = class_names,\n",
    "                            cmap=plt.cm.Blues, xticks_rotation='vertical')\n",
    "\n",
    "disp.ax_.set_title(\" Confusion Matrix\")\n",
    "\n",
    "print(disp.confusion_matrix)\n",
    "plt.grid(False)\n",
    "plt.show()"
   ]
  },
  {
   "cell_type": "code",
   "execution_count": 15,
   "metadata": {
    "id": "6GphX08VYb3X"
   },
   "outputs": [],
   "source": [
    "#import scikitplot as skplt\n",
    "#skplt.metrics.plot_roc([], y_pred)"
   ]
  },
  {
   "cell_type": "code",
   "execution_count": null,
   "metadata": {
    "id": "tUvj2NBsZ0eN"
   },
   "outputs": [],
   "source": [
    "y_pred"
   ]
  },
  {
   "cell_type": "code",
   "execution_count": null,
   "metadata": {
    "id": "M_Ny3CpzZzP6"
   },
   "outputs": [],
   "source": [
    "y_test.to_numpy()"
   ]
  },
  {
   "cell_type": "markdown",
   "metadata": {
    "id": "meZM3nv9VAjg"
   },
   "source": [
    "# Custom Build"
   ]
  },
  {
   "cell_type": "code",
   "execution_count": null,
   "metadata": {
    "id": "2CE6N6SGsNvn"
   },
   "outputs": [],
   "source": [
    "## 1. Evotuning with Optuna\n",
    "PROJECT_NAME = \"temp\"\n",
    "n_epochs_config = {\"low\": 1, \"high\": 1}\n",
    "lr_config = {\"low\": 1e-5, \"high\": 1e-3}\n",
    "study, evotuned_params = evotune(\n",
    "    sequences=X_test,\n",
    "    params=None,\n",
    "    proj_name=PROJECT_NAME,\n",
    "    out_dom_seqs=X_val,\n",
    "    n_trials=2,\n",
    "    n_splits=2,\n",
    "    n_epochs_config=n_epochs_config,\n",
    "    learning_rate_config=lr_config,\n",
    "    epochs_per_print=1,\n",
    ")\n",
    "\n",
    "dump_params(evotuned_params, PROJECT_NAME)\n",
    "print(\"Evotuning done! Find output weights in\", PROJECT_NAME)\n",
    "print(study.trials_dataframe())\n"
   ]
  },
  {
   "cell_type": "code",
   "execution_count": null,
   "metadata": {
    "id": "iYU8Wttw4syV"
   },
   "outputs": [],
   "source": [
    "from jax.experimental import stax\n",
    "from jax.experimental.stax import Dense, Relu, Sigmoid\n",
    "\n",
    "from jax_unirep.layers import mLSTM1900, mLSTM1900_AvgHidden\n",
    "\n",
    "init_fun, apply_fun = stax.serial(\n",
    "    mLSTM1900(),\n",
    "    mLSTM1900_AvgHidden(),\n",
    "    # Add two layers, one dense layer that results in 512-dim activations\n",
    "    Dense(512), Relu(),\n",
    "    # And then a linear layer to produce a 1-dim activation\n",
    "    Dense(1)\n",
    ")"
   ]
  }
 ],
 "metadata": {
  "accelerator": "GPU",
  "colab": {
   "name": "jax-unirep.ipynb",
   "provenance": [],
   "toc_visible": true
  },
  "kernelspec": {
   "display_name": "Python 3",
   "language": "python",
   "name": "python3"
  },
  "language_info": {
   "codemirror_mode": {
    "name": "ipython",
    "version": 3
   },
   "file_extension": ".py",
   "mimetype": "text/x-python",
   "name": "python",
   "nbconvert_exporter": "python",
   "pygments_lexer": "ipython3",
<<<<<<< HEAD
   "version": "3.8.5"
=======
   "version": "3.7.6"
>>>>>>> c2753bb2ef3e2a574bf3c85e23722f218d5c4d5a
  }
 },
 "nbformat": 4,
 "nbformat_minor": 4
}
