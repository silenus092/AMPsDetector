{
 "cells": [
  {
   "cell_type": "code",
   "execution_count": 1,
   "metadata": {
    "id": "DDCRQnyeZS5x"
   },
   "outputs": [
    {
     "name": "stdout",
     "output_type": "stream",
     "text": [
      "Collecting scikit-plot\n",
      "  Downloading scikit_plot-0.3.7-py3-none-any.whl (33 kB)\n",
      "Collecting scipy>=0.9\n",
      "  Downloading scipy-1.5.2-cp38-cp38-manylinux1_x86_64.whl (25.7 MB)\n",
      "\u001b[K     |████████████████████████████████| 25.7 MB 12.9 MB/s eta 0:00:01\n",
      "\u001b[?25hRequirement already satisfied: matplotlib>=1.4.0 in /mnt/biolibs/conda/kongkitimanonk/.conda/envs/jupyter_NB/lib/python3.8/site-packages (from scikit-plot) (3.3.2)\n",
      "Collecting scikit-learn>=0.18\n",
      "  Downloading scikit_learn-0.23.2-cp38-cp38-manylinux1_x86_64.whl (6.8 MB)\n",
      "\u001b[K     |████████████████████████████████| 6.8 MB 17.1 MB/s eta 0:00:01\n",
      "\u001b[?25hCollecting joblib>=0.10\n",
      "  Downloading joblib-0.17.0-py3-none-any.whl (301 kB)\n",
      "\u001b[K     |████████████████████████████████| 301 kB 39.0 MB/s eta 0:00:01\n",
      "\u001b[?25hRequirement already satisfied: numpy>=1.14.5 in /mnt/biolibs/conda/kongkitimanonk/.conda/envs/jupyter_NB/lib/python3.8/site-packages (from scipy>=0.9->scikit-plot) (1.19.1)\n",
      "Requirement already satisfied: cycler>=0.10 in /mnt/biolibs/conda/kongkitimanonk/.conda/envs/jupyter_NB/lib/python3.8/site-packages (from matplotlib>=1.4.0->scikit-plot) (0.10.0)\n",
      "Requirement already satisfied: python-dateutil>=2.1 in /mnt/biolibs/conda/kongkitimanonk/.conda/envs/jupyter_NB/lib/python3.8/site-packages (from matplotlib>=1.4.0->scikit-plot) (2.8.1)\n",
      "Requirement already satisfied: pillow>=6.2.0 in /mnt/biolibs/conda/kongkitimanonk/.conda/envs/jupyter_NB/lib/python3.8/site-packages (from matplotlib>=1.4.0->scikit-plot) (7.2.0)\n",
      "Requirement already satisfied: certifi>=2020.06.20 in /mnt/biolibs/conda/kongkitimanonk/.conda/envs/jupyter_NB/lib/python3.8/site-packages (from matplotlib>=1.4.0->scikit-plot) (2020.6.20)\n",
      "Requirement already satisfied: kiwisolver>=1.0.1 in /mnt/biolibs/conda/kongkitimanonk/.conda/envs/jupyter_NB/lib/python3.8/site-packages (from matplotlib>=1.4.0->scikit-plot) (1.2.0)\n",
      "Requirement already satisfied: pyparsing!=2.0.4,!=2.1.2,!=2.1.6,>=2.0.3 in /mnt/biolibs/conda/kongkitimanonk/.conda/envs/jupyter_NB/lib/python3.8/site-packages (from matplotlib>=1.4.0->scikit-plot) (2.4.7)\n",
      "Collecting threadpoolctl>=2.0.0\n",
      "  Downloading threadpoolctl-2.1.0-py3-none-any.whl (12 kB)\n",
      "Requirement already satisfied: six in /mnt/biolibs/conda/kongkitimanonk/.conda/envs/jupyter_NB/lib/python3.8/site-packages (from cycler>=0.10->matplotlib>=1.4.0->scikit-plot) (1.15.0)\n",
      "Installing collected packages: scipy, joblib, threadpoolctl, scikit-learn, scikit-plot\n",
      "Successfully installed joblib-0.17.0 scikit-learn-0.23.2 scikit-plot-0.3.7 scipy-1.5.2 threadpoolctl-2.1.0\n"
     ]
    }
   ],
   "source": [
    "!pip install scikit-plot"
   ]
  },
  {
   "cell_type": "code",
   "execution_count": 2,
   "metadata": {
    "id": "5PrTLq_V4oU5"
   },
   "outputs": [
    {
     "name": "stdout",
     "output_type": "stream",
     "text": [
      "Collecting jax-unirep\n",
      "  Downloading jax_unirep-1.0.3-py3-none-any.whl (67.7 MB)\n",
      "\u001b[K     |████████████████████████████████| 67.7 MB 986 kB/s eta 0:00:011    |██████▌                         | 13.8 MB 8.8 MB/s eta 0:00:07     |███████████████████             | 40.0 MB 21.9 MB/s eta 0:00:02     |███████████████████████▉        | 50.4 MB 21.9 MB/s eta 0:00:01\n",
      "\u001b[?25hCollecting jaxlib\n",
      "  Downloading jaxlib-0.1.55-cp38-none-manylinux2010_x86_64.whl (31.9 MB)\n",
      "\u001b[K     |████████████████████████████████| 31.9 MB 17.4 MB/s eta 0:00:01    |▊                               | 706 kB 14.7 MB/s eta 0:00:03     |██████████████████████████████  | 30.0 MB 17.4 MB/s eta 0:00:01\n",
      "\u001b[?25hCollecting tqdm\n",
      "  Downloading tqdm-4.50.2-py2.py3-none-any.whl (70 kB)\n",
      "\u001b[K     |████████████████████████████████| 70 kB 14.1 MB/s eta 0:00:01\n",
      "\u001b[?25hCollecting optuna\n",
      "  Downloading optuna-2.2.0.tar.gz (246 kB)\n",
      "\u001b[K     |████████████████████████████████| 246 kB 33.7 MB/s eta 0:00:01\n",
      "\u001b[?25h  Installing build dependencies ... \u001b[?25ldone\n",
      "\u001b[?25h  Getting requirements to build wheel ... \u001b[?25ldone\n",
      "\u001b[?25h    Preparing wheel metadata ... \u001b[?25ldone\n",
      "\u001b[?25hCollecting multipledispatch\n",
      "  Downloading multipledispatch-0.6.0-py3-none-any.whl (11 kB)\n",
      "Collecting jax<0.2.0\n",
      "  Downloading jax-0.1.77.tar.gz (448 kB)\n",
      "\u001b[K     |████████████████████████████████| 448 kB 35.4 MB/s eta 0:00:01\n",
      "\u001b[?25hRequirement already satisfied: numpy in /mnt/biolibs/conda/kongkitimanonk/.conda/envs/jupyter_NB/lib/python3.8/site-packages (from jax-unirep) (1.19.1)\n",
      "Requirement already satisfied: scikit-learn in /mnt/biolibs/conda/kongkitimanonk/.conda/envs/jupyter_NB/lib/python3.8/site-packages (from jax-unirep) (0.23.2)\n",
      "Collecting absl-py\n",
      "  Downloading absl_py-0.10.0-py3-none-any.whl (127 kB)\n",
      "\u001b[K     |████████████████████████████████| 127 kB 32.0 MB/s eta 0:00:01\n",
      "\u001b[?25hRequirement already satisfied: scipy in /mnt/biolibs/conda/kongkitimanonk/.conda/envs/jupyter_NB/lib/python3.8/site-packages (from jaxlib->jax-unirep) (1.5.2)\n",
      "Collecting sqlalchemy>=1.1.0\n",
      "  Downloading SQLAlchemy-1.3.20-cp38-cp38-manylinux2010_x86_64.whl (1.3 MB)\n",
      "\u001b[K     |████████████████████████████████| 1.3 MB 39.0 MB/s eta 0:00:01\n",
      "\u001b[?25hCollecting alembic\n",
      "  Downloading alembic-1.4.3-py2.py3-none-any.whl (159 kB)\n",
      "\u001b[K     |████████████████████████████████| 159 kB 34.1 MB/s eta 0:00:01\n",
      "\u001b[?25hRequirement already satisfied: packaging>=20.0 in /mnt/biolibs/conda/kongkitimanonk/.conda/envs/jupyter_NB/lib/python3.8/site-packages (from optuna->jax-unirep) (20.4)\n",
      "Collecting cmaes>=0.6.0\n",
      "  Downloading cmaes-0.6.1-py3-none-any.whl (9.7 kB)\n",
      "Collecting colorlog\n",
      "  Downloading colorlog-4.4.0-py2.py3-none-any.whl (14 kB)\n",
      "Requirement already satisfied: joblib in /mnt/biolibs/conda/kongkitimanonk/.conda/envs/jupyter_NB/lib/python3.8/site-packages (from optuna->jax-unirep) (0.17.0)\n",
      "Collecting cliff\n",
      "  Downloading cliff-3.4.0-py3-none-any.whl (76 kB)\n",
      "\u001b[K     |████████████████████████████████| 76 kB 6.1 MB/s  eta 0:00:01\n",
      "\u001b[?25hRequirement already satisfied: six in /mnt/biolibs/conda/kongkitimanonk/.conda/envs/jupyter_NB/lib/python3.8/site-packages (from multipledispatch->jax-unirep) (1.15.0)\n",
      "Collecting opt_einsum\n",
      "  Downloading opt_einsum-3.3.0-py3-none-any.whl (65 kB)\n",
      "\u001b[K     |████████████████████████████████| 65 kB 4.1 MB/s eta 0:00:011\n",
      "\u001b[?25hRequirement already satisfied: threadpoolctl>=2.0.0 in /mnt/biolibs/conda/kongkitimanonk/.conda/envs/jupyter_NB/lib/python3.8/site-packages (from scikit-learn->jax-unirep) (2.1.0)\n",
      "Requirement already satisfied: python-dateutil in /mnt/biolibs/conda/kongkitimanonk/.conda/envs/jupyter_NB/lib/python3.8/site-packages (from alembic->optuna->jax-unirep) (2.8.1)\n",
      "Collecting Mako\n",
      "  Downloading Mako-1.1.3-py2.py3-none-any.whl (75 kB)\n",
      "\u001b[K     |████████████████████████████████| 75 kB 7.8 MB/s  eta 0:00:01\n",
      "\u001b[?25hCollecting python-editor>=0.3\n",
      "  Downloading python_editor-1.0.4-py3-none-any.whl (4.9 kB)\n",
      "Requirement already satisfied: pyparsing>=2.0.2 in /mnt/biolibs/conda/kongkitimanonk/.conda/envs/jupyter_NB/lib/python3.8/site-packages (from packaging>=20.0->optuna->jax-unirep) (2.4.7)\n",
      "Requirement already satisfied: PyYAML>=3.12 in /mnt/biolibs/conda/kongkitimanonk/.conda/envs/jupyter_NB/lib/python3.8/site-packages (from cliff->optuna->jax-unirep) (5.3.1)\n",
      "Collecting stevedore>=2.0.1\n",
      "  Downloading stevedore-3.2.2-py3-none-any.whl (42 kB)\n",
      "\u001b[K     |████████████████████████████████| 42 kB 1.8 MB/s  eta 0:00:01\n",
      "\u001b[?25hCollecting pbr!=2.1.0,>=2.0.0\n",
      "  Downloading pbr-5.5.0-py2.py3-none-any.whl (106 kB)\n",
      "\u001b[K     |████████████████████████████████| 106 kB 23.8 MB/s eta 0:00:01\n",
      "\u001b[?25hCollecting cmd2!=0.8.3,>=0.8.0\n",
      "  Downloading cmd2-1.3.11-py3-none-any.whl (133 kB)\n",
      "\u001b[K     |████████████████████████████████| 133 kB 25.3 MB/s eta 0:00:01\n",
      "\u001b[?25hCollecting PrettyTable<0.8,>=0.7.2\n",
      "  Downloading prettytable-0.7.2.tar.bz2 (21 kB)\n",
      "Requirement already satisfied: MarkupSafe>=0.9.2 in /mnt/biolibs/conda/kongkitimanonk/.conda/envs/jupyter_NB/lib/python3.8/site-packages (from Mako->alembic->optuna->jax-unirep) (1.1.1)\n",
      "Collecting pyperclip>=1.6\n",
      "  Downloading pyperclip-1.8.1.tar.gz (20 kB)\n",
      "Requirement already satisfied: colorama>=0.3.7 in /mnt/biolibs/conda/kongkitimanonk/.conda/envs/jupyter_NB/lib/python3.8/site-packages (from cmd2!=0.8.3,>=0.8.0->cliff->optuna->jax-unirep) (0.4.3)\n",
      "Requirement already satisfied: attrs>=16.3.0 in /mnt/biolibs/conda/kongkitimanonk/.conda/envs/jupyter_NB/lib/python3.8/site-packages (from cmd2!=0.8.3,>=0.8.0->cliff->optuna->jax-unirep) (20.2.0)\n",
      "Requirement already satisfied: setuptools>=34.4 in /mnt/biolibs/conda/kongkitimanonk/.conda/envs/jupyter_NB/lib/python3.8/site-packages (from cmd2!=0.8.3,>=0.8.0->cliff->optuna->jax-unirep) (49.6.0.post20200917)\n",
      "Requirement already satisfied: wcwidth>=0.1.7 in /mnt/biolibs/conda/kongkitimanonk/.conda/envs/jupyter_NB/lib/python3.8/site-packages (from cmd2!=0.8.3,>=0.8.0->cliff->optuna->jax-unirep) (0.2.5)\n",
      "Building wheels for collected packages: optuna, jax, PrettyTable, pyperclip\n",
      "  Building wheel for optuna (PEP 517) ... \u001b[?25ldone\n",
      "\u001b[?25h  Created wheel for optuna: filename=optuna-2.2.0-py3-none-any.whl size=340874 sha256=a253768d69acf15628feed4e46b0b2481ec10e2a1726f3b9ece3b8b13abf6ad5\n",
      "  Stored in directory: /home/kongkitimanonk/.cache/pip/wheels/15/45/54/39f8af31973192855ef1ab8eada6eac2dbe056b4eaab5af5a7\n",
      "  Building wheel for jax (setup.py) ... \u001b[?25ldone\n",
      "\u001b[?25h  Created wheel for jax: filename=jax-0.1.77-py3-none-any.whl size=516859 sha256=415d91ef67697483adf3369393063e191a73ba0a21d9020b0c5bf429d013c8f7\n",
      "  Stored in directory: /home/kongkitimanonk/.cache/pip/wheels/10/87/d5/b244a963bbfe76adb31fc08a0d3559fac6c1e978c5625f6ea2\n",
      "  Building wheel for PrettyTable (setup.py) ... \u001b[?25ldone\n",
      "\u001b[?25h  Created wheel for PrettyTable: filename=prettytable-0.7.2-py3-none-any.whl size=13700 sha256=c79365ac5be1dbc5ec6911596909ba1eb6d396df3388ad97488af9785054014d\n",
      "  Stored in directory: /home/kongkitimanonk/.cache/pip/wheels/46/60/6c/bb25d05df22906786206e901e9354bb3061061191116768bee\n",
      "  Building wheel for pyperclip (setup.py) ... \u001b[?25ldone\n",
      "\u001b[?25h  Created wheel for pyperclip: filename=pyperclip-1.8.1-py3-none-any.whl size=11119 sha256=7f8aa59c56a2d76b85a3f0add93fb136f4af391d2b999caf0a4cf02095c3adf7\n",
      "  Stored in directory: /home/kongkitimanonk/.cache/pip/wheels/67/0c/ba/1468f38115898442e13f99a19a8dcf1e0ca73488053ef7b388\n",
      "Successfully built optuna jax PrettyTable pyperclip\n",
      "Installing collected packages: absl-py, jaxlib, tqdm, sqlalchemy, Mako, python-editor, alembic, cmaes, colorlog, pbr, stevedore, pyperclip, cmd2, PrettyTable, cliff, optuna, multipledispatch, opt-einsum, jax, jax-unirep\n",
      "Successfully installed Mako-1.1.3 PrettyTable-0.7.2 absl-py-0.10.0 alembic-1.4.3 cliff-3.4.0 cmaes-0.6.1 cmd2-1.3.11 colorlog-4.4.0 jax-0.1.77 jax-unirep-1.0.3 jaxlib-0.1.55 multipledispatch-0.6.0 opt-einsum-3.3.0 optuna-2.2.0 pbr-5.5.0 pyperclip-1.8.1 python-editor-1.0.4 sqlalchemy-1.3.20 stevedore-3.2.2 tqdm-4.50.2\n"
     ]
    }
   ],
   "source": [
    "!pip install jax-unirep"
   ]
  },
  {
   "cell_type": "markdown",
   "metadata": {
    "id": "HGOsaByCvPDu"
   },
   "source": [
    "Try to deal with GPU memory \n",
    "accroading to https://jax.readthedocs.io/en/latest/gpu_memory_allocation.html"
   ]
  },
  {
   "cell_type": "code",
   "execution_count": 1,
   "metadata": {
    "id": "kvLpExG9qgyo"
   },
   "outputs": [],
   "source": [
    "import os\n",
    "os.environ['XLA_PYTHON_CLIENT_PREALLOCATE']='False'\n",
    "os.environ['XLA_PYTHON_CLIENT_MEM_FRACTION']='.80'"
   ]
  },
  {
   "cell_type": "code",
   "execution_count": 3,
   "metadata": {
    "id": "Uq49wrJkr20U"
   },
   "outputs": [
    {
     "name": "stderr",
     "output_type": "stream",
     "text": [
      "/home/kongkitimanonk/.conda/envs/jupyter_NB/lib/python3.8/site-packages/jax/lib/xla_bridge.py:130: UserWarning: No GPU/TPU found, falling back to CPU.\n",
      "  warnings.warn('No GPU/TPU found, falling back to CPU.')\n"
     ]
    }
   ],
   "source": [
    "import numpy as np\n",
    "import pandas as pd\n",
    "import csv\n",
    "import matplotlib.pyplot as plt\n",
    "from sklearn.model_selection import train_test_split\n",
    "from jax_unirep import get_reps\n",
    "  \n",
    "from jax_unirep import evotune, fit\n",
    "from jax_unirep.utils import dump_params"
   ]
  },
  {
   "cell_type": "code",
   "execution_count": 4,
   "metadata": {
    "id": "gr1pgcdC45lA"
   },
   "outputs": [],
   "source": [
    "#db_path=\"AMPS_NonAMPs.ready.csv\"\n",
    "db_path=\"/home/kongkitimanonk/SCRATCH_NOBAK/datasets/phase2/AMPS_NonAMPs.ready.csv\""
   ]
  },
  {
   "cell_type": "code",
   "execution_count": 5,
   "metadata": {
    "colab": {
     "base_uri": "https://localhost:8080/",
     "height": 565
    },
    "id": "n-luJbmp4clD",
    "outputId": "3206bd02-cf62-4c69-93fc-ba645b2a8923"
   },
   "outputs": [
    {
     "data": {
      "text/html": [
       "<div>\n",
       "<style scoped>\n",
       "    .dataframe tbody tr th:only-of-type {\n",
       "        vertical-align: middle;\n",
       "    }\n",
       "\n",
       "    .dataframe tbody tr th {\n",
       "        vertical-align: top;\n",
       "    }\n",
       "\n",
       "    .dataframe thead th {\n",
       "        text-align: right;\n",
       "    }\n",
       "</style>\n",
       "<table border=\"1\" class=\"dataframe\">\n",
       "  <thead>\n",
       "    <tr style=\"text-align: right;\">\n",
       "      <th></th>\n",
       "      <th>ID</th>\n",
       "      <th>Sequence</th>\n",
       "      <th>length</th>\n",
       "      <th>class</th>\n",
       "    </tr>\n",
       "  </thead>\n",
       "  <tbody>\n",
       "    <tr>\n",
       "      <th>0</th>\n",
       "      <td>EN92515250|C|B3FJD7|phage 201phi2-1 lysin</td>\n",
       "      <td>MAKKSVPLRKPAGSDGQGNIKVPGGPVVLDLGDFDDIFGPMESESP...</td>\n",
       "      <td>2337</td>\n",
       "      <td>0</td>\n",
       "    </tr>\n",
       "    <tr>\n",
       "      <th>1</th>\n",
       "      <td>EN54061055|C|F8SJ56|phage PhiPA3 lysin</td>\n",
       "      <td>MASKKTTLPKPKGINPQGSIVQLDLDDFDDLFDEDFGLPKKNSPYT...</td>\n",
       "      <td>2319</td>\n",
       "      <td>0</td>\n",
       "    </tr>\n",
       "    <tr>\n",
       "      <th>2</th>\n",
       "      <td>EN4815120|C|Q8SCY1|phage phiKZ lysin</td>\n",
       "      <td>MAKKVTLPKGQTGATGTTLGQAGNILDLSDVDDIFGDTPKAKKGSP...</td>\n",
       "      <td>2237</td>\n",
       "      <td>0</td>\n",
       "    </tr>\n",
       "    <tr>\n",
       "      <th>3</th>\n",
       "      <td>EN3016141|D|D2J8A7|bacteriocin</td>\n",
       "      <td>MAETIKGLRIDLSLKDMGVGRSITELKRSFRTLNSDLKVSSKNFEY...</td>\n",
       "      <td>1619</td>\n",
       "      <td>0</td>\n",
       "    </tr>\n",
       "    <tr>\n",
       "      <th>4</th>\n",
       "      <td>EN9175723|BD|Q93IM3|bacteriocin</td>\n",
       "      <td>MAKKKNTYKVPSIIALTLAGTALTTHHAQAADKTQDQSTNKNILND...</td>\n",
       "      <td>1564</td>\n",
       "      <td>0</td>\n",
       "    </tr>\n",
       "    <tr>\n",
       "      <th>...</th>\n",
       "      <td>...</td>\n",
       "      <td>...</td>\n",
       "      <td>...</td>\n",
       "      <td>...</td>\n",
       "    </tr>\n",
       "    <tr>\n",
       "      <th>42440</th>\n",
       "      <td>UniRef50_A0A151HEL5 Zinc finger  C3HC4 type (R...</td>\n",
       "      <td>GLYFRPRRRASS</td>\n",
       "      <td>12</td>\n",
       "      <td>1</td>\n",
       "    </tr>\n",
       "    <tr>\n",
       "      <th>42441</th>\n",
       "      <td>UniRef50_K2MU79 Retrotransposon hot spot (RHS)...</td>\n",
       "      <td>MESNPMTLVGCG</td>\n",
       "      <td>12</td>\n",
       "      <td>1</td>\n",
       "    </tr>\n",
       "    <tr>\n",
       "      <th>42442</th>\n",
       "      <td>UniRef50_A0A1E1IUT2 Flagellar calcium-binding ...</td>\n",
       "      <td>IRCVGHWMQAEH</td>\n",
       "      <td>12</td>\n",
       "      <td>1</td>\n",
       "    </tr>\n",
       "    <tr>\n",
       "      <th>42443</th>\n",
       "      <td>UniRef50_A0A0S4ITT4 Dopa decarboxylase  putati...</td>\n",
       "      <td>APWSASTLHCPG</td>\n",
       "      <td>12</td>\n",
       "      <td>1</td>\n",
       "    </tr>\n",
       "    <tr>\n",
       "      <th>42444</th>\n",
       "      <td>UniRef50_P86818 [Ala1 Thr6]-phyllokinin n=1 Ta...</td>\n",
       "      <td>APPGFTPFRIY</td>\n",
       "      <td>11</td>\n",
       "      <td>1</td>\n",
       "    </tr>\n",
       "  </tbody>\n",
       "</table>\n",
       "<p>42445 rows × 4 columns</p>\n",
       "</div>"
      ],
      "text/plain": [
       "                                                      ID  \\\n",
       "0              EN92515250|C|B3FJD7|phage 201phi2-1 lysin   \n",
       "1                 EN54061055|C|F8SJ56|phage PhiPA3 lysin   \n",
       "2                   EN4815120|C|Q8SCY1|phage phiKZ lysin   \n",
       "3                         EN3016141|D|D2J8A7|bacteriocin   \n",
       "4                        EN9175723|BD|Q93IM3|bacteriocin   \n",
       "...                                                  ...   \n",
       "42440  UniRef50_A0A151HEL5 Zinc finger  C3HC4 type (R...   \n",
       "42441  UniRef50_K2MU79 Retrotransposon hot spot (RHS)...   \n",
       "42442  UniRef50_A0A1E1IUT2 Flagellar calcium-binding ...   \n",
       "42443  UniRef50_A0A0S4ITT4 Dopa decarboxylase  putati...   \n",
       "42444  UniRef50_P86818 [Ala1 Thr6]-phyllokinin n=1 Ta...   \n",
       "\n",
       "                                                Sequence  length  class  \n",
       "0      MAKKSVPLRKPAGSDGQGNIKVPGGPVVLDLGDFDDIFGPMESESP...    2337      0  \n",
       "1      MASKKTTLPKPKGINPQGSIVQLDLDDFDDLFDEDFGLPKKNSPYT...    2319      0  \n",
       "2      MAKKVTLPKGQTGATGTTLGQAGNILDLSDVDDIFGDTPKAKKGSP...    2237      0  \n",
       "3      MAETIKGLRIDLSLKDMGVGRSITELKRSFRTLNSDLKVSSKNFEY...    1619      0  \n",
       "4      MAKKKNTYKVPSIIALTLAGTALTTHHAQAADKTQDQSTNKNILND...    1564      0  \n",
       "...                                                  ...     ...    ...  \n",
       "42440                                       GLYFRPRRRASS      12      1  \n",
       "42441                                       MESNPMTLVGCG      12      1  \n",
       "42442                                       IRCVGHWMQAEH      12      1  \n",
       "42443                                       APWSASTLHCPG      12      1  \n",
       "42444                                        APPGFTPFRIY      11      1  \n",
       "\n",
       "[42445 rows x 4 columns]"
      ]
     },
     "execution_count": 5,
     "metadata": {},
     "output_type": "execute_result"
    }
   ],
   "source": [
    "AMPs_df=pd.read_csv(db_path,sep=',',header=0,quoting=csv.QUOTE_ALL)\n",
    "AMPs_df # Class 0= AMPs , 1=NonAMps"
   ]
  },
  {
   "cell_type": "markdown",
   "metadata": {
    "id": "hOUER8lwsVO7"
   },
   "source": [
    "## **Experimental testing**:\n",
    " Right now we cannot feed all datasets into jax-unirep, so I use\n",
    "a simple random sampling (remove some datasets) and get seq. only length is less than ....\n",
    "\n",
    "due to out-of-memory(OOM) failures (GPU memory leak or GPU doesn't have enough memory) I got the error like this\n",
    "```\n",
    "RuntimeError: Resource exhausted: Out of memory while trying to allocate 18053216 bytes.\n",
    "or\n",
    "Out of memory while trying to allocate 340000000 bytes.\n",
    "```\n",
    "* Discussion in gihub https://github.com/ElArkk/jax-unirep/issues/44 \n",
    "* GPU memory allocation https://jax.readthedocs.io/en/latest/gpu_memory_allocation.html\n",
    "\n",
    "However,we can use CPU, it works but it takes forever. \n",
    "\n",
    "In the original UniRep, they mention about the full-sized model (mLSTM1900) requires a machine with more than 16GB of GPU RAM (https://github.com/churchlab/UniRep)\n",
    "\n",
    "\n",
    "**In Google Colab(GPU and TPU)** , I successfully  test with ~250-300 datasets , above of this will cause OOM errors."
   ]
  },
  {
   "cell_type": "code",
   "execution_count": 5,
   "metadata": {
    "colab": {
     "base_uri": "https://localhost:8080/",
     "height": 669
    },
    "id": "YdjWsouoSu2g",
    "outputId": "2db11611-6c3f-4c69-a506-a90b309c6b63"
   },
   "outputs": [
    {
     "data": {
      "text/html": [
       "<div>\n",
       "<style scoped>\n",
       "    .dataframe tbody tr th:only-of-type {\n",
       "        vertical-align: middle;\n",
       "    }\n",
       "\n",
       "    .dataframe tbody tr th {\n",
       "        vertical-align: top;\n",
       "    }\n",
       "\n",
       "    .dataframe thead th {\n",
       "        text-align: right;\n",
       "    }\n",
       "</style>\n",
       "<table border=\"1\" class=\"dataframe\">\n",
       "  <thead>\n",
       "    <tr style=\"text-align: right;\">\n",
       "      <th></th>\n",
       "      <th>ID</th>\n",
       "      <th>Sequence</th>\n",
       "      <th>length</th>\n",
       "      <th>class</th>\n",
       "    </tr>\n",
       "  </thead>\n",
       "  <tbody>\n",
       "    <tr>\n",
       "      <th>2080</th>\n",
       "      <td>L01A002211|Sequence 1225 from patent US 6573361</td>\n",
       "      <td>MANTKSAIKRIKTIERNRIRNCAYKSVVKTFIKKYLKVLSDYTNAP...</td>\n",
       "      <td>95</td>\n",
       "      <td>0</td>\n",
       "    </tr>\n",
       "    <tr>\n",
       "      <th>2112</th>\n",
       "      <td>ADAM_0164|adam_test</td>\n",
       "      <td>AISYDQVKSSLLPCVGYVRGNNARPAPPNYCKGIRSLKSAARIRLD...</td>\n",
       "      <td>94</td>\n",
       "      <td>0</td>\n",
       "    </tr>\n",
       "    <tr>\n",
       "      <th>2223</th>\n",
       "      <td>ADAM_4403|adam_test</td>\n",
       "      <td>MKYCVVILALLVALVCITESRSTETGYAVAETLEDNDLDELQAYLE...</td>\n",
       "      <td>93</td>\n",
       "      <td>0</td>\n",
       "    </tr>\n",
       "    <tr>\n",
       "      <th>2232</th>\n",
       "      <td>ADAM_6138|adam_test</td>\n",
       "      <td>VGSEVSDKRTCVSLTTQRLPVSRIKTYTITEGSLRAVIFITKRGLK...</td>\n",
       "      <td>93</td>\n",
       "      <td>0</td>\n",
       "    </tr>\n",
       "    <tr>\n",
       "      <th>2315</th>\n",
       "      <td>L01A002317|Sequence 1515 from patent US 6573361</td>\n",
       "      <td>MGRSLKKGPFVAASLLRKIDKLNDKGDKQVVKTWSRASTILPQMVG...</td>\n",
       "      <td>92</td>\n",
       "      <td>0</td>\n",
       "    </tr>\n",
       "    <tr>\n",
       "      <th>...</th>\n",
       "      <td>...</td>\n",
       "      <td>...</td>\n",
       "      <td>...</td>\n",
       "      <td>...</td>\n",
       "    </tr>\n",
       "    <tr>\n",
       "      <th>41948</th>\n",
       "      <td>UniRef50_A0A2H3S7M8 Uncharacterized protein n=...</td>\n",
       "      <td>MPLAYCSYSYN</td>\n",
       "      <td>11</td>\n",
       "      <td>1</td>\n",
       "    </tr>\n",
       "    <tr>\n",
       "      <th>41950</th>\n",
       "      <td>UniRef50_A0A2H3SG47 Uncharacterized protein n=...</td>\n",
       "      <td>MASQYGWLNSL</td>\n",
       "      <td>11</td>\n",
       "      <td>1</td>\n",
       "    </tr>\n",
       "    <tr>\n",
       "      <th>42034</th>\n",
       "      <td>UniRef50_A0A0G4N8C6 Uncharacterized protein (F...</td>\n",
       "      <td>ARECSQGGSRP</td>\n",
       "      <td>11</td>\n",
       "      <td>1</td>\n",
       "    </tr>\n",
       "    <tr>\n",
       "      <th>42146</th>\n",
       "      <td>UniRef50_A2NU82 Myeloperoxidase n=1 Tax=Homo s...</td>\n",
       "      <td>MTAAGKGIREQ</td>\n",
       "      <td>11</td>\n",
       "      <td>1</td>\n",
       "    </tr>\n",
       "    <tr>\n",
       "      <th>42173</th>\n",
       "      <td>UniRef50_B7QLC4 Gamma-gliadin  putative (Fragm...</td>\n",
       "      <td>LVDVTNDQPFPQPLQPTAPPQTPQSTFIRPHQPPQPNAPFKINVPQ...</td>\n",
       "      <td>99</td>\n",
       "      <td>1</td>\n",
       "    </tr>\n",
       "  </tbody>\n",
       "</table>\n",
       "<p>239 rows × 4 columns</p>\n",
       "</div>"
      ],
      "text/plain": [
       "                                                      ID  ... class\n",
       "2080     L01A002211|Sequence 1225 from patent US 6573361  ...     0\n",
       "2112                                 ADAM_0164|adam_test  ...     0\n",
       "2223                                 ADAM_4403|adam_test  ...     0\n",
       "2232                                 ADAM_6138|adam_test  ...     0\n",
       "2315     L01A002317|Sequence 1515 from patent US 6573361  ...     0\n",
       "...                                                  ...  ...   ...\n",
       "41948  UniRef50_A0A2H3S7M8 Uncharacterized protein n=...  ...     1\n",
       "41950  UniRef50_A0A2H3SG47 Uncharacterized protein n=...  ...     1\n",
       "42034  UniRef50_A0A0G4N8C6 Uncharacterized protein (F...  ...     1\n",
       "42146  UniRef50_A2NU82 Myeloperoxidase n=1 Tax=Homo s...  ...     1\n",
       "42173  UniRef50_B7QLC4 Gamma-gliadin  putative (Fragm...  ...     1\n",
       "\n",
       "[239 rows x 4 columns]"
      ]
     },
     "execution_count": 5,
     "metadata": {
      "tags": []
     },
     "output_type": "execute_result"
    }
   ],
   "source": [
    "np.random.seed(10)\n",
    "AMPs_df = AMPs_df[AMPs_df['length']<275]\n",
    "remove_n = 40300\n",
    "drop_indices = np.random.choice(AMPs_df.index, remove_n, replace=False)\n",
    "AMPs_df = AMPs_df.drop(drop_indices)\n",
    "AMPs_df"
   ]
  },
  {
   "cell_type": "code",
   "execution_count": 6,
   "metadata": {},
   "outputs": [
    {
     "data": {
      "text/plain": [
       "'MAKKSVPLRKPAGSDGQGNIKVPGGPVVLDLGDFDDIFGPMESESPKQGPLGQFYTGLKDSLSDRFKTKDIVRNFLRSAAPDGISNVMGFADEAMAVTRDIKESLERTNAADLQYIAKKAQQILPQVKDYVSEDTYNNISEGLENKIDEYDYTIQSGRDQTAIRRARQEESDSNQIKAAMDNIALTERLNHNKSEQAANARHNQSRAENSIRDVLTTKRFDFMAKSMGMAVDSLQRLAGYNEQVDYGFQRKGLELQFRSYLGIKELVKLSEAHLELNARAYNSIVRNTALADHQKTNRKDLGQIGNGQSNSRGFASNAARAIGGKTLSQFYGNYSGNVQSRVTDSLSQKLGMAVQAIKMGEAGPNLWDNKYSFAGGIAGDFLSDFLLNDLVPMMGREARSPLTKLSNKYGGRHNQAGYLMDNMPAFMQEFVNNNQNQHGWKGSIRNLIAPYVPQFGLQDRLQNGTFQTIDQHAAFNQATQRSIVDAIPGYLARILQEMRMIRTGSDQVAREVFDMTTGKFGVEANMHDNIQNRILPENAVRSASATINDALNQIDKDGKLSAGARKALGERLLRDSSSNQRFDPEAYIRTRGYAQGTSPEVAAELEQHFRGQFEFDNKGKMADTAANHQLRQEFSQAFLDIRSISRDPIKEINRMINSGHTEPLRALGIIVTEKGYDRINYPRIWEILRSGVTGHNPYAPGGDGNDPNTIDRSGEAGHKSFMGPQHPGLVKAFAANKLDAFRTKYAPEEQAARDAMAKHLKAMRGRFGSASKNVQETFADLTGGKGTDYTPGIQSFSKMMSAGPGFGPQNLGGGYSSFVGQAVDDHKDSMQGYVANGMQQLTDLYSSFDPTQPVIKGIDFSMGDLIDINTKKIITKPSDITGEVINRLGQTVVTATEAAAGLLSPKGEVIVKAVEAGAAAISKAIGLNRKTNQSESSTDNESTDPNGAEQLNKQDWSLGPGENPIITARGMLNGDYRDAAGKIIDSIADISSDVYDKTGNLVLTAKEFANGLWSKRTGKRYRPTKGLSKLLALAKGASKFSGTNATSMGFAAMKFAGKAALGVASAAFNFVMDNQNAYLPGEPVPVITRRQLQAGEYYDDKGKTIEDFADVYSPIYNAQGEAVIAPELYKQLTNFDGSKHVLAKNRRIWAKFIMRPIRAVRDAYMRQTKRYYKWLGKTTAKAGGWLGGKLFGGFAKRGSNLLGSAFDSVEDPNTKAQIDATLMASQQQTSVMEQVLQAIQDLKPKELRKGSWQEQAARKMGLGSKDPKAAGKDGDEKQAGFLKRGLAGLASMLGLGNKGEDDDDDGFGLEDAADLADIGDAAGNARERGRRRRGGKRGWFGRMWDKAKGSKLGKWGGGLVEKAGQSRLGQMAGRGLAMAGESAAGRAGLGVVTQVAKRPTLWTAVAAASVGMGAYLYSSIKSSSGEFRRLRLAQYGIRGMRRELKVLELEALLEKYTDKNSDSPSFSLNGAGAKDILSIMGIDLDNQAEVQNFAKWLDLRFKPVYLAWIGGLNKIGQSQVKINEIDDKVPKELKADLLDSVRFPYNGDTPYAVLVNPFDPDDTPEPNAEYISKMFDELKAEYDPERKAAEAKVDKKGDGKGTMEKAAAAGTIGTAVATGNAAKDLVTKQAAAGDKNSDVLKTPLAATAAAASSMSGTIANLNERIGNSITGLQAIRMRAYGVQTLHLSDVRSLLALEAVYAKDLTAVDGVVDYNGDESKLLAAAGALLGKDTSVGSSDRPKLYNWLVQRFGPTFRAYYGTAKGLNPSAELKSMESKLSGADKVTVGQAVMGAVYRHDQTVWDSESIFDVKGPLSDLKRLADADLEQLRKDSAKEVIDSPTQKGSDQMAGKNAAETGGSFADKVVGTIKDTWNKTTETVSGAWNRASDAAQDTYAGAKIAIGMGPDYGEGGAKGGAVKSTGTGGTMLSGTGGKFEELPYPSANGSIKAAYPTLLAAGKMTGVPVDWLTVIAGIESNFNYDIKASTSSATGWYQFIDSTWDQVVKQYGAKYGIPGKQADPERKARKDPRASALMGAEFIKANYATVSKGIGRNDLTDTDIYMAHFLGPGGAIKFLKADPNAMAYKIFSKEYSANMAIFFVNSKPSQPRTISDVYKLFQAKMDKFWNTVGKGYRQGSGESPSNTANADAQTPGAVENSQTADEAAMKDKLKAEASNKDGMGSDTKGEQPAGGNSDIKQGDGTGSVQSLARNTAPMPGAPATGGGSSSSVSNTGTDSGAGTADSQQQAQLDAAQAQNTRRAAEVKRDQNVAADVNDIQVRQLNTLFEIRDLTQLQLDNSKDLLKAFTGGQSAGGQGSGNNMNPSTMQGRPAAQRESSVTLR'"
      ]
     },
     "execution_count": 6,
     "metadata": {},
     "output_type": "execute_result"
    }
   ],
   "source": [
    "AMPs_df.iloc[0]['Sequence']"
   ]
  },
  {
   "cell_type": "code",
   "execution_count": 7,
   "metadata": {},
   "outputs": [
    {
     "data": {
      "text/html": [
       "<div>\n",
       "<style scoped>\n",
       "    .dataframe tbody tr th:only-of-type {\n",
       "        vertical-align: middle;\n",
       "    }\n",
       "\n",
       "    .dataframe tbody tr th {\n",
       "        vertical-align: top;\n",
       "    }\n",
       "\n",
       "    .dataframe thead th {\n",
       "        text-align: right;\n",
       "    }\n",
       "</style>\n",
       "<table border=\"1\" class=\"dataframe\">\n",
       "  <thead>\n",
       "    <tr style=\"text-align: right;\">\n",
       "      <th></th>\n",
       "      <th>ID</th>\n",
       "      <th>Sequence</th>\n",
       "      <th>length</th>\n",
       "      <th>class</th>\n",
       "      <th>reps</th>\n",
       "    </tr>\n",
       "  </thead>\n",
       "  <tbody>\n",
       "    <tr>\n",
       "      <th>0</th>\n",
       "      <td>EN92515250|C|B3FJD7|phage 201phi2-1 lysin</td>\n",
       "      <td>MAKKSVPLRKPAGSDGQGNIKVPGGPVVLDLGDFDDIFGPMESESP...</td>\n",
       "      <td>2337</td>\n",
       "      <td>0</td>\n",
       "      <td>[0.0032203220762312412, 0.07328620553016663, 0...</td>\n",
       "    </tr>\n",
       "    <tr>\n",
       "      <th>1</th>\n",
       "      <td>EN54061055|C|F8SJ56|phage PhiPA3 lysin</td>\n",
       "      <td>MASKKTTLPKPKGINPQGSIVQLDLDDFDDLFDEDFGLPKKNSPYT...</td>\n",
       "      <td>2319</td>\n",
       "      <td>0</td>\n",
       "      <td>[0.0027930964715778828, 0.06916013360023499, 0...</td>\n",
       "    </tr>\n",
       "    <tr>\n",
       "      <th>2</th>\n",
       "      <td>EN4815120|C|Q8SCY1|phage phiKZ lysin</td>\n",
       "      <td>MAKKVTLPKGQTGATGTTLGQAGNILDLSDVDDIFGDTPKAKKGSP...</td>\n",
       "      <td>2237</td>\n",
       "      <td>0</td>\n",
       "      <td>[0.0023172732908278704, 0.05406315624713898, 0...</td>\n",
       "    </tr>\n",
       "    <tr>\n",
       "      <th>3</th>\n",
       "      <td>EN3016141|D|D2J8A7|bacteriocin</td>\n",
       "      <td>MAETIKGLRIDLSLKDMGVGRSITELKRSFRTLNSDLKVSSKNFEY...</td>\n",
       "      <td>1619</td>\n",
       "      <td>0</td>\n",
       "      <td>[0.014644640497863293, 0.07187927514314651, 0....</td>\n",
       "    </tr>\n",
       "    <tr>\n",
       "      <th>4</th>\n",
       "      <td>EN9175723|BD|Q93IM3|bacteriocin</td>\n",
       "      <td>MAKKKNTYKVPSIIALTLAGTALTTHHAQAADKTQDQSTNKNILND...</td>\n",
       "      <td>1564</td>\n",
       "      <td>0</td>\n",
       "      <td>[0.0062357354909181595, 0.01848522014915943, 0...</td>\n",
       "    </tr>\n",
       "    <tr>\n",
       "      <th>...</th>\n",
       "      <td>...</td>\n",
       "      <td>...</td>\n",
       "      <td>...</td>\n",
       "      <td>...</td>\n",
       "      <td>...</td>\n",
       "    </tr>\n",
       "    <tr>\n",
       "      <th>42440</th>\n",
       "      <td>UniRef50_A0A151HEL5 Zinc finger  C3HC4 type (R...</td>\n",
       "      <td>GLYFRPRRRASS</td>\n",
       "      <td>12</td>\n",
       "      <td>1</td>\n",
       "      <td>[0.0483490452170372, -0.007824046537280083, -0...</td>\n",
       "    </tr>\n",
       "    <tr>\n",
       "      <th>42441</th>\n",
       "      <td>UniRef50_K2MU79 Retrotransposon hot spot (RHS)...</td>\n",
       "      <td>MESNPMTLVGCG</td>\n",
       "      <td>12</td>\n",
       "      <td>1</td>\n",
       "      <td>[0.047337695956230164, -0.013988062739372253, ...</td>\n",
       "    </tr>\n",
       "    <tr>\n",
       "      <th>42442</th>\n",
       "      <td>UniRef50_A0A1E1IUT2 Flagellar calcium-binding ...</td>\n",
       "      <td>IRCVGHWMQAEH</td>\n",
       "      <td>12</td>\n",
       "      <td>1</td>\n",
       "      <td>[0.04697670415043831, -0.027571065351366997, -...</td>\n",
       "    </tr>\n",
       "    <tr>\n",
       "      <th>42443</th>\n",
       "      <td>UniRef50_A0A0S4ITT4 Dopa decarboxylase  putati...</td>\n",
       "      <td>APWSASTLHCPG</td>\n",
       "      <td>12</td>\n",
       "      <td>1</td>\n",
       "      <td>[0.04749748483300209, 0.005815288983285427, -0...</td>\n",
       "    </tr>\n",
       "    <tr>\n",
       "      <th>42444</th>\n",
       "      <td>UniRef50_P86818 [Ala1 Thr6]-phyllokinin n=1 Ta...</td>\n",
       "      <td>APPGFTPFRIY</td>\n",
       "      <td>11</td>\n",
       "      <td>1</td>\n",
       "      <td>[0.05909949913620949, 0.01405306626111269, -0....</td>\n",
       "    </tr>\n",
       "  </tbody>\n",
       "</table>\n",
       "<p>42445 rows × 5 columns</p>\n",
       "</div>"
      ],
      "text/plain": [
       "                                                      ID  \\\n",
       "0              EN92515250|C|B3FJD7|phage 201phi2-1 lysin   \n",
       "1                 EN54061055|C|F8SJ56|phage PhiPA3 lysin   \n",
       "2                   EN4815120|C|Q8SCY1|phage phiKZ lysin   \n",
       "3                         EN3016141|D|D2J8A7|bacteriocin   \n",
       "4                        EN9175723|BD|Q93IM3|bacteriocin   \n",
       "...                                                  ...   \n",
       "42440  UniRef50_A0A151HEL5 Zinc finger  C3HC4 type (R...   \n",
       "42441  UniRef50_K2MU79 Retrotransposon hot spot (RHS)...   \n",
       "42442  UniRef50_A0A1E1IUT2 Flagellar calcium-binding ...   \n",
       "42443  UniRef50_A0A0S4ITT4 Dopa decarboxylase  putati...   \n",
       "42444  UniRef50_P86818 [Ala1 Thr6]-phyllokinin n=1 Ta...   \n",
       "\n",
       "                                                Sequence  length  class  \\\n",
       "0      MAKKSVPLRKPAGSDGQGNIKVPGGPVVLDLGDFDDIFGPMESESP...    2337      0   \n",
       "1      MASKKTTLPKPKGINPQGSIVQLDLDDFDDLFDEDFGLPKKNSPYT...    2319      0   \n",
       "2      MAKKVTLPKGQTGATGTTLGQAGNILDLSDVDDIFGDTPKAKKGSP...    2237      0   \n",
       "3      MAETIKGLRIDLSLKDMGVGRSITELKRSFRTLNSDLKVSSKNFEY...    1619      0   \n",
       "4      MAKKKNTYKVPSIIALTLAGTALTTHHAQAADKTQDQSTNKNILND...    1564      0   \n",
       "...                                                  ...     ...    ...   \n",
       "42440                                       GLYFRPRRRASS      12      1   \n",
       "42441                                       MESNPMTLVGCG      12      1   \n",
       "42442                                       IRCVGHWMQAEH      12      1   \n",
       "42443                                       APWSASTLHCPG      12      1   \n",
       "42444                                        APPGFTPFRIY      11      1   \n",
       "\n",
       "                                                    reps  \n",
       "0      [0.0032203220762312412, 0.07328620553016663, 0...  \n",
       "1      [0.0027930964715778828, 0.06916013360023499, 0...  \n",
       "2      [0.0023172732908278704, 0.05406315624713898, 0...  \n",
       "3      [0.014644640497863293, 0.07187927514314651, 0....  \n",
       "4      [0.0062357354909181595, 0.01848522014915943, 0...  \n",
       "...                                                  ...  \n",
       "42440  [0.0483490452170372, -0.007824046537280083, -0...  \n",
       "42441  [0.047337695956230164, -0.013988062739372253, ...  \n",
       "42442  [0.04697670415043831, -0.027571065351366997, -...  \n",
       "42443  [0.04749748483300209, 0.005815288983285427, -0...  \n",
       "42444  [0.05909949913620949, 0.01405306626111269, -0....  \n",
       "\n",
       "[42445 rows x 5 columns]"
      ]
     },
     "execution_count": 7,
     "metadata": {},
     "output_type": "execute_result"
    }
   ],
   "source": [
    "_h_avg, h_final, c_final= get_reps(AMPs_df['Sequence'].to_list())\n",
    "AMPs_df['reps']=_h_avg.tolist()\n",
    "AMPs_df.to_pickle('AMPsNonAMPs_df.plk')\n",
    "AMPs_df"
   ]
  },
  {
   "cell_type": "code",
   "execution_count": null,
   "metadata": {},
   "outputs": [],
   "source": [
    "\n",
    "AMPs_df = pd.read_pickle('AMPsNonAMPs_df.plk')\n",
    "AMPs_df"
   ]
  },
  {
   "cell_type": "markdown",
   "metadata": {
    "id": "1clrjyjisTgc"
   },
   "source": [
    "## Split train and test set"
   ]
  },
  {
   "cell_type": "code",
   "execution_count": 15,
   "metadata": {
    "id": "42bd9Symt5cu"
   },
   "outputs": [],
   "source": [
    "X= AMPs_df['reps'].to_list()\n",
    "y= AMPs_df['class'].to_list()"
   ]
  },
  {
   "cell_type": "code",
   "execution_count": 16,
   "metadata": {
    "id": "olea-OhdsTGc"
   },
   "outputs": [],
   "source": [
    " X_train, X_test, y_train, y_test = train_test_split(X, y, test_size=0.2, random_state=1)\n",
    "\n",
    "# X_train, X_val, y_train, y_val = train_test_split(X_train, y_train, test_size=0.25, random_state=1) # 0.25 x 0.8 = 0.2"
   ]
  },
  {
   "cell_type": "code",
   "execution_count": null,
   "metadata": {
    "colab": {
     "base_uri": "https://localhost:8080/",
     "height": 235
    },
    "id": "ov2up45LuSh0",
    "outputId": "fae518af-5040-48a3-e786-93217f2409e9"
   },
   "outputs": [],
   "source": [
    "# X_train y_train\n",
    "# X_val y_val\n",
    "# X_test y_test\n",
    "X_train[0]"
   ]
  },
  {
   "cell_type": "markdown",
   "metadata": {
    "id": "ljpU0NBIvb6k"
   },
   "source": [
    "Use jax-unirep to get \"reps\" of our sequences"
   ]
  },
  {
   "cell_type": "code",
   "execution_count": 11,
   "metadata": {
    "id": "kVhXro6eHTwp"
   },
   "outputs": [],
   "source": [
    "#encoded_XTest_h_avg, h_final, c_final= get_reps(X_test.to_list())\n"
   ]
  },
  {
   "cell_type": "code",
   "execution_count": 17,
   "metadata": {
    "colab": {
     "base_uri": "https://localhost:8080/",
     "height": 254
    },
    "id": "Id_ZyBGvvq1q",
    "outputId": "91cac9d0-de02-4f1c-da58-84cdff75163b"
   },
   "outputs": [
    {
     "data": {
      "text/plain": [
       "array([[ 4.50811908e-02, -5.70504107e-02, -3.91879268e-02, ...,\n",
       "        -8.85980297e-03,  5.41265979e-02,  6.03123158e-02],\n",
       "       [ 3.57009210e-02, -3.04098334e-02, -5.79583272e-03, ...,\n",
       "         6.09648451e-02,  5.16050644e-02,  3.03401612e-02],\n",
       "       [ 3.95193771e-02, -4.01638374e-02, -2.71999035e-02, ...,\n",
       "         6.24471903e-02,  6.75325021e-02,  8.85927826e-02],\n",
       "       ...,\n",
       "       [ 1.58738364e-02, -2.10723922e-01,  2.83727273e-02, ...,\n",
       "        -1.26511147e-02,  2.57162124e-01,  3.57268602e-02],\n",
       "       [ 6.42440375e-03, -2.62509752e-02,  9.60013786e-05, ...,\n",
       "        -3.68243158e-02,  4.33110595e-02, -6.82816878e-02],\n",
       "       [ 1.23925926e-02, -5.59971184e-02,  1.00520616e-02, ...,\n",
       "         5.38413972e-03,  7.47785345e-02,  1.19894199e-01]])"
      ]
     },
     "execution_count": 17,
     "metadata": {
      "tags": []
     },
     "output_type": "execute_result"
    }
   ],
   "source": [
    "#encoded_XTest_h_avg"
   ]
  },
  {
   "cell_type": "code",
   "execution_count": 9,
   "metadata": {
    "id": "wjTHsFblJAKn"
   },
   "outputs": [],
   "source": [
    "#encoded_XTrain_h_avg, h_final, c_final= get_reps(X_train.to_list())"
   ]
  },
  {
   "cell_type": "markdown",
   "metadata": {
    "id": "USezczz5sDcf"
   },
   "source": [
    "# Implement Toy Model (RF)"
   ]
  },
  {
   "cell_type": "code",
   "execution_count": 19,
   "metadata": {
    "id": "kFHcxYL5Kuxq"
   },
   "outputs": [],
   "source": [
    "from sklearn.ensemble import RandomForestClassifier \n",
    "\n",
    "classifier = RandomForestClassifier (n_estimators=20, random_state=0)\n",
    "classifier.fit(X_train, y_train)\n",
    "y_pred = classifier.predict(X_test)"
   ]
  },
  {
   "cell_type": "code",
   "execution_count": 13,
   "metadata": {
    "colab": {
     "base_uri": "https://localhost:8080/",
     "height": 199
    },
    "id": "10ktAnKgVAO4",
    "outputId": "14b17d9d-2fce-4a10-ac95-98676008c006"
   },
   "outputs": [
    {
     "name": "stdout",
     "output_type": "stream",
     "text": [
      "              precision    recall  f1-score   support\n",
      "\n",
      "           0       0.85      0.81      0.83        27\n",
      "           1       0.77      0.81      0.79        21\n",
      "\n",
      "    accuracy                           0.81        48\n",
      "   macro avg       0.81      0.81      0.81        48\n",
      "weighted avg       0.81      0.81      0.81        48\n",
      "\n",
      "0.8125\n"
     ]
    }
   ],
   "source": [
    "from sklearn.metrics import classification_report, confusion_matrix, accuracy_score\n",
    "print(classification_report(y_test,y_pred))\n",
    "print(accuracy_score(y_test, y_pred))"
   ]
  },
  {
   "cell_type": "code",
   "execution_count": 21,
   "metadata": {
    "colab": {
     "base_uri": "https://localhost:8080/",
     "height": 368
    },
    "id": "ixPo2uVxYeFh",
    "outputId": "8da1e5b7-7944-4a92-fb0f-5cc7ad0f42cb"
   },
   "outputs": [
    {
     "name": "stdout",
     "output_type": "stream",
     "text": [
      "[[3838  462]\n",
      " [ 560 3629]]\n"
     ]
    },
    {
     "data": {
      "image/png": "[encoded data removed]",
      "text/plain": [
       "<Figure size 432x288 with 2 Axes>"
      ]
     },
     "metadata": {
      "needs_background": "light"
     },
     "output_type": "display_data"
    }
   ],
   "source": [
    "from sklearn.metrics import plot_confusion_matrix\n",
    "\n",
    "class_names = ['AMPs', 'NonAMPs']\n",
    "\n",
    "disp = plot_confusion_matrix(classifier, X_test, y_test,\n",
    "                            display_labels = class_names,\n",
    "                            cmap=plt.cm.Blues, xticks_rotation='vertical')\n",
    "\n",
    "disp.ax_.set_title(\" Confusion Matrix\")\n",
    "\n",
    "print(disp.confusion_matrix)\n",
    "plt.grid(False)\n",
    "plt.show()"
   ]
  },
  {
   "cell_type": "code",
   "execution_count": 15,
   "metadata": {
    "id": "6GphX08VYb3X"
   },
   "outputs": [],
   "source": [
    "#import scikitplot as skplt\n",
    "#skplt.metrics.plot_roc([], y_pred)"
   ]
  },
  {
   "cell_type": "code",
   "execution_count": null,
   "metadata": {
    "id": "tUvj2NBsZ0eN"
   },
   "outputs": [],
   "source": [
    "y_pred"
   ]
  },
  {
   "cell_type": "code",
   "execution_count": null,
   "metadata": {
    "id": "M_Ny3CpzZzP6"
   },
   "outputs": [],
   "source": [
    "y_test.to_numpy()"
   ]
  },
  {
   "cell_type": "markdown",
   "metadata": {
    "id": "meZM3nv9VAjg"
   },
   "source": [
    "# Custom Build"
   ]
  },
  {
   "cell_type": "code",
   "execution_count": null,
   "metadata": {
    "id": "2CE6N6SGsNvn"
   },
   "outputs": [],
   "source": [
    "## 1. Evotuning with Optuna\n",
    "PROJECT_NAME = \"temp\"\n",
    "n_epochs_config = {\"low\": 1, \"high\": 1}\n",
    "lr_config = {\"low\": 1e-5, \"high\": 1e-3}\n",
    "study, evotuned_params = evotune(\n",
    "    sequences=X_test,\n",
    "    params=None,\n",
    "    proj_name=PROJECT_NAME,\n",
    "    out_dom_seqs=X_val,\n",
    "    n_trials=2,\n",
    "    n_splits=2,\n",
    "    n_epochs_config=n_epochs_config,\n",
    "    learning_rate_config=lr_config,\n",
    "    epochs_per_print=1,\n",
    ")\n",
    "\n",
    "dump_params(evotuned_params, PROJECT_NAME)\n",
    "print(\"Evotuning done! Find output weights in\", PROJECT_NAME)\n",
    "print(study.trials_dataframe())\n"
   ]
  },
  {
   "cell_type": "code",
   "execution_count": null,
   "metadata": {
    "id": "iYU8Wttw4syV"
   },
   "outputs": [],
   "source": [
    "from jax.experimental import stax\n",
    "from jax.experimental.stax import Dense, Relu, Sigmoid\n",
    "\n",
    "from jax_unirep.layers import mLSTM1900, mLSTM1900_AvgHidden\n",
    "\n",
    "init_fun, apply_fun = stax.serial(\n",
    "    mLSTM1900(),\n",
    "    mLSTM1900_AvgHidden(),\n",
    "    # Add two layers, one dense layer that results in 512-dim activations\n",
    "    Dense(512), Relu(),\n",
    "    # And then a linear layer to produce a 1-dim activation\n",
    "    Dense(1)\n",
    ")"
   ]
  }
 ],
 "metadata": {
  "accelerator": "GPU",
  "colab": {
   "name": "jax-unirep.ipynb",
   "provenance": [],
   "toc_visible": true
  },
  "kernelspec": {
   "display_name": "Python 3",
   "language": "python",
   "name": "python3"
  },
  "language_info": {
   "codemirror_mode": {
    "name": "ipython",
    "version": 3
   },
   "file_extension": ".py",
   "mimetype": "text/x-python",
   "name": "python",
   "nbconvert_exporter": "python",
   "pygments_lexer": "ipython3",
   "version": "3.8.5"
  }
 },
 "nbformat": 4,
 "nbformat_minor": 4
}
